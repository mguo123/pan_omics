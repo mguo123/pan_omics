{
 "cells": [
  {
   "cell_type": "markdown",
   "metadata": {},
   "source": [
    "08/04/2020\n",
    "\n",
    "Colon Vocab Finder"
   ]
  },
  {
   "cell_type": "code",
   "execution_count": 1,
   "metadata": {},
   "outputs": [],
   "source": [
    "# basic packages\n",
    "import os, glob\n",
    "import pandas as pd\n",
    "import numpy as np; np.random.seed(0)\n",
    "import itertools\n",
    "from collections import Counter, defaultdict\n",
    "import time\n",
    "# Import tools needed for visualization\n",
    "import seaborn as sns; sns.set()\n",
    "import matplotlib\n",
    "import matplotlib.pyplot as plt"
   ]
  },
  {
   "cell_type": "code",
   "execution_count": 2,
   "metadata": {},
   "outputs": [],
   "source": [
    "save_dir = '../data/processed/fig4_modelling/vocab_sum/'\n",
    "if not os.path.exists(save_dir):\n",
    "    os.makedirs(save_dir)"
   ]
  },
  {
   "cell_type": "code",
   "execution_count": 3,
   "metadata": {},
   "outputs": [],
   "source": [
    "TISSUE = 'Colon'"
   ]
  },
  {
   "cell_type": "code",
   "execution_count": 4,
   "metadata": {},
   "outputs": [],
   "source": [
    "MAX_DIST=135\n"
   ]
  },
  {
   "cell_type": "code",
   "execution_count": 5,
   "metadata": {},
   "outputs": [
    {
     "name": "stdout",
     "output_type": "stream",
     "text": [
      "25\n",
      "['ATF2', 'ATF7', 'ATOH1', 'CDX2', 'ETS', 'FOXA1', 'FOXA2', 'FOXA3', 'GATA4', 'GATA5', 'GATA6', 'HES1', 'HNF1A', 'HNF1B', 'HNF4A', 'KLF16', 'KLF4', 'KLF5', 'KLF6', 'KLF7', 'KLF9', 'SOX9', 'SP1', 'SP2', 'SP3']\n"
     ]
    }
   ],
   "source": [
    "#get tfs\n",
    "tf_df = pd.read_csv('../data/external/transcription_factor_info_063020.csv')\n",
    "TFS = sorted(set(tf_df[tf_df['cell_type']=='Colon'][\"tf\"]))##### DIFFERENT FOR EACH TISSUE\n",
    "print(len(TFS))\n",
    "print(TFS)\n"
   ]
  },
  {
   "cell_type": "code",
   "execution_count": 6,
   "metadata": {},
   "outputs": [],
   "source": [
    "vocab_dir = '../data/processed/fig4_modelling/tf_tf_pairs/'"
   ]
  },
  {
   "cell_type": "markdown",
   "metadata": {},
   "source": [
    "read in loop_types"
   ]
  },
  {
   "cell_type": "code",
   "execution_count": 7,
   "metadata": {},
   "outputs": [
    {
     "data": {
      "text/plain": [
       "['../data/processed/fig4_modelling/tf_tf_pairs/expr_Airway_loop_type.csv',\n",
       " '../data/processed/fig4_modelling/tf_tf_pairs/expr_Astrocytes_loop_type.csv',\n",
       " '../data/processed/fig4_modelling/tf_tf_pairs/expr_Bladder_loop_type.csv',\n",
       " '../data/processed/fig4_modelling/tf_tf_pairs/expr_Colon_loop_type.csv',\n",
       " '../data/processed/fig4_modelling/tf_tf_pairs/expr_Esophageal_loop_type.csv',\n",
       " '../data/processed/fig4_modelling/tf_tf_pairs/expr_GDSD0_loop_type.csv',\n",
       " '../data/processed/fig4_modelling/tf_tf_pairs/expr_GDSD3_loop_type.csv',\n",
       " '../data/processed/fig4_modelling/tf_tf_pairs/expr_GDSD6_loop_type.csv',\n",
       " '../data/processed/fig4_modelling/tf_tf_pairs/expr_GM12878_loop_type.csv',\n",
       " '../data/processed/fig4_modelling/tf_tf_pairs/expr_HMEC_loop_type.csv',\n",
       " '../data/processed/fig4_modelling/tf_tf_pairs/expr_Melanocytes_loop_type.csv',\n",
       " '../data/processed/fig4_modelling/tf_tf_pairs/expr_Ovarian_loop_type.csv',\n",
       " '../data/processed/fig4_modelling/tf_tf_pairs/expr_Pancreas_loop_type.csv',\n",
       " '../data/processed/fig4_modelling/tf_tf_pairs/expr_Prostate_loop_type.csv',\n",
       " '../data/processed/fig4_modelling/tf_tf_pairs/expr_Renal_loop_type.csv',\n",
       " '../data/processed/fig4_modelling/tf_tf_pairs/expr_Thyroid_loop_type.csv',\n",
       " '../data/processed/fig4_modelling/tf_tf_pairs/expr_Uterine_loop_type.csv',\n",
       " '../data/processed/fig4_modelling/tf_tf_pairs/unique_Astrocytes_loop_type.csv',\n",
       " '../data/processed/fig4_modelling/tf_tf_pairs/unique_Bladder_loop_type.csv',\n",
       " '../data/processed/fig4_modelling/tf_tf_pairs/unique_Esophageal_loop_type.csv',\n",
       " '../data/processed/fig4_modelling/tf_tf_pairs/unique_GDSD6_loop_type.csv',\n",
       " '../data/processed/fig4_modelling/tf_tf_pairs/unique_GM12878_loop_type.csv',\n",
       " '../data/processed/fig4_modelling/tf_tf_pairs/unique_HMEC_loop_type.csv',\n",
       " '../data/processed/fig4_modelling/tf_tf_pairs/unique_Melanocytes_loop_type.csv',\n",
       " '../data/processed/fig4_modelling/tf_tf_pairs/unique_Ovarian_loop_type.csv',\n",
       " '../data/processed/fig4_modelling/tf_tf_pairs/unique_Prostate_loop_type.csv',\n",
       " '../data/processed/fig4_modelling/tf_tf_pairs/unique_Renal_loop_type.csv',\n",
       " '../data/processed/fig4_modelling/tf_tf_pairs/unique_Thyroid_loop_type.csv',\n",
       " '../data/processed/fig4_modelling/tf_tf_pairs/unique_Uterine_loop_type.csv']"
      ]
     },
     "execution_count": 7,
     "metadata": {},
     "output_type": "execute_result"
    }
   ],
   "source": [
    "sorted(glob.glob('../data/processed/fig4_modelling/tf_tf_pairs/'+'*loop_type*'))"
   ]
  },
  {
   "cell_type": "markdown",
   "metadata": {},
   "source": [
    "# 1 understand the types of vocabularies pulled out and where they come from\n",
    "\n",
    "## 1A. enriched vocabularies from unique tissue genes"
   ]
  },
  {
   "cell_type": "code",
   "execution_count": 8,
   "metadata": {},
   "outputs": [],
   "source": [
    "# loop_type_df = pd.read_csv('../data/processed/fig4_modelling/tf_tf_pairs/unique_'+TISSUE+'_loop_type.csv',index_col=0).fillna('')\n",
    "# pro_pro_vocab = loop_type_df[(loop_type_df.pro_pro_count>0) & (loop_type_df.loop_loop_count==0) & (loop_type_df.pro_loop_count==0)].index.values\n",
    "# print(len(pro_pro_vocab))\n",
    "# print(pro_pro_vocab)\n",
    "# pro_loop_vocab = loop_type_df[(loop_type_df.pro_pro_count==0) & (loop_type_df.loop_loop_count==0) & (loop_type_df.pro_loop_count>0)].index.values\n",
    "# print(len(pro_loop_vocab))\n",
    "# print(pro_loop_vocab)\n",
    "\n",
    "# loop_loop_vocab = loop_type_df[(loop_type_df.pro_pro_count==0) & (loop_type_df.loop_loop_count>0) & (loop_type_df.pro_loop_count==0)].index.values\n",
    "# print(len(loop_loop_vocab))\n",
    "# print(loop_loop_vocab)\n",
    "\n",
    "# all_vocab = loop_type_df[(loop_type_df.pro_pro_count>0) & (loop_type_df.loop_loop_count>0) & (loop_type_df.pro_loop_count>0)].index.values\n",
    "# print(len(all_vocab))\n",
    "# print(all_vocab)\n"
   ]
  },
  {
   "cell_type": "markdown",
   "metadata": {},
   "source": [
    "## 1b enriched vocab from expressed genes in KRT"
   ]
  },
  {
   "cell_type": "code",
   "execution_count": 9,
   "metadata": {},
   "outputs": [
    {
     "name": "stdout",
     "output_type": "stream",
     "text": [
      "0\n",
      "[]\n",
      "0\n",
      "[]\n",
      "17\n",
      "['DLX4::ETV3' 'DLX4::GATA4' 'DLX4::HOXA11' 'DLX4::JDP2' 'DLX4::MAFB'\n",
      " 'DLX4::MNX1' 'DLX4::OVOL2' 'DLX4::ZNF250' 'DLX4::ZNF333' 'DLX4::ZNF768'\n",
      " 'E2F2::FOXM1' 'E2F2::HOXB3' 'FOXA1::OVOL2' 'FOXF2::OVOL2' 'FOXM1::OVOL2'\n",
      " 'GATA4::OVOL2' 'OVOL2::SHOX2']\n",
      "119\n",
      "['BARX2::DLX4' 'BARX2::FOXF2' 'BARX2::FOXM1' 'BARX2::THAP1' 'BATF::DLX4'\n",
      " 'BATF::KLF15' 'BATF::THAP1' 'DLX4::E2F7' 'DLX4::KLF15' 'DLX4::MSX2'\n",
      " 'DLX4::SP2' 'DLX4::SP4' 'E2F7::OVOL2' 'E2F7::THAP1' 'E2F8::FOXM1'\n",
      " 'ETV1::SNAI2' 'ETV3::FOXM1' 'FLI1::FOXM1' 'FOXA1::FOXM1' 'FOXA1::KLF5'\n",
      " 'FOXA2::FOXF2' 'FOXA2::FOXM1' 'FOXF2::FOXM1' 'FOXF2::KLF5' 'FOXF2::MESP1'\n",
      " 'FOXF2::SP4' 'FOXF2::ZNF257' 'FOXM1::GLIS3' 'FOXM1::HOXA11'\n",
      " 'FOXM1::KLF15' 'FOXM1::KLF4' 'FOXM1::KLF5' 'FOXM1::KLF9' 'FOXM1::MESP1'\n",
      " 'FOXM1::MSX2' 'FOXM1::NR2F1' 'FOXM1::OTX1' 'FOXM1::PATZ1' 'FOXM1::PLAG1'\n",
      " 'FOXM1::PPARG' 'FOXM1::RARA' 'FOXM1::RARG' 'FOXM1::RORA' 'FOXM1::RUNX2'\n",
      " 'FOXM1::RUNX3' 'FOXM1::SNAI1' 'FOXM1::SOX13' 'FOXM1::SP2' 'FOXM1::SP4'\n",
      " 'FOXM1::TEAD4' 'FOXM1::WT1' 'FOXM1::ZFP28' 'FOXM1::ZNF257'\n",
      " 'FOXM1::ZNF333' 'GATA4::KLF5' 'GLIS3::SNAI2' 'HOXA11::KLF15'\n",
      " 'HOXA11::KLF5' 'HOXA11::SNAI2' 'HOXA11::SP4' 'HOXB3::KLF5' 'HOXB3::THAP1'\n",
      " 'HOXC8::SNAI2' 'IRF8::SNAI2' 'JDP2::THAP1' 'KLF15::KLF5' 'KLF15::MNX1'\n",
      " 'KLF15::MSX2' 'KLF15::OSR2' 'KLF15::OTX1' 'KLF15::OVOL2' 'KLF15::RFX2'\n",
      " 'KLF15::RUNX2' 'KLF15::RUNX3' 'KLF15::SNAI2' 'KLF15::THAP1'\n",
      " 'KLF15::ZFP28' 'KLF5::MNX1' 'KLF5::NR2F1' 'KLF5::NR4A2' 'KLF5::RUNX2'\n",
      " 'KLF5::RUNX3' 'KLF5::SOX13' 'KLF5::ZFP28' 'KLF5::ZNF257' 'MAFB::THAP1'\n",
      " 'MESP1::THAP1' 'MSX2::SP4' 'MSX2::THAP1' 'NR2F1::THAP1' 'NR4A2::THAP1'\n",
      " 'OSR2::THAP1' 'OTX1::OVOL2' 'OTX1::THAP1' 'OVOL2::PATZ1' 'OVOL2::SP4'\n",
      " 'RARA::THAP1' 'RARG::THAP1' 'RFX2::THAP1' 'RORA::THAP1' 'RUNX2::SP4'\n",
      " 'RUNX2::THAP1' 'RUNX3::THAP1' 'SNAI2::SP4' 'SNAI2::THAP1' 'SNAI2::WT1'\n",
      " 'SNAI2::ZBTB33' 'SNAI2::ZNF257' 'SNAI2::ZNF331' 'SOX13::THAP1'\n",
      " 'SP2::THAP1' 'SP4::THAP1' 'SP4::ZFP28' 'TCF7::THAP1' 'TEAD4::THAP1'\n",
      " 'THAP1::THRB' 'THAP1::ZFP28' 'THAP1::ZNF257' 'THAP1::ZNF768']\n"
     ]
    }
   ],
   "source": [
    "loop_type_df = pd.read_csv('../data/processed/fig4_modelling/tf_tf_pairs/expr_'+TISSUE+'_loop_type.csv',index_col=0).fillna('')\n",
    "pro_pro_vocab = loop_type_df[(loop_type_df.pro_pro_count>0) & (loop_type_df.loop_loop_count==0) & (loop_type_df.pro_loop_count==0)].index.values\n",
    "print(len(pro_pro_vocab))\n",
    "print(pro_pro_vocab)\n",
    "pro_loop_vocab = loop_type_df[(loop_type_df.pro_pro_count==0) & (loop_type_df.loop_loop_count==0) & (loop_type_df.pro_loop_count>0)].index.values\n",
    "print(len(pro_loop_vocab))\n",
    "print(pro_loop_vocab)\n",
    "\n",
    "loop_loop_vocab = loop_type_df[(loop_type_df.pro_pro_count==0) & (loop_type_df.loop_loop_count>0) & (loop_type_df.pro_loop_count==0)].index.values\n",
    "print(len(loop_loop_vocab))\n",
    "print(loop_loop_vocab)\n",
    "\n",
    "all_vocab = loop_type_df[(loop_type_df.pro_pro_count>0) & (loop_type_df.loop_loop_count>0) & (loop_type_df.pro_loop_count>0)].index.values\n",
    "print(len(all_vocab))\n",
    "print(all_vocab)\n"
   ]
  },
  {
   "cell_type": "markdown",
   "metadata": {},
   "source": [
    "## 1C get motif appearance locations (normalized)"
   ]
  },
  {
   "cell_type": "code",
   "execution_count": 10,
   "metadata": {},
   "outputs": [
    {
     "data": {
      "text/plain": [
       "HOXC8::KLF5      0.285104\n",
       "RFX3::THAP1      0.335654\n",
       "RFX2::ZNF257     0.347994\n",
       "FOXM1::THAP1     0.357186\n",
       "FOXF2::THAP1     0.362661\n",
       "                  ...    \n",
       "DLX4::ZNF250     4.981811\n",
       "OVOL2::TCF7      5.915901\n",
       "E2F2::HOXB3      7.281109\n",
       "OVOL2::SHOX2    10.517157\n",
       "DLX4::OVOL2     15.775735\n",
       "Length: 223, dtype: float64"
      ]
     },
     "execution_count": 10,
     "metadata": {},
     "output_type": "execute_result"
    }
   ],
   "source": [
    "# for vocab pairs\n",
    "pro_frac = ((loop_type_df.pro_pro_count+1)/(loop_type_df.pro_pro_count.sum()+1))\n",
    "loop_frac = ((loop_type_df.loop_loop_count+1)/(loop_type_df.loop_loop_count.sum()+1))\n",
    "ratio = pro_frac/loop_frac\n",
    "ratio.sort_values()"
   ]
  },
  {
   "cell_type": "code",
   "execution_count": 11,
   "metadata": {},
   "outputs": [
    {
     "name": "stdout",
     "output_type": "stream",
     "text": [
      "65\n"
     ]
    }
   ],
   "source": [
    "# for motifs\n",
    "# 1. get motifs\n",
    "motifs = set()\n",
    "for vocab_pair in loop_type_df.index.values:\n",
    "    v1, v2 = vocab_pair.split('::')\n",
    "    motifs.add(v1)\n",
    "    motifs.add(v2)\n",
    "motifs = sorted(motifs)\n",
    "print(len(motifs))\n",
    "\n",
    "# 2. initialize counts\n",
    "motif_counts_dict = {}\n",
    "for motif in motifs:\n",
    "    motif_counts_dict[motif] = {'pro_pro_count':0,'loop_loop_count':0,'pro_loop_count':0} #list of counts for pro_pro_count, loop_loop_count, pro_loop_count, respectively\n",
    "    \n",
    "# 3. run through loop_type_df to fill in motif_counts_dict\n",
    "for vocab_pair, row in loop_type_df.iterrows():\n",
    "    v1, v2 = vocab_pair.split('::')\n",
    "    motif_counts_dict[v1]['pro_pro_count'] +=row['pro_pro_count']\n",
    "    motif_counts_dict[v2]['pro_pro_count'] +=row['pro_pro_count']\n",
    "    motif_counts_dict[v1]['loop_loop_count'] +=row['loop_loop_count']\n",
    "    motif_counts_dict[v2]['loop_loop_count'] +=row['loop_loop_count']\n",
    "    motif_counts_dict[v1]['pro_loop_count'] +=row['pro_loop_count']\n",
    "    motif_counts_dict[v2]['pro_loop_count'] +=row['pro_loop_count']\n",
    "            \n",
    "motif_counts_df = pd.DataFrame.from_dict(motif_counts_dict,orient='index')   \n",
    "motif_counts_df_norm = motif_counts_df/motif_counts_df.sum(axis=0)\n"
   ]
  },
  {
   "cell_type": "code",
   "execution_count": 12,
   "metadata": {},
   "outputs": [],
   "source": [
    "motif_counts_df_norm_sel = motif_counts_df_norm.reset_index()[motif_counts_df_norm.reset_index()['index'].isin(TFS)]\n",
    "motif_counts_df_norm_sel.set_index('index',inplace=True)"
   ]
  },
  {
   "cell_type": "code",
   "execution_count": 13,
   "metadata": {},
   "outputs": [
    {
     "data": {
      "text/html": [
       "<div>\n",
       "<style scoped>\n",
       "    .dataframe tbody tr th:only-of-type {\n",
       "        vertical-align: middle;\n",
       "    }\n",
       "\n",
       "    .dataframe tbody tr th {\n",
       "        vertical-align: top;\n",
       "    }\n",
       "\n",
       "    .dataframe thead th {\n",
       "        text-align: right;\n",
       "    }\n",
       "</style>\n",
       "<table border=\"1\" class=\"dataframe\">\n",
       "  <thead>\n",
       "    <tr style=\"text-align: right;\">\n",
       "      <th></th>\n",
       "      <th>pro_pro_count</th>\n",
       "      <th>loop_loop_count</th>\n",
       "      <th>pro_loop_count</th>\n",
       "    </tr>\n",
       "  </thead>\n",
       "  <tbody>\n",
       "    <tr>\n",
       "      <td>BARX2</td>\n",
       "      <td>0.357290</td>\n",
       "      <td>0.244351</td>\n",
       "      <td>0.398358</td>\n",
       "    </tr>\n",
       "    <tr>\n",
       "      <td>BATF</td>\n",
       "      <td>0.271063</td>\n",
       "      <td>0.427632</td>\n",
       "      <td>0.301304</td>\n",
       "    </tr>\n",
       "    <tr>\n",
       "      <td>DLX4</td>\n",
       "      <td>0.195965</td>\n",
       "      <td>0.477756</td>\n",
       "      <td>0.326279</td>\n",
       "    </tr>\n",
       "    <tr>\n",
       "      <td>E2F2</td>\n",
       "      <td>0.000000</td>\n",
       "      <td>0.801382</td>\n",
       "      <td>0.198618</td>\n",
       "    </tr>\n",
       "    <tr>\n",
       "      <td>E2F7</td>\n",
       "      <td>0.430697</td>\n",
       "      <td>0.361215</td>\n",
       "      <td>0.208088</td>\n",
       "    </tr>\n",
       "    <tr>\n",
       "      <td>...</td>\n",
       "      <td>...</td>\n",
       "      <td>...</td>\n",
       "      <td>...</td>\n",
       "    </tr>\n",
       "    <tr>\n",
       "      <td>ZNF257</td>\n",
       "      <td>0.181811</td>\n",
       "      <td>0.453989</td>\n",
       "      <td>0.364200</td>\n",
       "    </tr>\n",
       "    <tr>\n",
       "      <td>ZNF331</td>\n",
       "      <td>0.368500</td>\n",
       "      <td>0.305553</td>\n",
       "      <td>0.325946</td>\n",
       "    </tr>\n",
       "    <tr>\n",
       "      <td>ZNF333</td>\n",
       "      <td>0.184868</td>\n",
       "      <td>0.526567</td>\n",
       "      <td>0.288565</td>\n",
       "    </tr>\n",
       "    <tr>\n",
       "      <td>ZNF384</td>\n",
       "      <td>0.000000</td>\n",
       "      <td>0.665214</td>\n",
       "      <td>0.334786</td>\n",
       "    </tr>\n",
       "    <tr>\n",
       "      <td>ZNF768</td>\n",
       "      <td>0.237720</td>\n",
       "      <td>0.391217</td>\n",
       "      <td>0.371062</td>\n",
       "    </tr>\n",
       "  </tbody>\n",
       "</table>\n",
       "<p>65 rows × 3 columns</p>\n",
       "</div>"
      ],
      "text/plain": [
       "        pro_pro_count  loop_loop_count  pro_loop_count\n",
       "BARX2        0.357290         0.244351        0.398358\n",
       "BATF         0.271063         0.427632        0.301304\n",
       "DLX4         0.195965         0.477756        0.326279\n",
       "E2F2         0.000000         0.801382        0.198618\n",
       "E2F7         0.430697         0.361215        0.208088\n",
       "...               ...              ...             ...\n",
       "ZNF257       0.181811         0.453989        0.364200\n",
       "ZNF331       0.368500         0.305553        0.325946\n",
       "ZNF333       0.184868         0.526567        0.288565\n",
       "ZNF384       0.000000         0.665214        0.334786\n",
       "ZNF768       0.237720         0.391217        0.371062\n",
       "\n",
       "[65 rows x 3 columns]"
      ]
     },
     "execution_count": 13,
     "metadata": {},
     "output_type": "execute_result"
    }
   ],
   "source": [
    "motif_counts_df_norm.div(motif_counts_df_norm.sum(axis=1),axis=0)"
   ]
  },
  {
   "cell_type": "code",
   "execution_count": 14,
   "metadata": {},
   "outputs": [
    {
     "data": {
      "image/png": "[encoded data removed]",
      "text/plain": [
       "<Figure size 864x504 with 1 Axes>"
      ]
     },
     "metadata": {
      "needs_background": "light"
     },
     "output_type": "display_data"
    }
   ],
   "source": [
    "# all tfs\n",
    "ax = motif_counts_df_norm.sort_values('pro_pro_count').plot(kind='bar', stacked=True,figsize = (12,7),fontsize=9)\n",
    "ax.figure.savefig(os.path.join(save_dir, TISSUE+'_config_count_bar.pdf'))\n"
   ]
  },
  {
   "cell_type": "markdown",
   "metadata": {},
   "source": [
    "this shows the likelihood of the motif appears in a vocab pair from pro_pro, pro_loop, or loop_loop configurations, GIVEN that it does appear at all (so normalized by both the probability of the configuration type)\n",
    "\n",
    "this will show frequency of footprints being found in the looped regions "
   ]
  },
  {
   "cell_type": "code",
   "execution_count": 15,
   "metadata": {},
   "outputs": [
    {
     "data": {
      "image/png": "[encoded data removed]",
      "text/plain": [
       "<Figure size 504x504 with 1 Axes>"
      ]
     },
     "metadata": {
      "needs_background": "light"
     },
     "output_type": "display_data"
    }
   ],
   "source": [
    "ax = motif_counts_df_norm_sel.sort_values('pro_pro_count').plot(kind='bar', stacked=True,figsize = (7,7),fontsize=12)\n",
    "ax.figure.savefig(os.path.join(save_dir, TISSUE+'_config_count_sel_bar.pdf'))\n"
   ]
  },
  {
   "cell_type": "markdown",
   "metadata": {},
   "source": [
    "same graph as before but only for tissue specific TFS"
   ]
  },
  {
   "cell_type": "code",
   "execution_count": 16,
   "metadata": {},
   "outputs": [
    {
     "data": {
      "image/png": "[encoded data removed]",
      "text/plain": [
       "<Figure size 864x504 with 1 Axes>"
      ]
     },
     "metadata": {
      "needs_background": "light"
     },
     "output_type": "display_data"
    }
   ],
   "source": [
    "ax = motif_counts_df_norm.div(motif_counts_df_norm.sum(axis=1),axis=0).sort_values('pro_pro_count').plot(kind='bar', stacked=True,\n",
    "                                                                                                    figsize = (12,7),fontsize=9)\n",
    "ax.figure.savefig(os.path.join(save_dir, TISSUE+'_config_count_norm_bar.pdf'))\n"
   ]
  },
  {
   "cell_type": "markdown",
   "metadata": {},
   "source": [
    "this shows the likelihood of the motif appears in a vocab pair from pro_pro, pro_loop, or loop_loop configurations, GIVEN that it does appear at all (so normalized by both the probability of the configuration type as well as by the motif frequency itself"
   ]
  },
  {
   "cell_type": "code",
   "execution_count": 17,
   "metadata": {},
   "outputs": [
    {
     "data": {
      "image/png": "[encoded data removed]",
      "text/plain": [
       "<Figure size 864x504 with 1 Axes>"
      ]
     },
     "metadata": {
      "needs_background": "light"
     },
     "output_type": "display_data"
    }
   ],
   "source": [
    "# fig,ax= plt.subplots(figsize = (20,7))\n",
    "# ax.set_xlabel('xlabel', fontsize=6)\n",
    "\n",
    "ax = motif_counts_df_norm.pro_pro_count.sort_values().plot(kind='bar',figsize = (12,7),fontsize=9)\n",
    "\n",
    "ax.figure.savefig(os.path.join(save_dir, TISSUE+'_pro_count_norm_bar.pdf'))\n"
   ]
  },
  {
   "cell_type": "markdown",
   "metadata": {},
   "source": [
    "only the promoter fractions"
   ]
  },
  {
   "cell_type": "code",
   "execution_count": 18,
   "metadata": {},
   "outputs": [
    {
     "data": {
      "image/png": "[encoded data removed]",
      "text/plain": [
       "<Figure size 504x504 with 1 Axes>"
      ]
     },
     "metadata": {
      "needs_background": "light"
     },
     "output_type": "display_data"
    }
   ],
   "source": [
    "ax = motif_counts_df_norm_sel.div(motif_counts_df_norm_sel.sum(axis=1),axis=0).sort_values('pro_pro_count').plot(kind='bar', stacked=True,\n",
    "                                                                                                    figsize = (7,7),fontsize=12)\n",
    "ax.figure.savefig(os.path.join(save_dir, TISSUE+'_config_count_norm_sel_bar.pdf'))\n"
   ]
  },
  {
   "cell_type": "code",
   "execution_count": 19,
   "metadata": {},
   "outputs": [
    {
     "data": {
      "text/html": [
       "<div>\n",
       "<style scoped>\n",
       "    .dataframe tbody tr th:only-of-type {\n",
       "        vertical-align: middle;\n",
       "    }\n",
       "\n",
       "    .dataframe tbody tr th {\n",
       "        vertical-align: top;\n",
       "    }\n",
       "\n",
       "    .dataframe thead th {\n",
       "        text-align: right;\n",
       "    }\n",
       "</style>\n",
       "<table border=\"1\" class=\"dataframe\">\n",
       "  <thead>\n",
       "    <tr style=\"text-align: right;\">\n",
       "      <th></th>\n",
       "      <th>pro_pro_count</th>\n",
       "      <th>loop_loop_count</th>\n",
       "      <th>pro_loop_count</th>\n",
       "    </tr>\n",
       "  </thead>\n",
       "  <tbody>\n",
       "    <tr>\n",
       "      <td>BARX2</td>\n",
       "      <td>0.014262</td>\n",
       "      <td>0.924613</td>\n",
       "      <td>0.061125</td>\n",
       "    </tr>\n",
       "    <tr>\n",
       "      <td>BATF</td>\n",
       "      <td>0.006459</td>\n",
       "      <td>0.965942</td>\n",
       "      <td>0.027598</td>\n",
       "    </tr>\n",
       "    <tr>\n",
       "      <td>DLX4</td>\n",
       "      <td>0.004193</td>\n",
       "      <td>0.968973</td>\n",
       "      <td>0.026834</td>\n",
       "    </tr>\n",
       "    <tr>\n",
       "      <td>E2F2</td>\n",
       "      <td>0.000000</td>\n",
       "      <td>0.990050</td>\n",
       "      <td>0.009950</td>\n",
       "    </tr>\n",
       "    <tr>\n",
       "      <td>E2F7</td>\n",
       "      <td>0.012142</td>\n",
       "      <td>0.965308</td>\n",
       "      <td>0.022550</td>\n",
       "    </tr>\n",
       "    <tr>\n",
       "      <td>...</td>\n",
       "      <td>...</td>\n",
       "      <td>...</td>\n",
       "      <td>...</td>\n",
       "    </tr>\n",
       "    <tr>\n",
       "      <td>ZNF257</td>\n",
       "      <td>0.004075</td>\n",
       "      <td>0.964548</td>\n",
       "      <td>0.031377</td>\n",
       "    </tr>\n",
       "    <tr>\n",
       "      <td>ZNF331</td>\n",
       "      <td>0.012048</td>\n",
       "      <td>0.946988</td>\n",
       "      <td>0.040964</td>\n",
       "    </tr>\n",
       "    <tr>\n",
       "      <td>ZNF333</td>\n",
       "      <td>0.003610</td>\n",
       "      <td>0.974729</td>\n",
       "      <td>0.021661</td>\n",
       "    </tr>\n",
       "    <tr>\n",
       "      <td>ZNF384</td>\n",
       "      <td>0.000000</td>\n",
       "      <td>0.980000</td>\n",
       "      <td>0.020000</td>\n",
       "    </tr>\n",
       "    <tr>\n",
       "      <td>ZNF768</td>\n",
       "      <td>0.006135</td>\n",
       "      <td>0.957055</td>\n",
       "      <td>0.036810</td>\n",
       "    </tr>\n",
       "  </tbody>\n",
       "</table>\n",
       "<p>65 rows × 3 columns</p>\n",
       "</div>"
      ],
      "text/plain": [
       "        pro_pro_count  loop_loop_count  pro_loop_count\n",
       "BARX2        0.014262         0.924613        0.061125\n",
       "BATF         0.006459         0.965942        0.027598\n",
       "DLX4         0.004193         0.968973        0.026834\n",
       "E2F2         0.000000         0.990050        0.009950\n",
       "E2F7         0.012142         0.965308        0.022550\n",
       "...               ...              ...             ...\n",
       "ZNF257       0.004075         0.964548        0.031377\n",
       "ZNF331       0.012048         0.946988        0.040964\n",
       "ZNF333       0.003610         0.974729        0.021661\n",
       "ZNF384       0.000000         0.980000        0.020000\n",
       "ZNF768       0.006135         0.957055        0.036810\n",
       "\n",
       "[65 rows x 3 columns]"
      ]
     },
     "execution_count": 19,
     "metadata": {},
     "output_type": "execute_result"
    }
   ],
   "source": [
    "motif_counts_df.div(motif_counts_df.sum(axis=1),axis=0)"
   ]
  },
  {
   "cell_type": "markdown",
   "metadata": {},
   "source": [
    "# 2. Vocabulary genomic instances - setup\n",
    "\n",
    "\n",
    "## 2A. find the locations"
   ]
  },
  {
   "cell_type": "code",
   "execution_count": 20,
   "metadata": {},
   "outputs": [
    {
     "data": {
      "text/plain": [
       "['../data/processed/fig4_modelling/tf_tf_pairs_stability/Airway_loop_loop_vocab_group.csv',\n",
       " '../data/processed/fig4_modelling/tf_tf_pairs_stability/Airway_pro_pro_vocab_group.csv',\n",
       " '../data/processed/fig4_modelling/tf_tf_pairs_stability/Airway_vocab_group.csv',\n",
       " '../data/processed/fig4_modelling/tf_tf_pairs_stability/Bladder_loop_loop_vocab_group.csv',\n",
       " '../data/processed/fig4_modelling/tf_tf_pairs_stability/GDSD6_loop_loop_vocab.csv',\n",
       " '../data/processed/fig4_modelling/tf_tf_pairs_stability/GDSD6_loop_loop_vocab_group.csv',\n",
       " '../data/processed/fig4_modelling/tf_tf_pairs_stability/GDSD6_pro_pro_vocab.csv',\n",
       " '../data/processed/fig4_modelling/tf_tf_pairs_stability/GDSD6_vocab.csv',\n",
       " '../data/processed/fig4_modelling/tf_tf_pairs_stability/GDSD6_vocab.xlsx',\n",
       " '../data/processed/fig4_modelling/tf_tf_pairs_stability/GM12878_loop_loop_vocab_group.csv',\n",
       " '../data/processed/fig4_modelling/tf_tf_pairs_stability/GM12878_pro_pro_vocab_group.csv',\n",
       " '../data/processed/fig4_modelling/tf_tf_pairs_stability/GM12878_vocab_group.csv',\n",
       " '../data/processed/fig4_modelling/tf_tf_pairs_stability/HMEC_loop_loop_vocab_group.csv',\n",
       " '../data/processed/fig4_modelling/tf_tf_pairs_stability/HMEC_pro_pro_vocab_group.csv',\n",
       " '../data/processed/fig4_modelling/tf_tf_pairs_stability/HMEC_vocab_group.csv',\n",
       " '../data/processed/fig4_modelling/tf_tf_pairs_stability/Ovarian_loop_loop_vocab_group.csv',\n",
       " '../data/processed/fig4_modelling/tf_tf_pairs_stability/Ovarian_pro_pro_vocab_group.csv',\n",
       " '../data/processed/fig4_modelling/tf_tf_pairs_stability/Ovarian_vocab_group.csv',\n",
       " '../data/processed/fig4_modelling/tf_tf_pairs_stability/Prostate_loop_loop_vocab.csv',\n",
       " '../data/processed/fig4_modelling/tf_tf_pairs_stability/Prostate_loop_loop_vocab_group.csv',\n",
       " '../data/processed/fig4_modelling/tf_tf_pairs_stability/Prostate_pro_pro_vocab.csv',\n",
       " '../data/processed/fig4_modelling/tf_tf_pairs_stability/Prostate_pro_pro_vocab_group.csv',\n",
       " '../data/processed/fig4_modelling/tf_tf_pairs_stability/Prostate_vocab.csv',\n",
       " '../data/processed/fig4_modelling/tf_tf_pairs_stability/Prostate_vocab_group.csv',\n",
       " '../data/processed/fig4_modelling/tf_tf_pairs_stability/Uterine_loop_loop_vocab_group.csv',\n",
       " '../data/processed/fig4_modelling/tf_tf_pairs_stability/Uterine_pro_pro_vocab_group.csv',\n",
       " '../data/processed/fig4_modelling/tf_tf_pairs_stability/Uterine_vocab_group.csv']"
      ]
     },
     "execution_count": 20,
     "metadata": {},
     "output_type": "execute_result"
    }
   ],
   "source": [
    "sorted(glob.glob('../data/processed/fig4_modelling/tf_tf_pairs_stability/'+'*vocab*'))"
   ]
  },
  {
   "cell_type": "code",
   "execution_count": 21,
   "metadata": {},
   "outputs": [
    {
     "data": {
      "text/plain": [
       "['../data/processed/fig4_modelling/tf_tf_pairs/expr_Airway_loop_loop_vocab_info.csv',\n",
       " '../data/processed/fig4_modelling/tf_tf_pairs/expr_Airway_pro_pro_vocab_info.csv',\n",
       " '../data/processed/fig4_modelling/tf_tf_pairs/expr_Astrocytes_loop_loop_vocab_info.csv',\n",
       " '../data/processed/fig4_modelling/tf_tf_pairs/expr_Astrocytes_pro_pro_vocab_info.csv',\n",
       " '../data/processed/fig4_modelling/tf_tf_pairs/expr_Bladder_loop_loop_vocab_info.csv',\n",
       " '../data/processed/fig4_modelling/tf_tf_pairs/expr_Bladder_pro_pro_vocab_info.csv',\n",
       " '../data/processed/fig4_modelling/tf_tf_pairs/expr_Colon_loop_loop_vocab_info.csv',\n",
       " '../data/processed/fig4_modelling/tf_tf_pairs/expr_Colon_pro_pro_vocab_info.csv',\n",
       " '../data/processed/fig4_modelling/tf_tf_pairs/expr_Esophageal_loop_loop_vocab_info.csv',\n",
       " '../data/processed/fig4_modelling/tf_tf_pairs/expr_Esophageal_pro_pro_vocab_info.csv',\n",
       " '../data/processed/fig4_modelling/tf_tf_pairs/expr_GDSD6_loop_loop_vocab_info.csv',\n",
       " '../data/processed/fig4_modelling/tf_tf_pairs/expr_GDSD6_pro_pro_vocab_info.csv',\n",
       " '../data/processed/fig4_modelling/tf_tf_pairs/expr_GM12878_loop_loop_vocab_info.csv',\n",
       " '../data/processed/fig4_modelling/tf_tf_pairs/expr_GM12878_pro_pro_vocab_info.csv',\n",
       " '../data/processed/fig4_modelling/tf_tf_pairs/expr_HMEC_loop_loop_vocab_info.csv',\n",
       " '../data/processed/fig4_modelling/tf_tf_pairs/expr_HMEC_pro_pro_vocab_info.csv',\n",
       " '../data/processed/fig4_modelling/tf_tf_pairs/expr_Melanocytes_loop_loop_vocab_info.csv',\n",
       " '../data/processed/fig4_modelling/tf_tf_pairs/expr_Melanocytes_pro_pro_vocab_info.csv',\n",
       " '../data/processed/fig4_modelling/tf_tf_pairs/expr_Ovarian_loop_loop_vocab_info.csv',\n",
       " '../data/processed/fig4_modelling/tf_tf_pairs/expr_Ovarian_pro_pro_vocab_info.csv',\n",
       " '../data/processed/fig4_modelling/tf_tf_pairs/expr_Pancreas_loop_loop_vocab_info.csv',\n",
       " '../data/processed/fig4_modelling/tf_tf_pairs/expr_Pancreas_pro_pro_vocab_info.csv',\n",
       " '../data/processed/fig4_modelling/tf_tf_pairs/expr_Prostate_loop_loop_vocab_info.csv',\n",
       " '../data/processed/fig4_modelling/tf_tf_pairs/expr_Prostate_pro_pro_vocab_info.csv',\n",
       " '../data/processed/fig4_modelling/tf_tf_pairs/expr_Renal_loop_loop_vocab_info.csv',\n",
       " '../data/processed/fig4_modelling/tf_tf_pairs/expr_Renal_pro_pro_vocab_info.csv',\n",
       " '../data/processed/fig4_modelling/tf_tf_pairs/expr_Thyroid_loop_loop_vocab_info.csv',\n",
       " '../data/processed/fig4_modelling/tf_tf_pairs/expr_Thyroid_pro_pro_vocab_info.csv',\n",
       " '../data/processed/fig4_modelling/tf_tf_pairs/expr_Uterine_loop_loop_vocab_info.csv',\n",
       " '../data/processed/fig4_modelling/tf_tf_pairs/expr_Uterine_pro_pro_vocab_info.csv',\n",
       " '../data/processed/fig4_modelling/tf_tf_pairs/unique_alltissue_loop_loop_vocab_info.csv',\n",
       " '../data/processed/fig4_modelling/tf_tf_pairs/unique_alltissue_pro_loop_vocab_info.csv',\n",
       " '../data/processed/fig4_modelling/tf_tf_pairs/unique_alltissue_pro_pro_vocab_info.csv',\n",
       " '../data/processed/fig4_modelling/tf_tf_pairs/unique_alltissue_vocab_info.csv',\n",
       " '../data/processed/fig4_modelling/tf_tf_pairs/unique_alltissue_vocab_info.xlsx']"
      ]
     },
     "execution_count": 21,
     "metadata": {},
     "output_type": "execute_result"
    }
   ],
   "source": [
    "sorted(glob.glob(vocab_dir+'*vocab*'))"
   ]
  },
  {
   "cell_type": "markdown",
   "metadata": {},
   "source": [
    "## 2B helper functions"
   ]
  },
  {
   "cell_type": "code",
   "execution_count": 12,
   "metadata": {},
   "outputs": [],
   "source": [
    "def get_other_vocab_word(row, next_row):\n",
    "    if row['vocab']!=next_row['vocab']:\n",
    "        return False\n",
    "    \n",
    "    vocab_word = set(row['tf'])\n",
    "    vocab_set = set(row['vocab'].split('::'))\n",
    "    other_vocab = list(vocab_set -  vocab_word)[0]\n",
    "    return other_vocab == next_row['tf']\n",
    "\n",
    "def check_distance(row,next_row,max_dist=MAX_DIST):\n",
    "    if row['chr_m']==next_row['chr_m']:\n",
    "        if row['stop_m']<next_row['start_m']:\n",
    "            tot_dist = next_row['stop_m'] - row['start_m']\n",
    "            btn_dist = next_row['start_m'] - row['stop_m']\n",
    "            return (tot_dist < max_dist), tot_dist, btn_dist\n",
    "    return False,-1,-1\n",
    "\n",
    "def check_tissue(row,next_row, tfs=TFS):\n",
    "    if (row['tf'] in tfs) & (next_row['tf'] in tfs):\n",
    "        return 'both'\n",
    "    elif (row['tf'] in tfs) | (next_row['tf'] in tfs):\n",
    "        return 'one'    \n",
    "    else:\n",
    "        return 'none'\n",
    "    \n",
    "def get_hits(vocab_file,tfs=TFS):\n",
    "    print('**** reading', vocab_file)\n",
    "    vocab_df = pd.read_csv(vocab_file)\n",
    "    print(vocab_df.shape)\n",
    "    idx = 0\n",
    "    idx_hits = 0\n",
    "    results_dict = {}\n",
    "    while idx < (vocab_df.shape[0]-1):\n",
    "        # look at next \n",
    "        row = vocab_df.iloc[idx,:]\n",
    "        next_row = vocab_df.iloc[idx+1,:]\n",
    "\n",
    "        check_vocab_pair = get_other_vocab_word(row,next_row)\n",
    "        check_dist,tot_dist, btn_dist = check_distance(row, next_row)\n",
    "        check_tissue_tf = check_tissue(row,next_row, tfs)\n",
    "        if (check_dist and check_vocab_pair):\n",
    "    #         print('hi',idx)\n",
    "    #         print(row)\n",
    "    #         print(next_row)\n",
    "\n",
    "            results_dict[idx_hits] = {'vocab_pair':row['vocab'],'tot_dist':tot_dist,'btn_dist':btn_dist,\n",
    "                                      'chr':row['chr'],'start':row['start_m'],'stop':next_row['stop_m'], \n",
    "                                      'vocab1':row['tf'],'vocab1_start':row['start_m'], 'vocab1_stop': row['stop_m'],\n",
    "                                      'vocab2':next_row['tf'],'vocab2_start':next_row['start_m'], 'vocab2_stop': next_row['stop_m'],\n",
    "                                      'genes':row['genes'],'num_genes':len(row['genes'].split('|')), 'tissue':row['tissue'],\n",
    "                                     'check_tissuetf':check_tissue_tf}\n",
    "            idx_hits+=1\n",
    "\n",
    "        idx+=1\n",
    "    print('num_hits',idx_hits)\n",
    "    results_df = pd.DataFrame.from_dict(results_dict, orient='index')\n",
    "    return results_df\n",
    "    \n",
    "def filter_results(results_df,min_hits_per_vocab=10):\n",
    "    print('shape', results_df.shape)\n",
    "    vocab_counts = results_df.vocab_pair.value_counts()\n",
    "    print('original num vocab',vocab_counts.shape[0])\n",
    "    vocab_to_include = vocab_counts[vocab_counts>min_hits_per_vocab].index.values\n",
    "    print('filt num vocab',vocab_to_include.shape[0])\n",
    "    \n",
    "    results_df_filt = results_df[results_df.vocab_pair.isin(vocab_to_include)]\n",
    "    return results_df_filt\n",
    "\n",
    "    "
   ]
  },
  {
   "cell_type": "markdown",
   "metadata": {},
   "source": [
    "# 3. Vocabulary genomic instances - running\n",
    "\n",
    "## 3A get expression and stability for loop-loop regions"
   ]
  },
  {
   "cell_type": "code",
   "execution_count": 13,
   "metadata": {},
   "outputs": [],
   "source": [
    "# ###TESTING PURPOSES\n",
    "# vocab_df = pd.read_csv('../data/processed/fig4_modelling/tf_tf_pairs/expr_GDSD6_pro_pro_vocab_info.csv')\n",
    "# print(vocab_df.shape)\n",
    "# vocab_df[:5]"
   ]
  },
  {
   "cell_type": "code",
   "execution_count": 14,
   "metadata": {},
   "outputs": [
    {
     "name": "stdout",
     "output_type": "stream",
     "text": [
      "**** reading ../data/processed/fig4_modelling/tf_tf_pairs/expr_Colon_pro_pro_vocab_info.csv\n",
      "(7953, 15)\n",
      "num_hits 1122\n",
      "CPU times: user 3.11 s, sys: 8.96 ms, total: 3.12 s\n",
      "Wall time: 3.12 s\n"
     ]
    }
   ],
   "source": [
    "%%time\n",
    "# filtered so that at least 10 genomic instances of vocab pair in significantly found in expressed genes \n",
    "results_expr_pro_pro = get_hits('../data/processed/fig4_modelling/tf_tf_pairs/expr_'+TISSUE+'_pro_pro_vocab_info.csv')\n",
    "# results_stability_pro_pro = get_hits('../data/processed/fig4_modelling/tf_tf_pairs_stability/'+TISSUE+'_pro_pro_vocab.csv')\n",
    "\n",
    "#### NO STABILITY"
   ]
  },
  {
   "cell_type": "code",
   "execution_count": 15,
   "metadata": {},
   "outputs": [
    {
     "name": "stdout",
     "output_type": "stream",
     "text": [
      "**** reading ../data/processed/fig4_modelling/tf_tf_pairs/expr_Colon_loop_loop_vocab_info.csv\n",
      "(67136, 15)\n",
      "num_hits 7642\n",
      "CPU times: user 27 s, sys: 212 ms, total: 27.2 s\n",
      "Wall time: 27.2 s\n"
     ]
    }
   ],
   "source": [
    "%%time\n",
    "### TAKES AWHILE\n",
    "results_expr_loop_loop = get_hits('../data/processed/fig4_modelling/tf_tf_pairs/expr_'+TISSUE+'_loop_loop_vocab_info.csv')\n",
    "# results_stability_loop_loop = get_hits('../data/processed/fig4_modelling/tf_tf_pairs_stability/'+TISSUE+'_loop_loop_vocab.csv')\n"
   ]
  },
  {
   "cell_type": "markdown",
   "metadata": {},
   "source": [
    "## 3B raw statistics (pre genomic instance filter)"
   ]
  },
  {
   "cell_type": "code",
   "execution_count": 16,
   "metadata": {},
   "outputs": [
    {
     "name": "stdout",
     "output_type": "stream",
     "text": [
      "num motifs in pro_pro 44\n",
      "['BARX2', 'BATF', 'DLX4', 'E2F7', 'FLI1', 'FOXA2', 'FOXF2', 'FOXM1', 'GLIS3', 'HOXA11', 'KLF15', 'KLF4', 'KLF5', 'KLF9', 'MAFB', 'MESP1', 'MSX2', 'NR2F1', 'NR4A2', 'OSR2', 'OTX1', 'OVOL2', 'PATZ1', 'PLAG1', 'PPARG', 'RARA', 'RARG', 'RORA', 'RUNX2', 'RUNX3', 'SNAI1', 'SNAI2', 'SOX13', 'SP2', 'SP4', 'TCF7', 'TEAD4', 'THAP1', 'WT1', 'ZBTB33', 'ZFP28', 'ZNF257', 'ZNF331', 'ZNF768']\n",
      "num motifs in loop_loop 62\n",
      "['BARX2', 'BATF', 'DLX4', 'E2F2', 'E2F7', 'E2F8', 'ETV1', 'ETV3', 'FLI1', 'FOXA1', 'FOXA2', 'FOXF2', 'FOXM1', 'GATA4', 'GLIS3', 'GRHL2', 'HOXA11', 'HOXB3', 'HOXC8', 'IRF8', 'JDP2', 'KLF15', 'KLF4', 'KLF5', 'KLF9', 'MAFB', 'MESP1', 'MNX1', 'MSX2', 'NR2F1', 'NR4A2', 'OSR2', 'OTX1', 'OVOL2', 'PATZ1', 'PBX1', 'PLAG1', 'PPARG', 'RARA', 'RARG', 'RFX2', 'RFX3', 'RORA', 'RUNX2', 'RUNX3', 'SNAI1', 'SNAI2', 'SOX13', 'SP2', 'SP4', 'TCF7', 'TEAD4', 'THAP1', 'THRB', 'WT1', 'ZBTB33', 'ZFP28', 'ZNF250', 'ZNF257', 'ZNF331', 'ZNF333', 'ZNF768']\n"
     ]
    }
   ],
   "source": [
    "motifs_pro_pro = sorted(set(list(results_expr_pro_pro.vocab1.unique())+list(results_expr_pro_pro.vocab2.unique())))\n",
    "print('num motifs in pro_pro', len(motifs_pro_pro))\n",
    "print(motifs_pro_pro)\n",
    "\n",
    "\n",
    "motifs_loop_loop = sorted(set(list(results_expr_loop_loop.vocab1.unique())+list(results_expr_loop_loop.vocab2.unique())))\n",
    "print('num motifs in loop_loop', len(motifs_loop_loop))\n",
    "print(motifs_loop_loop)"
   ]
  },
  {
   "cell_type": "code",
   "execution_count": 17,
   "metadata": {},
   "outputs": [
    {
     "name": "stdout",
     "output_type": "stream",
     "text": [
      "pre genomic instance filter\n",
      "num vocab in expression enrichment (pro-pro region):  83\n",
      "num vocab in expression enrichment (loop-loop region):  167\n"
     ]
    }
   ],
   "source": [
    "print('pre genomic instance filter')\n",
    "print('num vocab in expression enrichment (pro-pro region): ', results_expr_pro_pro.vocab_pair.unique().shape[0])\n",
    "# print('num vocab in expression enrichment intersected with stability (pro-pro region): ', results_stability_pro_pro.vocab_pair.unique().shape[0])\n",
    "# print(results_stability_pro_pro.vocab_pair.unique())\n",
    "print('num vocab in expression enrichment (loop-loop region): ', results_expr_loop_loop.vocab_pair.unique().shape[0])\n",
    "# print('num vocab in expression enrichment intersected with stability (loop-loop region): ', results_stability_loop_loop.vocab_pair.unique().shape[0])\n",
    "# print(results_stability_loop_loop.vocab_pair.unique())\n"
   ]
  },
  {
   "cell_type": "markdown",
   "metadata": {},
   "source": [
    "## 3C. filter expression enriched vocab words if then have at least 10 genomic instances then get stats"
   ]
  },
  {
   "cell_type": "code",
   "execution_count": 18,
   "metadata": {},
   "outputs": [
    {
     "name": "stdout",
     "output_type": "stream",
     "text": [
      "shape (1122, 16)\n",
      "original num vocab 83\n",
      "filt num vocab 20\n"
     ]
    }
   ],
   "source": [
    "results_expr_pro_pro = filter_results(results_expr_pro_pro,min_hits_per_vocab=10)\n",
    "# print(results_expr_pro_pro.vocab_pair.unique().shape)\n",
    "# results_expr_pro_pro.vocab_pair.unique()"
   ]
  },
  {
   "cell_type": "code",
   "execution_count": 19,
   "metadata": {},
   "outputs": [
    {
     "name": "stdout",
     "output_type": "stream",
     "text": [
      "shape (7642, 16)\n",
      "original num vocab 167\n",
      "filt num vocab 68\n"
     ]
    }
   ],
   "source": [
    "results_expr_loop_loop = filter_results(results_expr_loop_loop,min_hits_per_vocab=10)\n",
    "# print(results_expr_loop_loop.vocab_pair.unique().shape)\n",
    "# results_expr_loop_loop.vocab_pair.unique()"
   ]
  },
  {
   "cell_type": "code",
   "execution_count": 20,
   "metadata": {},
   "outputs": [],
   "source": [
    "# results_stability_pro_pro = filter_results(results_stability_pro_pro,min_hits_per_vocab=10)\n",
    "# results_stability_loop_loop = filter_results(results_stability_loop_loop,min_hits_per_vocab=10)\n"
   ]
  },
  {
   "cell_type": "code",
   "execution_count": 21,
   "metadata": {},
   "outputs": [
    {
     "name": "stdout",
     "output_type": "stream",
     "text": [
      "post genomic instance filter\n",
      "num vocab in expression enrichment (pro-pro region):  20\n",
      "['BARX2::FOXF2' 'BARX2::FOXM1' 'BARX2::THAP1' 'E2F7::THAP1' 'FOXM1::KLF15'\n",
      " 'FOXM1::SOX13' 'FOXM1::WT1' 'KLF15::KLF5' 'KLF15::MSX2' 'KLF15::THAP1'\n",
      " 'KLF5::NR2F1' 'KLF5::SOX13' 'MESP1::THAP1' 'OTX1::THAP1' 'RARA::THAP1'\n",
      " 'SNAI2::SP4' 'SNAI2::WT1' 'SOX13::THAP1' 'SP2::THAP1' 'SP4::THAP1']\n",
      "num vocab in expression enrichment (loop-loop region):  68\n",
      "['BARX2::DLX4' 'BARX2::FOXF2' 'BARX2::FOXM1' 'BARX2::THAP1' 'BATF::KLF15'\n",
      " 'DLX4::SOX13' 'E2F7::FOXM1' 'E2F7::THAP1' 'FLI1::FOXM1' 'FOXA2::THAP1'\n",
      " 'FOXF2::THAP1' 'FOXM1::KLF15' 'FOXM1::MESP1' 'FOXM1::NR2F1'\n",
      " 'FOXM1::PATZ1' 'FOXM1::PLAG1' 'FOXM1::PPARG' 'FOXM1::RARG' 'FOXM1::RORA'\n",
      " 'FOXM1::SNAI1' 'FOXM1::SOX13' 'FOXM1::SP4' 'FOXM1::THAP1' 'FOXM1::WT1'\n",
      " 'GATA2::THAP1' 'GRHL2::THAP1' 'HOXA11::KLF15' 'HOXC8::THAP1'\n",
      " 'KLF15::KLF5' 'KLF15::MSX2' 'KLF15::OSR2' 'KLF15::OTX1' 'KLF15::OVOL2'\n",
      " 'KLF15::RFX2' 'KLF15::SNAI2' 'KLF15::THAP1' 'KLF15::ZFP28' 'KLF5::NR2F1'\n",
      " 'KLF5::SOX13' 'KLF5::ZFP28' 'KLF5::ZNF257' 'MAFB::THAP1' 'MESP1::THAP1'\n",
      " 'MSX2::SP4' 'MSX2::THAP1' 'NR2F1::THAP1' 'NR4A2::THAP1' 'OSR2::THAP1'\n",
      " 'OTX1::THAP1' 'OVOL2::THAP1' 'RARA::THAP1' 'RARG::THAP1' 'RFX2::THAP1'\n",
      " 'RORA::THAP1' 'RUNX2::SP4' 'RUNX2::THAP1' 'SNAI2::SP4' 'SNAI2::THAP1'\n",
      " 'SNAI2::WT1' 'SNAI2::ZNF331' 'SOX13::THAP1' 'SP2::THAP1' 'SP4::THAP1'\n",
      " 'SP4::ZFP28' 'TCF7::THAP1' 'THAP1::THRB' 'THAP1::ZFP28' 'THAP1::ZNF333']\n"
     ]
    }
   ],
   "source": [
    "print('post genomic instance filter')\n",
    "print('num vocab in expression enrichment (pro-pro region): ', results_expr_pro_pro.vocab_pair.unique().shape[0])\n",
    "# print('num vocab in expression enrichment intersected with stability (pro-pro region): ', results_stability_pro_pro.vocab_pair.unique().shape[0])\n",
    "print(results_expr_pro_pro.vocab_pair.unique())\n",
    "print('num vocab in expression enrichment (loop-loop region): ', results_expr_loop_loop.vocab_pair.unique().shape[0])\n",
    "# print('num vocab in expression enrichment intersected with stability (loop-loop region): ', results_stability_loop_loop.vocab_pair.unique().shape[0])\n",
    "print(results_expr_loop_loop.vocab_pair.unique())\n"
   ]
  },
  {
   "cell_type": "markdown",
   "metadata": {},
   "source": [
    "## 3D filter expr vocab words based on whether there is they are annotated for skin"
   ]
  },
  {
   "cell_type": "code",
   "execution_count": 22,
   "metadata": {},
   "outputs": [
    {
     "data": {
      "text/plain": [
       "none    20\n",
       "one      4\n",
       "Name: check_tissuetf, dtype: int64"
      ]
     },
     "execution_count": 22,
     "metadata": {},
     "output_type": "execute_result"
    }
   ],
   "source": [
    "results_expr_pro_pro[['vocab_pair','check_tissuetf']].drop_duplicates().check_tissuetf.value_counts()"
   ]
  },
  {
   "cell_type": "code",
   "execution_count": 23,
   "metadata": {},
   "outputs": [
    {
     "data": {
      "text/plain": [
       "none    68\n",
       "one      7\n",
       "Name: check_tissuetf, dtype: int64"
      ]
     },
     "execution_count": 23,
     "metadata": {},
     "output_type": "execute_result"
    }
   ],
   "source": [
    "results_expr_loop_loop[['vocab_pair','check_tissuetf']].drop_duplicates().check_tissuetf.value_counts()"
   ]
  },
  {
   "cell_type": "markdown",
   "metadata": {},
   "source": [
    "shows fraction of vocab words having tissue specific motif configuration (`both` are tissue specific, `one` is tissue specific, or `none` are)\n",
    "\n",
    "\n",
    "MAKE SURE #s are around 40 ish so pick `one` or `both`"
   ]
  },
  {
   "cell_type": "code",
   "execution_count": 24,
   "metadata": {},
   "outputs": [
    {
     "name": "stdout",
     "output_type": "stream",
     "text": [
      "pro-pro region\n",
      "total vocab: 20 tissue annon vocab: 20\n",
      "['BARX2::FOXF2' 'BARX2::FOXM1' 'BARX2::THAP1' 'E2F7::THAP1' 'FOXM1::KLF15'\n",
      " 'FOXM1::SOX13' 'FOXM1::WT1' 'KLF15::KLF5' 'KLF15::MSX2' 'KLF15::THAP1'\n",
      " 'KLF5::NR2F1' 'KLF5::SOX13' 'MESP1::THAP1' 'OTX1::THAP1' 'RARA::THAP1'\n",
      " 'SNAI2::SP4' 'SNAI2::WT1' 'SOX13::THAP1' 'SP2::THAP1' 'SP4::THAP1']\n",
      "loop-loop region\n",
      "total vocab: 68 tissue annon vocab: 68\n",
      "['BARX2::DLX4' 'BARX2::FOXF2' 'BARX2::FOXM1' 'BARX2::THAP1' 'BATF::KLF15'\n",
      " 'DLX4::SOX13' 'E2F7::FOXM1' 'E2F7::THAP1' 'FLI1::FOXM1' 'FOXA2::THAP1'\n",
      " 'FOXF2::THAP1' 'FOXM1::KLF15' 'FOXM1::MESP1' 'FOXM1::NR2F1'\n",
      " 'FOXM1::PATZ1' 'FOXM1::PLAG1' 'FOXM1::PPARG' 'FOXM1::RARG' 'FOXM1::RORA'\n",
      " 'FOXM1::SNAI1' 'FOXM1::SOX13' 'FOXM1::SP4' 'FOXM1::THAP1' 'FOXM1::WT1'\n",
      " 'GATA2::THAP1' 'GRHL2::THAP1' 'HOXA11::KLF15' 'HOXC8::THAP1'\n",
      " 'KLF15::KLF5' 'KLF15::MSX2' 'KLF15::OSR2' 'KLF15::OTX1' 'KLF15::OVOL2'\n",
      " 'KLF15::RFX2' 'KLF15::SNAI2' 'KLF15::THAP1' 'KLF15::ZFP28' 'KLF5::NR2F1'\n",
      " 'KLF5::SOX13' 'KLF5::ZFP28' 'KLF5::ZNF257' 'MAFB::THAP1' 'MESP1::THAP1'\n",
      " 'MSX2::SP4' 'MSX2::THAP1' 'NR2F1::THAP1' 'NR4A2::THAP1' 'OSR2::THAP1'\n",
      " 'OTX1::THAP1' 'OVOL2::THAP1' 'RARA::THAP1' 'RARG::THAP1' 'RFX2::THAP1'\n",
      " 'RORA::THAP1' 'RUNX2::SP4' 'RUNX2::THAP1' 'SNAI2::SP4' 'SNAI2::THAP1'\n",
      " 'SNAI2::WT1' 'SNAI2::ZNF331' 'SOX13::THAP1' 'SP2::THAP1' 'SP4::THAP1'\n",
      " 'SP4::ZFP28' 'TCF7::THAP1' 'THAP1::THRB' 'THAP1::ZFP28' 'THAP1::ZNF333']\n"
     ]
    }
   ],
   "source": [
    "filter_thres = ['none','one','both']#'both' # 'one'\n",
    "results_expr_pro_pro_tissue = results_expr_pro_pro[results_expr_pro_pro.check_tissuetf.isin(filter_thres)]\n",
    "print('pro-pro region')\n",
    "print('total vocab:',results_expr_pro_pro.vocab_pair.unique().shape[0],'tissue annon vocab:', results_expr_pro_pro_tissue.vocab_pair.unique().shape[0])\n",
    "print(results_expr_pro_pro_tissue.vocab_pair.unique())\n",
    "\n",
    "results_expr_loop_loop_tissue = results_expr_loop_loop[results_expr_loop_loop.check_tissuetf.isin(filter_thres)]\n",
    "print('loop-loop region')\n",
    "print('total vocab:',results_expr_loop_loop.vocab_pair.unique().shape[0],'tissue annon vocab:', results_expr_loop_loop_tissue.vocab_pair.unique().shape[0])\n",
    "print(results_expr_loop_loop_tissue.vocab_pair.unique())"
   ]
  },
  {
   "cell_type": "markdown",
   "metadata": {},
   "source": [
    "## 3E add in stability scores vocab pairs that pass the genomic instance filter and get genomic instance counts"
   ]
  },
  {
   "cell_type": "code",
   "execution_count": 26,
   "metadata": {},
   "outputs": [
    {
     "data": {
      "text/plain": [
       "{'BARX2::FOXF2': 'none',\n",
       " 'BARX2::FOXM1': 'none',\n",
       " 'BARX2::THAP1': 'none',\n",
       " 'E2F7::THAP1': 'none',\n",
       " 'FOXM1::KLF15': 'none',\n",
       " 'FOXM1::SOX13': 'none',\n",
       " 'FOXM1::WT1': 'none',\n",
       " 'KLF15::KLF5': 'one',\n",
       " 'KLF15::MSX2': 'none',\n",
       " 'KLF15::THAP1': 'none',\n",
       " 'KLF5::NR2F1': 'none',\n",
       " 'KLF5::SOX13': 'one',\n",
       " 'MESP1::THAP1': 'none',\n",
       " 'OTX1::THAP1': 'none',\n",
       " 'RARA::THAP1': 'none',\n",
       " 'SNAI2::SP4': 'none',\n",
       " 'SNAI2::WT1': 'none',\n",
       " 'SOX13::THAP1': 'none',\n",
       " 'SP2::THAP1': 'one',\n",
       " 'SP4::THAP1': 'none'}"
      ]
     },
     "execution_count": 26,
     "metadata": {},
     "output_type": "execute_result"
    }
   ],
   "source": []
  },
  {
   "cell_type": "code",
   "execution_count": 34,
   "metadata": {},
   "outputs": [],
   "source": [
    "def get_counts(results_df, label):\n",
    "    vocab_to_checktissue = pd.Series(results_df.check_tissuetf.values, index=results_df.vocab_pair.values).to_dict()\n",
    "    counts_df = pd.DataFrame(results_df.vocab_pair.value_counts())\n",
    "    counts_df.columns = ['num_instance']\n",
    "    counts_df['label']=label\n",
    "    counts_df.index.set_names('vocab',inplace=True)\n",
    "    counts_df.reset_index(inplace=True)\n",
    "\n",
    "    counts_df['check_tissue'] = counts_df.vocab.map(vocab_to_checktissue)\n",
    "    return counts_df"
   ]
  },
  {
   "cell_type": "code",
   "execution_count": 41,
   "metadata": {},
   "outputs": [
    {
     "data": {
      "text/plain": [
       "expr_loop_tissue                    48\n",
       "expr_pro_tissue|expr_loop_tissue    20\n",
       "Name: label, dtype: int64"
      ]
     },
     "execution_count": 41,
     "metadata": {},
     "output_type": "execute_result"
    }
   ],
   "source": [
    "vocab_summary_df = pd.concat([ #get_counts(results_stability_pro_pro, 'stability_pro'),\n",
    "            get_counts(results_expr_pro_pro_tissue, 'expr_pro_tissue'),\n",
    "#             get_counts(results_stability_loop_loop, 'stability_loop'),\n",
    "            get_counts(results_expr_loop_loop_tissue, 'expr_loop_tissue')],axis=0)\n",
    "vocab_summary_df = vocab_summary_df.groupby('vocab').agg({'num_instance':sum, 'check_tissue':lambda x: ''.join(list(set(x))),'label':'|'.join}).reset_index()\n",
    "vocab_summary_df['tissue']=TISSUE\n",
    "vocab_summary_df.label.value_counts()\n",
    "# results_stability_loop_loop.vocab_pair.unique()"
   ]
  },
  {
   "cell_type": "code",
   "execution_count": 45,
   "metadata": {},
   "outputs": [
    {
     "data": {
      "text/html": [
       "<div>\n",
       "<style scoped>\n",
       "    .dataframe tbody tr th:only-of-type {\n",
       "        vertical-align: middle;\n",
       "    }\n",
       "\n",
       "    .dataframe tbody tr th {\n",
       "        vertical-align: top;\n",
       "    }\n",
       "\n",
       "    .dataframe thead th {\n",
       "        text-align: right;\n",
       "    }\n",
       "</style>\n",
       "<table border=\"1\" class=\"dataframe\">\n",
       "  <thead>\n",
       "    <tr style=\"text-align: right;\">\n",
       "      <th></th>\n",
       "      <th>vocab</th>\n",
       "      <th>num_instance</th>\n",
       "      <th>check_tissue</th>\n",
       "      <th>label</th>\n",
       "      <th>tissue</th>\n",
       "    </tr>\n",
       "  </thead>\n",
       "  <tbody>\n",
       "    <tr>\n",
       "      <td>0</td>\n",
       "      <td>BARX2::DLX4</td>\n",
       "      <td>35</td>\n",
       "      <td>none</td>\n",
       "      <td>expr_loop_tissue</td>\n",
       "      <td>Colon</td>\n",
       "    </tr>\n",
       "    <tr>\n",
       "      <td>1</td>\n",
       "      <td>BARX2::FOXF2</td>\n",
       "      <td>210</td>\n",
       "      <td>none</td>\n",
       "      <td>expr_pro_tissue|expr_loop_tissue</td>\n",
       "      <td>Colon</td>\n",
       "    </tr>\n",
       "    <tr>\n",
       "      <td>2</td>\n",
       "      <td>BARX2::FOXM1</td>\n",
       "      <td>132</td>\n",
       "      <td>none</td>\n",
       "      <td>expr_pro_tissue|expr_loop_tissue</td>\n",
       "      <td>Colon</td>\n",
       "    </tr>\n",
       "    <tr>\n",
       "      <td>3</td>\n",
       "      <td>BARX2::THAP1</td>\n",
       "      <td>226</td>\n",
       "      <td>none</td>\n",
       "      <td>expr_pro_tissue|expr_loop_tissue</td>\n",
       "      <td>Colon</td>\n",
       "    </tr>\n",
       "    <tr>\n",
       "      <td>4</td>\n",
       "      <td>BATF::KLF15</td>\n",
       "      <td>27</td>\n",
       "      <td>none</td>\n",
       "      <td>expr_loop_tissue</td>\n",
       "      <td>Colon</td>\n",
       "    </tr>\n",
       "  </tbody>\n",
       "</table>\n",
       "</div>"
      ],
      "text/plain": [
       "          vocab  num_instance check_tissue                             label  \\\n",
       "0   BARX2::DLX4            35         none                  expr_loop_tissue   \n",
       "1  BARX2::FOXF2           210         none  expr_pro_tissue|expr_loop_tissue   \n",
       "2  BARX2::FOXM1           132         none  expr_pro_tissue|expr_loop_tissue   \n",
       "3  BARX2::THAP1           226         none  expr_pro_tissue|expr_loop_tissue   \n",
       "4   BATF::KLF15            27         none                  expr_loop_tissue   \n",
       "\n",
       "  tissue  \n",
       "0  Colon  \n",
       "1  Colon  \n",
       "2  Colon  \n",
       "3  Colon  \n",
       "4  Colon  "
      ]
     },
     "execution_count": 45,
     "metadata": {},
     "output_type": "execute_result"
    }
   ],
   "source": [
    "vocab_summary_df[:5]"
   ]
  },
  {
   "cell_type": "code",
   "execution_count": 46,
   "metadata": {},
   "outputs": [],
   "source": [
    "vocab_summary_df.to_csv(os.path.join(save_dir, TISSUE+'_vocab_summary.csv'))"
   ]
  },
  {
   "cell_type": "code",
   "execution_count": 47,
   "metadata": {},
   "outputs": [
    {
     "data": {
      "text/html": [
       "<div>\n",
       "<style scoped>\n",
       "    .dataframe tbody tr th:only-of-type {\n",
       "        vertical-align: middle;\n",
       "    }\n",
       "\n",
       "    .dataframe tbody tr th {\n",
       "        vertical-align: top;\n",
       "    }\n",
       "\n",
       "    .dataframe thead th {\n",
       "        text-align: right;\n",
       "    }\n",
       "</style>\n",
       "<table border=\"1\" class=\"dataframe\">\n",
       "  <thead>\n",
       "    <tr style=\"text-align: right;\">\n",
       "      <th></th>\n",
       "      <th>vocab</th>\n",
       "      <th>num_instance</th>\n",
       "      <th>check_tissue</th>\n",
       "      <th>label</th>\n",
       "      <th>tissue</th>\n",
       "    </tr>\n",
       "  </thead>\n",
       "  <tbody>\n",
       "    <tr>\n",
       "      <td>64</td>\n",
       "      <td>TCF7::THAP1</td>\n",
       "      <td>44</td>\n",
       "      <td>none</td>\n",
       "      <td>expr_loop_tissue</td>\n",
       "      <td>Colon</td>\n",
       "    </tr>\n",
       "  </tbody>\n",
       "</table>\n",
       "</div>"
      ],
      "text/plain": [
       "          vocab  num_instance check_tissue             label tissue\n",
       "64  TCF7::THAP1            44         none  expr_loop_tissue  Colon"
      ]
     },
     "execution_count": 47,
     "metadata": {},
     "output_type": "execute_result"
    }
   ],
   "source": [
    "vocab_summary_df[vocab_summary_df.vocab.str.contains('TCF7')]"
   ]
  },
  {
   "cell_type": "code",
   "execution_count": null,
   "metadata": {},
   "outputs": [],
   "source": []
  }
 ],
 "metadata": {
  "kernelspec": {
   "display_name": "Python 3",
   "language": "python",
   "name": "python3"
  },
  "language_info": {
   "codemirror_mode": {
    "name": "ipython",
    "version": 3
   },
   "file_extension": ".py",
   "mimetype": "text/x-python",
   "name": "python",
   "nbconvert_exporter": "python",
   "pygments_lexer": "ipython3",
   "version": "3.7.4"
  }
 },
 "nbformat": 4,
 "nbformat_minor": 4
}
