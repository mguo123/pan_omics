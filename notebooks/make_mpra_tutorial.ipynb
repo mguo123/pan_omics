{
 "cells": [
  {
   "cell_type": "markdown",
   "metadata": {},
   "source": [
    "# Step 1: get sequences\n",
    "\n",
    "need a dataframe `snp_df` with a `chr`, `start`, `end` columns, for the regions that you are picking"
   ]
  },
  {
   "cell_type": "code",
   "execution_count": 1037,
   "metadata": {},
   "outputs": [],
   "source": [
    "import urllib.request\n",
    "import xmltodict\n"
   ]
  },
  {
   "cell_type": "code",
   "execution_count": 1038,
   "metadata": {},
   "outputs": [],
   "source": [
    "def get_sequence(row,chr_col='chr', start_col='start', stop_col='end'):\n",
    "    url = 'http://genome.ucsc.edu/cgi-bin/das/hg19/dna?segment={}:{},{}'.format(row[chr_col],row[start_col],row[stop_col])#chr4:39355986,39356120'\n",
    "    contents = urllib.request.urlopen(url).read()\n",
    "    sequence = ''.join(xmltodict.parse(contents)['DASDNA']['SEQUENCE']['DNA']['#text'].upper().split('\\n'))\n",
    "    return(sequence)"
   ]
  },
  {
   "cell_type": "code",
   "execution_count": 1172,
   "metadata": {},
   "outputs": [
    {
     "name": "stdout",
     "output_type": "stream",
     "text": [
      "(4586, 18)\n",
      "CPU times: user 4.72 s, sys: 1.51 s, total: 6.23 s\n",
      "Wall time: 15min 45s\n"
     ]
    }
   ],
   "source": [
    "%%time\n",
    "# probably will take ~20 min (12 min 35s for 15instances , 17 min for 20instances)\n",
    "\n",
    "snp_df['sequence'] = snp_df.apply(lambda x: get_sequence(x, chr_col='chr', start_col='start_pad', stop_col='stop_pad'),axis=1)\n",
    "snp_df['seq_type'] = 'ref'"
   ]
  },
  {
   "cell_type": "markdown",
   "metadata": {},
   "source": [
    "\n",
    "# Step 2: replace the SNP basepair with the correct SNP\n",
    "these sequences are `seq_type` =  'alt'\n",
    "\n",
    "\n",
    "# Step 3: make negative controls as Laura K described\n",
    "these sequences are `seq_type` =  'neg'\n",
    "\n",
    "# Step 4: (optional) make positive controls as Laura K described\n",
    "\n",
    "# Step 5: save all of these as a dataframe `mpra_lib_seq.csv`\n",
    "which has the following dataframe values\n",
    "1. chr\n",
    "2. start\n",
    "3. end\n",
    "4. sequence\n",
    "5. seq_type\n",
    "6. id - provide identifier for each sequence\n",
    "\n",
    "# 6. run step_6 from 8F1R_make_mpra\n",
    "\n"
   ]
  },
  {
   "cell_type": "code",
   "execution_count": null,
   "metadata": {},
   "outputs": [],
   "source": []
  }
 ],
 "metadata": {
  "kernelspec": {
   "display_name": "Python 3",
   "language": "python",
   "name": "python3"
  },
  "language_info": {
   "codemirror_mode": {
    "name": "ipython",
    "version": 3
   },
   "file_extension": ".py",
   "mimetype": "text/x-python",
   "name": "python",
   "nbconvert_exporter": "python",
   "pygments_lexer": "ipython3",
   "version": "3.7.4"
  }
 },
 "nbformat": 4,
 "nbformat_minor": 4
}
