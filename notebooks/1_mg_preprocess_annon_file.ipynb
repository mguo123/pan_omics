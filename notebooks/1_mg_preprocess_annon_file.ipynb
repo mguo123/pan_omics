{
 "cells": [
  {
   "cell_type": "markdown",
   "metadata": {},
   "source": [
    "# preprocess_annon_file\n",
    "\n",
    "for pan_omics project\n",
    "\n",
    "04/09/2020"
   ]
  },
  {
   "cell_type": "code",
   "execution_count": 52,
   "metadata": {},
   "outputs": [],
   "source": [
    "import pandas as pd\n",
    "import subprocess\n",
    "import seaborn as sns\n",
    "import pybedtools"
   ]
  },
  {
   "cell_type": "markdown",
   "metadata": {},
   "source": [
    "For human, mouse, zebrafish, rat and pig, Ensembl not only shows transcripts that are annotated automatically using the Ensembl genebuild pipeline, but also transcripts that are manually annotated by the HAVANA team. If the Ensembl and Havana annotation agree with each other the transcripts are combined into an Ensembl/Havana merged transcript. When a transcript is only annotated by Ensembl or Havana it is named an Ensembl or Havana transcript, respectively. Transcripts that do match a species-specific entry in the UniProtKB/Swiss-Prot or RefSeq databases are categorised as known, those that do not as categorised as novel. For more detailed information, please have a look at our genebuild documentation.\n",
    "\n"
   ]
  },
  {
   "cell_type": "code",
   "execution_count": 6,
   "metadata": {},
   "outputs": [],
   "source": [
    "tss_file = '../data/external/TSS_annon_ALL.csv'\n",
    "# gencode_file = '../data/external/gene_annon_ALL.csv'\n",
    "gene_annon_file = '../data/external/gencode.v19.annotation.gtf'"
   ]
  },
  {
   "cell_type": "code",
   "execution_count": 39,
   "metadata": {},
   "outputs": [
    {
     "name": "stdout",
     "output_type": "stream",
     "text": [
      "CPU times: user 11.1 s, sys: 446 ms, total: 11.6 s\n",
      "Wall time: 10.4 s\n"
     ]
    }
   ],
   "source": [
    "%%time\n",
    "gene_annon_df = pd.read_csv(gene_annon_file, header=None, skiprows=5,sep='\\t')\n",
    "gene_annon_df.columns = ['chr','annotation_source', 'type', 'start','end','qual','strand', 'misc', 'gene_info']\n",
    "gene_annon_df=gene_annon_df[gene_annon_df.type=='gene']\n",
    "#this line takes awhile\n",
    "gene_annon_df[['ensg_id','enst_id','gene_type','status','gene_sym']] = gene_annon_df.gene_info.str.split('[ \";]',expand=True).loc[:,[2,7,12,17,22]]\n",
    "gene_annon_df.shape#(57820, 14)"
   ]
  },
  {
   "cell_type": "code",
   "execution_count": 59,
   "metadata": {},
   "outputs": [],
   "source": [
    "gene_annon_df_file = gene_annon_df[['chr','start','end','gene_sym']]\n",
    "gene_annon_df_file.to_csv('../data/external/gencode.v19.gene.bed',sep='\\t',header=None,index=None)"
   ]
  },
  {
   "cell_type": "code",
   "execution_count": 9,
   "metadata": {},
   "outputs": [],
   "source": [
    "exon_annon_df = pd.read_csv(gene_annon_file, header=None, skiprows=5,sep='\\t')\n",
    "exon_annon_df.columns = ['chr','annotation_source', 'type', 'start','end','qual','strand', 'misc', 'gene_info']\n",
    "exon_annon_df=exon_annon_df[exon_annon_df.type=='exon']\n",
    "#this line takes awhile\n",
    "exon_annon_df[['ensg_id','enst_id','gene_type','status','gene_sym']] = exon_annon_df.gene_info.str.split('[ \";]',expand=True).loc[:,[2,7,12,17,22]]#(1196293, 14)"
   ]
  },
  {
   "cell_type": "code",
   "execution_count": 55,
   "metadata": {},
   "outputs": [],
   "source": [
    "exon_annon_df_filt = exon_annon_df[['chr','start','end','gene_sym']]"
   ]
  },
  {
   "cell_type": "code",
   "execution_count": 57,
   "metadata": {},
   "outputs": [],
   "source": [
    "exon_annon_df_filt.to_csv('../data/external/gencode.v19.exon.bed',sep='\\t',header=None,index=None)"
   ]
  },
  {
   "cell_type": "code",
   "execution_count": 43,
   "metadata": {},
   "outputs": [
    {
     "data": {
      "text/plain": [
       "(1196293, 14)"
      ]
     },
     "execution_count": 43,
     "metadata": {},
     "output_type": "execute_result"
    }
   ],
   "source": [
    "exon_annon_df.shape"
   ]
  },
  {
   "cell_type": "code",
   "execution_count": 41,
   "metadata": {},
   "outputs": [
    {
     "data": {
      "text/html": [
       "<div>\n",
       "<style scoped>\n",
       "    .dataframe tbody tr th:only-of-type {\n",
       "        vertical-align: middle;\n",
       "    }\n",
       "\n",
       "    .dataframe tbody tr th {\n",
       "        vertical-align: top;\n",
       "    }\n",
       "\n",
       "    .dataframe thead th {\n",
       "        text-align: right;\n",
       "    }\n",
       "</style>\n",
       "<table border=\"1\" class=\"dataframe\">\n",
       "  <thead>\n",
       "    <tr style=\"text-align: right;\">\n",
       "      <th></th>\n",
       "      <th>chr</th>\n",
       "      <th>annotation_source</th>\n",
       "      <th>type</th>\n",
       "      <th>start</th>\n",
       "      <th>end</th>\n",
       "      <th>qual</th>\n",
       "      <th>strand</th>\n",
       "      <th>misc</th>\n",
       "      <th>gene_info</th>\n",
       "      <th>ensg_id</th>\n",
       "      <th>enst_id</th>\n",
       "      <th>gene_type</th>\n",
       "      <th>status</th>\n",
       "      <th>gene_sym</th>\n",
       "    </tr>\n",
       "  </thead>\n",
       "  <tbody>\n",
       "    <tr>\n",
       "      <td>2</td>\n",
       "      <td>chr1</td>\n",
       "      <td>HAVANA</td>\n",
       "      <td>exon</td>\n",
       "      <td>11869</td>\n",
       "      <td>12227</td>\n",
       "      <td>.</td>\n",
       "      <td>+</td>\n",
       "      <td>.</td>\n",
       "      <td>gene_id \"ENSG00000223972.4\"; transcript_id \"EN...</td>\n",
       "      <td>ENSG00000223972.4</td>\n",
       "      <td>ENST00000456328.2</td>\n",
       "      <td>pseudogene</td>\n",
       "      <td>KNOWN</td>\n",
       "      <td>DDX11L1</td>\n",
       "    </tr>\n",
       "    <tr>\n",
       "      <td>3</td>\n",
       "      <td>chr1</td>\n",
       "      <td>HAVANA</td>\n",
       "      <td>exon</td>\n",
       "      <td>12613</td>\n",
       "      <td>12721</td>\n",
       "      <td>.</td>\n",
       "      <td>+</td>\n",
       "      <td>.</td>\n",
       "      <td>gene_id \"ENSG00000223972.4\"; transcript_id \"EN...</td>\n",
       "      <td>ENSG00000223972.4</td>\n",
       "      <td>ENST00000456328.2</td>\n",
       "      <td>pseudogene</td>\n",
       "      <td>KNOWN</td>\n",
       "      <td>DDX11L1</td>\n",
       "    </tr>\n",
       "    <tr>\n",
       "      <td>4</td>\n",
       "      <td>chr1</td>\n",
       "      <td>HAVANA</td>\n",
       "      <td>exon</td>\n",
       "      <td>13221</td>\n",
       "      <td>14409</td>\n",
       "      <td>.</td>\n",
       "      <td>+</td>\n",
       "      <td>.</td>\n",
       "      <td>gene_id \"ENSG00000223972.4\"; transcript_id \"EN...</td>\n",
       "      <td>ENSG00000223972.4</td>\n",
       "      <td>ENST00000456328.2</td>\n",
       "      <td>pseudogene</td>\n",
       "      <td>KNOWN</td>\n",
       "      <td>DDX11L1</td>\n",
       "    </tr>\n",
       "    <tr>\n",
       "      <td>6</td>\n",
       "      <td>chr1</td>\n",
       "      <td>ENSEMBL</td>\n",
       "      <td>exon</td>\n",
       "      <td>11872</td>\n",
       "      <td>12227</td>\n",
       "      <td>.</td>\n",
       "      <td>+</td>\n",
       "      <td>.</td>\n",
       "      <td>gene_id \"ENSG00000223972.4\"; transcript_id \"EN...</td>\n",
       "      <td>ENSG00000223972.4</td>\n",
       "      <td>ENST00000515242.2</td>\n",
       "      <td>pseudogene</td>\n",
       "      <td>KNOWN</td>\n",
       "      <td>DDX11L1</td>\n",
       "    </tr>\n",
       "    <tr>\n",
       "      <td>7</td>\n",
       "      <td>chr1</td>\n",
       "      <td>ENSEMBL</td>\n",
       "      <td>exon</td>\n",
       "      <td>12613</td>\n",
       "      <td>12721</td>\n",
       "      <td>.</td>\n",
       "      <td>+</td>\n",
       "      <td>.</td>\n",
       "      <td>gene_id \"ENSG00000223972.4\"; transcript_id \"EN...</td>\n",
       "      <td>ENSG00000223972.4</td>\n",
       "      <td>ENST00000515242.2</td>\n",
       "      <td>pseudogene</td>\n",
       "      <td>KNOWN</td>\n",
       "      <td>DDX11L1</td>\n",
       "    </tr>\n",
       "  </tbody>\n",
       "</table>\n",
       "</div>"
      ],
      "text/plain": [
       "    chr annotation_source  type  start    end qual strand misc  \\\n",
       "2  chr1            HAVANA  exon  11869  12227    .      +    .   \n",
       "3  chr1            HAVANA  exon  12613  12721    .      +    .   \n",
       "4  chr1            HAVANA  exon  13221  14409    .      +    .   \n",
       "6  chr1           ENSEMBL  exon  11872  12227    .      +    .   \n",
       "7  chr1           ENSEMBL  exon  12613  12721    .      +    .   \n",
       "\n",
       "                                           gene_info            ensg_id  \\\n",
       "2  gene_id \"ENSG00000223972.4\"; transcript_id \"EN...  ENSG00000223972.4   \n",
       "3  gene_id \"ENSG00000223972.4\"; transcript_id \"EN...  ENSG00000223972.4   \n",
       "4  gene_id \"ENSG00000223972.4\"; transcript_id \"EN...  ENSG00000223972.4   \n",
       "6  gene_id \"ENSG00000223972.4\"; transcript_id \"EN...  ENSG00000223972.4   \n",
       "7  gene_id \"ENSG00000223972.4\"; transcript_id \"EN...  ENSG00000223972.4   \n",
       "\n",
       "             enst_id   gene_type status gene_sym  \n",
       "2  ENST00000456328.2  pseudogene  KNOWN  DDX11L1  \n",
       "3  ENST00000456328.2  pseudogene  KNOWN  DDX11L1  \n",
       "4  ENST00000456328.2  pseudogene  KNOWN  DDX11L1  \n",
       "6  ENST00000515242.2  pseudogene  KNOWN  DDX11L1  \n",
       "7  ENST00000515242.2  pseudogene  KNOWN  DDX11L1  "
      ]
     },
     "execution_count": 41,
     "metadata": {},
     "output_type": "execute_result"
    }
   ],
   "source": [
    "exon_annon_df[:5]"
   ]
  },
  {
   "cell_type": "code",
   "execution_count": 54,
   "metadata": {},
   "outputs": [
    {
     "data": {
      "text/plain": [
       "protein_coding              20345\n",
       "pseudogene                  13931\n",
       "lincRNA                      7114\n",
       "antisense                    5276\n",
       "miRNA                        3055\n",
       "misc_RNA                     2034\n",
       "snRNA                        1916\n",
       "snoRNA                       1457\n",
       "sense_intronic                742\n",
       "rRNA                          527\n",
       "processed_transcript          515\n",
       "sense_overlapping             202\n",
       "IG_V_pseudogene               187\n",
       "IG_V_gene                     138\n",
       "TR_V_gene                      97\n",
       "TR_J_gene                      74\n",
       "polymorphic_pseudogene         45\n",
       "IG_D_gene                      37\n",
       "TR_V_pseudogene                27\n",
       "Mt_tRNA                        22\n",
       "3prime_overlapping_ncrna       21\n",
       "IG_J_gene                      18\n",
       "IG_C_gene                      14\n",
       "IG_C_pseudogene                 9\n",
       "TR_C_gene                       5\n",
       "TR_J_pseudogene                 4\n",
       "IG_J_pseudogene                 3\n",
       "TR_D_gene                       3\n",
       "Mt_rRNA                         2\n",
       "Name: gene_type, dtype: int64"
      ]
     },
     "execution_count": 54,
     "metadata": {},
     "output_type": "execute_result"
    }
   ],
   "source": [
    "gene_annon_df.gene_type.value_counts()"
   ]
  },
  {
   "cell_type": "code",
   "execution_count": 53,
   "metadata": {},
   "outputs": [
    {
     "name": "stdout",
     "output_type": "stream",
     "text": [
      "count    5.782000e+04\n",
      "mean     2.990738e+04\n",
      "std      8.709646e+04\n",
      "min      7.000000e+00\n",
      "25%      4.710000e+02\n",
      "50%      2.782500e+03\n",
      "75%      2.262200e+04\n",
      "max      2.304637e+06\n",
      "dtype: float64\n"
     ]
    },
    {
     "data": {
      "text/plain": [
       "<matplotlib.axes._subplots.AxesSubplot at 0x7f910a509050>"
      ]
     },
     "execution_count": 53,
     "metadata": {},
     "output_type": "execute_result"
    },
    {
     "data": {
      "image/png": "[encoded data removed]",
      "text/plain": [
       "<Figure size 432x288 with 1 Axes>"
      ]
     },
     "metadata": {
      "needs_background": "light"
     },
     "output_type": "display_data"
    }
   ],
   "source": [
    "# gene lengths\n",
    "print((gene_annon_df.end-gene_annon_df.start).describe())\n",
    "sns.distplot((gene_annon_df.end-gene_annon_df.start))"
   ]
  },
  {
   "cell_type": "code",
   "execution_count": 49,
   "metadata": {},
   "outputs": [
    {
     "data": {
      "text/plain": [
       "HAVANA     47970\n",
       "ENSEMBL     9850\n",
       "Name: annotation_source, dtype: int64"
      ]
     },
     "execution_count": 49,
     "metadata": {},
     "output_type": "execute_result"
    }
   ],
   "source": [
    "gene_annon_df.annotation_source.value_counts()#.value_counts()"
   ]
  },
  {
   "cell_type": "code",
   "execution_count": 5,
   "metadata": {},
   "outputs": [
    {
     "ename": "FileNotFoundError",
     "evalue": "[Errno 2] File b'../data/external/gene_annon_ALL.csv' does not exist: b'../data/external/gene_annon_ALL.csv'",
     "output_type": "error",
     "traceback": [
      "\u001b[0;31m---------------------------------------------------------------------------\u001b[0m",
      "\u001b[0;31mFileNotFoundError\u001b[0m                         Traceback (most recent call last)",
      "\u001b[0;32m<ipython-input-5-95b064fd103c>\u001b[0m in \u001b[0;36m<module>\u001b[0;34m\u001b[0m\n\u001b[1;32m      1\u001b[0m \u001b[0;31m# make gencode list\u001b[0m\u001b[0;34m\u001b[0m\u001b[0;34m\u001b[0m\u001b[0;34m\u001b[0m\u001b[0m\n\u001b[0;32m----> 2\u001b[0;31m \u001b[0mgencode_df\u001b[0m \u001b[0;34m=\u001b[0m \u001b[0mpd\u001b[0m\u001b[0;34m.\u001b[0m\u001b[0mread_csv\u001b[0m\u001b[0;34m(\u001b[0m\u001b[0mgencode_file\u001b[0m\u001b[0;34m,\u001b[0m\u001b[0mindex_col\u001b[0m\u001b[0;34m=\u001b[0m\u001b[0;36m0\u001b[0m\u001b[0;34m)\u001b[0m\u001b[0;34m\u001b[0m\u001b[0;34m\u001b[0m\u001b[0m\n\u001b[0m\u001b[1;32m      3\u001b[0m \u001b[0mgencode_df\u001b[0m\u001b[0;34m.\u001b[0m\u001b[0mcolumns\u001b[0m \u001b[0;34m=\u001b[0m \u001b[0;34m[\u001b[0m\u001b[0;34m'chr'\u001b[0m\u001b[0;34m,\u001b[0m \u001b[0;34m'start'\u001b[0m\u001b[0;34m,\u001b[0m \u001b[0;34m'end'\u001b[0m\u001b[0;34m,\u001b[0m \u001b[0;34m'width'\u001b[0m\u001b[0;34m,\u001b[0m \u001b[0;34m'strand'\u001b[0m\u001b[0;34m,\u001b[0m \u001b[0;34m'gene'\u001b[0m\u001b[0;34m]\u001b[0m\u001b[0;34m\u001b[0m\u001b[0;34m\u001b[0m\u001b[0m\n\u001b[1;32m      4\u001b[0m \u001b[0mgencode_df\u001b[0m\u001b[0;34m[\u001b[0m\u001b[0;34m'chr'\u001b[0m\u001b[0;34m]\u001b[0m \u001b[0;34m=\u001b[0m \u001b[0;34m'chr'\u001b[0m \u001b[0;34m+\u001b[0m \u001b[0mgencode_df\u001b[0m\u001b[0;34m[\u001b[0m\u001b[0;34m'chr'\u001b[0m\u001b[0;34m]\u001b[0m\u001b[0;34m.\u001b[0m\u001b[0mastype\u001b[0m\u001b[0;34m(\u001b[0m\u001b[0mstr\u001b[0m\u001b[0;34m)\u001b[0m\u001b[0;34m\u001b[0m\u001b[0;34m\u001b[0m\u001b[0m\n\u001b[1;32m      5\u001b[0m \u001b[0mgencode_df\u001b[0m\u001b[0;34m[\u001b[0m\u001b[0;34m:\u001b[0m\u001b[0;36m5\u001b[0m\u001b[0;34m]\u001b[0m\u001b[0;34m\u001b[0m\u001b[0;34m\u001b[0m\u001b[0m\n",
      "\u001b[0;32m~/opt/anaconda3/lib/python3.7/site-packages/pandas/io/parsers.py\u001b[0m in \u001b[0;36mparser_f\u001b[0;34m(filepath_or_buffer, sep, delimiter, header, names, index_col, usecols, squeeze, prefix, mangle_dupe_cols, dtype, engine, converters, true_values, false_values, skipinitialspace, skiprows, skipfooter, nrows, na_values, keep_default_na, na_filter, verbose, skip_blank_lines, parse_dates, infer_datetime_format, keep_date_col, date_parser, dayfirst, cache_dates, iterator, chunksize, compression, thousands, decimal, lineterminator, quotechar, quoting, doublequote, escapechar, comment, encoding, dialect, error_bad_lines, warn_bad_lines, delim_whitespace, low_memory, memory_map, float_precision)\u001b[0m\n\u001b[1;32m    683\u001b[0m         )\n\u001b[1;32m    684\u001b[0m \u001b[0;34m\u001b[0m\u001b[0m\n\u001b[0;32m--> 685\u001b[0;31m         \u001b[0;32mreturn\u001b[0m \u001b[0m_read\u001b[0m\u001b[0;34m(\u001b[0m\u001b[0mfilepath_or_buffer\u001b[0m\u001b[0;34m,\u001b[0m \u001b[0mkwds\u001b[0m\u001b[0;34m)\u001b[0m\u001b[0;34m\u001b[0m\u001b[0;34m\u001b[0m\u001b[0m\n\u001b[0m\u001b[1;32m    686\u001b[0m \u001b[0;34m\u001b[0m\u001b[0m\n\u001b[1;32m    687\u001b[0m     \u001b[0mparser_f\u001b[0m\u001b[0;34m.\u001b[0m\u001b[0m__name__\u001b[0m \u001b[0;34m=\u001b[0m \u001b[0mname\u001b[0m\u001b[0;34m\u001b[0m\u001b[0;34m\u001b[0m\u001b[0m\n",
      "\u001b[0;32m~/opt/anaconda3/lib/python3.7/site-packages/pandas/io/parsers.py\u001b[0m in \u001b[0;36m_read\u001b[0;34m(filepath_or_buffer, kwds)\u001b[0m\n\u001b[1;32m    455\u001b[0m \u001b[0;34m\u001b[0m\u001b[0m\n\u001b[1;32m    456\u001b[0m     \u001b[0;31m# Create the parser.\u001b[0m\u001b[0;34m\u001b[0m\u001b[0;34m\u001b[0m\u001b[0;34m\u001b[0m\u001b[0m\n\u001b[0;32m--> 457\u001b[0;31m     \u001b[0mparser\u001b[0m \u001b[0;34m=\u001b[0m \u001b[0mTextFileReader\u001b[0m\u001b[0;34m(\u001b[0m\u001b[0mfp_or_buf\u001b[0m\u001b[0;34m,\u001b[0m \u001b[0;34m**\u001b[0m\u001b[0mkwds\u001b[0m\u001b[0;34m)\u001b[0m\u001b[0;34m\u001b[0m\u001b[0;34m\u001b[0m\u001b[0m\n\u001b[0m\u001b[1;32m    458\u001b[0m \u001b[0;34m\u001b[0m\u001b[0m\n\u001b[1;32m    459\u001b[0m     \u001b[0;32mif\u001b[0m \u001b[0mchunksize\u001b[0m \u001b[0;32mor\u001b[0m \u001b[0miterator\u001b[0m\u001b[0;34m:\u001b[0m\u001b[0;34m\u001b[0m\u001b[0;34m\u001b[0m\u001b[0m\n",
      "\u001b[0;32m~/opt/anaconda3/lib/python3.7/site-packages/pandas/io/parsers.py\u001b[0m in \u001b[0;36m__init__\u001b[0;34m(self, f, engine, **kwds)\u001b[0m\n\u001b[1;32m    893\u001b[0m             \u001b[0mself\u001b[0m\u001b[0;34m.\u001b[0m\u001b[0moptions\u001b[0m\u001b[0;34m[\u001b[0m\u001b[0;34m\"has_index_names\"\u001b[0m\u001b[0;34m]\u001b[0m \u001b[0;34m=\u001b[0m \u001b[0mkwds\u001b[0m\u001b[0;34m[\u001b[0m\u001b[0;34m\"has_index_names\"\u001b[0m\u001b[0;34m]\u001b[0m\u001b[0;34m\u001b[0m\u001b[0;34m\u001b[0m\u001b[0m\n\u001b[1;32m    894\u001b[0m \u001b[0;34m\u001b[0m\u001b[0m\n\u001b[0;32m--> 895\u001b[0;31m         \u001b[0mself\u001b[0m\u001b[0;34m.\u001b[0m\u001b[0m_make_engine\u001b[0m\u001b[0;34m(\u001b[0m\u001b[0mself\u001b[0m\u001b[0;34m.\u001b[0m\u001b[0mengine\u001b[0m\u001b[0;34m)\u001b[0m\u001b[0;34m\u001b[0m\u001b[0;34m\u001b[0m\u001b[0m\n\u001b[0m\u001b[1;32m    896\u001b[0m \u001b[0;34m\u001b[0m\u001b[0m\n\u001b[1;32m    897\u001b[0m     \u001b[0;32mdef\u001b[0m \u001b[0mclose\u001b[0m\u001b[0;34m(\u001b[0m\u001b[0mself\u001b[0m\u001b[0;34m)\u001b[0m\u001b[0;34m:\u001b[0m\u001b[0;34m\u001b[0m\u001b[0;34m\u001b[0m\u001b[0m\n",
      "\u001b[0;32m~/opt/anaconda3/lib/python3.7/site-packages/pandas/io/parsers.py\u001b[0m in \u001b[0;36m_make_engine\u001b[0;34m(self, engine)\u001b[0m\n\u001b[1;32m   1133\u001b[0m     \u001b[0;32mdef\u001b[0m \u001b[0m_make_engine\u001b[0m\u001b[0;34m(\u001b[0m\u001b[0mself\u001b[0m\u001b[0;34m,\u001b[0m \u001b[0mengine\u001b[0m\u001b[0;34m=\u001b[0m\u001b[0;34m\"c\"\u001b[0m\u001b[0;34m)\u001b[0m\u001b[0;34m:\u001b[0m\u001b[0;34m\u001b[0m\u001b[0;34m\u001b[0m\u001b[0m\n\u001b[1;32m   1134\u001b[0m         \u001b[0;32mif\u001b[0m \u001b[0mengine\u001b[0m \u001b[0;34m==\u001b[0m \u001b[0;34m\"c\"\u001b[0m\u001b[0;34m:\u001b[0m\u001b[0;34m\u001b[0m\u001b[0;34m\u001b[0m\u001b[0m\n\u001b[0;32m-> 1135\u001b[0;31m             \u001b[0mself\u001b[0m\u001b[0;34m.\u001b[0m\u001b[0m_engine\u001b[0m \u001b[0;34m=\u001b[0m \u001b[0mCParserWrapper\u001b[0m\u001b[0;34m(\u001b[0m\u001b[0mself\u001b[0m\u001b[0;34m.\u001b[0m\u001b[0mf\u001b[0m\u001b[0;34m,\u001b[0m \u001b[0;34m**\u001b[0m\u001b[0mself\u001b[0m\u001b[0;34m.\u001b[0m\u001b[0moptions\u001b[0m\u001b[0;34m)\u001b[0m\u001b[0;34m\u001b[0m\u001b[0;34m\u001b[0m\u001b[0m\n\u001b[0m\u001b[1;32m   1136\u001b[0m         \u001b[0;32melse\u001b[0m\u001b[0;34m:\u001b[0m\u001b[0;34m\u001b[0m\u001b[0;34m\u001b[0m\u001b[0m\n\u001b[1;32m   1137\u001b[0m             \u001b[0;32mif\u001b[0m \u001b[0mengine\u001b[0m \u001b[0;34m==\u001b[0m \u001b[0;34m\"python\"\u001b[0m\u001b[0;34m:\u001b[0m\u001b[0;34m\u001b[0m\u001b[0;34m\u001b[0m\u001b[0m\n",
      "\u001b[0;32m~/opt/anaconda3/lib/python3.7/site-packages/pandas/io/parsers.py\u001b[0m in \u001b[0;36m__init__\u001b[0;34m(self, src, **kwds)\u001b[0m\n\u001b[1;32m   1915\u001b[0m         \u001b[0mkwds\u001b[0m\u001b[0;34m[\u001b[0m\u001b[0;34m\"usecols\"\u001b[0m\u001b[0;34m]\u001b[0m \u001b[0;34m=\u001b[0m \u001b[0mself\u001b[0m\u001b[0;34m.\u001b[0m\u001b[0musecols\u001b[0m\u001b[0;34m\u001b[0m\u001b[0;34m\u001b[0m\u001b[0m\n\u001b[1;32m   1916\u001b[0m \u001b[0;34m\u001b[0m\u001b[0m\n\u001b[0;32m-> 1917\u001b[0;31m         \u001b[0mself\u001b[0m\u001b[0;34m.\u001b[0m\u001b[0m_reader\u001b[0m \u001b[0;34m=\u001b[0m \u001b[0mparsers\u001b[0m\u001b[0;34m.\u001b[0m\u001b[0mTextReader\u001b[0m\u001b[0;34m(\u001b[0m\u001b[0msrc\u001b[0m\u001b[0;34m,\u001b[0m \u001b[0;34m**\u001b[0m\u001b[0mkwds\u001b[0m\u001b[0;34m)\u001b[0m\u001b[0;34m\u001b[0m\u001b[0;34m\u001b[0m\u001b[0m\n\u001b[0m\u001b[1;32m   1918\u001b[0m         \u001b[0mself\u001b[0m\u001b[0;34m.\u001b[0m\u001b[0munnamed_cols\u001b[0m \u001b[0;34m=\u001b[0m \u001b[0mself\u001b[0m\u001b[0;34m.\u001b[0m\u001b[0m_reader\u001b[0m\u001b[0;34m.\u001b[0m\u001b[0munnamed_cols\u001b[0m\u001b[0;34m\u001b[0m\u001b[0;34m\u001b[0m\u001b[0m\n\u001b[1;32m   1919\u001b[0m \u001b[0;34m\u001b[0m\u001b[0m\n",
      "\u001b[0;32mpandas/_libs/parsers.pyx\u001b[0m in \u001b[0;36mpandas._libs.parsers.TextReader.__cinit__\u001b[0;34m()\u001b[0m\n",
      "\u001b[0;32mpandas/_libs/parsers.pyx\u001b[0m in \u001b[0;36mpandas._libs.parsers.TextReader._setup_parser_source\u001b[0;34m()\u001b[0m\n",
      "\u001b[0;31mFileNotFoundError\u001b[0m: [Errno 2] File b'../data/external/gene_annon_ALL.csv' does not exist: b'../data/external/gene_annon_ALL.csv'"
     ]
    }
   ],
   "source": [
    "# make gencode list\n",
    "# gencode_df = pd.read_csv(gencode_file,index_col=0)\n",
    "# gencode_df.columns = ['chr', 'start', 'end', 'width', 'strand', 'gene']\n",
    "# gencode_df['chr'] = 'chr' + gencode_df['chr'].astype(str)\n",
    "# gencode_df[:5]"
   ]
  },
  {
   "cell_type": "code",
   "execution_count": null,
   "metadata": {},
   "outputs": [],
   "source": []
  },
  {
   "cell_type": "code",
   "execution_count": 152,
   "metadata": {},
   "outputs": [
    {
     "data": {
      "text/html": [
       "<div>\n",
       "<style scoped>\n",
       "    .dataframe tbody tr th:only-of-type {\n",
       "        vertical-align: middle;\n",
       "    }\n",
       "\n",
       "    .dataframe tbody tr th {\n",
       "        vertical-align: top;\n",
       "    }\n",
       "\n",
       "    .dataframe thead th {\n",
       "        text-align: right;\n",
       "    }\n",
       "</style>\n",
       "<table border=\"1\" class=\"dataframe\">\n",
       "  <thead>\n",
       "    <tr style=\"text-align: right;\">\n",
       "      <th></th>\n",
       "      <th>chr</th>\n",
       "      <th>start</th>\n",
       "      <th>end</th>\n",
       "      <th>width</th>\n",
       "      <th>strand</th>\n",
       "      <th>TSS</th>\n",
       "    </tr>\n",
       "  </thead>\n",
       "  <tbody>\n",
       "    <tr>\n",
       "      <td>0</td>\n",
       "      <td>chr1</td>\n",
       "      <td>1846266</td>\n",
       "      <td>1846266</td>\n",
       "      <td>1</td>\n",
       "      <td>*</td>\n",
       "      <td>CALML6</td>\n",
       "    </tr>\n",
       "    <tr>\n",
       "      <td>1</td>\n",
       "      <td>chr1</td>\n",
       "      <td>231376933</td>\n",
       "      <td>231376933</td>\n",
       "      <td>1</td>\n",
       "      <td>*</td>\n",
       "      <td>C1orf131</td>\n",
       "    </tr>\n",
       "    <tr>\n",
       "      <td>2</td>\n",
       "      <td>chr1</td>\n",
       "      <td>241683061</td>\n",
       "      <td>241683061</td>\n",
       "      <td>1</td>\n",
       "      <td>*</td>\n",
       "      <td>FH</td>\n",
       "    </tr>\n",
       "    <tr>\n",
       "      <td>3</td>\n",
       "      <td>chr1</td>\n",
       "      <td>120202421</td>\n",
       "      <td>120202421</td>\n",
       "      <td>1</td>\n",
       "      <td>*</td>\n",
       "      <td>PHGDH</td>\n",
       "    </tr>\n",
       "    <tr>\n",
       "      <td>4</td>\n",
       "      <td>chr1</td>\n",
       "      <td>204135465</td>\n",
       "      <td>204135465</td>\n",
       "      <td>1</td>\n",
       "      <td>*</td>\n",
       "      <td>REN</td>\n",
       "    </tr>\n",
       "  </tbody>\n",
       "</table>\n",
       "</div>"
      ],
      "text/plain": [
       "    chr      start        end  width strand       TSS\n",
       "0  chr1    1846266    1846266      1      *    CALML6\n",
       "1  chr1  231376933  231376933      1      *  C1orf131\n",
       "2  chr1  241683061  241683061      1      *        FH\n",
       "3  chr1  120202421  120202421      1      *     PHGDH\n",
       "4  chr1  204135465  204135465      1      *       REN"
      ]
     },
     "execution_count": 152,
     "metadata": {},
     "output_type": "execute_result"
    }
   ],
   "source": [
    "# make tss list\n",
    "tss_df = pd.read_csv(tss_file,index_col=0)\n",
    "tss_df.columns = ['chr', 'start', 'end', 'width', 'strand', 'TSS']\n",
    "tss_df['chr'] = 'chr' + tss_df['chr'].astype(str)\n",
    "tss_df.sort_values('chr',inplace=True)\n",
    "tss_df.reset_index(drop=True,inplace=True)\n",
    "tss_df[:5]"
   ]
  },
  {
   "cell_type": "code",
   "execution_count": 153,
   "metadata": {},
   "outputs": [
    {
     "name": "stdout",
     "output_type": "stream",
     "text": [
      "(20178, 1)\n",
      "(69,)\n"
     ]
    },
    {
     "data": {
      "text/plain": [
       "Index(['ACE', 'ALG9', 'ANKRD18A', 'CCDC177', 'CDRT1', 'CELF6', 'CHTF8',\n",
       "       'CKS1B', 'CLN3', 'CRIP1', 'CRYBG3', 'DEFB130', 'FAM47E-STBD1', 'GALT',\n",
       "       'GOLGA7B', 'HOXC4', 'IER3IP1', 'ITFG3', 'ITGB3', 'KBTBD4', 'KIAA0391',\n",
       "       'KLK9', 'KRBOX1', 'KRT222', 'LCN6', 'LIMS3', 'LSP1', 'LTB4R2', 'MDGA2',\n",
       "       'MFRP', 'MRPL30', 'MRPS17', 'MUC3A', 'NAA60', 'NDUFA7', 'NDUFB8',\n",
       "       'NPIPA7', 'OC90', 'PAGR1', 'PIK3R2', 'POLR2J2', 'PSMA1', 'PSMA2',\n",
       "       'RBL1', 'RNASE11', 'RPP14', 'SDHD', 'SEPT1', 'SHPK', 'SIGLEC5',\n",
       "       'SLC25A10', 'SNURF', 'SOGA3', 'TAP2', 'TIMM10B', 'TLR9', 'TM4SF19',\n",
       "       'TMBIM4', 'TMEM236', 'TUBB3', 'UGT2A1', 'UQCR11', 'ZFP41', 'ZNF223',\n",
       "       'ZNF286A', 'ZNF668', 'ZNF709', 'ZNF747', 'ZNF8'],\n",
       "      dtype='object', name='TSS')"
      ]
     },
     "execution_count": 153,
     "metadata": {},
     "output_type": "execute_result"
    }
   ],
   "source": [
    "check_tss_unique = pd.DataFrame(tss_df.groupby(\"TSS\")['end'].nunique())\n",
    "print(check_tss_unique.shape)\n",
    "print(check_tss_unique[check_tss_unique.end>1].index.shape)\n",
    "check_tss_unique[check_tss_unique.end>1].index.sort_values()"
   ]
  },
  {
   "cell_type": "markdown",
   "metadata": {},
   "source": [
    " note that there are 69 of 20178 unique TSS symbols that have two TSS locations, there is some discrepancy as to where those TSS's actually are located so we'll just use both and not this for future reference"
   ]
  },
  {
   "cell_type": "code",
   "execution_count": 209,
   "metadata": {},
   "outputs": [],
   "source": [
    "PROMOTER_LEN_UPSTREAM=2000\n",
    "PROMOTER_LEN_DOWNSTREAM=500"
   ]
  },
  {
   "cell_type": "code",
   "execution_count": 210,
   "metadata": {},
   "outputs": [],
   "source": [
    "promoter_df = tss_df\n",
    "promoter_df['start_n']= promoter_df['start'].map(int) - PROMOTER_LEN_UPSTREAM\n",
    "promoter_df['end_n']= promoter_df.end + PROMOTER_LEN_DOWNSTREAM\n",
    "promoter_df = promoter_df[['chr','start_n','end_n','TSS']]"
   ]
  },
  {
   "cell_type": "code",
   "execution_count": 211,
   "metadata": {},
   "outputs": [
    {
     "data": {
      "text/html": [
       "<div>\n",
       "<style scoped>\n",
       "    .dataframe tbody tr th:only-of-type {\n",
       "        vertical-align: middle;\n",
       "    }\n",
       "\n",
       "    .dataframe tbody tr th {\n",
       "        vertical-align: top;\n",
       "    }\n",
       "\n",
       "    .dataframe thead th {\n",
       "        text-align: right;\n",
       "    }\n",
       "</style>\n",
       "<table border=\"1\" class=\"dataframe\">\n",
       "  <thead>\n",
       "    <tr style=\"text-align: right;\">\n",
       "      <th></th>\n",
       "      <th>chr</th>\n",
       "      <th>start_n</th>\n",
       "      <th>end_n</th>\n",
       "      <th>TSS</th>\n",
       "    </tr>\n",
       "  </thead>\n",
       "  <tbody>\n",
       "    <tr>\n",
       "      <td>0</td>\n",
       "      <td>chr1</td>\n",
       "      <td>1834266</td>\n",
       "      <td>1836766</td>\n",
       "      <td>CALML6</td>\n",
       "    </tr>\n",
       "    <tr>\n",
       "      <td>1</td>\n",
       "      <td>chr1</td>\n",
       "      <td>231364933</td>\n",
       "      <td>231367433</td>\n",
       "      <td>C1orf131</td>\n",
       "    </tr>\n",
       "    <tr>\n",
       "      <td>2</td>\n",
       "      <td>chr1</td>\n",
       "      <td>241671061</td>\n",
       "      <td>241673561</td>\n",
       "      <td>FH</td>\n",
       "    </tr>\n",
       "    <tr>\n",
       "      <td>3</td>\n",
       "      <td>chr1</td>\n",
       "      <td>120190421</td>\n",
       "      <td>120192921</td>\n",
       "      <td>PHGDH</td>\n",
       "    </tr>\n",
       "    <tr>\n",
       "      <td>4</td>\n",
       "      <td>chr1</td>\n",
       "      <td>204123465</td>\n",
       "      <td>204125965</td>\n",
       "      <td>REN</td>\n",
       "    </tr>\n",
       "  </tbody>\n",
       "</table>\n",
       "</div>"
      ],
      "text/plain": [
       "    chr    start_n      end_n       TSS\n",
       "0  chr1    1834266    1836766    CALML6\n",
       "1  chr1  231364933  231367433  C1orf131\n",
       "2  chr1  241671061  241673561        FH\n",
       "3  chr1  120190421  120192921     PHGDH\n",
       "4  chr1  204123465  204125965       REN"
      ]
     },
     "execution_count": 211,
     "metadata": {},
     "output_type": "execute_result"
    }
   ],
   "source": [
    "promoter_df[:5]"
   ]
  },
  {
   "cell_type": "code",
   "execution_count": 212,
   "metadata": {},
   "outputs": [],
   "source": [
    "promoter_df.to_csv('promoter_hg19_{}_{}.bed'.format(PROMOTER_LEN_UPSTREAM,PROMOTER_LEN_DOWNSTREAM),\n",
    "                   header=None,index=None,sep='\\t')\n",
    "                   "
   ]
  },
  {
   "cell_type": "code",
   "execution_count": 213,
   "metadata": {},
   "outputs": [],
   "source": [
    "# cmd = \"bedtools sort -i promoter_hg19_5000_5000.bed\"\n",
    "# cmd_arr = cmd.split(' ')\n",
    "# print(cmd_arr)\n",
    "# with open(\"promoter_hg19_2500_500_sort.bed\", \"w\") as file:\n",
    "#     subprocess.run(cmd_arr, shell=True, check=True, stdout=file)"
   ]
  },
  {
   "cell_type": "code",
   "execution_count": 214,
   "metadata": {},
   "outputs": [
    {
     "data": {
      "text/plain": [
       "<BedTool(promoter_hg19_2000_500_sort.bed)>"
      ]
     },
     "execution_count": 214,
     "metadata": {},
     "output_type": "execute_result"
    }
   ],
   "source": [
    "promoter = pybedtools.BedTool('promoter_hg19_{}_{}.bed'.format(PROMOTER_LEN_UPSTREAM,PROMOTER_LEN_DOWNSTREAM))\n",
    "\n",
    "promoter.sort().saveas('promoter_hg19_{}_{}_sort.bed'.format(PROMOTER_LEN_UPSTREAM,PROMOTER_LEN_DOWNSTREAM))\n",
    "\n"
   ]
  },
  {
   "cell_type": "markdown",
   "metadata": {},
   "source": [
    "# fix tf annotation file"
   ]
  },
  {
   "cell_type": "code",
   "execution_count": 47,
   "metadata": {},
   "outputs": [],
   "source": [
    "rna_tpm_file = '../rnaseq/tissue_tpm_sym.csv'\n",
    "rna_df = pd.read_csv(rna_tpm_file, index_col=0,header=0)\n",
    "rna_df.index = [x.upper() for x in rna_df.index.values]\n",
    "def get_exp(rna_df, sym, tissue,verbose=True):\n",
    "    try:\n",
    "        return rna_df.loc[sym,tissue]\n",
    "    except KeyError:\n",
    "        if verbose:\n",
    "            print(sym, 'not found')\n",
    "        return 0\n"
   ]
  },
  {
   "cell_type": "code",
   "execution_count": 72,
   "metadata": {},
   "outputs": [],
   "source": [
    "hoco_annon_file = 'HOCOMOCOv11_core_annotation_HUMAN_mono.tsv'\n",
    "hoco_annon = pd.read_table(hoco_annon_file,header=0)\n",
    "# hoco_annon[['motif_abbr','motif_info']]=hoco_annon['Model'].str.split(\"_\",expand=True)\n",
    "hoco_id_to_tf = pd.Series(hoco_annon['Transcription factor'].values, index=hoco_annon.Model.values).to_dict()\n",
    "# hoco_df = pd.read_table(hoco_annon_file, index_col=None, \n",
    "#                             names=['anchor_chr', 'anchor_start', 'anchor_end', \n",
    "#                                     'foot_chr', 'foot_start', 'foot_end', 'motif', 'score', 'strand'])\n",
    "# hoco_df['transcription_factor'] = hoco_df['motif'].map(hoco_motif_to_tf)"
   ]
  },
  {
   "cell_type": "code",
   "execution_count": 73,
   "metadata": {},
   "outputs": [
    {
     "name": "stdout",
     "output_type": "stream",
     "text": [
      "T not found\n",
      "BRAC_HUMAN.H11MO.0.A T\n",
      "HNF1B not found\n",
      "HNF1B_HUMAN.H11MO.0.A HNF1B\n",
      "MEF2B not found\n",
      "MEF2B_HUMAN.H11MO.0.A MEF2B\n",
      "NR2E3 not found\n",
      "NR2E3_HUMAN.H11MO.0.C NR2E3\n",
      "ZNF8 not found\n",
      "ZNF8_HUMAN.H11MO.0.C ZNF8\n"
     ]
    }
   ],
   "source": [
    "# check to see if the rna expression for these tfs is in the table\n",
    "for motif, tf in hoco_id_to_tf.items():\n",
    "    exp = get_exp(rna_df, tf, 'GDSD0')\n",
    "    if type(exp)==int:\n",
    "        print(motif, tf)\n",
    "        "
   ]
  },
  {
   "cell_type": "code",
   "execution_count": 74,
   "metadata": {},
   "outputs": [
    {
     "data": {
      "text/plain": [
       "401"
      ]
     },
     "execution_count": 74,
     "metadata": {},
     "output_type": "execute_result"
    }
   ],
   "source": [
    "len(hoco_motif_to_tf)\n",
    "401"
   ]
  },
  {
   "cell_type": "markdown",
   "metadata": {},
   "source": [
    "So of the 401 human Transcription factors in HOCOMOCO,5 are not found in RNA_df by direct lookup, By manual search we find the following mappings\n",
    "\n",
    "-  BRAC_HUMAN.H11MO.0.A, T --> TBXT\n",
    "- HNF1B_HUMAN.H11MO.0.A --> n/a\n",
    "- MEF2B_HUMAN.H11MO.0.A --> n/a\n",
    "- NR2E3_HUMAN.H11MO.0.C --> n/a\n",
    "- ZNF8_HUMAN.H11MO.0.C --> ZNF8-ERVK3-1"
   ]
  },
  {
   "cell_type": "code",
   "execution_count": 75,
   "metadata": {},
   "outputs": [
    {
     "name": "stdout",
     "output_type": "stream",
     "text": [
      "HNF1B not found\n",
      "HNF1B_HUMAN.H11MO.0.A HNF1B\n",
      "MEF2B not found\n",
      "MEF2B_HUMAN.H11MO.0.A MEF2B\n",
      "NR2E3 not found\n",
      "NR2E3_HUMAN.H11MO.0.C NR2E3\n"
     ]
    }
   ],
   "source": [
    "# manual correction of mapping dict\n",
    "hoco_id_to_tf['BRAC_HUMAN.H11MO.0.A'] = 'TBXT'\n",
    "hoco_id_to_tf['ZNF8_HUMAN.H11MO.0.C'] = 'ZNF8-ERVK3-1'\n",
    "for motif, tf in hoco_id_to_tf.items():\n",
    "    exp = get_exp(rna_df, tf, 'GDSD0')\n",
    "    if type(exp)==int:\n",
    "        print(motif, tf)\n",
    "        "
   ]
  },
  {
   "cell_type": "code",
   "execution_count": 76,
   "metadata": {},
   "outputs": [],
   "source": [
    "hoco_id_to_tf = pd.DataFrame(pd.Series(hoco_id_to_tf).reset_index())\n",
    "hoco_id_to_tf.columns=['id','tf']\n"
   ]
  },
  {
   "cell_type": "code",
   "execution_count": 78,
   "metadata": {},
   "outputs": [
    {
     "data": {
      "text/html": [
       "<div>\n",
       "<style scoped>\n",
       "    .dataframe tbody tr th:only-of-type {\n",
       "        vertical-align: middle;\n",
       "    }\n",
       "\n",
       "    .dataframe tbody tr th {\n",
       "        vertical-align: top;\n",
       "    }\n",
       "\n",
       "    .dataframe thead th {\n",
       "        text-align: right;\n",
       "    }\n",
       "</style>\n",
       "<table border=\"1\" class=\"dataframe\">\n",
       "  <thead>\n",
       "    <tr style=\"text-align: right;\">\n",
       "      <th></th>\n",
       "      <th>id</th>\n",
       "      <th>tf</th>\n",
       "    </tr>\n",
       "  </thead>\n",
       "  <tbody>\n",
       "    <tr>\n",
       "      <td>0</td>\n",
       "      <td>AHR_HUMAN.H11MO.0.B</td>\n",
       "      <td>AHR</td>\n",
       "    </tr>\n",
       "    <tr>\n",
       "      <td>1</td>\n",
       "      <td>AIRE_HUMAN.H11MO.0.C</td>\n",
       "      <td>AIRE</td>\n",
       "    </tr>\n",
       "    <tr>\n",
       "      <td>2</td>\n",
       "      <td>ALX1_HUMAN.H11MO.0.B</td>\n",
       "      <td>ALX1</td>\n",
       "    </tr>\n",
       "    <tr>\n",
       "      <td>3</td>\n",
       "      <td>ANDR_HUMAN.H11MO.0.A</td>\n",
       "      <td>AR</td>\n",
       "    </tr>\n",
       "    <tr>\n",
       "      <td>4</td>\n",
       "      <td>AP2A_HUMAN.H11MO.0.A</td>\n",
       "      <td>TFAP2A</td>\n",
       "    </tr>\n",
       "  </tbody>\n",
       "</table>\n",
       "</div>"
      ],
      "text/plain": [
       "                     id      tf\n",
       "0   AHR_HUMAN.H11MO.0.B     AHR\n",
       "1  AIRE_HUMAN.H11MO.0.C    AIRE\n",
       "2  ALX1_HUMAN.H11MO.0.B    ALX1\n",
       "3  ANDR_HUMAN.H11MO.0.A      AR\n",
       "4  AP2A_HUMAN.H11MO.0.A  TFAP2A"
      ]
     },
     "execution_count": 78,
     "metadata": {},
     "output_type": "execute_result"
    }
   ],
   "source": [
    "hoco_id_to_tf[:5]"
   ]
  },
  {
   "cell_type": "code",
   "execution_count": 79,
   "metadata": {},
   "outputs": [],
   "source": [
    "hoco_id_to_tf.to_csv('HOCOMOCOv11_annotation.csv')"
   ]
  },
  {
   "cell_type": "code",
   "execution_count": null,
   "metadata": {},
   "outputs": [],
   "source": []
  }
 ],
 "metadata": {
  "kernelspec": {
   "display_name": "Python 3",
   "language": "python",
   "name": "python3"
  },
  "language_info": {
   "codemirror_mode": {
    "name": "ipython",
    "version": 3
   },
   "file_extension": ".py",
   "mimetype": "text/x-python",
   "name": "python",
   "nbconvert_exporter": "python",
   "pygments_lexer": "ipython3",
   "version": "3.7.4"
  }
 },
 "nbformat": 4,
 "nbformat_minor": 4
}
