{
 "cells": [
  {
   "cell_type": "markdown",
   "metadata": {},
   "source": [
    "04/20/2020\n",
    "\n",
    "need to annotate all anchors and all 2kb promoter regions\n",
    "\n",
    "\n",
    "make files in processed/annon\n"
   ]
  },
  {
   "cell_type": "code",
   "execution_count": 2,
   "metadata": {},
   "outputs": [],
   "source": [
    "import os,glob\n",
    "import pybedtools\n",
    "import pandas as pd\n",
    "from collections import Counter,defaultdict"
   ]
  },
  {
   "cell_type": "code",
   "execution_count": null,
   "metadata": {},
   "outputs": [],
   "source": []
  },
  {
   "cell_type": "code",
   "execution_count": 3,
   "metadata": {},
   "outputs": [],
   "source": [
    "test = pybedtools.BedTool('../data/external/promoter_hg19_2000_0_sort.bed')\n"
   ]
  },
  {
   "cell_type": "code",
   "execution_count": 31,
   "metadata": {},
   "outputs": [],
   "source": [
    "anchor = pybedtools.BedTool('../data/interim/merged/anchors_bed_sort/GDSD0_sort.bed')\n"
   ]
  },
  {
   "cell_type": "code",
   "execution_count": 6,
   "metadata": {},
   "outputs": [],
   "source": [
    "footprint = pybedtools.BedTool('../data/interim/merged/footprinting/GDSD0_merged.bed')"
   ]
  },
  {
   "cell_type": "code",
   "execution_count": 17,
   "metadata": {},
   "outputs": [],
   "source": [
    "atac = pybedtools.BedTool('../data/interim/merged/atac/GDSD0_merged.bed')"
   ]
  },
  {
   "cell_type": "code",
   "execution_count": 33,
   "metadata": {},
   "outputs": [
    {
     "name": "stdout",
     "output_type": "stream",
     "text": [
      "chr1\t899877\t901877\tPLEKHN1\tchr1\t900000\t905000\tchr1_900000_905000\n",
      " chr1\t915497\t917497\tC1orf170\tchr1\t915000\t920000\tchr1_915000_920000\n",
      " chr1\t933552\t935552\tHES4\tchr1\t935000\t940000\tchr1_935000_940000\n",
      " chr1\t946803\t948803\tISG15\tchr1\t945000\t950000\tchr1_945000_950000\n",
      " chr1\t953503\t955503\tAGRN\tchr1\t955000\t960000\tchr1_955000_960000\n",
      " chr1\t1049741\t1051741\tC1orf159\tchr1\t1045000\t1050000\tchr1_1045000_1050000\n",
      " chr1\t1207265\t1209265\tUBE2J2\tchr1\t1205000\t1210000\tchr1_1205000_1210000\n",
      " chr1\t1241947\t1243947\tPUSL1\tchr1\t1240000\t1245000\tchr1_1240000_1245000\n",
      " chr1\t1242989\t1244989\tACAP3\tchr1\t1240000\t1245000\tchr1_1240000_1245000\n",
      " chr1\t1308875\t1310875\tAURKAIP1\tchr1\t1310000\t1315000\tchr1_1310000_1315000\n",
      " "
     ]
    }
   ],
   "source": [
    "test_anchor = test.intersect(anchor, wa=True, wb=True, sorted=True, names='anchor')\n",
    "test_anchor.head()"
   ]
  },
  {
   "cell_type": "code",
   "execution_count": 35,
   "metadata": {},
   "outputs": [
    {
     "name": "stdout",
     "output_type": "stream",
     "text": [
      "chr1\t858260\t860260\tSAMD11\tchr1\t859065\t859355\n",
      " chr1\t858260\t860260\tSAMD11\tchr1\t859065\t859355\n",
      " chr1\t892689\t894689\tNOC2L\tchr1\t894393\t894868\n",
      " chr1\t892689\t894689\tNOC2L\tchr1\t894393\t894868\n",
      " chr1\t892689\t894689\tNOC2L\tchr1\t894393\t894868\n",
      " chr1\t893967\t895967\tKLHL17\tchr1\t894393\t894868\n",
      " chr1\t893967\t895967\tKLHL17\tchr1\t894393\t894868\n",
      " chr1\t893967\t895967\tKLHL17\tchr1\t894393\t894868\n",
      " chr1\t893967\t895967\tKLHL17\tchr1\t895834\t896065\n",
      " chr1\t893967\t895967\tKLHL17\tchr1\t895834\t896065\n",
      " None\n"
     ]
    }
   ],
   "source": [
    "test_atac = test.intersect(atac, wa=True, wb=True, sorted=True, names='atac')\n",
    "print(test_atac.head())\n"
   ]
  },
  {
   "cell_type": "code",
   "execution_count": 36,
   "metadata": {},
   "outputs": [
    {
     "name": "stdout",
     "output_type": "stream",
     "text": [
      "chr1\t858260\t860260\tSAMD11\tchr1\t859065\t859355\n",
      " chr1\t858260\t860260\tSAMD11\tchr1\t859065\t859355\n",
      " chr1\t892689\t894689\tNOC2L\tchr1\t894393\t894868\n",
      " chr1\t892689\t894689\tNOC2L\tchr1\t894393\t894868\n",
      " chr1\t892689\t894689\tNOC2L\tchr1\t894393\t894868\n",
      " chr1\t893967\t895967\tKLHL17\tchr1\t894393\t894868\n",
      " chr1\t893967\t895967\tKLHL17\tchr1\t894393\t894868\n",
      " chr1\t893967\t895967\tKLHL17\tchr1\t894393\t894868\n",
      " chr1\t893967\t895967\tKLHL17\tchr1\t895834\t896065\n",
      " chr1\t893967\t895967\tKLHL17\tchr1\t895834\t896065\n",
      " "
     ]
    }
   ],
   "source": [
    "test_atac.head()"
   ]
  },
  {
   "cell_type": "code",
   "execution_count": 203,
   "metadata": {},
   "outputs": [],
   "source": [
    "# test_foot = test.intersect(footprint,wa=True, wb=True, sorted=True, names='footprinting',f=2.5E-6)\n",
    "test_foot = test.intersect(footprint,wo=True, sorted=True, names='footprinting',f=2.5E-6)\n",
    "\n",
    "# test_foot = test_foot.merge(o)"
   ]
  },
  {
   "cell_type": "code",
   "execution_count": 204,
   "metadata": {},
   "outputs": [
    {
     "name": "stdout",
     "output_type": "stream",
     "text": [
      "chr1\t936803\t938803\tISG15\tchr1\t937407\t937424\tZN134_HUMAN.H11MO.1.C\t10.4906703374\t-\t17\n",
      " chr1\t936803\t938803\tISG15\tchr1\t937407\t937419\tVEZF1_HUMAN.H11MO.1.C\t10.990834234\t-\t12\n",
      " chr1\t936803\t938803\tISG15\tchr1\t937408\t937423\tZIC2_MOUSE.H11MO.0.C\t15.1361938044\t+\t15\n",
      " chr1\t936803\t938803\tISG15\tchr1\t937408\t937423\tZIC3_MOUSE.H11MO.0.A\t16.2663948899\t+\t15\n",
      " chr1\t936803\t938803\tISG15\tchr1\t937408\t937423\tZIC2_HUMAN.H11MO.0.D\t14.5972131949\t+\t15\n",
      " chr1\t936803\t938803\tISG15\tchr1\t937408\t937418\tFEV_HUMAN.H11MO.0.B\t10.7016784351\t-\t10\n",
      " chr1\t936803\t938803\tISG15\tchr1\t937408\t937423\tZIC3_HUMAN.H11MO.0.B\t16.2663948899\t+\t15\n",
      " chr1\t936803\t938803\tISG15\tchr1\t937408\t937418\tFEV_MOUSE.H11MO.0.B\t10.7016784351\t-\t10\n",
      " chr1\t936803\t938803\tISG15\tchr1\t937410\t937434\tZN436_HUMAN.H11MO.0.C\t9.20997622916\t-\t24\n",
      " chr1\t936803\t938803\tISG15\tchr1\t937411\t937431\tZN263_HUMAN.H11MO.0.A\t10.4882011972\t-\t20\n",
      " "
     ]
    }
   ],
   "source": [
    "test_foot.head()"
   ]
  },
  {
   "cell_type": "markdown",
   "metadata": {},
   "source": [
    "# testing process_crms"
   ]
  },
  {
   "cell_type": "markdown",
   "metadata": {},
   "source": [
    "## A. for the 2KB region upstream of the TSS"
   ]
  },
  {
   "cell_type": "code",
   "execution_count": 2,
   "metadata": {},
   "outputs": [],
   "source": [
    "THRES=1"
   ]
  },
  {
   "cell_type": "code",
   "execution_count": 3,
   "metadata": {},
   "outputs": [],
   "source": [
    "def get_exp(rna_df, sym, tissue,verbose=True):\n",
    "    try:\n",
    "        return rna_df.loc[sym,tissue]\n",
    "    except KeyError:\n",
    "        if verbose:\n",
    "            print(sym, 'not found')\n",
    "        return 0"
   ]
  },
  {
   "cell_type": "code",
   "execution_count": 13,
   "metadata": {},
   "outputs": [
    {
     "data": {
      "text/html": [
       "<div>\n",
       "<style scoped>\n",
       "    .dataframe tbody tr th:only-of-type {\n",
       "        vertical-align: middle;\n",
       "    }\n",
       "\n",
       "    .dataframe tbody tr th {\n",
       "        vertical-align: top;\n",
       "    }\n",
       "\n",
       "    .dataframe thead th {\n",
       "        text-align: right;\n",
       "    }\n",
       "</style>\n",
       "<table border=\"1\" class=\"dataframe\">\n",
       "  <thead>\n",
       "    <tr style=\"text-align: right;\">\n",
       "      <th></th>\n",
       "      <th>A431-CTRLi</th>\n",
       "      <th>A431-p63i</th>\n",
       "      <th>Airway</th>\n",
       "      <th>Astrocytes</th>\n",
       "      <th>Bladder</th>\n",
       "      <th>CAL27-CTRLi</th>\n",
       "      <th>CAL27-p63i</th>\n",
       "      <th>COLO_SCR_DMSO</th>\n",
       "      <th>COLO_SCR_PLX</th>\n",
       "      <th>COLO_shMITF_DMSO</th>\n",
       "      <th>...</th>\n",
       "      <th>SKMEL5_SCR_DMSO</th>\n",
       "      <th>SKMEL5_SCR_PLX</th>\n",
       "      <th>SKMEL5_shMITF-DMSO</th>\n",
       "      <th>SKMEL5_shMITF_PLX</th>\n",
       "      <th>Thyroid</th>\n",
       "      <th>Uterine</th>\n",
       "      <th>WM_SCR_DMSO</th>\n",
       "      <th>WM_SCR_PLX</th>\n",
       "      <th>WM_shMITF_DMSO</th>\n",
       "      <th>WM_shMITF_PLX</th>\n",
       "    </tr>\n",
       "  </thead>\n",
       "  <tbody>\n",
       "    <tr>\n",
       "      <td>A1BG</td>\n",
       "      <td>3.740</td>\n",
       "      <td>3.965</td>\n",
       "      <td>3.575</td>\n",
       "      <td>18.66</td>\n",
       "      <td>3.31</td>\n",
       "      <td>0.100</td>\n",
       "      <td>0.055</td>\n",
       "      <td>48.420</td>\n",
       "      <td>49.885</td>\n",
       "      <td>42.995</td>\n",
       "      <td>...</td>\n",
       "      <td>55.475</td>\n",
       "      <td>70.930</td>\n",
       "      <td>47.805</td>\n",
       "      <td>83.920</td>\n",
       "      <td>0.390</td>\n",
       "      <td>2.425</td>\n",
       "      <td>92.060</td>\n",
       "      <td>142.880</td>\n",
       "      <td>112.345</td>\n",
       "      <td>145.610</td>\n",
       "    </tr>\n",
       "    <tr>\n",
       "      <td>A1BG-AS1</td>\n",
       "      <td>0.405</td>\n",
       "      <td>0.045</td>\n",
       "      <td>0.055</td>\n",
       "      <td>0.43</td>\n",
       "      <td>0.03</td>\n",
       "      <td>0.165</td>\n",
       "      <td>0.990</td>\n",
       "      <td>0.130</td>\n",
       "      <td>0.120</td>\n",
       "      <td>0.135</td>\n",
       "      <td>...</td>\n",
       "      <td>0.365</td>\n",
       "      <td>0.405</td>\n",
       "      <td>0.280</td>\n",
       "      <td>0.140</td>\n",
       "      <td>0.055</td>\n",
       "      <td>0.030</td>\n",
       "      <td>0.380</td>\n",
       "      <td>0.405</td>\n",
       "      <td>0.325</td>\n",
       "      <td>0.390</td>\n",
       "    </tr>\n",
       "    <tr>\n",
       "      <td>A1CF</td>\n",
       "      <td>0.000</td>\n",
       "      <td>0.000</td>\n",
       "      <td>0.005</td>\n",
       "      <td>0.01</td>\n",
       "      <td>0.01</td>\n",
       "      <td>0.000</td>\n",
       "      <td>0.000</td>\n",
       "      <td>0.000</td>\n",
       "      <td>0.000</td>\n",
       "      <td>0.000</td>\n",
       "      <td>...</td>\n",
       "      <td>0.000</td>\n",
       "      <td>0.000</td>\n",
       "      <td>0.000</td>\n",
       "      <td>0.000</td>\n",
       "      <td>0.000</td>\n",
       "      <td>0.005</td>\n",
       "      <td>0.000</td>\n",
       "      <td>0.000</td>\n",
       "      <td>0.000</td>\n",
       "      <td>0.000</td>\n",
       "    </tr>\n",
       "    <tr>\n",
       "      <td>A2M</td>\n",
       "      <td>0.025</td>\n",
       "      <td>0.060</td>\n",
       "      <td>0.000</td>\n",
       "      <td>50.67</td>\n",
       "      <td>1.10</td>\n",
       "      <td>0.150</td>\n",
       "      <td>0.235</td>\n",
       "      <td>37.565</td>\n",
       "      <td>72.670</td>\n",
       "      <td>37.580</td>\n",
       "      <td>...</td>\n",
       "      <td>64.130</td>\n",
       "      <td>89.220</td>\n",
       "      <td>106.345</td>\n",
       "      <td>193.725</td>\n",
       "      <td>0.105</td>\n",
       "      <td>0.950</td>\n",
       "      <td>54.645</td>\n",
       "      <td>79.480</td>\n",
       "      <td>62.120</td>\n",
       "      <td>68.885</td>\n",
       "    </tr>\n",
       "    <tr>\n",
       "      <td>A2M-AS1</td>\n",
       "      <td>0.000</td>\n",
       "      <td>0.005</td>\n",
       "      <td>0.025</td>\n",
       "      <td>0.07</td>\n",
       "      <td>0.00</td>\n",
       "      <td>0.010</td>\n",
       "      <td>0.000</td>\n",
       "      <td>0.010</td>\n",
       "      <td>0.080</td>\n",
       "      <td>0.025</td>\n",
       "      <td>...</td>\n",
       "      <td>0.055</td>\n",
       "      <td>0.030</td>\n",
       "      <td>0.040</td>\n",
       "      <td>0.095</td>\n",
       "      <td>0.000</td>\n",
       "      <td>0.000</td>\n",
       "      <td>0.050</td>\n",
       "      <td>0.030</td>\n",
       "      <td>0.050</td>\n",
       "      <td>0.135</td>\n",
       "    </tr>\n",
       "  </tbody>\n",
       "</table>\n",
       "<p>5 rows × 39 columns</p>\n",
       "</div>"
      ],
      "text/plain": [
       "          A431-CTRLi  A431-p63i  Airway  Astrocytes  Bladder  CAL27-CTRLi  \\\n",
       "A1BG           3.740      3.965   3.575       18.66     3.31        0.100   \n",
       "A1BG-AS1       0.405      0.045   0.055        0.43     0.03        0.165   \n",
       "A1CF           0.000      0.000   0.005        0.01     0.01        0.000   \n",
       "A2M            0.025      0.060   0.000       50.67     1.10        0.150   \n",
       "A2M-AS1        0.000      0.005   0.025        0.07     0.00        0.010   \n",
       "\n",
       "          CAL27-p63i  COLO_SCR_DMSO  COLO_SCR_PLX  COLO_shMITF_DMSO  ...  \\\n",
       "A1BG           0.055         48.420        49.885            42.995  ...   \n",
       "A1BG-AS1       0.990          0.130         0.120             0.135  ...   \n",
       "A1CF           0.000          0.000         0.000             0.000  ...   \n",
       "A2M            0.235         37.565        72.670            37.580  ...   \n",
       "A2M-AS1        0.000          0.010         0.080             0.025  ...   \n",
       "\n",
       "          SKMEL5_SCR_DMSO  SKMEL5_SCR_PLX  SKMEL5_shMITF-DMSO  \\\n",
       "A1BG               55.475          70.930              47.805   \n",
       "A1BG-AS1            0.365           0.405               0.280   \n",
       "A1CF                0.000           0.000               0.000   \n",
       "A2M                64.130          89.220             106.345   \n",
       "A2M-AS1             0.055           0.030               0.040   \n",
       "\n",
       "          SKMEL5_shMITF_PLX  Thyroid  Uterine  WM_SCR_DMSO  WM_SCR_PLX  \\\n",
       "A1BG                 83.920    0.390    2.425       92.060     142.880   \n",
       "A1BG-AS1              0.140    0.055    0.030        0.380       0.405   \n",
       "A1CF                  0.000    0.000    0.005        0.000       0.000   \n",
       "A2M                 193.725    0.105    0.950       54.645      79.480   \n",
       "A2M-AS1               0.095    0.000    0.000        0.050       0.030   \n",
       "\n",
       "          WM_shMITF_DMSO  WM_shMITF_PLX  \n",
       "A1BG             112.345        145.610  \n",
       "A1BG-AS1           0.325          0.390  \n",
       "A1CF               0.000          0.000  \n",
       "A2M               62.120         68.885  \n",
       "A2M-AS1            0.050          0.135  \n",
       "\n",
       "[5 rows x 39 columns]"
      ]
     },
     "execution_count": 13,
     "metadata": {},
     "output_type": "execute_result"
    }
   ],
   "source": [
    "rna_tpm_file = '../data/interim/rna/tissue_tpm_sym.csv'\n",
    "rna_df = pd.read_csv(rna_tpm_file, index_col=0,header=0)\n",
    "rna_df.index = [x.upper() for x in rna_df.index.values]\n",
    "rna_df[:5]"
   ]
  },
  {
   "cell_type": "code",
   "execution_count": 14,
   "metadata": {},
   "outputs": [
    {
     "data": {
      "text/plain": [
       "49.885"
      ]
     },
     "execution_count": 14,
     "metadata": {},
     "output_type": "execute_result"
    }
   ],
   "source": [
    "rna_df.loc['A1BG','COLO_SCR_PLX']"
   ]
  },
  {
   "cell_type": "code",
   "execution_count": 15,
   "metadata": {},
   "outputs": [],
   "source": [
    "# rna_df.columns.sort_values()"
   ]
  },
  {
   "cell_type": "code",
   "execution_count": 16,
   "metadata": {},
   "outputs": [],
   "source": [
    "annon_file = '../data/external/HOCOMOCOv11_annotation.csv'\n",
    "annon_df = pd.read_csv(annon_file)\n",
    "annon_df[['motif_abbr','motif_info']]=annon_df['id'].str.split(\"_\",expand=True)\n",
    "annon_dict = pd.Series(annon_df.tf.values, index=annon_df.motif_abbr.values).to_dict()\n"
   ]
  },
  {
   "cell_type": "code",
   "execution_count": 17,
   "metadata": {},
   "outputs": [
    {
     "name": "stdout",
     "output_type": "stream",
     "text": [
      "(106390, 15)\n",
      "(60834, 15)\n",
      "(60834, 16)\n",
      "(47008, 16)\n"
     ]
    }
   ],
   "source": [
    "# filepath  = '../data/interim/annon/promoter_footprinting/promoter_GDSD3_annon.bed'\n",
    "# filepath  = '../data/interim/annon/promoter_footprinting/promoter_COLO_SCR_PLX_annon.bed'\n",
    "filepath  = '../data/interim/annon/promoter_footprinting/promoter_CAL27-CTRLi_annon.bed'\n",
    "filename = os.path.basename(filepath)\n",
    "foot_df = pd.read_csv(filepath,sep='\\t',\n",
    "            header=None)\n",
    "tissue = filename.split('_annon.bed')[0].split(\"_\")[-1]\n",
    "if tissue not in list(rna_df.columns.values):\n",
    "    raise ValueError('tissue not found in rna matrix', tissue)\n",
    "foot_df.columns = ['chr_p','start_p','stop_p','TSS','chr_f','start_f','stop_f','motif_id','score','-']\n",
    "foot_df['p_loc'] = foot_df.chr_p + '_' + foot_df.start_p.map(str) + '_' + foot_df.stop_p.map(str) \n",
    "\n",
    "foot_df['f_loc'] = foot_df.chr_f + '_' + foot_df.start_f.map(str) + '_' + foot_df.stop_f.map(str) \n",
    "foot_df[['motif_abbr','motif_info']]=foot_df['motif_id'].str.split(\"_\",expand=True)\n",
    "foot_df['animal']=foot_df['motif_info'].str.split(\".\",expand=True).loc[:,0]\n",
    "print(foot_df.shape)\n",
    "foot_df = foot_df[foot_df.animal=='HUMAN']\n",
    "print(foot_df.shape)\n",
    "foot_df['TF'] = foot_df.motif_abbr.map(annon_dict)\n",
    "print(foot_df.shape)\n",
    "foot_df = foot_df[~foot_df.TF.isna()]\n",
    "print(foot_df.shape)\n",
    "\n",
    "\n",
    "\n"
   ]
  },
  {
   "cell_type": "code",
   "execution_count": 9,
   "metadata": {},
   "outputs": [
    {
     "data": {
      "text/plain": [
       "True     398\n",
       "False      3\n",
       "dtype: int64"
      ]
     },
     "execution_count": 9,
     "metadata": {},
     "output_type": "execute_result"
    }
   ],
   "source": [
    "pd.Series(foot_df.TF.unique()).isin(rna_df.index).value_counts()"
   ]
  },
  {
   "cell_type": "code",
   "execution_count": 10,
   "metadata": {},
   "outputs": [],
   "source": [
    "foot_df['TF_exp']= foot_df.TF.apply(lambda x: get_exp(rna_df, x, tissue,verbose=False))"
   ]
  },
  {
   "cell_type": "code",
   "execution_count": 11,
   "metadata": {},
   "outputs": [
    {
     "data": {
      "text/plain": [
       "((47008, 17), (0, 3))"
      ]
     },
     "execution_count": 11,
     "metadata": {},
     "output_type": "execute_result"
    }
   ],
   "source": [
    "foot_df_filt = foot_df[foot_df.TF_exp>THRES]\n",
    "foot_df_filt = foot_df_filt[['TSS','TF','p_loc']]\n",
    "foot_df.shape,foot_df_filt.shape"
   ]
  },
  {
   "cell_type": "code",
   "execution_count": 240,
   "metadata": {},
   "outputs": [],
   "source": [
    "foot_df_filt_count = pd.DataFrame({'count':foot_df_filt.groupby('TSS')['TF'].value_counts()}).reset_index()"
   ]
  },
  {
   "cell_type": "code",
   "execution_count": 241,
   "metadata": {},
   "outputs": [],
   "source": [
    "foot_df_filt_count_pivot = foot_df_filt_count.pivot(index='TSS',columns='TF',values='count').fillna(0)"
   ]
  },
  {
   "cell_type": "code",
   "execution_count": 242,
   "metadata": {},
   "outputs": [
    {
     "data": {
      "text/plain": [
       "(1846, 230)"
      ]
     },
     "execution_count": 242,
     "metadata": {},
     "output_type": "execute_result"
    }
   ],
   "source": [
    "foot_df_filt_count_pivot.shape"
   ]
  },
  {
   "cell_type": "code",
   "execution_count": 243,
   "metadata": {},
   "outputs": [
    {
     "data": {
      "text/plain": [
       "Index(['ABCA7', 'ABCB6', 'ABCC5', 'ABCF3', 'ABHD12B', 'AC003101.1',\n",
       "       'AC004017.1', 'AC004466.1', 'AC004817.1', 'AC005606.1',\n",
       "       ...\n",
       "       'ZNF581', 'ZNF622', 'ZNF629', 'ZNF672', 'ZNF704', 'ZNF771', 'ZNF773',\n",
       "       'ZNF821', 'ZP4', 'ZSCAN9'],\n",
       "      dtype='object', name='TSS', length=1846)"
      ]
     },
     "execution_count": 243,
     "metadata": {},
     "output_type": "execute_result"
    }
   ],
   "source": [
    "foot_df_filt_count_pivot.index"
   ]
  },
  {
   "cell_type": "code",
   "execution_count": 254,
   "metadata": {},
   "outputs": [
    {
     "data": {
      "text/plain": [
       "False"
      ]
     },
     "execution_count": 254,
     "metadata": {},
     "output_type": "execute_result"
    }
   ],
   "source": [
    "'MYC' in list(foot_df_filt_count_pivot.index)"
   ]
  },
  {
   "cell_type": "code",
   "execution_count": 558,
   "metadata": {},
   "outputs": [],
   "source": [
    "foot_df_pro = get_foot_df('../data/interim/annon/promoter_footprinting/promoter_GDSD3_annon.bed', annon_dict, rna_df, thres=1,verbose=False)\n",
    "\n",
    "foot_count_pro = get_foot_counts(foot_df_pro)\n"
   ]
  },
  {
   "cell_type": "markdown",
   "metadata": {},
   "source": [
    "## B. for the 5KB anchor region closest to to the TSS \n",
    "Case 1: TSS in 5KB region --> just use that region\n",
    "Case 2: TSS not in 5KB region --> find closest region, that is maximum 5kb away"
   ]
  },
  {
   "cell_type": "markdown",
   "metadata": {},
   "source": [
    "this is just a function version of the above cmds"
   ]
  },
  {
   "cell_type": "code",
   "execution_count": 277,
   "metadata": {},
   "outputs": [],
   "source": [
    "def get_foot_df(foot_file, annon_dict, rna_df, thres=1,verbose=False):\n",
    "    \"\"\"\n",
    "    from footprinting annotation file, annotate with motif/TF (rna and transcription factor info) \n",
    "\n",
    "    Arguments:\n",
    "        foot_file  = <str> to filepath i.e. '../data/interim/annon/promoter_footprinting/promoter_GDSD0_annon.bed'\n",
    "        annon_dict = dict from `get_tf_dict`\n",
    "        rna_df = DataFrame from `read_rna_file`, filter by expression motif --> TF\n",
    "        thres = <int> for considering what is expressed\n",
    "\n",
    "    Return: \n",
    "        foot_df_filt = <DataFrame> with columns, ['TSS','TF', 'p_loc']\n",
    "            indicating the TSS (gene) the TF is annotated for and the region annotated in`\n",
    "                p_loc = <str> with <chr>_<start>_<stop>, can correspond to anchor region\n",
    "    \"\"\"\n",
    "    # read in footprinting file\n",
    "    filename = os.path.basename(foot_file)\n",
    "    foot_df = pd.read_csv(foot_file,sep='\\t',\n",
    "                header=None)\n",
    "    tissue = filename.split('_annon.bed')[0].split(\"_\")[-1]\n",
    "    foot_df.columns = ['chr_p','start_p','stop_p','TSS','chr_f','start_f','stop_f','motif_id','score','-']\n",
    "    foot_df['p_loc'] = foot_df.chr_p + '_' + foot_df.start_p.map(str) + '_' + foot_df.stop_p.map(str)\n",
    "    foot_df['f_loc'] = foot_df.chr_f + '_' + foot_df.start_f.map(str) + '_' + foot_df.stop_f.map(str)\n",
    "    foot_df[['motif_abbr','motif_info']]=foot_df['motif_id'].str.split(\"_\",expand=True)\n",
    "    foot_df['animal']=foot_df['motif_info'].str.split(\".\",expand=True).loc[:,0]\n",
    "    # human tfs only\n",
    "    foot_df = foot_df[foot_df.animal=='HUMAN']\n",
    "\n",
    "    # mapping motif --> TF with the annotation dictionary\n",
    "    foot_df['TF'] = foot_df.motif_abbr.map(annon_dict)\n",
    "    foot_df = foot_df[~foot_df.TF.isna()]\n",
    "\n",
    "    # get expression from rna_df\n",
    "    foot_df['TF_exp']= foot_df.TF.apply(lambda x: get_exp(rna_df, x, tissue,verbose=verbose))\n",
    "    foot_df_filt = foot_df[foot_df.TF_exp>thres]\n",
    "    foot_df_filt = foot_df_filt[['TSS','TF', 'p_loc']]\n",
    "\n",
    "\n",
    "    return foot_df_filt\n",
    "\n",
    "\n",
    "def get_foot_counts(foot_df):\n",
    "    \"\"\"\n",
    "    from a foot_df from `get_foot_df`\n",
    "    get `foot_df_count_pivot` that is a mxn DataFrame\n",
    "        with m = # of genes annotated in foot file, and\n",
    "            n = # of tfs annotated from `annon_dict`\n",
    "            filtered through expression,\n",
    "\n",
    "    Arguments:\n",
    "        foot_df: <DataFrame> wit at least required columns TSS, TF (all other columns are ignored)\n",
    "        \n",
    "\n",
    "    \"\"\"\n",
    "    # pivoting table to create counts DataFrame\n",
    "    foot_df_filt_count = pd.DataFrame({'count':foot_df.groupby('TSS')['TF'].value_counts()}).reset_index()\n",
    "    foot_df_filt_count_pivot = foot_df_filt_count.pivot(index='TSS',columns='TF',values='count').fillna(0)\n",
    "    return foot_df_filt_count_pivot"
   ]
  },
  {
   "cell_type": "code",
   "execution_count": 278,
   "metadata": {},
   "outputs": [],
   "source": [
    "foot_file = '../data/interim/annon/anchor_footprinting/GDSD3_annon.bed'\n",
    "foot_df = get_foot_df(foot_file, annon_dict, rna_df, thres=1,verbose=False)\n",
    "foot_df = foot_df[['TF','p_loc']]\n"
   ]
  },
  {
   "cell_type": "code",
   "execution_count": 292,
   "metadata": {},
   "outputs": [
    {
     "data": {
      "text/html": [
       "<div>\n",
       "<style scoped>\n",
       "    .dataframe tbody tr th:only-of-type {\n",
       "        vertical-align: middle;\n",
       "    }\n",
       "\n",
       "    .dataframe tbody tr th {\n",
       "        vertical-align: top;\n",
       "    }\n",
       "\n",
       "    .dataframe thead th {\n",
       "        text-align: right;\n",
       "    }\n",
       "</style>\n",
       "<table border=\"1\" class=\"dataframe\">\n",
       "  <thead>\n",
       "    <tr style=\"text-align: right;\">\n",
       "      <th></th>\n",
       "      <th>TF</th>\n",
       "      <th>p_loc</th>\n",
       "    </tr>\n",
       "  </thead>\n",
       "  <tbody>\n",
       "    <tr>\n",
       "      <td>5</td>\n",
       "      <td>THAP1</td>\n",
       "      <td>chr1_710000_715000</td>\n",
       "    </tr>\n",
       "    <tr>\n",
       "      <td>7</td>\n",
       "      <td>ZBTB14</td>\n",
       "      <td>chr1_710000_715000</td>\n",
       "    </tr>\n",
       "    <tr>\n",
       "      <td>8</td>\n",
       "      <td>JUND</td>\n",
       "      <td>chr1_845000_850000</td>\n",
       "    </tr>\n",
       "    <tr>\n",
       "      <td>10</td>\n",
       "      <td>JUN</td>\n",
       "      <td>chr1_845000_850000</td>\n",
       "    </tr>\n",
       "    <tr>\n",
       "      <td>12</td>\n",
       "      <td>FOSL1</td>\n",
       "      <td>chr1_845000_850000</td>\n",
       "    </tr>\n",
       "  </tbody>\n",
       "</table>\n",
       "</div>"
      ],
      "text/plain": [
       "        TF               p_loc\n",
       "5    THAP1  chr1_710000_715000\n",
       "7   ZBTB14  chr1_710000_715000\n",
       "8     JUND  chr1_845000_850000\n",
       "10     JUN  chr1_845000_850000\n",
       "12   FOSL1  chr1_845000_850000"
      ]
     },
     "execution_count": 292,
     "metadata": {},
     "output_type": "execute_result"
    }
   ],
   "source": [
    "foot_df[:5]"
   ]
  },
  {
   "cell_type": "code",
   "execution_count": 293,
   "metadata": {},
   "outputs": [
    {
     "data": {
      "text/html": [
       "<div>\n",
       "<style scoped>\n",
       "    .dataframe tbody tr th:only-of-type {\n",
       "        vertical-align: middle;\n",
       "    }\n",
       "\n",
       "    .dataframe tbody tr th {\n",
       "        vertical-align: top;\n",
       "    }\n",
       "\n",
       "    .dataframe thead th {\n",
       "        text-align: right;\n",
       "    }\n",
       "</style>\n",
       "<table border=\"1\" class=\"dataframe\">\n",
       "  <thead>\n",
       "    <tr style=\"text-align: right;\">\n",
       "      <th></th>\n",
       "      <th>TF</th>\n",
       "      <th>p_loc</th>\n",
       "    </tr>\n",
       "  </thead>\n",
       "  <tbody>\n",
       "  </tbody>\n",
       "</table>\n",
       "</div>"
      ],
      "text/plain": [
       "Empty DataFrame\n",
       "Columns: [TF, p_loc]\n",
       "Index: []"
      ]
     },
     "execution_count": 293,
     "metadata": {},
     "output_type": "execute_result"
    }
   ],
   "source": [
    "foot_df[foot_df.p_loc=='chr8_128735000_128740000']"
   ]
  },
  {
   "cell_type": "code",
   "execution_count": 3,
   "metadata": {},
   "outputs": [
    {
     "name": "stdout",
     "output_type": "stream",
     "text": [
      "CPU times: user 19.4 s, sys: 241 ms, total: 19.7 s\n",
      "Wall time: 19.6 s\n"
     ]
    }
   ],
   "source": [
    "%%time\n",
    "anchor_file = '../data/interim/annon/promoter_anchors/promoter_GDSD3_annon.bed'\n",
    "anchor_annon_df = pd.read_csv(anchor_file,sep='\\t',\n",
    "            header=None)\n",
    "anchor_annon_df.columns = ['chr_p','start_p','stop_p','TSS','chr_f','start_f','stop_f','anchor','overlap']\n",
    "anchor_annon_df_filt = anchor_annon_df.groupby('TSS').apply(lambda x: x.nlargest(1, \"overlap\")).reset_index(drop=True)\n",
    "anchor_annon_df_filt = anchor_annon_df_filt[['anchor','TSS']]"
   ]
  },
  {
   "cell_type": "code",
   "execution_count": 422,
   "metadata": {},
   "outputs": [],
   "source": [
    "foot_df_anchor = foot_df.merge(anchor_annon_df_filt,how='inner', left_on='p_loc',right_on='anchor')"
   ]
  },
  {
   "cell_type": "code",
   "execution_count": 362,
   "metadata": {},
   "outputs": [
    {
     "data": {
      "text/plain": [
       "10397"
      ]
     },
     "execution_count": 362,
     "metadata": {},
     "output_type": "execute_result"
    }
   ],
   "source": [
    "anchor_annon_df.TSS.nunique()"
   ]
  },
  {
   "cell_type": "code",
   "execution_count": 363,
   "metadata": {},
   "outputs": [
    {
     "data": {
      "text/plain": [
       "10397"
      ]
     },
     "execution_count": 363,
     "metadata": {},
     "output_type": "execute_result"
    }
   ],
   "source": [
    "anchor_annon_df_filt.TSS.nunique()"
   ]
  },
  {
   "cell_type": "code",
   "execution_count": 364,
   "metadata": {},
   "outputs": [
    {
     "data": {
      "text/plain": [
       "True"
      ]
     },
     "execution_count": 364,
     "metadata": {},
     "output_type": "execute_result"
    }
   ],
   "source": [
    "'MYC' in list(anchor_annon_df_filt.TSS)"
   ]
  },
  {
   "cell_type": "code",
   "execution_count": 365,
   "metadata": {},
   "outputs": [
    {
     "data": {
      "text/html": [
       "<div>\n",
       "<style scoped>\n",
       "    .dataframe tbody tr th:only-of-type {\n",
       "        vertical-align: middle;\n",
       "    }\n",
       "\n",
       "    .dataframe tbody tr th {\n",
       "        vertical-align: top;\n",
       "    }\n",
       "\n",
       "    .dataframe thead th {\n",
       "        text-align: right;\n",
       "    }\n",
       "</style>\n",
       "<table border=\"1\" class=\"dataframe\">\n",
       "  <thead>\n",
       "    <tr style=\"text-align: right;\">\n",
       "      <th></th>\n",
       "      <th>chr_p</th>\n",
       "      <th>start_p</th>\n",
       "      <th>stop_p</th>\n",
       "      <th>TSS</th>\n",
       "      <th>chr_f</th>\n",
       "      <th>start_f</th>\n",
       "      <th>stop_f</th>\n",
       "      <th>anchor</th>\n",
       "      <th>overlap</th>\n",
       "    </tr>\n",
       "  </thead>\n",
       "  <tbody>\n",
       "    <tr>\n",
       "      <td>18025</td>\n",
       "      <td>chr8</td>\n",
       "      <td>128732680</td>\n",
       "      <td>128742680</td>\n",
       "      <td>MYC</td>\n",
       "      <td>chr8</td>\n",
       "      <td>128730000</td>\n",
       "      <td>128735000</td>\n",
       "      <td>chr8_128730000_128735000</td>\n",
       "      <td>2320</td>\n",
       "    </tr>\n",
       "    <tr>\n",
       "      <td>18026</td>\n",
       "      <td>chr8</td>\n",
       "      <td>128732680</td>\n",
       "      <td>128742680</td>\n",
       "      <td>MYC</td>\n",
       "      <td>chr8</td>\n",
       "      <td>128735000</td>\n",
       "      <td>128740000</td>\n",
       "      <td>chr8_128735000_128740000</td>\n",
       "      <td>5000</td>\n",
       "    </tr>\n",
       "    <tr>\n",
       "      <td>18027</td>\n",
       "      <td>chr8</td>\n",
       "      <td>128732680</td>\n",
       "      <td>128742680</td>\n",
       "      <td>MYC</td>\n",
       "      <td>chr8</td>\n",
       "      <td>128740000</td>\n",
       "      <td>128745000</td>\n",
       "      <td>chr8_128740000_128745000</td>\n",
       "      <td>2680</td>\n",
       "    </tr>\n",
       "  </tbody>\n",
       "</table>\n",
       "</div>"
      ],
      "text/plain": [
       "      chr_p    start_p     stop_p  TSS chr_f    start_f     stop_f  \\\n",
       "18025  chr8  128732680  128742680  MYC  chr8  128730000  128735000   \n",
       "18026  chr8  128732680  128742680  MYC  chr8  128735000  128740000   \n",
       "18027  chr8  128732680  128742680  MYC  chr8  128740000  128745000   \n",
       "\n",
       "                         anchor  overlap  \n",
       "18025  chr8_128730000_128735000     2320  \n",
       "18026  chr8_128735000_128740000     5000  \n",
       "18027  chr8_128740000_128745000     2680  "
      ]
     },
     "execution_count": 365,
     "metadata": {},
     "output_type": "execute_result"
    }
   ],
   "source": [
    "anchor_annon_df[anchor_annon_df.TSS=='MYC']"
   ]
  },
  {
   "cell_type": "code",
   "execution_count": 366,
   "metadata": {},
   "outputs": [
    {
     "data": {
      "text/html": [
       "<div>\n",
       "<style scoped>\n",
       "    .dataframe tbody tr th:only-of-type {\n",
       "        vertical-align: middle;\n",
       "    }\n",
       "\n",
       "    .dataframe tbody tr th {\n",
       "        vertical-align: top;\n",
       "    }\n",
       "\n",
       "    .dataframe thead th {\n",
       "        text-align: right;\n",
       "    }\n",
       "</style>\n",
       "<table border=\"1\" class=\"dataframe\">\n",
       "  <thead>\n",
       "    <tr style=\"text-align: right;\">\n",
       "      <th></th>\n",
       "      <th>anchor</th>\n",
       "      <th>TSS</th>\n",
       "    </tr>\n",
       "  </thead>\n",
       "  <tbody>\n",
       "    <tr>\n",
       "      <td>0</td>\n",
       "      <td>chr12_8960000_8965000</td>\n",
       "      <td>A2ML1</td>\n",
       "    </tr>\n",
       "    <tr>\n",
       "      <td>1</td>\n",
       "      <td>chr1_33770000_33775000</td>\n",
       "      <td>A3GALT2</td>\n",
       "    </tr>\n",
       "    <tr>\n",
       "      <td>2</td>\n",
       "      <td>chr22_43110000_43115000</td>\n",
       "      <td>A4GALT</td>\n",
       "    </tr>\n",
       "    <tr>\n",
       "      <td>3</td>\n",
       "      <td>chr3_137840000_137845000</td>\n",
       "      <td>A4GNT</td>\n",
       "    </tr>\n",
       "    <tr>\n",
       "      <td>4</td>\n",
       "      <td>chr12_53710000_53715000</td>\n",
       "      <td>AAAS</td>\n",
       "    </tr>\n",
       "  </tbody>\n",
       "</table>\n",
       "</div>"
      ],
      "text/plain": [
       "                     anchor      TSS\n",
       "0     chr12_8960000_8965000    A2ML1\n",
       "1    chr1_33770000_33775000  A3GALT2\n",
       "2   chr22_43110000_43115000   A4GALT\n",
       "3  chr3_137840000_137845000    A4GNT\n",
       "4   chr12_53710000_53715000     AAAS"
      ]
     },
     "execution_count": 366,
     "metadata": {},
     "output_type": "execute_result"
    }
   ],
   "source": [
    "anchor_annon_df_filt[:5]"
   ]
  },
  {
   "cell_type": "code",
   "execution_count": 309,
   "metadata": {},
   "outputs": [
    {
     "data": {
      "text/plain": [
       "3325"
      ]
     },
     "execution_count": 309,
     "metadata": {},
     "output_type": "execute_result"
    }
   ],
   "source": [
    "foot_df_anchor.TSS.nunique()"
   ]
  },
  {
   "cell_type": "code",
   "execution_count": 559,
   "metadata": {},
   "outputs": [
    {
     "data": {
      "text/plain": [
       "(3325, 230)"
      ]
     },
     "execution_count": 559,
     "metadata": {},
     "output_type": "execute_result"
    }
   ],
   "source": [
    "foot_count_anchor = get_foot_counts(foot_df_anchor)\n",
    "foot_count_anchor.shape"
   ]
  },
  {
   "cell_type": "markdown",
   "metadata": {},
   "source": [
    "This is an increase from the (1846, 230) anchors previously noted"
   ]
  },
  {
   "cell_type": "code",
   "execution_count": 310,
   "metadata": {},
   "outputs": [
    {
     "data": {
      "text/plain": [
       "False"
      ]
     },
     "execution_count": 310,
     "metadata": {},
     "output_type": "execute_result"
    }
   ],
   "source": [
    "'TP63' in list(foot_df_anchor.TSS)"
   ]
  },
  {
   "cell_type": "markdown",
   "metadata": {},
   "source": [
    "## C. for the 5KB regions next to closest anchors of TSS --> find all looped regions\n"
   ]
  },
  {
   "cell_type": "code",
   "execution_count": 4,
   "metadata": {},
   "outputs": [
    {
     "name": "stderr",
     "output_type": "stream",
     "text": [
      "/Users/mguo123/opt/anaconda3/lib/python3.7/site-packages/ipykernel_launcher.py:6: FutureWarning: Sorting because non-concatenation axis is not aligned. A future version\n",
      "of pandas will change to not sort by default.\n",
      "\n",
      "To accept the future behavior, pass 'sort=False'.\n",
      "\n",
      "To retain the current behavior and silence the warning, pass 'sort=True'.\n",
      "\n",
      "  \n"
     ]
    },
    {
     "ename": "NameError",
     "evalue": "name 'foot_df' is not defined",
     "output_type": "error",
     "traceback": [
      "\u001b[0;31m---------------------------------------------------------------------------\u001b[0m",
      "\u001b[0;31mNameError\u001b[0m                                 Traceback (most recent call last)",
      "\u001b[0;32m<timed exec>\u001b[0m in \u001b[0;36m<module>\u001b[0;34m\u001b[0m\n",
      "\u001b[0;31mNameError\u001b[0m: name 'foot_df' is not defined"
     ]
    }
   ],
   "source": [
    "%%time\n",
    "# in func make_loop_df\n",
    "loop_file = '../data/interim/merged/loops/GDSD3.loops.csv'\n",
    "loop_df = pd.read_csv(loop_file,index_col=0)\n",
    "loop_df_rev = loop_df.copy()\n",
    "loop_df_rev.columns = ['target','source','count']\n",
    "loop_df_bi = pd.concat([loop_df, loop_df_rev])\n",
    "# target is the \"loop\"\n",
    "loop_df_bi = loop_df_bi.merge(anchor_annon_df_filt,how='inner',left_on='source',right_on='anchor' )\n",
    "foot_df_loop = foot_df.merge(loop_df_bi,how='inner', left_on='p_loc',right_on='target')\n",
    "foot_count_loop = get_foot_counts(foot_df_loop)\n",
    "foot_count_loop.shape\n",
    "\n"
   ]
  },
  {
   "cell_type": "code",
   "execution_count": null,
   "metadata": {},
   "outputs": [],
   "source": []
  },
  {
   "cell_type": "code",
   "execution_count": null,
   "metadata": {},
   "outputs": [],
   "source": []
  },
  {
   "cell_type": "code",
   "execution_count": 372,
   "metadata": {},
   "outputs": [
    {
     "data": {
      "text/plain": [
       "True"
      ]
     },
     "execution_count": 372,
     "metadata": {},
     "output_type": "execute_result"
    }
   ],
   "source": [
    "'TP63' in list(foot_df_loop.TSS)"
   ]
  },
  {
   "cell_type": "markdown",
   "metadata": {},
   "source": [
    "# D. atac_regions"
   ]
  },
  {
   "cell_type": "code",
   "execution_count": 1,
   "metadata": {},
   "outputs": [],
   "source": [
    "def read_atac_file(atac_file):\n",
    "    \"\"\"\n",
    "    read in to DataFrame\n",
    "    atac_file = '../data/interim/annon/promoter_atac/promoter_GDSD3_annon.bed'\n",
    "    and get # of atac regions per tss\n",
    "    \n",
    "    output: atac_count <DataFrame> with `TSS` and index and  `num_atac_regions` as columns \n",
    "    \"\"\"\n",
    "    filename = os.path.basename(atac_file)\n",
    "    tissue = filename.split('_annon.bed')[0].split(\"_\")[-1]\n",
    "    atac_df = pd.read_csv(atac_file,sep='\\t', header=None)\n",
    "    atac_df.columns = ['chr_p','start_p','stop_p','TSS','chr_a','start_a','stop_a']\n",
    "    atac_df['p_loc'] = atac_df.chr_p + '_' + atac_df.start_p.map(str) + '_' + atac_df.stop_p.map(str)\n",
    "    atac_df['a_loc'] = atac_df.chr_a + '_' + atac_df.start_a.map(str) + '_' + atac_df.stop_a.map(str)\n",
    "    atac_count = pd.DataFrame(atac_df.groupby('TSS')['p_loc'].count())\n",
    "    atac_count.columns=['num_atac_regions']\n",
    "    atac_count.index.name = None\n",
    "\n",
    "    return atac_count"
   ]
  },
  {
   "cell_type": "code",
   "execution_count": 510,
   "metadata": {},
   "outputs": [],
   "source": [
    "atac_file_promoter = '../data/interim/annon/promoter_atac/promoter_GDSD3_annon.bed'\n",
    "atac_file_anchor = '../data/interim/annon/anchor_atac/GDSD3_annon.bed'\n"
   ]
  },
  {
   "cell_type": "code",
   "execution_count": 560,
   "metadata": {},
   "outputs": [],
   "source": [
    "atac_count_prom = read_atac_file(atac_file_promoter)"
   ]
  },
  {
   "cell_type": "code",
   "execution_count": 561,
   "metadata": {},
   "outputs": [],
   "source": [
    "atac_count_df = read_atac_file(atac_file_anchor)\n",
    "atac_count_anchor = atac_count_df.merge(anchor_annon_df_filt,how='inner', left_index=True,right_on='anchor')\n",
    "atac_count_anchor = pd.DataFrame(atac_count_anchor.groupby('TSS')['num_atac_regions'].sum())\n",
    "atac_count_anchor.index.name = None"
   ]
  },
  {
   "cell_type": "code",
   "execution_count": 562,
   "metadata": {},
   "outputs": [],
   "source": [
    "atac_count_loop = atac_count_df.merge(loop_df_bi,how='inner',left_index=True,right_on='target')\n",
    "atac_count_loop = pd.DataFrame(atac_count_loop.groupby('TSS')['num_atac_regions'].sum())\n",
    "atac_count_loop.index.name = None"
   ]
  },
  {
   "cell_type": "code",
   "execution_count": 563,
   "metadata": {},
   "outputs": [
    {
     "data": {
      "text/plain": [
       "((4361, 1), (8646, 1))"
      ]
     },
     "execution_count": 563,
     "metadata": {},
     "output_type": "execute_result"
    }
   ],
   "source": [
    "atac_count_anchor.shape, atac_count_loop.shape"
   ]
  },
  {
   "cell_type": "markdown",
   "metadata": {},
   "source": [
    "## E. getting loop counts"
   ]
  },
  {
   "cell_type": "code",
   "execution_count": 549,
   "metadata": {},
   "outputs": [],
   "source": [
    "loop_counts_df = loop_df_bi.groupby('TSS').agg({\"count\":\"sum\",\"target\":\"count\"})\n",
    "loop_counts_df.columns = ['num_loop_counts','num_loops']\n"
   ]
  },
  {
   "cell_type": "markdown",
   "metadata": {},
   "source": [
    "## F. merging count objects"
   ]
  },
  {
   "cell_type": "code",
   "execution_count": 433,
   "metadata": {},
   "outputs": [
    {
     "data": {
      "text/plain": [
       "'GDSD3'"
      ]
     },
     "execution_count": 433,
     "metadata": {},
     "output_type": "execute_result"
    }
   ],
   "source": [
    "tissue"
   ]
  },
  {
   "cell_type": "code",
   "execution_count": 553,
   "metadata": {},
   "outputs": [
    {
     "name": "stdout",
     "output_type": "stream",
     "text": [
      "(24811, 39)\n"
     ]
    },
    {
     "data": {
      "text/plain": [
       "Index(['A1BG', 'A1BG-AS1', 'A1CF', 'A2M', 'A2M-AS1', 'A2ML1', 'A2MP1',\n",
       "       'A3GALT2', 'A4GALT', 'A4GNT',\n",
       "       ...\n",
       "       'ZWILCH', 'ZWINT', 'ZXDA', 'ZXDB', 'ZXDC', 'ZYG11A', 'ZYG11B', 'ZYX',\n",
       "       'ZZEF1', 'ZZZ3'],\n",
       "      dtype='object', length=24811)"
      ]
     },
     "execution_count": 553,
     "metadata": {},
     "output_type": "execute_result"
    }
   ],
   "source": [
    "print(rna_df.shape)\n",
    "rna_df.index"
   ]
  },
  {
   "cell_type": "code",
   "execution_count": 438,
   "metadata": {},
   "outputs": [
    {
     "data": {
      "text/plain": [
       "401"
      ]
     },
     "execution_count": 438,
     "metadata": {},
     "output_type": "execute_result"
    }
   ],
   "source": [
    "all_tfs = annon_dict.values()\n",
    "len(all_tfs)"
   ]
  },
  {
   "cell_type": "code",
   "execution_count": 466,
   "metadata": {},
   "outputs": [
    {
     "data": {
      "text/plain": [
       "(24811, 1)"
      ]
     },
     "execution_count": 466,
     "metadata": {},
     "output_type": "execute_result"
    }
   ],
   "source": [
    "all_tf_all_tss = pd.DataFrame( index=rna_df.index)\n",
    "all_tf_all_tss['exp'] = rna_df[tissue]\n",
    "all_tf_all_tss.shape\n"
   ]
  },
  {
   "cell_type": "code",
   "execution_count": 536,
   "metadata": {},
   "outputs": [],
   "source": [
    "foot_count_sum = (foot_count_pro + foot_count_anchor + foot_count_loop).fillna(0)\n",
    "foot_count_comb = foot_count_anchor.add(foot_count_loop,fill_value=0)\n",
    "foot_count_pro.columns = [x+'_pro' for x in foot_count_pro\n",
    "                          .columns.values]\n",
    "foot_count_anchor.columns = [x+'_anc' for x in foot_count_anchor.columns.values]\n",
    "foot_count_loop.columns = [x+'_loop' for x in foot_count_loop.columns.values]\n",
    "foot_count_comb.columns = [x+'_loop' for x in foot_count_comb.columns.values]"
   ]
  },
  {
   "cell_type": "code",
   "execution_count": 569,
   "metadata": {},
   "outputs": [],
   "source": [
    "atac_count_sum = (atac_count_prom + atac_count_anchor + atac_count_loop).fillna(0)\n",
    "atac_count_prom.columns = ['num_atac_regions_pro']\n",
    "atac_count_comb = atac_count_anchor.add(atac_count_loop,fill_value=0)\n",
    "atac_count_anchor.columns = ['num_atac_regions_anc']\n",
    "atac_count_loop.columns = ['num_atac_regions_loop']\n",
    "atac_count_comb.columns = ['num_atac_regions_loop']"
   ]
  },
  {
   "cell_type": "code",
   "execution_count": 554,
   "metadata": {},
   "outputs": [
    {
     "name": "stderr",
     "output_type": "stream",
     "text": [
      "/Users/mguo123/opt/anaconda3/lib/python3.7/site-packages/ipykernel_launcher.py:2: FutureWarning: Sorting because non-concatenation axis is not aligned. A future version\n",
      "of pandas will change to not sort by default.\n",
      "\n",
      "To accept the future behavior, pass 'sort=False'.\n",
      "\n",
      "To retain the current behavior and silence the warning, pass 'sort=True'.\n",
      "\n",
      "  \n"
     ]
    },
    {
     "data": {
      "text/plain": [
       "(24811, 232)"
      ]
     },
     "execution_count": 554,
     "metadata": {},
     "output_type": "execute_result"
    }
   ],
   "source": [
    "# type = 'promoter': only include promoter information in the result, will include \"_pro\" suffixes \n",
    "all_count_pro = pd.concat([all_tf_all_tss, atac_count_prom, foot_count_pro],axis=1).fillna(0)\n",
    "all_count_pro = all_count_pro[all_count_pro.index.isin(rna_df.index)]\n",
    "all_count_pro.shape"
   ]
  },
  {
   "cell_type": "code",
   "execution_count": 555,
   "metadata": {},
   "outputs": [
    {
     "name": "stderr",
     "output_type": "stream",
     "text": [
      "/Users/mguo123/opt/anaconda3/lib/python3.7/site-packages/ipykernel_launcher.py:3: FutureWarning: Sorting because non-concatenation axis is not aligned. A future version\n",
      "of pandas will change to not sort by default.\n",
      "\n",
      "To accept the future behavior, pass 'sort=False'.\n",
      "\n",
      "To retain the current behavior and silence the warning, pass 'sort=True'.\n",
      "\n",
      "  This is separate from the ipykernel package so we can avoid doing imports until\n"
     ]
    },
    {
     "data": {
      "text/plain": [
       "(24811, 696)"
      ]
     },
     "execution_count": 555,
     "metadata": {},
     "output_type": "execute_result"
    }
   ],
   "source": [
    "# type = 'anchor_loop_sep': include anchor and loop information separately, will include \"_pro\", \"_anc\" and \"_loop\" suffixes \n",
    "all_count_sep = pd.concat([all_tf_all_tss, loop_counts_df, atac_count_prom, atac_count_anchor, atac_count_loop, \n",
    "                           foot_count_pro, foot_count_anchor,foot_count_loop],axis=1).fillna(0)\n",
    "all_count_sep = all_count_sep[all_count_sep.index.isin(rna_df.index)]\n",
    "all_count_sep.shape"
   ]
  },
  {
   "cell_type": "code",
   "execution_count": 570,
   "metadata": {},
   "outputs": [
    {
     "name": "stderr",
     "output_type": "stream",
     "text": [
      "/Users/mguo123/opt/anaconda3/lib/python3.7/site-packages/ipykernel_launcher.py:3: FutureWarning: Sorting because non-concatenation axis is not aligned. A future version\n",
      "of pandas will change to not sort by default.\n",
      "\n",
      "To accept the future behavior, pass 'sort=False'.\n",
      "\n",
      "To retain the current behavior and silence the warning, pass 'sort=True'.\n",
      "\n",
      "  This is separate from the ipykernel package so we can avoid doing imports until\n"
     ]
    },
    {
     "data": {
      "text/plain": [
       "(24811, 465)"
      ]
     },
     "execution_count": 570,
     "metadata": {},
     "output_type": "execute_result"
    }
   ],
   "source": [
    "# type = 'anchor_loop_comb': include anchor and loop information summed, will include \"_pro\" and \"_loop\" suffixes\n",
    "all_count_comb = pd.concat([all_tf_all_tss, loop_counts_df, atac_count_prom, atac_count_comb, \n",
    "                           foot_count_pro, foot_count_comb],axis=1).fillna(0)\n",
    "all_count_comb = all_count_comb[all_count_comb.index.isin(rna_df.index)]\n",
    "all_count_comb.shape"
   ]
  },
  {
   "cell_type": "code",
   "execution_count": 571,
   "metadata": {},
   "outputs": [
    {
     "name": "stderr",
     "output_type": "stream",
     "text": [
      "/Users/mguo123/opt/anaconda3/lib/python3.7/site-packages/ipykernel_launcher.py:3: FutureWarning: Sorting because non-concatenation axis is not aligned. A future version\n",
      "of pandas will change to not sort by default.\n",
      "\n",
      "To accept the future behavior, pass 'sort=False'.\n",
      "\n",
      "To retain the current behavior and silence the warning, pass 'sort=True'.\n",
      "\n",
      "  This is separate from the ipykernel package so we can avoid doing imports until\n"
     ]
    },
    {
     "data": {
      "text/plain": [
       "(24811, 234)"
      ]
     },
     "execution_count": 571,
     "metadata": {},
     "output_type": "execute_result"
    }
   ],
   "source": [
    "# type = 'sum': agg all \"_pro\" \"_anc\" and \"_loop\", no suffixes\n",
    "all_count_sum = pd.concat([all_tf_all_tss, loop_counts_df, atac_count_sum, \n",
    "                           foot_count_sum],axis=1).fillna(0)\n",
    "all_count_sum = all_count_sum[all_count_sum.index.isin(rna_df.index)]\n",
    "all_count_sum.shape"
   ]
  },
  {
   "cell_type": "code",
   "execution_count": 523,
   "metadata": {},
   "outputs": [
    {
     "data": {
      "text/html": [
       "<div>\n",
       "<style scoped>\n",
       "    .dataframe tbody tr th:only-of-type {\n",
       "        vertical-align: middle;\n",
       "    }\n",
       "\n",
       "    .dataframe tbody tr th {\n",
       "        vertical-align: top;\n",
       "    }\n",
       "\n",
       "    .dataframe thead th {\n",
       "        text-align: right;\n",
       "    }\n",
       "</style>\n",
       "<table border=\"1\" class=\"dataframe\">\n",
       "  <thead>\n",
       "    <tr style=\"text-align: right;\">\n",
       "      <th></th>\n",
       "      <th>num_atac_regions</th>\n",
       "    </tr>\n",
       "  </thead>\n",
       "  <tbody>\n",
       "    <tr>\n",
       "      <td>A2ML1</td>\n",
       "      <td>7</td>\n",
       "    </tr>\n",
       "    <tr>\n",
       "      <td>A3GALT2</td>\n",
       "      <td>4</td>\n",
       "    </tr>\n",
       "    <tr>\n",
       "      <td>A4GALT</td>\n",
       "      <td>2</td>\n",
       "    </tr>\n",
       "    <tr>\n",
       "      <td>A4GNT</td>\n",
       "      <td>2</td>\n",
       "    </tr>\n",
       "    <tr>\n",
       "      <td>AAAS</td>\n",
       "      <td>3</td>\n",
       "    </tr>\n",
       "    <tr>\n",
       "      <td>...</td>\n",
       "      <td>...</td>\n",
       "    </tr>\n",
       "    <tr>\n",
       "      <td>ZWILCH</td>\n",
       "      <td>19</td>\n",
       "    </tr>\n",
       "    <tr>\n",
       "      <td>ZXDA</td>\n",
       "      <td>7</td>\n",
       "    </tr>\n",
       "    <tr>\n",
       "      <td>ZYX</td>\n",
       "      <td>2</td>\n",
       "    </tr>\n",
       "    <tr>\n",
       "      <td>hsa-mir-1199</td>\n",
       "      <td>3</td>\n",
       "    </tr>\n",
       "    <tr>\n",
       "      <td>hsa-mir-150</td>\n",
       "      <td>16</td>\n",
       "    </tr>\n",
       "  </tbody>\n",
       "</table>\n",
       "<p>8646 rows × 1 columns</p>\n",
       "</div>"
      ],
      "text/plain": [
       "              num_atac_regions\n",
       "A2ML1                        7\n",
       "A3GALT2                      4\n",
       "A4GALT                       2\n",
       "A4GNT                        2\n",
       "AAAS                         3\n",
       "...                        ...\n",
       "ZWILCH                      19\n",
       "ZXDA                         7\n",
       "ZYX                          2\n",
       "hsa-mir-1199                 3\n",
       "hsa-mir-150                 16\n",
       "\n",
       "[8646 rows x 1 columns]"
      ]
     },
     "execution_count": 523,
     "metadata": {},
     "output_type": "execute_result"
    }
   ],
   "source": [
    "# atac_count_prom\n",
    "# atac_count_anchor\n",
    "atac_count_loop"
   ]
  },
  {
   "cell_type": "code",
   "execution_count": 587,
   "metadata": {},
   "outputs": [
    {
     "data": {
      "text/plain": [
       "((24811, 231), (24811, 234))"
      ]
     },
     "execution_count": 587,
     "metadata": {},
     "output_type": "execute_result"
    }
   ],
   "source": [
    "all_count_sum_1 = all_count_sum.copy()\n",
    "all_count_sum_1['tissue'] = 'test1'\n",
    "all_count_sum_1.drop(['AHR','ARID5B','ARNT','ARNTL'],axis=1,inplace=True)\n",
    "all_count_sum_2 = all_count_sum.copy()\n",
    "all_count_sum_2['tissue'] = 'test2'\n",
    "all_count_sum_2.drop(['ZNF816'],axis=1,inplace=True)\n",
    "all_count_sum_1.shape, all_count_sum_2.shape"
   ]
  },
  {
   "cell_type": "code",
   "execution_count": 582,
   "metadata": {},
   "outputs": [],
   "source": [
    "all_count_sum_overall = pd.DataFrame()"
   ]
  },
  {
   "cell_type": "code",
   "execution_count": 589,
   "metadata": {},
   "outputs": [
    {
     "name": "stderr",
     "output_type": "stream",
     "text": [
      "/Users/mguo123/opt/anaconda3/lib/python3.7/site-packages/ipykernel_launcher.py:1: FutureWarning: Sorting because non-concatenation axis is not aligned. A future version\n",
      "of pandas will change to not sort by default.\n",
      "\n",
      "To accept the future behavior, pass 'sort=False'.\n",
      "\n",
      "To retain the current behavior and silence the warning, pass 'sort=True'.\n",
      "\n",
      "  \"\"\"Entry point for launching an IPython kernel.\n"
     ]
    },
    {
     "data": {
      "text/html": [
       "<div>\n",
       "<style scoped>\n",
       "    .dataframe tbody tr th:only-of-type {\n",
       "        vertical-align: middle;\n",
       "    }\n",
       "\n",
       "    .dataframe tbody tr th {\n",
       "        vertical-align: top;\n",
       "    }\n",
       "\n",
       "    .dataframe thead th {\n",
       "        text-align: right;\n",
       "    }\n",
       "</style>\n",
       "<table border=\"1\" class=\"dataframe\">\n",
       "  <thead>\n",
       "    <tr style=\"text-align: right;\">\n",
       "      <th></th>\n",
       "      <th>AHR</th>\n",
       "      <th>ARID5B</th>\n",
       "      <th>ARNT</th>\n",
       "      <th>ARNTL</th>\n",
       "      <th>ATF1</th>\n",
       "      <th>ATF2</th>\n",
       "      <th>ATF3</th>\n",
       "      <th>ATF4</th>\n",
       "      <th>ATF6</th>\n",
       "      <th>BACH1</th>\n",
       "      <th>...</th>\n",
       "      <th>ZNF680</th>\n",
       "      <th>ZNF768</th>\n",
       "      <th>ZNF770</th>\n",
       "      <th>ZNF816</th>\n",
       "      <th>ZNF85</th>\n",
       "      <th>exp</th>\n",
       "      <th>num_atac_regions</th>\n",
       "      <th>num_loop_counts</th>\n",
       "      <th>num_loops</th>\n",
       "      <th>tissue</th>\n",
       "    </tr>\n",
       "  </thead>\n",
       "  <tbody>\n",
       "    <tr>\n",
       "      <td>A1BG</td>\n",
       "      <td>0.0</td>\n",
       "      <td>0.0</td>\n",
       "      <td>0.0</td>\n",
       "      <td>0.0</td>\n",
       "      <td>0.0</td>\n",
       "      <td>0.0</td>\n",
       "      <td>0.0</td>\n",
       "      <td>0.0</td>\n",
       "      <td>0.0</td>\n",
       "      <td>0.0</td>\n",
       "      <td>...</td>\n",
       "      <td>0.0</td>\n",
       "      <td>0.0</td>\n",
       "      <td>0.0</td>\n",
       "      <td>0.0</td>\n",
       "      <td>0.0</td>\n",
       "      <td>10.045</td>\n",
       "      <td>0.0</td>\n",
       "      <td>0.0</td>\n",
       "      <td>0.0</td>\n",
       "      <td>test1</td>\n",
       "    </tr>\n",
       "    <tr>\n",
       "      <td>A1BG-AS1</td>\n",
       "      <td>0.0</td>\n",
       "      <td>0.0</td>\n",
       "      <td>0.0</td>\n",
       "      <td>0.0</td>\n",
       "      <td>0.0</td>\n",
       "      <td>0.0</td>\n",
       "      <td>0.0</td>\n",
       "      <td>0.0</td>\n",
       "      <td>0.0</td>\n",
       "      <td>0.0</td>\n",
       "      <td>...</td>\n",
       "      <td>0.0</td>\n",
       "      <td>0.0</td>\n",
       "      <td>0.0</td>\n",
       "      <td>0.0</td>\n",
       "      <td>0.0</td>\n",
       "      <td>0.050</td>\n",
       "      <td>0.0</td>\n",
       "      <td>0.0</td>\n",
       "      <td>0.0</td>\n",
       "      <td>test1</td>\n",
       "    </tr>\n",
       "    <tr>\n",
       "      <td>A1CF</td>\n",
       "      <td>0.0</td>\n",
       "      <td>0.0</td>\n",
       "      <td>0.0</td>\n",
       "      <td>0.0</td>\n",
       "      <td>0.0</td>\n",
       "      <td>0.0</td>\n",
       "      <td>0.0</td>\n",
       "      <td>0.0</td>\n",
       "      <td>0.0</td>\n",
       "      <td>0.0</td>\n",
       "      <td>...</td>\n",
       "      <td>0.0</td>\n",
       "      <td>0.0</td>\n",
       "      <td>0.0</td>\n",
       "      <td>0.0</td>\n",
       "      <td>0.0</td>\n",
       "      <td>0.000</td>\n",
       "      <td>0.0</td>\n",
       "      <td>0.0</td>\n",
       "      <td>0.0</td>\n",
       "      <td>test1</td>\n",
       "    </tr>\n",
       "    <tr>\n",
       "      <td>A2M</td>\n",
       "      <td>0.0</td>\n",
       "      <td>0.0</td>\n",
       "      <td>0.0</td>\n",
       "      <td>0.0</td>\n",
       "      <td>0.0</td>\n",
       "      <td>0.0</td>\n",
       "      <td>0.0</td>\n",
       "      <td>0.0</td>\n",
       "      <td>0.0</td>\n",
       "      <td>0.0</td>\n",
       "      <td>...</td>\n",
       "      <td>0.0</td>\n",
       "      <td>0.0</td>\n",
       "      <td>0.0</td>\n",
       "      <td>0.0</td>\n",
       "      <td>0.0</td>\n",
       "      <td>0.925</td>\n",
       "      <td>0.0</td>\n",
       "      <td>0.0</td>\n",
       "      <td>0.0</td>\n",
       "      <td>test1</td>\n",
       "    </tr>\n",
       "    <tr>\n",
       "      <td>A2M-AS1</td>\n",
       "      <td>0.0</td>\n",
       "      <td>0.0</td>\n",
       "      <td>0.0</td>\n",
       "      <td>0.0</td>\n",
       "      <td>0.0</td>\n",
       "      <td>0.0</td>\n",
       "      <td>0.0</td>\n",
       "      <td>0.0</td>\n",
       "      <td>0.0</td>\n",
       "      <td>0.0</td>\n",
       "      <td>...</td>\n",
       "      <td>0.0</td>\n",
       "      <td>0.0</td>\n",
       "      <td>0.0</td>\n",
       "      <td>0.0</td>\n",
       "      <td>0.0</td>\n",
       "      <td>0.000</td>\n",
       "      <td>0.0</td>\n",
       "      <td>0.0</td>\n",
       "      <td>0.0</td>\n",
       "      <td>test1</td>\n",
       "    </tr>\n",
       "    <tr>\n",
       "      <td>...</td>\n",
       "      <td>...</td>\n",
       "      <td>...</td>\n",
       "      <td>...</td>\n",
       "      <td>...</td>\n",
       "      <td>...</td>\n",
       "      <td>...</td>\n",
       "      <td>...</td>\n",
       "      <td>...</td>\n",
       "      <td>...</td>\n",
       "      <td>...</td>\n",
       "      <td>...</td>\n",
       "      <td>...</td>\n",
       "      <td>...</td>\n",
       "      <td>...</td>\n",
       "      <td>...</td>\n",
       "      <td>...</td>\n",
       "      <td>...</td>\n",
       "      <td>...</td>\n",
       "      <td>...</td>\n",
       "      <td>...</td>\n",
       "      <td>...</td>\n",
       "    </tr>\n",
       "    <tr>\n",
       "      <td>ZYG11A</td>\n",
       "      <td>0.0</td>\n",
       "      <td>0.0</td>\n",
       "      <td>0.0</td>\n",
       "      <td>0.0</td>\n",
       "      <td>0.0</td>\n",
       "      <td>0.0</td>\n",
       "      <td>0.0</td>\n",
       "      <td>0.0</td>\n",
       "      <td>0.0</td>\n",
       "      <td>0.0</td>\n",
       "      <td>...</td>\n",
       "      <td>0.0</td>\n",
       "      <td>0.0</td>\n",
       "      <td>0.0</td>\n",
       "      <td>0.0</td>\n",
       "      <td>0.0</td>\n",
       "      <td>0.280</td>\n",
       "      <td>0.0</td>\n",
       "      <td>0.0</td>\n",
       "      <td>0.0</td>\n",
       "      <td>test2</td>\n",
       "    </tr>\n",
       "    <tr>\n",
       "      <td>ZYG11B</td>\n",
       "      <td>0.0</td>\n",
       "      <td>0.0</td>\n",
       "      <td>0.0</td>\n",
       "      <td>0.0</td>\n",
       "      <td>0.0</td>\n",
       "      <td>0.0</td>\n",
       "      <td>0.0</td>\n",
       "      <td>0.0</td>\n",
       "      <td>0.0</td>\n",
       "      <td>0.0</td>\n",
       "      <td>...</td>\n",
       "      <td>0.0</td>\n",
       "      <td>0.0</td>\n",
       "      <td>0.0</td>\n",
       "      <td>0.0</td>\n",
       "      <td>0.0</td>\n",
       "      <td>5.455</td>\n",
       "      <td>0.0</td>\n",
       "      <td>0.0</td>\n",
       "      <td>0.0</td>\n",
       "      <td>test2</td>\n",
       "    </tr>\n",
       "    <tr>\n",
       "      <td>ZYX</td>\n",
       "      <td>0.0</td>\n",
       "      <td>0.0</td>\n",
       "      <td>0.0</td>\n",
       "      <td>0.0</td>\n",
       "      <td>0.0</td>\n",
       "      <td>0.0</td>\n",
       "      <td>0.0</td>\n",
       "      <td>0.0</td>\n",
       "      <td>0.0</td>\n",
       "      <td>0.0</td>\n",
       "      <td>...</td>\n",
       "      <td>0.0</td>\n",
       "      <td>0.0</td>\n",
       "      <td>0.0</td>\n",
       "      <td>0.0</td>\n",
       "      <td>0.0</td>\n",
       "      <td>7.945</td>\n",
       "      <td>0.0</td>\n",
       "      <td>17.0</td>\n",
       "      <td>1.0</td>\n",
       "      <td>test2</td>\n",
       "    </tr>\n",
       "    <tr>\n",
       "      <td>ZZEF1</td>\n",
       "      <td>0.0</td>\n",
       "      <td>0.0</td>\n",
       "      <td>0.0</td>\n",
       "      <td>0.0</td>\n",
       "      <td>0.0</td>\n",
       "      <td>0.0</td>\n",
       "      <td>0.0</td>\n",
       "      <td>0.0</td>\n",
       "      <td>0.0</td>\n",
       "      <td>0.0</td>\n",
       "      <td>...</td>\n",
       "      <td>0.0</td>\n",
       "      <td>0.0</td>\n",
       "      <td>0.0</td>\n",
       "      <td>0.0</td>\n",
       "      <td>0.0</td>\n",
       "      <td>1.270</td>\n",
       "      <td>0.0</td>\n",
       "      <td>0.0</td>\n",
       "      <td>0.0</td>\n",
       "      <td>test2</td>\n",
       "    </tr>\n",
       "    <tr>\n",
       "      <td>ZZZ3</td>\n",
       "      <td>0.0</td>\n",
       "      <td>0.0</td>\n",
       "      <td>0.0</td>\n",
       "      <td>0.0</td>\n",
       "      <td>0.0</td>\n",
       "      <td>0.0</td>\n",
       "      <td>0.0</td>\n",
       "      <td>0.0</td>\n",
       "      <td>0.0</td>\n",
       "      <td>0.0</td>\n",
       "      <td>...</td>\n",
       "      <td>0.0</td>\n",
       "      <td>0.0</td>\n",
       "      <td>0.0</td>\n",
       "      <td>0.0</td>\n",
       "      <td>0.0</td>\n",
       "      <td>8.860</td>\n",
       "      <td>0.0</td>\n",
       "      <td>0.0</td>\n",
       "      <td>0.0</td>\n",
       "      <td>test2</td>\n",
       "    </tr>\n",
       "  </tbody>\n",
       "</table>\n",
       "<p>49622 rows × 235 columns</p>\n",
       "</div>"
      ],
      "text/plain": [
       "          AHR  ARID5B  ARNT  ARNTL  ATF1  ATF2  ATF3  ATF4  ATF6  BACH1  ...  \\\n",
       "A1BG      0.0     0.0   0.0    0.0   0.0   0.0   0.0   0.0   0.0    0.0  ...   \n",
       "A1BG-AS1  0.0     0.0   0.0    0.0   0.0   0.0   0.0   0.0   0.0    0.0  ...   \n",
       "A1CF      0.0     0.0   0.0    0.0   0.0   0.0   0.0   0.0   0.0    0.0  ...   \n",
       "A2M       0.0     0.0   0.0    0.0   0.0   0.0   0.0   0.0   0.0    0.0  ...   \n",
       "A2M-AS1   0.0     0.0   0.0    0.0   0.0   0.0   0.0   0.0   0.0    0.0  ...   \n",
       "...       ...     ...   ...    ...   ...   ...   ...   ...   ...    ...  ...   \n",
       "ZYG11A    0.0     0.0   0.0    0.0   0.0   0.0   0.0   0.0   0.0    0.0  ...   \n",
       "ZYG11B    0.0     0.0   0.0    0.0   0.0   0.0   0.0   0.0   0.0    0.0  ...   \n",
       "ZYX       0.0     0.0   0.0    0.0   0.0   0.0   0.0   0.0   0.0    0.0  ...   \n",
       "ZZEF1     0.0     0.0   0.0    0.0   0.0   0.0   0.0   0.0   0.0    0.0  ...   \n",
       "ZZZ3      0.0     0.0   0.0    0.0   0.0   0.0   0.0   0.0   0.0    0.0  ...   \n",
       "\n",
       "          ZNF680  ZNF768  ZNF770  ZNF816  ZNF85     exp  num_atac_regions  \\\n",
       "A1BG         0.0     0.0     0.0     0.0    0.0  10.045               0.0   \n",
       "A1BG-AS1     0.0     0.0     0.0     0.0    0.0   0.050               0.0   \n",
       "A1CF         0.0     0.0     0.0     0.0    0.0   0.000               0.0   \n",
       "A2M          0.0     0.0     0.0     0.0    0.0   0.925               0.0   \n",
       "A2M-AS1      0.0     0.0     0.0     0.0    0.0   0.000               0.0   \n",
       "...          ...     ...     ...     ...    ...     ...               ...   \n",
       "ZYG11A       0.0     0.0     0.0     0.0    0.0   0.280               0.0   \n",
       "ZYG11B       0.0     0.0     0.0     0.0    0.0   5.455               0.0   \n",
       "ZYX          0.0     0.0     0.0     0.0    0.0   7.945               0.0   \n",
       "ZZEF1        0.0     0.0     0.0     0.0    0.0   1.270               0.0   \n",
       "ZZZ3         0.0     0.0     0.0     0.0    0.0   8.860               0.0   \n",
       "\n",
       "          num_loop_counts  num_loops  tissue  \n",
       "A1BG                  0.0        0.0   test1  \n",
       "A1BG-AS1              0.0        0.0   test1  \n",
       "A1CF                  0.0        0.0   test1  \n",
       "A2M                   0.0        0.0   test1  \n",
       "A2M-AS1               0.0        0.0   test1  \n",
       "...                   ...        ...     ...  \n",
       "ZYG11A                0.0        0.0   test2  \n",
       "ZYG11B                0.0        0.0   test2  \n",
       "ZYX                  17.0        1.0   test2  \n",
       "ZZEF1                 0.0        0.0   test2  \n",
       "ZZZ3                  0.0        0.0   test2  \n",
       "\n",
       "[49622 rows x 235 columns]"
      ]
     },
     "execution_count": 589,
     "metadata": {},
     "output_type": "execute_result"
    }
   ],
   "source": [
    "pd.concat([all_count_sum_overall, all_count_sum_2]).fillna(0)"
   ]
  },
  {
   "cell_type": "code",
   "execution_count": null,
   "metadata": {},
   "outputs": [],
   "source": []
  }
 ],
 "metadata": {
  "kernelspec": {
   "display_name": "Python 3",
   "language": "python",
   "name": "python3"
  },
  "language_info": {
   "codemirror_mode": {
    "name": "ipython",
    "version": 3
   },
   "file_extension": ".py",
   "mimetype": "text/x-python",
   "name": "python",
   "nbconvert_exporter": "python",
   "pygments_lexer": "ipython3",
   "version": "3.7.4"
  }
 },
 "nbformat": 4,
 "nbformat_minor": 4
}
