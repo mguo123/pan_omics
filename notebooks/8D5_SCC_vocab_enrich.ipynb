{
 "cells": [
  {
   "cell_type": "markdown",
   "metadata": {},
   "source": [
    "08/20/2020\n",
    "\n",
    "SCC Vocab Finder"
   ]
  },
  {
   "cell_type": "code",
   "execution_count": 1,
   "metadata": {},
   "outputs": [],
   "source": [
    "# basic packages\n",
    "import os, glob\n",
    "import pandas as pd\n",
    "import numpy as np; np.random.seed(0)\n",
    "import itertools\n",
    "from collections import Counter, defaultdict\n",
    "import time\n",
    "# Import tools needed for visualization\n",
    "import seaborn as sns; sns.set()\n",
    "import matplotlib\n",
    "import matplotlib.pyplot as plt"
   ]
  },
  {
   "cell_type": "code",
   "execution_count": 2,
   "metadata": {},
   "outputs": [],
   "source": [
    "save_dir = '../data/processed/fig4_modelling/vocab_sum/'\n",
    "if not os.path.exists(save_dir):\n",
    "    os.makedirs(save_dir)"
   ]
  },
  {
   "cell_type": "code",
   "execution_count": 3,
   "metadata": {},
   "outputs": [],
   "source": [
    "TISSUE = 'SCC'"
   ]
  },
  {
   "cell_type": "code",
   "execution_count": 4,
   "metadata": {},
   "outputs": [],
   "source": [
    "MAX_DIST=135\n"
   ]
  },
  {
   "cell_type": "code",
   "execution_count": 5,
   "metadata": {},
   "outputs": [
    {
     "name": "stdout",
     "output_type": "stream",
     "text": [
      "97\n",
      "['ATF1', 'ATF2', 'ATF3', 'ATF4', 'ATF5', 'BARX2', 'CEBPA', 'CEBPG', 'DLX3', 'DLX5', 'E2F1', 'E2F3', 'E2F4', 'E2F7', 'ELF5', 'ESRRA', 'ETS1', 'ETV4', 'FOS', 'FOSL1', 'FOSL2', 'FOXF2', 'FOXK2', 'FOXP1', 'GRHL1', 'GRHL2', 'HES1', 'HES2', 'HOMEZ', 'HOXA1', 'HOXC11', 'HOXC13', 'ID3', 'IRX2', 'IRX4', 'JUN', 'JUNB', 'JUND', 'KER2', 'KLF16', 'KLF4', 'KLF5', 'LDB2', 'MAF', 'MAFB', 'MAML3', 'NR3C1', 'OTX1', 'OVOL1', 'PBX1', 'PBX2', 'POU1F1', 'POU2F1', 'POU2F2', 'POU2F3', 'POU3F1', 'POU3F2', 'POU3F3', 'POU3F4', 'POU4F1', 'POU4F2', 'POU4F3', 'POU5F1', 'POU5F1B', 'POU6F1', 'POU6F2', 'PRDM1', 'PRRX1', 'RARG', 'RELB', 'RORA', 'RUNX1', 'SMAD4', 'SOX11', 'SOX15', 'SOX6', 'SOX7', 'SOX9', 'SP1', 'SP3', 'STAT1', 'STAT6', 'TCF4', 'TCF7L2', 'TFAP2A', 'TFAP2B', 'TFAP2C', 'TFAP2D', 'TFDP1', 'TP63', 'TWIST2', 'VDR', 'VGLL1', 'XBP1', 'ZBTB7B', 'ZEB1', 'ZNF219']\n"
     ]
    }
   ],
   "source": [
    "#get tfs\n",
    "tf_df = pd.read_csv('../data/external/transcription_factor_info_063020.csv')\n",
    "TFS = sorted(set(tf_df[tf_df['cell_type']=='Keratinocytes'][\"tf\"]))##### DIFFERENT FOR EACH TISSUE\n",
    "print(len(TFS))\n",
    "print(TFS)\n"
   ]
  },
  {
   "cell_type": "code",
   "execution_count": 6,
   "metadata": {},
   "outputs": [],
   "source": [
    "vocab_dir = '../data/processed/fig4_modelling/tf_tf_pairs/'"
   ]
  },
  {
   "cell_type": "markdown",
   "metadata": {},
   "source": [
    "read in loop_types"
   ]
  },
  {
   "cell_type": "code",
   "execution_count": 7,
   "metadata": {},
   "outputs": [
    {
     "data": {
      "text/plain": [
       "['../data/processed/fig4_modelling/tf_tf_pairs_scc/expr_A431-CTRLi_loop_type.csv',\n",
       " '../data/processed/fig4_modelling/tf_tf_pairs_scc/expr_SCC13-CTRLi_loop_type.csv',\n",
       " '../data/processed/fig4_modelling/tf_tf_pairs_scc/diff_A431-CTRLi_loop_type.csv',\n",
       " '../data/processed/fig4_modelling/tf_tf_pairs_scc/diff_SCC13-CTRLi_loop_type.csv',\n",
       " '../data/processed/fig4_modelling/tf_tf_pairs_scc/diff_CAL27-CTRLi_loop_type.csv',\n",
       " '../data/processed/fig4_modelling/tf_tf_pairs_scc/expr_CAL27-CTRLi_loop_type.csv']"
      ]
     },
     "execution_count": 7,
     "metadata": {},
     "output_type": "execute_result"
    }
   ],
   "source": [
    "glob.glob('../data/processed/fig4_modelling/tf_tf_pairs_scc/'+'*loop_type*')"
   ]
  },
  {
   "cell_type": "markdown",
   "metadata": {},
   "source": [
    "# 1 understand the types of vocabularies pulled out and where they come from\n",
    "\n",
    "## 1A. enriched vocabularies from unique tissue genes"
   ]
  },
  {
   "cell_type": "code",
   "execution_count": 8,
   "metadata": {},
   "outputs": [],
   "source": [
    "loop_type_df_1 = pd.read_csv('../data/processed/fig4_modelling/tf_tf_pairs_scc/diff_A431-CTRLi_loop_type.csv',index_col=0).fillna('')\n",
    "loop_type_df_2 = pd.read_csv('../data/processed/fig4_modelling/tf_tf_pairs_scc/diff_CAL27-CTRLi_loop_type.csv',index_col=0).fillna('')\n",
    "loop_type_df_3 = pd.read_csv('../data/processed/fig4_modelling/tf_tf_pairs_scc/diff_SCC13-CTRLi_loop_type.csv',index_col=0).fillna('')\n"
   ]
  },
  {
   "cell_type": "code",
   "execution_count": 9,
   "metadata": {},
   "outputs": [
    {
     "data": {
      "text/html": [
       "<div>\n",
       "<style scoped>\n",
       "    .dataframe tbody tr th:only-of-type {\n",
       "        vertical-align: middle;\n",
       "    }\n",
       "\n",
       "    .dataframe tbody tr th {\n",
       "        vertical-align: top;\n",
       "    }\n",
       "\n",
       "    .dataframe thead th {\n",
       "        text-align: right;\n",
       "    }\n",
       "</style>\n",
       "<table border=\"1\" class=\"dataframe\">\n",
       "  <thead>\n",
       "    <tr style=\"text-align: right;\">\n",
       "      <th></th>\n",
       "      <th>pro_pro_count</th>\n",
       "      <th>pro_loop_count</th>\n",
       "      <th>loop_loop_count</th>\n",
       "    </tr>\n",
       "  </thead>\n",
       "  <tbody>\n",
       "    <tr>\n",
       "      <td>EGR2::EGR3</td>\n",
       "      <td>0</td>\n",
       "      <td>0</td>\n",
       "      <td>23</td>\n",
       "    </tr>\n",
       "    <tr>\n",
       "      <td>EGR2::EGR4</td>\n",
       "      <td>1</td>\n",
       "      <td>2</td>\n",
       "      <td>61</td>\n",
       "    </tr>\n",
       "    <tr>\n",
       "      <td>EGR2::ELF3</td>\n",
       "      <td>0</td>\n",
       "      <td>1</td>\n",
       "      <td>43</td>\n",
       "    </tr>\n",
       "    <tr>\n",
       "      <td>EGR2::FLI1</td>\n",
       "      <td>0</td>\n",
       "      <td>0</td>\n",
       "      <td>0</td>\n",
       "    </tr>\n",
       "    <tr>\n",
       "      <td>EGR2::FOXJ3</td>\n",
       "      <td>0</td>\n",
       "      <td>0</td>\n",
       "      <td>39</td>\n",
       "    </tr>\n",
       "  </tbody>\n",
       "</table>\n",
       "</div>"
      ],
      "text/plain": [
       "             pro_pro_count  pro_loop_count  loop_loop_count\n",
       "EGR2::EGR3               0               0               23\n",
       "EGR2::EGR4               1               2               61\n",
       "EGR2::ELF3               0               1               43\n",
       "EGR2::FLI1               0               0                0\n",
       "EGR2::FOXJ3              0               0               39"
      ]
     },
     "execution_count": 9,
     "metadata": {},
     "output_type": "execute_result"
    }
   ],
   "source": [
    "loop_type_df_all = loop_type_df_1[['pro_pro_count','pro_loop_count','loop_pro_count','loop_loop_count']]+loop_type_df_2[['pro_pro_count','pro_loop_count','loop_pro_count','loop_loop_count']]+loop_type_df_3[['pro_pro_count','pro_loop_count','loop_pro_count','loop_loop_count']]\n",
    "loop_type_df_all['pro_loop_count'] = loop_type_df_all['pro_loop_count']+ loop_type_df_all['loop_pro_count']\n",
    "loop_type_df_all = loop_type_df_all[['pro_pro_count','pro_loop_count','loop_loop_count']]\n",
    "loop_type_df_all[:5]"
   ]
  },
  {
   "cell_type": "code",
   "execution_count": 10,
   "metadata": {},
   "outputs": [
    {
     "name": "stdout",
     "output_type": "stream",
     "text": [
      "20\n"
     ]
    }
   ],
   "source": [
    "# for motifs\n",
    "# 1. get motifs\n",
    "motifs = set()\n",
    "for vocab_pair in loop_type_df_all.index.values:\n",
    "    v1, v2 = vocab_pair.split('::')\n",
    "    motifs.add(v1)\n",
    "    motifs.add(v2)\n",
    "motifs = sorted(motifs)\n",
    "print(len(motifs))\n",
    "\n",
    "# 2. initialize counts\n",
    "motif_counts_dict = {}\n",
    "for motif in motifs:\n",
    "    motif_counts_dict[motif] = {'pro_pro_count':0,'loop_loop_count':0,'pro_loop_count':0} #list of counts for pro_pro_count, loop_loop_count, pro_loop_count, respectively\n",
    "    \n",
    "# 3. run through loop_type_df to fill in motif_counts_dict\n",
    "for vocab_pair, row in loop_type_df_all.iterrows():\n",
    "    v1, v2 = vocab_pair.split('::')\n",
    "    motif_counts_dict[v1]['pro_pro_count'] +=row['pro_pro_count']\n",
    "    motif_counts_dict[v2]['pro_pro_count'] +=row['pro_pro_count']\n",
    "    motif_counts_dict[v1]['loop_loop_count'] +=row['loop_loop_count']\n",
    "    motif_counts_dict[v2]['loop_loop_count'] +=row['loop_loop_count']\n",
    "    motif_counts_dict[v1]['pro_loop_count'] +=row['pro_loop_count']\n",
    "    motif_counts_dict[v2]['pro_loop_count'] +=row['pro_loop_count']\n",
    "            \n",
    "motif_counts_df = pd.DataFrame.from_dict(motif_counts_dict,orient='index')   \n",
    "motif_counts_df_norm = motif_counts_df/motif_counts_df.sum(axis=0)\n",
    "motif_counts_df_norm_sel = motif_counts_df_norm.reset_index()[motif_counts_df_norm.reset_index()['index'].isin(TFS)]\n",
    "motif_counts_df_norm_sel.set_index('index',inplace=True)"
   ]
  },
  {
   "cell_type": "code",
   "execution_count": 48,
   "metadata": {},
   "outputs": [
    {
     "data": {
      "image/png": "[encoded data removed]",
      "text/plain": [
       "<Figure size 1440x504 with 1 Axes>"
      ]
     },
     "metadata": {
      "needs_background": "light"
     },
     "output_type": "display_data"
    }
   ],
   "source": [
    "# all tfs\n",
    "ax = motif_counts_df_norm.sort_values('pro_pro_count').plot(kind='bar', stacked=True,figsize = (20,7),fontsize=9)\n",
    "ax.figure.savefig(os.path.join(save_dir, TISSUE+'_diff_config_count_bar.pdf'))\n"
   ]
  },
  {
   "cell_type": "code",
   "execution_count": 49,
   "metadata": {},
   "outputs": [],
   "source": [
    "#same graph as before but only for tissue specific TFS\n",
    "\n",
    "# ax = motif_counts_df_norm_sel.sort_values('pro_pro_count').plot(kind='bar', stacked=True,figsize = (10,7),fontsize=12)\n",
    "# ax.figure.savefig(os.path.join(save_dir, TISSUE+'_diff_config_count_sel_bar.pdf'))\n"
   ]
  },
  {
   "cell_type": "markdown",
   "metadata": {},
   "source": [
    "this shows the likelihood of the motif appears in a vocab pair from pro_pro, pro_loop, or loop_loop configurations, GIVEN that it does appear at all (so normalized by both the probability of the configuration type as well as by the motif frequency itself\n"
   ]
  },
  {
   "cell_type": "code",
   "execution_count": 50,
   "metadata": {},
   "outputs": [
    {
     "data": {
      "image/png": "[encoded data removed]",
      "text/plain": [
       "<Figure size 1440x504 with 1 Axes>"
      ]
     },
     "metadata": {
      "needs_background": "light"
     },
     "output_type": "display_data"
    }
   ],
   "source": [
    "ax = motif_counts_df_norm.div(motif_counts_df_norm.sum(axis=1),axis=0).sort_values('pro_pro_count').plot(kind='bar', stacked=True,\n",
    "                                                                                                    figsize = (20,7),fontsize=9)\n",
    "ax.figure.savefig(os.path.join(save_dir, TISSUE+'_diff_config_count_norm_bar.pdf'))\n"
   ]
  },
  {
   "cell_type": "code",
   "execution_count": 51,
   "metadata": {},
   "outputs": [],
   "source": [
    "# ax = motif_counts_df_norm_sel.div(motif_counts_df_norm_sel.sum(axis=1),axis=0).sort_values('pro_pro_count').plot(kind='bar', stacked=True,\n",
    "#                                                                                                     figsize = (10,7),fontsize=12)\n",
    "# ax.figure.savefig(os.path.join(save_dir, TISSUE+'_diff_config_count_norm_sel_bar.pdf'))\n"
   ]
  },
  {
   "cell_type": "markdown",
   "metadata": {},
   "source": [
    "## 1b enriched vocab from expressed genes in all scc lines"
   ]
  },
  {
   "cell_type": "code",
   "execution_count": 52,
   "metadata": {},
   "outputs": [],
   "source": [
    "loop_type_df_1 = pd.read_csv('../data/processed/fig4_modelling/tf_tf_pairs_scc/expr_A431-CTRLi_loop_type.csv',index_col=0).fillna('')\n",
    "loop_type_df_2 = pd.read_csv('../data/processed/fig4_modelling/tf_tf_pairs_scc/expr_CAL27-CTRLi_loop_type.csv',index_col=0).fillna('')\n",
    "loop_type_df_3 = pd.read_csv('../data/processed/fig4_modelling/tf_tf_pairs_scc/expr_SCC13-CTRLi_loop_type.csv',index_col=0).fillna('')\n"
   ]
  },
  {
   "cell_type": "code",
   "execution_count": 53,
   "metadata": {},
   "outputs": [
    {
     "data": {
      "text/html": [
       "<div>\n",
       "<style scoped>\n",
       "    .dataframe tbody tr th:only-of-type {\n",
       "        vertical-align: middle;\n",
       "    }\n",
       "\n",
       "    .dataframe tbody tr th {\n",
       "        vertical-align: top;\n",
       "    }\n",
       "\n",
       "    .dataframe thead th {\n",
       "        text-align: right;\n",
       "    }\n",
       "</style>\n",
       "<table border=\"1\" class=\"dataframe\">\n",
       "  <thead>\n",
       "    <tr style=\"text-align: right;\">\n",
       "      <th></th>\n",
       "      <th>pro_pro_count</th>\n",
       "      <th>pro_loop_count</th>\n",
       "      <th>loop_loop_count</th>\n",
       "    </tr>\n",
       "  </thead>\n",
       "  <tbody>\n",
       "    <tr>\n",
       "      <td>ALX4::ARNT</td>\n",
       "      <td>0</td>\n",
       "      <td>0</td>\n",
       "      <td>5</td>\n",
       "    </tr>\n",
       "    <tr>\n",
       "      <td>ALX4::ARNTL</td>\n",
       "      <td>0</td>\n",
       "      <td>0</td>\n",
       "      <td>4</td>\n",
       "    </tr>\n",
       "    <tr>\n",
       "      <td>ALX4::BATF3</td>\n",
       "      <td>0</td>\n",
       "      <td>0</td>\n",
       "      <td>0</td>\n",
       "    </tr>\n",
       "    <tr>\n",
       "      <td>ALX4::CBFB</td>\n",
       "      <td>0</td>\n",
       "      <td>0</td>\n",
       "      <td>4</td>\n",
       "    </tr>\n",
       "    <tr>\n",
       "      <td>ALX4::CEBPZ</td>\n",
       "      <td>0</td>\n",
       "      <td>0</td>\n",
       "      <td>6</td>\n",
       "    </tr>\n",
       "  </tbody>\n",
       "</table>\n",
       "</div>"
      ],
      "text/plain": [
       "             pro_pro_count  pro_loop_count  loop_loop_count\n",
       "ALX4::ARNT               0               0                5\n",
       "ALX4::ARNTL              0               0                4\n",
       "ALX4::BATF3              0               0                0\n",
       "ALX4::CBFB               0               0                4\n",
       "ALX4::CEBPZ              0               0                6"
      ]
     },
     "execution_count": 53,
     "metadata": {},
     "output_type": "execute_result"
    }
   ],
   "source": [
    "loop_type_df_all = loop_type_df_1[['pro_pro_count','pro_loop_count','loop_pro_count','loop_loop_count']]+loop_type_df_2[['pro_pro_count','pro_loop_count','loop_pro_count','loop_loop_count']]+loop_type_df_3[['pro_pro_count','pro_loop_count','loop_pro_count','loop_loop_count']]\n",
    "loop_type_df_all['pro_loop_count'] = loop_type_df_all['pro_loop_count']+ loop_type_df_all['loop_pro_count']\n",
    "loop_type_df_all = loop_type_df_all[['pro_pro_count','pro_loop_count','loop_loop_count']]\n",
    "loop_type_df_all[:5]"
   ]
  },
  {
   "cell_type": "code",
   "execution_count": 54,
   "metadata": {},
   "outputs": [
    {
     "name": "stdout",
     "output_type": "stream",
     "text": [
      "176\n",
      "(21, 4)\n"
     ]
    }
   ],
   "source": [
    "# for motifs\n",
    "# 1. get motifs\n",
    "motifs = set()\n",
    "for vocab_pair in loop_type_df_all.index.values:\n",
    "    v1, v2 = vocab_pair.split('::')\n",
    "    motifs.add(v1)\n",
    "    motifs.add(v2)\n",
    "motifs = sorted(motifs)\n",
    "print(len(motifs))\n",
    "\n",
    "# 2. initialize counts\n",
    "motif_counts_dict = {}\n",
    "for motif in motifs:\n",
    "    motif_counts_dict[motif] = {'pro_pro_count':0,'loop_loop_count':0,'pro_loop_count':0} #list of counts for pro_pro_count, loop_loop_count, pro_loop_count, respectively\n",
    "    \n",
    "# 3. run through loop_type_df to fill in motif_counts_dict\n",
    "for vocab_pair, row in loop_type_df_all.iterrows():\n",
    "    v1, v2 = vocab_pair.split('::')\n",
    "    motif_counts_dict[v1]['pro_pro_count'] +=row['pro_pro_count']\n",
    "    motif_counts_dict[v2]['pro_pro_count'] +=row['pro_pro_count']\n",
    "    motif_counts_dict[v1]['loop_loop_count'] +=row['loop_loop_count']\n",
    "    motif_counts_dict[v2]['loop_loop_count'] +=row['loop_loop_count']\n",
    "    motif_counts_dict[v1]['pro_loop_count'] +=row['pro_loop_count']\n",
    "    motif_counts_dict[v2]['pro_loop_count'] +=row['pro_loop_count']\n",
    "            \n",
    "motif_counts_df = pd.DataFrame.from_dict(motif_counts_dict,orient='index')   \n",
    "motif_counts_df_norm = motif_counts_df/motif_counts_df.sum(axis=0)\n",
    "motif_counts_df_norm_sel = motif_counts_df_norm.reset_index()[motif_counts_df_norm.reset_index()['index'].isin(TFS)]\n",
    "print(motif_counts_df_norm_sel.shape)\n",
    "motif_counts_df_norm_sel.set_index('index',inplace=True)"
   ]
  },
  {
   "cell_type": "code",
   "execution_count": 55,
   "metadata": {},
   "outputs": [
    {
     "data": {
      "image/png": "[encoded data removed]",
      "text/plain": [
       "<Figure size 1440x504 with 1 Axes>"
      ]
     },
     "metadata": {
      "needs_background": "light"
     },
     "output_type": "display_data"
    }
   ],
   "source": [
    "# all tfs\n",
    "ax = motif_counts_df_norm.sort_values('pro_pro_count').plot(kind='bar', stacked=True,figsize = (20,7),fontsize=9)\n",
    "ax.figure.savefig(os.path.join(save_dir, TISSUE+'_expr_config_count_bar.pdf'))\n"
   ]
  },
  {
   "cell_type": "code",
   "execution_count": 56,
   "metadata": {},
   "outputs": [
    {
     "data": {
      "image/png": "[encoded data removed]",
      "text/plain": [
       "<Figure size 720x504 with 1 Axes>"
      ]
     },
     "metadata": {
      "needs_background": "light"
     },
     "output_type": "display_data"
    }
   ],
   "source": [
    "#same graph as before but only for tissue specific TFS\n",
    "\n",
    "ax = motif_counts_df_norm_sel.sort_values('pro_pro_count').plot(kind='bar', stacked=True,figsize = (10,7),fontsize=12)\n",
    "ax.figure.savefig(os.path.join(save_dir, TISSUE+'_expr_config_count_sel_bar.pdf'))\n"
   ]
  },
  {
   "cell_type": "markdown",
   "metadata": {},
   "source": [
    "this shows the likelihood of the motif appears in a vocab pair from pro_pro, pro_loop, or loop_loop configurations, GIVEN that it does appear at all (so normalized by both the probability of the configuration type as well as by the motif frequency itself\n"
   ]
  },
  {
   "cell_type": "code",
   "execution_count": 57,
   "metadata": {},
   "outputs": [
    {
     "data": {
      "image/png": "[encoded data removed]",
      "text/plain": [
       "<Figure size 1440x504 with 1 Axes>"
      ]
     },
     "metadata": {
      "needs_background": "light"
     },
     "output_type": "display_data"
    }
   ],
   "source": [
    "ax = motif_counts_df_norm.div(motif_counts_df_norm.sum(axis=1),axis=0).sort_values('pro_pro_count').plot(kind='bar', stacked=True,\n",
    "                                                                                                    figsize = (20,7),fontsize=9)\n",
    "ax.figure.savefig(os.path.join(save_dir, TISSUE+'_expr_config_count_norm_bar.pdf'))\n"
   ]
  },
  {
   "cell_type": "code",
   "execution_count": 58,
   "metadata": {},
   "outputs": [
    {
     "data": {
      "image/png": "[encoded data removed]",
      "text/plain": [
       "<Figure size 720x504 with 1 Axes>"
      ]
     },
     "metadata": {
      "needs_background": "light"
     },
     "output_type": "display_data"
    }
   ],
   "source": [
    "ax = motif_counts_df_norm_sel.div(motif_counts_df_norm_sel.sum(axis=1),axis=0).sort_values('pro_pro_count').plot(kind='bar', stacked=True,\n",
    "                                                                                                    figsize = (10,7),fontsize=12)\n",
    "ax.figure.savefig(os.path.join(save_dir, TISSUE+'_expr_config_count_norm_sel_bar.pdf'))\n"
   ]
  },
  {
   "cell_type": "markdown",
   "metadata": {},
   "source": [
    "# 2. Vocabulary genomic instances - setup\n",
    "\n",
    "\n",
    "## 2A. find the locations"
   ]
  },
  {
   "cell_type": "code",
   "execution_count": 11,
   "metadata": {},
   "outputs": [
    {
     "data": {
      "text/plain": [
       "['../data/processed/fig4_modelling/tf_tf_pairs_scc/diff_A431-CTRLi_loop_loop_vocab_info.csv',\n",
       " '../data/processed/fig4_modelling/tf_tf_pairs_scc/diff_A431-CTRLi_pro_pro_vocab_info.csv',\n",
       " '../data/processed/fig4_modelling/tf_tf_pairs_scc/diff_CAL27-CTRLi_loop_loop_vocab_info.csv',\n",
       " '../data/processed/fig4_modelling/tf_tf_pairs_scc/diff_CAL27-CTRLi_pro_pro_vocab_info.csv',\n",
       " '../data/processed/fig4_modelling/tf_tf_pairs_scc/diff_SCC13-CTRLi_loop_loop_vocab_info.csv',\n",
       " '../data/processed/fig4_modelling/tf_tf_pairs_scc/diff_SCC13-CTRLi_pro_pro_vocab_info.csv',\n",
       " '../data/processed/fig4_modelling/tf_tf_pairs_scc/expr_A431-CTRLi_loop_loop_vocab_info.csv',\n",
       " '../data/processed/fig4_modelling/tf_tf_pairs_scc/expr_A431-CTRLi_pro_pro_vocab_info.csv',\n",
       " '../data/processed/fig4_modelling/tf_tf_pairs_scc/expr_CAL27-CTRLi_loop_loop_vocab_info.csv',\n",
       " '../data/processed/fig4_modelling/tf_tf_pairs_scc/expr_CAL27-CTRLi_pro_pro_vocab_info.csv',\n",
       " '../data/processed/fig4_modelling/tf_tf_pairs_scc/expr_SCC13-CTRLi_loop_loop_vocab_info.csv',\n",
       " '../data/processed/fig4_modelling/tf_tf_pairs_scc/expr_SCC13-CTRLi_pro_pro_vocab_info.csv']"
      ]
     },
     "execution_count": 11,
     "metadata": {},
     "output_type": "execute_result"
    }
   ],
   "source": [
    "sorted(glob.glob('../data/processed/fig4_modelling/tf_tf_pairs_scc/'+'*vocab*'))"
   ]
  },
  {
   "cell_type": "markdown",
   "metadata": {},
   "source": [
    "## 2B helper functions"
   ]
  },
  {
   "cell_type": "code",
   "execution_count": 12,
   "metadata": {},
   "outputs": [],
   "source": [
    "def get_other_vocab_word(row, next_row):\n",
    "    if row['vocab']!=next_row['vocab']:\n",
    "        return False\n",
    "    \n",
    "    vocab_word = set(row['tf'])\n",
    "    vocab_set = set(row['vocab'].split('::'))\n",
    "    other_vocab = list(vocab_set -  vocab_word)[0]\n",
    "    return other_vocab == next_row['tf']\n",
    "\n",
    "def check_distance(row,next_row,max_dist=MAX_DIST):\n",
    "    if row['chr_m']==next_row['chr_m']:\n",
    "        if row['stop_m']<next_row['start_m']:\n",
    "            tot_dist = next_row['stop_m'] - row['start_m']\n",
    "            btn_dist = next_row['start_m'] - row['stop_m']\n",
    "            return (tot_dist < max_dist), tot_dist, btn_dist\n",
    "    return False,-1,-1\n",
    "\n",
    "def check_tissue(row,next_row,tfs=TFS):\n",
    "    if (row['tf'] in tfs) & (next_row['tf'] in tfs):\n",
    "        return 'both'\n",
    "    elif (row['tf'] in tfs) | (next_row['tf'] in tfs):\n",
    "        return 'one'    \n",
    "    else:\n",
    "        return 'none'\n",
    "    \n",
    "def get_hits(vocab_file,tfs=TFS):\n",
    "    print('**** reading', vocab_file)\n",
    "    vocab_df = pd.read_csv(vocab_file)\n",
    "    print(vocab_df.shape)\n",
    "    idx = 0\n",
    "    idx_hits = 0\n",
    "    results_dict = {}\n",
    "    while idx < (vocab_df.shape[0]-1):\n",
    "        # look at next \n",
    "        row = vocab_df.iloc[idx,:]\n",
    "        next_row = vocab_df.iloc[idx+1,:]\n",
    "\n",
    "        check_vocab_pair = get_other_vocab_word(row,next_row)\n",
    "        check_dist,tot_dist, btn_dist = check_distance(row, next_row)\n",
    "        check_tissue_tf = check_tissue(row,next_row,tfs)\n",
    "        if (check_dist and check_vocab_pair):\n",
    "    #         print('hi',idx)\n",
    "    #         print(row)\n",
    "    #         print(next_row)\n",
    "\n",
    "            results_dict[idx_hits] = {'vocab_pair':row['vocab'],'tot_dist':tot_dist,'btn_dist':btn_dist,\n",
    "                                      'chr':row['chr'],'start':row['start_m'],'stop':next_row['stop_m'], \n",
    "                                      'vocab1':row['tf'],'vocab1_start':row['start_m'], 'vocab1_stop': row['stop_m'],\n",
    "                                      'vocab2':next_row['tf'],'vocab2_start':next_row['start_m'], 'vocab2_stop': next_row['stop_m'],\n",
    "                                      'genes':row['genes'],'num_genes':len(row['genes'].split('|')), 'tissue':row['tissue'],\n",
    "                                     'check_tissuetf':check_tissue_tf}\n",
    "            idx_hits+=1\n",
    "\n",
    "        idx+=1\n",
    "    print('num_hits',idx_hits)\n",
    "    results_df = pd.DataFrame.from_dict(results_dict, orient='index')\n",
    "    return results_df\n",
    "    \n",
    "def filter_results(results_df,min_hits_per_vocab=10):\n",
    "    print('shape', results_df.shape)\n",
    "    vocab_counts = results_df.vocab_pair.value_counts()\n",
    "    print('original num vocab',vocab_counts.shape[0])\n",
    "    vocab_to_include = vocab_counts[vocab_counts>min_hits_per_vocab].index.values\n",
    "    print('filt num vocab',vocab_to_include.shape[0])\n",
    "    \n",
    "    results_df_filt = results_df[results_df.vocab_pair.isin(vocab_to_include)]\n",
    "    return results_df_filt\n",
    "\n",
    "    "
   ]
  },
  {
   "cell_type": "markdown",
   "metadata": {},
   "source": [
    "# 3. Vocabulary genomic instances - running\n",
    "\n",
    "## 3A get expression and stability for loop-loop regions\n",
    "\n",
    "\n",
    "run through all 3 tissue types\n",
    "\n",
    "and then "
   ]
  },
  {
   "cell_type": "code",
   "execution_count": 56,
   "metadata": {},
   "outputs": [],
   "source": [
    "# ###TESTING PURPOSES\n",
    "# vocab_df = pd.read_csv('../data/processed/fig4_modelling/tf_tf_pairs/expr_GDSD6_pro_pro_vocab_info.csv')\n",
    "# print(vocab_df.shape)\n",
    "# vocab_df[:5]\n",
    "TISSUE = 'SCC13-CTRLi'#'CAL27-CTRLi'#'A431-CTRLi'\n",
    "type_enrich = 'expr_'"
   ]
  },
  {
   "cell_type": "code",
   "execution_count": 57,
   "metadata": {},
   "outputs": [
    {
     "name": "stdout",
     "output_type": "stream",
     "text": [
      "**** reading ../data/processed/fig4_modelling/tf_tf_pairs_scc/expr_SCC13-CTRLi_pro_pro_vocab_info.csv\n",
      "(441040, 15)\n",
      "num_hits 49602\n",
      "CPU times: user 2min 51s, sys: 369 ms, total: 2min 51s\n",
      "Wall time: 2min 50s\n"
     ]
    }
   ],
   "source": [
    "%%time\n",
    "# filtered so that at least 10 genomic instances of vocab pair in significantly found in expressed genes \n",
    "results_expr_pro_pro = get_hits('../data/processed/fig4_modelling/tf_tf_pairs_scc/'+type_enrich+TISSUE+'_pro_pro_vocab_info.csv')\n"
   ]
  },
  {
   "cell_type": "code",
   "execution_count": 58,
   "metadata": {},
   "outputs": [
    {
     "name": "stdout",
     "output_type": "stream",
     "text": [
      "**** reading ../data/processed/fig4_modelling/tf_tf_pairs_scc/expr_SCC13-CTRLi_loop_loop_vocab_info.csv\n",
      "(51440, 15)\n",
      "num_hits 4762\n",
      "CPU times: user 19.9 s, sys: 53.6 ms, total: 20 s\n",
      "Wall time: 20 s\n"
     ]
    }
   ],
   "source": [
    "%%time\n",
    "### TAKES AWHILE\n",
    "results_expr_loop_loop = get_hits('../data/processed/fig4_modelling/tf_tf_pairs_scc/'+type_enrich+TISSUE+'_loop_loop_vocab_info.csv')\n"
   ]
  },
  {
   "cell_type": "markdown",
   "metadata": {},
   "source": [
    "## 3B raw statistics (pre genomic instance filter)"
   ]
  },
  {
   "cell_type": "code",
   "execution_count": 59,
   "metadata": {},
   "outputs": [
    {
     "name": "stdout",
     "output_type": "stream",
     "text": [
      "num motifs in pro_pro 149\n",
      "['ARNT', 'ARNTL', 'BATF3', 'CBFB', 'CEBPZ', 'E2F1', 'E2F2', 'E2F3', 'E2F4', 'E2F6', 'E2F7', 'EGR1', 'EGR3', 'EHF', 'ELF1', 'ELF2', 'ELF3', 'ELK1', 'ELK3', 'ELK4', 'EN2', 'EPAS1', 'ETS1', 'ETV5', 'ETV6', 'FLI1', 'FOXG1', 'FOXJ3', 'FUBP1', 'GATA2', 'GATA6', 'GLIS2', 'HES1', 'HIF1A', 'HIVEP1', 'HOXB6', 'HOXB7', 'HOXD10', 'HOXD11', 'HSF1', 'IRF3', 'IRF5', 'KLF16', 'KLF3', 'KLF4', 'KLF5', 'KLF6', 'MAFB', 'MAX', 'MAZ', 'MBD2', 'MECOM', 'MECP2', 'MEF2C', 'MEIS3', 'MNX1', 'MSX1', 'MXI1', 'MYB', 'MYBL1', 'MYBL2', 'NFAT5', 'NFE2', 'NFKB1', 'NFKB2', 'NFYB', 'NKX6-1', 'NR1H2', 'NR1H3', 'NR2C1', 'NR2F1', 'NR2F2', 'NR4A1', 'NR4A2', 'NRF1', 'NRL', 'PATZ1', 'PBX2', 'PBX3', 'PITX1', 'PKNOX1', 'PPARA', 'PPARD', 'PPARG', 'PURA', 'RARA', 'RARG', 'RBPJ', 'REL', 'RELA', 'RELB', 'RREB1', 'RUNX3', 'RXRA', 'RXRB', 'SHOX2', 'SIX1', 'SMAD3', 'SNAI1', 'SNAI2', 'SOX2', 'SP1', 'SP2', 'SP3', 'SP4', 'SREBF2', 'TAF1', 'TBX1', 'TCF3', 'TEAD4', 'TFAP2A', 'TFAP2C', 'TFAP4', 'TFCP2', 'TFDP1', 'TFE3', 'TFEB', 'THAP1', 'THRA', 'THRB', 'TWIST1', 'VAX1', 'VEZF1', 'WT1', 'XBP1', 'ZBTB14', 'ZBTB17', 'ZBTB33', 'ZBTB4', 'ZBTB7A', 'ZFP64', 'ZFX', 'ZIC1', 'ZIC2', 'ZKSCAN3', 'ZNF140', 'ZNF148', 'ZNF219', 'ZNF263', 'ZNF281', 'ZNF322', 'ZNF324', 'ZNF335', 'ZNF341', 'ZNF410', 'ZNF740', 'ZNF76', 'ZNF770', 'ZNF784']\n",
      "num motifs in loop_loop 98\n",
      "['ARNT', 'CBFB', 'CEBPZ', 'E2F1', 'E2F3', 'E2F4', 'E2F6', 'E2F7', 'EGR1', 'EHF', 'ELF1', 'ELF2', 'ELF3', 'ELK1', 'ELK4', 'EN2', 'EPAS1', 'ETS1', 'ETV5', 'ETV6', 'FLI1', 'FOXG1', 'FOXJ3', 'FUBP1', 'GATA6', 'HIF1A', 'HOXD11', 'IRF3', 'IRF5', 'KLF16', 'KLF3', 'KLF4', 'KLF5', 'KLF6', 'MAFB', 'MAZ', 'MBD2', 'MECP2', 'MEIS3', 'MNX1', 'MYB', 'MYBL2', 'NFAT5', 'NFE2', 'NFKB2', 'NFYB', 'NKX6-1', 'NR1H3', 'NR2C1', 'NR2F1', 'NR2F2', 'NRL', 'PATZ1', 'PBX3', 'PITX1', 'PPARA', 'PPARD', 'PPARG', 'PURA', 'RARA', 'RARG', 'RUNX3', 'RXRA', 'RXRB', 'SIX1', 'SMAD3', 'SNAI1', 'SNAI2', 'SP1', 'SP2', 'SP3', 'SP4', 'SREBF2', 'TAF1', 'TBX1', 'TCF3', 'TFAP2A', 'TFAP2C', 'TFDP1', 'TFE3', 'THAP1', 'VEZF1', 'WT1', 'XBP1', 'ZBTB17', 'ZBTB33', 'ZBTB4', 'ZFP64', 'ZFX', 'ZIC2', 'ZNF148', 'ZNF219', 'ZNF263', 'ZNF281', 'ZNF324', 'ZNF335', 'ZNF341', 'ZNF770']\n"
     ]
    }
   ],
   "source": [
    "motifs_pro_pro = sorted(set(list(results_expr_pro_pro.vocab1.unique())+list(results_expr_pro_pro.vocab2.unique())))\n",
    "print('num motifs in pro_pro', len(motifs_pro_pro))\n",
    "print(motifs_pro_pro)\n",
    "\n",
    "\n",
    "motifs_loop_loop = sorted(set(list(results_expr_loop_loop.vocab1.unique())+list(results_expr_loop_loop.vocab2.unique())))\n",
    "print('num motifs in loop_loop', len(motifs_loop_loop))\n",
    "print(motifs_loop_loop)"
   ]
  },
  {
   "cell_type": "code",
   "execution_count": 60,
   "metadata": {},
   "outputs": [
    {
     "name": "stdout",
     "output_type": "stream",
     "text": [
      "pre genomic instance filter\n",
      "num vocab in expression enrichment (pro-pro region):  4757\n",
      "num vocab in expression enrichment (loop-loop region):  2396\n"
     ]
    }
   ],
   "source": [
    "print('pre genomic instance filter')\n",
    "print('num vocab in expression enrichment (pro-pro region): ', results_expr_pro_pro.vocab_pair.unique().shape[0])\n",
    "print('num vocab in expression enrichment (loop-loop region): ', results_expr_loop_loop.vocab_pair.unique().shape[0])"
   ]
  },
  {
   "cell_type": "markdown",
   "metadata": {},
   "source": [
    "## 3C. filter expression enriched vocab words if then have at least 10 genomic instances then get stats"
   ]
  },
  {
   "cell_type": "code",
   "execution_count": 61,
   "metadata": {},
   "outputs": [
    {
     "name": "stdout",
     "output_type": "stream",
     "text": [
      "shape (49602, 16)\n",
      "original num vocab 4757\n",
      "filt num vocab 970\n"
     ]
    }
   ],
   "source": [
    "results_expr_pro_pro = filter_results(results_expr_pro_pro,min_hits_per_vocab=10)\n",
    "# print(results_expr_pro_pro.vocab_pair.unique().shape)\n",
    "# results_expr_pro_pro.vocab_pair.unique()"
   ]
  },
  {
   "cell_type": "code",
   "execution_count": 62,
   "metadata": {},
   "outputs": [
    {
     "name": "stdout",
     "output_type": "stream",
     "text": [
      "shape (4762, 16)\n",
      "original num vocab 2396\n",
      "filt num vocab 0\n"
     ]
    }
   ],
   "source": [
    "results_expr_loop_loop = filter_results(results_expr_loop_loop,min_hits_per_vocab=10)\n",
    "# print(results_expr_loop_loop.vocab_pair.unique().shape)\n",
    "# results_expr_loop_loop.vocab_pair.unique()"
   ]
  },
  {
   "cell_type": "code",
   "execution_count": 63,
   "metadata": {},
   "outputs": [
    {
     "name": "stdout",
     "output_type": "stream",
     "text": [
      "post genomic instance filter\n",
      "num vocab in expression enrichment (pro-pro region):  970\n",
      "['ARNT::KLF3' 'ARNT::PATZ1' 'ARNT::SP1' 'CBFB::NFAT5' 'CEBPZ::KLF3'\n",
      " 'CEBPZ::PATZ1' 'CEBPZ::SP1' 'E2F1::KLF3' 'E2F1::KLF5' 'E2F1::KLF6'\n",
      " 'E2F1::PATZ1' 'E2F1::SP1' 'E2F1::SP3' 'E2F1::ZFX' 'E2F1::ZNF148'\n",
      " 'E2F1::ZNF219' 'E2F1::ZNF281' 'E2F4::WT1' 'E2F4::ZFX' 'E2F4::ZNF219'\n",
      " 'E2F6::EGR1' 'E2F6::FLI1' 'E2F6::KLF16' 'E2F6::KLF3' 'E2F6::KLF4'\n",
      " 'E2F6::KLF5' 'E2F6::KLF6' 'E2F6::MAZ' 'E2F6::NFAT5' 'E2F6::PATZ1'\n",
      " 'E2F6::SP1' 'E2F6::SP3' 'E2F6::SP4' 'E2F6::TAF1' 'E2F6::VEZF1'\n",
      " 'E2F6::WT1' 'E2F6::ZBTB17' 'E2F6::ZFX' 'E2F6::ZNF148' 'E2F6::ZNF219'\n",
      " 'E2F6::ZNF263' 'E2F6::ZNF281' 'E2F6::ZNF770' 'E2F7::WT1' 'E2F7::ZFX'\n",
      " 'E2F7::ZNF148' 'E2F7::ZNF219' 'EGR1::ELF1' 'EGR1::ELK1' 'EGR1::FLI1'\n",
      " 'EGR1::KLF16' 'EGR1::KLF3' 'EGR1::KLF4' 'EGR1::KLF5' 'EGR1::KLF6'\n",
      " 'EGR1::MAZ' 'EGR1::NFAT5' 'EGR1::NR2F1' 'EGR1::PATZ1' 'EGR1::PURA'\n",
      " 'EGR1::SP1' 'EGR1::SP2' 'EGR1::SP3' 'EGR1::SP4' 'EGR1::TAF1' 'EGR1::TBX1'\n",
      " 'EGR1::TFAP2A' 'EGR1::THAP1' 'EGR1::VEZF1' 'EGR1::WT1' 'EGR1::ZBTB17'\n",
      " 'EGR1::ZFX' 'EGR1::ZNF148' 'EGR1::ZNF219' 'EGR1::ZNF263' 'EGR1::ZNF281'\n",
      " 'EGR1::ZNF341' 'EGR1::ZNF770' 'EGR3::KLF3' 'EGR3::KLF5' 'EGR3::PATZ1'\n",
      " 'EGR3::SP1' 'EGR3::SP3' 'EGR3::ZFX' 'EGR3::ZNF148' 'EGR3::ZNF281'\n",
      " 'EHF::NFAT5' 'EHF::SP3' 'EHF::VEZF1' 'ELF1::KLF3' 'ELF1::KLF5'\n",
      " 'ELF1::PATZ1' 'ELF1::SP1' 'ELF1::SP2' 'ELF1::SP3' 'ELF1::WT1'\n",
      " 'ELF1::ZBTB17' 'ELF1::ZFX' 'ELF1::ZNF148' 'ELF1::ZNF281' 'ELF2::KLF3'\n",
      " 'ELF2::KLF5' 'ELF2::PATZ1' 'ELF2::SP1' 'ELF2::SP3' 'ELF2::SP4'\n",
      " 'ELF2::TBX1' 'ELF2::VEZF1' 'ELF2::WT1' 'ELF2::ZBTB17' 'ELF2::ZFX'\n",
      " 'ELF2::ZNF148' 'ELF2::ZNF281' 'ELF2::ZNF770' 'ELF3::FLI1' 'ELF3::KLF5'\n",
      " 'ELF3::PATZ1' 'ELF3::SP1' 'ELF3::SP3' 'ELF3::ZBTB17' 'ELF3::ZNF281'\n",
      " 'ELF3::ZNF770' 'ELK1::KLF3' 'ELK1::KLF4' 'ELK1::KLF5' 'ELK1::KLF6'\n",
      " 'ELK1::NFAT5' 'ELK1::PATZ1' 'ELK1::SP1' 'ELK1::SP2' 'ELK1::SP3'\n",
      " 'ELK1::SP4' 'ELK1::VEZF1' 'ELK1::ZBTB17' 'ELK1::ZNF148' 'ELK1::ZNF263'\n",
      " 'ELK1::ZNF281' 'ELK1::ZNF341' 'ELK1::ZNF770' 'ELK3::KLF3' 'ELK3::PATZ1'\n",
      " 'ELK3::ZBTB17' 'ELK4::KLF3' 'ELK4::KLF4' 'ELK4::KLF5' 'ELK4::KLF6'\n",
      " 'ELK4::NFAT5' 'ELK4::PATZ1' 'ELK4::SP1' 'ELK4::SP2' 'ELK4::SP3'\n",
      " 'ELK4::SP4' 'ELK4::VEZF1' 'ELK4::ZBTB17' 'ELK4::ZNF341' 'ELK4::ZNF770'\n",
      " 'EN2::MYBL2' 'EN2::NFAT5' 'EN2::NKX6-1' 'EN2::VEZF1' 'EPAS1::KLF5'\n",
      " 'EPAS1::KLF6' 'EPAS1::PATZ1' 'EPAS1::SP1' 'EPAS1::SP2' 'EPAS1::SP4'\n",
      " 'EPAS1::WT1' 'EPAS1::ZNF148' 'EPAS1::ZNF281' 'ETS1::KLF3' 'ETS1::KLF5'\n",
      " 'ETS1::PATZ1' 'ETS1::SP1' 'ETS1::SP2' 'ETS1::SP3' 'ETS1::SP4' 'ETS1::WT1'\n",
      " 'ETS1::ZBTB17' 'ETS1::ZFX' 'ETS1::ZNF148' 'ETS1::ZNF263' 'ETS1::ZNF281'\n",
      " 'ETV5::ETV6' 'ETV5::KLF16' 'ETV5::KLF3' 'ETV5::KLF4' 'ETV5::KLF5'\n",
      " 'ETV5::KLF6' 'ETV5::MAZ' 'ETV5::NFAT5' 'ETV5::NKX6-1' 'ETV5::PURA'\n",
      " 'ETV5::SP1' 'ETV5::SP2' 'ETV5::SP4' 'ETV5::TBX1' 'ETV5::VEZF1'\n",
      " 'ETV5::WT1' 'ETV5::ZBTB17' 'ETV5::ZFX' 'ETV5::ZNF148' 'ETV5::ZNF219'\n",
      " 'ETV5::ZNF263' 'ETV5::ZNF281' 'ETV6::KLF3' 'ETV6::KLF5' 'ETV6::NFAT5'\n",
      " 'ETV6::PATZ1' 'ETV6::SP1' 'ETV6::VEZF1' 'ETV6::WT1' 'ETV6::ZBTB17'\n",
      " 'ETV6::ZFX' 'ETV6::ZNF263' 'ETV6::ZNF281' 'FLI1::HSF1' 'FLI1::KLF16'\n",
      " 'FLI1::KLF3' 'FLI1::KLF4' 'FLI1::KLF5' 'FLI1::KLF6' 'FLI1::MAZ'\n",
      " 'FLI1::MYBL2' 'FLI1::NFAT5' 'FLI1::NKX6-1' 'FLI1::PATZ1' 'FLI1::PURA'\n",
      " 'FLI1::RREB1' 'FLI1::SP1' 'FLI1::SP2' 'FLI1::SP3' 'FLI1::SP4'\n",
      " 'FLI1::TAF1' 'FLI1::TBX1' 'FLI1::VEZF1' 'FLI1::WT1' 'FLI1::ZBTB17'\n",
      " 'FLI1::ZFX' 'FLI1::ZNF148' 'FLI1::ZNF219' 'FLI1::ZNF263' 'FLI1::ZNF281'\n",
      " 'FLI1::ZNF770' 'FOXJ3::NFAT5' 'HIF1A::KLF5' 'HIF1A::PATZ1' 'HIF1A::SP1'\n",
      " 'HIF1A::SP2' 'HIF1A::SP4' 'HIF1A::WT1' 'HIF1A::ZNF148' 'HIF1A::ZNF281'\n",
      " 'HSF1::SP1' 'HSF1::ZNF263' 'IRF3::KLF3' 'IRF3::PATZ1' 'IRF3::SP1'\n",
      " 'IRF3::ZNF263' 'IRF3::ZNF281' 'IRF5::NFAT5' 'IRF5::SP1' 'IRF5::SP2'\n",
      " 'IRF5::SP4' 'KLF16::KLF3' 'KLF16::KLF4' 'KLF16::KLF5' 'KLF16::KLF6'\n",
      " 'KLF16::MAZ' 'KLF16::NFAT5' 'KLF16::NKX6-1' 'KLF16::NR2F1' 'KLF16::PATZ1'\n",
      " 'KLF16::PURA' 'KLF16::SNAI1' 'KLF16::SNAI2' 'KLF16::SP1' 'KLF16::SP2'\n",
      " 'KLF16::SP3' 'KLF16::SP4' 'KLF16::TAF1' 'KLF16::TBX1' 'KLF16::TFAP2C'\n",
      " 'KLF16::THAP1' 'KLF16::VEZF1' 'KLF16::WT1' 'KLF16::ZBTB14'\n",
      " 'KLF16::ZBTB17' 'KLF16::ZFP64' 'KLF16::ZFX' 'KLF16::ZNF148'\n",
      " 'KLF16::ZNF219' 'KLF16::ZNF263' 'KLF16::ZNF281' 'KLF16::ZNF324'\n",
      " 'KLF16::ZNF341' 'KLF16::ZNF770' 'KLF3::KLF4' 'KLF3::KLF5' 'KLF3::KLF6'\n",
      " 'KLF3::MAZ' 'KLF3::MYBL2' 'KLF3::NFAT5' 'KLF3::NFYB' 'KLF3::NKX6-1'\n",
      " 'KLF3::NR2F1' 'KLF3::NRF1' 'KLF3::PATZ1' 'KLF3::PURA' 'KLF3::RARA'\n",
      " 'KLF3::RBPJ' 'KLF3::RREB1' 'KLF3::SNAI1' 'KLF3::SP1' 'KLF3::SP2'\n",
      " 'KLF3::SP3' 'KLF3::SP4' 'KLF3::SREBF2' 'KLF3::TAF1' 'KLF3::TBX1'\n",
      " 'KLF3::TFAP2A' 'KLF3::TFAP2C' 'KLF3::TFDP1' 'KLF3::THAP1' 'KLF3::VEZF1'\n",
      " 'KLF3::WT1' 'KLF3::ZBTB14' 'KLF3::ZBTB17' 'KLF3::ZFP64' 'KLF3::ZFX'\n",
      " 'KLF3::ZNF148' 'KLF3::ZNF219' 'KLF3::ZNF263' 'KLF3::ZNF281'\n",
      " 'KLF3::ZNF341' 'KLF3::ZNF740' 'KLF3::ZNF770' 'KLF4::KLF5' 'KLF4::KLF6'\n",
      " 'KLF4::MAZ' 'KLF4::MYBL2' 'KLF4::NFAT5' 'KLF4::NKX6-1' 'KLF4::NR2F1'\n",
      " 'KLF4::PATZ1' 'KLF4::PURA' 'KLF4::RARA' 'KLF4::SNAI1' 'KLF4::SP1'\n",
      " 'KLF4::SP2' 'KLF4::SP3' 'KLF4::SP4' 'KLF4::SREBF2' 'KLF4::TAF1'\n",
      " 'KLF4::TBX1' 'KLF4::TFAP2A' 'KLF4::TFAP2C' 'KLF4::THAP1' 'KLF4::VEZF1'\n",
      " 'KLF4::WT1' 'KLF4::ZBTB14' 'KLF4::ZBTB17' 'KLF4::ZFP64' 'KLF4::ZFX'\n",
      " 'KLF4::ZNF148' 'KLF4::ZNF219' 'KLF4::ZNF263' 'KLF4::ZNF281'\n",
      " 'KLF4::ZNF341' 'KLF4::ZNF770' 'KLF5::KLF6' 'KLF5::MAZ' 'KLF5::MYBL2'\n",
      " 'KLF5::NFAT5' 'KLF5::NKX6-1' 'KLF5::NR2F1' 'KLF5::NRF1' 'KLF5::PATZ1'\n",
      " 'KLF5::PURA' 'KLF5::RARA' 'KLF5::RREB1' 'KLF5::SNAI1' 'KLF5::SNAI2'\n",
      " 'KLF5::SP1' 'KLF5::SP2' 'KLF5::SP3' 'KLF5::SP4' 'KLF5::TAF1' 'KLF5::TBX1'\n",
      " 'KLF5::TFAP2A' 'KLF5::TFAP2C' 'KLF5::TFCP2' 'KLF5::TFDP1' 'KLF5::THAP1'\n",
      " 'KLF5::VEZF1' 'KLF5::WT1' 'KLF5::ZBTB14' 'KLF5::ZBTB17' 'KLF5::ZFP64'\n",
      " 'KLF5::ZFX' 'KLF5::ZNF148' 'KLF5::ZNF219' 'KLF5::ZNF263' 'KLF5::ZNF281'\n",
      " 'KLF5::ZNF324' 'KLF5::ZNF341' 'KLF5::ZNF770' 'KLF6::MAZ' 'KLF6::NFAT5'\n",
      " 'KLF6::NKX6-1' 'KLF6::NR2F1' 'KLF6::PATZ1' 'KLF6::PURA' 'KLF6::RARA'\n",
      " 'KLF6::REL' 'KLF6::RREB1' 'KLF6::SNAI1' 'KLF6::SNAI2' 'KLF6::SP1'\n",
      " 'KLF6::SP2' 'KLF6::SP3' 'KLF6::SP4' 'KLF6::SREBF2' 'KLF6::TAF1'\n",
      " 'KLF6::TBX1' 'KLF6::TFAP2C' 'KLF6::THAP1' 'KLF6::VEZF1' 'KLF6::WT1'\n",
      " 'KLF6::ZBTB14' 'KLF6::ZBTB17' 'KLF6::ZFX' 'KLF6::ZNF148' 'KLF6::ZNF219'\n",
      " 'KLF6::ZNF263' 'KLF6::ZNF281' 'KLF6::ZNF341' 'KLF6::ZNF740' 'KLF6::ZNF76'\n",
      " 'KLF6::ZNF770' 'MAFB::ZNF770' 'MAZ::MYBL2' 'MAZ::NFAT5' 'MAZ::NKX6-1'\n",
      " 'MAZ::NR2F1' 'MAZ::PATZ1' 'MAZ::PURA' 'MAZ::RBPJ' 'MAZ::RREB1'\n",
      " 'MAZ::SNAI1' 'MAZ::SNAI2' 'MAZ::SP1' 'MAZ::SP2' 'MAZ::SP3' 'MAZ::SP4'\n",
      " 'MAZ::TAF1' 'MAZ::TBX1' 'MAZ::TFAP2A' 'MAZ::TFAP2C' 'MAZ::THAP1'\n",
      " 'MAZ::VEZF1' 'MAZ::WT1' 'MAZ::ZBTB14' 'MAZ::ZBTB17' 'MAZ::ZFP64'\n",
      " 'MAZ::ZFX' 'MAZ::ZKSCAN3' 'MAZ::ZNF148' 'MAZ::ZNF219' 'MAZ::ZNF263'\n",
      " 'MAZ::ZNF281' 'MAZ::ZNF324' 'MAZ::ZNF341' 'MAZ::ZNF770' 'MYBL2::NFAT5'\n",
      " 'MYBL2::NKX6-1' 'MYBL2::PATZ1' 'MYBL2::SP1' 'MYBL2::SP2' 'MYBL2::SP4'\n",
      " 'MYBL2::VEZF1' 'MYBL2::WT1' 'MYBL2::ZBTB17' 'MYBL2::ZNF148'\n",
      " 'MYBL2::ZNF770' 'NFAT5::NFYB' 'NFAT5::NKX6-1' 'NFAT5::NR1H3'\n",
      " 'NFAT5::PATZ1' 'NFAT5::PPARA' 'NFAT5::PPARD' 'NFAT5::PURA' 'NFAT5::RBPJ'\n",
      " 'NFAT5::RREB1' 'NFAT5::SNAI1' 'NFAT5::SP1' 'NFAT5::SP2' 'NFAT5::SP3'\n",
      " 'NFAT5::SP4' 'NFAT5::SREBF2' 'NFAT5::TAF1' 'NFAT5::TBX1' 'NFAT5::TFAP2C'\n",
      " 'NFAT5::THAP1' 'NFAT5::VEZF1' 'NFAT5::WT1' 'NFAT5::XBP1' 'NFAT5::ZBTB14'\n",
      " 'NFAT5::ZBTB17' 'NFAT5::ZBTB4' 'NFAT5::ZFX' 'NFAT5::ZIC2' 'NFAT5::ZNF148'\n",
      " 'NFAT5::ZNF219' 'NFAT5::ZNF263' 'NFAT5::ZNF281' 'NFAT5::ZNF335'\n",
      " 'NFAT5::ZNF341' 'NFAT5::ZNF740' 'NFAT5::ZNF76' 'NFAT5::ZNF770'\n",
      " 'NFYB::PATZ1' 'NFYB::SP1' 'NKX6-1::NR1H3' 'NKX6-1::PATZ1' 'NKX6-1::RBPJ'\n",
      " 'NKX6-1::SNAI1' 'NKX6-1::SP1' 'NKX6-1::SP2' 'NKX6-1::SP3' 'NKX6-1::SP4'\n",
      " 'NKX6-1::VEZF1' 'NKX6-1::WT1' 'NKX6-1::ZBTB17' 'NKX6-1::ZNF148'\n",
      " 'NKX6-1::ZNF263' 'NKX6-1::ZNF281' 'NKX6-1::ZNF341' 'NKX6-1::ZNF770'\n",
      " 'NR1H3::PATZ1' 'NR1H3::SP1' 'NR1H3::WT1' 'NR1H3::ZBTB17' 'NR1H3::ZNF263'\n",
      " 'NR2F1::PATZ1' 'NR2F1::SP1' 'NR2F1::SP2' 'NR2F1::SP3' 'NR2F1::SP4'\n",
      " 'NR2F1::TFAP2C' 'NR2F1::VEZF1' 'NR2F1::WT1' 'NR2F1::ZBTB14'\n",
      " 'NR2F1::ZBTB17' 'NR2F1::ZFX' 'NR2F1::ZNF148' 'NR2F1::ZNF219'\n",
      " 'NR2F1::ZNF263' 'NR2F1::ZNF281' 'NR2F2::PATZ1' 'NR2F2::SP1'\n",
      " 'NR4A1::PATZ1' 'NR4A1::SP1' 'NR4A2::PATZ1' 'NR4A2::SP1' 'NR4A2::ZBTB17'\n",
      " 'NRF1::PATZ1' 'NRF1::SP1' 'NRF1::SP3' 'NRF1::TFAP2C' 'NRF1::ZBTB17'\n",
      " 'NRF1::ZFX' 'NRF1::ZNF148' 'NRF1::ZNF263' 'NRF1::ZNF281' 'PATZ1::PBX3'\n",
      " 'PATZ1::PKNOX1' 'PATZ1::PPARA' 'PATZ1::PURA' 'PATZ1::RARA' 'PATZ1::RREB1'\n",
      " 'PATZ1::SNAI1' 'PATZ1::SNAI2' 'PATZ1::SP1' 'PATZ1::SP2' 'PATZ1::SP3'\n",
      " 'PATZ1::SP4' 'PATZ1::SREBF2' 'PATZ1::TAF1' 'PATZ1::TBX1' 'PATZ1::TCF3'\n",
      " 'PATZ1::TFAP2A' 'PATZ1::TFAP2C' 'PATZ1::TFCP2' 'PATZ1::TFDP1'\n",
      " 'PATZ1::THAP1' 'PATZ1::VEZF1' 'PATZ1::WT1' 'PATZ1::ZBTB14'\n",
      " 'PATZ1::ZBTB17' 'PATZ1::ZBTB4' 'PATZ1::ZFP64' 'PATZ1::ZFX'\n",
      " 'PATZ1::ZNF140' 'PATZ1::ZNF148' 'PATZ1::ZNF219' 'PATZ1::ZNF263'\n",
      " 'PATZ1::ZNF281' 'PATZ1::ZNF324' 'PATZ1::ZNF341' 'PATZ1::ZNF740'\n",
      " 'PATZ1::ZNF76' 'PATZ1::ZNF770' 'PBX3::SP1' 'PBX3::WT1' 'PKNOX1::SP1'\n",
      " 'PPARA::SP1' 'PPARA::SP3' 'PPARA::WT1' 'PPARA::ZBTB17' 'PPARA::ZNF263'\n",
      " 'PPARA::ZNF281' 'PPARA::ZNF770' 'PURA::SNAI1' 'PURA::SNAI2' 'PURA::SP1'\n",
      " 'PURA::SP2' 'PURA::SP3' 'PURA::SP4' 'PURA::SREBF2' 'PURA::TBX1'\n",
      " 'PURA::THAP1' 'PURA::VEZF1' 'PURA::WT1' 'PURA::ZBTB14' 'PURA::ZBTB17'\n",
      " 'PURA::ZFP64' 'PURA::ZFX' 'PURA::ZNF148' 'PURA::ZNF219' 'PURA::ZNF263'\n",
      " 'PURA::ZNF281' 'PURA::ZNF341' 'PURA::ZNF770' 'RARA::SP1' 'RARA::SP3'\n",
      " 'RARA::SP4' 'RARA::TBX1' 'RARA::VEZF1' 'RARA::WT1' 'RARA::ZBTB17'\n",
      " 'RARA::ZNF148' 'RARA::ZNF263' 'RARA::ZNF281' 'RARG::SP1' 'RARG::SP2'\n",
      " 'RARG::WT1' 'RARG::ZNF263' 'RBPJ::SP1' 'RBPJ::SP2' 'RBPJ::SP3'\n",
      " 'RBPJ::SP4' 'RBPJ::WT1' 'RBPJ::ZBTB17' 'RBPJ::ZNF148' 'RBPJ::ZNF281'\n",
      " 'REL::SP1' 'REL::SP3' 'REL::SP4' 'RREB1::SP1' 'RREB1::SP2' 'RREB1::SP3'\n",
      " 'RREB1::SP4' 'RREB1::VEZF1' 'RREB1::WT1' 'RREB1::ZBTB17' 'RREB1::ZNF148'\n",
      " 'RREB1::ZNF263' 'RREB1::ZNF281' 'SMAD3::ZNF148' 'SMAD3::ZNF263'\n",
      " 'SMAD3::ZNF281' 'SNAI1::SP1' 'SNAI1::SP2' 'SNAI1::SP3' 'SNAI1::SP4'\n",
      " 'SNAI1::TBX1' 'SNAI1::THAP1' 'SNAI1::VEZF1' 'SNAI1::WT1' 'SNAI1::ZBTB17'\n",
      " 'SNAI1::ZFX' 'SNAI1::ZNF148' 'SNAI1::ZNF281' 'SNAI1::ZNF770' 'SNAI2::SP1'\n",
      " 'SNAI2::SP2' 'SNAI2::SP3' 'SNAI2::SP4' 'SNAI2::TBX1' 'SNAI2::VEZF1'\n",
      " 'SNAI2::ZFX' 'SNAI2::ZNF148' 'SNAI2::ZNF281' 'SNAI2::ZNF770' 'SP1::SP2'\n",
      " 'SP1::SP3' 'SP1::SP4' 'SP1::SREBF2' 'SP1::TAF1' 'SP1::TBX1' 'SP1::TCF3'\n",
      " 'SP1::TFAP2A' 'SP1::TFAP2C' 'SP1::TFCP2' 'SP1::TFDP1' 'SP1::THAP1'\n",
      " 'SP1::VEZF1' 'SP1::WT1' 'SP1::XBP1' 'SP1::ZBTB14' 'SP1::ZBTB17'\n",
      " 'SP1::ZBTB4' 'SP1::ZBTB7A' 'SP1::ZFP64' 'SP1::ZFX' 'SP1::ZIC2'\n",
      " 'SP1::ZNF140' 'SP1::ZNF148' 'SP1::ZNF219' 'SP1::ZNF263' 'SP1::ZNF281'\n",
      " 'SP1::ZNF335' 'SP1::ZNF341' 'SP1::ZNF740' 'SP1::ZNF76' 'SP1::ZNF770'\n",
      " 'SP2::SP3' 'SP2::SP4' 'SP2::SREBF2' 'SP2::TAF1' 'SP2::TBX1' 'SP2::TFAP2A'\n",
      " 'SP2::TFAP2C' 'SP2::THAP1' 'SP2::VEZF1' 'SP2::WT1' 'SP2::XBP1'\n",
      " 'SP2::ZBTB14' 'SP2::ZBTB17' 'SP2::ZFP64' 'SP2::ZFX' 'SP2::ZIC2'\n",
      " 'SP2::ZNF148' 'SP2::ZNF219' 'SP2::ZNF263' 'SP2::ZNF281' 'SP2::ZNF324'\n",
      " 'SP2::ZNF341' 'SP2::ZNF740' 'SP2::ZNF76' 'SP2::ZNF770' 'SP3::SP4'\n",
      " 'SP3::SREBF2' 'SP3::TAF1' 'SP3::TBX1' 'SP3::TCF3' 'SP3::TFAP2A'\n",
      " 'SP3::TFAP2C' 'SP3::TFAP4' 'SP3::TFCP2' 'SP3::TFDP1' 'SP3::THAP1'\n",
      " 'SP3::VEZF1' 'SP3::WT1' 'SP3::ZBTB14' 'SP3::ZBTB17' 'SP3::ZBTB4'\n",
      " 'SP3::ZFP64' 'SP3::ZFX' 'SP3::ZNF140' 'SP3::ZNF148' 'SP3::ZNF219'\n",
      " 'SP3::ZNF263' 'SP3::ZNF281' 'SP3::ZNF324' 'SP3::ZNF341' 'SP3::ZNF740'\n",
      " 'SP3::ZNF76' 'SP3::ZNF770' 'SP4::SREBF2' 'SP4::TAF1' 'SP4::TBX1'\n",
      " 'SP4::TFAP2A' 'SP4::TFAP2C' 'SP4::TFAP4' 'SP4::TFCP2' 'SP4::THAP1'\n",
      " 'SP4::VEZF1' 'SP4::WT1' 'SP4::ZBTB14' 'SP4::ZBTB17' 'SP4::ZFP64'\n",
      " 'SP4::ZFX' 'SP4::ZIC2' 'SP4::ZNF148' 'SP4::ZNF219' 'SP4::ZNF263'\n",
      " 'SP4::ZNF281' 'SP4::ZNF324' 'SP4::ZNF341' 'SP4::ZNF740' 'SP4::ZNF76'\n",
      " 'SP4::ZNF770' 'SREBF2::VEZF1' 'SREBF2::WT1' 'SREBF2::ZBTB17'\n",
      " 'SREBF2::ZNF148' 'SREBF2::ZNF219' 'SREBF2::ZNF263' 'SREBF2::ZNF281'\n",
      " 'SREBF2::ZNF770' 'TAF1::THAP1' 'TAF1::VEZF1' 'TAF1::WT1' 'TAF1::ZBTB17'\n",
      " 'TAF1::ZFX' 'TAF1::ZNF148' 'TAF1::ZNF219' 'TAF1::ZNF263' 'TAF1::ZNF281'\n",
      " 'TAF1::ZNF341' 'TAF1::ZNF770' 'TBX1::TFAP2A' 'TBX1::TFAP2C' 'TBX1::TFCP2'\n",
      " 'TBX1::THAP1' 'TBX1::VEZF1' 'TBX1::WT1' 'TBX1::ZBTB14' 'TBX1::ZBTB17'\n",
      " 'TBX1::ZFP64' 'TBX1::ZFX' 'TBX1::ZNF148' 'TBX1::ZNF219' 'TBX1::ZNF263'\n",
      " 'TBX1::ZNF281' 'TBX1::ZNF341' 'TBX1::ZNF770' 'TCF3::ZNF148'\n",
      " 'TCF3::ZNF281' 'TFAP2A::TFAP2C' 'TFAP2A::VEZF1' 'TFAP2A::WT1'\n",
      " 'TFAP2A::ZBTB17' 'TFAP2A::ZFX' 'TFAP2A::ZNF148' 'TFAP2A::ZNF263'\n",
      " 'TFAP2A::ZNF281' 'TFAP2A::ZNF341' 'TFAP2A::ZNF770' 'TFAP2C::VEZF1'\n",
      " 'TFAP2C::WT1' 'TFAP2C::ZBTB14' 'TFAP2C::ZBTB17' 'TFAP2C::ZFX'\n",
      " 'TFAP2C::ZNF148' 'TFAP2C::ZNF219' 'TFAP2C::ZNF263' 'TFAP2C::ZNF281'\n",
      " 'TFAP2C::ZNF341' 'TFAP2C::ZNF770' 'TFCP2::ZNF148' 'TFCP2::ZNF281'\n",
      " 'TFCP2::ZNF770' 'TFDP1::ZFX' 'TFDP1::ZNF148' 'TFDP1::ZNF219'\n",
      " 'TFDP1::ZNF281' 'THAP1::VEZF1' 'THAP1::WT1' 'THAP1::ZBTB14'\n",
      " 'THAP1::ZBTB17' 'THAP1::ZFX' 'THAP1::ZNF148' 'THAP1::ZNF219'\n",
      " 'THAP1::ZNF263' 'THAP1::ZNF281' 'THAP1::ZNF341' 'THAP1::ZNF770'\n",
      " 'VEZF1::WT1' 'VEZF1::XBP1' 'VEZF1::ZBTB14' 'VEZF1::ZBTB17' 'VEZF1::ZFP64'\n",
      " 'VEZF1::ZFX' 'VEZF1::ZIC2' 'VEZF1::ZNF148' 'VEZF1::ZNF219'\n",
      " 'VEZF1::ZNF263' 'VEZF1::ZNF281' 'VEZF1::ZNF341' 'VEZF1::ZNF740'\n",
      " 'VEZF1::ZNF76' 'VEZF1::ZNF770' 'WT1::ZBTB14' 'WT1::ZBTB17' 'WT1::ZBTB4'\n",
      " 'WT1::ZFP64' 'WT1::ZFX' 'WT1::ZNF148' 'WT1::ZNF219' 'WT1::ZNF263'\n",
      " 'WT1::ZNF281' 'WT1::ZNF324' 'WT1::ZNF341' 'WT1::ZNF770' 'ZBTB14::ZBTB17'\n",
      " 'ZBTB14::ZFX' 'ZBTB14::ZNF148' 'ZBTB14::ZNF219' 'ZBTB14::ZNF263'\n",
      " 'ZBTB14::ZNF281' 'ZBTB14::ZNF341' 'ZBTB14::ZNF770' 'ZBTB17::ZFX'\n",
      " 'ZBTB17::ZIC1' 'ZBTB17::ZNF140' 'ZBTB17::ZNF148' 'ZBTB17::ZNF219'\n",
      " 'ZBTB17::ZNF263' 'ZBTB17::ZNF281' 'ZBTB17::ZNF324' 'ZBTB17::ZNF341'\n",
      " 'ZBTB17::ZNF740' 'ZBTB17::ZNF76' 'ZBTB17::ZNF770' 'ZFP64::ZFX'\n",
      " 'ZFP64::ZNF148' 'ZFP64::ZNF219' 'ZFP64::ZNF263' 'ZFP64::ZNF281'\n",
      " 'ZFP64::ZNF341' 'ZFP64::ZNF770' 'ZFX::ZNF148' 'ZFX::ZNF219' 'ZFX::ZNF263'\n",
      " 'ZFX::ZNF281' 'ZFX::ZNF341' 'ZFX::ZNF770' 'ZNF140::ZNF281'\n",
      " 'ZNF148::ZNF219' 'ZNF148::ZNF263' 'ZNF148::ZNF281' 'ZNF148::ZNF324'\n",
      " 'ZNF148::ZNF341' 'ZNF148::ZNF740' 'ZNF148::ZNF770' 'ZNF219::ZNF263'\n",
      " 'ZNF219::ZNF281' 'ZNF219::ZNF341' 'ZNF219::ZNF770' 'ZNF263::ZNF281'\n",
      " 'ZNF263::ZNF324' 'ZNF263::ZNF341' 'ZNF263::ZNF770' 'ZNF281::ZNF324'\n",
      " 'ZNF281::ZNF341' 'ZNF281::ZNF76' 'ZNF281::ZNF770' 'ZNF341::ZNF770']\n",
      "num vocab in expression enrichment (loop-loop region):  0\n",
      "[]\n"
     ]
    }
   ],
   "source": [
    "print('post genomic instance filter')\n",
    "print('num vocab in expression enrichment (pro-pro region): ', results_expr_pro_pro.vocab_pair.unique().shape[0])\n",
    "print(results_expr_pro_pro.vocab_pair.unique())\n",
    "print('num vocab in expression enrichment (loop-loop region): ', results_expr_loop_loop.vocab_pair.unique().shape[0])\n",
    "print(results_expr_loop_loop.vocab_pair.unique())\n"
   ]
  },
  {
   "cell_type": "markdown",
   "metadata": {},
   "source": [
    "## 3D filter expr vocab words based on whether there is they are annotated for skin"
   ]
  },
  {
   "cell_type": "code",
   "execution_count": 64,
   "metadata": {},
   "outputs": [
    {
     "data": {
      "text/plain": [
       "none    726\n",
       "one     326\n",
       "both    244\n",
       "Name: check_tissuetf, dtype: int64"
      ]
     },
     "execution_count": 64,
     "metadata": {},
     "output_type": "execute_result"
    }
   ],
   "source": [
    "results_expr_pro_pro[['vocab_pair','check_tissuetf']].drop_duplicates().check_tissuetf.value_counts()"
   ]
  },
  {
   "cell_type": "code",
   "execution_count": 65,
   "metadata": {},
   "outputs": [
    {
     "data": {
      "text/plain": [
       "Series([], Name: check_tissuetf, dtype: int64)"
      ]
     },
     "execution_count": 65,
     "metadata": {},
     "output_type": "execute_result"
    }
   ],
   "source": [
    "results_expr_loop_loop[['vocab_pair','check_tissuetf']].drop_duplicates().check_tissuetf.value_counts()"
   ]
  },
  {
   "cell_type": "markdown",
   "metadata": {},
   "source": [
    "shows fraction of vocab words having tissue specific motif configuration (`both` are tissue specific, `one` is tissue specific, or `none` are)\n",
    "\n",
    "\n",
    "MAKE SURE #s are around 40 ish so pick `one` or `both`"
   ]
  },
  {
   "cell_type": "code",
   "execution_count": 66,
   "metadata": {},
   "outputs": [
    {
     "name": "stdout",
     "output_type": "stream",
     "text": [
      "pro-pro region\n",
      "total vocab: 970 tissue annon vocab: 244\n",
      "['ARNT::SP1' 'CEBPZ::SP1' 'E2F1::KLF5' 'E2F1::KLF6' 'E2F1::SP1'\n",
      " 'E2F1::SP3' 'E2F1::ZNF219' 'E2F4::WT1' 'E2F4::ZFX' 'E2F4::ZNF219'\n",
      " 'E2F6::KLF5' 'E2F6::SP1' 'E2F7::WT1' 'E2F7::ZFX' 'E2F7::ZNF148'\n",
      " 'E2F7::ZNF219' 'EGR1::KLF5' 'EGR1::SP1' 'EGR1::SP3' 'EGR3::KLF5'\n",
      " 'EGR3::SP1' 'EGR3::SP3' 'EHF::SP3' 'ELF1::KLF5' 'ELF1::SP1' 'ELF1::SP3'\n",
      " 'ELF2::KLF5' 'ELF2::SP1' 'ELF2::SP3' 'ELF3::KLF5' 'ELF3::SP1' 'ELF3::SP3'\n",
      " 'ELK1::KLF4' 'ELK1::KLF5' 'ELK1::SP1' 'ELK1::SP3' 'ELK4::KLF4'\n",
      " 'ELK4::KLF5' 'ELK4::SP1' 'ELK4::SP3' 'EPAS1::KLF5' 'ETS1::KLF5'\n",
      " 'ETS1::SP1' 'ETS1::SP2' 'ETS1::SP3' 'ETS1::SP4' 'ETS1::WT1' 'ETV5::KLF5'\n",
      " 'ETV6::KLF5' 'ETV6::SP1' 'FLI1::KLF5' 'FLI1::SP1' 'FLI1::SP3'\n",
      " 'HIF1A::KLF5' 'HSF1::SP1' 'IRF3::SP1' 'IRF5::SP1' 'KLF16::KLF4'\n",
      " 'KLF16::KLF5' 'KLF16::MAZ' 'KLF16::SNAI2' 'KLF16::SP1' 'KLF16::SP3'\n",
      " 'KLF16::TAF1' 'KLF16::TFAP2C' 'KLF16::WT1' 'KLF16::ZBTB14'\n",
      " 'KLF16::ZNF219' 'KLF3::KLF5' 'KLF4::KLF5' 'KLF4::KLF6' 'KLF4::MAZ'\n",
      " 'KLF4::RARA' 'KLF4::SNAI1' 'KLF4::SP1' 'KLF4::SP2' 'KLF4::SP3'\n",
      " 'KLF4::SREBF2' 'KLF4::TAF1' 'KLF4::TFAP2A' 'KLF4::TFAP2C' 'KLF4::WT1'\n",
      " 'KLF4::ZBTB14' 'KLF4::ZNF219' 'KLF4::ZNF341' 'KLF5::KLF6' 'KLF5::MAZ'\n",
      " 'KLF5::MYBL2' 'KLF5::NFAT5' 'KLF5::NKX6-1' 'KLF5::NR2F1' 'KLF5::NRF1'\n",
      " 'KLF5::PATZ1' 'KLF5::PURA' 'KLF5::RARA' 'KLF5::RREB1' 'KLF5::SNAI1'\n",
      " 'KLF5::SNAI2' 'KLF5::SP1' 'KLF5::SP2' 'KLF5::SP3' 'KLF5::SP4'\n",
      " 'KLF5::TAF1' 'KLF5::TBX1' 'KLF5::TFAP2A' 'KLF5::TFAP2C' 'KLF5::TFCP2'\n",
      " 'KLF5::TFDP1' 'KLF5::THAP1' 'KLF5::VEZF1' 'KLF5::WT1' 'KLF5::ZBTB14'\n",
      " 'KLF5::ZBTB17' 'KLF5::ZFP64' 'KLF5::ZFX' 'KLF5::ZNF148' 'KLF5::ZNF219'\n",
      " 'KLF5::ZNF263' 'KLF5::ZNF281' 'KLF5::ZNF324' 'KLF5::ZNF341'\n",
      " 'KLF5::ZNF770' 'KLF6::SP1' 'KLF6::SP3' 'KLF6::TFAP2C' 'KLF6::ZNF219'\n",
      " 'MAZ::SP1' 'MAZ::SP3' 'MAZ::TFAP2A' 'MAZ::TFAP2C' 'MAZ::ZNF219'\n",
      " 'NFAT5::SP1' 'NFAT5::SP3' 'NFAT5::TFAP2C' 'NFYB::SP1' 'NKX6-1::SP1'\n",
      " 'NR1H3::SP1' 'NR2F1::SP1' 'NR2F1::TFAP2C' 'NR2F2::SP1' 'NR4A1::SP1'\n",
      " 'NR4A2::SP1' 'NRF1::SP1' 'NRF1::SP3' 'NRF1::TFAP2C' 'PATZ1::TFAP2C'\n",
      " 'PBX3::SP1' 'PKNOX1::SP1' 'PPARA::SP1' 'PPARA::SP3' 'PURA::SP1'\n",
      " 'PURA::SP3' 'RARA::SP1' 'RARA::SP3' 'RARG::SP1' 'RARG::SP2' 'RARG::WT1'\n",
      " 'RBPJ::SP1' 'RBPJ::SP3' 'REL::SP1' 'REL::SP3' 'RREB1::SP1' 'RREB1::SP3'\n",
      " 'SNAI1::SP1' 'SNAI1::SP3' 'SNAI2::SP1' 'SNAI2::SP3' 'SP1::SP2' 'SP1::SP3'\n",
      " 'SP1::SP4' 'SP1::SREBF2' 'SP1::TAF1' 'SP1::TBX1' 'SP1::TCF3'\n",
      " 'SP1::TFAP2A' 'SP1::TFAP2C' 'SP1::TFCP2' 'SP1::TFDP1' 'SP1::THAP1'\n",
      " 'SP1::VEZF1' 'SP1::WT1' 'SP1::XBP1' 'SP1::ZBTB14' 'SP1::ZBTB17'\n",
      " 'SP1::ZBTB4' 'SP1::ZBTB7A' 'SP1::ZFP64' 'SP1::ZIC2' 'SP1::ZNF140'\n",
      " 'SP1::ZNF219' 'SP1::ZNF335' 'SP1::ZNF341' 'SP1::ZNF740' 'SP1::ZNF76'\n",
      " 'SP1::ZNF770' 'SP2::SP3' 'SP2::TFAP2A' 'SP2::TFAP2C' 'SP2::ZNF219'\n",
      " 'SP3::SP4' 'SP3::SREBF2' 'SP3::TAF1' 'SP3::TBX1' 'SP3::TCF3'\n",
      " 'SP3::TFAP2A' 'SP3::TFAP2C' 'SP3::TFAP4' 'SP3::TFCP2' 'SP3::TFDP1'\n",
      " 'SP3::THAP1' 'SP3::VEZF1' 'SP3::WT1' 'SP3::ZBTB14' 'SP3::ZBTB17'\n",
      " 'SP3::ZBTB4' 'SP3::ZNF140' 'SP3::ZNF219' 'SP3::ZNF341' 'SP3::ZNF740'\n",
      " 'SP3::ZNF76' 'SP3::ZNF770' 'SP4::TFAP2A' 'SP4::TFAP2C' 'SREBF2::ZNF219'\n",
      " 'TAF1::ZNF219' 'TBX1::TFAP2A' 'TBX1::TFAP2C' 'TFAP2A::TFAP2C'\n",
      " 'TFAP2A::VEZF1' 'TFAP2A::WT1' 'TFAP2A::ZNF341' 'TFAP2A::ZNF770'\n",
      " 'TFAP2C::VEZF1' 'TFAP2C::WT1' 'TFAP2C::ZBTB14' 'TFAP2C::ZBTB17'\n",
      " 'TFAP2C::ZNF219' 'TFAP2C::ZNF341' 'TFAP2C::ZNF770' 'TFDP1::ZNF219'\n",
      " 'VEZF1::ZNF219' 'WT1::ZNF219' 'ZBTB14::ZNF219' 'ZNF219::ZNF341']\n",
      "loop-loop region\n",
      "total vocab: 0 tissue annon vocab: 0\n",
      "[]\n"
     ]
    }
   ],
   "source": [
    "filter_thres = ['both']#'both' # 'one'#'none','one',\n",
    "results_expr_pro_pro_tissue = results_expr_pro_pro[results_expr_pro_pro.check_tissuetf.isin(filter_thres)]\n",
    "print('pro-pro region')\n",
    "print('total vocab:',results_expr_pro_pro.vocab_pair.unique().shape[0],'tissue annon vocab:', results_expr_pro_pro_tissue.vocab_pair.unique().shape[0])\n",
    "print(results_expr_pro_pro_tissue.vocab_pair.unique())\n",
    "\n",
    "results_expr_loop_loop_tissue = results_expr_loop_loop[results_expr_loop_loop.check_tissuetf.isin(filter_thres)]\n",
    "print('loop-loop region')\n",
    "print('total vocab:',results_expr_loop_loop.vocab_pair.unique().shape[0],'tissue annon vocab:', results_expr_loop_loop_tissue.vocab_pair.unique().shape[0])\n",
    "print(results_expr_loop_loop_tissue.vocab_pair.unique())"
   ]
  },
  {
   "cell_type": "markdown",
   "metadata": {},
   "source": [
    "## 3E add in stability scores vocab pairs that pass the genomic instance filter and get genomic instance counts"
   ]
  },
  {
   "cell_type": "code",
   "execution_count": 67,
   "metadata": {},
   "outputs": [],
   "source": [
    "def get_counts(results_df, label):\n",
    "    counts_df = pd.DataFrame(results_df.vocab_pair.value_counts())\n",
    "    counts_df.columns = ['num_instance']\n",
    "    counts_df['label']=label\n",
    "    return counts_df"
   ]
  },
  {
   "cell_type": "code",
   "execution_count": 68,
   "metadata": {},
   "outputs": [
    {
     "data": {
      "text/plain": [
       "expr_pro_tissue    244\n",
       "Name: label, dtype: int64"
      ]
     },
     "execution_count": 68,
     "metadata": {},
     "output_type": "execute_result"
    }
   ],
   "source": [
    "vocab_summary_df = pd.concat([# get_counts(results_stability_pro_pro, 'stability_pro'),\n",
    "            get_counts(results_expr_pro_pro_tissue, 'expr_pro_tissue'),\n",
    "#             get_counts(results_stability_loop_loop, 'stability_loop'),\n",
    "            get_counts(results_expr_loop_loop_tissue, 'expr_loop_tissue')\n",
    "        ],\n",
    "    axis=0)\n",
    "vocab_summary_df.index.set_names('vocab',inplace=True)\n",
    "vocab_summary_df.reset_index(inplace=True)\n",
    "vocab_summary_df = vocab_summary_df.groupby('vocab').agg({'num_instance':sum, 'label':'|'.join}).reset_index()\n",
    "vocab_summary_df['tissue']=TISSUE\n",
    "vocab_summary_df.label.value_counts()\n",
    "# results_stability_loop_loop.vocab_pair.unique()"
   ]
  },
  {
   "cell_type": "code",
   "execution_count": 69,
   "metadata": {},
   "outputs": [
    {
     "name": "stdout",
     "output_type": "stream",
     "text": [
      "saved: ../data/processed/fig4_modelling/vocab_sum/SCC13-CTRLi_vocab_summary.csv\n"
     ]
    }
   ],
   "source": [
    "vocab_summary_df.to_csv(os.path.join(save_dir, TISSUE+'_vocab_summary.csv'))\n",
    "print('saved:', os.path.join(save_dir, TISSUE+'_vocab_summary.csv'))"
   ]
  },
  {
   "cell_type": "markdown",
   "metadata": {},
   "source": [
    "# 4. manual run all 3 tissue types\n",
    "\n",
    "look at the *vocab_summary.csv\n",
    "\n",
    "manually pair down list to one xlsx\n",
    "\n",
    "`vocab_sum/scc_filtered_vocab_list.xlsx`\n",
    "\n"
   ]
  },
  {
   "cell_type": "code",
   "execution_count": 71,
   "metadata": {},
   "outputs": [
    {
     "data": {
      "text/plain": [
       "['../data/processed/fig4_modelling/vocab_sum/SCC13-CTRLi_vocab_summary.csv',\n",
       " '../data/processed/fig4_modelling/vocab_sum/GM12878_vocab_summary.csv',\n",
       " '../data/processed/fig4_modelling/vocab_sum/A431-CTRLi_vocab_summary.csv',\n",
       " '../data/processed/fig4_modelling/vocab_sum/Melanocytes_vocab_summary.csv',\n",
       " '../data/processed/fig4_modelling/vocab_sum/Colon_vocab_summary.csv',\n",
       " '../data/processed/fig4_modelling/vocab_sum/GDSD6_vocab_summary.csv',\n",
       " '../data/processed/fig4_modelling/vocab_sum/CAL27-CTRLi_vocab_summary.csv']"
      ]
     },
     "execution_count": 71,
     "metadata": {},
     "output_type": "execute_result"
    }
   ],
   "source": [
    "glob.glob( os.path.join(save_dir, '*_vocab_summary.csv'))"
   ]
  },
  {
   "cell_type": "code",
   "execution_count": 76,
   "metadata": {},
   "outputs": [
    {
     "data": {
      "text/html": [
       "<div>\n",
       "<style scoped>\n",
       "    .dataframe tbody tr th:only-of-type {\n",
       "        vertical-align: middle;\n",
       "    }\n",
       "\n",
       "    .dataframe tbody tr th {\n",
       "        vertical-align: top;\n",
       "    }\n",
       "\n",
       "    .dataframe thead th {\n",
       "        text-align: right;\n",
       "    }\n",
       "</style>\n",
       "<table border=\"1\" class=\"dataframe\">\n",
       "  <thead>\n",
       "    <tr style=\"text-align: right;\">\n",
       "      <th></th>\n",
       "      <th>vocab</th>\n",
       "      <th>num_instance</th>\n",
       "      <th>label</th>\n",
       "      <th>tissue</th>\n",
       "    </tr>\n",
       "  </thead>\n",
       "  <tbody>\n",
       "    <tr>\n",
       "      <td>0</td>\n",
       "      <td>ARNT::SP1</td>\n",
       "      <td>13</td>\n",
       "      <td>expr_pro_tissue</td>\n",
       "      <td>A431-CTRLi</td>\n",
       "    </tr>\n",
       "    <tr>\n",
       "      <td>1</td>\n",
       "      <td>CBFB::SP1</td>\n",
       "      <td>15</td>\n",
       "      <td>expr_loop_tissue</td>\n",
       "      <td>A431-CTRLi</td>\n",
       "    </tr>\n",
       "    <tr>\n",
       "      <td>2</td>\n",
       "      <td>CEBPZ::KLF5</td>\n",
       "      <td>12</td>\n",
       "      <td>expr_pro_tissue</td>\n",
       "      <td>A431-CTRLi</td>\n",
       "    </tr>\n",
       "    <tr>\n",
       "      <td>3</td>\n",
       "      <td>CEBPZ::SP1</td>\n",
       "      <td>62</td>\n",
       "      <td>expr_pro_tissue</td>\n",
       "      <td>A431-CTRLi</td>\n",
       "    </tr>\n",
       "    <tr>\n",
       "      <td>4</td>\n",
       "      <td>CEBPZ::SP3</td>\n",
       "      <td>26</td>\n",
       "      <td>expr_pro_tissue</td>\n",
       "      <td>A431-CTRLi</td>\n",
       "    </tr>\n",
       "    <tr>\n",
       "      <td>...</td>\n",
       "      <td>...</td>\n",
       "      <td>...</td>\n",
       "      <td>...</td>\n",
       "      <td>...</td>\n",
       "    </tr>\n",
       "    <tr>\n",
       "      <td>239</td>\n",
       "      <td>TFDP1::ZNF219</td>\n",
       "      <td>12</td>\n",
       "      <td>expr_pro_tissue</td>\n",
       "      <td>SCC13-CTRLi</td>\n",
       "    </tr>\n",
       "    <tr>\n",
       "      <td>240</td>\n",
       "      <td>VEZF1::ZNF219</td>\n",
       "      <td>22</td>\n",
       "      <td>expr_pro_tissue</td>\n",
       "      <td>SCC13-CTRLi</td>\n",
       "    </tr>\n",
       "    <tr>\n",
       "      <td>241</td>\n",
       "      <td>WT1::ZNF219</td>\n",
       "      <td>18</td>\n",
       "      <td>expr_pro_tissue</td>\n",
       "      <td>SCC13-CTRLi</td>\n",
       "    </tr>\n",
       "    <tr>\n",
       "      <td>242</td>\n",
       "      <td>ZBTB14::ZNF219</td>\n",
       "      <td>18</td>\n",
       "      <td>expr_pro_tissue</td>\n",
       "      <td>SCC13-CTRLi</td>\n",
       "    </tr>\n",
       "    <tr>\n",
       "      <td>243</td>\n",
       "      <td>ZNF219::ZNF341</td>\n",
       "      <td>11</td>\n",
       "      <td>expr_pro_tissue</td>\n",
       "      <td>SCC13-CTRLi</td>\n",
       "    </tr>\n",
       "  </tbody>\n",
       "</table>\n",
       "<p>754 rows × 4 columns</p>\n",
       "</div>"
      ],
      "text/plain": [
       "              vocab  num_instance             label       tissue\n",
       "0         ARNT::SP1            13   expr_pro_tissue   A431-CTRLi\n",
       "1         CBFB::SP1            15  expr_loop_tissue   A431-CTRLi\n",
       "2       CEBPZ::KLF5            12   expr_pro_tissue   A431-CTRLi\n",
       "3        CEBPZ::SP1            62   expr_pro_tissue   A431-CTRLi\n",
       "4        CEBPZ::SP3            26   expr_pro_tissue   A431-CTRLi\n",
       "..              ...           ...               ...          ...\n",
       "239   TFDP1::ZNF219            12   expr_pro_tissue  SCC13-CTRLi\n",
       "240   VEZF1::ZNF219            22   expr_pro_tissue  SCC13-CTRLi\n",
       "241     WT1::ZNF219            18   expr_pro_tissue  SCC13-CTRLi\n",
       "242  ZBTB14::ZNF219            18   expr_pro_tissue  SCC13-CTRLi\n",
       "243  ZNF219::ZNF341            11   expr_pro_tissue  SCC13-CTRLi\n",
       "\n",
       "[754 rows x 4 columns]"
      ]
     },
     "execution_count": 76,
     "metadata": {},
     "output_type": "execute_result"
    }
   ],
   "source": [
    "scc_df = pd.concat([pd.read_csv('../data/processed/fig4_modelling/vocab_sum/A431-CTRLi_vocab_summary.csv',index_col=0),\n",
    "          pd.read_csv('../data/processed/fig4_modelling/vocab_sum/CAL27-CTRLi_vocab_summary.csv',index_col=0),\n",
    "          pd.read_csv('../data/processed/fig4_modelling/vocab_sum/SCC13-CTRLi_vocab_summary.csv',index_col=0)],axis=0)\n",
    "scc_df"
   ]
  },
  {
   "cell_type": "code",
   "execution_count": 108,
   "metadata": {},
   "outputs": [],
   "source": [
    "scc_df_tissue3 = scc_df.groupby('vocab').agg({'tissue': '|'.join,'num_instance':sum, 'label': lambda x: '|'.join(list(set(x)))})\n",
    "scc_df_tissue3 = scc_df_tissue3[scc_df_tissue3.tissue=='A431-CTRLi|CAL27-CTRLi|SCC13-CTRLi'].reset_index()"
   ]
  },
  {
   "cell_type": "code",
   "execution_count": 109,
   "metadata": {},
   "outputs": [
    {
     "data": {
      "text/html": [
       "<div>\n",
       "<style scoped>\n",
       "    .dataframe tbody tr th:only-of-type {\n",
       "        vertical-align: middle;\n",
       "    }\n",
       "\n",
       "    .dataframe tbody tr th {\n",
       "        vertical-align: top;\n",
       "    }\n",
       "\n",
       "    .dataframe thead th {\n",
       "        text-align: right;\n",
       "    }\n",
       "</style>\n",
       "<table border=\"1\" class=\"dataframe\">\n",
       "  <thead>\n",
       "    <tr style=\"text-align: right;\">\n",
       "      <th></th>\n",
       "      <th>vocab</th>\n",
       "      <th>tissue</th>\n",
       "      <th>num_instance</th>\n",
       "      <th>label</th>\n",
       "    </tr>\n",
       "  </thead>\n",
       "  <tbody>\n",
       "    <tr>\n",
       "      <td>0</td>\n",
       "      <td>ARNT::SP1</td>\n",
       "      <td>cancer</td>\n",
       "      <td>36</td>\n",
       "      <td>expr_pro_tissue</td>\n",
       "    </tr>\n",
       "    <tr>\n",
       "      <td>1</td>\n",
       "      <td>CEBPZ::SP1</td>\n",
       "      <td>cancer</td>\n",
       "      <td>125</td>\n",
       "      <td>expr_pro_tissue</td>\n",
       "    </tr>\n",
       "    <tr>\n",
       "      <td>2</td>\n",
       "      <td>E2F1::KLF5</td>\n",
       "      <td>cancer</td>\n",
       "      <td>54</td>\n",
       "      <td>expr_pro_tissue</td>\n",
       "    </tr>\n",
       "    <tr>\n",
       "      <td>3</td>\n",
       "      <td>E2F1::SP1</td>\n",
       "      <td>cancer</td>\n",
       "      <td>231</td>\n",
       "      <td>expr_pro_tissue|expr_loop_tissue|expr_pro_tissue</td>\n",
       "    </tr>\n",
       "    <tr>\n",
       "      <td>4</td>\n",
       "      <td>E2F1::ZNF219</td>\n",
       "      <td>cancer</td>\n",
       "      <td>40</td>\n",
       "      <td>expr_pro_tissue</td>\n",
       "    </tr>\n",
       "    <tr>\n",
       "      <td>...</td>\n",
       "      <td>...</td>\n",
       "      <td>...</td>\n",
       "      <td>...</td>\n",
       "      <td>...</td>\n",
       "    </tr>\n",
       "    <tr>\n",
       "      <td>150</td>\n",
       "      <td>TFAP2C::ZNF219</td>\n",
       "      <td>cancer</td>\n",
       "      <td>42</td>\n",
       "      <td>expr_pro_tissue</td>\n",
       "    </tr>\n",
       "    <tr>\n",
       "      <td>151</td>\n",
       "      <td>TFAP2C::ZNF770</td>\n",
       "      <td>cancer</td>\n",
       "      <td>15</td>\n",
       "      <td>expr_pro_tissue</td>\n",
       "    </tr>\n",
       "    <tr>\n",
       "      <td>152</td>\n",
       "      <td>TFDP1::ZNF219</td>\n",
       "      <td>cancer</td>\n",
       "      <td>35</td>\n",
       "      <td>expr_pro_tissue</td>\n",
       "    </tr>\n",
       "    <tr>\n",
       "      <td>153</td>\n",
       "      <td>VEZF1::ZNF219</td>\n",
       "      <td>cancer</td>\n",
       "      <td>50</td>\n",
       "      <td>expr_pro_tissue</td>\n",
       "    </tr>\n",
       "    <tr>\n",
       "      <td>154</td>\n",
       "      <td>ZBTB14::ZNF219</td>\n",
       "      <td>cancer</td>\n",
       "      <td>46</td>\n",
       "      <td>expr_pro_tissue</td>\n",
       "    </tr>\n",
       "  </tbody>\n",
       "</table>\n",
       "<p>155 rows × 4 columns</p>\n",
       "</div>"
      ],
      "text/plain": [
       "              vocab  tissue  num_instance  \\\n",
       "0         ARNT::SP1  cancer            36   \n",
       "1        CEBPZ::SP1  cancer           125   \n",
       "2        E2F1::KLF5  cancer            54   \n",
       "3         E2F1::SP1  cancer           231   \n",
       "4      E2F1::ZNF219  cancer            40   \n",
       "..              ...     ...           ...   \n",
       "150  TFAP2C::ZNF219  cancer            42   \n",
       "151  TFAP2C::ZNF770  cancer            15   \n",
       "152   TFDP1::ZNF219  cancer            35   \n",
       "153   VEZF1::ZNF219  cancer            50   \n",
       "154  ZBTB14::ZNF219  cancer            46   \n",
       "\n",
       "                                                label  \n",
       "0                                     expr_pro_tissue  \n",
       "1                                     expr_pro_tissue  \n",
       "2                                     expr_pro_tissue  \n",
       "3    expr_pro_tissue|expr_loop_tissue|expr_pro_tissue  \n",
       "4                                     expr_pro_tissue  \n",
       "..                                                ...  \n",
       "150                                   expr_pro_tissue  \n",
       "151                                   expr_pro_tissue  \n",
       "152                                   expr_pro_tissue  \n",
       "153                                   expr_pro_tissue  \n",
       "154                                   expr_pro_tissue  \n",
       "\n",
       "[155 rows x 4 columns]"
      ]
     },
     "execution_count": 109,
     "metadata": {},
     "output_type": "execute_result"
    }
   ],
   "source": [
    "scc_df_tissue3['tissue']= 'cancer'\n",
    "scc_df_tissue3"
   ]
  },
  {
   "cell_type": "code",
   "execution_count": 110,
   "metadata": {},
   "outputs": [],
   "source": [
    "scc_df_tissue3.to_csv( os.path.join(save_dir, 'SCC_all_vocab_summary.csv'))"
   ]
  },
  {
   "cell_type": "code",
   "execution_count": null,
   "metadata": {},
   "outputs": [],
   "source": []
  },
  {
   "cell_type": "code",
   "execution_count": 114,
   "metadata": {},
   "outputs": [
    {
     "data": {
      "text/html": [
       "<div>\n",
       "<style scoped>\n",
       "    .dataframe tbody tr th:only-of-type {\n",
       "        vertical-align: middle;\n",
       "    }\n",
       "\n",
       "    .dataframe tbody tr th {\n",
       "        vertical-align: top;\n",
       "    }\n",
       "\n",
       "    .dataframe thead th {\n",
       "        text-align: right;\n",
       "    }\n",
       "</style>\n",
       "<table border=\"1\" class=\"dataframe\">\n",
       "  <thead>\n",
       "    <tr style=\"text-align: right;\">\n",
       "      <th></th>\n",
       "      <th>Unnamed: 0</th>\n",
       "      <th>tf_key</th>\n",
       "      <th>tissue</th>\n",
       "      <th>jaccard</th>\n",
       "      <th>intersect_over_min</th>\n",
       "      <th>intersection</th>\n",
       "      <th>union</th>\n",
       "      <th>num_in_gene</th>\n",
       "      <th>num_in_feat</th>\n",
       "      <th>observed</th>\n",
       "      <th>expected</th>\n",
       "      <th>oddsratio</th>\n",
       "      <th>pval</th>\n",
       "      <th>pval_bonf</th>\n",
       "      <th>log_pval_bonf</th>\n",
       "    </tr>\n",
       "  </thead>\n",
       "  <tbody>\n",
       "    <tr>\n",
       "      <td>0</td>\n",
       "      <td>0</td>\n",
       "      <td>ARID3A::ARID5B</td>\n",
       "      <td>GDSD0</td>\n",
       "      <td>0.021416</td>\n",
       "      <td>0.079688</td>\n",
       "      <td>12471.0</td>\n",
       "      <td>582315.0</td>\n",
       "      <td>438288.0</td>\n",
       "      <td>156498.0</td>\n",
       "      <td>12471.0</td>\n",
       "      <td>8888.033645</td>\n",
       "      <td>1.450960</td>\n",
       "      <td>4.403910e-307</td>\n",
       "      <td>4.042790e-303</td>\n",
       "      <td>100.000000</td>\n",
       "    </tr>\n",
       "    <tr>\n",
       "      <td>1</td>\n",
       "      <td>1</td>\n",
       "      <td>ARID3A::ATF2</td>\n",
       "      <td>GDSD0</td>\n",
       "      <td>0.005609</td>\n",
       "      <td>0.073615</td>\n",
       "      <td>2645.0</td>\n",
       "      <td>471573.0</td>\n",
       "      <td>438288.0</td>\n",
       "      <td>35930.0</td>\n",
       "      <td>2645.0</td>\n",
       "      <td>2040.582301</td>\n",
       "      <td>1.322135</td>\n",
       "      <td>2.215500e-40</td>\n",
       "      <td>2.033829e-36</td>\n",
       "      <td>35.691686</td>\n",
       "    </tr>\n",
       "    <tr>\n",
       "      <td>2</td>\n",
       "      <td>2</td>\n",
       "      <td>ARID3A::ATF4</td>\n",
       "      <td>GDSD0</td>\n",
       "      <td>0.002683</td>\n",
       "      <td>0.092291</td>\n",
       "      <td>1208.0</td>\n",
       "      <td>450169.0</td>\n",
       "      <td>438288.0</td>\n",
       "      <td>13089.0</td>\n",
       "      <td>1208.0</td>\n",
       "      <td>743.367151</td>\n",
       "      <td>1.691745</td>\n",
       "      <td>2.395415e-59</td>\n",
       "      <td>2.198991e-55</td>\n",
       "      <td>54.657777</td>\n",
       "    </tr>\n",
       "    <tr>\n",
       "      <td>3</td>\n",
       "      <td>3</td>\n",
       "      <td>ARID3A::ATF7</td>\n",
       "      <td>GDSD0</td>\n",
       "      <td>0.002795</td>\n",
       "      <td>0.084686</td>\n",
       "      <td>1263.0</td>\n",
       "      <td>451939.0</td>\n",
       "      <td>438288.0</td>\n",
       "      <td>14914.0</td>\n",
       "      <td>1263.0</td>\n",
       "      <td>847.014874</td>\n",
       "      <td>1.539210</td>\n",
       "      <td>1.225235e-43</td>\n",
       "      <td>1.124766e-39</td>\n",
       "      <td>38.948938</td>\n",
       "    </tr>\n",
       "    <tr>\n",
       "      <td>4</td>\n",
       "      <td>4</td>\n",
       "      <td>ARID3A::BACH2</td>\n",
       "      <td>GDSD0</td>\n",
       "      <td>0.003453</td>\n",
       "      <td>0.166522</td>\n",
       "      <td>1540.0</td>\n",
       "      <td>445996.0</td>\n",
       "      <td>438288.0</td>\n",
       "      <td>9248.0</td>\n",
       "      <td>1540.0</td>\n",
       "      <td>525.224189</td>\n",
       "      <td>3.327991</td>\n",
       "      <td>6.554794e-309</td>\n",
       "      <td>6.017301e-305</td>\n",
       "      <td>100.000000</td>\n",
       "    </tr>\n",
       "    <tr>\n",
       "      <td>...</td>\n",
       "      <td>...</td>\n",
       "      <td>...</td>\n",
       "      <td>...</td>\n",
       "      <td>...</td>\n",
       "      <td>...</td>\n",
       "      <td>...</td>\n",
       "      <td>...</td>\n",
       "      <td>...</td>\n",
       "      <td>...</td>\n",
       "      <td>...</td>\n",
       "      <td>...</td>\n",
       "      <td>...</td>\n",
       "      <td>...</td>\n",
       "      <td>...</td>\n",
       "      <td>...</td>\n",
       "    </tr>\n",
       "    <tr>\n",
       "      <td>9175</td>\n",
       "      <td>9175</td>\n",
       "      <td>ZNF563::ZNF816</td>\n",
       "      <td>GDSD0</td>\n",
       "      <td>0.006367</td>\n",
       "      <td>0.110751</td>\n",
       "      <td>2941.0</td>\n",
       "      <td>461902.0</td>\n",
       "      <td>438288.0</td>\n",
       "      <td>26555.0</td>\n",
       "      <td>2941.0</td>\n",
       "      <td>1508.145366</td>\n",
       "      <td>2.076235</td>\n",
       "      <td>8.350647e-253</td>\n",
       "      <td>7.665894e-249</td>\n",
       "      <td>100.000000</td>\n",
       "    </tr>\n",
       "    <tr>\n",
       "      <td>9176</td>\n",
       "      <td>9176</td>\n",
       "      <td>ZNF563::ZNF85</td>\n",
       "      <td>GDSD0</td>\n",
       "      <td>0.004131</td>\n",
       "      <td>0.084959</td>\n",
       "      <td>1895.0</td>\n",
       "      <td>458698.0</td>\n",
       "      <td>438288.0</td>\n",
       "      <td>22305.0</td>\n",
       "      <td>1895.0</td>\n",
       "      <td>1266.773955</td>\n",
       "      <td>1.545060</td>\n",
       "      <td>2.137555e-65</td>\n",
       "      <td>1.962275e-61</td>\n",
       "      <td>60.707240</td>\n",
       "    </tr>\n",
       "    <tr>\n",
       "      <td>9177</td>\n",
       "      <td>9177</td>\n",
       "      <td>ZNF768::ZNF816</td>\n",
       "      <td>GDSD0</td>\n",
       "      <td>0.004764</td>\n",
       "      <td>0.126709</td>\n",
       "      <td>2159.0</td>\n",
       "      <td>453168.0</td>\n",
       "      <td>438288.0</td>\n",
       "      <td>17039.0</td>\n",
       "      <td>2159.0</td>\n",
       "      <td>967.700579</td>\n",
       "      <td>2.417612</td>\n",
       "      <td>2.537783e-258</td>\n",
       "      <td>2.329685e-254</td>\n",
       "      <td>100.000000</td>\n",
       "    </tr>\n",
       "    <tr>\n",
       "      <td>9178</td>\n",
       "      <td>9178</td>\n",
       "      <td>ZNF768::ZNF85</td>\n",
       "      <td>GDSD0</td>\n",
       "      <td>0.002474</td>\n",
       "      <td>0.087028</td>\n",
       "      <td>1113.0</td>\n",
       "      <td>449964.0</td>\n",
       "      <td>438288.0</td>\n",
       "      <td>12789.0</td>\n",
       "      <td>1113.0</td>\n",
       "      <td>726.329169</td>\n",
       "      <td>1.585879</td>\n",
       "      <td>1.511432e-43</td>\n",
       "      <td>1.387494e-39</td>\n",
       "      <td>38.857769</td>\n",
       "    </tr>\n",
       "    <tr>\n",
       "      <td>9179</td>\n",
       "      <td>9179</td>\n",
       "      <td>ZNF816::ZNF85</td>\n",
       "      <td>GDSD0</td>\n",
       "      <td>0.004902</td>\n",
       "      <td>0.129216</td>\n",
       "      <td>2222.0</td>\n",
       "      <td>453262.0</td>\n",
       "      <td>438288.0</td>\n",
       "      <td>17196.0</td>\n",
       "      <td>2222.0</td>\n",
       "      <td>976.617123</td>\n",
       "      <td>2.472833</td>\n",
       "      <td>1.960745e-277</td>\n",
       "      <td>1.799964e-273</td>\n",
       "      <td>100.000000</td>\n",
       "    </tr>\n",
       "  </tbody>\n",
       "</table>\n",
       "<p>9180 rows × 15 columns</p>\n",
       "</div>"
      ],
      "text/plain": [
       "      Unnamed: 0          tf_key tissue   jaccard  intersect_over_min  \\\n",
       "0              0  ARID3A::ARID5B  GDSD0  0.021416            0.079688   \n",
       "1              1    ARID3A::ATF2  GDSD0  0.005609            0.073615   \n",
       "2              2    ARID3A::ATF4  GDSD0  0.002683            0.092291   \n",
       "3              3    ARID3A::ATF7  GDSD0  0.002795            0.084686   \n",
       "4              4   ARID3A::BACH2  GDSD0  0.003453            0.166522   \n",
       "...          ...             ...    ...       ...                 ...   \n",
       "9175        9175  ZNF563::ZNF816  GDSD0  0.006367            0.110751   \n",
       "9176        9176   ZNF563::ZNF85  GDSD0  0.004131            0.084959   \n",
       "9177        9177  ZNF768::ZNF816  GDSD0  0.004764            0.126709   \n",
       "9178        9178   ZNF768::ZNF85  GDSD0  0.002474            0.087028   \n",
       "9179        9179   ZNF816::ZNF85  GDSD0  0.004902            0.129216   \n",
       "\n",
       "      intersection     union  num_in_gene  num_in_feat  observed     expected  \\\n",
       "0          12471.0  582315.0     438288.0     156498.0   12471.0  8888.033645   \n",
       "1           2645.0  471573.0     438288.0      35930.0    2645.0  2040.582301   \n",
       "2           1208.0  450169.0     438288.0      13089.0    1208.0   743.367151   \n",
       "3           1263.0  451939.0     438288.0      14914.0    1263.0   847.014874   \n",
       "4           1540.0  445996.0     438288.0       9248.0    1540.0   525.224189   \n",
       "...            ...       ...          ...          ...       ...          ...   \n",
       "9175        2941.0  461902.0     438288.0      26555.0    2941.0  1508.145366   \n",
       "9176        1895.0  458698.0     438288.0      22305.0    1895.0  1266.773955   \n",
       "9177        2159.0  453168.0     438288.0      17039.0    2159.0   967.700579   \n",
       "9178        1113.0  449964.0     438288.0      12789.0    1113.0   726.329169   \n",
       "9179        2222.0  453262.0     438288.0      17196.0    2222.0   976.617123   \n",
       "\n",
       "      oddsratio           pval      pval_bonf  log_pval_bonf  \n",
       "0      1.450960  4.403910e-307  4.042790e-303     100.000000  \n",
       "1      1.322135   2.215500e-40   2.033829e-36      35.691686  \n",
       "2      1.691745   2.395415e-59   2.198991e-55      54.657777  \n",
       "3      1.539210   1.225235e-43   1.124766e-39      38.948938  \n",
       "4      3.327991  6.554794e-309  6.017301e-305     100.000000  \n",
       "...         ...            ...            ...            ...  \n",
       "9175   2.076235  8.350647e-253  7.665894e-249     100.000000  \n",
       "9176   1.545060   2.137555e-65   1.962275e-61      60.707240  \n",
       "9177   2.417612  2.537783e-258  2.329685e-254     100.000000  \n",
       "9178   1.585879   1.511432e-43   1.387494e-39      38.857769  \n",
       "9179   2.472833  1.960745e-277  1.799964e-273     100.000000  \n",
       "\n",
       "[9180 rows x 15 columns]"
      ]
     },
     "execution_count": 114,
     "metadata": {},
     "output_type": "execute_result"
    }
   ],
   "source": []
  },
  {
   "cell_type": "code",
   "execution_count": 130,
   "metadata": {},
   "outputs": [],
   "source": [
    "# normal_df = pd.read_csv('../data/processed/fig4_modelling/vocab_sum/GDSD6_vocab_summary.csv',index_col=0)\n",
    "normal_df =pd.concat([pd.read_csv( '../data/processed/fig4_modelling/tf_tf_pairs/expr_GDSD0_pair_filt_unique.csv'),\n",
    "    pd.read_csv( '../data/processed/fig4_modelling/tf_tf_pairs/expr_GDSD3_pair_filt_unique.csv')],axis=0)\n",
    "\n",
    "normal_df = normal_df[normal_df.pval_bonf <0.05]"
   ]
  },
  {
   "cell_type": "code",
   "execution_count": 131,
   "metadata": {},
   "outputs": [
    {
     "data": {
      "text/html": [
       "<div>\n",
       "<style scoped>\n",
       "    .dataframe tbody tr th:only-of-type {\n",
       "        vertical-align: middle;\n",
       "    }\n",
       "\n",
       "    .dataframe tbody tr th {\n",
       "        vertical-align: top;\n",
       "    }\n",
       "\n",
       "    .dataframe thead th {\n",
       "        text-align: right;\n",
       "    }\n",
       "</style>\n",
       "<table border=\"1\" class=\"dataframe\">\n",
       "  <thead>\n",
       "    <tr style=\"text-align: right;\">\n",
       "      <th></th>\n",
       "      <th>Unnamed: 0</th>\n",
       "      <th>tf_key</th>\n",
       "      <th>tissue</th>\n",
       "      <th>jaccard</th>\n",
       "      <th>intersect_over_min</th>\n",
       "      <th>intersection</th>\n",
       "      <th>union</th>\n",
       "      <th>num_in_gene</th>\n",
       "      <th>num_in_feat</th>\n",
       "      <th>observed</th>\n",
       "      <th>expected</th>\n",
       "      <th>oddsratio</th>\n",
       "      <th>pval</th>\n",
       "      <th>pval_bonf</th>\n",
       "      <th>log_pval_bonf</th>\n",
       "    </tr>\n",
       "  </thead>\n",
       "  <tbody>\n",
       "    <tr>\n",
       "      <td>0</td>\n",
       "      <td>3</td>\n",
       "      <td>ARID3A::ATF7</td>\n",
       "      <td>GDSD0</td>\n",
       "      <td>0.002795</td>\n",
       "      <td>0.084686</td>\n",
       "      <td>1263.0</td>\n",
       "      <td>451939.0</td>\n",
       "      <td>438288.0</td>\n",
       "      <td>14914.0</td>\n",
       "      <td>1263.0</td>\n",
       "      <td>847.014874</td>\n",
       "      <td>1.539210</td>\n",
       "      <td>1.225235e-43</td>\n",
       "      <td>1.124766e-39</td>\n",
       "      <td>38.948938</td>\n",
       "    </tr>\n",
       "    <tr>\n",
       "      <td>1</td>\n",
       "      <td>7</td>\n",
       "      <td>ARID3A::BCL6</td>\n",
       "      <td>GDSD0</td>\n",
       "      <td>0.002387</td>\n",
       "      <td>0.089610</td>\n",
       "      <td>1072.0</td>\n",
       "      <td>449179.0</td>\n",
       "      <td>438288.0</td>\n",
       "      <td>11963.0</td>\n",
       "      <td>1072.0</td>\n",
       "      <td>679.417925</td>\n",
       "      <td>1.637625</td>\n",
       "      <td>2.680205e-47</td>\n",
       "      <td>2.460428e-43</td>\n",
       "      <td>42.608989</td>\n",
       "    </tr>\n",
       "    <tr>\n",
       "      <td>2</td>\n",
       "      <td>8</td>\n",
       "      <td>ARID3A::BHLHE41</td>\n",
       "      <td>GDSD0</td>\n",
       "      <td>0.002516</td>\n",
       "      <td>0.086153</td>\n",
       "      <td>1133.0</td>\n",
       "      <td>450306.0</td>\n",
       "      <td>438288.0</td>\n",
       "      <td>13151.0</td>\n",
       "      <td>1133.0</td>\n",
       "      <td>746.888334</td>\n",
       "      <td>1.568412</td>\n",
       "      <td>1.959155e-42</td>\n",
       "      <td>1.798505e-38</td>\n",
       "      <td>37.745088</td>\n",
       "    </tr>\n",
       "    <tr>\n",
       "      <td>3</td>\n",
       "      <td>10</td>\n",
       "      <td>ARID3A::CREB5</td>\n",
       "      <td>GDSD0</td>\n",
       "      <td>0.002847</td>\n",
       "      <td>0.085113</td>\n",
       "      <td>1287.0</td>\n",
       "      <td>452122.0</td>\n",
       "      <td>438288.0</td>\n",
       "      <td>15121.0</td>\n",
       "      <td>1287.0</td>\n",
       "      <td>858.771082</td>\n",
       "      <td>1.547735</td>\n",
       "      <td>1.932642e-45</td>\n",
       "      <td>1.774166e-41</td>\n",
       "      <td>40.751006</td>\n",
       "    </tr>\n",
       "    <tr>\n",
       "      <td>4</td>\n",
       "      <td>16</td>\n",
       "      <td>ARID3A::EPAS1</td>\n",
       "      <td>GDSD0</td>\n",
       "      <td>0.006042</td>\n",
       "      <td>0.070837</td>\n",
       "      <td>2876.0</td>\n",
       "      <td>476012.0</td>\n",
       "      <td>438288.0</td>\n",
       "      <td>40600.0</td>\n",
       "      <td>2876.0</td>\n",
       "      <td>2305.806886</td>\n",
       "      <td>1.268301</td>\n",
       "      <td>1.204277e-32</td>\n",
       "      <td>1.105526e-28</td>\n",
       "      <td>27.956431</td>\n",
       "    </tr>\n",
       "    <tr>\n",
       "      <td>...</td>\n",
       "      <td>...</td>\n",
       "      <td>...</td>\n",
       "      <td>...</td>\n",
       "      <td>...</td>\n",
       "      <td>...</td>\n",
       "      <td>...</td>\n",
       "      <td>...</td>\n",
       "      <td>...</td>\n",
       "      <td>...</td>\n",
       "      <td>...</td>\n",
       "      <td>...</td>\n",
       "      <td>...</td>\n",
       "      <td>...</td>\n",
       "      <td>...</td>\n",
       "      <td>...</td>\n",
       "    </tr>\n",
       "    <tr>\n",
       "      <td>1331</td>\n",
       "      <td>2990</td>\n",
       "      <td>ZNF467::ZNF667</td>\n",
       "      <td>GDSD3</td>\n",
       "      <td>0.012931</td>\n",
       "      <td>0.150619</td>\n",
       "      <td>8699.0</td>\n",
       "      <td>672718.0</td>\n",
       "      <td>623662.0</td>\n",
       "      <td>57755.0</td>\n",
       "      <td>8699.0</td>\n",
       "      <td>4279.251578</td>\n",
       "      <td>2.233391</td>\n",
       "      <td>0.000000e+00</td>\n",
       "      <td>0.000000e+00</td>\n",
       "      <td>100.000000</td>\n",
       "    </tr>\n",
       "    <tr>\n",
       "      <td>1332</td>\n",
       "      <td>2992</td>\n",
       "      <td>ZNF467::ZNF85</td>\n",
       "      <td>GDSD3</td>\n",
       "      <td>0.013287</td>\n",
       "      <td>0.140630</td>\n",
       "      <td>9019.0</td>\n",
       "      <td>678776.0</td>\n",
       "      <td>623662.0</td>\n",
       "      <td>64133.0</td>\n",
       "      <td>9019.0</td>\n",
       "      <td>4751.817876</td>\n",
       "      <td>2.060485</td>\n",
       "      <td>0.000000e+00</td>\n",
       "      <td>0.000000e+00</td>\n",
       "      <td>100.000000</td>\n",
       "    </tr>\n",
       "    <tr>\n",
       "      <td>1333</td>\n",
       "      <td>2996</td>\n",
       "      <td>ZNF502::ZNF85</td>\n",
       "      <td>GDSD3</td>\n",
       "      <td>0.001539</td>\n",
       "      <td>0.111686</td>\n",
       "      <td>972.0</td>\n",
       "      <td>631393.0</td>\n",
       "      <td>623662.0</td>\n",
       "      <td>8703.0</td>\n",
       "      <td>972.0</td>\n",
       "      <td>644.832941</td>\n",
       "      <td>1.573460</td>\n",
       "      <td>2.005296e-36</td>\n",
       "      <td>6.021903e-33</td>\n",
       "      <td>32.220266</td>\n",
       "    </tr>\n",
       "    <tr>\n",
       "      <td>1334</td>\n",
       "      <td>3001</td>\n",
       "      <td>ZNF667::ZNF85</td>\n",
       "      <td>GDSD3</td>\n",
       "      <td>0.001573</td>\n",
       "      <td>0.122803</td>\n",
       "      <td>992.0</td>\n",
       "      <td>630748.0</td>\n",
       "      <td>623662.0</td>\n",
       "      <td>8078.0</td>\n",
       "      <td>992.0</td>\n",
       "      <td>598.524703</td>\n",
       "      <td>1.752151</td>\n",
       "      <td>7.534295e-54</td>\n",
       "      <td>2.262549e-50</td>\n",
       "      <td>49.645402</td>\n",
       "    </tr>\n",
       "    <tr>\n",
       "      <td>1335</td>\n",
       "      <td>3002</td>\n",
       "      <td>ZNF816::ZNF85</td>\n",
       "      <td>GDSD3</td>\n",
       "      <td>0.003572</td>\n",
       "      <td>0.116309</td>\n",
       "      <td>2290.0</td>\n",
       "      <td>641061.0</td>\n",
       "      <td>623662.0</td>\n",
       "      <td>19689.0</td>\n",
       "      <td>2290.0</td>\n",
       "      <td>1458.820610</td>\n",
       "      <td>1.647750</td>\n",
       "      <td>1.197251e-98</td>\n",
       "      <td>3.595346e-95</td>\n",
       "      <td>94.444258</td>\n",
       "    </tr>\n",
       "  </tbody>\n",
       "</table>\n",
       "<p>6507 rows × 15 columns</p>\n",
       "</div>"
      ],
      "text/plain": [
       "      Unnamed: 0           tf_key tissue   jaccard  intersect_over_min  \\\n",
       "0              3     ARID3A::ATF7  GDSD0  0.002795            0.084686   \n",
       "1              7     ARID3A::BCL6  GDSD0  0.002387            0.089610   \n",
       "2              8  ARID3A::BHLHE41  GDSD0  0.002516            0.086153   \n",
       "3             10    ARID3A::CREB5  GDSD0  0.002847            0.085113   \n",
       "4             16    ARID3A::EPAS1  GDSD0  0.006042            0.070837   \n",
       "...          ...              ...    ...       ...                 ...   \n",
       "1331        2990   ZNF467::ZNF667  GDSD3  0.012931            0.150619   \n",
       "1332        2992    ZNF467::ZNF85  GDSD3  0.013287            0.140630   \n",
       "1333        2996    ZNF502::ZNF85  GDSD3  0.001539            0.111686   \n",
       "1334        3001    ZNF667::ZNF85  GDSD3  0.001573            0.122803   \n",
       "1335        3002    ZNF816::ZNF85  GDSD3  0.003572            0.116309   \n",
       "\n",
       "      intersection     union  num_in_gene  num_in_feat  observed     expected  \\\n",
       "0           1263.0  451939.0     438288.0      14914.0    1263.0   847.014874   \n",
       "1           1072.0  449179.0     438288.0      11963.0    1072.0   679.417925   \n",
       "2           1133.0  450306.0     438288.0      13151.0    1133.0   746.888334   \n",
       "3           1287.0  452122.0     438288.0      15121.0    1287.0   858.771082   \n",
       "4           2876.0  476012.0     438288.0      40600.0    2876.0  2305.806886   \n",
       "...            ...       ...          ...          ...       ...          ...   \n",
       "1331        8699.0  672718.0     623662.0      57755.0    8699.0  4279.251578   \n",
       "1332        9019.0  678776.0     623662.0      64133.0    9019.0  4751.817876   \n",
       "1333         972.0  631393.0     623662.0       8703.0     972.0   644.832941   \n",
       "1334         992.0  630748.0     623662.0       8078.0     992.0   598.524703   \n",
       "1335        2290.0  641061.0     623662.0      19689.0    2290.0  1458.820610   \n",
       "\n",
       "      oddsratio          pval     pval_bonf  log_pval_bonf  \n",
       "0      1.539210  1.225235e-43  1.124766e-39      38.948938  \n",
       "1      1.637625  2.680205e-47  2.460428e-43      42.608989  \n",
       "2      1.568412  1.959155e-42  1.798505e-38      37.745088  \n",
       "3      1.547735  1.932642e-45  1.774166e-41      40.751006  \n",
       "4      1.268301  1.204277e-32  1.105526e-28      27.956431  \n",
       "...         ...           ...           ...            ...  \n",
       "1331   2.233391  0.000000e+00  0.000000e+00     100.000000  \n",
       "1332   2.060485  0.000000e+00  0.000000e+00     100.000000  \n",
       "1333   1.573460  2.005296e-36  6.021903e-33      32.220266  \n",
       "1334   1.752151  7.534295e-54  2.262549e-50      49.645402  \n",
       "1335   1.647750  1.197251e-98  3.595346e-95      94.444258  \n",
       "\n",
       "[6507 rows x 15 columns]"
      ]
     },
     "execution_count": 131,
     "metadata": {},
     "output_type": "execute_result"
    }
   ],
   "source": [
    "normal_df"
   ]
  },
  {
   "cell_type": "code",
   "execution_count": 138,
   "metadata": {},
   "outputs": [
    {
     "data": {
      "text/plain": [
       "6090"
      ]
     },
     "execution_count": 138,
     "metadata": {},
     "output_type": "execute_result"
    }
   ],
   "source": [
    "len(sorted(set(normal_df.tf_key.values)))"
   ]
  },
  {
   "cell_type": "code",
   "execution_count": 139,
   "metadata": {},
   "outputs": [
    {
     "data": {
      "text/plain": [
       "155"
      ]
     },
     "execution_count": 139,
     "metadata": {},
     "output_type": "execute_result"
    }
   ],
   "source": [
    "len(set(scc_df_tissue3.vocab.values))"
   ]
  },
  {
   "cell_type": "code",
   "execution_count": 133,
   "metadata": {},
   "outputs": [
    {
     "data": {
      "text/plain": [
       "set()"
      ]
     },
     "execution_count": 133,
     "metadata": {},
     "output_type": "execute_result"
    }
   ],
   "source": [
    "set(scc_df_tissue3.vocab.values).intersection(set(normal_df.tf_key.values))"
   ]
  },
  {
   "cell_type": "code",
   "execution_count": 104,
   "metadata": {},
   "outputs": [
    {
     "ename": "TypeError",
     "evalue": "savefig() missing 1 required positional argument: 'fname'",
     "output_type": "error",
     "traceback": [
      "\u001b[0;31m---------------------------------------------------------------------------\u001b[0m",
      "\u001b[0;31mTypeError\u001b[0m                                 Traceback (most recent call last)",
      "\u001b[0;32m<ipython-input-104-6de1da61b888>\u001b[0m in \u001b[0;36m<module>\u001b[0;34m\u001b[0m\n\u001b[1;32m      7\u001b[0m \u001b[0;34m\u001b[0m\u001b[0m\n\u001b[1;32m      8\u001b[0m \u001b[0mvenn2\u001b[0m\u001b[0;34m(\u001b[0m\u001b[0;34m[\u001b[0m\u001b[0mset\u001b[0m\u001b[0;34m(\u001b[0m\u001b[0mscc_df_tissue3\u001b[0m\u001b[0;34m.\u001b[0m\u001b[0mvocab\u001b[0m\u001b[0;34m.\u001b[0m\u001b[0mvalues\u001b[0m\u001b[0;34m)\u001b[0m\u001b[0;34m,\u001b[0m \u001b[0mset\u001b[0m\u001b[0;34m(\u001b[0m\u001b[0mnormal_df\u001b[0m\u001b[0;34m.\u001b[0m\u001b[0mvocab\u001b[0m\u001b[0;34m.\u001b[0m\u001b[0mvalues\u001b[0m\u001b[0;34m)\u001b[0m\u001b[0;34m]\u001b[0m\u001b[0;34m,\u001b[0m\u001b[0mset_labels\u001b[0m \u001b[0;34m=\u001b[0m \u001b[0;34m(\u001b[0m\u001b[0;34m'Group A'\u001b[0m\u001b[0;34m,\u001b[0m \u001b[0;34m'Group B'\u001b[0m\u001b[0;34m)\u001b[0m\u001b[0;34m)\u001b[0m\u001b[0;34m\u001b[0m\u001b[0;34m\u001b[0m\u001b[0m\n\u001b[0;32m----> 9\u001b[0;31m \u001b[0mplt\u001b[0m\u001b[0;34m.\u001b[0m\u001b[0msavefig\u001b[0m\u001b[0;34m(\u001b[0m\u001b[0;34m)\u001b[0m\u001b[0;34m\u001b[0m\u001b[0;34m\u001b[0m\u001b[0m\n\u001b[0m",
      "\u001b[0;32m~/opt/anaconda3/lib/python3.7/site-packages/matplotlib/pyplot.py\u001b[0m in \u001b[0;36msavefig\u001b[0;34m(*args, **kwargs)\u001b[0m\n\u001b[1;32m    720\u001b[0m \u001b[0;32mdef\u001b[0m \u001b[0msavefig\u001b[0m\u001b[0;34m(\u001b[0m\u001b[0;34m*\u001b[0m\u001b[0margs\u001b[0m\u001b[0;34m,\u001b[0m \u001b[0;34m**\u001b[0m\u001b[0mkwargs\u001b[0m\u001b[0;34m)\u001b[0m\u001b[0;34m:\u001b[0m\u001b[0;34m\u001b[0m\u001b[0;34m\u001b[0m\u001b[0m\n\u001b[1;32m    721\u001b[0m     \u001b[0mfig\u001b[0m \u001b[0;34m=\u001b[0m \u001b[0mgcf\u001b[0m\u001b[0;34m(\u001b[0m\u001b[0;34m)\u001b[0m\u001b[0;34m\u001b[0m\u001b[0;34m\u001b[0m\u001b[0m\n\u001b[0;32m--> 722\u001b[0;31m     \u001b[0mres\u001b[0m \u001b[0;34m=\u001b[0m \u001b[0mfig\u001b[0m\u001b[0;34m.\u001b[0m\u001b[0msavefig\u001b[0m\u001b[0;34m(\u001b[0m\u001b[0;34m*\u001b[0m\u001b[0margs\u001b[0m\u001b[0;34m,\u001b[0m \u001b[0;34m**\u001b[0m\u001b[0mkwargs\u001b[0m\u001b[0;34m)\u001b[0m\u001b[0;34m\u001b[0m\u001b[0;34m\u001b[0m\u001b[0m\n\u001b[0m\u001b[1;32m    723\u001b[0m     \u001b[0mfig\u001b[0m\u001b[0;34m.\u001b[0m\u001b[0mcanvas\u001b[0m\u001b[0;34m.\u001b[0m\u001b[0mdraw_idle\u001b[0m\u001b[0;34m(\u001b[0m\u001b[0;34m)\u001b[0m   \u001b[0;31m# need this if 'transparent=True' to reset colors\u001b[0m\u001b[0;34m\u001b[0m\u001b[0;34m\u001b[0m\u001b[0m\n\u001b[1;32m    724\u001b[0m     \u001b[0;32mreturn\u001b[0m \u001b[0mres\u001b[0m\u001b[0;34m\u001b[0m\u001b[0;34m\u001b[0m\u001b[0m\n",
      "\u001b[0;31mTypeError\u001b[0m: savefig() missing 1 required positional argument: 'fname'"
     ]
    },
    {
     "data": {
      "image/png": "[encoded data removed]",
      "text/plain": [
       "<Figure size 432x288 with 1 Axes>"
      ]
     },
     "metadata": {},
     "output_type": "display_data"
    }
   ],
   "source": [
    "from matplotlib_venn import venn2\n",
    "\n",
    " \n",
    "# Second way\n",
    "fig = plt.figure()\n",
    "plt.rcParams['figure.facecolor'] = 'white'\n",
    "\n",
    "venn2([set(scc_df_tissue3.vocab.values), set(normal_df.vocab.values)],set_labels = ('Group A', 'Group B'))\n",
    "plt.savefig()\n"
   ]
  },
  {
   "cell_type": "markdown",
   "metadata": {},
   "source": [
    "SCC vocab works were filter for those that were not in D0, D3, (or D6) vocab words and then filtered down to 40 words"
   ]
  },
  {
   "cell_type": "code",
   "execution_count": null,
   "metadata": {},
   "outputs": [],
   "source": []
  }
 ],
 "metadata": {
  "kernelspec": {
   "display_name": "Python 3",
   "language": "python",
   "name": "python3"
  },
  "language_info": {
   "codemirror_mode": {
    "name": "ipython",
    "version": 3
   },
   "file_extension": ".py",
   "mimetype": "text/x-python",
   "name": "python",
   "nbconvert_exporter": "python",
   "pygments_lexer": "ipython3",
   "version": "3.7.4"
  }
 },
 "nbformat": 4,
 "nbformat_minor": 4
}
