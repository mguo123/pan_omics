{
 "cells": [
  {
   "cell_type": "markdown",
   "metadata": {},
   "source": [
    "# 17BR_magn_coop_difference.ipynb\n",
    "\n",
    "6/24/21\n",
    "\n",
    "paired plots to show cooperative magnitude differences between the different vocab words"
   ]
  },
  {
   "cell_type": "code",
   "execution_count": 4,
   "metadata": {},
   "outputs": [
    {
     "ename": "ERROR",
     "evalue": "Error in library(PairedData): there is no package called ‘PairedData’\n",
     "output_type": "error",
     "traceback": [
      "Error in library(PairedData): there is no package called ‘PairedData’\nTraceback:\n",
      "1. library(PairedData)"
     ]
    }
   ],
   "source": [
    "library(PairedData)\n",
    "# library(PairedData)\n",
    "libary(tidyverse)"
   ]
  },
  {
   "cell_type": "code",
   "execution_count": null,
   "metadata": {},
   "outputs": [],
   "source": []
  }
 ],
 "metadata": {
  "kernelspec": {
   "display_name": "R",
   "language": "R",
   "name": "ir"
  },
  "language_info": {
   "codemirror_mode": "r",
   "file_extension": ".r",
   "mimetype": "text/x-r-source",
   "name": "R",
   "pygments_lexer": "r",
   "version": "3.6.1"
  }
 },
 "nbformat": 4,
 "nbformat_minor": 4
}
