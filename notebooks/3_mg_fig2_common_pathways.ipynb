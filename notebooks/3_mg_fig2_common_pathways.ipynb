{
 "cells": [
  {
   "cell_type": "markdown",
   "metadata": {},
   "source": [
    "# 3_mg_fig2_common_pathways\n",
    "04/27/2020\n",
    "\n",
    "Essential genes - https://science-sciencemag-org.stanford.idm.oclc.org/content/350/6264/1096\n",
    "\n",
    "\n",
    "Primary publication:\n",
    "\n",
    "Hao Luo, Yan Lin, Feng Gao, Chun-Ting Zhang and Ren Zhang, (2014) DEG 10, an update of the Database of Essential Genes that includes both protein-coding genes and non-coding genomic elements. Nucleic Acids Research 42, D574-D580.\n",
    "Ren Zhang and Yan Lin, (2009) DEG 5.0, a database of essential genes in both prokaryotes and eukaryotes. Nucleic Acids Research 37, D455-D458.\n",
    "Ren Zhang, Hong-Yu Ou and Chun-Ting Zhang, (2004) DEG, a Database of Essential Genes. Nucleic Acids Research 32, D271-D272.\n",
    "Liao BY, Zhang J (2008). Null mutations in human and mouse orthologs frequently result in different phenotypes. Proc Natl Acad Sci U S A, 105:6987-92.\n"
   ]
  },
  {
   "cell_type": "markdown",
   "metadata": {},
   "source": [
    "# 1. FIND THE ESSENTIAL GENES\n",
    "\n",
    "Wang, Sabatini 2015 Science Paper\n",
    "The resulting p-values were corrected using the Benjamini-Hochberg procedure.\n",
    "Genes with a CS < -0.1 and corrected p< 0.05 in the KBM7 cell line were defined as cellessential in downstream analyses.\n",
    "\n",
    "Should be n=1878\n",
    "\n"
   ]
  },
  {
   "cell_type": "code",
   "execution_count": 1,
   "metadata": {},
   "outputs": [],
   "source": [
    "import pandas as pd\n",
    "import os,glob"
   ]
  },
  {
   "cell_type": "code",
   "execution_count": 3,
   "metadata": {},
   "outputs": [],
   "source": [
    "wang_s3_file = '../data/external/essential_genes/aac7041_SM_Table_S3.xlsx'\n",
    "wang_df = pd.read_excel(wang_s3_file)"
   ]
  },
  {
   "cell_type": "code",
   "execution_count": 4,
   "metadata": {},
   "outputs": [
    {
     "data": {
      "text/html": [
       "<div>\n",
       "<style scoped>\n",
       "    .dataframe tbody tr th:only-of-type {\n",
       "        vertical-align: middle;\n",
       "    }\n",
       "\n",
       "    .dataframe tbody tr th {\n",
       "        vertical-align: top;\n",
       "    }\n",
       "\n",
       "    .dataframe thead th {\n",
       "        text-align: right;\n",
       "    }\n",
       "</style>\n",
       "<table border=\"1\" class=\"dataframe\">\n",
       "  <thead>\n",
       "    <tr style=\"text-align: right;\">\n",
       "      <th></th>\n",
       "      <th>Gene</th>\n",
       "      <th>sgRNAs included</th>\n",
       "      <th>KBM7 CS</th>\n",
       "      <th>KBM7 adjusted p-value</th>\n",
       "      <th>K562 CS</th>\n",
       "      <th>K562 adjusted p-value</th>\n",
       "      <th>Jiyoye CS</th>\n",
       "      <th>Jiyoye adjusted p-value</th>\n",
       "      <th>Raji CS</th>\n",
       "      <th>Raji adjusted p-value</th>\n",
       "    </tr>\n",
       "  </thead>\n",
       "  <tbody>\n",
       "    <tr>\n",
       "      <td>0</td>\n",
       "      <td>A1BG</td>\n",
       "      <td>9</td>\n",
       "      <td>0.135722</td>\n",
       "      <td>0.625949</td>\n",
       "      <td>-0.220000</td>\n",
       "      <td>0.951988</td>\n",
       "      <td>0.095556</td>\n",
       "      <td>0.630900</td>\n",
       "      <td>-0.191222</td>\n",
       "      <td>0.670542</td>\n",
       "    </tr>\n",
       "    <tr>\n",
       "      <td>1</td>\n",
       "      <td>A1CF</td>\n",
       "      <td>7</td>\n",
       "      <td>-0.057857</td>\n",
       "      <td>0.742294</td>\n",
       "      <td>-0.983571</td>\n",
       "      <td>0.100374</td>\n",
       "      <td>0.217143</td>\n",
       "      <td>0.386247</td>\n",
       "      <td>-0.221857</td>\n",
       "      <td>0.897305</td>\n",
       "    </tr>\n",
       "    <tr>\n",
       "      <td>2</td>\n",
       "      <td>A2M</td>\n",
       "      <td>10</td>\n",
       "      <td>-0.099500</td>\n",
       "      <td>0.873929</td>\n",
       "      <td>-0.519600</td>\n",
       "      <td>0.837712</td>\n",
       "      <td>0.220300</td>\n",
       "      <td>0.220449</td>\n",
       "      <td>-0.305100</td>\n",
       "      <td>0.883180</td>\n",
       "    </tr>\n",
       "    <tr>\n",
       "      <td>3</td>\n",
       "      <td>A2ML1</td>\n",
       "      <td>10</td>\n",
       "      <td>-0.403150</td>\n",
       "      <td>0.461268</td>\n",
       "      <td>-0.646100</td>\n",
       "      <td>0.579034</td>\n",
       "      <td>-0.385200</td>\n",
       "      <td>0.651563</td>\n",
       "      <td>-0.438900</td>\n",
       "      <td>0.966538</td>\n",
       "    </tr>\n",
       "    <tr>\n",
       "      <td>4</td>\n",
       "      <td>A4GALT</td>\n",
       "      <td>10</td>\n",
       "      <td>-0.102700</td>\n",
       "      <td>0.994964</td>\n",
       "      <td>-0.582100</td>\n",
       "      <td>0.695675</td>\n",
       "      <td>0.014500</td>\n",
       "      <td>0.252270</td>\n",
       "      <td>-0.488100</td>\n",
       "      <td>0.538037</td>\n",
       "    </tr>\n",
       "  </tbody>\n",
       "</table>\n",
       "</div>"
      ],
      "text/plain": [
       "     Gene  sgRNAs included   KBM7 CS  KBM7 adjusted p-value   K562 CS  \\\n",
       "0    A1BG                9  0.135722               0.625949 -0.220000   \n",
       "1    A1CF                7 -0.057857               0.742294 -0.983571   \n",
       "2     A2M               10 -0.099500               0.873929 -0.519600   \n",
       "3   A2ML1               10 -0.403150               0.461268 -0.646100   \n",
       "4  A4GALT               10 -0.102700               0.994964 -0.582100   \n",
       "\n",
       "   K562 adjusted p-value  Jiyoye CS  Jiyoye adjusted p-value   Raji CS  \\\n",
       "0               0.951988   0.095556                 0.630900 -0.191222   \n",
       "1               0.100374   0.217143                 0.386247 -0.221857   \n",
       "2               0.837712   0.220300                 0.220449 -0.305100   \n",
       "3               0.579034  -0.385200                 0.651563 -0.438900   \n",
       "4               0.695675   0.014500                 0.252270 -0.488100   \n",
       "\n",
       "   Raji adjusted p-value  \n",
       "0               0.670542  \n",
       "1               0.897305  \n",
       "2               0.883180  \n",
       "3               0.966538  \n",
       "4               0.538037  "
      ]
     },
     "execution_count": 4,
     "metadata": {},
     "output_type": "execute_result"
    }
   ],
   "source": [
    "wang_df[:5]"
   ]
  },
  {
   "cell_type": "code",
   "execution_count": 7,
   "metadata": {},
   "outputs": [
    {
     "data": {
      "text/plain": [
       "1878"
      ]
     },
     "execution_count": 7,
     "metadata": {},
     "output_type": "execute_result"
    }
   ],
   "source": [
    "essential_genes = wang_df[(wang_df['KBM7 CS']< -0.1 )& (wang_df['KBM7 adjusted p-value']< 0.05)].Gene.values\n",
    "len(essential_genes)\n"
   ]
  },
  {
   "cell_type": "code",
   "execution_count": 9,
   "metadata": {},
   "outputs": [],
   "source": [
    "with open('../data/external/essential_genes/essential_genes_wang2015.txt','w')as f:\n",
    "    for g in essential_genes:\n",
    "        f.write(g+'\\n')"
   ]
  },
  {
   "cell_type": "markdown",
   "metadata": {},
   "source": [
    "SUPPLEMENTAL INFORMATION\n",
    "\n",
    "functional analysis done via: http://biit.cs.ut.ee/gprofiler/gost\n",
    "\n",
    "short link: http://biit.cs.ut.ee/gplink/l/RY1LGkBlTe\n",
    "\n",
    "long link: \n",
    "http://biit.cs.ut.ee/gprofiler/gost?organism=hsapiens&query=AAMP%0AAARS%0AAASDHPPT%0AAATF%0AABCE1%0AABHD11%0AABL1%0AABT1%0AACAD9%0AACBD4%0AACIN1%0AACLY%0AACO2%0AACTB%0AACTG2%0AACTL6A%0AACTR1A%0AACTR2%0AACTR3%0AACTR5%0AACTR8%0AADAT3%0AADRM1%0AADSL%0AADSS%0AAFG3L2%0AAGO2%0AAGPS%0AAHCTF1%0AAHCY%0AAIFM1%0AAK2%0AAK6%0AAKIRIN2%0AALAD%0AALAS1%0AALDH18A1%0AALDOA%0AALG11%0AALG14%0AALG2%0AALYREF%0AAMD1%0AAMHR2%0AANAPC11%0AANAPC15%0AANAPC2%0AANAPC4%0AANAPC5%0AANKDD1A%0AANKRD11%0AANKRD52%0AAP2S1%0AAPEX2%0AAPRT%0AAQR%0AARCN1%0AARHGAP1%0AARID1A%0AARIH1%0AARL2%0AARMC7%0AARPC4%0AASH2L%0AASNA1%0AASUN%0AATAD5%0AATF4%0AATG9A%0AATIC%0AATL2%0AATP1A1%0AATP2A2%0AATP5A1%0AATP5B%0AATP5D%0AATP5J2-PTCD1%0AATP5O%0AATP6AP1%0AATP6V0B%0AATP6V0C%0AATP6V1A%0AATP6V1B2%0AATP6V1C1%0AATP6V1D%0AATP6V1F%0AATP6V1G1%0AATPAF2%0AATR%0AATRIP%0AAURKA%0AAURKAIP1%0AAURKB%0AB3GNT2%0ABAG6%0ABANF1%0ABCL2%0ABCR%0ABCS1L%0ABECN1%0ABICD2%0ABIRC2%0ABIRC5%0ABMS1%0ABORA%0ABPTF%0ABRCA1%0ABRCA2%0ABRD1%0ABRD8%0ABRD9%0ABRF1%0ABRF2%0ABRIX1%0ABRPF1%0ABTAF1%0ABUB1B%0ABUB3%0ABUD13%0ABUD31%0ABYSL%0AC10orf2%0AC14orf80%0AC15orf39%0AC15orf41%0AC16orf59%0AC16orf72%0AC16orf80%0AC17orf53%0AC17orf70%0AC17orf89%0AC19orf43%0AC19orf52%0AC19orf53%0AC19orf70%0AC1orf109%0AC1orf86%0AC1QBP%0AC21orf59%0AC3orf17%0AC6orf57%0AC7orf26%0AC8orf33%0AC9orf114%0AC9orf41%0ACAB39%0ACAD%0ACALR%0ACAND1%0ACAPZB%0ACARS%0ACARS2%0ACASC3%0ACASC5%0ACBFB%0ACBLL1%0ACBWD3%0ACBWD5%0ACBWD6%0ACCAR1%0ACCAR2%0ACCDC101%0ACCDC115%0ACCDC130%0ACCDC33%0ACCDC47%0ACCDC58%0ACCDC59%0ACCDC84%0ACCDC86%0ACCDC94%0ACCNA2%0ACCNH%0ACCNT1%0ACCT2%0ACCT3%0ACCT4%0ACCT5%0ACCT6A%0ACCT7%0ACCT8%0ACD3EAP%0ACDAN1%0ACDC123%0ACDC16%0ACDC20%0ACDC23%0ACDC40%0ACDC45%0ACDC5L%0ACDC6%0ACDC73%0ACDIPT%0ACDK1%0ACDK12%0ACDK13%0ACDK2%0ACDK9%0ACDT1%0ACDX2%0ACEBPA%0ACEBPD%0ACEBPZ%0ACENPA%0ACENPC%0ACENPE%0ACENPI%0ACENPM%0ACENPW%0ACEP192%0ACEP55%0ACEP57%0ACEP85%0ACFL1%0ACHAF1A%0ACHAF1B%0ACHAMP1%0ACHCHD1%0ACHD1%0ACHD4%0ACHD5%0ACHD7%0ACHD8%0ACHEK1%0ACHKA%0ACHMP1B%0ACHMP2A%0ACHMP4B%0ACHMP6%0ACHORDC1%0ACHTF8%0ACIAO1%0ACINP%0ACIRH1A%0ACITED2%0ACKAP5%0ACLASRP%0ACLEC18C%0ACLK3%0ACLP1%0ACLPB%0ACLPX%0ACLSPN%0ACLTC%0ACMIP%0ACMTR1%0ACNOT1%0ACNTROB%0ACOA5%0ACOASY%0ACOG3%0ACOG4%0ACOG8%0ACOMMD4%0ACOMMD5%0ACOPA%0ACOPB1%0ACOPB2%0ACOPE%0ACOPG1%0ACOPS3%0ACOPS4%0ACOPS5%0ACOPS6%0ACOPZ1%0ACOQ2%0ACOQ3%0ACOQ4%0ACOQ5%0ACOQ6%0ACOX10%0ACOX11%0ACOX15%0ACOX17%0ACOX20%0ACOX4I1%0ACOX5B%0ACOX6B1%0ACOX7C%0ACPSF1%0ACPSF2%0ACPSF3%0ACPSF3L%0ACPSF4%0ACPSF6%0ACPSF7%0ACREB3%0ACREBBP%0ACRLS1%0ACRNKL1%0ACSE1L%0ACSNK1A1%0ACSNK1G1%0ACSNK2B%0ACSTF1%0ACSTF3%0ACT45A2%0ACTC1%0ACTCF%0ACTDSPL2%0ACTNNBL1%0ACTPS1%0ACTU2%0ACUL3%0ACWC25%0ACWF19L2%0ACYB5B%0ACYC1%0ACYCS%0ACYP11A1%0ADAD1%0ADAP3%0ADARS%0ADARS2%0ADAXX%0ADBR1%0ADCAF15%0ADCP2%0ADCPS%0ADCTN1%0ADCTN2%0ADCTN3%0ADCTN4%0ADCTN5%0ADDB1%0ADDI2%0ADDOST%0ADDX1%0ADDX10%0ADDX18%0ADDX19A%0ADDX20%0ADDX21%0ADDX23%0ADDX24%0ADDX27%0ADDX28%0ADDX39A%0ADDX39B%0ADDX41%0ADDX42%0ADDX46%0ADDX47%0ADDX49%0ADDX51%0ADDX52%0ADDX54%0ADDX56%0ADDX6%0ADEXI%0ADGCR14%0ADGCR8%0ADHDDS%0ADHFR%0ADHODH%0ADHX15%0ADHX16%0ADHX30%0ADHX33%0ADHX36%0ADHX38%0ADHX8%0ADHX9%0ADIAPH1%0ADIDO1%0ADIEXF%0ADIMT1%0ADIS3%0ADKC1%0ADLD%0ADLST%0ADNAJA3%0ADNAJA4%0ADNAJC17%0ADNAJC9%0ADNLZ%0ADNM1L%0ADNM2%0ADNMT1%0ADNTTIP2%0ADOHH%0ADOLK%0ADOLPP1%0ADONSON%0ADPAGT1%0ADPH1%0ADPH3%0ADPH5%0ADPH6%0ADPY30%0ADROSHA%0ADSCC1%0ADTL%0ADTYMK%0ADUT%0ADYNC1H1%0ADYNC1LI1%0AE2F3%0AE4F1%0AEARS2%0AEBNA1BP2%0AECD%0AECT2%0AEED%0AEEF1A1%0AEEF1G%0AEEF2%0AEEFSEC%0AEFTUD1%0AEFTUD2%0AEGLN2%0AEIF1%0AEIF1AD%0AEIF2B1%0AEIF2B2%0AEIF2B3%0AEIF2B4%0AEIF2B5%0AEIF2S1%0AEIF2S2%0AEIF3A%0AEIF3B%0AEIF3C%0AEIF3CL%0AEIF3D%0AEIF3F%0AEIF3G%0AEIF3I%0AEIF3J%0AEIF3L%0AEIF4A1%0AEIF4A3%0AEIF4G1%0AEIF4G2%0AEIF5A%0AEIF5AL1%0AEIF5B%0AEIF6%0AELAC2%0AELL%0AELP2%0AELP3%0AELP5%0AELP6%0AEMC1%0AEMC3%0AEMC6%0AEMC7%0AENO1%0AENY2%0AEP300%0AEPG5%0AEPT1%0AERAL1%0AERCC2%0AERCC3%0AERCC4%0AERG%0AERH%0AERLIN2%0AESPL1%0AETAA1%0AETF1%0AETV6%0AEXOC1%0AEXOC2%0AEXOC4%0AEXOSC1%0AEXOSC10%0AEXOSC2%0AEXOSC3%0AEXOSC4%0AEXOSC5%0AEXOSC6%0AEXOSC7%0AEXOSC8%0AEXOSC9%0AEXTL1%0AEXTL3%0AEZH2%0AF8A1%0AF8A2%0AF8A3%0AFAF2%0AFAM103A1%0AFAM122A%0AFAM210A%0AFAM50A%0AFAM72D%0AFAM96A%0AFAM96B%0AFANCA%0AFANCC%0AFANCF%0AFANCI%0AFANCM%0AFARS2%0AFARSA%0AFARSB%0AFASN%0AFASTKD5%0AFAU%0AFBXO5%0AFBXW11%0AFBXW7%0AFCGR1A%0AFCGR1B%0AFDPS%0AFDXR%0AFEN1%0AFH%0AFIP1L1%0AFIS1%0AFKBPL%0AFLII%0AFNBP4%0AFNTB%0AFOXRED1%0AFPGS%0AFTSJ2%0AFTSJ3%0AFUBP1%0AGAB2%0AGABPB1%0AGADD45GIP1%0AGAK%0AGALE%0AGAPDH%0AGAR1%0AGART%0AGATA2%0AGBF1%0AGCLC%0AGCSH%0AGEMIN2%0AGEMIN4%0AGEMIN5%0AGET4%0AGFER%0AGFI1%0AGFM1%0AGFM2%0AGFPT1%0AGGPS1%0AGID8%0AGIGYF2%0AGINS1%0AGINS2%0AGINS3%0AGLE1%0AGLRX5%0AGLTSCR2%0AGMPPB%0AGMPS%0AGNB1L%0AGNB2L1%0AGNL2%0AGNL3%0AGNL3L%0AGOLGA6L1%0AGOLGA6L9%0AGOLGA8O%0AGON4L%0AGOSR2%0AGPI%0AGPKOW%0AGPN1%0AGPN2%0AGPN3%0AGPS1%0AGRB2%0AGRPEL1%0AGRWD1%0AGSPT1%0AGSS%0AGTF2B%0AGTF2E1%0AGTF2F2%0AGTF2H1%0AGTF2H2%0AGTF2H2C%0AGTF2H3%0AGTF2H4%0AGTF3A%0AGTF3C1%0AGTF3C2%0AGTF3C3%0AGTF3C4%0AGTPBP4%0AGTPBP8%0AGUK1%0AH2AFB2%0AH2AFB3%0AH2AFX%0AHAP1%0AHARS%0AHARS2%0AHAUS1%0AHAUS2%0AHAUS3%0AHAUS4%0AHAUS5%0AHAUS8%0AHDAC3%0AHEATR1%0AHECTD1%0AHELQ%0AHEXIM1%0AHGS%0AHINFP%0AHIST1H2AI%0AHIST1H2AJ%0AHIST2H2AA3%0AHIST2H2AA4%0AHIST2H2AB%0AHIST2H2BE%0AHIST2H2BF%0AHIST2H3A%0AHIST2H3C%0AHIST2H3D%0AHIST2H4A%0AHIST2H4B%0AHJURP%0AHK2%0AHMBS%0AHMGB1%0AHMGCR%0AHMGCS1%0AHMGXB3%0AHNRNPC%0AHNRNPH3%0AHNRNPK%0AHNRNPL%0AHNRNPU%0AHSCB%0AHSD17B10%0AHSD17B12%0AHSF1%0AHSPA14%0AHSPA5%0AHSPA9%0AHSPD1%0AHSPE1%0AHTATSF1%0AHUS1%0AHUWE1%0AHYOU1%0AHYPK%0AIARS%0AIARS2%0AIBA57%0AIDH3A%0AIKBKAP%0AIKZF2%0AIL16%0AIL9R%0AILF2%0AIMMT%0AIMP3%0AIMP4%0AIMPDH2%0AINCENP%0AING5%0AINO80%0AINO80E%0AINTS1%0AINTS3%0AINTS4%0AINTS5%0AINTS7%0AINTS8%0AINTS9%0AIPO11%0AIPO13%0AIPO7%0AIPO9%0AIPPK%0AIREB2%0AIRF2BP1%0AIRF2BP2%0AISCA1%0AISCA2%0AISCU%0AISG20L2%0AITPK1%0AIWS1%0AKANSL1%0AKANSL2%0AKANSL3%0AKARS%0AKAT2A%0AKAT5%0AKAT7%0AKCMF1%0AKDM4A%0AKDM8%0AKDSR%0AKIAA0100%0AKIAA0196%0AKIAA0391%0AKIAA0947%0AKIAA1033%0AKIAA1199%0AKIAA1429%0AKIAA1524%0AKIF11%0AKIF15%0AKIF18A%0AKIF20A%0AKIF23%0AKIN%0AKLF16%0AKMT2A%0AKMT2D%0AKNTC1%0AKPNA2%0AKPNA4%0AKPNB1%0AKRAS%0AKRI1%0AKRR1%0AKRTAP10-9%0AKRTAP4-8%0AKTI12%0ALAMTOR2%0ALAMTOR4%0ALARS%0ALARS2%0ALAS1L%0ALCMT1%0ALDB1%0ALENG8%0ALETM1%0ALIAS%0ALIG1%0ALIG3%0ALIMS3%0ALIMS3L%0ALIN54%0ALIN9%0ALIPT1%0ALIPT2%0ALMAN1L%0ALMO2%0ALOC100505679%0ALOXL1%0ALRPPRC%0ALRR1%0ALRWD1%0ALSG1%0ALSM11%0ALSM12%0ALSM2%0ALSM3%0ALSM7%0ALTV1%0ALUC7L2%0ALUC7L3%0AMAD2L1BP%0AMAD2L2%0AMAF1%0AMAGED4%0AMAGED4B%0AMAGOH%0AMAK16%0AMALSU1%0AMAN2C1%0AMARCH5%0AMARS%0AMARS2%0AMASTL%0AMAT2A%0AMATR3%0AMAU2%0AMBNL1%0AMBTPS1%0AMCL1%0AMCM2%0AMCM3%0AMCM3AP%0AMCM4%0AMCM5%0AMCM6%0AMCM7%0AMCM9%0AMCMBP%0AMCRS1%0AMDC1%0AMDN1%0AMECR%0AMED1%0AMED11%0AMED12%0AMED15%0AMED17%0AMED19%0AMED20%0AMED21%0AMED22%0AMED24%0AMED27%0AMED30%0AMED8%0AMEPCE%0AMETAP1%0AMETTL1%0AMETTL14%0AMETTL16%0AMETTL17%0AMETTL3%0AMFAP1%0AMFN2%0AMGAT1%0AMGEA5%0AMINOS1%0AMIOS%0AMIPEP%0AMIS18BP1%0AMMGT1%0AMMS19%0AMMS22L%0AMNAT1%0AMOCS3%0AMOGS%0AMORF4L1%0AMPHOSPH10%0AMPI%0AMRP63%0AMRPL10%0AMRPL11%0AMRPL12%0AMRPL14%0AMRPL15%0AMRPL16%0AMRPL17%0AMRPL19%0AMRPL20%0AMRPL21%0AMRPL23%0AMRPL24%0AMRPL28%0AMRPL3%0AMRPL33%0AMRPL34%0AMRPL35%0AMRPL37%0AMRPL38%0AMRPL39%0AMRPL4%0AMRPL41%0AMRPL42%0AMRPL43%0AMRPL44%0AMRPL45%0AMRPL46%0AMRPL48%0AMRPL51%0AMRPL52%0AMRPL53%0AMRPL9%0AMRPS11%0AMRPS12%0AMRPS14%0AMRPS15%0AMRPS16%0AMRPS18A%0AMRPS18B%0AMRPS18C%0AMRPS2%0AMRPS21%0AMRPS22%0AMRPS24%0AMRPS25%0AMRPS26%0AMRPS27%0AMRPS34%0AMRPS35%0AMRPS5%0AMRPS6%0AMRPS7%0AMRPS9%0AMSTO1%0AMTCH2%0AMTERFD2%0AMTFMT%0AMTG1%0AMTG2%0AMTHFD1%0AMTHFD1L%0AMTHFD2%0AMTIF2%0AMTO1%0AMTOR%0AMTPAP%0AMTRF1L%0AMVD%0AMVK%0AMYB%0AMYBBP1A%0AMYBL2%0AMYC%0AMYH9%0AN6AMT1%0ANAA10%0ANAA15%0ANAA25%0ANAA30%0ANAA35%0ANAA50%0ANADK%0ANAE1%0ANAF1%0ANAMPT%0ANAPA%0ANARFL%0ANARS%0ANARS2%0ANAT10%0ANBAS%0ANCAPD2%0ANCAPG%0ANCAPH%0ANCBP1%0ANCBP2%0ANCL%0ANCLN%0ANCOA2%0ANCOR2%0ANDC80%0ANDNL2%0ANDOR1%0ANDUFA11%0ANDUFA13%0ANDUFA2%0ANDUFAB1%0ANDUFAF1%0ANDUFAF3%0ANDUFAF7%0ANDUFB10%0ANDUFB6%0ANDUFB8%0ANDUFS2%0ANDUFV1%0ANEDD8%0ANELFB%0ANELFCD%0ANFATC2IP%0ANFS1%0ANGDN%0ANHP2%0ANHP2L1%0ANIP7%0ANIPBL%0ANKAP%0ANLE1%0ANMD3%0ANMNAT1%0ANOB1%0ANOC2L%0ANOC4L%0ANOL10%0ANOL11%0ANOL12%0ANOL6%0ANOL7%0ANOL8%0ANOL9%0ANOM1%0ANOP14%0ANOP16%0ANOP2%0ANOP56%0ANOP58%0ANOP9%0ANOSIP%0ANOTCH2NL%0ANPAT%0ANPIPB5%0ANPLOC4%0ANR2C2AP%0ANRBP2%0ANRDE2%0ANRF1%0ANSA2%0ANSF%0ANSL1%0ANSMCE1%0ANSMCE2%0ANSMCE4A%0ANSUN4%0ANUBP1%0ANUBP2%0ANUDC%0ANUDCD3%0ANUDT21%0ANUDT4%0ANUF2%0ANUFIP2%0ANUP107%0ANUP133%0ANUP155%0ANUP160%0ANUP188%0ANUP214%0ANUP43%0ANUP54%0ANUP62%0ANUP85%0ANUP88%0ANUP93%0ANUP98%0ANUS1%0ANVL%0ANXF1%0AOAZ1%0AOBFC1%0AOGDH%0AOGT%0AOPA1%0AORAOV1%0AORC1%0AORC2%0AORC3%0AORC6%0AOSBP%0AOSGEP%0AOTUD5%0AOXSM%0APABPN1%0APAF1%0APAFAH1B1%0APAICS%0APAK1IP1%0APALB2%0APAM16%0APANK3%0APAPD5%0APAPOLG%0APARS2%0APAXBP1%0APCBP1%0APCBP2%0APCF11%0APCID2%0APCM1%0APCNA%0APCYT1A%0APDCD11%0APDCD2%0APDCD7%0APDCL%0APDE1B%0APDE4DIP%0APDS5A%0APDSS1%0APDSS2%0APDXK%0APELO%0APELP1%0APES1%0APET112%0APET117%0APEX10%0APEX12%0APEX14%0APEX3%0APEX5%0APEX7%0APFAS%0APFDN2%0APFDN6%0APFN1%0APGAM1%0APGD%0APGGT1B%0APGK1%0APGM3%0APGS1%0APHB%0APHB2%0APHF5A%0API4KA%0API4KB%0APIK3C3%0APISD%0APITRM1%0APKM%0APKMYT1%0APLK1%0APLK4%0APMF1%0APMPCA%0APMPCB%0APMVK%0APNISR%0APNKP%0APNN%0APNPT1%0APOLA1%0APOLA2%0APOLD2%0APOLD3%0APOLE%0APOLE2%0APOLG%0APOLG2%0APOLR1A%0APOLR1B%0APOLR1C%0APOLR1E%0APOLR2A%0APOLR2B%0APOLR2C%0APOLR2D%0APOLR2F%0APOLR2G%0APOLR2H%0APOLR2I%0APOLR2J%0APOLR2J2%0APOLR2J3%0APOLR2L%0APOLR3A%0APOLR3C%0APOLR3D%0APOLR3E%0APOLR3H%0APOLR3K%0APOP1%0APOP4%0APOP7%0APOT1%0APOTEH%0APOU2F1%0APPA1%0APPA2%0APPAN%0APPAN-P2RY11%0APPAT%0APPCDC%0APPCS%0APPIB%0APPIE%0APPIL2%0APPIP5K2%0APPP1CA%0APPP1CB%0APPP1CC%0APPP1R10%0APPP1R15B%0APPP1R2%0APPP1R35%0APPP2CA%0APPP2R1A%0APPP2R2A%0APPP2R3C%0APPP2R4%0APPP4C%0APPP6C%0APPP6R3%0APPRC1%0APRC1%0APRCC%0APREB%0APRELID1%0APRIM1%0APRKAA1%0APRKRIP1%0APRKRIR%0APRMT1%0APRMT5%0APRPF19%0APRPF3%0APRPF31%0APRPF38A%0APRPF38B%0APRPF39%0APRPF4%0APRPF6%0APRPF8%0APRR13%0APSMA1%0APSMA2%0APSMA3%0APSMA5%0APSMA6%0APSMA7%0APSMB1%0APSMB2%0APSMB3%0APSMB4%0APSMB5%0APSMB6%0APSMB7%0APSMC2%0APSMC3%0APSMC4%0APSMC5%0APSMD1%0APSMD11%0APSMD12%0APSMD13%0APSMD14%0APSMD2%0APSMD3%0APSMD4%0APSMD6%0APSMD7%0APSME3%0APSMG1%0APSMG3%0APSMG4%0APSTK%0APTAR1%0APTCD1%0APTCD3%0APTPMT1%0APTPN23%0APUF60%0APWP1%0APWP2%0APYROXD1%0AQARS%0AQRICH1%0AQRSL1%0ARAB34%0ARAB6C%0ARABGGTA%0ARABGGTB%0ARABIF%0ARACGAP1%0ARAD1%0ARAD17%0ARAD21%0ARAD23B%0ARAD51%0ARAD51B%0ARAD51C%0ARAD51D%0ARAD54B%0ARAD9A%0ARAE1%0ARAF1%0ARAN%0ARANBP1%0ARANBP3%0ARANGAP1%0ARARA%0ARARS%0ARARS2%0ARBBP5%0ARBBP6%0ARBBP8%0ARBM10%0ARBM14%0ARBM14-RBM4%0ARBM17%0ARBM18%0ARBM19%0ARBM25%0ARBM28%0ARBM39%0ARBM5%0ARBM8A%0ARBMX%0ARBPJ%0ARBX1%0ARCC1%0ARCL1%0ARCOR1%0AREV3L%0AREXO2%0ARFC1%0ARFC2%0ARFC3%0ARFC4%0ARFC5%0ARFK%0ARFT1%0ARFWD3%0ARGPD5%0ARGPD6%0ARHEB%0ARHOA%0ARINT1%0ARIOK1%0ARIOK2%0ARNASEH2A%0ARNASEH2B%0ARNASEH2C%0ARNF113A%0ARNF168%0ARNF214%0ARNF31%0ARNF4%0ARNF40%0ARNF8%0ARNGTT%0ARNMT%0ARNPC3%0AROMO1%0ARPA1%0ARPA3%0ARPAIN%0ARPAP1%0ARPAP2%0ARPGRIP1%0ARPL10%0ARPL10A%0ARPL11%0ARPL12%0ARPL13%0ARPL13A%0ARPL14%0ARPL15%0ARPL17%0ARPL18%0ARPL18A%0ARPL19%0ARPL23%0ARPL23A%0ARPL24%0ARPL26%0ARPL27%0ARPL27A%0ARPL29%0ARPL3%0ARPL30%0ARPL31%0ARPL32%0ARPL34%0ARPL35%0ARPL35A%0ARPL36%0ARPL36AL%0ARPL37%0ARPL37A%0ARPL38%0ARPL4%0ARPL5%0ARPL6%0ARPL7%0ARPL7A%0ARPL7L1%0ARPL8%0ARPL9%0ARPLP0%0ARPLP1%0ARPLP2%0ARPN1%0ARPN2%0ARPP14%0ARPP21%0ARPP30%0ARPP40%0ARPRD1B%0ARPS10%0ARPS11%0ARPS12%0ARPS13%0ARPS14%0ARPS15%0ARPS15A%0ARPS16%0ARPS17%0ARPS17L%0ARPS18%0ARPS19%0ARPS2%0ARPS21%0ARPS23%0ARPS25%0ARPS27A%0ARPS28%0ARPS29%0ARPS3%0ARPS3A%0ARPS4X%0ARPS5%0ARPS6%0ARPS7%0ARPS8%0ARPS9%0ARPSA%0ARPTOR%0ARPUSD4%0ARQCD1%0ARRAGA%0ARRM1%0ARRM2%0ARRN3%0ARRP1%0ARRP12%0ARRP15%0ARRP7A%0ARRP9%0ARRS1%0ARSL24D1%0ARTCB%0ARTEL1%0ARTFDC1%0ARTTN%0ARUNX1%0ARUVBL1%0ARUVBL2%0ASACM1L%0ASAE1%0ASAMD4B%0ASAMM50%0ASAMSN1%0ASAP18%0ASAP30BP%0ASARNP%0ASARS%0ASARS2%0ASART1%0ASART3%0ASBNO1%0ASCAF1%0ASCAF11%0ASCAP%0ASCD%0ASCO1%0ASCO2%0ASCYL1%0ASDAD1%0ASDE2%0ASDHA%0ASDHAF1%0ASDHB%0ASDHD%0ASEC13%0ASEC16A%0ASEC61A1%0ASEC63%0ASEH1L%0ASEPHS2%0ASEPSECS%0ASERF1A%0ASERF1B%0ASETD1A%0ASETD8%0ASF1%0ASF3A1%0ASF3A2%0ASF3A3%0ASF3B2%0ASF3B3%0ASF3B4%0ASF3B5%0ASFPQ%0ASHARPIN%0ASHMT2%0ASHQ1%0ASIAH1%0ASIK2%0ASIN3A%0ASKA1%0ASKA3%0ASKIV2L2%0ASLC20A1%0ASLC25A1%0ASLC25A3%0ASLC25A32%0ASLC28A1%0ASLC31A1%0ASLC35B1%0ASLC38A5%0ASLC3A2%0ASLC5A3%0ASLC6A17%0ASLC7A11%0ASLC7A6OS%0ASLMO2%0ASLTM%0ASMARCA4%0ASMARCA5%0ASMARCAL1%0ASMARCB1%0ASMARCC1%0ASMARCD2%0ASMARCE1%0ASMC1A%0ASMC2%0ASMC3%0ASMC4%0ASMC5%0ASMC6%0ASMG1%0ASMG5%0ASMG6%0ASMG7%0ASMG8%0ASMG9%0ASMN1%0ASMN2%0ASMNDC1%0ASMU1%0ASNAPC1%0ASNAPC2%0ASNAPC3%0ASNAPC4%0ASNAPC5%0ASNF8%0ASNIP1%0ASNRNP200%0ASNRNP25%0ASNRNP27%0ASNRNP35%0ASNRNP48%0ASNRPA%0ASNRPD1%0ASNRPD2%0ASNRPD3%0ASNRPE%0ASNRPF%0ASNUPN%0ASOD1%0ASOD2%0ASON%0ASOS1%0ASPAG5%0ASPAG7%0ASPANXA1%0ASPANXA2%0ASPATA31A5%0ASPATA5%0ASPATA5L1%0ASPC24%0ASPC25%0ASPEN%0ASPI1%0ASPIDR%0ASPOP%0ASPRTN%0ASPTLC1%0ASPTLC2%0ASPTSSA%0ASRBD1%0ASRCAP%0ASRD5A3%0ASREBF1%0ASRF%0ASRFBP1%0ASRM%0ASRP54%0ASRPRB%0ASRRM1%0ASRRM2%0ASRRT%0ASRSF1%0ASRSF10%0ASRSF2%0ASRSF3%0ASRSF7%0ASS18L2%0ASSBP4%0ASSRP1%0ASSU72%0ASTAC2%0ASTAG3%0ASTAT5B%0ASTIL%0ASTK11%0ASTOML2%0ASTRAP%0ASTRIP1%0ASTRN%0ASUDS3%0ASUGP1%0ASUGT1%0ASULT1A3%0ASULT1A4%0ASUPT20H%0ASUPT5H%0ASUPT6H%0ASUPT7L%0ASUPV3L1%0ASURF1%0ASUV39H1%0ASUZ12%0ASYF2%0ASYMPK%0ASYS1%0ASYVN1%0ATACC3%0ATADA1%0ATADA2B%0ATADA3%0ATAF10%0ATAF15%0ATAF1C%0ATAF5L%0ATAF6%0ATAF6L%0ATAF8%0ATAMM41%0ATANGO6%0ATARS%0ATARS2%0ATAZ%0ATBC1D3%0ATBC1D3B%0ATBC1D3C%0ATBC1D3F%0ATBC1D3G%0ATBCA%0ATBCB%0ATBCC%0ATBCD%0ATBCE%0ATBL3%0ATCEA1%0ATCP1%0ATEFM%0ATELO2%0ATERF2%0ATEX10%0ATFB2M%0ATFIP11%0ATFPT%0ATFRC%0ATGS1%0ATHAP1%0ATHAP11%0ATHAP4%0ATHG1L%0ATHOC1%0ATHOC2%0ATHOC3%0ATHOC5%0ATHOC7%0ATICRR%0ATIGD3%0ATIMELESS%0ATIMM10%0ATIMM13%0ATIMM23%0ATIMM44%0ATIMMDC1%0ATIPRL%0ATKT%0ATLE3%0ATMED2%0ATMEM147%0ATMEM199%0ATMEM209%0ATMEM30A%0ATMX2%0ATNIP1%0ATNPO3%0ATOMM20%0ATOMM22%0ATOMM40%0ATOMM70A%0ATONSL%0ATOP1%0ATOP1MT%0ATOP2A%0ATOP3A%0ATP53I13%0ATP53RK%0ATP53TG3%0ATP53TG3B%0ATP53TG3C%0ATP53TG3D%0ATPI1%0ATPR%0ATPT1%0ATPX2%0ATRA2B%0ATRAF2%0ATRAIP%0ATRAPPC1%0ATRAPPC11%0ATRAPPC4%0ATRAPPC5%0ATRAPPC8%0ATRAPPC9%0ATRIAP1%0ATRIM28%0ATRIM73%0ATRIM74%0ATRIP13%0ATRIP4%0ATRMT1%0ATRMT10C%0ATRMT112%0ATRMT5%0ATRMT6%0ATRMT61A%0ATRNAU1AP%0ATRPM7%0ATRRAP%0ATRUB2%0ATSEN2%0ATSEN34%0ATSEN54%0ATSFM%0ATSPAN31%0ATSR1%0ATSR2%0ATTC1%0ATTC27%0ATTC37%0ATTI1%0ATTI2%0ATTK%0ATUBA1B%0ATUBB%0ATUBB8%0ATUBD1%0ATUBE1%0ATUBG1%0ATUBGCP2%0ATUBGCP5%0ATUBGCP6%0ATUFM%0ATUT1%0ATWISTNB%0ATXN%0ATXN2%0ATXNL4A%0ATYMS%0ATYRO3%0AU2AF1%0AU2AF2%0AUBA1%0AUBA2%0AUBA3%0AUBA52%0AUBAP1%0AUBE2I%0AUBE2K%0AUBE2L3%0AUBE2M%0AUBE2S%0AUBE4B%0AUBL5%0AUBL7%0AUBR4%0AUBTF%0AUFD1L%0AUMPS%0AUNC45A%0AUPF1%0AUPF2%0AUQCC2%0AUQCRB%0AUQCRC1%0AUQCRC2%0AUQCRFS1%0AUQCRH%0AURB2%0AUROD%0AUSP10%0AUSP14%0AUSP36%0AUSP37%0AUSP39%0AUSP5%0AUSP8%0AUSPL1%0AUTP11L%0AUTP14A%0AUTP15%0AUTP20%0AUTP23%0AUTP3%0AUTP6%0AVARS%0AVARS2%0AVCP%0AVCPIP1%0AVEZT%0AVMA21%0AVMP1%0AVPS13D%0AVPS16%0AVPS18%0AVPS25%0AVPS28%0AVPS29%0AVPS33A%0AVPS45%0AVPS4A%0AVPS51%0AVPS52%0AVPS72%0AWARS%0AWARS2%0AWBP4%0AWBSCR16%0AWBSCR22%0AWDHD1%0AWDR1%0AWDR12%0AWDR18%0AWDR24%0AWDR25%0AWDR3%0AWDR33%0AWDR36%0AWDR4%0AWDR43%0AWDR46%0AWDR5%0AWDR55%0AWDR61%0AWDR62%0AWDR7%0AWDR70%0AWDR74%0AWDR75%0AWDR77%0AWDR83%0AWDR92%0AWEE1%0AWHAMM%0AWIPI2%0AWNK1%0AWRB%0AWTAP%0AXAB2%0AXAGE1A%0AXAGE1B%0AXAGE1C%0AXAGE1D%0AXAGE1E%0AXPO1%0AXPO5%0AXRCC3%0AXRCC5%0AXRCC6%0AXRN2%0AXYLT2%0AYAE1D1%0AYARS%0AYARS2%0AYBEY%0AYKT6%0AYLPM1%0AYME1L1%0AYRDC%0AYTHDC1%0AYY1%0AZAR1L%0AZBED2%0AZBTB11%0AZBTB45%0AZBTB8OS%0AZC3H13%0AZC3H18%0AZC3H3%0AZC3H4%0AZCCHC14%0AZEB2%0AZFC3H1%0AZFP36%0AZFP36L1%0AZFP36L2%0AZFP91%0AZMAT2%0AZMIZ1%0AZMYND8%0AZNF131%0AZNF259%0AZNF335%0AZNF407%0AZNF574%0AZNF622%0AZNF830%0AZNHIT2%0AZNHIT6%0AZNRD1%0AZSWIM8%0AZWINT%0AZZZ3%0A&ordered=false&all_results=false&no_iea=false&combined=false&measure_underrepresentation=false&domain_scope=annotated&significance_threshold_method=g_SCS&user_threshold=0.05&numeric_namespace=ENTREZGENE_ACC&sources=GO:MF,GO:CC,GO:BP,KEGG,TF,REAC,MIRNA,HPA,CORUM,HP,WP&background="
   ]
  },
  {
   "cell_type": "markdown",
   "metadata": {},
   "source": [
    "FIGURE INFORMATION:\n",
    "supplement 1 for fig 2: `../data/external/essential_genes/gProfiler_hsapiens_2020-04-27_21-09-25.png`\n",
    "and `../data/external/essential_genes/gProfiler_hsapiens_4-27-2020_2-07-57 PM__intersections.csv`\n"
   ]
  },
  {
   "cell_type": "code",
   "execution_count": 33,
   "metadata": {},
   "outputs": [
    {
     "data": {
      "text/html": [
       "<div>\n",
       "<style scoped>\n",
       "    .dataframe tbody tr th:only-of-type {\n",
       "        vertical-align: middle;\n",
       "    }\n",
       "\n",
       "    .dataframe tbody tr th {\n",
       "        vertical-align: top;\n",
       "    }\n",
       "\n",
       "    .dataframe thead th {\n",
       "        text-align: right;\n",
       "    }\n",
       "</style>\n",
       "<table border=\"1\" class=\"dataframe\">\n",
       "  <thead>\n",
       "    <tr style=\"text-align: right;\">\n",
       "      <th></th>\n",
       "      <th>source</th>\n",
       "      <th>term_name</th>\n",
       "      <th>term_id</th>\n",
       "      <th>adjusted_p_value</th>\n",
       "      <th>negative_log10_of_adjusted_p_value</th>\n",
       "      <th>term_size</th>\n",
       "      <th>query_size</th>\n",
       "      <th>intersection_size</th>\n",
       "      <th>effective_domain_size</th>\n",
       "      <th>intersections</th>\n",
       "    </tr>\n",
       "  </thead>\n",
       "  <tbody>\n",
       "    <tr>\n",
       "      <td>0</td>\n",
       "      <td>GO:MF</td>\n",
       "      <td>RNA binding</td>\n",
       "      <td>GO:0003723</td>\n",
       "      <td>5.913432e-180</td>\n",
       "      <td>179.228160</td>\n",
       "      <td>1914</td>\n",
       "      <td>1746</td>\n",
       "      <td>601</td>\n",
       "      <td>18126</td>\n",
       "      <td>AARS,AATF,ABT1,ACIN1,AGO2,ALDH18A1,ALDOA,ALYRE...</td>\n",
       "    </tr>\n",
       "    <tr>\n",
       "      <td>1</td>\n",
       "      <td>GO:MF</td>\n",
       "      <td>nucleic acid binding</td>\n",
       "      <td>GO:0003676</td>\n",
       "      <td>2.611476e-119</td>\n",
       "      <td>118.583114</td>\n",
       "      <td>4361</td>\n",
       "      <td>1746</td>\n",
       "      <td>847</td>\n",
       "      <td>18126</td>\n",
       "      <td>AARS,AATF,ABL1,ABT1,ACIN1,ACTB,ACTL6A,AGO2,AHC...</td>\n",
       "    </tr>\n",
       "    <tr>\n",
       "      <td>2</td>\n",
       "      <td>GO:MF</td>\n",
       "      <td>heterocyclic compound binding</td>\n",
       "      <td>GO:1901363</td>\n",
       "      <td>3.276565e-111</td>\n",
       "      <td>110.484581</td>\n",
       "      <td>6290</td>\n",
       "      <td>1746</td>\n",
       "      <td>1047</td>\n",
       "      <td>18126</td>\n",
       "      <td>AARS,AATF,ABCE1,ABL1,ABT1,ACAD9,ACBD4,ACIN1,AC...</td>\n",
       "    </tr>\n",
       "    <tr>\n",
       "      <td>3</td>\n",
       "      <td>GO:MF</td>\n",
       "      <td>organic cyclic compound binding</td>\n",
       "      <td>GO:0097159</td>\n",
       "      <td>3.595802e-108</td>\n",
       "      <td>107.444204</td>\n",
       "      <td>6377</td>\n",
       "      <td>1746</td>\n",
       "      <td>1050</td>\n",
       "      <td>18126</td>\n",
       "      <td>AARS,AATF,ABCE1,ABL1,ABT1,ACAD9,ACBD4,ACIN1,AC...</td>\n",
       "    </tr>\n",
       "    <tr>\n",
       "      <td>4</td>\n",
       "      <td>GO:MF</td>\n",
       "      <td>structural constituent of ribosome</td>\n",
       "      <td>GO:0003735</td>\n",
       "      <td>6.115572e-81</td>\n",
       "      <td>80.213563</td>\n",
       "      <td>171</td>\n",
       "      <td>1746</td>\n",
       "      <td>121</td>\n",
       "      <td>18126</td>\n",
       "      <td>DAP3,FAU,MRP63,MRPL10,MRPL11,MRPL12,MRPL14,MRP...</td>\n",
       "    </tr>\n",
       "    <tr>\n",
       "      <td>...</td>\n",
       "      <td>...</td>\n",
       "      <td>...</td>\n",
       "      <td>...</td>\n",
       "      <td>...</td>\n",
       "      <td>...</td>\n",
       "      <td>...</td>\n",
       "      <td>...</td>\n",
       "      <td>...</td>\n",
       "      <td>...</td>\n",
       "      <td>...</td>\n",
       "    </tr>\n",
       "    <tr>\n",
       "      <td>4030</td>\n",
       "      <td>HP</td>\n",
       "      <td>Generalized weakness of limb muscles</td>\n",
       "      <td>HP:0009028</td>\n",
       "      <td>4.639844e-02</td>\n",
       "      <td>1.333497</td>\n",
       "      <td>5</td>\n",
       "      <td>527</td>\n",
       "      <td>5</td>\n",
       "      <td>4225</td>\n",
       "      <td>ALG14,ALG2,DPAGT1,GFPT1,GMPPB</td>\n",
       "    </tr>\n",
       "    <tr>\n",
       "      <td>4031</td>\n",
       "      <td>HP</td>\n",
       "      <td>Decreased activity of mitochondrial complex III</td>\n",
       "      <td>HP:0011924</td>\n",
       "      <td>4.639844e-02</td>\n",
       "      <td>1.333497</td>\n",
       "      <td>5</td>\n",
       "      <td>527</td>\n",
       "      <td>5</td>\n",
       "      <td>4225</td>\n",
       "      <td>CARS2,EARS2,ISCU,TSFM,TXN2</td>\n",
       "    </tr>\n",
       "    <tr>\n",
       "      <td>4032</td>\n",
       "      <td>HP</td>\n",
       "      <td>Decreased circulating progesterone</td>\n",
       "      <td>HP:0008233</td>\n",
       "      <td>4.639844e-02</td>\n",
       "      <td>1.333497</td>\n",
       "      <td>5</td>\n",
       "      <td>527</td>\n",
       "      <td>5</td>\n",
       "      <td>4225</td>\n",
       "      <td>EIF2B1,EIF2B2,EIF2B3,EIF2B4,EIF2B5</td>\n",
       "    </tr>\n",
       "    <tr>\n",
       "      <td>4033</td>\n",
       "      <td>HP</td>\n",
       "      <td>Abnormality of multiple cell lineages in the b...</td>\n",
       "      <td>HP:0012145</td>\n",
       "      <td>4.781294e-02</td>\n",
       "      <td>1.320455</td>\n",
       "      <td>135</td>\n",
       "      <td>527</td>\n",
       "      <td>34</td>\n",
       "      <td>4225</td>\n",
       "      <td>ATR,BRCA2,CALR,CLPB,COQ2,CTC1,DDX41,DHFR,DKC1,...</td>\n",
       "    </tr>\n",
       "    <tr>\n",
       "      <td>4034</td>\n",
       "      <td>HP</td>\n",
       "      <td>Abnormality of the orbital region</td>\n",
       "      <td>HP:0000315</td>\n",
       "      <td>4.897395e-02</td>\n",
       "      <td>1.310035</td>\n",
       "      <td>1195</td>\n",
       "      <td>527</td>\n",
       "      <td>189</td>\n",
       "      <td>4225</td>\n",
       "      <td>AARS,ACTB,ADAT3,ALDOA,ANKRD11,ARID1A,ATP6V1A,A...</td>\n",
       "    </tr>\n",
       "  </tbody>\n",
       "</table>\n",
       "<p>4035 rows × 10 columns</p>\n",
       "</div>"
      ],
      "text/plain": [
       "     source                                          term_name     term_id  \\\n",
       "0     GO:MF                                        RNA binding  GO:0003723   \n",
       "1     GO:MF                               nucleic acid binding  GO:0003676   \n",
       "2     GO:MF                      heterocyclic compound binding  GO:1901363   \n",
       "3     GO:MF                    organic cyclic compound binding  GO:0097159   \n",
       "4     GO:MF                 structural constituent of ribosome  GO:0003735   \n",
       "...     ...                                                ...         ...   \n",
       "4030     HP               Generalized weakness of limb muscles  HP:0009028   \n",
       "4031     HP    Decreased activity of mitochondrial complex III  HP:0011924   \n",
       "4032     HP                 Decreased circulating progesterone  HP:0008233   \n",
       "4033     HP  Abnormality of multiple cell lineages in the b...  HP:0012145   \n",
       "4034     HP                  Abnormality of the orbital region  HP:0000315   \n",
       "\n",
       "      adjusted_p_value  negative_log10_of_adjusted_p_value  term_size  \\\n",
       "0        5.913432e-180                          179.228160       1914   \n",
       "1        2.611476e-119                          118.583114       4361   \n",
       "2        3.276565e-111                          110.484581       6290   \n",
       "3        3.595802e-108                          107.444204       6377   \n",
       "4         6.115572e-81                           80.213563        171   \n",
       "...                ...                                 ...        ...   \n",
       "4030      4.639844e-02                            1.333497          5   \n",
       "4031      4.639844e-02                            1.333497          5   \n",
       "4032      4.639844e-02                            1.333497          5   \n",
       "4033      4.781294e-02                            1.320455        135   \n",
       "4034      4.897395e-02                            1.310035       1195   \n",
       "\n",
       "      query_size  intersection_size  effective_domain_size  \\\n",
       "0           1746                601                  18126   \n",
       "1           1746                847                  18126   \n",
       "2           1746               1047                  18126   \n",
       "3           1746               1050                  18126   \n",
       "4           1746                121                  18126   \n",
       "...          ...                ...                    ...   \n",
       "4030         527                  5                   4225   \n",
       "4031         527                  5                   4225   \n",
       "4032         527                  5                   4225   \n",
       "4033         527                 34                   4225   \n",
       "4034         527                189                   4225   \n",
       "\n",
       "                                          intersections  \n",
       "0     AARS,AATF,ABT1,ACIN1,AGO2,ALDH18A1,ALDOA,ALYRE...  \n",
       "1     AARS,AATF,ABL1,ABT1,ACIN1,ACTB,ACTL6A,AGO2,AHC...  \n",
       "2     AARS,AATF,ABCE1,ABL1,ABT1,ACAD9,ACBD4,ACIN1,AC...  \n",
       "3     AARS,AATF,ABCE1,ABL1,ABT1,ACAD9,ACBD4,ACIN1,AC...  \n",
       "4     DAP3,FAU,MRP63,MRPL10,MRPL11,MRPL12,MRPL14,MRP...  \n",
       "...                                                 ...  \n",
       "4030                      ALG14,ALG2,DPAGT1,GFPT1,GMPPB  \n",
       "4031                         CARS2,EARS2,ISCU,TSFM,TXN2  \n",
       "4032                 EIF2B1,EIF2B2,EIF2B3,EIF2B4,EIF2B5  \n",
       "4033  ATR,BRCA2,CALR,CLPB,COQ2,CTC1,DDX41,DHFR,DKC1,...  \n",
       "4034  AARS,ACTB,ADAT3,ALDOA,ANKRD11,ARID1A,ATP6V1A,A...  \n",
       "\n",
       "[4035 rows x 10 columns]"
      ]
     },
     "execution_count": 33,
     "metadata": {},
     "output_type": "execute_result"
    }
   ],
   "source": [
    "# read in profiler information\n",
    "gprofiler_df = pd.read_csv('../data/external/essential_genes/gProfiler_hsapiens_4-27-2020_2-07-57 PM__intersections.csv')\n",
    "gprofiler_df"
   ]
  },
  {
   "cell_type": "markdown",
   "metadata": {},
   "source": [
    "# filter essential genes for those expressed in all normal cell types\n",
    "\n",
    "\n",
    "# 2. FIG 3A \n"
   ]
  },
  {
   "cell_type": "code",
   "execution_count": 28,
   "metadata": {},
   "outputs": [],
   "source": [
    "import seaborn as sns\n",
    "import numpy as np\n",
    "import importlib.util\n",
    "spec = importlib.util.spec_from_file_location(\"process_crms\", \"../src/data/process_crms.py\")\n",
    "process_crms = importlib.util.module_from_spec(spec)\n",
    "spec.loader.exec_module(process_crms)"
   ]
  },
  {
   "cell_type": "code",
   "execution_count": 17,
   "metadata": {},
   "outputs": [],
   "source": [
    "rna_df = process_crms.read_rna_file('../data/interim/rna/tissue_tpm_sym.csv')"
   ]
  },
  {
   "cell_type": "code",
   "execution_count": 21,
   "metadata": {},
   "outputs": [
    {
     "data": {
      "text/plain": [
       "Index(['A431-CTRLi', 'A431-p63i', 'Airway', 'Astrocytes', 'Bladder',\n",
       "       'CAL27-CTRLi', 'CAL27-p63i', 'COLO_SCR_DMSO', 'COLO_SCR_PLX',\n",
       "       'COLO_shMITF_DMSO', 'COLO_shMITF_PLX', 'Colon', 'D0-CTRLi', 'D0-p63i',\n",
       "       'D3-CTRLi', 'D3-p63i', 'Esophageal', 'GDSD0', 'GDSD3', 'GDSD6',\n",
       "       'GM12878', 'HMEC', 'Melanocytes', 'Ovarian', 'Pancreas', 'Prostate',\n",
       "       'Renal', 'SCC13-CTRLi', 'SCC13-p63i', 'SKMEL5_SCR_DMSO',\n",
       "       'SKMEL5_SCR_PLX', 'SKMEL5_shMITF-DMSO', 'SKMEL5_shMITF_PLX', 'Thyroid',\n",
       "       'Uterine', 'WM_SCR_DMSO', 'WM_SCR_PLX', 'WM_shMITF_DMSO',\n",
       "       'WM_shMITF_PLX'],\n",
       "      dtype='object')"
      ]
     },
     "execution_count": 21,
     "metadata": {},
     "output_type": "execute_result"
    }
   ],
   "source": [
    "rna_df.columns"
   ]
  },
  {
   "cell_type": "code",
   "execution_count": 22,
   "metadata": {},
   "outputs": [],
   "source": [
    "sel_col = [ 'Airway', 'Astrocytes', 'Bladder',\n",
    "       'Colon', 'Esophageal', 'GDSD0', 'GDSD3', 'GDSD6',\n",
    "       'GM12878', 'HMEC', 'Melanocytes', 'Ovarian', 'Pancreas', 'Prostate',\n",
    "       'Renal',  'Thyroid',\n",
    "       'Uterine']"
   ]
  },
  {
   "cell_type": "code",
   "execution_count": 43,
   "metadata": {},
   "outputs": [],
   "source": [
    "rna_df_essential = rna_df.loc[rna_df.index.isin(essential_genes)]\n",
    "rna_df_essential_sel = rna_df.loc[rna_df.index.isin(essential_genes),sel_col]"
   ]
  },
  {
   "cell_type": "code",
   "execution_count": 44,
   "metadata": {},
   "outputs": [
    {
     "name": "stdout",
     "output_type": "stream",
     "text": [
      "(1739, 17)\n"
     ]
    },
    {
     "data": {
      "text/plain": [
       "(1452, 17)"
      ]
     },
     "execution_count": 44,
     "metadata": {},
     "output_type": "execute_result"
    }
   ],
   "source": [
    "print(rna_df_essential_sel.shape)\n",
    "rna_df_essential_sel = rna_df_essential_sel[rna_df_essential_sel.min(axis=1)>1]\n",
    "rna_df_essential_sel.shape\n"
   ]
  },
  {
   "cell_type": "code",
   "execution_count": 47,
   "metadata": {},
   "outputs": [],
   "source": [
    "with open('../data/external/essential_genes/essential_genes_wang2015_filt_tpm1.txt','w')as f:\n",
    "    for g in rna_df_essential_sel.index:\n",
    "        f.write(g+'\\n')"
   ]
  },
  {
   "cell_type": "code",
   "execution_count": 32,
   "metadata": {},
   "outputs": [],
   "source": [
    "fig2_data_path = '../data/processed/fig2'\n",
    "if not os.path.exists(fig2_data_path):\n",
    "    os.makedirs(fig2_data_path)\n",
    "rna_df_essential.to_csv(os.path.join(fig2_data_path, 'rna_df_essential.csv'))\n",
    "rna_df_essential_sel.to_csv(os.path.join(fig2_data_path, 'rna_df_essential_sel.csv'))"
   ]
  },
  {
   "cell_type": "code",
   "execution_count": 29,
   "metadata": {},
   "outputs": [
    {
     "name": "stderr",
     "output_type": "stream",
     "text": [
      "/Users/mguo123/opt/anaconda3/lib/python3.7/site-packages/ipykernel_launcher.py:1: RuntimeWarning: divide by zero encountered in log\n",
      "  \"\"\"Entry point for launching an IPython kernel.\n"
     ]
    },
    {
     "data": {
      "text/plain": [
       "<matplotlib.axes._subplots.AxesSubplot at 0x7fc0d803ead0>"
      ]
     },
     "execution_count": 29,
     "metadata": {},
     "output_type": "execute_result"
    },
    {
     "data": {
      "image/png": "[encoded data removed]",
      "text/plain": [
       "<Figure size 432x288 with 2 Axes>"
      ]
     },
     "metadata": {
      "needs_background": "light"
     },
     "output_type": "display_data"
    }
   ],
   "source": [
    "sns.heatmap(np.log(rna_df_essential_sel))"
   ]
  },
  {
   "cell_type": "code",
   "execution_count": null,
   "metadata": {},
   "outputs": [],
   "source": []
  }
 ],
 "metadata": {
  "kernelspec": {
   "display_name": "Python 3",
   "language": "python",
   "name": "python3"
  },
  "language_info": {
   "codemirror_mode": {
    "name": "ipython",
    "version": 3
   },
   "file_extension": ".py",
   "mimetype": "text/x-python",
   "name": "python",
   "nbconvert_exporter": "python",
   "pygments_lexer": "ipython3",
   "version": "3.7.4"
  }
 },
 "nbformat": 4,
 "nbformat_minor": 4
}
