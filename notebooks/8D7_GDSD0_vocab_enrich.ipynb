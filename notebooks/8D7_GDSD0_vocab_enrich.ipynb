{
 "cells": [
  {
   "cell_type": "markdown",
   "metadata": {},
   "source": [
    "08/04/2020\n",
    "\n",
    "Keratinocyte Vocab Finder"
   ]
  },
  {
   "cell_type": "code",
   "execution_count": 21,
   "metadata": {},
   "outputs": [],
   "source": [
    "# basic packages\n",
    "import os, glob\n",
    "import pandas as pd\n",
    "import numpy as np; np.random.seed(0)\n",
    "import itertools\n",
    "from collections import Counter, defaultdict\n",
    "import time\n",
    "# Import tools needed for visualization\n",
    "import seaborn as sns; sns.set()\n",
    "import matplotlib\n",
    "import matplotlib.pyplot as plt"
   ]
  },
  {
   "cell_type": "code",
   "execution_count": 22,
   "metadata": {},
   "outputs": [],
   "source": [
    "save_dir = '../data/processed/fig4_modelling/vocab_sum/'\n",
    "if not os.path.exists(save_dir):\n",
    "    os.makedirs(save_dir)"
   ]
  },
  {
   "cell_type": "code",
   "execution_count": 23,
   "metadata": {},
   "outputs": [],
   "source": [
    "TISSUE = 'GDSD0'"
   ]
  },
  {
   "cell_type": "code",
   "execution_count": 24,
   "metadata": {},
   "outputs": [],
   "source": [
    "MAX_DIST=135\n"
   ]
  },
  {
   "cell_type": "code",
   "execution_count": 25,
   "metadata": {},
   "outputs": [
    {
     "name": "stdout",
     "output_type": "stream",
     "text": [
      "97\n",
      "['ATF1', 'ATF2', 'ATF3', 'ATF4', 'ATF5', 'BARX2', 'CEBPA', 'CEBPG', 'DLX3', 'DLX5', 'E2F1', 'E2F3', 'E2F4', 'E2F7', 'ELF5', 'ESRRA', 'ETS1', 'ETV4', 'FOS', 'FOSL1', 'FOSL2', 'FOXF2', 'FOXK2', 'FOXP1', 'GRHL1', 'GRHL2', 'HES1', 'HES2', 'HOMEZ', 'HOXA1', 'HOXC11', 'HOXC13', 'ID3', 'IRX2', 'IRX4', 'JUN', 'JUNB', 'JUND', 'KER2', 'KLF16', 'KLF4', 'KLF5', 'LDB2', 'MAF', 'MAFB', 'MAML3', 'NR3C1', 'OTX1', 'OVOL1', 'PBX1', 'PBX2', 'POU1F1', 'POU2F1', 'POU2F2', 'POU2F3', 'POU3F1', 'POU3F2', 'POU3F3', 'POU3F4', 'POU4F1', 'POU4F2', 'POU4F3', 'POU5F1', 'POU5F1B', 'POU6F1', 'POU6F2', 'PRDM1', 'PRRX1', 'RARG', 'RELB', 'RORA', 'RUNX1', 'SMAD4', 'SOX11', 'SOX15', 'SOX6', 'SOX7', 'SOX9', 'SP1', 'SP3', 'STAT1', 'STAT6', 'TCF4', 'TCF7L2', 'TFAP2A', 'TFAP2B', 'TFAP2C', 'TFAP2D', 'TFDP1', 'TP63', 'TWIST2', 'VDR', 'VGLL1', 'XBP1', 'ZBTB7B', 'ZEB1', 'ZNF219']\n"
     ]
    }
   ],
   "source": [
    "#get tfs\n",
    "tf_df = pd.read_csv('../data/external/transcription_factor_info_063020.csv')\n",
    "TFS = sorted(set(tf_df[tf_df['cell_type']=='Keratinocytes'][\"tf\"]))##### DIFFERENT FOR EACH TISSUE\n",
    "print(len(TFS))\n",
    "print(TFS)\n"
   ]
  },
  {
   "cell_type": "code",
   "execution_count": 26,
   "metadata": {},
   "outputs": [],
   "source": [
    "vocab_dir = '../data/processed/fig4_modelling/tf_tf_pairs/'"
   ]
  },
  {
   "cell_type": "markdown",
   "metadata": {},
   "source": [
    "read in loop_types"
   ]
  },
  {
   "cell_type": "code",
   "execution_count": 27,
   "metadata": {},
   "outputs": [
    {
     "data": {
      "text/plain": [
       "['../data/processed/fig4_modelling/tf_tf_pairs/expr_Astrocytes_loop_type.csv',\n",
       " '../data/processed/fig4_modelling/tf_tf_pairs/expr_GM12878_loop_type.csv',\n",
       " '../data/processed/fig4_modelling/tf_tf_pairs/expr_Thyroid_loop_type.csv',\n",
       " '../data/processed/fig4_modelling/tf_tf_pairs/expr_GDSD0_loop_type.csv',\n",
       " '../data/processed/fig4_modelling/tf_tf_pairs/unique_Astrocytes_loop_type.csv',\n",
       " '../data/processed/fig4_modelling/tf_tf_pairs/expr_Esophageal_loop_type.csv',\n",
       " '../data/processed/fig4_modelling/tf_tf_pairs/unique_HMEC_loop_type.csv',\n",
       " '../data/processed/fig4_modelling/tf_tf_pairs/unique_Esophageal_loop_type.csv',\n",
       " '../data/processed/fig4_modelling/tf_tf_pairs/expr_Prostate_loop_type.csv',\n",
       " '../data/processed/fig4_modelling/tf_tf_pairs/expr_Colon_loop_type.csv',\n",
       " '../data/processed/fig4_modelling/tf_tf_pairs/unique_Ovarian_loop_type.csv',\n",
       " '../data/processed/fig4_modelling/tf_tf_pairs/expr_Airway_loop_type.csv',\n",
       " '../data/processed/fig4_modelling/tf_tf_pairs/unique_Uterine_loop_type.csv',\n",
       " '../data/processed/fig4_modelling/tf_tf_pairs/unique_Melanocytes_loop_type.csv',\n",
       " '../data/processed/fig4_modelling/tf_tf_pairs/unique_Bladder_loop_type.csv',\n",
       " '../data/processed/fig4_modelling/tf_tf_pairs/expr_Bladder_loop_type.csv',\n",
       " '../data/processed/fig4_modelling/tf_tf_pairs/expr_Melanocytes_loop_type.csv',\n",
       " '../data/processed/fig4_modelling/tf_tf_pairs/expr_Uterine_loop_type.csv',\n",
       " '../data/processed/fig4_modelling/tf_tf_pairs/expr_Pancreas_loop_type.csv',\n",
       " '../data/processed/fig4_modelling/tf_tf_pairs/expr_Renal_loop_type.csv',\n",
       " '../data/processed/fig4_modelling/tf_tf_pairs/unique_Renal_loop_type.csv',\n",
       " '../data/processed/fig4_modelling/tf_tf_pairs/expr_Ovarian_loop_type.csv',\n",
       " '../data/processed/fig4_modelling/tf_tf_pairs/unique_GDSD6_loop_type.csv',\n",
       " '../data/processed/fig4_modelling/tf_tf_pairs/expr_GDSD6_loop_type.csv',\n",
       " '../data/processed/fig4_modelling/tf_tf_pairs/unique_Prostate_loop_type.csv',\n",
       " '../data/processed/fig4_modelling/tf_tf_pairs/expr_HMEC_loop_type.csv',\n",
       " '../data/processed/fig4_modelling/tf_tf_pairs/unique_Thyroid_loop_type.csv',\n",
       " '../data/processed/fig4_modelling/tf_tf_pairs/unique_GM12878_loop_type.csv']"
      ]
     },
     "execution_count": 27,
     "metadata": {},
     "output_type": "execute_result"
    }
   ],
   "source": [
    "glob.glob('../data/processed/fig4_modelling/tf_tf_pairs/'+'*loop_type*')"
   ]
  },
  {
   "cell_type": "markdown",
   "metadata": {},
   "source": [
    "# 1 understand the types of vocabularies pulled out and where they come from\n",
    "\n",
    "## 1A. enriched vocabularies from unique tissue genes"
   ]
  },
  {
   "cell_type": "code",
   "execution_count": 28,
   "metadata": {},
   "outputs": [],
   "source": [
    "# loop_type_df = pd.read_csv('../data/processed/fig4_modelling/tf_tf_pairs/unique_'+TISSUE+'_loop_type.csv',index_col=0).fillna('')\n",
    "# pro_pro_vocab = loop_type_df[(loop_type_df.pro_pro_count>0) & (loop_type_df.loop_loop_count==0) & (loop_type_df.pro_loop_count==0)].index.values\n",
    "# print(len(pro_pro_vocab))\n",
    "# print(pro_pro_vocab)\n",
    "# pro_loop_vocab = loop_type_df[(loop_type_df.pro_pro_count==0) & (loop_type_df.loop_loop_count==0) & (loop_type_df.pro_loop_count>0)].index.values\n",
    "# print(len(pro_loop_vocab))\n",
    "# print(pro_loop_vocab)\n",
    "\n",
    "# loop_loop_vocab = loop_type_df[(loop_type_df.pro_pro_count==0) & (loop_type_df.loop_loop_count>0) & (loop_type_df.pro_loop_count==0)].index.values\n",
    "# print(len(loop_loop_vocab))\n",
    "# print(loop_loop_vocab)\n",
    "\n",
    "# all_vocab = loop_type_df[(loop_type_df.pro_pro_count>0) & (loop_type_df.loop_loop_count>0) & (loop_type_df.pro_loop_count>0)].index.values\n",
    "# print(len(all_vocab))\n",
    "# print(all_vocab)\n"
   ]
  },
  {
   "cell_type": "markdown",
   "metadata": {},
   "source": [
    "## 1b enriched vocab from expressed genes in KRT"
   ]
  },
  {
   "cell_type": "code",
   "execution_count": 29,
   "metadata": {},
   "outputs": [
    {
     "name": "stdout",
     "output_type": "stream",
     "text": [
      "0\n",
      "[]\n",
      "0\n",
      "[]\n",
      "322\n",
      "['ARID3A::HINFP' 'ATF2::SOX11' 'ATF4::DLX1' 'ATF4::HES7' 'ATF4::HINFP'\n",
      " 'ATF4::SOX11' 'ATF4::TEF' 'ATF7::DLX1' 'ATF7::HES7' 'ATF7::HINFP'\n",
      " 'ATF7::MECOM' 'ATF7::POU3F1' 'ATF7::SOX11' 'ATF7::STAT6' 'ATF7::ZNF232'\n",
      " 'ATF7::ZNF274' 'BACH2::HINFP' 'BACH2::HMBOX1' 'BACH2::ZNF274'\n",
      " 'BCL6::HES7' 'BCL6::HINFP' 'BCL6::ZNF502' 'BHLHE41::CREB5'\n",
      " 'BHLHE41::DLX2' 'BHLHE41::ETV3' 'BHLHE41::HOXC11' 'BHLHE41::ISL1'\n",
      " 'BHLHE41::OSR2' 'BHLHE41::PITX2' 'BHLHE41::POU3F1' 'BHLHE41::SREBF2'\n",
      " 'BHLHE41::ZFP42' 'BHLHE41::ZNF143' 'BHLHE41::ZNF250' 'CEBPG::HINFP'\n",
      " 'CEBPG::SOX11' 'CREB5::DLX1' 'CREB5::HINFP' 'CREB5::MECOM'\n",
      " 'CREB5::POU3F1' 'CREB5::SOX11' 'CREB5::ZNF232' 'CREB5::ZNF274'\n",
      " 'DDIT3::HINFP' 'DDIT3::SOX11' 'DLX1::GRHL2' 'DLX1::HINFP' 'DLX1::ISL1'\n",
      " 'DLX1::ZNF143' 'DLX1::ZNF274' 'DLX2::HINFP' 'DLX2::HMBOX1' 'DLX2::MITF'\n",
      " 'DLX2::ZNF274' 'DLX2::ZNF354A' 'DLX2::ZNF85' 'DLX3::ETV1' 'DLX3::HES7'\n",
      " 'DLX3::MITF' 'DLX3::POU3F1' 'DLX3::RFX5' 'DLX3::SOX11' 'DLX3::ZFP42'\n",
      " 'DLX3::ZNF18' 'DLX3::ZNF502' 'DLX3::ZNF816' 'E2F8::HMBOX1' 'E2F8::TEF'\n",
      " 'E2F8::ZNF274' 'E2F8::ZNF354A' 'EPAS1::POU3F1' 'ESRRA::HMBOX1'\n",
      " 'ESRRA::MEF2D' 'ESRRA::TEF' 'ESRRA::ZNF232' 'ETV1::HMBOX1' 'ETV1::HOXA5'\n",
      " 'ETV1::ISL1' 'ETV1::MECOM' 'ETV1::NFIL3' 'ETV1::OVOL1' 'ETV1::POU2F2'\n",
      " 'ETV1::STAT6' 'ETV1::ZFHX3' 'ETV1::ZNF232' 'ETV1::ZNF274' 'ETV3::HMBOX1'\n",
      " 'ETV3::MXI1' 'ETV3::TEF' 'ETV3::ZNF274' 'FOS::SOX11' 'FOSB::SOX11'\n",
      " 'FOSL1::SOX11' 'FOXA2::HINFP' 'FOXA2::MITF' 'FOXA2::ZFP42' 'FOXD1::HINFP'\n",
      " 'FOXD1::HOXC8' 'FOXD1::POU3F1' 'FOXD1::SOX11' 'FOXJ2::SOX11'\n",
      " 'FOXJ2::ZNF250' 'GLI3::HINFP' 'GLI3::HMBOX1' 'GLI3::TEF' 'GLI3::ZNF274'\n",
      " 'GMEB2::HES7' 'GMEB2::HOXC6' 'GMEB2::TEF' 'GMEB2::ZNF250' 'GMEB2::ZNF502'\n",
      " 'HES7::HINFP' 'HES7::HMBOX1' 'HES7::MEF2D' 'HES7::NFIB' 'HES7::NFIL3'\n",
      " 'HES7::TEF' 'HES7::ZNF143' 'HES7::ZNF232' 'HES7::ZNF354A' 'HINFP::HMBOX1'\n",
      " 'HINFP::HOXA1' 'HINFP::HOXA7' 'HINFP::HOXA9' 'HINFP::HOXC10'\n",
      " 'HINFP::HOXC11' 'HINFP::HOXC13' 'HINFP::HOXC6' 'HINFP::HOXC8'\n",
      " 'HINFP::HOXD8' 'HINFP::IRF7' 'HINFP::IRX2' 'HINFP::IRX3' 'HINFP::ISL1'\n",
      " 'HINFP::JDP2' 'HINFP::LEF1' 'HINFP::MAFF' 'HINFP::MAFG' 'HINFP::MAFK'\n",
      " 'HINFP::MECOM' 'HINFP::MEF2D' 'HINFP::NFE2L2' 'HINFP::NFIB'\n",
      " 'HINFP::NFIL3' 'HINFP::OSR2' 'HINFP::OVOL1' 'HINFP::PITX2'\n",
      " 'HINFP::PLAGL1' 'HINFP::POU2F2' 'HINFP::POU3F1' 'HINFP::PRDM1'\n",
      " 'HINFP::RARG' 'HINFP::RFX2' 'HINFP::RFX3' 'HINFP::RFX5' 'HINFP::RREB1'\n",
      " 'HINFP::SMAD4' 'HINFP::SNAI2' 'HINFP::SOX11' 'HINFP::SOX15'\n",
      " 'HINFP::SREBF1' 'HINFP::TEAD1' 'HINFP::TEAD3' 'HINFP::TEF' 'HINFP::TP53'\n",
      " 'HINFP::TP63' 'HINFP::ZBTB7B' 'HINFP::ZFHX3' 'HINFP::ZNF143'\n",
      " 'HINFP::ZNF18' 'HINFP::ZNF250' 'HINFP::ZNF274' 'HINFP::ZNF502'\n",
      " 'HINFP::ZNF563' 'HINFP::ZNF768' 'HLTF::HOXC11' 'HLTF::SOX11'\n",
      " 'HLTF::ZFP42' 'HLTF::ZNF143' 'HMBOX1::HOXC10' 'HMBOX1::HOXC11'\n",
      " 'HMBOX1::HOXC6' 'HMBOX1::HOXC8' 'HMBOX1::HOXC9' 'HMBOX1::ISL1'\n",
      " 'HMBOX1::SOX11' 'HMBOX1::TCF4' 'HMBOX1::ZFP42' 'HMBOX1::ZNF250'\n",
      " 'HOXA1::LEF1' 'HOXA1::RFX5' 'HOXA1::TEF' 'HOXA1::ZNF449' 'HOXA5::SOX11'\n",
      " 'HOXA5::TEF' 'HOXA7::LEF1' 'HOXA7::RFX5' 'HOXA7::TEF' 'HOXA7::ZNF449'\n",
      " 'HOXA9::TEF' 'HOXC10::RFX5' 'HOXC11::MEF2D' 'HOXC11::RFX5'\n",
      " 'HOXC11::STAT6' 'HOXC11::TEF' 'HOXC11::ZNF232' 'HOXC11::ZNF274'\n",
      " 'HOXC13::ZNF232' 'HOXC13::ZNF274' 'HOXC6::STAT6' 'HOXC6::ZNF232'\n",
      " 'HOXC8::ISL1' 'HOXC8::MXI1' 'HOXC8::OVOL1' 'HOXC8::ZNF143' 'HOXC9::LEF1'\n",
      " 'HOXC9::RFX5' 'HOXC9::SOX11' 'HOXC9::TEF' 'IRX2::TEF' 'IRX3::SOX11'\n",
      " 'ISL1::LEF1' 'ISL1::MECOM' 'ISL1::MEF2D' 'ISL1::MITF' 'ISL1::MXI1'\n",
      " 'ISL1::POU3F1' 'ISL1::SOX11' 'ISL1::SREBF1' 'ISL1::TEF' 'ISL1::ZBTB7B'\n",
      " 'ISL1::ZFP42' 'ISL1::ZNF232' 'ISL1::ZNF274' 'ISL1::ZNF354A'\n",
      " 'ISL1::ZNF816' 'ISL1::ZNF85' 'JDP2::MECOM' 'JDP2::MEF2D' 'JDP2::ZFHX3'\n",
      " 'JDP2::ZNF143' 'JDP2::ZNF232' 'JDP2::ZNF274' 'JUNB::SOX11' 'JUND::SOX11'\n",
      " 'LEF1::OVOL1' 'LEF1::TEAD3' 'LEF1::ZNF134' 'LEF1::ZNF768' 'MAFG::TEF'\n",
      " 'MAFK::SOX11' 'MECOM::PITX2' 'MECOM::RFX5' 'MECOM::SOX11' 'MECOM::TEF'\n",
      " 'MECOM::ZNF143' 'MEF2D::SOX11' 'MEF2D::ZNF143' 'MITF::PITX2'\n",
      " 'MITF::ZNF250' 'MXI1::PITX2' 'MXI1::POU3F1' 'MXI1::ZNF143' 'MXI1::ZNF250'\n",
      " 'MXI1::ZNF502' 'NFE2L2::RFX5' 'NFIB::POU3F1' 'NFIB::SOX11' 'NFIB::TEF'\n",
      " 'NFIC::POU3F1' 'NFIC::ZFP42' 'OSR2::SOX11' 'OVOL1::SOX11' 'OVOL1::TEF'\n",
      " 'PITX2::SREBF1' 'PITX2::ZNF232' 'PITX2::ZNF274' 'PITX2::ZNF354A'\n",
      " 'PLAG1::ZNF274' 'POU3F1::STAT6' 'POU3F1::ZNF143' 'POU3F1::ZNF274'\n",
      " 'RFX2::TEF' 'RFX5::TEF' 'RFX5::ZNF232' 'RFX5::ZNF250' 'RREB1::TEF'\n",
      " 'SMAD4::SOX11' 'SOX11::SREBF1' 'SOX11::ZNF143' 'SOX11::ZNF232'\n",
      " 'SOX11::ZNF274' 'SOX15::TEF' 'SREBF1::ZNF250' 'SREBF2::TEF' 'STAT6::TCF4'\n",
      " 'STAT6::ZBTB6' 'STAT6::ZNF18' 'STAT6::ZNF250' 'TCF4::TEF' 'TEAD3::TEF'\n",
      " 'TEF::ZNF134' 'TEF::ZNF143' 'TEF::ZNF250' 'TEF::ZNF329' 'TEF::ZNF354A'\n",
      " 'TEF::ZNF85' 'ZFP42::ZNF143' 'ZFP42::ZNF274' 'ZNF143::ZNF18'\n",
      " 'ZNF143::ZNF232' 'ZNF143::ZNF274' 'ZNF143::ZNF354A' 'ZNF232::ZNF250'\n",
      " 'ZNF232::ZNF329' 'ZNF232::ZNF449' 'ZNF232::ZNF502' 'ZNF232::ZNF554'\n",
      " 'ZNF250::ZNF274' 'ZNF250::ZNF354A' 'ZNF329::ZNF354A' 'ZNF354A::ZNF502']\n",
      "515\n",
      "['ARID3A::TEF' 'ARID3A::ZNF449' 'ARID5B::HINFP' 'ARID5B::RFX5'\n",
      " 'ARID5B::SOX11' 'ARID5B::TEF' 'ARID5B::ZNF449' 'ATF2::JDP2' 'ATF2::LEF1'\n",
      " 'ATF2::RFX5' 'ATF2::ZNF449' 'ATF4::HOXC8' 'ATF4::JDP2' 'ATF4::LEF1'\n",
      " 'ATF7::GMEB2' 'ATF7::HLTF' 'ATF7::HOXC8' 'ATF7::JDP2' 'ATF7::MITF'\n",
      " 'ATF7::MYBL2' 'ATF7::RFX5' 'ATF7::SOX13' 'ATF7::SREBF1' 'ATF7::ZBTB7B'\n",
      " 'ATF7::ZFP28' 'ATF7::ZFP42' 'ATF7::ZNF18' 'ATF7::ZNF354A' 'ATF7::ZNF394'\n",
      " 'ATF7::ZNF41' 'ATF7::ZNF85' 'BACH2::GMEB2' 'BACH2::MEF2D' 'BACH2::MITF'\n",
      " 'BACH2::MYBL2' 'BACH2::RFX5' 'BACH2::SREBF1' 'BACH2::ZNF394'\n",
      " 'BARX2::GMEB2' 'BARX2::HINFP' 'BARX2::HMBOX1' 'BARX2::LEF1'\n",
      " 'BARX2::MECOM' 'BARX2::MEF2D' 'BARX2::MXI1' 'BARX2::SREBF1'\n",
      " 'BARX2::STAT6' 'BARX2::TEF' 'BARX2::ZNF232' 'BARX2::ZNF274'\n",
      " 'BARX2::ZNF354A' 'BARX2::ZNF394' 'BARX2::ZNF449' 'BCL11A::HINFP'\n",
      " 'BCL11A::TEF' 'BCL11A::ZNF449' 'BCL6::DLX1' 'BCL6::LEF1' 'BCL6::MITF'\n",
      " 'BCL6::ZNF41' 'BCL6::ZNF449' 'BCL6::ZNF816' 'BHLHE41::HES7'\n",
      " 'BHLHE41::HOXC10' 'BHLHE41::HOXC6' 'BHLHE41::HOXC9' 'BHLHE41::TEF'\n",
      " 'BHLHE41::ZNF18' 'BHLHE41::ZNF41' 'BHLHE41::ZNF449' 'CEBPG::JDP2'\n",
      " 'CEBPG::LEF1' 'CREB5::GMEB2' 'CREB5::HLTF' 'CREB5::HOXC8' 'CREB5::JDP2'\n",
      " 'CREB5::LEF1' 'CREB5::MITF' 'CREB5::MYBL2' 'CREB5::RFX5' 'CREB5::SOX13'\n",
      " 'CREB5::SREBF1' 'CREB5::ZBTB7B' 'CREB5::ZFP28' 'CREB5::ZFP42'\n",
      " 'CREB5::ZNF18' 'CREB5::ZNF354A' 'CREB5::ZNF394' 'CREB5::ZNF41'\n",
      " 'CREB5::ZNF816' 'CREB5::ZNF85' 'DDIT3::JDP2' 'DDIT3::LEF1'\n",
      " 'DDIT3::ZNF449' 'DLX1::DLX3' 'DLX1::EPAS1' 'DLX1::FOXJ2' 'DLX1::HBP1'\n",
      " 'DLX1::MITF' 'DLX1::MXI1' 'DLX1::MYBL2' 'DLX1::NFIL3' 'DLX1::NR3C1'\n",
      " 'DLX1::TEAD1' 'DLX1::TEF' 'DLX1::ZNF354A' 'DLX2::FOXJ2' 'DLX2::HLTF'\n",
      " 'DLX2::MEF2D' 'DLX2::MXI1' 'DLX2::MYBL2' 'DLX2::OTX1' 'DLX2::RFX5'\n",
      " 'DLX2::SREBF1' 'DLX2::TEF' 'DLX2::ZNF394' 'DLX2::ZNF41' 'DLX3::JDP2'\n",
      " 'DLX3::PBX1' 'DLX3::TEF' 'DLX3::ZNF449' 'E2F8::MECOM' 'E2F8::SREBF1'\n",
      " 'E2F8::STAT6' 'EPAS1::HES7' 'EPAS1::SOX11' 'EPAS1::TEF' 'EPAS1::ZFP42'\n",
      " 'EPAS1::ZNF18' 'EPAS1::ZNF41' 'EPAS1::ZNF449' 'ESRRA::RFX5'\n",
      " 'ESRRA::SREBF1' 'ESRRA::STAT6' 'ESRRA::ZNF274' 'ESRRA::ZNF354A'\n",
      " 'ESRRA::ZNF394' 'ESRRA::ZNF449' 'ETV1::FOXD1' 'ETV1::MYBL2'\n",
      " 'ETV1::NFE2L1' 'ETV1::NFIB' 'ETV1::POU2F1' 'ETV1::RFX5' 'ETV1::UBP1'\n",
      " 'ETV1::ZBTB49' 'ETV1::ZNF394' 'ETV3::HINFP' 'ETV3::HLTF' 'ETV3::ZNF449'\n",
      " 'FOS::LEF1' 'FOS::ZNF449' 'FOSB::LEF1' 'FOSB::ZNF449' 'FOSL1::LEF1'\n",
      " 'FOSL1::ZNF449' 'FOSL2::LEF1' 'FOSL2::TEF' 'FOSL2::ZNF449' 'FOXA2::LEF1'\n",
      " 'FOXA2::SOX11' 'FOXA2::TEF' 'FOXD1::LEF1' 'FOXD1::TEF' 'FOXD1::ZFP42'\n",
      " 'FOXD1::ZNF41' 'FOXJ2::HOXC10' 'FOXJ2::HOXC6' 'FOXJ2::HOXC8'\n",
      " 'FOXJ2::RFX5' 'FOXJ2::SREBF2' 'FOXJ2::TEF' 'FOXJ2::ZNF467' 'GATA3::LEF1'\n",
      " 'GATA3::RFX5' 'GATA3::SOX11' 'GATA3::TEF' 'GATA3::ZNF449' 'GATA3::ZNF502'\n",
      " 'GLI3::SREBF1' 'GMEB2::HINFP' 'GMEB2::HOXC11' 'GMEB2::HOXC13'\n",
      " 'GMEB2::JDP2' 'GMEB2::KLF9' 'GMEB2::NFATC4' 'GMEB2::PITX2' 'GMEB2::PLAG1'\n",
      " 'GMEB2::SOX11' 'GMEB2::ZNF329' 'GMEB2::ZNF449' 'GMEB2::ZNF467'\n",
      " 'GMEB2::ZNF554' 'GRHL1::ZNF449' 'GRHL2::RFX5' 'GRHL2::ZNF502'\n",
      " 'HBP1::HES7' 'HBP1::HINFP' 'HBP1::HOXC8' 'HBP1::JDP2' 'HBP1::RFX5'\n",
      " 'HBP1::SOX11' 'HBP1::TEF' 'HBP1::ZNF449' 'HES7::MXI1' 'HES7::POU2F1'\n",
      " 'HES7::SNAI2' 'HES7::SREBF2' 'HES7::ZFHX3' 'HES7::ZNF274' 'HES7::ZNF394'\n",
      " 'HINFP::HOXA10' 'HINFP::JUN' 'HINFP::JUNB' 'HINFP::JUND' 'HINFP::NFATC4'\n",
      " 'HINFP::SOX13' 'HINFP::UBP1' 'HINFP::ZBTB49' 'HINFP::ZNF394'\n",
      " 'HINFP::ZNF41' 'HINFP::ZNF436' 'HINFP::ZNF449' 'HINFP::ZNF816'\n",
      " 'HLTF::HOXD8' 'HLTF::PLAG1' 'HLTF::SREBF2' 'HMBOX1::NFATC4'\n",
      " 'HMBOX1::OSR2' 'HMBOX1::ZBTB6' 'HMGA1::RFX5' 'HMGA1::SOX11' 'HMGA1::TEF'\n",
      " 'HMGA1::ZNF449' 'HOXA10::JDP2' 'HOXA10::LEF1' 'HOXA10::RFX5'\n",
      " 'HOXA10::SOX11' 'HOXA10::TEF' 'HOXA10::ZNF449' 'HOXC10::MECOM'\n",
      " 'HOXC10::MEF2D' 'HOXC10::MXI1' 'HOXC10::MYBL2' 'HOXC10::OTX1'\n",
      " 'HOXC10::TEF' 'HOXC10::ZFP28' 'HOXC10::ZNF232' 'HOXC10::ZNF274'\n",
      " 'HOXC10::ZNF354A' 'HOXC10::ZNF394' 'HOXC11::MYBL2' 'HOXC11::ZNF354A'\n",
      " 'HOXC13::LEF1' 'HOXC13::MEF2D' 'HOXC13::MYBL2' 'HOXC13::OTX1'\n",
      " 'HOXC13::SREBF1' 'HOXC13::ZNF394' 'HOXC13::ZNF449' 'HOXC6::MEF2D'\n",
      " 'HOXC6::OTX1' 'HOXC6::RFX5' 'HOXC6::TEF' 'HOXC6::ZNF274' 'HOXC6::ZNF354A'\n",
      " 'HOXC6::ZNF394' 'HOXC8::MYBL2' 'HOXC8::NFIL3' 'HOXC8::NR3C1'\n",
      " 'HOXC8::RFX5' 'HOXC8::SREBF2' 'HOXC8::ZFHX3' 'HOXC8::ZNF354A'\n",
      " 'HOXC8::ZNF394' 'HOXC9::JDP2' 'HOXC9::SREBF1' 'HOXC9::ZNF274'\n",
      " 'HOXD8::STAT6' 'IRX3::LEF1' 'IRX3::TEF' 'ISL1::ZNF394' 'JDP2::LEF1'\n",
      " 'JDP2::MAFG' 'JDP2::MXI1' 'JDP2::NFIC' 'JDP2::NFIL3' 'JDP2::SREBF1'\n",
      " 'JDP2::SREBF2' 'JDP2::UBP1' 'JDP2::ZNF134' 'JDP2::ZNF354A' 'JDP2::ZNF394'\n",
      " 'JUN::LEF1' 'JUN::ZNF449' 'JUNB::LEF1' 'JUNB::ZNF449' 'JUND::LEF1'\n",
      " 'JUND::ZNF449' 'KLF4::LEF1' 'KLF4::TEF' 'KLF4::ZNF41' 'KLF4::ZNF449'\n",
      " 'KLF9::MEF2D' 'KLF9::SREBF1' 'KLF9::STAT6' 'KLF9::TEF' 'KLF9::ZNF394'\n",
      " 'LEF1::MAFF' 'LEF1::MAFK' 'LEF1::NFE2L1' 'LEF1::NFE2L2' 'LEF1::NFIB'\n",
      " 'LEF1::NFIC' 'LEF1::PITX2' 'LEF1::SOX13' 'LEF1::STAT6' 'LEF1::TEAD1'\n",
      " 'LEF1::TEF' 'LEF1::TP53' 'LEF1::TP63' 'LEF1::ZFP28' 'LEF1::ZFP42'\n",
      " 'LEF1::ZNF143' 'LEF1::ZNF329' 'LEF1::ZNF354A' 'LEF1::ZNF467'\n",
      " 'LEF1::ZNF85' 'MAFF::TEF' 'MAFF::ZNF449' 'MAFG::SOX11' 'MAFG::ZNF449'\n",
      " 'MAFK::ZNF449' 'MECOM::NFATC4' 'MECOM::ZNF250' 'MEF2D::PITX2'\n",
      " 'MEF2D::ZNF250' 'MEF2D::ZNF449' 'MEF2D::ZNF467' 'MEF2D::ZNF554'\n",
      " 'MITF::MXI1' 'MITF::NFIC' 'MITF::SREBF1' 'MITF::SREBF2' 'MITF::STAT6'\n",
      " 'MITF::ZNF274' 'MITF::ZNF329' 'MITF::ZNF467' 'MXI1::NFATC4' 'MXI1::RARG'\n",
      " 'MXI1::TEF' 'MXI1::ZNF18' 'MXI1::ZNF41' 'MXI1::ZNF449' 'MXI1::ZNF816'\n",
      " 'MYBL2::PITX2' 'MYBL2::RFX5' 'MYBL2::SOX11' 'MYBL2::SREBF2'\n",
      " 'MYBL2::ZNF143' 'MYBL2::ZNF250' 'MYBL2::ZNF329' 'MYBL2::ZNF449'\n",
      " 'MYBL2::ZNF467' 'MYBL2::ZNF554' 'NFATC1::RFX5' 'NFATC4::SREBF1'\n",
      " 'NFATC4::STAT6' 'NFATC4::TEF' 'NFATC4::ZNF274' 'NFATC4::ZNF354A'\n",
      " 'NFE2L1::SOX11' 'NFE2L1::TEF' 'NFE2L1::ZNF449' 'NFE2L2::SOX11'\n",
      " 'NFE2L2::ZNF449' 'NFIA::SOX11' 'NFIA::ZNF449' 'NFIB::ZNF41' 'NFIC::OTX1'\n",
      " 'NFIC::RFX5' 'NFIC::ZNF18' 'NFIC::ZNF41' 'NFIC::ZNF449' 'NFIC::ZNF816'\n",
      " 'NFIL3::RFX5' 'NFIL3::TEF' 'NR3C1::TEF' 'NR3C1::ZNF449' 'OSR2::RFX5'\n",
      " 'OSR2::ZNF274' 'OSR2::ZNF449' 'OTX1::PITX2' 'OTX1::SREBF1' 'OTX1::SREBF2'\n",
      " 'OTX1::STAT6' 'OTX1::TEF' 'OTX1::ZNF143' 'OTX1::ZNF467' 'OVOL1::RFX5'\n",
      " 'PBX1::SREBF2' 'PITX2::RFX5' 'PITX2::STAT6' 'PLAG1::RFX5' 'PLAG1::SREBF1'\n",
      " 'PLAG1::ZNF354A' 'POU2F1::ZNF502' 'POU2F2::SOX11' 'POU2F2::TEF'\n",
      " 'POU2F2::ZNF449' 'POU3F1::RFX2' 'POU3F1::RFX5' 'POU3F1::SREBF1'\n",
      " 'POU3F1::SREBF2' 'POU3F1::ZNF85' 'RARG::ZNF274' 'RFX2::ZFP42'\n",
      " 'RFX3::RFX5' 'RFX3::SREBF1' 'RFX5::SOX13' 'RFX5::SOX15' 'RFX5::SREBF1'\n",
      " 'RFX5::SREBF2' 'RFX5::STAT6' 'RFX5::UBP1' 'RFX5::ZBTB49' 'RFX5::ZBTB7B'\n",
      " 'RFX5::ZFHX3' 'RFX5::ZFP42' 'RFX5::ZNF18' 'RFX5::ZNF329' 'RFX5::ZNF394'\n",
      " 'RFX5::ZNF41' 'RFX5::ZNF436' 'RFX5::ZNF449' 'RFX5::ZNF467' 'RFX5::ZNF563'\n",
      " 'RFX5::ZNF768' 'RREB1::ZNF449' 'SMAD4::ZNF449' 'SNAI2::SOX11'\n",
      " 'SNAI2::ZFP42' 'SNAI2::ZNF41' 'SNAI2::ZNF449' 'SOX11::STAT6'\n",
      " 'SOX11::TEAD1' 'SOX11::UBP1' 'SOX11::ZNF354A' 'SOX13::SREBF2'\n",
      " 'SOX13::TEF' 'SOX13::ZNF143' 'SOX13::ZNF449' 'SREBF1::SREBF2'\n",
      " 'SREBF1::TCF4' 'SREBF1::TEF' 'SREBF1::ZBTB6' 'SREBF1::ZNF18'\n",
      " 'SREBF1::ZNF329' 'SREBF1::ZNF41' 'SREBF1::ZNF467' 'SREBF1::ZNF554'\n",
      " 'SREBF1::ZNF816' 'SREBF2::STAT6' 'SREBF2::ZBTB7B' 'SREBF2::ZFP28'\n",
      " 'SREBF2::ZNF18' 'SREBF2::ZNF274' 'SREBF2::ZNF354A' 'SREBF2::ZNF394'\n",
      " 'SREBF2::ZNF41' 'SREBF2::ZNF449' 'SREBF2::ZNF816' 'SREBF2::ZNF85'\n",
      " 'STAT6::ZNF41' 'STAT6::ZNF436' 'STAT6::ZNF449' 'STAT6::ZNF467'\n",
      " 'STAT6::ZNF554' 'TBX3::TEF' 'TEF::TP53' 'TEF::TP63' 'TEF::UBP1'\n",
      " 'TEF::ZBTB49' 'TEF::ZFHX3' 'TEF::ZFP28' 'TEF::ZFP42' 'TEF::ZNF394'\n",
      " 'TEF::ZNF41' 'TEF::ZNF563' 'TEF::ZNF816' 'TP53::ZNF449' 'TP63::ZNF449'\n",
      " 'UBP1::ZNF449' 'ZBTB49::ZNF449' 'ZFHX3::ZNF502' 'ZFP28::ZNF449'\n",
      " 'ZFP42::ZNF449' 'ZNF134::ZNF449' 'ZNF143::ZNF449' 'ZNF143::ZNF502'\n",
      " 'ZNF143::ZNF816' 'ZNF143::ZNF85' 'ZNF274::ZNF467' 'ZNF274::ZNF502'\n",
      " 'ZNF329::ZNF394' 'ZNF329::ZNF449' 'ZNF354A::ZNF467' 'ZNF394::ZNF449'\n",
      " 'ZNF394::ZNF467' 'ZNF394::ZNF502' 'ZNF394::ZNF554' 'ZNF449::ZNF467'\n",
      " 'ZNF449::ZNF563' 'ZNF449::ZNF768' 'ZNF449::ZNF85']\n"
     ]
    }
   ],
   "source": [
    "loop_type_df = pd.read_csv('../data/processed/fig4_modelling/tf_tf_pairs/expr_'+TISSUE+'_loop_type.csv',index_col=0).fillna('')\n",
    "pro_pro_vocab = loop_type_df[(loop_type_df.pro_pro_count>0) & (loop_type_df.loop_loop_count==0) & (loop_type_df.pro_loop_count==0)].index.values\n",
    "print(len(pro_pro_vocab))\n",
    "print(pro_pro_vocab)\n",
    "pro_loop_vocab = loop_type_df[(loop_type_df.pro_pro_count==0) & (loop_type_df.loop_loop_count==0) & (loop_type_df.pro_loop_count>0)].index.values\n",
    "print(len(pro_loop_vocab))\n",
    "print(pro_loop_vocab)\n",
    "\n",
    "loop_loop_vocab = loop_type_df[(loop_type_df.pro_pro_count==0) & (loop_type_df.loop_loop_count>0) & (loop_type_df.pro_loop_count==0)].index.values\n",
    "print(len(loop_loop_vocab))\n",
    "print(loop_loop_vocab)\n",
    "\n",
    "all_vocab = loop_type_df[(loop_type_df.pro_pro_count>0) & (loop_type_df.loop_loop_count>0) & (loop_type_df.pro_loop_count>0)].index.values\n",
    "print(len(all_vocab))\n",
    "print(all_vocab)\n"
   ]
  },
  {
   "cell_type": "markdown",
   "metadata": {},
   "source": [
    "## 1C get motif appearance locations (normalized)"
   ]
  },
  {
   "cell_type": "code",
   "execution_count": 30,
   "metadata": {},
   "outputs": [
    {
     "data": {
      "text/plain": [
       "LEF1::NFIA         0.234834\n",
       "NFIC::PBX1         0.332681\n",
       "PRDM1::ZNF449      0.368508\n",
       "GMEB2::SREBF2      0.388427\n",
       "SREBF1::ZNF449     0.427733\n",
       "                    ...    \n",
       "HINFP::OVOL1      35.929542\n",
       "DLX3::HES7        35.929542\n",
       "DLX3::HINFP       35.929542\n",
       "HINFP::HOXA7      35.929542\n",
       "HINFP::ZNF232     71.859084\n",
       "Length: 1310, dtype: float64"
      ]
     },
     "execution_count": 30,
     "metadata": {},
     "output_type": "execute_result"
    }
   ],
   "source": [
    "# for vocab pairs\n",
    "pro_frac = ((loop_type_df.pro_pro_count+1)/(loop_type_df.pro_pro_count.sum()+1))\n",
    "loop_frac = ((loop_type_df.loop_loop_count+1)/(loop_type_df.loop_loop_count.sum()+1))\n",
    "ratio = pro_frac/loop_frac\n",
    "ratio.sort_values()"
   ]
  },
  {
   "cell_type": "code",
   "execution_count": 31,
   "metadata": {},
   "outputs": [
    {
     "name": "stdout",
     "output_type": "stream",
     "text": [
      "136\n"
     ]
    }
   ],
   "source": [
    "# for motifs\n",
    "# 1. get motifs\n",
    "motifs = set()\n",
    "for vocab_pair in loop_type_df.index.values:\n",
    "    v1, v2 = vocab_pair.split('::')\n",
    "    motifs.add(v1)\n",
    "    motifs.add(v2)\n",
    "motifs = sorted(motifs)\n",
    "print(len(motifs))\n",
    "\n",
    "# 2. initialize counts\n",
    "motif_counts_dict = {}\n",
    "for motif in motifs:\n",
    "    motif_counts_dict[motif] = {'pro_pro_count':0,'loop_loop_count':0,'pro_loop_count':0} #list of counts for pro_pro_count, loop_loop_count, pro_loop_count, respectively\n",
    "    \n",
    "# 3. run through loop_type_df to fill in motif_counts_dict\n",
    "for vocab_pair, row in loop_type_df.iterrows():\n",
    "    v1, v2 = vocab_pair.split('::')\n",
    "    motif_counts_dict[v1]['pro_pro_count'] +=row['pro_pro_count']\n",
    "    motif_counts_dict[v2]['pro_pro_count'] +=row['pro_pro_count']\n",
    "    motif_counts_dict[v1]['loop_loop_count'] +=row['loop_loop_count']\n",
    "    motif_counts_dict[v2]['loop_loop_count'] +=row['loop_loop_count']\n",
    "    motif_counts_dict[v1]['pro_loop_count'] +=row['pro_loop_count']\n",
    "    motif_counts_dict[v2]['pro_loop_count'] +=row['pro_loop_count']\n",
    "            \n",
    "motif_counts_df = pd.DataFrame.from_dict(motif_counts_dict,orient='index')   \n",
    "motif_counts_df_norm = motif_counts_df/motif_counts_df.sum(axis=0)\n"
   ]
  },
  {
   "cell_type": "code",
   "execution_count": 32,
   "metadata": {},
   "outputs": [],
   "source": [
    "motif_counts_df_norm_sel = motif_counts_df_norm.reset_index()[motif_counts_df_norm.reset_index()['index'].isin(TFS)]\n",
    "motif_counts_df_norm_sel.set_index('index',inplace=True)"
   ]
  },
  {
   "cell_type": "code",
   "execution_count": 33,
   "metadata": {},
   "outputs": [
    {
     "data": {
      "text/html": [
       "<div>\n",
       "<style scoped>\n",
       "    .dataframe tbody tr th:only-of-type {\n",
       "        vertical-align: middle;\n",
       "    }\n",
       "\n",
       "    .dataframe tbody tr th {\n",
       "        vertical-align: top;\n",
       "    }\n",
       "\n",
       "    .dataframe thead th {\n",
       "        text-align: right;\n",
       "    }\n",
       "</style>\n",
       "<table border=\"1\" class=\"dataframe\">\n",
       "  <thead>\n",
       "    <tr style=\"text-align: right;\">\n",
       "      <th></th>\n",
       "      <th>pro_pro_count</th>\n",
       "      <th>loop_loop_count</th>\n",
       "      <th>pro_loop_count</th>\n",
       "    </tr>\n",
       "  </thead>\n",
       "  <tbody>\n",
       "    <tr>\n",
       "      <td>ARID3A</td>\n",
       "      <td>0.446730</td>\n",
       "      <td>0.352034</td>\n",
       "      <td>0.201236</td>\n",
       "    </tr>\n",
       "    <tr>\n",
       "      <td>ARID5B</td>\n",
       "      <td>0.375987</td>\n",
       "      <td>0.230232</td>\n",
       "      <td>0.393781</td>\n",
       "    </tr>\n",
       "    <tr>\n",
       "      <td>ATF2</td>\n",
       "      <td>0.477343</td>\n",
       "      <td>0.224929</td>\n",
       "      <td>0.297728</td>\n",
       "    </tr>\n",
       "    <tr>\n",
       "      <td>ATF4</td>\n",
       "      <td>0.389931</td>\n",
       "      <td>0.293900</td>\n",
       "      <td>0.316169</td>\n",
       "    </tr>\n",
       "    <tr>\n",
       "      <td>ATF7</td>\n",
       "      <td>0.399362</td>\n",
       "      <td>0.254420</td>\n",
       "      <td>0.346218</td>\n",
       "    </tr>\n",
       "    <tr>\n",
       "      <td>...</td>\n",
       "      <td>...</td>\n",
       "      <td>...</td>\n",
       "      <td>...</td>\n",
       "    </tr>\n",
       "    <tr>\n",
       "      <td>ZNF554</td>\n",
       "      <td>0.276371</td>\n",
       "      <td>0.430176</td>\n",
       "      <td>0.293453</td>\n",
       "    </tr>\n",
       "    <tr>\n",
       "      <td>ZNF563</td>\n",
       "      <td>0.382692</td>\n",
       "      <td>0.268220</td>\n",
       "      <td>0.349087</td>\n",
       "    </tr>\n",
       "    <tr>\n",
       "      <td>ZNF768</td>\n",
       "      <td>0.184872</td>\n",
       "      <td>0.377920</td>\n",
       "      <td>0.437209</td>\n",
       "    </tr>\n",
       "    <tr>\n",
       "      <td>ZNF816</td>\n",
       "      <td>0.307810</td>\n",
       "      <td>0.334996</td>\n",
       "      <td>0.357193</td>\n",
       "    </tr>\n",
       "    <tr>\n",
       "      <td>ZNF85</td>\n",
       "      <td>0.383048</td>\n",
       "      <td>0.314991</td>\n",
       "      <td>0.301961</td>\n",
       "    </tr>\n",
       "  </tbody>\n",
       "</table>\n",
       "<p>136 rows × 3 columns</p>\n",
       "</div>"
      ],
      "text/plain": [
       "        pro_pro_count  loop_loop_count  pro_loop_count\n",
       "ARID3A       0.446730         0.352034        0.201236\n",
       "ARID5B       0.375987         0.230232        0.393781\n",
       "ATF2         0.477343         0.224929        0.297728\n",
       "ATF4         0.389931         0.293900        0.316169\n",
       "ATF7         0.399362         0.254420        0.346218\n",
       "...               ...              ...             ...\n",
       "ZNF554       0.276371         0.430176        0.293453\n",
       "ZNF563       0.382692         0.268220        0.349087\n",
       "ZNF768       0.184872         0.377920        0.437209\n",
       "ZNF816       0.307810         0.334996        0.357193\n",
       "ZNF85        0.383048         0.314991        0.301961\n",
       "\n",
       "[136 rows x 3 columns]"
      ]
     },
     "execution_count": 33,
     "metadata": {},
     "output_type": "execute_result"
    }
   ],
   "source": [
    "motif_counts_df_norm.div(motif_counts_df_norm.sum(axis=1),axis=0)"
   ]
  },
  {
   "cell_type": "code",
   "execution_count": 34,
   "metadata": {},
   "outputs": [
    {
     "data": {
      "image/png": "[encoded data removed]",
      "text/plain": [
       "<Figure size 1440x504 with 1 Axes>"
      ]
     },
     "metadata": {},
     "output_type": "display_data"
    }
   ],
   "source": [
    "# all tfs\n",
    "ax = motif_counts_df_norm.sort_values('pro_pro_count').plot(kind='bar', stacked=True,figsize = (20,7),fontsize=9)\n",
    "ax.figure.savefig(os.path.join(save_dir, TISSUE+'_config_count_bar.pdf'))\n"
   ]
  },
  {
   "cell_type": "markdown",
   "metadata": {},
   "source": [
    "this shows the likelihood of the motif appears in a vocab pair from pro_pro, pro_loop, or loop_loop configurations, GIVEN that it does appear at all (so normalized by both the probability of the configuration type)\n",
    "\n",
    "this will show frequency of footprints being found in the looped regions "
   ]
  },
  {
   "cell_type": "code",
   "execution_count": 35,
   "metadata": {},
   "outputs": [
    {
     "data": {
      "image/png": "[encoded data removed]",
      "text/plain": [
       "<Figure size 720x504 with 1 Axes>"
      ]
     },
     "metadata": {},
     "output_type": "display_data"
    }
   ],
   "source": [
    "ax = motif_counts_df_norm_sel.sort_values('pro_pro_count').plot(kind='bar', stacked=True,figsize = (10,7),fontsize=12)\n",
    "ax.figure.savefig(os.path.join(save_dir, TISSUE+'_config_count_sel_bar.pdf'))\n"
   ]
  },
  {
   "cell_type": "markdown",
   "metadata": {},
   "source": [
    "same graph as before but only for tissue specific TFS"
   ]
  },
  {
   "cell_type": "code",
   "execution_count": 36,
   "metadata": {},
   "outputs": [
    {
     "data": {
      "image/png": "[encoded data removed]",
      "text/plain": [
       "<Figure size 1440x504 with 1 Axes>"
      ]
     },
     "metadata": {},
     "output_type": "display_data"
    }
   ],
   "source": [
    "ax = motif_counts_df_norm.div(motif_counts_df_norm.sum(axis=1),axis=0).sort_values('pro_pro_count').plot(kind='bar', stacked=True,\n",
    "                                                                                                    figsize = (20,7),fontsize=9)\n",
    "ax.figure.savefig(os.path.join(save_dir, TISSUE+'_config_count_norm_bar.pdf'))\n"
   ]
  },
  {
   "cell_type": "markdown",
   "metadata": {},
   "source": [
    "this shows the likelihood of the motif appears in a vocab pair from pro_pro, pro_loop, or loop_loop configurations, GIVEN that it does appear at all (so normalized by both the probability of the configuration type as well as by the motif frequency itself"
   ]
  },
  {
   "cell_type": "code",
   "execution_count": 37,
   "metadata": {},
   "outputs": [
    {
     "data": {
      "image/png": "[encoded data removed]",
      "text/plain": [
       "<Figure size 1440x504 with 1 Axes>"
      ]
     },
     "metadata": {},
     "output_type": "display_data"
    }
   ],
   "source": [
    "# fig,ax= plt.subplots(figsize = (20,7))\n",
    "# ax.set_xlabel('xlabel', fontsize=6)\n",
    "\n",
    "ax = motif_counts_df_norm.pro_pro_count.sort_values().plot(kind='bar',figsize = (20,7),fontsize=8)\n",
    "\n",
    "ax.figure.savefig(os.path.join(save_dir, TISSUE+'_pro_count_norm_bar.pdf'))\n"
   ]
  },
  {
   "cell_type": "markdown",
   "metadata": {},
   "source": [
    "only the promoter fractions"
   ]
  },
  {
   "cell_type": "code",
   "execution_count": 38,
   "metadata": {},
   "outputs": [
    {
     "data": {
      "image/png": "[encoded data removed]",
      "text/plain": [
       "<Figure size 720x504 with 1 Axes>"
      ]
     },
     "metadata": {},
     "output_type": "display_data"
    }
   ],
   "source": [
    "ax = motif_counts_df_norm_sel.div(motif_counts_df_norm_sel.sum(axis=1),axis=0).sort_values('pro_pro_count').plot(kind='bar', stacked=True,\n",
    "                                                                                                    figsize = (10,7),fontsize=12)\n",
    "ax.figure.savefig(os.path.join(save_dir, TISSUE+'_config_count_norm_sel_bar.pdf'))\n"
   ]
  },
  {
   "cell_type": "code",
   "execution_count": 39,
   "metadata": {},
   "outputs": [
    {
     "data": {
      "text/html": [
       "<div>\n",
       "<style scoped>\n",
       "    .dataframe tbody tr th:only-of-type {\n",
       "        vertical-align: middle;\n",
       "    }\n",
       "\n",
       "    .dataframe tbody tr th {\n",
       "        vertical-align: top;\n",
       "    }\n",
       "\n",
       "    .dataframe thead th {\n",
       "        text-align: right;\n",
       "    }\n",
       "</style>\n",
       "<table border=\"1\" class=\"dataframe\">\n",
       "  <thead>\n",
       "    <tr style=\"text-align: right;\">\n",
       "      <th></th>\n",
       "      <th>pro_pro_count</th>\n",
       "      <th>loop_loop_count</th>\n",
       "      <th>pro_loop_count</th>\n",
       "    </tr>\n",
       "  </thead>\n",
       "  <tbody>\n",
       "    <tr>\n",
       "      <td>ARID3A</td>\n",
       "      <td>0.016949</td>\n",
       "      <td>0.960452</td>\n",
       "      <td>0.022599</td>\n",
       "    </tr>\n",
       "    <tr>\n",
       "      <td>ARID5B</td>\n",
       "      <td>0.020776</td>\n",
       "      <td>0.914820</td>\n",
       "      <td>0.064404</td>\n",
       "    </tr>\n",
       "    <tr>\n",
       "      <td>ATF2</td>\n",
       "      <td>0.027225</td>\n",
       "      <td>0.922513</td>\n",
       "      <td>0.050262</td>\n",
       "    </tr>\n",
       "    <tr>\n",
       "      <td>ATF4</td>\n",
       "      <td>0.017361</td>\n",
       "      <td>0.940972</td>\n",
       "      <td>0.041667</td>\n",
       "    </tr>\n",
       "    <tr>\n",
       "      <td>ATF7</td>\n",
       "      <td>0.020252</td>\n",
       "      <td>0.927780</td>\n",
       "      <td>0.051968</td>\n",
       "    </tr>\n",
       "    <tr>\n",
       "      <td>...</td>\n",
       "      <td>...</td>\n",
       "      <td>...</td>\n",
       "      <td>...</td>\n",
       "    </tr>\n",
       "    <tr>\n",
       "      <td>ZNF554</td>\n",
       "      <td>0.008615</td>\n",
       "      <td>0.964308</td>\n",
       "      <td>0.027077</td>\n",
       "    </tr>\n",
       "    <tr>\n",
       "      <td>ZNF563</td>\n",
       "      <td>0.018484</td>\n",
       "      <td>0.931608</td>\n",
       "      <td>0.049908</td>\n",
       "    </tr>\n",
       "    <tr>\n",
       "      <td>ZNF768</td>\n",
       "      <td>0.006452</td>\n",
       "      <td>0.948387</td>\n",
       "      <td>0.045161</td>\n",
       "    </tr>\n",
       "    <tr>\n",
       "      <td>ZNF816</td>\n",
       "      <td>0.012093</td>\n",
       "      <td>0.946372</td>\n",
       "      <td>0.041535</td>\n",
       "    </tr>\n",
       "    <tr>\n",
       "      <td>ZNF85</td>\n",
       "      <td>0.016009</td>\n",
       "      <td>0.946638</td>\n",
       "      <td>0.037353</td>\n",
       "    </tr>\n",
       "  </tbody>\n",
       "</table>\n",
       "<p>136 rows × 3 columns</p>\n",
       "</div>"
      ],
      "text/plain": [
       "        pro_pro_count  loop_loop_count  pro_loop_count\n",
       "ARID3A       0.016949         0.960452        0.022599\n",
       "ARID5B       0.020776         0.914820        0.064404\n",
       "ATF2         0.027225         0.922513        0.050262\n",
       "ATF4         0.017361         0.940972        0.041667\n",
       "ATF7         0.020252         0.927780        0.051968\n",
       "...               ...              ...             ...\n",
       "ZNF554       0.008615         0.964308        0.027077\n",
       "ZNF563       0.018484         0.931608        0.049908\n",
       "ZNF768       0.006452         0.948387        0.045161\n",
       "ZNF816       0.012093         0.946372        0.041535\n",
       "ZNF85        0.016009         0.946638        0.037353\n",
       "\n",
       "[136 rows x 3 columns]"
      ]
     },
     "execution_count": 39,
     "metadata": {},
     "output_type": "execute_result"
    }
   ],
   "source": [
    "motif_counts_df.div(motif_counts_df.sum(axis=1),axis=0)"
   ]
  },
  {
   "cell_type": "markdown",
   "metadata": {},
   "source": [
    "# 2. Vocabulary genomic instances - setup\n",
    "\n",
    "\n",
    "## 2A. find the locations"
   ]
  },
  {
   "cell_type": "code",
   "execution_count": 40,
   "metadata": {},
   "outputs": [],
   "source": [
    "# sorted(glob.glob('../data/processed/fig4_modelling/tf_tf_pairs_stability/'+'*vocab*'))"
   ]
  },
  {
   "cell_type": "code",
   "execution_count": 41,
   "metadata": {},
   "outputs": [
    {
     "data": {
      "text/plain": [
       "['../data/processed/fig4_modelling/tf_tf_pairs/expr_Airway_loop_loop_vocab_info.csv',\n",
       " '../data/processed/fig4_modelling/tf_tf_pairs/expr_Airway_pro_pro_vocab_info.csv',\n",
       " '../data/processed/fig4_modelling/tf_tf_pairs/expr_Astrocytes_loop_loop_vocab_info.csv',\n",
       " '../data/processed/fig4_modelling/tf_tf_pairs/expr_Astrocytes_pro_pro_vocab_info.csv',\n",
       " '../data/processed/fig4_modelling/tf_tf_pairs/expr_Bladder_loop_loop_vocab_info.csv',\n",
       " '../data/processed/fig4_modelling/tf_tf_pairs/expr_Bladder_pro_pro_vocab_info.csv',\n",
       " '../data/processed/fig4_modelling/tf_tf_pairs/expr_Colon_loop_loop_vocab_info.csv',\n",
       " '../data/processed/fig4_modelling/tf_tf_pairs/expr_Colon_pro_pro_vocab_info.csv',\n",
       " '../data/processed/fig4_modelling/tf_tf_pairs/expr_Esophageal_loop_loop_vocab_info.csv',\n",
       " '../data/processed/fig4_modelling/tf_tf_pairs/expr_Esophageal_pro_pro_vocab_info.csv',\n",
       " '../data/processed/fig4_modelling/tf_tf_pairs/expr_GDSD0_loop_loop_vocab_info.csv',\n",
       " '../data/processed/fig4_modelling/tf_tf_pairs/expr_GDSD0_pro_pro_vocab_info.csv',\n",
       " '../data/processed/fig4_modelling/tf_tf_pairs/expr_GDSD6_loop_loop_vocab_info.csv',\n",
       " '../data/processed/fig4_modelling/tf_tf_pairs/expr_GDSD6_pro_pro_vocab_info.csv',\n",
       " '../data/processed/fig4_modelling/tf_tf_pairs/expr_GM12878_loop_loop_vocab_info.csv',\n",
       " '../data/processed/fig4_modelling/tf_tf_pairs/expr_GM12878_pro_pro_vocab_info.csv',\n",
       " '../data/processed/fig4_modelling/tf_tf_pairs/expr_HMEC_loop_loop_vocab_info.csv',\n",
       " '../data/processed/fig4_modelling/tf_tf_pairs/expr_HMEC_pro_pro_vocab_info.csv',\n",
       " '../data/processed/fig4_modelling/tf_tf_pairs/expr_Melanocytes_loop_loop_vocab_info.csv',\n",
       " '../data/processed/fig4_modelling/tf_tf_pairs/expr_Melanocytes_pro_pro_vocab_info.csv',\n",
       " '../data/processed/fig4_modelling/tf_tf_pairs/expr_Ovarian_loop_loop_vocab_info.csv',\n",
       " '../data/processed/fig4_modelling/tf_tf_pairs/expr_Ovarian_pro_pro_vocab_info.csv',\n",
       " '../data/processed/fig4_modelling/tf_tf_pairs/expr_Pancreas_loop_loop_vocab_info.csv',\n",
       " '../data/processed/fig4_modelling/tf_tf_pairs/expr_Pancreas_pro_pro_vocab_info.csv',\n",
       " '../data/processed/fig4_modelling/tf_tf_pairs/expr_Prostate_loop_loop_vocab_info.csv',\n",
       " '../data/processed/fig4_modelling/tf_tf_pairs/expr_Prostate_pro_pro_vocab_info.csv',\n",
       " '../data/processed/fig4_modelling/tf_tf_pairs/expr_Renal_loop_loop_vocab_info.csv',\n",
       " '../data/processed/fig4_modelling/tf_tf_pairs/expr_Renal_pro_pro_vocab_info.csv',\n",
       " '../data/processed/fig4_modelling/tf_tf_pairs/expr_Thyroid_loop_loop_vocab_info.csv',\n",
       " '../data/processed/fig4_modelling/tf_tf_pairs/expr_Thyroid_pro_pro_vocab_info.csv',\n",
       " '../data/processed/fig4_modelling/tf_tf_pairs/expr_Uterine_loop_loop_vocab_info.csv',\n",
       " '../data/processed/fig4_modelling/tf_tf_pairs/expr_Uterine_pro_pro_vocab_info.csv',\n",
       " '../data/processed/fig4_modelling/tf_tf_pairs/unique_alltissue_loop_loop_vocab_info.csv',\n",
       " '../data/processed/fig4_modelling/tf_tf_pairs/unique_alltissue_pro_loop_vocab_info.csv',\n",
       " '../data/processed/fig4_modelling/tf_tf_pairs/unique_alltissue_pro_pro_vocab_info.csv',\n",
       " '../data/processed/fig4_modelling/tf_tf_pairs/unique_alltissue_vocab_info.csv',\n",
       " '../data/processed/fig4_modelling/tf_tf_pairs/unique_alltissue_vocab_info.xlsx']"
      ]
     },
     "execution_count": 41,
     "metadata": {},
     "output_type": "execute_result"
    }
   ],
   "source": [
    "sorted(glob.glob(vocab_dir+'*vocab*'))"
   ]
  },
  {
   "cell_type": "markdown",
   "metadata": {},
   "source": [
    "## 2B helper functions"
   ]
  },
  {
   "cell_type": "code",
   "execution_count": 42,
   "metadata": {},
   "outputs": [],
   "source": [
    "def get_other_vocab_word(row, next_row):\n",
    "    if row['vocab']!=next_row['vocab']:\n",
    "        return False\n",
    "    \n",
    "    vocab_word = set(row['tf'])\n",
    "    vocab_set = set(row['vocab'].split('::'))\n",
    "    other_vocab = list(vocab_set -  vocab_word)[0]\n",
    "    return other_vocab == next_row['tf']\n",
    "\n",
    "def check_distance(row,next_row,max_dist=MAX_DIST):\n",
    "    if row['chr_m']==next_row['chr_m']:\n",
    "        if row['stop_m']<next_row['start_m']:\n",
    "            tot_dist = next_row['stop_m'] - row['start_m']\n",
    "            btn_dist = next_row['start_m'] - row['stop_m']\n",
    "            return (tot_dist < max_dist), tot_dist, btn_dist\n",
    "    return False,-1,-1\n",
    "\n",
    "def check_tissue(row,next_row,tfs=TFS):\n",
    "    if (row['tf'] in tfs) & (next_row['tf'] in tfs):\n",
    "        return 'both'\n",
    "    elif (row['tf'] in tfs) | (next_row['tf'] in tfs):\n",
    "        return 'one'    \n",
    "    else:\n",
    "        return 'none'\n",
    "    \n",
    "def get_hits(vocab_file,tfs=TFS):\n",
    "    print('**** reading', vocab_file)\n",
    "    vocab_df = pd.read_csv(vocab_file)\n",
    "    print(vocab_df.shape)\n",
    "    idx = 0\n",
    "    idx_hits = 0\n",
    "    results_dict = {}\n",
    "    while idx < (vocab_df.shape[0]-1):\n",
    "        # look at next \n",
    "        row = vocab_df.iloc[idx,:]\n",
    "        next_row = vocab_df.iloc[idx+1,:]\n",
    "\n",
    "        check_vocab_pair = get_other_vocab_word(row,next_row)\n",
    "        check_dist,tot_dist, btn_dist = check_distance(row, next_row)\n",
    "        check_tissue_tf = check_tissue(row,next_row,tfs)\n",
    "        if (check_dist and check_vocab_pair):\n",
    "    #         print('hi',idx)\n",
    "    #         print(row)\n",
    "    #         print(next_row)\n",
    "\n",
    "            results_dict[idx_hits] = {'vocab_pair':row['vocab'],'tot_dist':tot_dist,'btn_dist':btn_dist,\n",
    "                                      'chr':row['chr'],'start':row['start_m'],'stop':next_row['stop_m'], \n",
    "                                      'vocab1':row['tf'],'vocab1_start':row['start_m'], 'vocab1_stop': row['stop_m'],\n",
    "                                      'vocab2':next_row['tf'],'vocab2_start':next_row['start_m'], 'vocab2_stop': next_row['stop_m'],\n",
    "                                      'genes':row['genes'],'num_genes':len(row['genes'].split('|')), 'tissue':row['tissue'],\n",
    "                                     'check_tissuetf':check_tissue_tf}\n",
    "            idx_hits+=1\n",
    "\n",
    "        idx+=1\n",
    "    print('num_hits',idx_hits)\n",
    "    results_df = pd.DataFrame.from_dict(results_dict, orient='index')\n",
    "    return results_df\n",
    "    \n",
    "def filter_results(results_df,min_hits_per_vocab=10):\n",
    "    print('shape', results_df.shape)\n",
    "    vocab_counts = results_df.vocab_pair.value_counts()\n",
    "    print('original num vocab',vocab_counts.shape[0])\n",
    "    vocab_to_include = vocab_counts[vocab_counts>min_hits_per_vocab].index.values\n",
    "    print('filt num vocab',vocab_to_include.shape[0])\n",
    "    \n",
    "    results_df_filt = results_df[results_df.vocab_pair.isin(vocab_to_include)]\n",
    "    return results_df_filt\n",
    "\n",
    "    "
   ]
  },
  {
   "cell_type": "markdown",
   "metadata": {},
   "source": [
    "# 3. Vocabulary genomic instances - running\n",
    "\n",
    "## 3A get expression and stability for loop-loop regions"
   ]
  },
  {
   "cell_type": "code",
   "execution_count": 23,
   "metadata": {},
   "outputs": [],
   "source": [
    "# ###TESTING PURPOSES\n",
    "# vocab_df = pd.read_csv('../data/processed/fig4_modelling/tf_tf_pairs/expr_GDSD6_pro_pro_vocab_info.csv')\n",
    "# print(vocab_df.shape)\n",
    "# vocab_df[:5]"
   ]
  },
  {
   "cell_type": "code",
   "execution_count": 43,
   "metadata": {},
   "outputs": [
    {
     "name": "stdout",
     "output_type": "stream",
     "text": [
      "**** reading ../data/processed/fig4_modelling/tf_tf_pairs/expr_GDSD0_pro_pro_vocab_info.csv\n",
      "(6252, 15)\n",
      "num_hits 1061\n",
      "CPU times: user 2.44 s, sys: 6.5 ms, total: 2.45 s\n",
      "Wall time: 2.45 s\n"
     ]
    }
   ],
   "source": [
    "%%time\n",
    "# filtered so that at least 10 genomic instances of vocab pair in significantly found in expressed genes \n",
    "results_expr_pro_pro = get_hits('../data/processed/fig4_modelling/tf_tf_pairs/expr_'+TISSUE+'_pro_pro_vocab_info.csv')\n",
    "\n"
   ]
  },
  {
   "cell_type": "code",
   "execution_count": 44,
   "metadata": {},
   "outputs": [
    {
     "name": "stdout",
     "output_type": "stream",
     "text": [
      "**** reading ../data/processed/fig4_modelling/tf_tf_pairs/expr_GDSD0_loop_loop_vocab_info.csv\n",
      "(39851, 15)\n",
      "num_hits 4973\n",
      "CPU times: user 16.2 s, sys: 60.8 ms, total: 16.2 s\n",
      "Wall time: 16.3 s\n"
     ]
    }
   ],
   "source": [
    "%%time\n",
    "### TAKES AWHILE\n",
    "results_expr_loop_loop = get_hits('../data/processed/fig4_modelling/tf_tf_pairs/expr_'+TISSUE+'_loop_loop_vocab_info.csv')\n"
   ]
  },
  {
   "cell_type": "markdown",
   "metadata": {},
   "source": [
    "## 3B raw statistics (pre genomic instance filter)"
   ]
  },
  {
   "cell_type": "code",
   "execution_count": 45,
   "metadata": {},
   "outputs": [
    {
     "name": "stdout",
     "output_type": "stream",
     "text": [
      "num motifs in pro_pro 111\n",
      "['ARID3A', 'ARID5B', 'ATF2', 'ATF7', 'BACH2', 'BARX2', 'BCL11A', 'BCL6', 'BHLHE41', 'CREB5', 'DDIT3', 'DLX1', 'DLX2', 'DLX3', 'E2F8', 'EPAS1', 'ESRRA', 'ETV1', 'ETV3', 'FOS', 'FOSB', 'FOSL1', 'FOSL2', 'FOXJ2', 'GATA3', 'GMEB2', 'HBP1', 'HES7', 'HINFP', 'HLTF', 'HMBOX1', 'HMGA1', 'HOXA10', 'HOXC10', 'HOXC11', 'HOXC13', 'HOXC6', 'HOXC8', 'HOXC9', 'IRX3', 'JDP2', 'JUN', 'JUNB', 'JUND', 'KLF4', 'KLF9', 'LEF1', 'MAFF', 'MAFG', 'MAFK', 'MECOM', 'MEF2D', 'MITF', 'MXI1', 'MYBL2', 'NFATC1', 'NFATC4', 'NFE2L1', 'NFE2L2', 'NFIA', 'NFIB', 'NFIC', 'NR3C1', 'OSR2', 'OTX1', 'OVOL1', 'PBX1', 'PITX2', 'PLAG1', 'POU2F1', 'POU2F2', 'POU3F1', 'RFX2', 'RFX3', 'RFX5', 'SNAI2', 'SOX11', 'SOX13', 'SREBF1', 'SREBF2', 'STAT6', 'TBX3', 'TCF4', 'TEAD1', 'TEF', 'TP53', 'TP63', 'UBP1', 'ZBTB49', 'ZBTB6', 'ZBTB7B', 'ZFHX3', 'ZFP28', 'ZFP42', 'ZNF143', 'ZNF18', 'ZNF232', 'ZNF250', 'ZNF274', 'ZNF329', 'ZNF354A', 'ZNF394', 'ZNF41', 'ZNF449', 'ZNF467', 'ZNF502', 'ZNF554', 'ZNF563', 'ZNF768', 'ZNF816', 'ZNF85']\n",
      "num motifs in loop_loop 125\n",
      "['ARID3A', 'ARID5B', 'ATF2', 'ATF4', 'ATF7', 'BACH2', 'BARX2', 'BCL11A', 'BCL6', 'BHLHE41', 'CEBPG', 'CREB5', 'DDIT3', 'DLX1', 'DLX2', 'DLX3', 'E2F8', 'EPAS1', 'ESRRA', 'ETV1', 'ETV3', 'FOS', 'FOSB', 'FOSL1', 'FOSL2', 'FOXA2', 'FOXD1', 'FOXJ2', 'GATA3', 'GLI3', 'GMEB2', 'GRHL2', 'HBP1', 'HES7', 'HINFP', 'HLTF', 'HMBOX1', 'HMGA1', 'HOXA10', 'HOXC10', 'HOXC11', 'HOXC13', 'HOXC6', 'HOXC8', 'HOXC9', 'HOXD8', 'IRX3', 'ISL1', 'JDP2', 'JUN', 'JUNB', 'JUND', 'KLF4', 'KLF9', 'LEF1', 'MAFF', 'MAFG', 'MAFK', 'MECOM', 'MEF2D', 'MITF', 'MXI1', 'MYBL2', 'NFATC1', 'NFATC4', 'NFE2L1', 'NFE2L2', 'NFIA', 'NFIB', 'NFIC', 'NFIL3', 'NR3C1', 'OSR2', 'OTX1', 'OVOL1', 'PBX1', 'PITX2', 'PLAG1', 'POU2F1', 'POU2F2', 'POU3F1', 'PRDM1', 'RARG', 'RFX2', 'RFX3', 'RFX5', 'RREB1', 'SNAI2', 'SOX11', 'SOX13', 'SREBF1', 'SREBF2', 'STAT6', 'TBX3', 'TCF4', 'TEAD1', 'TEF', 'TP53', 'TP63', 'UBP1', 'ZBTB49', 'ZBTB6', 'ZBTB7B', 'ZFHX3', 'ZFP28', 'ZFP42', 'ZNF134', 'ZNF143', 'ZNF18', 'ZNF232', 'ZNF250', 'ZNF274', 'ZNF329', 'ZNF354A', 'ZNF394', 'ZNF41', 'ZNF436', 'ZNF449', 'ZNF467', 'ZNF502', 'ZNF554', 'ZNF563', 'ZNF768', 'ZNF816', 'ZNF85']\n"
     ]
    }
   ],
   "source": [
    "motifs_pro_pro = sorted(set(list(results_expr_pro_pro.vocab1.unique())+list(results_expr_pro_pro.vocab2.unique())))\n",
    "print('num motifs in pro_pro', len(motifs_pro_pro))\n",
    "print(motifs_pro_pro)\n",
    "\n",
    "\n",
    "motifs_loop_loop = sorted(set(list(results_expr_loop_loop.vocab1.unique())+list(results_expr_loop_loop.vocab2.unique())))\n",
    "print('num motifs in loop_loop', len(motifs_loop_loop))\n",
    "print(motifs_loop_loop)"
   ]
  },
  {
   "cell_type": "code",
   "execution_count": 46,
   "metadata": {},
   "outputs": [
    {
     "name": "stdout",
     "output_type": "stream",
     "text": [
      "pre genomic instance filter\n",
      "num vocab in expression enrichment (pro-pro region):  292\n",
      "num vocab in expression enrichment (loop-loop region):  565\n"
     ]
    }
   ],
   "source": [
    "print('pre genomic instance filter')\n",
    "print('num vocab in expression enrichment (pro-pro region): ', results_expr_pro_pro.vocab_pair.unique().shape[0])\n",
    "# print('num vocab in expression enrichment intersected with stability (pro-pro region): ', results_stability_pro_pro.vocab_pair.unique().shape[0])\n",
    "# print(results_stability_pro_pro.vocab_pair.unique())\n",
    "print('num vocab in expression enrichment (loop-loop region): ', results_expr_loop_loop.vocab_pair.unique().shape[0])\n",
    "# print('num vocab in expression enrichment intersected with stability (loop-loop region): ', results_stability_loop_loop.vocab_pair.unique().shape[0])\n",
    "# print(results_stability_loop_loop.vocab_pair.unique())\n"
   ]
  },
  {
   "cell_type": "markdown",
   "metadata": {},
   "source": [
    "## 3C. filter expression enriched vocab words if then have at least 10 genomic instances then get stats"
   ]
  },
  {
   "cell_type": "code",
   "execution_count": 47,
   "metadata": {},
   "outputs": [
    {
     "name": "stdout",
     "output_type": "stream",
     "text": [
      "shape (1061, 16)\n",
      "original num vocab 292\n",
      "filt num vocab 20\n"
     ]
    }
   ],
   "source": [
    "results_expr_pro_pro = filter_results(results_expr_pro_pro,min_hits_per_vocab=10)\n",
    "# print(results_expr_pro_pro.vocab_pair.unique().shape)\n",
    "# results_expr_pro_pro.vocab_pair.unique()"
   ]
  },
  {
   "cell_type": "code",
   "execution_count": 48,
   "metadata": {},
   "outputs": [
    {
     "name": "stdout",
     "output_type": "stream",
     "text": [
      "shape (4973, 16)\n",
      "original num vocab 565\n",
      "filt num vocab 69\n"
     ]
    }
   ],
   "source": [
    "results_expr_loop_loop = filter_results(results_expr_loop_loop,min_hits_per_vocab=10)\n",
    "# print(results_expr_loop_loop.vocab_pair.unique().shape)\n",
    "# results_expr_loop_loop.vocab_pair.unique()"
   ]
  },
  {
   "cell_type": "code",
   "execution_count": 49,
   "metadata": {},
   "outputs": [],
   "source": [
    "# results_stability_pro_pro = filter_results(results_stability_pro_pro,min_hits_per_vocab=10)\n",
    "# results_stability_loop_loop = filter_results(results_stability_loop_loop,min_hits_per_vocab=10)\n"
   ]
  },
  {
   "cell_type": "code",
   "execution_count": 51,
   "metadata": {},
   "outputs": [
    {
     "name": "stdout",
     "output_type": "stream",
     "text": [
      "post genomic instance filter\n",
      "num vocab in expression enrichment (pro-pro region):  20\n",
      "['ARID5B::RFX5' 'ARID5B::SOX11' 'CREB5::SOX13' 'GMEB2::NFATC4'\n",
      " 'GMEB2::ZNF467' 'KLF4::ZNF41' 'LEF1::SOX13' 'MYBL2::ZNF467'\n",
      " 'NFATC4::STAT6' 'NFIA::SOX11' 'NFIC::ZNF816' 'RFX5::SOX13' 'RFX5::UBP1'\n",
      " 'RFX5::ZNF467' 'SOX13::SREBF2' 'SOX13::TEF' 'SOX13::ZNF449' 'TEF::UBP1'\n",
      " 'UBP1::ZNF449' 'ZNF449::ZNF467']\n",
      "num vocab in expression enrichment (loop-loop region):  69\n",
      "['ARID5B::RFX5' 'ARID5B::SOX11' 'ARID5B::ZNF449' 'ATF7::SOX13'\n",
      " 'BARX2::LEF1' 'BARX2::ZNF394' 'CREB5::SOX13' 'FOS::ZNF449'\n",
      " 'FOSL2::ZNF449' 'FOXJ2::ZNF467' 'GMEB2::KLF9' 'GMEB2::NFATC4'\n",
      " 'GMEB2::PLAG1' 'GMEB2::ZNF467' 'HINFP::NFATC4' 'HINFP::SOX13'\n",
      " 'HINFP::UBP1' 'HLTF::PLAG1' 'HMGA1::RFX5' 'HMGA1::TEF' 'HMGA1::ZNF449'\n",
      " 'KLF4::LEF1' 'KLF4::ZNF41' 'KLF4::ZNF449' 'KLF9::MEF2D' 'KLF9::SREBF1'\n",
      " 'KLF9::STAT6' 'KLF9::ZNF274' 'LEF1::SOX13' 'MECOM::NFATC4'\n",
      " 'MEF2D::ZNF467' 'MITF::ZNF467' 'MXI1::NFATC4' 'MYBL2::RFX5'\n",
      " 'MYBL2::ZNF449' 'MYBL2::ZNF467' 'MYBL2::ZNF554' 'NFATC4::SREBF1'\n",
      " 'NFATC4::STAT6' 'NFATC4::TEF' 'NFATC4::ZNF274' 'NFE2L1::ZNF449'\n",
      " 'NFIA::ZNF449' 'NFIC::OTX1' 'NFIC::RFX5' 'NFIC::ZNF41' 'NFIC::ZNF449'\n",
      " 'NFIC::ZNF816' 'OTX1::ZNF467' 'PLAG1::SREBF1' 'PLAG1::STAT6'\n",
      " 'RFX5::SOX13' 'RFX5::UBP1' 'RFX5::ZBTB49' 'RFX5::ZNF467' 'RREB1::ZNF449'\n",
      " 'SOX11::UBP1' 'SOX13::SREBF2' 'SOX13::TEF' 'SOX13::ZNF143'\n",
      " 'SOX13::ZNF449' 'SREBF2::ZNF816' 'STAT6::ZNF467' 'TEF::UBP1'\n",
      " 'UBP1::ZNF449' 'ZBTB49::ZNF449' 'ZNF143::ZNF816' 'ZNF449::ZNF467'\n",
      " 'ZNF449::ZNF563']\n"
     ]
    }
   ],
   "source": [
    "print('post genomic instance filter')\n",
    "print('num vocab in expression enrichment (pro-pro region): ', results_expr_pro_pro.vocab_pair.unique().shape[0])\n",
    "# print('num vocab in expression enrichment intersected with stability (pro-pro region): ', results_stability_pro_pro.vocab_pair.unique().shape[0])\n",
    "print(results_expr_pro_pro.vocab_pair.unique())\n",
    "print('num vocab in expression enrichment (loop-loop region): ', results_expr_loop_loop.vocab_pair.unique().shape[0])\n",
    "# print('num vocab in expression enrichment intersected with stability (loop-loop region): ', results_stability_loop_loop.vocab_pair.unique().shape[0])\n",
    "print(results_expr_loop_loop.vocab_pair.unique())\n"
   ]
  },
  {
   "cell_type": "markdown",
   "metadata": {},
   "source": [
    "## 3D filter expr vocab words based on whether there is they are annotated for skin"
   ]
  },
  {
   "cell_type": "code",
   "execution_count": 52,
   "metadata": {},
   "outputs": [
    {
     "data": {
      "text/plain": [
       "none    19\n",
       "one      3\n",
       "both     1\n",
       "Name: check_tissuetf, dtype: int64"
      ]
     },
     "execution_count": 52,
     "metadata": {},
     "output_type": "execute_result"
    }
   ],
   "source": [
    "results_expr_pro_pro[['vocab_pair','check_tissuetf']].drop_duplicates().check_tissuetf.value_counts()"
   ]
  },
  {
   "cell_type": "code",
   "execution_count": 53,
   "metadata": {},
   "outputs": [
    {
     "data": {
      "text/plain": [
       "none    61\n",
       "one     14\n",
       "both     7\n",
       "Name: check_tissuetf, dtype: int64"
      ]
     },
     "execution_count": 53,
     "metadata": {},
     "output_type": "execute_result"
    }
   ],
   "source": [
    "results_expr_loop_loop[['vocab_pair','check_tissuetf']].drop_duplicates().check_tissuetf.value_counts()"
   ]
  },
  {
   "cell_type": "markdown",
   "metadata": {},
   "source": [
    "shows fraction of vocab words having tissue specific motif configuration (`both` are tissue specific, `one` is tissue specific, or `none` are)\n",
    "\n",
    "\n",
    "MAKE SURE #s are around 40 ish so pick `one` or `both`"
   ]
  },
  {
   "cell_type": "code",
   "execution_count": 54,
   "metadata": {},
   "outputs": [
    {
     "name": "stdout",
     "output_type": "stream",
     "text": [
      "pro-pro region\n",
      "total vocab: 20 tissue annon vocab: 19\n",
      "['ARID5B::RFX5' 'ARID5B::SOX11' 'CREB5::SOX13' 'GMEB2::NFATC4'\n",
      " 'GMEB2::ZNF467' 'LEF1::SOX13' 'MYBL2::ZNF467' 'NFATC4::STAT6'\n",
      " 'NFIA::SOX11' 'NFIC::ZNF816' 'RFX5::SOX13' 'RFX5::UBP1' 'RFX5::ZNF467'\n",
      " 'SOX13::SREBF2' 'SOX13::TEF' 'SOX13::ZNF449' 'TEF::UBP1' 'UBP1::ZNF449'\n",
      " 'ZNF449::ZNF467']\n",
      "loop-loop region\n",
      "total vocab: 69 tissue annon vocab: 61\n",
      "['ARID5B::RFX5' 'ARID5B::SOX11' 'ARID5B::ZNF449' 'ATF7::SOX13'\n",
      " 'BARX2::ZNF394' 'CREB5::SOX13' 'FOXJ2::ZNF467' 'GMEB2::KLF9'\n",
      " 'GMEB2::NFATC4' 'GMEB2::PLAG1' 'GMEB2::ZNF467' 'HINFP::NFATC4'\n",
      " 'HINFP::SOX13' 'HINFP::UBP1' 'HLTF::PLAG1' 'HMGA1::RFX5' 'HMGA1::TEF'\n",
      " 'HMGA1::ZNF449' 'KLF9::MEF2D' 'KLF9::SREBF1' 'KLF9::STAT6' 'KLF9::ZNF274'\n",
      " 'LEF1::SOX13' 'MECOM::NFATC4' 'MEF2D::ZNF467' 'MITF::ZNF467'\n",
      " 'MXI1::NFATC4' 'MYBL2::RFX5' 'MYBL2::ZNF449' 'MYBL2::ZNF467'\n",
      " 'MYBL2::ZNF554' 'NFATC4::SREBF1' 'NFATC4::STAT6' 'NFATC4::TEF'\n",
      " 'NFATC4::ZNF274' 'NFE2L1::ZNF449' 'NFIA::ZNF449' 'NFIC::RFX5'\n",
      " 'NFIC::ZNF41' 'NFIC::ZNF449' 'NFIC::ZNF816' 'PLAG1::SREBF1'\n",
      " 'PLAG1::STAT6' 'RFX5::SOX13' 'RFX5::UBP1' 'RFX5::ZBTB49' 'RFX5::ZNF467'\n",
      " 'RREB1::ZNF449' 'SOX11::UBP1' 'SOX13::SREBF2' 'SOX13::TEF'\n",
      " 'SOX13::ZNF143' 'SOX13::ZNF449' 'SREBF2::ZNF816' 'STAT6::ZNF467'\n",
      " 'TEF::UBP1' 'UBP1::ZNF449' 'ZBTB49::ZNF449' 'ZNF143::ZNF816'\n",
      " 'ZNF449::ZNF467' 'ZNF449::ZNF563']\n"
     ]
    }
   ],
   "source": [
    "filter_thres = ['none']#'both' # 'one'#'none','one',\n",
    "results_expr_pro_pro_tissue = results_expr_pro_pro[results_expr_pro_pro.check_tissuetf.isin(filter_thres)]\n",
    "print('pro-pro region')\n",
    "print('total vocab:',results_expr_pro_pro.vocab_pair.unique().shape[0],'tissue annon vocab:', results_expr_pro_pro_tissue.vocab_pair.unique().shape[0])\n",
    "print(results_expr_pro_pro_tissue.vocab_pair.unique())\n",
    "\n",
    "results_expr_loop_loop_tissue = results_expr_loop_loop[results_expr_loop_loop.check_tissuetf.isin(filter_thres)]\n",
    "print('loop-loop region')\n",
    "print('total vocab:',results_expr_loop_loop.vocab_pair.unique().shape[0],'tissue annon vocab:', results_expr_loop_loop_tissue.vocab_pair.unique().shape[0])\n",
    "print(results_expr_loop_loop_tissue.vocab_pair.unique())"
   ]
  },
  {
   "cell_type": "markdown",
   "metadata": {},
   "source": [
    "## 3E add in stability scores vocab pairs that pass the genomic instance filter and get genomic instance counts"
   ]
  },
  {
   "cell_type": "code",
   "execution_count": 55,
   "metadata": {},
   "outputs": [],
   "source": [
    "def get_counts(results_df, label):\n",
    "    counts_df = pd.DataFrame(results_df.vocab_pair.value_counts())\n",
    "    counts_df.columns = ['num_instance']\n",
    "    counts_df['label']=label\n",
    "    return counts_df"
   ]
  },
  {
   "cell_type": "code",
   "execution_count": 57,
   "metadata": {},
   "outputs": [
    {
     "data": {
      "text/plain": [
       "expr_loop_tissue                    43\n",
       "expr_pro_tissue|expr_loop_tissue    18\n",
       "expr_pro_tissue                      1\n",
       "Name: label, dtype: int64"
      ]
     },
     "execution_count": 57,
     "metadata": {},
     "output_type": "execute_result"
    }
   ],
   "source": [
    "vocab_summary_df = pd.concat([# get_counts(results_stability_pro_pro, 'stability_pro'),\n",
    "            get_counts(results_expr_pro_pro_tissue, 'expr_pro_tissue'),\n",
    "#             get_counts(results_stability_loop_loop, 'stability_loop'),\n",
    "            get_counts(results_expr_loop_loop_tissue, 'expr_loop_tissue')],axis=0)\n",
    "vocab_summary_df.index.set_names('vocab',inplace=True)\n",
    "vocab_summary_df.reset_index(inplace=True)\n",
    "vocab_summary_df = vocab_summary_df.groupby('vocab').agg({'num_instance':sum, 'label':'|'.join}).reset_index()\n",
    "vocab_summary_df['tissue']=TISSUE\n",
    "vocab_summary_df.label.value_counts()\n",
    "# results_stability_loop_loop.vocab_pair.unique()"
   ]
  },
  {
   "cell_type": "code",
   "execution_count": null,
   "metadata": {},
   "outputs": [],
   "source": []
  },
  {
   "cell_type": "code",
   "execution_count": 58,
   "metadata": {},
   "outputs": [],
   "source": [
    "vocab_summary_df.to_csv(os.path.join(save_dir, TISSUE+'_vocab_summary.csv'))"
   ]
  },
  {
   "cell_type": "code",
   "execution_count": null,
   "metadata": {},
   "outputs": [],
   "source": []
  },
  {
   "cell_type": "code",
   "execution_count": null,
   "metadata": {},
   "outputs": [],
   "source": []
  }
 ],
 "metadata": {
  "kernelspec": {
   "display_name": "Python 3",
   "language": "python",
   "name": "python3"
  },
  "language_info": {
   "codemirror_mode": {
    "name": "ipython",
    "version": 3
   },
   "file_extension": ".py",
   "mimetype": "text/x-python",
   "name": "python",
   "nbconvert_exporter": "python",
   "pygments_lexer": "ipython3",
   "version": "3.7.4"
  }
 },
 "nbformat": 4,
 "nbformat_minor": 4
}
