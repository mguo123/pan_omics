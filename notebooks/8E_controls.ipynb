{
 "cells": [
  {
   "cell_type": "markdown",
   "metadata": {},
   "source": [
    "# 8F_controls\n",
    "\n",
    "08/25/2020\n",
    "- positive controls = common loops, common ATAC, and expressed genes across all types\n",
    "- negative controls = no loop, no ATAC, no expression across all cell types \n",
    "\n",
    "\n",
    "\n",
    "\n",
    "\n"
   ]
  },
  {
   "cell_type": "code",
   "execution_count": 59,
   "metadata": {},
   "outputs": [],
   "source": [
    "from collections import Counter, defaultdict\n",
    "import pandas as pd\n",
    "import numpy as np; np.random.seed(0)\n",
    "import os, glob\n",
    "import seaborn as sns; sns.set()\n",
    "import matplotlib\n",
    "import matplotlib.pyplot as plt\n",
    "import pybedtools\n",
    "from scipy.stats import ttest_ind"
   ]
  },
  {
   "cell_type": "code",
   "execution_count": 2,
   "metadata": {},
   "outputs": [],
   "source": [
    "%load_ext autoreload\n",
    "%autoreload 2"
   ]
  },
  {
   "cell_type": "code",
   "execution_count": 3,
   "metadata": {},
   "outputs": [],
   "source": [
    "save_dir = '../data/processed/fig4_modelling/vocab_sum_final/'\n",
    "if not os.path.exists(save_dir):\n",
    "    os.makedirs(save_dir)"
   ]
  },
  {
   "cell_type": "code",
   "execution_count": 4,
   "metadata": {},
   "outputs": [],
   "source": [
    "data_all = pd.read_csv('/Users/mguo123/Google Drive/1_khavari/omics_project-LD/pan_omics/data/processed/tissue_crms/all_count_sep_overall.csv',index_col=0,header=0)\n"
   ]
  },
  {
   "cell_type": "code",
   "execution_count": 5,
   "metadata": {},
   "outputs": [
    {
     "name": "stdout",
     "output_type": "stream",
     "text": [
      "32\n"
     ]
    },
    {
     "data": {
      "text/plain": [
       "array(['A431-CTRLi', 'A431-p63i', 'Airway', 'Astrocytes', 'Bladder',\n",
       "       'CAL27-CTRLi', 'CAL27-p63i', 'COLO_SCR_DMSO', 'COLO_SCR_PLX',\n",
       "       'COLO_shMITF_DMSO', 'COLO_shMITF_PLX', 'Colon', 'D0-CTRLi',\n",
       "       'D0-p63i', 'D3-CTRLi', 'D3-p63i', 'Esophageal', 'GDSD0', 'GDSD3',\n",
       "       'GDSD6', 'GM12878', 'HMEC', 'Melanocytes', 'Ovarian', 'Pancreas',\n",
       "       'Prostate', 'Renal', 'SCC13-CTRLi', 'SCC13-p63i', 'Thyroid',\n",
       "       'Uterine', 'WM_SCR_DMSO'], dtype=object)"
      ]
     },
     "execution_count": 5,
     "metadata": {},
     "output_type": "execute_result"
    }
   ],
   "source": [
    "print(len(data_all.tissue.unique()))\n",
    "data_all.tissue.unique()"
   ]
  },
  {
   "cell_type": "code",
   "execution_count": 7,
   "metadata": {},
   "outputs": [],
   "source": [
    "# # expression labels\n",
    "# exp_label = list(np.log10(data_all.exp.values+1e-2))\n",
    "# labels_all  = np.array(np.array(exp_label)>THRES)\n",
    "\n",
    "# tissues_label  = data_all.tissue.values#np.array((data_all.exp>THRES).values)\n",
    "\n",
    "# genes_all = data_all.index.values\n"
   ]
  },
  {
   "cell_type": "markdown",
   "metadata": {},
   "source": [
    "# negative controls\n",
    "no loop, no ATAC, no expression across all cell types for negative controls\n",
    "\n",
    "for the negative controls, narrow down the list by loci that don’t have an ATAC peak within a certain distance: Like 100 KB or some such? I\n",
    "\n",
    "make sure actually in a gene desert or region of inaccessible chromatin so really should be “off” / negative\n"
   ]
  },
  {
   "cell_type": "code",
   "execution_count": 20,
   "metadata": {},
   "outputs": [],
   "source": [
    "NEG_DIST_MIN = 25000 # for negative control, gene must by at least 10kb away from closest atac peak"
   ]
  },
  {
   "cell_type": "code",
   "execution_count": 21,
   "metadata": {},
   "outputs": [
    {
     "name": "stdout",
     "output_type": "stream",
     "text": [
      "CPU times: user 21.7 s, sys: 7.43 s, total: 29.1 s\n",
      "Wall time: 29.2 s\n"
     ]
    }
   ],
   "source": [
    "%%time\n",
    "neg_crms = data_all[data_all.iloc[:,1:].sum(axis=1)<0.001]"
   ]
  },
  {
   "cell_type": "code",
   "execution_count": 22,
   "metadata": {},
   "outputs": [
    {
     "name": "stdout",
     "output_type": "stream",
     "text": [
      "(793952, 1593)\n",
      "(227421, 1593)\n"
     ]
    }
   ],
   "source": [
    "print(data_all.shape)\n",
    "print(neg_crms.shape)"
   ]
  },
  {
   "cell_type": "code",
   "execution_count": 23,
   "metadata": {},
   "outputs": [
    {
     "data": {
      "text/plain": [
       "2502"
      ]
     },
     "execution_count": 23,
     "metadata": {},
     "output_type": "execute_result"
    }
   ],
   "source": [
    "gene_tissue_counts = pd.Series(neg_crms.index).value_counts()\n",
    "neg_genes = gene_tissue_counts[gene_tissue_counts==len(data_all.tissue.unique())].index\n",
    "len(neg_genes) # number of genes with no loop, ATAC or expression (looped or proximal)"
   ]
  },
  {
   "cell_type": "code",
   "execution_count": 24,
   "metadata": {},
   "outputs": [
    {
     "name": "stdout",
     "output_type": "stream",
     "text": [
      "(1809, 4)\n"
     ]
    }
   ],
   "source": [
    "gene_regions = pybedtools.BedTool('../data/external/gencode.v19.gene.bed').to_dataframe()\n",
    "gene_regions_neg = gene_regions[gene_regions.name.isin(neg_genes)]\n",
    "print(gene_regions_neg.shape) # # genes with genomic location\n",
    "gene_regions_neg_bed = pybedtools.BedTool.from_dataframe(gene_regions_neg).sort()"
   ]
  },
  {
   "cell_type": "code",
   "execution_count": 25,
   "metadata": {},
   "outputs": [
    {
     "name": "stdout",
     "output_type": "stream",
     "text": [
      "35\n"
     ]
    },
    {
     "data": {
      "text/plain": [
       "['../data/interim/merged/atac/A431-CTRLi_merged.bed',\n",
       " '../data/interim/merged/atac/A431-p63i_merged.bed',\n",
       " '../data/interim/merged/atac/Airway_merged.bed',\n",
       " '../data/interim/merged/atac/Astrocytes_merged.bed',\n",
       " '../data/interim/merged/atac/Bladder_merged.bed',\n",
       " '../data/interim/merged/atac/CAL27-CTRLi_merged.bed',\n",
       " '../data/interim/merged/atac/CAL27-p63i_merged.bed',\n",
       " '../data/interim/merged/atac/COLO_SCR_DMSO_merged.bed',\n",
       " '../data/interim/merged/atac/COLO_SCR_PLX_merged.bed',\n",
       " '../data/interim/merged/atac/COLO_shMITF_DMSO_merged.bed',\n",
       " '../data/interim/merged/atac/COLO_shMITF_PLX_merged.bed',\n",
       " '../data/interim/merged/atac/Colon_merged.bed',\n",
       " '../data/interim/merged/atac/D0-CTRLi_merged.bed',\n",
       " '../data/interim/merged/atac/D0-p63i_merged.bed',\n",
       " '../data/interim/merged/atac/D3-CTRLi_merged.bed',\n",
       " '../data/interim/merged/atac/D3-p63i_merged.bed',\n",
       " '../data/interim/merged/atac/D6-CTRLi_merged.bed',\n",
       " '../data/interim/merged/atac/D6-p63i_merged.bed',\n",
       " '../data/interim/merged/atac/Esophageal_merged.bed',\n",
       " '../data/interim/merged/atac/GDSD0_merged.bed',\n",
       " '../data/interim/merged/atac/GDSD3_merged.bed',\n",
       " '../data/interim/merged/atac/GDSD6_merged.bed',\n",
       " '../data/interim/merged/atac/GM12878_merged.bed',\n",
       " '../data/interim/merged/atac/HMEC_merged.bed',\n",
       " '../data/interim/merged/atac/Melanocytes_merged.bed',\n",
       " '../data/interim/merged/atac/Ovarian_merged.bed',\n",
       " '../data/interim/merged/atac/Pancreas_merged.bed',\n",
       " '../data/interim/merged/atac/Prostate_merged.bed',\n",
       " '../data/interim/merged/atac/Renal_merged.bed',\n",
       " '../data/interim/merged/atac/SCC13-CTRLi_merged.bed',\n",
       " '../data/interim/merged/atac/SCC13-p63i_merged.bed',\n",
       " '../data/interim/merged/atac/SKMEL5_SCR_DMSO_merged.bed',\n",
       " '../data/interim/merged/atac/Thyroid_merged.bed',\n",
       " '../data/interim/merged/atac/Uterine_merged.bed',\n",
       " '../data/interim/merged/atac/WM_SCR_DMSO_merged.bed']"
      ]
     },
     "execution_count": 25,
     "metadata": {},
     "output_type": "execute_result"
    }
   ],
   "source": [
    "print(len(glob.glob('../data/interim/merged/atac/*bed')))\n",
    "sorted(glob.glob('../data/interim/merged/atac/*bed'))"
   ]
  },
  {
   "cell_type": "code",
   "execution_count": 26,
   "metadata": {},
   "outputs": [
    {
     "name": "stdout",
     "output_type": "stream",
     "text": [
      "A431-CTRLi\n",
      "844\n",
      "A431-p63i\n",
      "840\n",
      "Airway\n",
      "727\n",
      "Astrocytes\n",
      "1226\n",
      "Bladder\n",
      "690\n",
      "CAL27-CTRLi\n",
      "722\n",
      "CAL27-p63i\n",
      "648\n",
      "COLO_SCR_DMSO\n",
      "646\n",
      "COLO_SCR_PLX\n",
      "663\n",
      "COLO_shMITF_DMSO\n",
      "610\n",
      "COLO_shMITF_PLX\n",
      "656\n",
      "Colon\n",
      "796\n",
      "D0-CTRLi\n",
      "993\n",
      "D0-p63i\n",
      "896\n",
      "D3-CTRLi\n",
      "925\n",
      "D3-p63i\n",
      "858\n",
      "D6-CTRLi\n",
      "1062\n",
      "D6-p63i\n",
      "1063\n",
      "Esophageal\n",
      "731\n",
      "GDSD0\n",
      "769\n",
      "GDSD3\n",
      "745\n",
      "GDSD6\n",
      "739\n",
      "GM12878\n",
      "897\n",
      "HMEC\n",
      "735\n",
      "Melanocytes\n",
      "1151\n",
      "Ovarian\n",
      "1132\n",
      "Pancreas\n",
      "731\n",
      "Prostate\n",
      "1040\n",
      "Renal\n",
      "776\n",
      "SCC13-CTRLi\n",
      "664\n",
      "SCC13-p63i\n",
      "634\n",
      "SKMEL5_SCR_DMSO\n",
      "579\n",
      "Thyroid\n",
      "801\n",
      "Uterine\n",
      "688\n",
      "WM_SCR_DMSO\n",
      "678\n",
      "CPU times: user 410 ms, sys: 361 ms, total: 770 ms\n",
      "Wall time: 4.47 s\n"
     ]
    }
   ],
   "source": [
    "%%time\n",
    "all_far_genes = []\n",
    "all_far_genes_dict = {}\n",
    "for atac_bed in sorted(glob.glob('../data/interim/merged/atac/*bed')):\n",
    "    tissue = os.path.basename(atac_bed).split('_merged')[0]\n",
    "    print(tissue)\n",
    "    gene_regions_neg_bed_tissue = gene_regions_neg_bed.closest(atac_bed,d=True)\n",
    "\n",
    "    gene_dist_df = gene_regions_neg_bed_tissue.to_dataframe().groupby('name').agg({'thickEnd':min})\n",
    "    gene_dist_df.columns = ['dist']\n",
    "    far_genes_tissue = list(gene_dist_df.index[gene_dist_df.dist > NEG_DIST_MIN])\n",
    "    print(len(far_genes_tissue))\n",
    "    all_far_genes+=far_genes_tissue\n",
    "    all_far_genes_dict[tissue] = far_genes_tissue"
   ]
  },
  {
   "cell_type": "code",
   "execution_count": 27,
   "metadata": {},
   "outputs": [
    {
     "name": "stdout",
     "output_type": "stream",
     "text": [
      "275\n"
     ]
    }
   ],
   "source": [
    "far_genes_count = pd.Series(Counter(all_far_genes))\n",
    "neg_genes_far = sorted(far_genes_count.index[far_genes_count==len(glob.glob('../data/interim/merged/atac/*bed'))])\n",
    "print(len(neg_genes_far))"
   ]
  },
  {
   "cell_type": "code",
   "execution_count": 28,
   "metadata": {},
   "outputs": [
    {
     "name": "stdout",
     "output_type": "stream",
     "text": [
      "['BIRC8', 'CDY1', 'CDY2A', 'CSPG4P1Y', 'CT47A12', 'CT47A6', 'DAZ1', 'DAZ3', 'DAZ4', 'DEFB133', 'FAM197Y2', 'FAM197Y3', 'FAM197Y7', 'FAM197Y8', 'FAM197Y9', 'FAM25E', 'FAM74A1', 'FAM90A27P', 'FOXR2', 'GAGE12C', 'GAGE12D', 'GAGE2C', 'GAGE2E', 'GOLGA2P2Y', 'GOLGA8DP', 'GS1-278J22.2', 'KIR3DL3', 'LINC00280', 'LINC00408', 'LINC00442', 'MAGEB5', 'MIR105-1', 'MIR105-2', 'MIR1251', 'MIR1267', 'MIR1283-1', 'MIR1295A', 'MIR1298', 'MIR147A', 'MIR3118-1', 'MIR3118-2', 'MIR3118-4', 'MIR3169', 'MIR3668', 'MIR3683', 'MIR378C', 'MIR383', 'MIR3914-1', 'MIR4273', 'MIR4283-1', 'MIR4283-2', 'MIR4431', 'MIR4445', 'MIR4460', 'MIR4509-2', 'MIR4509-3', 'MIR4527', 'MIR4643', 'MIR4675', 'MIR4770', 'MIR4791', 'MIR513A1', 'MIR513B', 'MIR513C', 'MIR514A1', 'MIR514A2', 'MIR514A3', 'MIR517A', 'MIR517B', 'MIR518B', 'MIR518F', 'MIR519B', 'MIR519D', 'MIR520A', 'MIR520B', 'MIR520C', 'MIR520D', 'MIR521-2', 'MIR525', 'MIR526A1', 'MIR526B', 'MIR548AB', 'MIR548F1', 'MIR548F3', 'MIR548F4', 'MIR548F5', 'MIR548I1', 'MIR548I2', 'MIR548I3', 'MIR548Y', 'MIR5682', 'MIR5692C1', 'MIR5706', 'MIR767', 'MIR888', 'MIR890', 'MIR891A', 'MIR891B', 'MIR892A', 'MIR892B', 'NXF5', 'OR10T2', 'OR10Z1', 'OR11H1', 'OR11H12', 'OR11H2', 'OR13C8', 'OR14A16', 'OR1E3', 'OR2AP1', 'OR2G3', 'OR2G6', 'OR2J1', 'OR2J2', 'OR2M2', 'OR2M3', 'OR2M7', 'OR2T12', 'OR2W1', 'OR2Z1', 'OR4A15', 'OR4A16', 'OR4A47', 'OR4C11', 'OR4C13', 'OR4C15', 'OR4C46', 'OR4F21', 'OR4F3', 'OR4K13', 'OR4K17', 'OR4X1', 'OR51A2', 'OR51A4', 'OR52E1', 'OR52Z1', 'OR5F1', 'OR5M9', 'OR5T3', 'OR6C75', 'OR6K6', 'OR6N2', 'POTED', 'PPIAL4C', 'PPIAL4E', 'PRAMEF14', 'PRAMEF17', 'PRAMEF19', 'PRAMEF20', 'PRAMEF9', 'PRB4', 'PRR20D', 'PRY', 'PWRN2', 'RBMXL3', 'RBMY1A1', 'RBMY1B', 'RBMY1D', 'RBMY1E', 'RBMY1J', 'RBMY2EP', 'RBMY2FP', 'REG1B', 'REG3A', 'RHOXF2B', 'SNORA70C', 'SNORD108', 'SNORD115-1', 'SNORD115-10', 'SNORD115-11', 'SNORD115-12', 'SNORD115-14', 'SNORD115-15', 'SNORD115-16', 'SNORD115-17', 'SNORD115-18', 'SNORD115-19', 'SNORD115-2', 'SNORD115-20', 'SNORD115-21', 'SNORD115-22', 'SNORD115-23', 'SNORD115-24', 'SNORD115-25', 'SNORD115-27', 'SNORD115-28', 'SNORD115-29', 'SNORD115-3', 'SNORD115-30', 'SNORD115-31', 'SNORD115-32', 'SNORD115-33', 'SNORD115-34', 'SNORD115-35', 'SNORD115-36', 'SNORD115-37', 'SNORD115-38', 'SNORD115-39', 'SNORD115-4', 'SNORD115-5', 'SNORD115-6', 'SNORD115-8', 'SNORD115-9', 'SNORD116-10', 'SNORD116-11', 'SNORD116-13', 'SNORD116-25', 'SNORD116-26', 'SNORD116-30', 'SPACA1', 'SPANXN1', 'SPANXN2', 'SPANXN4', 'SSX2B', 'SSX4B', 'SSX7', 'TAAR6', 'TGIF2LX', 'TGIF2LY', 'TSPY1', 'TSPY10', 'TSPY2', 'TSPY3', 'TSPY4', 'TSPY8', 'TTTY1', 'TTTY10', 'TTTY11', 'TTTY13', 'TTTY17A', 'TTTY17B', 'TTTY19', 'TTTY1B', 'TTTY20', 'TTTY21', 'TTTY22', 'TTTY23', 'TTTY23B', 'TTTY3', 'TTTY5', 'TTTY6', 'TTTY6B', 'TTTY7', 'TTTY7B', 'UBE2DNL', 'UBTFL1', 'USP17L10', 'USP17L11', 'USP17L12', 'USP17L13', 'USP17L15', 'USP17L17', 'USP17L18', 'USP17L19', 'USP17L2', 'USP17L20', 'USP17L21', 'USP17L22', 'USP17L24', 'USP17L25', 'USP17L26', 'USP17L27', 'USP17L28', 'USP17L29', 'USP17L3', 'USP17L30', 'USP17L5', 'USP17L6P', 'USP17L8', 'USP17L9P', 'VN1R3', 'ZNF479', 'ZNF679', 'ZNF723', 'ZNF99']\n"
     ]
    }
   ],
   "source": [
    "print(neg_genes_far)"
   ]
  },
  {
   "cell_type": "code",
   "execution_count": 29,
   "metadata": {},
   "outputs": [
    {
     "name": "stderr",
     "output_type": "stream",
     "text": [
      "/Users/mguo123/opt/anaconda3/lib/python3.7/site-packages/ipykernel_launcher.py:1: FutureWarning: The signature of `Series.to_csv` was aligned to that of `DataFrame.to_csv`, and argument 'header' will change its default value from False to True: please pass an explicit value to suppress this warning.\n",
      "  \"\"\"Entry point for launching an IPython kernel.\n"
     ]
    }
   ],
   "source": [
    "pd.Series(neg_genes_far).to_csv(os.path.join(save_dir, 'neg_genes_far.csv'),index=None,header=None)"
   ]
  },
  {
   "cell_type": "markdown",
   "metadata": {},
   "source": [
    "# 2. positive controls\n",
    "\n",
    "positive controls = common loops, common ATAC, and expressed genes across all types"
   ]
  },
  {
   "cell_type": "code",
   "execution_count": 6,
   "metadata": {},
   "outputs": [],
   "source": [
    "THRES=1 # for RNA\n",
    "normal_tissues_pos = [ 'Airway', 'Astrocytes', 'Bladder', 'Colon', \n",
    "         'Esophageal', 'GDSD0', 'GDSD3', 'GDSD6', 'GM12878', 'HMEC', 'Melanocytes', 'Ovarian', 'Pancreas',\n",
    "       'Prostate', 'Renal', 'Thyroid',       'Uterine']\n",
    "cancer_tissues_pos = ['A431-CTRLi', 'CAL27-CTRLi', 'SCC13-CTRLi','COLO_SCR_DMSO','WM_SCR_DMSO',\n",
    "                     'A431-p63i','CAL27-p63i', 'SCC13-p63i', 'COLO_SCR_PLX','COLO_shMITF_DMSO', 'COLO_shMITF_PLX']\n",
    "\n",
    "all_tissue_pos = normal_tissues_pos + ['A431-CTRLi', 'CAL27-CTRLi', 'SCC13-CTRLi','COLO_SCR_DMSO','WM_SCR_DMSO']\n",
    "#                'D0-CTRLi','D3-CTRLi', 'SCC13-p63i', 'D0-p63i', 'D3-p63i',\n",
    "#                'A431-CTRLi', 'CAL27-CTRLi',  'SCC13-CTRLi','COLO_SCR_DMSO','WM_SCR_DMSO']"
   ]
  },
  {
   "cell_type": "code",
   "execution_count": 7,
   "metadata": {},
   "outputs": [
    {
     "name": "stdout",
     "output_type": "stream",
     "text": [
      "6642\n",
      "468\n",
      "1780\n"
     ]
    },
    {
     "data": {
      "text/plain": [
       "85"
      ]
     },
     "execution_count": 7,
     "metadata": {},
     "output_type": "execute_result"
    }
   ],
   "source": [
    "# expressed_genes\n",
    "\n",
    "expr_df = data_all[data_all.tissue.isin(all_tissue_pos)]['exp'].reset_index()\n",
    "expr_df.columns = ['gene','exp']\n",
    "expr_df_min = expr_df.groupby('gene').agg({'exp':'min'}) # basically find lowest expressed gene \n",
    "expr_genes = expr_df_min.index[expr_df_min.exp>THRES]\n",
    "print(len(expr_genes)) # number of commonly expressed genes\n",
    "\n",
    "#common ATAC\n",
    "atac_pro_df = data_all[data_all.tissue.isin(all_tissue_pos)].num_atac_regions_pro.reset_index()\n",
    "atac_pro_df.columns = ['gene','atac']\n",
    "atac_pro_df_min = atac_pro_df.groupby('gene').agg({'atac':'min'}) # basically find lowest # of atac peaks in the promoter region gene \n",
    "atac_genes = atac_pro_df_min.index[atac_pro_df_min.atac>0]\n",
    "print(len(atac_genes)) # number of atac genes that have at least 1 atac peak in promoter region (2kb upstream, 500 bp downstream of tss) in all tissues\n",
    "\n",
    "# common loop\n",
    "hichip_pro_df = data_all[data_all.tissue.isin(all_tissue_pos)].num_loops.reset_index()\n",
    "hichip_pro_df.columns = ['gene','hichip']\n",
    "hichip_pro_df_min = hichip_pro_df.groupby('gene').agg({'hichip':'min'}) # basically find lowest # of atac peaks in the promoter region gene \n",
    "hichip_genes = hichip_pro_df_min.index[hichip_pro_df_min.hichip>0]\n",
    "print(len(hichip_genes)) # number of atac genes that have at least 1 loop to promoter region (2kb upstream, 500 bp downstream of tss) in all tissues\n",
    "\n",
    "all_pos_genes = sorted(set(expr_genes).intersection(set(atac_genes)).intersection(set(hichip_genes)))\n",
    "len(all_pos_genes)"
   ]
  },
  {
   "cell_type": "code",
   "execution_count": 8,
   "metadata": {},
   "outputs": [
    {
     "data": {
      "text/plain": [
       "Index(['AAAS', 'AACS', 'AAGAB', 'AAK1', 'AAMDC', 'AAMP', 'AAR2', 'AARS1',\n",
       "       'AARSD1', 'AASDH',\n",
       "       ...\n",
       "       'ZSWIM1', 'ZSWIM7', 'ZSWIM8', 'ZUP1', 'ZW10', 'ZWILCH', 'ZWINT',\n",
       "       'ZYG11B', 'ZYX', 'ZZZ3'],\n",
       "      dtype='object', name='gene', length=6642)"
      ]
     },
     "execution_count": 8,
     "metadata": {},
     "output_type": "execute_result"
    }
   ],
   "source": [
    "expr_genes"
   ]
  },
  {
   "cell_type": "code",
   "execution_count": null,
   "metadata": {},
   "outputs": [],
   "source": [
    "all_pos_genes"
   ]
  },
  {
   "cell_type": "code",
   "execution_count": 161,
   "metadata": {},
   "outputs": [
    {
     "name": "stderr",
     "output_type": "stream",
     "text": [
      "/Users/mguo123/opt/anaconda3/lib/python3.7/site-packages/ipykernel_launcher.py:1: FutureWarning: The signature of `Series.to_csv` was aligned to that of `DataFrame.to_csv`, and argument 'header' will change its default value from False to True: please pass an explicit value to suppress this warning.\n",
      "  \"\"\"Entry point for launching an IPython kernel.\n"
     ]
    }
   ],
   "source": [
    "pd.Series(all_pos_genes).to_csv(os.path.join(save_dir, 'all_pos_genes.csv'),index=None,header=None)"
   ]
  },
  {
   "cell_type": "code",
   "execution_count": 135,
   "metadata": {},
   "outputs": [
    {
     "name": "stdout",
     "output_type": "stream",
     "text": [
      "7091\n",
      "492\n",
      "2034\n"
     ]
    },
    {
     "data": {
      "text/plain": [
       "97"
      ]
     },
     "execution_count": 135,
     "metadata": {},
     "output_type": "execute_result"
    }
   ],
   "source": [
    "# expressed_genes\n",
    "\n",
    "expr_df = data_all[data_all.tissue.isin(normal_tissues_pos)]['exp'].reset_index()\n",
    "expr_df.columns = ['gene','exp']\n",
    "expr_df_min = expr_df.groupby('gene').agg({'exp':'min'}) # basically find lowest expressed gene \n",
    "expr_genes = expr_df_min.index[expr_df_min.exp>THRES]\n",
    "print(len(expr_genes)) # number of commonly expressed genes\n",
    "\n",
    "#common ATAC\n",
    "atac_pro_df = data_all[data_all.tissue.isin(normal_tissues_pos)].num_atac_regions_pro.reset_index()\n",
    "atac_pro_df.columns = ['gene','atac']\n",
    "atac_pro_df_min = atac_pro_df.groupby('gene').agg({'atac':'min'}) # basically find lowest # of atac peaks in the promoter region gene \n",
    "atac_genes = atac_pro_df_min.index[atac_pro_df_min.atac>0]\n",
    "print(len(atac_genes)) # number of atac genes that have at least 1 atac peak in promoter region (2kb upstream, 500 bp downstream of tss) in all tissues\n",
    "\n",
    "# common loop\n",
    "hichip_pro_df = data_all[data_all.tissue.isin(normal_tissues_pos)].num_loops.reset_index()\n",
    "hichip_pro_df.columns = ['gene','hichip']\n",
    "hichip_pro_df_min = hichip_pro_df.groupby('gene').agg({'hichip':'min'}) # basically find lowest # of atac peaks in the promoter region gene \n",
    "hichip_genes = hichip_pro_df_min.index[hichip_pro_df_min.hichip>0]\n",
    "print(len(hichip_genes)) # number of atac genes that have at least 1 loop to promoter region (2kb upstream, 500 bp downstream of tss) in all tissues\n",
    "\n",
    "normal_pos_genes = list(set(expr_genes).intersection(set(atac_genes)).intersection(set(hichip_genes)))\n",
    "len(normal_pos_genes)"
   ]
  },
  {
   "cell_type": "code",
   "execution_count": 136,
   "metadata": {},
   "outputs": [
    {
     "name": "stdout",
     "output_type": "stream",
     "text": [
      "7837\n",
      "922\n",
      "3336\n"
     ]
    },
    {
     "data": {
      "text/plain": [
       "267"
      ]
     },
     "execution_count": 136,
     "metadata": {},
     "output_type": "execute_result"
    }
   ],
   "source": [
    "# expressed_genes\n",
    "\n",
    "expr_df = data_all[data_all.tissue.isin(cancer_tissues_pos)]['exp'].reset_index()\n",
    "expr_df.columns = ['gene','exp']\n",
    "expr_df_min = expr_df.groupby('gene').agg({'exp':'min'}) # basically find lowest expressed gene \n",
    "expr_genes = expr_df_min.index[expr_df_min.exp>THRES]\n",
    "print(len(expr_genes)) # number of commonly expressed genes\n",
    "\n",
    "#common ATAC\n",
    "atac_pro_df = data_all[data_all.tissue.isin(cancer_tissues_pos)].num_atac_regions_pro.reset_index()\n",
    "atac_pro_df.columns = ['gene','atac']\n",
    "atac_pro_df_min = atac_pro_df.groupby('gene').agg({'atac':'min'}) # basically find lowest # of atac peaks in the promoter region gene \n",
    "atac_genes = atac_pro_df_min.index[atac_pro_df_min.atac>0]\n",
    "print(len(atac_genes)) # number of atac genes that have at least 1 atac peak in promoter region (2kb upstream, 500 bp downstream of tss) in all tissues\n",
    "\n",
    "# common loop\n",
    "hichip_pro_df = data_all[data_all.tissue.isin(cancer_tissues_pos)].num_loops.reset_index()\n",
    "hichip_pro_df.columns = ['gene','hichip']\n",
    "hichip_pro_df_min = hichip_pro_df.groupby('gene').agg({'hichip':'min'}) # basically find lowest # of atac peaks in the promoter region gene \n",
    "hichip_genes = hichip_pro_df_min.index[hichip_pro_df_min.hichip>0]\n",
    "print(len(hichip_genes)) # number of atac genes that have at least 1 loop to promoter region (2kb upstream, 500 bp downstream of tss) in all tissues\n",
    "\n",
    "\n",
    "cancer_pos_genes = list(set(expr_genes).intersection(set(atac_genes)).intersection(set(hichip_genes)))\n",
    "len(cancer_pos_genes)"
   ]
  },
  {
   "cell_type": "code",
   "execution_count": 137,
   "metadata": {},
   "outputs": [
    {
     "data": {
      "text/plain": [
       "289"
      ]
     },
     "execution_count": 137,
     "metadata": {},
     "output_type": "execute_result"
    }
   ],
   "source": [
    "len(set(normal_pos_genes).union(set(cancer_pos_genes)))"
   ]
  },
  {
   "cell_type": "code",
   "execution_count": 138,
   "metadata": {},
   "outputs": [],
   "source": [
    "pos_genes_df = pd.concat([pd.DataFrame({'gene':normal_pos_genes,'type':'normal'}),\n",
    "           pd.DataFrame({'gene':cancer_pos_genes,'type':'cancer'})],axis=0)\n",
    "pos_genes_df = pos_genes_df.groupby('gene').agg({'type':'|'.join }).reset_index()\n",
    "pos_genes_df.to_csv(os.path.join(save_dir, 'pos_genes_df.csv'))"
   ]
  },
  {
   "cell_type": "code",
   "execution_count": 139,
   "metadata": {},
   "outputs": [
    {
     "data": {
      "text/html": [
       "<div>\n",
       "<style scoped>\n",
       "    .dataframe tbody tr th:only-of-type {\n",
       "        vertical-align: middle;\n",
       "    }\n",
       "\n",
       "    .dataframe tbody tr th {\n",
       "        vertical-align: top;\n",
       "    }\n",
       "\n",
       "    .dataframe thead th {\n",
       "        text-align: right;\n",
       "    }\n",
       "</style>\n",
       "<table border=\"1\" class=\"dataframe\">\n",
       "  <thead>\n",
       "    <tr style=\"text-align: right;\">\n",
       "      <th></th>\n",
       "      <th>gene</th>\n",
       "      <th>type</th>\n",
       "    </tr>\n",
       "  </thead>\n",
       "  <tbody>\n",
       "    <tr>\n",
       "      <td>0</td>\n",
       "      <td>ABCB6</td>\n",
       "      <td>normal</td>\n",
       "    </tr>\n",
       "    <tr>\n",
       "      <td>1</td>\n",
       "      <td>ABCF3</td>\n",
       "      <td>normal|cancer</td>\n",
       "    </tr>\n",
       "    <tr>\n",
       "      <td>2</td>\n",
       "      <td>ABHD17A</td>\n",
       "      <td>cancer</td>\n",
       "    </tr>\n",
       "    <tr>\n",
       "      <td>3</td>\n",
       "      <td>ACADS</td>\n",
       "      <td>cancer</td>\n",
       "    </tr>\n",
       "    <tr>\n",
       "      <td>4</td>\n",
       "      <td>ACADVL</td>\n",
       "      <td>normal</td>\n",
       "    </tr>\n",
       "    <tr>\n",
       "      <td>...</td>\n",
       "      <td>...</td>\n",
       "      <td>...</td>\n",
       "    </tr>\n",
       "    <tr>\n",
       "      <td>284</td>\n",
       "      <td>ZNF513</td>\n",
       "      <td>cancer</td>\n",
       "    </tr>\n",
       "    <tr>\n",
       "      <td>285</td>\n",
       "      <td>ZNF580</td>\n",
       "      <td>normal|cancer</td>\n",
       "    </tr>\n",
       "    <tr>\n",
       "      <td>286</td>\n",
       "      <td>ZNF581</td>\n",
       "      <td>normal|cancer</td>\n",
       "    </tr>\n",
       "    <tr>\n",
       "      <td>287</td>\n",
       "      <td>ZNF771</td>\n",
       "      <td>cancer</td>\n",
       "    </tr>\n",
       "    <tr>\n",
       "      <td>288</td>\n",
       "      <td>ZNF839</td>\n",
       "      <td>normal|cancer</td>\n",
       "    </tr>\n",
       "  </tbody>\n",
       "</table>\n",
       "<p>289 rows × 2 columns</p>\n",
       "</div>"
      ],
      "text/plain": [
       "        gene           type\n",
       "0      ABCB6         normal\n",
       "1      ABCF3  normal|cancer\n",
       "2    ABHD17A         cancer\n",
       "3      ACADS         cancer\n",
       "4     ACADVL         normal\n",
       "..       ...            ...\n",
       "284   ZNF513         cancer\n",
       "285   ZNF580  normal|cancer\n",
       "286   ZNF581  normal|cancer\n",
       "287   ZNF771         cancer\n",
       "288   ZNF839  normal|cancer\n",
       "\n",
       "[289 rows x 2 columns]"
      ]
     },
     "execution_count": 139,
     "metadata": {},
     "output_type": "execute_result"
    }
   ],
   "source": [
    "pos_genes_df"
   ]
  },
  {
   "cell_type": "code",
   "execution_count": null,
   "metadata": {},
   "outputs": [],
   "source": []
  },
  {
   "cell_type": "markdown",
   "metadata": {},
   "source": [
    "# 3. Check Controls for Motifs (MOODS\n",
    "\n",
    "09/09/2020\n",
    "\n",
    "after 8F1_make_mpra\n"
   ]
  },
  {
   "cell_type": "code",
   "execution_count": 103,
   "metadata": {},
   "outputs": [],
   "source": [
    "from scipy.stats import ttest_ind\n",
    "import pandas as pd\n",
    "import numpy as np; np.random.seed(0)\n",
    "import os, glob\n",
    "import seaborn as sns; sns.set()\n",
    "import matplotlib\n",
    "import matplotlib.pyplot as plt\n",
    "from collections import Counter"
   ]
  },
  {
   "cell_type": "code",
   "execution_count": 14,
   "metadata": {},
   "outputs": [
    {
     "data": {
      "text/plain": [
       "['../data/processed/fig4_modelling/vocab_sum_final/mpra_oligo_df_final_SUBMIT.txt',\n",
       " '../data/processed/fig4_modelling/vocab_sum_final/mpra_vocab_seq2.fasta',\n",
       " '../data/processed/fig4_modelling/vocab_sum_final/mpra_control_seq.fasta',\n",
       " '../data/processed/fig4_modelling/vocab_sum_final/mpra_lib_seq.csv',\n",
       " '../data/processed/fig4_modelling/vocab_sum_final/mpra_vocab_seq.fasta',\n",
       " '../data/processed/fig4_modelling/vocab_sum_final/mpra_oligo_df_final.txt',\n",
       " '../data/processed/fig4_modelling/vocab_sum_final/mpra_oligo_df_filt.csv']"
      ]
     },
     "execution_count": 14,
     "metadata": {},
     "output_type": "execute_result"
    }
   ],
   "source": [
    "glob.glob('../data/processed/fig4_modelling/vocab_sum_final/mpra*')"
   ]
  },
  {
   "cell_type": "code",
   "execution_count": 109,
   "metadata": {},
   "outputs": [
    {
     "name": "stdout",
     "output_type": "stream",
     "text": [
      "Index(['A431-CTRLi', 'A431-p63i', 'Airway', 'Astrocytes', 'Bladder',\n",
      "       'CAL27-CTRLi', 'CAL27-p63i', 'COLO_SCR_DMSO', 'COLO_SCR_PLX',\n",
      "       'COLO_shMITF_DMSO', 'COLO_shMITF_PLX', 'Colon', 'D0-CTRLi', 'D0-p63i',\n",
      "       'D3-CTRLi', 'D3-p63i', 'Esophageal', 'GDSD0', 'GDSD3', 'GDSD6',\n",
      "       'GM12878', 'HMEC', 'Melanocytes', 'Ovarian', 'Pancreas', 'Prostate',\n",
      "       'Renal', 'SCC13-CTRLi', 'SCC13-p63i', 'SKMEL5_SCR_DMSO',\n",
      "       'SKMEL5_SCR_PLX', 'SKMEL5_shMITF-DMSO', 'SKMEL5_shMITF_PLX', 'Thyroid',\n",
      "       'Uterine', 'WM_SCR_DMSO', 'WM_SCR_PLX', 'WM_shMITF_DMSO',\n",
      "       'WM_shMITF_PLX'],\n",
      "      dtype='object')\n"
     ]
    }
   ],
   "source": [
    "# read rna\n",
    "rna_df = pd.read_csv('../data/interim/rna/tissue_tpm_sym.csv',index_col=0)\n",
    "print(rna_df.columns)"
   ]
  },
  {
   "cell_type": "code",
   "execution_count": 19,
   "metadata": {},
   "outputs": [
    {
     "data": {
      "text/plain": [
       "9721"
      ]
     },
     "execution_count": 19,
     "metadata": {},
     "output_type": "execute_result"
    }
   ],
   "source": [
    "# read mpra info \n",
    "mpra_df = pd.read_csv( '../data/processed/fig4_modelling/vocab_sum_final/mpra_oligo_df_final.txt', sep='\\t')\n",
    "name_to_seq_type = pd.Series(mpra_df.seq_type.values, index=mpra_df.name.values).to_dict()\n",
    "# want seq_type 'pos' or 'neg'\n",
    "len(name_to_seq_type)"
   ]
  },
  {
   "cell_type": "code",
   "execution_count": 132,
   "metadata": {},
   "outputs": [
    {
     "name": "stdout",
     "output_type": "stream",
     "text": [
      "(161, 2)\n"
     ]
    },
    {
     "data": {
      "text/html": [
       "<div>\n",
       "<style scoped>\n",
       "    .dataframe tbody tr th:only-of-type {\n",
       "        vertical-align: middle;\n",
       "    }\n",
       "\n",
       "    .dataframe tbody tr th {\n",
       "        vertical-align: top;\n",
       "    }\n",
       "\n",
       "    .dataframe thead th {\n",
       "        text-align: right;\n",
       "    }\n",
       "</style>\n",
       "<table border=\"1\" class=\"dataframe\">\n",
       "  <thead>\n",
       "    <tr style=\"text-align: right;\">\n",
       "      <th></th>\n",
       "      <th>Colon_exp</th>\n",
       "      <th>GDSD6_exp</th>\n",
       "      <th>GM12878_exp</th>\n",
       "      <th>Melanocytes_exp</th>\n",
       "      <th>A431-CTRLi_exp</th>\n",
       "      <th>CAL27-CTRLi_exp</th>\n",
       "      <th>SCC13-CTRLi_exp</th>\n",
       "      <th>COLO_SCR_DMSO_exp</th>\n",
       "      <th>WM_SCR_DMSO_exp</th>\n",
       "    </tr>\n",
       "  </thead>\n",
       "  <tbody>\n",
       "    <tr>\n",
       "      <td>count</td>\n",
       "      <td>72.000000</td>\n",
       "      <td>72.000000</td>\n",
       "      <td>72.000000</td>\n",
       "      <td>72.000000</td>\n",
       "      <td>72.000000</td>\n",
       "      <td>72.000000</td>\n",
       "      <td>72.000000</td>\n",
       "      <td>72.000000</td>\n",
       "      <td>72.000000</td>\n",
       "    </tr>\n",
       "    <tr>\n",
       "      <td>mean</td>\n",
       "      <td>191.039861</td>\n",
       "      <td>184.404097</td>\n",
       "      <td>170.757569</td>\n",
       "      <td>181.170903</td>\n",
       "      <td>230.207153</td>\n",
       "      <td>195.343333</td>\n",
       "      <td>186.955347</td>\n",
       "      <td>175.035139</td>\n",
       "      <td>150.917639</td>\n",
       "    </tr>\n",
       "    <tr>\n",
       "      <td>std</td>\n",
       "      <td>1028.035268</td>\n",
       "      <td>1123.249095</td>\n",
       "      <td>1000.823725</td>\n",
       "      <td>953.065999</td>\n",
       "      <td>1554.291379</td>\n",
       "      <td>1106.646907</td>\n",
       "      <td>1044.275578</td>\n",
       "      <td>1067.553131</td>\n",
       "      <td>788.453088</td>\n",
       "    </tr>\n",
       "    <tr>\n",
       "      <td>min</td>\n",
       "      <td>1.295000</td>\n",
       "      <td>1.275000</td>\n",
       "      <td>1.010000</td>\n",
       "      <td>2.085000</td>\n",
       "      <td>1.635000</td>\n",
       "      <td>1.650000</td>\n",
       "      <td>2.000000</td>\n",
       "      <td>2.235000</td>\n",
       "      <td>2.180000</td>\n",
       "    </tr>\n",
       "    <tr>\n",
       "      <td>25%</td>\n",
       "      <td>6.657500</td>\n",
       "      <td>4.837500</td>\n",
       "      <td>4.705000</td>\n",
       "      <td>8.926250</td>\n",
       "      <td>7.358750</td>\n",
       "      <td>7.555000</td>\n",
       "      <td>8.231250</td>\n",
       "      <td>7.828750</td>\n",
       "      <td>8.657500</td>\n",
       "    </tr>\n",
       "    <tr>\n",
       "      <td>50%</td>\n",
       "      <td>13.827500</td>\n",
       "      <td>12.442500</td>\n",
       "      <td>10.917500</td>\n",
       "      <td>17.052500</td>\n",
       "      <td>18.065000</td>\n",
       "      <td>15.692500</td>\n",
       "      <td>17.017500</td>\n",
       "      <td>17.302500</td>\n",
       "      <td>16.397500</td>\n",
       "    </tr>\n",
       "    <tr>\n",
       "      <td>75%</td>\n",
       "      <td>34.031250</td>\n",
       "      <td>34.037500</td>\n",
       "      <td>29.716250</td>\n",
       "      <td>48.647500</td>\n",
       "      <td>45.266250</td>\n",
       "      <td>44.555000</td>\n",
       "      <td>52.770000</td>\n",
       "      <td>48.397500</td>\n",
       "      <td>50.161250</td>\n",
       "    </tr>\n",
       "    <tr>\n",
       "      <td>max</td>\n",
       "      <td>8659.390000</td>\n",
       "      <td>9478.325000</td>\n",
       "      <td>8414.700000</td>\n",
       "      <td>7994.435000</td>\n",
       "      <td>13203.895000</td>\n",
       "      <td>9324.900000</td>\n",
       "      <td>8843.750000</td>\n",
       "      <td>9058.270000</td>\n",
       "      <td>6662.385000</td>\n",
       "    </tr>\n",
       "  </tbody>\n",
       "</table>\n",
       "</div>"
      ],
      "text/plain": [
       "         Colon_exp    GDSD6_exp  GM12878_exp  Melanocytes_exp  A431-CTRLi_exp  \\\n",
       "count    72.000000    72.000000    72.000000        72.000000       72.000000   \n",
       "mean    191.039861   184.404097   170.757569       181.170903      230.207153   \n",
       "std    1028.035268  1123.249095  1000.823725       953.065999     1554.291379   \n",
       "min       1.295000     1.275000     1.010000         2.085000        1.635000   \n",
       "25%       6.657500     4.837500     4.705000         8.926250        7.358750   \n",
       "50%      13.827500    12.442500    10.917500        17.052500       18.065000   \n",
       "75%      34.031250    34.037500    29.716250        48.647500       45.266250   \n",
       "max    8659.390000  9478.325000  8414.700000      7994.435000    13203.895000   \n",
       "\n",
       "       CAL27-CTRLi_exp  SCC13-CTRLi_exp  COLO_SCR_DMSO_exp  WM_SCR_DMSO_exp  \n",
       "count        72.000000        72.000000          72.000000        72.000000  \n",
       "mean        195.343333       186.955347         175.035139       150.917639  \n",
       "std        1106.646907      1044.275578        1067.553131       788.453088  \n",
       "min           1.650000         2.000000           2.235000         2.180000  \n",
       "25%           7.555000         8.231250           7.828750         8.657500  \n",
       "50%          15.692500        17.017500          17.302500        16.397500  \n",
       "75%          44.555000        52.770000          48.397500        50.161250  \n",
       "max        9324.900000      8843.750000        9058.270000      6662.385000  "
      ]
     },
     "metadata": {},
     "output_type": "display_data"
    }
   ],
   "source": [
    "# check rna tpm values of the pos controls \n",
    "mpra_df_controls = mpra_df[mpra_df.seq_type.isin(['pos','neg'])]\n",
    "mpra_df_controls_instance = mpra_df_controls[['name','seq_type']].drop_duplicates().reset_index(drop=True)\n",
    "print(mpra_df_controls_instance.shape)\n",
    "mpra_df_controls_instance['Colon_exp'] = mpra_df_controls_instance.name.apply(lambda x: rna_df.loc[x, 'Colon'])\n",
    "mpra_df_controls_instance['GDSD6_exp'] = mpra_df_controls_instance.name.apply(lambda x: rna_df.loc[x, 'GDSD6'])\n",
    "mpra_df_controls_instance['GM12878_exp'] = mpra_df_controls_instance.name.apply(lambda x: rna_df.loc[x, 'GM12878'])\n",
    "mpra_df_controls_instance['Melanocytes_exp'] = mpra_df_controls_instance.name.apply(lambda x: rna_df.loc[x, 'Melanocytes'])\n",
    "mpra_df_controls_instance['A431-CTRLi_exp'] = mpra_df_controls_instance.name.apply(lambda x: rna_df.loc[x, 'A431-CTRLi'])\n",
    "mpra_df_controls_instance['CAL27-CTRLi_exp'] = mpra_df_controls_instance.name.apply(lambda x: rna_df.loc[x, 'CAL27-CTRLi'])\n",
    "mpra_df_controls_instance['SCC13-CTRLi_exp'] = mpra_df_controls_instance.name.apply(lambda x: rna_df.loc[x, 'SCC13-CTRLi'])\n",
    "mpra_df_controls_instance['COLO_SCR_DMSO_exp'] = mpra_df_controls_instance.name.apply(lambda x: rna_df.loc[x, 'COLO_SCR_DMSO'])\n",
    "mpra_df_controls_instance['WM_SCR_DMSO_exp'] = mpra_df_controls_instance.name.apply(lambda x: rna_df.loc[x, 'WM_SCR_DMSO'])\n",
    "mpra_df_controls_instance.sort_values(['seq_type','name'],inplace=True)\n",
    "mpra_df_pos_controls_instance = mpra_df_controls_instance[mpra_df_controls_instance.seq_type=='pos'].reset_index(drop=True)\n",
    "display(mpra_df_pos_controls_instance.describe())"
   ]
  },
  {
   "cell_type": "code",
   "execution_count": 106,
   "metadata": {},
   "outputs": [
    {
     "data": {
      "text/plain": [
       "Counter({'pos': 72, 'vocab': 9560, 'neg': 89})"
      ]
     },
     "execution_count": 106,
     "metadata": {},
     "output_type": "execute_result"
    }
   ],
   "source": [
    "name_to_seq_type_count = Counter(name_to_seq_type.values())\n",
    "name_to_seq_type_count"
   ]
  },
  {
   "cell_type": "code",
   "execution_count": 20,
   "metadata": {},
   "outputs": [],
   "source": [
    "#read tf info\n",
    "tf_annon_df = pd.read_csv('../data/external/HOCOMOCOv11_annotation.csv',index_col=0)\n",
    "tf_annon_df['id_trim'] = tf_annon_df['id'] + '.pwm.trim'\n",
    "tf_name_to_id_dict = pd.Series(tf_annon_df.id_trim.values, index=tf_annon_df.tf.values).to_dict()\n",
    "tf_id_to_name_dict = pd.Series(tf_annon_df.tf.values, index=tf_annon_df.id_trim.values).to_dict()\n",
    "tf_name_to_id_abbr_dict = pd.Series(tf_annon_df.id.values, index=tf_annon_df.tf.values).to_dict()\n",
    "tf_id_abbr_to_name_dict = pd.Series(tf_annon_df.tf.values, index=tf_annon_df.id.values).to_dict()\n"
   ]
  },
  {
   "cell_type": "code",
   "execution_count": 217,
   "metadata": {},
   "outputs": [
    {
     "name": "stdout",
     "output_type": "stream",
     "text": [
      "769\n"
     ]
    }
   ],
   "source": [
    "# motif_scan_control_dir = '../data/processed/fig4_modelling/vocab_sum_final/motif_scan_control/'\n",
    "motif_scan_control_dir = '../data/processed/fig4_modelling/vocab_sum_final/motif_scan_control_pval001/'\n",
    "motif_scan_control_files = glob.glob(os.path.join(motif_scan_control_dir, '*.csv'))\n",
    "print(len(motif_scan_control_files))"
   ]
  },
  {
   "cell_type": "code",
   "execution_count": 134,
   "metadata": {},
   "outputs": [],
   "source": [
    "def get_str_arr(l):\n",
    "    return '|'.join([str(x) for x in l])\n",
    "\n",
    "def ttest_motif(row):\n",
    "    list_neg = [float(x) for x in row['score_get_str_arr_neg'].split('|')]\n",
    "    list_pos = [float(x) for x in row['score_get_str_arr_pos'].split('|')]\n",
    "    t, p = ttest_ind(list_pos, list_neg)\n",
    "    return t,p"
   ]
  },
  {
   "cell_type": "code",
   "execution_count": 210,
   "metadata": {},
   "outputs": [
    {
     "name": "stdout",
     "output_type": "stream",
     "text": [
      "CPU times: user 23.9 s, sys: 99.5 ms, total: 24 s\n",
      "Wall time: 24 s\n"
     ]
    }
   ],
   "source": [
    "%%time\n",
    "pos_neg_scan_info_all=pd.DataFrame()\n",
    "pos_neg_instance_scan_info_all=pd.DataFrame()\n",
    "\n",
    "# for motif_scan_control_file in motif_scan_control_files[:5]: ## DEBUG\n",
    "for motif_scan_control_file in motif_scan_control_files:\n",
    "\n",
    "    motif_scan_results = pd.read_csv(motif_scan_control_file,names=['name_config','pwm_file','pos','strand','score','seq','seq_actual'])\n",
    "    motif = tf_id_abbr_to_name_dict[os.path.basename(motif_scan_control_file).split('_scan')[0]]\n",
    "    motif_scan_results['motif'] = motif_scan_results.pwm_file.str.split('.pwm',expand=True).iloc[:,0].map(tf_id_abbr_to_name_dict)\n",
    "    motif_scan_results['seq_type']  = motif_scan_results.name_config.map(name_to_seq_type)\n",
    "    \n",
    "    # create  df, name_config,seq_type motif, avg score\n",
    "    instance_scan_info = motif_scan_results.groupby(['name_config','seq_type','motif']).agg({'score':['count','mean','std','min','max']})\n",
    "    instance_scan_info.columns = ['_'.join(x) for x in instance_scan_info.columns ]\n",
    "    instance_scan_info.reset_index(inplace=True)\n",
    "    pos_neg_instance_scan_info_all = pd.concat([pos_neg_instance_scan_info_all, instance_scan_info],axis=0)\n",
    "\n",
    "    # # create  df, seq_type motif, avg score\n",
    "    pos_neg_scan_info = motif_scan_results.groupby(['seq_type','motif']).agg({'score':['count','mean','std','min','max', get_str_arr ]})\n",
    "    pos_neg_scan_info.columns = ['_'.join(x) for x in pos_neg_scan_info.columns ]\n",
    "    pos_neg_scan_info.reset_index(inplace=True)\n",
    "    pos_neg_scan_info_all = pd.concat([pos_neg_scan_info_all, pos_neg_scan_info],axis=0)\n",
    "    \n"
   ]
  },
  {
   "cell_type": "markdown",
   "metadata": {},
   "source": [
    "### check to see which motifs are enriched in controls, and do a t test to compare pos vs neg (MOODS)"
   ]
  },
  {
   "cell_type": "code",
   "execution_count": 136,
   "metadata": {},
   "outputs": [
    {
     "name": "stdout",
     "output_type": "stream",
     "text": [
      "(1538, 8)\n",
      "(1356, 8)\n"
     ]
    }
   ],
   "source": [
    "# there are duplicate motif values\n",
    "print(pos_neg_scan_info_all.shape)\n",
    "pos_neg_scan_info_all = pos_neg_scan_info_all.groupby(['seq_type','motif']).agg({'score_count':sum,\n",
    "                                                        'score_mean': 'mean',\n",
    "                                                        'score_std': 'mean',\n",
    "                                                         'score_min': min,\n",
    "                                                         'score_max':max,\n",
    "                                                         'score_get_str_arr': lambda x: '|'.join(x)\n",
    "                                                        }).reset_index()\n",
    "print(pos_neg_scan_info_all.shape)\n"
   ]
  },
  {
   "cell_type": "code",
   "execution_count": 137,
   "metadata": {},
   "outputs": [
    {
     "name": "stderr",
     "output_type": "stream",
     "text": [
      "/Users/mguo123/opt/anaconda3/lib/python3.7/site-packages/numpy/core/fromnumeric.py:3506: RuntimeWarning: Degrees of freedom <= 0 for slice\n",
      "  **kwargs)\n",
      "/Users/mguo123/opt/anaconda3/lib/python3.7/site-packages/numpy/core/_methods.py:209: RuntimeWarning: invalid value encountered in double_scalars\n",
      "  ret = ret.dtype.type(ret / rcount)\n"
     ]
    }
   ],
   "source": [
    "pos_neg_scan_info_wide = pos_neg_scan_info_all.pivot(index='motif',columns='seq_type',values=['score_count','score_mean','score_std','score_min','score_max','score_get_str_arr'])\n",
    "pos_neg_scan_info_wide.columns = ['_'.join(x) for x in pos_neg_scan_info_wide.columns ]\n",
    "pos_neg_scan_info_wide['mean_pos_neg_range'] = pos_neg_scan_info_wide.score_mean_pos - pos_neg_scan_info_wide.score_mean_neg\n",
    "pos_neg_scan_info_wide = pd.concat([pos_neg_scan_info_wide, pos_neg_scan_info_wide.apply(ttest_motif,axis=1).apply(lambda s: pd.Series({'t_val':s[0], 'p_val':s[1]}))],axis=1)\n",
    "pos_neg_scan_info_wide['p_val_bonf'] = pos_neg_scan_info_wide.p_val.apply(lambda x: min (1, x*pos_neg_scan_info_wide.shape[0]))"
   ]
  },
  {
   "cell_type": "code",
   "execution_count": 138,
   "metadata": {},
   "outputs": [
    {
     "name": "stdout",
     "output_type": "stream",
     "text": [
      "(678, 16)\n",
      "(64, 16)\n"
     ]
    }
   ],
   "source": [
    "print(pos_neg_scan_info_wide.shape)\n",
    "pos_neg_scan_info_wide_filt = pos_neg_scan_info_wide[pos_neg_scan_info_wide.p_val_bonf<0.05]\n",
    "print(pos_neg_scan_info_wide_filt.shape)"
   ]
  },
  {
   "cell_type": "code",
   "execution_count": 139,
   "metadata": {},
   "outputs": [
    {
     "name": "stdout",
     "output_type": "stream",
     "text": [
      "(678,)\n"
     ]
    },
    {
     "data": {
      "text/plain": [
       "((407,), (271,))"
      ]
     },
     "execution_count": 139,
     "metadata": {},
     "output_type": "execute_result"
    }
   ],
   "source": [
    "motif_count_pos_neg_ratio = pd.Series(pos_neg_scan_info_wide.score_count_pos/pos_neg_scan_info_wide.score_count_neg*name_to_seq_type_count['neg']/name_to_seq_type_count['pos']).sort_values()\n",
    "print(motif_count_pos_neg_ratio.shape)\n",
    "motif_count_pos_neg_ratio[motif_count_pos_neg_ratio>1].shape, motif_count_pos_neg_ratio[motif_count_pos_neg_ratio<1].shape\n"
   ]
  },
  {
   "cell_type": "code",
   "execution_count": 140,
   "metadata": {},
   "outputs": [
    {
     "data": {
      "text/plain": [
       "array(['ARID5B', 'BCL6', 'DBP', 'EMX2', 'GATA3', 'GFI1B', 'HNF1B',\n",
       "       'HOXB4', 'HOXC13', 'KLF8', 'LHX2', 'MEIS1', 'MIXL1', 'MSX2',\n",
       "       'MYNN', 'NKX6-1', 'NOBOX', 'NR2E1', 'NR2E3', 'PDX1', 'POU3F1',\n",
       "       'POU5F1B', 'PRDM6', 'SIX1', 'SMARCA1', 'SOX10', 'STAT1', 'STAT2',\n",
       "       'STAT5A', 'STAT5B', 'STAT6', 'TEAD3', 'TEF', 'TWIST1', 'VAX2',\n",
       "       'ZBTB49', 'ZNF232', 'ZNF274'], dtype=object)"
      ]
     },
     "execution_count": 140,
     "metadata": {},
     "output_type": "execute_result"
    }
   ],
   "source": [
    "pos_neg_scan_info_wide_filt[pos_neg_scan_info_wide_filt.t_val<0].index.values"
   ]
  },
  {
   "cell_type": "code",
   "execution_count": 141,
   "metadata": {},
   "outputs": [
    {
     "data": {
      "text/plain": [
       "array(['CTCF', 'CTCFL', 'EGR4', 'ETV1', 'FIGLA', 'KLF15', 'MAZ', 'NHLH1',\n",
       "       'PLAG1', 'PLAGL1', 'PRRX1', 'SP1', 'SP2', 'SP4', 'THAP1', 'WT1',\n",
       "       'ZBTB33', 'ZFP64', 'ZIC2', 'ZIC3', 'ZIC4', 'ZNF148', 'ZNF335',\n",
       "       'ZNF467', 'ZNF563', 'ZNF589'], dtype=object)"
      ]
     },
     "execution_count": 141,
     "metadata": {},
     "output_type": "execute_result"
    }
   ],
   "source": [
    "pos_neg_scan_info_wide_filt[pos_neg_scan_info_wide_filt.t_val>0].index.values"
   ]
  },
  {
   "cell_type": "code",
   "execution_count": 142,
   "metadata": {},
   "outputs": [
    {
     "data": {
      "text/plain": [
       "array(['ARID5B', 'BCL6', 'DBP', 'EMX2', 'GATA3', 'GFI1B', 'HNF1B',\n",
       "       'HOXB4', 'HOXC13', 'KLF8', 'LHX2', 'MEIS1', 'MIXL1', 'MSX2',\n",
       "       'MYNN', 'NKX6-1', 'NOBOX', 'NR2E1', 'NR2E3', 'PDX1', 'POU3F1',\n",
       "       'POU5F1B', 'PRDM6', 'SIX1', 'SMARCA1', 'SOX10', 'STAT1', 'STAT2',\n",
       "       'STAT5A', 'STAT5B', 'STAT6', 'TEAD3', 'TEF', 'TWIST1', 'VAX2',\n",
       "       'ZBTB49', 'ZNF232', 'ZNF274'], dtype=object)"
      ]
     },
     "execution_count": 142,
     "metadata": {},
     "output_type": "execute_result"
    }
   ],
   "source": [
    "pos_neg_scan_info_wide_filt[pos_neg_scan_info_wide_filt.t_val<0].index.values"
   ]
  },
  {
   "cell_type": "markdown",
   "metadata": {},
   "source": [
    "## try to find vocab pairs within a single instance"
   ]
  },
  {
   "cell_type": "code",
   "execution_count": 204,
   "metadata": {},
   "outputs": [
    {
     "data": {
      "text/plain": [
       "239"
      ]
     },
     "execution_count": 204,
     "metadata": {},
     "output_type": "execute_result"
    }
   ],
   "source": [
    "vocab_pairs = mpra_df[mpra_df.seq_type=='vocab'].name.apply(lambda x:x.split('+')[0]).unique()\n",
    "len(vocab_pairs)"
   ]
  },
  {
   "cell_type": "code",
   "execution_count": 211,
   "metadata": {},
   "outputs": [
    {
     "data": {
      "text/html": [
       "<div>\n",
       "<style scoped>\n",
       "    .dataframe tbody tr th:only-of-type {\n",
       "        vertical-align: middle;\n",
       "    }\n",
       "\n",
       "    .dataframe tbody tr th {\n",
       "        vertical-align: top;\n",
       "    }\n",
       "\n",
       "    .dataframe thead th {\n",
       "        text-align: right;\n",
       "    }\n",
       "</style>\n",
       "<table border=\"1\" class=\"dataframe\">\n",
       "  <thead>\n",
       "    <tr style=\"text-align: right;\">\n",
       "      <th></th>\n",
       "      <th>name_config</th>\n",
       "      <th>seq_type</th>\n",
       "      <th>motif</th>\n",
       "      <th>score_count</th>\n",
       "      <th>score_mean</th>\n",
       "      <th>score_std</th>\n",
       "      <th>score_min</th>\n",
       "      <th>score_max</th>\n",
       "    </tr>\n",
       "  </thead>\n",
       "  <tbody>\n",
       "    <tr>\n",
       "      <td>0</td>\n",
       "      <td>ANAPC15</td>\n",
       "      <td>pos</td>\n",
       "      <td>ZNF85</td>\n",
       "      <td>1</td>\n",
       "      <td>1.316026</td>\n",
       "      <td>NaN</td>\n",
       "      <td>1.316026</td>\n",
       "      <td>1.316026</td>\n",
       "    </tr>\n",
       "    <tr>\n",
       "      <td>1</td>\n",
       "      <td>CELF1</td>\n",
       "      <td>pos</td>\n",
       "      <td>ZNF85</td>\n",
       "      <td>2</td>\n",
       "      <td>1.076643</td>\n",
       "      <td>0.808938</td>\n",
       "      <td>0.504637</td>\n",
       "      <td>1.648649</td>\n",
       "    </tr>\n",
       "    <tr>\n",
       "      <td>2</td>\n",
       "      <td>DEAF1</td>\n",
       "      <td>pos</td>\n",
       "      <td>ZNF85</td>\n",
       "      <td>1</td>\n",
       "      <td>2.637443</td>\n",
       "      <td>NaN</td>\n",
       "      <td>2.637443</td>\n",
       "      <td>2.637443</td>\n",
       "    </tr>\n",
       "    <tr>\n",
       "      <td>3</td>\n",
       "      <td>DEFB133</td>\n",
       "      <td>neg</td>\n",
       "      <td>ZNF85</td>\n",
       "      <td>1</td>\n",
       "      <td>5.499710</td>\n",
       "      <td>NaN</td>\n",
       "      <td>5.499710</td>\n",
       "      <td>5.499710</td>\n",
       "    </tr>\n",
       "    <tr>\n",
       "      <td>4</td>\n",
       "      <td>FOXR2</td>\n",
       "      <td>neg</td>\n",
       "      <td>ZNF85</td>\n",
       "      <td>1</td>\n",
       "      <td>8.319205</td>\n",
       "      <td>NaN</td>\n",
       "      <td>8.319205</td>\n",
       "      <td>8.319205</td>\n",
       "    </tr>\n",
       "  </tbody>\n",
       "</table>\n",
       "</div>"
      ],
      "text/plain": [
       "  name_config seq_type  motif  score_count  score_mean  score_std  score_min  \\\n",
       "0     ANAPC15      pos  ZNF85            1    1.316026        NaN   1.316026   \n",
       "1       CELF1      pos  ZNF85            2    1.076643   0.808938   0.504637   \n",
       "2       DEAF1      pos  ZNF85            1    2.637443        NaN   2.637443   \n",
       "3     DEFB133      neg  ZNF85            1    5.499710        NaN   5.499710   \n",
       "4       FOXR2      neg  ZNF85            1    8.319205        NaN   8.319205   \n",
       "\n",
       "   score_max  \n",
       "0   1.316026  \n",
       "1   1.648649  \n",
       "2   2.637443  \n",
       "3   5.499710  \n",
       "4   8.319205  "
      ]
     },
     "execution_count": 211,
     "metadata": {},
     "output_type": "execute_result"
    }
   ],
   "source": [
    "pos_neg_instance_scan_info_all[:5]"
   ]
  },
  {
   "cell_type": "code",
   "execution_count": 212,
   "metadata": {},
   "outputs": [],
   "source": [
    "neg_instance_scan_info_all = pos_neg_instance_scan_info_all[pos_neg_instance_scan_info_all.seq_type=='neg']"
   ]
  },
  {
   "cell_type": "code",
   "execution_count": 215,
   "metadata": {},
   "outputs": [],
   "source": [
    "neg_instance_motifs = neg_instance_scan_info_all.groupby('name_config').agg({'motif':'|'.join}).reset_index()"
   ]
  },
  {
   "cell_type": "code",
   "execution_count": 214,
   "metadata": {},
   "outputs": [],
   "source": [
    "def check_vocab_pair(motif_str, vocab_pairs=vocab_pairs):\n",
    "    motif_list = motif_str.split('|')\n",
    "    vocab_pairs_found = []\n",
    "    for vocab_pair in vocab_pairs:\n",
    "        v1, v2 = vocab_pair.split('::')\n",
    "        if (v1 in motif_list) & (v2 in motif_list):\n",
    "            vocab_pairs_found.append(vocab_pair)\n",
    "    return '|'.join(sorted(vocab_pairs_found)),len(vocab_pairs_found)"
   ]
  },
  {
   "cell_type": "code",
   "execution_count": 221,
   "metadata": {},
   "outputs": [
    {
     "data": {
      "text/html": [
       "<div>\n",
       "<style scoped>\n",
       "    .dataframe tbody tr th:only-of-type {\n",
       "        vertical-align: middle;\n",
       "    }\n",
       "\n",
       "    .dataframe tbody tr th {\n",
       "        vertical-align: top;\n",
       "    }\n",
       "\n",
       "    .dataframe thead th {\n",
       "        text-align: right;\n",
       "    }\n",
       "</style>\n",
       "<table border=\"1\" class=\"dataframe\">\n",
       "  <thead>\n",
       "    <tr style=\"text-align: right;\">\n",
       "      <th></th>\n",
       "      <th>name_config</th>\n",
       "      <th>motif</th>\n",
       "      <th>vocab_pairs_found</th>\n",
       "      <th>num_vocab_pairs_found</th>\n",
       "    </tr>\n",
       "  </thead>\n",
       "  <tbody>\n",
       "    <tr>\n",
       "      <td>0</td>\n",
       "      <td>BIRC8</td>\n",
       "      <td>TCF4|ZBTB33|RREB1|HIC2|FUBP1|ZNF320|HES5|KLF1|...</td>\n",
       "      <td>ARID5B::KLF5|ARNT::SP1|ASCL2::KLF5|BATF::KLF15...</td>\n",
       "      <td>35</td>\n",
       "    </tr>\n",
       "    <tr>\n",
       "      <td>1</td>\n",
       "      <td>CT47A12</td>\n",
       "      <td>ZNF589|MEF2C|THRA|ESRRB|ZNF143|ZNF341|E2F4|PAT...</td>\n",
       "      <td>ARID5B::KLF5|ARID5B::SOX10|ARID5B::STAT1|E2F1:...</td>\n",
       "      <td>109</td>\n",
       "    </tr>\n",
       "    <tr>\n",
       "      <td>2</td>\n",
       "      <td>CT47A6</td>\n",
       "      <td>ZNF589|MEF2C|THRA|ESRRB|ZNF143|ZNF341|E2F4|PAT...</td>\n",
       "      <td>ARID5B::KLF5|ARID5B::SOX10|ARID5B::STAT1|E2F1:...</td>\n",
       "      <td>109</td>\n",
       "    </tr>\n",
       "    <tr>\n",
       "      <td>3</td>\n",
       "      <td>DEFB133</td>\n",
       "      <td>ZNF85|THRA|ZIC2|ZNF768|ZNF467|FUBP1|ZNF320|FOX...</td>\n",
       "      <td>ARID5B::LEF1|ARID5B::SOX10|ARID5B::STAT1|CBFB:...</td>\n",
       "      <td>48</td>\n",
       "    </tr>\n",
       "    <tr>\n",
       "      <td>4</td>\n",
       "      <td>FAM25E</td>\n",
       "      <td>THRA|NANOG|ESRRB|HOXB4|ELK3|ARX|NFIB|ZNF768|TP...</td>\n",
       "      <td>BACH1::KLF5|BATF::KLF15|EBF1::ZNF816|EGR2::FOS...</td>\n",
       "      <td>62</td>\n",
       "    </tr>\n",
       "    <tr>\n",
       "      <td>...</td>\n",
       "      <td>...</td>\n",
       "      <td>...</td>\n",
       "      <td>...</td>\n",
       "      <td>...</td>\n",
       "    </tr>\n",
       "    <tr>\n",
       "      <td>84</td>\n",
       "      <td>USP17L30</td>\n",
       "      <td>ZNF589|ZNF143|HOXB4|ZIC2|ZNF708|TFE3|ZIC3|GCM1...</td>\n",
       "      <td>BATF::ZNF589|EGR2::FOSL2|EGR2::JUN|EGR2::JUNB|...</td>\n",
       "      <td>23</td>\n",
       "    </tr>\n",
       "    <tr>\n",
       "      <td>85</td>\n",
       "      <td>USP17L5</td>\n",
       "      <td>ZNF589|ZNF143|HOXB4|ZIC2|ZNF708|TFE3|ZIC3|GCM1...</td>\n",
       "      <td>BATF::ZNF589|EGR2::FOSL2|EGR2::JUN|EGR2::JUNB|...</td>\n",
       "      <td>23</td>\n",
       "    </tr>\n",
       "    <tr>\n",
       "      <td>86</td>\n",
       "      <td>ZNF479</td>\n",
       "      <td>GFI1|ZNF589|NANOG|ZBTB33|HOXB4|ZIC2|ETV6|E2F4|...</td>\n",
       "      <td>ARID5B::LEF1|ARID5B::SOX10|EGR1::IKZF1|EN2::PR...</td>\n",
       "      <td>24</td>\n",
       "    </tr>\n",
       "    <tr>\n",
       "      <td>87</td>\n",
       "      <td>ZNF679</td>\n",
       "      <td>E2F4|PATZ1|ZNF768|RUNX2|TP53|ZBED1|HIC2|TFE3|Z...</td>\n",
       "      <td>ARID5B::SOX10|E2F3::TP63|EGR1::IKZF1|EGR2::JUN...</td>\n",
       "      <td>33</td>\n",
       "    </tr>\n",
       "    <tr>\n",
       "      <td>88</td>\n",
       "      <td>ZNF99</td>\n",
       "      <td>MEF2C|ESRRB|ETV6|ELK3|NKX2-2|NR1H4|ZNF708|ZNF7...</td>\n",
       "      <td>ARID5B::SOX10|ARID5B::STAT1|EBF1::SP4|EBF1::ZN...</td>\n",
       "      <td>28</td>\n",
       "    </tr>\n",
       "  </tbody>\n",
       "</table>\n",
       "<p>89 rows × 4 columns</p>\n",
       "</div>"
      ],
      "text/plain": [
       "   name_config                                              motif  \\\n",
       "0        BIRC8  TCF4|ZBTB33|RREB1|HIC2|FUBP1|ZNF320|HES5|KLF1|...   \n",
       "1      CT47A12  ZNF589|MEF2C|THRA|ESRRB|ZNF143|ZNF341|E2F4|PAT...   \n",
       "2       CT47A6  ZNF589|MEF2C|THRA|ESRRB|ZNF143|ZNF341|E2F4|PAT...   \n",
       "3      DEFB133  ZNF85|THRA|ZIC2|ZNF768|ZNF467|FUBP1|ZNF320|FOX...   \n",
       "4       FAM25E  THRA|NANOG|ESRRB|HOXB4|ELK3|ARX|NFIB|ZNF768|TP...   \n",
       "..         ...                                                ...   \n",
       "84    USP17L30  ZNF589|ZNF143|HOXB4|ZIC2|ZNF708|TFE3|ZIC3|GCM1...   \n",
       "85     USP17L5  ZNF589|ZNF143|HOXB4|ZIC2|ZNF708|TFE3|ZIC3|GCM1...   \n",
       "86      ZNF479  GFI1|ZNF589|NANOG|ZBTB33|HOXB4|ZIC2|ETV6|E2F4|...   \n",
       "87      ZNF679  E2F4|PATZ1|ZNF768|RUNX2|TP53|ZBED1|HIC2|TFE3|Z...   \n",
       "88       ZNF99  MEF2C|ESRRB|ETV6|ELK3|NKX2-2|NR1H4|ZNF708|ZNF7...   \n",
       "\n",
       "                                    vocab_pairs_found  num_vocab_pairs_found  \n",
       "0   ARID5B::KLF5|ARNT::SP1|ASCL2::KLF5|BATF::KLF15...                     35  \n",
       "1   ARID5B::KLF5|ARID5B::SOX10|ARID5B::STAT1|E2F1:...                    109  \n",
       "2   ARID5B::KLF5|ARID5B::SOX10|ARID5B::STAT1|E2F1:...                    109  \n",
       "3   ARID5B::LEF1|ARID5B::SOX10|ARID5B::STAT1|CBFB:...                     48  \n",
       "4   BACH1::KLF5|BATF::KLF15|EBF1::ZNF816|EGR2::FOS...                     62  \n",
       "..                                                ...                    ...  \n",
       "84  BATF::ZNF589|EGR2::FOSL2|EGR2::JUN|EGR2::JUNB|...                     23  \n",
       "85  BATF::ZNF589|EGR2::FOSL2|EGR2::JUN|EGR2::JUNB|...                     23  \n",
       "86  ARID5B::LEF1|ARID5B::SOX10|EGR1::IKZF1|EN2::PR...                     24  \n",
       "87  ARID5B::SOX10|E2F3::TP63|EGR1::IKZF1|EGR2::JUN...                     33  \n",
       "88  ARID5B::SOX10|ARID5B::STAT1|EBF1::SP4|EBF1::ZN...                     28  \n",
       "\n",
       "[89 rows x 4 columns]"
      ]
     },
     "execution_count": 221,
     "metadata": {},
     "output_type": "execute_result"
    }
   ],
   "source": [
    "neg_instance_motifs = pd.concat([neg_instance_motifs,\n",
    "                                 neg_instance_motifs.motif.apply(check_vocab_pair).apply(lambda s: pd.Series({'vocab_pairs_found':s[0], 'num_vocab_pairs_found':s[1]}))],axis=1)\n",
    "neg_instance_motifs"
   ]
  },
  {
   "cell_type": "code",
   "execution_count": 225,
   "metadata": {},
   "outputs": [],
   "source": [
    "neg_instance_motifs_counts = Counter('|'.join(list(neg_instance_motifs.vocab_pairs_found)).split('|'))"
   ]
  },
  {
   "cell_type": "code",
   "execution_count": 226,
   "metadata": {},
   "outputs": [],
   "source": [
    "pos_instance_scan_info_all = pos_neg_instance_scan_info_all[pos_neg_instance_scan_info_all.seq_type=='pos']\n",
    "pos_instance_motifs = pos_instance_scan_info_all.groupby('name_config').agg({'motif':'|'.join}).reset_index()\n",
    "pos_instance_motifs = pd.concat([pos_instance_motifs,\n",
    "                                 pos_instance_motifs.motif.apply(check_vocab_pair).apply(lambda s: pd.Series({'vocab_pairs_found':s[0], 'num_vocab_pairs_found':s[1]}))],axis=1)\n",
    "pos_instance_motifs_counts = Counter('|'.join(list(pos_instance_motifs.vocab_pairs_found)).split('|'))"
   ]
  },
  {
   "cell_type": "code",
   "execution_count": 230,
   "metadata": {},
   "outputs": [],
   "source": [
    "control_vocab_pair_dict = {}\n",
    "for vocab in list(neg_instance_motifs_counts.keys()) + list(pos_instance_motifs_counts.keys()):\n",
    "    control_vocab_pair_dict[vocab] = {'in_pos':vocab in pos_instance_motifs_counts,\n",
    "                                      'in_neg':vocab in neg_instance_motifs_counts,\n",
    "                                      'count_pos':pos_instance_motifs_counts.get(vocab, 0),\n",
    "                                      'count_neg':neg_instance_motifs_counts.get(vocab, 0),\n",
    "        \n",
    "    }"
   ]
  },
  {
   "cell_type": "code",
   "execution_count": 235,
   "metadata": {},
   "outputs": [
    {
     "data": {
      "text/html": [
       "<div>\n",
       "<style scoped>\n",
       "    .dataframe tbody tr th:only-of-type {\n",
       "        vertical-align: middle;\n",
       "    }\n",
       "\n",
       "    .dataframe tbody tr th {\n",
       "        vertical-align: top;\n",
       "    }\n",
       "\n",
       "    .dataframe thead th {\n",
       "        text-align: right;\n",
       "    }\n",
       "</style>\n",
       "<table border=\"1\" class=\"dataframe\">\n",
       "  <thead>\n",
       "    <tr style=\"text-align: right;\">\n",
       "      <th></th>\n",
       "      <th>count_pos</th>\n",
       "      <th>count_neg</th>\n",
       "      <th>pos_neg_ratio</th>\n",
       "      <th>pos_neg_ratio_corr</th>\n",
       "    </tr>\n",
       "  </thead>\n",
       "  <tbody>\n",
       "    <tr>\n",
       "      <td>count</td>\n",
       "      <td>239.000000</td>\n",
       "      <td>239.000000</td>\n",
       "      <td>239.000000</td>\n",
       "      <td>239.000000</td>\n",
       "    </tr>\n",
       "    <tr>\n",
       "      <td>mean</td>\n",
       "      <td>10.991632</td>\n",
       "      <td>13.460251</td>\n",
       "      <td>1.051737</td>\n",
       "      <td>1.300063</td>\n",
       "    </tr>\n",
       "    <tr>\n",
       "      <td>std</td>\n",
       "      <td>6.036299</td>\n",
       "      <td>9.753123</td>\n",
       "      <td>0.676504</td>\n",
       "      <td>0.836235</td>\n",
       "    </tr>\n",
       "    <tr>\n",
       "      <td>min</td>\n",
       "      <td>0.000000</td>\n",
       "      <td>0.000000</td>\n",
       "      <td>0.076923</td>\n",
       "      <td>0.095085</td>\n",
       "    </tr>\n",
       "    <tr>\n",
       "      <td>25%</td>\n",
       "      <td>6.000000</td>\n",
       "      <td>7.000000</td>\n",
       "      <td>0.618056</td>\n",
       "      <td>0.763985</td>\n",
       "    </tr>\n",
       "    <tr>\n",
       "      <td>50%</td>\n",
       "      <td>10.000000</td>\n",
       "      <td>11.000000</td>\n",
       "      <td>0.937500</td>\n",
       "      <td>1.158854</td>\n",
       "    </tr>\n",
       "    <tr>\n",
       "      <td>75%</td>\n",
       "      <td>15.000000</td>\n",
       "      <td>16.000000</td>\n",
       "      <td>1.292857</td>\n",
       "      <td>1.598115</td>\n",
       "    </tr>\n",
       "    <tr>\n",
       "      <td>max</td>\n",
       "      <td>28.000000</td>\n",
       "      <td>55.000000</td>\n",
       "      <td>4.500000</td>\n",
       "      <td>5.562500</td>\n",
       "    </tr>\n",
       "  </tbody>\n",
       "</table>\n",
       "</div>"
      ],
      "text/plain": [
       "        count_pos   count_neg  pos_neg_ratio  pos_neg_ratio_corr\n",
       "count  239.000000  239.000000     239.000000          239.000000\n",
       "mean    10.991632   13.460251       1.051737            1.300063\n",
       "std      6.036299    9.753123       0.676504            0.836235\n",
       "min      0.000000    0.000000       0.076923            0.095085\n",
       "25%      6.000000    7.000000       0.618056            0.763985\n",
       "50%     10.000000   11.000000       0.937500            1.158854\n",
       "75%     15.000000   16.000000       1.292857            1.598115\n",
       "max     28.000000   55.000000       4.500000            5.562500"
      ]
     },
     "execution_count": 235,
     "metadata": {},
     "output_type": "execute_result"
    }
   ],
   "source": [
    "control_vocab_pair_df = pd.DataFrame.from_dict(control_vocab_pair_dict,orient='index')\n",
    "control_vocab_pair_df['pos_neg_ratio'] = (control_vocab_pair_df.count_pos+1)/(control_vocab_pair_df.count_neg+1)\n",
    "control_vocab_pair_df['pos_neg_ratio_corr'] = control_vocab_pair_df.pos_neg_ratio*neg_instance_motifs.shape[0]/pos_instance_motifs.shape[0]\n",
    "control_vocab_pair_df.sort_values('pos_neg_ratio_corr',inplace=True)\n",
    "control_vocab_pair_df.describe()"
   ]
  },
  {
   "cell_type": "code",
   "execution_count": null,
   "metadata": {},
   "outputs": [],
   "source": []
  },
  {
   "cell_type": "code",
   "execution_count": null,
   "metadata": {},
   "outputs": [],
   "source": []
  },
  {
   "cell_type": "code",
   "execution_count": null,
   "metadata": {},
   "outputs": [],
   "source": []
  },
  {
   "cell_type": "markdown",
   "metadata": {},
   "source": [
    "# 4. AME enrichment"
   ]
  },
  {
   "cell_type": "markdown",
   "metadata": {},
   "source": [
    "## AME motif enrichment for negative controls\n",
    "\n",
    "`ame --verbose 1 --oc . --scoring avg --method fisher --hit-lo-fraction 0.25 --evalue-report-threshold 10.0 --control --shuffle-- --kmer 2 mpra_neg_control_seq.fasta motifs.meme`\n",
    "\n",
    "AME motif enrichment neg control\n",
    "\n",
    "motifs: '../data/external/hocomoco_human_trim_jaspar_format.txt'"
   ]
  },
  {
   "cell_type": "code",
   "execution_count": 145,
   "metadata": {},
   "outputs": [
    {
     "data": {
      "text/plain": [
       "'../data/processed/fig4_modelling/vocab_sum_final/'"
      ]
     },
     "execution_count": 145,
     "metadata": {},
     "output_type": "execute_result"
    }
   ],
   "source": [
    "save_dir"
   ]
  },
  {
   "cell_type": "code",
   "execution_count": 165,
   "metadata": {},
   "outputs": [
    {
     "data": {
      "text/plain": [
       "123"
      ]
     },
     "execution_count": 165,
     "metadata": {},
     "output_type": "execute_result"
    }
   ],
   "source": [
    "# num actual tfs used \n",
    "vocab_pairs = mpra_df[mpra_df.seq_type=='vocab'].name.apply(lambda x:x.split('+')[0]).unique()\n",
    "list_tfs = []\n",
    "for vocab_pair in vocab_pairs:\n",
    "    vocab1, vocab2 = vocab_pair.split('::')\n",
    "    list_tfs.append(vocab1)\n",
    "    list_tfs.append(vocab2)\n",
    "list_tfs = sorted(set(list_tfs))\n",
    "len(list_tfs)"
   ]
  },
  {
   "cell_type": "code",
   "execution_count": 148,
   "metadata": {},
   "outputs": [],
   "source": [
    "#get motif annotation file\n",
    "tf_annon_df = pd.read_csv('../data/external/HOCOMOCOv11_annotation.csv',index_col=0)\n",
    "tf_annon_df['id_trim'] = tf_annon_df['id'] + '.pwm.trim'\n",
    "tf_name_to_id_dict = pd.Series(tf_annon_df.id_trim.values, index=tf_annon_df.tf.values).to_dict()\n",
    "tf_id_to_name_dict = pd.Series(tf_annon_df.tf.values, index=tf_annon_df.id_trim.values).to_dict()\n",
    "tf_name_to_id_abbr_dict = pd.Series(tf_annon_df.id.values, index=tf_annon_df.tf.values).to_dict()\n",
    "tf_id_abbr_to_name_dict = pd.Series(tf_annon_df.tf.values, index=tf_annon_df.id.values).to_dict()\n"
   ]
  },
  {
   "cell_type": "code",
   "execution_count": 197,
   "metadata": {},
   "outputs": [],
   "source": [
    "#get motif lengths\n",
    "motif_to_len = {}\n",
    "for file in sorted(glob.glob('../data/external/hocomoco_human_trim/*')):\n",
    "    motif_id = os.path.basename(file).split('.pwm')[0]\n",
    "#     print(tf_id_abbr_to_name_dict[motif_id])\n",
    "    with open(file, 'r') as g:\n",
    "        len_motif = len(g.readlines()[0].strip().split())\n",
    "        motif_to_len[tf_id_abbr_to_name_dict[motif_id]] = len_motif"
   ]
  },
  {
   "cell_type": "code",
   "execution_count": 198,
   "metadata": {},
   "outputs": [
    {
     "data": {
      "text/plain": [
       "(679, 678)"
      ]
     },
     "execution_count": 198,
     "metadata": {},
     "output_type": "execute_result"
    }
   ],
   "source": [
    "len(set(tf_id_abbr_to_name_dict.values())), len(motif_to_len)"
   ]
  },
  {
   "cell_type": "code",
   "execution_count": 166,
   "metadata": {},
   "outputs": [],
   "source": [
    "#read in motif enrichment results\n",
    "ame_result_file = os.path.join(save_dir, 'motif_scan_neg_control_ame.tsv')\n",
    "ame_result = pd.read_csv(ame_result_file, sep='\\t')\n",
    "ame_result['motif_DB'] = 'hocomoco_human_trim'\n",
    "ame_result['motif'] = ame_result.motif_ID.map(tf_id_abbr_to_name_dict)\n",
    "ame_result = ame_result[~ame_result.motif.isna()]\n",
    "ame_result['in_vocab'] = ame_result.motif.isin(list_tfs)"
   ]
  },
  {
   "cell_type": "code",
   "execution_count": 167,
   "metadata": {},
   "outputs": [
    {
     "data": {
      "text/html": [
       "<div>\n",
       "<style scoped>\n",
       "    .dataframe tbody tr th:only-of-type {\n",
       "        vertical-align: middle;\n",
       "    }\n",
       "\n",
       "    .dataframe tbody tr th {\n",
       "        vertical-align: top;\n",
       "    }\n",
       "\n",
       "    .dataframe thead th {\n",
       "        text-align: right;\n",
       "    }\n",
       "</style>\n",
       "<table border=\"1\" class=\"dataframe\">\n",
       "  <thead>\n",
       "    <tr style=\"text-align: right;\">\n",
       "      <th></th>\n",
       "      <th>rank</th>\n",
       "      <th>motif_DB</th>\n",
       "      <th>motif_ID</th>\n",
       "      <th>motif_alt_ID</th>\n",
       "      <th>consensus</th>\n",
       "      <th>p-value</th>\n",
       "      <th>adj_p-value</th>\n",
       "      <th>E-value</th>\n",
       "      <th>tests</th>\n",
       "      <th>FASTA_max</th>\n",
       "      <th>pos</th>\n",
       "      <th>neg</th>\n",
       "      <th>PWM_min</th>\n",
       "      <th>TP</th>\n",
       "      <th>%TP</th>\n",
       "      <th>FP</th>\n",
       "      <th>%FP</th>\n",
       "      <th>motif</th>\n",
       "      <th>in_vocab</th>\n",
       "    </tr>\n",
       "  </thead>\n",
       "  <tbody>\n",
       "    <tr>\n",
       "      <td>0</td>\n",
       "      <td>1</td>\n",
       "      <td>hocomoco_human_trim</td>\n",
       "      <td>ZN423_HUMAN.H11MO.0.D</td>\n",
       "      <td>NaN</td>\n",
       "      <td>GRCACCCWAGGGTGC</td>\n",
       "      <td>7.200000e-17</td>\n",
       "      <td>4.100000e-15</td>\n",
       "      <td>3.150000e-12</td>\n",
       "      <td>57.0</td>\n",
       "      <td>89.0</td>\n",
       "      <td>89.0</td>\n",
       "      <td>1068.0</td>\n",
       "      <td>2.04</td>\n",
       "      <td>25.0</td>\n",
       "      <td>28.09</td>\n",
       "      <td>24.0</td>\n",
       "      <td>2.25</td>\n",
       "      <td>ZNF423</td>\n",
       "      <td>False</td>\n",
       "    </tr>\n",
       "    <tr>\n",
       "      <td>1</td>\n",
       "      <td>2</td>\n",
       "      <td>hocomoco_human_trim</td>\n",
       "      <td>EGR1_HUMAN.H11MO.0.A</td>\n",
       "      <td>NaN</td>\n",
       "      <td>GCGKGGGYGG</td>\n",
       "      <td>9.340000e-16</td>\n",
       "      <td>2.250000e-13</td>\n",
       "      <td>1.730000e-10</td>\n",
       "      <td>241.0</td>\n",
       "      <td>89.0</td>\n",
       "      <td>89.0</td>\n",
       "      <td>1068.0</td>\n",
       "      <td>7.79</td>\n",
       "      <td>27.0</td>\n",
       "      <td>30.34</td>\n",
       "      <td>36.0</td>\n",
       "      <td>3.37</td>\n",
       "      <td>EGR1</td>\n",
       "      <td>True</td>\n",
       "    </tr>\n",
       "    <tr>\n",
       "      <td>2</td>\n",
       "      <td>3</td>\n",
       "      <td>hocomoco_human_trim</td>\n",
       "      <td>KLF14_HUMAN.H11MO.0.D</td>\n",
       "      <td>NaN</td>\n",
       "      <td>GKGGGCGTG</td>\n",
       "      <td>3.930000e-15</td>\n",
       "      <td>2.790000e-13</td>\n",
       "      <td>2.150000e-10</td>\n",
       "      <td>71.0</td>\n",
       "      <td>89.0</td>\n",
       "      <td>89.0</td>\n",
       "      <td>1068.0</td>\n",
       "      <td>2.96</td>\n",
       "      <td>21.0</td>\n",
       "      <td>23.60</td>\n",
       "      <td>17.0</td>\n",
       "      <td>1.59</td>\n",
       "      <td>KLF14</td>\n",
       "      <td>False</td>\n",
       "    </tr>\n",
       "    <tr>\n",
       "      <td>3</td>\n",
       "      <td>4</td>\n",
       "      <td>hocomoco_human_trim</td>\n",
       "      <td>ZN547_HUMAN.H11MO.0.C</td>\n",
       "      <td>NaN</td>\n",
       "      <td>TGCTAATKCWGCARGCABRC</td>\n",
       "      <td>2.770000e-13</td>\n",
       "      <td>1.880000e-11</td>\n",
       "      <td>1.450000e-08</td>\n",
       "      <td>68.0</td>\n",
       "      <td>89.0</td>\n",
       "      <td>89.0</td>\n",
       "      <td>1068.0</td>\n",
       "      <td>9.19</td>\n",
       "      <td>17.0</td>\n",
       "      <td>19.10</td>\n",
       "      <td>11.0</td>\n",
       "      <td>1.03</td>\n",
       "      <td>ZNF547</td>\n",
       "      <td>False</td>\n",
       "    </tr>\n",
       "    <tr>\n",
       "      <td>4</td>\n",
       "      <td>5</td>\n",
       "      <td>hocomoco_human_trim</td>\n",
       "      <td>MAFF_HUMAN.H11MO.0.B</td>\n",
       "      <td>NaN</td>\n",
       "      <td>TGCTGASTCAGCABTTT</td>\n",
       "      <td>9.320000e-11</td>\n",
       "      <td>1.790000e-08</td>\n",
       "      <td>1.380000e-05</td>\n",
       "      <td>192.0</td>\n",
       "      <td>89.0</td>\n",
       "      <td>89.0</td>\n",
       "      <td>1068.0</td>\n",
       "      <td>6.37</td>\n",
       "      <td>21.0</td>\n",
       "      <td>23.60</td>\n",
       "      <td>36.0</td>\n",
       "      <td>3.37</td>\n",
       "      <td>MAFF</td>\n",
       "      <td>True</td>\n",
       "    </tr>\n",
       "    <tr>\n",
       "      <td>...</td>\n",
       "      <td>...</td>\n",
       "      <td>...</td>\n",
       "      <td>...</td>\n",
       "      <td>...</td>\n",
       "      <td>...</td>\n",
       "      <td>...</td>\n",
       "      <td>...</td>\n",
       "      <td>...</td>\n",
       "      <td>...</td>\n",
       "      <td>...</td>\n",
       "      <td>...</td>\n",
       "      <td>...</td>\n",
       "      <td>...</td>\n",
       "      <td>...</td>\n",
       "      <td>...</td>\n",
       "      <td>...</td>\n",
       "      <td>...</td>\n",
       "      <td>...</td>\n",
       "      <td>...</td>\n",
       "    </tr>\n",
       "    <tr>\n",
       "      <td>65</td>\n",
       "      <td>66</td>\n",
       "      <td>hocomoco_human_trim</td>\n",
       "      <td>SOX4_HUMAN.H11MO.0.B</td>\n",
       "      <td>NaN</td>\n",
       "      <td>YCTTTGTYY</td>\n",
       "      <td>3.100000e-05</td>\n",
       "      <td>1.050000e-02</td>\n",
       "      <td>8.070000e+00</td>\n",
       "      <td>340.0</td>\n",
       "      <td>89.0</td>\n",
       "      <td>89.0</td>\n",
       "      <td>1068.0</td>\n",
       "      <td>1.26</td>\n",
       "      <td>41.0</td>\n",
       "      <td>46.07</td>\n",
       "      <td>267.0</td>\n",
       "      <td>25.00</td>\n",
       "      <td>SOX4</td>\n",
       "      <td>False</td>\n",
       "    </tr>\n",
       "    <tr>\n",
       "      <td>66</td>\n",
       "      <td>67</td>\n",
       "      <td>hocomoco_human_trim</td>\n",
       "      <td>EPAS1_HUMAN.H11MO.0.B</td>\n",
       "      <td>NaN</td>\n",
       "      <td>ACGTG</td>\n",
       "      <td>1.120000e-04</td>\n",
       "      <td>1.100000e-02</td>\n",
       "      <td>8.430000e+00</td>\n",
       "      <td>98.0</td>\n",
       "      <td>89.0</td>\n",
       "      <td>89.0</td>\n",
       "      <td>1068.0</td>\n",
       "      <td>6.90</td>\n",
       "      <td>5.0</td>\n",
       "      <td>5.62</td>\n",
       "      <td>3.0</td>\n",
       "      <td>0.28</td>\n",
       "      <td>EPAS1</td>\n",
       "      <td>False</td>\n",
       "    </tr>\n",
       "    <tr>\n",
       "      <td>67</td>\n",
       "      <td>68</td>\n",
       "      <td>hocomoco_human_trim</td>\n",
       "      <td>SPIC_HUMAN.H11MO.0.D</td>\n",
       "      <td>NaN</td>\n",
       "      <td>RWGGG</td>\n",
       "      <td>1.650000e-05</td>\n",
       "      <td>1.130000e-02</td>\n",
       "      <td>8.680000e+00</td>\n",
       "      <td>690.0</td>\n",
       "      <td>89.0</td>\n",
       "      <td>89.0</td>\n",
       "      <td>1068.0</td>\n",
       "      <td>1.77</td>\n",
       "      <td>30.0</td>\n",
       "      <td>33.71</td>\n",
       "      <td>157.0</td>\n",
       "      <td>14.70</td>\n",
       "      <td>SPIC</td>\n",
       "      <td>False</td>\n",
       "    </tr>\n",
       "    <tr>\n",
       "      <td>68</td>\n",
       "      <td>69</td>\n",
       "      <td>hocomoco_human_trim</td>\n",
       "      <td>ZIC2_HUMAN.H11MO.0.D</td>\n",
       "      <td>NaN</td>\n",
       "      <td>CCTGCTGWG</td>\n",
       "      <td>3.450000e-05</td>\n",
       "      <td>1.170000e-02</td>\n",
       "      <td>9.000000e+00</td>\n",
       "      <td>341.0</td>\n",
       "      <td>89.0</td>\n",
       "      <td>89.0</td>\n",
       "      <td>1068.0</td>\n",
       "      <td>3.93</td>\n",
       "      <td>23.0</td>\n",
       "      <td>25.84</td>\n",
       "      <td>105.0</td>\n",
       "      <td>9.83</td>\n",
       "      <td>ZIC2</td>\n",
       "      <td>False</td>\n",
       "    </tr>\n",
       "    <tr>\n",
       "      <td>69</td>\n",
       "      <td>70</td>\n",
       "      <td>hocomoco_human_trim</td>\n",
       "      <td>ZN384_HUMAN.H11MO.0.C</td>\n",
       "      <td>NaN</td>\n",
       "      <td>GSAAAAA</td>\n",
       "      <td>3.440000e-05</td>\n",
       "      <td>1.180000e-02</td>\n",
       "      <td>9.070000e+00</td>\n",
       "      <td>345.0</td>\n",
       "      <td>89.0</td>\n",
       "      <td>89.0</td>\n",
       "      <td>1068.0</td>\n",
       "      <td>2.15</td>\n",
       "      <td>34.0</td>\n",
       "      <td>38.20</td>\n",
       "      <td>200.0</td>\n",
       "      <td>18.73</td>\n",
       "      <td>ZNF384</td>\n",
       "      <td>False</td>\n",
       "    </tr>\n",
       "  </tbody>\n",
       "</table>\n",
       "<p>70 rows × 19 columns</p>\n",
       "</div>"
      ],
      "text/plain": [
       "   rank             motif_DB               motif_ID  motif_alt_ID  \\\n",
       "0     1  hocomoco_human_trim  ZN423_HUMAN.H11MO.0.D           NaN   \n",
       "1     2  hocomoco_human_trim   EGR1_HUMAN.H11MO.0.A           NaN   \n",
       "2     3  hocomoco_human_trim  KLF14_HUMAN.H11MO.0.D           NaN   \n",
       "3     4  hocomoco_human_trim  ZN547_HUMAN.H11MO.0.C           NaN   \n",
       "4     5  hocomoco_human_trim   MAFF_HUMAN.H11MO.0.B           NaN   \n",
       "..  ...                  ...                    ...           ...   \n",
       "65   66  hocomoco_human_trim   SOX4_HUMAN.H11MO.0.B           NaN   \n",
       "66   67  hocomoco_human_trim  EPAS1_HUMAN.H11MO.0.B           NaN   \n",
       "67   68  hocomoco_human_trim   SPIC_HUMAN.H11MO.0.D           NaN   \n",
       "68   69  hocomoco_human_trim   ZIC2_HUMAN.H11MO.0.D           NaN   \n",
       "69   70  hocomoco_human_trim  ZN384_HUMAN.H11MO.0.C           NaN   \n",
       "\n",
       "               consensus       p-value   adj_p-value       E-value  tests  \\\n",
       "0        GRCACCCWAGGGTGC  7.200000e-17  4.100000e-15  3.150000e-12   57.0   \n",
       "1             GCGKGGGYGG  9.340000e-16  2.250000e-13  1.730000e-10  241.0   \n",
       "2              GKGGGCGTG  3.930000e-15  2.790000e-13  2.150000e-10   71.0   \n",
       "3   TGCTAATKCWGCARGCABRC  2.770000e-13  1.880000e-11  1.450000e-08   68.0   \n",
       "4      TGCTGASTCAGCABTTT  9.320000e-11  1.790000e-08  1.380000e-05  192.0   \n",
       "..                   ...           ...           ...           ...    ...   \n",
       "65             YCTTTGTYY  3.100000e-05  1.050000e-02  8.070000e+00  340.0   \n",
       "66                 ACGTG  1.120000e-04  1.100000e-02  8.430000e+00   98.0   \n",
       "67                 RWGGG  1.650000e-05  1.130000e-02  8.680000e+00  690.0   \n",
       "68             CCTGCTGWG  3.450000e-05  1.170000e-02  9.000000e+00  341.0   \n",
       "69               GSAAAAA  3.440000e-05  1.180000e-02  9.070000e+00  345.0   \n",
       "\n",
       "    FASTA_max   pos     neg  PWM_min    TP    %TP     FP    %FP   motif  \\\n",
       "0        89.0  89.0  1068.0     2.04  25.0  28.09   24.0   2.25  ZNF423   \n",
       "1        89.0  89.0  1068.0     7.79  27.0  30.34   36.0   3.37    EGR1   \n",
       "2        89.0  89.0  1068.0     2.96  21.0  23.60   17.0   1.59   KLF14   \n",
       "3        89.0  89.0  1068.0     9.19  17.0  19.10   11.0   1.03  ZNF547   \n",
       "4        89.0  89.0  1068.0     6.37  21.0  23.60   36.0   3.37    MAFF   \n",
       "..        ...   ...     ...      ...   ...    ...    ...    ...     ...   \n",
       "65       89.0  89.0  1068.0     1.26  41.0  46.07  267.0  25.00    SOX4   \n",
       "66       89.0  89.0  1068.0     6.90   5.0   5.62    3.0   0.28   EPAS1   \n",
       "67       89.0  89.0  1068.0     1.77  30.0  33.71  157.0  14.70    SPIC   \n",
       "68       89.0  89.0  1068.0     3.93  23.0  25.84  105.0   9.83    ZIC2   \n",
       "69       89.0  89.0  1068.0     2.15  34.0  38.20  200.0  18.73  ZNF384   \n",
       "\n",
       "    in_vocab  \n",
       "0      False  \n",
       "1       True  \n",
       "2      False  \n",
       "3      False  \n",
       "4       True  \n",
       "..       ...  \n",
       "65     False  \n",
       "66     False  \n",
       "67     False  \n",
       "68     False  \n",
       "69     False  \n",
       "\n",
       "[70 rows x 19 columns]"
      ]
     },
     "execution_count": 167,
     "metadata": {},
     "output_type": "execute_result"
    }
   ],
   "source": [
    "ame_result"
   ]
  },
  {
   "cell_type": "markdown",
   "metadata": {},
   "source": [
    "#### these are the motifs that are enriched in the negative control sequences"
   ]
  },
  {
   "cell_type": "code",
   "execution_count": 164,
   "metadata": {},
   "outputs": [
    {
     "name": "stdout",
     "output_type": "stream",
     "text": [
      "70\n",
      "['ATF1', 'BCL6', 'CBFB', 'DBP', 'E2F1', 'E2F3', 'E2F4', 'E2F6', 'E2F7', 'E2F8', 'EGR1', 'EGR2', 'EGR3', 'EGR4', 'EPAS1', 'ETS2', 'HLF', 'HOXB4', 'HSF1', 'HSF2', 'KLF1', 'KLF12', 'KLF14', 'KLF16', 'KLF3', 'KLF4', 'KLF5', 'KLF6', 'MAFF', 'MAFK', 'NKX2-2', 'NKX2-5', 'NRF1', 'PATZ1', 'POU3F1', 'PPARA', 'PRDM6', 'PURA', 'RARG', 'RHOXF1', 'RORC', 'RUNX3', 'SOX10', 'SOX4', 'SP1', 'SP2', 'SP4', 'SPDEF', 'SPIC', 'STAT4', 'STAT5A', 'STAT5B', 'TBX1', 'TFCP2', 'UBP1', 'XBP1', 'ZBTB17', 'ZBTB33', 'ZIC2', 'ZNF219', 'ZNF281', 'ZNF341', 'ZNF384', 'ZNF394', 'ZNF423', 'ZNF547', 'ZNF667', 'ZNF708', 'ZNF740', 'ZNF76']\n"
     ]
    }
   ],
   "source": [
    "enriched_motifs_in_neg = sorted(ame_result.motif.unique())\n",
    "print(len(enriched_motifs_in_neg))\n",
    "print(enriched_motifs_in_neg)"
   ]
  },
  {
   "cell_type": "markdown",
   "metadata": {},
   "source": [
    "#### these are the motifs that are enriched in the negative control sequences AND are part of vocab words"
   ]
  },
  {
   "cell_type": "code",
   "execution_count": 168,
   "metadata": {},
   "outputs": [
    {
     "name": "stdout",
     "output_type": "stream",
     "text": [
      "(70, 19) (31, 19)\n",
      "31\n",
      "['CBFB', 'E2F1', 'E2F3', 'E2F4', 'E2F6', 'E2F7', 'EGR1', 'EGR2', 'EGR3', 'EGR4', 'KLF16', 'KLF4', 'KLF5', 'KLF6', 'MAFF', 'MAFK', 'NRF1', 'PATZ1', 'PURA', 'RARG', 'RUNX3', 'SOX10', 'SP1', 'SP2', 'SP4', 'TBX1', 'UBP1', 'XBP1', 'ZBTB17', 'ZNF219', 'ZNF394']\n"
     ]
    }
   ],
   "source": [
    "ame_result_filt = ame_result[ame_result.in_vocab]\n",
    "print(ame_result.shape, ame_result_filt.shape)\n",
    "enriched_motifs_in_neg_vocab = sorted(ame_result_filt.motif.unique())\n",
    "print(len(enriched_motifs_in_neg_vocab))\n",
    "print(enriched_motifs_in_neg_vocab)"
   ]
  },
  {
   "cell_type": "markdown",
   "metadata": {},
   "source": [
    "## AME motif enrichment negative controls (background vocab words)\n",
    "`ame --verbose 1 --oc . --scoring avg --method fisher --hit-lo-fraction 0.25 --evalue-report-threshold 10.0 --control mpra_vocab_seq2.fasta mpra_neg_control_seq.fasta motifs.meme`"
   ]
  },
  {
   "cell_type": "code",
   "execution_count": 173,
   "metadata": {},
   "outputs": [
    {
     "name": "stdout",
     "output_type": "stream",
     "text": [
      "enriched motifs\n",
      "84\n",
      "['ALX1', 'ATF1', 'BCL6', 'BPTF', 'CBFB', 'CDC5L', 'DBP', 'DLX2', 'DLX3', 'DLX5', 'DMBX1', 'EN2', 'FOXC2', 'FOXP3', 'GATA3', 'GATA5', 'GFI1B', 'GSX1', 'GSX2', 'HBP1', 'HLF', 'HMGA1', 'HOXA13', 'HOXA2', 'HOXB3', 'HOXB4', 'HOXB7', 'HOXB8', 'HOXC6', 'HOXC8', 'HOXD10', 'HOXD12', 'HOXD4', 'HOXD9', 'HSF1', 'HSF2', 'IRX3', 'LMX1A', 'LMX1B', 'MAFF', 'MAFK', 'MEIS1', 'MIXL1', 'MSX2', 'MYBL2', 'NFATC3', 'NFE2L1', 'NFIL3', 'NKX2-2', 'NKX2-5', 'NKX6-1', 'NKX6-2', 'ONECUT1', 'ONECUT2', 'PAX6', 'PBX2', 'POU1F1', 'POU3F1', 'POU3F3', 'PRDM6', 'PRRX1', 'PRRX2', 'RHOXF1', 'RORC', 'RUNX3', 'SMARCA1', 'SOX10', 'SOX2', 'SPDEF', 'STAT4', 'STAT5A', 'STAT5B', 'UBP1', 'ZBTB49', 'ZFHX3', 'ZNF146', 'ZNF250', 'ZNF333', 'ZNF384', 'ZNF394', 'ZNF423', 'ZNF547', 'ZNF667', 'ZNF680']\n",
      "enriched motifs with tested vocab pair\n",
      "(84, 19) (16, 19)\n",
      "16\n",
      "['CBFB', 'EN2', 'HBP1', 'HMGA1', 'IRX3', 'MAFF', 'MAFK', 'MSX2', 'MYBL2', 'NFE2L1', 'PRRX1', 'RUNX3', 'SOX10', 'UBP1', 'ZBTB49', 'ZNF394']\n"
     ]
    }
   ],
   "source": [
    "#read in motif enrichment results\n",
    "ame_result_file = os.path.join(save_dir, 'motif_scan_neg_control_bckgdvocab_ame.tsv')\n",
    "ame_result = pd.read_csv(ame_result_file, sep='\\t')\n",
    "ame_result['motif_DB'] = 'hocomoco_human_trim'\n",
    "ame_result['motif'] = ame_result.motif_ID.map(tf_id_abbr_to_name_dict)\n",
    "ame_result = ame_result[~ame_result.motif.isna()]\n",
    "ame_result['in_vocab'] = ame_result.motif.isin(list_tfs)\n",
    "\n",
    "print('enriched motifs')\n",
    "enriched_motifs = sorted(ame_result.motif.unique())\n",
    "print(len(enriched_motifs))\n",
    "print(enriched_motifs)\n",
    "\n",
    "print('enriched motifs with tested vocab pair')\n",
    "ame_result_filt = ame_result[ame_result.in_vocab]\n",
    "print(ame_result.shape, ame_result_filt.shape)\n",
    "enriched_motifs_vocab = sorted(ame_result_filt.motif.unique())\n",
    "print(len(enriched_motifs_vocab))\n",
    "print(enriched_motifs_vocab)"
   ]
  },
  {
   "cell_type": "code",
   "execution_count": null,
   "metadata": {},
   "outputs": [],
   "source": []
  },
  {
   "cell_type": "code",
   "execution_count": null,
   "metadata": {},
   "outputs": [],
   "source": []
  },
  {
   "cell_type": "markdown",
   "metadata": {},
   "source": [
    "## AME motif enrichment for positive controls\n",
    "\n",
    "`ame --verbose 1 --oc . --scoring avg --method fisher --hit-lo-fraction 0.25 --evalue-report-threshold 10.0 --control --shuffle-- --kmer 2 mpra_pos_control_seq.fasta motifs.meme`\n",
    "\n",
    "AME motif enrichment neg control\n",
    "\n",
    "motifs: '../data/external/hocomoco_human_trim_jaspar_format.txt'"
   ]
  },
  {
   "cell_type": "code",
   "execution_count": 174,
   "metadata": {},
   "outputs": [
    {
     "name": "stdout",
     "output_type": "stream",
     "text": [
      "enriched motifs\n",
      "19\n",
      "['ATF1', 'CPEB1', 'CREB1', 'E2F7', 'EGR2', 'EGR4', 'ELK4', 'ERG', 'FOXL1', 'IRF3', 'IRF7', 'IRF8', 'NRF1', 'SP2', 'SP4', 'TAF1', 'VEZF1', 'ZBTB17', 'ZNF467']\n",
      "enriched motifs with tested vocab pair\n",
      "(20, 19) (12, 19)\n",
      "11\n",
      "['E2F7', 'EGR2', 'EGR4', 'FOXL1', 'IRF3', 'IRF8', 'NRF1', 'SP2', 'SP4', 'VEZF1', 'ZBTB17']\n"
     ]
    }
   ],
   "source": [
    "#read in motif enrichment results\n",
    "ame_result_file = os.path.join(save_dir, 'motif_scan_pos_control_ame.tsv')\n",
    "ame_result = pd.read_csv(ame_result_file, sep='\\t')\n",
    "ame_result['motif_DB'] = 'hocomoco_human_trim'\n",
    "ame_result['motif'] = ame_result.motif_ID.map(tf_id_abbr_to_name_dict)\n",
    "ame_result = ame_result[~ame_result.motif.isna()]\n",
    "ame_result['in_vocab'] = ame_result.motif.isin(list_tfs)\n",
    "\n",
    "print('enriched motifs')\n",
    "enriched_motifs = sorted(ame_result.motif.unique())\n",
    "print(len(enriched_motifs))\n",
    "print(enriched_motifs)\n",
    "\n",
    "print('enriched motifs with tested vocab pair')\n",
    "ame_result_filt = ame_result[ame_result.in_vocab]\n",
    "print(ame_result.shape, ame_result_filt.shape)\n",
    "enriched_motifs_vocab = sorted(ame_result_filt.motif.unique())\n",
    "print(len(enriched_motifs_vocab))\n",
    "print(enriched_motifs_vocab)"
   ]
  },
  {
   "cell_type": "markdown",
   "metadata": {},
   "source": [
    "## AME motif enrichment for positive controls background vocab words\n",
    "\n",
    "`ame --verbose 1 --oc . --scoring avg --method fisher --hit-lo-fraction 0.25 --evalue-report-threshold 10.0 --control mpra_vocab_seq2.fasta mpra_pos_control_seq.fasta motifs.meme`\n",
    "\n",
    "AME motif enrichment neg control\n",
    "\n",
    "motifs: '../data/external/hocomoco_human_trim_jaspar_format.txt'"
   ]
  },
  {
   "cell_type": "code",
   "execution_count": 175,
   "metadata": {},
   "outputs": [
    {
     "name": "stdout",
     "output_type": "stream",
     "text": [
      "enriched motifs\n",
      "1\n",
      "['E2F5']\n",
      "enriched motifs with tested vocab pair\n",
      "(1, 19) (0, 19)\n",
      "0\n",
      "[]\n"
     ]
    }
   ],
   "source": [
    "#read in motif enrichment results\n",
    "ame_result_file = os.path.join(save_dir, 'motif_scan_pos_control_bckgdvocab_ame.tsv')\n",
    "ame_result = pd.read_csv(ame_result_file, sep='\\t')\n",
    "ame_result['motif_DB'] = 'hocomoco_human_trim'\n",
    "ame_result['motif'] = ame_result.motif_ID.map(tf_id_abbr_to_name_dict)\n",
    "ame_result = ame_result[~ame_result.motif.isna()]\n",
    "ame_result['in_vocab'] = ame_result.motif.isin(list_tfs)\n",
    "\n",
    "print('enriched motifs')\n",
    "enriched_motifs = sorted(ame_result.motif.unique())\n",
    "print(len(enriched_motifs))\n",
    "print(enriched_motifs)\n",
    "\n",
    "print('enriched motifs with tested vocab pair')\n",
    "ame_result_filt = ame_result[ame_result.in_vocab]\n",
    "print(ame_result.shape, ame_result_filt.shape)\n",
    "enriched_motifs_vocab = sorted(ame_result_filt.motif.unique())\n",
    "print(len(enriched_motifs_vocab))\n",
    "print(enriched_motifs_vocab)"
   ]
  },
  {
   "cell_type": "markdown",
   "metadata": {},
   "source": [
    "## AME motif enrichment for vocab words\n",
    "\n",
    "`ame --verbose 1 --oc . --scoring avg --method fisher --hit-lo-fraction 0.25 --evalue-report-threshold 10.0 --control --shuffle-- --kmer 2 mpra_vocab_seq2.fasta motifs.meme\n",
    "`\n",
    "\n",
    "AME motif enrichment neg control\n",
    "\n",
    "motifs: '../data/external/hocomoco_human_trim_jaspar_format.txt'"
   ]
  },
  {
   "cell_type": "code",
   "execution_count": 177,
   "metadata": {},
   "outputs": [
    {
     "name": "stdout",
     "output_type": "stream",
     "text": [
      "enriched motifs\n",
      "437\n",
      "['AHR', 'AR', 'ARID3A', 'ARNT', 'ARNT2', 'ARNTL', 'ASCL1', 'ASCL2', 'ATF1', 'ATF2', 'ATF3', 'ATF4', 'ATF6', 'ATF7', 'ATOH1', 'BACH1', 'BACH2', 'BARHL2', 'BATF', 'BATF3', 'BCL11A', 'BCL6', 'BHLHA15', 'BHLHE23', 'BHLHE40', 'BHLHE41', 'BPTF', 'BSX', 'CBFB', 'CDC5L', 'CDX1', 'CDX2', 'CEBPA', 'CEBPB', 'CEBPZ', 'CLOCK', 'CPEB1', 'CREB1', 'CREB3', 'CREB3L1', 'CREB3L2', 'CREB5', 'CREM', 'CTCF', 'CTCFL', 'DLX2', 'DLX4', 'DLX5', 'DLX6', 'DMBX1', 'DMRT1', 'E2F1', 'E2F3', 'E2F4', 'E2F6', 'E2F7', 'E2F8', 'E4F1', 'EGR1', 'EGR2', 'EGR3', 'EGR4', 'EHF', 'ELF1', 'ELF2', 'ELF3', 'ELF5', 'ELK1', 'ELK3', 'ELK4', 'EN1', 'EPAS1', 'ERG', 'ESR2', 'ESRRA', 'ESRRB', 'ESX1', 'ETS1', 'ETS2', 'ETV1', 'ETV2', 'ETV3', 'ETV4', 'ETV5', 'ETV6', 'ETV7', 'FEV', 'FEZF1', 'FIGLA', 'FLI1', 'FOS', 'FOSB', 'FOSL1', 'FOSL2', 'FOXA1', 'FOXA2', 'FOXA3', 'FOXB1', 'FOXC1', 'FOXC2', 'FOXD1', 'FOXD2', 'FOXD3', 'FOXF1', 'FOXF2', 'FOXG1', 'FOXH1', 'FOXI1', 'FOXJ2', 'FOXJ3', 'FOXK1', 'FOXL1', 'FOXM1', 'FOXO1', 'FOXO3', 'FOXO4', 'FOXO6', 'FOXP1', 'FOXP2', 'FOXP3', 'FOXQ1', 'FUBP1', 'GABPA', 'GATA3', 'GBX1', 'GBX2', 'GLI3', 'GSX1', 'GSX2', 'HAND1', 'HEY1', 'HIF1A', 'HMGA1', 'HMX1', 'HMX2', 'HNF1A', 'HNF4A', 'HNF4G', 'HOXA10', 'HOXA11', 'HOXA13', 'HOXB13', 'HOXB3', 'HOXB4', 'HOXB6', 'HOXC10', 'HOXC11', 'HOXC12', 'HOXC13', 'HOXC6', 'HOXC9', 'HOXD10', 'HOXD11', 'HOXD12', 'HOXD13', 'HOXD4', 'HOXD9', 'HSF1', 'HSFY1; HSFY2', 'ID4', 'IKZF1', 'IRF1', 'IRF2', 'IRF3', 'IRF4', 'IRF5', 'IRF6', 'IRF7', 'IRF8', 'IRF9', 'IRX2', 'JDP2', 'JUN', 'JUNB', 'JUND', 'KLF1', 'KLF12', 'KLF13', 'KLF14', 'KLF15', 'KLF16', 'KLF3', 'KLF4', 'KLF5', 'KLF6', 'KLF9', 'LEF1', 'LHX3', 'LHX4', 'LHX9', 'LMX1A', 'LMX1B', 'LYL1', 'MAF', 'MAFA', 'MAFB', 'MAFF', 'MAFG', 'MAFK', 'MAX', 'MAZ', 'MEF2A', 'MEF2B', 'MEF2C', 'MEF2D', 'MEIS1', 'MEIS2', 'MEIS3', 'MEOX2', 'MESP1', 'MITF', 'MLX', 'MNX1', 'MSX1', 'MSX2', 'MXI1', 'MYC', 'MYCN', 'MYF6', 'MYNN', 'MYOD1', 'MYOG', 'NANOG', 'NEUROD1', 'NEUROD2', 'NEUROG2', 'NFAT5', 'NFATC1', 'NFATC2', 'NFATC3', 'NFATC4', 'NFE2', 'NFE2L1', 'NFE2L2', 'NFYA', 'NFYB', 'NFYC', 'NHLH1', 'NKX2-2', 'NKX2-5', 'NKX6-1', 'NKX6-2', 'NOTO', 'NR1H3', 'NR2C1', 'NR2E1', 'NR2E3', 'NR2F1', 'NR2F2', 'NR2F6', 'NR3C1', 'NR4A1', 'NR4A2', 'NR4A3', 'NRF1', 'NRL', 'OLIG1', 'OLIG2', 'OSR2', 'OVOL1', 'PATZ1', 'PAX4', 'PAX5', 'PBX1', 'PBX3', 'PGR', 'PLAG1', 'POU1F1', 'POU2F1', 'POU2F2', 'POU2F3', 'POU3F2', 'POU3F3', 'POU3F4', 'POU4F2', 'POU5F1', 'POU5F1B', 'POU6F1', 'PPARA', 'PPARD', 'PPARG', 'PRDM1', 'PRDM6', 'PROX1', 'PRRX2', 'PTF1A', 'PURA', 'RARA', 'RARB', 'RARG', 'RBPJ', 'RFX1', 'RFX2', 'RFX3', 'RFX4', 'RFX5', 'RORA', 'RREB1', 'RUNX1', 'RUNX2', 'RUNX3', 'RXRA', 'RXRB', 'RXRG', 'SALL4', 'SHOX', 'SIX1', 'SIX2', 'SMAD1', 'SMAD2', 'SMAD3', 'SMARCA1', 'SMARCA5', 'SNAI1', 'SNAI2', 'SOX10', 'SOX11', 'SOX15', 'SOX17', 'SOX2', 'SOX21', 'SOX3', 'SOX4', 'SOX8', 'SOX9', 'SP1', 'SP2', 'SP3', 'SP4', 'SPDEF', 'SPI1', 'SPIB', 'SREBF1', 'SREBF2', 'SRF', 'SRY', 'STAT1', 'STAT2', 'STAT3', 'STAT4', 'STAT5A', 'STAT5B', 'STAT6', 'TAF1', 'TAL1', 'TBP', 'TBX1', 'TBX15', 'TBX20', 'TBX21', 'TBX3', 'TBX4', 'TBX5', 'TBXT', 'TCF12', 'TCF3', 'TCF4', 'TCF7', 'TEAD1', 'TEAD2', 'TEAD3', 'TEAD4', 'TEF', 'TFAP4', 'TFDP1', 'TFE3', 'TFEB', 'TGIF1', 'TGIF2', 'TGIF2LX', 'THAP1', 'THAP11', 'THRA', 'THRB', 'TP63', 'TWIST1', 'UBP1', 'USF1', 'USF2', 'VENTX', 'VEZF1', 'WT1', 'XBP1', 'YY1', 'ZBTB14', 'ZBTB17', 'ZBTB18', 'ZBTB33', 'ZBTB7B', 'ZEB1', 'ZFHX3', 'ZFP28', 'ZFP64', 'ZFP82', 'ZFX', 'ZIC1', 'ZIC3', 'ZIM3', 'ZNF121', 'ZNF143', 'ZNF148', 'ZNF18', 'ZNF214', 'ZNF219', 'ZNF263', 'ZNF274', 'ZNF281', 'ZNF282', 'ZNF322', 'ZNF324', 'ZNF329', 'ZNF331', 'ZNF333', 'ZNF335', 'ZNF341', 'ZNF350', 'ZNF354A', 'ZNF384', 'ZNF394', 'ZNF41', 'ZNF418', 'ZNF436', 'ZNF449', 'ZNF467', 'ZNF528', 'ZNF554', 'ZNF563', 'ZNF586', 'ZNF708', 'ZNF713', 'ZNF76', 'ZNF768', 'ZNF770', 'ZNF784', 'ZNF816', 'ZSCAN22', 'ZSCAN31']\n",
      "enriched motifs with tested vocab pair\n",
      "(490, 19) (131, 19)\n",
      "106\n",
      "['ARNT', 'ASCL2', 'BACH1', 'BATF', 'CBFB', 'E2F1', 'E2F3', 'E2F4', 'E2F6', 'E2F7', 'EGR1', 'EGR2', 'EGR3', 'EGR4', 'ETS1', 'ETV2', 'ETV5', 'FLI1', 'FOS', 'FOSL2', 'FOXD3', 'FOXF2', 'FOXL1', 'FOXM1', 'HMGA1', 'ID4', 'IKZF1', 'IRF1', 'IRF2', 'IRF3', 'IRF4', 'IRF8', 'JUN', 'JUNB', 'JUND', 'KLF15', 'KLF16', 'KLF4', 'KLF5', 'KLF6', 'LEF1', 'MAF', 'MAFB', 'MAFF', 'MAFG', 'MAFK', 'MAZ', 'MESP1', 'MITF', 'MSX2', 'NFAT5', 'NFATC1', 'NFATC4', 'NFE2L1', 'NFYB', 'NR2F1', 'NR3C1', 'NRF1', 'OSR2', 'PATZ1', 'PAX5', 'PBX1', 'PLAG1', 'PRDM1', 'PURA', 'RARA', 'RARG', 'RFX2', 'RORA', 'RUNX3', 'SALL4', 'SMAD3', 'SNAI2', 'SOX10', 'SP1', 'SP2', 'SP3', 'SP4', 'SPIB', 'SREBF2', 'STAT1', 'STAT2', 'STAT3', 'TBX1', 'TBX15', 'TCF3', 'TFDP1', 'TFE3', 'TGIF1', 'THAP1', 'THRB', 'TP63', 'UBP1', 'VEZF1', 'WT1', 'XBP1', 'ZBTB14', 'ZBTB17', 'ZFP28', 'ZFX', 'ZNF219', 'ZNF324', 'ZNF394', 'ZNF563', 'ZNF770', 'ZNF816']\n"
     ]
    }
   ],
   "source": [
    "#read in motif enrichment results\n",
    "ame_result_file = os.path.join(save_dir, 'motif_scan_vocab_ame.tsv')\n",
    "ame_result = pd.read_csv(ame_result_file, sep='\\t')\n",
    "ame_result['motif_DB'] = 'hocomoco_human_trim'\n",
    "ame_result['motif'] = ame_result.motif_ID.map(tf_id_abbr_to_name_dict)\n",
    "ame_result = ame_result[~ame_result.motif.isna()]\n",
    "ame_result['in_vocab'] = ame_result.motif.isin(list_tfs)\n",
    "\n",
    "print('enriched motifs')\n",
    "enriched_motifs = sorted(ame_result.motif.unique())\n",
    "print(len(enriched_motifs))\n",
    "print(enriched_motifs)\n",
    "\n",
    "print('enriched motifs with tested vocab pair')\n",
    "ame_result_filt = ame_result[ame_result.in_vocab]\n",
    "print(ame_result.shape, ame_result_filt.shape)\n",
    "enriched_motifs_vocab = sorted(ame_result_filt.motif.unique())\n",
    "print(len(enriched_motifs_vocab))\n",
    "print(enriched_motifs_vocab)"
   ]
  },
  {
   "cell_type": "code",
   "execution_count": 192,
   "metadata": {},
   "outputs": [],
   "source": [
    "motif_df = pd.DataFrame({'motif':list(tf_id_abbr_to_name_dict.values())})\n",
    "motif_df['len_motif'] = motif_df.motif.map(motif_to_len)\n",
    "motif_df['in_vocab'] = motif_df.motif.isin(list_tfs)\n",
    "motif_df['enriched_vocab'] = motif_df.motif.isin(enriched_motifs)\n",
    "motif_df = motif_df[~motif_df.len_motif.isna()]"
   ]
  },
  {
   "cell_type": "code",
   "execution_count": 195,
   "metadata": {},
   "outputs": [
    {
     "data": {
      "text/html": [
       "<div>\n",
       "<style scoped>\n",
       "    .dataframe tbody tr th:only-of-type {\n",
       "        vertical-align: middle;\n",
       "    }\n",
       "\n",
       "    .dataframe tbody tr th {\n",
       "        vertical-align: top;\n",
       "    }\n",
       "\n",
       "    .dataframe thead th {\n",
       "        text-align: right;\n",
       "    }\n",
       "</style>\n",
       "<table border=\"1\" class=\"dataframe\">\n",
       "  <thead>\n",
       "    <tr style=\"text-align: right;\">\n",
       "      <th></th>\n",
       "      <th>motif</th>\n",
       "      <th>len_motif</th>\n",
       "      <th>in_vocab</th>\n",
       "      <th>enriched_vocab</th>\n",
       "    </tr>\n",
       "  </thead>\n",
       "  <tbody>\n",
       "    <tr>\n",
       "      <td>9</td>\n",
       "      <td>TFAP2B</td>\n",
       "      <td>9.0</td>\n",
       "      <td>True</td>\n",
       "      <td>False</td>\n",
       "    </tr>\n",
       "    <tr>\n",
       "      <td>10</td>\n",
       "      <td>TFAP2C</td>\n",
       "      <td>9.0</td>\n",
       "      <td>True</td>\n",
       "      <td>False</td>\n",
       "    </tr>\n",
       "    <tr>\n",
       "      <td>13</td>\n",
       "      <td>ARID5B</td>\n",
       "      <td>4.0</td>\n",
       "      <td>True</td>\n",
       "      <td>False</td>\n",
       "    </tr>\n",
       "    <tr>\n",
       "      <td>33</td>\n",
       "      <td>BARX2</td>\n",
       "      <td>4.0</td>\n",
       "      <td>True</td>\n",
       "      <td>False</td>\n",
       "    </tr>\n",
       "    <tr>\n",
       "      <td>62</td>\n",
       "      <td>EBF1</td>\n",
       "      <td>10.0</td>\n",
       "      <td>True</td>\n",
       "      <td>False</td>\n",
       "    </tr>\n",
       "    <tr>\n",
       "      <td>210</td>\n",
       "      <td>HBP1</td>\n",
       "      <td>5.0</td>\n",
       "      <td>True</td>\n",
       "      <td>False</td>\n",
       "    </tr>\n",
       "    <tr>\n",
       "      <td>226</td>\n",
       "      <td>EN2</td>\n",
       "      <td>5.0</td>\n",
       "      <td>True</td>\n",
       "      <td>False</td>\n",
       "    </tr>\n",
       "    <tr>\n",
       "      <td>288</td>\n",
       "      <td>IRX3</td>\n",
       "      <td>6.0</td>\n",
       "      <td>True</td>\n",
       "      <td>False</td>\n",
       "    </tr>\n",
       "    <tr>\n",
       "      <td>362</td>\n",
       "      <td>MYBL2</td>\n",
       "      <td>5.0</td>\n",
       "      <td>True</td>\n",
       "      <td>False</td>\n",
       "    </tr>\n",
       "    <tr>\n",
       "      <td>385</td>\n",
       "      <td>NFIA</td>\n",
       "      <td>5.0</td>\n",
       "      <td>True</td>\n",
       "      <td>False</td>\n",
       "    </tr>\n",
       "    <tr>\n",
       "      <td>386</td>\n",
       "      <td>NFIA</td>\n",
       "      <td>5.0</td>\n",
       "      <td>True</td>\n",
       "      <td>False</td>\n",
       "    </tr>\n",
       "    <tr>\n",
       "      <td>388</td>\n",
       "      <td>NFIC</td>\n",
       "      <td>6.0</td>\n",
       "      <td>True</td>\n",
       "      <td>False</td>\n",
       "    </tr>\n",
       "    <tr>\n",
       "      <td>389</td>\n",
       "      <td>NFIC</td>\n",
       "      <td>6.0</td>\n",
       "      <td>True</td>\n",
       "      <td>False</td>\n",
       "    </tr>\n",
       "    <tr>\n",
       "      <td>440</td>\n",
       "      <td>OTX1</td>\n",
       "      <td>5.0</td>\n",
       "      <td>True</td>\n",
       "      <td>False</td>\n",
       "    </tr>\n",
       "    <tr>\n",
       "      <td>506</td>\n",
       "      <td>PRRX1</td>\n",
       "      <td>3.0</td>\n",
       "      <td>True</td>\n",
       "      <td>False</td>\n",
       "    </tr>\n",
       "    <tr>\n",
       "      <td>560</td>\n",
       "      <td>SOX13</td>\n",
       "      <td>4.0</td>\n",
       "      <td>True</td>\n",
       "      <td>False</td>\n",
       "    </tr>\n",
       "    <tr>\n",
       "      <td>667</td>\n",
       "      <td>ZBTB49</td>\n",
       "      <td>5.0</td>\n",
       "      <td>True</td>\n",
       "      <td>False</td>\n",
       "    </tr>\n",
       "    <tr>\n",
       "      <td>701</td>\n",
       "      <td>ZNF257</td>\n",
       "      <td>11.0</td>\n",
       "      <td>True</td>\n",
       "      <td>False</td>\n",
       "    </tr>\n",
       "    <tr>\n",
       "      <td>744</td>\n",
       "      <td>ZNF589</td>\n",
       "      <td>4.0</td>\n",
       "      <td>True</td>\n",
       "      <td>False</td>\n",
       "    </tr>\n",
       "  </tbody>\n",
       "</table>\n",
       "</div>"
      ],
      "text/plain": [
       "      motif  len_motif  in_vocab  enriched_vocab\n",
       "9    TFAP2B        9.0      True           False\n",
       "10   TFAP2C        9.0      True           False\n",
       "13   ARID5B        4.0      True           False\n",
       "33    BARX2        4.0      True           False\n",
       "62     EBF1       10.0      True           False\n",
       "210    HBP1        5.0      True           False\n",
       "226     EN2        5.0      True           False\n",
       "288    IRX3        6.0      True           False\n",
       "362   MYBL2        5.0      True           False\n",
       "385    NFIA        5.0      True           False\n",
       "386    NFIA        5.0      True           False\n",
       "388    NFIC        6.0      True           False\n",
       "389    NFIC        6.0      True           False\n",
       "440    OTX1        5.0      True           False\n",
       "506   PRRX1        3.0      True           False\n",
       "560   SOX13        4.0      True           False\n",
       "667  ZBTB49        5.0      True           False\n",
       "701  ZNF257       11.0      True           False\n",
       "744  ZNF589        4.0      True           False"
      ]
     },
     "execution_count": 195,
     "metadata": {},
     "output_type": "execute_result"
    }
   ],
   "source": [
    "motif_df[motif_df.in_vocab & (~motif_df.enriched_vocab)]"
   ]
  },
  {
   "cell_type": "code",
   "execution_count": 240,
   "metadata": {},
   "outputs": [
    {
     "data": {
      "text/plain": [
       "(97210, 2)"
      ]
     },
     "execution_count": 240,
     "metadata": {},
     "output_type": "execute_result"
    }
   ],
   "source": [
    "pd.read_csv(os.path.join(save_dir, 'mpra_oligo_df_final_SUBMIT_091120.txt'),sep='\\t').shape#oligo.str.len().value_counts()"
   ]
  },
  {
   "cell_type": "code",
   "execution_count": null,
   "metadata": {},
   "outputs": [],
   "source": []
  }
 ],
 "metadata": {
  "kernelspec": {
   "display_name": "Python 3",
   "language": "python",
   "name": "python3"
  },
  "language_info": {
   "codemirror_mode": {
    "name": "ipython",
    "version": 3
   },
   "file_extension": ".py",
   "mimetype": "text/x-python",
   "name": "python",
   "nbconvert_exporter": "python",
   "pygments_lexer": "ipython3",
   "version": "3.7.4"
  }
 },
 "nbformat": 4,
 "nbformat_minor": 4
}
