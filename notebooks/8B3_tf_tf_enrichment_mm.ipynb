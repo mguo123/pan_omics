{
 "cells": [
  {
   "cell_type": "markdown",
   "metadata": {},
   "source": [
    "# 8B2_tf_tf_enrichment_cancer\n",
    "\n",
    "07/20/2020\n",
    "\n",
    "getting tf-tf enriched pairs for each tissue for each geneset\n",
    "\n",
    "cancer - scc\n",
    "\n"
   ]
  },
  {
   "cell_type": "code",
   "execution_count": 1,
   "metadata": {},
   "outputs": [],
   "source": [
    "# basic packages\n",
    "import os, glob\n",
    "import pandas as pd\n",
    "import numpy as np; np.random.seed(0)\n",
    "import itertools\n",
    "from collections import Counter, defaultdict\n",
    "import time\n",
    "\n",
    "# machine learning packages from sklearn\n",
    "from sklearn.preprocessing import MinMaxScaler #StandardScaler \n",
    "from sklearn import preprocessing, metrics\n",
    "from sklearn.feature_selection import VarianceThreshold\n",
    "from sklearn.model_selection import train_test_split, KFold, cross_validate, cross_val_score, StratifiedKFold\n",
    "from sklearn.linear_model import LogisticRegression, Lasso, LassoCV\n",
    "from IPython.display import Image\n",
    "from scipy import stats\n",
    "\n",
    "# Import tools needed for visualization\n",
    "import seaborn as sns; sns.set()\n",
    "import matplotlib\n",
    "import matplotlib.pyplot as plt"
   ]
  },
  {
   "cell_type": "code",
   "execution_count": 2,
   "metadata": {},
   "outputs": [],
   "source": [
    "%load_ext autoreload\n",
    "%autoreload 2"
   ]
  },
  {
   "cell_type": "code",
   "execution_count": 3,
   "metadata": {},
   "outputs": [],
   "source": [
    "save_dir = '../data/processed/fig4_modelling/tf_tf_pairs_mm/'\n",
    "if not os.path.exists(save_dir):\n",
    "    os.makedirs(save_dir)"
   ]
  },
  {
   "cell_type": "code",
   "execution_count": 4,
   "metadata": {},
   "outputs": [],
   "source": [
    "THRES=5"
   ]
  },
  {
   "cell_type": "code",
   "execution_count": 5,
   "metadata": {},
   "outputs": [],
   "source": [
    "tf_annon_df = pd.read_csv('../data/external/HOCOMOCOv11_annotation.csv',index_col=0)\n",
    "tf_annon_df['id_trim'] = tf_annon_df['id'] + '.pwm.trim'\n",
    "tf_name_to_id_dict = pd.Series(tf_annon_df.id_trim.values, index=tf_annon_df.tf.values).to_dict()\n",
    "tf_id_to_name_dict = pd.Series(tf_annon_df.tf.values, index=tf_annon_df.id_trim.values).to_dict()"
   ]
  },
  {
   "cell_type": "code",
   "execution_count": 6,
   "metadata": {},
   "outputs": [],
   "source": [
    "rna_df = pd.read_csv('../data/interim/rna/tissue_tpm_sym.csv',index_col=0)\n",
    "# rna_df_norm = rna_df[normal_tissues]"
   ]
  },
  {
   "cell_type": "code",
   "execution_count": 7,
   "metadata": {},
   "outputs": [
    {
     "data": {
      "text/plain": [
       "A431-CTRLi             1.025\n",
       "A431-p63i              1.390\n",
       "Airway                 8.655\n",
       "Astrocytes             0.065\n",
       "Bladder                0.750\n",
       "CAL27-CTRLi            0.615\n",
       "CAL27-p63i             0.550\n",
       "COLO_SCR_DMSO          0.000\n",
       "COLO_SCR_PLX           0.005\n",
       "COLO_shMITF_DMSO       0.015\n",
       "COLO_shMITF_PLX        0.000\n",
       "Colon                  1.775\n",
       "D0-CTRLi               0.380\n",
       "D0-p63i                0.220\n",
       "D3-CTRLi               2.665\n",
       "D3-p63i                0.640\n",
       "Esophageal             0.405\n",
       "GDSD0                  2.800\n",
       "GDSD3                 14.180\n",
       "GDSD6                  6.525\n",
       "GM12878                0.055\n",
       "HMEC                   0.105\n",
       "Melanocytes            0.030\n",
       "Ovarian                0.355\n",
       "Pancreas               5.415\n",
       "Prostate               1.625\n",
       "Renal                  1.175\n",
       "SCC13-CTRLi            0.330\n",
       "SCC13-p63i             0.455\n",
       "SKMEL5_SCR_DMSO        0.000\n",
       "SKMEL5_SCR_PLX         0.020\n",
       "SKMEL5_shMITF-DMSO     0.000\n",
       "SKMEL5_shMITF_PLX      0.005\n",
       "Thyroid                2.460\n",
       "Uterine                0.260\n",
       "WM_SCR_DMSO            0.010\n",
       "WM_SCR_PLX             0.000\n",
       "WM_shMITF_DMSO         0.000\n",
       "WM_shMITF_PLX          0.000\n",
       "Name: BARX2, dtype: float64"
      ]
     },
     "execution_count": 7,
     "metadata": {},
     "output_type": "execute_result"
    }
   ],
   "source": [
    "rna_df.loc[\"BARX2\",:]"
   ]
  },
  {
   "cell_type": "code",
   "execution_count": 9,
   "metadata": {},
   "outputs": [
    {
     "name": "stdout",
     "output_type": "stream",
     "text": [
      "Index(['A431-CTRLi', 'A431-p63i', 'Airway', 'Astrocytes', 'Bladder',\n",
      "       'CAL27-CTRLi', 'CAL27-p63i', 'COLO_SCR_DMSO', 'COLO_SCR_PLX',\n",
      "       'COLO_shMITF_DMSO', 'COLO_shMITF_PLX', 'Colon', 'D0-CTRLi', 'D0-p63i',\n",
      "       'D3-CTRLi', 'D3-p63i', 'Esophageal', 'GDSD0', 'GDSD3', 'GDSD6',\n",
      "       'GM12878', 'HMEC', 'Melanocytes', 'Ovarian', 'Pancreas', 'Prostate',\n",
      "       'Renal', 'SCC13-CTRLi', 'SCC13-p63i', 'SKMEL5_SCR_DMSO',\n",
      "       'SKMEL5_SCR_PLX', 'SKMEL5_shMITF-DMSO', 'SKMEL5_shMITF_PLX', 'Thyroid',\n",
      "       'Uterine', 'WM_SCR_DMSO', 'WM_SCR_PLX', 'WM_shMITF_DMSO',\n",
      "       'WM_shMITF_PLX'],\n",
      "      dtype='object')\n"
     ]
    }
   ],
   "source": [
    "print(rna_df.columns)\n",
    "# cancer_tissues = ['COLO_SCR_DMSO','SKMEL5_SCR_DMSO', 'WM_SCR_DMSO']\n",
    "cancer_tissues = ['COLO_SCR_DMSO', 'WM_SCR_DMSO']  # SKMEL5_SCR_DMSO doesn't have HiChIP data\n",
    "normal_tissues = ['Melanocytes']#'D0-CTRLi', 'D3-CTRLi']\n",
    "sel_tissues = cancer_tissues+normal_tissues\n",
    "tissues_dict = dict(zip(sel_tissues,range(len(sel_tissues))))\n",
    "rna_df_sel = rna_df[sel_tissues]"
   ]
  },
  {
   "cell_type": "markdown",
   "metadata": {},
   "source": [
    "# 0. CRM data wrangling and global var setup"
   ]
  },
  {
   "cell_type": "code",
   "execution_count": 10,
   "metadata": {},
   "outputs": [
    {
     "name": "stdout",
     "output_type": "stream",
     "text": [
      "CPU times: user 1min 27s, sys: 20.6 s, total: 1min 48s\n",
      "Wall time: 1min 33s\n"
     ]
    }
   ],
   "source": [
    "%%time\n",
    "# import\n",
    "data_all = pd.read_csv('/Users/mguo123/Google Drive/1_khavari/omics_project-LD/pan_omics/data/processed/tissue_crms/all_count_comb_overall.csv',index_col=0,header=0)\n",
    "data_all = data_all[data_all.tissue.isin(sel_tissues)]\n",
    "data_all = data_all[data_all.iloc[:,2:].sum(axis=1)>1e-1]\n",
    "\n",
    "# expression labels\n",
    "exp_label = list(np.log10(data_all.exp.values+1e-2))\n",
    "labels_all  = np.array(np.array(exp_label)>THRES)\n",
    "\n",
    "\n",
    "tissues_label  = data_all.tissue.values#np.array((data_all.exp>THRES).values)\n",
    "tissue_num_labels =  data_all.tissue.map(tissues_dict).values\n",
    "is_cancer_label = np.array(['cancer' if x in cancer_tissues  else 'normal' for x in tissues_label ])\n",
    "\n",
    "\n",
    "genes_all = data_all.index.values\n",
    "gene_to_num_dict = dict(zip(np.unique(genes_all),range(len(np.unique(genes_all)))))\n",
    "genes_num_all = np.vectorize(gene_to_num_dict.get)(genes_all)\n",
    "\n"
   ]
  },
  {
   "cell_type": "code",
   "execution_count": 11,
   "metadata": {},
   "outputs": [
    {
     "name": "stdout",
     "output_type": "stream",
     "text": [
      "files_loaded (25770, 1063)\n"
     ]
    }
   ],
   "source": [
    "print('files_loaded', data_all.shape)\n"
   ]
  },
  {
   "cell_type": "code",
   "execution_count": 12,
   "metadata": {},
   "outputs": [
    {
     "data": {
      "text/plain": [
       "(25770, 1057)"
      ]
     },
     "execution_count": 12,
     "metadata": {},
     "output_type": "execute_result"
    }
   ],
   "source": [
    "## only tfs\n",
    "\n",
    "data_all.drop(['tissue','exp','num_loop_counts','num_loops','num_atac_regions_pro','num_atac_regions_loop'],axis=1,inplace=True)\n",
    "\n",
    "data_all.shape\n",
    "\n",
    "\n"
   ]
  },
  {
   "cell_type": "code",
   "execution_count": 13,
   "metadata": {},
   "outputs": [
    {
     "data": {
      "text/html": [
       "<div>\n",
       "<style scoped>\n",
       "    .dataframe tbody tr th:only-of-type {\n",
       "        vertical-align: middle;\n",
       "    }\n",
       "\n",
       "    .dataframe tbody tr th {\n",
       "        vertical-align: top;\n",
       "    }\n",
       "\n",
       "    .dataframe thead th {\n",
       "        text-align: right;\n",
       "    }\n",
       "</style>\n",
       "<table border=\"1\" class=\"dataframe\">\n",
       "  <thead>\n",
       "    <tr style=\"text-align: right;\">\n",
       "      <th></th>\n",
       "      <th>AHR_pro</th>\n",
       "      <th>ARID5B_pro</th>\n",
       "      <th>ARNT_pro</th>\n",
       "      <th>ARNTL_pro</th>\n",
       "      <th>ATF1_pro</th>\n",
       "      <th>ATF2_pro</th>\n",
       "      <th>ATF3_pro</th>\n",
       "      <th>ATF4_pro</th>\n",
       "      <th>ATF6_pro</th>\n",
       "      <th>ATF7_pro</th>\n",
       "      <th>...</th>\n",
       "      <th>MAFA_loop</th>\n",
       "      <th>MEOX1_loop</th>\n",
       "      <th>E2F5_pro</th>\n",
       "      <th>E2F5_loop</th>\n",
       "      <th>ESR2_pro</th>\n",
       "      <th>KLF14_pro</th>\n",
       "      <th>TBX15_pro</th>\n",
       "      <th>ESR2_loop</th>\n",
       "      <th>KLF14_loop</th>\n",
       "      <th>TBX15_loop</th>\n",
       "    </tr>\n",
       "  </thead>\n",
       "  <tbody>\n",
       "    <tr>\n",
       "      <td>A4GALT</td>\n",
       "      <td>0.0</td>\n",
       "      <td>0.0</td>\n",
       "      <td>0.0</td>\n",
       "      <td>0.0</td>\n",
       "      <td>0.0</td>\n",
       "      <td>0.0</td>\n",
       "      <td>0.0</td>\n",
       "      <td>0.0</td>\n",
       "      <td>0.0</td>\n",
       "      <td>0.0</td>\n",
       "      <td>...</td>\n",
       "      <td>0.0</td>\n",
       "      <td>0.0</td>\n",
       "      <td>0.0</td>\n",
       "      <td>0.0</td>\n",
       "      <td>0.0</td>\n",
       "      <td>0.0</td>\n",
       "      <td>0.0</td>\n",
       "      <td>0.0</td>\n",
       "      <td>0.0</td>\n",
       "      <td>0.0</td>\n",
       "    </tr>\n",
       "    <tr>\n",
       "      <td>A4GNT</td>\n",
       "      <td>0.0</td>\n",
       "      <td>0.0</td>\n",
       "      <td>0.0</td>\n",
       "      <td>0.0</td>\n",
       "      <td>0.0</td>\n",
       "      <td>0.0</td>\n",
       "      <td>0.0</td>\n",
       "      <td>0.0</td>\n",
       "      <td>0.0</td>\n",
       "      <td>0.0</td>\n",
       "      <td>...</td>\n",
       "      <td>0.0</td>\n",
       "      <td>0.0</td>\n",
       "      <td>0.0</td>\n",
       "      <td>0.0</td>\n",
       "      <td>0.0</td>\n",
       "      <td>0.0</td>\n",
       "      <td>0.0</td>\n",
       "      <td>0.0</td>\n",
       "      <td>0.0</td>\n",
       "      <td>0.0</td>\n",
       "    </tr>\n",
       "    <tr>\n",
       "      <td>AAAS</td>\n",
       "      <td>0.0</td>\n",
       "      <td>0.0</td>\n",
       "      <td>0.0</td>\n",
       "      <td>0.0</td>\n",
       "      <td>0.0</td>\n",
       "      <td>0.0</td>\n",
       "      <td>0.0</td>\n",
       "      <td>0.0</td>\n",
       "      <td>0.0</td>\n",
       "      <td>0.0</td>\n",
       "      <td>...</td>\n",
       "      <td>0.0</td>\n",
       "      <td>0.0</td>\n",
       "      <td>0.0</td>\n",
       "      <td>0.0</td>\n",
       "      <td>0.0</td>\n",
       "      <td>0.0</td>\n",
       "      <td>0.0</td>\n",
       "      <td>0.0</td>\n",
       "      <td>0.0</td>\n",
       "      <td>0.0</td>\n",
       "    </tr>\n",
       "    <tr>\n",
       "      <td>AADACL4</td>\n",
       "      <td>0.0</td>\n",
       "      <td>0.0</td>\n",
       "      <td>0.0</td>\n",
       "      <td>0.0</td>\n",
       "      <td>0.0</td>\n",
       "      <td>0.0</td>\n",
       "      <td>0.0</td>\n",
       "      <td>0.0</td>\n",
       "      <td>0.0</td>\n",
       "      <td>0.0</td>\n",
       "      <td>...</td>\n",
       "      <td>0.0</td>\n",
       "      <td>0.0</td>\n",
       "      <td>0.0</td>\n",
       "      <td>0.0</td>\n",
       "      <td>0.0</td>\n",
       "      <td>0.0</td>\n",
       "      <td>0.0</td>\n",
       "      <td>0.0</td>\n",
       "      <td>0.0</td>\n",
       "      <td>0.0</td>\n",
       "    </tr>\n",
       "    <tr>\n",
       "      <td>AAK1</td>\n",
       "      <td>0.0</td>\n",
       "      <td>0.0</td>\n",
       "      <td>0.0</td>\n",
       "      <td>0.0</td>\n",
       "      <td>0.0</td>\n",
       "      <td>0.0</td>\n",
       "      <td>0.0</td>\n",
       "      <td>0.0</td>\n",
       "      <td>0.0</td>\n",
       "      <td>0.0</td>\n",
       "      <td>...</td>\n",
       "      <td>0.0</td>\n",
       "      <td>0.0</td>\n",
       "      <td>0.0</td>\n",
       "      <td>0.0</td>\n",
       "      <td>0.0</td>\n",
       "      <td>0.0</td>\n",
       "      <td>0.0</td>\n",
       "      <td>0.0</td>\n",
       "      <td>0.0</td>\n",
       "      <td>0.0</td>\n",
       "    </tr>\n",
       "  </tbody>\n",
       "</table>\n",
       "<p>5 rows × 1057 columns</p>\n",
       "</div>"
      ],
      "text/plain": [
       "         AHR_pro  ARID5B_pro  ARNT_pro  ARNTL_pro  ATF1_pro  ATF2_pro  \\\n",
       "A4GALT       0.0         0.0       0.0        0.0       0.0       0.0   \n",
       "A4GNT        0.0         0.0       0.0        0.0       0.0       0.0   \n",
       "AAAS         0.0         0.0       0.0        0.0       0.0       0.0   \n",
       "AADACL4      0.0         0.0       0.0        0.0       0.0       0.0   \n",
       "AAK1         0.0         0.0       0.0        0.0       0.0       0.0   \n",
       "\n",
       "         ATF3_pro  ATF4_pro  ATF6_pro  ATF7_pro  ...  MAFA_loop  MEOX1_loop  \\\n",
       "A4GALT        0.0       0.0       0.0       0.0  ...        0.0         0.0   \n",
       "A4GNT         0.0       0.0       0.0       0.0  ...        0.0         0.0   \n",
       "AAAS          0.0       0.0       0.0       0.0  ...        0.0         0.0   \n",
       "AADACL4       0.0       0.0       0.0       0.0  ...        0.0         0.0   \n",
       "AAK1          0.0       0.0       0.0       0.0  ...        0.0         0.0   \n",
       "\n",
       "         E2F5_pro  E2F5_loop  ESR2_pro  KLF14_pro  TBX15_pro  ESR2_loop  \\\n",
       "A4GALT        0.0        0.0       0.0        0.0        0.0        0.0   \n",
       "A4GNT         0.0        0.0       0.0        0.0        0.0        0.0   \n",
       "AAAS          0.0        0.0       0.0        0.0        0.0        0.0   \n",
       "AADACL4       0.0        0.0       0.0        0.0        0.0        0.0   \n",
       "AAK1          0.0        0.0       0.0        0.0        0.0        0.0   \n",
       "\n",
       "         KLF14_loop  TBX15_loop  \n",
       "A4GALT          0.0         0.0  \n",
       "A4GNT           0.0         0.0  \n",
       "AAAS            0.0         0.0  \n",
       "AADACL4         0.0         0.0  \n",
       "AAK1            0.0         0.0  \n",
       "\n",
       "[5 rows x 1057 columns]"
      ]
     },
     "execution_count": 13,
     "metadata": {},
     "output_type": "execute_result"
    }
   ],
   "source": [
    "data_all[:5]"
   ]
  },
  {
   "cell_type": "code",
   "execution_count": 14,
   "metadata": {},
   "outputs": [],
   "source": [
    "#tfs_feat_dict: dict\n",
    "# key: tf\n",
    "# value: list of crm features\n",
    "tfs_feat_dict = defaultdict(list)\n",
    "for feat in data_all.columns:\n",
    "    tfs_feat_dict[feat.split('_')[0]].append(feat)"
   ]
  },
  {
   "cell_type": "markdown",
   "metadata": {},
   "source": [
    "# 1. Functions "
   ]
  },
  {
   "cell_type": "code",
   "execution_count": 15,
   "metadata": {},
   "outputs": [],
   "source": [
    "def find_tf_pairs(single_results, tfs_feat_dict=tfs_feat_dict, data_all=data_all):\n",
    "    tfs_unique = single_results[single_results.pval_bonf<0.05].tf_key.unique()\n",
    "    print('num single unique TFs', len(tfs_unique))\n",
    "    TF_pair_dict = defaultdict(list)\n",
    "    for tf1 in tfs_unique:\n",
    "        for tf2 in tfs_unique:\n",
    "            if (tf1<tf2):\n",
    "                if (tf1 in tfs_feat_dict) and (tf2 in tfs_feat_dict):\n",
    "                    possible_feats = [tf1+'_pro',tf1+'_loop',tf2+'_pro',tf2+'_loop']\n",
    "                    for feat in possible_feats:\n",
    "                        if feat in data_all.columns:\n",
    "                            TF_pair_dict[tf1+'::'+tf2].append(feat)\n",
    "    print('num pairs of TFs', len(TF_pair_dict))\n",
    "    return TF_pair_dict"
   ]
  },
  {
   "cell_type": "code",
   "execution_count": 16,
   "metadata": {},
   "outputs": [],
   "source": [
    "# TF_feat_dict: dict, key = tf_key (string of tfs sep by ::), val; list of features/columns of data_all\n",
    "# backgound: relative means the background in the data_all_sel, if 'all' then background is data_all\n",
    "# def tf_enrichment(geneset, tissues=normal_tissues, data_all=data_all,tissues_label=tissues_label, background='all'):\n",
    "def tf_enrichment(geneset, TF_feat_dict, tissues=['cancer', 'normal'], \n",
    "                  data_all=data_all,tissues_label=is_cancer_label, \n",
    "                  background='relative',verbose=True, save_path=None):\n",
    "    # get subset\n",
    "    data_all_sel = data_all[data_all.index.isin(geneset)]\n",
    "    tissues_label_sel = tissues_label[data_all.index.isin(geneset)]\n",
    "    if verbose:\n",
    "        print('num genes in geneset',len(geneset))\n",
    "        print('subsetting data,', data_all_sel.shape, tissues_label_sel.shape)\n",
    "    \n",
    "    # set background and initial variables\n",
    "    results_df = pd.DataFrame(columns = ['tf_key', 'tissue', 'jaccard', 'intersect_over_min','intersection','union', 'num_in_gene', 'num_in_feat', 'observed', 'expected', 'oddsratio', 'pval' ])\n",
    "    counter = 0\n",
    "    if background=='all':\n",
    "        count_all = data_all.sum().sum()\n",
    "    else:\n",
    "        count_all = data_all_sel.sum().sum() ## background\n",
    "    \n",
    "    # iterate through tissues\n",
    "    if verbose:\n",
    "        print('starting iteration')\n",
    "        print('estimated count', len(TF_feat_dict)*len(tissues))\n",
    "    for tissue in tissues:\n",
    "        if verbose:\n",
    "            print('*****iterating tissue, ', tissue)\n",
    "        tissue_crm = data_all_sel[tissues_label_sel==tissue]\n",
    "        tissue_crm = tissue_crm[tissue_crm.index.isin(geneset)]\n",
    "        count_tissue_gene = tissue_crm.sum().sum() #mat_counts.sum(axis=1)[0], sum first row\n",
    "        \n",
    "        # iterate through tfs\n",
    "        for tf_key, feat_list in sorted(TF_feat_dict.items(),key=lambda x: x[0]):\n",
    "            if len(feat_list)>0:\n",
    "                tissue_crm_selfeat = tissue_crm[feat_list]\n",
    "                count_selfeat_tissue = tissue_crm_selfeat.sum().sum() # A\n",
    "                count_selfeat = data_all_sel[feat_list].sum().sum() #mat_counts.sum(axis=0)[0], sum down first col\n",
    "                count_selfeat_neg = count_selfeat - count_selfeat_tissue # B: not in selected genes but in selected feature\n",
    "                count_neg_tissue = count_tissue_gene - count_selfeat_tissue #C: not in selected feature but in selected genes\n",
    "                count_neg_neg = count_all - count_selfeat_tissue- count_selfeat_neg - count_neg_tissue #D\n",
    "                mat_counts = np.array([[count_selfeat_tissue,count_neg_tissue],\n",
    "                               [count_selfeat_neg, count_neg_neg]]).reshape((2,2))\n",
    "                pseudo = 1\n",
    "                mat_counts_pseudo = mat_counts+pseudo\n",
    "                num_in_1 = mat_counts.sum(axis=1)[0] #count_tissue_gene\n",
    "                num_in_2 = mat_counts.sum(axis=0)[0] #count_selfeat\n",
    "                in_1_and_in_2 = count_selfeat_tissue # A\n",
    "                in_1_or_in_2 = count_selfeat_tissue +count_selfeat_neg+count_neg_tissue # A+B+C\n",
    "                in_1 = count_selfeat_tissue+count_neg_tissue # A+C\n",
    "                in_2 = count_selfeat_tissue+count_selfeat_neg#A+B\n",
    "                observed_num = mat_counts[0][0] #count_KRTtf_KRTgene\n",
    "                expected_num = num_in_1*num_in_2/sum(sum(mat_counts))\n",
    "                oddsratio_pseudo, pvalue_pseudo = stats.fisher_exact(mat_counts_pseudo,alternative='greater')\n",
    "                jaccard = in_1_and_in_2/in_1_or_in_2\n",
    "                intersect_over_min = in_1_and_in_2/min(in_1,in_2)\n",
    "\n",
    "                results_df.at[counter] = {'tf_key':tf_key, 'tissue':tissue,\n",
    "                                            'jaccard':jaccard,'intersect_over_min':intersect_over_min,\n",
    "                                        'intersection':in_1_and_in_2, \n",
    "                                       'union':in_1_or_in_2, \n",
    "                                       'num_in_gene':num_in_1,'num_in_feat':num_in_2,\n",
    "                                       'observed':observed_num, 'expected':expected_num, \n",
    "                                       'oddsratio':oddsratio_pseudo, 'pval':pvalue_pseudo}\n",
    "                counter+=1\n",
    "                if verbose:\n",
    "                    if (counter %1000)==0:\n",
    "                        print(tf_key, tissue, counter)\n",
    "\n",
    "    \n",
    "    results_df['pval_bonf'] = results_df.pval.apply(lambda x: min(1, x* results_df.shape[0]))\n",
    "    results_df['log_pval_bonf'] = results_df.pval_bonf.apply(lambda x: min(100,-np.log10(x+1e-100)))\n",
    "    \n",
    "    if save_path is not None:\n",
    "        results_df.to_csv(save_path)\n",
    "        print('saved file', save_path)\n",
    "    return results_df"
   ]
  },
  {
   "cell_type": "markdown",
   "metadata": {},
   "source": [
    "# 2. get gene sets\n",
    "\n",
    "create dictionary {tissue: gene_list} for each category\n",
    "\n",
    "cancer variant (to types of gene sets the differential one and then the normal one)"
   ]
  },
  {
   "cell_type": "code",
   "execution_count": 17,
   "metadata": {},
   "outputs": [],
   "source": [
    "# 2A. unique gene lists for each cell type\n",
    "# glob.glob('../../rnaseq/unique_gene_lists/*genes.txt')"
   ]
  },
  {
   "cell_type": "code",
   "execution_count": 18,
   "metadata": {},
   "outputs": [],
   "source": [
    "# unique_genesets = {}\n",
    "# for rna_file in glob.glob('../../rnaseq/unique_gene_lists/*genes.txt'):\n",
    "#     tissue = os.path.basename(rna_file).split('_')[0]\n",
    "#     geneset = sorted(pd.read_csv(rna_file,header=None).loc[:,0].dropna().unique())\n",
    "#     print(tissue, len(geneset))\n",
    "#     unique_genesets[tissue] = geneset\n",
    "    "
   ]
  },
  {
   "cell_type": "markdown",
   "metadata": {},
   "source": [
    "2B. differentially expressed gene lists for each cell type"
   ]
  },
  {
   "cell_type": "code",
   "execution_count": 19,
   "metadata": {},
   "outputs": [],
   "source": [
    "# def t_test(row):\n",
    "#     t_stat, pval =  stats.ttest_ind(row[cancer_tissues], row[normal_tissues], axis=0, equal_var=True, nan_policy='propagate')\n",
    "#     fc = \n",
    "#     return t_stat, pval, fc"
   ]
  },
  {
   "cell_type": "code",
   "execution_count": 42,
   "metadata": {},
   "outputs": [],
   "source": [
    "rna_df_sel_high = rna_df_sel[rna_df_sel.max(axis=1)>1]\n",
    "rna_df_sel_high_pseudo = rna_df_sel_high+1\n",
    "\n",
    "# ttest_rna_df = pd.DataFrame(stats.ttest_ind(rna_df_sel_high_pseudo[cancer_tissues], rna_df_sel_high_pseudo[normal_tissues], \n",
    "#                                             axis=1, equal_var=True, nan_policy='propagate')).T\n",
    "# ttest_rna_df.columns = ['tstat','pval']\n",
    "# ttest_rna_df = pd.concat([rna_df_sel_high.reset_index(), ttest_rna_df],axis=1)\n",
    "# ttest_rna_df.sort_values('tstat',inplace=True)\n",
    "rna_df_sel_high_pseudo['avg_ratio'] = (rna_df_sel_high_pseudo.COLO_SCR_DMSO+rna_df_sel_high_pseudo.WM_SCR_DMSO)/(2*rna_df_sel_high_pseudo.Melanocytes)\n",
    "rna_df_sel_high_pseudo['min_ratio'] = rna_df_sel_high_pseudo[['COLO_SCR_DMSO','WM_SCR_DMSO']].min(axis=1)/(rna_df_sel_high_pseudo.Melanocytes)\n",
    "\n",
    "rna_df_sel_high_pseudo.sort_values('min_ratio',ascending=False, inplace=True)\n"
   ]
  },
  {
   "cell_type": "code",
   "execution_count": 48,
   "metadata": {},
   "outputs": [],
   "source": [
    "# for gprofile look: # for x in sorted(rna_df_sel_high_pseudo[rna_df_sel_high_pseudo.min_ratio>2].index):\n",
    "#     print (x)"
   ]
  },
  {
   "cell_type": "markdown",
   "metadata": {},
   "source": [
    "organonitrogen compound metabolic process was significant, some cancer type go terms occurs "
   ]
  },
  {
   "cell_type": "code",
   "execution_count": 39,
   "metadata": {},
   "outputs": [
    {
     "data": {
      "text/plain": [
       "COLO_SCR_DMSO    1.0\n",
       "WM_SCR_DMSO      1.0\n",
       "dtype: float64"
      ]
     },
     "execution_count": 39,
     "metadata": {},
     "output_type": "execute_result"
    }
   ],
   "source": [
    "rna_df_sel_high_pseudo[['COLO_SCR_DMSO','WM_SCR_DMSO']].min(axis=0)"
   ]
  },
  {
   "cell_type": "code",
   "execution_count": 49,
   "metadata": {},
   "outputs": [
    {
     "name": "stdout",
     "output_type": "stream",
     "text": [
      "1143\n",
      "['AAMP', 'ABCB7', 'ABCB9', 'ABTB2', 'ACOT13', 'ACOX2', 'ACP5', 'ACPP', 'ACSS1', 'ACTN1', 'ACTN4', 'ADAM15', 'ADAM22', 'ADAM23', 'ADAR', 'ADCK2', 'ADCY1', 'ADGRG1', 'ADGRG6', 'ADGRL1', 'AEN', 'AFAP1L1', 'AGMO', 'AK2', 'AK4', 'AKAP6', 'AKAP8L', 'AKT1S1', 'AKT2', 'ALDH1B1', 'ALDH4A1', 'ALDOA', 'ALG3', 'ALKBH4', 'ALYREF', 'AMACR', 'ANAPC1', 'ANGPT1', 'ANGPTL4', 'ANK3', 'ANKMY2', 'ANKRD27', 'ANKRD52', 'ANKZF1', 'AP1S1', 'AP2A2', 'APH1A', 'APOC1', 'APOC4', 'APOD', 'APP', 'ARHGAP15', 'ARHGAP27P1-BPTFP1-KPNA2P3', 'ARHGAP5', 'ARHGEF25', 'ARHGEF3', 'ARIH2', 'ARMC10', 'ARNT2', 'ARPC3', 'ART3', 'ASB9', 'ASPHD1', 'ATG10', 'ATG2A', 'ATOX1', 'ATP5F1E', 'ATP5MC2', 'ATP5MGL', 'ATP6V0A4', 'ATP6V0E2-AS1', 'ATP6V1B1-AS1', 'ATP6V1F', 'ATP8', 'ATP8B2', 'ATP8B5P', 'ATXN2L', 'AUP1', 'AURKB', 'AVL9', 'AZGP1', 'B3GNT7', 'B4GALNT1', 'B4GALT3', 'B4GAT1', 'BAALC-AS2', 'BACE2', 'BAGE2', 'BAK1', 'BAMBI', 'BAP1', 'BATF2', 'BAX', 'BBC3', 'BCAS3', 'BCKDHA', 'BCL2L11', 'BFSP1', 'BHLHE40', 'BIRC7', 'BORCS6', 'BPHL', 'BST2', 'BTBD2', 'BUD23', 'BZW2', 'C10orf90', 'C11orf49', 'C12orf66', 'C14orf39', 'C15orf61', 'C17orf58', 'C19orf25', 'C19orf53', 'C19orf54', 'C1QBP', 'C1RL', 'C1S', 'C1orf115', 'C1orf122', 'C3orf67', 'C4orf19', 'C4orf36', 'C5orf22', 'C7orf50', 'C8orf88', 'CABIN1', 'CACTIN', 'CAD', 'CADPS', 'CALU', 'CAPN12', 'CAPNS1', 'CARD14', 'CARD16', 'CARD19', 'CARHSP1', 'CASP10', 'CASP2', 'CASP8', 'CASTOR1', 'CBLB', 'CBX4', 'CCDC107', 'CCDC50', 'CCDC57', 'CCDC88C', 'CCT7', 'CD200', 'CD22', 'CD3EAP', 'CD55', 'CDC37', 'CDH19', 'CDH2', 'CDK5', 'CDPF1', 'CDV3', 'CEACAM1', 'CEBPZOS', 'CEMIP', 'CEP170B', 'CERKL', 'CETN3', 'CFD', 'CGREF1', 'CHCHD10', 'CHCHD2', 'CHD3', 'CHID1', 'CHKB-DT', 'CHRNA5', 'CHST10', 'CHST12', 'CHST14', 'CHST2', 'CHTF8', 'CIAO2A', 'CIDEB', 'CKS1B', 'CLCN2', 'CLDN15', 'CLEC2B', 'CLIC1', 'CLMN', 'CLN6', 'CLN8', 'CLPP', 'CMTM6', 'CNIH1', 'CNIH3', 'CNOT11', 'CNTNAP3', 'CNTNAP3B', 'COG3', 'COL19A1', 'COL9A3', 'COPS6', 'COPS7A', 'COQ8A', 'COX17', 'CPM', 'CPN1', 'CPNE1', 'CREB3L4', 'CRELD2', 'CRLF1', 'CRTAP', 'CRYGS', 'CRYZ', 'CS', 'CSAG1', 'CSAG2', 'CSF2RA', 'CSGALNACT1', 'CSPG5', 'CSRP1', 'CTDP1', 'CTHRC1', 'CTNS', 'CTSZ', 'CTTNBP2', 'CX3CL1', 'CYCS', 'CYP1A1', 'DARS-AS1', 'DCPS', 'DDIT3', 'DDX56', 'DEPTOR', 'DGKI', 'DHRS1', 'DHRS2', 'DHRS4', 'DHRS4L2', 'DHX33', 'DLEU1', 'DLG4', 'DLL3', 'DLST', 'DLX1', 'DMTF1', 'DNAAF5', 'DNAH14', 'DNAJC22', 'DNASE2', 'DND1', 'DNTTIP1', 'DOCK6', 'DOK1', 'DOK4', 'DONSON', 'DPAGT1', 'DPH2', 'DPH7', 'DPY19L1', 'DSCR8', 'DSG2', 'DTX2', 'DUSP11', 'DUSP4', 'DUSP6', 'DUXAP10', 'DUXAP8', 'DUXAP9', 'DYNC1H1', 'DYNC2H1', 'DYNLT3', 'EBF3', 'EBPL', 'ECHS1', 'ECPAS', 'EEF1A2', 'EEF1G', 'EFCAB13', 'EHD1', 'EIF3B', 'EIF4E2', 'EIF5', 'ELFN1-AS1', 'ELOVL2', 'EMC2', 'EMILIN3', 'EML2', 'EN2', 'ENOPH1', 'ENOX1', 'EPHA3', 'EPHB3', 'EPHB4', 'EPM2AIP1', 'EPN1', 'ERBB3', 'ERCC3', 'ERF', 'ERGIC1', 'ETV4', 'EXOC4', 'EXOSC10-AS1', 'EXOSC3', 'EXOSC5', 'EXOSC6', 'EXTL1', 'EYA1', 'EYA4', 'F12', 'FAAP100', 'FABP6', 'FABP7', 'FAM102A', 'FAM160A2', 'FAM162A', 'FAM166A', 'FAM178B', 'FAM210A', 'FAM219A', 'FAM219B', 'FAM49B', 'FAM86B1', 'FAM86C1', 'FAM86C2P', 'FAM86DP', 'FAM86JP', 'FARSB', 'FASTK', 'FASTKD1', 'FBXL13', 'FBXO17', 'FBXO22', 'FCER1G', 'FCF1', 'FCGR2A', 'FCRLA', 'FDXR', 'FGF13', 'FGFBP2', 'FGFBP3', 'FHOD1', 'FKBP9P1', 'FLCN', 'FLRT3', 'FLT1', 'FMC1', 'FMNL2', 'FNTB', 'FOLH1', 'FOXC1', 'FOXD1', 'FOXD2', 'FREM1', 'FRMD4A', 'FRMD5', 'FSCN1', 'FSCN3', 'FUBP3', 'FUNDC2', 'FURIN', 'FUZ', 'FXR2', 'FXYD3', 'FXYD5', 'FYB1', 'GAB2', 'GABRA3', 'GAD1', 'GAL3ST4', 'GALE', 'GANAB', 'GAS2L1', 'GAS7', 'GAS8', 'GASK1B', 'GATA2', 'GATA4', 'GATAD1', 'GATD1', 'GCC1', 'GDF1', 'GDF11', 'GDF15', 'GEMIN6', 'GFM1', 'GGCT', 'GHR', 'GJB1', 'GLE1', 'GLS', 'GNG2', 'GNL3L', 'GPAT3', 'GPC6', 'GPI', 'GRASP', 'GRB10', 'GRINA', 'GRIPAP1', 'GS1-124K5.4', 'GSK3A', 'GSTZ1', 'GTF3C5', 'GTPBP3', 'GULP1', 'H2AZ1', 'H6PD', 'HBE1', 'HCFC1', 'HDAC4-AS1', 'HERC3', 'HEY1', 'HEY2', 'HINT2', 'HK1', 'HK2', 'HKDC1', 'HMCN1', 'HMGA2-AS1', 'HNRNPH1', 'HOTAIRM1', 'HOXA3', 'HOXA4', 'HOXC13', 'HOXD13', 'HR', 'HSF2', 'HSPBP1', 'HTRA1', 'HTRA2', 'HYAL2', 'HYPK', 'ICAM3', 'IDH1', 'IER2', 'IER3', 'IER5', 'IFI30', 'IFI44', 'IFNGR2', 'IFT27', 'IGFBP2', 'IGFBP5', 'IL1RAP', 'IL27RA', 'IMMP2L', 'IMPDH2', 'INO80B', 'INPP5F', 'INPPL1', 'INTS12', 'IQCE', 'IRS2', 'ISG20', 'ITGA4', 'ITGA7', 'ITGB3', 'ITGB8', 'ITPA', 'JPX', 'KAZALD1', 'KBTBD6', 'KCNN4', 'KCTD17', 'KDELR1', 'KDM5A', 'KHSRP', 'KIFC1', 'KIRREL3', 'KLHL18', 'KLHL21', 'KRTCAP2', 'LAMA1', 'LAMA4', 'LAMTOR2', 'LBX2', 'LBX2-AS1', 'LDLRAD3', 'LEF1', 'LGI4', 'LIF', 'LINC00221', 'LINC00324', 'LINC00326', 'LINC00327', 'LINC00511', 'LINC00520', 'LINC00662', 'LINC00668', 'LINC01060', 'LINC01198', 'LINC01410', 'LINC01694', 'LINC01812', 'LINC02055', 'LINC02552', 'LIX1L-AS1', 'LLGL1', 'LMF1', 'LOC100133091', 'LOC100289561', 'LOC100506282', 'LOC100506474', 'LOC100506691', 'LOC101927021', 'LOC101927811', 'LOC101927851', 'LOC101929574', 'LOC102724238', 'LOC105369203', 'LOC105369332', 'LOC105376748', 'LOC105377590', 'LOC108783654', 'LOC283335', 'LOC645513', 'LOXL3', 'LPL', 'LPXN', 'LRATD2', 'LRCOL1', 'LRP8', 'LRR1', 'LRRC1', 'LRRC37B', 'LRRC47', 'LRRC59', 'LRRC8C-DT', 'LRWD1', 'LSAMP', 'LSG1', 'LSM10', 'LSMEM2', 'LTB4R', 'LTO1', 'LUC7L2', 'LY6E', 'LYPLA2', 'MAD1L1', 'MAG', 'MAGEA6', 'MAGOH', 'MAN2A2', 'MAN2B1', 'MANEAL', 'MAP2K5', 'MAP4K3-DT', 'MAP6D1', 'MAPK11', 'MAPK12', 'MARK2', 'MBD5', 'MCAM', 'MCM3AP-AS1', 'MCM9', 'MCOLN2', 'MCRIP1', 'MCTP1', 'MDFIC', 'MDM2', 'MED24', 'MEIS2', 'MEIS3', 'MELTF', 'MEN1', 'MEPCE', 'METAP2', 'METTL17', 'MFGE8', 'MFHAS1', 'MGAT5', 'MGP', 'MGST2', 'MIA', 'MINCR', 'MIR4435-2HG', 'MIR99AHG', 'MIRLET7BHG', 'MMAB', 'MMP15', 'MMP16', 'MMS19', 'MOK', 'MON1A', 'MORC2', 'MOSMO', 'MOSPD1', 'MOSPD3', 'MPDU1', 'MPHOSPH6', 'MPP6', 'MPST', 'MPZ', 'MR1', 'MRGBP', 'MRNIP', 'MRPL11', 'MRPL13', 'MRPL15', 'MRPL3', 'MRPL35', 'MRPL49', 'MRPS12', 'MRPS18A', 'MRPS18B', 'MRPS33', 'MRPS9-AS1', 'MSN', 'MSX1', 'MTCH2', 'MTLN', 'MTREX', 'MTRNR2L2', 'MVK', 'MYCBP2-AS1', 'MYDGF', 'MYH14', 'MYL10', 'NACA4P', 'NADSYN1', 'NAMPT', 'NCDN', 'ND3', 'ND4', 'ND4L', 'NDRG1', 'NDRG2', 'NDST1', 'NDUFA11', 'NDUFA5', 'NDUFAF8', 'NDUFS2', 'NHEG1', 'NIT2', 'NLK', 'NMI', 'NMT1', 'NOL11', 'NOL6', 'NOLC1', 'NOMO1', 'NOP16', 'NPAS1', 'NPAS2', 'NPRL2', 'NR0B1', 'NR4A2', 'NRN1', 'NRP2', 'NSMCE2', 'NSUN5P1', 'NSUN5P2', 'NTMT1', 'NUCKS1', 'NUDCD3', 'NUMBL', 'NUP50-DT', 'NUP93', 'NUTF2', 'OAF', 'OAS1', 'OAS3', 'OAZ2', 'OCIAD1', 'OIP5', 'OPN3', 'OR51B4', 'OR7E12P', 'ORAI3', 'OSTCP1', 'OSTF1', 'OTUD5', 'P2RX5', 'P4HA2-AS1', 'PAGE1', 'PAGE5', 'PARD3-AS1', 'PARVB', 'PBDC1', 'PCBP4', 'PCDH1', 'PCDH7', 'PCED1A', 'PDCD2L', 'PDE4A', 'PDF', 'PDIA4', 'PDIA5', 'PDIA6', 'PDXK', 'PELI1', 'PES1', 'PFDN4', 'PFKFB4', 'PFKL', 'PFN1', 'PHB2', 'PHF23', 'PHLDA1', 'PHLDB1', 'PI15', 'PIGC', 'PIGO', 'PIK3C2A', 'PIM3', 'PIP4K2C', 'PIP5K1A', 'PITPNB', 'PLAC1', 'PLAUR', 'PLCB1', 'PLCD4', 'PLEKHA4', 'PLEKHB1', 'PLK2', 'PLN', 'PLOD1', 'PLOD3', 'PLP2', 'PMP2', 'PMS2CL', 'PNPLA2', 'PODNL1', 'PODXL', 'POLD2', 'POLR2F', 'POLR3G', 'POMT2', 'PON2', 'POP7', 'PORCN', 'POU3F2', 'PPDPF', 'PPIA', 'PPM1N', 'PPME1', 'PPOX', 'PPP1R14B-AS1', 'PPP1R3E', 'PPP3R1', 'PRAME', 'PRCP', 'PREP', 'PRKACA', 'PRKAG1', 'PRKAR1B', 'PRKAR2B', 'PRMT1', 'PRMT2', 'PRMT5-AS1', 'PRNP', 'PROCR', 'PRORP', 'PROSER1', 'PRPF19', 'PRPF40A', 'PRPF40B', 'PRRC2A', 'PRRT3-AS1', 'PSMB7', 'PSMD3', 'PSMD4', 'PSMG4', 'PSPH', 'PTGDR2', 'PTP4A1', 'PTPRG-AS1', 'PTPRZ1', 'PURPL', 'PXN', 'PXYLP1', 'PYCR1', 'PYGL', 'RAB24', 'RAB2B', 'RAB34', 'RAB5A', 'RAB5C', 'RAB6A', 'RABEPK', 'RABGGTA', 'RAD9A', 'RAE1', 'RALB', 'RALGDS', 'RANGRF', 'RASSF1', 'RASSF7', 'RBCK1', 'RBM15B', 'RCOR1', 'RECQL4', 'RETREG1', 'REV3L', 'REXO4', 'RGL3', 'RGS2', 'RIPK4', 'RLBP1', 'RND3', 'RNF10', 'RNF125', 'RNF126', 'RNF128', 'RNF19A', 'RNU4-2', 'RNU4ATAC', 'RNU6ATAC', 'RNY1', 'RNY3', 'ROPN1', 'RPAIN', 'RPAP1', 'RPGR', 'RPL10', 'RPL23A', 'RPL27', 'RPL7', 'RPLP0', 'RPP25L', 'RPP40', 'RPRD1A', 'RPS14', 'RPS24', 'RPS27A', 'RPS3', 'RPS3A', 'RPS4X', 'RPS6KA1', 'RPS6KA4', 'RPS6KA5', 'RPS8', 'RPS9', 'RPUSD3', 'RRS1', 'RSAD1', 'RTL8A', 'RTN4IP1', 'RWDD2B', 'RXRG', 'RYK', 'S100A3', 'S100B', 'SAAL1', 'SACM1L', 'SAMD1', 'SAMD4A', 'SAP30-DT', 'SARS2', 'SCAP', 'SCARB1', 'SCARNA20', 'SCARNA22', 'SCRG1', 'SDC2', 'SDC3', 'SDF2L1', 'SDF4', 'SDHAF2', 'SDSL', 'SEC11A', 'SEC61A1', 'SEC61G', 'SEL1L3', 'SELENOF', 'SEMA3A', 'SEMA3B', 'SERGEF', 'SERPINA3', 'SERPINA5', 'SERPIND1', 'SERPINE2', 'SERTAD1', 'SF3B5', 'SFXN4', 'SGF29', 'SGSH', 'SH2B3', 'SH3TC1', 'SH3TC2-DT', 'SHISA4', 'SHOX2', 'SHROOM4', 'SIRT6', 'SLA2', 'SLC20A1', 'SLC20A2', 'SLC25A11', 'SLC25A19', 'SLC25A26', 'SLC25A32', 'SLC26A6', 'SLC27A1', 'SLC2A3', 'SLC37A4', 'SLC38A6', 'SLC39A1', 'SLC39A11', 'SLC41A2', 'SLC43A2', 'SLC43A3', 'SLC45A3', 'SLC46A1', 'SLC50A1', 'SLC52A2', 'SMARCA5', 'SMARCB1', 'SMARCD2', 'SMIM2-AS1', 'SNAI1', 'SNAPIN', 'SND1', 'SNHG25', 'SNHG29', 'SNORA11F', 'SNORA12', 'SNORA28', 'SNORA4', 'SNORA79B', 'SNORA7A', 'SNORA80A', 'SNORA80E', 'SNORD10', 'SNORD118', 'SNORD13', 'SNORD15A', 'SNORD3A', 'SNORD46', 'SNORD8', 'SNORD94', 'SNRPA', 'SNRPD1', 'SNRPD3', 'SNTB1', 'SNX1', 'SNX10', 'SORD', 'SOX2', 'SOX5', 'SPAG4', 'SPAG7', 'SPAG8', 'SPATA13', 'SPATS1', 'SPCS2', 'SPESP1', 'SPHK1', 'SPRED2', 'SPRY4', 'SPTLC2', 'SPTY2D1OS', 'SREBF2', 'SRGAP1', 'SRPX', 'SRSF1', 'SRXN1', 'SSR1', 'ST3GAL4', 'ST3GAL6', 'ST6GAL1', 'STARD3', 'STEAP1B', 'STIM1', 'STIMATE-MUSTN1', 'STIP1', 'STK16', 'STK32B', 'STOML2', 'STT3A', 'STX10', 'STX4', 'SULT1A3', 'SUMF2', 'SUMO3', 'SUOX', 'SUPT4H1', 'SURF2', 'SUSD6', 'SVIL', 'SVIL-AS1', 'SWI5', 'SYCP3', 'SYMPK', 'SYNJ2BP-COX16', 'TAF6', 'TAFA3', 'TAPBPL', 'TBC1D10A', 'TBRG4', 'TBX2-AS1', 'TCF7L2', 'TCN1', 'TEAD4', 'TENT5A', 'TESC', 'TFAM', 'TFAP4', 'TFG', 'TGFA', 'THAP3', 'THAP4', 'THAP7-AS1', 'THG1L', 'THOC3', 'THOP1', 'TIMM50', 'TIMMDC1', 'TIMP3', 'TKT', 'TLCD1', 'TLNRD1', 'TM2D1', 'TMED10', 'TMED4', 'TMEM11', 'TMEM120A', 'TMEM121', 'TMEM129', 'TMEM132D-AS1', 'TMEM134', 'TMEM141', 'TMEM17', 'TMEM179B', 'TMEM223', 'TMEM229B', 'TMEM256', 'TMEM39B', 'TMEM63B', 'TMEM65', 'TMEM9B', 'TMX2', 'TNC', 'TNFAIP6', 'TNFRSF10C', 'TNFRSF19', 'TNFSF13B', 'TNFSF9', 'TNNT1', 'TNPO3', 'TOX2', 'TP53I13', 'TPD52L1', 'TRA2A', 'TRAF3IP2', 'TRAPPC1', 'TRAPPC6A', 'TRIAP1', 'TRIB1', 'TRIM11', 'TRIM33', 'TRIM35', 'TRIM45', 'TRIM51', 'TRIM9', 'TRPM8', 'TSC22D1', 'TSPAN13', 'TSPAN14', 'TSPAN7', 'TTC26', 'TTC39C', 'TTC5', 'TTC8', 'TTLL4', 'TTLL6', 'TUBG1', 'TUBGCP3', 'TWISTNB', 'TYRO3', 'TYSND1', 'UBAC2-AS1', 'UBALD2', 'UBR5', 'UBR7', 'UBXN8', 'UCN', 'UCN2', 'UFD1', 'UGT2B7', 'UGT8', 'ULK3', 'UPP1', 'USF2', 'USP11', 'USP32', 'USP48', 'USP53', 'VAC14', 'VARS1', 'VCAN-AS1', 'VGF', 'VPS11', 'VPS25', 'VPS33A', 'VPS8', 'VRK1', 'WDR25', 'WDR3', 'WDR5', 'WDR55', 'WDR75', 'WRAP53', 'XPNPEP1', 'XPNPEP3', 'YBX3', 'YIPF2', 'YIPF6', 'YKT6', 'YPEL4', 'YTHDF1', 'YTHDF3', 'ZC3HC1', 'ZKSCAN5', 'ZNF212', 'ZNF219', 'ZNF226', 'ZNF273', 'ZNF280A', 'ZNF3', 'ZNF346', 'ZNF358', 'ZNF394', 'ZNF419', 'ZNF420', 'ZNF428', 'ZNF430', 'ZNF536', 'ZNF576', 'ZNF584', 'ZNF593', 'ZNF609', 'ZNF625', 'ZNF652', 'ZNF655', 'ZNF670-ZNF695', 'ZNF697', 'ZNF740', 'ZNF768', 'ZNF777', 'ZNF784', 'ZNF787', 'ZNHIT2', 'ZNRF3', 'ZP3', 'ZW10', 'ZXDC']\n"
     ]
    }
   ],
   "source": [
    "# print genes in cancer tissues\n",
    "cancer_genes = sorted(rna_df_sel_high_pseudo[rna_df_sel_high_pseudo.min_ratio>2].index)\n",
    "print(len(cancer_genes))\n",
    "print(cancer_genes)"
   ]
  },
  {
   "cell_type": "code",
   "execution_count": 50,
   "metadata": {},
   "outputs": [
    {
     "name": "stdout",
     "output_type": "stream",
     "text": [
      "3128\n",
      "['A2M', 'AAK1', 'AAMDC', 'AASS', 'ABCA5', 'ABCA7', 'ABCB4', 'ABCB5', 'ABCC1', 'ABCC10', 'ABCC3', 'ABCD3', 'ABCD4', 'ABI1', 'ABR', 'ACAA2', 'ACAD10', 'ACADM', 'ACBD5', 'ACO1', 'ACOT2', 'ACOT4', 'ACP2', 'ACSF3', 'ACSL1', 'ACSL4', 'ACTG1', 'ACTR1A', 'ACTR2', 'ACTR3', 'ACTRT3', 'ACVRL1', 'ADA2', 'ADAM10', 'ADAM19', 'ADAM8', 'ADAM9', 'ADAMTS1', 'ADAMTS12', 'ADAMTS2', 'ADAMTSL1', 'ADCY9', 'ADD1', 'ADGRL4', 'ADI1', 'ADIRF', 'ADK', 'ADORA2B', 'ADRB2', 'ADSS1', 'AEBP1', 'AFDN', 'AFF3', 'AFF4', 'AGAP2-AS1', 'AGL', 'AGPAT2', 'AGT', 'AGTPBP1', 'AHCYL1', 'AHDC1', 'AHI1', 'AHNAK', 'AIDA', 'AIG1', 'AIP', 'AJUBA', 'AK5', 'AKAP12', 'AKAP17A', 'AKR1A1', 'AKR1B1', 'AKR1B10', 'AKR1C3', 'ALAD', 'ALCAM', 'ALDH1A3', 'ALDH1L2', 'ALDH2', 'ALDH3B1', 'ALDH5A1', 'ALG2', 'AMIGO2', 'AMN1', 'AMOTL2', 'AMPD3', 'AMZ2P1', 'ANGPTL2', 'ANK1', 'ANK2', 'ANKRD1', 'ANKRD11', 'ANKRD12', 'ANKRD13C', 'ANKRD13D', 'ANKRD28', 'ANKRD40', 'ANKRD42', 'ANKS6', 'ANLN', 'ANO10', 'ANP32A', 'ANP32E', 'ANPEP', 'ANTKMT', 'ANXA11', 'ANXA2', 'ANXA5', 'ANXA6', 'AOPEP', 'AOX1', 'AP2M1', 'AP3B1', 'AP4B1', 'AP4E1', 'APBA2', 'APBB1', 'APBB2', 'APC', 'APCDD1', 'APCDD1L-DT', 'APH1B', 'APLP2', 'APOC2', 'APOE', 'APOL6', 'APOLD1', 'APOOL', 'APPBP2', 'APPL2', 'AQP1', 'AQP3', 'ARCN1', 'AREG', 'ARF3', 'ARFIP1', 'ARFRP1', 'ARHGAP10', 'ARHGAP18', 'ARHGAP21', 'ARHGAP22', 'ARHGAP24', 'ARHGAP29', 'ARHGAP35', 'ARHGAP42', 'ARHGAP45', 'ARHGDIB', 'ARHGEF1', 'ARHGEF12', 'ARHGEF35', 'ARHGEF5', 'ARHGEF9', 'ARID1B', 'ARID2', 'ARID5B', 'ARL10', 'ARL16', 'ARL3', 'ARL4C', 'ARL6IP1', 'ARL6IP4', 'ARL6IP5', 'ARL8A', 'ARL8B', 'ARMCX1', 'ARMCX2', 'ARMCX4', 'ARMH4', 'ARMT1', 'ARNT', 'ARNTL', 'ARPC2', 'ARPP19', 'ARRB1', 'ARSB', 'ARSI', 'ARSJ', 'AS3MT', 'ASAP1', 'ASAP2', 'ASAP3', 'ASB1', 'ASB13', 'ASB8', 'ASF1A', 'ASMTL', 'ASPM', 'ASS1', 'ATAD3B', 'ATF3', 'ATF7IP2', 'ATG12', 'ATG4C', 'ATOH8', 'ATP10A', 'ATP13A2', 'ATP23', 'ATP2A2', 'ATP2C1', 'ATP5IF1', 'ATP5MD', 'ATP5PD', 'ATP6V0A1', 'ATP6V0C', 'ATP6V1A', 'ATP6V1C2', 'ATP8B1', 'ATP9A', 'ATP9B', 'ATPSCKMT', 'ATRNL1', 'ATRX', 'ATXN1L', 'ATXN2', 'AUH', 'AURKAIP1', 'AUTS2', 'AVEN', 'AXL', 'AZI2', 'B2M', 'B3GALNT1', 'B3GNT5', 'B3GNTL1', 'B4GALT1', 'B4GALT7', 'BABAM1', 'BAD', 'BAG3', 'BAIAP2', 'BAIAP2L1', 'BAIAP3', 'BASP1', 'BATF', 'BBIP1', 'BBS4', 'BBS7', 'BCAN', 'BCAR1', 'BCAR3', 'BCAS2', 'BCAS4', 'BCAT1', 'BCKDHB', 'BCL2', 'BCL2L1', 'BCL2L2', 'BCL2L2-PABPN1', 'BCL6', 'BDH1', 'BDH2', 'BEND5', 'BEND6', 'BEND7', 'BEST1', 'BEX1', 'BEX2', 'BEX4', 'BEX5', 'BGN', 'BHLHE41', 'BICC1', 'BICD2', 'BIK', 'BIN1', 'BIRC3', 'BIRC6', 'BIVM', 'BMERB1', 'BMF', 'BMP2K', 'BMP4', 'BMPR2', 'BNC2-AS1', 'BNIP2', 'BOC', 'BOD1L1', 'BOK', 'BOLA1', 'BOLA2', 'BORCS7', 'BPI', 'BPTF', 'BRCC3', 'BRD3OS', 'BRD8', 'BRK1', 'BRPF3', 'BST1', 'BTBD10', 'BTBD3', 'BTBD6', 'BTBD7', 'BUB1B', 'BZW1', 'C11orf58', 'C11orf68', 'C11orf96', 'C12orf57', 'C12orf75', 'C14orf132', 'C15orf48', 'C15orf65', 'C16orf70', 'C16orf87', 'C16orf95', 'C17orf97', 'C19orf12', 'C19orf33', 'C1GALT1', 'C1GALT1C1', 'C1QTNF1', 'C1QTNF5', 'C1orf174', 'C1orf198', 'C1orf56', 'C2CD2', 'C3', 'C3orf18', 'C4orf33', 'C4orf46', 'C5orf63', 'C6orf226', 'C7orf69', 'C8orf48', 'C9orf40', 'C9orf78', 'CA11', 'CA12', 'CA14', 'CA5B', 'CA8', 'CABLES1', 'CACNA1A', 'CACNA2D1', 'CACNB3', 'CACUL1', 'CADM1', 'CALM2', 'CAMK2N1', 'CAMTA1', 'CAMTA2', 'CANX', 'CAP1', 'CAPG', 'CAPN2', 'CAPZB', 'CARD10', 'CARM1', 'CARNMT1', 'CASC3', 'CASC4', 'CASKIN2', 'CASP1', 'CASP3', 'CASP6', 'CASP7', 'CAST', 'CAT', 'CATSPER1', 'CAV1', 'CAV2', 'CBR3-AS1', 'CBS', 'CBX1', 'CBX5', 'CC2D2A', 'CCAR2', 'CCBE1', 'CCDC122', 'CCDC124', 'CCDC140', 'CCDC149', 'CCDC171', 'CCDC18', 'CCDC186', 'CCDC190', 'CCDC32', 'CCDC69', 'CCDC74A', 'CCDC74B', 'CCDC80', 'CCDC92', 'CCDC96', 'CCL2', 'CCN1', 'CCN2', 'CCNA2', 'CCND2', 'CCND3', 'CCNDBP1', 'CCNE2', 'CCNF', 'CCNG1', 'CCNG2', 'CCNI', 'CCNL2', 'CCSER2', 'CCT4', 'CCT5', 'CCT6B', 'CD14', 'CD151', 'CD164', 'CD24', 'CD248', 'CD27-AS1', 'CD276', 'CD37', 'CD40', 'CD68', 'CD74', 'CD79B', 'CD81', 'CD82', 'CD9', 'CD99', 'CD99P1', 'CDC16', 'CDC25B', 'CDC26', 'CDC37L1-DT', 'CDC42', 'CDC42BPA', 'CDC42EP1', 'CDC42EP3', 'CDC5L', 'CDC7', 'CDCA2', 'CDCA3', 'CDCA7', 'CDCP1', 'CDH1', 'CDH13', 'CDH18', 'CDH3', 'CDIP1', 'CDK10', 'CDK11A', 'CDK15', 'CDK17', 'CDK2', 'CDK20', 'CDK5RAP2', 'CDK6-AS1', 'CDKN1A', 'CDKN1B', 'CDKN1C', 'CDKN2A', 'CDKN2B', 'CDKN2C', 'CDKN2D', 'CDKN3', 'CDR1', 'CDR2L', 'CEBPB', 'CEBPD', 'CECR2', 'CELF2', 'CEMIP2', 'CEMP1', 'CENPA', 'CENPB', 'CENPE', 'CENPF', 'CENPJ', 'CENPK', 'CENPP', 'CENPU', 'CENPV', 'CENPW', 'CEP104', 'CEP135', 'CEP152', 'CEP162', 'CEP164', 'CEP192', 'CEP250', 'CEP41', 'CEP55', 'CEP78', 'CEP89', 'CERK', 'CERS2', 'CERS5', 'CERS6', 'CERT1', 'CFAP20', 'CFAP300', 'CFAP61', 'CFAP97', 'CFDP1', 'CFH', 'CFLAR', 'CGAS', 'CHCHD1', 'CHCHD6', 'CHD1', 'CHD1L', 'CHD2', 'CHEK1', 'CHFR', 'CHIC2', 'CHKB', 'CHM', 'CHML', 'CHMP1B', 'CHP1', 'CHST15', 'CHST7', 'CHSY3', 'CIB2', 'CISD1', 'CITED1', 'CITED2', 'CKAP2', 'CKB', 'CKS2', 'CLCC1', 'CLCN3', 'CLCN7', 'CLDN11', 'CLGN', 'CLIC4', 'CLIP1', 'CLIP3', 'CLK4', 'CLMP', 'CLN5', 'CLOCK', 'CLSPN', 'CLSTN1', 'CLU', 'CLUL1', 'CLVS1', 'CLYBL', 'CMC1', 'CMKLR1', 'CMPK1', 'CMTM3', 'CMTR1', 'CNN2', 'CNN3', 'CNOT7', 'CNOT8', 'CNRIP1', 'COA6', 'COG2', 'COG4', 'COG8', 'COL11A1', 'COL12A1', 'COL13A1', 'COL17A1', 'COL18A1', 'COL1A1', 'COL1A2', 'COL3A1', 'COL4A5', 'COL4A6', 'COL5A1', 'COL5A2', 'COL6A1', 'COL6A2', 'COL7A1', 'COL8A1', 'COLEC12', 'COMMD2', 'COMMD7', 'COPS2', 'COPS4', 'COPS7B', 'COPS8', 'COQ4', 'COQ5', 'CORO1C', 'COX7A1', 'COX7A2', 'CP', 'CPA4', 'CPEB2', 'CPPED1', 'CPQ', 'CPT1A', 'CPT1C', 'CPVL', 'CPXM2', 'CRACR2A', 'CRAT', 'CREB3L1', 'CREBRF', 'CRHBP', 'CRIM1', 'CRIP1', 'CRISPLD2', 'CRNDE', 'CRTC1', 'CRY1', 'CRYAB', 'CRYBG1', 'CRYL1', 'CSDE1', 'CSGALNACT2', 'CSKMT', 'CST6', 'CSTA', 'CT75', 'CTBP2', 'CTDSP2', 'CTDSPL', 'CTDSPL2', 'CTIF', 'CTNNA1', 'CTNNAL1', 'CTNNB1', 'CTRL', 'CTSA', 'CTSB', 'CTSF', 'CTSK', 'CTSO', 'CTSV', 'CTTN', 'CTTNBP2NL', 'CUEDC2', 'CUL3', 'CUL4B', 'CUL5', 'CUTA', 'CWC27', 'CXCL1', 'CXCL12', 'CXCL2', 'CXCL3', 'CXorf40A', 'CYB561', 'CYB561A3', 'CYB5A', 'CYB5R1', 'CYB5R4', 'CYBA', 'CYBRD1', 'CYGB', 'CYLD', 'CYP1B1', 'CYP20A1', 'CYP27C1', 'CYP2U1', 'CYP4V2', 'CYSLTR2', 'CYSTM1', 'CYTH2', 'CYTL1', 'DAAM1', 'DAB2', 'DACT1', 'DANCR', 'DAP', 'DAPK1', 'DAPK3', 'DBN1', 'DBNDD2', 'DCAF11', 'DCAF8', 'DCN', 'DCP2', 'DCTD', 'DCTN2', 'DCTN3', 'DCTN4', 'DCUN1D4', 'DDAH1', 'DDAH2', 'DDHD1', 'DDIT4', 'DDIT4L', 'DDN-AS1', 'DDR2', 'DDX3Y', 'DDX41', 'DDX60', 'DEAF1', 'DECR1', 'DEF8', 'DEFB1', 'DEGS1', 'DEK', 'DENND2A', 'DENND2B', 'DENND2D', 'DENND4A', 'DENND5B', 'DEPDC1B', 'DEPDC5', 'DEPP1', 'DERA', 'DESI2', 'DEXI', 'DFFB', 'DGCR6', 'DGCR6L', 'DGKA', 'DGUOK-AS1', 'DHCR24', 'DHDDS', 'DHFR', 'DHX58', 'DHX8', 'DHX9', 'DIAPH3', 'DIP2C', 'DIPK1C', 'DIS3L2', 'DISP1', 'DKK1', 'DKK3', 'DLC1', 'DLG1', 'DLGAP1', 'DLGAP5', 'DMAP1', 'DMC1', 'DMD', 'DMXL1', 'DMXL2', 'DNAAF1', 'DNAAF4-CCPG1', 'DNAJA4', 'DNAJB4', 'DNAJC1', 'DNAJC11', 'DNAJC13', 'DNAJC15', 'DNAJC25', 'DNAJC27-AS1', 'DNAJC3', 'DNAJC4', 'DNAJC6', 'DNAJC8', 'DNAJC9', 'DNALI1', 'DNLZ', 'DNM1L', 'DNM2', 'DNM3', 'DOCK1', 'DOCK10', 'DOCK11', 'DOCK2', 'DOCK5', 'DOCK8', 'DOK5', 'DOLPP1', 'DPCD', 'DPF3', 'DPH5', 'DPM2', 'DPP4', 'DPP8', 'DPY19L3', 'DPYSL2', 'DPYSL3', 'DSE', 'DSP', 'DST', 'DSTN', 'DSTNP2', 'DSTYK', 'DTNA', 'DTNB', 'DTWD1', 'DUSP1', 'DUSP22', 'DUSP23', 'DUT', 'DVL1', 'DVL3', 'DYNC1I2', 'DYNC1LI1', 'DYNC1LI2', 'DYNLRB1', 'DYNLT1', 'DYRK1B', 'DYRK4', 'DZIP1', 'E2F1', 'ECHDC1', 'ECHDC2', 'ECHDC3', 'ECI2', 'ECT2', 'EDIL3', 'EDN1', 'EDNRA', 'EDNRB', 'EDRF1-DT', 'EEF1AKMT1', 'EEF1B2', 'EEF1E1', 'EFCAB1', 'EFEMP1', 'EFEMP2', 'EFHC1', 'EFHD1', 'EFNA1', 'EFNB2', 'EGFL8', 'EGFR', 'EGLN2', 'EGR1', 'EHD2', 'EHD3', 'EHD4', 'EID1', 'EIF1AY', 'EIF2A', 'EIF3CL', 'EIF4B', 'EIF4EBP2', 'EIF4EBP3', 'EIF5AL1', 'EIF6', 'ELF2', 'ELF4', 'ELFN1', 'ELL2', 'ELMOD2', 'ELMSAN1', 'ELOA', 'ELOVL6', 'EMC4', 'EMC7', 'EMC8', 'EMCN', 'EME1', 'EMILIN1', 'EMILIN2', 'EML1', 'EML3', 'EML4', 'EML6', 'EMP2', 'EMP3', 'ENC1', 'ENG', 'ENOSF1', 'ENPP2', 'ENTPD1', 'ENTPD4', 'ENTPD5', 'EPAS1', 'EPB41', 'EPB41L3', 'EPB41L4A', 'EPCAM', 'EPG5', 'EPHA4', 'EPHA5', 'EPHA5-AS1', 'EPHB2', 'EPM2A', 'EPS15', 'EPS8', 'EPS8L2', 'EPSTI1', 'ERAP2', 'ERBIN', 'ERC1', 'ERCC2', 'ERCC6', 'ERCC6L2', 'EREG', 'ERGIC2', 'ERICH1', 'ERMARD', 'ERRFI1', 'ESCO2', 'ESD', 'ESRP1', 'ESRP2', 'ESYT2', 'ETNK2', 'ETS1', 'EVA1B', 'EVA1C', 'EVL', 'EXO5', 'EXOC2', 'EXOC5', 'EXOC7', 'EXTL2', 'EZH1', 'EZR', 'F2R', 'F2RL2', 'F3', 'FAAP20', 'FABP3', 'FABP4', 'FABP5', 'FADS1', 'FADS2', 'FAF2', 'FAH', 'FAHD2B', 'FAM107B', 'FAM111B', 'FAM114A2', 'FAM120A', 'FAM13B', 'FAM161A', 'FAM167A', 'FAM167B', 'FAM171A1', 'FAM171B', 'FAM172A', 'FAM174A', 'FAM174B', 'FAM204A', 'FAM20B', 'FAM20C', 'FAM227B', 'FAM228B', 'FAM229B', 'FAM24B', 'FAM32A', 'FAM43A', 'FAM49A', 'FAM50B', 'FAM53B', 'FAM83H', 'FAM89A', 'FAM89B', 'FAM92A', 'FAN1', 'FANCD2', 'FANCI', 'FAP', 'FARP1', 'FAT1', 'FAXC', 'FAXDC2', 'FBH1', 'FBLIM1', 'FBLL1', 'FBLN1', 'FBLN2', 'FBN1', 'FBXL19', 'FBXL2', 'FBXO25', 'FBXO31', 'FBXO33', 'FBXO4', 'FBXW11', 'FBXW9', 'FCGRT', 'FCMR', 'FDPS', 'FEN1', 'FERMT2', 'FERMT3', 'FEZ1', 'FGD5-AS1', 'FGF1', 'FGF14-AS2', 'FGF5', 'FGFBP1', 'FGFR1', 'FHL1', 'FIBP', 'FILIP1L', 'FJX1', 'FKBP15', 'FKBP1B', 'FKBP4', 'FKBP5', 'FLNC', 'FLOT1', 'FLOT2', 'FLT3LG', 'FLVCR2', 'FLYWCH2', 'FMN1', 'FMNL1', 'FN1', 'FNBP1L', 'FNDC10', 'FNIP2', 'FOPNL', 'FOS', 'FOSB', 'FOSL2', 'FOXC2-AS1', 'FOXD3', 'FOXD3-AS1', 'FOXF2', 'FOXL1', 'FOXN3', 'FOXN3-AS1', 'FOXO3', 'FOXP1', 'FOXQ1', 'FRAT1', 'FRYL', 'FST', 'FSTL1', 'FSTL3', 'FTH1', 'FUBP1', 'FUCA1', 'FUOM', 'FXR1', 'FZD2', 'G0S2', 'G3BP2', 'GAB1', 'GABARAPL1', 'GABARAPL2', 'GADD45B', 'GALC', 'GALM', 'GALNT1', 'GALNT10', 'GALNT11', 'GALNT14', 'GALNT18', 'GALNT2', 'GALNT3', 'GALNT5', 'GALNTL6', 'GAPDHS', 'GAS1', 'GAS2L3', 'GAS5', 'GAS6', 'GATAD2A', 'GBP1', 'GBP3', 'GCHFR', 'GCLM', 'GCNT1', 'GCNT2', 'GDI1', 'GDI2', 'GEMIN8', 'GET1', 'GFRA1', 'GGPS1', 'GGT5', 'GIGYF2', 'GIHCG', 'GINS2', 'GJA1', 'GJB2', 'GJC1', 'GKAP1', 'GLA', 'GLG1', 'GLIPR1', 'GLIPR2', 'GLIS2', 'GLIS3', 'GLMP', 'GLO1', 'GLT8D2', 'GLUL', 'GMPPB', 'GMPR', 'GNA11', 'GNAI1', 'GNAI3', 'GNAL', 'GNAQ', 'GNB1', 'GNB4', 'GNB5', 'GNG10', 'GNPAT', 'GNPNAT1', 'GOLGA7', 'GOLPH3', 'GOLPH3L', 'GON7', 'GOSR1', 'GOT1', 'GPAT4', 'GPC1', 'GPER1', 'GPM6B', 'GPR108', 'GPR137B', 'GPR143', 'GPR176', 'GPR37', 'GPR39', 'GPRC5C', 'GPRC5D-AS1', 'GPRIN1', 'GPRIN3', 'GPSM1', 'GPSM2', 'GPX7', 'GRAMD2B', 'GREM1', 'GRK3', 'GRK4', 'GSDME', 'GSE1', 'GSPT2', 'GSTA4', 'GSTM1', 'GSTM3', 'GSTO2', 'GSTP1', 'GTF2A1', 'GTF2A1L', 'GTF2A2', 'GTF2B', 'GTF2E2', 'GTF2H2', 'GTF2IRD1', 'GTF2IRD2B', 'GTPBP8', 'GUCY1B1', 'GUK1', 'GYPC', 'H1-0', 'H1-1', 'H1-10', 'H1-3', 'H1-4', 'H1-5', 'H19', 'H2AC19', 'H2AC21', 'H2AC6', 'H2AJ', 'H2AX', 'H3-3A', 'H4C3', 'HABP4', 'HACD3', 'HADH', 'HADHA', 'HARS1', 'HAUS1', 'HAUS2', 'HAUS6', 'HBS1L', 'HCFC1R1', 'HCG11', 'HCG25', 'HDAC11', 'HDAC2', 'HDAC4', 'HDGF', 'HDGFL3', 'HDHD2', 'HDHD3', 'HDLBP', 'HEBP2', 'HECA', 'HELLS', 'HERC1', 'HERC4', 'HERC5', 'HES6', 'HES7', 'HEXA', 'HEXIM1', 'HHIP', 'HHIP-AS1', 'HIGD1A', 'HIKESHI', 'HIPK1', 'HIPK2', 'HIVEP1', 'HLA-A', 'HLA-B', 'HLA-DPB1', 'HLTF', 'HMBOX1', 'HMGA1', 'HMGB2', 'HMGB3', 'HMGN3', 'HMMR', 'HMSD', 'HNMT', 'HNRNPA1', 'HNRNPA1L2', 'HNRNPH3', 'HNRNPLL', 'HOOK3', 'HOPX', 'HOXA10', 'HOXA10-AS', 'HOXA7', 'HOXA9', 'HOXB-AS1', 'HOXB2', 'HOXC-AS3', 'HOXC10', 'HOXC11', 'HOXC4', 'HOXC9', 'HOXD1', 'HP1BP3', 'HPCAL1', 'HPDL', 'HPF1', 'HPGD', 'HPS3', 'HPS4', 'HRCT1', 'HRH1', 'HRH2', 'HS2ST1', 'HS3ST3A1', 'HSBP1L1', 'HSD17B14', 'HSD17B4', 'HSD3B7', 'HSDL2', 'HSPA14', 'HSPA1A', 'HSPA2', 'HSPB11', 'HSPB2', 'HSPB3', 'HSPB7', 'HSPG2', 'HTATSF1', 'HTR2B', 'HYI', 'IARS1', 'ICK', 'ICMT', 'ID1', 'ID2', 'ID3', 'ID4', 'IDH2', 'IDH3A', 'IDH3B', 'IDH3G', 'IDI1', 'IDI2-AS1', 'IDNK', 'IER3-AS1', 'IFI27', 'IFI27L1', 'IFI27L2', 'IFIT5', 'IFITM1', 'IFNGR1', 'IFT122', 'IFT74', 'IFT80', 'IFT81', 'IGF2', 'IGF2R', 'IGFBP3', 'IGFBP4', 'IGFBP6', 'IGFBP7', 'IGIP', 'IKBKG', 'IKZF2', 'IL11RA', 'IL12RB2', 'IL15', 'IL17D', 'IL17RB', 'IL1B', 'IL1R1', 'IL24', 'IL6ST', 'IL7R', 'ILK', 'ILKAP', 'ILVBL', 'IMPA2', 'IMPACT', 'INA', 'INF2', 'ING2', 'ING4', 'INIP', 'INPP4B', 'INTS1', 'INTS11', 'IP6K3', 'IPO5', 'IQCD', 'IQCK', 'IQGAP1', 'IREB2', 'IRF1', 'IRF2BPL', 'IRF4', 'IRF9', 'IRS1', 'IRX3', 'IRX5', 'ISG15', 'ISM1', 'ISY1-RAB43', 'ISYNA1', 'ITFG2', 'ITGA10', 'ITGA11', 'ITGA3', 'ITGB1', 'ITGB1BP1', 'ITGB2', 'ITGBL1', 'ITM2A', 'ITPK1', 'ITPKB', 'JADE1', 'JAG1', 'JAK1', 'JAM3', 'JCHAIN', 'JKAMP', 'JMY', 'JOSD2', 'JRK', 'JUN', 'JUND', 'JUP', 'KANK2', 'KANSL1-AS1', 'KAT2B', 'KATNA1', 'KATNAL1', 'KATNB1', 'KAZN', 'KBTBD7', 'KCNAB2', 'KCNE4', 'KCNIP3', 'KCNJ13', 'KCNK6', 'KCNMA1', 'KCNS3', 'KCTD10', 'KCTD12', 'KCTD2', 'KCTD3', 'KDM5D', 'KDSR', 'KHDRBS1', 'KIAA0355', 'KIAA0408', 'KIAA1191', 'KIAA1217', 'KIAA1614', 'KIAA2026', 'KIF15', 'KIF18A', 'KIF1C', 'KIF20A', 'KIF20B', 'KIF21A', 'KIF23', 'KIF2C', 'KIF5B', 'KIF6', 'KIFBP', 'KIT', 'KLF13', 'KLF3', 'KLF5', 'KLF6', 'KLHDC4', 'KLHDC8B', 'KLHDC9', 'KLHL2', 'KLHL34', 'KLHL35', 'KLHL36', 'KLHL42', 'KLHL5', 'KLK8', 'KLRC2', 'KLRK1', 'KMT2C', 'KNL1', 'KPNA2', 'KPNA3', 'KRAS', 'KRBOX1', 'KRT13', 'KRT14', 'KRT15', 'KRT16', 'KRT17', 'KRT18', 'KRT19', 'KRT5', 'KRT6A', 'KRT6B', 'KRT7', 'KRT80', 'KRT81', 'KRTAP19-1', 'KRTCAP3', 'KRTDAP', 'KSR1', 'KTN1', 'KYAT1', 'KYAT3', 'LACC1', 'LACTB', 'LAMA5', 'LAMB2', 'LAMC2', 'LAPTM4A', 'LARGE1', 'LARP4B', 'LATS2', 'LAYN', 'LCA5', 'LDHB', 'LDHC', 'LDLRAD2', 'LDOC1', 'LEPROT', 'LFNG', 'LGALS1', 'LGALS7', 'LGI3', 'LGR6', 'LHFPL2', 'LHPP', 'LIMA1', 'LIMD2', 'LIMK2', 'LIMS2', 'LIN54', 'LIN7A', 'LINC00310', 'LINC00484', 'LINC00504', 'LINC00589', 'LINC00632', 'LINC00665', 'LINC00667', 'LINC01006', 'LINC01531', 'LINC01563', 'LINC01637', 'LINC01909', 'LINC01954', 'LINC01963', 'LINC02099', 'LINC02104', 'LINC02381', 'LINC02482', 'LINC02550', 'LINC02610', 'LINC02657', 'LINC02696', 'LINC02735', 'LINC02802', 'LINC02861', 'LIPE', 'LIX1L', 'LLGL2', 'LMCD1', 'LMNA', 'LMO2', 'LMO7', 'LMO7-AS1', 'LNCTAM34A', 'LNP1', 'LOC100128108', 'LOC100128398', 'LOC100130111', 'LOC100505715', 'LOC100506100', 'LOC101928000', 'LOC101928837', 'LOC101929243', 'LOC101929718', 'LOC102724532', 'LOC105369760', 'LOC105370792', 'LOC105376114', 'LOC107984450', 'LOC440895', 'LOC730098', 'LOC730101', 'LOC93622', 'LOH12CR2', 'LONRF1', 'LOX', 'LOXL1', 'LOXL1-AS1', 'LOXL2', 'LPAR1', 'LPAR4', 'LPGAT1', 'LPIN2', 'LPP', 'LRFN4', 'LRIG1', 'LRMDA', 'LRRC17', 'LRRC2', 'LRRC27', 'LRRC39', 'LRRC4', 'LRRC45', 'LRRC49', 'LRRC6', 'LRRC75B', 'LRRFIP1', 'LRRFIP2', 'LRRIQ1', 'LRRN4CL', 'LSM2', 'LSM3', 'LTA4H', 'LTBP1', 'LTBP2', 'LUC7L', 'LUZP1', 'LXN', 'LY6D', 'LY6K', 'LYL1', 'LYN', 'LYNX1', 'LYPD3', 'LYPD6', 'LYRM9', 'LYSMD3', 'LYST', 'LZIC', 'LZTFL1', 'LZTS2', 'MACF1', 'MACROH2A2', 'MAEA', 'MAF', 'MAFB', 'MAGED4', 'MAGED4B', 'MAGEH1', 'MAGI1', 'MAGI2-AS3', 'MAGI3', 'MAL', 'MAL2', 'MALL', 'MAN2A1', 'MAOA', 'MAP1B', 'MAP1LC3A', 'MAP1LC3B', 'MAP2', 'MAP3K20', 'MAP3K4', 'MAP3K5', 'MAP3K6', 'MAP3K7', 'MAP4K3', 'MAP4K5', 'MAP7D2', 'MAPK13', 'MAPK9', 'MAPRE2', 'MARC1', 'MARC2', 'MARCHF2', 'MARCHF3', 'MARK1', 'MAST4', 'MAT2B', 'MB21D2', 'MBNL2', 'MBOAT7', 'MBP', 'MCC', 'MCF2', 'MCF2L', 'MCL1', 'MCM10', 'MCM3', 'MCM5', 'MCM6', 'MCUB', 'MDGA2', 'MDH1', 'MDK', 'MDM1', 'MED20', 'MED21', 'MED29', 'MED4', 'MED8', 'MEDAG', 'MEF2C', 'MEF2D', 'MEG3', 'MEG9', 'MEGF9', 'MEST', 'MET', 'METRNL', 'METTL25', 'METTL7A', 'MEX3A', 'MEX3D', 'MFAP1', 'MFAP2', 'MFAP3', 'MFN2', 'MFSD10', 'MFSD14B', 'MFSD2B', 'MGA', 'MGARP', 'MGLL', 'MGMT', 'MGST1', 'MGST3', 'MIB2', 'MICAL1', 'MICAL2', 'MICOS10', 'MICOS13', 'MICU1', 'MICU3', 'MID1IP1', 'MIER1', 'MINDY2', 'MINDY3', 'MIPOL1', 'MIR155HG', 'MIR181A2HG', 'MIR205HG', 'MIR22HG', 'MIR302CHG', 'MIR3681HG', 'MIR4458HG', 'MIS18BP1', 'MKI67', 'MLANA', 'MLH1', 'MLIP', 'MLPH', 'MLST8', 'MMACHC', 'MMD', 'MME', 'MMGT1', 'MMP1', 'MMP17', 'MMP19', 'MMP24OS', 'MMUT', 'MN1', 'MNS1', 'MORC4', 'MORF4L1', 'MORF4L2', 'MORN2', 'MORN4', 'MOXD1', 'MPC1', 'MPDZ', 'MPPED2', 'MRAS', 'MRFAP1', 'MRPL1', 'MRPL20', 'MRPL20-AS1', 'MRPL23', 'MRPL28', 'MRPL33', 'MRPL36', 'MRPL51', 'MRPS27', 'MRRF', 'MSANTD3', 'MSANTD3-TMEFF1', 'MSC', 'MSC-AS1', 'MSL3P1', 'MSMO1', 'MSRB2', 'MT1A', 'MT1E', 'MT1F', 'MT1G', 'MT1L', 'MT1M', 'MT2A', 'MTA1', 'MTERF4', 'MTF2', 'MTFR1L', 'MTHFD1L', 'MTHFD2L', 'MTIF3', 'MTMR10', 'MTOR', 'MTRES1', 'MTRF1L', 'MTSS1', 'MTURN', 'MUC1', 'MUC12-AS1', 'MVB12A', 'MVD', 'MVP', 'MXD3', 'MXD4', 'MXRA7', 'MXRA8', 'MYADM', 'MYCBP2', 'MYH10', 'MYH9', 'MYL12A', 'MYL12B', 'MYL6', 'MYL6B', 'MYLK', 'MYO10', 'MYO1B', 'MYO1C', 'MYO1D', 'MYO1E', 'MYO5A', 'MYO6', 'MYO9B', 'MYOD1', 'MYOF', 'MYSM1', 'N4BP2L1', 'NAA10', 'NAAA', 'NAALADL1', 'NAALADL2', 'NAGK', 'NALCN', 'NANOS1', 'NAPG', 'NAPSB', 'NARS2', 'NAT14', 'NAV1', 'NAV2', 'NBEAL1', 'NBPF19', 'NBPF9', 'NCALD', 'NCAM1', 'NCAM2', 'NCAPG', 'NCAPG2', 'NCAPH', 'NCBP1', 'NCOA4', 'NCOA7', 'NCOR2', 'NDC80', 'NDEL1', 'NDN', 'NDP', 'NDUFA1', 'NDUFA10', 'NDUFA12', 'NDUFA2', 'NDUFA8', 'NDUFAF1', 'NDUFAF5', 'NDUFB3', 'NDUFB4', 'NDUFB6', 'NDUFS4', 'NECAP2', 'NECTIN2', 'NECTIN3', 'NEFH', 'NEGR1', 'NEIL1', 'NEK2', 'NEK3', 'NEO1', 'NET1', 'NETO2', 'NEXN', 'NFATC4', 'NFIL3', 'NFKBIZ', 'NGF', 'NHLRC1', 'NIBAN1', 'NID1', 'NID2', 'NINJ1', 'NINL', 'NIP7', 'NIPA2', 'NIPAL2', 'NIPSNAP3A', 'NKAPD1', 'NKAPL', 'NKTR', 'NLRP1', 'NME3', 'NME4', 'NME5', 'NMNAT1', 'NMRK1', 'NMT2', 'NMU', 'NNAT', 'NNMT', 'NOL3', 'NOL8', 'NOX4', 'NPHP4', 'NPIPB4', 'NPIPB5', 'NPL', 'NPM2', 'NPR2', 'NPTX1', 'NQO1', 'NR2C1', 'NR2F1', 'NR3C1', 'NR4A3', 'NRAS', 'NRBF2', 'NRDC', 'NREP', 'NRIP1', 'NRIP3', 'NSA2', 'NSD2', 'NSG1', 'NSMCE1', 'NSMF', 'NT5C', 'NT5C2', 'NT5E', 'NTF3', 'NTM', 'NUAK1', 'NUBP1', 'NUDCD2', 'NUDT10', 'NUDT11', 'NUDT14', 'NUDT16L1', 'NUDT19', 'NUDT3', 'NUDT7', 'NUDT8', 'NUDT9', 'NUMA1', 'NUP133', 'NUPR1', 'NUSAP1', 'NUTM2A-AS1', 'OAT', 'OBSL1', 'OCA2', 'OCIAD2', 'ODF2', 'ODF2L', 'OIP5-AS1', 'OLFM1', 'OLFML3', 'OPTN', 'OR2A20P', 'OR7C1', 'ORMDL3', 'OSBPL2', 'OSCP1', 'OSER1-DT', 'OSGEP', 'OSMR', 'OSR1', 'OSTM1', 'OTUD7B', 'OVCA2', 'OXCT1', 'OXSR1', 'OXTR', 'P3H1', 'P4HTM', 'PABPC5', 'PACS1', 'PADI2', 'PAEP', 'PAFAH1B2', 'PAG1', 'PAIP1', 'PAK1', 'PAK2', 'PALLD', 'PALM', 'PALM2AKAP2', 'PALMD', 'PAMR1', 'PANK1', 'PANX1', 'PAOX', 'PAPPA-AS1', 'PAPSS1', 'PAQR7', 'PAQR8', 'PARD3B', 'PARD6A', 'PARP1', 'PARP14', 'PARP6', 'PARP8', 'PARVA', 'PAX3', 'PAX8-AS1', 'PBK', 'PBRM1', 'PBX1', 'PBXIP1', 'PCBD1', 'PCBP3', 'PCDH9', 'PCDHGA10', 'PCDHGA12', 'PCDHGA7', 'PCDHGB7', 'PCDHGC3', 'PCNX2', 'PCYOX1L', 'PDCD1LG2', 'PDCD4', 'PDE4D', 'PDE4DIP', 'PDE5A', 'PDE6G', 'PDE8A', 'PDE9A', 'PDGFC', 'PDGFRA', 'PDGFRB', 'PDK2', 'PDK4', 'PDLIM1', 'PDLIM4', 'PDS5A', 'PDZRN3', 'PEA15', 'PEAK1', 'PEBP1', 'PEG10', 'PEG3', 'PELI2', 'PELI3', 'PER3', 'PET117', 'PEX2', 'PF4', 'PFDN1', 'PFKM', 'PFN2', 'PGAP4', 'PGBD5', 'PGLS', 'PGM2L1', 'PGPEP1', 'PHACTR1', 'PHACTR2', 'PHACTR3', 'PHACTR4', 'PHAX', 'PHC2', 'PHF1', 'PHF11', 'PHF13', 'PHF19', 'PHF20', 'PHKB', 'PHLDB2', 'PHPT1', 'PHYHD1', 'PHYKPL', 'PI3', 'PI4KB', 'PICALM', 'PID1', 'PIEZO1', 'PIEZO2', 'PIGB', 'PIGBOS1', 'PIGF', 'PIGG', 'PIGZ', 'PIH1D1', 'PIK3CD', 'PIK3CD-AS2', 'PIK3IP1', 'PIK3R1', 'PIK3R2', 'PIM1', 'PINK1', 'PINLYP', 'PIP4K2A', 'PITHD1', 'PITRM1', 'PKDCC', 'PKIB', 'PKN1', 'PKN2', 'PLA2G15', 'PLA2R1', 'PLAA', 'PLAAT1', 'PLAAT3', 'PLAAT4', 'PLAC8', 'PLAU', 'PLCB3', 'PLCD1', 'PLCG2', 'PLCH2', 'PLCL2', 'PLEK2', 'PLEKHA5', 'PLEKHG3', 'PLEKHM2', 'PLGRKT', 'PLIN2', 'PLOD2', 'PLPP4', 'PLPP6', 'PLPP7', 'PLS3', 'PLXNA1', 'PLXNA2', 'PLXNB1', 'PLXNC1', 'PLXND1', 'PMEL', 'PMS1', 'PNMA6A', 'PNMA8A', 'PNPLA3', 'PNPLA6', 'PNRC1', 'PNRC2', 'POFUT2', 'POGLUT2', 'POLE2', 'POLN', 'POLR2B', 'POU2F2', 'POU3F1', 'PPA2', 'PPARD', 'PPARG', 'PPARGC1B', 'PPHLN1', 'PPIP5K2', 'PPL', 'PPM1B', 'PPP1R12A', 'PPP1R13L', 'PPP1R18', 'PPP1R21', 'PPP1R3C', 'PPP1R9B', 'PPP2CB', 'PPP2R1B', 'PPP2R2B', 'PPP2R3B', 'PPP2R3C', 'PPP3CA', 'PPP4C', 'PPP4R1', 'PRC1', 'PRDM8', 'PRDX1', 'PRDX2', 'PRELP', 'PRG4', 'PRICKLE1', 'PRKAA1', 'PRKAA2', 'PRKAG2', 'PRKCB', 'PRKCQ-AS1', 'PRKG1', 'PRKX', 'PRKY', 'PRMT6', 'PRPF18', 'PRPS1', 'PRR16', 'PRRC1', 'PRRX1', 'PRSS12', 'PRSS23', 'PRSS3', 'PRUNE2', 'PRXL2B', 'PRXL2C', 'PSD3', 'PSENEN', 'PSIP1', 'PSMB10', 'PSMC5', 'PSMD10', 'PSMD5', 'PSMD9', 'PSME3IP1', 'PSMG3-AS1', 'PSTPIP2', 'PTBP2', 'PTCHD4', 'PTEN', 'PTGER1', 'PTGER2', 'PTGER4', 'PTGFR', 'PTGR1', 'PTHLH', 'PTK7', 'PTN', 'PTOV1', 'PTPN11', 'PTPN13', 'PTPN14', 'PTPN18', 'PTPN21', 'PTPRU', 'PTX3', 'PURA', 'PURB', 'PUS7L', 'PWWP2B', 'PWWP3A', 'PXDC1', 'PXDN', 'PXMP2', 'PYCARD', 'PYCR2', 'PYURF', 'QKI', 'QPCT', 'QPRT', 'R3HDM2', 'RAB14', 'RAB18', 'RAB1A', 'RAB27A', 'RAB31', 'RAB32', 'RAB33A', 'RAB35', 'RAB38', 'RAB3B', 'RAB3D', 'RAB3GAP1', 'RAB42', 'RAB4A', 'RAB5B', 'RAB8B', 'RABAC1', 'RABEP2', 'RABGAP1L', 'RABGGTB', 'RACGAP1', 'RAD17', 'RAD23A', 'RAD23B', 'RAD50', 'RAD51', 'RAD51AP1', 'RADIL', 'RAI14', 'RALBP1', 'RALGAPA2', 'RALGPS1', 'RAMAC', 'RANBP6', 'RAP2A', 'RAPGEF1', 'RARB', 'RARRES1', 'RARRES2', 'RARS1', 'RASAL2', 'RASGRP3', 'RASIP1', 'RASSF3', 'RASSF4', 'RB1', 'RBBP7', 'RBBP9', 'RBM38', 'RBM41', 'RBM7', 'RBM8A', 'RBMS1', 'RBMX', 'RBP1', 'RBP7', 'RBPMS', 'RBPMS2', 'RC3H2', 'RCAN2', 'REC8', 'REPS2', 'RERE', 'RESF1', 'RETSAT', 'REXO2', 'RFC1', 'RFESD', 'RFLNA', 'RFLNB', 'RFTN1', 'RGCC', 'RGPD5', 'RGS1', 'RGS10', 'RGS12', 'RGS14', 'RGS17', 'RGS20', 'RGS3', 'RGS4', 'RHEB', 'RHOBTB1', 'RHOBTB3', 'RHOD', 'RHOQ', 'RIIAD1', 'RILPL1', 'RIMKLB', 'RIMS1', 'RIN2', 'RINL', 'RIOX1', 'RIPK3', 'RIPOR1', 'RLN1', 'RMC1', 'RMDN2', 'RNASE4', 'RNASEK-C17orf49', 'RNASEL', 'RNF11', 'RNF13', 'RNF130', 'RNF20', 'RNF208', 'RNF214', 'RNF32', 'RNF4', 'RNPC3', 'RNU1-1', 'RNU1-2', 'RNU1-3', 'RNU1-4', 'RNVU1-15', 'RNVU1-18', 'RNVU1-31', 'ROBO3', 'ROCK2', 'ROM1', 'RORA', 'RPA1', 'RPF1', 'RPL13', 'RPL13AP20', 'RPL13AP5', 'RPL13P5', 'RPL21P28', 'RPL22', 'RPL23AP87', 'RPL31', 'RPL36A', 'RPL39L', 'RPL4', 'RPL5', 'RPL6', 'RPP25', 'RPS15A', 'RPS17', 'RPS4Y1', 'RPS6', 'RPS6KA2', 'RPSAP52', 'RRAD', 'RRAGA', 'RRAGC', 'RRAS', 'RRAS2', 'RRBP1', 'RRM2', 'RSPH10B', 'RSPRY1', 'RSU1', 'RTF1', 'RTL8B', 'RTL8C', 'RTN2', 'RTN4RL1', 'RTP4', 'RTTN', 'RUFY1', 'RUNX1T1', 'RUNX2', 'RUNX3', 'RWDD1', 'RWDD3', 'RWDD4', 'RXRA', 'S100A10', 'S100A16', 'S100A2', 'S100A6', 'S100A8', 'S100A9', 'S100P', 'S1PR3', 'SAA1', 'SALL2', 'SALL4', 'SAMD5', 'SARS1', 'SAT1', 'SAYSD1', 'SBDSP1', 'SBNO1', 'SCAF8', 'SCAMP1', 'SCAMP2', 'SCAMP4', 'SCARF2', 'SCARNA13', 'SCARNA5', 'SCARNA7', 'SCD', 'SCFD1', 'SCG5', 'SCLT1', 'SCLY', 'SCMH1', 'SCP2', 'SCPEP1', 'SCRN1', 'SDCBP2', 'SDF2', 'SDHB', 'SDK1', 'SEC11C', 'SEC13', 'SEC14L1', 'SEC22B', 'SEC22C', 'SEC24D', 'SEC31A', 'SEC61B', 'SECISBP2', 'SECISBP2L', 'SECTM1', 'SELENBP1', 'SELENOK', 'SELENOM', 'SELENOT', 'SELPLG', 'SEMA3C', 'SEMA4C', 'SEMA5A', 'SEMA6A', 'SENP7', 'SEPTIN10', 'SEPTIN11', 'SEPTIN4', 'SEPTIN8', 'SEPTIN9', 'SERBP1', 'SERINC1', 'SERINC2', 'SERP2', 'SERPINB1', 'SERPINE1', 'SERPINF1', 'SERPINI1', 'SESN3', 'SETMAR', 'SEZ6L2', 'SFN', 'SFRP1', 'SFSWAP', 'SFXN1', 'SGCB', 'SGCD', 'SGCE', 'SGIP1', 'SGO2', 'SGTB', 'SH2D4A', 'SH3BP4', 'SH3GLB1', 'SH3PXD2B', 'SH3RF3', 'SH3YL1', 'SHB', 'SHC2', 'SHF', 'SHISA2', 'SHISA5', 'SHKBP1', 'SHOC2', 'SHROOM3', 'SIGIRR', 'SIGLEC15', 'SIK2', 'SIMC1', 'SIPA1', 'SIRT2', 'SIRT5', 'SIX1', 'SKA1', 'SKP1', 'SLAIN2', 'SLBP', 'SLC12A4', 'SLC12A7', 'SLC14A1', 'SLC15A4', 'SLC16A10', 'SLC16A3', 'SLC16A6', 'SLC16A7', 'SLC18B1', 'SLC1A3', 'SLC1A4', 'SLC25A1', 'SLC25A16', 'SLC25A24', 'SLC25A37', 'SLC25A46', 'SLC27A5', 'SLC2A10', 'SLC2A12', 'SLC2A4RG', 'SLC30A5', 'SLC35A5', 'SLC35B3', 'SLC35D2', 'SLC35F5', 'SLC36A4', 'SLC37A1', 'SLC38A2', 'SLC38A8', 'SLC39A6', 'SLC44A3', 'SLC45A1', 'SLC45A2', 'SLC48A1', 'SLC4A2', 'SLC4A8', 'SLC5A3', 'SLC66A1L', 'SLC66A3', 'SLC6A17', 'SLC7A4', 'SLC7A8', 'SLC8A1', 'SLC8A1-AS1', 'SLC9A3R1', 'SLC9A6', 'SLC9B1', 'SLC9B2', 'SLCO3A1', 'SLCO4A1-AS1', 'SLF1', 'SLF2', 'SLFN12', 'SLIT2', 'SLPI', 'SMAD1', 'SMAD2', 'SMAD9', 'SMAP1', 'SMARCA1', 'SMARCA2', 'SMC2', 'SMC4', 'SMCO4', 'SMDT1', 'SMG1P1', 'SMG1P6', 'SMG6', 'SMIM1', 'SMIM14', 'SMIM15', 'SMIM25', 'SMNDC1', 'SMPD1', 'SMPD4', 'SMPDL3A', 'SMURF2', 'SMYD3', 'SNAI2', 'SNCA', 'SNED1', 'SNHG18', 'SNHG19', 'SNHG20', 'SNHG32', 'SNN', 'SNORA62', 'SNORA74B', 'SNRK', 'SNRPC', 'SNRPN', 'SNTB2', 'SNURF', 'SNX19', 'SNX21', 'SNX25', 'SNX3', 'SNX9', 'SOAT1', 'SOCS2', 'SOCS3', 'SOCS6', 'SORBS1', 'SORBS3', 'SORD2P', 'SORT1', 'SOS2', 'SOX11', 'SOX9', 'SPA17', 'SPAG5', 'SPAG9', 'SPART', 'SPART-AS1', 'SPATA18', 'SPATA6', 'SPC24', 'SPC25', 'SPCS3', 'SPEG', 'SPIDR', 'SPIN1', 'SPIN2B', 'SPINT2', 'SPIRE1', 'SPOCK1', 'SPON2', 'SPPL2A', 'SPRR1A', 'SPRR1B', 'SPRTN', 'SPTAN1', 'SPTLC3', 'SPTSSA', 'SQSTM1', 'SRA1', 'SRD5A1', 'SRF', 'SRFBP1', 'SRGN', 'SRP14-AS1', 'SRP19', 'SRPX2', 'SRSF10', 'SRSF4', 'SRSF9', 'SSBP3', 'SSC5D', 'SSPN', 'SSU72', 'ST14', 'ST20', 'ST3GAL5', 'ST7-AS1', 'ST8SIA2', 'ST8SIA6', 'STAG1', 'STAM2', 'STAP2', 'STARD3NL', 'STAT2', 'STAT6', 'STC1', 'STC2', 'STING1', 'STK11', 'STK17B', 'STK19', 'STK26', 'STK38L', 'STK40', 'STMN1', 'STOM', 'STOML1', 'STOX2', 'STRAP', 'STX12', 'STX18', 'STX7', 'STXBP2', 'STXBP6', 'SULF2', 'SUSD1', 'SUSD3', 'SUSD5', 'SV2B', 'SVBP', 'SYBU', 'SYCE1L', 'SYDE1', 'SYF2', 'SYK', 'SYNC', 'SYNE1', 'SYNE2', 'SYNJ2', 'SYNJ2BP', 'SYNM', 'SYT1', 'SYT11', 'SYTL2', 'SZT2', 'TACC1', 'TACC2', 'TACSTD2', 'TAF1', 'TAF13', 'TAF1B', 'TAFA5', 'TAGLN', 'TAMM41', 'TAX1BP3', 'TBC1D12', 'TBC1D15', 'TBC1D16', 'TBC1D2', 'TBC1D20', 'TBC1D23', 'TBC1D32', 'TBC1D5', 'TBC1D8', 'TBC1D9B', 'TBL1X', 'TBX3', 'TBXAS1', 'TCEA2', 'TCEA3', 'TCEAL1', 'TCEAL3', 'TCEAL7', 'TCF25', 'TCF3', 'TCF4', 'TCF7', 'TCF7L1', 'TCFL5', 'TCIRG1', 'TCN2', 'TCP1', 'TCTEX1D1', 'TCTEX1D2', 'TCTN2', 'TDP1', 'TDP2', 'TDRD3', 'TDRP', 'TEAD3', 'TECR', 'TELO2', 'TENT5B', 'TESK2', 'TESMIN', 'TET2', 'TEX10', 'TEX26-AS1', 'TEX41', 'TEX9', 'TFAP2A', 'TFAP2B', 'TFDP2', 'TFEB', 'TFF3', 'TFPI', 'TFPI2', 'TGFB1I1', 'TGFB2', 'TGFBI', 'TGFBR1', 'TGFBR2', 'TGFBR3L', 'TGIF2', 'TGM2', 'THAP8', 'THBD', 'THBS1', 'THBS2', 'THBS3', 'THEMIS2', 'THOC2', 'THRA', 'THRAP3', 'THSD1', 'THY1', 'TIAM1', 'TIMELESS', 'TIMM13', 'TIMM17A', 'TIMP2', 'TIPARP', 'TJP1', 'TJP2', 'TK2', 'TLCD4-RWDD3', 'TLN1', 'TM2D2', 'TM4SF1', 'TM6SF1', 'TM9SF3', 'TMBIM4', 'TMCC2', 'TMCC3', 'TMCO3', 'TMED1', 'TMED2', 'TMEFF2', 'TMEM104', 'TMEM106C', 'TMEM108', 'TMEM117', 'TMEM119', 'TMEM126A', 'TMEM126B', 'TMEM140', 'TMEM154', 'TMEM156', 'TMEM160', 'TMEM18', 'TMEM183A', 'TMEM187', 'TMEM189', 'TMEM200B', 'TMEM204', 'TMEM205', 'TMEM208', 'TMEM215', 'TMEM220', 'TMEM234', 'TMEM241', 'TMEM25', 'TMEM251', 'TMEM255B', 'TMEM26', 'TMEM30A', 'TMEM38A', 'TMEM41B', 'TMEM42', 'TMEM50A', 'TMEM54', 'TMEM59', 'TMEM62', 'TMEM63A', 'TMEM71', 'TMEM80', 'TMEM86B', 'TMF1', 'TMOD3', 'TMOD4', 'TMSB10', 'TMSB15A', 'TMSB15B', 'TMSB4X', 'TMTC1', 'TMUB2', 'TNFRSF10A', 'TNFRSF10D', 'TNFRSF1A', 'TNFRSF1B', 'TNFRSF6B', 'TNFSF12', 'TNK2', 'TNKS1BP1', 'TNRC6A', 'TNS3', 'TOGARAM1', 'TOM1', 'TOM1L2', 'TONSL', 'TOR4A', 'TP53BP2', 'TP53I11', 'TP53INP1', 'TP73-AS1', 'TPBG', 'TPCN2', 'TPGS1', 'TPGS2', 'TPM1', 'TPM2', 'TPM4', 'TPRG1L', 'TPST2', 'TRAF3IP1', 'TRAF4', 'TRAK2', 'TRAM1', 'TRAM2', 'TRAPPC5', 'TRAPPC8', 'TRAPPC9', 'TREH', 'TREX1', 'TRIM32', 'TRIM34', 'TRIM59', 'TRIM6', 'TRIM6-TRIM34', 'TRIM61', 'TRIM63', 'TRIM7', 'TRIM8', 'TRIO', 'TRIP10', 'TRIP11', 'TRIP12', 'TRIQK', 'TRMT13', 'TRO', 'TROAP', 'TRPC4AP', 'TRPM1', 'TRPM7', 'TRUB2', 'TSC22D2', 'TSC22D3', 'TSHZ1', 'TSHZ3', 'TSKU', 'TSPAN32', 'TSPAN5', 'TSPAN9', 'TSPO', 'TSPYL4', 'TSPYL5', 'TSR3', 'TSTD1', 'TSTD2', 'TTC12', 'TTC17', 'TTC3', 'TTC37', 'TTC38', 'TTK', 'TTLL1', 'TTLL11', 'TTLL5', 'TTPA', 'TTTY14', 'TUBA1A', 'TUBA1C', 'TUBA4A', 'TUBB2B', 'TUFT1', 'TULP3', 'TUSC1', 'TUT4', 'TUT7', 'TWIST1', 'TXLNGY', 'TXN', 'TXNDC15', 'TXNDC16', 'TXNIP', 'TYMP', 'TYR', 'TYRP1', 'UACA', 'UBA6', 'UBA7', 'UBAP1L', 'UBE2B', 'UBE2D3', 'UBE2E2', 'UBE2F', 'UBE2G2', 'UBE2I', 'UBE2J1', 'UBE2N', 'UBE2Q1', 'UBE2Q2', 'UBE2Q2P1', 'UBE2T', 'UBE3C', 'UBL7', 'UBN1', 'UBQLN1', 'UBR3', 'UBTD1', 'UCA1', 'UCHL1', 'UCHL3', 'UCP2', 'UFC1', 'UFSP2', 'UGCG', 'UGP2', 'UGT1A1', 'UGT1A7', 'ULK2', 'UNC13B', 'UNC93B1', 'UPF3A', 'UPRT', 'UQCC1', 'UQCC2', 'UQCRQ', 'URM1', 'UROS', 'USF3', 'USP1', 'USP21', 'USP34', 'USP40', 'USP46', 'USP51', 'USP9Y', 'UTP11', 'UTP14C', 'VAMP3', 'VAMP4', 'VAMP5', 'VAMP8', 'VANGL2', 'VAPA', 'VASN', 'VAV3', 'VCL', 'VDR', 'VEGFC', 'VEZF1', 'VGLL3', 'VOPP1', 'VPS26B', 'VPS33B', 'VPS35', 'VPS39', 'VPS41', 'VPS4A', 'VPS4B', 'VPS53', 'VWA1', 'VXN', 'WAC', 'WASF2', 'WASF3', 'WASHC2A', 'WASHC2C', 'WASHC3', 'WBP1L', 'WDFY1', 'WDR1', 'WDR11', 'WDR19', 'WDR45', 'WDR48', 'WDR61', 'WDR63', 'WDR66', 'WDR77', 'WDR81', 'WDR90', 'WDSUB1', 'WDYHV1', 'WEE1', 'WFDC1', 'WFDC21P', 'WFS1', 'WIPF1', 'WIPF3', 'WIPI1', 'WLS', 'WNK3', 'WNT5A', 'WNT5B', 'WRNIP1', 'WSCD1', 'WTAP', 'WTIP', 'WWC1', 'WWC3', 'WWP1', 'XAF1', 'XKR6', 'XKR8', 'XPOT', 'XRRA1', 'YAF2', 'YAP1', 'YIPF5', 'YME1L1', 'YPEL1', 'YPEL3', 'YPEL5', 'YWHAH', 'ZACN', 'ZADH2', 'ZBED1', 'ZBED5-AS1', 'ZBTB14', 'ZBTB24', 'ZBTB4', 'ZBTB48', 'ZBTB8OS', 'ZC2HC1A', 'ZC3H10', 'ZC3H12C', 'ZC3H7B', 'ZC4H2', 'ZDHHC14', 'ZDHHC2', 'ZDHHC3', 'ZDHHC7', 'ZEB2', 'ZFAND2B', 'ZFAND3', 'ZFAND5', 'ZFP28', 'ZFP36L1', 'ZFP36L2', 'ZFP69', 'ZFP82', 'ZFP90', 'ZFY', 'ZFYVE1', 'ZFYVE16', 'ZFYVE9', 'ZHX1', 'ZMAT3', 'ZMYND11', 'ZNF106', 'ZNF232', 'ZNF25', 'ZNF254', 'ZNF287', 'ZNF302', 'ZNF33A', 'ZNF347', 'ZNF354A', 'ZNF354B', 'ZNF354C', 'ZNF367', 'ZNF417', 'ZNF423', 'ZNF439', 'ZNF44', 'ZNF470', 'ZNF48', 'ZNF480', 'ZNF496', 'ZNF511', 'ZNF518A', 'ZNF518B', 'ZNF521', 'ZNF525', 'ZNF528', 'ZNF528-AS1', 'ZNF532', 'ZNF544', 'ZNF563', 'ZNF573', 'ZNF577', 'ZNF585A', 'ZNF599', 'ZNF605', 'ZNF606', 'ZNF608', 'ZNF611', 'ZNF649', 'ZNF667-AS1', 'ZNF677', 'ZNF682', 'ZNF69', 'ZNF695', 'ZNF704', 'ZNF71', 'ZNF749', 'ZNF75A', 'ZNF75D', 'ZNF770', 'ZNF790-AS1', 'ZNF808', 'ZNF814', 'ZNF821', 'ZNF829', 'ZNF83', 'ZNF839', 'ZNF85', 'ZNF880', 'ZNF91', 'ZNRF1', 'ZRANB1', 'ZSCAN16-AS1', 'ZSCAN18', 'ZSCAN2', 'ZSCAN30', 'ZSWIM6', 'ZSWIM7', 'ZZZ3']\n"
     ]
    }
   ],
   "source": [
    "# print genes in normal tissues\n",
    "normal_genes = sorted(rna_df_sel_high_pseudo[rna_df_sel_high_pseudo.min_ratio<0.5].index)\n",
    "print(len(normal_genes))\n",
    "print(normal_genes)"
   ]
  },
  {
   "cell_type": "code",
   "execution_count": 51,
   "metadata": {},
   "outputs": [],
   "source": [
    "diff_genesets = {\n",
    "    'normal':normal_genes,\n",
    "    'cancer':cancer_genes,\n",
    "}\n",
    "# for tissue in rna_df_norm.columns:\n",
    "#     geneset = list(rna_df_norm[tissue][rna_df_norm[tissue]>THRES].index)\n",
    "#     print(tissue, len(geneset))\n",
    "#     expr_genesets[tissue] = geneset"
   ]
  },
  {
   "cell_type": "markdown",
   "metadata": {},
   "source": [
    "2C. highly expressed gene lists for each cell type"
   ]
  },
  {
   "cell_type": "code",
   "execution_count": 52,
   "metadata": {},
   "outputs": [],
   "source": [
    "THRES=10"
   ]
  },
  {
   "cell_type": "code",
   "execution_count": 53,
   "metadata": {},
   "outputs": [
    {
     "name": "stdout",
     "output_type": "stream",
     "text": [
      "4655\n"
     ]
    }
   ],
   "source": [
    "cancer_genes = rna_df_sel.index[rna_df_sel[cancer_tissues].min(axis=1)>THRES].values\n",
    "print(len(cancer_genes))"
   ]
  },
  {
   "cell_type": "code",
   "execution_count": 54,
   "metadata": {},
   "outputs": [
    {
     "name": "stdout",
     "output_type": "stream",
     "text": [
      "5502\n"
     ]
    }
   ],
   "source": [
    "normal_genes = rna_df_sel.index[rna_df_sel[normal_tissues].min(axis=1)>THRES].values\n",
    "print(len(normal_genes))"
   ]
  },
  {
   "cell_type": "code",
   "execution_count": 55,
   "metadata": {},
   "outputs": [],
   "source": [
    "expr_genesets = {\n",
    "    'normal':normal_genes,\n",
    "    'cancer':cancer_genes,\n",
    "}"
   ]
  },
  {
   "cell_type": "code",
   "execution_count": 56,
   "metadata": {},
   "outputs": [],
   "source": [
    "# t_test(rna_df_sel.iloc[1,:])[1]"
   ]
  },
  {
   "cell_type": "code",
   "execution_count": 57,
   "metadata": {},
   "outputs": [],
   "source": [
    "# # 2D. group genesets\n",
    "# print(glob.glob('../data/interim/rna/*_genes.csv'))\n",
    "# group_tissue_mapping = {\n",
    "#     'blue':['Astrocytes','Melanocytes'],\n",
    "#     'grey':['GM12878'],\n",
    "#     'green':['Colon','Esophageal','Ovarian','Pancreas','Renal','Thyroid'],\n",
    "#     'purple':['Airway','Bladder', 'GDSD6', 'HMEC', 'Prostate', 'Uterine'] \n",
    "# }"
   ]
  },
  {
   "cell_type": "code",
   "execution_count": 58,
   "metadata": {},
   "outputs": [],
   "source": [
    "# group_genesets = {}\n",
    "# for group, tissues in group_tissue_mapping.items():\n",
    "#     geneset = sorted(pd.read_csv('../data/interim/rna/'+group+'_genes.csv',header=None).loc[:,0].dropna().unique())\n",
    "#     for tissue in tissues:\n",
    "#         group_genesets[tissue] = geneset\n",
    "#         print(tissue, len(geneset))\n",
    "        "
   ]
  },
  {
   "cell_type": "markdown",
   "metadata": {},
   "source": [
    "# 3. running pairwise enrichments"
   ]
  },
  {
   "cell_type": "code",
   "execution_count": 59,
   "metadata": {},
   "outputs": [],
   "source": [
    "def run_pair_enrichment(tissue, save_prefix, geneset_dict,sel_tissues=['cancer','normal'],\n",
    "                       tissue_labels = is_cancer_label):\n",
    "    if tissue not in geneset_dict:\n",
    "        print(tissue, 'not found in geneset_dict')\n",
    "        return\n",
    "    results_df = tf_enrichment(geneset=geneset_dict[tissue], TF_feat_dict=tfs_feat_dict, tissues=sel_tissues, \n",
    "                      data_all=data_all,tissues_label=tissue_labels, \n",
    "                      background='relative',verbose=True, save_path=os.path.join(save_dir, save_prefix+tissue + '_single.csv'))\n",
    "    # filter for cell type\n",
    "    results_df_filt = results_df[(results_df.pval_bonf<0.05 )&( results_df.tissue==tissue)]\n",
    "    # downsample # of tf tf pairs to consider\n",
    "    tfs_feat_dict_pairs = find_tf_pairs(single_results=results_df_filt, tfs_feat_dict=tfs_feat_dict, data_all=data_all)\n",
    "\n",
    "    results_df_pairs = tf_enrichment(geneset=geneset_dict[tissue], TF_feat_dict=tfs_feat_dict_pairs, tissues=[tissue], \n",
    "                      data_all=data_all,tissues_label=tissue_labels, \n",
    "                      background='relative',verbose=True, save_path=os.path.join(save_dir,  save_prefix+tissue + '_pair.csv'))\n",
    "\n",
    "    results_df_pairs_filt = results_df_pairs[(results_df_pairs.oddsratio>1) & (results_df_pairs.pval_bonf<0.05)]\n",
    "    results_df_pairs_filt.to_csv(os.path.join(save_dir,  save_prefix+tissue + '_pair_filt.csv'))\n",
    "    # results_df_KRT_pairs_filt = results_df_KRT_pairs_filt[results_df_KRT_pairs_filt.num_in_2>=(results_df_KRT_pairs_filt.observed+10)]\n",
    "    print('num sig tf-tf pair in ', tissue, results_df_pairs_filt.shape)"
   ]
  },
  {
   "cell_type": "markdown",
   "metadata": {},
   "source": [
    "### testing"
   ]
  },
  {
   "cell_type": "code",
   "execution_count": 60,
   "metadata": {},
   "outputs": [],
   "source": [
    "# TF_feat_dict=tfs_feat_dict\n",
    "# tissues=['cancer','normal']\n",
    "# # get subset\n",
    "# geneset = expr_genesets['cancer']\n",
    "# data_all_sel = data_all[data_all.index.isin(geneset)]\n",
    "# tissues_label_sel = is_cancer_label[data_all.index.isin(geneset)]\n",
    "# print('num genes in geneset',len(geneset))\n",
    "# print('orig data', data_all.shape)\n",
    "# print('subsetting data,', data_all_sel.shape, tissues_label_sel.shape)\n",
    "# print(Counter(tissues_label_sel))"
   ]
  },
  {
   "cell_type": "code",
   "execution_count": 61,
   "metadata": {},
   "outputs": [],
   "source": [
    "# # set background and initial variables\n",
    "# results_df = pd.DataFrame(columns = ['tf_key', 'tissue', 'jaccard', 'intersect_over_min','intersection','union', 'num_in_gene', 'num_in_feat', 'observed', 'expected', 'oddsratio', 'pval' ])\n",
    "# counter = 0\n",
    "# count_all = data_all_sel.sum().sum() ## background\n",
    "\n",
    "# print('starting iteration')\n",
    "# print('estimated count', len(TF_feat_dict)*len(tissues))\n",
    "# for tissue in tissues:\n",
    "#     print('*****iterating tissue, ', tissue)\n",
    "#     tissue_crm = data_all_sel[tissues_label_sel==tissue]\n",
    "#     tissue_crm = tissue_crm[tissue_crm.index.isin(geneset)]\n",
    "#     count_tissue_gene = tissue_crm.sum().sum() #mat_counts.sum(axis=1)[0], sum first row\n",
    "\n",
    "#     # iterate through tfs\n",
    "#     for tf_key, feat_list in sorted(TF_feat_dict.items(),key=lambda x: x[0]):\n",
    "#         if len(feat_list)>0:\n",
    "#             tissue_crm_selfeat = tissue_crm[feat_list]\n",
    "#             count_selfeat_tissue = tissue_crm_selfeat.sum().sum() # A\n",
    "#             count_selfeat = data_all_sel[feat_list].sum().sum() #mat_counts.sum(axis=0)[0], sum down first col\n",
    "#             count_selfeat_neg = count_selfeat - count_selfeat_tissue # B: not in selected genes but in selected feature\n",
    "#             count_neg_tissue = count_tissue_gene - count_selfeat_tissue #C: not in selected feature but in selected genes\n",
    "#             count_neg_neg = count_all - count_selfeat_tissue- count_selfeat_neg - count_neg_tissue #D\n",
    "#             mat_counts = np.array([[count_selfeat_tissue,count_neg_tissue],\n",
    "#                            [count_selfeat_neg, count_neg_neg]]).reshape((2,2))\n",
    "#             pseudo = 1\n",
    "#             print(tf_key)\n",
    "#             print(mat_counts)\n",
    "#             mat_counts_pseudo = mat_counts+pseudo\n",
    "#             num_in_1 = mat_counts.sum(axis=1)[0] #count_tissue_gene\n",
    "#             num_in_2 = mat_counts.sum(axis=0)[0] #count_selfeat\n",
    "#             in_1_and_in_2 = count_selfeat_tissue # A\n",
    "#             in_1_or_in_2 = count_selfeat_tissue +count_selfeat_neg+count_neg_tissue # A+B+C\n",
    "#             in_1 = count_selfeat_tissue+count_neg_tissue # A+C\n",
    "#             in_2 = count_selfeat_tissue+count_selfeat_neg#A+B\n",
    "#             observed_num = mat_counts[0][0] #count_KRTtf_KRTgene\n",
    "#             expected_num = num_in_1*num_in_2/sum(sum(mat_counts))\n",
    "#             oddsratio_pseudo, pvalue_pseudo = stats.fisher_exact(mat_counts_pseudo,alternative='greater')\n",
    "#             jaccard = in_1_and_in_2/in_1_or_in_2\n",
    "#             intersect_over_min = in_1_and_in_2/min(in_1,in_2)\n",
    "\n",
    "#             results_df.at[counter] = {'tf_key':tf_key, 'tissue':tissue,\n",
    "#                                         'jaccard':jaccard,'intersect_over_min':intersect_over_min,\n",
    "#                                     'intersection':in_1_and_in_2, \n",
    "#                                    'union':in_1_or_in_2, \n",
    "#                                    'num_in_gene':num_in_1,'num_in_feat':num_in_2,\n",
    "#                                    'observed':observed_num, 'expected':expected_num, \n",
    "#                                    'oddsratio':oddsratio_pseudo, 'pval':pvalue_pseudo}\n",
    "#             counter+=1\n",
    "#             if (counter %1000)==0:\n",
    "#                 print(tf_key, tissue, counter)\n",
    "\n",
    "\n",
    "# results_df['pval_bonf'] = results_df.pval.apply(lambda x: min(1, x* results_df.shape[0]))\n",
    "# results_df['log_pval_bonf'] = results_df.pval_bonf.apply(lambda x: min(100,-np.log10(x+1e-100)))\n"
   ]
  },
  {
   "cell_type": "code",
   "execution_count": 62,
   "metadata": {},
   "outputs": [],
   "source": [
    "# results_df = tf_enrichment(geneset=expr_genesets['cancer'], TF_feat_dict=tfs_feat_dict, tissues=['cancer','normal'], \n",
    "# #                   data_all=data_all,tissues_label=is_cancer_label, \n",
    "#                   background='relative',verbose=True, save_path=os.path.join(save_dir, 'expr_'+'cancer' + '_single.csv'))"
   ]
  },
  {
   "cell_type": "code",
   "execution_count": 63,
   "metadata": {},
   "outputs": [],
   "source": [
    "# # filter for cell type\n",
    "# results_df_filt = results_df[(results_df.pval_bonf<0.05 )&( results_df.tissue==tissue)]\n",
    "# print(results_df.shape, results_df_filt.shape)\n",
    "# # downsample # of tf tf pairs to consider\n",
    "# tfs_feat_dict_pairs = find_tf_pairs(single_results=results_df_filt, tfs_feat_dict=tfs_feat_dict, data_all=data_all)\n",
    "\n",
    "# results_df_pairs = tf_enrichment(geneset=expr_genesets['cancer'], TF_feat_dict=tfs_feat_dict_pairs, tissues=['cancer'], \n",
    "#                   data_all=data_all,tissues_label=is_cancer_label, \n",
    "#                   background='relative',verbose=True, save_path=os.path.join(save_dir,  'expr_'+tissue + '_pair.csv'))\n"
   ]
  },
  {
   "cell_type": "code",
   "execution_count": 64,
   "metadata": {},
   "outputs": [],
   "source": [
    "# # pairs testing\n",
    "# TF_feat_dict=tfs_feat_dict_pairs\n",
    "# tissues=['cancer','normal']\n",
    "# # get subset\n",
    "# geneset = expr_genesets['cancer']\n",
    "# data_all_sel = data_all[data_all.index.isin(geneset)]\n",
    "# tissues_label_sel = is_cancer_label[data_all.index.isin(geneset)]\n",
    "# print('num genes in geneset',len(geneset))\n",
    "# print('orig data', data_all.shape)\n",
    "# print('subsetting data,', data_all_sel.shape, tissues_label_sel.shape)\n",
    "# # set background and initial variables\n",
    "# results_df = pd.DataFrame(columns = ['tf_key', 'tissue', 'jaccard', 'intersect_over_min','intersection','union', 'num_in_gene', 'num_in_feat', 'observed', 'expected', 'oddsratio', 'pval' ])\n",
    "# counter = 0\n",
    "# count_all = data_all_sel.sum().sum() ## background\n",
    "\n",
    "# print('starting iteration')\n",
    "# print('estimated count', len(TF_feat_dict)*len(tissues))\n",
    "# for tissue in tissues:\n",
    "#     print('*****iterating tissue, ', tissue)\n",
    "#     tissue_crm = data_all_sel[tissues_label_sel==tissue]\n",
    "#     tissue_crm = tissue_crm[tissue_crm.index.isin(geneset)]\n",
    "#     count_tissue_gene = tissue_crm.sum().sum() #mat_counts.sum(axis=1)[0], sum first row\n",
    "\n",
    "#     # iterate through tfs\n",
    "#     for tf_key, feat_list in sorted(TF_feat_dict.items(),key=lambda x: x[0]):\n",
    "#         if len(feat_list)>0:\n",
    "#             tissue_crm_selfeat = tissue_crm[feat_list]\n",
    "#             count_selfeat_tissue = tissue_crm_selfeat.sum().sum() # A\n",
    "#             count_selfeat = data_all_sel[feat_list].sum().sum() #mat_counts.sum(axis=0)[0], sum down first col\n",
    "#             count_selfeat_neg = count_selfeat - count_selfeat_tissue # B: not in selected genes but in selected feature\n",
    "#             count_neg_tissue = count_tissue_gene - count_selfeat_tissue #C: not in selected feature but in selected genes\n",
    "#             count_neg_neg = count_all - count_selfeat_tissue- count_selfeat_neg - count_neg_tissue #D\n",
    "#             mat_counts = np.array([[count_selfeat_tissue,count_neg_tissue],\n",
    "#                            [count_selfeat_neg, count_neg_neg]]).reshape((2,2))\n",
    "#             pseudo = 1\n",
    "#             print(tf_key)\n",
    "#             print(mat_counts)\n",
    "#             mat_counts_pseudo = mat_counts+pseudo\n",
    "#             num_in_1 = mat_counts.sum(axis=1)[0] #count_tissue_gene\n",
    "#             num_in_2 = mat_counts.sum(axis=0)[0] #count_selfeat\n",
    "#             in_1_and_in_2 = count_selfeat_tissue # A\n",
    "#             in_1_or_in_2 = count_selfeat_tissue +count_selfeat_neg+count_neg_tissue # A+B+C\n",
    "#             in_1 = count_selfeat_tissue+count_neg_tissue # A+C\n",
    "#             in_2 = count_selfeat_tissue+count_selfeat_neg#A+B\n",
    "#             observed_num = mat_counts[0][0] #count_KRTtf_KRTgene\n",
    "#             expected_num = num_in_1*num_in_2/sum(sum(mat_counts))\n",
    "#             oddsratio_pseudo, pvalue_pseudo = stats.fisher_exact(mat_counts_pseudo,alternative='greater')\n",
    "#             jaccard = in_1_and_in_2/in_1_or_in_2\n",
    "#             intersect_over_min = in_1_and_in_2/min(in_1,in_2)\n",
    "            \n",
    "#             results_df.at[counter] = {'tf_key':tf_key, 'tissue':tissue,\n",
    "#                                         'jaccard':jaccard,'intersect_over_min':intersect_over_min,\n",
    "#                                     'intersection':in_1_and_in_2, \n",
    "#                                    'union':in_1_or_in_2, \n",
    "#                                    'num_in_gene':num_in_1,'num_in_feat':num_in_2,\n",
    "#                                    'observed':observed_num, 'expected':expected_num, \n",
    "#                                    'oddsratio':oddsratio_pseudo, 'pval':pvalue_pseudo}\n",
    "# #             print(results_df.loc[counter])\n",
    "#             counter+=1\n",
    "#             if (counter %1000)==0:\n",
    "#                 print(tf_key, tissue, counter)\n",
    "\n",
    "\n",
    "# results_df['pval_bonf'] = results_df.pval.apply(lambda x: min(1, x* results_df.shape[0]))\n",
    "# results_df['log_pval_bonf'] = results_df.pval_bonf.apply(lambda x: min(100,-np.log10(x+1e-100)))\n"
   ]
  },
  {
   "cell_type": "code",
   "execution_count": 65,
   "metadata": {},
   "outputs": [],
   "source": [
    "# results_df"
   ]
  },
  {
   "cell_type": "markdown",
   "metadata": {},
   "source": [
    "### running"
   ]
  },
  {
   "cell_type": "code",
   "execution_count": 66,
   "metadata": {},
   "outputs": [],
   "source": [
    "# %%time\n",
    "# # get unique tissue geneset enrichments\n",
    "# for tissue in normal_tissues:\n",
    "#     print('============ Running unique', tissue)\n",
    "#     run_pair_enrichment(tissue, save_prefix='unique_', geneset_dict = unique_genesets)"
   ]
  },
  {
   "cell_type": "code",
   "execution_count": 67,
   "metadata": {},
   "outputs": [],
   "source": [
    "# %%time\n",
    "# # get expressed tissue geneset enrichments\n",
    "# for tissue in normal_tissues:\n",
    "#     print('============ Running expressed', tissue)\n",
    "#     run_pair_enrichment(tissue, save_prefix='expr_', geneset_dict = expr_genesets)"
   ]
  },
  {
   "cell_type": "code",
   "execution_count": 68,
   "metadata": {},
   "outputs": [
    {
     "name": "stdout",
     "output_type": "stream",
     "text": [
      "============ Running expressed normal\n",
      "num genes in geneset 5502\n",
      "subsetting data, (9165, 1057) (9165,)\n",
      "starting iteration\n",
      "estimated count 1058\n",
      "*****iterating tissue,  cancer\n"
     ]
    },
    {
     "name": "stderr",
     "output_type": "stream",
     "text": [
      "/Users/mguo123/opt/anaconda3/lib/python3.7/site-packages/ipykernel_launcher.py:56: RuntimeWarning: invalid value encountered in double_scalars\n"
     ]
    },
    {
     "name": "stdout",
     "output_type": "stream",
     "text": [
      "*****iterating tissue,  normal\n",
      "ZNF143 normal 1000\n",
      "saved file ../data/processed/fig4_modelling/tf_tf_pairs_mm/expr_normal_single.csv\n",
      "num single unique TFs 111\n",
      "num pairs of TFs 6105\n",
      "num genes in geneset 5502\n",
      "subsetting data, (9165, 1057) (9165,)\n",
      "starting iteration\n",
      "estimated count 6105\n",
      "*****iterating tissue,  normal\n",
      "CREB3L1::NRF1 normal 1000\n",
      "EGR1::ZNF320 normal 2000\n",
      "FOXQ1::ZBTB14 normal 3000\n",
      "KLF5::VEZF1 normal 4000\n",
      "RFX1::ZBTB14 normal 5000\n",
      "ZNF148::ZNF770 normal 6000\n",
      "saved file ../data/processed/fig4_modelling/tf_tf_pairs_mm/expr_normal_pair.csv\n",
      "num sig tf-tf pair in  normal (6105, 14)\n",
      "============ Running expressed cancer\n",
      "num genes in geneset 4655\n",
      "subsetting data, (7929, 1057) (7929,)\n",
      "starting iteration\n",
      "estimated count 1058\n",
      "*****iterating tissue,  cancer\n",
      "*****iterating tissue,  normal\n",
      "ZNF143 normal 1000\n",
      "saved file ../data/processed/fig4_modelling/tf_tf_pairs_mm/expr_cancer_single.csv\n",
      "num single unique TFs 122\n",
      "num pairs of TFs 7381\n",
      "num genes in geneset 4655\n",
      "subsetting data, (7929, 1057) (7929,)\n",
      "starting iteration\n",
      "estimated count 7381\n",
      "*****iterating tissue,  cancer\n",
      "DDIT3::NFATC2 cancer 1000\n",
      "EN2::SP4 cancer 2000\n",
      "FOXO4::ZIC2 cancer 3000\n",
      "HOXB6::MNX1 cancer 4000\n",
      "IRF7::SMARCA1 cancer 5000\n",
      "NFATC2::ZNF740 cancer 6000\n",
      "SOX4::ZNF740 cancer 7000\n",
      "saved file ../data/processed/fig4_modelling/tf_tf_pairs_mm/expr_cancer_pair.csv\n",
      "num sig tf-tf pair in  cancer (7381, 14)\n",
      "CPU times: user 1min 15s, sys: 307 ms, total: 1min 15s\n",
      "Wall time: 1min 15s\n"
     ]
    }
   ],
   "source": [
    "%%time\n",
    "# get expressed tissue geneset enrichments\n",
    "for disease_state in ['normal', 'cancer']:\n",
    "    print('============ Running expressed', disease_state)\n",
    "    run_pair_enrichment(disease_state, save_prefix='expr_', geneset_dict = expr_genesets)"
   ]
  },
  {
   "cell_type": "code",
   "execution_count": 69,
   "metadata": {},
   "outputs": [
    {
     "name": "stdout",
     "output_type": "stream",
     "text": [
      "============ Running expressed normal\n",
      "num genes in geneset 3128\n",
      "subsetting data, (4709, 1057) (4709,)\n",
      "starting iteration\n",
      "estimated count 1058\n",
      "*****iterating tissue,  cancer\n"
     ]
    },
    {
     "name": "stderr",
     "output_type": "stream",
     "text": [
      "/Users/mguo123/opt/anaconda3/lib/python3.7/site-packages/ipykernel_launcher.py:56: RuntimeWarning: invalid value encountered in double_scalars\n"
     ]
    },
    {
     "name": "stdout",
     "output_type": "stream",
     "text": [
      "*****iterating tissue,  normal\n",
      "ZNF143 normal 1000\n",
      "saved file ../data/processed/fig4_modelling/tf_tf_pairs_mm/diff_normal_single.csv\n",
      "num single unique TFs 92\n",
      "num pairs of TFs 4186\n",
      "num genes in geneset 3128\n",
      "subsetting data, (4709, 1057) (4709,)\n",
      "starting iteration\n",
      "estimated count 4186\n",
      "*****iterating tissue,  normal\n",
      "E2F7::THAP1 normal 1000\n",
      "HOXC11::RORA normal 2000\n",
      "PATZ1::ZNF320 normal 3000\n",
      "ZFP64::ZNF148 normal 4000\n",
      "saved file ../data/processed/fig4_modelling/tf_tf_pairs_mm/diff_normal_pair.csv\n",
      "num sig tf-tf pair in  normal (4186, 14)\n",
      "============ Running expressed cancer\n",
      "num genes in geneset 1143\n",
      "subsetting data, (1849, 1057) (1849,)\n",
      "starting iteration\n",
      "estimated count 1058\n",
      "*****iterating tissue,  cancer\n",
      "*****iterating tissue,  normal\n",
      "ZNF143 normal 1000\n",
      "saved file ../data/processed/fig4_modelling/tf_tf_pairs_mm/diff_cancer_single.csv\n",
      "num single unique TFs 66\n",
      "num pairs of TFs 2145\n",
      "num genes in geneset 1143\n",
      "subsetting data, (1849, 1057) (1849,)\n",
      "starting iteration\n",
      "estimated count 2145\n",
      "*****iterating tissue,  cancer\n",
      "GATA3::SOX15 cancer 1000\n",
      "SOX15::TBX15 cancer 2000\n",
      "saved file ../data/processed/fig4_modelling/tf_tf_pairs_mm/diff_cancer_pair.csv\n",
      "num sig tf-tf pair in  cancer (2145, 14)\n",
      "CPU times: user 29.7 s, sys: 155 ms, total: 29.8 s\n",
      "Wall time: 29.9 s\n"
     ]
    }
   ],
   "source": [
    "%%time\n",
    "# get expressed tissue geneset enrichments\n",
    "for disease_state in ['normal', 'cancer']:\n",
    "    print('============ Running expressed', disease_state)\n",
    "    run_pair_enrichment(disease_state, save_prefix='diff_', geneset_dict = diff_genesets)"
   ]
  },
  {
   "cell_type": "code",
   "execution_count": 70,
   "metadata": {},
   "outputs": [],
   "source": [
    "# %%time\n",
    "# # get group tissue geneset enrichments\n",
    "# for tissue in normal_tissues:\n",
    "#     print('============ Running group', tissue)\n",
    "#     run_pair_enrichment(tissue, save_prefix='group_', geneset_dict = group_genesets)"
   ]
  },
  {
   "cell_type": "markdown",
   "metadata": {},
   "source": [
    "# 4. Curating list of tf-tf pairs"
   ]
  },
  {
   "cell_type": "markdown",
   "metadata": {},
   "source": [
    "# 5. filter curating list to find combinations that are close together"
   ]
  },
  {
   "cell_type": "code",
   "execution_count": 71,
   "metadata": {},
   "outputs": [
    {
     "name": "stdout",
     "output_type": "stream",
     "text": [
      "diff_cancer_pair_filt.csv (2145, 14)\n",
      "diff_normal_pair_filt.csv (4186, 14)\n",
      "expr_cancer_pair_filt.csv (7381, 14)\n",
      "expr_normal_pair_filt.csv (6105, 14)\n"
     ]
    }
   ],
   "source": [
    "for filepath in sorted(glob.glob(os.path.join(save_dir, '*_filt.csv'))):\n",
    "    df = pd.read_csv(filepath, index_col=0)\n",
    "    print(os.path.basename(filepath), df.shape)"
   ]
  },
  {
   "cell_type": "code",
   "execution_count": 79,
   "metadata": {},
   "outputs": [
    {
     "name": "stdout",
     "output_type": "stream",
     "text": [
      "expr_cancer_pair_filt.csv (7381, 14)\n",
      "expr_normal_pair_filt.csv (6105, 14)\n"
     ]
    }
   ],
   "source": [
    "# get tissue specific tf-tf and global tf-tf pairs useful for expr\n",
    "expr_all_tissue_df = pd.DataFrame()\n",
    "for filepath in sorted(glob.glob(os.path.join(save_dir, 'expr*_filt.csv'))):\n",
    "    df = pd.read_csv(filepath, index_col=0)\n",
    "    print(os.path.basename(filepath), df.shape)\n",
    "    expr_all_tissue_df = pd.concat([expr_all_tissue_df, df], axis=0,sort=False)\n"
   ]
  },
  {
   "cell_type": "code",
   "execution_count": 80,
   "metadata": {},
   "outputs": [
    {
     "data": {
      "text/plain": [
       "count     13486.000000\n",
       "mean       6054.566442\n",
       "std       13302.562399\n",
       "min           3.646342\n",
       "25%         439.664709\n",
       "50%        1853.317890\n",
       "75%        5195.267031\n",
       "max      151198.800575\n",
       "Name: expected, dtype: float64"
      ]
     },
     "execution_count": 80,
     "metadata": {},
     "output_type": "execute_result"
    }
   ],
   "source": [
    "expr_all_tissue_df.expected.describe()"
   ]
  },
  {
   "cell_type": "code",
   "execution_count": 81,
   "metadata": {},
   "outputs": [
    {
     "name": "stdout",
     "output_type": "stream",
     "text": [
      "(13486, 14)\n"
     ]
    },
    {
     "data": {
      "text/html": [
       "<div>\n",
       "<style scoped>\n",
       "    .dataframe tbody tr th:only-of-type {\n",
       "        vertical-align: middle;\n",
       "    }\n",
       "\n",
       "    .dataframe tbody tr th {\n",
       "        vertical-align: top;\n",
       "    }\n",
       "\n",
       "    .dataframe thead th {\n",
       "        text-align: right;\n",
       "    }\n",
       "</style>\n",
       "<table border=\"1\" class=\"dataframe\">\n",
       "  <thead>\n",
       "    <tr style=\"text-align: right;\">\n",
       "      <th></th>\n",
       "      <th>tf_key</th>\n",
       "      <th>tissue</th>\n",
       "      <th>jaccard</th>\n",
       "      <th>intersect_over_min</th>\n",
       "      <th>intersection</th>\n",
       "      <th>union</th>\n",
       "      <th>num_in_gene</th>\n",
       "      <th>num_in_feat</th>\n",
       "      <th>observed</th>\n",
       "      <th>expected</th>\n",
       "      <th>oddsratio</th>\n",
       "      <th>pval</th>\n",
       "      <th>pval_bonf</th>\n",
       "      <th>log_pval_bonf</th>\n",
       "    </tr>\n",
       "  </thead>\n",
       "  <tbody>\n",
       "    <tr>\n",
       "      <td>0</td>\n",
       "      <td>ALX1::ARID3A</td>\n",
       "      <td>cancer</td>\n",
       "      <td>0.002277</td>\n",
       "      <td>0.977969</td>\n",
       "      <td>3418.0</td>\n",
       "      <td>1501003.0</td>\n",
       "      <td>1500926.0</td>\n",
       "      <td>3495.0</td>\n",
       "      <td>3418.0</td>\n",
       "      <td>3263.968771</td>\n",
       "      <td>3.107479</td>\n",
       "      <td>3.330506e-33</td>\n",
       "      <td>2.458246e-29</td>\n",
       "      <td>28.609375</td>\n",
       "    </tr>\n",
       "    <tr>\n",
       "      <td>1</td>\n",
       "      <td>ALX1::ARID5B</td>\n",
       "      <td>cancer</td>\n",
       "      <td>0.028894</td>\n",
       "      <td>0.965806</td>\n",
       "      <td>43412.0</td>\n",
       "      <td>1502463.0</td>\n",
       "      <td>1500926.0</td>\n",
       "      <td>44949.0</td>\n",
       "      <td>43412.0</td>\n",
       "      <td>41977.720255</td>\n",
       "      <td>2.027727</td>\n",
       "      <td>3.478930e-200</td>\n",
       "      <td>2.567798e-196</td>\n",
       "      <td>100.000000</td>\n",
       "    </tr>\n",
       "    <tr>\n",
       "      <td>2</td>\n",
       "      <td>ALX1::BACH2</td>\n",
       "      <td>cancer</td>\n",
       "      <td>0.001116</td>\n",
       "      <td>0.988201</td>\n",
       "      <td>1675.0</td>\n",
       "      <td>1500946.0</td>\n",
       "      <td>1500926.0</td>\n",
       "      <td>1695.0</td>\n",
       "      <td>1675.0</td>\n",
       "      <td>1582.954812</td>\n",
       "      <td>5.654398</td>\n",
       "      <td>3.725644e-27</td>\n",
       "      <td>2.749898e-23</td>\n",
       "      <td>22.560683</td>\n",
       "    </tr>\n",
       "    <tr>\n",
       "      <td>3</td>\n",
       "      <td>ALX1::BHLHE40</td>\n",
       "      <td>cancer</td>\n",
       "      <td>0.001287</td>\n",
       "      <td>0.989754</td>\n",
       "      <td>1932.0</td>\n",
       "      <td>1500946.0</td>\n",
       "      <td>1500926.0</td>\n",
       "      <td>1952.0</td>\n",
       "      <td>1932.0</td>\n",
       "      <td>1822.966249</td>\n",
       "      <td>6.522569</td>\n",
       "      <td>1.628203e-33</td>\n",
       "      <td>1.201777e-29</td>\n",
       "      <td>28.920176</td>\n",
       "    </tr>\n",
       "    <tr>\n",
       "      <td>4</td>\n",
       "      <td>ALX1::BPTF</td>\n",
       "      <td>cancer</td>\n",
       "      <td>0.002290</td>\n",
       "      <td>0.960861</td>\n",
       "      <td>3437.0</td>\n",
       "      <td>1501066.0</td>\n",
       "      <td>1500926.0</td>\n",
       "      <td>3577.0</td>\n",
       "      <td>3437.0</td>\n",
       "      <td>3340.548296</td>\n",
       "      <td>1.727580</td>\n",
       "      <td>2.995143e-12</td>\n",
       "      <td>2.210715e-08</td>\n",
       "      <td>7.655467</td>\n",
       "    </tr>\n",
       "  </tbody>\n",
       "</table>\n",
       "</div>"
      ],
      "text/plain": [
       "          tf_key  tissue   jaccard  intersect_over_min  intersection  \\\n",
       "0   ALX1::ARID3A  cancer  0.002277            0.977969        3418.0   \n",
       "1   ALX1::ARID5B  cancer  0.028894            0.965806       43412.0   \n",
       "2    ALX1::BACH2  cancer  0.001116            0.988201        1675.0   \n",
       "3  ALX1::BHLHE40  cancer  0.001287            0.989754        1932.0   \n",
       "4     ALX1::BPTF  cancer  0.002290            0.960861        3437.0   \n",
       "\n",
       "       union  num_in_gene  num_in_feat  observed      expected  oddsratio  \\\n",
       "0  1501003.0    1500926.0       3495.0    3418.0   3263.968771   3.107479   \n",
       "1  1502463.0    1500926.0      44949.0   43412.0  41977.720255   2.027727   \n",
       "2  1500946.0    1500926.0       1695.0    1675.0   1582.954812   5.654398   \n",
       "3  1500946.0    1500926.0       1952.0    1932.0   1822.966249   6.522569   \n",
       "4  1501066.0    1500926.0       3577.0    3437.0   3340.548296   1.727580   \n",
       "\n",
       "            pval      pval_bonf  log_pval_bonf  \n",
       "0   3.330506e-33   2.458246e-29      28.609375  \n",
       "1  3.478930e-200  2.567798e-196     100.000000  \n",
       "2   3.725644e-27   2.749898e-23      22.560683  \n",
       "3   1.628203e-33   1.201777e-29      28.920176  \n",
       "4   2.995143e-12   2.210715e-08       7.655467  "
      ]
     },
     "execution_count": 81,
     "metadata": {},
     "output_type": "execute_result"
    }
   ],
   "source": [
    "print(expr_all_tissue_df.shape)\n",
    "expr_all_tissue_df[:5]"
   ]
  },
  {
   "cell_type": "code",
   "execution_count": 82,
   "metadata": {},
   "outputs": [
    {
     "data": {
      "text/plain": [
       "13486"
      ]
     },
     "execution_count": 82,
     "metadata": {},
     "output_type": "execute_result"
    }
   ],
   "source": [
    "# number of vocabularies for cancer\n",
    "tf_tf_pair_counter = expr_all_tissue_df.tf_key.value_counts()\n",
    "len(set(tf_tf_pair_counter.index))"
   ]
  },
  {
   "cell_type": "code",
   "execution_count": 83,
   "metadata": {},
   "outputs": [
    {
     "name": "stdout",
     "output_type": "stream",
     "text": [
      "cancer 2145 2145\n",
      "normal 4186 4186\n"
     ]
    }
   ],
   "source": [
    "# create filtered expression datasets (vocabs that are responsible for expression that are tissue specific\n",
    "for filepath in sorted(glob.glob(os.path.join(save_dir, 'diff*_filt.csv'))):\n",
    "    tissue = os.path.basename(filepath).split('_')[1]\n",
    "    df = pd.read_csv(filepath, index_col=0)\n",
    "    df_filt = df[df.tf_key.isin(tf_tf_pair_counter[tf_tf_pair_counter==1].index)]\n",
    "    print(tissue, df.shape[0], df_filt.shape[0])\n",
    "    df_filt.to_csv(os.path.join(save_dir, 'diff_'+tissue+'_pair_filt_unique.csv'))"
   ]
  },
  {
   "cell_type": "code",
   "execution_count": 84,
   "metadata": {},
   "outputs": [
    {
     "name": "stdout",
     "output_type": "stream",
     "text": [
      "cancer 7381 7381\n",
      "normal 6105 6105\n"
     ]
    }
   ],
   "source": [
    "# create filtered expression datasets (vocabs that are responsible for expression that are tissue specific\n",
    "for filepath in sorted(glob.glob(os.path.join(save_dir, 'expr*_filt.csv'))):\n",
    "    tissue = os.path.basename(filepath).split('_')[1]\n",
    "    df = pd.read_csv(filepath, index_col=0)\n",
    "    df_filt = df[df.tf_key.isin(tf_tf_pair_counter[tf_tf_pair_counter==1].index)]\n",
    "    print(tissue, df.shape[0], df_filt.shape[0])\n",
    "    df_filt.to_csv(os.path.join(save_dir, 'expr_'+tissue+'_pair_filt_unique.csv'))"
   ]
  },
  {
   "cell_type": "code",
   "execution_count": 85,
   "metadata": {},
   "outputs": [],
   "source": [
    "# def check_tf_tf_loop_occur(tf_tf_pair, tissue, genesets_dict, data_all=data_all, tissues_label=tissues_label):  #suffixes='loop', 'pro_loop'\n",
    "#     tf_1, tf_2 = tf_tf_pair.split('::')\n",
    "    \n",
    "#     # get features to look at together, list of lists\n",
    "#     feat_list_type = {\n",
    "#         'pro_pro':[tf_1 + '_pro', tf_2+'_pro'],\n",
    "#         'loop_loop':[tf_1 + '_loop', tf_2+'_loop'],\n",
    "#         'pro_loop':[tf_1 + '_pro', tf_2+'_loop'],\n",
    "#         'loop_pro':[tf_1 + '_loop', tf_2+'_pro']}\n",
    "  \n",
    "#     data_all_sel = data_all[data_all.index.isin(genesets_dict[tissue]) & (tissues_label==tissue)]\n",
    "#     feat_type_df = {}\n",
    "#     for type_feat, feat_list in feat_list_type.items():\n",
    "#         try:\n",
    "#             check_series = pd.DataFrame(data_all_sel[feat_list]>0).all(axis=1)\n",
    "#             feat_type_df[type_feat+\"_count\"] = check_series.value_counts()[True]  \n",
    "#             feat_type_df[type_feat+\"_genes\"] = '|'.join(check_series.index[check_series])\n",
    "            \n",
    "#         except:\n",
    "#             feat_type_df[type_feat+\"_count\"] = 0\n",
    "#             feat_type_df[type_feat+\"_genes\"] = ''\n",
    "            \n",
    "#     return feat_type_df\n",
    "\n",
    "def check_tf_tf_loop_occur_cancer(tf_tf_pair, tissue, genesets_dict, data_all=data_all, cancer_label = is_cancer_label, tissues_label=tissues_label):  #suffixes='loop', 'pro_loop'\n",
    "    tf_1, tf_2 = tf_tf_pair.split('::')\n",
    "    \n",
    "    # get features to look at together, list of lists\n",
    "    feat_list_type = {\n",
    "        'pro_pro':[tf_1 + '_pro', tf_2+'_pro'],\n",
    "        'loop_loop':[tf_1 + '_loop', tf_2+'_loop'],\n",
    "        'pro_loop':[tf_1 + '_pro', tf_2+'_loop'],\n",
    "        'loop_pro':[tf_1 + '_loop', tf_2+'_pro']}\n",
    "  \n",
    "    data_all_sel = data_all[data_all.index.isin(genesets_dict['cancer']) & (tissues_label==tissue)]\n",
    "    feat_type_df = {}\n",
    "    for type_feat, feat_list in feat_list_type.items():\n",
    "        try:\n",
    "            check_series = pd.DataFrame(data_all_sel[feat_list]>0).all(axis=1)\n",
    "            feat_type_df[type_feat+\"_count\"] = check_series.value_counts()[True]  \n",
    "            feat_type_df[type_feat+\"_genes\"] = '|'.join(check_series.index[check_series])\n",
    "            \n",
    "        except:\n",
    "            feat_type_df[type_feat+\"_count\"] = 0\n",
    "            feat_type_df[type_feat+\"_genes\"] = ''\n",
    "            \n",
    "    return feat_type_df"
   ]
  },
  {
   "cell_type": "markdown",
   "metadata": {},
   "source": [
    "# 2. get gene sets\n",
    "\n",
    "create dictionary {tissue: gene_list} for each category"
   ]
  },
  {
   "cell_type": "markdown",
   "metadata": {},
   "source": [
    "2A. unique gene lists for each cell type"
   ]
  },
  {
   "cell_type": "code",
   "execution_count": 31,
   "metadata": {},
   "outputs": [
    {
     "data": {
      "text/plain": [
       "['../../rnaseq/unique_gene_lists/Colon_genes.txt',\n",
       " '../../rnaseq/unique_gene_lists/GDSD0_genes.txt',\n",
       " '../../rnaseq/unique_gene_lists/Airway_genes.txt',\n",
       " '../../rnaseq/unique_gene_lists/GDSD6_genes.txt',\n",
       " '../../rnaseq/unique_gene_lists/Pancreas_genes.txt',\n",
       " '../../rnaseq/unique_gene_lists/Uterine_genes.txt',\n",
       " '../../rnaseq/unique_gene_lists/Ovarian_genes.txt',\n",
       " '../../rnaseq/unique_gene_lists/Astrocytes_genes.txt',\n",
       " '../../rnaseq/unique_gene_lists/Bladder_genes.txt',\n",
       " '../../rnaseq/unique_gene_lists/Melanocytes_genes.txt',\n",
       " '../../rnaseq/unique_gene_lists/HMEC_genes.txt',\n",
       " '../../rnaseq/unique_gene_lists/Prostate_genes.txt',\n",
       " '../../rnaseq/unique_gene_lists/GM12878_genes.txt',\n",
       " '../../rnaseq/unique_gene_lists/Renal_genes.txt',\n",
       " '../../rnaseq/unique_gene_lists/GDSD3_genes.txt',\n",
       " '../../rnaseq/unique_gene_lists/Esophageal_genes.txt',\n",
       " '../../rnaseq/unique_gene_lists/Thyroid_genes.txt']"
      ]
     },
     "execution_count": 31,
     "metadata": {},
     "output_type": "execute_result"
    }
   ],
   "source": [
    "glob.glob('../../rnaseq/unique_gene_lists/*genes.txt')"
   ]
  },
  {
   "cell_type": "code",
   "execution_count": 32,
   "metadata": {},
   "outputs": [
    {
     "name": "stdout",
     "output_type": "stream",
     "text": [
      "Colon 14\n",
      "GDSD0 14\n",
      "Airway 41\n",
      "GDSD6 240\n",
      "Pancreas 17\n",
      "Uterine 37\n",
      "Ovarian 27\n",
      "Astrocytes 465\n",
      "Bladder 37\n",
      "Melanocytes 226\n",
      "HMEC 49\n",
      "Prostate 312\n",
      "GM12878 447\n",
      "Renal 27\n",
      "GDSD3 61\n",
      "Esophageal 19\n",
      "Thyroid 44\n"
     ]
    }
   ],
   "source": [
    "unique_genesets = {}\n",
    "for rna_file in glob.glob('../../rnaseq/unique_gene_lists/*genes.txt'):\n",
    "    tissue = os.path.basename(rna_file).split('_')[0]\n",
    "    geneset = sorted(pd.read_csv(rna_file,header=None).loc[:,0].dropna().unique())\n",
    "    print(tissue, len(geneset))\n",
    "    unique_genesets[tissue] = geneset\n",
    "    "
   ]
  },
  {
   "cell_type": "markdown",
   "metadata": {},
   "source": [
    "2B. expressed gene lists for each cell type"
   ]
  },
  {
   "cell_type": "code",
   "execution_count": 33,
   "metadata": {},
   "outputs": [],
   "source": [
    "THRES=5"
   ]
  },
  {
   "cell_type": "code",
   "execution_count": 34,
   "metadata": {},
   "outputs": [
    {
     "name": "stdout",
     "output_type": "stream",
     "text": [
      "Airway 6815\n",
      "Astrocytes 7303\n",
      "Bladder 6642\n",
      "Colon 6826\n",
      "Esophageal 6651\n",
      "GDSD6 6442\n",
      "GM12878 6166\n",
      "HMEC 6972\n",
      "Melanocytes 7359\n",
      "Ovarian 6578\n",
      "Pancreas 7055\n",
      "Prostate 6516\n",
      "Renal 6901\n",
      "Thyroid 7003\n",
      "Uterine 6569\n"
     ]
    }
   ],
   "source": [
    "expr_genesets = {}\n",
    "for tissue in rna_df_norm.columns:\n",
    "    geneset = list(rna_df_norm[tissue][rna_df_norm[tissue]>THRES].index)\n",
    "    print(tissue, len(geneset))\n",
    "    expr_genesets[tissue] = geneset"
   ]
  },
  {
   "cell_type": "markdown",
   "metadata": {},
   "source": [
    "2C. group genesets"
   ]
  },
  {
   "cell_type": "code",
   "execution_count": 35,
   "metadata": {},
   "outputs": [
    {
     "name": "stdout",
     "output_type": "stream",
     "text": [
      "['../data/interim/rna/purple_genes.csv', '../data/interim/rna/green_genes.csv', '../data/interim/rna/common_genes.csv', '../data/interim/rna/all_genes.csv', '../data/interim/rna/grey_genes.csv', '../data/interim/rna/blue_genes.csv']\n"
     ]
    }
   ],
   "source": [
    "print(glob.glob('../data/interim/rna/*_genes.csv'))\n",
    "group_tissue_mapping = {\n",
    "    'blue':['Astrocytes','Melanocytes'],\n",
    "    'grey':['GM12878'],\n",
    "    'green':['Colon','Esophageal','Ovarian','Pancreas','Renal','Thyroid'],\n",
    "    'purple':['Airway','Bladder', 'GDSD6', 'HMEC', 'Prostate', 'Uterine'] \n",
    "}"
   ]
  },
  {
   "cell_type": "code",
   "execution_count": 36,
   "metadata": {
    "collapsed": true,
    "jupyter": {
     "outputs_hidden": true
    }
   },
   "outputs": [
    {
     "name": "stdout",
     "output_type": "stream",
     "text": [
      "Astrocytes 954\n",
      "Melanocytes 954\n",
      "GM12878 626\n",
      "Colon 759\n",
      "Esophageal 759\n",
      "Ovarian 759\n",
      "Pancreas 759\n",
      "Renal 759\n",
      "Thyroid 759\n",
      "Airway 796\n",
      "Bladder 796\n",
      "GDSD6 796\n",
      "HMEC 796\n",
      "Prostate 796\n",
      "Uterine 796\n"
     ]
    }
   ],
   "source": [
    "group_genesets = {}\n",
    "for group, tissues in group_tissue_mapping.items():\n",
    "    geneset = sorted(pd.read_csv('../data/interim/rna/'+group+'_genes.csv',header=None).loc[:,0].dropna().unique())\n",
    "    for tissue in tissues:\n",
    "        group_genesets[tissue] = geneset\n",
    "        print(tissue, len(geneset))\n",
    "        "
   ]
  },
  {
   "cell_type": "markdown",
   "metadata": {},
   "source": [
    "# testing "
   ]
  },
  {
   "cell_type": "code",
   "execution_count": 117,
   "metadata": {},
   "outputs": [
    {
     "name": "stdout",
     "output_type": "stream",
     "text": [
      "CPU times: user 37.4 s, sys: 817 ms, total: 38.3 s\n",
      "Wall time: 38.3 s\n"
     ]
    }
   ],
   "source": [
    "%%time\n",
    "df = pd.read_csv(os.path.join(save_dir, 'diff_cancer_pair_filt.csv'), index_col=0)\n",
    "tf_tf_pair_feat = {}\n",
    "for tf_tf_pair in df.tf_key:\n",
    "    tf_tf_pair_feat[tf_tf_pair] = check_tf_tf_loop_occur_cancer(tf_tf_pair, tissue='COLO_SCR_DMSO',genesets_dict=diff_genesets)\n",
    "df_tf_key_type = pd.DataFrame.from_dict(tf_tf_pair_feat,orient='index')\n"
   ]
  },
  {
   "cell_type": "code",
   "execution_count": 118,
   "metadata": {},
   "outputs": [
    {
     "data": {
      "text/plain": [
       "Counter({'COLO_SCR_DMSO': 8544, 'Melanocytes': 6887, 'WM_SCR_DMSO': 10339})"
      ]
     },
     "execution_count": 118,
     "metadata": {},
     "output_type": "execute_result"
    }
   ],
   "source": [
    "Counter(tissues_label)"
   ]
  },
  {
   "cell_type": "code",
   "execution_count": 119,
   "metadata": {},
   "outputs": [
    {
     "data": {
      "text/plain": [
       "count    2145.000000\n",
       "mean       53.967366\n",
       "std        68.794666\n",
       "min         0.000000\n",
       "25%         0.000000\n",
       "50%        34.000000\n",
       "75%        74.000000\n",
       "max       524.000000\n",
       "Name: loop_loop_count, dtype: float64"
      ]
     },
     "execution_count": 119,
     "metadata": {},
     "output_type": "execute_result"
    }
   ],
   "source": [
    "df_tf_key_type.loop_loop_count.describe()"
   ]
  },
  {
   "cell_type": "code",
   "execution_count": 120,
   "metadata": {},
   "outputs": [
    {
     "data": {
      "text/plain": [
       "pro_pro_count                                                      3\n",
       "pro_pro_genes                                        CPM|MDFIC|PFDN4\n",
       "loop_loop_count                                                  110\n",
       "loop_loop_genes    AFAP1L1|AGMO|AKAP6|ALDH1B1|ANGPT1|ANKMY2|ARHGA...\n",
       "pro_loop_count                                                     4\n",
       "pro_loop_genes                                  CPM|LRR1|MDFIC|PFDN4\n",
       "loop_pro_count                                                    14\n",
       "loop_pro_genes     AKAP6|ALDH1B1|COL19A1|COPS6|CPM|DLX1|DUSP4|MDF...\n",
       "Name: ARID3A::ARID5B, dtype: object"
      ]
     },
     "execution_count": 120,
     "metadata": {},
     "output_type": "execute_result"
    }
   ],
   "source": [
    "row = df_tf_key_type[df_tf_key_type.pro_pro_count>0].iloc[0]\n",
    "row"
   ]
  },
  {
   "cell_type": "code",
   "execution_count": 90,
   "metadata": {},
   "outputs": [],
   "source": [
    "# list(df_tf_key_type[df_tf_key_type.pro_pro_count>0].index)"
   ]
  },
  {
   "cell_type": "code",
   "execution_count": 91,
   "metadata": {},
   "outputs": [],
   "source": [
    "# glob.glob('../data/interim/annon/anchor_motif_scan/*bed')"
   ]
  },
  {
   "cell_type": "code",
   "execution_count": 130,
   "metadata": {},
   "outputs": [
    {
     "data": {
      "text/plain": [
       "['../data/interim/annon/promoter_motif_scan/promoter_A431-CTRLi_annon.bed',\n",
       " '../data/interim/annon/promoter_motif_scan/promoter_Airway_annon.bed',\n",
       " '../data/interim/annon/promoter_motif_scan/promoter_Astrocytes_annon.bed',\n",
       " '../data/interim/annon/promoter_motif_scan/promoter_Bladder_annon.bed',\n",
       " '../data/interim/annon/promoter_motif_scan/promoter_CAL27-CTRLi_annon.bed',\n",
       " '../data/interim/annon/promoter_motif_scan/promoter_COLO-SCR-DMSO_annon.bed',\n",
       " '../data/interim/annon/promoter_motif_scan/promoter_Colon_annon.bed',\n",
       " '../data/interim/annon/promoter_motif_scan/promoter_Esophageal_annon.bed',\n",
       " '../data/interim/annon/promoter_motif_scan/promoter_GDSD0_annon.bed',\n",
       " '../data/interim/annon/promoter_motif_scan/promoter_GDSD3_annon.bed',\n",
       " '../data/interim/annon/promoter_motif_scan/promoter_GDSD6_annon.bed',\n",
       " '../data/interim/annon/promoter_motif_scan/promoter_GM12878_annon.bed',\n",
       " '../data/interim/annon/promoter_motif_scan/promoter_HMEC_annon.bed',\n",
       " '../data/interim/annon/promoter_motif_scan/promoter_Melanocytes_annon.bed',\n",
       " '../data/interim/annon/promoter_motif_scan/promoter_Ovarian_annon.bed',\n",
       " '../data/interim/annon/promoter_motif_scan/promoter_Pancreas_annon.bed',\n",
       " '../data/interim/annon/promoter_motif_scan/promoter_Prostate_annon.bed',\n",
       " '../data/interim/annon/promoter_motif_scan/promoter_Renal_annon.bed',\n",
       " '../data/interim/annon/promoter_motif_scan/promoter_SCC13-CTRLi_annon.bed',\n",
       " '../data/interim/annon/promoter_motif_scan/promoter_Thyroid_annon.bed',\n",
       " '../data/interim/annon/promoter_motif_scan/promoter_Uterine_annon.bed',\n",
       " '../data/interim/annon/promoter_motif_scan/promoter_WM-SCR-DMSO_annon.bed']"
      ]
     },
     "execution_count": 130,
     "metadata": {},
     "output_type": "execute_result"
    }
   ],
   "source": [
    "sorted(glob.glob('../data/interim/annon/promoter_motif_scan/*bed'))"
   ]
  },
  {
   "cell_type": "code",
   "execution_count": 93,
   "metadata": {},
   "outputs": [],
   "source": [
    "# %%time\n",
    "# # data_all_sel = data_all[data_all.index.isin(unique_genesets['Prostate']) & (tissues_label=='Prostate')]\n",
    "# # vocab_tissue_df = pd.DataFrame()\n",
    "# # foot_df = pd.read_csv(os.path.join('../data/interim/annon/anchor_motif_scan/','SCC13-CTRLi_annon.bed'),sep='\\t',header=None)\n",
    "\n",
    "# foot_df = pd.read_csv(os.path.join('../data/interim/annon/promoter_motif_scan/','promoter_SCC13-CTRLi_annon.bed'),sep='\\t',header=None)\n",
    "# foot_df.columns = ['chr','start','stop','TSS','chr_m','start_m','stop_m','id_trim','score','strand']"
   ]
  },
  {
   "cell_type": "code",
   "execution_count": 94,
   "metadata": {},
   "outputs": [],
   "source": [
    "# foot_df"
   ]
  },
  {
   "cell_type": "code",
   "execution_count": 95,
   "metadata": {},
   "outputs": [],
   "source": [
    "# tf_pair = row.name\n",
    "# tf_arr = tf_pair.split('::')\n",
    "# # genes_pro_only = row['pro_pro_genes'].split('|')\n",
    "# genes_pro_only = row['loop_loop_genes'].split('|')\n",
    "# print(genes_pro_only)\n",
    "# foot_df_sel = foot_df[foot_df.TSS.isin(genes_pro_only)]\n",
    "# print(foot_df_sel.shape)\n",
    "# foot_df_sel['tf'] = foot_df_sel.id_trim.map(tf_id_to_name_dict)\n",
    "# print(foot_df_sel.shape)\n",
    "# foot_df_sel = foot_df_sel[foot_df_sel.tf.isin(tf_arr)].drop_duplicates()\n",
    "# print(tf_pair, row['pro_pro_genes'])\n",
    "# # print(tf_pair, row['pro_pro_genes'])\n",
    "# print(foot_df_sel)"
   ]
  },
  {
   "cell_type": "code",
   "execution_count": 96,
   "metadata": {},
   "outputs": [],
   "source": [
    "# # filter by those that have pairs \n",
    "# # foot_df = pd.read_csv(os.path.join('../data/interim/annon/promoter_motif_scan/','promoter_Prostate_annon.bed'),sep='\\t',header=None)\n",
    "                      \n",
    "# # foot_df.columns = ['chr','start','stop','TSS','chr_m','start_m','stop_m','id_trim','score','strand']\n",
    "# foot_df = foot_df[foot_df.TSS.isin(['CYP4B1'])]\n",
    "# foot_df['tf'] = foot_df.id_trim.map(tf_id_to_name_dict)\n",
    "# foot_df[foot_df.tf.isin(['NFATC4','ZNF667'])].drop_duplicates()\n"
   ]
  },
  {
   "cell_type": "code",
   "execution_count": 97,
   "metadata": {},
   "outputs": [],
   "source": [
    "# foot_df = foot_df[foot_df.tf.isin(['NFATC4','ZNF667'])].drop_duplicates()\n",
    "# foot_df\n"
   ]
  },
  {
   "cell_type": "markdown",
   "metadata": {},
   "source": [
    "# loop through all of the tf-tf pairs and find the locations in the promoter regions"
   ]
  },
  {
   "cell_type": "code",
   "execution_count": 100,
   "metadata": {},
   "outputs": [],
   "source": [
    "# df_tf_key_type[:5]"
   ]
  },
  {
   "cell_type": "code",
   "execution_count": 122,
   "metadata": {},
   "outputs": [],
   "source": [
    "def get_vocab_cancer_mc(tf_tf_pair_file, tissues, genesets_dict, type_loop='pro_pro', savepath=None, save_loop_count=None):\n",
    "    if savepath is None: #savepath is save each tissue separately\n",
    "        vocab_df = pd.DataFrame()\n",
    "    for tissue in sorted(tissues):\n",
    "        print('====== STARTING ',tissue, tf_tf_pair_file)\n",
    "\n",
    "        # read file\n",
    "        df = pd.read_csv(tf_tf_pair_file, index_col=0)\n",
    "        if df.shape[0]==0:\n",
    "            print('EXIT: no data', tf_tf_pair_file)\n",
    "            continue\n",
    "        else:\n",
    "            print('num vocab found:', df.shape[0])\n",
    "\n",
    "        # get tf tf pair types\n",
    "        tf_tf_pair_feat = {}\n",
    "        for tf_tf_pair in df.tf_key: \n",
    "            tf_tf_pair_feat[tf_tf_pair] = check_tf_tf_loop_occur_cancer(tf_tf_pair, tissue, genesets_dict)\n",
    "        df_tf_key_type = pd.DataFrame.from_dict(tf_tf_pair_feat,orient='index')\n",
    "        \n",
    "        ###ADDED IN TISSUE MAPPER\n",
    "        tissue_new = '-'.join(tissue.split('_'))\n",
    "\n",
    "        # get pro_pro OR loop_loop or looponly (PART TO CHANGE IN FUTURE)\n",
    "        if type_loop in ['pro_pro','loop_loop','pro_loop']:\n",
    "            if save_loop_count is not None:\n",
    "                print('saving loop type info', save_loop_count+tissue_new+'_loop_type.csv')\n",
    "                df_tf_key_type.to_csv(save_loop_count+tissue_new+'_loop_type.csv')\n",
    "        else:\n",
    "            print('vocab type not correct', type_loop)\n",
    "            raise            \n",
    "        df_tf_filt = df_tf_key_type[df_tf_key_type[type_loop+'_count']>0]    \n",
    "        \n",
    "        \n",
    "        # get locations of vocab points\n",
    "        if df_tf_filt.shape[0]==0:\n",
    "            print('EXIT: no tf tf pairs in loop type: ', type_loop, filepath)\n",
    "            continue   \n",
    "        else:\n",
    "            print('num tf-tf pairs in loop type found', type_loop,  df_tf_filt.shape[0])\n",
    "\n",
    "        vocab_tissue_df = pd.DataFrame()\n",
    "        foot_df = pd.read_csv(os.path.join('../data/interim/annon/promoter_motif_scan/','promoter_'+tissue_new+'_annon.bed'),sep='\\t',header=None)\n",
    "        foot_df.columns = ['chr','start','stop','TSS','chr_m','start_m','stop_m','id_trim','score','strand']\n",
    "        for tf_pair, row in df_tf_filt.iterrows():\n",
    "            tf_arr = tf_pair.split('::')\n",
    "#             print(row)\n",
    "            genes_pro_only = row[type_loop+'_genes'].split('|')\n",
    "            foot_df_sel = foot_df[foot_df.TSS.isin(genes_pro_only)]\n",
    "            foot_df_sel['tf'] = foot_df_sel.id_trim.map(tf_id_to_name_dict)\n",
    "            foot_df_sel = foot_df_sel[foot_df_sel.tf.isin(tf_arr)].drop_duplicates()\n",
    "            foot_df_sel['vocab'] = tf_pair\n",
    "            foot_df_sel['genes'] = row[type_loop+'_genes']\n",
    "            vocab_tissue_df = pd.concat([vocab_tissue_df, foot_df_sel],axis=0,sort=False)\n",
    "\n",
    "        vocab_tissue_df['tissue'] = tissue\n",
    "        print('vocab_tissue_df length: ', vocab_tissue_df.shape[0], len(vocab_tissue_df.vocab.unique()))\n",
    "        if savepath is not None:\n",
    "            print('saved', savepath+tissue+\"_\"+type_loop+'_vocab_info.csv')\n",
    "            vocab_tissue_df.to_csv(savepath+tissue_new+\"_\"+type_loop+'_vocab_info.csv')\n",
    "        \n",
    "        if savepath is None:\n",
    "            vocab_df = pd.concat([vocab_df,vocab_tissue_df ],axis=0,sort=False)\n",
    "    if savepath is None:\n",
    "        return vocab_df\n",
    "    else:\n",
    "        return None"
   ]
  },
  {
   "cell_type": "markdown",
   "metadata": {},
   "source": [
    "unique stuff"
   ]
  },
  {
   "cell_type": "code",
   "execution_count": 123,
   "metadata": {},
   "outputs": [],
   "source": [
    "# %%time \n",
    "# vocab_df = get_vocab(glob.glob(os.path.join(save_dir, 'unique*_filt.csv')),unique_genesets,\n",
    "#                      type_loop='pro_pro',save_loop_count=os.path.join(save_dir, 'unique_'))\n",
    "# vocab_df.to_csv(os.path.join(save_dir, 'unique_alltissue_pro_pro_vocab_info.csv'))\n",
    "# vocab_df.shape"
   ]
  },
  {
   "cell_type": "code",
   "execution_count": 124,
   "metadata": {},
   "outputs": [],
   "source": [
    "# %%time \n",
    "# vocab_df = get_vocab(glob.glob(os.path.join(save_dir, 'unique*_filt.csv')),unique_genesets,type_loop='pro_loop')\n",
    "# vocab_df.to_csv(os.path.join(save_dir, 'unique_alltissue_pro_loop_vocab_info.csv'))\n",
    "# vocab_df.shape\n"
   ]
  },
  {
   "cell_type": "code",
   "execution_count": 125,
   "metadata": {},
   "outputs": [],
   "source": [
    "# %%time \n",
    "# vocab_df = get_vocab(glob.glob(os.path.join(save_dir, 'unique*_filt.csv')),unique_genesets,type_loop='loop_loop')\n",
    "# vocab_df.to_csv(os.path.join(save_dir, 'unique_alltissue_loop_loop_vocab_info.csv'))\n",
    "# vocab_df.shape\n"
   ]
  },
  {
   "cell_type": "code",
   "execution_count": 126,
   "metadata": {},
   "outputs": [
    {
     "data": {
      "text/plain": [
       "['../data/processed/fig4_modelling/tf_tf_pairs_mm/diff_cancer_pair_filt_unique.csv',\n",
       " '../data/processed/fig4_modelling/tf_tf_pairs_mm/diff_normal_pair_filt_unique.csv',\n",
       " '../data/processed/fig4_modelling/tf_tf_pairs_mm/expr_cancer_pair_filt_unique.csv',\n",
       " '../data/processed/fig4_modelling/tf_tf_pairs_mm/expr_normal_pair_filt_unique.csv']"
      ]
     },
     "execution_count": 126,
     "metadata": {},
     "output_type": "execute_result"
    }
   ],
   "source": [
    "glob.glob(os.path.join(save_dir, '*_filt_unique.csv'))"
   ]
  },
  {
   "cell_type": "code",
   "execution_count": 127,
   "metadata": {},
   "outputs": [
    {
     "data": {
      "text/plain": [
       "['COLO_SCR_DMSO', 'WM_SCR_DMSO']"
      ]
     },
     "execution_count": 127,
     "metadata": {},
     "output_type": "execute_result"
    }
   ],
   "source": [
    "cancer_tissues"
   ]
  },
  {
   "cell_type": "code",
   "execution_count": 135,
   "metadata": {},
   "outputs": [
    {
     "name": "stdout",
     "output_type": "stream",
     "text": [
      "====== STARTING  COLO_SCR_DMSO ../data/processed/fig4_modelling/tf_tf_pairs_mm/diff_cancer_pair_filt_unique.csv\n",
      "num vocab found: 2145\n",
      "num tf-tf pairs in loop type found pro_pro 665\n"
     ]
    },
    {
     "name": "stderr",
     "output_type": "stream",
     "text": [
      "/Users/mguo123/opt/anaconda3/lib/python3.7/site-packages/ipykernel_launcher.py:50: SettingWithCopyWarning: \n",
      "A value is trying to be set on a copy of a slice from a DataFrame.\n",
      "Try using .loc[row_indexer,col_indexer] = value instead\n",
      "\n",
      "See the caveats in the documentation: http://pandas.pydata.org/pandas-docs/stable/user_guide/indexing.html#returning-a-view-versus-a-copy\n"
     ]
    },
    {
     "name": "stdout",
     "output_type": "stream",
     "text": [
      "vocab_tissue_df length:  18328 665\n",
      "saved ../data/processed/fig4_modelling/tf_tf_pairs_mm/diff_COLO_SCR_DMSO_pro_pro_vocab_info.csv\n",
      "====== STARTING  WM_SCR_DMSO ../data/processed/fig4_modelling/tf_tf_pairs_mm/diff_cancer_pair_filt_unique.csv\n",
      "num vocab found: 2145\n",
      "num tf-tf pairs in loop type found pro_pro 612\n",
      "vocab_tissue_df length:  30218 612\n",
      "saved ../data/processed/fig4_modelling/tf_tf_pairs_mm/diff_WM_SCR_DMSO_pro_pro_vocab_info.csv\n",
      "====== STARTING  COLO_SCR_DMSO ../data/processed/fig4_modelling/tf_tf_pairs_mm/diff_cancer_pair_filt_unique.csv\n",
      "num vocab found: 2145\n",
      "saving loop type info ../data/processed/fig4_modelling/tf_tf_pairs_mm/diff_COLO-SCR-DMSO_loop_type.csv\n",
      "num tf-tf pairs in loop type found loop_loop 1540\n",
      "vocab_tissue_df length:  99627 1496\n",
      "saved ../data/processed/fig4_modelling/tf_tf_pairs_mm/diff_COLO_SCR_DMSO_loop_loop_vocab_info.csv\n",
      "====== STARTING  WM_SCR_DMSO ../data/processed/fig4_modelling/tf_tf_pairs_mm/diff_cancer_pair_filt_unique.csv\n",
      "num vocab found: 2145\n",
      "saving loop type info ../data/processed/fig4_modelling/tf_tf_pairs_mm/diff_WM-SCR-DMSO_loop_type.csv\n",
      "num tf-tf pairs in loop type found loop_loop 1653\n",
      "vocab_tissue_df length:  224652 1633\n",
      "saved ../data/processed/fig4_modelling/tf_tf_pairs_mm/diff_WM_SCR_DMSO_loop_loop_vocab_info.csv\n",
      "CPU times: user 22min 44s, sys: 51.6 s, total: 23min 36s\n",
      "Wall time: 12min 51s\n"
     ]
    }
   ],
   "source": [
    "%%time \n",
    "vocab_df_diff = get_vocab_cancer_mc(os.path.join(save_dir, 'diff_cancer_pair_filt_unique.csv'), cancer_tissues, diff_genesets, \n",
    "                          savepath=os.path.join(save_dir, 'diff_'))\n",
    "\n",
    "vocab_df_diff_loop_loop = get_vocab_cancer_mc(os.path.join(save_dir, 'diff_cancer_pair_filt_unique.csv'), cancer_tissues, diff_genesets, \n",
    "                                            savepath=os.path.join(save_dir, 'diff_'),\n",
    "                                            type_loop='loop_loop', save_loop_count=os.path.join(save_dir, 'diff_'))\n",
    "# vocab_df_expr.to_csv(os.path.join(save_dir, 'expr_alltissue_vocab_info.csv'))"
   ]
  },
  {
   "cell_type": "code",
   "execution_count": 136,
   "metadata": {},
   "outputs": [
    {
     "name": "stdout",
     "output_type": "stream",
     "text": [
      "====== STARTING  COLO_SCR_DMSO ../data/processed/fig4_modelling/tf_tf_pairs_mm/expr_cancer_pair_filt_unique.csv\n",
      "num vocab found: 7381\n",
      "num tf-tf pairs in loop type found pro_pro 2971\n"
     ]
    },
    {
     "name": "stderr",
     "output_type": "stream",
     "text": [
      "/Users/mguo123/opt/anaconda3/lib/python3.7/site-packages/ipykernel_launcher.py:50: SettingWithCopyWarning: \n",
      "A value is trying to be set on a copy of a slice from a DataFrame.\n",
      "Try using .loc[row_indexer,col_indexer] = value instead\n",
      "\n",
      "See the caveats in the documentation: http://pandas.pydata.org/pandas-docs/stable/user_guide/indexing.html#returning-a-view-versus-a-copy\n"
     ]
    },
    {
     "name": "stdout",
     "output_type": "stream",
     "text": [
      "vocab_tissue_df length:  113039 2971\n",
      "saved ../data/processed/fig4_modelling/tf_tf_pairs_mm/expr_COLO_SCR_DMSO_pro_pro_vocab_info.csv\n",
      "====== STARTING  WM_SCR_DMSO ../data/processed/fig4_modelling/tf_tf_pairs_mm/expr_cancer_pair_filt_unique.csv\n",
      "num vocab found: 7381\n",
      "num tf-tf pairs in loop type found pro_pro 2679\n",
      "vocab_tissue_df length:  165082 2679\n",
      "saved ../data/processed/fig4_modelling/tf_tf_pairs_mm/expr_WM_SCR_DMSO_pro_pro_vocab_info.csv\n",
      "====== STARTING  COLO_SCR_DMSO ../data/processed/fig4_modelling/tf_tf_pairs_scc/expr_cancer_pair_filt_unique.csv\n",
      "num vocab found: 15400\n",
      "saving loop type info ../data/processed/fig4_modelling/tf_tf_pairs_mm/expr_COLO-SCR-DMSO_loop_type.csv\n",
      "num tf-tf pairs in loop type found loop_loop 7750\n",
      "vocab_tissue_df length:  1712965 7655\n",
      "saved ../data/processed/fig4_modelling/tf_tf_pairs_mm/expr_COLO_SCR_DMSO_loop_loop_vocab_info.csv\n",
      "====== STARTING  WM_SCR_DMSO ../data/processed/fig4_modelling/tf_tf_pairs_scc/expr_cancer_pair_filt_unique.csv\n",
      "num vocab found: 15400\n",
      "saving loop type info ../data/processed/fig4_modelling/tf_tf_pairs_mm/expr_WM-SCR-DMSO_loop_type.csv\n",
      "num tf-tf pairs in loop type found loop_loop 8128\n",
      "vocab_tissue_df length:  2914671 8108\n",
      "saved ../data/processed/fig4_modelling/tf_tf_pairs_mm/expr_WM_SCR_DMSO_loop_loop_vocab_info.csv\n",
      "CPU times: user 19h 49min 52s, sys: 39min 49s, total: 20h 29min 42s\n",
      "Wall time: 5h 8min 48s\n"
     ]
    }
   ],
   "source": [
    "%%time \n",
    "vocab_df_expr = get_vocab_cancer_mc(os.path.join(save_dir, 'expr_cancer_pair_filt_unique.csv'), cancer_tissues, expr_genesets, \n",
    "                          savepath=os.path.join(save_dir, 'expr_'))\n",
    "\n",
    "vocab_df_expr_loop_loop = get_vocab_cancer_mc('../data/processed/fig4_modelling/tf_tf_pairs_scc/expr_cancer_pair_filt_unique.csv', cancer_tissues, expr_genesets, \n",
    "                                            savepath=os.path.join(save_dir, 'expr_'),\n",
    "                                            type_loop='loop_loop', save_loop_count=os.path.join(save_dir, 'expr_'))\n"
   ]
  },
  {
   "cell_type": "code",
   "execution_count": null,
   "metadata": {},
   "outputs": [],
   "source": []
  },
  {
   "cell_type": "code",
   "execution_count": null,
   "metadata": {},
   "outputs": [],
   "source": []
  },
  {
   "cell_type": "code",
   "execution_count": null,
   "metadata": {},
   "outputs": [],
   "source": []
  }
 ],
 "metadata": {
  "kernelspec": {
   "display_name": "Python 3",
   "language": "python",
   "name": "python3"
  },
  "language_info": {
   "codemirror_mode": {
    "name": "ipython",
    "version": 3
   },
   "file_extension": ".py",
   "mimetype": "text/x-python",
   "name": "python",
   "nbconvert_exporter": "python",
   "pygments_lexer": "ipython3",
   "version": "3.7.4"
  }
 },
 "nbformat": 4,
 "nbformat_minor": 4
}
