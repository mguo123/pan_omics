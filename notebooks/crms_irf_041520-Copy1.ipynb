{
 "cells": [
  {
   "cell_type": "markdown",
   "metadata": {},
   "source": [
    "# crms_irf.ipynb\n",
    "\n",
    "trying iterative random forests on random forest generated from both \n",
    "1. try irf on housekeeping gene subset of model for each cell type\n",
    "\n",
    "\n",
    "based on https://github.com/Yu-Group/iterative-Random-Forest/blob/master/demo/28_iRF_demo_sklearn.ipynb\n",
    "\n",
    "and the Iteratve Random Forest (Basu paper)\n",
    "\n",
    "\n",
    "\n"
   ]
  },
  {
   "cell_type": "code",
   "execution_count": 1,
   "metadata": {},
   "outputs": [],
   "source": [
    "# basic packages\n",
    "import os, glob\n",
    "import pandas as pd\n",
    "import numpy as np; np.random.seed(0)\n",
    "import itertools\n",
    "from collections import Counter, defaultdict\n",
    "import time\n",
    "\n",
    "# machine learning packages from sklearn\n",
    "from sklearn.preprocessing import MinMaxScaler #StandardScaler \n",
    "from sklearn import preprocessing, metrics\n",
    "from sklearn.feature_selection import VarianceThreshold\n",
    "from sklearn.model_selection import train_test_split, KFold, cross_validate, cross_val_score, StratifiedKFold\n",
    "from sklearn.linear_model import LogisticRegression, Lasso, LassoCV\n",
    "from sklearn.naive_bayes import GaussianNB\n",
    "from sklearn.svm import LinearSVC\n",
    "from sklearn.ensemble import RandomForestClassifier, RandomForestRegressor, VotingClassifier, AdaBoostClassifier\n",
    "from sklearn.neighbors import KNeighborsClassifier\n",
    "from sklearn.neural_network import MLPClassifier\n",
    "from sklearn.metrics import roc_auc_score, auc, roc_curve, plot_roc_curve, confusion_matrix, accuracy_score\n",
    "from scipy import interp\n",
    "\n",
    "# for IRF\n",
    "from functools import reduce\n",
    "# Needed for the scikit-learn wrapper function\n",
    "import irf\n",
    "from irf import (irf_utils, utils,\n",
    "                 irf_jupyter_utils)\n",
    "from irf.ensemble.wrf import RandomForestClassifierWithWeights\n",
    "from math import ceil\n",
    "\n",
    "# Import our custom utilities\n",
    "from imp import reload\n",
    "\n",
    "\n",
    "# Import tools needed for visualization\n",
    "import seaborn as sns; sns.set()\n",
    "import matplotlib\n",
    "import matplotlib.pyplot as plt\n",
    "from sklearn.tree import export_graphviz\n",
    "import pydot"
   ]
  },
  {
   "cell_type": "code",
   "execution_count": 2,
   "metadata": {},
   "outputs": [],
   "source": [
    "# TF annotations\n",
    "hoco_annon_file = 'annon/HOCOMOCOv11_core_annotation_HUMAN_mono.tsv'\n",
    "hoco_annon = pd.read_table(hoco_annon_file,header=0)\n",
    "hoco_annon[['motif_abbr','motif_info']]=hoco_annon['Model'].str.split(\"_\",expand=True)\n",
    "hoco_motif_to_tf = pd.Series(hoco_annon['Transcription factor'].values, index=hoco_annon.motif_abbr.values).to_dict()\n",
    "tfs = list(hoco_annon['Transcription factor'])\n",
    "\n",
    "\n",
    "# RNA\n",
    "THRES=1\n",
    "rna_tpm_file = 'rnaseq/tissue_tpm_sym.csv'\n",
    "rna_df = pd.read_csv(rna_tpm_file, index_col=0,header=0)\n",
    "rna_df.index = [x.upper() for x in rna_df.index.values]\n",
    "all_genes = rna_df.index\n",
    "tissue_diffloop_to_rna = {\n",
    "    'Air':'Airway', 'Astro':'Astrocyte', 'Blad':'Bladder', 'Colon':'Colon', 'Eso':'Esophageal', \n",
    "    'GDSD0':'GDSD0', 'GDSD3':'GDSD3', 'GDSD6':'GDSD6', \n",
    "    'GM12878':'GM12878', 'HMEC':'HMEC', 'MC':'Melanocytes', 'Ova':'Ovarian',\n",
    "    'Panc':'Pancreas', 'Pros':'Prostate', 'Renal':'Renal', 'Thy':'Thyroid', 'Uter':'Uterine'\n",
    "}\n",
    "\n",
    "def get_exp(rna_df, sym, tissue,verbose=True):\n",
    "    try:\n",
    "        return rna_df.loc[sym,tissue]\n",
    "    except KeyError:\n",
    "        if verbose:\n",
    "            print(sym, 'not found')\n",
    "        return 0\n",
    "   \n",
    "# loop and anchor and crms\n",
    "loop_files = sorted(glob.glob('diffloop_data/bedpe_files_csvs_rna/*merged.loops.csv'))\n",
    "anchor_files = sorted(glob.glob('diffloop_data/bedpe_files_csvs_rna/*merged.anchors.csv'))\n",
    "crm_files = sorted(glob.glob('networks/diffgene/all_no_thres/*_crm_tissue.csv'))\n",
    "\n",
    "\n",
    "tissues = []\n",
    "for crm in crm_files:\n",
    "    tissues.append(os.path.basename(crm).split('_')[1])\n",
    "tissue_dict = dict(zip(tissues,range(len(tissues))))\n",
    "\n",
    "# print(loop_files)\n",
    "# print(anchor_files)"
   ]
  },
  {
   "cell_type": "markdown",
   "metadata": {},
   "source": [
    "# 0. Data Wrangling\n",
    "- import\n",
    "- preprocess\n"
   ]
  },
  {
   "cell_type": "code",
   "execution_count": 10,
   "metadata": {},
   "outputs": [
    {
     "data": {
      "text/plain": [
       "((291006, 824), (291006, 1), (291006, 1))"
      ]
     },
     "execution_count": 10,
     "metadata": {},
     "output_type": "execute_result"
    }
   ],
   "source": [
    "# import\n",
    "data_all = pd.read_csv('networks/representations_no_tfs/data_all.csv',index_col=0,header=0)\n",
    "labels_all = np.array(pd.read_csv('networks/representations_no_tfs/labels_all.csv',index_col=0,header=None))\n",
    "genes_all = np.array(pd.read_csv('networks/representations_no_tfs/genes_all.csv',index_col=0,header=None))\n",
    "\n",
    "\n",
    "data_all.shape, labels_all.shape,genes_all.shape\n"
   ]
  },
  {
   "cell_type": "code",
   "execution_count": null,
   "metadata": {},
   "outputs": [],
   "source": []
  },
  {
   "cell_type": "code",
   "execution_count": 11,
   "metadata": {},
   "outputs": [],
   "source": [
    "# # labels for problem 1: `labels_all_bin`\n",
    "# labels_all_bin = np.array([1 if x > THRES else 0 for x in labels_all])"
   ]
  },
  {
   "cell_type": "code",
   "execution_count": 12,
   "metadata": {},
   "outputs": [
    {
     "name": "stdout",
     "output_type": "stream",
     "text": [
      "Counter({'Air': 17118, 'Astro': 17118, 'Blad': 17118, 'Colon': 17118, 'Eso': 17118, 'GDSD0': 17118, 'GDSD3': 17118, 'GDSD6': 17118, 'GM12878': 17118, 'HMEC': 17118, 'MC': 17118, 'Ova': 17118, 'Panc': 17118, 'Pros': 17118, 'Renal': 17118, 'Thy': 17118, 'Uter': 17118})\n"
     ]
    }
   ],
   "source": [
    "# labels for problem 2: `tissue_labels`\n",
    "gene_to_num_dict = dict(zip(np.unique(genes_all),range(len(np.unique(genes_all)))))\n",
    "genes_num_all = np.vectorize(gene_to_num_dict.get)(genes_all)\n",
    "\n",
    "\n",
    "tissue_to_num_dict = dict(zip(tissue_dict.keys(), range(len(tissue_dict.keys()))))\n",
    "tissue_df = data_all[tissue_dict.keys()].reset_index().melt('index')\n",
    "tissue_df.columns = ['index','tissue','value']\n",
    "tissue_df = tissue_df[tissue_df.value==1].reset_index(drop=True)\n",
    "tissue_df['tissue_num'] = tissue_df.tissue.map(tissue_to_num_dict)\n",
    "\n",
    "tissue_labels = np.array(tissue_df.tissue)\n",
    "tissue_num_labels = np.array(tissue_df.tissue_num)\n",
    "\n",
    "print(Counter(tissue_labels))"
   ]
  },
  {
   "cell_type": "code",
   "execution_count": 14,
   "metadata": {},
   "outputs": [],
   "source": [
    "# pd.DataFrame([tissue_diffloop_to_rna[x] for x in tissue_labels]).to_csv(os.path.join(save_dir, 'tissues_all.csv'), header=None)"
   ]
  },
  {
   "cell_type": "code",
   "execution_count": 15,
   "metadata": {},
   "outputs": [],
   "source": [
    "# labels_all = np.array(pd.read_csv('networks/representations_irf_cca/tissues_all.csv',index_col=0,header=None))\n",
    "# tissue_bool_idx = np.where(labels_all=='Airway')[0]\n",
    "# len(tissue_bool_idx) #17118"
   ]
  },
  {
   "cell_type": "code",
   "execution_count": 16,
   "metadata": {},
   "outputs": [],
   "source": [
    "# set up data collection, remove the tissues and uninformative columns\n",
    "\n",
    "data_all_no_tissue = data_all\n",
    "    \n",
    "if '_loop' in data_all_no_tissue.columns:\n",
    "    data_all_no_tissue.drop('_loop',axis=1,inplace=True)\n",
    "\n",
    "for tissue in tissue_dict.keys():\n",
    "    if tissue in data_all_no_tissue.columns:\n",
    "        data_all_no_tissue.drop(tissue,axis=1,inplace=True)"
   ]
  },
  {
   "cell_type": "code",
   "execution_count": 17,
   "metadata": {},
   "outputs": [
    {
     "name": "stdout",
     "output_type": "stream",
     "text": [
      "(291006, 802) (291006, 648) 648\n",
      "(291006, 648) (291006, 648)\n"
     ]
    }
   ],
   "source": [
    "# data for problem 1: `data_all_norm_`\n",
    "data_all_1 = data_all_no_tissue#.copy()\n",
    "\n",
    "# # make sure expression is removed\n",
    "# if 'log_exp' in data_all_1.columns:\n",
    "#     data_all_1.drop('log_exp',axis=1,inplace=True)\n",
    "    \n",
    "if 'num_atac_regions' in data_all_1.columns:\n",
    "    data_all_1.drop('num_atac_regions',axis=1,inplace=True)\n",
    "\n",
    "if 'num_snp' in data_all_1.columns:\n",
    "    data_all_1.drop('num_snp',axis=1,inplace=True)\n",
    "\n",
    "    \n",
    "if 'num_loop_counts' in data_all_1.columns:\n",
    "    data_all_1.drop('num_loop_counts',axis=1,inplace=True)\n",
    "\n",
    "if 'num_loops' in data_all_1.columns:\n",
    "    data_all_1.drop('num_loops',axis=1,inplace=True)\n",
    "\n",
    "    \n",
    "# remove zero variance columns and scale rest\n",
    "selector = VarianceThreshold()\n",
    "data_all_varfilt_1 = selector.fit_transform(data_all_1)\n",
    "data_all_varfilt_cols_1 = data_all_1.columns[selector.get_support()]\n",
    "print(data_all_1.shape, data_all_varfilt_1.shape, len(data_all_varfilt_cols_1))\n",
    "scaler = MinMaxScaler()\n",
    "data_all_norm_1 = scaler.fit_transform(data_all_varfilt_1)\n",
    "print(data_all_varfilt_1.shape, data_all_norm_1.shape)\n",
    "    "
   ]
  },
  {
   "cell_type": "code",
   "execution_count": 18,
   "metadata": {},
   "outputs": [],
   "source": [
    "# # data for problem 2: `data_all_norm_2`\n",
    "# data_all_2 = data_all_no_tissue.copy()\n",
    "\n",
    "# # keep gene expression value and the id of the gene itself\n",
    "# data_all_2['log_exp'] = labels_all\n",
    "# data_all_2['gene_num'] = genes_num_all\n",
    "\n",
    "# selector = VarianceThreshold()\n",
    "# data_all_varfilt_2 = selector.fit_transform(data_all_2)\n",
    "# data_all_varfilt_cols_2 = data_all_2.columns[selector.get_support()]\n",
    "# print(data_all_2.shape, data_all_varfilt_2.shape, len(data_all_varfilt_cols_2))\n",
    "# scaler = MinMaxScaler()\n",
    "# data_all_norm_2 = scaler.fit_transform(data_all_varfilt_2)\n",
    "# print(data_all_varfilt_2.shape, data_all_norm_2.shape)"
   ]
  },
  {
   "cell_type": "code",
   "execution_count": 19,
   "metadata": {},
   "outputs": [],
   "source": [
    "save_dir = 'networks/representations_irf_cell_type'\n",
    "if not os.path.exists(save_dir):\n",
    "    os.makedirs(save_dir)"
   ]
  },
  {
   "cell_type": "code",
   "execution_count": 20,
   "metadata": {},
   "outputs": [],
   "source": [
    "# pd.DataFrame(data_all_norm_1, columns=data_all_varfilt_cols_1).to_csv(os.path.join(save_dir, 'data.csv'))\n"
   ]
  },
  {
   "cell_type": "markdown",
   "metadata": {},
   "source": [
    "# A. Problem 1: try irf on housekeeping gene subset of model for each cell type\n",
    "\n",
    "try GDSD3"
   ]
  },
  {
   "cell_type": "markdown",
   "metadata": {},
   "source": [
    "## A.1 split data and run RF\n",
    "\n",
    "based on previous analysis, ideally running irf on 20% of the data will save time and energy\n",
    "\n",
    "so we will only be trying housekeeping genes (n=398)"
   ]
  },
  {
   "cell_type": "code",
   "execution_count": 21,
   "metadata": {},
   "outputs": [
    {
     "name": "stdout",
     "output_type": "stream",
     "text": [
      "7091\n"
     ]
    },
    {
     "data": {
      "text/plain": [
       "107780"
      ]
     },
     "execution_count": 21,
     "metadata": {},
     "output_type": "execute_result"
    }
   ],
   "source": [
    "all_expr_genes_tpm1 = list(pd.read_csv('rnaseq/all_expr_genes_tpm1.csv')['x'])\n",
    "print(len(all_expr_genes_tpm1))\n",
    "\n",
    "gene_in_highexpr_bool = np.isin(genes_all, all_expr_genes_tpm1)\n",
    "gene_in_highexpr_bool_idx = np.where(gene_in_highexpr_bool)[0]\n",
    "len(gene_in_highexpr_bool_idx)"
   ]
  },
  {
   "cell_type": "code",
   "execution_count": 22,
   "metadata": {},
   "outputs": [
    {
     "data": {
      "text/plain": [
       "398"
      ]
     },
     "execution_count": 22,
     "metadata": {},
     "output_type": "execute_result"
    }
   ],
   "source": [
    "# get housekeeping genes\n",
    "housekeeping_df = pd.read_table(os.path.join('annon', 'HSIAO_HOUSEKEEPING_GENES.txt'),skiprows=2, header=None)\n",
    "housekeeping_df.columns = ['genes']\n",
    "housekeeping_genes_list = list(housekeeping_df.genes)\n",
    "len(housekeeping_genes_list)\n",
    "\n",
    "# tss_df_tissue = pd.read_csv('atac_footprinting/tss_footprints/GDSD3_tss_hoco_tf_exp_1000.csv', index_col=0)\n",
    "\n"
   ]
  },
  {
   "cell_type": "markdown",
   "metadata": {},
   "source": [
    "\n",
    "for reference use values (rna spelling)\n",
    "tissue_diffloop_to_rna = {\n",
    "    'Air':'Airway', 'Astro':'Astrocyte', 'Blad':'Bladder', 'Colon':'Colon', 'Eso':'Esophageal', \n",
    "    'GDSD0':'GDSD0', 'GDSD3':'GDSD3', 'GDSD6':'GDSD6', \n",
    "    'GM12878':'GM12878', 'HMEC':'HMEC', 'MC':'Melanocytes', 'Ova':'Ovarian',\n",
    "    'Panc':'Pancreas', 'Pros':'Prostate', 'Renal':'Renal', 'Thy':'Thyroid', 'Uter':'Uterine'\n",
    "}\n"
   ]
  },
  {
   "cell_type": "code",
   "execution_count": 120,
   "metadata": {},
   "outputs": [],
   "source": [
    "rf_tissue = 'GM12878'\n",
    "gene_tissue = 'GM12878'"
   ]
  },
  {
   "cell_type": "code",
   "execution_count": 121,
   "metadata": {},
   "outputs": [
    {
     "name": "stdout",
     "output_type": "stream",
     "text": [
      "506\n"
     ]
    },
    {
     "data": {
      "text/plain": [
       "4607"
      ]
     },
     "execution_count": 121,
     "metadata": {},
     "output_type": "execute_result"
    }
   ],
   "source": [
    "cell_type_genes_tpm1 = pd.read_csv('rnaseq/unique_gene_lists/'+gene_tissue+'_genes.txt',header=None).loc[:,0]\n",
    "print(len(cell_type_genes_tpm1))\n",
    "\n",
    "cell_type_genes_tpm1_bool = np.isin(genes_all, cell_type_genes_tpm1)\n",
    "cell_type_genes_tpm1_bool_idx = np.where(cell_type_genes_tpm1_bool)[0]\n",
    "len(cell_type_genes_tpm1_bool_idx)\n",
    "\n"
   ]
  },
  {
   "cell_type": "code",
   "execution_count": 122,
   "metadata": {},
   "outputs": [
    {
     "data": {
      "text/plain": [
       "6205"
      ]
     },
     "execution_count": 122,
     "metadata": {},
     "output_type": "execute_result"
    }
   ],
   "source": [
    "# takes a long time\n",
    "gene_in_hk_bool = np.isin(genes_all, housekeeping_genes_list)\n",
    "gene_in_hk_bool_idx = np.where(gene_in_hk_bool)[0]\n",
    "len(gene_in_hk_bool_idx)\n"
   ]
  },
  {
   "cell_type": "code",
   "execution_count": 123,
   "metadata": {},
   "outputs": [
    {
     "data": {
      "text/plain": [
       "(17118,)"
      ]
     },
     "execution_count": 123,
     "metadata": {},
     "output_type": "execute_result"
    }
   ],
   "source": [
    "# loop through all data\n",
    "tissue_bool_labels = (tissue_labels==rf_tissue)\n",
    "tissue_bool_idx = np.where(tissue_bool_labels)[0]\n",
    "tissue_bool_idx.shape\n"
   ]
  },
  {
   "cell_type": "code",
   "execution_count": 124,
   "metadata": {},
   "outputs": [
    {
     "name": "stdout",
     "output_type": "stream",
     "text": [
      "4607 291006 0.015831288701951163\n"
     ]
    }
   ],
   "source": [
    "select_idx = cell_type_genes_tpm1_bool_idx#list(set(tissue_bool_idx).intersection(gene_in_hk_bool_idx))\n",
    "print(len(select_idx), data_all_norm_1.shape[0], len(select_idx)/data_all_norm_1.shape[0])\n"
   ]
  },
  {
   "cell_type": "code",
   "execution_count": 125,
   "metadata": {},
   "outputs": [
    {
     "name": "stdout",
     "output_type": "stream",
     "text": [
      "0.05 14550 291006\n"
     ]
    }
   ],
   "source": [
    "#### TESTING #####\n",
    "perc = .05\n",
    "num_sample = int(data_all_norm_1.shape[0]*perc)\n",
    "random_idx = np.random.choice(range(data_all_norm_1.shape[0]),num_sample,replace=False)\n",
    "print(perc, random_idx.shape[0], data_all_norm_1.shape[0])\n",
    "# num_sample = int(select_idx.shape[0]*perc)\n",
    "# random_idx = np.random.choice(select_idx,num_sample,replace=False)\n",
    "# print(perc, random_idx.shape[0], select_idx.shape[0])\n",
    "\n",
    "\n",
    "\n"
   ]
  },
  {
   "cell_type": "code",
   "execution_count": 126,
   "metadata": {},
   "outputs": [
    {
     "data": {
      "text/plain": [
       "Counter({False: 4336, True: 271})"
      ]
     },
     "execution_count": 126,
     "metadata": {},
     "output_type": "execute_result"
    }
   ],
   "source": [
    "Counter(tissue_bool_labels[select_idx])"
   ]
  },
  {
   "cell_type": "code",
   "execution_count": 127,
   "metadata": {},
   "outputs": [
    {
     "name": "stdout",
     "output_type": "stream",
     "text": [
      "Training Features Shape: (3455, 648)\n",
      "Training Labels Shape: (3455,)\n",
      "Testing Features Shape: (1152, 648)\n",
      "Testing Labels Shape: (1152,)\n"
     ]
    }
   ],
   "source": [
    "# Split the data into training and testing sets\n",
    "# train_features, test_features, train_labels, test_labels = train_test_split(data_all_norm_1, labels_all_bin,\n",
    "#                                                                             test_size = 0.25, random_state = 42)\n",
    "\n",
    "# train_features, test_features, train_labels, test_labels = train_test_split(data_all_norm_1[random_idx,:], \n",
    "#                                                                             tissue_bool_labels[random_idx], \n",
    "#                                                                             test_size = 0.25, random_state = 42)\n",
    "\n",
    "train_features, test_features, train_labels, test_labels = train_test_split(data_all_norm_1[select_idx,:], \n",
    "                                                                            tissue_bool_labels[select_idx], \n",
    "                                                                            test_size = 0.25, random_state = 42)\n",
    "\n",
    "\n",
    "\n",
    "print('Training Features Shape:', train_features.shape)\n",
    "print('Training Labels Shape:', train_labels.shape)\n",
    "print('Testing Features Shape:', test_features.shape)\n",
    "print('Testing Labels Shape:', test_labels.shape)\n"
   ]
  },
  {
   "cell_type": "code",
   "execution_count": 128,
   "metadata": {},
   "outputs": [
    {
     "name": "stdout",
     "output_type": "stream",
     "text": [
      "CPU times: user 3.08 s, sys: 116 ms, total: 3.2 s\n",
      "Wall time: 580 ms\n"
     ]
    }
   ],
   "source": [
    "%%time\n",
    "# Create the model with 100 trees\n",
    "model = RandomForestClassifier(n_estimators=100,#50, \n",
    "                               max_features = 'sqrt',\n",
    "                               n_jobs=-1, verbose = 0)\n",
    "# Fit on training data\n",
    "model.fit(train_features, train_labels)\n",
    "# Actual class predictions\n",
    "rf_predictions = model.predict(test_features)\n"
   ]
  },
  {
   "cell_type": "code",
   "execution_count": 129,
   "metadata": {},
   "outputs": [
    {
     "data": {
      "text/plain": [
       "(1152, 2)"
      ]
     },
     "execution_count": 129,
     "metadata": {},
     "output_type": "execute_result"
    }
   ],
   "source": [
    "model.predict_proba(test_features).shape"
   ]
  },
  {
   "cell_type": "code",
   "execution_count": 130,
   "metadata": {},
   "outputs": [
    {
     "name": "stdout",
     "output_type": "stream",
     "text": [
      "0.9765625\n",
      "[[1082    0]\n",
      " [  27   43]]\n",
      "0.9036836546078691\n"
     ]
    },
    {
     "data": {
      "text/plain": [
       "<sklearn.metrics._plot.roc_curve.RocCurveDisplay at 0x7fc6b9393a10>"
      ]
     },
     "execution_count": 130,
     "metadata": {},
     "output_type": "execute_result"
    },
    {
     "data": {
      "image/png": "[encoded data removed]",
      "text/plain": [
       "<Figure size 432x288 with 1 Axes>"
      ]
     },
     "metadata": {
      "needs_background": "light"
     },
     "output_type": "display_data"
    }
   ],
   "source": [
    "# evaluation\n",
    "acc = accuracy_score(test_labels, rf_predictions)\n",
    "print(acc)\n",
    "# Probabilities for each class\n",
    "rf_probs = model.predict_proba(test_features)[:, 1]\n",
    "# Calculate roc auc\n",
    "print(confusion_matrix(test_labels, rf_predictions))\n",
    "roc_value = roc_auc_score(test_labels, rf_probs)\n",
    "print(roc_value)\n",
    "plot_roc_curve(model, test_features, test_labels) \n",
    "# Extract feature importances"
   ]
  },
  {
   "cell_type": "code",
   "execution_count": 131,
   "metadata": {},
   "outputs": [
    {
     "name": "stdout",
     "output_type": "stream",
     "text": [
      "Colon\n",
      "GDSD0\n",
      "Airway\n",
      "GDSD6\n",
      "Pancreas\n",
      "Uterine\n",
      "Ovarian\n",
      "Bladder\n",
      "Melanocytes\n",
      "HMEC\n",
      "Prostate\n",
      "GM12878\n",
      "Renal\n",
      "GDSD3\n",
      "Esophageal\n",
      "Astrocyte\n",
      "Thyroid\n"
     ]
    }
   ],
   "source": [
    "for file in glob.glob('rnaseq/unique_gene_lists/*txt'):\n",
    "    print(os.path.basename(file).split('_')[-2])"
   ]
  },
  {
   "cell_type": "markdown",
   "metadata": {},
   "source": [
    "Log\n",
    "\n",
    "when looking at 5% of highly expressed gene crm data, get about auc .8, , if use all data get auc .87, this is predicting GDSD3\n",
    "0.9465875370919882\n",
    "[[1267    0]\n",
    " [  72    9]]\n",
    "0.8061475050425327\n",
    "\n",
    "(5% of data)\n",
    "\n",
    "pretty good\n",
    "\n",
    "\n",
    "for predicting GDSD6 with GDSD6 specific genes, get auc of .85 (num genes is 256)"
   ]
  },
  {
   "cell_type": "markdown",
   "metadata": {},
   "source": [
    "## A.2: Get all Random Forest and Decision Tree Data\n",
    "Extract in a single dictionary the random forest data and for all of it's decision trees\n",
    "This is as required for RIT purposes"
   ]
  },
  {
   "cell_type": "code",
   "execution_count": 132,
   "metadata": {},
   "outputs": [
    {
     "name": "stdout",
     "output_type": "stream",
     "text": [
      "CPU times: user 35.7 s, sys: 2.54 s, total: 38.3 s\n",
      "Wall time: 38.5 s\n"
     ]
    }
   ],
   "source": [
    "%%time\n",
    "all_rf_tree_data = utils.get_rf_tree_data(\n",
    "    rf=model, X_train=train_features, X_test=test_features, y_test=test_labels)\n",
    "\n",
    "# all_rf_tree_data = get_rf_tree_data(\n",
    "#     rf=model, X_train=train_features, X_test=test_features, y_test=test_labels)"
   ]
  },
  {
   "cell_type": "markdown",
   "metadata": {},
   "source": [
    "## A.3: Get the RIT data and produce RITs\n",
    "\n",
    "RIT = random interaction tree"
   ]
  },
  {
   "cell_type": "code",
   "execution_count": 133,
   "metadata": {},
   "outputs": [],
   "source": [
    "np.random.seed(12)\n",
    "all_rit_tree_data = irf_utils.get_rit_tree_data(\n",
    "    all_rf_tree_data=all_rf_tree_data,\n",
    "    bin_class_type=1,\n",
    "    M=100,\n",
    "    max_depth=2,\n",
    "    noisy_split=False,\n",
    "    num_splits=2)\n",
    "# Perform Manual CHECKS on the irf_utils\n",
    "# These should be converted to unit tests and checked with nosetests -v test_irf_utils.py"
   ]
  },
  {
   "cell_type": "markdown",
   "metadata": {},
   "source": [
    "## A.4: Plot and Evaluate Data\n",
    "### List Ranked Feature Importances"
   ]
  },
  {
   "cell_type": "code",
   "execution_count": 134,
   "metadata": {},
   "outputs": [
    {
     "data": {
      "text/html": [
       "<div>\n",
       "<style scoped>\n",
       "    .dataframe tbody tr th:only-of-type {\n",
       "        vertical-align: middle;\n",
       "    }\n",
       "\n",
       "    .dataframe tbody tr th {\n",
       "        vertical-align: top;\n",
       "    }\n",
       "\n",
       "    .dataframe thead th {\n",
       "        text-align: right;\n",
       "    }\n",
       "</style>\n",
       "<table border=\"1\" class=\"dataframe\">\n",
       "  <thead>\n",
       "    <tr style=\"text-align: right;\">\n",
       "      <th></th>\n",
       "      <th>rank</th>\n",
       "      <th>feature</th>\n",
       "      <th>score</th>\n",
       "    </tr>\n",
       "  </thead>\n",
       "  <tbody>\n",
       "    <tr>\n",
       "      <td>0</td>\n",
       "      <td>1</td>\n",
       "      <td>SPIB_loop</td>\n",
       "      <td>0.073172</td>\n",
       "    </tr>\n",
       "    <tr>\n",
       "      <td>1</td>\n",
       "      <td>2</td>\n",
       "      <td>EGR2_loop</td>\n",
       "      <td>0.061718</td>\n",
       "    </tr>\n",
       "    <tr>\n",
       "      <td>2</td>\n",
       "      <td>3</td>\n",
       "      <td>IRF4_loop</td>\n",
       "      <td>0.044318</td>\n",
       "    </tr>\n",
       "    <tr>\n",
       "      <td>3</td>\n",
       "      <td>4</td>\n",
       "      <td>TBX21_loop</td>\n",
       "      <td>0.032977</td>\n",
       "    </tr>\n",
       "    <tr>\n",
       "      <td>4</td>\n",
       "      <td>5</td>\n",
       "      <td>SP4_loop</td>\n",
       "      <td>0.029375</td>\n",
       "    </tr>\n",
       "    <tr>\n",
       "      <td>...</td>\n",
       "      <td>...</td>\n",
       "      <td>...</td>\n",
       "      <td>...</td>\n",
       "    </tr>\n",
       "    <tr>\n",
       "      <td>643</td>\n",
       "      <td>644</td>\n",
       "      <td>HIC1_anc</td>\n",
       "      <td>0.000000</td>\n",
       "    </tr>\n",
       "    <tr>\n",
       "      <td>644</td>\n",
       "      <td>645</td>\n",
       "      <td>SOX5_anc</td>\n",
       "      <td>0.000000</td>\n",
       "    </tr>\n",
       "    <tr>\n",
       "      <td>645</td>\n",
       "      <td>646</td>\n",
       "      <td>GRHL2_anc</td>\n",
       "      <td>0.000000</td>\n",
       "    </tr>\n",
       "    <tr>\n",
       "      <td>646</td>\n",
       "      <td>647</td>\n",
       "      <td>GFI1_anc</td>\n",
       "      <td>0.000000</td>\n",
       "    </tr>\n",
       "    <tr>\n",
       "      <td>647</td>\n",
       "      <td>648</td>\n",
       "      <td>ZSCAN31_loop</td>\n",
       "      <td>0.000000</td>\n",
       "    </tr>\n",
       "  </tbody>\n",
       "</table>\n",
       "<p>648 rows × 3 columns</p>\n",
       "</div>"
      ],
      "text/plain": [
       "     rank       feature     score\n",
       "0       1     SPIB_loop  0.073172\n",
       "1       2     EGR2_loop  0.061718\n",
       "2       3     IRF4_loop  0.044318\n",
       "3       4    TBX21_loop  0.032977\n",
       "4       5      SP4_loop  0.029375\n",
       "..    ...           ...       ...\n",
       "643   644      HIC1_anc  0.000000\n",
       "644   645      SOX5_anc  0.000000\n",
       "645   646     GRHL2_anc  0.000000\n",
       "646   647      GFI1_anc  0.000000\n",
       "647   648  ZSCAN31_loop  0.000000\n",
       "\n",
       "[648 rows x 3 columns]"
      ]
     },
     "execution_count": 134,
     "metadata": {},
     "output_type": "execute_result"
    }
   ],
   "source": [
    "# Print the feature ranking (from irf)\n",
    "# print(\"Feature ranking:\")\n",
    "\n",
    "feature_importances_rank_idx = all_rf_tree_data['feature_importances_rank_idx']\n",
    "feature_importances = all_rf_tree_data['feature_importances']\n",
    "\n",
    "pd.DataFrame({'rank': range(1,train_features.shape[1]+1),\n",
    "             'feature': data_all_varfilt_cols_1[feature_importances_rank_idx],\n",
    "             'score':feature_importances[feature_importances_rank_idx]})\n",
    "# for f in range(train_features.shape[1]):\n",
    "#     print(\"%d. feature %s (%f)\" % (f + 1\n",
    "#                                    , data_all_varfilt_cols_1[feature_importances_rank_idx][f]\n",
    "#                                    , feature_importances[feature_importances_rank_idx[f]]))"
   ]
  },
  {
   "cell_type": "code",
   "execution_count": 135,
   "metadata": {},
   "outputs": [
    {
     "data": {
      "text/html": [
       "<div>\n",
       "<style scoped>\n",
       "    .dataframe tbody tr th:only-of-type {\n",
       "        vertical-align: middle;\n",
       "    }\n",
       "\n",
       "    .dataframe tbody tr th {\n",
       "        vertical-align: top;\n",
       "    }\n",
       "\n",
       "    .dataframe thead th {\n",
       "        text-align: right;\n",
       "    }\n",
       "</style>\n",
       "<table border=\"1\" class=\"dataframe\">\n",
       "  <thead>\n",
       "    <tr style=\"text-align: right;\">\n",
       "      <th></th>\n",
       "      <th>feature</th>\n",
       "      <th>importance</th>\n",
       "    </tr>\n",
       "  </thead>\n",
       "  <tbody>\n",
       "    <tr>\n",
       "      <td>443</td>\n",
       "      <td>SPIB_loop</td>\n",
       "      <td>0.073172</td>\n",
       "    </tr>\n",
       "    <tr>\n",
       "      <td>77</td>\n",
       "      <td>EGR2_loop</td>\n",
       "      <td>0.061718</td>\n",
       "    </tr>\n",
       "    <tr>\n",
       "      <td>197</td>\n",
       "      <td>IRF4_loop</td>\n",
       "      <td>0.044318</td>\n",
       "    </tr>\n",
       "    <tr>\n",
       "      <td>467</td>\n",
       "      <td>TBX21_loop</td>\n",
       "      <td>0.032977</td>\n",
       "    </tr>\n",
       "    <tr>\n",
       "      <td>441</td>\n",
       "      <td>SP4_loop</td>\n",
       "      <td>0.029375</td>\n",
       "    </tr>\n",
       "    <tr>\n",
       "      <td>73</td>\n",
       "      <td>EBF1_loop</td>\n",
       "      <td>0.023383</td>\n",
       "    </tr>\n",
       "    <tr>\n",
       "      <td>257</td>\n",
       "      <td>MEF2C_loop</td>\n",
       "      <td>0.023310</td>\n",
       "    </tr>\n",
       "    <tr>\n",
       "      <td>513</td>\n",
       "      <td>TP73_loop</td>\n",
       "      <td>0.021849</td>\n",
       "    </tr>\n",
       "    <tr>\n",
       "      <td>189</td>\n",
       "      <td>IKZF1_loop</td>\n",
       "      <td>0.016745</td>\n",
       "    </tr>\n",
       "    <tr>\n",
       "      <td>229</td>\n",
       "      <td>LEF1_loop</td>\n",
       "      <td>0.014944</td>\n",
       "    </tr>\n",
       "  </tbody>\n",
       "</table>\n",
       "</div>"
      ],
      "text/plain": [
       "        feature  importance\n",
       "443   SPIB_loop    0.073172\n",
       "77    EGR2_loop    0.061718\n",
       "197   IRF4_loop    0.044318\n",
       "467  TBX21_loop    0.032977\n",
       "441    SP4_loop    0.029375\n",
       "73    EBF1_loop    0.023383\n",
       "257  MEF2C_loop    0.023310\n",
       "513   TP73_loop    0.021849\n",
       "189  IKZF1_loop    0.016745\n",
       "229   LEF1_loop    0.014944"
      ]
     },
     "execution_count": 135,
     "metadata": {},
     "output_type": "execute_result"
    }
   ],
   "source": [
    "# compare to what sklearn directly outputs\n",
    "fi = pd.DataFrame({'feature': list(data_all_varfilt_cols_1),\n",
    "                   'importance': model.feature_importances_}).\\\n",
    "                    sort_values('importance', ascending = False)\n",
    "\n",
    "# Display\n",
    "fi.head(10)"
   ]
  },
  {
   "cell_type": "markdown",
   "metadata": {},
   "source": [
    "### Plot Ranked Feature Importances"
   ]
  },
  {
   "cell_type": "code",
   "execution_count": 136,
   "metadata": {},
   "outputs": [],
   "source": [
    "# # Plot the feature importances of the forest\n",
    "# feature_importances_std = all_rf_tree_data['feature_importances_std']\n",
    "\n",
    "# plt.title(\"Feature importances\")\n",
    "# plt.bar(range(train_features.shape[1])\n",
    "#         , feature_importances[feature_importances_rank_idx]\n",
    "#         , color=\"r\"\n",
    "#         , yerr = feature_importances_std[feature_importances_rank_idx], align=\"center\")\n",
    "# plt.xticks(range(train_features.shape[1]), feature_importances_rank_idx)\n",
    "# plt.xlim([-1, train_features.shape[1]])\n",
    "# plt.show()"
   ]
  },
  {
   "cell_type": "markdown",
   "metadata": {},
   "source": [
    "## A.5: Run the iRF function!\n"
   ]
  },
  {
   "cell_type": "markdown",
   "metadata": {},
   "source": [
    "We will run the iRF with the following parameters\n",
    "Data:\n",
    "- CRM data\n",
    "- random state (for reproducibility): 2018\n",
    "Weighted RFs\n",
    "- K: 5 iterations\n",
    "- number of trees: 20\n",
    "Bootstrap RFs\n",
    "- proportion of bootstrap samples: 20%\n",
    "- B: 30 bootstrap samples\n",
    "- number of trees (bootstrap RFs): 5 iterations\n",
    "RITs (on the bootstrap RFs)\n",
    "- M: 20 RITs per forest\n",
    "- filter label type: 1-class only\n",
    "- Max Depth: 5\n",
    "- Noisy Split: False\n",
    "- Number of splits at Node: 2 splits\n",
    "\n",
    "\n",
    "#### Running the iRF is easy - single function call\n",
    "All of the bootstrap, RIT complexity is covered through the key parameters passed through in the main algorithm (as listed above)\n",
    "This function call returns the following data:\n",
    "m score\n",
    "\n",
    "This is a lot of data returned! Will be useful when they build the interface later"
   ]
  },
  {
   "cell_type": "code",
   "execution_count": 137,
   "metadata": {},
   "outputs": [
    {
     "name": "stdout",
     "output_type": "stream",
     "text": [
      "CPU times: user 5min, sys: 16.7 s, total: 5min 17s\n",
      "Wall time: 5min 17s\n"
     ]
    }
   ],
   "source": [
    "%%time\n",
    "all_rf_weights, all_K_iter_rf_data, \\\n",
    "all_rf_bootstrap_output, all_rit_bootstrap_output, \\\n",
    "stability_score = irf_utils.run_iRF(X_train=train_features,\n",
    "                                    X_test=test_features,\n",
    "                                    y_train=train_labels,\n",
    "                                    y_test=test_labels,\n",
    "                                    K=10,\n",
    "                                    rf=RandomForestClassifierWithWeights(n_estimators=100),\n",
    "                                    B=30,\n",
    "                                    random_state_classifier=2018,\n",
    "                                    propn_n_samples=.2,\n",
    "                                    bin_class_type=1,\n",
    "                                    M=25,\n",
    "                                    max_depth=5,\n",
    "                                    noisy_split=False,\n",
    "                                    num_splits=2,\n",
    "                                    n_estimators_bootstrap=5)"
   ]
  },
  {
   "cell_type": "markdown",
   "metadata": {},
   "source": [
    "THIS IS WHAT WE CARE ABOUT `stability_score`"
   ]
  },
  {
   "cell_type": "code",
   "execution_count": 138,
   "metadata": {},
   "outputs": [
    {
     "data": {
      "text/plain": [
       "Index(['AHR_anc', 'AHR_loop', 'ALX1_anc', 'ALX1_loop', 'ARID5B_anc',\n",
       "       'ARID5B_loop', 'ARNTL_anc', 'ARNTL_loop', 'ARNT_anc', 'ARNT_loop',\n",
       "       ...\n",
       "       'ZNF76_anc', 'ZNF76_loop', 'ZNF770_anc', 'ZNF770_loop', 'ZNF816_anc',\n",
       "       'ZNF816_loop', 'ZNF85_anc', 'ZNF85_loop', 'ZSCAN31_anc',\n",
       "       'ZSCAN31_loop'],\n",
       "      dtype='object', length=648)"
      ]
     },
     "execution_count": 138,
     "metadata": {},
     "output_type": "execute_result"
    }
   ],
   "source": [
    "data_all_varfilt_cols_1"
   ]
  },
  {
   "cell_type": "code",
   "execution_count": 139,
   "metadata": {},
   "outputs": [
    {
     "name": "stdout",
     "output_type": "stream",
     "text": [
      "networks/representations_irf_cell_type/test_GM12878_GM12878_stability_score.csv\n"
     ]
    },
    {
     "name": "stderr",
     "output_type": "stream",
     "text": [
      "/Users/mguo123/opt/anaconda3/lib/python3.7/site-packages/ipykernel_launcher.py:8: FutureWarning: The signature of `Series.to_csv` was aligned to that of `DataFrame.to_csv`, and argument 'header' will change its default value from False to True: please pass an explicit value to suppress this warning.\n",
      "  \n"
     ]
    },
    {
     "data": {
      "text/plain": [
       "SPIB_loop                                              0.866667\n",
       "EGR2_loop                                              0.800000\n",
       "EGR2_loop::SPIB_loop                                   0.666667\n",
       "EGR2_loop::PATZ1_loop                                  0.566667\n",
       "EGR2_loop::PATZ1_loop::SPIB_loop                       0.400000\n",
       "                                                         ...   \n",
       "PATZ1_loop::RUNX3_loop::SPIB_loop                      0.033333\n",
       "IRF4_loop::KLF5_loop::PATZ1_loop::SP4_anc::SP4_loop    0.033333\n",
       "FLI1_loop::IRF4_loop::LYL1_loop::SP4_loop              0.033333\n",
       "IRF4_loop::PATZ1_loop::SP4_anc::SP4_loop               0.033333\n",
       "EGR2_loop::IRF7_loop::OSR2_anc::SPIB_loop              0.033333\n",
       "Length: 259, dtype: float64"
      ]
     },
     "execution_count": 139,
     "metadata": {},
     "output_type": "execute_result"
    }
   ],
   "source": [
    "stability_score_names = {}\n",
    "for feat_idx, score in sorted(stability_score.items(),key=lambda x:x[1],reverse=True):\n",
    "    feat_names_arr = [data_all_varfilt_cols_1[int(x)] for x in feat_idx.split('_')]\n",
    "    feat_names = '::'.join(feat_names_arr)\n",
    "    stability_score_names[feat_names] = score\n",
    "stability_df = pd.Series(stability_score_names)\n",
    "save_file = os.path.join(save_dir, 'test_'+rf_tissue+'_' + gene_tissue + '_stability_score.csv')\n",
    "stability_df.to_csv(save_file)\n",
    "print(save_file)\n",
    "stability_df"
   ]
  },
  {
   "cell_type": "code",
   "execution_count": 140,
   "metadata": {},
   "outputs": [],
   "source": [
    "# freq_feat = pd.DataFrame(train_features, columns=data_all_varfilt_cols_1).sum(axis=0).sort_values(ascending=False)\n",
    "# pd.DataFrame(freq_feat)[:20]"
   ]
  },
  {
   "cell_type": "code",
   "execution_count": 141,
   "metadata": {},
   "outputs": [
    {
     "data": {
      "text/html": [
       "<div>\n",
       "<style scoped>\n",
       "    .dataframe tbody tr th:only-of-type {\n",
       "        vertical-align: middle;\n",
       "    }\n",
       "\n",
       "    .dataframe tbody tr th {\n",
       "        vertical-align: top;\n",
       "    }\n",
       "\n",
       "    .dataframe thead th {\n",
       "        text-align: right;\n",
       "    }\n",
       "</style>\n",
       "<table border=\"1\" class=\"dataframe\">\n",
       "  <thead>\n",
       "    <tr style=\"text-align: right;\">\n",
       "      <th></th>\n",
       "      <th>0</th>\n",
       "    </tr>\n",
       "  </thead>\n",
       "  <tbody>\n",
       "    <tr>\n",
       "      <td>SPIB_loop</td>\n",
       "      <td>0.866667</td>\n",
       "    </tr>\n",
       "    <tr>\n",
       "      <td>EGR2_loop</td>\n",
       "      <td>0.800000</td>\n",
       "    </tr>\n",
       "    <tr>\n",
       "      <td>EGR2_loop::SPIB_loop</td>\n",
       "      <td>0.666667</td>\n",
       "    </tr>\n",
       "    <tr>\n",
       "      <td>EGR2_loop::PATZ1_loop</td>\n",
       "      <td>0.566667</td>\n",
       "    </tr>\n",
       "    <tr>\n",
       "      <td>EGR2_loop::PATZ1_loop::SPIB_loop</td>\n",
       "      <td>0.400000</td>\n",
       "    </tr>\n",
       "    <tr>\n",
       "      <td>IRF4_loop</td>\n",
       "      <td>0.300000</td>\n",
       "    </tr>\n",
       "    <tr>\n",
       "      <td>EGR2_loop::IRF4_loop::SPIB_loop</td>\n",
       "      <td>0.300000</td>\n",
       "    </tr>\n",
       "    <tr>\n",
       "      <td>EGR2_loop::ZNF467_loop</td>\n",
       "      <td>0.300000</td>\n",
       "    </tr>\n",
       "    <tr>\n",
       "      <td>IRF4_loop::SPIB_loop</td>\n",
       "      <td>0.300000</td>\n",
       "    </tr>\n",
       "    <tr>\n",
       "      <td>EGR2_loop::SPIB_loop::TP73_loop</td>\n",
       "      <td>0.200000</td>\n",
       "    </tr>\n",
       "    <tr>\n",
       "      <td>EGR2_loop::SP4_loop</td>\n",
       "      <td>0.200000</td>\n",
       "    </tr>\n",
       "    <tr>\n",
       "      <td>EGR2_loop::SP4_loop::SPIB_loop</td>\n",
       "      <td>0.166667</td>\n",
       "    </tr>\n",
       "    <tr>\n",
       "      <td>EGR2_loop::SPIB_loop::TBX21_loop</td>\n",
       "      <td>0.166667</td>\n",
       "    </tr>\n",
       "    <tr>\n",
       "      <td>SPIB_loop::TBX21_loop</td>\n",
       "      <td>0.166667</td>\n",
       "    </tr>\n",
       "    <tr>\n",
       "      <td>EGR2_loop::IRF4_loop</td>\n",
       "      <td>0.166667</td>\n",
       "    </tr>\n",
       "    <tr>\n",
       "      <td>EGR2_loop::SPIB_loop::TBX21_anc</td>\n",
       "      <td>0.133333</td>\n",
       "    </tr>\n",
       "    <tr>\n",
       "      <td>PATZ1_loop</td>\n",
       "      <td>0.133333</td>\n",
       "    </tr>\n",
       "    <tr>\n",
       "      <td>EGR2_loop::IRF4_loop::PATZ1_loop</td>\n",
       "      <td>0.133333</td>\n",
       "    </tr>\n",
       "    <tr>\n",
       "      <td>MEF2C_loop::SPIB_loop</td>\n",
       "      <td>0.133333</td>\n",
       "    </tr>\n",
       "    <tr>\n",
       "      <td>EGR2_loop::LYL1_loop::SPIB_loop</td>\n",
       "      <td>0.100000</td>\n",
       "    </tr>\n",
       "  </tbody>\n",
       "</table>\n",
       "</div>"
      ],
      "text/plain": [
       "                                         0\n",
       "SPIB_loop                         0.866667\n",
       "EGR2_loop                         0.800000\n",
       "EGR2_loop::SPIB_loop              0.666667\n",
       "EGR2_loop::PATZ1_loop             0.566667\n",
       "EGR2_loop::PATZ1_loop::SPIB_loop  0.400000\n",
       "IRF4_loop                         0.300000\n",
       "EGR2_loop::IRF4_loop::SPIB_loop   0.300000\n",
       "EGR2_loop::ZNF467_loop            0.300000\n",
       "IRF4_loop::SPIB_loop              0.300000\n",
       "EGR2_loop::SPIB_loop::TP73_loop   0.200000\n",
       "EGR2_loop::SP4_loop               0.200000\n",
       "EGR2_loop::SP4_loop::SPIB_loop    0.166667\n",
       "EGR2_loop::SPIB_loop::TBX21_loop  0.166667\n",
       "SPIB_loop::TBX21_loop             0.166667\n",
       "EGR2_loop::IRF4_loop              0.166667\n",
       "EGR2_loop::SPIB_loop::TBX21_anc   0.133333\n",
       "PATZ1_loop                        0.133333\n",
       "EGR2_loop::IRF4_loop::PATZ1_loop  0.133333\n",
       "MEF2C_loop::SPIB_loop             0.133333\n",
       "EGR2_loop::LYL1_loop::SPIB_loop   0.100000"
      ]
     },
     "execution_count": 141,
     "metadata": {},
     "output_type": "execute_result"
    }
   ],
   "source": [
    "pd.DataFrame(stability_df)[:20]"
   ]
  },
  {
   "cell_type": "markdown",
   "metadata": {},
   "source": [
    "### Examine the stability scores"
   ]
  },
  {
   "cell_type": "code",
   "execution_count": null,
   "metadata": {},
   "outputs": [],
   "source": [
    "irf_jupyter_utils._get_histogram(stability_score, sort = True)"
   ]
  },
  {
   "cell_type": "markdown",
   "metadata": {},
   "source": [
    "### Examine feature importances\n",
    "In particular, let us see how they change over the K iterations of random forest"
   ]
  },
  {
   "cell_type": "code",
   "execution_count": 176,
   "metadata": {},
   "outputs": [],
   "source": [
    "# for k in range(1, 6): \n",
    "    \n",
    "#     iteration = \"rf_iter{}\".format(k)\n",
    "    \n",
    "#     feature_importances_std = all_K_iter_rf_data[iteration]['feature_importances_std']\n",
    "#     feature_importances_rank_idx = all_K_iter_rf_data[iteration]['feature_importances_rank_idx']\n",
    "#     feature_importances = all_K_iter_rf_data[iteration]['feature_importances']\n",
    "\n",
    "#     plt.figure(figsize=(8, 6))\n",
    "#     title = \"Feature importances; iteration = {}\".format(k)\n",
    "#     plt.title(title)\n",
    "#     plt.bar(range(train_features.shape[1])\n",
    "#             , feature_importances[feature_importances_rank_idx]\n",
    "#             , color=\"r\"\n",
    "#             , yerr = feature_importances_std[feature_importances_rank_idx], align=\"center\")\n",
    "#     plt.xticks(range(train_features.shape[1]), feature_importances_rank_idx, rotation='vertical')\n",
    "#     plt.xlim([-1, train_features.shape[1]])\n",
    "#     plt.show()"
   ]
  },
  {
   "cell_type": "markdown",
   "metadata": {},
   "source": [
    "## A.6 Explore iRF Data Further\n",
    "We can look at the decision paths of the Kth RF\n",
    "Let's look at the final iteration RF - the key validation metrics"
   ]
  },
  {
   "cell_type": "code",
   "execution_count": 91,
   "metadata": {},
   "outputs": [
    {
     "name": "stdout",
     "output_type": "stream",
     "text": [
      "{   'accuracy_score': 0.7256,\n",
      "    'confusion_matrix': array([[ 777,  370],\n",
      "       [ 316, 1037]]),\n",
      "    'f1_score': 0.7514492753623188,\n",
      "    'hamming_loss': 0.2744,\n",
      "    'log_loss': 9.477558583183162,\n",
      "    'precision_score': 0.7370291400142146,\n",
      "    'recall_score': 0.7664449371766445,\n",
      "    'zero_one_loss': 0.2744}\n"
     ]
    }
   ],
   "source": [
    "irf_jupyter_utils.pretty_print_dict(all_K_iter_rf_data['rf_iter5']['rf_validation_metrics'])\n",
    "# {   'accuracy_score': 0.9649122807017544,\n",
    "#     'confusion_matrix': array([[12,  2],\n",
    "#        [ 0, 43]]),\n",
    "#     'f1_score': 0.9772727272727273,\n",
    "#     'hamming_loss': 0.03508771929824561,\n",
    "#     'log_loss': 1.2119149470996806,\n",
    "#     'precision_score': 0.9555555555555556,\n",
    "#     'recall_score': 1.0,\n",
    "#     'zero_one_loss': 0.03508771929824561}"
   ]
  },
  {
   "cell_type": "markdown",
   "metadata": {},
   "source": [
    "Now plot the trees individually"
   ]
  },
  {
   "cell_type": "code",
   "execution_count": 92,
   "metadata": {},
   "outputs": [],
   "source": [
    "#irf_jupyter_utils.draw_tree(decision_tree = all_K_iter_rf_data['rf_iter5']['rf_obj'].estimators_[0])"
   ]
  },
  {
   "cell_type": "markdown",
   "metadata": {},
   "source": [
    "We can get this data quite easily in a convenient format"
   ]
  },
  {
   "cell_type": "code",
   "execution_count": null,
   "metadata": {},
   "outputs": [],
   "source": [
    "# irf_jupyter_utils.pretty_print_dict(\n",
    "#     all_K_iter_rf_data['rf_iter5']['dtree0']['all_leaf_paths_features'])"
   ]
  },
  {
   "cell_type": "markdown",
   "metadata": {},
   "source": [
    "Notes comparing above combination against decision paths"
   ]
  },
  {
   "cell_type": "markdown",
   "metadata": {},
   "source": [
    "In fact - we can go further and plot some interesting data from the Decision Trees. This can help us understand variable interactions better"
   ]
  },
  {
   "cell_type": "code",
   "execution_count": null,
   "metadata": {},
   "outputs": [],
   "source": [
    "irf_jupyter_utils.pretty_print_dict(\n",
    "    all_K_iter_rf_data['rf_iter5']['dtree0']['all_leaf_node_values'])"
   ]
  },
  {
   "cell_type": "markdown",
   "metadata": {},
   "source": [
    "We can also look at the frequency that a feature appears along a decision path"
   ]
  },
  {
   "cell_type": "code",
   "execution_count": null,
   "metadata": {},
   "outputs": [],
   "source": [
    "irf_jupyter_utils._hist_features(all_K_iter_rf_data['rf_iter5'], n_estimators = 20, \\\n",
    "                         title = 'Frequency of features along decision paths : iteration = 5')"
   ]
  },
  {
   "cell_type": "markdown",
   "metadata": {},
   "source": [
    "### Run some Sanity Checks\n",
    "Run iRF for just 1 iteration - should be the uniform sampling version\n",
    "This is just a sanity check: the feature importances from iRF after 1 iteration should match the feature importance from running a standard RF\n",
    "    "
   ]
  },
  {
   "cell_type": "code",
   "execution_count": null,
   "metadata": {},
   "outputs": [],
   "source": [
    "all_K_iter_rf_data.keys()\n",
    "print(all_K_iter_rf_data['rf_iter1']['feature_importances'])"
   ]
  },
  {
   "cell_type": "markdown",
   "metadata": {},
   "source": [
    "Compare to the original single fitted random forest"
   ]
  },
  {
   "cell_type": "code",
   "execution_count": null,
   "metadata": {},
   "outputs": [],
   "source": [
    "# rf = RandomForestClassifierWithWeights(n_estimators=20, random_state=2018)\n",
    "# rf.fit(X=X_train, y=y_train)\n",
    "print(model.feature_importances_)"
   ]
  },
  {
   "cell_type": "markdown",
   "metadata": {},
   "source": [
    "Notes: And they match ____(well?) as expected.\n"
   ]
  }
 ],
 "metadata": {
  "kernelspec": {
   "display_name": "Python 3",
   "language": "python",
   "name": "python3"
  },
  "language_info": {
   "codemirror_mode": {
    "name": "ipython",
    "version": 3
   },
   "file_extension": ".py",
   "mimetype": "text/x-python",
   "name": "python",
   "nbconvert_exporter": "python",
   "pygments_lexer": "ipython3",
   "version": "3.7.4"
  }
 },
 "nbformat": 4,
 "nbformat_minor": 4
}
