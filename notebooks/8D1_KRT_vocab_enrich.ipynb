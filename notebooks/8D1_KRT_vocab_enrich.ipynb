{
 "cells": [
  {
   "cell_type": "markdown",
   "metadata": {},
   "source": [
    "08/04/2020\n",
    "\n",
    "Keratinocyte Vocab Finder"
   ]
  },
  {
   "cell_type": "code",
   "execution_count": 1,
   "metadata": {},
   "outputs": [],
   "source": [
    "# basic packages\n",
    "import os, glob\n",
    "import pandas as pd\n",
    "import numpy as np; np.random.seed(0)\n",
    "import itertools\n",
    "from collections import Counter, defaultdict\n",
    "import time\n",
    "# Import tools needed for visualization\n",
    "import seaborn as sns; sns.set()\n",
    "import matplotlib\n",
    "import matplotlib.pyplot as plt"
   ]
  },
  {
   "cell_type": "code",
   "execution_count": 2,
   "metadata": {},
   "outputs": [],
   "source": [
    "save_dir = '../data/processed/fig4_modelling/vocab_sum/'\n",
    "if not os.path.exists(save_dir):\n",
    "    os.makedirs(save_dir)"
   ]
  },
  {
   "cell_type": "code",
   "execution_count": 3,
   "metadata": {},
   "outputs": [],
   "source": [
    "TISSUE = 'GDSD6'"
   ]
  },
  {
   "cell_type": "code",
   "execution_count": 4,
   "metadata": {},
   "outputs": [],
   "source": [
    "MAX_DIST=135\n"
   ]
  },
  {
   "cell_type": "code",
   "execution_count": 5,
   "metadata": {},
   "outputs": [
    {
     "name": "stdout",
     "output_type": "stream",
     "text": [
      "97\n",
      "['ATF1', 'ATF2', 'ATF3', 'ATF4', 'ATF5', 'BARX2', 'CEBPA', 'CEBPG', 'DLX3', 'DLX5', 'E2F1', 'E2F3', 'E2F4', 'E2F7', 'ELF5', 'ESRRA', 'ETS1', 'ETV4', 'FOS', 'FOSL1', 'FOSL2', 'FOXF2', 'FOXK2', 'FOXP1', 'GRHL1', 'GRHL2', 'HES1', 'HES2', 'HOMEZ', 'HOXA1', 'HOXC11', 'HOXC13', 'ID3', 'IRX2', 'IRX4', 'JUN', 'JUNB', 'JUND', 'KER2', 'KLF16', 'KLF4', 'KLF5', 'LDB2', 'MAF', 'MAFB', 'MAML3', 'NR3C1', 'OTX1', 'OVOL1', 'PBX1', 'PBX2', 'POU1F1', 'POU2F1', 'POU2F2', 'POU2F3', 'POU3F1', 'POU3F2', 'POU3F3', 'POU3F4', 'POU4F1', 'POU4F2', 'POU4F3', 'POU5F1', 'POU5F1B', 'POU6F1', 'POU6F2', 'PRDM1', 'PRRX1', 'RARG', 'RELB', 'RORA', 'RUNX1', 'SMAD4', 'SOX11', 'SOX15', 'SOX6', 'SOX7', 'SOX9', 'SP1', 'SP3', 'STAT1', 'STAT6', 'TCF4', 'TCF7L2', 'TFAP2A', 'TFAP2B', 'TFAP2C', 'TFAP2D', 'TFDP1', 'TP63', 'TWIST2', 'VDR', 'VGLL1', 'XBP1', 'ZBTB7B', 'ZEB1', 'ZNF219']\n"
     ]
    }
   ],
   "source": [
    "#get tfs\n",
    "tf_df = pd.read_csv('../data/external/transcription_factor_info_063020.csv')\n",
    "TFS = sorted(set(tf_df[tf_df['cell_type']=='Keratinocytes'][\"tf\"]))##### DIFFERENT FOR EACH TISSUE\n",
    "print(len(TFS))\n",
    "print(TFS)\n"
   ]
  },
  {
   "cell_type": "code",
   "execution_count": 6,
   "metadata": {},
   "outputs": [],
   "source": [
    "vocab_dir = '../data/processed/fig4_modelling/tf_tf_pairs/'"
   ]
  },
  {
   "cell_type": "markdown",
   "metadata": {},
   "source": [
    "read in loop_types"
   ]
  },
  {
   "cell_type": "code",
   "execution_count": 7,
   "metadata": {},
   "outputs": [
    {
     "data": {
      "text/plain": [
       "['../data/processed/fig4_modelling/tf_tf_pairs/expr_Astrocytes_loop_type.csv',\n",
       " '../data/processed/fig4_modelling/tf_tf_pairs/expr_GM12878_loop_type.csv',\n",
       " '../data/processed/fig4_modelling/tf_tf_pairs/expr_Thyroid_loop_type.csv',\n",
       " '../data/processed/fig4_modelling/tf_tf_pairs/expr_GDSD0_loop_type.csv',\n",
       " '../data/processed/fig4_modelling/tf_tf_pairs/unique_Astrocytes_loop_type.csv',\n",
       " '../data/processed/fig4_modelling/tf_tf_pairs/expr_Esophageal_loop_type.csv',\n",
       " '../data/processed/fig4_modelling/tf_tf_pairs/unique_HMEC_loop_type.csv',\n",
       " '../data/processed/fig4_modelling/tf_tf_pairs/unique_Esophageal_loop_type.csv',\n",
       " '../data/processed/fig4_modelling/tf_tf_pairs/expr_Prostate_loop_type.csv',\n",
       " '../data/processed/fig4_modelling/tf_tf_pairs/expr_GDSD3_loop_type.csv',\n",
       " '../data/processed/fig4_modelling/tf_tf_pairs/expr_Colon_loop_type.csv',\n",
       " '../data/processed/fig4_modelling/tf_tf_pairs/unique_Ovarian_loop_type.csv',\n",
       " '../data/processed/fig4_modelling/tf_tf_pairs/expr_Airway_loop_type.csv',\n",
       " '../data/processed/fig4_modelling/tf_tf_pairs/unique_Uterine_loop_type.csv',\n",
       " '../data/processed/fig4_modelling/tf_tf_pairs/unique_Melanocytes_loop_type.csv',\n",
       " '../data/processed/fig4_modelling/tf_tf_pairs/unique_Bladder_loop_type.csv',\n",
       " '../data/processed/fig4_modelling/tf_tf_pairs/expr_Bladder_loop_type.csv',\n",
       " '../data/processed/fig4_modelling/tf_tf_pairs/expr_Melanocytes_loop_type.csv',\n",
       " '../data/processed/fig4_modelling/tf_tf_pairs/expr_Uterine_loop_type.csv',\n",
       " '../data/processed/fig4_modelling/tf_tf_pairs/expr_Pancreas_loop_type.csv',\n",
       " '../data/processed/fig4_modelling/tf_tf_pairs/expr_Renal_loop_type.csv',\n",
       " '../data/processed/fig4_modelling/tf_tf_pairs/unique_Renal_loop_type.csv',\n",
       " '../data/processed/fig4_modelling/tf_tf_pairs/expr_Ovarian_loop_type.csv',\n",
       " '../data/processed/fig4_modelling/tf_tf_pairs/unique_GDSD6_loop_type.csv',\n",
       " '../data/processed/fig4_modelling/tf_tf_pairs/expr_GDSD6_loop_type.csv',\n",
       " '../data/processed/fig4_modelling/tf_tf_pairs/unique_Prostate_loop_type.csv',\n",
       " '../data/processed/fig4_modelling/tf_tf_pairs/expr_HMEC_loop_type.csv',\n",
       " '../data/processed/fig4_modelling/tf_tf_pairs/unique_Thyroid_loop_type.csv',\n",
       " '../data/processed/fig4_modelling/tf_tf_pairs/unique_GM12878_loop_type.csv']"
      ]
     },
     "execution_count": 7,
     "metadata": {},
     "output_type": "execute_result"
    }
   ],
   "source": [
    "glob.glob('../data/processed/fig4_modelling/tf_tf_pairs/'+'*loop_type*')"
   ]
  },
  {
   "cell_type": "markdown",
   "metadata": {},
   "source": [
    "# 1 understand the types of vocabularies pulled out and where they come from\n",
    "\n",
    "## 1A. enriched vocabularies from unique tissue genes"
   ]
  },
  {
   "cell_type": "code",
   "execution_count": 8,
   "metadata": {},
   "outputs": [
    {
     "name": "stdout",
     "output_type": "stream",
     "text": [
      "0\n",
      "[]\n",
      "0\n",
      "[]\n",
      "215\n",
      "['BACH2::BARX2' 'BACH2::DLX2' 'BACH2::EGR2' 'BACH2::ELF5' 'BACH2::HOXD8'\n",
      " 'BACH2::ID4' 'BACH2::IRX2' 'BACH2::MSX2' 'BACH2::NFATC4' 'BACH2::NR3C1'\n",
      " 'BACH2::POU2F3' 'BACH2::SALL4' 'BACH2::TFE3' 'BACH2::TGIF1'\n",
      " 'BACH2::ZNF467' 'BACH2::ZNF554' 'BARX2::DLX2' 'BARX2::EGR2' 'BARX2::EGR3'\n",
      " 'BARX2::ELF5' 'BARX2::ESRRA' 'BARX2::HOXC13' 'BARX2::HOXD8' 'BARX2::ID4'\n",
      " 'BARX2::IRX2' 'BARX2::MAF' 'BARX2::MSX2' 'BARX2::MZF1' 'BARX2::NFATC4'\n",
      " 'BARX2::NR3C1' 'BARX2::PITX2' 'BARX2::POU2F3' 'BARX2::SALL4'\n",
      " 'BARX2::TFE3' 'BARX2::TGIF1' 'BARX2::ZNF467' 'BARX2::ZNF554' 'DLX2::EGR2'\n",
      " 'DLX2::EGR3' 'DLX2::ELF5' 'DLX2::HOXD8' 'DLX2::ID4' 'DLX2::MSX2'\n",
      " 'DLX2::MZF1' 'DLX2::NFATC4' 'DLX2::NR3C1' 'DLX2::PITX2' 'DLX2::POU2F3'\n",
      " 'DLX2::SALL4' 'DLX2::TFE3' 'DLX2::TGIF1' 'DLX2::ZNF467' 'DLX2::ZNF554'\n",
      " 'EGR2::ESRRA' 'EGR2::HOXC13' 'EGR2::ID4' 'EGR2::IRX2' 'EGR2::MAF'\n",
      " 'EGR2::MSX2' 'EGR2::MZF1' 'EGR2::PITX2' 'EGR2::POU2F3' 'EGR2::SALL4'\n",
      " 'EGR2::TFE3' 'EGR2::ZNF554' 'EGR3::ELF5' 'EGR3::ESRRA' 'EGR3::HOXC13'\n",
      " 'EGR3::HOXD8' 'EGR3::ID4' 'EGR3::IRX2' 'EGR3::MAF' 'EGR3::MSX2'\n",
      " 'EGR3::MZF1' 'EGR3::NFATC4' 'EGR3::NR3C1' 'EGR3::PITX2' 'EGR3::POU2F3'\n",
      " 'EGR3::SALL4' 'EGR3::TFE3' 'EGR3::ZNF467' 'EGR3::ZNF554' 'ELF5::ESRRA'\n",
      " 'ELF5::HOXC13' 'ELF5::ID4' 'ELF5::IRX2' 'ELF5::MAF' 'ELF5::MSX2'\n",
      " 'ELF5::MZF1' 'ELF5::PITX2' 'ELF5::POU2F3' 'ELF5::SALL4' 'ELF5::TGIF1'\n",
      " 'ELF5::ZNF554' 'ESRRA::HOXC13' 'ESRRA::HOXD8' 'ESRRA::ID4' 'ESRRA::IRX2'\n",
      " 'ESRRA::MAF' 'ESRRA::MSX2' 'ESRRA::MZF1' 'ESRRA::NFATC4' 'ESRRA::NR3C1'\n",
      " 'ESRRA::PITX2' 'ESRRA::POU2F3' 'ESRRA::SALL4' 'ESRRA::TGIF1'\n",
      " 'ESRRA::ZNF467' 'ESRRA::ZNF554' 'HOXC13::HOXD8' 'HOXC13::ID4'\n",
      " 'HOXC13::IRX2' 'HOXC13::MAF' 'HOXC13::MSX2' 'HOXC13::MZF1'\n",
      " 'HOXC13::NFATC4' 'HOXC13::NR3C1' 'HOXC13::PITX2' 'HOXC13::POU2F3'\n",
      " 'HOXC13::SALL4' 'HOXC13::TGIF1' 'HOXC13::ZNF467' 'HOXC13::ZNF554'\n",
      " 'HOXD8::ID4' 'HOXD8::MAF' 'HOXD8::MSX2' 'HOXD8::MZF1' 'HOXD8::NFATC4'\n",
      " 'HOXD8::NR3C1' 'HOXD8::PITX2' 'HOXD8::SALL4' 'HOXD8::TFE3' 'HOXD8::TGIF1'\n",
      " 'HOXD8::ZNF467' 'HOXD8::ZNF554' 'ID4::IRX2' 'ID4::MAF' 'ID4::MSX2'\n",
      " 'ID4::MZF1' 'ID4::NFATC4' 'ID4::NR3C1' 'ID4::PITX2' 'ID4::POU2F3'\n",
      " 'ID4::SALL4' 'ID4::TFE3' 'ID4::TGIF1' 'ID4::ZNF467' 'ID4::ZNF554'\n",
      " 'IRX2::MAF' 'IRX2::MSX2' 'IRX2::MZF1' 'IRX2::NFATC4' 'IRX2::NR3C1'\n",
      " 'IRX2::PITX2' 'IRX2::POU2F3' 'IRX2::SALL4' 'IRX2::TFE3' 'IRX2::TGIF1'\n",
      " 'IRX2::ZNF467' 'IRX2::ZNF554' 'MAF::MSX2' 'MAF::MZF1' 'MAF::NFATC4'\n",
      " 'MAF::NR3C1' 'MAF::PITX2' 'MAF::POU2F3' 'MAF::SALL4' 'MAF::TFE3'\n",
      " 'MAF::TGIF1' 'MAF::ZNF467' 'MAF::ZNF554' 'MSX2::MZF1' 'MSX2::NFATC4'\n",
      " 'MSX2::NR3C1' 'MSX2::PITX2' 'MSX2::POU2F3' 'MSX2::SALL4' 'MSX2::TFE3'\n",
      " 'MSX2::TGIF1' 'MSX2::ZNF467' 'MSX2::ZNF554' 'MZF1::NFATC4' 'MZF1::NR3C1'\n",
      " 'MZF1::PITX2' 'MZF1::POU2F3' 'MZF1::SALL4' 'MZF1::TGIF1' 'MZF1::ZNF467'\n",
      " 'MZF1::ZNF554' 'NFATC4::PITX2' 'NFATC4::POU2F3' 'NFATC4::TFE3'\n",
      " 'NFATC4::TGIF1' 'NR3C1::PITX2' 'NR3C1::POU2F3' 'NR3C1::TFE3'\n",
      " 'NR3C1::TGIF1' 'PITX2::POU2F3' 'PITX2::SALL4' 'PITX2::TGIF1'\n",
      " 'PITX2::ZNF467' 'PITX2::ZNF554' 'POU2F3::SALL4' 'POU2F3::TFE3'\n",
      " 'POU2F3::TGIF1' 'POU2F3::ZNF467' 'POU2F3::ZNF554' 'SALL4::TFE3'\n",
      " 'SALL4::TGIF1' 'SALL4::ZNF554' 'TFE3::ZNF467' 'TFE3::ZNF554'\n",
      " 'TGIF1::ZNF467' 'TGIF1::ZNF554' 'ZNF467::ZNF554']\n",
      "5\n",
      "['EGR2::EGR3' 'EGR2::ELF5' 'EGR2::ZNF467' 'ELF5::ZNF467' 'NFATC4::NR3C1']\n"
     ]
    }
   ],
   "source": [
    "loop_type_df = pd.read_csv('../data/processed/fig4_modelling/tf_tf_pairs/unique_'+TISSUE+'_loop_type.csv',index_col=0).fillna('')\n",
    "pro_pro_vocab = loop_type_df[(loop_type_df.pro_pro_count>0) & (loop_type_df.loop_loop_count==0) & (loop_type_df.pro_loop_count==0)].index.values\n",
    "print(len(pro_pro_vocab))\n",
    "print(pro_pro_vocab)\n",
    "pro_loop_vocab = loop_type_df[(loop_type_df.pro_pro_count==0) & (loop_type_df.loop_loop_count==0) & (loop_type_df.pro_loop_count>0)].index.values\n",
    "print(len(pro_loop_vocab))\n",
    "print(pro_loop_vocab)\n",
    "\n",
    "loop_loop_vocab = loop_type_df[(loop_type_df.pro_pro_count==0) & (loop_type_df.loop_loop_count>0) & (loop_type_df.pro_loop_count==0)].index.values\n",
    "print(len(loop_loop_vocab))\n",
    "print(loop_loop_vocab)\n",
    "\n",
    "all_vocab = loop_type_df[(loop_type_df.pro_pro_count>0) & (loop_type_df.loop_loop_count>0) & (loop_type_df.pro_loop_count>0)].index.values\n",
    "print(len(all_vocab))\n",
    "print(all_vocab)\n"
   ]
  },
  {
   "cell_type": "markdown",
   "metadata": {},
   "source": [
    "## 1b enriched vocab from expressed genes in KRT"
   ]
  },
  {
   "cell_type": "code",
   "execution_count": 9,
   "metadata": {},
   "outputs": [
    {
     "name": "stdout",
     "output_type": "stream",
     "text": [
      "0\n",
      "[]\n",
      "0\n",
      "[]\n",
      "692\n",
      "['ARID3A::ATF7' 'ARID3A::CREB1' 'ARID3A::CREB5' 'ARID3A::CUX1'\n",
      " 'ARID3A::NR2C2' 'ARID3A::TBX19' 'ARID3A::ZNF143' 'ASCL2::CUX1'\n",
      " 'ASCL2::TBX19' 'ATF2::ZNF143' 'ATF4::CUX1' 'ATF4::FOXP2' 'ATF4::POU2F3'\n",
      " 'ATF4::ZNF250' 'ATF7::CUX1' 'ATF7::E2F2' 'ATF7::HOXA5' 'ATF7::HOXA7'\n",
      " 'ATF7::HOXC10' 'ATF7::IRF6' 'ATF7::ISL1' 'ATF7::NR2C2' 'ATF7::OVOL1'\n",
      " 'ATF7::OVOL2' 'ATF7::SOX15' 'ATF7::ZNF250' 'BACH1::ZNF250' 'BCL11A::CUX1'\n",
      " 'BCL11A::FOXP2' 'BCL6::CUX1' 'BCL6::E2F2' 'BCL6::HOXC6' 'BCL6::ZNF250'\n",
      " 'CEBPB::CUX1' 'CEBPB::FOXP2' 'CEBPB::ISL1' 'CEBPB::POU2F3' 'CEBPB::TFE3'\n",
      " 'CEBPB::ZNF143' 'CEBPB::ZNF250' 'CEBPB::ZNF329' 'CEBPD::CUX1'\n",
      " 'CEBPD::E2F2' 'CEBPD::E2F8' 'CEBPD::ELF5' 'CEBPD::FOXP2' 'CEBPD::ISL1'\n",
      " 'CEBPD::NR2C2' 'CEBPD::POU2F3' 'CEBPD::TBX19' 'CEBPD::TFE3'\n",
      " 'CEBPD::ZNF143' 'CEBPD::ZNF250' 'CEBPG::CUX1' 'CEBPG::FOXP2'\n",
      " 'CEBPG::POU2F3' 'CEBPG::ZNF250' 'CREB1::CUX1' 'CREB1::DBP' 'CREB1::DLX3'\n",
      " 'CREB1::DLX5' 'CREB1::FOXA2' 'CREB1::HES5' 'CREB1::HOXA5' 'CREB1::HOXA7'\n",
      " 'CREB1::IRF6' 'CREB1::NR2C2' 'CREB1::OSR2' 'CREB1::OVOL1' 'CREB1::OVOL2'\n",
      " 'CREB1::PITX1' 'CREB1::POU2F1' 'CREB1::POU2F2' 'CREB1::POU2F3'\n",
      " 'CREB1::SOX15' 'CREB1::SOX7' 'CREB1::TBX19' 'CREB1::TCF4' 'CREB1::ZBTB18'\n",
      " 'CREB1::ZNF329' 'CREB1::ZNF384' 'CREB5::DLX5' 'CREB5::HOXA5'\n",
      " 'CREB5::HOXA7' 'CREB5::HOXC10' 'CREB5::HOXC11' 'CREB5::HOXC6'\n",
      " 'CREB5::IRF6' 'CREB5::ISL1' 'CREB5::OSR2' 'CREB5::OVOL1' 'CREB5::OVOL2'\n",
      " 'CREB5::POU2F3' 'CREB5::SOX15' 'CREB5::ZNF143' 'CREB5::ZNF250'\n",
      " 'CREM::E2F2' 'CREM::HOXC11' 'CREM::ISL1' 'CREM::ZNF250' 'CUX1::DBP'\n",
      " 'CUX1::DDIT3' 'CUX1::DLX2' 'CUX1::DLX3' 'CUX1::DLX5' 'CUX1::E2F2'\n",
      " 'CUX1::E2F8' 'CUX1::EGR2' 'CUX1::EGR3' 'CUX1::ELF5' 'CUX1::EPAS1'\n",
      " 'CUX1::ESRRA' 'CUX1::ETV3' 'CUX1::FOS' 'CUX1::FOSB' 'CUX1::FOSL1'\n",
      " 'CUX1::FOSL2' 'CUX1::FOXA2' 'CUX1::FOXD1' 'CUX1::FOXH1' 'CUX1::FOXP2'\n",
      " 'CUX1::GATA3' 'CUX1::GLI3' 'CUX1::GRHL1' 'CUX1::GRHL2' 'CUX1::HBP1'\n",
      " 'CUX1::HES5' 'CUX1::HMGA1' 'CUX1::HOXA1' 'CUX1::HOXA10' 'CUX1::HOXA7'\n",
      " 'CUX1::HOXA9' 'CUX1::HOXC10' 'CUX1::HOXC11' 'CUX1::HOXC13' 'CUX1::HOXC6'\n",
      " 'CUX1::HOXC9' 'CUX1::HOXD8' 'CUX1::ID4' 'CUX1::IRF6' 'CUX1::IRF7'\n",
      " 'CUX1::IRX2' 'CUX1::IRX3' 'CUX1::ISL1' 'CUX1::JUN' 'CUX1::JUNB'\n",
      " 'CUX1::JUND' 'CUX1::KLF4' 'CUX1::KLF5' 'CUX1::KLF9' 'CUX1::MAF'\n",
      " 'CUX1::MAFB' 'CUX1::MAFF' 'CUX1::MAFG' 'CUX1::MAFK' 'CUX1::MEIS2'\n",
      " 'CUX1::MSX2' 'CUX1::MZF1' 'CUX1::NFATC1' 'CUX1::NFATC2' 'CUX1::NFATC4'\n",
      " 'CUX1::NFE2L1' 'CUX1::NFE2L2' 'CUX1::NFIA' 'CUX1::NFIB' 'CUX1::NFIC'\n",
      " 'CUX1::NFIL3' 'CUX1::NR2C2' 'CUX1::NR3C1' 'CUX1::NR3C2' 'CUX1::OSR2'\n",
      " 'CUX1::PITX1' 'CUX1::PITX2' 'CUX1::PLAG1' 'CUX1::PLAGL1' 'CUX1::POU2F1'\n",
      " 'CUX1::POU2F2' 'CUX1::POU2F3' 'CUX1::PRDM1' 'CUX1::RARG' 'CUX1::RFX2'\n",
      " 'CUX1::RFX3' 'CUX1::RORA' 'CUX1::RREB1' 'CUX1::SALL4' 'CUX1::SMAD3'\n",
      " 'CUX1::SMAD4' 'CUX1::SMARCA1' 'CUX1::SNAI2' 'CUX1::SOX15' 'CUX1::SOX7'\n",
      " 'CUX1::SP2' 'CUX1::SREBF2' 'CUX1::STAT3' 'CUX1::TBX3' 'CUX1::TCF12'\n",
      " 'CUX1::TCF4' 'CUX1::TCF7L2' 'CUX1::TEAD1' 'CUX1::TEAD3' 'CUX1::TFE3'\n",
      " 'CUX1::TFEB' 'CUX1::TGIF1' 'CUX1::THRA' 'CUX1::THRB' 'CUX1::TP53'\n",
      " 'CUX1::TP63' 'CUX1::UBP1' 'CUX1::ZBTB18' 'CUX1::ZBTB49' 'CUX1::ZBTB6'\n",
      " 'CUX1::ZFHX3' 'CUX1::ZNF134' 'CUX1::ZNF143' 'CUX1::ZNF250' 'CUX1::ZNF329'\n",
      " 'CUX1::ZNF335' 'CUX1::ZNF384' 'CUX1::ZNF436' 'CUX1::ZNF467'\n",
      " 'CUX1::ZNF554' 'CUX1::ZNF563' 'CUX1::ZNF768' 'DBP::FOXP2' 'DBP::HOXC13'\n",
      " 'DBP::ISL1' 'DBP::POU2F3' 'DBP::TBX19' 'DBP::ZNF143' 'DBP::ZNF250'\n",
      " 'DDIT3::FOXP2' 'DDIT3::POU2F3' 'DDIT3::ZNF250' 'DLX2::E2F2' 'DLX2::FOXA2'\n",
      " 'DLX2::FOXP2' 'DLX2::IRF6' 'DLX2::ISL1' 'DLX2::MAF' 'DLX2::MEIS2'\n",
      " 'DLX2::MZF1' 'DLX2::POU2F3' 'DLX2::TEAD1' 'DLX2::ZNF143' 'DLX3::E2F2'\n",
      " 'DLX3::ESRRA' 'DLX3::ETV3' 'DLX3::FOXP2' 'DLX3::HES5' 'DLX3::HOXC10'\n",
      " 'DLX3::HOXC11' 'DLX3::HOXC6' 'DLX3::HOXC9' 'DLX3::IRX2' 'DLX3::ISL1'\n",
      " 'DLX3::MEIS2' 'DLX3::NR2C2' 'DLX3::POU2F3' 'DLX3::STAT3' 'DLX3::TBX19'\n",
      " 'DLX3::TCF4' 'DLX3::TFE3' 'DLX3::THRB' 'DLX3::ZNF143' 'DLX3::ZNF250'\n",
      " 'DLX5::FOXP2' 'DLX5::NR2C2' 'DLX5::STAT3' 'DLX5::TBX19' 'DLX5::ZNF143'\n",
      " 'E2F2::FOXD1' 'E2F2::FOXH1' 'E2F2::GRHL1' 'E2F2::HOXA5' 'E2F2::HOXA7'\n",
      " 'E2F2::HOXC13' 'E2F2::IRF6' 'E2F2::ISL1' 'E2F2::OVOL1' 'E2F2::POU2F3'\n",
      " 'E2F2::SOX15' 'E2F2::SOX7' 'E2F2::STAT3' 'E2F2::TBX19' 'E2F2::TCF7L2'\n",
      " 'E2F2::TGIF1' 'E2F8::FOXD1' 'E2F8::FOXP2' 'E2F8::IRF6' 'E2F8::MZF1'\n",
      " 'E2F8::NR2C2' 'E2F8::OVOL1' 'E2F8::PITX1' 'E2F8::SOX7' 'E2F8::TBX19'\n",
      " 'E2F8::TCF12' 'E2F8::TEAD3' 'E2F8::THRA' 'EGR2::OVOL1' 'EGR3::OVOL1'\n",
      " 'ELF5::HOXA7' 'ELF5::OVOL1' 'ESRRA::FOXH1' 'ESRRA::FOXP2' 'ESRRA::IRF6'\n",
      " 'ESRRA::MEIS2' 'ESRRA::NFIB' 'ESRRA::POU2F1' 'ESRRA::POU2F3'\n",
      " 'ESRRA::SOX7' 'ESRRA::TBX19' 'ESRRA::TGIF1' 'ETV3::NR2C2' 'ETV3::TBX19'\n",
      " 'ETV3::ZNF143' 'FOSB::ZNF250' 'FOSL1::ZNF250' 'FOXA2::HES5'\n",
      " 'FOXA2::HOXC11' 'FOXA2::MEIS2' 'FOXA2::NR2C2' 'FOXA2::POU2F3'\n",
      " 'FOXA2::TFE3' 'FOXA2::ZNF143' 'FOXD1::HES5' 'FOXD1::HOXC11'\n",
      " 'FOXD1::HOXC13' 'FOXD1::NR2C2' 'FOXD1::NR3C2' 'FOXD1::TBX19'\n",
      " 'FOXD1::TCF12' 'FOXD1::ZNF143' 'FOXH1::HOXC13' 'FOXH1::ISL1'\n",
      " 'FOXH1::NR2C2' 'FOXH1::TFE3' 'FOXH1::ZNF143' 'FOXH1::ZNF329'\n",
      " 'FOXP2::GATA3' 'FOXP2::GLI3' 'FOXP2::GRHL2' 'FOXP2::HBP1' 'FOXP2::HES5'\n",
      " 'FOXP2::HMGA1' 'FOXP2::HOXA1' 'FOXP2::HOXA10' 'FOXP2::HOXA5'\n",
      " 'FOXP2::HOXA7' 'FOXP2::HOXA9' 'FOXP2::HOXC10' 'FOXP2::HOXC11'\n",
      " 'FOXP2::HOXC13' 'FOXP2::HOXC6' 'FOXP2::HOXC9' 'FOXP2::HOXD8' 'FOXP2::ID4'\n",
      " 'FOXP2::IRF6' 'FOXP2::IRF7' 'FOXP2::IRX2' 'FOXP2::ISL1' 'FOXP2::JUN'\n",
      " 'FOXP2::JUNB' 'FOXP2::JUND' 'FOXP2::KLF5' 'FOXP2::MAF' 'FOXP2::MAFB'\n",
      " 'FOXP2::MAFF' 'FOXP2::MAFK' 'FOXP2::MEIS2' 'FOXP2::MZF1' 'FOXP2::NFATC1'\n",
      " 'FOXP2::NFE2L1' 'FOXP2::NFE2L2' 'FOXP2::NFIA' 'FOXP2::NFIB' 'FOXP2::NFIC'\n",
      " 'FOXP2::NFIL3' 'FOXP2::NR2C2' 'FOXP2::NR3C2' 'FOXP2::OSR2' 'FOXP2::OVOL1'\n",
      " 'FOXP2::OVOL2' 'FOXP2::PITX1' 'FOXP2::PITX2' 'FOXP2::PLAG1'\n",
      " 'FOXP2::PLAGL1' 'FOXP2::POU2F1' 'FOXP2::RARG' 'FOXP2::RFX2' 'FOXP2::RFX3'\n",
      " 'FOXP2::RORA' 'FOXP2::RREB1' 'FOXP2::SALL4' 'FOXP2::SMAD3' 'FOXP2::SMAD4'\n",
      " 'FOXP2::SMARCA1' 'FOXP2::SNAI2' 'FOXP2::SOX15' 'FOXP2::SOX7' 'FOXP2::SP2'\n",
      " 'FOXP2::SREBF2' 'FOXP2::STAT3' 'FOXP2::TBX19' 'FOXP2::TBX3'\n",
      " 'FOXP2::TCF12' 'FOXP2::TCF4' 'FOXP2::TCF7L2' 'FOXP2::TEAD1'\n",
      " 'FOXP2::TEAD3' 'FOXP2::TFE3' 'FOXP2::TFEB' 'FOXP2::THRA' 'FOXP2::ZBTB18'\n",
      " 'FOXP2::ZBTB6' 'FOXP2::ZFHX3' 'FOXP2::ZNF134' 'FOXP2::ZNF143'\n",
      " 'FOXP2::ZNF250' 'FOXP2::ZNF329' 'FOXP2::ZNF384' 'FOXP2::ZNF436'\n",
      " 'FOXP2::ZNF554' 'FOXP2::ZNF563' 'FOXP2::ZNF768' 'GATA3::ISL1'\n",
      " 'GRHL2::PITX2' 'GRHL2::TBX19' 'HBP1::NR2C2' 'HBP1::ZNF250' 'HES5::ISL1'\n",
      " 'HES5::NR3C2' 'HES5::PITX1' 'HES5::RORA' 'HES5::SREBF2' 'HES5::STAT3'\n",
      " 'HES5::THRA' 'HES5::ZNF143' 'HOXA10::ISL1' 'HOXA1::ISL1' 'HOXA1::NR2C2'\n",
      " 'HOXA1::POU2F3' 'HOXA1::RORA' 'HOXA1::TBX19' 'HOXA1::TCF12' 'HOXA1::TFE3'\n",
      " 'HOXA1::ZNF143' 'HOXA5::NR2C2' 'HOXA5::NR3C2' 'HOXA5::ZNF250'\n",
      " 'HOXA7::ID4' 'HOXA7::ISL1' 'HOXA7::KLF5' 'HOXA7::MZF1' 'HOXA7::NFATC2'\n",
      " 'HOXA7::NR2C2' 'HOXA7::NR3C2' 'HOXA7::POU2F3' 'HOXA7::RORA'\n",
      " 'HOXA7::SALL4' 'HOXA7::SREBF2' 'HOXA7::STAT3' 'HOXA7::TBX19'\n",
      " 'HOXA7::TCF12' 'HOXA7::TFE3' 'HOXA7::ZNF143' 'HOXA9::ZNF143'\n",
      " 'HOXC10::IRF6' 'HOXC10::ISL1' 'HOXC10::MEIS2' 'HOXC10::MZF1'\n",
      " 'HOXC10::NR2C2' 'HOXC10::OSR2' 'HOXC10::OVOL1' 'HOXC10::POU2F1'\n",
      " 'HOXC10::POU2F3' 'HOXC10::RFX2' 'HOXC10::RFX3' 'HOXC10::SMAD4'\n",
      " 'HOXC10::TBX19' 'HOXC10::ZNF143' 'HOXC10::ZNF768' 'HOXC11::HOXC9'\n",
      " 'HOXC11::IRF6' 'HOXC11::IRX3' 'HOXC11::ISL1' 'HOXC11::MZF1'\n",
      " 'HOXC11::NFIL3' 'HOXC11::NR2C2' 'HOXC11::NR3C2' 'HOXC11::OVOL1'\n",
      " 'HOXC11::PITX1' 'HOXC11::POU2F2' 'HOXC11::RFX2' 'HOXC11::RFX3'\n",
      " 'HOXC11::SMAD3' 'HOXC11::STAT3' 'HOXC11::TBX19' 'HOXC11::TCF7L2'\n",
      " 'HOXC11::TFE3' 'HOXC11::TGIF1' 'HOXC11::TP53' 'HOXC11::ZBTB18'\n",
      " 'HOXC11::ZBTB49' 'HOXC11::ZFHX3' 'HOXC11::ZNF768' 'HOXC13::IRF6'\n",
      " 'HOXC13::ISL1' 'HOXC13::NR2C2' 'HOXC13::PITX1' 'HOXC13::SOX7'\n",
      " 'HOXC13::TCF7L2' 'HOXC6::IRF6' 'HOXC6::ISL1' 'HOXC6::MEIS2'\n",
      " 'HOXC6::NR2C2' 'HOXC6::NR3C1' 'HOXC6::OVOL1' 'HOXC6::POU2F1'\n",
      " 'HOXC6::POU2F3' 'HOXC6::SOX7' 'HOXC6::TBX19' 'HOXC6::ZFHX3'\n",
      " 'HOXC6::ZNF143' 'HOXC6::ZNF335' 'HOXC9::OVOL2' 'HOXC9::POU2F3'\n",
      " 'HOXC9::TBX19' 'HOXD8::NR3C2' 'HOXD8::PITX1' 'HOXD8::STAT3'\n",
      " 'HOXD8::TBX19' 'HOXD8::THRA' 'HOXD8::ZNF143' 'IRF6::ISL1' 'IRF6::MAFB'\n",
      " 'IRF6::NR2C2' 'IRF6::NR3C2' 'IRF6::PITX2' 'IRF6::POU2F3' 'IRF6::RORA'\n",
      " 'IRF6::STAT3' 'IRF6::TBX19' 'IRF6::TFE3' 'IRF6::ZNF143' 'IRF6::ZNF329'\n",
      " 'IRF6::ZNF384' 'IRF7::NR2C2' 'IRF7::POU2F3' 'IRF7::TBX19' 'IRX2::ZNF143'\n",
      " 'IRX3::MZF1' 'IRX3::NR2C2' 'IRX3::STAT3' 'IRX3::TBX19' 'IRX3::TFE3'\n",
      " 'IRX3::ZNF250' 'ISL1::MEIS2' 'ISL1::MZF1' 'ISL1::NR2C2' 'ISL1::OVOL2'\n",
      " 'ISL1::PITX1' 'ISL1::PITX2' 'ISL1::POU2F1' 'ISL1::POU2F3' 'ISL1::SNAI2'\n",
      " 'ISL1::SOX7' 'ISL1::TEAD3' 'ISL1::TGIF1' 'ISL1::ZBTB18' 'ISL1::ZNF143'\n",
      " 'ISL1::ZNF250' 'ISL1::ZNF329' 'JUNB::ZNF250' 'JUND::ZNF250'\n",
      " 'MAFF::ZNF250' 'MAFG::ZNF250' 'MEIS2::ZNF250' 'MEIS2::ZNF329'\n",
      " 'MZF1::ZFHX3' 'MZF1::ZNF768' 'NFATC1::ZNF250' 'NFE2L2::ZNF250'\n",
      " 'NFIB::ZNF143' 'NFIL3::NR2C2' 'NFIL3::POU2F3' 'NFIL3::TFE3'\n",
      " 'NFIL3::ZNF143' 'NFIL3::ZNF250' 'NR2C2::OVOL1' 'NR2C2::OVOL2'\n",
      " 'NR2C2::POU2F1' 'NR2C2::POU2F3' 'NR2C2::TCF7L2' 'NR2C2::TFE3'\n",
      " 'NR2C2::ZBTB6' 'NR2C2::ZFHX3' 'NR2C2::ZNF143' 'NR2C2::ZNF329'\n",
      " 'NR2C2::ZNF768' 'NR3C2::OVOL1' 'NR3C2::OVOL2' 'NR3C2::PITX1'\n",
      " 'NR3C2::POU2F1' 'NR3C2::POU2F3' 'NR3C2::SOX15' 'NR3C2::SOX7'\n",
      " 'NR3C2::TCF4' 'NR3C2::TEAD3' 'NR3C2::TFEB' 'NR3C2::ZBTB18' 'NR3C2::ZFHX3'\n",
      " 'NR3C2::ZNF143' 'OSR2::POU2F3' 'OSR2::TFE3' 'OSR2::ZNF143'\n",
      " 'OVOL1::POU2F3' 'OVOL1::TBX19' 'OVOL1::TCF12' 'OVOL1::TFE3'\n",
      " 'OVOL1::ZNF143' 'OVOL1::ZNF250' 'OVOL2::POU2F3' 'OVOL2::SREBF2'\n",
      " 'OVOL2::STAT3' 'OVOL2::TBX19' 'OVOL2::TCF12' 'OVOL2::TFE3'\n",
      " 'OVOL2::ZNF143' 'PITX1::POU2F3' 'PITX1::TBX19' 'PITX1::TFE3'\n",
      " 'PITX1::ZNF250' 'PITX1::ZNF436' 'PITX2::POU2F3' 'PITX2::TBX19'\n",
      " 'POU2F1::ZNF250' 'POU2F2::STAT3' 'POU2F2::TBX19' 'POU2F2::ZNF143'\n",
      " 'POU2F2::ZNF250' 'POU2F3::SOX7' 'POU2F3::STAT3' 'POU2F3::TCF7L2'\n",
      " 'POU2F3::TEAD3' 'POU2F3::TFEB' 'POU2F3::ZNF250' 'POU2F3::ZNF329'\n",
      " 'POU2F3::ZNF384' 'PRDM1::ZNF143' 'RORA::TBX19' 'SMAD4::STAT3'\n",
      " 'SMAD4::ZNF143' 'SMARCA1::TBX19' 'SMARCA1::ZNF143' 'SOX15::ZNF143'\n",
      " 'SOX7::TBX19' 'SOX7::TFE3' 'SOX7::ZNF143' 'SOX7::ZNF250' 'SREBF2::ZNF250'\n",
      " 'STAT3::TFE3' 'STAT3::ZNF250' 'TBX19::TCF7L2' 'TBX19::TEAD3'\n",
      " 'TBX19::TFE3' 'TBX19::TGIF1' 'TBX19::THRA' 'TBX19::ZBTB18' 'TBX19::ZBTB6'\n",
      " 'TBX19::ZFHX3' 'TBX19::ZNF134' 'TBX19::ZNF143' 'TBX19::ZNF250'\n",
      " 'TBX19::ZNF329' 'TBX19::ZNF384' 'TBX19::ZNF436' 'TBX19::ZNF467'\n",
      " 'TBX19::ZNF563' 'TBX19::ZNF768' 'TCF12::TEAD3' 'TEAD3::ZNF143'\n",
      " 'TEAD3::ZNF250' 'TFE3::ZNF143' 'TFE3::ZNF250' 'TFEB::ZNF143'\n",
      " 'TP53::ZNF250' 'ZBTB18::ZNF250' 'ZBTB18::ZNF384' 'ZBTB6::ZNF143'\n",
      " 'ZFHX3::ZNF250' 'ZFHX3::ZNF329' 'ZNF143::ZNF250']\n",
      "1712\n",
      "['ARID3A::STAT3' 'ARID5B::ATF7' 'ARID5B::CREB1' ... 'ZNF329::ZNF335'\n",
      " 'ZNF335::ZNF436' 'ZNF335::ZNF467']\n"
     ]
    }
   ],
   "source": [
    "loop_type_df = pd.read_csv('../data/processed/fig4_modelling/tf_tf_pairs/expr_'+TISSUE+'_loop_type.csv',index_col=0).fillna('')\n",
    "pro_pro_vocab = loop_type_df[(loop_type_df.pro_pro_count>0) & (loop_type_df.loop_loop_count==0) & (loop_type_df.pro_loop_count==0)].index.values\n",
    "print(len(pro_pro_vocab))\n",
    "print(pro_pro_vocab)\n",
    "pro_loop_vocab = loop_type_df[(loop_type_df.pro_pro_count==0) & (loop_type_df.loop_loop_count==0) & (loop_type_df.pro_loop_count>0)].index.values\n",
    "print(len(pro_loop_vocab))\n",
    "print(pro_loop_vocab)\n",
    "\n",
    "loop_loop_vocab = loop_type_df[(loop_type_df.pro_pro_count==0) & (loop_type_df.loop_loop_count>0) & (loop_type_df.pro_loop_count==0)].index.values\n",
    "print(len(loop_loop_vocab))\n",
    "print(loop_loop_vocab)\n",
    "\n",
    "all_vocab = loop_type_df[(loop_type_df.pro_pro_count>0) & (loop_type_df.loop_loop_count>0) & (loop_type_df.pro_loop_count>0)].index.values\n",
    "print(len(all_vocab))\n",
    "print(all_vocab)\n"
   ]
  },
  {
   "cell_type": "markdown",
   "metadata": {},
   "source": [
    "## 1C get motif appearance locations (normalized)"
   ]
  },
  {
   "cell_type": "code",
   "execution_count": 10,
   "metadata": {},
   "outputs": [
    {
     "data": {
      "text/plain": [
       "FOS::PLAG1       0.188068\n",
       "JUN::PLAG1       0.199706\n",
       "PLAG1::SMAD3     0.217469\n",
       "FOSL1::PLAG1     0.220440\n",
       "JUND::PLAG1      0.220440\n",
       "                  ...    \n",
       "E2F2::OVOL1     40.340555\n",
       "CUX1::OVOL2     80.681110\n",
       "CUX1::OVOL1     80.681110\n",
       "CUX1::HOXA5     80.681110\n",
       "CUX1::TBX19     80.681110\n",
       "Length: 3649, dtype: float64"
      ]
     },
     "execution_count": 10,
     "metadata": {},
     "output_type": "execute_result"
    }
   ],
   "source": [
    "# for vocab pairs\n",
    "pro_frac = ((loop_type_df.pro_pro_count+1)/(loop_type_df.pro_pro_count.sum()+1))\n",
    "loop_frac = ((loop_type_df.loop_loop_count+1)/(loop_type_df.loop_loop_count.sum()+1))\n",
    "ratio = pro_frac/loop_frac\n",
    "ratio.sort_values()"
   ]
  },
  {
   "cell_type": "code",
   "execution_count": 11,
   "metadata": {},
   "outputs": [
    {
     "name": "stdout",
     "output_type": "stream",
     "text": [
      "145\n"
     ]
    }
   ],
   "source": [
    "# for motifs\n",
    "# 1. get motifs\n",
    "motifs = set()\n",
    "for vocab_pair in loop_type_df.index.values:\n",
    "    v1, v2 = vocab_pair.split('::')\n",
    "    motifs.add(v1)\n",
    "    motifs.add(v2)\n",
    "motifs = sorted(motifs)\n",
    "print(len(motifs))\n",
    "\n",
    "# 2. initialize counts\n",
    "motif_counts_dict = {}\n",
    "for motif in motifs:\n",
    "    motif_counts_dict[motif] = {'pro_pro_count':0,'loop_loop_count':0,'pro_loop_count':0} #list of counts for pro_pro_count, loop_loop_count, pro_loop_count, respectively\n",
    "    \n",
    "# 3. run through loop_type_df to fill in motif_counts_dict\n",
    "for vocab_pair, row in loop_type_df.iterrows():\n",
    "    v1, v2 = vocab_pair.split('::')\n",
    "    motif_counts_dict[v1]['pro_pro_count'] +=row['pro_pro_count']\n",
    "    motif_counts_dict[v2]['pro_pro_count'] +=row['pro_pro_count']\n",
    "    motif_counts_dict[v1]['loop_loop_count'] +=row['loop_loop_count']\n",
    "    motif_counts_dict[v2]['loop_loop_count'] +=row['loop_loop_count']\n",
    "    motif_counts_dict[v1]['pro_loop_count'] +=row['pro_loop_count']\n",
    "    motif_counts_dict[v2]['pro_loop_count'] +=row['pro_loop_count']\n",
    "            \n",
    "motif_counts_df = pd.DataFrame.from_dict(motif_counts_dict,orient='index')   \n",
    "motif_counts_df_norm = motif_counts_df/motif_counts_df.sum(axis=0)\n"
   ]
  },
  {
   "cell_type": "code",
   "execution_count": 12,
   "metadata": {},
   "outputs": [],
   "source": [
    "motif_counts_df_norm_sel = motif_counts_df_norm.reset_index()[motif_counts_df_norm.reset_index()['index'].isin(TFS)]\n",
    "motif_counts_df_norm_sel.set_index('index',inplace=True)"
   ]
  },
  {
   "cell_type": "code",
   "execution_count": 13,
   "metadata": {},
   "outputs": [
    {
     "data": {
      "text/html": [
       "<div>\n",
       "<style scoped>\n",
       "    .dataframe tbody tr th:only-of-type {\n",
       "        vertical-align: middle;\n",
       "    }\n",
       "\n",
       "    .dataframe tbody tr th {\n",
       "        vertical-align: top;\n",
       "    }\n",
       "\n",
       "    .dataframe thead th {\n",
       "        text-align: right;\n",
       "    }\n",
       "</style>\n",
       "<table border=\"1\" class=\"dataframe\">\n",
       "  <thead>\n",
       "    <tr style=\"text-align: right;\">\n",
       "      <th></th>\n",
       "      <th>pro_pro_count</th>\n",
       "      <th>loop_loop_count</th>\n",
       "      <th>pro_loop_count</th>\n",
       "    </tr>\n",
       "  </thead>\n",
       "  <tbody>\n",
       "    <tr>\n",
       "      <td>ARID3A</td>\n",
       "      <td>0.044856</td>\n",
       "      <td>0.609788</td>\n",
       "      <td>0.345356</td>\n",
       "    </tr>\n",
       "    <tr>\n",
       "      <td>ARID5B</td>\n",
       "      <td>0.330310</td>\n",
       "      <td>0.258772</td>\n",
       "      <td>0.410918</td>\n",
       "    </tr>\n",
       "    <tr>\n",
       "      <td>ASCL2</td>\n",
       "      <td>0.402876</td>\n",
       "      <td>0.273487</td>\n",
       "      <td>0.323637</td>\n",
       "    </tr>\n",
       "    <tr>\n",
       "      <td>ATF2</td>\n",
       "      <td>0.429405</td>\n",
       "      <td>0.281669</td>\n",
       "      <td>0.288927</td>\n",
       "    </tr>\n",
       "    <tr>\n",
       "      <td>ATF4</td>\n",
       "      <td>0.288443</td>\n",
       "      <td>0.384386</td>\n",
       "      <td>0.327172</td>\n",
       "    </tr>\n",
       "    <tr>\n",
       "      <td>...</td>\n",
       "      <td>...</td>\n",
       "      <td>...</td>\n",
       "      <td>...</td>\n",
       "    </tr>\n",
       "    <tr>\n",
       "      <td>ZNF436</td>\n",
       "      <td>0.243482</td>\n",
       "      <td>0.358157</td>\n",
       "      <td>0.398361</td>\n",
       "    </tr>\n",
       "    <tr>\n",
       "      <td>ZNF467</td>\n",
       "      <td>0.412118</td>\n",
       "      <td>0.306572</td>\n",
       "      <td>0.281310</td>\n",
       "    </tr>\n",
       "    <tr>\n",
       "      <td>ZNF554</td>\n",
       "      <td>0.337109</td>\n",
       "      <td>0.324760</td>\n",
       "      <td>0.338131</td>\n",
       "    </tr>\n",
       "    <tr>\n",
       "      <td>ZNF563</td>\n",
       "      <td>0.355671</td>\n",
       "      <td>0.295041</td>\n",
       "      <td>0.349288</td>\n",
       "    </tr>\n",
       "    <tr>\n",
       "      <td>ZNF768</td>\n",
       "      <td>0.204718</td>\n",
       "      <td>0.397214</td>\n",
       "      <td>0.398067</td>\n",
       "    </tr>\n",
       "  </tbody>\n",
       "</table>\n",
       "<p>145 rows × 3 columns</p>\n",
       "</div>"
      ],
      "text/plain": [
       "        pro_pro_count  loop_loop_count  pro_loop_count\n",
       "ARID3A       0.044856         0.609788        0.345356\n",
       "ARID5B       0.330310         0.258772        0.410918\n",
       "ASCL2        0.402876         0.273487        0.323637\n",
       "ATF2         0.429405         0.281669        0.288927\n",
       "ATF4         0.288443         0.384386        0.327172\n",
       "...               ...              ...             ...\n",
       "ZNF436       0.243482         0.358157        0.398361\n",
       "ZNF467       0.412118         0.306572        0.281310\n",
       "ZNF554       0.337109         0.324760        0.338131\n",
       "ZNF563       0.355671         0.295041        0.349288\n",
       "ZNF768       0.204718         0.397214        0.398067\n",
       "\n",
       "[145 rows x 3 columns]"
      ]
     },
     "execution_count": 13,
     "metadata": {},
     "output_type": "execute_result"
    }
   ],
   "source": [
    "motif_counts_df_norm.div(motif_counts_df_norm.sum(axis=1),axis=0)"
   ]
  },
  {
   "cell_type": "code",
   "execution_count": 14,
   "metadata": {},
   "outputs": [
    {
     "data": {
      "image/png": "[encoded data removed]",
      "text/plain": [
       "<Figure size 1440x504 with 1 Axes>"
      ]
     },
     "metadata": {
      "needs_background": "light"
     },
     "output_type": "display_data"
    }
   ],
   "source": [
    "# all tfs\n",
    "ax = motif_counts_df_norm.sort_values('pro_pro_count').plot(kind='bar', stacked=True,figsize = (20,7),fontsize=9)\n",
    "ax.figure.savefig(os.path.join(save_dir, TISSUE+'_config_count_bar.pdf'))\n"
   ]
  },
  {
   "cell_type": "markdown",
   "metadata": {},
   "source": [
    "this shows the likelihood of the motif appears in a vocab pair from pro_pro, pro_loop, or loop_loop configurations, GIVEN that it does appear at all (so normalized by both the probability of the configuration type)\n",
    "\n",
    "this will show frequency of footprints being found in the looped regions "
   ]
  },
  {
   "cell_type": "code",
   "execution_count": 15,
   "metadata": {},
   "outputs": [
    {
     "data": {
      "image/png": "[encoded data removed]",
      "text/plain": [
       "<Figure size 720x504 with 1 Axes>"
      ]
     },
     "metadata": {
      "needs_background": "light"
     },
     "output_type": "display_data"
    }
   ],
   "source": [
    "ax = motif_counts_df_norm_sel.sort_values('pro_pro_count').plot(kind='bar', stacked=True,figsize = (10,7),fontsize=12)\n",
    "ax.figure.savefig(os.path.join(save_dir, TISSUE+'_config_count_sel_bar.pdf'))\n"
   ]
  },
  {
   "cell_type": "markdown",
   "metadata": {},
   "source": [
    "same graph as before but only for tissue specific TFS"
   ]
  },
  {
   "cell_type": "code",
   "execution_count": 16,
   "metadata": {},
   "outputs": [
    {
     "data": {
      "image/png": "[encoded data removed]",
      "text/plain": [
       "<Figure size 1440x504 with 1 Axes>"
      ]
     },
     "metadata": {
      "needs_background": "light"
     },
     "output_type": "display_data"
    }
   ],
   "source": [
    "ax = motif_counts_df_norm.div(motif_counts_df_norm.sum(axis=1),axis=0).sort_values('pro_pro_count').plot(kind='bar', stacked=True,\n",
    "                                                                                                    figsize = (20,7),fontsize=9)\n",
    "ax.figure.savefig(os.path.join(save_dir, TISSUE+'_config_count_norm_bar.pdf'))\n"
   ]
  },
  {
   "cell_type": "markdown",
   "metadata": {},
   "source": [
    "this shows the likelihood of the motif appears in a vocab pair from pro_pro, pro_loop, or loop_loop configurations, GIVEN that it does appear at all (so normalized by both the probability of the configuration type as well as by the motif frequency itself"
   ]
  },
  {
   "cell_type": "code",
   "execution_count": 17,
   "metadata": {},
   "outputs": [
    {
     "data": {
      "image/png": "[encoded data removed]",
      "text/plain": [
       "<Figure size 1440x504 with 1 Axes>"
      ]
     },
     "metadata": {
      "needs_background": "light"
     },
     "output_type": "display_data"
    }
   ],
   "source": [
    "# fig,ax= plt.subplots(figsize = (20,7))\n",
    "# ax.set_xlabel('xlabel', fontsize=6)\n",
    "\n",
    "ax = motif_counts_df_norm.pro_pro_count.sort_values().plot(kind='bar',figsize = (20,7),fontsize=8)\n",
    "\n",
    "ax.figure.savefig(os.path.join(save_dir, TISSUE+'_pro_count_norm_bar.pdf'))\n"
   ]
  },
  {
   "cell_type": "markdown",
   "metadata": {},
   "source": [
    "only the promoter fractions"
   ]
  },
  {
   "cell_type": "code",
   "execution_count": 18,
   "metadata": {},
   "outputs": [
    {
     "data": {
      "image/png": "[encoded data removed]",
      "text/plain": [
       "<Figure size 720x504 with 1 Axes>"
      ]
     },
     "metadata": {
      "needs_background": "light"
     },
     "output_type": "display_data"
    }
   ],
   "source": [
    "ax = motif_counts_df_norm_sel.div(motif_counts_df_norm_sel.sum(axis=1),axis=0).sort_values('pro_pro_count').plot(kind='bar', stacked=True,\n",
    "                                                                                                    figsize = (10,7),fontsize=12)\n",
    "ax.figure.savefig(os.path.join(save_dir, TISSUE+'_config_count_norm_sel_bar.pdf'))\n"
   ]
  },
  {
   "cell_type": "code",
   "execution_count": 19,
   "metadata": {},
   "outputs": [
    {
     "data": {
      "text/html": [
       "<div>\n",
       "<style scoped>\n",
       "    .dataframe tbody tr th:only-of-type {\n",
       "        vertical-align: middle;\n",
       "    }\n",
       "\n",
       "    .dataframe tbody tr th {\n",
       "        vertical-align: top;\n",
       "    }\n",
       "\n",
       "    .dataframe thead th {\n",
       "        text-align: right;\n",
       "    }\n",
       "</style>\n",
       "<table border=\"1\" class=\"dataframe\">\n",
       "  <thead>\n",
       "    <tr style=\"text-align: right;\">\n",
       "      <th></th>\n",
       "      <th>pro_pro_count</th>\n",
       "      <th>loop_loop_count</th>\n",
       "      <th>pro_loop_count</th>\n",
       "    </tr>\n",
       "  </thead>\n",
       "  <tbody>\n",
       "    <tr>\n",
       "      <td>ARID3A</td>\n",
       "      <td>0.000888</td>\n",
       "      <td>0.974245</td>\n",
       "      <td>0.024867</td>\n",
       "    </tr>\n",
       "    <tr>\n",
       "      <td>ARID5B</td>\n",
       "      <td>0.014547</td>\n",
       "      <td>0.919639</td>\n",
       "      <td>0.065814</td>\n",
       "    </tr>\n",
       "    <tr>\n",
       "      <td>ASCL2</td>\n",
       "      <td>0.017036</td>\n",
       "      <td>0.933195</td>\n",
       "      <td>0.049769</td>\n",
       "    </tr>\n",
       "    <tr>\n",
       "      <td>ATF2</td>\n",
       "      <td>0.017737</td>\n",
       "      <td>0.938861</td>\n",
       "      <td>0.043402</td>\n",
       "    </tr>\n",
       "    <tr>\n",
       "      <td>ATF4</td>\n",
       "      <td>0.008876</td>\n",
       "      <td>0.954509</td>\n",
       "      <td>0.036614</td>\n",
       "    </tr>\n",
       "    <tr>\n",
       "      <td>...</td>\n",
       "      <td>...</td>\n",
       "      <td>...</td>\n",
       "      <td>...</td>\n",
       "    </tr>\n",
       "    <tr>\n",
       "      <td>ZNF436</td>\n",
       "      <td>0.007959</td>\n",
       "      <td>0.944688</td>\n",
       "      <td>0.047354</td>\n",
       "    </tr>\n",
       "    <tr>\n",
       "      <td>ZNF467</td>\n",
       "      <td>0.015745</td>\n",
       "      <td>0.945168</td>\n",
       "      <td>0.039086</td>\n",
       "    </tr>\n",
       "    <tr>\n",
       "      <td>ZNF554</td>\n",
       "      <td>0.012138</td>\n",
       "      <td>0.943586</td>\n",
       "      <td>0.044276</td>\n",
       "    </tr>\n",
       "    <tr>\n",
       "      <td>ZNF563</td>\n",
       "      <td>0.013984</td>\n",
       "      <td>0.936073</td>\n",
       "      <td>0.049943</td>\n",
       "    </tr>\n",
       "    <tr>\n",
       "      <td>ZNF768</td>\n",
       "      <td>0.006074</td>\n",
       "      <td>0.950976</td>\n",
       "      <td>0.042950</td>\n",
       "    </tr>\n",
       "  </tbody>\n",
       "</table>\n",
       "<p>145 rows × 3 columns</p>\n",
       "</div>"
      ],
      "text/plain": [
       "        pro_pro_count  loop_loop_count  pro_loop_count\n",
       "ARID3A       0.000888         0.974245        0.024867\n",
       "ARID5B       0.014547         0.919639        0.065814\n",
       "ASCL2        0.017036         0.933195        0.049769\n",
       "ATF2         0.017737         0.938861        0.043402\n",
       "ATF4         0.008876         0.954509        0.036614\n",
       "...               ...              ...             ...\n",
       "ZNF436       0.007959         0.944688        0.047354\n",
       "ZNF467       0.015745         0.945168        0.039086\n",
       "ZNF554       0.012138         0.943586        0.044276\n",
       "ZNF563       0.013984         0.936073        0.049943\n",
       "ZNF768       0.006074         0.950976        0.042950\n",
       "\n",
       "[145 rows x 3 columns]"
      ]
     },
     "execution_count": 19,
     "metadata": {},
     "output_type": "execute_result"
    }
   ],
   "source": [
    "motif_counts_df.div(motif_counts_df.sum(axis=1),axis=0)"
   ]
  },
  {
   "cell_type": "markdown",
   "metadata": {},
   "source": [
    "# 2. Vocabulary genomic instances - setup\n",
    "\n",
    "\n",
    "## 2A. find the locations"
   ]
  },
  {
   "cell_type": "code",
   "execution_count": 20,
   "metadata": {},
   "outputs": [
    {
     "data": {
      "text/plain": [
       "['../data/processed/fig4_modelling/tf_tf_pairs_stability/Airway_loop_loop_vocab_group.csv',\n",
       " '../data/processed/fig4_modelling/tf_tf_pairs_stability/Airway_pro_pro_vocab_group.csv',\n",
       " '../data/processed/fig4_modelling/tf_tf_pairs_stability/Airway_vocab_group.csv',\n",
       " '../data/processed/fig4_modelling/tf_tf_pairs_stability/Bladder_loop_loop_vocab_group.csv',\n",
       " '../data/processed/fig4_modelling/tf_tf_pairs_stability/GDSD6_loop_loop_vocab.csv',\n",
       " '../data/processed/fig4_modelling/tf_tf_pairs_stability/GDSD6_loop_loop_vocab_group.csv',\n",
       " '../data/processed/fig4_modelling/tf_tf_pairs_stability/GDSD6_pro_pro_vocab.csv',\n",
       " '../data/processed/fig4_modelling/tf_tf_pairs_stability/GDSD6_vocab.csv',\n",
       " '../data/processed/fig4_modelling/tf_tf_pairs_stability/GDSD6_vocab.xlsx',\n",
       " '../data/processed/fig4_modelling/tf_tf_pairs_stability/GM12878_loop_loop_vocab_group.csv',\n",
       " '../data/processed/fig4_modelling/tf_tf_pairs_stability/GM12878_pro_pro_vocab_group.csv',\n",
       " '../data/processed/fig4_modelling/tf_tf_pairs_stability/GM12878_vocab_group.csv',\n",
       " '../data/processed/fig4_modelling/tf_tf_pairs_stability/HMEC_loop_loop_vocab_group.csv',\n",
       " '../data/processed/fig4_modelling/tf_tf_pairs_stability/HMEC_pro_pro_vocab_group.csv',\n",
       " '../data/processed/fig4_modelling/tf_tf_pairs_stability/HMEC_vocab_group.csv',\n",
       " '../data/processed/fig4_modelling/tf_tf_pairs_stability/Ovarian_loop_loop_vocab_group.csv',\n",
       " '../data/processed/fig4_modelling/tf_tf_pairs_stability/Ovarian_pro_pro_vocab_group.csv',\n",
       " '../data/processed/fig4_modelling/tf_tf_pairs_stability/Ovarian_vocab_group.csv',\n",
       " '../data/processed/fig4_modelling/tf_tf_pairs_stability/Prostate_loop_loop_vocab.csv',\n",
       " '../data/processed/fig4_modelling/tf_tf_pairs_stability/Prostate_loop_loop_vocab_group.csv',\n",
       " '../data/processed/fig4_modelling/tf_tf_pairs_stability/Prostate_pro_pro_vocab.csv',\n",
       " '../data/processed/fig4_modelling/tf_tf_pairs_stability/Prostate_pro_pro_vocab_group.csv',\n",
       " '../data/processed/fig4_modelling/tf_tf_pairs_stability/Prostate_vocab.csv',\n",
       " '../data/processed/fig4_modelling/tf_tf_pairs_stability/Prostate_vocab_group.csv',\n",
       " '../data/processed/fig4_modelling/tf_tf_pairs_stability/Uterine_loop_loop_vocab_group.csv',\n",
       " '../data/processed/fig4_modelling/tf_tf_pairs_stability/Uterine_pro_pro_vocab_group.csv',\n",
       " '../data/processed/fig4_modelling/tf_tf_pairs_stability/Uterine_vocab_group.csv']"
      ]
     },
     "execution_count": 20,
     "metadata": {},
     "output_type": "execute_result"
    }
   ],
   "source": [
    "sorted(glob.glob('../data/processed/fig4_modelling/tf_tf_pairs_stability/'+'*vocab*'))"
   ]
  },
  {
   "cell_type": "code",
   "execution_count": 21,
   "metadata": {},
   "outputs": [
    {
     "data": {
      "text/plain": [
       "['../data/processed/fig4_modelling/tf_tf_pairs/expr_Airway_loop_loop_vocab_info.csv',\n",
       " '../data/processed/fig4_modelling/tf_tf_pairs/expr_Airway_pro_pro_vocab_info.csv',\n",
       " '../data/processed/fig4_modelling/tf_tf_pairs/expr_Astrocytes_loop_loop_vocab_info.csv',\n",
       " '../data/processed/fig4_modelling/tf_tf_pairs/expr_Astrocytes_pro_pro_vocab_info.csv',\n",
       " '../data/processed/fig4_modelling/tf_tf_pairs/expr_Bladder_loop_loop_vocab_info.csv',\n",
       " '../data/processed/fig4_modelling/tf_tf_pairs/expr_Bladder_pro_pro_vocab_info.csv',\n",
       " '../data/processed/fig4_modelling/tf_tf_pairs/expr_Colon_loop_loop_vocab_info.csv',\n",
       " '../data/processed/fig4_modelling/tf_tf_pairs/expr_Colon_pro_pro_vocab_info.csv',\n",
       " '../data/processed/fig4_modelling/tf_tf_pairs/expr_Esophageal_loop_loop_vocab_info.csv',\n",
       " '../data/processed/fig4_modelling/tf_tf_pairs/expr_Esophageal_pro_pro_vocab_info.csv',\n",
       " '../data/processed/fig4_modelling/tf_tf_pairs/expr_GDSD6_loop_loop_vocab_info.csv',\n",
       " '../data/processed/fig4_modelling/tf_tf_pairs/expr_GDSD6_pro_pro_vocab_info.csv',\n",
       " '../data/processed/fig4_modelling/tf_tf_pairs/expr_GM12878_loop_loop_vocab_info.csv',\n",
       " '../data/processed/fig4_modelling/tf_tf_pairs/expr_GM12878_pro_pro_vocab_info.csv',\n",
       " '../data/processed/fig4_modelling/tf_tf_pairs/expr_HMEC_loop_loop_vocab_info.csv',\n",
       " '../data/processed/fig4_modelling/tf_tf_pairs/expr_HMEC_pro_pro_vocab_info.csv',\n",
       " '../data/processed/fig4_modelling/tf_tf_pairs/expr_Melanocytes_loop_loop_vocab_info.csv',\n",
       " '../data/processed/fig4_modelling/tf_tf_pairs/expr_Melanocytes_pro_pro_vocab_info.csv',\n",
       " '../data/processed/fig4_modelling/tf_tf_pairs/expr_Ovarian_loop_loop_vocab_info.csv',\n",
       " '../data/processed/fig4_modelling/tf_tf_pairs/expr_Ovarian_pro_pro_vocab_info.csv',\n",
       " '../data/processed/fig4_modelling/tf_tf_pairs/expr_Pancreas_loop_loop_vocab_info.csv',\n",
       " '../data/processed/fig4_modelling/tf_tf_pairs/expr_Pancreas_pro_pro_vocab_info.csv',\n",
       " '../data/processed/fig4_modelling/tf_tf_pairs/expr_Prostate_loop_loop_vocab_info.csv',\n",
       " '../data/processed/fig4_modelling/tf_tf_pairs/expr_Prostate_pro_pro_vocab_info.csv',\n",
       " '../data/processed/fig4_modelling/tf_tf_pairs/expr_Renal_loop_loop_vocab_info.csv',\n",
       " '../data/processed/fig4_modelling/tf_tf_pairs/expr_Renal_pro_pro_vocab_info.csv',\n",
       " '../data/processed/fig4_modelling/tf_tf_pairs/expr_Thyroid_loop_loop_vocab_info.csv',\n",
       " '../data/processed/fig4_modelling/tf_tf_pairs/expr_Thyroid_pro_pro_vocab_info.csv',\n",
       " '../data/processed/fig4_modelling/tf_tf_pairs/expr_Uterine_loop_loop_vocab_info.csv',\n",
       " '../data/processed/fig4_modelling/tf_tf_pairs/expr_Uterine_pro_pro_vocab_info.csv',\n",
       " '../data/processed/fig4_modelling/tf_tf_pairs/unique_alltissue_loop_loop_vocab_info.csv',\n",
       " '../data/processed/fig4_modelling/tf_tf_pairs/unique_alltissue_pro_loop_vocab_info.csv',\n",
       " '../data/processed/fig4_modelling/tf_tf_pairs/unique_alltissue_pro_pro_vocab_info.csv',\n",
       " '../data/processed/fig4_modelling/tf_tf_pairs/unique_alltissue_vocab_info.csv',\n",
       " '../data/processed/fig4_modelling/tf_tf_pairs/unique_alltissue_vocab_info.xlsx']"
      ]
     },
     "execution_count": 21,
     "metadata": {},
     "output_type": "execute_result"
    }
   ],
   "source": [
    "sorted(glob.glob(vocab_dir+'*vocab*'))"
   ]
  },
  {
   "cell_type": "markdown",
   "metadata": {},
   "source": [
    "## 2B helper functions"
   ]
  },
  {
   "cell_type": "code",
   "execution_count": 8,
   "metadata": {},
   "outputs": [],
   "source": [
    "def get_other_vocab_word(row, next_row):\n",
    "    if row['vocab']!=next_row['vocab']:\n",
    "        return False\n",
    "    \n",
    "    vocab_word = set(row['tf'])\n",
    "    vocab_set = set(row['vocab'].split('::'))\n",
    "    other_vocab = list(vocab_set -  vocab_word)[0]\n",
    "    return other_vocab == next_row['tf']\n",
    "\n",
    "def check_distance(row,next_row,max_dist=MAX_DIST):\n",
    "    if row['chr_m']==next_row['chr_m']:\n",
    "        if row['stop_m']<next_row['start_m']:\n",
    "            tot_dist = next_row['stop_m'] - row['start_m']\n",
    "            btn_dist = next_row['start_m'] - row['stop_m']\n",
    "            return (tot_dist < max_dist), tot_dist, btn_dist\n",
    "    return False,-1,-1\n",
    "\n",
    "def check_tissue(row,next_row,tfs=TFS):\n",
    "    if (row['tf'] in tfs) & (next_row['tf'] in tfs):\n",
    "        return 'both'\n",
    "    elif (row['tf'] in tfs) | (next_row['tf'] in tfs):\n",
    "        return 'one'    \n",
    "    else:\n",
    "        return 'none'\n",
    "    \n",
    "def get_hits(vocab_file,tfs=TFS):\n",
    "    print('**** reading', vocab_file)\n",
    "    vocab_df = pd.read_csv(vocab_file)\n",
    "    print(vocab_df.shape)\n",
    "    idx = 0\n",
    "    idx_hits = 0\n",
    "    results_dict = {}\n",
    "    while idx < (vocab_df.shape[0]-1):\n",
    "        # look at next \n",
    "        row = vocab_df.iloc[idx,:]\n",
    "        next_row = vocab_df.iloc[idx+1,:]\n",
    "\n",
    "        check_vocab_pair = get_other_vocab_word(row,next_row)\n",
    "        check_dist,tot_dist, btn_dist = check_distance(row, next_row)\n",
    "        check_tissue_tf = check_tissue(row,next_row,tfs)\n",
    "        if (check_dist and check_vocab_pair):\n",
    "    #         print('hi',idx)\n",
    "    #         print(row)\n",
    "    #         print(next_row)\n",
    "\n",
    "            results_dict[idx_hits] = {'vocab_pair':row['vocab'],'tot_dist':tot_dist,'btn_dist':btn_dist,\n",
    "                                      'chr':row['chr'],'start':row['start_m'],'stop':next_row['stop_m'], \n",
    "                                      'vocab1':row['tf'],'vocab1_start':row['start_m'], 'vocab1_stop': row['stop_m'],\n",
    "                                      'vocab2':next_row['tf'],'vocab2_start':next_row['start_m'], 'vocab2_stop': next_row['stop_m'],\n",
    "                                      'genes':row['genes'],'num_genes':len(row['genes'].split('|')), 'tissue':row['tissue'],\n",
    "                                     'check_tissuetf':check_tissue_tf}\n",
    "            idx_hits+=1\n",
    "\n",
    "        idx+=1\n",
    "    print('num_hits',idx_hits)\n",
    "    results_df = pd.DataFrame.from_dict(results_dict, orient='index')\n",
    "    return results_df\n",
    "    \n",
    "def filter_results(results_df,min_hits_per_vocab=10):\n",
    "    print('shape', results_df.shape)\n",
    "    vocab_counts = results_df.vocab_pair.value_counts()\n",
    "    print('original num vocab',vocab_counts.shape[0])\n",
    "    vocab_to_include = vocab_counts[vocab_counts>min_hits_per_vocab].index.values\n",
    "    print('filt num vocab',vocab_to_include.shape[0])\n",
    "    \n",
    "    results_df_filt = results_df[results_df.vocab_pair.isin(vocab_to_include)]\n",
    "    return results_df_filt\n",
    "\n",
    "    "
   ]
  },
  {
   "cell_type": "markdown",
   "metadata": {},
   "source": [
    "# 3. Vocabulary genomic instances - running\n",
    "\n",
    "## 3A get expression and stability for loop-loop regions"
   ]
  },
  {
   "cell_type": "code",
   "execution_count": 9,
   "metadata": {},
   "outputs": [],
   "source": [
    "# ###TESTING PURPOSES\n",
    "# vocab_df = pd.read_csv('../data/processed/fig4_modelling/tf_tf_pairs/expr_GDSD6_pro_pro_vocab_info.csv')\n",
    "# print(vocab_df.shape)\n",
    "# vocab_df[:5]"
   ]
  },
  {
   "cell_type": "code",
   "execution_count": 10,
   "metadata": {},
   "outputs": [
    {
     "name": "stdout",
     "output_type": "stream",
     "text": [
      "**** reading ../data/processed/fig4_modelling/tf_tf_pairs/expr_GDSD6_pro_pro_vocab_info.csv\n",
      "(33235, 15)\n",
      "num_hits 5866\n",
      "**** reading ../data/processed/fig4_modelling/tf_tf_pairs_stability/GDSD6_pro_pro_vocab.csv\n",
      "(52520, 18)\n",
      "num_hits 1378\n",
      "CPU times: user 33.5 s, sys: 83.9 ms, total: 33.5 s\n",
      "Wall time: 33.6 s\n"
     ]
    }
   ],
   "source": [
    "%%time\n",
    "# filtered so that at least 10 genomic instances of vocab pair in significantly found in expressed genes \n",
    "results_expr_pro_pro = get_hits('../data/processed/fig4_modelling/tf_tf_pairs/expr_'+TISSUE+'_pro_pro_vocab_info.csv')\n",
    "results_stability_pro_pro = get_hits('../data/processed/fig4_modelling/tf_tf_pairs_stability/'+TISSUE+'_pro_pro_vocab.csv')\n",
    "\n"
   ]
  },
  {
   "cell_type": "code",
   "execution_count": 11,
   "metadata": {},
   "outputs": [
    {
     "name": "stdout",
     "output_type": "stream",
     "text": [
      "**** reading ../data/processed/fig4_modelling/tf_tf_pairs/expr_GDSD6_loop_loop_vocab_info.csv\n",
      "(264771, 15)\n",
      "num_hits 33180\n",
      "**** reading ../data/processed/fig4_modelling/tf_tf_pairs_stability/GDSD6_loop_loop_vocab.csv\n",
      "(491218, 18)\n",
      "num_hits 7741\n",
      "CPU times: user 5min 7s, sys: 989 ms, total: 5min 8s\n",
      "Wall time: 5min 5s\n"
     ]
    }
   ],
   "source": [
    "%%time\n",
    "### TAKES AWHILE\n",
    "results_expr_loop_loop = get_hits('../data/processed/fig4_modelling/tf_tf_pairs/expr_'+TISSUE+'_loop_loop_vocab_info.csv')\n",
    "results_stability_loop_loop = get_hits('../data/processed/fig4_modelling/tf_tf_pairs_stability/'+TISSUE+'_loop_loop_vocab.csv')\n"
   ]
  },
  {
   "cell_type": "markdown",
   "metadata": {},
   "source": [
    "## 3B raw statistics (pre genomic instance filter)"
   ]
  },
  {
   "cell_type": "code",
   "execution_count": 12,
   "metadata": {},
   "outputs": [
    {
     "name": "stdout",
     "output_type": "stream",
     "text": [
      "num motifs in pro_pro 140\n",
      "['ARID5B', 'ASCL2', 'ATF2', 'ATF4', 'ATF7', 'BACH1', 'BACH2', 'BARX2', 'BCL11A', 'BCL6', 'CEBPB', 'CEBPD', 'CEBPG', 'CREB1', 'CREB5', 'CREM', 'DBP', 'DDIT3', 'DLX2', 'DLX3', 'DLX5', 'E2F2', 'E2F8', 'EGR2', 'EGR3', 'ELF5', 'EPAS1', 'ESRRA', 'ETV3', 'FOS', 'FOSB', 'FOSL1', 'FOSL2', 'FOXA2', 'FOXD1', 'FOXH1', 'FOXP2', 'GATA3', 'GLI3', 'GRHL1', 'GRHL2', 'HBP1', 'HES5', 'HMGA1', 'HOXA1', 'HOXA10', 'HOXA5', 'HOXA9', 'HOXC10', 'HOXC11', 'HOXC13', 'HOXC6', 'HOXC9', 'HOXD8', 'ID4', 'IRF6', 'IRF7', 'IRX2', 'IRX3', 'ISL1', 'JUN', 'JUNB', 'JUND', 'KLF4', 'KLF5', 'KLF9', 'MAF', 'MAFB', 'MAFF', 'MAFG', 'MAFK', 'MEIS2', 'MSX2', 'MZF1', 'NFATC1', 'NFATC2', 'NFATC4', 'NFE2L1', 'NFE2L2', 'NFIA', 'NFIB', 'NFIC', 'NFIL3', 'NR2C2', 'NR3C1', 'NR3C2', 'OSR2', 'OVOL2', 'PITX1', 'PITX2', 'PLAG1', 'PLAGL1', 'POU2F1', 'POU2F2', 'POU2F3', 'PRDM1', 'RARG', 'RFX2', 'RFX3', 'RORA', 'RREB1', 'SALL4', 'SMAD3', 'SMAD4', 'SMARCA1', 'SNAI2', 'SOX15', 'SOX7', 'SP2', 'SREBF2', 'STAT3', 'TBX19', 'TBX3', 'TCF12', 'TCF4', 'TCF7L2', 'TEAD1', 'TEAD3', 'TFE3', 'TGIF1', 'THRA', 'THRB', 'TP53', 'TP63', 'UBP1', 'ZBTB18', 'ZBTB49', 'ZBTB6', 'ZFHX3', 'ZNF134', 'ZNF143', 'ZNF250', 'ZNF329', 'ZNF335', 'ZNF384', 'ZNF436', 'ZNF467', 'ZNF554', 'ZNF563', 'ZNF768']\n",
      "num motifs in loop_loop 142\n",
      "['ARID3A', 'ARID5B', 'ASCL2', 'ATF2', 'ATF4', 'ATF7', 'BACH1', 'BACH2', 'BARX2', 'BCL11A', 'BCL6', 'CEBPB', 'CEBPD', 'CEBPG', 'CREB1', 'CREB5', 'CREM', 'DBP', 'DDIT3', 'DLX2', 'DLX3', 'DLX5', 'E2F2', 'E2F8', 'EGR2', 'EGR3', 'ELF5', 'EPAS1', 'ESRRA', 'ETV3', 'FOS', 'FOSB', 'FOSL1', 'FOSL2', 'FOXA2', 'FOXD1', 'FOXH1', 'FOXP2', 'GATA3', 'GLI3', 'GRHL1', 'GRHL2', 'HBP1', 'HES5', 'HMGA1', 'HOXA10', 'HOXA5', 'HOXA7', 'HOXA9', 'HOXC10', 'HOXC11', 'HOXC13', 'HOXC6', 'HOXC9', 'HOXD8', 'ID4', 'IRF6', 'IRF7', 'IRX2', 'IRX3', 'ISL1', 'JUN', 'JUNB', 'JUND', 'KLF4', 'KLF5', 'KLF9', 'MAF', 'MAFB', 'MAFF', 'MAFG', 'MAFK', 'MEIS2', 'MSX2', 'MZF1', 'NFATC1', 'NFATC2', 'NFATC4', 'NFE2L1', 'NFE2L2', 'NFIA', 'NFIB', 'NFIC', 'NFIL3', 'NR2C2', 'NR3C1', 'NR3C2', 'OSR2', 'OVOL2', 'PITX1', 'PITX2', 'PLAG1', 'PLAGL1', 'POU2F1', 'POU2F2', 'POU2F3', 'PRDM1', 'RARG', 'RFX2', 'RFX3', 'RORA', 'RREB1', 'SALL4', 'SMAD3', 'SMAD4', 'SMARCA1', 'SNAI2', 'SOX15', 'SOX7', 'SP2', 'SREBF2', 'STAT3', 'TBX19', 'TBX3', 'TCF12', 'TCF4', 'TCF7L2', 'TEAD1', 'TEAD3', 'TFE3', 'TFEB', 'TGIF1', 'THRA', 'THRB', 'TP53', 'TP63', 'UBP1', 'ZBTB18', 'ZBTB49', 'ZBTB6', 'ZFHX3', 'ZNF134', 'ZNF143', 'ZNF250', 'ZNF329', 'ZNF335', 'ZNF384', 'ZNF436', 'ZNF467', 'ZNF554', 'ZNF563', 'ZNF768']\n"
     ]
    }
   ],
   "source": [
    "motifs_pro_pro = sorted(set(list(results_expr_pro_pro.vocab1.unique())+list(results_expr_pro_pro.vocab2.unique())))\n",
    "print('num motifs in pro_pro', len(motifs_pro_pro))\n",
    "print(motifs_pro_pro)\n",
    "\n",
    "\n",
    "motifs_loop_loop = sorted(set(list(results_expr_loop_loop.vocab1.unique())+list(results_expr_loop_loop.vocab2.unique())))\n",
    "print('num motifs in loop_loop', len(motifs_loop_loop))\n",
    "print(motifs_loop_loop)"
   ]
  },
  {
   "cell_type": "code",
   "execution_count": 13,
   "metadata": {},
   "outputs": [
    {
     "name": "stdout",
     "output_type": "stream",
     "text": [
      "pre genomic instance filter\n",
      "num vocab in expression enrichment (pro-pro region):  1106\n",
      "num vocab in expression enrichment intersected with stability (pro-pro region):  224\n",
      "['ARID5B::ATF7' 'ARID5B::HOXC11' 'ARID5B::SREBF2' 'ARID5B::STAT3'\n",
      " 'ARID5B::TCF12' 'ARID5B::TFE3' 'ATF2::ATF7' 'ATF2::E2F2' 'ATF2::EGR2'\n",
      " 'ATF2::EGR3' 'ATF2::SREBF2' 'ATF4::ATF7' 'ATF4::BARX2' 'ATF4::E2F8'\n",
      " 'ATF4::SP2' 'ATF4::SREBF2' 'ATF7::BACH1' 'ATF7::BARX2' 'ATF7::CEBPG'\n",
      " 'ATF7::CREB1' 'ATF7::DDIT3' 'ATF7::E2F8' 'ATF7::EGR2' 'ATF7::EGR3'\n",
      " 'ATF7::EPAS1' 'ATF7::FOS' 'ATF7::FOSB' 'ATF7::FOSL2' 'ATF7::HBP1'\n",
      " 'ATF7::HMGA1' 'ATF7::JUN' 'ATF7::JUNB' 'ATF7::JUND' 'ATF7::KLF4'\n",
      " 'ATF7::MAFF' 'ATF7::MAFG' 'ATF7::MAFK' 'ATF7::NFATC4' 'ATF7::NFE2L1'\n",
      " 'ATF7::NFE2L2' 'ATF7::NFIA' 'ATF7::NFIB' 'ATF7::NFIC' 'ATF7::RREB1'\n",
      " 'ATF7::SNAI2' 'ATF7::SP2' 'ATF7::SREBF2' 'ATF7::TEAD1' 'ATF7::TP63'\n",
      " 'ATF7::UBP1' 'ATF7::ZNF335' 'BACH1::BARX2' 'BACH1::EGR2' 'BACH1::NFATC4'\n",
      " 'BACH1::SREBF2' 'BARX2::FOXH1' 'BARX2::HBP1' 'BARX2::HOXA10'\n",
      " 'BARX2::MAFG' 'BARX2::POU2F1' 'BARX2::SMARCA1' 'BARX2::SREBF2'\n",
      " 'BARX2::TFE3' 'BARX2::TGIF1' 'BARX2::THRA' 'BARX2::UBP1' 'BARX2::ZFHX3'\n",
      " 'BCL6::EGR2' 'BCL6::NFATC4' 'BCL6::OSR2' 'BCL6::SP2' 'BCL6::THRB'\n",
      " 'CEBPB::E2F2' 'CEBPB::NFATC4' 'CEBPB::SREBF2' 'CEBPD::NFATC4'\n",
      " 'CEBPG::NFATC4' 'CEBPG::SREBF2' 'CEBPG::STAT3' 'CREB1::EGR2'\n",
      " 'CREB1::HMGA1' 'CREB1::MAFG' 'CREB1::NFATC4' 'CREB1::NFE2L1'\n",
      " 'CREB1::UBP1' 'CREM::E2F8' 'CREM::EGR2' 'CREM::SP2' 'CREM::SREBF2'\n",
      " 'CREM::ZNF554' 'DBP::TFE3' 'DDIT3::E2F8' 'DDIT3::HOXC11' 'DDIT3::NFATC4'\n",
      " 'DDIT3::ZNF384' 'DLX3::NFATC4' 'E2F2::FOSL1' 'E2F2::JUN' 'E2F2::JUNB'\n",
      " 'E2F2::JUND' 'E2F2::SMARCA1' 'E2F2::TFE3' 'E2F8::FOS' 'E2F8::MAFG'\n",
      " 'E2F8::NFE2L1' 'E2F8::SMAD3' 'EGR2::FOSB' 'EGR2::FOSL1' 'EGR2::GRHL2'\n",
      " 'EGR2::HOXA1' 'EGR2::HOXA9' 'EGR2::JUN' 'EGR2::MAFF' 'EGR2::MAFG'\n",
      " 'EGR2::MAFK' 'EGR2::NFE2L1' 'EGR2::NFIA' 'EGR2::NFIB' 'EGR2::SMARCA1'\n",
      " 'EGR2::SNAI2' 'EGR2::SOX15' 'EGR2::SREBF2' 'EGR2::STAT3' 'EGR2::TBX3'\n",
      " 'EGR2::TEAD1' 'EGR2::TFE3' 'EGR2::THRA' 'EGR2::THRB' 'EGR2::TP63'\n",
      " 'EGR2::ZNF335' 'EGR2::ZNF384' 'EGR3::MAFF' 'EGR3::NFIA' 'EGR3::NFIB'\n",
      " 'EGR3::SNAI2' 'EGR3::STAT3' 'EGR3::TBX3' 'EGR3::TP63' 'EGR3::ZNF143'\n",
      " 'EPAS1::TFE3' 'FOSB::SREBF2' 'FOSB::TFE3' 'FOSL2::SREBF2' 'FOXD1::PITX2'\n",
      " 'GATA3::NFATC4' 'GRHL2::TFE3' 'HBP1::HOXC6' 'HBP1::SREBF2' 'HMGA1::STAT3'\n",
      " 'HMGA1::TFE3' 'HOXA10::NFATC4' 'HOXA10::TFE3' 'HOXC13::POU2F1'\n",
      " 'HOXC13::ZFHX3' 'HOXC13::ZNF335' 'HOXC6::NFIL3' 'HOXD8::ZNF335'\n",
      " 'IRF6::SP2' 'JUN::SREBF2' 'JUN::TFE3' 'JUNB::SREBF2' 'JUND::TFE3'\n",
      " 'KLF4::SREBF2' 'KLF4::TFE3' 'MAFG::NFATC4' 'MAFK::SREBF2' 'MAFK::STAT3'\n",
      " 'NFATC4::SMARCA1' 'NFATC4::STAT3' 'NFATC4::TFE3' 'NFATC4::ZFHX3'\n",
      " 'NFE2L1::STAT3' 'NFE2L1::TFE3' 'NFE2L1::ZNF143' 'NFIA::STAT3'\n",
      " 'NFIA::TFE3' 'NFIA::ZNF143' 'NFIB::SP2' 'NFIB::SREBF2' 'NFIC::OSR2'\n",
      " 'NFIC::SP2' 'NFIL3::SREBF2' 'NFIL3::STAT3' 'NR3C1::STAT3' 'NR3C1::TFE3'\n",
      " 'OSR2::SMAD3' 'OSR2::ZNF335' 'PITX2::ZFHX3' 'PLAG1::SMARCA1'\n",
      " 'PLAG1::SREBF2' 'PLAG1::TCF12' 'PLAG1::TFE3' 'PLAG1::TGIF1'\n",
      " 'PLAG1::ZNF335' 'RFX2::TFE3' 'RREB1::SREBF2' 'RREB1::ZNF143' 'SMAD3::SP2'\n",
      " 'SMAD3::TFE3' 'SMAD3::ZNF143' 'SMARCA1::STAT3' 'SNAI2::SREBF2'\n",
      " 'SNAI2::STAT3' 'SNAI2::TFE3' 'SOX7::SP2' 'SP2::SREBF2' 'SP2::TCF12'\n",
      " 'SP2::THRA' 'SREBF2::TCF12' 'SREBF2::TEAD1' 'SREBF2::TGIF1'\n",
      " 'SREBF2::TP63' 'SREBF2::UBP1' 'SREBF2::ZNF335' 'SREBF2::ZNF384'\n",
      " 'STAT3::TP63' 'STAT3::UBP1' 'STAT3::ZFHX3' 'TBX3::TFE3' 'TCF12::UBP1'\n",
      " 'TEAD1::ZNF384' 'TFE3::UBP1' 'TFE3::ZFHX3' 'UBP1::ZNF143']\n",
      "num vocab in expression enrichment (loop-loop region):  2200\n",
      "num vocab in expression enrichment intersected with stability (loop-loop region):  384\n",
      "['ARID5B::ATF7' 'ARID5B::CUX1' 'ARID5B::HOXC11' 'ARID5B::SREBF2'\n",
      " 'ARID5B::STAT3' 'ARID5B::TCF12' 'ARID5B::TFE3' 'ARID5B::ZNF143'\n",
      " 'ATF2::ATF7' 'ATF2::E2F2' 'ATF2::E2F8' 'ATF2::EGR2' 'ATF2::EGR3'\n",
      " 'ATF2::SREBF2' 'ATF2::TCF12' 'ATF2::TFE3' 'ATF4::ATF7' 'ATF4::BARX2'\n",
      " 'ATF4::E2F2' 'ATF4::E2F8' 'ATF4::EGR2' 'ATF4::HOXC13' 'ATF4::PLAG1'\n",
      " 'ATF4::SP2' 'ATF4::SREBF2' 'ATF4::TCF12' 'ATF4::TFE3' 'ATF7::BACH1'\n",
      " 'ATF7::BARX2' 'ATF7::CEBPG' 'ATF7::CREB1' 'ATF7::DBP' 'ATF7::DDIT3'\n",
      " 'ATF7::E2F8' 'ATF7::EGR2' 'ATF7::EGR3' 'ATF7::EPAS1' 'ATF7::FOS'\n",
      " 'ATF7::FOSB' 'ATF7::FOSL1' 'ATF7::FOSL2' 'ATF7::HBP1' 'ATF7::HMGA1'\n",
      " 'ATF7::HOXA10' 'ATF7::HOXC6' 'ATF7::JUN' 'ATF7::JUNB' 'ATF7::JUND'\n",
      " 'ATF7::KLF4' 'ATF7::MAFF' 'ATF7::MAFG' 'ATF7::MAFK' 'ATF7::NFATC4'\n",
      " 'ATF7::NFE2L1' 'ATF7::NFE2L2' 'ATF7::NFIA' 'ATF7::NFIB' 'ATF7::NFIC'\n",
      " 'ATF7::NFIL3' 'ATF7::NR3C1' 'ATF7::PLAG1' 'ATF7::RREB1' 'ATF7::SMAD3'\n",
      " 'ATF7::SMAD4' 'ATF7::SMARCA1' 'ATF7::SNAI2' 'ATF7::SP2' 'ATF7::SREBF2'\n",
      " 'ATF7::TBX3' 'ATF7::TCF12' 'ATF7::TGIF1' 'ATF7::THRA' 'ATF7::TP53'\n",
      " 'ATF7::TP63' 'ATF7::UBP1' 'ATF7::ZFHX3' 'ATF7::ZNF335' 'BACH1::BARX2'\n",
      " 'BACH1::EGR2' 'BACH1::NFATC4' 'BACH1::SREBF2' 'BACH1::STAT3'\n",
      " 'BACH1::TCF12' 'BACH1::TFE3' 'BARX2::FOXH1' 'BARX2::HBP1' 'BARX2::HOXA10'\n",
      " 'BARX2::MAFG' 'BARX2::POU2F1' 'BARX2::SMARCA1' 'BARX2::SREBF2'\n",
      " 'BARX2::TFE3' 'BARX2::TGIF1' 'BARX2::THRA' 'BARX2::UBP1' 'BARX2::ZFHX3'\n",
      " 'BARX2::ZNF143' 'BCL6::EGR2' 'BCL6::NFATC4' 'BCL6::OSR2' 'BCL6::SP2'\n",
      " 'BCL6::SREBF2' 'BCL6::THRB' 'CEBPB::E2F2' 'CEBPB::EGR2' 'CEBPB::HOXC6'\n",
      " 'CEBPB::NFATC4' 'CEBPB::SP2' 'CEBPB::SREBF2' 'CEBPB::TFE3' 'CEBPD::E2F8'\n",
      " 'CEBPD::NFATC4' 'CEBPD::PLAG1' 'CEBPD::SREBF2' 'CEBPD::TFE3'\n",
      " 'CEBPG::NFATC4' 'CEBPG::SREBF2' 'CEBPG::STAT3' 'CEBPG::TCF12'\n",
      " 'CREB1::EGR2' 'CREB1::FOSB' 'CREB1::HMGA1' 'CREB1::HOXA1' 'CREB1::MAFG'\n",
      " 'CREB1::NFATC4' 'CREB1::NFE2L1' 'CREB1::TFE3' 'CREB1::TP63' 'CREB1::UBP1'\n",
      " 'CREM::E2F8' 'CREM::EGR2' 'CREM::SP2' 'CREM::SREBF2' 'CREM::TCF12'\n",
      " 'CREM::ZNF554' 'CUX1::NFE2L1' 'CUX1::NFIA' 'CUX1::TP63' 'CUX1::UBP1'\n",
      " 'DBP::TFE3' 'DDIT3::E2F2' 'DDIT3::E2F8' 'DDIT3::EGR2' 'DDIT3::HOXC11'\n",
      " 'DDIT3::NFATC4' 'DDIT3::SREBF2' 'DDIT3::TCF12' 'DLX3::E2F8'\n",
      " 'DLX3::HOXC13' 'DLX3::NFATC4' 'E2F2::FOSL1' 'E2F2::JUN' 'E2F2::JUNB'\n",
      " 'E2F2::JUND' 'E2F2::SMAD3' 'E2F2::SMARCA1' 'E2F8::FOS' 'E2F8::FOSB'\n",
      " 'E2F8::FOSL1' 'E2F8::JUN' 'E2F8::JUND' 'E2F8::MAFF' 'E2F8::MAFG'\n",
      " 'E2F8::NFE2L1' 'E2F8::NFIB' 'E2F8::SMARCA1' 'E2F8::THRA' 'E2F8::TP53'\n",
      " 'E2F8::ZNF143' 'EGR2::FOSB' 'EGR2::FOSL1' 'EGR2::GRHL2' 'EGR2::HOXA1'\n",
      " 'EGR2::HOXA7' 'EGR2::HOXA9' 'EGR2::HOXC11' 'EGR2::HOXD8' 'EGR2::JUN'\n",
      " 'EGR2::MAFF' 'EGR2::MAFG' 'EGR2::MAFK' 'EGR2::NFE2L1' 'EGR2::NFIA'\n",
      " 'EGR2::NFIB' 'EGR2::OVOL1' 'EGR2::OVOL2' 'EGR2::SMARCA1' 'EGR2::SNAI2'\n",
      " 'EGR2::SOX15' 'EGR2::SOX7' 'EGR2::SREBF2' 'EGR2::STAT3' 'EGR2::TBX3'\n",
      " 'EGR2::TEAD1' 'EGR2::TFE3' 'EGR2::THRA' 'EGR2::THRB' 'EGR2::TP63'\n",
      " 'EGR2::ZFHX3' 'EGR2::ZNF143' 'EGR2::ZNF335' 'EGR2::ZNF384' 'EGR3::FOSB'\n",
      " 'EGR3::MAFF' 'EGR3::MAFG' 'EGR3::NFIA' 'EGR3::NFIB' 'EGR3::SNAI2'\n",
      " 'EGR3::STAT3' 'EGR3::TBX3' 'EGR3::TFE3' 'EGR3::TP63' 'EGR3::ZNF143'\n",
      " 'EPAS1::STAT3' 'EPAS1::TFE3' 'EPAS1::ZNF143' 'FOS::STAT3' 'FOS::ZNF143'\n",
      " 'FOSB::HOXC11' 'FOSB::PLAG1' 'FOSB::SREBF2' 'FOSB::TFE3' 'FOSB::ZNF143'\n",
      " 'FOSL1::ZNF143' 'FOSL2::SREBF2' 'FOXD1::HOXC13' 'FOXD1::HOXC6'\n",
      " 'FOXD1::PITX2' 'FOXD1::SREBF2' 'FOXH1::SP2' 'FOXH1::SREBF2'\n",
      " 'GATA3::NFATC4' 'GATA3::TFE3' 'GATA3::ZNF143' 'GRHL2::TFE3'\n",
      " 'HBP1::HOXC11' 'HBP1::HOXC6' 'HBP1::SREBF2' 'HBP1::TCF12' 'HBP1::ZNF384'\n",
      " 'HMGA1::STAT3' 'HMGA1::TFE3' 'HMGA1::ZNF143' 'HOXA10::NFATC4'\n",
      " 'HOXA10::TFE3' 'HOXA1::TCF12' 'HOXA9::SREBF2' 'HOXC11::SREBF2'\n",
      " 'HOXC11::ZFHX3' 'HOXC13::NFIB' 'HOXC13::NFIL3' 'HOXC13::POU2F1'\n",
      " 'HOXC13::SREBF2' 'HOXC13::ZFHX3' 'HOXC13::ZNF335' 'HOXC6::NFIL3'\n",
      " 'HOXC6::POU2F1' 'HOXC6::SNAI2' 'HOXC6::SREBF2' 'HOXC6::TEAD1'\n",
      " 'HOXC6::ZFHX3' 'HOXC6::ZNF335' 'HOXD8::ZNF335' 'IRF6::SP2' 'IRF6::SREBF2'\n",
      " 'JUN::SREBF2' 'JUN::TFE3' 'JUN::ZNF143' 'JUNB::PLAG1' 'JUNB::SREBF2'\n",
      " 'JUND::TFE3' 'JUND::ZNF143' 'KLF4::SREBF2' 'KLF4::TFE3' 'MAFF::STAT3'\n",
      " 'MAFF::TFE3' 'MAFF::ZNF143' 'MAFG::NFATC4' 'MAFK::SREBF2' 'MAFK::STAT3'\n",
      " 'MAFK::TFE3' 'MAFK::ZNF143' 'MEIS2::SREBF2' 'MEIS2::TFE3' 'MEIS2::ZNF335'\n",
      " 'NFATC4::SMARCA1' 'NFATC4::STAT3' 'NFATC4::TFE3' 'NFATC4::ZFHX3'\n",
      " 'NFATC4::ZNF143' 'NFE2L1::STAT3' 'NFE2L1::TFE3' 'NFE2L1::ZNF143'\n",
      " 'NFE2L2::ZNF143' 'NFIA::STAT3' 'NFIA::TFE3' 'NFIA::ZNF143' 'NFIB::OSR2'\n",
      " 'NFIB::SP2' 'NFIB::SREBF2' 'NFIC::OSR2' 'NFIC::SP2' 'NFIL3::SREBF2'\n",
      " 'NFIL3::STAT3' 'NR3C1::STAT3' 'NR3C1::TFE3' 'NR3C1::ZNF143' 'OSR2::SMAD3'\n",
      " 'OSR2::SREBF2' 'OSR2::TCF12' 'OSR2::TFE3' 'OSR2::ZNF335' 'OVOL2::SREBF2'\n",
      " 'OVOL2::TFE3' 'PITX2::SNAI2' 'PITX2::ZFHX3' 'PLAG1::SMARCA1'\n",
      " 'PLAG1::SREBF2' 'PLAG1::TCF12' 'PLAG1::TFE3' 'PLAG1::TGIF1'\n",
      " 'PLAG1::ZFHX3' 'PLAG1::ZNF335' 'POU2F1::SREBF2' 'RFX2::TFE3'\n",
      " 'RFX2::ZNF143' 'RREB1::SREBF2' 'RREB1::TFE3' 'RREB1::ZNF143' 'SMAD3::SP2'\n",
      " 'SMAD3::TFE3' 'SMAD3::ZNF143' 'SMARCA1::SREBF2' 'SMARCA1::STAT3'\n",
      " 'SMARCA1::TFE3' 'SNAI2::SREBF2' 'SNAI2::STAT3' 'SNAI2::TFE3' 'SOX7::SP2'\n",
      " 'SOX7::SREBF2' 'SOX7::TFE3' 'SP2::SREBF2' 'SP2::TCF12' 'SP2::TGIF1'\n",
      " 'SP2::THRA' 'SP2::ZFHX3' 'SREBF2::TCF12' 'SREBF2::TEAD1' 'SREBF2::TGIF1'\n",
      " 'SREBF2::THRA' 'SREBF2::THRB' 'SREBF2::TP63' 'SREBF2::UBP1'\n",
      " 'SREBF2::ZFHX3' 'SREBF2::ZNF335' 'SREBF2::ZNF384' 'SREBF2::ZNF768'\n",
      " 'STAT3::TP63' 'STAT3::UBP1' 'STAT3::ZFHX3' 'TBX3::TFE3' 'TBX3::ZNF143'\n",
      " 'TCF12::TGIF1' 'TCF12::THRA' 'TCF12::UBP1' 'TCF12::ZFHX3' 'TEAD1::TFE3'\n",
      " 'TEAD1::ZNF384' 'TFE3::TGIF1' 'TFE3::THRA' 'TFE3::TP53' 'TFE3::TP63'\n",
      " 'TFE3::UBP1' 'TFE3::ZFHX3' 'TFE3::ZNF143' 'TGIF1::ZNF554' 'THRA::THRB'\n",
      " 'THRA::ZNF143' 'THRB::ZNF143' 'TP63::ZNF143' 'UBP1::ZNF143'\n",
      " 'ZFHX3::ZNF384' 'ZNF143::ZNF768' 'ZNF335::ZNF384']\n"
     ]
    }
   ],
   "source": [
    "print('pre genomic instance filter')\n",
    "print('num vocab in expression enrichment (pro-pro region): ', results_expr_pro_pro.vocab_pair.unique().shape[0])\n",
    "print('num vocab in expression enrichment intersected with stability (pro-pro region): ', results_stability_pro_pro.vocab_pair.unique().shape[0])\n",
    "print(results_stability_pro_pro.vocab_pair.unique())\n",
    "print('num vocab in expression enrichment (loop-loop region): ', results_expr_loop_loop.vocab_pair.unique().shape[0])\n",
    "print('num vocab in expression enrichment intersected with stability (loop-loop region): ', results_stability_loop_loop.vocab_pair.unique().shape[0])\n",
    "print(results_stability_loop_loop.vocab_pair.unique())\n"
   ]
  },
  {
   "cell_type": "markdown",
   "metadata": {},
   "source": [
    "## 3C. filter expression enriched vocab words if then have at least 10 genomic instances then get stats"
   ]
  },
  {
   "cell_type": "code",
   "execution_count": 14,
   "metadata": {},
   "outputs": [
    {
     "name": "stdout",
     "output_type": "stream",
     "text": [
      "shape (5866, 16)\n",
      "original num vocab 1106\n",
      "filt num vocab 105\n"
     ]
    }
   ],
   "source": [
    "results_expr_pro_pro = filter_results(results_expr_pro_pro,min_hits_per_vocab=10)\n",
    "# print(results_expr_pro_pro.vocab_pair.unique().shape)\n",
    "# results_expr_pro_pro.vocab_pair.unique()"
   ]
  },
  {
   "cell_type": "code",
   "execution_count": 15,
   "metadata": {},
   "outputs": [
    {
     "name": "stdout",
     "output_type": "stream",
     "text": [
      "shape (33180, 16)\n",
      "original num vocab 2200\n",
      "filt num vocab 525\n"
     ]
    }
   ],
   "source": [
    "results_expr_loop_loop = filter_results(results_expr_loop_loop,min_hits_per_vocab=10)\n",
    "# print(results_expr_loop_loop.vocab_pair.unique().shape)\n",
    "# results_expr_loop_loop.vocab_pair.unique()"
   ]
  },
  {
   "cell_type": "code",
   "execution_count": 16,
   "metadata": {},
   "outputs": [
    {
     "name": "stdout",
     "output_type": "stream",
     "text": [
      "shape (1378, 16)\n",
      "original num vocab 224\n",
      "filt num vocab 26\n",
      "shape (7741, 16)\n",
      "original num vocab 384\n",
      "filt num vocab 94\n"
     ]
    }
   ],
   "source": [
    "results_stability_pro_pro = filter_results(results_stability_pro_pro,min_hits_per_vocab=10)\n",
    "results_stability_loop_loop = filter_results(results_stability_loop_loop,min_hits_per_vocab=10)\n"
   ]
  },
  {
   "cell_type": "code",
   "execution_count": 17,
   "metadata": {},
   "outputs": [
    {
     "name": "stdout",
     "output_type": "stream",
     "text": [
      "post genomic instance filter\n",
      "num vocab in expression enrichment (pro-pro region):  105\n",
      "num vocab in expression enrichment intersected with stability (pro-pro region):  26\n",
      "['ARID5B::ATF7' 'ARID5B::TCF12' 'ARID5B::TFE3' 'ATF4::BARX2' 'ATF7::BARX2'\n",
      " 'ATF7::SP2' 'ATF7::UBP1' 'BACH1::EGR2' 'BARX2::HBP1' 'BARX2::HOXA10'\n",
      " 'BARX2::MAFG' 'BARX2::POU2F1' 'BARX2::UBP1' 'EGR2::MAFF' 'EGR2::MAFG'\n",
      " 'EGR2::NFE2L1' 'EGR2::NFIA' 'EGR2::SREBF2' 'EGR2::TP63' 'EGR3::NFIA'\n",
      " 'KLF4::SREBF2' 'MAFG::NFATC4' 'NFIB::SP2' 'NFIC::SP2' 'SREBF2::UBP1'\n",
      " 'TCF12::UBP1']\n",
      "num vocab in expression enrichment (loop-loop region):  525\n",
      "num vocab in expression enrichment intersected with stability (loop-loop region):  94\n",
      "['ARID5B::ATF7' 'ARID5B::HOXC11' 'ARID5B::SREBF2' 'ARID5B::TCF12'\n",
      " 'ARID5B::TFE3' 'ARID5B::ZNF143' 'ATF4::BARX2' 'ATF4::EGR2' 'ATF4::SP2'\n",
      " 'ATF7::BARX2' 'ATF7::EGR2' 'ATF7::HMGA1' 'ATF7::KLF4' 'ATF7::NFE2L1'\n",
      " 'ATF7::NFIA' 'ATF7::SP2' 'ATF7::UBP1' 'BACH1::BARX2' 'BACH1::EGR2'\n",
      " 'BACH1::NFATC4' 'BARX2::FOXH1' 'BARX2::HBP1' 'BARX2::HOXA10'\n",
      " 'BARX2::MAFG' 'BARX2::POU2F1' 'BARX2::SMARCA1' 'BARX2::SREBF2'\n",
      " 'BARX2::TGIF1' 'BARX2::UBP1' 'CEBPB::EGR2' 'CREM::EGR2' 'CUX1::UBP1'\n",
      " 'DDIT3::EGR2' 'E2F8::NFE2L1' 'EGR2::FOSB' 'EGR2::FOSL1' 'EGR2::GRHL2'\n",
      " 'EGR2::HOXA1' 'EGR2::HOXC11' 'EGR2::JUN' 'EGR2::MAFF' 'EGR2::MAFG'\n",
      " 'EGR2::MAFK' 'EGR2::NFE2L1' 'EGR2::NFIA' 'EGR2::NFIB' 'EGR2::OVOL2'\n",
      " 'EGR2::SMARCA1' 'EGR2::SNAI2' 'EGR2::SOX7' 'EGR2::SREBF2' 'EGR2::TEAD1'\n",
      " 'EGR2::TFE3' 'EGR2::THRB' 'EGR2::TP63' 'EGR2::ZNF335' 'EGR2::ZNF384'\n",
      " 'EGR3::NFIA' 'EGR3::TP63' 'FOSB::PLAG1' 'FOSB::SREBF2' 'FOSL2::SREBF2'\n",
      " 'GATA3::NFATC4' 'HBP1::SREBF2' 'HOXA10::NFATC4' 'IRF6::SP2' 'JUN::SREBF2'\n",
      " 'JUNB::PLAG1' 'JUNB::SREBF2' 'KLF4::SREBF2' 'KLF4::TFE3' 'MAFG::NFATC4'\n",
      " 'MAFK::SREBF2' 'NFE2L1::TFE3' 'NFIA::STAT3' 'NFIA::TFE3' 'NFIA::ZNF143'\n",
      " 'NFIB::SP2' 'NFIC::SP2' 'PLAG1::SREBF2' 'PLAG1::TCF12' 'PLAG1::ZNF335'\n",
      " 'SMAD3::SP2' 'SOX7::SP2' 'SP2::SREBF2' 'SP2::TCF12' 'SP2::TGIF1'\n",
      " 'SREBF2::TCF12' 'SREBF2::UBP1' 'SREBF2::ZNF335' 'STAT3::UBP1'\n",
      " 'TCF12::UBP1' 'TFE3::UBP1' 'UBP1::ZNF143']\n"
     ]
    }
   ],
   "source": [
    "print('post genomic instance filter')\n",
    "print('num vocab in expression enrichment (pro-pro region): ', results_expr_pro_pro.vocab_pair.unique().shape[0])\n",
    "print('num vocab in expression enrichment intersected with stability (pro-pro region): ', results_stability_pro_pro.vocab_pair.unique().shape[0])\n",
    "print(results_stability_pro_pro.vocab_pair.unique())\n",
    "print('num vocab in expression enrichment (loop-loop region): ', results_expr_loop_loop.vocab_pair.unique().shape[0])\n",
    "print('num vocab in expression enrichment intersected with stability (loop-loop region): ', results_stability_loop_loop.vocab_pair.unique().shape[0])\n",
    "print(results_stability_loop_loop.vocab_pair.unique())\n"
   ]
  },
  {
   "cell_type": "markdown",
   "metadata": {},
   "source": [
    "## 3D filter expr vocab words based on whether there is they are annotated for skin"
   ]
  },
  {
   "cell_type": "code",
   "execution_count": 18,
   "metadata": {},
   "outputs": [
    {
     "data": {
      "text/plain": [
       "none    67\n",
       "one     45\n",
       "both    38\n",
       "Name: check_tissuetf, dtype: int64"
      ]
     },
     "execution_count": 18,
     "metadata": {},
     "output_type": "execute_result"
    }
   ],
   "source": [
    "results_expr_pro_pro[['vocab_pair','check_tissuetf']].drop_duplicates().check_tissuetf.value_counts()"
   ]
  },
  {
   "cell_type": "code",
   "execution_count": 19,
   "metadata": {},
   "outputs": [
    {
     "data": {
      "text/plain": [
       "none    336\n",
       "one     212\n",
       "both    188\n",
       "Name: check_tissuetf, dtype: int64"
      ]
     },
     "execution_count": 19,
     "metadata": {},
     "output_type": "execute_result"
    }
   ],
   "source": [
    "results_expr_loop_loop[['vocab_pair','check_tissuetf']].drop_duplicates().check_tissuetf.value_counts()"
   ]
  },
  {
   "cell_type": "markdown",
   "metadata": {},
   "source": [
    "shows fraction of vocab words having tissue specific motif configuration (`both` are tissue specific, `one` is tissue specific, or `none` are)\n",
    "\n",
    "\n",
    "MAKE SURE #s are around 40 ish so pick `one` or `both`"
   ]
  },
  {
   "cell_type": "code",
   "execution_count": 20,
   "metadata": {},
   "outputs": [
    {
     "name": "stdout",
     "output_type": "stream",
     "text": [
      "pro-pro region\n",
      "total vocab: 105 tissue annon vocab: 38\n",
      "['ASCL2::KLF4' 'ATF2::BARX2' 'ATF4::BARX2' 'ATF7::BARX2' 'BARX2::CEBPD'\n",
      " 'BARX2::CREB5' 'BARX2::CREM' 'BARX2::EGR3' 'BARX2::ELF5' 'BARX2::GATA3'\n",
      " 'BARX2::HOXA10' 'BARX2::ID4' 'BARX2::MAFG' 'BARX2::NFIC' 'BARX2::NFIL3'\n",
      " 'BARX2::POU2F1' 'BARX2::SALL4' 'BARX2::SOX7' 'BARX2::TEAD3' 'EGR2::KLF4'\n",
      " 'EGR2::KLF5' 'EGR2::TP63' 'EGR3::KLF4' 'EGR3::KLF5' 'ELF5::KLF4'\n",
      " 'ELF5::KLF5' 'ELF5::NFATC4' 'ID4::KLF4' 'ID4::RORA' 'KLF4::SALL4'\n",
      " 'KLF4::SREBF2' 'KLF5::MAFG' 'KLF5::NFIC' 'KLF5::SALL4' 'KLF5::SREBF2'\n",
      " 'KLF5::ZBTB6' 'KLF5::ZNF563' 'RORA::ZNF467']\n",
      "loop-loop region\n",
      "total vocab: 525 tissue annon vocab: 188\n",
      "['ARID3A::KLF5' 'ASCL2::KLF4' 'ATF2::BARX2' 'ATF2::KLF5' 'ATF2::NFATC4'\n",
      " 'ATF2::RORA' 'ATF4::BARX2' 'ATF4::KLF5' 'ATF7::BARX2' 'ATF7::KLF4'\n",
      " 'ATF7::KLF5' 'BACH1::KLF5' 'BACH1::RORA' 'BACH2::RORA' 'BARX2::CEBPD'\n",
      " 'BARX2::CEBPG' 'BARX2::CREB5' 'BARX2::CREM' 'BARX2::DLX3' 'BARX2::EGR3'\n",
      " 'BARX2::ELF5' 'BARX2::FOXH1' 'BARX2::GATA3' 'BARX2::HOXA10' 'BARX2::ID4'\n",
      " 'BARX2::IRF6' 'BARX2::MAFG' 'BARX2::NFIC' 'BARX2::NFIL3' 'BARX2::POU2F1'\n",
      " 'BARX2::SALL4' 'BARX2::SOX7' 'BARX2::TEAD3' 'BARX2::ZBTB18' 'BCL6::KLF5'\n",
      " 'CEBPB::KLF5' 'CEBPD::KLF5' 'CEBPG::RORA' 'CREB5::KLF4' 'CREB5::KLF5'\n",
      " 'CREM::KLF5' 'DDIT3::KLF5' 'DDIT3::RORA' 'DLX2::JUN' 'DLX2::KLF5'\n",
      " 'DLX5::KLF5' 'EGR2::JUN' 'EGR2::JUND' 'EGR2::KLF4' 'EGR2::KLF5'\n",
      " 'EGR2::MAF' 'EGR2::RORA' 'EGR2::TP63' 'EGR3::FOSL2' 'EGR3::JUN'\n",
      " 'EGR3::KLF4' 'EGR3::KLF5' 'EGR3::MAF' 'EGR3::RARG' 'EGR3::RORA'\n",
      " 'EGR3::TP63' 'ELF5::FOSL2' 'ELF5::JUN' 'ELF5::JUNB' 'ELF5::JUND'\n",
      " 'ELF5::KLF4' 'ELF5::KLF5' 'ELF5::NFATC4' 'ELF5::NFIC' 'ELF5::RARG'\n",
      " 'ELF5::RORA' 'ELF5::TP63' 'ELF5::ZNF467' 'ESRRA::KLF5' 'FOS::RORA'\n",
      " 'FOSB::RORA' 'FOSL1::RORA' 'FOSL2::ID4' 'FOSL2::PLAG1' 'FOSL2::RORA'\n",
      " 'FOSL2::SALL4' 'FOSL2::SREBF2' 'FOXD1::KLF5' 'FOXH1::KLF5' 'FOXP2::KLF4'\n",
      " 'GATA3::KLF5' 'HBP1::KLF5' 'HBP1::MAFB' 'HBP1::RORA' 'HMGA1::KLF5'\n",
      " 'HMGA1::RORA' 'HOXA10::KLF5' 'HOXA10::RORA' 'HOXA1::KLF5' 'HOXC10::KLF5'\n",
      " 'HOXC11::KLF5' 'HOXC13::KLF5' 'HOXC6::KLF5' 'HOXD8::KLF5' 'ID4::JUN'\n",
      " 'ID4::JUNB' 'ID4::JUND' 'ID4::KLF4' 'ID4::MAFB' 'ID4::NR3C1' 'ID4::RARG'\n",
      " 'ID4::RORA' 'ID4::TP63' 'IRF7::KLF5' 'IRF7::RORA' 'IRX3::KLF5'\n",
      " 'IRX3::RORA' 'ISL1::KLF4' 'ISL1::KLF5' 'JUN::PLAG1' 'JUN::RORA'\n",
      " 'JUN::SALL4' 'JUN::SREBF2' 'JUNB::PLAG1' 'JUNB::RORA' 'JUNB::SALL4'\n",
      " 'JUNB::SREBF2' 'JUND::PLAG1' 'JUND::RORA' 'JUND::SALL4' 'JUND::SREBF2'\n",
      " 'KLF4::POU2F3' 'KLF4::SALL4' 'KLF4::SREBF2' 'KLF4::STAT3' 'KLF4::TFE3'\n",
      " 'KLF4::ZNF143' 'KLF5::MAFG' 'KLF5::MAFK' 'KLF5::MEIS2' 'KLF5::NFE2L2'\n",
      " 'KLF5::NFIC' 'KLF5::NFIL3' 'KLF5::NR3C1' 'KLF5::PITX1' 'KLF5::PITX2'\n",
      " 'KLF5::POU2F1' 'KLF5::POU2F2' 'KLF5::SALL4' 'KLF5::SMARCA1' 'KLF5::SOX7'\n",
      " 'KLF5::SREBF2' 'KLF5::TCF7L2' 'KLF5::TEAD3' 'KLF5::TFE3' 'KLF5::THRA'\n",
      " 'KLF5::ZBTB18' 'KLF5::ZBTB49' 'KLF5::ZBTB6' 'KLF5::ZFHX3' 'KLF5::ZNF143'\n",
      " 'KLF5::ZNF563' 'MAF::NFIC' 'MAF::SREBF2' 'MAFB::NFIC' 'MAFB::SALL4'\n",
      " 'MAFF::RORA' 'MAFG::RORA' 'NFATC2::RORA' 'NFE2L1::RORA' 'NFE2L2::RORA'\n",
      " 'NFIC::RARG' 'NFIC::RORA' 'NR3C1::RORA' 'NR3C1::SALL4' 'NR3C1::TCF12'\n",
      " 'NR3C1::ZNF467' 'NR3C1::ZNF554' 'PRDM1::RORA' 'RARG::SALL4'\n",
      " 'RARG::SREBF2' 'RORA::SALL4' 'RORA::SMAD3' 'RORA::SREBF2' 'RORA::TCF12'\n",
      " 'RORA::THRA' 'RORA::TP53' 'RORA::TP63' 'RORA::UBP1' 'RORA::ZNF134'\n",
      " 'RORA::ZNF335' 'RORA::ZNF467' 'SALL4::TP63']\n"
     ]
    }
   ],
   "source": [
    "filter_thres = ['both']#'both' # 'one'#'none','one',\n",
    "results_expr_pro_pro_tissue = results_expr_pro_pro[results_expr_pro_pro.check_tissuetf.isin(filter_thres)]\n",
    "print('pro-pro region')\n",
    "print('total vocab:',results_expr_pro_pro.vocab_pair.unique().shape[0],'tissue annon vocab:', results_expr_pro_pro_tissue.vocab_pair.unique().shape[0])\n",
    "print(results_expr_pro_pro_tissue.vocab_pair.unique())\n",
    "\n",
    "results_expr_loop_loop_tissue = results_expr_loop_loop[results_expr_loop_loop.check_tissuetf.isin(filter_thres)]\n",
    "print('loop-loop region')\n",
    "print('total vocab:',results_expr_loop_loop.vocab_pair.unique().shape[0],'tissue annon vocab:', results_expr_loop_loop_tissue.vocab_pair.unique().shape[0])\n",
    "print(results_expr_loop_loop_tissue.vocab_pair.unique())"
   ]
  },
  {
   "cell_type": "markdown",
   "metadata": {},
   "source": [
    "## 3E add in stability scores vocab pairs that pass the genomic instance filter and get genomic instance counts"
   ]
  },
  {
   "cell_type": "code",
   "execution_count": 24,
   "metadata": {},
   "outputs": [],
   "source": [
    "def get_counts(results_df, label):\n",
    "    vocab_to_checktissue = pd.Series(results_df.check_tissuetf.values, index=results_df.vocab_pair.values).to_dict()\n",
    "    counts_df = pd.DataFrame(results_df.vocab_pair.value_counts())\n",
    "    counts_df.columns = ['num_instance']\n",
    "    counts_df['label']=label\n",
    "    counts_df.index.set_names('vocab',inplace=True)\n",
    "    counts_df.reset_index(inplace=True)\n",
    "\n",
    "    counts_df['check_tissue'] = counts_df.vocab.map(vocab_to_checktissue)\n",
    "    return counts_df"
   ]
  },
  {
   "cell_type": "code",
   "execution_count": 25,
   "metadata": {},
   "outputs": [
    {
     "data": {
      "text/plain": [
       "expr_loop_tissue                                                 141\n",
       "stability_loop                                                    59\n",
       "expr_pro_tissue|expr_loop_tissue                                  31\n",
       "stability_pro|stability_loop                                      19\n",
       "stability_loop|expr_loop_tissue                                    9\n",
       "stability_pro|expr_pro_tissue|stability_loop|expr_loop_tissue      7\n",
       "Name: label, dtype: int64"
      ]
     },
     "execution_count": 25,
     "metadata": {},
     "output_type": "execute_result"
    }
   ],
   "source": [
    "vocab_summary_df = pd.concat([ get_counts(results_stability_pro_pro, 'stability_pro'),\n",
    "            get_counts(results_expr_pro_pro_tissue, 'expr_pro_tissue'),\n",
    "            get_counts(results_stability_loop_loop, 'stability_loop'),\n",
    "            get_counts(results_expr_loop_loop_tissue, 'expr_loop_tissue')],axis=0)\n",
    "vocab_summary_df = vocab_summary_df.groupby('vocab').agg({'num_instance':sum, 'check_tissue':lambda x: ''.join(list(set(x))),'label':'|'.join}).reset_index()\n",
    "vocab_summary_df['tissue']=TISSUE\n",
    "vocab_summary_df.label.value_counts()\n",
    "# results_stability_loop_loop.vocab_pair.unique()"
   ]
  },
  {
   "cell_type": "code",
   "execution_count": 26,
   "metadata": {},
   "outputs": [
    {
     "data": {
      "text/html": [
       "<div>\n",
       "<style scoped>\n",
       "    .dataframe tbody tr th:only-of-type {\n",
       "        vertical-align: middle;\n",
       "    }\n",
       "\n",
       "    .dataframe tbody tr th {\n",
       "        vertical-align: top;\n",
       "    }\n",
       "\n",
       "    .dataframe thead th {\n",
       "        text-align: right;\n",
       "    }\n",
       "</style>\n",
       "<table border=\"1\" class=\"dataframe\">\n",
       "  <thead>\n",
       "    <tr style=\"text-align: right;\">\n",
       "      <th></th>\n",
       "      <th>vocab</th>\n",
       "      <th>num_instance</th>\n",
       "      <th>check_tissue</th>\n",
       "      <th>label</th>\n",
       "      <th>tissue</th>\n",
       "    </tr>\n",
       "  </thead>\n",
       "  <tbody>\n",
       "    <tr>\n",
       "      <td>0</td>\n",
       "      <td>ARID3A::KLF5</td>\n",
       "      <td>21</td>\n",
       "      <td>both</td>\n",
       "      <td>expr_loop_tissue</td>\n",
       "      <td>GDSD6</td>\n",
       "    </tr>\n",
       "    <tr>\n",
       "      <td>1</td>\n",
       "      <td>ARID5B::ATF7</td>\n",
       "      <td>119</td>\n",
       "      <td>none</td>\n",
       "      <td>stability_pro|stability_loop</td>\n",
       "      <td>GDSD6</td>\n",
       "    </tr>\n",
       "    <tr>\n",
       "      <td>2</td>\n",
       "      <td>ARID5B::HOXC11</td>\n",
       "      <td>64</td>\n",
       "      <td>none</td>\n",
       "      <td>stability_loop</td>\n",
       "      <td>GDSD6</td>\n",
       "    </tr>\n",
       "    <tr>\n",
       "      <td>3</td>\n",
       "      <td>ARID5B::SREBF2</td>\n",
       "      <td>131</td>\n",
       "      <td>none</td>\n",
       "      <td>stability_loop</td>\n",
       "      <td>GDSD6</td>\n",
       "    </tr>\n",
       "    <tr>\n",
       "      <td>4</td>\n",
       "      <td>ARID5B::TCF12</td>\n",
       "      <td>129</td>\n",
       "      <td>none</td>\n",
       "      <td>stability_pro|stability_loop</td>\n",
       "      <td>GDSD6</td>\n",
       "    </tr>\n",
       "  </tbody>\n",
       "</table>\n",
       "</div>"
      ],
      "text/plain": [
       "            vocab  num_instance check_tissue                         label  \\\n",
       "0    ARID3A::KLF5            21         both              expr_loop_tissue   \n",
       "1    ARID5B::ATF7           119         none  stability_pro|stability_loop   \n",
       "2  ARID5B::HOXC11            64         none                stability_loop   \n",
       "3  ARID5B::SREBF2           131         none                stability_loop   \n",
       "4   ARID5B::TCF12           129         none  stability_pro|stability_loop   \n",
       "\n",
       "  tissue  \n",
       "0  GDSD6  \n",
       "1  GDSD6  \n",
       "2  GDSD6  \n",
       "3  GDSD6  \n",
       "4  GDSD6  "
      ]
     },
     "execution_count": 26,
     "metadata": {},
     "output_type": "execute_result"
    }
   ],
   "source": [
    "vocab_summary_df[:5]"
   ]
  },
  {
   "cell_type": "code",
   "execution_count": 27,
   "metadata": {},
   "outputs": [],
   "source": [
    "vocab_summary_df.to_csv(os.path.join(save_dir, TISSUE+'_vocab_summary.csv'))"
   ]
  },
  {
   "cell_type": "code",
   "execution_count": null,
   "metadata": {},
   "outputs": [],
   "source": []
  }
 ],
 "metadata": {
  "kernelspec": {
   "display_name": "Python 3",
   "language": "python",
   "name": "python3"
  },
  "language_info": {
   "codemirror_mode": {
    "name": "ipython",
    "version": 3
   },
   "file_extension": ".py",
   "mimetype": "text/x-python",
   "name": "python",
   "nbconvert_exporter": "python",
   "pygments_lexer": "ipython3",
   "version": "3.7.4"
  }
 },
 "nbformat": 4,
 "nbformat_minor": 4
}
