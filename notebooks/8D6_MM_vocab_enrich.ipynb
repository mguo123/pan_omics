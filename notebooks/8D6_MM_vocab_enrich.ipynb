{
 "cells": [
  {
   "cell_type": "markdown",
   "metadata": {},
   "source": [
    "08/20/2020\n",
    "\n",
    "MM Vocab Finder"
   ]
  },
  {
   "cell_type": "code",
   "execution_count": 1,
   "metadata": {},
   "outputs": [],
   "source": [
    "# basic packages\n",
    "import os, glob\n",
    "import pandas as pd\n",
    "import numpy as np; np.random.seed(0)\n",
    "import itertools\n",
    "from collections import Counter, defaultdict\n",
    "import time\n",
    "# Import tools needed for visualization\n",
    "import seaborn as sns; sns.set()\n",
    "import matplotlib\n",
    "import matplotlib.pyplot as plt"
   ]
  },
  {
   "cell_type": "code",
   "execution_count": 2,
   "metadata": {},
   "outputs": [],
   "source": [
    "save_dir = '../data/processed/fig4_modelling/vocab_sum/'\n",
    "if not os.path.exists(save_dir):\n",
    "    os.makedirs(save_dir)"
   ]
  },
  {
   "cell_type": "code",
   "execution_count": 3,
   "metadata": {},
   "outputs": [],
   "source": [
    "TISSUE = 'MM'"
   ]
  },
  {
   "cell_type": "code",
   "execution_count": 4,
   "metadata": {},
   "outputs": [],
   "source": [
    "MAX_DIST=135\n"
   ]
  },
  {
   "cell_type": "code",
   "execution_count": 6,
   "metadata": {},
   "outputs": [
    {
     "name": "stdout",
     "output_type": "stream",
     "text": [
      "36\n",
      "['ATF4', 'CERS2', 'CPEB1', 'CSDE1', 'EDF1', 'EIF3K', 'ETS1', 'EWSR1', 'GATA1', 'H1F0', 'HMG20B', 'HMGB1', 'IFI16', 'IRF4', 'KLF9', 'LEF1', 'MITF', 'NFE2L1', 'PAX3', 'PHB2', 'PLXNC1', 'PSG1', 'RB1', 'SNAI2', 'SOX10', 'SP1', 'SREBF2', 'STAT1', 'TBX3', 'TCEAL8', 'TCF4', 'TFAP2A', 'USF2', 'YBX1', 'YY1', 'ZFP106']\n"
     ]
    }
   ],
   "source": [
    "#get tfs\n",
    "tf_df = pd.read_csv('../data/external/transcription_factor_info_063020.csv')\n",
    "TFS = sorted(set(tf_df[tf_df['cell_type']=='Melanocytes'][\"tf\"]))##### DIFFERENT FOR EACH TISSUE\n",
    "TFS = sorted(set(TFS+['CPEB1','KLF9','TBX3','TCF4','GATA1','STAT1','SP1','PSG1']))\n",
    "print(len(TFS))\n",
    "print(TFS)\n"
   ]
  },
  {
   "cell_type": "code",
   "execution_count": 7,
   "metadata": {},
   "outputs": [],
   "source": [
    "vocab_dir = '../data/processed/fig4_modelling/tf_tf_pairs/'"
   ]
  },
  {
   "cell_type": "markdown",
   "metadata": {},
   "source": [
    "read in loop_types"
   ]
  },
  {
   "cell_type": "code",
   "execution_count": 8,
   "metadata": {},
   "outputs": [
    {
     "data": {
      "text/plain": [
       "['../data/processed/fig4_modelling/tf_tf_pairs_mm/expr_WM-SCR-DMSO_loop_type.csv',\n",
       " '../data/processed/fig4_modelling/tf_tf_pairs_mm/expr_COLO-SCR-DMSO_loop_type.csv',\n",
       " '../data/processed/fig4_modelling/tf_tf_pairs_mm/diff_WM-SCR-DMSO_loop_type.csv',\n",
       " '../data/processed/fig4_modelling/tf_tf_pairs_mm/diff_COLO-SCR-DMSO_loop_type.csv']"
      ]
     },
     "execution_count": 8,
     "metadata": {},
     "output_type": "execute_result"
    }
   ],
   "source": [
    "glob.glob('../data/processed/fig4_modelling/tf_tf_pairs_mm/'+'*loop_type*')"
   ]
  },
  {
   "cell_type": "markdown",
   "metadata": {},
   "source": [
    "# 1 understand the types of vocabularies pulled out and where they come from\n",
    "\n",
    "## 1A. enriched vocabularies from unique tissue genes"
   ]
  },
  {
   "cell_type": "code",
   "execution_count": 24,
   "metadata": {},
   "outputs": [],
   "source": [
    "loop_type_df_1 = pd.read_csv('../data/processed/fig4_modelling/tf_tf_pairs_mm/diff_WM-SCR-DMSO_loop_type.csv',index_col=0).fillna('')\n",
    "loop_type_df_2 = pd.read_csv('../data/processed/fig4_modelling/tf_tf_pairs_mm/diff_COLO-SCR-DMSO_loop_type.csv',index_col=0).fillna('')\n"
   ]
  },
  {
   "cell_type": "code",
   "execution_count": 25,
   "metadata": {},
   "outputs": [
    {
     "data": {
      "text/html": [
       "<div>\n",
       "<style scoped>\n",
       "    .dataframe tbody tr th:only-of-type {\n",
       "        vertical-align: middle;\n",
       "    }\n",
       "\n",
       "    .dataframe tbody tr th {\n",
       "        vertical-align: top;\n",
       "    }\n",
       "\n",
       "    .dataframe thead th {\n",
       "        text-align: right;\n",
       "    }\n",
       "</style>\n",
       "<table border=\"1\" class=\"dataframe\">\n",
       "  <thead>\n",
       "    <tr style=\"text-align: right;\">\n",
       "      <th></th>\n",
       "      <th>pro_pro_count</th>\n",
       "      <th>pro_loop_count</th>\n",
       "      <th>loop_loop_count</th>\n",
       "    </tr>\n",
       "  </thead>\n",
       "  <tbody>\n",
       "    <tr>\n",
       "      <td>ARID3A::ARID5B</td>\n",
       "      <td>6</td>\n",
       "      <td>34</td>\n",
       "      <td>276</td>\n",
       "    </tr>\n",
       "    <tr>\n",
       "      <td>ARID3A::BHLHE40</td>\n",
       "      <td>0</td>\n",
       "      <td>0</td>\n",
       "      <td>24</td>\n",
       "    </tr>\n",
       "    <tr>\n",
       "      <td>ARID3A::DLX1</td>\n",
       "      <td>1</td>\n",
       "      <td>4</td>\n",
       "      <td>77</td>\n",
       "    </tr>\n",
       "    <tr>\n",
       "      <td>ARID3A::DLX2</td>\n",
       "      <td>2</td>\n",
       "      <td>7</td>\n",
       "      <td>133</td>\n",
       "    </tr>\n",
       "    <tr>\n",
       "      <td>ARID3A::EGR2</td>\n",
       "      <td>0</td>\n",
       "      <td>9</td>\n",
       "      <td>136</td>\n",
       "    </tr>\n",
       "  </tbody>\n",
       "</table>\n",
       "</div>"
      ],
      "text/plain": [
       "                 pro_pro_count  pro_loop_count  loop_loop_count\n",
       "ARID3A::ARID5B               6              34              276\n",
       "ARID3A::BHLHE40              0               0               24\n",
       "ARID3A::DLX1                 1               4               77\n",
       "ARID3A::DLX2                 2               7              133\n",
       "ARID3A::EGR2                 0               9              136"
      ]
     },
     "execution_count": 25,
     "metadata": {},
     "output_type": "execute_result"
    }
   ],
   "source": [
    "loop_type_df_all = loop_type_df_1[['pro_pro_count','pro_loop_count','loop_pro_count','loop_loop_count']]+loop_type_df_2[['pro_pro_count','pro_loop_count','loop_pro_count','loop_loop_count']]\n",
    "loop_type_df_all['pro_loop_count'] = loop_type_df_all['pro_loop_count']+ loop_type_df_all['loop_pro_count']\n",
    "loop_type_df_all = loop_type_df_all[['pro_pro_count','pro_loop_count','loop_loop_count']]\n",
    "loop_type_df_all[:5]"
   ]
  },
  {
   "cell_type": "code",
   "execution_count": 26,
   "metadata": {},
   "outputs": [
    {
     "name": "stdout",
     "output_type": "stream",
     "text": [
      "66\n"
     ]
    }
   ],
   "source": [
    "# for motifs\n",
    "# 1. get motifs\n",
    "motifs = set()\n",
    "for vocab_pair in loop_type_df_all.index.values:\n",
    "    v1, v2 = vocab_pair.split('::')\n",
    "    motifs.add(v1)\n",
    "    motifs.add(v2)\n",
    "motifs = sorted(motifs)\n",
    "print(len(motifs))\n",
    "\n",
    "# 2. initialize counts\n",
    "motif_counts_dict = {}\n",
    "for motif in motifs:\n",
    "    motif_counts_dict[motif] = {'pro_pro_count':0,'loop_loop_count':0,'pro_loop_count':0} #list of counts for pro_pro_count, loop_loop_count, pro_loop_count, respectively\n",
    "    \n",
    "# 3. run through loop_type_df to fill in motif_counts_dict\n",
    "for vocab_pair, row in loop_type_df_all.iterrows():\n",
    "    v1, v2 = vocab_pair.split('::')\n",
    "    motif_counts_dict[v1]['pro_pro_count'] +=row['pro_pro_count']\n",
    "    motif_counts_dict[v2]['pro_pro_count'] +=row['pro_pro_count']\n",
    "    motif_counts_dict[v1]['loop_loop_count'] +=row['loop_loop_count']\n",
    "    motif_counts_dict[v2]['loop_loop_count'] +=row['loop_loop_count']\n",
    "    motif_counts_dict[v1]['pro_loop_count'] +=row['pro_loop_count']\n",
    "    motif_counts_dict[v2]['pro_loop_count'] +=row['pro_loop_count']\n",
    "            \n",
    "motif_counts_df = pd.DataFrame.from_dict(motif_counts_dict,orient='index')   \n",
    "motif_counts_df_norm = motif_counts_df/motif_counts_df.sum(axis=0)\n",
    "motif_counts_df_norm_sel = motif_counts_df_norm.reset_index()[motif_counts_df_norm.reset_index()['index'].isin(TFS)]\n",
    "motif_counts_df_norm_sel.set_index('index',inplace=True)"
   ]
  },
  {
   "cell_type": "code",
   "execution_count": 27,
   "metadata": {},
   "outputs": [
    {
     "data": {
      "image/png": "[encoded data removed]",
      "text/plain": [
       "<Figure size 1440x504 with 1 Axes>"
      ]
     },
     "metadata": {
      "needs_background": "light"
     },
     "output_type": "display_data"
    }
   ],
   "source": [
    "# all tfs\n",
    "ax = motif_counts_df_norm.sort_values('pro_pro_count').plot(kind='bar', stacked=True,figsize = (20,7),fontsize=9)\n",
    "ax.figure.savefig(os.path.join(save_dir, TISSUE+'_diff_config_count_bar.pdf'))\n"
   ]
  },
  {
   "cell_type": "code",
   "execution_count": 28,
   "metadata": {},
   "outputs": [
    {
     "data": {
      "image/png": "[encoded data removed]",
      "text/plain": [
       "<Figure size 720x504 with 1 Axes>"
      ]
     },
     "metadata": {
      "needs_background": "light"
     },
     "output_type": "display_data"
    }
   ],
   "source": [
    "# same graph as before but only for tissue specific TFS\n",
    "\n",
    "ax = motif_counts_df_norm_sel.sort_values('pro_pro_count').plot(kind='bar', stacked=True,figsize = (10,7),fontsize=12)\n",
    "ax.figure.savefig(os.path.join(save_dir, TISSUE+'_diff_config_count_sel_bar.pdf'))\n"
   ]
  },
  {
   "cell_type": "markdown",
   "metadata": {},
   "source": [
    "this shows the likelihood of the motif appears in a vocab pair from pro_pro, pro_loop, or loop_loop configurations, GIVEN that it does appear at all (so normalized by both the probability of the configuration type as well as by the motif frequency itself\n"
   ]
  },
  {
   "cell_type": "code",
   "execution_count": 29,
   "metadata": {},
   "outputs": [
    {
     "data": {
      "image/png": "[encoded data removed]",
      "text/plain": [
       "<Figure size 1440x504 with 1 Axes>"
      ]
     },
     "metadata": {
      "needs_background": "light"
     },
     "output_type": "display_data"
    }
   ],
   "source": [
    "ax = motif_counts_df_norm.div(motif_counts_df_norm.sum(axis=1),axis=0).sort_values('pro_pro_count').plot(kind='bar', stacked=True,\n",
    "                                                                                                    figsize = (20,7),fontsize=9)\n",
    "ax.figure.savefig(os.path.join(save_dir, TISSUE+'_diff_config_count_norm_bar.pdf'))\n"
   ]
  },
  {
   "cell_type": "code",
   "execution_count": 30,
   "metadata": {},
   "outputs": [
    {
     "data": {
      "image/png": "[encoded data removed]",
      "text/plain": [
       "<Figure size 720x504 with 1 Axes>"
      ]
     },
     "metadata": {
      "needs_background": "light"
     },
     "output_type": "display_data"
    }
   ],
   "source": [
    "ax = motif_counts_df_norm_sel.div(motif_counts_df_norm_sel.sum(axis=1),axis=0).sort_values('pro_pro_count').plot(kind='bar', stacked=True,\n",
    "                                                                                                    figsize = (10,7),fontsize=12)\n",
    "ax.figure.savefig(os.path.join(save_dir, TISSUE+'_diff_config_count_norm_sel_bar.pdf'))\n"
   ]
  },
  {
   "cell_type": "markdown",
   "metadata": {},
   "source": [
    "## 1b enriched vocab from expressed genes in all scc lines"
   ]
  },
  {
   "cell_type": "code",
   "execution_count": 31,
   "metadata": {},
   "outputs": [],
   "source": [
    "loop_type_df_1 = pd.read_csv('../data/processed/fig4_modelling/tf_tf_pairs_mm/expr_WM-SCR-DMSO_loop_type.csv',index_col=0).fillna('')\n",
    "loop_type_df_2 = pd.read_csv('../data/processed/fig4_modelling/tf_tf_pairs_mm/expr_COLO-SCR-DMSO_loop_type.csv',index_col=0).fillna('')\n"
   ]
  },
  {
   "cell_type": "code",
   "execution_count": 32,
   "metadata": {},
   "outputs": [
    {
     "data": {
      "text/html": [
       "<div>\n",
       "<style scoped>\n",
       "    .dataframe tbody tr th:only-of-type {\n",
       "        vertical-align: middle;\n",
       "    }\n",
       "\n",
       "    .dataframe tbody tr th {\n",
       "        vertical-align: top;\n",
       "    }\n",
       "\n",
       "    .dataframe thead th {\n",
       "        text-align: right;\n",
       "    }\n",
       "</style>\n",
       "<table border=\"1\" class=\"dataframe\">\n",
       "  <thead>\n",
       "    <tr style=\"text-align: right;\">\n",
       "      <th></th>\n",
       "      <th>pro_pro_count</th>\n",
       "      <th>pro_loop_count</th>\n",
       "      <th>loop_loop_count</th>\n",
       "    </tr>\n",
       "  </thead>\n",
       "  <tbody>\n",
       "    <tr>\n",
       "      <td>ALX4::ARNT</td>\n",
       "      <td>0</td>\n",
       "      <td>0</td>\n",
       "      <td>0</td>\n",
       "    </tr>\n",
       "    <tr>\n",
       "      <td>ALX4::ARNTL</td>\n",
       "      <td>0</td>\n",
       "      <td>0</td>\n",
       "      <td>0</td>\n",
       "    </tr>\n",
       "    <tr>\n",
       "      <td>ALX4::BATF3</td>\n",
       "      <td>0</td>\n",
       "      <td>0</td>\n",
       "      <td>0</td>\n",
       "    </tr>\n",
       "    <tr>\n",
       "      <td>ALX4::CBFB</td>\n",
       "      <td>0</td>\n",
       "      <td>0</td>\n",
       "      <td>0</td>\n",
       "    </tr>\n",
       "    <tr>\n",
       "      <td>ALX4::CEBPZ</td>\n",
       "      <td>0</td>\n",
       "      <td>0</td>\n",
       "      <td>0</td>\n",
       "    </tr>\n",
       "  </tbody>\n",
       "</table>\n",
       "</div>"
      ],
      "text/plain": [
       "             pro_pro_count  pro_loop_count  loop_loop_count\n",
       "ALX4::ARNT               0               0                0\n",
       "ALX4::ARNTL              0               0                0\n",
       "ALX4::BATF3              0               0                0\n",
       "ALX4::CBFB               0               0                0\n",
       "ALX4::CEBPZ              0               0                0"
      ]
     },
     "execution_count": 32,
     "metadata": {},
     "output_type": "execute_result"
    }
   ],
   "source": [
    "loop_type_df_all = loop_type_df_1[['pro_pro_count','pro_loop_count','loop_pro_count','loop_loop_count']]+loop_type_df_2[['pro_pro_count','pro_loop_count','loop_pro_count','loop_loop_count']]\n",
    "loop_type_df_all['pro_loop_count'] = loop_type_df_all['pro_loop_count']+ loop_type_df_all['loop_pro_count']\n",
    "loop_type_df_all = loop_type_df_all[['pro_pro_count','pro_loop_count','loop_loop_count']]\n",
    "loop_type_df_all[:5]"
   ]
  },
  {
   "cell_type": "code",
   "execution_count": 33,
   "metadata": {},
   "outputs": [
    {
     "name": "stdout",
     "output_type": "stream",
     "text": [
      "176\n",
      "(5, 4)\n"
     ]
    }
   ],
   "source": [
    "# for motifs\n",
    "# 1. get motifs\n",
    "motifs = set()\n",
    "for vocab_pair in loop_type_df_all.index.values:\n",
    "    v1, v2 = vocab_pair.split('::')\n",
    "    motifs.add(v1)\n",
    "    motifs.add(v2)\n",
    "motifs = sorted(motifs)\n",
    "print(len(motifs))\n",
    "\n",
    "# 2. initialize counts\n",
    "motif_counts_dict = {}\n",
    "for motif in motifs:\n",
    "    motif_counts_dict[motif] = {'pro_pro_count':0,'loop_loop_count':0,'pro_loop_count':0} #list of counts for pro_pro_count, loop_loop_count, pro_loop_count, respectively\n",
    "    \n",
    "# 3. run through loop_type_df to fill in motif_counts_dict\n",
    "for vocab_pair, row in loop_type_df_all.iterrows():\n",
    "    v1, v2 = vocab_pair.split('::')\n",
    "    motif_counts_dict[v1]['pro_pro_count'] +=row['pro_pro_count']\n",
    "    motif_counts_dict[v2]['pro_pro_count'] +=row['pro_pro_count']\n",
    "    motif_counts_dict[v1]['loop_loop_count'] +=row['loop_loop_count']\n",
    "    motif_counts_dict[v2]['loop_loop_count'] +=row['loop_loop_count']\n",
    "    motif_counts_dict[v1]['pro_loop_count'] +=row['pro_loop_count']\n",
    "    motif_counts_dict[v2]['pro_loop_count'] +=row['pro_loop_count']\n",
    "            \n",
    "motif_counts_df = pd.DataFrame.from_dict(motif_counts_dict,orient='index')   \n",
    "motif_counts_df_norm = motif_counts_df/motif_counts_df.sum(axis=0)\n",
    "motif_counts_df_norm_sel = motif_counts_df_norm.reset_index()[motif_counts_df_norm.reset_index()['index'].isin(TFS)]\n",
    "print(motif_counts_df_norm_sel.shape)\n",
    "motif_counts_df_norm_sel.set_index('index',inplace=True)"
   ]
  },
  {
   "cell_type": "code",
   "execution_count": 34,
   "metadata": {},
   "outputs": [
    {
     "data": {
      "image/png": "[encoded data removed]",
      "text/plain": [
       "<Figure size 1440x504 with 1 Axes>"
      ]
     },
     "metadata": {
      "needs_background": "light"
     },
     "output_type": "display_data"
    }
   ],
   "source": [
    "# all tfs\n",
    "ax = motif_counts_df_norm.sort_values('pro_pro_count').plot(kind='bar', stacked=True,figsize = (20,7),fontsize=9)\n",
    "ax.figure.savefig(os.path.join(save_dir, TISSUE+'_expr_config_count_bar.pdf'))\n"
   ]
  },
  {
   "cell_type": "code",
   "execution_count": 35,
   "metadata": {},
   "outputs": [
    {
     "data": {
      "image/png": "[encoded data removed]",
      "text/plain": [
       "<Figure size 720x504 with 1 Axes>"
      ]
     },
     "metadata": {
      "needs_background": "light"
     },
     "output_type": "display_data"
    }
   ],
   "source": [
    "#same graph as before but only for tissue specific TFS\n",
    "\n",
    "ax = motif_counts_df_norm_sel.sort_values('pro_pro_count').plot(kind='bar', stacked=True,figsize = (10,7),fontsize=12)\n",
    "ax.figure.savefig(os.path.join(save_dir, TISSUE+'_expr_config_count_sel_bar.pdf'))\n"
   ]
  },
  {
   "cell_type": "markdown",
   "metadata": {},
   "source": [
    "this shows the likelihood of the motif appears in a vocab pair from pro_pro, pro_loop, or loop_loop configurations, GIVEN that it does appear at all (so normalized by both the probability of the configuration type as well as by the motif frequency itself\n"
   ]
  },
  {
   "cell_type": "code",
   "execution_count": 45,
   "metadata": {},
   "outputs": [
    {
     "data": {
      "image/png": "[encoded data removed]",
      "text/plain": [
       "<Figure size 1440x504 with 1 Axes>"
      ]
     },
     "metadata": {
      "needs_background": "light"
     },
     "output_type": "display_data"
    }
   ],
   "source": [
    "ax = motif_counts_df_norm.div(motif_counts_df_norm.sum(axis=1),axis=0).sort_values('pro_pro_count').dropna().plot(kind='bar', stacked=True,\n",
    "                                                                                                    figsize = (20,7),fontsize=9)\n",
    "ax.figure.savefig(os.path.join(save_dir, TISSUE+'_expr_config_count_norm_bar.pdf'))\n"
   ]
  },
  {
   "cell_type": "code",
   "execution_count": 46,
   "metadata": {},
   "outputs": [
    {
     "data": {
      "image/png": "[encoded data removed]",
      "text/plain": [
       "<Figure size 720x504 with 1 Axes>"
      ]
     },
     "metadata": {
      "needs_background": "light"
     },
     "output_type": "display_data"
    }
   ],
   "source": [
    "ax = motif_counts_df_norm_sel.div(motif_counts_df_norm_sel.sum(axis=1),axis=0).sort_values('pro_pro_count').plot(kind='bar', stacked=True,\n",
    "                                                                                                    figsize = (10,7),fontsize=12)\n",
    "ax.figure.savefig(os.path.join(save_dir, TISSUE+'_expr_config_count_norm_sel_bar.pdf'))\n"
   ]
  },
  {
   "cell_type": "markdown",
   "metadata": {},
   "source": [
    "# 2. Vocabulary genomic instances - setup\n",
    "\n",
    "\n",
    "## 2A. find the locations"
   ]
  },
  {
   "cell_type": "code",
   "execution_count": 47,
   "metadata": {},
   "outputs": [
    {
     "data": {
      "text/plain": [
       "['../data/processed/fig4_modelling/tf_tf_pairs_scc/diff_A431-CTRLi_loop_loop_vocab_info.csv',\n",
       " '../data/processed/fig4_modelling/tf_tf_pairs_scc/diff_A431-CTRLi_pro_pro_vocab_info.csv',\n",
       " '../data/processed/fig4_modelling/tf_tf_pairs_scc/diff_CAL27-CTRLi_loop_loop_vocab_info.csv',\n",
       " '../data/processed/fig4_modelling/tf_tf_pairs_scc/diff_CAL27-CTRLi_pro_pro_vocab_info.csv',\n",
       " '../data/processed/fig4_modelling/tf_tf_pairs_scc/diff_SCC13-CTRLi_loop_loop_vocab_info.csv',\n",
       " '../data/processed/fig4_modelling/tf_tf_pairs_scc/diff_SCC13-CTRLi_pro_pro_vocab_info.csv',\n",
       " '../data/processed/fig4_modelling/tf_tf_pairs_scc/expr_A431-CTRLi_loop_loop_vocab_info.csv',\n",
       " '../data/processed/fig4_modelling/tf_tf_pairs_scc/expr_A431-CTRLi_pro_pro_vocab_info.csv',\n",
       " '../data/processed/fig4_modelling/tf_tf_pairs_scc/expr_CAL27-CTRLi_loop_loop_vocab_info.csv',\n",
       " '../data/processed/fig4_modelling/tf_tf_pairs_scc/expr_CAL27-CTRLi_pro_pro_vocab_info.csv',\n",
       " '../data/processed/fig4_modelling/tf_tf_pairs_scc/expr_SCC13-CTRLi_loop_loop_vocab_info.csv',\n",
       " '../data/processed/fig4_modelling/tf_tf_pairs_scc/expr_SCC13-CTRLi_pro_pro_vocab_info.csv']"
      ]
     },
     "execution_count": 47,
     "metadata": {},
     "output_type": "execute_result"
    }
   ],
   "source": [
    "sorted(glob.glob('../data/processed/fig4_modelling/tf_tf_pairs_scc/'+'*vocab*'))"
   ]
  },
  {
   "cell_type": "markdown",
   "metadata": {},
   "source": [
    "## 2B helper functions"
   ]
  },
  {
   "cell_type": "code",
   "execution_count": 48,
   "metadata": {},
   "outputs": [],
   "source": [
    "def get_other_vocab_word(row, next_row):\n",
    "    if row['vocab']!=next_row['vocab']:\n",
    "        return False\n",
    "    \n",
    "    vocab_word = set(row['tf'])\n",
    "    vocab_set = set(row['vocab'].split('::'))\n",
    "    other_vocab = list(vocab_set -  vocab_word)[0]\n",
    "    return other_vocab == next_row['tf']\n",
    "\n",
    "def check_distance(row,next_row,max_dist=MAX_DIST):\n",
    "    if row['chr_m']==next_row['chr_m']:\n",
    "        if row['stop_m']<next_row['start_m']:\n",
    "            tot_dist = next_row['stop_m'] - row['start_m']\n",
    "            btn_dist = next_row['start_m'] - row['stop_m']\n",
    "            return (tot_dist < max_dist), tot_dist, btn_dist\n",
    "    return False,-1,-1\n",
    "\n",
    "def check_tissue(row,next_row,tfs=TFS):\n",
    "    if (row['tf'] in tfs) & (next_row['tf'] in tfs):\n",
    "        return 'both'\n",
    "    elif (row['tf'] in tfs) | (next_row['tf'] in tfs):\n",
    "        return 'one'    \n",
    "    else:\n",
    "        return 'none'\n",
    "    \n",
    "def get_hits(vocab_file,tfs=TFS):\n",
    "    print('**** reading', vocab_file)\n",
    "    vocab_df = pd.read_csv(vocab_file)\n",
    "    print(vocab_df.shape)\n",
    "    idx = 0\n",
    "    idx_hits = 0\n",
    "    results_dict = {}\n",
    "    while idx < (vocab_df.shape[0]-1):\n",
    "        # look at next \n",
    "        row = vocab_df.iloc[idx,:]\n",
    "        next_row = vocab_df.iloc[idx+1,:]\n",
    "\n",
    "        check_vocab_pair = get_other_vocab_word(row,next_row)\n",
    "        check_dist,tot_dist, btn_dist = check_distance(row, next_row)\n",
    "        check_tissue_tf = check_tissue(row,next_row,tfs)\n",
    "        if (check_dist and check_vocab_pair):\n",
    "    #         print('hi',idx)\n",
    "    #         print(row)\n",
    "    #         print(next_row)\n",
    "\n",
    "            results_dict[idx_hits] = {'vocab_pair':row['vocab'],'tot_dist':tot_dist,'btn_dist':btn_dist,\n",
    "                                      'chr':row['chr'],'start':row['start_m'],'stop':next_row['stop_m'], \n",
    "                                      'vocab1':row['tf'],'vocab1_start':row['start_m'], 'vocab1_stop': row['stop_m'],\n",
    "                                      'vocab2':next_row['tf'],'vocab2_start':next_row['start_m'], 'vocab2_stop': next_row['stop_m'],\n",
    "                                      'genes':row['genes'],'num_genes':len(row['genes'].split('|')), 'tissue':row['tissue'],\n",
    "                                     'check_tissuetf':check_tissue_tf}\n",
    "            idx_hits+=1\n",
    "\n",
    "        idx+=1\n",
    "    print('num_hits',idx_hits)\n",
    "    results_df = pd.DataFrame.from_dict(results_dict, orient='index')\n",
    "    return results_df\n",
    "    \n",
    "def filter_results(results_df,min_hits_per_vocab=10):\n",
    "    print('shape', results_df.shape)\n",
    "    vocab_counts = results_df.vocab_pair.value_counts()\n",
    "    print('original num vocab',vocab_counts.shape[0])\n",
    "    vocab_to_include = vocab_counts[vocab_counts>min_hits_per_vocab].index.values\n",
    "    print('filt num vocab',vocab_to_include.shape[0])\n",
    "    \n",
    "    results_df_filt = results_df[results_df.vocab_pair.isin(vocab_to_include)]\n",
    "    return results_df_filt\n",
    "\n",
    "    "
   ]
  },
  {
   "cell_type": "markdown",
   "metadata": {},
   "source": [
    "# 3. Vocabulary genomic instances - running\n",
    "\n",
    "## 3A get expression and stability for loop-loop regions\n",
    "\n",
    "\n",
    "run through all 3 tissue types\n",
    "\n",
    "and then "
   ]
  },
  {
   "cell_type": "code",
   "execution_count": 213,
   "metadata": {},
   "outputs": [],
   "source": [
    "# ###TESTING PURPOSES\n",
    "# vocab_df = pd.read_csv('../data/processed/fig4_modelling/tf_tf_pairs/expr_GDSD6_pro_pro_vocab_info.csv')\n",
    "# print(vocab_df.shape)\n",
    "# vocab_df[:5]\n",
    "TISSUE = 'COLO-SCR-DMSO'#'WM-SCR-DMSO'#\n",
    "type_enrich = 'diff_'#'expr_'"
   ]
  },
  {
   "cell_type": "code",
   "execution_count": 214,
   "metadata": {},
   "outputs": [
    {
     "name": "stdout",
     "output_type": "stream",
     "text": [
      "**** reading ../data/processed/fig4_modelling/tf_tf_pairs_mm/diff_COLO-SCR-DMSO_pro_pro_vocab_info.csv\n",
      "(18328, 15)\n",
      "num_hits 5400\n",
      "CPU times: user 7.76 s, sys: 23.4 ms, total: 7.78 s\n",
      "Wall time: 7.79 s\n"
     ]
    }
   ],
   "source": [
    "%%time\n",
    "# filtered so that at least 10 genomic instances of vocab pair in significantly found in expressed genes \n",
    "results_expr_pro_pro = get_hits('../data/processed/fig4_modelling/tf_tf_pairs_mm/'+type_enrich+TISSUE+'_pro_pro_vocab_info.csv')\n"
   ]
  },
  {
   "cell_type": "code",
   "execution_count": 215,
   "metadata": {},
   "outputs": [
    {
     "name": "stdout",
     "output_type": "stream",
     "text": [
      "**** reading ../data/processed/fig4_modelling/tf_tf_pairs_mm/diff_COLO-SCR-DMSO_loop_loop_vocab_info.csv\n",
      "(99627, 15)\n",
      "num_hits 23406\n",
      "CPU times: user 42.3 s, sys: 166 ms, total: 42.4 s\n",
      "Wall time: 42.5 s\n"
     ]
    }
   ],
   "source": [
    "%%time\n",
    "### TAKES AWHILE\n",
    "results_expr_loop_loop = get_hits('../data/processed/fig4_modelling/tf_tf_pairs_mm/'+type_enrich+TISSUE+'_loop_loop_vocab_info.csv')\n"
   ]
  },
  {
   "cell_type": "markdown",
   "metadata": {},
   "source": [
    "## 3B raw statistics (pre genomic instance filter)"
   ]
  },
  {
   "cell_type": "code",
   "execution_count": 216,
   "metadata": {},
   "outputs": [
    {
     "name": "stdout",
     "output_type": "stream",
     "text": [
      "num motifs in pro_pro 50\n",
      "['ARID3A', 'ARID5B', 'DLX1', 'DLX2', 'EGR3', 'EN2', 'FOXD1', 'FOXJ3', 'FOXO4', 'FUBP1', 'GATA2', 'GATA3', 'HBP1', 'HMGA1', 'HOXB13', 'HOXC13', 'IRF5', 'IRX3', 'LEF1', 'MSX2', 'MZF1', 'NFAT5', 'NFATC4', 'NFE2L1', 'NR0B1', 'NR3C1', 'OLIG2', 'OTX1', 'POU3F2', 'RREB1', 'RXRG', 'SHOX2', 'SMARCA1', 'SOX10', 'SOX13', 'SOX15', 'SOX18', 'SOX2', 'SOX4', 'SOX5', 'SP4', 'STAT1', 'TCF7L2', 'TFAP4', 'TFE3', 'UBP1', 'ZBTB49', 'ZNF740', 'ZNF816', 'ZSCAN22']\n",
      "num motifs in loop_loop 55\n",
      "['ARID3A', 'ARID5B', 'BHLHE40', 'DLX1', 'DLX2', 'EGR3', 'EN2', 'FOXD1', 'FOXD2', 'FOXJ3', 'FOXO4', 'FUBP1', 'GATA2', 'GATA3', 'HBP1', 'HEY2', 'HMGA1', 'HOXB13', 'HOXC13', 'IRF5', 'IRX3', 'LEF1', 'MEIS2', 'MSX2', 'MZF1', 'NFAT5', 'NFATC4', 'NFE2L1', 'NR0B1', 'NR3C1', 'OLIG2', 'OTX1', 'POU3F2', 'RREB1', 'RXRG', 'SHOX2', 'SMARCA1', 'SOX10', 'SOX13', 'SOX15', 'SOX18', 'SOX2', 'SOX4', 'SOX5', 'SOX8', 'SP4', 'STAT1', 'TCF7L2', 'TFAP4', 'TFE3', 'UBP1', 'ZBTB49', 'ZNF740', 'ZNF816', 'ZSCAN22']\n"
     ]
    }
   ],
   "source": [
    "motifs_pro_pro = sorted(set(list(results_expr_pro_pro.vocab1.unique())+list(results_expr_pro_pro.vocab2.unique())))\n",
    "print('num motifs in pro_pro', len(motifs_pro_pro))\n",
    "print(motifs_pro_pro)\n",
    "\n",
    "\n",
    "motifs_loop_loop = sorted(set(list(results_expr_loop_loop.vocab1.unique())+list(results_expr_loop_loop.vocab2.unique())))\n",
    "print('num motifs in loop_loop', len(motifs_loop_loop))\n",
    "print(motifs_loop_loop)"
   ]
  },
  {
   "cell_type": "code",
   "execution_count": 217,
   "metadata": {},
   "outputs": [
    {
     "name": "stdout",
     "output_type": "stream",
     "text": [
      "pre genomic instance filter\n",
      "num vocab in expression enrichment (pro-pro region):  491\n",
      "num vocab in expression enrichment (loop-loop region):  948\n"
     ]
    }
   ],
   "source": [
    "print('pre genomic instance filter')\n",
    "print('num vocab in expression enrichment (pro-pro region): ', results_expr_pro_pro.vocab_pair.unique().shape[0])\n",
    "print('num vocab in expression enrichment (loop-loop region): ', results_expr_loop_loop.vocab_pair.unique().shape[0])"
   ]
  },
  {
   "cell_type": "markdown",
   "metadata": {},
   "source": [
    "## 3C. filter expression enriched vocab words if then have at least 10 genomic instances then get stats"
   ]
  },
  {
   "cell_type": "code",
   "execution_count": 218,
   "metadata": {},
   "outputs": [
    {
     "name": "stdout",
     "output_type": "stream",
     "text": [
      "shape (5400, 16)\n",
      "original num vocab 491\n",
      "filt num vocab 129\n"
     ]
    }
   ],
   "source": [
    "results_expr_pro_pro = filter_results(results_expr_pro_pro,min_hits_per_vocab=10)\n",
    "# print(results_expr_pro_pro.vocab_pair.unique().shape)\n",
    "# results_expr_pro_pro.vocab_pair.unique()"
   ]
  },
  {
   "cell_type": "code",
   "execution_count": 219,
   "metadata": {},
   "outputs": [
    {
     "name": "stdout",
     "output_type": "stream",
     "text": [
      "shape (23406, 16)\n",
      "original num vocab 948\n",
      "filt num vocab 295\n"
     ]
    }
   ],
   "source": [
    "results_expr_loop_loop = filter_results(results_expr_loop_loop,min_hits_per_vocab=10)\n",
    "# print(results_expr_loop_loop.vocab_pair.unique().shape)\n",
    "# results_expr_loop_loop.vocab_pair.unique()"
   ]
  },
  {
   "cell_type": "code",
   "execution_count": 220,
   "metadata": {},
   "outputs": [
    {
     "name": "stdout",
     "output_type": "stream",
     "text": [
      "post genomic instance filter\n",
      "num vocab in expression enrichment (pro-pro region):  129\n",
      "['ARID3A::ARID5B' 'ARID3A::SOX13' 'ARID3A::SOX18' 'ARID5B::DLX2'\n",
      " 'ARID5B::EN2' 'ARID5B::FOXD1' 'ARID5B::FOXJ3' 'ARID5B::FOXO4'\n",
      " 'ARID5B::FUBP1' 'ARID5B::GATA3' 'ARID5B::HBP1' 'ARID5B::HMGA1'\n",
      " 'ARID5B::HOXB13' 'ARID5B::HOXC13' 'ARID5B::IRF5' 'ARID5B::LEF1'\n",
      " 'ARID5B::MSX2' 'ARID5B::MZF1' 'ARID5B::NFAT5' 'ARID5B::NFATC4'\n",
      " 'ARID5B::NFE2L1' 'ARID5B::NR3C1' 'ARID5B::OTX1' 'ARID5B::RXRG'\n",
      " 'ARID5B::SMARCA1' 'ARID5B::SOX13' 'ARID5B::SOX18' 'ARID5B::SOX2'\n",
      " 'ARID5B::SOX4' 'ARID5B::SP4' 'ARID5B::STAT1' 'ARID5B::UBP1'\n",
      " 'ARID5B::ZBTB49' 'DLX2::SOX13' 'DLX2::SOX18' 'EGR3::NFAT5' 'EGR3::NFATC4'\n",
      " 'EGR3::SOX13' 'EGR3::SOX18' 'EGR3::SP4' 'EN2::SOX13' 'EN2::SOX18'\n",
      " 'EN2::UBP1' 'FOXJ3::HMGA1' 'FOXJ3::SOX18' 'FOXO4::SOX13' 'FOXO4::SOX18'\n",
      " 'FUBP1::SOX13' 'FUBP1::SOX18' 'GATA3::SOX13' 'GATA3::SOX18' 'GATA3::UBP1'\n",
      " 'HBP1::HMGA1' 'HBP1::SOX13' 'HBP1::SOX18' 'HBP1::SP4' 'HBP1::UBP1'\n",
      " 'HMGA1::LEF1' 'HMGA1::NFAT5' 'HMGA1::NFATC4' 'HMGA1::NFE2L1'\n",
      " 'HMGA1::SMARCA1' 'HMGA1::SOX13' 'HMGA1::SOX18' 'HMGA1::STAT1'\n",
      " 'HMGA1::UBP1' 'HOXB13::SOX18' 'HOXC13::SOX13' 'HOXC13::SOX18'\n",
      " 'IRF5::SOX13' 'IRF5::SOX18' 'IRX3::SOX18' 'LEF1::SOX13' 'LEF1::SOX18'\n",
      " 'MSX2::SOX13' 'MSX2::SOX18' 'MSX2::UBP1' 'MZF1::SOX18' 'NFAT5::NFATC4'\n",
      " 'NFAT5::NFE2L1' 'NFAT5::SOX13' 'NFAT5::SOX18' 'NFAT5::SP4' 'NFAT5::UBP1'\n",
      " 'NFATC4::NFE2L1' 'NFATC4::SOX13' 'NFATC4::SOX18' 'NFATC4::SP4'\n",
      " 'NFATC4::UBP1' 'NFE2L1::SOX13' 'NFE2L1::SOX18' 'NFE2L1::UBP1'\n",
      " 'NR3C1::SOX13' 'NR3C1::SOX18' 'OLIG2::SOX18' 'OTX1::SOX13' 'OTX1::SOX18'\n",
      " 'POU3F2::SOX13' 'POU3F2::SOX18' 'RREB1::SOX13' 'RREB1::SOX18'\n",
      " 'RREB1::SP4' 'RREB1::UBP1' 'SMARCA1::SOX13' 'SMARCA1::SOX18'\n",
      " 'SOX13::SOX18' 'SOX13::SOX2' 'SOX13::SOX4' 'SOX13::SOX5' 'SOX13::SP4'\n",
      " 'SOX13::STAT1' 'SOX13::TFAP4' 'SOX13::UBP1' 'SOX13::ZBTB49' 'SOX18::SOX2'\n",
      " 'SOX18::SOX4' 'SOX18::SOX5' 'SOX18::SP4' 'SOX18::STAT1' 'SOX18::TFAP4'\n",
      " 'SOX18::UBP1' 'SOX18::ZBTB49' 'SOX18::ZNF740' 'SOX18::ZSCAN22'\n",
      " 'SP4::UBP1' 'SP4::ZSCAN22' 'STAT1::UBP1' 'UBP1::ZBTB49' 'UBP1::ZSCAN22']\n",
      "num vocab in expression enrichment (loop-loop region):  295\n",
      "['ARID3A::ARID5B' 'ARID3A::HMGA1' 'ARID3A::SOX13' 'ARID3A::SOX18'\n",
      " 'ARID5B::BHLHE40' 'ARID5B::DLX1' 'ARID5B::DLX2' 'ARID5B::EGR3'\n",
      " 'ARID5B::EN2' 'ARID5B::FOXD1' 'ARID5B::FOXD2' 'ARID5B::FOXJ3'\n",
      " 'ARID5B::FOXO4' 'ARID5B::FUBP1' 'ARID5B::GATA2' 'ARID5B::GATA3'\n",
      " 'ARID5B::GATA4' 'ARID5B::HBP1' 'ARID5B::HMGA1' 'ARID5B::HOXB13'\n",
      " 'ARID5B::HOXC13' 'ARID5B::IRF5' 'ARID5B::IRX3' 'ARID5B::LEF1'\n",
      " 'ARID5B::MEIS2' 'ARID5B::MSX2' 'ARID5B::MZF1' 'ARID5B::NFAT5'\n",
      " 'ARID5B::NFATC4' 'ARID5B::NFE2L1' 'ARID5B::NR0B1' 'ARID5B::NR3C1'\n",
      " 'ARID5B::OLIG2' 'ARID5B::OTX1' 'ARID5B::POU3F2' 'ARID5B::RREB1'\n",
      " 'ARID5B::RXRG' 'ARID5B::SHOX2' 'ARID5B::SMARCA1' 'ARID5B::SOX13'\n",
      " 'ARID5B::SOX15' 'ARID5B::SOX18' 'ARID5B::SOX2' 'ARID5B::SOX4'\n",
      " 'ARID5B::SOX5' 'ARID5B::SOX8' 'ARID5B::SP4' 'ARID5B::STAT1'\n",
      " 'ARID5B::TCF7L2' 'ARID5B::TFAP4' 'ARID5B::TFE3' 'ARID5B::UBP1'\n",
      " 'ARID5B::ZBTB49' 'ARID5B::ZNF740' 'ARID5B::ZNF816' 'ARID5B::ZSCAN22'\n",
      " 'BHLHE40::SOX13' 'BHLHE40::SOX18' 'DLX1::SOX13' 'DLX1::SOX18'\n",
      " 'DLX2::HMGA1' 'DLX2::NFAT5' 'DLX2::NFATC4' 'DLX2::SOX13' 'DLX2::SOX18'\n",
      " 'EGR3::HMGA1' 'EGR3::NFAT5' 'EGR3::NFATC4' 'EGR3::SOX13' 'EGR3::SOX18'\n",
      " 'EGR3::SP4' 'EGR3::UBP1' 'EGR3::ZSCAN22' 'EN2::HMGA1' 'EN2::NFAT5'\n",
      " 'EN2::NFATC4' 'EN2::NFE2L1' 'EN2::SOX13' 'EN2::SOX18' 'EN2::SP4'\n",
      " 'EN2::UBP1' 'FOXD1::HMGA1' 'FOXD1::NFAT5' 'FOXD1::NFATC4' 'FOXD1::SOX13'\n",
      " 'FOXD1::SOX18' 'FOXD1::SP4' 'FOXD1::UBP1' 'FOXD2::SOX13' 'FOXD2::SOX18'\n",
      " 'FOXJ3::HMGA1' 'FOXJ3::NFAT5' 'FOXJ3::NFATC4' 'FOXJ3::SOX13'\n",
      " 'FOXJ3::SOX18' 'FOXJ3::UBP1' 'FOXO4::HMGA1' 'FOXO4::SOX13' 'FOXO4::SOX18'\n",
      " 'FUBP1::HMGA1' 'FUBP1::SOX13' 'FUBP1::SOX18' 'GATA2::SOX18'\n",
      " 'GATA3::HMGA1' 'GATA3::NFAT5' 'GATA3::NFATC4' 'GATA3::SOX13'\n",
      " 'GATA3::SOX18' 'GATA3::SP4' 'GATA3::UBP1' 'GATA4::SOX13' 'GATA4::SOX18'\n",
      " 'HBP1::HMGA1' 'HBP1::NFAT5' 'HBP1::NFATC4' 'HBP1::SOX13' 'HBP1::SOX18'\n",
      " 'HBP1::SP4' 'HBP1::UBP1' 'HBP1::ZSCAN22' 'HMGA1::HOXB13' 'HMGA1::HOXC13'\n",
      " 'HMGA1::IRF5' 'HMGA1::LEF1' 'HMGA1::MSX2' 'HMGA1::MZF1' 'HMGA1::NFAT5'\n",
      " 'HMGA1::NFATC4' 'HMGA1::NFE2L1' 'HMGA1::NR3C1' 'HMGA1::OLIG2'\n",
      " 'HMGA1::OTX1' 'HMGA1::POU3F2' 'HMGA1::RREB1' 'HMGA1::RXRG'\n",
      " 'HMGA1::SMARCA1' 'HMGA1::SOX13' 'HMGA1::SOX15' 'HMGA1::SOX18'\n",
      " 'HMGA1::SOX2' 'HMGA1::SOX4' 'HMGA1::SOX5' 'HMGA1::SOX8' 'HMGA1::SP4'\n",
      " 'HMGA1::STAT1' 'HMGA1::UBP1' 'HMGA1::ZBTB49' 'HMGA1::ZNF816'\n",
      " 'HMGA1::ZSCAN22' 'HOXB13::SOX18' 'HOXC13::NFAT5' 'HOXC13::NFATC4'\n",
      " 'HOXC13::SOX13' 'HOXC13::SOX18' 'HOXC13::UBP1' 'IRF5::SOX13'\n",
      " 'IRF5::SOX18' 'IRX3::SOX18' 'LEF1::NFAT5' 'LEF1::SOX13' 'LEF1::SOX18'\n",
      " 'LEF1::UBP1' 'MEIS2::SOX18' 'MSX2::NFAT5' 'MSX2::NFATC4' 'MSX2::NFE2L1'\n",
      " 'MSX2::SOX13' 'MSX2::SOX18' 'MSX2::SP4' 'MSX2::UBP1' 'MZF1::SOX18'\n",
      " 'NFAT5::NFATC4' 'NFAT5::NFE2L1' 'NFAT5::NR0B1' 'NFAT5::NR3C1'\n",
      " 'NFAT5::OTX1' 'NFAT5::POU3F2' 'NFAT5::RREB1' 'NFAT5::RXRG'\n",
      " 'NFAT5::SMARCA1' 'NFAT5::SOX13' 'NFAT5::SOX18' 'NFAT5::SOX2'\n",
      " 'NFAT5::SOX5' 'NFAT5::SOX8' 'NFAT5::SP4' 'NFAT5::STAT1' 'NFAT5::TCF7L2'\n",
      " 'NFAT5::UBP1' 'NFAT5::ZBTB49' 'NFAT5::ZNF816' 'NFAT5::ZSCAN22'\n",
      " 'NFATC4::NFE2L1' 'NFATC4::NR0B1' 'NFATC4::NR3C1' 'NFATC4::OTX1'\n",
      " 'NFATC4::RREB1' 'NFATC4::RXRG' 'NFATC4::SOX13' 'NFATC4::SOX18'\n",
      " 'NFATC4::SOX2' 'NFATC4::SOX5' 'NFATC4::SOX8' 'NFATC4::SP4'\n",
      " 'NFATC4::STAT1' 'NFATC4::TCF7L2' 'NFATC4::UBP1' 'NFATC4::ZBTB49'\n",
      " 'NFATC4::ZNF816' 'NFATC4::ZSCAN22' 'NFE2L1::NR3C1' 'NFE2L1::OTX1'\n",
      " 'NFE2L1::SOX13' 'NFE2L1::SOX18' 'NFE2L1::SP4' 'NFE2L1::STAT1'\n",
      " 'NFE2L1::UBP1' 'NFE2L1::ZBTB49' 'NFE2L1::ZSCAN22' 'NR0B1::SOX13'\n",
      " 'NR0B1::SOX18' 'NR0B1::SP4' 'NR0B1::UBP1' 'NR3C1::SOX13' 'NR3C1::SOX18'\n",
      " 'NR3C1::UBP1' 'NR3C1::ZSCAN22' 'OLIG2::SOX18' 'OTX1::SOX13' 'OTX1::SOX18'\n",
      " 'OTX1::SP4' 'OTX1::UBP1' 'POU3F2::SOX13' 'POU3F2::SOX18' 'RREB1::SOX13'\n",
      " 'RREB1::SOX18' 'RREB1::SP4' 'RREB1::UBP1' 'RREB1::ZSCAN22' 'RXRG::SOX13'\n",
      " 'RXRG::SOX18' 'RXRG::SP4' 'RXRG::UBP1' 'SHOX2::SOX13' 'SHOX2::SOX18'\n",
      " 'SMARCA1::SOX13' 'SMARCA1::SOX18' 'SOX10::UBP1' 'SOX13::SOX15'\n",
      " 'SOX13::SOX18' 'SOX13::SOX2' 'SOX13::SOX4' 'SOX13::SOX5' 'SOX13::SOX8'\n",
      " 'SOX13::SP4' 'SOX13::STAT1' 'SOX13::TCF7L2' 'SOX13::TFAP4' 'SOX13::TFE3'\n",
      " 'SOX13::UBP1' 'SOX13::ZBTB49' 'SOX13::ZNF816' 'SOX13::ZSCAN22'\n",
      " 'SOX15::SOX18' 'SOX18::SOX2' 'SOX18::SOX4' 'SOX18::SOX5' 'SOX18::SOX8'\n",
      " 'SOX18::SP4' 'SOX18::STAT1' 'SOX18::TCF7L2' 'SOX18::TFAP4' 'SOX18::TFE3'\n",
      " 'SOX18::UBP1' 'SOX18::ZBTB49' 'SOX18::ZNF740' 'SOX18::ZNF816'\n",
      " 'SOX18::ZSCAN22' 'SOX2::UBP1' 'SOX4::ZSCAN22' 'SOX5::SP4' 'SOX5::UBP1'\n",
      " 'SOX8::UBP1' 'SP4::TCF7L2' 'SP4::TFAP4' 'SP4::UBP1' 'SP4::ZBTB49'\n",
      " 'SP4::ZSCAN22' 'STAT1::UBP1' 'TCF7L2::UBP1' 'TFAP4::UBP1' 'UBP1::ZBTB49'\n",
      " 'UBP1::ZNF816' 'UBP1::ZSCAN22' 'ZNF816::ZSCAN22']\n"
     ]
    }
   ],
   "source": [
    "print('post genomic instance filter')\n",
    "print('num vocab in expression enrichment (pro-pro region): ', results_expr_pro_pro.vocab_pair.unique().shape[0])\n",
    "print(results_expr_pro_pro.vocab_pair.unique())\n",
    "print('num vocab in expression enrichment (loop-loop region): ', results_expr_loop_loop.vocab_pair.unique().shape[0])\n",
    "print(results_expr_loop_loop.vocab_pair.unique())\n"
   ]
  },
  {
   "cell_type": "markdown",
   "metadata": {},
   "source": [
    "## 3D filter expr vocab words based on whether there is they are annotated for skin"
   ]
  },
  {
   "cell_type": "code",
   "execution_count": 221,
   "metadata": {},
   "outputs": [
    {
     "data": {
      "text/plain": [
       "none    128\n",
       "one      16\n",
       "Name: check_tissuetf, dtype: int64"
      ]
     },
     "execution_count": 221,
     "metadata": {},
     "output_type": "execute_result"
    }
   ],
   "source": [
    "results_expr_pro_pro[['vocab_pair','check_tissuetf']].drop_duplicates().check_tissuetf.value_counts()"
   ]
  },
  {
   "cell_type": "code",
   "execution_count": 222,
   "metadata": {},
   "outputs": [
    {
     "data": {
      "text/plain": [
       "none    289\n",
       "one      28\n",
       "both      5\n",
       "Name: check_tissuetf, dtype: int64"
      ]
     },
     "execution_count": 222,
     "metadata": {},
     "output_type": "execute_result"
    }
   ],
   "source": [
    "results_expr_loop_loop[['vocab_pair','check_tissuetf']].drop_duplicates().check_tissuetf.value_counts()"
   ]
  },
  {
   "cell_type": "markdown",
   "metadata": {},
   "source": [
    "shows fraction of vocab words having tissue specific motif configuration (`both` are tissue specific, `one` is tissue specific, or `none` are)\n",
    "\n",
    "\n",
    "MAKE SURE #s are around 40 ish so pick `one` or `both`"
   ]
  },
  {
   "cell_type": "code",
   "execution_count": 223,
   "metadata": {},
   "outputs": [
    {
     "name": "stdout",
     "output_type": "stream",
     "text": [
      "pro-pro region\n",
      "total vocab: 129 tissue annon vocab: 16\n",
      "['ARID5B::LEF1' 'ARID5B::NFE2L1' 'ARID5B::STAT1' 'HMGA1::LEF1'\n",
      " 'HMGA1::NFE2L1' 'HMGA1::STAT1' 'LEF1::SOX13' 'LEF1::SOX18'\n",
      " 'NFAT5::NFE2L1' 'NFATC4::NFE2L1' 'NFE2L1::SOX13' 'NFE2L1::SOX18'\n",
      " 'NFE2L1::UBP1' 'SOX13::STAT1' 'SOX18::STAT1' 'STAT1::UBP1']\n"
     ]
    }
   ],
   "source": [
    "filter_thres = ['one','both'] # 'one'#'none','one',\n",
    "results_expr_pro_pro_tissue = results_expr_pro_pro[results_expr_pro_pro.check_tissuetf.isin(filter_thres)]\n",
    "print('pro-pro region')\n",
    "print('total vocab:',results_expr_pro_pro.vocab_pair.unique().shape[0],'tissue annon vocab:', results_expr_pro_pro_tissue.vocab_pair.unique().shape[0])\n",
    "print(results_expr_pro_pro_tissue.vocab_pair.unique())\n",
    "\n",
    "# results_expr_loop_loop_tissue = results_expr_loop_loop[results_expr_loop_loop.check_tissuetf.isin(filter_thres)]\n",
    "# print('loop-loop region')\n",
    "# print('total vocab:',results_expr_loop_loop.vocab_pair.unique().shape[0],'tissue annon vocab:', results_expr_loop_loop_tissue.vocab_pair.unique().shape[0])\n",
    "# print(results_expr_loop_loop_tissue.vocab_pair.unique())"
   ]
  },
  {
   "cell_type": "markdown",
   "metadata": {},
   "source": [
    "## 3E add in stability scores vocab pairs that pass the genomic instance filter and get genomic instance counts"
   ]
  },
  {
   "cell_type": "code",
   "execution_count": 224,
   "metadata": {},
   "outputs": [],
   "source": [
    "def get_counts(results_df, label):\n",
    "    counts_df = pd.DataFrame(results_df.vocab_pair.value_counts())\n",
    "    counts_df.columns = ['num_instance']\n",
    "    counts_df['label']=label\n",
    "    return counts_df"
   ]
  },
  {
   "cell_type": "code",
   "execution_count": 225,
   "metadata": {},
   "outputs": [
    {
     "data": {
      "text/plain": [
       "expr_loop_tissue                    40\n",
       "expr_pro_tissue|expr_loop_tissue    13\n",
       "expr_pro_tissue                      3\n",
       "Name: label, dtype: int64"
      ]
     },
     "execution_count": 225,
     "metadata": {},
     "output_type": "execute_result"
    }
   ],
   "source": [
    "vocab_summary_df = pd.concat([# get_counts(results_stability_pro_pro, 'stability_pro'),\n",
    "            get_counts(results_expr_pro_pro_tissue, 'expr_pro_tissue'),\n",
    "#             get_counts(results_stability_loop_loop, 'stability_loop'),\n",
    "            get_counts(results_expr_loop_loop_tissue, 'expr_loop_tissue')\n",
    "        ],\n",
    "    axis=0)\n",
    "vocab_summary_df.index.set_names('vocab',inplace=True)\n",
    "vocab_summary_df.reset_index(inplace=True)\n",
    "vocab_summary_df = vocab_summary_df.groupby('vocab').agg({'num_instance':sum, 'label':'|'.join}).reset_index()\n",
    "vocab_summary_df['tissue']=TISSUE\n",
    "vocab_summary_df.label.value_counts()\n",
    "# results_stability_loop_loop.vocab_pair.unique()"
   ]
  },
  {
   "cell_type": "code",
   "execution_count": 226,
   "metadata": {},
   "outputs": [
    {
     "name": "stdout",
     "output_type": "stream",
     "text": [
      "saved: ../data/processed/fig4_modelling/vocab_sum/COLO-SCR-DMSO_vocab_summary.csv\n"
     ]
    }
   ],
   "source": [
    "vocab_summary_df.to_csv(os.path.join(save_dir, TISSUE+'_vocab_summary.csv'))\n",
    "print('saved:', os.path.join(save_dir, TISSUE+'_vocab_summary.csv'))"
   ]
  },
  {
   "cell_type": "code",
   "execution_count": null,
   "metadata": {},
   "outputs": [],
   "source": []
  },
  {
   "cell_type": "markdown",
   "metadata": {},
   "source": [
    "# 4. manual run all 3 tissue types\n",
    "\n",
    "look at the *vocab_summary.csv\n",
    "\n",
    "manually pair down list to one xlsx\n",
    "\n",
    "`vocab_sum/scc_filtered_vocab_list.xlsx`\n",
    "\n"
   ]
  },
  {
   "cell_type": "code",
   "execution_count": 227,
   "metadata": {},
   "outputs": [
    {
     "data": {
      "text/plain": [
       "['../data/processed/fig4_modelling/vocab_sum/SCC13-CTRLi_vocab_summary.csv',\n",
       " '../data/processed/fig4_modelling/vocab_sum/GM12878_vocab_summary.csv',\n",
       " '../data/processed/fig4_modelling/vocab_sum/COLO-SCR-DMSO_vocab_summary.csv',\n",
       " '../data/processed/fig4_modelling/vocab_sum/MM_all_vocab_summary.csv',\n",
       " '../data/processed/fig4_modelling/vocab_sum/GDSD0_vocab_summary.csv',\n",
       " '../data/processed/fig4_modelling/vocab_sum/A431-CTRLi_vocab_summary.csv',\n",
       " '../data/processed/fig4_modelling/vocab_sum/Melanocytes_vocab_summary.csv',\n",
       " '../data/processed/fig4_modelling/vocab_sum/Colon_vocab_summary.csv',\n",
       " '../data/processed/fig4_modelling/vocab_sum/GDSD6_vocab_summary.csv',\n",
       " '../data/processed/fig4_modelling/vocab_sum/CAL27-CTRLi_vocab_summary.csv',\n",
       " '../data/processed/fig4_modelling/vocab_sum/SCC_all_vocab_summary.csv',\n",
       " '../data/processed/fig4_modelling/vocab_sum/WM-SCR-DMSO_vocab_summary.csv']"
      ]
     },
     "execution_count": 227,
     "metadata": {},
     "output_type": "execute_result"
    }
   ],
   "source": [
    "glob.glob( os.path.join(save_dir, '*_vocab_summary.csv'))"
   ]
  },
  {
   "cell_type": "code",
   "execution_count": null,
   "metadata": {},
   "outputs": [],
   "source": []
  },
  {
   "cell_type": "code",
   "execution_count": 228,
   "metadata": {},
   "outputs": [
    {
     "data": {
      "text/html": [
       "<div>\n",
       "<style scoped>\n",
       "    .dataframe tbody tr th:only-of-type {\n",
       "        vertical-align: middle;\n",
       "    }\n",
       "\n",
       "    .dataframe tbody tr th {\n",
       "        vertical-align: top;\n",
       "    }\n",
       "\n",
       "    .dataframe thead th {\n",
       "        text-align: right;\n",
       "    }\n",
       "</style>\n",
       "<table border=\"1\" class=\"dataframe\">\n",
       "  <thead>\n",
       "    <tr style=\"text-align: right;\">\n",
       "      <th></th>\n",
       "      <th>vocab</th>\n",
       "      <th>num_instance</th>\n",
       "      <th>label</th>\n",
       "      <th>tissue</th>\n",
       "    </tr>\n",
       "  </thead>\n",
       "  <tbody>\n",
       "    <tr>\n",
       "      <td>0</td>\n",
       "      <td>ARID5B::LEF1</td>\n",
       "      <td>11</td>\n",
       "      <td>expr_pro_tissue|expr_loop_tissue</td>\n",
       "      <td>COLO-SCR-DMSO</td>\n",
       "    </tr>\n",
       "    <tr>\n",
       "      <td>1</td>\n",
       "      <td>ARID5B::NFE2L1</td>\n",
       "      <td>44</td>\n",
       "      <td>expr_pro_tissue|expr_loop_tissue</td>\n",
       "      <td>COLO-SCR-DMSO</td>\n",
       "    </tr>\n",
       "    <tr>\n",
       "      <td>2</td>\n",
       "      <td>ARID5B::SOX10</td>\n",
       "      <td>21</td>\n",
       "      <td>expr_loop_tissue</td>\n",
       "      <td>COLO-SCR-DMSO</td>\n",
       "    </tr>\n",
       "    <tr>\n",
       "      <td>3</td>\n",
       "      <td>ARID5B::STAT1</td>\n",
       "      <td>32</td>\n",
       "      <td>expr_pro_tissue|expr_loop_tissue</td>\n",
       "      <td>COLO-SCR-DMSO</td>\n",
       "    </tr>\n",
       "    <tr>\n",
       "      <td>4</td>\n",
       "      <td>EGR2::LEF1</td>\n",
       "      <td>7</td>\n",
       "      <td>expr_loop_tissue</td>\n",
       "      <td>COLO-SCR-DMSO</td>\n",
       "    </tr>\n",
       "    <tr>\n",
       "      <td>...</td>\n",
       "      <td>...</td>\n",
       "      <td>...</td>\n",
       "      <td>...</td>\n",
       "      <td>...</td>\n",
       "    </tr>\n",
       "    <tr>\n",
       "      <td>48</td>\n",
       "      <td>SP4::STAT1</td>\n",
       "      <td>13</td>\n",
       "      <td>expr_loop_tissue</td>\n",
       "      <td>WM-SCR-DMSO</td>\n",
       "    </tr>\n",
       "    <tr>\n",
       "      <td>49</td>\n",
       "      <td>STAT1::TBX15</td>\n",
       "      <td>10</td>\n",
       "      <td>expr_loop_tissue</td>\n",
       "      <td>WM-SCR-DMSO</td>\n",
       "    </tr>\n",
       "    <tr>\n",
       "      <td>50</td>\n",
       "      <td>STAT1::UBP1</td>\n",
       "      <td>49</td>\n",
       "      <td>expr_pro_tissue|expr_loop_tissue</td>\n",
       "      <td>WM-SCR-DMSO</td>\n",
       "    </tr>\n",
       "    <tr>\n",
       "      <td>51</td>\n",
       "      <td>STAT1::ZBTB49</td>\n",
       "      <td>5</td>\n",
       "      <td>expr_loop_tissue</td>\n",
       "      <td>WM-SCR-DMSO</td>\n",
       "    </tr>\n",
       "    <tr>\n",
       "      <td>52</td>\n",
       "      <td>STAT1::ZNF816</td>\n",
       "      <td>3</td>\n",
       "      <td>expr_loop_tissue</td>\n",
       "      <td>WM-SCR-DMSO</td>\n",
       "    </tr>\n",
       "  </tbody>\n",
       "</table>\n",
       "<p>109 rows × 4 columns</p>\n",
       "</div>"
      ],
      "text/plain": [
       "             vocab  num_instance                             label  \\\n",
       "0     ARID5B::LEF1            11  expr_pro_tissue|expr_loop_tissue   \n",
       "1   ARID5B::NFE2L1            44  expr_pro_tissue|expr_loop_tissue   \n",
       "2    ARID5B::SOX10            21                  expr_loop_tissue   \n",
       "3    ARID5B::STAT1            32  expr_pro_tissue|expr_loop_tissue   \n",
       "4       EGR2::LEF1             7                  expr_loop_tissue   \n",
       "..             ...           ...                               ...   \n",
       "48      SP4::STAT1            13                  expr_loop_tissue   \n",
       "49    STAT1::TBX15            10                  expr_loop_tissue   \n",
       "50     STAT1::UBP1            49  expr_pro_tissue|expr_loop_tissue   \n",
       "51   STAT1::ZBTB49             5                  expr_loop_tissue   \n",
       "52   STAT1::ZNF816             3                  expr_loop_tissue   \n",
       "\n",
       "           tissue  \n",
       "0   COLO-SCR-DMSO  \n",
       "1   COLO-SCR-DMSO  \n",
       "2   COLO-SCR-DMSO  \n",
       "3   COLO-SCR-DMSO  \n",
       "4   COLO-SCR-DMSO  \n",
       "..            ...  \n",
       "48    WM-SCR-DMSO  \n",
       "49    WM-SCR-DMSO  \n",
       "50    WM-SCR-DMSO  \n",
       "51    WM-SCR-DMSO  \n",
       "52    WM-SCR-DMSO  \n",
       "\n",
       "[109 rows x 4 columns]"
      ]
     },
     "execution_count": 228,
     "metadata": {},
     "output_type": "execute_result"
    }
   ],
   "source": [
    "mm_df = pd.concat([pd.read_csv('../data/processed/fig4_modelling/vocab_sum/COLO-SCR-DMSO_vocab_summary.csv',index_col=0),\n",
    "          pd.read_csv('../data/processed/fig4_modelling/vocab_sum/WM-SCR-DMSO_vocab_summary.csv',index_col=0)],axis=0)\n",
    "mm_df"
   ]
  },
  {
   "cell_type": "code",
   "execution_count": 229,
   "metadata": {},
   "outputs": [],
   "source": [
    "mm_df_tissue2 = mm_df.groupby('vocab').agg({'tissue': '|'.join,'num_instance':sum, 'label': lambda x: '|'.join(list(set(x)))})\n",
    "mm_df_tissue2 = mm_df_tissue2[mm_df_tissue2.tissue=='COLO-SCR-DMSO|WM-SCR-DMSO'].reset_index()"
   ]
  },
  {
   "cell_type": "code",
   "execution_count": 230,
   "metadata": {},
   "outputs": [
    {
     "data": {
      "text/html": [
       "<div>\n",
       "<style scoped>\n",
       "    .dataframe tbody tr th:only-of-type {\n",
       "        vertical-align: middle;\n",
       "    }\n",
       "\n",
       "    .dataframe tbody tr th {\n",
       "        vertical-align: top;\n",
       "    }\n",
       "\n",
       "    .dataframe thead th {\n",
       "        text-align: right;\n",
       "    }\n",
       "</style>\n",
       "<table border=\"1\" class=\"dataframe\">\n",
       "  <thead>\n",
       "    <tr style=\"text-align: right;\">\n",
       "      <th></th>\n",
       "      <th>vocab</th>\n",
       "      <th>tissue</th>\n",
       "      <th>num_instance</th>\n",
       "      <th>label</th>\n",
       "    </tr>\n",
       "  </thead>\n",
       "  <tbody>\n",
       "    <tr>\n",
       "      <td>0</td>\n",
       "      <td>ARID5B::LEF1</td>\n",
       "      <td>cancer</td>\n",
       "      <td>21</td>\n",
       "      <td>expr_pro_tissue|expr_loop_tissue</td>\n",
       "    </tr>\n",
       "    <tr>\n",
       "      <td>1</td>\n",
       "      <td>ARID5B::NFE2L1</td>\n",
       "      <td>cancer</td>\n",
       "      <td>82</td>\n",
       "      <td>expr_pro_tissue|expr_loop_tissue</td>\n",
       "    </tr>\n",
       "    <tr>\n",
       "      <td>2</td>\n",
       "      <td>ARID5B::SOX10</td>\n",
       "      <td>cancer</td>\n",
       "      <td>42</td>\n",
       "      <td>expr_loop_tissue</td>\n",
       "    </tr>\n",
       "    <tr>\n",
       "      <td>3</td>\n",
       "      <td>ARID5B::STAT1</td>\n",
       "      <td>cancer</td>\n",
       "      <td>59</td>\n",
       "      <td>expr_loop_tissue|expr_pro_tissue|expr_loop_tissue</td>\n",
       "    </tr>\n",
       "    <tr>\n",
       "      <td>4</td>\n",
       "      <td>EGR2::LEF1</td>\n",
       "      <td>cancer</td>\n",
       "      <td>14</td>\n",
       "      <td>expr_loop_tissue</td>\n",
       "    </tr>\n",
       "    <tr>\n",
       "      <td>5</td>\n",
       "      <td>EGR2::NFE2L1</td>\n",
       "      <td>cancer</td>\n",
       "      <td>34</td>\n",
       "      <td>expr_loop_tissue</td>\n",
       "    </tr>\n",
       "    <tr>\n",
       "      <td>6</td>\n",
       "      <td>EGR2::SOX10</td>\n",
       "      <td>cancer</td>\n",
       "      <td>14</td>\n",
       "      <td>expr_loop_tissue</td>\n",
       "    </tr>\n",
       "    <tr>\n",
       "      <td>7</td>\n",
       "      <td>EGR2::STAT1</td>\n",
       "      <td>cancer</td>\n",
       "      <td>16</td>\n",
       "      <td>expr_loop_tissue</td>\n",
       "    </tr>\n",
       "    <tr>\n",
       "      <td>8</td>\n",
       "      <td>EGR4::NFE2L1</td>\n",
       "      <td>cancer</td>\n",
       "      <td>20</td>\n",
       "      <td>expr_loop_tissue</td>\n",
       "    </tr>\n",
       "    <tr>\n",
       "      <td>9</td>\n",
       "      <td>EGR4::STAT1</td>\n",
       "      <td>cancer</td>\n",
       "      <td>8</td>\n",
       "      <td>expr_loop_tissue</td>\n",
       "    </tr>\n",
       "    <tr>\n",
       "      <td>10</td>\n",
       "      <td>EN2::NFE2L1</td>\n",
       "      <td>cancer</td>\n",
       "      <td>12</td>\n",
       "      <td>expr_loop_tissue</td>\n",
       "    </tr>\n",
       "    <tr>\n",
       "      <td>11</td>\n",
       "      <td>EN2::STAT1</td>\n",
       "      <td>cancer</td>\n",
       "      <td>20</td>\n",
       "      <td>expr_loop_tissue</td>\n",
       "    </tr>\n",
       "    <tr>\n",
       "      <td>12</td>\n",
       "      <td>FUBP1::STAT1</td>\n",
       "      <td>cancer</td>\n",
       "      <td>2</td>\n",
       "      <td>expr_loop_tissue</td>\n",
       "    </tr>\n",
       "    <tr>\n",
       "      <td>13</td>\n",
       "      <td>HBP1::STAT1</td>\n",
       "      <td>cancer</td>\n",
       "      <td>18</td>\n",
       "      <td>expr_loop_tissue</td>\n",
       "    </tr>\n",
       "    <tr>\n",
       "      <td>14</td>\n",
       "      <td>HMGA1::LEF1</td>\n",
       "      <td>cancer</td>\n",
       "      <td>11</td>\n",
       "      <td>expr_loop_tissue|expr_pro_tissue|expr_loop_tissue</td>\n",
       "    </tr>\n",
       "    <tr>\n",
       "      <td>15</td>\n",
       "      <td>HMGA1::NFE2L1</td>\n",
       "      <td>cancer</td>\n",
       "      <td>39</td>\n",
       "      <td>expr_pro_tissue|expr_loop_tissue</td>\n",
       "    </tr>\n",
       "    <tr>\n",
       "      <td>16</td>\n",
       "      <td>HMGA1::SOX10</td>\n",
       "      <td>cancer</td>\n",
       "      <td>24</td>\n",
       "      <td>expr_loop_tissue</td>\n",
       "    </tr>\n",
       "    <tr>\n",
       "      <td>17</td>\n",
       "      <td>HMGA1::STAT1</td>\n",
       "      <td>cancer</td>\n",
       "      <td>26</td>\n",
       "      <td>expr_loop_tissue|expr_pro_tissue|expr_loop_tissue</td>\n",
       "    </tr>\n",
       "    <tr>\n",
       "      <td>18</td>\n",
       "      <td>KLF14::NFE2L1</td>\n",
       "      <td>cancer</td>\n",
       "      <td>10</td>\n",
       "      <td>expr_loop_tissue</td>\n",
       "    </tr>\n",
       "    <tr>\n",
       "      <td>19</td>\n",
       "      <td>KLF14::STAT1</td>\n",
       "      <td>cancer</td>\n",
       "      <td>10</td>\n",
       "      <td>expr_loop_tissue</td>\n",
       "    </tr>\n",
       "    <tr>\n",
       "      <td>20</td>\n",
       "      <td>LEF1::NFAT5</td>\n",
       "      <td>cancer</td>\n",
       "      <td>12</td>\n",
       "      <td>expr_loop_tissue</td>\n",
       "    </tr>\n",
       "    <tr>\n",
       "      <td>21</td>\n",
       "      <td>LEF1::PRRX1</td>\n",
       "      <td>cancer</td>\n",
       "      <td>33</td>\n",
       "      <td>expr_loop_tissue|expr_pro_tissue|expr_loop_tissue</td>\n",
       "    </tr>\n",
       "    <tr>\n",
       "      <td>22</td>\n",
       "      <td>LEF1::SOX13</td>\n",
       "      <td>cancer</td>\n",
       "      <td>21</td>\n",
       "      <td>expr_pro_tissue|expr_loop_tissue</td>\n",
       "    </tr>\n",
       "    <tr>\n",
       "      <td>23</td>\n",
       "      <td>LEF1::TBX15</td>\n",
       "      <td>cancer</td>\n",
       "      <td>8</td>\n",
       "      <td>expr_loop_tissue</td>\n",
       "    </tr>\n",
       "    <tr>\n",
       "      <td>24</td>\n",
       "      <td>LEF1::UBP1</td>\n",
       "      <td>cancer</td>\n",
       "      <td>28</td>\n",
       "      <td>expr_loop_tissue</td>\n",
       "    </tr>\n",
       "    <tr>\n",
       "      <td>25</td>\n",
       "      <td>LEF1::ZBTB49</td>\n",
       "      <td>cancer</td>\n",
       "      <td>6</td>\n",
       "      <td>expr_loop_tissue</td>\n",
       "    </tr>\n",
       "    <tr>\n",
       "      <td>26</td>\n",
       "      <td>NFAT5::NFE2L1</td>\n",
       "      <td>cancer</td>\n",
       "      <td>66</td>\n",
       "      <td>expr_pro_tissue|expr_loop_tissue</td>\n",
       "    </tr>\n",
       "    <tr>\n",
       "      <td>27</td>\n",
       "      <td>NFAT5::SOX10</td>\n",
       "      <td>cancer</td>\n",
       "      <td>24</td>\n",
       "      <td>expr_loop_tissue</td>\n",
       "    </tr>\n",
       "    <tr>\n",
       "      <td>28</td>\n",
       "      <td>NFAT5::STAT1</td>\n",
       "      <td>cancer</td>\n",
       "      <td>40</td>\n",
       "      <td>expr_loop_tissue</td>\n",
       "    </tr>\n",
       "    <tr>\n",
       "      <td>29</td>\n",
       "      <td>NFATC4::NFE2L1</td>\n",
       "      <td>cancer</td>\n",
       "      <td>66</td>\n",
       "      <td>expr_pro_tissue|expr_loop_tissue</td>\n",
       "    </tr>\n",
       "    <tr>\n",
       "      <td>30</td>\n",
       "      <td>NFATC4::SOX10</td>\n",
       "      <td>cancer</td>\n",
       "      <td>24</td>\n",
       "      <td>expr_loop_tissue</td>\n",
       "    </tr>\n",
       "    <tr>\n",
       "      <td>31</td>\n",
       "      <td>NFATC4::STAT1</td>\n",
       "      <td>cancer</td>\n",
       "      <td>40</td>\n",
       "      <td>expr_loop_tissue</td>\n",
       "    </tr>\n",
       "    <tr>\n",
       "      <td>32</td>\n",
       "      <td>NFE2L1::NR3C1</td>\n",
       "      <td>cancer</td>\n",
       "      <td>14</td>\n",
       "      <td>expr_loop_tissue</td>\n",
       "    </tr>\n",
       "    <tr>\n",
       "      <td>33</td>\n",
       "      <td>NFE2L1::PRRX1</td>\n",
       "      <td>cancer</td>\n",
       "      <td>149</td>\n",
       "      <td>expr_loop_tissue|expr_pro_tissue|expr_loop_tissue</td>\n",
       "    </tr>\n",
       "    <tr>\n",
       "      <td>34</td>\n",
       "      <td>NFE2L1::SOX13</td>\n",
       "      <td>cancer</td>\n",
       "      <td>104</td>\n",
       "      <td>expr_pro_tissue|expr_loop_tissue</td>\n",
       "    </tr>\n",
       "    <tr>\n",
       "      <td>35</td>\n",
       "      <td>NFE2L1::SP4</td>\n",
       "      <td>cancer</td>\n",
       "      <td>26</td>\n",
       "      <td>expr_loop_tissue</td>\n",
       "    </tr>\n",
       "    <tr>\n",
       "      <td>36</td>\n",
       "      <td>NFE2L1::TBX15</td>\n",
       "      <td>cancer</td>\n",
       "      <td>28</td>\n",
       "      <td>expr_loop_tissue</td>\n",
       "    </tr>\n",
       "    <tr>\n",
       "      <td>37</td>\n",
       "      <td>NFE2L1::UBP1</td>\n",
       "      <td>cancer</td>\n",
       "      <td>126</td>\n",
       "      <td>expr_pro_tissue|expr_loop_tissue</td>\n",
       "    </tr>\n",
       "    <tr>\n",
       "      <td>38</td>\n",
       "      <td>NFE2L1::ZBTB49</td>\n",
       "      <td>cancer</td>\n",
       "      <td>12</td>\n",
       "      <td>expr_loop_tissue</td>\n",
       "    </tr>\n",
       "    <tr>\n",
       "      <td>39</td>\n",
       "      <td>NR3C1::STAT1</td>\n",
       "      <td>cancer</td>\n",
       "      <td>6</td>\n",
       "      <td>expr_loop_tissue</td>\n",
       "    </tr>\n",
       "    <tr>\n",
       "      <td>40</td>\n",
       "      <td>PRRX1::SOX10</td>\n",
       "      <td>cancer</td>\n",
       "      <td>56</td>\n",
       "      <td>expr_loop_tissue</td>\n",
       "    </tr>\n",
       "    <tr>\n",
       "      <td>41</td>\n",
       "      <td>PRRX1::STAT1</td>\n",
       "      <td>cancer</td>\n",
       "      <td>69</td>\n",
       "      <td>expr_loop_tissue|expr_pro_tissue|expr_loop_tissue</td>\n",
       "    </tr>\n",
       "    <tr>\n",
       "      <td>42</td>\n",
       "      <td>RREB1::STAT1</td>\n",
       "      <td>cancer</td>\n",
       "      <td>6</td>\n",
       "      <td>expr_loop_tissue</td>\n",
       "    </tr>\n",
       "    <tr>\n",
       "      <td>43</td>\n",
       "      <td>SOX10::SOX13</td>\n",
       "      <td>cancer</td>\n",
       "      <td>38</td>\n",
       "      <td>expr_loop_tissue</td>\n",
       "    </tr>\n",
       "    <tr>\n",
       "      <td>44</td>\n",
       "      <td>SOX10::SP4</td>\n",
       "      <td>cancer</td>\n",
       "      <td>12</td>\n",
       "      <td>expr_loop_tissue</td>\n",
       "    </tr>\n",
       "    <tr>\n",
       "      <td>45</td>\n",
       "      <td>SOX10::UBP1</td>\n",
       "      <td>cancer</td>\n",
       "      <td>40</td>\n",
       "      <td>expr_loop_tissue</td>\n",
       "    </tr>\n",
       "    <tr>\n",
       "      <td>46</td>\n",
       "      <td>SOX13::STAT1</td>\n",
       "      <td>cancer</td>\n",
       "      <td>67</td>\n",
       "      <td>expr_pro_tissue|expr_loop_tissue</td>\n",
       "    </tr>\n",
       "    <tr>\n",
       "      <td>47</td>\n",
       "      <td>SOX5::STAT1</td>\n",
       "      <td>cancer</td>\n",
       "      <td>8</td>\n",
       "      <td>expr_loop_tissue</td>\n",
       "    </tr>\n",
       "    <tr>\n",
       "      <td>48</td>\n",
       "      <td>SP4::STAT1</td>\n",
       "      <td>cancer</td>\n",
       "      <td>26</td>\n",
       "      <td>expr_loop_tissue</td>\n",
       "    </tr>\n",
       "    <tr>\n",
       "      <td>49</td>\n",
       "      <td>STAT1::TBX15</td>\n",
       "      <td>cancer</td>\n",
       "      <td>20</td>\n",
       "      <td>expr_loop_tissue</td>\n",
       "    </tr>\n",
       "    <tr>\n",
       "      <td>50</td>\n",
       "      <td>STAT1::UBP1</td>\n",
       "      <td>cancer</td>\n",
       "      <td>98</td>\n",
       "      <td>expr_pro_tissue|expr_loop_tissue</td>\n",
       "    </tr>\n",
       "    <tr>\n",
       "      <td>51</td>\n",
       "      <td>STAT1::ZBTB49</td>\n",
       "      <td>cancer</td>\n",
       "      <td>10</td>\n",
       "      <td>expr_loop_tissue</td>\n",
       "    </tr>\n",
       "    <tr>\n",
       "      <td>52</td>\n",
       "      <td>STAT1::ZNF816</td>\n",
       "      <td>cancer</td>\n",
       "      <td>6</td>\n",
       "      <td>expr_loop_tissue</td>\n",
       "    </tr>\n",
       "  </tbody>\n",
       "</table>\n",
       "</div>"
      ],
      "text/plain": [
       "             vocab  tissue  num_instance  \\\n",
       "0     ARID5B::LEF1  cancer            21   \n",
       "1   ARID5B::NFE2L1  cancer            82   \n",
       "2    ARID5B::SOX10  cancer            42   \n",
       "3    ARID5B::STAT1  cancer            59   \n",
       "4       EGR2::LEF1  cancer            14   \n",
       "5     EGR2::NFE2L1  cancer            34   \n",
       "6      EGR2::SOX10  cancer            14   \n",
       "7      EGR2::STAT1  cancer            16   \n",
       "8     EGR4::NFE2L1  cancer            20   \n",
       "9      EGR4::STAT1  cancer             8   \n",
       "10     EN2::NFE2L1  cancer            12   \n",
       "11      EN2::STAT1  cancer            20   \n",
       "12    FUBP1::STAT1  cancer             2   \n",
       "13     HBP1::STAT1  cancer            18   \n",
       "14     HMGA1::LEF1  cancer            11   \n",
       "15   HMGA1::NFE2L1  cancer            39   \n",
       "16    HMGA1::SOX10  cancer            24   \n",
       "17    HMGA1::STAT1  cancer            26   \n",
       "18   KLF14::NFE2L1  cancer            10   \n",
       "19    KLF14::STAT1  cancer            10   \n",
       "20     LEF1::NFAT5  cancer            12   \n",
       "21     LEF1::PRRX1  cancer            33   \n",
       "22     LEF1::SOX13  cancer            21   \n",
       "23     LEF1::TBX15  cancer             8   \n",
       "24      LEF1::UBP1  cancer            28   \n",
       "25    LEF1::ZBTB49  cancer             6   \n",
       "26   NFAT5::NFE2L1  cancer            66   \n",
       "27    NFAT5::SOX10  cancer            24   \n",
       "28    NFAT5::STAT1  cancer            40   \n",
       "29  NFATC4::NFE2L1  cancer            66   \n",
       "30   NFATC4::SOX10  cancer            24   \n",
       "31   NFATC4::STAT1  cancer            40   \n",
       "32   NFE2L1::NR3C1  cancer            14   \n",
       "33   NFE2L1::PRRX1  cancer           149   \n",
       "34   NFE2L1::SOX13  cancer           104   \n",
       "35     NFE2L1::SP4  cancer            26   \n",
       "36   NFE2L1::TBX15  cancer            28   \n",
       "37    NFE2L1::UBP1  cancer           126   \n",
       "38  NFE2L1::ZBTB49  cancer            12   \n",
       "39    NR3C1::STAT1  cancer             6   \n",
       "40    PRRX1::SOX10  cancer            56   \n",
       "41    PRRX1::STAT1  cancer            69   \n",
       "42    RREB1::STAT1  cancer             6   \n",
       "43    SOX10::SOX13  cancer            38   \n",
       "44      SOX10::SP4  cancer            12   \n",
       "45     SOX10::UBP1  cancer            40   \n",
       "46    SOX13::STAT1  cancer            67   \n",
       "47     SOX5::STAT1  cancer             8   \n",
       "48      SP4::STAT1  cancer            26   \n",
       "49    STAT1::TBX15  cancer            20   \n",
       "50     STAT1::UBP1  cancer            98   \n",
       "51   STAT1::ZBTB49  cancer            10   \n",
       "52   STAT1::ZNF816  cancer             6   \n",
       "\n",
       "                                                label  \n",
       "0                    expr_pro_tissue|expr_loop_tissue  \n",
       "1                    expr_pro_tissue|expr_loop_tissue  \n",
       "2                                    expr_loop_tissue  \n",
       "3   expr_loop_tissue|expr_pro_tissue|expr_loop_tissue  \n",
       "4                                    expr_loop_tissue  \n",
       "5                                    expr_loop_tissue  \n",
       "6                                    expr_loop_tissue  \n",
       "7                                    expr_loop_tissue  \n",
       "8                                    expr_loop_tissue  \n",
       "9                                    expr_loop_tissue  \n",
       "10                                   expr_loop_tissue  \n",
       "11                                   expr_loop_tissue  \n",
       "12                                   expr_loop_tissue  \n",
       "13                                   expr_loop_tissue  \n",
       "14  expr_loop_tissue|expr_pro_tissue|expr_loop_tissue  \n",
       "15                   expr_pro_tissue|expr_loop_tissue  \n",
       "16                                   expr_loop_tissue  \n",
       "17  expr_loop_tissue|expr_pro_tissue|expr_loop_tissue  \n",
       "18                                   expr_loop_tissue  \n",
       "19                                   expr_loop_tissue  \n",
       "20                                   expr_loop_tissue  \n",
       "21  expr_loop_tissue|expr_pro_tissue|expr_loop_tissue  \n",
       "22                   expr_pro_tissue|expr_loop_tissue  \n",
       "23                                   expr_loop_tissue  \n",
       "24                                   expr_loop_tissue  \n",
       "25                                   expr_loop_tissue  \n",
       "26                   expr_pro_tissue|expr_loop_tissue  \n",
       "27                                   expr_loop_tissue  \n",
       "28                                   expr_loop_tissue  \n",
       "29                   expr_pro_tissue|expr_loop_tissue  \n",
       "30                                   expr_loop_tissue  \n",
       "31                                   expr_loop_tissue  \n",
       "32                                   expr_loop_tissue  \n",
       "33  expr_loop_tissue|expr_pro_tissue|expr_loop_tissue  \n",
       "34                   expr_pro_tissue|expr_loop_tissue  \n",
       "35                                   expr_loop_tissue  \n",
       "36                                   expr_loop_tissue  \n",
       "37                   expr_pro_tissue|expr_loop_tissue  \n",
       "38                                   expr_loop_tissue  \n",
       "39                                   expr_loop_tissue  \n",
       "40                                   expr_loop_tissue  \n",
       "41  expr_loop_tissue|expr_pro_tissue|expr_loop_tissue  \n",
       "42                                   expr_loop_tissue  \n",
       "43                                   expr_loop_tissue  \n",
       "44                                   expr_loop_tissue  \n",
       "45                                   expr_loop_tissue  \n",
       "46                   expr_pro_tissue|expr_loop_tissue  \n",
       "47                                   expr_loop_tissue  \n",
       "48                                   expr_loop_tissue  \n",
       "49                                   expr_loop_tissue  \n",
       "50                   expr_pro_tissue|expr_loop_tissue  \n",
       "51                                   expr_loop_tissue  \n",
       "52                                   expr_loop_tissue  "
      ]
     },
     "execution_count": 230,
     "metadata": {},
     "output_type": "execute_result"
    }
   ],
   "source": [
    "mm_df_tissue2['tissue']= 'cancer'\n",
    "mm_df_tissue2"
   ]
  },
  {
   "cell_type": "code",
   "execution_count": 231,
   "metadata": {},
   "outputs": [],
   "source": [
    "mm_df_tissue2.to_csv( os.path.join(save_dir, 'MM_all_vocab_summary.csv'))"
   ]
  },
  {
   "cell_type": "code",
   "execution_count": 232,
   "metadata": {},
   "outputs": [
    {
     "data": {
      "text/plain": [
       "53"
      ]
     },
     "execution_count": 232,
     "metadata": {},
     "output_type": "execute_result"
    }
   ],
   "source": [
    "len(set(mm_df_tissue2.vocab.values))"
   ]
  },
  {
   "cell_type": "code",
   "execution_count": 233,
   "metadata": {},
   "outputs": [],
   "source": [
    "# compare to those from GDSD6"
   ]
  },
  {
   "cell_type": "code",
   "execution_count": 234,
   "metadata": {},
   "outputs": [],
   "source": [
    "normal_df = pd.read_csv('../data/processed/fig4_modelling/vocab_sum/Melanocytes_vocab_summary.csv',index_col=0)"
   ]
  },
  {
   "cell_type": "code",
   "execution_count": 235,
   "metadata": {},
   "outputs": [
    {
     "data": {
      "text/html": [
       "<div>\n",
       "<style scoped>\n",
       "    .dataframe tbody tr th:only-of-type {\n",
       "        vertical-align: middle;\n",
       "    }\n",
       "\n",
       "    .dataframe tbody tr th {\n",
       "        vertical-align: top;\n",
       "    }\n",
       "\n",
       "    .dataframe thead th {\n",
       "        text-align: right;\n",
       "    }\n",
       "</style>\n",
       "<table border=\"1\" class=\"dataframe\">\n",
       "  <thead>\n",
       "    <tr style=\"text-align: right;\">\n",
       "      <th></th>\n",
       "      <th>vocab</th>\n",
       "      <th>num_instance</th>\n",
       "      <th>label</th>\n",
       "      <th>tissue</th>\n",
       "    </tr>\n",
       "  </thead>\n",
       "  <tbody>\n",
       "    <tr>\n",
       "      <td>0</td>\n",
       "      <td>ALX1::PRRX1</td>\n",
       "      <td>64</td>\n",
       "      <td>expr_loop_tissue</td>\n",
       "      <td>Melanocytes</td>\n",
       "    </tr>\n",
       "    <tr>\n",
       "      <td>1</td>\n",
       "      <td>ARNT2::EN2</td>\n",
       "      <td>32</td>\n",
       "      <td>expr_pro_tissue|expr_loop_tissue</td>\n",
       "      <td>Melanocytes</td>\n",
       "    </tr>\n",
       "    <tr>\n",
       "      <td>2</td>\n",
       "      <td>ARNT2::ETV2</td>\n",
       "      <td>12</td>\n",
       "      <td>expr_loop_tissue</td>\n",
       "      <td>Melanocytes</td>\n",
       "    </tr>\n",
       "    <tr>\n",
       "      <td>3</td>\n",
       "      <td>ARNT2::IRF4</td>\n",
       "      <td>12</td>\n",
       "      <td>expr_loop_tissue</td>\n",
       "      <td>Melanocytes</td>\n",
       "    </tr>\n",
       "    <tr>\n",
       "      <td>4</td>\n",
       "      <td>ARNT2::KLF15</td>\n",
       "      <td>99</td>\n",
       "      <td>expr_pro_tissue|expr_loop_tissue</td>\n",
       "      <td>Melanocytes</td>\n",
       "    </tr>\n",
       "    <tr>\n",
       "      <td>...</td>\n",
       "      <td>...</td>\n",
       "      <td>...</td>\n",
       "      <td>...</td>\n",
       "      <td>...</td>\n",
       "    </tr>\n",
       "    <tr>\n",
       "      <td>103</td>\n",
       "      <td>SP2::TFAP2B</td>\n",
       "      <td>390</td>\n",
       "      <td>expr_pro_tissue|expr_loop_tissue</td>\n",
       "      <td>Melanocytes</td>\n",
       "    </tr>\n",
       "    <tr>\n",
       "      <td>104</td>\n",
       "      <td>SP2::ZNF324</td>\n",
       "      <td>182</td>\n",
       "      <td>expr_pro_tissue|expr_loop_tissue</td>\n",
       "      <td>Melanocytes</td>\n",
       "    </tr>\n",
       "    <tr>\n",
       "      <td>105</td>\n",
       "      <td>TFAP2B::ZNF219</td>\n",
       "      <td>57</td>\n",
       "      <td>expr_pro_tissue|expr_loop_tissue</td>\n",
       "      <td>Melanocytes</td>\n",
       "    </tr>\n",
       "    <tr>\n",
       "      <td>106</td>\n",
       "      <td>TFAP2B::ZNF589</td>\n",
       "      <td>101</td>\n",
       "      <td>expr_pro_tissue|expr_loop_tissue</td>\n",
       "      <td>Melanocytes</td>\n",
       "    </tr>\n",
       "    <tr>\n",
       "      <td>107</td>\n",
       "      <td>ZNF324::ZNF589</td>\n",
       "      <td>11</td>\n",
       "      <td>expr_loop_tissue</td>\n",
       "      <td>Melanocytes</td>\n",
       "    </tr>\n",
       "  </tbody>\n",
       "</table>\n",
       "<p>108 rows × 4 columns</p>\n",
       "</div>"
      ],
      "text/plain": [
       "              vocab  num_instance                             label  \\\n",
       "0       ALX1::PRRX1            64                  expr_loop_tissue   \n",
       "1        ARNT2::EN2            32  expr_pro_tissue|expr_loop_tissue   \n",
       "2       ARNT2::ETV2            12                  expr_loop_tissue   \n",
       "3       ARNT2::IRF4            12                  expr_loop_tissue   \n",
       "4      ARNT2::KLF15            99  expr_pro_tissue|expr_loop_tissue   \n",
       "..              ...           ...                               ...   \n",
       "103     SP2::TFAP2B           390  expr_pro_tissue|expr_loop_tissue   \n",
       "104     SP2::ZNF324           182  expr_pro_tissue|expr_loop_tissue   \n",
       "105  TFAP2B::ZNF219            57  expr_pro_tissue|expr_loop_tissue   \n",
       "106  TFAP2B::ZNF589           101  expr_pro_tissue|expr_loop_tissue   \n",
       "107  ZNF324::ZNF589            11                  expr_loop_tissue   \n",
       "\n",
       "          tissue  \n",
       "0    Melanocytes  \n",
       "1    Melanocytes  \n",
       "2    Melanocytes  \n",
       "3    Melanocytes  \n",
       "4    Melanocytes  \n",
       "..           ...  \n",
       "103  Melanocytes  \n",
       "104  Melanocytes  \n",
       "105  Melanocytes  \n",
       "106  Melanocytes  \n",
       "107  Melanocytes  \n",
       "\n",
       "[108 rows x 4 columns]"
      ]
     },
     "execution_count": 235,
     "metadata": {},
     "output_type": "execute_result"
    }
   ],
   "source": [
    "normal_df"
   ]
  },
  {
   "cell_type": "code",
   "execution_count": 236,
   "metadata": {},
   "outputs": [
    {
     "data": {
      "text/plain": [
       "{'PRRX1::SOX10'}"
      ]
     },
     "execution_count": 236,
     "metadata": {},
     "output_type": "execute_result"
    }
   ],
   "source": [
    "set(mm_df_tissue2.vocab.values).intersection(set(normal_df.vocab.values))"
   ]
  },
  {
   "cell_type": "markdown",
   "metadata": {},
   "source": [
    "removed intersection of normal and cnacer types and shrink list down to 40"
   ]
  },
  {
   "cell_type": "code",
   "execution_count": 237,
   "metadata": {},
   "outputs": [
    {
     "ename": "TypeError",
     "evalue": "savefig() missing 1 required positional argument: 'fname'",
     "output_type": "error",
     "traceback": [
      "\u001b[0;31m---------------------------------------------------------------------------\u001b[0m",
      "\u001b[0;31mTypeError\u001b[0m                                 Traceback (most recent call last)",
      "\u001b[0;32m<ipython-input-237-17155d71723b>\u001b[0m in \u001b[0;36m<module>\u001b[0;34m\u001b[0m\n\u001b[1;32m      7\u001b[0m \u001b[0;34m\u001b[0m\u001b[0m\n\u001b[1;32m      8\u001b[0m \u001b[0mvenn2\u001b[0m\u001b[0;34m(\u001b[0m\u001b[0;34m[\u001b[0m\u001b[0mset\u001b[0m\u001b[0;34m(\u001b[0m\u001b[0mmm_df_tissue2\u001b[0m\u001b[0;34m.\u001b[0m\u001b[0mvocab\u001b[0m\u001b[0;34m.\u001b[0m\u001b[0mvalues\u001b[0m\u001b[0;34m)\u001b[0m\u001b[0;34m,\u001b[0m \u001b[0mset\u001b[0m\u001b[0;34m(\u001b[0m\u001b[0mnormal_df\u001b[0m\u001b[0;34m.\u001b[0m\u001b[0mvocab\u001b[0m\u001b[0;34m.\u001b[0m\u001b[0mvalues\u001b[0m\u001b[0;34m)\u001b[0m\u001b[0;34m]\u001b[0m\u001b[0;34m,\u001b[0m\u001b[0mset_labels\u001b[0m \u001b[0;34m=\u001b[0m \u001b[0;34m(\u001b[0m\u001b[0;34m'Group A'\u001b[0m\u001b[0;34m,\u001b[0m \u001b[0;34m'Group B'\u001b[0m\u001b[0;34m)\u001b[0m\u001b[0;34m)\u001b[0m\u001b[0;34m\u001b[0m\u001b[0;34m\u001b[0m\u001b[0m\n\u001b[0;32m----> 9\u001b[0;31m \u001b[0mplt\u001b[0m\u001b[0;34m.\u001b[0m\u001b[0msavefig\u001b[0m\u001b[0;34m(\u001b[0m\u001b[0;34m)\u001b[0m\u001b[0;34m\u001b[0m\u001b[0;34m\u001b[0m\u001b[0m\n\u001b[0m",
      "\u001b[0;32m~/opt/anaconda3/lib/python3.7/site-packages/matplotlib/pyplot.py\u001b[0m in \u001b[0;36msavefig\u001b[0;34m(*args, **kwargs)\u001b[0m\n\u001b[1;32m    720\u001b[0m \u001b[0;32mdef\u001b[0m \u001b[0msavefig\u001b[0m\u001b[0;34m(\u001b[0m\u001b[0;34m*\u001b[0m\u001b[0margs\u001b[0m\u001b[0;34m,\u001b[0m \u001b[0;34m**\u001b[0m\u001b[0mkwargs\u001b[0m\u001b[0;34m)\u001b[0m\u001b[0;34m:\u001b[0m\u001b[0;34m\u001b[0m\u001b[0;34m\u001b[0m\u001b[0m\n\u001b[1;32m    721\u001b[0m     \u001b[0mfig\u001b[0m \u001b[0;34m=\u001b[0m \u001b[0mgcf\u001b[0m\u001b[0;34m(\u001b[0m\u001b[0;34m)\u001b[0m\u001b[0;34m\u001b[0m\u001b[0;34m\u001b[0m\u001b[0m\n\u001b[0;32m--> 722\u001b[0;31m     \u001b[0mres\u001b[0m \u001b[0;34m=\u001b[0m \u001b[0mfig\u001b[0m\u001b[0;34m.\u001b[0m\u001b[0msavefig\u001b[0m\u001b[0;34m(\u001b[0m\u001b[0;34m*\u001b[0m\u001b[0margs\u001b[0m\u001b[0;34m,\u001b[0m \u001b[0;34m**\u001b[0m\u001b[0mkwargs\u001b[0m\u001b[0;34m)\u001b[0m\u001b[0;34m\u001b[0m\u001b[0;34m\u001b[0m\u001b[0m\n\u001b[0m\u001b[1;32m    723\u001b[0m     \u001b[0mfig\u001b[0m\u001b[0;34m.\u001b[0m\u001b[0mcanvas\u001b[0m\u001b[0;34m.\u001b[0m\u001b[0mdraw_idle\u001b[0m\u001b[0;34m(\u001b[0m\u001b[0;34m)\u001b[0m   \u001b[0;31m# need this if 'transparent=True' to reset colors\u001b[0m\u001b[0;34m\u001b[0m\u001b[0;34m\u001b[0m\u001b[0m\n\u001b[1;32m    724\u001b[0m     \u001b[0;32mreturn\u001b[0m \u001b[0mres\u001b[0m\u001b[0;34m\u001b[0m\u001b[0;34m\u001b[0m\u001b[0m\n",
      "\u001b[0;31mTypeError\u001b[0m: savefig() missing 1 required positional argument: 'fname'"
     ]
    },
    {
     "data": {
      "image/png": "[encoded data removed]",
      "text/plain": [
       "<Figure size 432x288 with 1 Axes>"
      ]
     },
     "metadata": {},
     "output_type": "display_data"
    }
   ],
   "source": [
    "from matplotlib_venn import venn2\n",
    "\n",
    " \n",
    "# Second way\n",
    "fig = plt.figure()\n",
    "plt.rcParams['figure.facecolor'] = 'white'\n",
    "\n",
    "venn2([set(mm_df_tissue2.vocab.values), set(normal_df.vocab.values)],set_labels = ('Group A', 'Group B'))\n",
    "plt.savefig()\n"
   ]
  },
  {
   "cell_type": "code",
   "execution_count": null,
   "metadata": {},
   "outputs": [],
   "source": []
  },
  {
   "cell_type": "code",
   "execution_count": null,
   "metadata": {},
   "outputs": [],
   "source": []
  }
 ],
 "metadata": {
  "kernelspec": {
   "display_name": "Python 3",
   "language": "python",
   "name": "python3"
  },
  "language_info": {
   "codemirror_mode": {
    "name": "ipython",
    "version": 3
   },
   "file_extension": ".py",
   "mimetype": "text/x-python",
   "name": "python",
   "nbconvert_exporter": "python",
   "pygments_lexer": "ipython3",
   "version": "3.7.4"
  }
 },
 "nbformat": 4,
 "nbformat_minor": 4
}
