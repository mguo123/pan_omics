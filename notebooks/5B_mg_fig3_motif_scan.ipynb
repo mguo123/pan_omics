{
 "cells": [
  {
   "cell_type": "markdown",
   "metadata": {},
   "source": [
    "# 5B_mg_fig3_motif_scan\n",
    "\n",
    "05/27/2020\n"
   ]
  },
  {
   "cell_type": "code",
   "execution_count": 51,
   "metadata": {},
   "outputs": [
    {
     "name": "stdout",
     "output_type": "stream",
     "text": [
      "The autoreload extension is already loaded. To reload it, use:\n",
      "  %reload_ext autoreload\n"
     ]
    }
   ],
   "source": [
    "import pandas as pd\n",
    "import os,glob\n",
    "import seaborn as sns\n",
    "import numpy as np\n",
    "import matplotlib.pyplot as plt\n",
    "from collections import defaultdict,Counter\n",
    "import time\n",
    "%load_ext autoreload\n",
    "\n",
    "%autoreload 2"
   ]
  },
  {
   "cell_type": "code",
   "execution_count": 10,
   "metadata": {},
   "outputs": [],
   "source": [
    "save_dir = '../data/processed/fig3_footprinting'\n",
    "if not os.path.exists(save_dir):\n",
    "    os.makedirs(save_dir)"
   ]
  },
  {
   "cell_type": "code",
   "execution_count": null,
   "metadata": {},
   "outputs": [],
   "source": []
  },
  {
   "cell_type": "code",
   "execution_count": 8,
   "metadata": {},
   "outputs": [],
   "source": [
    "annon_df = pd.read_csv('../data/external/HOCOMOCOv11_annotation.csv',index_col=0)\n",
    "annon_df['id_new'] = annon_df['id'] + '.pwm.trim'\n",
    "annon_df[['motif_abbr','motif_info']]=annon_df['id'].str.split(\"_\",expand=True)\n",
    "annon_dict = pd.Series(annon_df.tf.values, index=annon_df.motif_abbr.values).to_dict()\n",
    "anno"
   ]
  },
  {
   "cell_type": "markdown",
   "metadata": {},
   "source": [
    "# cluster the hocomoco stuff"
   ]
  },
  {
   "cell_type": "code",
   "execution_count": 93,
   "metadata": {},
   "outputs": [
    {
     "data": {
      "text/plain": [
       "130"
      ]
     },
     "execution_count": 93,
     "metadata": {},
     "output_type": "execute_result"
    }
   ],
   "source": [
    "clusters_df = pd.read_csv('/Users/mguo123/Documents/rsat/hocomoco_human_cluster/clusters_tf.csv')\n",
    "clusters_df.columns = ['id','cluster']\n",
    "clusters_df[['motif_abbr','motif_info']]=clusters_df['id'].str.split(\"_\",expand=True)\n",
    "clusters_df['tf'] = clusters_df['motif_abbr'].map(annon_dict)\n",
    "clusters_df.sort_values('cluster',inplace=True)\n",
    "clusters_df_tf = clusters_df.groupby('tf').first() \n",
    "clusters_df_tf.sort_values('cluster',inplace=True)\n",
    "len(set(clusters_df_tf['cluster'])) # number of clusters"
   ]
  },
  {
   "cell_type": "code",
   "execution_count": 97,
   "metadata": {},
   "outputs": [
    {
     "data": {
      "text/html": [
       "<div>\n",
       "<style scoped>\n",
       "    .dataframe tbody tr th:only-of-type {\n",
       "        vertical-align: middle;\n",
       "    }\n",
       "\n",
       "    .dataframe tbody tr th {\n",
       "        vertical-align: top;\n",
       "    }\n",
       "\n",
       "    .dataframe thead th {\n",
       "        text-align: right;\n",
       "    }\n",
       "</style>\n",
       "<table border=\"1\" class=\"dataframe\">\n",
       "  <thead>\n",
       "    <tr style=\"text-align: right;\">\n",
       "      <th></th>\n",
       "      <th>id</th>\n",
       "      <th>cluster</th>\n",
       "      <th>motif_abbr</th>\n",
       "      <th>motif_info</th>\n",
       "    </tr>\n",
       "    <tr>\n",
       "      <th>tf</th>\n",
       "      <th></th>\n",
       "      <th></th>\n",
       "      <th></th>\n",
       "      <th></th>\n",
       "    </tr>\n",
       "  </thead>\n",
       "  <tbody>\n",
       "    <tr>\n",
       "      <td>AHR</td>\n",
       "      <td>AHR_HUMAN.H11MO.0.B</td>\n",
       "      <td>1</td>\n",
       "      <td>AHR</td>\n",
       "      <td>HUMAN.H11MO.0.B</td>\n",
       "    </tr>\n",
       "    <tr>\n",
       "      <td>HIF1A</td>\n",
       "      <td>HIF1A_HUMAN.H11MO.0.C</td>\n",
       "      <td>1</td>\n",
       "      <td>HIF1A</td>\n",
       "      <td>HUMAN.H11MO.0.C</td>\n",
       "    </tr>\n",
       "    <tr>\n",
       "      <td>ARNT2</td>\n",
       "      <td>ARNT2_HUMAN.H11MO.0.D</td>\n",
       "      <td>1</td>\n",
       "      <td>ARNT2</td>\n",
       "      <td>HUMAN.H11MO.0.D</td>\n",
       "    </tr>\n",
       "    <tr>\n",
       "      <td>ARNT</td>\n",
       "      <td>ARNT_HUMAN.H11MO.0.B</td>\n",
       "      <td>1</td>\n",
       "      <td>ARNT</td>\n",
       "      <td>HUMAN.H11MO.0.B</td>\n",
       "    </tr>\n",
       "    <tr>\n",
       "      <td>EPAS1</td>\n",
       "      <td>EPAS1_HUMAN.H11MO.0.B</td>\n",
       "      <td>1</td>\n",
       "      <td>EPAS1</td>\n",
       "      <td>HUMAN.H11MO.0.B</td>\n",
       "    </tr>\n",
       "    <tr>\n",
       "      <td>...</td>\n",
       "      <td>...</td>\n",
       "      <td>...</td>\n",
       "      <td>...</td>\n",
       "      <td>...</td>\n",
       "    </tr>\n",
       "    <tr>\n",
       "      <td>ZIC3</td>\n",
       "      <td>ZIC3_HUMAN.H11MO.0.B</td>\n",
       "      <td>129</td>\n",
       "      <td>ZIC3</td>\n",
       "      <td>HUMAN.H11MO.0.B</td>\n",
       "    </tr>\n",
       "    <tr>\n",
       "      <td>ZNF257</td>\n",
       "      <td>ZN257_HUMAN.H11MO.0.C</td>\n",
       "      <td>130</td>\n",
       "      <td>ZN257</td>\n",
       "      <td>HUMAN.H11MO.0.C</td>\n",
       "    </tr>\n",
       "    <tr>\n",
       "      <td>ZNF410</td>\n",
       "      <td>ZN410_HUMAN.H11MO.0.D</td>\n",
       "      <td>131</td>\n",
       "      <td>ZN410</td>\n",
       "      <td>HUMAN.H11MO.0.D</td>\n",
       "    </tr>\n",
       "    <tr>\n",
       "      <td>ZNF282</td>\n",
       "      <td>ZN282_HUMAN.H11MO.0.D</td>\n",
       "      <td>131</td>\n",
       "      <td>ZN282</td>\n",
       "      <td>HUMAN.H11MO.0.D</td>\n",
       "    </tr>\n",
       "    <tr>\n",
       "      <td>ZNF652</td>\n",
       "      <td>ZN652_HUMAN.H11MO.0.D</td>\n",
       "      <td>132</td>\n",
       "      <td>ZN652</td>\n",
       "      <td>HUMAN.H11MO.0.D</td>\n",
       "    </tr>\n",
       "  </tbody>\n",
       "</table>\n",
       "<p>678 rows × 4 columns</p>\n",
       "</div>"
      ],
      "text/plain": [
       "                           id  cluster motif_abbr       motif_info\n",
       "tf                                                                \n",
       "AHR       AHR_HUMAN.H11MO.0.B        1        AHR  HUMAN.H11MO.0.B\n",
       "HIF1A   HIF1A_HUMAN.H11MO.0.C        1      HIF1A  HUMAN.H11MO.0.C\n",
       "ARNT2   ARNT2_HUMAN.H11MO.0.D        1      ARNT2  HUMAN.H11MO.0.D\n",
       "ARNT     ARNT_HUMAN.H11MO.0.B        1       ARNT  HUMAN.H11MO.0.B\n",
       "EPAS1   EPAS1_HUMAN.H11MO.0.B        1      EPAS1  HUMAN.H11MO.0.B\n",
       "...                       ...      ...        ...              ...\n",
       "ZIC3     ZIC3_HUMAN.H11MO.0.B      129       ZIC3  HUMAN.H11MO.0.B\n",
       "ZNF257  ZN257_HUMAN.H11MO.0.C      130      ZN257  HUMAN.H11MO.0.C\n",
       "ZNF410  ZN410_HUMAN.H11MO.0.D      131      ZN410  HUMAN.H11MO.0.D\n",
       "ZNF282  ZN282_HUMAN.H11MO.0.D      131      ZN282  HUMAN.H11MO.0.D\n",
       "ZNF652  ZN652_HUMAN.H11MO.0.D      132      ZN652  HUMAN.H11MO.0.D\n",
       "\n",
       "[678 rows x 4 columns]"
      ]
     },
     "execution_count": 97,
     "metadata": {},
     "output_type": "execute_result"
    }
   ],
   "source": [
    "clusters_df_tf"
   ]
  },
  {
   "cell_type": "code",
   "execution_count": null,
   "metadata": {},
   "outputs": [],
   "source": []
  },
  {
   "cell_type": "code",
   "execution_count": 2,
   "metadata": {},
   "outputs": [
    {
     "data": {
      "text/plain": [
       "['../data/raw/motif_scan/Esophageal_mpbs.bed',\n",
       " '../data/raw/motif_scan/Prostate_mpbs.bed',\n",
       " '../data/raw/motif_scan/GDS-D3_mpbs.bed',\n",
       " '../data/raw/motif_scan/Bladder_mpbs.bed',\n",
       " '../data/raw/motif_scan/Airway_mpbs.bed',\n",
       " '../data/raw/motif_scan/GM12878_mpbs.bed',\n",
       " '../data/raw/motif_scan/GDS-D0_mpbs.bed',\n",
       " '../data/raw/motif_scan/Astrocytes_mpbs.bed',\n",
       " '../data/raw/motif_scan/HMEC_mpbs.bed',\n",
       " '../data/raw/motif_scan/Melanocytes_mpbs.bed',\n",
       " '../data/raw/motif_scan/Pancreas_mpbs.bed',\n",
       " '../data/raw/motif_scan/Colon_mpbs.bed',\n",
       " '../data/raw/motif_scan/GDS-D6_mpbs.bed',\n",
       " '../data/raw/motif_scan/Ovarian_mpbs.bed']"
      ]
     },
     "execution_count": 2,
     "metadata": {},
     "output_type": "execute_result"
    }
   ],
   "source": [
    "glob.glob('../data/raw/motif_scan/*bed')"
   ]
  },
  {
   "cell_type": "code",
   "execution_count": 43,
   "metadata": {},
   "outputs": [],
   "source": [
    "tissue_map = {\n",
    "    'Airway':'Airway',\n",
    "    'Astrocytes':'Astrocytes',\n",
    "    'Bladder':'Bladder',\n",
    "    'Colon':'Colon',\n",
    "    'Esophageal':'Esophageal',\n",
    "    'GDSD0':'GDS-D0',\n",
    "    'GDSD3':'GDS-D3',\n",
    "    'GDSD6':'GDS-D6',\n",
    "    'GM12878':'GM12878',\n",
    "    'HMEC':'HMEC',\n",
    "    'Melanocytes':'Melanocytes',\n",
    "    'Ovarian':'Ovarian',\n",
    "    'Pancreas':'Pancreas',\n",
    "    'Prostate':'Prostate',\n",
    "    'Renal':'Renal',\n",
    "    'Thyroid':'Thyroid',\n",
    "    'Uterine':'Uterine'   \n",
    "}"
   ]
  },
  {
   "cell_type": "code",
   "execution_count": 42,
   "metadata": {},
   "outputs": [
    {
     "name": "stdout",
     "output_type": "stream",
     "text": [
      "Astrocytes\n",
      "GDSD0\n",
      "GDSD3\n",
      "GDSD6\n",
      "GM12878\n",
      "Melanocytes\n",
      "CPU times: user 24min 11s, sys: 1min 2s, total: 25min 14s\n",
      "Wall time: 24min 36s\n"
     ]
    }
   ],
   "source": [
    "%%time\n",
    "scores_all = pd.DataFrame()\n",
    "for tissue in ['Astrocytes','GDSD0','GDSD3','GDSD6','GM12878','Melanocytes']:\n",
    "    print(tissue)\n",
    "    start = time.time()\n",
    "    bed_file = '../data/raw/motif_scan/' + tissue_map[tissue] + '_mpbs.bed'\n",
    "    bed_df = pd.read_csv(bed_file, sep='\\t',header=None)\n",
    "    bed_df.columns = ['chr', 'start', 'end', 'id', 'score', 'strand', 'etc']\n",
    "    bed_df[['motif_name', 'info']] = bed_df['id'].str.split('_',expand=True)\n",
    "    bed_df['tf'] = bed_df.motif_name.map(annon_dict)\n",
    "    scores = bed_df.groupby('tf').agg(\n",
    "    {'score':'mean','id':'count'}\n",
    "    ).sort_values('score')\n",
    "    scores.reset_index(inplace=True)\n",
    "    scores.columns = ['tf','score', 'count']\n",
    "    scores['tissue'] = tissue\n",
    "    \n",
    "    scores_all = pd.concat([scores_all,scores],sort=False)\n",
    "    \n",
    "    print(tissue,time.time()-start)\n"
   ]
  },
  {
   "cell_type": "code",
   "execution_count": 46,
   "metadata": {},
   "outputs": [],
   "source": [
    "scores_all_sel = scores_all.copy()"
   ]
  },
  {
   "cell_type": "code",
   "execution_count": 82,
   "metadata": {},
   "outputs": [],
   "source": [
    "scores_all_sel_piv = scores_all_sel.pivot('tissue','tf','count')\n",
    "scores_all_sel_piv_norm = scores_all_sel_piv / scores_all_sel_piv.sum(axis=0)\n",
    "scores_all_sel_piv_norm = scores_all_sel_piv_norm.divide(np.array(scores_all_sel_piv.sum(axis=1)),axis='rows')\n",
    "scores_all_sel_piv_norm = scores_all_sel_piv_norm* scores_all_sel_piv.sum().sum()\n",
    "scores_all_sel_piv_norm = scores_all_sel_piv_norm.applymap(lambda x: max(1e-3,x))"
   ]
  },
  {
   "cell_type": "code",
   "execution_count": 86,
   "metadata": {},
   "outputs": [
    {
     "data": {
      "text/plain": [
       "'../data/processed/fig3_footprinting/scores_all_sel_piv_norm.csv'"
      ]
     },
     "execution_count": 86,
     "metadata": {},
     "output_type": "execute_result"
    }
   ],
   "source": [
    "scores_all_sel_piv_norm.to_csv(os.path.join(save_dir, 'scores_all_sel_piv_norm.csv'))\n",
    "os.path.join(save_dir, 'scores_all_sel_piv_norm.csv')"
   ]
  },
  {
   "cell_type": "code",
   "execution_count": 65,
   "metadata": {},
   "outputs": [
    {
     "data": {
      "text/html": [
       "<div>\n",
       "<style scoped>\n",
       "    .dataframe tbody tr th:only-of-type {\n",
       "        vertical-align: middle;\n",
       "    }\n",
       "\n",
       "    .dataframe tbody tr th {\n",
       "        vertical-align: top;\n",
       "    }\n",
       "\n",
       "    .dataframe thead th {\n",
       "        text-align: right;\n",
       "    }\n",
       "</style>\n",
       "<table border=\"1\" class=\"dataframe\">\n",
       "  <thead>\n",
       "    <tr style=\"text-align: right;\">\n",
       "      <th>tf</th>\n",
       "      <th>AHR</th>\n",
       "      <th>AIRE</th>\n",
       "      <th>ALX1</th>\n",
       "      <th>ALX3</th>\n",
       "      <th>ALX4</th>\n",
       "      <th>AR</th>\n",
       "      <th>ARID3A</th>\n",
       "      <th>ARID5B</th>\n",
       "      <th>ARNT</th>\n",
       "      <th>ARNT2</th>\n",
       "      <th>...</th>\n",
       "      <th>ZNF76</th>\n",
       "      <th>ZNF768</th>\n",
       "      <th>ZNF770</th>\n",
       "      <th>ZNF784</th>\n",
       "      <th>ZNF8-ERVK3-1</th>\n",
       "      <th>ZNF816</th>\n",
       "      <th>ZNF85</th>\n",
       "      <th>ZSCAN16</th>\n",
       "      <th>ZSCAN22</th>\n",
       "      <th>ZSCAN31</th>\n",
       "    </tr>\n",
       "    <tr>\n",
       "      <th>tissue</th>\n",
       "      <th></th>\n",
       "      <th></th>\n",
       "      <th></th>\n",
       "      <th></th>\n",
       "      <th></th>\n",
       "      <th></th>\n",
       "      <th></th>\n",
       "      <th></th>\n",
       "      <th></th>\n",
       "      <th></th>\n",
       "      <th></th>\n",
       "      <th></th>\n",
       "      <th></th>\n",
       "      <th></th>\n",
       "      <th></th>\n",
       "      <th></th>\n",
       "      <th></th>\n",
       "      <th></th>\n",
       "      <th></th>\n",
       "      <th></th>\n",
       "      <th></th>\n",
       "    </tr>\n",
       "  </thead>\n",
       "  <tbody>\n",
       "    <tr>\n",
       "      <td>Astrocytes</td>\n",
       "      <td>0.131342</td>\n",
       "      <td>0.098605</td>\n",
       "      <td>0.076319</td>\n",
       "      <td>0.077749</td>\n",
       "      <td>0.078593</td>\n",
       "      <td>0.085137</td>\n",
       "      <td>0.070681</td>\n",
       "      <td>0.080721</td>\n",
       "      <td>0.134200</td>\n",
       "      <td>0.145211</td>\n",
       "      <td>...</td>\n",
       "      <td>0.135860</td>\n",
       "      <td>0.114198</td>\n",
       "      <td>0.141040</td>\n",
       "      <td>0.118301</td>\n",
       "      <td>0.074654</td>\n",
       "      <td>0.134977</td>\n",
       "      <td>0.085449</td>\n",
       "      <td>0.090827</td>\n",
       "      <td>0.144258</td>\n",
       "      <td>0.132232</td>\n",
       "    </tr>\n",
       "    <tr>\n",
       "      <td>GDSD0</td>\n",
       "      <td>0.175406</td>\n",
       "      <td>0.199042</td>\n",
       "      <td>0.210722</td>\n",
       "      <td>0.207687</td>\n",
       "      <td>0.209101</td>\n",
       "      <td>0.198472</td>\n",
       "      <td>0.204117</td>\n",
       "      <td>0.206531</td>\n",
       "      <td>0.173527</td>\n",
       "      <td>0.165459</td>\n",
       "      <td>...</td>\n",
       "      <td>0.175915</td>\n",
       "      <td>0.183920</td>\n",
       "      <td>0.165969</td>\n",
       "      <td>0.187652</td>\n",
       "      <td>0.211680</td>\n",
       "      <td>0.171517</td>\n",
       "      <td>0.207134</td>\n",
       "      <td>0.199398</td>\n",
       "      <td>0.163748</td>\n",
       "      <td>0.176175</td>\n",
       "    </tr>\n",
       "    <tr>\n",
       "      <td>GDSD3</td>\n",
       "      <td>0.191888</td>\n",
       "      <td>0.214359</td>\n",
       "      <td>0.232368</td>\n",
       "      <td>0.232521</td>\n",
       "      <td>0.233987</td>\n",
       "      <td>0.216582</td>\n",
       "      <td>0.225959</td>\n",
       "      <td>0.224375</td>\n",
       "      <td>0.193102</td>\n",
       "      <td>0.182798</td>\n",
       "      <td>...</td>\n",
       "      <td>0.193657</td>\n",
       "      <td>0.202409</td>\n",
       "      <td>0.185626</td>\n",
       "      <td>0.204100</td>\n",
       "      <td>0.231034</td>\n",
       "      <td>0.191601</td>\n",
       "      <td>0.227040</td>\n",
       "      <td>0.214077</td>\n",
       "      <td>0.183369</td>\n",
       "      <td>0.192884</td>\n",
       "    </tr>\n",
       "    <tr>\n",
       "      <td>GDSD6</td>\n",
       "      <td>0.173562</td>\n",
       "      <td>0.195917</td>\n",
       "      <td>0.218954</td>\n",
       "      <td>0.221414</td>\n",
       "      <td>0.221748</td>\n",
       "      <td>0.199498</td>\n",
       "      <td>0.194931</td>\n",
       "      <td>0.204459</td>\n",
       "      <td>0.175919</td>\n",
       "      <td>0.164563</td>\n",
       "      <td>...</td>\n",
       "      <td>0.173304</td>\n",
       "      <td>0.187021</td>\n",
       "      <td>0.165947</td>\n",
       "      <td>0.186149</td>\n",
       "      <td>0.215340</td>\n",
       "      <td>0.170563</td>\n",
       "      <td>0.210253</td>\n",
       "      <td>0.199301</td>\n",
       "      <td>0.163533</td>\n",
       "      <td>0.174923</td>\n",
       "    </tr>\n",
       "    <tr>\n",
       "      <td>GM12878</td>\n",
       "      <td>0.185472</td>\n",
       "      <td>0.181495</td>\n",
       "      <td>0.169823</td>\n",
       "      <td>0.171304</td>\n",
       "      <td>0.168697</td>\n",
       "      <td>0.195927</td>\n",
       "      <td>0.202863</td>\n",
       "      <td>0.184422</td>\n",
       "      <td>0.177782</td>\n",
       "      <td>0.183726</td>\n",
       "      <td>...</td>\n",
       "      <td>0.174223</td>\n",
       "      <td>0.187210</td>\n",
       "      <td>0.182031</td>\n",
       "      <td>0.193444</td>\n",
       "      <td>0.176711</td>\n",
       "      <td>0.184018</td>\n",
       "      <td>0.169124</td>\n",
       "      <td>0.191637</td>\n",
       "      <td>0.182964</td>\n",
       "      <td>0.177046</td>\n",
       "    </tr>\n",
       "    <tr>\n",
       "      <td>Melanocytes</td>\n",
       "      <td>0.142330</td>\n",
       "      <td>0.110582</td>\n",
       "      <td>0.091814</td>\n",
       "      <td>0.089326</td>\n",
       "      <td>0.087874</td>\n",
       "      <td>0.104385</td>\n",
       "      <td>0.101448</td>\n",
       "      <td>0.099491</td>\n",
       "      <td>0.145470</td>\n",
       "      <td>0.158243</td>\n",
       "      <td>...</td>\n",
       "      <td>0.147041</td>\n",
       "      <td>0.125242</td>\n",
       "      <td>0.159387</td>\n",
       "      <td>0.110353</td>\n",
       "      <td>0.090581</td>\n",
       "      <td>0.147323</td>\n",
       "      <td>0.101000</td>\n",
       "      <td>0.104761</td>\n",
       "      <td>0.162130</td>\n",
       "      <td>0.146740</td>\n",
       "    </tr>\n",
       "  </tbody>\n",
       "</table>\n",
       "<p>6 rows × 678 columns</p>\n",
       "</div>"
      ],
      "text/plain": [
       "tf                AHR      AIRE      ALX1      ALX3      ALX4        AR  \\\n",
       "tissue                                                                    \n",
       "Astrocytes   0.131342  0.098605  0.076319  0.077749  0.078593  0.085137   \n",
       "GDSD0        0.175406  0.199042  0.210722  0.207687  0.209101  0.198472   \n",
       "GDSD3        0.191888  0.214359  0.232368  0.232521  0.233987  0.216582   \n",
       "GDSD6        0.173562  0.195917  0.218954  0.221414  0.221748  0.199498   \n",
       "GM12878      0.185472  0.181495  0.169823  0.171304  0.168697  0.195927   \n",
       "Melanocytes  0.142330  0.110582  0.091814  0.089326  0.087874  0.104385   \n",
       "\n",
       "tf             ARID3A    ARID5B      ARNT     ARNT2  ...     ZNF76    ZNF768  \\\n",
       "tissue                                               ...                       \n",
       "Astrocytes   0.070681  0.080721  0.134200  0.145211  ...  0.135860  0.114198   \n",
       "GDSD0        0.204117  0.206531  0.173527  0.165459  ...  0.175915  0.183920   \n",
       "GDSD3        0.225959  0.224375  0.193102  0.182798  ...  0.193657  0.202409   \n",
       "GDSD6        0.194931  0.204459  0.175919  0.164563  ...  0.173304  0.187021   \n",
       "GM12878      0.202863  0.184422  0.177782  0.183726  ...  0.174223  0.187210   \n",
       "Melanocytes  0.101448  0.099491  0.145470  0.158243  ...  0.147041  0.125242   \n",
       "\n",
       "tf             ZNF770    ZNF784  ZNF8-ERVK3-1    ZNF816     ZNF85   ZSCAN16  \\\n",
       "tissue                                                                        \n",
       "Astrocytes   0.141040  0.118301      0.074654  0.134977  0.085449  0.090827   \n",
       "GDSD0        0.165969  0.187652      0.211680  0.171517  0.207134  0.199398   \n",
       "GDSD3        0.185626  0.204100      0.231034  0.191601  0.227040  0.214077   \n",
       "GDSD6        0.165947  0.186149      0.215340  0.170563  0.210253  0.199301   \n",
       "GM12878      0.182031  0.193444      0.176711  0.184018  0.169124  0.191637   \n",
       "Melanocytes  0.159387  0.110353      0.090581  0.147323  0.101000  0.104761   \n",
       "\n",
       "tf            ZSCAN22   ZSCAN31  \n",
       "tissue                           \n",
       "Astrocytes   0.144258  0.132232  \n",
       "GDSD0        0.163748  0.176175  \n",
       "GDSD3        0.183369  0.192884  \n",
       "GDSD6        0.163533  0.174923  \n",
       "GM12878      0.182964  0.177046  \n",
       "Melanocytes  0.162130  0.146740  \n",
       "\n",
       "[6 rows x 678 columns]"
      ]
     },
     "execution_count": 65,
     "metadata": {},
     "output_type": "execute_result"
    }
   ],
   "source": [
    "scores_all_sel_piv / scores_all_sel_piv.sum(axis=0)"
   ]
  },
  {
   "cell_type": "code",
   "execution_count": 52,
   "metadata": {},
   "outputs": [
    {
     "data": {
      "text/plain": [
       "<matplotlib.axes._subplots.AxesSubplot at 0x7fc4ea9e1190>"
      ]
     },
     "execution_count": 52,
     "metadata": {},
     "output_type": "execute_result"
    },
    {
     "data": {
      "image/png": "[encoded data removed]",
      "text/plain": [
       "<Figure size 432x288 with 2 Axes>"
      ]
     },
     "metadata": {
      "needs_background": "light"
     },
     "output_type": "display_data"
    }
   ],
   "source": [
    "sns.heatmap(np.log(scores_all_sel.pivot('tissue','tf','count')))"
   ]
  },
  {
   "cell_type": "code",
   "execution_count": 5,
   "metadata": {},
   "outputs": [],
   "source": [
    "%%time\n",
    "tissue = 'GDSD0'\n",
    "bed_file = '../data/raw/motif_scan/GDS-D0_mpbs.bed'\n",
    "\n",
    "bed_df = pd.read_csv(bed_file, sep='\\t',header=None)\n",
    "bed_df.columns = ['chr', 'start', 'end', 'id', 'score', 'strand', 'etc']\n",
    "bed_df[['motif_name', 'info']] = bed_df['id'].str.split('_',expand=True)\n",
    "bed_df['tf'] = bed_df.motif_name.map(annon_dict)"
   ]
  },
  {
   "cell_type": "code",
   "execution_count": 33,
   "metadata": {},
   "outputs": [],
   "source": [
    "scores = bed_df.groupby('tf').agg(\n",
    "    {'score':'mean','id':'count'}\n",
    ").sort_values('score')\n",
    "scores.reset_index(inplace=True)\n",
    "scores.columns = ['tf','score', 'count']\n",
    "scores['tissue'] = tissue\n"
   ]
  },
  {
   "cell_type": "markdown",
   "metadata": {},
   "source": [
    "# Footprint - select"
   ]
  },
  {
   "cell_type": "code",
   "execution_count": 99,
   "metadata": {},
   "outputs": [
    {
     "data": {
      "text/plain": [
       "['../data/interim/merged/footprinting/COLO_SCR_PLX_merged.bed',\n",
       " '../data/interim/merged/footprinting/D6-p63i_merged.bed',\n",
       " '../data/interim/merged/footprinting/COLO_shMITF_PLX_merged.bed',\n",
       " '../data/interim/merged/footprinting/D3-CTRLi_merged.bed',\n",
       " '../data/interim/merged/footprinting/Icon\\r',\n",
       " '../data/interim/merged/footprinting/Renal_merged.bed',\n",
       " '../data/interim/merged/footprinting/Prostate_merged.bed',\n",
       " '../data/interim/merged/footprinting/A431-p63i_merged.bed',\n",
       " '../data/interim/merged/footprinting/COLO_shMITF_DMSO_merged.bed',\n",
       " '../data/interim/merged/footprinting/Uterine_merged.bed',\n",
       " '../data/interim/merged/footprinting/GDSD6_merged.bed',\n",
       " '../data/interim/merged/footprinting/Pancreas_merged.bed',\n",
       " '../data/interim/merged/footprinting/WM_SCR_DMSO_merged.bed',\n",
       " '../data/interim/merged/footprinting/SCC13-CTRLi_merged.bed',\n",
       " '../data/interim/merged/footprinting/D6-CTRLi_merged.bed',\n",
       " '../data/interim/merged/footprinting/Melanocytes_merged.bed',\n",
       " '../data/interim/merged/footprinting/Ovarian_merged.bed',\n",
       " '../data/interim/merged/footprinting/D0-p63i_merged.bed',\n",
       " '../data/interim/merged/footprinting/SKMEL5_SCR_DMSO_merged.bed',\n",
       " '../data/interim/merged/footprinting/COLO_SCR_DMSO_merged.bed',\n",
       " '../data/interim/merged/footprinting/Bladder_merged.bed',\n",
       " '../data/interim/merged/footprinting/GDSD3_merged.bed',\n",
       " '../data/interim/merged/footprinting/Esophageal_merged.bed',\n",
       " '../data/interim/merged/footprinting/A431-CTRLi_merged.bed',\n",
       " '../data/interim/merged/footprinting/GM12878_merged.bed',\n",
       " '../data/interim/merged/footprinting/Astrocytes_merged.bed',\n",
       " '../data/interim/merged/footprinting/Colon_merged.bed',\n",
       " '../data/interim/merged/footprinting/GDSD0_merged.bed',\n",
       " '../data/interim/merged/footprinting/CAL27-CTRLi_merged.bed',\n",
       " '../data/interim/merged/footprinting/Thyroid_merged.bed',\n",
       " '../data/interim/merged/footprinting/CAL27-p63i_merged.bed',\n",
       " '../data/interim/merged/footprinting/SCC13-p63i_merged.bed',\n",
       " '../data/interim/merged/footprinting/Airway_merged.bed',\n",
       " '../data/interim/merged/footprinting/HMEC_merged.bed',\n",
       " '../data/interim/merged/footprinting/D3-p63i_merged.bed',\n",
       " '../data/interim/merged/footprinting/D0-CTRLi_merged.bed']"
      ]
     },
     "execution_count": 99,
     "metadata": {},
     "output_type": "execute_result"
    }
   ],
   "source": [
    "glob.glob( '../data/interim/merged/footprinting/*')"
   ]
  },
  {
   "cell_type": "code",
   "execution_count": 114,
   "metadata": {},
   "outputs": [
    {
     "name": "stdout",
     "output_type": "stream",
     "text": [
      "Astrocytes\n",
      "Astrocytes 3.956490993499756\n",
      "GDSD0\n",
      "GDSD0 9.95537281036377\n",
      "GDSD3\n",
      "GDSD3 10.968613147735596\n",
      "GDSD6\n",
      "GDSD6 11.776802062988281\n",
      "GM12878\n",
      "GM12878 9.248206853866577\n",
      "Melanocytes\n",
      "Melanocytes 4.8802170753479\n",
      "CPU times: user 1min 8s, sys: 1.28 s, total: 1min 9s\n",
      "Wall time: 50.8 s\n"
     ]
    }
   ],
   "source": [
    "%%time\n",
    "scores_all_foot = pd.DataFrame()\n",
    "for tissue in ['Astrocytes','GDSD0','GDSD3','GDSD6','GM12878','Melanocytes']:\n",
    "    print(tissue)\n",
    "    start = time.time()\n",
    "    bed_file = '../data/interim/merged/footprinting/' + tissue + '_merged.bed'\n",
    "    bed_df = pd.read_csv(bed_file, sep='\\t',header=None)\n",
    "    bed_df.columns = ['chr', 'start', 'end', 'id', 'score', 'strand', 'etc']\n",
    "    bed_df[['motif_name', 'info']] = bed_df['id'].str.split('_',expand=True)\n",
    "    bed_df['tf'] = bed_df.motif_name.map(annon_dict)\n",
    "    scores = bed_df.groupby('tf').agg(\n",
    "    {'score':'mean','id':'count'}\n",
    "    ).sort_values('score')\n",
    "    scores.reset_index(inplace=True)\n",
    "    scores.columns = ['tf','score', 'count']\n",
    "    scores['tissue'] = tissue\n",
    "    \n",
    "    scores_all_foot = pd.concat([scores_all_foot,scores],sort=False)\n",
    "    \n",
    "    print(tissue,time.time()-start)\n"
   ]
  },
  {
   "cell_type": "code",
   "execution_count": 116,
   "metadata": {},
   "outputs": [
    {
     "data": {
      "text/html": [
       "<div>\n",
       "<style scoped>\n",
       "    .dataframe tbody tr th:only-of-type {\n",
       "        vertical-align: middle;\n",
       "    }\n",
       "\n",
       "    .dataframe tbody tr th {\n",
       "        vertical-align: top;\n",
       "    }\n",
       "\n",
       "    .dataframe thead th {\n",
       "        text-align: right;\n",
       "    }\n",
       "</style>\n",
       "<table border=\"1\" class=\"dataframe\">\n",
       "  <thead>\n",
       "    <tr style=\"text-align: right;\">\n",
       "      <th></th>\n",
       "      <th></th>\n",
       "      <th>score</th>\n",
       "      <th>count</th>\n",
       "    </tr>\n",
       "    <tr>\n",
       "      <th>tf</th>\n",
       "      <th>tissue</th>\n",
       "      <th></th>\n",
       "      <th></th>\n",
       "    </tr>\n",
       "  </thead>\n",
       "  <tbody>\n",
       "    <tr>\n",
       "      <td>AHR</td>\n",
       "      <td>Astrocytes</td>\n",
       "      <td>1</td>\n",
       "      <td>1</td>\n",
       "    </tr>\n",
       "    <tr>\n",
       "      <td rowspan=\"2\" valign=\"top\">RARA</td>\n",
       "      <td>GM12878</td>\n",
       "      <td>1</td>\n",
       "      <td>1</td>\n",
       "    </tr>\n",
       "    <tr>\n",
       "      <td>Melanocytes</td>\n",
       "      <td>1</td>\n",
       "      <td>1</td>\n",
       "    </tr>\n",
       "    <tr>\n",
       "      <td rowspan=\"2\" valign=\"top\">RARB</td>\n",
       "      <td>Astrocytes</td>\n",
       "      <td>1</td>\n",
       "      <td>1</td>\n",
       "    </tr>\n",
       "    <tr>\n",
       "      <td>GDSD0</td>\n",
       "      <td>1</td>\n",
       "      <td>1</td>\n",
       "    </tr>\n",
       "    <tr>\n",
       "      <td>...</td>\n",
       "      <td>...</td>\n",
       "      <td>...</td>\n",
       "      <td>...</td>\n",
       "    </tr>\n",
       "    <tr>\n",
       "      <td>HOXB7</td>\n",
       "      <td>Melanocytes</td>\n",
       "      <td>1</td>\n",
       "      <td>1</td>\n",
       "    </tr>\n",
       "    <tr>\n",
       "      <td rowspan=\"2\" valign=\"top\">HOXB8</td>\n",
       "      <td>Astrocytes</td>\n",
       "      <td>1</td>\n",
       "      <td>1</td>\n",
       "    </tr>\n",
       "    <tr>\n",
       "      <td>GDSD0</td>\n",
       "      <td>1</td>\n",
       "      <td>1</td>\n",
       "    </tr>\n",
       "    <tr>\n",
       "      <td>HOXB6</td>\n",
       "      <td>Astrocytes</td>\n",
       "      <td>1</td>\n",
       "      <td>1</td>\n",
       "    </tr>\n",
       "    <tr>\n",
       "      <td>ZSCAN31</td>\n",
       "      <td>Melanocytes</td>\n",
       "      <td>1</td>\n",
       "      <td>1</td>\n",
       "    </tr>\n",
       "  </tbody>\n",
       "</table>\n",
       "<p>4068 rows × 2 columns</p>\n",
       "</div>"
      ],
      "text/plain": [
       "                     score  count\n",
       "tf      tissue                   \n",
       "AHR     Astrocytes       1      1\n",
       "RARA    GM12878          1      1\n",
       "        Melanocytes      1      1\n",
       "RARB    Astrocytes       1      1\n",
       "        GDSD0            1      1\n",
       "...                    ...    ...\n",
       "HOXB7   Melanocytes      1      1\n",
       "HOXB8   Astrocytes       1      1\n",
       "        GDSD0            1      1\n",
       "HOXB6   Astrocytes       1      1\n",
       "ZSCAN31 Melanocytes      1      1\n",
       "\n",
       "[4068 rows x 2 columns]"
      ]
     },
     "execution_count": 116,
     "metadata": {},
     "output_type": "execute_result"
    }
   ],
   "source": [
    "scores_all_foot.groupby(['tf','tissue']).count().sort_values('count')"
   ]
  },
  {
   "cell_type": "code",
   "execution_count": 117,
   "metadata": {},
   "outputs": [],
   "source": [
    "scores_all_foot_piv = scores_all_foot.pivot('tissue','tf','count')\n",
    "scores_all_foot_piv_norm = scores_all_foot_piv / scores_all_foot_piv.sum(axis=0)\n",
    "scores_all_foot_piv_norm = scores_all_foot_piv_norm.divide(np.array(scores_all_foot_piv.sum(axis=1)),axis='rows')\n",
    "scores_all_foot_piv_norm = scores_all_foot_piv_norm* scores_all_foot_piv.sum().sum()\n",
    "scores_all_foot_piv_norm = scores_all_foot_piv_norm.applymap(lambda x: max(1e-3,x))"
   ]
  },
  {
   "cell_type": "code",
   "execution_count": 118,
   "metadata": {},
   "outputs": [
    {
     "data": {
      "text/plain": [
       "'../data/processed/fig3_footprinting/scores_all_sel_foot_norm.csv'"
      ]
     },
     "execution_count": 118,
     "metadata": {},
     "output_type": "execute_result"
    }
   ],
   "source": [
    "scores_all_foot_piv_norm.to_csv(os.path.join(save_dir, 'scores_all_sel_foot_norm.csv'))\n",
    "os.path.join(save_dir, 'scores_all_sel_foot_norm.csv')"
   ]
  },
  {
   "cell_type": "markdown",
   "metadata": {},
   "source": [
    "# Footprint - all"
   ]
  },
  {
   "cell_type": "code",
   "execution_count": 124,
   "metadata": {},
   "outputs": [
    {
     "data": {
      "text/plain": [
       "dict_keys(['Airway', 'Astrocytes', 'Bladder', 'Colon', 'Esophageal', 'GDSD0', 'GDSD3', 'GDSD6', 'GM12878', 'HMEC', 'Melanocytes', 'Ovarian', 'Pancreas', 'Prostate', 'Renal', 'Thyroid', 'Uterine'])"
      ]
     },
     "execution_count": 124,
     "metadata": {},
     "output_type": "execute_result"
    }
   ],
   "source": []
  },
  {
   "cell_type": "code",
   "execution_count": 125,
   "metadata": {},
   "outputs": [
    {
     "name": "stdout",
     "output_type": "stream",
     "text": [
      "Airway\n",
      "Airway 12.271987915039062\n",
      "Astrocytes\n",
      "Astrocytes 3.7625107765197754\n",
      "Bladder\n",
      "Bladder 12.995601892471313\n",
      "Colon\n",
      "Colon 10.859875917434692\n",
      "Esophageal\n",
      "Esophageal 11.661785125732422\n",
      "GDSD0\n",
      "GDSD0 10.77812910079956\n",
      "GDSD3\n",
      "GDSD3 10.128572940826416\n",
      "GDSD6\n",
      "GDSD6 11.559014081954956\n",
      "GM12878\n",
      "GM12878 8.696696996688843\n",
      "HMEC\n",
      "HMEC 9.779805183410645\n",
      "Melanocytes\n",
      "Melanocytes 5.293838977813721\n",
      "Ovarian\n",
      "Ovarian 5.054127216339111\n",
      "Pancreas\n",
      "Pancreas 11.908933162689209\n",
      "Prostate\n",
      "Prostate 5.249614953994751\n",
      "Renal\n",
      "Renal 12.046571016311646\n",
      "Thyroid\n",
      "Thyroid 10.954993963241577\n",
      "Uterine\n",
      "Uterine 14.07914113998413\n",
      "CPU times: user 3min 42s, sys: 5.95 s, total: 3min 48s\n",
      "Wall time: 2min 47s\n"
     ]
    }
   ],
   "source": [
    "%%time\n",
    "scores_all_foot_all_tissue = pd.DataFrame()\n",
    "for tissue in tissue_map.keys():\n",
    "    print(tissue)\n",
    "    start = time.time()\n",
    "    bed_file = '../data/interim/merged/footprinting/' + tissue + '_merged.bed'\n",
    "    bed_df = pd.read_csv(bed_file, sep='\\t',header=None)\n",
    "    bed_df.columns = ['chr', 'start', 'end', 'id', 'score', 'strand', 'etc']\n",
    "    bed_df[['motif_name', 'info']] = bed_df['id'].str.split('_',expand=True)\n",
    "    bed_df['tf'] = bed_df.motif_name.map(annon_dict)\n",
    "    scores = bed_df.groupby('tf').agg(\n",
    "    {'score':'mean','id':'count'}\n",
    "    ).sort_values('score')\n",
    "    scores.reset_index(inplace=True)\n",
    "    scores.columns = ['tf','score', 'count']\n",
    "    scores['tissue'] = tissue\n",
    "    \n",
    "    scores_all_foot_all_tissue = pd.concat([scores_all_foot_all_tissue,scores],sort=False)\n",
    "    \n",
    "    print(tissue,time.time()-start)\n"
   ]
  },
  {
   "cell_type": "code",
   "execution_count": 127,
   "metadata": {},
   "outputs": [],
   "source": [
    "scores_all_foot_all_tissue_piv = scores_all_foot_all_tissue.pivot('tissue','tf','count')\n",
    "scores_all_foot_all_tissue_piv_norm = scores_all_foot_all_tissue_piv / scores_all_foot_all_tissue_piv.sum(axis=0)\n",
    "scores_all_foot_all_tissue_piv_norm = scores_all_foot_all_tissue_piv_norm.divide(np.array(scores_all_foot_all_tissue_piv.sum(axis=1)),axis='rows')\n",
    "scores_all_foot_all_tissue_piv_norm = scores_all_foot_all_tissue_piv_norm* scores_all_foot_all_tissue_piv.sum().sum()\n",
    "scores_all_foot_all_tissue_piv_norm = scores_all_foot_all_tissue_piv_norm.applymap(lambda x: max(1e-3,x))"
   ]
  },
  {
   "cell_type": "code",
   "execution_count": 128,
   "metadata": {},
   "outputs": [
    {
     "data": {
      "text/plain": [
       "'../data/processed/fig3_footprinting/scores_all_foot_all_tissue_piv_norm.csv'"
      ]
     },
     "execution_count": 128,
     "metadata": {},
     "output_type": "execute_result"
    }
   ],
   "source": [
    "scores_all_foot_all_tissue_piv_norm.to_csv(os.path.join(save_dir, 'scores_all_foot_all_tissue_piv_norm.csv'))\n",
    "os.path.join(save_dir, 'scores_all_foot_all_tissue_piv_norm.csv')"
   ]
  },
  {
   "cell_type": "code",
   "execution_count": null,
   "metadata": {},
   "outputs": [],
   "source": []
  }
 ],
 "metadata": {
  "kernelspec": {
   "display_name": "Python 3",
   "language": "python",
   "name": "python3"
  },
  "language_info": {
   "codemirror_mode": {
    "name": "ipython",
    "version": 3
   },
   "file_extension": ".py",
   "mimetype": "text/x-python",
   "name": "python",
   "nbconvert_exporter": "python",
   "pygments_lexer": "ipython3",
   "version": "3.7.4"
  }
 },
 "nbformat": 4,
 "nbformat_minor": 4
}
