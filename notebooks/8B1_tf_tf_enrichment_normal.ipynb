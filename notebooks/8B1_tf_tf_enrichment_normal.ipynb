{
 "cells": [
  {
   "cell_type": "markdown",
   "metadata": {},
   "source": [
    "# 8B1_tf_tf_enrichment\n",
    "\n",
    "07/20/2020\n",
    "\n",
    "getting tf-tf enriched pairs for each tissue for each geneset\n",
    "\n"
   ]
  },
  {
   "cell_type": "code",
   "execution_count": 1,
   "metadata": {},
   "outputs": [],
   "source": [
    "# basic packages\n",
    "import os, glob\n",
    "import pandas as pd\n",
    "import numpy as np; np.random.seed(0)\n",
    "import itertools\n",
    "from collections import Counter, defaultdict\n",
    "import time\n",
    "\n",
    "# machine learning packages from sklearn\n",
    "from sklearn.preprocessing import MinMaxScaler #StandardScaler \n",
    "from sklearn import preprocessing, metrics\n",
    "from sklearn.feature_selection import VarianceThreshold\n",
    "from sklearn.model_selection import train_test_split, KFold, cross_validate, cross_val_score, StratifiedKFold\n",
    "from sklearn.linear_model import LogisticRegression, Lasso, LassoCV\n",
    "from IPython.display import Image\n",
    "from scipy import stats\n",
    "\n",
    "# Import tools needed for visualization\n",
    "import seaborn as sns; sns.set()\n",
    "import matplotlib\n",
    "import matplotlib.pyplot as plt"
   ]
  },
  {
   "cell_type": "code",
   "execution_count": 2,
   "metadata": {},
   "outputs": [],
   "source": [
    "%load_ext autoreload\n",
    "%autoreload 2"
   ]
  },
  {
   "cell_type": "code",
   "execution_count": 3,
   "metadata": {},
   "outputs": [],
   "source": [
    "save_dir = '../data/processed/fig4_modelling/tf_tf_pairs/'\n",
    "if not os.path.exists(save_dir):\n",
    "    os.makedirs(save_dir)"
   ]
  },
  {
   "cell_type": "code",
   "execution_count": 4,
   "metadata": {},
   "outputs": [],
   "source": [
    "THRES=5"
   ]
  },
  {
   "cell_type": "code",
   "execution_count": 5,
   "metadata": {},
   "outputs": [],
   "source": [
    "tf_annon_df = pd.read_csv('../data/external/HOCOMOCOv11_annotation.csv',index_col=0)\n",
    "tf_annon_df['id_trim'] = tf_annon_df['id'] + '.pwm.trim'\n",
    "tf_name_to_id_dict = pd.Series(tf_annon_df.id_trim.values, index=tf_annon_df.tf.values).to_dict()\n",
    "tf_id_to_name_dict = pd.Series(tf_annon_df.tf.values, index=tf_annon_df.id_trim.values).to_dict()"
   ]
  },
  {
   "cell_type": "code",
   "execution_count": 6,
   "metadata": {},
   "outputs": [],
   "source": [
    "normal_tissues = ['Airway','Astrocytes','Bladder','Colon','Esophageal','GDSD0','GDSD3','GDSD6','GM12878','HMEC','Melanocytes','Ovarian',\n",
    "'Pancreas','Prostate','Renal','Thyroid','Uterine']\n",
    "normal_tissues_dict = dict(zip(normal_tissues,range(len(normal_tissues))))"
   ]
  },
  {
   "cell_type": "code",
   "execution_count": 7,
   "metadata": {},
   "outputs": [],
   "source": [
    "rna_df = pd.read_csv('../data/interim/rna/tissue_tpm_sym.csv',index_col=0)\n",
    "rna_df_norm = rna_df[normal_tissues]"
   ]
  },
  {
   "cell_type": "markdown",
   "metadata": {},
   "source": [
    "# 0. CRM data wrangling and global var setup"
   ]
  },
  {
   "cell_type": "code",
   "execution_count": 43,
   "metadata": {},
   "outputs": [
    {
     "name": "stdout",
     "output_type": "stream",
     "text": [
      "CPU times: user 1min 29s, sys: 24.1 s, total: 1min 53s\n",
      "Wall time: 1min 38s\n"
     ]
    }
   ],
   "source": [
    "%%time\n",
    "# import\n",
    "data_all = pd.read_csv('/Users/mguo123/Google Drive/1_khavari/omics_project-LD/pan_omics/data/processed/tissue_crms/all_count_comb_overall.csv',index_col=0,header=0)\n",
    "data_all = data_all[data_all.tissue.isin(normal_tissues)]\n",
    "data_all = data_all[data_all.iloc[:,2:].sum(axis=1)>1e-1]\n",
    "\n",
    "# expression labels\n",
    "exp_label = list(np.log10(data_all.exp.values+1e-2))\n",
    "labels_all  = np.array(np.array(exp_label)>THRES)\n",
    "\n",
    "tissues_label  = data_all.tissue.values#np.array((data_all.exp>THRES).values)\n",
    "tissue_num_labels =  data_all.tissue.map(normal_tissues_dict).values\n",
    "\n",
    "genes_all = data_all.index.values\n",
    "gene_to_num_dict = dict(zip(np.unique(genes_all),range(len(np.unique(genes_all)))))\n",
    "genes_num_all = np.vectorize(gene_to_num_dict.get)(genes_all)\n",
    "\n"
   ]
  },
  {
   "cell_type": "code",
   "execution_count": 44,
   "metadata": {},
   "outputs": [
    {
     "name": "stdout",
     "output_type": "stream",
     "text": [
      "files_loaded (156071, 1063)\n"
     ]
    }
   ],
   "source": [
    "print('files_loaded', data_all.shape)\n"
   ]
  },
  {
   "cell_type": "code",
   "execution_count": 45,
   "metadata": {},
   "outputs": [
    {
     "data": {
      "text/plain": [
       "(156071, 1057)"
      ]
     },
     "execution_count": 45,
     "metadata": {},
     "output_type": "execute_result"
    }
   ],
   "source": [
    "## only tfs\n",
    "\n",
    "data_all.drop(['tissue','exp','num_loop_counts','num_loops','num_atac_regions_pro','num_atac_regions_loop'],axis=1,inplace=True)\n",
    "\n",
    "data_all.shape\n",
    "\n",
    "\n"
   ]
  },
  {
   "cell_type": "code",
   "execution_count": 46,
   "metadata": {},
   "outputs": [
    {
     "data": {
      "text/html": [
       "<div>\n",
       "<style scoped>\n",
       "    .dataframe tbody tr th:only-of-type {\n",
       "        vertical-align: middle;\n",
       "    }\n",
       "\n",
       "    .dataframe tbody tr th {\n",
       "        vertical-align: top;\n",
       "    }\n",
       "\n",
       "    .dataframe thead th {\n",
       "        text-align: right;\n",
       "    }\n",
       "</style>\n",
       "<table border=\"1\" class=\"dataframe\">\n",
       "  <thead>\n",
       "    <tr style=\"text-align: right;\">\n",
       "      <th></th>\n",
       "      <th>AHR_pro</th>\n",
       "      <th>ARID5B_pro</th>\n",
       "      <th>ARNT_pro</th>\n",
       "      <th>ARNTL_pro</th>\n",
       "      <th>ATF1_pro</th>\n",
       "      <th>ATF2_pro</th>\n",
       "      <th>ATF3_pro</th>\n",
       "      <th>ATF4_pro</th>\n",
       "      <th>ATF6_pro</th>\n",
       "      <th>ATF7_pro</th>\n",
       "      <th>...</th>\n",
       "      <th>MAFA_loop</th>\n",
       "      <th>MEOX1_loop</th>\n",
       "      <th>E2F5_pro</th>\n",
       "      <th>E2F5_loop</th>\n",
       "      <th>ESR2_pro</th>\n",
       "      <th>KLF14_pro</th>\n",
       "      <th>TBX15_pro</th>\n",
       "      <th>ESR2_loop</th>\n",
       "      <th>KLF14_loop</th>\n",
       "      <th>TBX15_loop</th>\n",
       "    </tr>\n",
       "  </thead>\n",
       "  <tbody>\n",
       "    <tr>\n",
       "      <td>A4GALT</td>\n",
       "      <td>0.0</td>\n",
       "      <td>0.0</td>\n",
       "      <td>0.0</td>\n",
       "      <td>0.0</td>\n",
       "      <td>0.0</td>\n",
       "      <td>0.0</td>\n",
       "      <td>0.0</td>\n",
       "      <td>0.0</td>\n",
       "      <td>0.0</td>\n",
       "      <td>0.0</td>\n",
       "      <td>...</td>\n",
       "      <td>0.0</td>\n",
       "      <td>0.0</td>\n",
       "      <td>0.0</td>\n",
       "      <td>0.0</td>\n",
       "      <td>0.0</td>\n",
       "      <td>0.0</td>\n",
       "      <td>0.0</td>\n",
       "      <td>0.0</td>\n",
       "      <td>0.0</td>\n",
       "      <td>0.0</td>\n",
       "    </tr>\n",
       "    <tr>\n",
       "      <td>A4GNT</td>\n",
       "      <td>0.0</td>\n",
       "      <td>0.0</td>\n",
       "      <td>0.0</td>\n",
       "      <td>0.0</td>\n",
       "      <td>0.0</td>\n",
       "      <td>0.0</td>\n",
       "      <td>0.0</td>\n",
       "      <td>0.0</td>\n",
       "      <td>0.0</td>\n",
       "      <td>0.0</td>\n",
       "      <td>...</td>\n",
       "      <td>0.0</td>\n",
       "      <td>0.0</td>\n",
       "      <td>0.0</td>\n",
       "      <td>0.0</td>\n",
       "      <td>0.0</td>\n",
       "      <td>0.0</td>\n",
       "      <td>0.0</td>\n",
       "      <td>0.0</td>\n",
       "      <td>0.0</td>\n",
       "      <td>0.0</td>\n",
       "    </tr>\n",
       "    <tr>\n",
       "      <td>AAMP</td>\n",
       "      <td>0.0</td>\n",
       "      <td>0.0</td>\n",
       "      <td>0.0</td>\n",
       "      <td>0.0</td>\n",
       "      <td>0.0</td>\n",
       "      <td>0.0</td>\n",
       "      <td>0.0</td>\n",
       "      <td>0.0</td>\n",
       "      <td>0.0</td>\n",
       "      <td>0.0</td>\n",
       "      <td>...</td>\n",
       "      <td>0.0</td>\n",
       "      <td>0.0</td>\n",
       "      <td>0.0</td>\n",
       "      <td>0.0</td>\n",
       "      <td>0.0</td>\n",
       "      <td>0.0</td>\n",
       "      <td>0.0</td>\n",
       "      <td>0.0</td>\n",
       "      <td>0.0</td>\n",
       "      <td>0.0</td>\n",
       "    </tr>\n",
       "    <tr>\n",
       "      <td>AANAT</td>\n",
       "      <td>0.0</td>\n",
       "      <td>0.0</td>\n",
       "      <td>0.0</td>\n",
       "      <td>0.0</td>\n",
       "      <td>0.0</td>\n",
       "      <td>0.0</td>\n",
       "      <td>0.0</td>\n",
       "      <td>0.0</td>\n",
       "      <td>0.0</td>\n",
       "      <td>0.0</td>\n",
       "      <td>...</td>\n",
       "      <td>0.0</td>\n",
       "      <td>0.0</td>\n",
       "      <td>0.0</td>\n",
       "      <td>0.0</td>\n",
       "      <td>0.0</td>\n",
       "      <td>0.0</td>\n",
       "      <td>0.0</td>\n",
       "      <td>0.0</td>\n",
       "      <td>0.0</td>\n",
       "      <td>0.0</td>\n",
       "    </tr>\n",
       "    <tr>\n",
       "      <td>ABAT</td>\n",
       "      <td>0.0</td>\n",
       "      <td>0.0</td>\n",
       "      <td>0.0</td>\n",
       "      <td>0.0</td>\n",
       "      <td>0.0</td>\n",
       "      <td>0.0</td>\n",
       "      <td>0.0</td>\n",
       "      <td>0.0</td>\n",
       "      <td>0.0</td>\n",
       "      <td>0.0</td>\n",
       "      <td>...</td>\n",
       "      <td>0.0</td>\n",
       "      <td>0.0</td>\n",
       "      <td>0.0</td>\n",
       "      <td>0.0</td>\n",
       "      <td>0.0</td>\n",
       "      <td>0.0</td>\n",
       "      <td>0.0</td>\n",
       "      <td>0.0</td>\n",
       "      <td>0.0</td>\n",
       "      <td>0.0</td>\n",
       "    </tr>\n",
       "  </tbody>\n",
       "</table>\n",
       "<p>5 rows × 1057 columns</p>\n",
       "</div>"
      ],
      "text/plain": [
       "        AHR_pro  ARID5B_pro  ARNT_pro  ARNTL_pro  ATF1_pro  ATF2_pro  \\\n",
       "A4GALT      0.0         0.0       0.0        0.0       0.0       0.0   \n",
       "A4GNT       0.0         0.0       0.0        0.0       0.0       0.0   \n",
       "AAMP        0.0         0.0       0.0        0.0       0.0       0.0   \n",
       "AANAT       0.0         0.0       0.0        0.0       0.0       0.0   \n",
       "ABAT        0.0         0.0       0.0        0.0       0.0       0.0   \n",
       "\n",
       "        ATF3_pro  ATF4_pro  ATF6_pro  ATF7_pro  ...  MAFA_loop  MEOX1_loop  \\\n",
       "A4GALT       0.0       0.0       0.0       0.0  ...        0.0         0.0   \n",
       "A4GNT        0.0       0.0       0.0       0.0  ...        0.0         0.0   \n",
       "AAMP         0.0       0.0       0.0       0.0  ...        0.0         0.0   \n",
       "AANAT        0.0       0.0       0.0       0.0  ...        0.0         0.0   \n",
       "ABAT         0.0       0.0       0.0       0.0  ...        0.0         0.0   \n",
       "\n",
       "        E2F5_pro  E2F5_loop  ESR2_pro  KLF14_pro  TBX15_pro  ESR2_loop  \\\n",
       "A4GALT       0.0        0.0       0.0        0.0        0.0        0.0   \n",
       "A4GNT        0.0        0.0       0.0        0.0        0.0        0.0   \n",
       "AAMP         0.0        0.0       0.0        0.0        0.0        0.0   \n",
       "AANAT        0.0        0.0       0.0        0.0        0.0        0.0   \n",
       "ABAT         0.0        0.0       0.0        0.0        0.0        0.0   \n",
       "\n",
       "        KLF14_loop  TBX15_loop  \n",
       "A4GALT         0.0         0.0  \n",
       "A4GNT          0.0         0.0  \n",
       "AAMP           0.0         0.0  \n",
       "AANAT          0.0         0.0  \n",
       "ABAT           0.0         0.0  \n",
       "\n",
       "[5 rows x 1057 columns]"
      ]
     },
     "execution_count": 46,
     "metadata": {},
     "output_type": "execute_result"
    }
   ],
   "source": [
    "data_all[:5]"
   ]
  },
  {
   "cell_type": "code",
   "execution_count": 47,
   "metadata": {},
   "outputs": [],
   "source": [
    "#tfs_feat_dict: dict\n",
    "# key: tf\n",
    "# value: list of crm features\n",
    "tfs_feat_dict = defaultdict(list)\n",
    "for feat in data_all.columns:\n",
    "    tfs_feat_dict[feat.split('_')[0]].append(feat)"
   ]
  },
  {
   "cell_type": "markdown",
   "metadata": {},
   "source": [
    "# 1. Functions "
   ]
  },
  {
   "cell_type": "code",
   "execution_count": 48,
   "metadata": {},
   "outputs": [],
   "source": [
    "def find_tf_pairs(single_results, tfs_feat_dict=tfs_feat_dict, data_all=data_all):\n",
    "    tfs_unique = single_results[single_results.pval_bonf<0.05].tf_key.unique()\n",
    "    print('num single unique TFs', len(tfs_unique))\n",
    "    TF_pair_dict = defaultdict(list)\n",
    "    for tf1 in tfs_unique:\n",
    "        for tf2 in tfs_unique:\n",
    "            if (tf1<tf2):\n",
    "                if (tf1 in tfs_feat_dict) and (tf2 in tfs_feat_dict):\n",
    "                    possible_feats = [tf1+'_pro',tf1+'_loop',tf2+'_pro',tf2+'_loop']\n",
    "                    for feat in possible_feats:\n",
    "                        if feat in data_all.columns:\n",
    "                            TF_pair_dict[tf1+'::'+tf2].append(feat)\n",
    "    print('num pairs of TFs', len(TF_pair_dict))\n",
    "    return TF_pair_dict"
   ]
  },
  {
   "cell_type": "code",
   "execution_count": 49,
   "metadata": {},
   "outputs": [],
   "source": [
    "# TF_feat_dict: dict, key = tf_key (string of tfs sep by ::), val; list of features/columns of data_all\n",
    "# backgound: relative means the background in the data_all_sel, if 'all' then background is data_all\n",
    "# def tf_enrichment(geneset, tissues=normal_tissues, data_all=data_all,tissues_label=tissues_label, background='all'):\n",
    "def tf_enrichment(geneset, TF_feat_dict, tissues=normal_tissues, \n",
    "                  data_all=data_all,tissues_label=tissues_label, \n",
    "                  background='relative',verbose=True, save_path=None):\n",
    "    # get subset\n",
    "    data_all_sel = data_all[data_all.index.isin(geneset)]\n",
    "    tissues_label_sel = tissues_label[data_all.index.isin(geneset)]\n",
    "    if verbose:\n",
    "        print('num genes in geneset',len(geneset))\n",
    "        print('subsetting data,', data_all_sel.shape, tissues_label_sel.shape)\n",
    "    \n",
    "    # set background and initial variables\n",
    "    results_df = pd.DataFrame(columns = ['tf_key', 'tissue', 'jaccard', 'intersect_over_min','intersection','union', 'num_in_gene', 'num_in_feat', 'observed', 'expected', 'oddsratio', 'pval' ])\n",
    "    counter = 0\n",
    "    if background=='all':\n",
    "        count_all = data_all.sum().sum()\n",
    "    else:\n",
    "        count_all = data_all_sel.sum().sum() ## background\n",
    "    \n",
    "    # iterate through tissues\n",
    "    if verbose:\n",
    "        print('starting iteration')\n",
    "        print('estimated count', len(TF_feat_dict)*len(tissues))\n",
    "    for tissue in tissues:\n",
    "        if verbose:\n",
    "            print('*****iterating tissue, ', tissue)\n",
    "        tissue_crm = data_all_sel[tissues_label_sel==tissue]\n",
    "        tissue_crm = tissue_crm[tissue_crm.index.isin(geneset)]\n",
    "        count_tissue_gene = tissue_crm.sum().sum() #mat_counts.sum(axis=1)[0], sum first row\n",
    "        \n",
    "        # iterate through tfs\n",
    "        for tf_key, feat_list in sorted(TF_feat_dict.items(),key=lambda x: x[0]):\n",
    "            if len(feat_list)>0:\n",
    "                tissue_crm_selfeat = tissue_crm[feat_list]\n",
    "                count_selfeat_tissue = tissue_crm_selfeat.sum().sum() # A\n",
    "                count_selfeat = data_all_sel[feat_list].sum().sum() #mat_counts.sum(axis=0)[0], sum down first col\n",
    "                count_selfeat_neg = count_selfeat - count_selfeat_tissue # B: not in selected genes but in selected feature\n",
    "                count_neg_tissue = count_tissue_gene - count_selfeat_tissue #C: not in selected feature but in selected genes\n",
    "                count_neg_neg = count_all - count_selfeat_tissue- count_selfeat_neg - count_neg_tissue #D\n",
    "                mat_counts = np.array([[count_selfeat_tissue,count_neg_tissue],\n",
    "                               [count_selfeat_neg, count_neg_neg]]).reshape((2,2))\n",
    "                pseudo = 1\n",
    "                mat_counts_pseudo = mat_counts+pseudo\n",
    "                num_in_1 = mat_counts.sum(axis=1)[0] #count_tissue_gene\n",
    "                num_in_2 = mat_counts.sum(axis=0)[0] #count_selfeat\n",
    "                in_1_and_in_2 = count_selfeat_tissue # A\n",
    "                in_1_or_in_2 = count_selfeat_tissue +count_selfeat_neg+count_neg_tissue # A+B+C\n",
    "                in_1 = count_selfeat_tissue+count_neg_tissue # A+C\n",
    "                in_2 = count_selfeat_tissue+count_selfeat_neg#A+B\n",
    "                observed_num = mat_counts[0][0] #count_KRTtf_KRTgene\n",
    "                expected_num = num_in_1*num_in_2/sum(sum(mat_counts))\n",
    "                oddsratio_pseudo, pvalue_pseudo = stats.fisher_exact(mat_counts_pseudo,alternative='greater')\n",
    "                jaccard = in_1_and_in_2/in_1_or_in_2\n",
    "                intersect_over_min = in_1_and_in_2/min(in_1,in_2)\n",
    "\n",
    "                results_df.at[counter] = {'tf_key':tf_key, 'tissue':tissue,\n",
    "                                            'jaccard':jaccard,'intersect_over_min':intersect_over_min,\n",
    "                                        'intersection':in_1_and_in_2, \n",
    "                                       'union':in_1_or_in_2, \n",
    "                                       'num_in_gene':num_in_1,'num_in_feat':num_in_2,\n",
    "                                       'observed':observed_num, 'expected':expected_num, \n",
    "                                       'oddsratio':oddsratio_pseudo, 'pval':pvalue_pseudo}\n",
    "                counter+=1\n",
    "                if verbose:\n",
    "                    if (counter %1000)==0:\n",
    "                        print(tf_key, tissue, counter)\n",
    "\n",
    "    \n",
    "    results_df['pval_bonf'] = results_df.pval.apply(lambda x: min(1, x* results_df.shape[0]))#sum(sum(mat_counts))))#\n",
    "    results_df['log_pval_bonf'] = results_df.pval_bonf.apply(lambda x: min(100,-np.log10(x+1e-100)))\n",
    "    \n",
    "    if save_path is not None:\n",
    "        results_df.to_csv(save_path)\n",
    "        print('saved file', save_path)\n",
    "    return results_df"
   ]
  },
  {
   "cell_type": "markdown",
   "metadata": {},
   "source": [
    "# 2. get gene sets\n",
    "\n",
    "create dictionary {tissue: gene_list} for each category"
   ]
  },
  {
   "cell_type": "markdown",
   "metadata": {},
   "source": [
    "2A. unique gene lists for each cell type"
   ]
  },
  {
   "cell_type": "code",
   "execution_count": 50,
   "metadata": {},
   "outputs": [
    {
     "data": {
      "text/plain": [
       "['../../rnaseq/unique_gene_lists/Colon_genes.txt',\n",
       " '../../rnaseq/unique_gene_lists/GDSD0_genes.txt',\n",
       " '../../rnaseq/unique_gene_lists/Airway_genes.txt',\n",
       " '../../rnaseq/unique_gene_lists/GDSD6_genes.txt',\n",
       " '../../rnaseq/unique_gene_lists/Pancreas_genes.txt',\n",
       " '../../rnaseq/unique_gene_lists/Uterine_genes.txt',\n",
       " '../../rnaseq/unique_gene_lists/Ovarian_genes.txt',\n",
       " '../../rnaseq/unique_gene_lists/Astrocytes_genes.txt',\n",
       " '../../rnaseq/unique_gene_lists/Bladder_genes.txt',\n",
       " '../../rnaseq/unique_gene_lists/Melanocytes_genes.txt',\n",
       " '../../rnaseq/unique_gene_lists/HMEC_genes.txt',\n",
       " '../../rnaseq/unique_gene_lists/Prostate_genes.txt',\n",
       " '../../rnaseq/unique_gene_lists/GM12878_genes.txt',\n",
       " '../../rnaseq/unique_gene_lists/Renal_genes.txt',\n",
       " '../../rnaseq/unique_gene_lists/GDSD3_genes.txt',\n",
       " '../../rnaseq/unique_gene_lists/Esophageal_genes.txt',\n",
       " '../../rnaseq/unique_gene_lists/Thyroid_genes.txt']"
      ]
     },
     "execution_count": 50,
     "metadata": {},
     "output_type": "execute_result"
    }
   ],
   "source": [
    "glob.glob('../../rnaseq/unique_gene_lists/*genes.txt')"
   ]
  },
  {
   "cell_type": "code",
   "execution_count": 51,
   "metadata": {},
   "outputs": [
    {
     "name": "stdout",
     "output_type": "stream",
     "text": [
      "Colon 14\n",
      "GDSD0 14\n",
      "Airway 41\n",
      "GDSD6 240\n",
      "Pancreas 17\n",
      "Uterine 37\n",
      "Ovarian 27\n",
      "Astrocytes 465\n",
      "Bladder 37\n",
      "Melanocytes 226\n",
      "HMEC 49\n",
      "Prostate 312\n",
      "GM12878 447\n",
      "Renal 27\n",
      "GDSD3 61\n",
      "Esophageal 19\n",
      "Thyroid 44\n"
     ]
    }
   ],
   "source": [
    "unique_genesets = {}\n",
    "for rna_file in glob.glob('../../rnaseq/unique_gene_lists/*genes.txt'):\n",
    "    tissue = os.path.basename(rna_file).split('_')[0]\n",
    "    geneset = sorted(pd.read_csv(rna_file,header=None).loc[:,0].dropna().unique())\n",
    "    print(tissue, len(geneset))\n",
    "    unique_genesets[tissue] = geneset\n",
    "    "
   ]
  },
  {
   "cell_type": "markdown",
   "metadata": {},
   "source": [
    "2B. expressed gene lists for each cell type"
   ]
  },
  {
   "cell_type": "code",
   "execution_count": 52,
   "metadata": {},
   "outputs": [],
   "source": [
    "THRES=5"
   ]
  },
  {
   "cell_type": "code",
   "execution_count": 53,
   "metadata": {},
   "outputs": [
    {
     "name": "stdout",
     "output_type": "stream",
     "text": [
      "Airway 6815\n",
      "Astrocytes 7303\n",
      "Bladder 6642\n",
      "Colon 6826\n",
      "Esophageal 6651\n",
      "GDSD0 7031\n",
      "GDSD3 6970\n",
      "GDSD6 6442\n",
      "GM12878 6166\n",
      "HMEC 6972\n",
      "Melanocytes 7359\n",
      "Ovarian 6578\n",
      "Pancreas 7055\n",
      "Prostate 6516\n",
      "Renal 6901\n",
      "Thyroid 7003\n",
      "Uterine 6569\n"
     ]
    }
   ],
   "source": [
    "expr_genesets = {}\n",
    "for tissue in rna_df_norm.columns:\n",
    "    geneset = list(rna_df_norm[tissue][rna_df_norm[tissue]>THRES].index)\n",
    "    print(tissue, len(geneset))\n",
    "    expr_genesets[tissue] = geneset"
   ]
  },
  {
   "cell_type": "markdown",
   "metadata": {},
   "source": [
    "2C. group genesets"
   ]
  },
  {
   "cell_type": "code",
   "execution_count": 54,
   "metadata": {},
   "outputs": [
    {
     "name": "stdout",
     "output_type": "stream",
     "text": [
      "['../data/interim/rna/purple_genes.csv', '../data/interim/rna/green_genes.csv', '../data/interim/rna/common_genes.csv', '../data/interim/rna/all_genes.csv', '../data/interim/rna/grey_genes.csv', '../data/interim/rna/blue_genes.csv']\n"
     ]
    }
   ],
   "source": [
    "print(glob.glob('../data/interim/rna/*_genes.csv'))\n",
    "group_tissue_mapping = {\n",
    "    'blue':['Astrocytes','Melanocytes'],\n",
    "    'grey':['GM12878'],\n",
    "    'green':['Colon','Esophageal','Ovarian','Pancreas','Renal','Thyroid'],\n",
    "    'purple':['Airway','Bladder', 'GDSD0','GDSD6', 'HMEC', 'Prostate', 'Uterine'] \n",
    "}"
   ]
  },
  {
   "cell_type": "code",
   "execution_count": 55,
   "metadata": {},
   "outputs": [
    {
     "name": "stdout",
     "output_type": "stream",
     "text": [
      "Astrocytes 954\n",
      "Melanocytes 954\n",
      "GM12878 626\n",
      "Colon 759\n",
      "Esophageal 759\n",
      "Ovarian 759\n",
      "Pancreas 759\n",
      "Renal 759\n",
      "Thyroid 759\n",
      "Airway 796\n",
      "Bladder 796\n",
      "GDSD0 796\n",
      "GDSD6 796\n",
      "HMEC 796\n",
      "Prostate 796\n",
      "Uterine 796\n"
     ]
    }
   ],
   "source": [
    "group_genesets = {}\n",
    "for group, tissues in group_tissue_mapping.items():\n",
    "    geneset = sorted(pd.read_csv('../data/interim/rna/'+group+'_genes.csv',header=None).loc[:,0].dropna().unique())\n",
    "    for tissue in tissues:\n",
    "        group_genesets[tissue] = geneset\n",
    "        print(tissue, len(geneset))\n",
    "        "
   ]
  },
  {
   "cell_type": "markdown",
   "metadata": {},
   "source": [
    "# 3. running pairwise enrichments"
   ]
  },
  {
   "cell_type": "code",
   "execution_count": 56,
   "metadata": {},
   "outputs": [],
   "source": [
    "def run_pair_enrichment(tissue, save_prefix, geneset_dict):\n",
    "    if tissue not in geneset_dict:\n",
    "        print(tissue, 'not found in geneset_dict')\n",
    "        return\n",
    "    results_df = tf_enrichment(geneset=geneset_dict[tissue], TF_feat_dict=tfs_feat_dict, tissues=[tissue], \n",
    "                      data_all=data_all,tissues_label=tissues_label, \n",
    "                      background='relative',verbose=True, save_path=os.path.join(save_dir, save_prefix+tissue + '_single.csv'))\n",
    "    # filter for cell type\n",
    "    results_df_filt = results_df[(results_df.pval_bonf<0.05 )&( results_df.tissue==tissue)]\n",
    "    # downsample # of tf tf pairs to consider\n",
    "    tfs_feat_dict_pairs = find_tf_pairs(single_results=results_df_filt, tfs_feat_dict=tfs_feat_dict, data_all=data_all)\n",
    "\n",
    "    results_df_pairs = tf_enrichment(geneset=geneset_dict[tissue], TF_feat_dict=tfs_feat_dict_pairs, tissues=[tissue], \n",
    "                      data_all=data_all,tissues_label=tissues_label, \n",
    "                      background='relative',verbose=True, save_path=os.path.join(save_dir,  save_prefix+tissue + '_pair.csv'))\n",
    "\n",
    "    results_df_pairs_filt = results_df_pairs[(results_df_pairs.oddsratio>1) & (results_df_pairs.pval_bonf<0.05)]\n",
    "    results_df_pairs_filt.to_csv(os.path.join(save_dir,  save_prefix+tissue + '_pair_filt.csv'))\n",
    "    # results_df_KRT_pairs_filt = results_df_KRT_pairs_filt[results_df_KRT_pairs_filt.num_in_2>=(results_df_KRT_pairs_filt.observed+10)]\n",
    "    print('num sig tf-tf pair in ', tissue, results_df_pairs_filt.shape)"
   ]
  },
  {
   "cell_type": "code",
   "execution_count": 57,
   "metadata": {},
   "outputs": [],
   "source": [
    "results_df = pd.read_csv(os.path.join(save_dir, 'expr_Melanocytes_single.csv'),index_col=0)\n",
    "results_df_filt = results_df[(results_df.pval_bonf<0.05 )&( results_df.tissue=='Melanocytes')]"
   ]
  },
  {
   "cell_type": "code",
   "execution_count": 13,
   "metadata": {},
   "outputs": [
    {
     "data": {
      "text/html": [
       "<div>\n",
       "<style scoped>\n",
       "    .dataframe tbody tr th:only-of-type {\n",
       "        vertical-align: middle;\n",
       "    }\n",
       "\n",
       "    .dataframe tbody tr th {\n",
       "        vertical-align: top;\n",
       "    }\n",
       "\n",
       "    .dataframe thead th {\n",
       "        text-align: right;\n",
       "    }\n",
       "</style>\n",
       "<table border=\"1\" class=\"dataframe\">\n",
       "  <thead>\n",
       "    <tr style=\"text-align: right;\">\n",
       "      <th></th>\n",
       "      <th>tf_key</th>\n",
       "      <th>tissue</th>\n",
       "      <th>jaccard</th>\n",
       "      <th>intersect_over_min</th>\n",
       "      <th>intersection</th>\n",
       "      <th>union</th>\n",
       "      <th>num_in_gene</th>\n",
       "      <th>num_in_feat</th>\n",
       "      <th>observed</th>\n",
       "      <th>expected</th>\n",
       "      <th>oddsratio</th>\n",
       "      <th>pval</th>\n",
       "      <th>pval_bonf</th>\n",
       "      <th>log_pval_bonf</th>\n",
       "    </tr>\n",
       "  </thead>\n",
       "  <tbody>\n",
       "    <tr>\n",
       "      <td>4233</td>\n",
       "      <td>ALX1</td>\n",
       "      <td>Melanocytes</td>\n",
       "      <td>0.000204</td>\n",
       "      <td>1.000000</td>\n",
       "      <td>32.0</td>\n",
       "      <td>156637.0</td>\n",
       "      <td>156637.0</td>\n",
       "      <td>32.0</td>\n",
       "      <td>32.0</td>\n",
       "      <td>0.683956</td>\n",
       "      <td>1511.257385</td>\n",
       "      <td>2.553332e-54</td>\n",
       "      <td>1.871213e-47</td>\n",
       "      <td>46.727877</td>\n",
       "    </tr>\n",
       "    <tr>\n",
       "      <td>4239</td>\n",
       "      <td>ARNT2</td>\n",
       "      <td>Melanocytes</td>\n",
       "      <td>0.006935</td>\n",
       "      <td>0.393548</td>\n",
       "      <td>1098.0</td>\n",
       "      <td>158329.0</td>\n",
       "      <td>156637.0</td>\n",
       "      <td>2790.0</td>\n",
       "      <td>1098.0</td>\n",
       "      <td>59.632448</td>\n",
       "      <td>29.924649</td>\n",
       "      <td>0.000000e+00</td>\n",
       "      <td>0.000000e+00</td>\n",
       "      <td>100.000000</td>\n",
       "    </tr>\n",
       "    <tr>\n",
       "      <td>4253</td>\n",
       "      <td>BATF3</td>\n",
       "      <td>Melanocytes</td>\n",
       "      <td>0.000488</td>\n",
       "      <td>0.057721</td>\n",
       "      <td>77.0</td>\n",
       "      <td>157894.0</td>\n",
       "      <td>156637.0</td>\n",
       "      <td>1334.0</td>\n",
       "      <td>77.0</td>\n",
       "      <td>28.512432</td>\n",
       "      <td>2.839796</td>\n",
       "      <td>7.425422e-15</td>\n",
       "      <td>5.441731e-08</td>\n",
       "      <td>7.264263</td>\n",
       "    </tr>\n",
       "    <tr>\n",
       "      <td>4269</td>\n",
       "      <td>CPEB1</td>\n",
       "      <td>Melanocytes</td>\n",
       "      <td>0.001954</td>\n",
       "      <td>1.000000</td>\n",
       "      <td>306.0</td>\n",
       "      <td>156637.0</td>\n",
       "      <td>156637.0</td>\n",
       "      <td>306.0</td>\n",
       "      <td>306.0</td>\n",
       "      <td>6.540333</td>\n",
       "      <td>14083.914656</td>\n",
       "      <td>0.000000e+00</td>\n",
       "      <td>0.000000e+00</td>\n",
       "      <td>100.000000</td>\n",
       "    </tr>\n",
       "    <tr>\n",
       "      <td>4272</td>\n",
       "      <td>CREB3L1</td>\n",
       "      <td>Melanocytes</td>\n",
       "      <td>0.000662</td>\n",
       "      <td>0.053435</td>\n",
       "      <td>105.0</td>\n",
       "      <td>158497.0</td>\n",
       "      <td>156637.0</td>\n",
       "      <td>1965.0</td>\n",
       "      <td>105.0</td>\n",
       "      <td>41.999197</td>\n",
       "      <td>2.608998</td>\n",
       "      <td>3.454894e-17</td>\n",
       "      <td>2.531924e-10</td>\n",
       "      <td>9.596549</td>\n",
       "    </tr>\n",
       "    <tr>\n",
       "      <td>...</td>\n",
       "      <td>...</td>\n",
       "      <td>...</td>\n",
       "      <td>...</td>\n",
       "      <td>...</td>\n",
       "      <td>...</td>\n",
       "      <td>...</td>\n",
       "      <td>...</td>\n",
       "      <td>...</td>\n",
       "      <td>...</td>\n",
       "      <td>...</td>\n",
       "      <td>...</td>\n",
       "      <td>...</td>\n",
       "      <td>...</td>\n",
       "      <td>...</td>\n",
       "    </tr>\n",
       "    <tr>\n",
       "      <td>4734</td>\n",
       "      <td>ZNF436</td>\n",
       "      <td>Melanocytes</td>\n",
       "      <td>0.001021</td>\n",
       "      <td>0.072386</td>\n",
       "      <td>162.0</td>\n",
       "      <td>158713.0</td>\n",
       "      <td>156637.0</td>\n",
       "      <td>2238.0</td>\n",
       "      <td>162.0</td>\n",
       "      <td>47.834200</td>\n",
       "      <td>3.595924</td>\n",
       "      <td>3.698606e-40</td>\n",
       "      <td>2.710528e-33</td>\n",
       "      <td>32.566946</td>\n",
       "    </tr>\n",
       "    <tr>\n",
       "      <td>4735</td>\n",
       "      <td>ZNF449</td>\n",
       "      <td>Melanocytes</td>\n",
       "      <td>0.002488</td>\n",
       "      <td>0.416400</td>\n",
       "      <td>391.0</td>\n",
       "      <td>157185.0</td>\n",
       "      <td>156637.0</td>\n",
       "      <td>939.0</td>\n",
       "      <td>391.0</td>\n",
       "      <td>20.069845</td>\n",
       "      <td>32.771909</td>\n",
       "      <td>0.000000e+00</td>\n",
       "      <td>0.000000e+00</td>\n",
       "      <td>100.000000</td>\n",
       "    </tr>\n",
       "    <tr>\n",
       "      <td>4742</td>\n",
       "      <td>ZNF549</td>\n",
       "      <td>Melanocytes</td>\n",
       "      <td>0.000236</td>\n",
       "      <td>0.126280</td>\n",
       "      <td>37.0</td>\n",
       "      <td>156893.0</td>\n",
       "      <td>156637.0</td>\n",
       "      <td>293.0</td>\n",
       "      <td>37.0</td>\n",
       "      <td>6.262476</td>\n",
       "      <td>6.771320</td>\n",
       "      <td>1.748843e-18</td>\n",
       "      <td>1.281642e-11</td>\n",
       "      <td>10.892233</td>\n",
       "    </tr>\n",
       "    <tr>\n",
       "      <td>4746</td>\n",
       "      <td>ZNF589</td>\n",
       "      <td>Melanocytes</td>\n",
       "      <td>0.014911</td>\n",
       "      <td>0.063435</td>\n",
       "      <td>2995.0</td>\n",
       "      <td>200856.0</td>\n",
       "      <td>156637.0</td>\n",
       "      <td>47214.0</td>\n",
       "      <td>2995.0</td>\n",
       "      <td>1009.134910</td>\n",
       "      <td>3.143093</td>\n",
       "      <td>0.000000e+00</td>\n",
       "      <td>0.000000e+00</td>\n",
       "      <td>100.000000</td>\n",
       "    </tr>\n",
       "    <tr>\n",
       "      <td>4750</td>\n",
       "      <td>ZNF708</td>\n",
       "      <td>Melanocytes</td>\n",
       "      <td>0.001364</td>\n",
       "      <td>0.177539</td>\n",
       "      <td>215.0</td>\n",
       "      <td>157633.0</td>\n",
       "      <td>156637.0</td>\n",
       "      <td>1211.0</td>\n",
       "      <td>215.0</td>\n",
       "      <td>25.883475</td>\n",
       "      <td>9.931859</td>\n",
       "      <td>1.422052e-125</td>\n",
       "      <td>1.042153e-118</td>\n",
       "      <td>100.000000</td>\n",
       "    </tr>\n",
       "  </tbody>\n",
       "</table>\n",
       "<p>66 rows × 14 columns</p>\n",
       "</div>"
      ],
      "text/plain": [
       "       tf_key       tissue   jaccard  intersect_over_min  intersection  \\\n",
       "4233     ALX1  Melanocytes  0.000204            1.000000          32.0   \n",
       "4239    ARNT2  Melanocytes  0.006935            0.393548        1098.0   \n",
       "4253    BATF3  Melanocytes  0.000488            0.057721          77.0   \n",
       "4269    CPEB1  Melanocytes  0.001954            1.000000         306.0   \n",
       "4272  CREB3L1  Melanocytes  0.000662            0.053435         105.0   \n",
       "...       ...          ...       ...                 ...           ...   \n",
       "4734   ZNF436  Melanocytes  0.001021            0.072386         162.0   \n",
       "4735   ZNF449  Melanocytes  0.002488            0.416400         391.0   \n",
       "4742   ZNF549  Melanocytes  0.000236            0.126280          37.0   \n",
       "4746   ZNF589  Melanocytes  0.014911            0.063435        2995.0   \n",
       "4750   ZNF708  Melanocytes  0.001364            0.177539         215.0   \n",
       "\n",
       "         union  num_in_gene  num_in_feat  observed     expected     oddsratio  \\\n",
       "4233  156637.0     156637.0         32.0      32.0     0.683956   1511.257385   \n",
       "4239  158329.0     156637.0       2790.0    1098.0    59.632448     29.924649   \n",
       "4253  157894.0     156637.0       1334.0      77.0    28.512432      2.839796   \n",
       "4269  156637.0     156637.0        306.0     306.0     6.540333  14083.914656   \n",
       "4272  158497.0     156637.0       1965.0     105.0    41.999197      2.608998   \n",
       "...        ...          ...          ...       ...          ...           ...   \n",
       "4734  158713.0     156637.0       2238.0     162.0    47.834200      3.595924   \n",
       "4735  157185.0     156637.0        939.0     391.0    20.069845     32.771909   \n",
       "4742  156893.0     156637.0        293.0      37.0     6.262476      6.771320   \n",
       "4746  200856.0     156637.0      47214.0    2995.0  1009.134910      3.143093   \n",
       "4750  157633.0     156637.0       1211.0     215.0    25.883475      9.931859   \n",
       "\n",
       "               pval      pval_bonf  log_pval_bonf  \n",
       "4233   2.553332e-54   1.871213e-47      46.727877  \n",
       "4239   0.000000e+00   0.000000e+00     100.000000  \n",
       "4253   7.425422e-15   5.441731e-08       7.264263  \n",
       "4269   0.000000e+00   0.000000e+00     100.000000  \n",
       "4272   3.454894e-17   2.531924e-10       9.596549  \n",
       "...             ...            ...            ...  \n",
       "4734   3.698606e-40   2.710528e-33      32.566946  \n",
       "4735   0.000000e+00   0.000000e+00     100.000000  \n",
       "4742   1.748843e-18   1.281642e-11      10.892233  \n",
       "4746   0.000000e+00   0.000000e+00     100.000000  \n",
       "4750  1.422052e-125  1.042153e-118     100.000000  \n",
       "\n",
       "[66 rows x 14 columns]"
      ]
     },
     "execution_count": 13,
     "metadata": {},
     "output_type": "execute_result"
    }
   ],
   "source": [
    "results_df_filt"
   ]
  },
  {
   "cell_type": "code",
   "execution_count": 26,
   "metadata": {},
   "outputs": [
    {
     "name": "stdout",
     "output_type": "stream",
     "text": [
      "============ Running expressed GDSD0\n",
      "num genes in geneset 7031\n",
      "subsetting data, (64582, 1057) (64582,)\n",
      "starting iteration\n",
      "estimated count 529\n",
      "*****iterating tissue,  GDSD0\n"
     ]
    },
    {
     "name": "stderr",
     "output_type": "stream",
     "text": [
      "/Users/mguo123/opt/anaconda3/lib/python3.7/site-packages/ipykernel_launcher.py:56: RuntimeWarning: invalid value encountered in double_scalars\n"
     ]
    },
    {
     "name": "stdout",
     "output_type": "stream",
     "text": [
      "saved file ../data/processed/fig4_modelling/tf_tf_pairs/expr_GDSD0_single.csv\n",
      "num single unique TFs 136\n",
      "num pairs of TFs 9180\n",
      "num genes in geneset 7031\n",
      "subsetting data, (64582, 1057) (64582,)\n",
      "starting iteration\n",
      "estimated count 9180\n",
      "*****iterating tissue,  GDSD0\n",
      "BCL11A::PITX2 GDSD0 1000\n",
      "DLX3::SMAD4 GDSD0 2000\n",
      "FOSL2::KLF9 GDSD0 3000\n",
      "HBP1::TEAD3 GDSD0 4000\n",
      "HOXC10::HOXD8 GDSD0 5000\n",
      "JDP2::ZFP28 GDSD0 6000\n",
      "MYBL2::SREBF1 GDSD0 7000\n",
      "POU2F1::ZNF554 GDSD0 8000\n",
      "ZFP42::ZNF41 GDSD0 9000\n",
      "saved file ../data/processed/fig4_modelling/tf_tf_pairs/expr_GDSD0_pair.csv\n",
      "num sig tf-tf pair in  GDSD0 (9180, 14)\n",
      "CPU times: user 2min 7s, sys: 19.8 s, total: 2min 27s\n",
      "Wall time: 2min 27s\n"
     ]
    }
   ],
   "source": [
    "%%time\n",
    "# get expressed tissue geneset enrichments\n",
    "for tissue in ['GDSD0']:\n",
    "    print('============ Running expressed', tissue)\n",
    "    run_pair_enrichment(tissue, save_prefix='expr_', geneset_dict = expr_genesets)"
   ]
  },
  {
   "cell_type": "code",
   "execution_count": 58,
   "metadata": {},
   "outputs": [
    {
     "name": "stdout",
     "output_type": "stream",
     "text": [
      "============ Running expressed GDSD3\n",
      "num genes in geneset 6970\n",
      "subsetting data, (68474, 1057) (68474,)\n",
      "starting iteration\n",
      "estimated count 529\n",
      "*****iterating tissue,  GDSD3\n"
     ]
    },
    {
     "name": "stderr",
     "output_type": "stream",
     "text": [
      "/Users/mguo123/opt/anaconda3/lib/python3.7/site-packages/ipykernel_launcher.py:56: RuntimeWarning: invalid value encountered in double_scalars\n"
     ]
    },
    {
     "name": "stdout",
     "output_type": "stream",
     "text": [
      "saved file ../data/processed/fig4_modelling/tf_tf_pairs/expr_GDSD3_single.csv\n",
      "num single unique TFs 78\n",
      "num pairs of TFs 3003\n",
      "num genes in geneset 6970\n",
      "subsetting data, (68474, 1057) (68474,)\n",
      "starting iteration\n",
      "estimated count 3003\n",
      "*****iterating tissue,  GDSD3\n",
      "GLI1::HOXC13 GDSD3 1000\n",
      "HOXD8::ZBTB6 GDSD3 2000\n",
      "ZNF554::ZNF85 GDSD3 3000\n",
      "saved file ../data/processed/fig4_modelling/tf_tf_pairs/expr_GDSD3_pair.csv\n",
      "num sig tf-tf pair in  GDSD3 (3003, 14)\n",
      "CPU times: user 40.8 s, sys: 7.72 s, total: 48.5 s\n",
      "Wall time: 48.5 s\n"
     ]
    }
   ],
   "source": [
    "%%time\n",
    "# get expressed tissue geneset enrichments\n",
    "for tissue in ['GDSD3']:\n",
    "    print('============ Running expressed', tissue)\n",
    "    run_pair_enrichment(tissue, save_prefix='expr_', geneset_dict = expr_genesets)"
   ]
  },
  {
   "cell_type": "code",
   "execution_count": 40,
   "metadata": {},
   "outputs": [
    {
     "name": "stdout",
     "output_type": "stream",
     "text": [
      "============ Running expressed Melanocytes\n",
      "num genes in geneset 7359\n",
      "subsetting data, (62298, 1057) (62298,)\n",
      "starting iteration\n",
      "estimated count 529\n",
      "*****iterating tissue,  Melanocytes\n"
     ]
    },
    {
     "name": "stderr",
     "output_type": "stream",
     "text": [
      "/Users/mguo123/opt/anaconda3/lib/python3.7/site-packages/ipykernel_launcher.py:56: RuntimeWarning: invalid value encountered in double_scalars\n"
     ]
    },
    {
     "name": "stdout",
     "output_type": "stream",
     "text": [
      "saved file ../data/processed/fig4_modelling/tf_tf_pairs/expr_Melanocytes_single.csv\n",
      "num single unique TFs 85\n",
      "num pairs of TFs 3570\n",
      "num genes in geneset 7359\n",
      "subsetting data, (62298, 1057) (62298,)\n",
      "starting iteration\n",
      "estimated count 3570\n",
      "*****iterating tissue,  Melanocytes\n",
      "ETV2::ZNF18 Melanocytes 1000\n",
      "HSF4::RFX3 Melanocytes 2000\n",
      "PRRX1::ZNF41 Melanocytes 3000\n",
      "saved file ../data/processed/fig4_modelling/tf_tf_pairs/expr_Melanocytes_pair.csv\n",
      "num sig tf-tf pair in  Melanocytes (3570, 14)\n",
      "CPU times: user 49.1 s, sys: 23.4 s, total: 1min 12s\n",
      "Wall time: 1min 12s\n"
     ]
    }
   ],
   "source": [
    "%%time\n",
    "# get expressed tissue geneset enrichments\n",
    "for tissue in ['Melanocytes']:\n",
    "    print('============ Running expressed', tissue)\n",
    "    run_pair_enrichment(tissue, save_prefix='expr_', geneset_dict = expr_genesets)"
   ]
  },
  {
   "cell_type": "code",
   "execution_count": 41,
   "metadata": {},
   "outputs": [],
   "source": [
    "# %%time\n",
    "# # get unique tissue geneset enrichments\n",
    "# for tissue in normal_tissues:\n",
    "#     print('============ Running unique', tissue)\n",
    "#     run_pair_enrichment(tissue, save_prefix='unique_', geneset_dict = unique_genesets)"
   ]
  },
  {
   "cell_type": "code",
   "execution_count": 42,
   "metadata": {},
   "outputs": [],
   "source": [
    "# %%time\n",
    "# # get expressed tissue geneset enrichments\n",
    "# for tissue in normal_tissues:\n",
    "#     print('============ Running expressed', tissue)\n",
    "#     run_pair_enrichment(tissue, save_prefix='expr_', geneset_dict = expr_genesets)"
   ]
  },
  {
   "cell_type": "code",
   "execution_count": 43,
   "metadata": {},
   "outputs": [],
   "source": [
    "# %%time\n",
    "# # get group tissue geneset enrichments\n",
    "# for tissue in normal_tissues:\n",
    "#     print('============ Running group', tissue)\n",
    "#     run_pair_enrichment(tissue, save_prefix='group_', geneset_dict = group_genesets)"
   ]
  },
  {
   "cell_type": "markdown",
   "metadata": {},
   "source": [
    "# 4. Curating list of tf-tf pairs"
   ]
  },
  {
   "cell_type": "markdown",
   "metadata": {},
   "source": [
    "# 5. filter curating list to find combinations that are close together"
   ]
  },
  {
   "cell_type": "code",
   "execution_count": 59,
   "metadata": {},
   "outputs": [
    {
     "name": "stdout",
     "output_type": "stream",
     "text": [
      "expr_Airway_pair_filt.csv (3403, 14)\n",
      "expr_Astrocytes_pair_filt.csv (4560, 14)\n",
      "expr_Bladder_pair_filt.csv (10878, 14)\n",
      "expr_Colon_pair_filt.csv (2080, 14)\n",
      "expr_Esophageal_pair_filt.csv (3321, 14)\n",
      "expr_GDSD0_pair_filt.csv (9180, 14)\n",
      "expr_GDSD3_pair_filt.csv (3003, 14)\n",
      "expr_GDSD6_pair_filt.csv (10440, 14)\n",
      "expr_GM12878_pair_filt.csv (6555, 14)\n",
      "expr_HMEC_pair_filt.csv (4753, 14)\n",
      "expr_Melanocytes_pair_filt.csv (3570, 14)\n",
      "expr_Ovarian_pair_filt.csv (4560, 14)\n",
      "expr_Pancreas_pair_filt.csv (3240, 14)\n",
      "expr_Prostate_pair_filt.csv (7260, 14)\n",
      "expr_Renal_pair_filt.csv (2278, 14)\n",
      "expr_Thyroid_pair_filt.csv (2016, 14)\n",
      "expr_Uterine_pair_filt.csv (15225, 14)\n",
      "group_Airway_pair_filt.csv (276, 14)\n",
      "group_Astrocytes_pair_filt.csv (528, 14)\n",
      "group_Bladder_pair_filt.csv (2850, 14)\n",
      "group_Colon_pair_filt.csv (171, 14)\n",
      "group_Esophageal_pair_filt.csv (406, 14)\n",
      "group_GDSD6_pair_filt.csv (2278, 14)\n",
      "group_GM12878_pair_filt.csv (3655, 14)\n",
      "group_HMEC_pair_filt.csv (435, 14)\n",
      "group_Melanocytes_pair_filt.csv (496, 14)\n",
      "group_Ovarian_pair_filt.csv (406, 14)\n",
      "group_Pancreas_pair_filt.csv (630, 14)\n",
      "group_Prostate_pair_filt.csv (1378, 14)\n",
      "group_Renal_pair_filt.csv (91, 14)\n",
      "group_Thyroid_pair_filt.csv (231, 14)\n",
      "group_Uterine_pair_filt.csv (2346, 14)\n",
      "unique_Airway_pair_filt.csv (0, 14)\n",
      "unique_Astrocytes_pair_filt.csv (253, 14)\n",
      "unique_Bladder_pair_filt.csv (1, 14)\n",
      "unique_Colon_pair_filt.csv (0, 14)\n",
      "unique_Esophageal_pair_filt.csv (6, 14)\n",
      "unique_GDSD6_pair_filt.csv (253, 14)\n",
      "unique_GM12878_pair_filt.csv (2701, 14)\n",
      "unique_HMEC_pair_filt.csv (1, 14)\n",
      "unique_Melanocytes_pair_filt.csv (153, 14)\n",
      "unique_Ovarian_pair_filt.csv (3, 14)\n",
      "unique_Pancreas_pair_filt.csv (0, 14)\n",
      "unique_Prostate_pair_filt.csv (105, 14)\n",
      "unique_Renal_pair_filt.csv (1, 14)\n",
      "unique_Thyroid_pair_filt.csv (1, 14)\n",
      "unique_Uterine_pair_filt.csv (1, 14)\n"
     ]
    }
   ],
   "source": [
    "for filepath in sorted(glob.glob(os.path.join(save_dir, '*_filt.csv'))):\n",
    "    df = pd.read_csv(filepath, index_col=0)\n",
    "    print(os.path.basename(filepath), df.shape)"
   ]
  },
  {
   "cell_type": "code",
   "execution_count": 60,
   "metadata": {},
   "outputs": [
    {
     "name": "stdout",
     "output_type": "stream",
     "text": [
      "expr_Airway_pair_filt.csv (3403, 14)\n",
      "expr_Astrocytes_pair_filt.csv (4560, 14)\n",
      "expr_Bladder_pair_filt.csv (10878, 14)\n",
      "expr_Colon_pair_filt.csv (2080, 14)\n",
      "expr_Esophageal_pair_filt.csv (3321, 14)\n",
      "expr_GDSD0_pair_filt.csv (9180, 14)\n",
      "expr_GDSD3_pair_filt.csv (3003, 14)\n",
      "expr_GDSD6_pair_filt.csv (10440, 14)\n",
      "expr_GM12878_pair_filt.csv (6555, 14)\n",
      "expr_HMEC_pair_filt.csv (4753, 14)\n",
      "expr_Melanocytes_pair_filt.csv (3570, 14)\n",
      "expr_Ovarian_pair_filt.csv (4560, 14)\n",
      "expr_Pancreas_pair_filt.csv (3240, 14)\n",
      "expr_Prostate_pair_filt.csv (7260, 14)\n",
      "expr_Renal_pair_filt.csv (2278, 14)\n",
      "expr_Thyroid_pair_filt.csv (2016, 14)\n",
      "expr_Uterine_pair_filt.csv (15225, 14)\n"
     ]
    }
   ],
   "source": [
    "# get tissue specific tf-tf and global tf-tf pairs useful for expr\n",
    "expr_all_tissue_df = pd.DataFrame()\n",
    "for filepath in sorted(glob.glob(os.path.join(save_dir, 'expr*_filt.csv'))):\n",
    "    df = pd.read_csv(filepath, index_col=0)\n",
    "    print(os.path.basename(filepath), df.shape)\n",
    "    expr_all_tissue_df = pd.concat([expr_all_tissue_df, df], axis=0,sort=False)\n"
   ]
  },
  {
   "cell_type": "code",
   "execution_count": 61,
   "metadata": {},
   "outputs": [
    {
     "data": {
      "text/plain": [
       "((28384,), (50775,))"
      ]
     },
     "execution_count": 61,
     "metadata": {},
     "output_type": "execute_result"
    }
   ],
   "source": [
    "# unique\n",
    "tf_tf_pair_counter = expr_all_tissue_df.tf_key.value_counts()\n",
    "tf_tf_pair_counter[tf_tf_pair_counter==1].shape, tf_tf_pair_counter.shape"
   ]
  },
  {
   "cell_type": "code",
   "execution_count": 62,
   "metadata": {},
   "outputs": [
    {
     "name": "stdout",
     "output_type": "stream",
     "text": [
      "Airway 3403 1388\n",
      "Astrocytes 4560 4231\n",
      "Bladder 10878 7648\n",
      "Colon 2080 954\n",
      "Esophageal 3321 2107\n",
      "GDSD0 9180 5171\n",
      "GDSD3 3003 1336\n",
      "GDSD6 10440 6886\n",
      "GM12878 6555 5664\n",
      "HMEC 4753 1909\n",
      "Melanocytes 3570 3003\n",
      "Ovarian 4560 4206\n",
      "Pancreas 3240 1296\n",
      "Prostate 7260 6086\n",
      "Renal 2278 958\n",
      "Thyroid 2016 869\n",
      "Uterine 15225 12730\n"
     ]
    }
   ],
   "source": [
    "# create filtered expression datasets (vocabs that are responsible for expression that are tissue specific\n",
    "for filepath in sorted(glob.glob(os.path.join(save_dir, 'expr*_filt.csv'))):\n",
    "    tissue = os.path.basename(filepath).split('_')[1]\n",
    "    df = pd.read_csv(filepath, index_col=0)\n",
    "    df_filt = df[df.tf_key.isin(tf_tf_pair_counter[tf_tf_pair_counter<=3].index)]\n",
    "    print(tissue, df.shape[0], df_filt.shape[0])\n",
    "    df_filt.to_csv(os.path.join(save_dir, 'expr_'+tissue+'_pair_filt_unique.csv'))"
   ]
  },
  {
   "cell_type": "code",
   "execution_count": 63,
   "metadata": {},
   "outputs": [
    {
     "data": {
      "text/plain": [
       "<matplotlib.axes._subplots.AxesSubplot at 0x7fde312dde10>"
      ]
     },
     "execution_count": 63,
     "metadata": {},
     "output_type": "execute_result"
    },
    {
     "data": {
      "image/png": "[encoded data removed]",
      "text/plain": [
       "<Figure size 432x288 with 1 Axes>"
      ]
     },
     "metadata": {
      "needs_background": "light"
     },
     "output_type": "display_data"
    }
   ],
   "source": [
    "sns.distplot(tf_tf_pair_counter)"
   ]
  },
  {
   "cell_type": "code",
   "execution_count": 64,
   "metadata": {},
   "outputs": [
    {
     "data": {
      "text/plain": [
       "KLF9::ZNF554     11\n",
       "KLF9::PBX1       11\n",
       "PBX1::RARG       10\n",
       "PLAGL1::PRDM1    10\n",
       "KLF9::PLAG1      10\n",
       "                 ..\n",
       "FOSL1::TBX3       7\n",
       "SP2::ZBTB33       7\n",
       "GLIS3::PLAG1      7\n",
       "JDP2::PBX1        7\n",
       "GLI3::TP53        7\n",
       "Name: tf_key, Length: 653, dtype: int64"
      ]
     },
     "execution_count": 64,
     "metadata": {},
     "output_type": "execute_result"
    }
   ],
   "source": [
    "tf_tf_pair_counter[tf_tf_pair_counter>6]"
   ]
  },
  {
   "cell_type": "markdown",
   "metadata": {},
   "source": []
  },
  {
   "cell_type": "code",
   "execution_count": null,
   "metadata": {},
   "outputs": [],
   "source": []
  },
  {
   "cell_type": "code",
   "execution_count": 36,
   "metadata": {},
   "outputs": [],
   "source": [
    "def check_tf_tf_loop_occur(tf_tf_pair, tissue, genesets_dict, data_all=data_all, tissues_label=tissues_label):  #suffixes='loop', 'pro_loop'\n",
    "    tf_1, tf_2 = tf_tf_pair.split('::')\n",
    "    \n",
    "    # get features to look at together, list of lists\n",
    "    feat_list_type = {\n",
    "        'pro_pro':[tf_1 + '_pro', tf_2+'_pro'],\n",
    "        'loop_loop':[tf_1 + '_loop', tf_2+'_loop'],\n",
    "        'pro_loop':[tf_1 + '_pro', tf_2+'_loop'],\n",
    "        'loop_pro':[tf_1 + '_loop', tf_2+'_pro']}\n",
    "  \n",
    "    data_all_sel = data_all[data_all.index.isin(genesets_dict[tissue]) & (tissues_label==tissue)]\n",
    "    feat_type_df = {}\n",
    "    for type_feat, feat_list in feat_list_type.items():\n",
    "        try:\n",
    "            check_series = pd.DataFrame(data_all_sel[feat_list]>0).all(axis=1)\n",
    "            feat_type_df[type_feat+\"_count\"] = check_series.value_counts()[True]  \n",
    "            feat_type_df[type_feat+\"_genes\"] = '|'.join(check_series.index[check_series])\n",
    "            \n",
    "        except:\n",
    "            feat_type_df[type_feat+\"_count\"] = 0\n",
    "            feat_type_df[type_feat+\"_genes\"] = ''\n",
    "            \n",
    "    return feat_type_df"
   ]
  },
  {
   "cell_type": "markdown",
   "metadata": {},
   "source": [
    "# testing unique prostate"
   ]
  },
  {
   "cell_type": "code",
   "execution_count": 33,
   "metadata": {},
   "outputs": [],
   "source": [
    "df = pd.read_csv(os.path.join(save_dir, 'unique_Prostate_pair_filt.csv'), index_col=0)\n",
    "tf_tf_pair_feat = {}\n",
    "for tf_tf_pair in df.tf_key:\n",
    "    tf_tf_pair_feat[tf_tf_pair] = check_tf_tf_loop_occur(tf_tf_pair, 'Prostate',unique_genesets)\n",
    "df_tf_key_type = pd.DataFrame.from_dict(tf_tf_pair_feat,orient='index')\n"
   ]
  },
  {
   "cell_type": "code",
   "execution_count": 50,
   "metadata": {},
   "outputs": [
    {
     "data": {
      "text/plain": [
       "pro_pro_count                  1\n",
       "pro_pro_genes             CYP4B1\n",
       "loop_loop_count                2\n",
       "loop_loop_genes    CYP4B1|NDUFB8\n",
       "pro_loop_count                 1\n",
       "pro_loop_genes            CYP4B1\n",
       "loop_pro_count                 1\n",
       "loop_pro_genes            CYP4B1\n",
       "Name: NFATC4::ZNF667, dtype: object"
      ]
     },
     "execution_count": 50,
     "metadata": {},
     "output_type": "execute_result"
    }
   ],
   "source": [
    "row = df_tf_key_type[df_tf_key_type.pro_pro_count>0].iloc[0]\n",
    "row"
   ]
  },
  {
   "cell_type": "code",
   "execution_count": 36,
   "metadata": {},
   "outputs": [
    {
     "data": {
      "text/plain": [
       "['NFATC4::ZNF667']"
      ]
     },
     "execution_count": 36,
     "metadata": {},
     "output_type": "execute_result"
    }
   ],
   "source": [
    "list(df_tf_key_type[df_tf_key_type.pro_pro_count>0].index)"
   ]
  },
  {
   "cell_type": "code",
   "execution_count": 43,
   "metadata": {},
   "outputs": [],
   "source": [
    "# data_all_sel = data_all[data_all.index.isin(unique_genesets['Prostate']) & (tissues_label=='Prostate')]\n",
    "# vocab_tissue_df = pd.DataFrame()\n",
    "foot_df = pd.read_csv(os.path.join('../data/interim/annon/promoter_motif_scan/','promoter_Prostate_annon.bed'),sep='\\t',header=None)\n",
    "foot_df.columns = ['chr','start','stop','TSS','chr_m','start_m','stop_m','id_trim','score','strand']"
   ]
  },
  {
   "cell_type": "code",
   "execution_count": 51,
   "metadata": {},
   "outputs": [
    {
     "name": "stdout",
     "output_type": "stream",
     "text": [
      "['CYP4B1']\n",
      "(180, 10)\n",
      "(180, 11)\n",
      "NFATC4::ZNF667 CYP4B1\n",
      "        chr     start      stop     TSS chr_m   start_m    stop_m  \\\n",
      "53376  chr1  47211510  47214010  CYP4B1  chr1  47213569  47213574   \n",
      "53381  chr1  47211510  47214010  CYP4B1  chr1  47213580  47213597   \n",
      "\n",
      "                              id_trim      score strand      tf  \n",
      "53376  NFAC4_HUMAN.H11MO.0.C.pwm.trim   8.701374      +  NFATC4  \n",
      "53381  ZN667_HUMAN.H11MO.0.C.pwm.trim  11.091512      +  ZNF667  \n"
     ]
    },
    {
     "name": "stderr",
     "output_type": "stream",
     "text": [
      "/Users/mguo123/opt/anaconda3/lib/python3.7/site-packages/ipykernel_launcher.py:7: SettingWithCopyWarning: \n",
      "A value is trying to be set on a copy of a slice from a DataFrame.\n",
      "Try using .loc[row_indexer,col_indexer] = value instead\n",
      "\n",
      "See the caveats in the documentation: http://pandas.pydata.org/pandas-docs/stable/user_guide/indexing.html#returning-a-view-versus-a-copy\n",
      "  import sys\n"
     ]
    }
   ],
   "source": [
    "tf_pair = row.name\n",
    "tf_arr = tf_pair.split('::')\n",
    "genes_pro_only = row['pro_pro_genes'].split('|')\n",
    "print(genes_pro_only)\n",
    "foot_df_sel = foot_df[foot_df.TSS.isin(genes_pro_only)]\n",
    "print(foot_df_sel.shape)\n",
    "foot_df_sel['tf'] = foot_df_sel.id_trim.map(tf_id_to_name_dict)\n",
    "print(foot_df_sel.shape)\n",
    "foot_df_sel = foot_df_sel[foot_df_sel.tf.isin(tf_arr)].drop_duplicates()\n",
    "print(tf_pair, row['pro_pro_genes'])\n",
    "print(foot_df_sel)"
   ]
  },
  {
   "cell_type": "code",
   "execution_count": 52,
   "metadata": {},
   "outputs": [
    {
     "data": {
      "text/html": [
       "<div>\n",
       "<style scoped>\n",
       "    .dataframe tbody tr th:only-of-type {\n",
       "        vertical-align: middle;\n",
       "    }\n",
       "\n",
       "    .dataframe tbody tr th {\n",
       "        vertical-align: top;\n",
       "    }\n",
       "\n",
       "    .dataframe thead th {\n",
       "        text-align: right;\n",
       "    }\n",
       "</style>\n",
       "<table border=\"1\" class=\"dataframe\">\n",
       "  <thead>\n",
       "    <tr style=\"text-align: right;\">\n",
       "      <th></th>\n",
       "      <th>chr</th>\n",
       "      <th>start</th>\n",
       "      <th>stop</th>\n",
       "      <th>TSS</th>\n",
       "      <th>chr_m</th>\n",
       "      <th>start_m</th>\n",
       "      <th>stop_m</th>\n",
       "      <th>id_trim</th>\n",
       "      <th>score</th>\n",
       "      <th>strand</th>\n",
       "      <th>tf</th>\n",
       "    </tr>\n",
       "  </thead>\n",
       "  <tbody>\n",
       "    <tr>\n",
       "      <td>53376</td>\n",
       "      <td>chr1</td>\n",
       "      <td>47211510</td>\n",
       "      <td>47214010</td>\n",
       "      <td>CYP4B1</td>\n",
       "      <td>chr1</td>\n",
       "      <td>47213569</td>\n",
       "      <td>47213574</td>\n",
       "      <td>NFAC4_HUMAN.H11MO.0.C.pwm.trim</td>\n",
       "      <td>8.701374</td>\n",
       "      <td>+</td>\n",
       "      <td>NFATC4</td>\n",
       "    </tr>\n",
       "    <tr>\n",
       "      <td>53381</td>\n",
       "      <td>chr1</td>\n",
       "      <td>47211510</td>\n",
       "      <td>47214010</td>\n",
       "      <td>CYP4B1</td>\n",
       "      <td>chr1</td>\n",
       "      <td>47213580</td>\n",
       "      <td>47213597</td>\n",
       "      <td>ZN667_HUMAN.H11MO.0.C.pwm.trim</td>\n",
       "      <td>11.091512</td>\n",
       "      <td>+</td>\n",
       "      <td>ZNF667</td>\n",
       "    </tr>\n",
       "  </tbody>\n",
       "</table>\n",
       "</div>"
      ],
      "text/plain": [
       "        chr     start      stop     TSS chr_m   start_m    stop_m  \\\n",
       "53376  chr1  47211510  47214010  CYP4B1  chr1  47213569  47213574   \n",
       "53381  chr1  47211510  47214010  CYP4B1  chr1  47213580  47213597   \n",
       "\n",
       "                              id_trim      score strand      tf  \n",
       "53376  NFAC4_HUMAN.H11MO.0.C.pwm.trim   8.701374      +  NFATC4  \n",
       "53381  ZN667_HUMAN.H11MO.0.C.pwm.trim  11.091512      +  ZNF667  "
      ]
     },
     "execution_count": 52,
     "metadata": {},
     "output_type": "execute_result"
    }
   ],
   "source": [
    "# filter by those that have pairs \n",
    "# foot_df = pd.read_csv(os.path.join('../data/interim/annon/promoter_motif_scan/','promoter_Prostate_annon.bed'),sep='\\t',header=None)\n",
    "                      \n",
    "# foot_df.columns = ['chr','start','stop','TSS','chr_m','start_m','stop_m','id_trim','score','strand']\n",
    "foot_df = foot_df[foot_df.TSS.isin(['CYP4B1'])]\n",
    "foot_df['tf'] = foot_df.id_trim.map(tf_id_to_name_dict)\n",
    "foot_df[foot_df.tf.isin(['NFATC4','ZNF667'])].drop_duplicates()\n"
   ]
  },
  {
   "cell_type": "code",
   "execution_count": 54,
   "metadata": {},
   "outputs": [
    {
     "data": {
      "text/html": [
       "<div>\n",
       "<style scoped>\n",
       "    .dataframe tbody tr th:only-of-type {\n",
       "        vertical-align: middle;\n",
       "    }\n",
       "\n",
       "    .dataframe tbody tr th {\n",
       "        vertical-align: top;\n",
       "    }\n",
       "\n",
       "    .dataframe thead th {\n",
       "        text-align: right;\n",
       "    }\n",
       "</style>\n",
       "<table border=\"1\" class=\"dataframe\">\n",
       "  <thead>\n",
       "    <tr style=\"text-align: right;\">\n",
       "      <th></th>\n",
       "      <th>chr</th>\n",
       "      <th>start</th>\n",
       "      <th>stop</th>\n",
       "      <th>TSS</th>\n",
       "      <th>chr_m</th>\n",
       "      <th>start_m</th>\n",
       "      <th>stop_m</th>\n",
       "      <th>id_trim</th>\n",
       "      <th>score</th>\n",
       "      <th>strand</th>\n",
       "      <th>tf</th>\n",
       "    </tr>\n",
       "  </thead>\n",
       "  <tbody>\n",
       "    <tr>\n",
       "      <td>53376</td>\n",
       "      <td>chr1</td>\n",
       "      <td>47211510</td>\n",
       "      <td>47214010</td>\n",
       "      <td>CYP4B1</td>\n",
       "      <td>chr1</td>\n",
       "      <td>47213569</td>\n",
       "      <td>47213574</td>\n",
       "      <td>NFAC4_HUMAN.H11MO.0.C.pwm.trim</td>\n",
       "      <td>8.701374</td>\n",
       "      <td>+</td>\n",
       "      <td>NFATC4</td>\n",
       "    </tr>\n",
       "    <tr>\n",
       "      <td>53381</td>\n",
       "      <td>chr1</td>\n",
       "      <td>47211510</td>\n",
       "      <td>47214010</td>\n",
       "      <td>CYP4B1</td>\n",
       "      <td>chr1</td>\n",
       "      <td>47213580</td>\n",
       "      <td>47213597</td>\n",
       "      <td>ZN667_HUMAN.H11MO.0.C.pwm.trim</td>\n",
       "      <td>11.091512</td>\n",
       "      <td>+</td>\n",
       "      <td>ZNF667</td>\n",
       "    </tr>\n",
       "  </tbody>\n",
       "</table>\n",
       "</div>"
      ],
      "text/plain": [
       "        chr     start      stop     TSS chr_m   start_m    stop_m  \\\n",
       "53376  chr1  47211510  47214010  CYP4B1  chr1  47213569  47213574   \n",
       "53381  chr1  47211510  47214010  CYP4B1  chr1  47213580  47213597   \n",
       "\n",
       "                              id_trim      score strand      tf  \n",
       "53376  NFAC4_HUMAN.H11MO.0.C.pwm.trim   8.701374      +  NFATC4  \n",
       "53381  ZN667_HUMAN.H11MO.0.C.pwm.trim  11.091512      +  ZNF667  "
      ]
     },
     "execution_count": 54,
     "metadata": {},
     "output_type": "execute_result"
    }
   ],
   "source": [
    "foot_df = foot_df[foot_df.tf.isin(['NFATC4','ZNF667'])].drop_duplicates()\n",
    "foot_df\n"
   ]
  },
  {
   "cell_type": "markdown",
   "metadata": {},
   "source": [
    "# loop through all of the tf-tf pairs and find the locations in the promoter regions"
   ]
  },
  {
   "cell_type": "code",
   "execution_count": 57,
   "metadata": {},
   "outputs": [
    {
     "data": {
      "text/html": [
       "<div>\n",
       "<style scoped>\n",
       "    .dataframe tbody tr th:only-of-type {\n",
       "        vertical-align: middle;\n",
       "    }\n",
       "\n",
       "    .dataframe tbody tr th {\n",
       "        vertical-align: top;\n",
       "    }\n",
       "\n",
       "    .dataframe thead th {\n",
       "        text-align: right;\n",
       "    }\n",
       "</style>\n",
       "<table border=\"1\" class=\"dataframe\">\n",
       "  <thead>\n",
       "    <tr style=\"text-align: right;\">\n",
       "      <th></th>\n",
       "      <th>pro_pro_count</th>\n",
       "      <th>pro_pro_genes</th>\n",
       "      <th>loop_loop_count</th>\n",
       "      <th>loop_loop_genes</th>\n",
       "      <th>pro_loop_count</th>\n",
       "      <th>pro_loop_genes</th>\n",
       "      <th>loop_pro_count</th>\n",
       "      <th>loop_pro_genes</th>\n",
       "    </tr>\n",
       "  </thead>\n",
       "  <tbody>\n",
       "    <tr>\n",
       "      <td>CUX2::GLI1</td>\n",
       "      <td>0</td>\n",
       "      <td></td>\n",
       "      <td>1</td>\n",
       "      <td>LTB4R2</td>\n",
       "      <td>1</td>\n",
       "      <td>LTB4R2</td>\n",
       "      <td>0</td>\n",
       "      <td></td>\n",
       "    </tr>\n",
       "    <tr>\n",
       "      <td>CUX2::HSF1</td>\n",
       "      <td>0</td>\n",
       "      <td></td>\n",
       "      <td>1</td>\n",
       "      <td>LTB4R2</td>\n",
       "      <td>1</td>\n",
       "      <td>LTB4R2</td>\n",
       "      <td>0</td>\n",
       "      <td></td>\n",
       "    </tr>\n",
       "    <tr>\n",
       "      <td>CUX2::KLF12</td>\n",
       "      <td>0</td>\n",
       "      <td></td>\n",
       "      <td>2</td>\n",
       "      <td>LTB4R2|MAPK10</td>\n",
       "      <td>1</td>\n",
       "      <td>LTB4R2</td>\n",
       "      <td>0</td>\n",
       "      <td></td>\n",
       "    </tr>\n",
       "    <tr>\n",
       "      <td>CUX2::MAF</td>\n",
       "      <td>0</td>\n",
       "      <td></td>\n",
       "      <td>1</td>\n",
       "      <td>LTB4R2</td>\n",
       "      <td>1</td>\n",
       "      <td>LTB4R2</td>\n",
       "      <td>0</td>\n",
       "      <td></td>\n",
       "    </tr>\n",
       "    <tr>\n",
       "      <td>CUX2::MZF1</td>\n",
       "      <td>0</td>\n",
       "      <td></td>\n",
       "      <td>2</td>\n",
       "      <td>LTB4R2|STX1A</td>\n",
       "      <td>1</td>\n",
       "      <td>LTB4R2</td>\n",
       "      <td>0</td>\n",
       "      <td></td>\n",
       "    </tr>\n",
       "  </tbody>\n",
       "</table>\n",
       "</div>"
      ],
      "text/plain": [
       "             pro_pro_count pro_pro_genes  loop_loop_count loop_loop_genes  \\\n",
       "CUX2::GLI1               0                              1          LTB4R2   \n",
       "CUX2::HSF1               0                              1          LTB4R2   \n",
       "CUX2::KLF12              0                              2   LTB4R2|MAPK10   \n",
       "CUX2::MAF                0                              1          LTB4R2   \n",
       "CUX2::MZF1               0                              2    LTB4R2|STX1A   \n",
       "\n",
       "             pro_loop_count pro_loop_genes  loop_pro_count loop_pro_genes  \n",
       "CUX2::GLI1                1         LTB4R2               0                 \n",
       "CUX2::HSF1                1         LTB4R2               0                 \n",
       "CUX2::KLF12               1         LTB4R2               0                 \n",
       "CUX2::MAF                 1         LTB4R2               0                 \n",
       "CUX2::MZF1                1         LTB4R2               0                 "
      ]
     },
     "execution_count": 57,
     "metadata": {},
     "output_type": "execute_result"
    }
   ],
   "source": [
    "df_tf_key_type[:5]"
   ]
  },
  {
   "cell_type": "code",
   "execution_count": 29,
   "metadata": {},
   "outputs": [],
   "source": [
    "def get_vocab(tf_tf_pair_files, genesets_dict, type_loop='pro_pro', savepath=None, save_loop_count=None):\n",
    "    if savepath is None: #savepath is save each tissue separately\n",
    "        vocab_df = pd.DataFrame()\n",
    "    for filepath in sorted(tf_tf_pair_files):\n",
    "        tissue = os.path.basename(filepath).split('_')[1]\n",
    "        print('====== STARTING ',tissue, filepath)\n",
    "\n",
    "        # read file\n",
    "        df = pd.read_csv(filepath, index_col=0)\n",
    "        if df.shape[0]==0:\n",
    "            print('EXIT: no data', filepath)\n",
    "            continue\n",
    "        else:\n",
    "            print('num vocab found:', df.shape[0])\n",
    "\n",
    "        # get tf tf pair types\n",
    "        tf_tf_pair_feat = {}\n",
    "        for tf_tf_pair in df.tf_key:\n",
    "            tf_tf_pair_feat[tf_tf_pair] = check_tf_tf_loop_occur(tf_tf_pair, tissue, genesets_dict)\n",
    "        df_tf_key_type = pd.DataFrame.from_dict(tf_tf_pair_feat,orient='index')\n",
    "\n",
    "        # get pro_pro OR loop_loop or looponly (PART TO CHANGE IN FUTURE)\n",
    "        if type_loop in ['pro_pro','loop_loop','pro_loop']:\n",
    "            if save_loop_count is not None:\n",
    "                print('saving loop type info', save_loop_count+tissue+'_loop_type.csv')\n",
    "                df_tf_key_type.to_csv(save_loop_count+tissue+'_loop_type.csv')\n",
    "        else:\n",
    "            print('vocab type not correct', type_loop)\n",
    "            raise            \n",
    "        df_tf_filt = df_tf_key_type[df_tf_key_type[type_loop+'_count']>0]    \n",
    "        \n",
    "        \n",
    "        # get locations of vocab points\n",
    "        if df_tf_filt.shape[0]==0:\n",
    "            print('EXIT: no tf tf pairs in loop type: ', type_loop, filepath)\n",
    "            continue   \n",
    "        else:\n",
    "            print('num tf-tf pairs in loop type found', type_loop,  df_tf_filt.shape[0])\n",
    "\n",
    "        vocab_tissue_df = pd.DataFrame()\n",
    "        foot_df = pd.read_csv(os.path.join('../data/interim/annon/promoter_motif_scan/','promoter_'+tissue+'_annon.bed'),sep='\\t',header=None)\n",
    "        foot_df.columns = ['chr','start','stop','TSS','chr_m','start_m','stop_m','id_trim','score','strand']\n",
    "        for tf_pair, row in df_tf_filt.iterrows():\n",
    "            tf_arr = tf_pair.split('::')\n",
    "#             print(row)\n",
    "            genes_pro_only = row[type_loop+'_genes'].split('|')\n",
    "            foot_df_sel = foot_df[foot_df.TSS.isin(genes_pro_only)]\n",
    "            foot_df_sel['tf'] = foot_df_sel.id_trim.map(tf_id_to_name_dict)\n",
    "            foot_df_sel = foot_df_sel[foot_df_sel.tf.isin(tf_arr)].drop_duplicates()\n",
    "            foot_df_sel['vocab'] = tf_pair\n",
    "            foot_df_sel['genes'] = row[type_loop+'_genes']\n",
    "            vocab_tissue_df = pd.concat([vocab_tissue_df, foot_df_sel],axis=0,sort=False)\n",
    "\n",
    "        vocab_tissue_df['tissue'] = tissue\n",
    "        print('vocab_tissue_df length: ', vocab_tissue_df.shape[0], len(vocab_tissue_df.vocab.unique()))\n",
    "        if savepath is not None:\n",
    "            print('saved', savepath+tissue+\"_\"+type_loop+'_vocab_info.csv')\n",
    "            vocab_tissue_df.to_csv(savepath+tissue+\"_\"+type_loop+'_vocab_info.csv')\n",
    "        \n",
    "        if savepath is None:\n",
    "            vocab_df = pd.concat([vocab_df,vocab_tissue_df ],axis=0,sort=False)\n",
    "    if savepath is None:\n",
    "        return vocab_df\n",
    "    else:\n",
    "        return None"
   ]
  },
  {
   "cell_type": "markdown",
   "metadata": {},
   "source": [
    "unique stuff"
   ]
  },
  {
   "cell_type": "code",
   "execution_count": 1,
   "metadata": {},
   "outputs": [
    {
     "data": {
      "text/html": [
       "<div>\n",
       "<style scoped>\n",
       "    .dataframe tbody tr th:only-of-type {\n",
       "        vertical-align: middle;\n",
       "    }\n",
       "\n",
       "    .dataframe tbody tr th {\n",
       "        vertical-align: top;\n",
       "    }\n",
       "\n",
       "    .dataframe thead th {\n",
       "        text-align: right;\n",
       "    }\n",
       "</style>\n",
       "<table border=\"1\" class=\"dataframe\">\n",
       "  <thead>\n",
       "    <tr style=\"text-align: right;\">\n",
       "      <th></th>\n",
       "      <th>Unnamed: 0</th>\n",
       "      <th>tf_key</th>\n",
       "      <th>tissue</th>\n",
       "      <th>jaccard</th>\n",
       "      <th>intersect_over_min</th>\n",
       "      <th>intersection</th>\n",
       "      <th>union</th>\n",
       "      <th>num_in_gene</th>\n",
       "      <th>num_in_feat</th>\n",
       "      <th>observed</th>\n",
       "      <th>expected</th>\n",
       "      <th>oddsratio</th>\n",
       "      <th>pval</th>\n",
       "      <th>pval_bonf</th>\n",
       "      <th>log_pval_bonf</th>\n",
       "    </tr>\n",
       "  </thead>\n",
       "  <tbody>\n",
       "    <tr>\n",
       "      <td>0</td>\n",
       "      <td>0</td>\n",
       "      <td>AR::ARNT2</td>\n",
       "      <td>Astrocytes</td>\n",
       "      <td>0.010137</td>\n",
       "      <td>0.783133</td>\n",
       "      <td>65.0</td>\n",
       "      <td>6412.0</td>\n",
       "      <td>6394.0</td>\n",
       "      <td>83.0</td>\n",
       "      <td>65.0</td>\n",
       "      <td>3.587909</td>\n",
       "      <td>77.651933</td>\n",
       "      <td>1.264770e-72</td>\n",
       "      <td>1.870772e-67</td>\n",
       "      <td>66.727979</td>\n",
       "    </tr>\n",
       "    <tr>\n",
       "      <td>1</td>\n",
       "      <td>1</td>\n",
       "      <td>AR::ATF2</td>\n",
       "      <td>Astrocytes</td>\n",
       "      <td>0.012241</td>\n",
       "      <td>0.108750</td>\n",
       "      <td>87.0</td>\n",
       "      <td>7107.0</td>\n",
       "      <td>6394.0</td>\n",
       "      <td>800.0</td>\n",
       "      <td>87.0</td>\n",
       "      <td>34.582257</td>\n",
       "      <td>2.751187</td>\n",
       "      <td>3.095091e-15</td>\n",
       "      <td>4.578073e-10</td>\n",
       "      <td>9.339317</td>\n",
       "    </tr>\n",
       "    <tr>\n",
       "      <td>2</td>\n",
       "      <td>2</td>\n",
       "      <td>AR::FOXG1</td>\n",
       "      <td>Astrocytes</td>\n",
       "      <td>0.004223</td>\n",
       "      <td>1.000000</td>\n",
       "      <td>27.0</td>\n",
       "      <td>6394.0</td>\n",
       "      <td>6394.0</td>\n",
       "      <td>27.0</td>\n",
       "      <td>27.0</td>\n",
       "      <td>1.167151</td>\n",
       "      <td>622.265704</td>\n",
       "      <td>1.675757e-37</td>\n",
       "      <td>2.478679e-32</td>\n",
       "      <td>31.605780</td>\n",
       "    </tr>\n",
       "    <tr>\n",
       "      <td>3</td>\n",
       "      <td>3</td>\n",
       "      <td>AR::GLI2</td>\n",
       "      <td>Astrocytes</td>\n",
       "      <td>0.003597</td>\n",
       "      <td>1.000000</td>\n",
       "      <td>23.0</td>\n",
       "      <td>6394.0</td>\n",
       "      <td>6394.0</td>\n",
       "      <td>23.0</td>\n",
       "      <td>23.0</td>\n",
       "      <td>0.994240</td>\n",
       "      <td>533.035782</td>\n",
       "      <td>4.197009e-32</td>\n",
       "      <td>6.207964e-27</td>\n",
       "      <td>26.207051</td>\n",
       "    </tr>\n",
       "    <tr>\n",
       "      <td>4</td>\n",
       "      <td>4</td>\n",
       "      <td>AR::HEY2</td>\n",
       "      <td>Astrocytes</td>\n",
       "      <td>0.003597</td>\n",
       "      <td>1.000000</td>\n",
       "      <td>23.0</td>\n",
       "      <td>6394.0</td>\n",
       "      <td>6394.0</td>\n",
       "      <td>23.0</td>\n",
       "      <td>23.0</td>\n",
       "      <td>0.994240</td>\n",
       "      <td>533.035782</td>\n",
       "      <td>4.197009e-32</td>\n",
       "      <td>6.207964e-27</td>\n",
       "      <td>26.207051</td>\n",
       "    </tr>\n",
       "    <tr>\n",
       "      <td>...</td>\n",
       "      <td>...</td>\n",
       "      <td>...</td>\n",
       "      <td>...</td>\n",
       "      <td>...</td>\n",
       "      <td>...</td>\n",
       "      <td>...</td>\n",
       "      <td>...</td>\n",
       "      <td>...</td>\n",
       "      <td>...</td>\n",
       "      <td>...</td>\n",
       "      <td>...</td>\n",
       "      <td>...</td>\n",
       "      <td>...</td>\n",
       "      <td>...</td>\n",
       "      <td>...</td>\n",
       "    </tr>\n",
       "    <tr>\n",
       "      <td>248</td>\n",
       "      <td>248</td>\n",
       "      <td>ZFP82::ZNF589</td>\n",
       "      <td>Astrocytes</td>\n",
       "      <td>0.016609</td>\n",
       "      <td>0.126183</td>\n",
       "      <td>120.0</td>\n",
       "      <td>7225.0</td>\n",
       "      <td>6394.0</td>\n",
       "      <td>951.0</td>\n",
       "      <td>120.0</td>\n",
       "      <td>41.109658</td>\n",
       "      <td>3.260705</td>\n",
       "      <td>1.017314e-25</td>\n",
       "      <td>1.504749e-20</td>\n",
       "      <td>19.822536</td>\n",
       "    </tr>\n",
       "    <tr>\n",
       "      <td>249</td>\n",
       "      <td>249</td>\n",
       "      <td>ZFP82::ZNF816</td>\n",
       "      <td>Astrocytes</td>\n",
       "      <td>0.006354</td>\n",
       "      <td>0.162791</td>\n",
       "      <td>42.0</td>\n",
       "      <td>6610.0</td>\n",
       "      <td>6394.0</td>\n",
       "      <td>258.0</td>\n",
       "      <td>42.0</td>\n",
       "      <td>11.152778</td>\n",
       "      <td>4.407450</td>\n",
       "      <td>5.194972e-14</td>\n",
       "      <td>7.684091e-09</td>\n",
       "      <td>8.114408</td>\n",
       "    </tr>\n",
       "    <tr>\n",
       "      <td>250</td>\n",
       "      <td>250</td>\n",
       "      <td>ZNF449::ZNF589</td>\n",
       "      <td>Astrocytes</td>\n",
       "      <td>0.017320</td>\n",
       "      <td>0.131857</td>\n",
       "      <td>125.0</td>\n",
       "      <td>7217.0</td>\n",
       "      <td>6394.0</td>\n",
       "      <td>948.0</td>\n",
       "      <td>125.0</td>\n",
       "      <td>40.979975</td>\n",
       "      <td>3.431340</td>\n",
       "      <td>1.756164e-28</td>\n",
       "      <td>2.597612e-23</td>\n",
       "      <td>22.585426</td>\n",
       "    </tr>\n",
       "    <tr>\n",
       "      <td>251</td>\n",
       "      <td>251</td>\n",
       "      <td>ZNF449::ZNF816</td>\n",
       "      <td>Astrocytes</td>\n",
       "      <td>0.007119</td>\n",
       "      <td>0.184314</td>\n",
       "      <td>47.0</td>\n",
       "      <td>6602.0</td>\n",
       "      <td>6394.0</td>\n",
       "      <td>255.0</td>\n",
       "      <td>47.0</td>\n",
       "      <td>11.023095</td>\n",
       "      <td>5.112580</td>\n",
       "      <td>1.265817e-17</td>\n",
       "      <td>1.872321e-12</td>\n",
       "      <td>11.727620</td>\n",
       "    </tr>\n",
       "    <tr>\n",
       "      <td>252</td>\n",
       "      <td>252</td>\n",
       "      <td>ZNF589::ZNF816</td>\n",
       "      <td>Astrocytes</td>\n",
       "      <td>0.018616</td>\n",
       "      <td>0.119274</td>\n",
       "      <td>138.0</td>\n",
       "      <td>7413.0</td>\n",
       "      <td>6394.0</td>\n",
       "      <td>1157.0</td>\n",
       "      <td>138.0</td>\n",
       "      <td>50.014590</td>\n",
       "      <td>3.060067</td>\n",
       "      <td>7.516776e-27</td>\n",
       "      <td>1.111836e-21</td>\n",
       "      <td>20.953959</td>\n",
       "    </tr>\n",
       "  </tbody>\n",
       "</table>\n",
       "<p>253 rows × 15 columns</p>\n",
       "</div>"
      ],
      "text/plain": [
       "     Unnamed: 0          tf_key      tissue   jaccard  intersect_over_min  \\\n",
       "0             0       AR::ARNT2  Astrocytes  0.010137            0.783133   \n",
       "1             1        AR::ATF2  Astrocytes  0.012241            0.108750   \n",
       "2             2       AR::FOXG1  Astrocytes  0.004223            1.000000   \n",
       "3             3        AR::GLI2  Astrocytes  0.003597            1.000000   \n",
       "4             4        AR::HEY2  Astrocytes  0.003597            1.000000   \n",
       "..          ...             ...         ...       ...                 ...   \n",
       "248         248   ZFP82::ZNF589  Astrocytes  0.016609            0.126183   \n",
       "249         249   ZFP82::ZNF816  Astrocytes  0.006354            0.162791   \n",
       "250         250  ZNF449::ZNF589  Astrocytes  0.017320            0.131857   \n",
       "251         251  ZNF449::ZNF816  Astrocytes  0.007119            0.184314   \n",
       "252         252  ZNF589::ZNF816  Astrocytes  0.018616            0.119274   \n",
       "\n",
       "     intersection   union  num_in_gene  num_in_feat  observed   expected  \\\n",
       "0            65.0  6412.0       6394.0         83.0      65.0   3.587909   \n",
       "1            87.0  7107.0       6394.0        800.0      87.0  34.582257   \n",
       "2            27.0  6394.0       6394.0         27.0      27.0   1.167151   \n",
       "3            23.0  6394.0       6394.0         23.0      23.0   0.994240   \n",
       "4            23.0  6394.0       6394.0         23.0      23.0   0.994240   \n",
       "..            ...     ...          ...          ...       ...        ...   \n",
       "248         120.0  7225.0       6394.0        951.0     120.0  41.109658   \n",
       "249          42.0  6610.0       6394.0        258.0      42.0  11.152778   \n",
       "250         125.0  7217.0       6394.0        948.0     125.0  40.979975   \n",
       "251          47.0  6602.0       6394.0        255.0      47.0  11.023095   \n",
       "252         138.0  7413.0       6394.0       1157.0     138.0  50.014590   \n",
       "\n",
       "      oddsratio          pval     pval_bonf  log_pval_bonf  \n",
       "0     77.651933  1.264770e-72  1.870772e-67      66.727979  \n",
       "1      2.751187  3.095091e-15  4.578073e-10       9.339317  \n",
       "2    622.265704  1.675757e-37  2.478679e-32      31.605780  \n",
       "3    533.035782  4.197009e-32  6.207964e-27      26.207051  \n",
       "4    533.035782  4.197009e-32  6.207964e-27      26.207051  \n",
       "..          ...           ...           ...            ...  \n",
       "248    3.260705  1.017314e-25  1.504749e-20      19.822536  \n",
       "249    4.407450  5.194972e-14  7.684091e-09       8.114408  \n",
       "250    3.431340  1.756164e-28  2.597612e-23      22.585426  \n",
       "251    5.112580  1.265817e-17  1.872321e-12      11.727620  \n",
       "252    3.060067  7.516776e-27  1.111836e-21      20.953959  \n",
       "\n",
       "[253 rows x 15 columns]"
      ]
     },
     "execution_count": 1,
     "metadata": {},
     "output_type": "execute_result"
    }
   ],
   "source": [
    "import pandas as pd\n",
    "pd.read_csv('../data/processed/fig4_modelling/tf_tf_pairs/unique_Astrocytes_pair_filt.csv')"
   ]
  },
  {
   "cell_type": "code",
   "execution_count": 75,
   "metadata": {},
   "outputs": [
    {
     "name": "stdout",
     "output_type": "stream",
     "text": [
      "====== STARTING  Airway ../data/processed/fig4_modelling/tf_tf_pairs/unique_Airway_pair_filt.csv\n",
      "EXIT: no data ../data/processed/fig4_modelling/tf_tf_pairs/unique_Airway_pair_filt.csv\n",
      "====== STARTING  Astrocytes ../data/processed/fig4_modelling/tf_tf_pairs/unique_Astrocytes_pair_filt.csv\n",
      "num vocab found: 253\n",
      "saving loop type info ../data/processed/fig4_modelling/tf_tf_pairs/unique_Astrocytes_loop_type.csv\n",
      "num tf-tf pairs in loop type found pro_pro 38\n"
     ]
    },
    {
     "name": "stderr",
     "output_type": "stream",
     "text": [
      "/Users/mguo123/opt/anaconda3/lib/python3.7/site-packages/ipykernel_launcher.py:48: SettingWithCopyWarning: \n",
      "A value is trying to be set on a copy of a slice from a DataFrame.\n",
      "Try using .loc[row_indexer,col_indexer] = value instead\n",
      "\n",
      "See the caveats in the documentation: http://pandas.pydata.org/pandas-docs/stable/user_guide/indexing.html#returning-a-view-versus-a-copy\n"
     ]
    },
    {
     "name": "stdout",
     "output_type": "stream",
     "text": [
      "vocab_tissue_df length:  1140 38\n",
      "====== STARTING  Bladder ../data/processed/fig4_modelling/tf_tf_pairs/unique_Bladder_pair_filt.csv\n",
      "num vocab found: 1\n",
      "saving loop type info ../data/processed/fig4_modelling/tf_tf_pairs/unique_Bladder_loop_type.csv\n",
      "EXIT: no tf tf pairs in loop type:  pro_pro ../data/processed/fig4_modelling/tf_tf_pairs/unique_Bladder_pair_filt.csv\n",
      "====== STARTING  Colon ../data/processed/fig4_modelling/tf_tf_pairs/unique_Colon_pair_filt.csv\n",
      "EXIT: no data ../data/processed/fig4_modelling/tf_tf_pairs/unique_Colon_pair_filt.csv\n",
      "====== STARTING  Esophageal ../data/processed/fig4_modelling/tf_tf_pairs/unique_Esophageal_pair_filt.csv\n",
      "num vocab found: 6\n",
      "saving loop type info ../data/processed/fig4_modelling/tf_tf_pairs/unique_Esophageal_loop_type.csv\n",
      "EXIT: no tf tf pairs in loop type:  pro_pro ../data/processed/fig4_modelling/tf_tf_pairs/unique_Esophageal_pair_filt.csv\n",
      "====== STARTING  GDSD6 ../data/processed/fig4_modelling/tf_tf_pairs/unique_GDSD6_pair_filt.csv\n",
      "num vocab found: 253\n",
      "saving loop type info ../data/processed/fig4_modelling/tf_tf_pairs/unique_GDSD6_loop_type.csv\n",
      "num tf-tf pairs in loop type found pro_pro 8\n",
      "vocab_tissue_df length:  134 8\n",
      "====== STARTING  GM12878 ../data/processed/fig4_modelling/tf_tf_pairs/unique_GM12878_pair_filt.csv\n",
      "num vocab found: 2701\n",
      "saving loop type info ../data/processed/fig4_modelling/tf_tf_pairs/unique_GM12878_loop_type.csv\n",
      "num tf-tf pairs in loop type found pro_pro 598\n",
      "vocab_tissue_df length:  6761 598\n",
      "====== STARTING  HMEC ../data/processed/fig4_modelling/tf_tf_pairs/unique_HMEC_pair_filt.csv\n",
      "num vocab found: 1\n",
      "saving loop type info ../data/processed/fig4_modelling/tf_tf_pairs/unique_HMEC_loop_type.csv\n",
      "EXIT: no tf tf pairs in loop type:  pro_pro ../data/processed/fig4_modelling/tf_tf_pairs/unique_HMEC_pair_filt.csv\n",
      "====== STARTING  Melanocytes ../data/processed/fig4_modelling/tf_tf_pairs/unique_Melanocytes_pair_filt.csv\n",
      "num vocab found: 153\n",
      "saving loop type info ../data/processed/fig4_modelling/tf_tf_pairs/unique_Melanocytes_loop_type.csv\n",
      "num tf-tf pairs in loop type found pro_pro 23\n",
      "vocab_tissue_df length:  415 23\n",
      "====== STARTING  Ovarian ../data/processed/fig4_modelling/tf_tf_pairs/unique_Ovarian_pair_filt.csv\n",
      "num vocab found: 3\n",
      "saving loop type info ../data/processed/fig4_modelling/tf_tf_pairs/unique_Ovarian_loop_type.csv\n",
      "EXIT: no tf tf pairs in loop type:  pro_pro ../data/processed/fig4_modelling/tf_tf_pairs/unique_Ovarian_pair_filt.csv\n",
      "====== STARTING  Pancreas ../data/processed/fig4_modelling/tf_tf_pairs/unique_Pancreas_pair_filt.csv\n",
      "EXIT: no data ../data/processed/fig4_modelling/tf_tf_pairs/unique_Pancreas_pair_filt.csv\n",
      "====== STARTING  Prostate ../data/processed/fig4_modelling/tf_tf_pairs/unique_Prostate_pair_filt.csv\n",
      "num vocab found: 105\n",
      "saving loop type info ../data/processed/fig4_modelling/tf_tf_pairs/unique_Prostate_loop_type.csv\n",
      "num tf-tf pairs in loop type found pro_pro 1\n",
      "vocab_tissue_df length:  2 1\n",
      "====== STARTING  Renal ../data/processed/fig4_modelling/tf_tf_pairs/unique_Renal_pair_filt.csv\n",
      "num vocab found: 1\n",
      "saving loop type info ../data/processed/fig4_modelling/tf_tf_pairs/unique_Renal_loop_type.csv\n",
      "EXIT: no tf tf pairs in loop type:  pro_pro ../data/processed/fig4_modelling/tf_tf_pairs/unique_Renal_pair_filt.csv\n",
      "====== STARTING  Thyroid ../data/processed/fig4_modelling/tf_tf_pairs/unique_Thyroid_pair_filt.csv\n",
      "num vocab found: 1\n",
      "saving loop type info ../data/processed/fig4_modelling/tf_tf_pairs/unique_Thyroid_loop_type.csv\n",
      "EXIT: no tf tf pairs in loop type:  pro_pro ../data/processed/fig4_modelling/tf_tf_pairs/unique_Thyroid_pair_filt.csv\n",
      "====== STARTING  Uterine ../data/processed/fig4_modelling/tf_tf_pairs/unique_Uterine_pair_filt.csv\n",
      "num vocab found: 1\n",
      "saving loop type info ../data/processed/fig4_modelling/tf_tf_pairs/unique_Uterine_loop_type.csv\n",
      "EXIT: no tf tf pairs in loop type:  pro_pro ../data/processed/fig4_modelling/tf_tf_pairs/unique_Uterine_pair_filt.csv\n",
      "CPU times: user 1min 51s, sys: 7.14 s, total: 1min 58s\n",
      "Wall time: 1min 52s\n"
     ]
    }
   ],
   "source": [
    "%%time \n",
    "vocab_df = get_vocab(glob.glob(os.path.join(save_dir, 'unique*_filt.csv')),unique_genesets,\n",
    "                     type_loop='pro_pro',save_loop_count=os.path.join(save_dir, 'unique_'))\n",
    "vocab_df.to_csv(os.path.join(save_dir, 'unique_alltissue_pro_pro_vocab_info.csv'))\n",
    "vocab_df.shape"
   ]
  },
  {
   "cell_type": "code",
   "execution_count": 68,
   "metadata": {
    "collapsed": true,
    "jupyter": {
     "outputs_hidden": true
    }
   },
   "outputs": [
    {
     "name": "stdout",
     "output_type": "stream",
     "text": [
      "====== STARTING  Airway ../data/processed/fig4_modelling/tf_tf_pairs/unique_Airway_pair_filt.csv\n",
      "EXIT: no data ../data/processed/fig4_modelling/tf_tf_pairs/unique_Airway_pair_filt.csv\n",
      "====== STARTING  Astrocytes ../data/processed/fig4_modelling/tf_tf_pairs/unique_Astrocytes_pair_filt.csv\n",
      "num vocab found: 253\n",
      "num tf-tf pairs in loop type found pro_loop 53\n"
     ]
    },
    {
     "name": "stderr",
     "output_type": "stream",
     "text": [
      "/Users/mguo123/opt/anaconda3/lib/python3.7/site-packages/ipykernel_launcher.py:45: SettingWithCopyWarning: \n",
      "A value is trying to be set on a copy of a slice from a DataFrame.\n",
      "Try using .loc[row_indexer,col_indexer] = value instead\n",
      "\n",
      "See the caveats in the documentation: http://pandas.pydata.org/pandas-docs/stable/user_guide/indexing.html#returning-a-view-versus-a-copy\n"
     ]
    },
    {
     "name": "stdout",
     "output_type": "stream",
     "text": [
      "vocab_tissue_df length:  1026 53\n",
      "====== STARTING  Bladder ../data/processed/fig4_modelling/tf_tf_pairs/unique_Bladder_pair_filt.csv\n",
      "num vocab found: 1\n",
      "EXIT: no tf tf pairs in loop type:  pro_loop ../data/processed/fig4_modelling/tf_tf_pairs/unique_Bladder_pair_filt.csv\n",
      "====== STARTING  Colon ../data/processed/fig4_modelling/tf_tf_pairs/unique_Colon_pair_filt.csv\n",
      "EXIT: no data ../data/processed/fig4_modelling/tf_tf_pairs/unique_Colon_pair_filt.csv\n",
      "====== STARTING  Esophageal ../data/processed/fig4_modelling/tf_tf_pairs/unique_Esophageal_pair_filt.csv\n",
      "num vocab found: 6\n",
      "EXIT: no tf tf pairs in loop type:  pro_loop ../data/processed/fig4_modelling/tf_tf_pairs/unique_Esophageal_pair_filt.csv\n",
      "====== STARTING  GDSD6 ../data/processed/fig4_modelling/tf_tf_pairs/unique_GDSD6_pair_filt.csv\n",
      "num vocab found: 253\n",
      "num tf-tf pairs in loop type found pro_loop 18\n",
      "vocab_tissue_df length:  192 18\n",
      "====== STARTING  GM12878 ../data/processed/fig4_modelling/tf_tf_pairs/unique_GM12878_pair_filt.csv\n",
      "num vocab found: 2701\n",
      "num tf-tf pairs in loop type found pro_loop 1435\n",
      "vocab_tissue_df length:  17648 1435\n",
      "====== STARTING  HMEC ../data/processed/fig4_modelling/tf_tf_pairs/unique_HMEC_pair_filt.csv\n",
      "num vocab found: 1\n",
      "EXIT: no tf tf pairs in loop type:  pro_loop ../data/processed/fig4_modelling/tf_tf_pairs/unique_HMEC_pair_filt.csv\n",
      "====== STARTING  Melanocytes ../data/processed/fig4_modelling/tf_tf_pairs/unique_Melanocytes_pair_filt.csv\n",
      "num vocab found: 153\n",
      "num tf-tf pairs in loop type found pro_loop 17\n",
      "vocab_tissue_df length:  154 17\n",
      "====== STARTING  Ovarian ../data/processed/fig4_modelling/tf_tf_pairs/unique_Ovarian_pair_filt.csv\n",
      "num vocab found: 3\n",
      "EXIT: no tf tf pairs in loop type:  pro_loop ../data/processed/fig4_modelling/tf_tf_pairs/unique_Ovarian_pair_filt.csv\n",
      "====== STARTING  Pancreas ../data/processed/fig4_modelling/tf_tf_pairs/unique_Pancreas_pair_filt.csv\n",
      "EXIT: no data ../data/processed/fig4_modelling/tf_tf_pairs/unique_Pancreas_pair_filt.csv\n",
      "====== STARTING  Prostate ../data/processed/fig4_modelling/tf_tf_pairs/unique_Prostate_pair_filt.csv\n",
      "num vocab found: 105\n",
      "num tf-tf pairs in loop type found pro_loop 15\n",
      "vocab_tissue_df length:  18 15\n",
      "====== STARTING  Renal ../data/processed/fig4_modelling/tf_tf_pairs/unique_Renal_pair_filt.csv\n",
      "num vocab found: 1\n",
      "EXIT: no tf tf pairs in loop type:  pro_loop ../data/processed/fig4_modelling/tf_tf_pairs/unique_Renal_pair_filt.csv\n",
      "====== STARTING  Thyroid ../data/processed/fig4_modelling/tf_tf_pairs/unique_Thyroid_pair_filt.csv\n",
      "num vocab found: 1\n",
      "EXIT: no tf tf pairs in loop type:  pro_loop ../data/processed/fig4_modelling/tf_tf_pairs/unique_Thyroid_pair_filt.csv\n",
      "====== STARTING  Uterine ../data/processed/fig4_modelling/tf_tf_pairs/unique_Uterine_pair_filt.csv\n",
      "num vocab found: 1\n",
      "EXIT: no tf tf pairs in loop type:  pro_loop ../data/processed/fig4_modelling/tf_tf_pairs/unique_Uterine_pair_filt.csv\n",
      "CPU times: user 2min 27s, sys: 8.32 s, total: 2min 35s\n",
      "Wall time: 2min 29s\n"
     ]
    },
    {
     "data": {
      "text/plain": [
       "(19038, 14)"
      ]
     },
     "execution_count": 68,
     "metadata": {},
     "output_type": "execute_result"
    }
   ],
   "source": [
    "%%time \n",
    "vocab_df = get_vocab(glob.glob(os.path.join(save_dir, 'unique*_filt.csv')),unique_genesets,type_loop='pro_loop')\n",
    "vocab_df.to_csv(os.path.join(save_dir, 'unique_alltissue_pro_loop_vocab_info.csv'))\n",
    "vocab_df.shape\n"
   ]
  },
  {
   "cell_type": "code",
   "execution_count": 69,
   "metadata": {
    "collapsed": true,
    "jupyter": {
     "outputs_hidden": true
    }
   },
   "outputs": [
    {
     "name": "stdout",
     "output_type": "stream",
     "text": [
      "====== STARTING  Airway ../data/processed/fig4_modelling/tf_tf_pairs/unique_Airway_pair_filt.csv\n",
      "EXIT: no data ../data/processed/fig4_modelling/tf_tf_pairs/unique_Airway_pair_filt.csv\n",
      "====== STARTING  Astrocytes ../data/processed/fig4_modelling/tf_tf_pairs/unique_Astrocytes_pair_filt.csv\n",
      "num vocab found: 253\n",
      "num tf-tf pairs in loop type found loop_loop 188\n"
     ]
    },
    {
     "name": "stderr",
     "output_type": "stream",
     "text": [
      "/Users/mguo123/opt/anaconda3/lib/python3.7/site-packages/ipykernel_launcher.py:45: SettingWithCopyWarning: \n",
      "A value is trying to be set on a copy of a slice from a DataFrame.\n",
      "Try using .loc[row_indexer,col_indexer] = value instead\n",
      "\n",
      "See the caveats in the documentation: http://pandas.pydata.org/pandas-docs/stable/user_guide/indexing.html#returning-a-view-versus-a-copy\n"
     ]
    },
    {
     "name": "stdout",
     "output_type": "stream",
     "text": [
      "vocab_tissue_df length:  1474 82\n",
      "====== STARTING  Bladder ../data/processed/fig4_modelling/tf_tf_pairs/unique_Bladder_pair_filt.csv\n",
      "num vocab found: 1\n",
      "num tf-tf pairs in loop type found loop_loop 1\n",
      "vocab_tissue_df length:  0 0\n",
      "====== STARTING  Colon ../data/processed/fig4_modelling/tf_tf_pairs/unique_Colon_pair_filt.csv\n",
      "EXIT: no data ../data/processed/fig4_modelling/tf_tf_pairs/unique_Colon_pair_filt.csv\n",
      "====== STARTING  Esophageal ../data/processed/fig4_modelling/tf_tf_pairs/unique_Esophageal_pair_filt.csv\n",
      "num vocab found: 6\n",
      "num tf-tf pairs in loop type found loop_loop 6\n",
      "vocab_tissue_df length:  8 4\n",
      "====== STARTING  GDSD6 ../data/processed/fig4_modelling/tf_tf_pairs/unique_GDSD6_pair_filt.csv\n",
      "num vocab found: 253\n",
      "num tf-tf pairs in loop type found loop_loop 236\n",
      "vocab_tissue_df length:  1185 86\n",
      "====== STARTING  GM12878 ../data/processed/fig4_modelling/tf_tf_pairs/unique_GM12878_pair_filt.csv\n",
      "num vocab found: 2701\n",
      "num tf-tf pairs in loop type found loop_loop 2689\n",
      "vocab_tissue_df length:  64904 2395\n",
      "====== STARTING  HMEC ../data/processed/fig4_modelling/tf_tf_pairs/unique_HMEC_pair_filt.csv\n",
      "num vocab found: 1\n",
      "num tf-tf pairs in loop type found loop_loop 1\n",
      "vocab_tissue_df length:  2 1\n",
      "====== STARTING  Melanocytes ../data/processed/fig4_modelling/tf_tf_pairs/unique_Melanocytes_pair_filt.csv\n",
      "num vocab found: 153\n",
      "num tf-tf pairs in loop type found loop_loop 117\n",
      "vocab_tissue_df length:  308 39\n",
      "====== STARTING  Ovarian ../data/processed/fig4_modelling/tf_tf_pairs/unique_Ovarian_pair_filt.csv\n",
      "num vocab found: 3\n",
      "num tf-tf pairs in loop type found loop_loop 3\n",
      "vocab_tissue_df length:  0 0\n",
      "====== STARTING  Pancreas ../data/processed/fig4_modelling/tf_tf_pairs/unique_Pancreas_pair_filt.csv\n",
      "EXIT: no data ../data/processed/fig4_modelling/tf_tf_pairs/unique_Pancreas_pair_filt.csv\n",
      "====== STARTING  Prostate ../data/processed/fig4_modelling/tf_tf_pairs/unique_Prostate_pair_filt.csv\n",
      "num vocab found: 105\n",
      "num tf-tf pairs in loop type found loop_loop 78\n",
      "vocab_tissue_df length:  55 36\n",
      "====== STARTING  Renal ../data/processed/fig4_modelling/tf_tf_pairs/unique_Renal_pair_filt.csv\n",
      "num vocab found: 1\n",
      "num tf-tf pairs in loop type found loop_loop 1\n",
      "vocab_tissue_df length:  3 1\n",
      "====== STARTING  Thyroid ../data/processed/fig4_modelling/tf_tf_pairs/unique_Thyroid_pair_filt.csv\n",
      "num vocab found: 1\n",
      "num tf-tf pairs in loop type found loop_loop 1\n",
      "vocab_tissue_df length:  30 1\n",
      "====== STARTING  Uterine ../data/processed/fig4_modelling/tf_tf_pairs/unique_Uterine_pair_filt.csv\n",
      "num vocab found: 1\n",
      "num tf-tf pairs in loop type found loop_loop 1\n",
      "vocab_tissue_df length:  2 1\n",
      "CPU times: user 5min 44s, sys: 16.6 s, total: 6min 1s\n",
      "Wall time: 5min 46s\n"
     ]
    },
    {
     "data": {
      "text/plain": [
       "(67971, 14)"
      ]
     },
     "execution_count": 69,
     "metadata": {},
     "output_type": "execute_result"
    }
   ],
   "source": [
    "%%time \n",
    "vocab_df = get_vocab(glob.glob(os.path.join(save_dir, 'unique*_filt.csv')),unique_genesets,type_loop='loop_loop')\n",
    "vocab_df.to_csv(os.path.join(save_dir, 'unique_alltissue_loop_loop_vocab_info.csv'))\n",
    "vocab_df.shape\n"
   ]
  },
  {
   "cell_type": "code",
   "execution_count": 228,
   "metadata": {},
   "outputs": [
    {
     "name": "stdout",
     "output_type": "stream",
     "text": [
      "====== STARTING  Airway ../data/processed/fig4_modelling/tf_tf_pairs/expr_Airway_pair_filt_unique.csv\n",
      "num vocab found: 509\n",
      "num tf-tf pairs in promoter found 267\n"
     ]
    },
    {
     "name": "stderr",
     "output_type": "stream",
     "text": [
      "/Users/mguo123/opt/anaconda3/lib/python3.7/site-packages/ipykernel_launcher.py:39: SettingWithCopyWarning: \n",
      "A value is trying to be set on a copy of a slice from a DataFrame.\n",
      "Try using .loc[row_indexer,col_indexer] = value instead\n",
      "\n",
      "See the caveats in the documentation: http://pandas.pydata.org/pandas-docs/stable/user_guide/indexing.html#returning-a-view-versus-a-copy\n"
     ]
    },
    {
     "name": "stdout",
     "output_type": "stream",
     "text": [
      "vocab_tissue_df length:  8479 267\n",
      "====== STARTING  Astrocytes ../data/processed/fig4_modelling/tf_tf_pairs/expr_Astrocytes_pair_filt_unique.csv\n",
      "num vocab found: 2904\n",
      "num tf-tf pairs in promoter found 879\n",
      "vocab_tissue_df length:  74550 879\n",
      "====== STARTING  Bladder ../data/processed/fig4_modelling/tf_tf_pairs/expr_Bladder_pair_filt_unique.csv\n",
      "num vocab found: 2100\n",
      "num tf-tf pairs in promoter found 927\n",
      "vocab_tissue_df length:  8101 927\n",
      "====== STARTING  Colon ../data/processed/fig4_modelling/tf_tf_pairs/expr_Colon_pair_filt_unique.csv\n",
      "num vocab found: 223\n",
      "num tf-tf pairs in promoter found 119\n",
      "vocab_tissue_df length:  7953 119\n",
      "====== STARTING  Esophageal ../data/processed/fig4_modelling/tf_tf_pairs/expr_Esophageal_pair_filt_unique.csv\n",
      "num vocab found: 782\n",
      "num tf-tf pairs in promoter found 476\n",
      "vocab_tissue_df length:  30441 476\n",
      "====== STARTING  GDSD6 ../data/processed/fig4_modelling/tf_tf_pairs/expr_GDSD6_pair_filt_unique.csv\n",
      "num vocab found: 3649\n",
      "num tf-tf pairs in promoter found 1722\n",
      "vocab_tissue_df length:  33235 1722\n",
      "====== STARTING  GM12878 ../data/processed/fig4_modelling/tf_tf_pairs/expr_GM12878_pair_filt_unique.csv\n",
      "num vocab found: 3287\n",
      "num tf-tf pairs in promoter found 1520\n",
      "vocab_tissue_df length:  40485 1520\n",
      "====== STARTING  HMEC ../data/processed/fig4_modelling/tf_tf_pairs/expr_HMEC_pair_filt_unique.csv\n",
      "num vocab found: 578\n",
      "num tf-tf pairs in promoter found 226\n",
      "vocab_tissue_df length:  1834 226\n",
      "====== STARTING  Melanocytes ../data/processed/fig4_modelling/tf_tf_pairs/expr_Melanocytes_pair_filt_unique.csv\n",
      "num vocab found: 1181\n",
      "num tf-tf pairs in promoter found 407\n",
      "vocab_tissue_df length:  16151 407\n",
      "====== STARTING  Ovarian ../data/processed/fig4_modelling/tf_tf_pairs/expr_Ovarian_pair_filt_unique.csv\n",
      "num vocab found: 3067\n",
      "num tf-tf pairs in promoter found 2058\n",
      "vocab_tissue_df length:  191149 2058\n",
      "====== STARTING  Pancreas ../data/processed/fig4_modelling/tf_tf_pairs/expr_Pancreas_pair_filt_unique.csv\n",
      "num vocab found: 547\n",
      "num tf-tf pairs in promoter found 200\n",
      "vocab_tissue_df length:  4881 200\n",
      "====== STARTING  Prostate ../data/processed/fig4_modelling/tf_tf_pairs/expr_Prostate_pair_filt_unique.csv\n",
      "num vocab found: 4077\n",
      "num tf-tf pairs in promoter found 1996\n",
      "vocab_tissue_df length:  60464 1996\n",
      "====== STARTING  Renal ../data/processed/fig4_modelling/tf_tf_pairs/expr_Renal_pair_filt_unique.csv\n",
      "num vocab found: 190\n",
      "num tf-tf pairs in promoter found 112\n",
      "vocab_tissue_df length:  2800 112\n",
      "====== STARTING  Thyroid ../data/processed/fig4_modelling/tf_tf_pairs/expr_Thyroid_pair_filt_unique.csv\n",
      "num vocab found: 225\n",
      "num tf-tf pairs in promoter found 124\n",
      "vocab_tissue_df length:  3750 124\n",
      "====== STARTING  Uterine ../data/processed/fig4_modelling/tf_tf_pairs/expr_Uterine_pair_filt_unique.csv\n",
      "num vocab found: 6114\n",
      "num tf-tf pairs in promoter found 3109\n",
      "vocab_tissue_df length:  48061 3109\n",
      "CPU times: user 37min 6s, sys: 2min 54s, total: 40min\n",
      "Wall time: 34min 17s\n"
     ]
    }
   ],
   "source": [
    "%%time \n",
    "vocab_df_expr = get_vocab(glob.glob(os.path.join(save_dir, 'expr*_filt_unique.csv')), expr_genesets, \n",
    "                          savepath=os.path.join(save_dir, 'expr_'))\n",
    "# vocab_df_expr.to_csv(os.path.join(save_dir, 'expr_alltissue_vocab_info.csv'))"
   ]
  },
  {
   "cell_type": "code",
   "execution_count": 76,
   "metadata": {},
   "outputs": [
    {
     "name": "stdout",
     "output_type": "stream",
     "text": [
      "====== STARTING  Airway ../data/processed/fig4_modelling/tf_tf_pairs/expr_Airway_pair_filt_unique.csv\n",
      "num vocab found: 509\n",
      "saving loop type info ../data/processed/fig4_modelling/tf_tf_pairs/expr_Airway_loop_type.csv\n",
      "num tf-tf pairs in loop type found loop_loop 509\n"
     ]
    },
    {
     "name": "stderr",
     "output_type": "stream",
     "text": [
      "/Users/mguo123/opt/anaconda3/lib/python3.7/site-packages/ipykernel_launcher.py:48: SettingWithCopyWarning: \n",
      "A value is trying to be set on a copy of a slice from a DataFrame.\n",
      "Try using .loc[row_indexer,col_indexer] = value instead\n",
      "\n",
      "See the caveats in the documentation: http://pandas.pydata.org/pandas-docs/stable/user_guide/indexing.html#returning-a-view-versus-a-copy\n"
     ]
    },
    {
     "name": "stdout",
     "output_type": "stream",
     "text": [
      "vocab_tissue_df length:  24010 466\n",
      "saved ../data/processed/fig4_modelling/tf_tf_pairs/expr_Airway_loop_loop_vocab_info.csv\n",
      "====== STARTING  Astrocytes ../data/processed/fig4_modelling/tf_tf_pairs/expr_Astrocytes_pair_filt_unique.csv\n",
      "num vocab found: 2904\n",
      "saving loop type info ../data/processed/fig4_modelling/tf_tf_pairs/expr_Astrocytes_loop_type.csv\n",
      "num tf-tf pairs in loop type found loop_loop 2793\n",
      "vocab_tissue_df length:  136610 1614\n",
      "saved ../data/processed/fig4_modelling/tf_tf_pairs/expr_Astrocytes_loop_loop_vocab_info.csv\n",
      "====== STARTING  Bladder ../data/processed/fig4_modelling/tf_tf_pairs/expr_Bladder_pair_filt_unique.csv\n",
      "num vocab found: 2100\n",
      "saving loop type info ../data/processed/fig4_modelling/tf_tf_pairs/expr_Bladder_loop_type.csv\n",
      "num tf-tf pairs in loop type found loop_loop 2099\n",
      "vocab_tissue_df length:  54839 1989\n",
      "saved ../data/processed/fig4_modelling/tf_tf_pairs/expr_Bladder_loop_loop_vocab_info.csv\n",
      "====== STARTING  Colon ../data/processed/fig4_modelling/tf_tf_pairs/expr_Colon_pair_filt_unique.csv\n",
      "num vocab found: 223\n",
      "saving loop type info ../data/processed/fig4_modelling/tf_tf_pairs/expr_Colon_loop_type.csv\n",
      "num tf-tf pairs in loop type found loop_loop 223\n",
      "vocab_tissue_df length:  67136 220\n",
      "saved ../data/processed/fig4_modelling/tf_tf_pairs/expr_Colon_loop_loop_vocab_info.csv\n",
      "====== STARTING  Esophageal ../data/processed/fig4_modelling/tf_tf_pairs/expr_Esophageal_pair_filt_unique.csv\n",
      "num vocab found: 782\n",
      "saving loop type info ../data/processed/fig4_modelling/tf_tf_pairs/expr_Esophageal_loop_type.csv\n",
      "num tf-tf pairs in loop type found loop_loop 782\n",
      "vocab_tissue_df length:  236888 781\n",
      "saved ../data/processed/fig4_modelling/tf_tf_pairs/expr_Esophageal_loop_loop_vocab_info.csv\n",
      "====== STARTING  GDSD6 ../data/processed/fig4_modelling/tf_tf_pairs/expr_GDSD6_pair_filt_unique.csv\n",
      "num vocab found: 3649\n",
      "saving loop type info ../data/processed/fig4_modelling/tf_tf_pairs/expr_GDSD6_loop_type.csv\n",
      "num tf-tf pairs in loop type found loop_loop 3645\n",
      "vocab_tissue_df length:  264771 3514\n",
      "saved ../data/processed/fig4_modelling/tf_tf_pairs/expr_GDSD6_loop_loop_vocab_info.csv\n",
      "====== STARTING  GM12878 ../data/processed/fig4_modelling/tf_tf_pairs/expr_GM12878_pair_filt_unique.csv\n",
      "num vocab found: 3287\n",
      "saving loop type info ../data/processed/fig4_modelling/tf_tf_pairs/expr_GM12878_loop_type.csv\n",
      "num tf-tf pairs in loop type found loop_loop 3286\n",
      "vocab_tissue_df length:  331883 3135\n",
      "saved ../data/processed/fig4_modelling/tf_tf_pairs/expr_GM12878_loop_loop_vocab_info.csv\n",
      "====== STARTING  HMEC ../data/processed/fig4_modelling/tf_tf_pairs/expr_HMEC_pair_filt_unique.csv\n",
      "num vocab found: 578\n",
      "saving loop type info ../data/processed/fig4_modelling/tf_tf_pairs/expr_HMEC_loop_type.csv\n",
      "num tf-tf pairs in loop type found loop_loop 577\n",
      "vocab_tissue_df length:  12542 537\n",
      "saved ../data/processed/fig4_modelling/tf_tf_pairs/expr_HMEC_loop_loop_vocab_info.csv\n",
      "====== STARTING  Melanocytes ../data/processed/fig4_modelling/tf_tf_pairs/expr_Melanocytes_pair_filt_unique.csv\n",
      "num vocab found: 1181\n",
      "saving loop type info ../data/processed/fig4_modelling/tf_tf_pairs/expr_Melanocytes_loop_type.csv\n",
      "num tf-tf pairs in loop type found loop_loop 1109\n",
      "vocab_tissue_df length:  27006 723\n",
      "saved ../data/processed/fig4_modelling/tf_tf_pairs/expr_Melanocytes_loop_loop_vocab_info.csv\n",
      "====== STARTING  Ovarian ../data/processed/fig4_modelling/tf_tf_pairs/expr_Ovarian_pair_filt_unique.csv\n",
      "num vocab found: 3067\n",
      "saving loop type info ../data/processed/fig4_modelling/tf_tf_pairs/expr_Ovarian_loop_type.csv\n",
      "num tf-tf pairs in loop type found loop_loop 3067\n",
      "vocab_tissue_df length:  699819 2986\n",
      "saved ../data/processed/fig4_modelling/tf_tf_pairs/expr_Ovarian_loop_loop_vocab_info.csv\n",
      "====== STARTING  Pancreas ../data/processed/fig4_modelling/tf_tf_pairs/expr_Pancreas_pair_filt_unique.csv\n",
      "num vocab found: 547\n",
      "saving loop type info ../data/processed/fig4_modelling/tf_tf_pairs/expr_Pancreas_loop_type.csv\n",
      "num tf-tf pairs in loop type found loop_loop 547\n",
      "vocab_tissue_df length:  43683 505\n",
      "saved ../data/processed/fig4_modelling/tf_tf_pairs/expr_Pancreas_loop_loop_vocab_info.csv\n",
      "====== STARTING  Prostate ../data/processed/fig4_modelling/tf_tf_pairs/expr_Prostate_pair_filt_unique.csv\n",
      "num vocab found: 4077\n",
      "saving loop type info ../data/processed/fig4_modelling/tf_tf_pairs/expr_Prostate_loop_type.csv\n",
      "num tf-tf pairs in loop type found loop_loop 4057\n",
      "vocab_tissue_df length:  292823 3627\n",
      "saved ../data/processed/fig4_modelling/tf_tf_pairs/expr_Prostate_loop_loop_vocab_info.csv\n",
      "====== STARTING  Renal ../data/processed/fig4_modelling/tf_tf_pairs/expr_Renal_pair_filt_unique.csv\n",
      "num vocab found: 190\n",
      "saving loop type info ../data/processed/fig4_modelling/tf_tf_pairs/expr_Renal_loop_type.csv\n",
      "num tf-tf pairs in loop type found loop_loop 190\n",
      "vocab_tissue_df length:  23387 190\n",
      "saved ../data/processed/fig4_modelling/tf_tf_pairs/expr_Renal_loop_loop_vocab_info.csv\n",
      "====== STARTING  Thyroid ../data/processed/fig4_modelling/tf_tf_pairs/expr_Thyroid_pair_filt_unique.csv\n",
      "num vocab found: 225\n",
      "saving loop type info ../data/processed/fig4_modelling/tf_tf_pairs/expr_Thyroid_loop_type.csv\n",
      "num tf-tf pairs in loop type found loop_loop 225\n",
      "vocab_tissue_df length:  39131 224\n",
      "saved ../data/processed/fig4_modelling/tf_tf_pairs/expr_Thyroid_loop_loop_vocab_info.csv\n",
      "====== STARTING  Uterine ../data/processed/fig4_modelling/tf_tf_pairs/expr_Uterine_pair_filt_unique.csv\n",
      "num vocab found: 6114\n",
      "saving loop type info ../data/processed/fig4_modelling/tf_tf_pairs/expr_Uterine_loop_type.csv\n",
      "num tf-tf pairs in loop type found loop_loop 6114\n",
      "vocab_tissue_df length:  525874 6053\n",
      "saved ../data/processed/fig4_modelling/tf_tf_pairs/expr_Uterine_loop_loop_vocab_info.csv\n",
      "CPU times: user 7h 5min 22s, sys: 7min 18s, total: 7h 12min 41s\n",
      "Wall time: 1h 38min 52s\n"
     ]
    }
   ],
   "source": [
    "%%time \n",
    "vocab_df_expr_loop_loop = get_vocab(glob.glob(os.path.join(save_dir, 'expr*_filt_unique.csv')), expr_genesets, \n",
    "                          savepath=os.path.join(save_dir, 'expr_'),\n",
    "                     type_loop='loop_loop',save_loop_count=os.path.join(save_dir, 'expr_'))\n",
    "# vocab_df_expr.to_csv(os.path.join(save_dir, 'expr_alltissue_vocab_info.csv'))"
   ]
  },
  {
   "cell_type": "markdown",
   "metadata": {},
   "source": [
    "### redo melanocytes"
   ]
  },
  {
   "cell_type": "code",
   "execution_count": 54,
   "metadata": {},
   "outputs": [
    {
     "name": "stdout",
     "output_type": "stream",
     "text": [
      "====== STARTING  Melanocytes ../data/processed/fig4_modelling/tf_tf_pairs/expr_Melanocytes_pair_filt_unique.csv\n",
      "num vocab found: 1681\n",
      "num tf-tf pairs in loop type found pro_pro 583\n"
     ]
    },
    {
     "name": "stderr",
     "output_type": "stream",
     "text": [
      "/Users/mguo123/opt/anaconda3/lib/python3.7/site-packages/ipykernel_launcher.py:48: SettingWithCopyWarning: \n",
      "A value is trying to be set on a copy of a slice from a DataFrame.\n",
      "Try using .loc[row_indexer,col_indexer] = value instead\n",
      "\n",
      "See the caveats in the documentation: http://pandas.pydata.org/pandas-docs/stable/user_guide/indexing.html#returning-a-view-versus-a-copy\n"
     ]
    },
    {
     "name": "stdout",
     "output_type": "stream",
     "text": [
      "vocab_tissue_df length:  20164 583\n",
      "saved ../data/processed/fig4_modelling/tf_tf_pairs/expr_Melanocytes_pro_pro_vocab_info.csv\n",
      "CPU times: user 1min 19s, sys: 5.61 s, total: 1min 25s\n",
      "Wall time: 1min 24s\n"
     ]
    }
   ],
   "source": [
    "%%time \n",
    "vocab_df_expr = get_vocab([ '../data/processed/fig4_modelling/tf_tf_pairs/expr_Melanocytes_pair_filt_unique.csv'], expr_genesets, \n",
    "                          savepath=os.path.join(save_dir, 'expr_'))\n",
    "# vocab_df_expr.to_csv(os.path.join(save_dir, 'expr_alltissue_vocab_info.csv'))"
   ]
  },
  {
   "cell_type": "markdown",
   "metadata": {},
   "source": [
    "====== STARTING  Melanocytes ../data/processed/fig4_modelling/tf_tf_pairs/expr_Melanocytes_pair_filt_unique.csv\n",
    "num vocab found: 1181\n",
    "saving loop type info ../data/processed/fig4_modelling/tf_tf_pairs/expr_Melanocytes_loop_type.csv\n",
    "num tf-tf pairs in loop type found loop_loop 1109\n",
    "vocab_tissue_df length:  27006 723\n",
    "saved ../data/processed/fig4_modelling/tf_tf_pairs/expr_Melanocytes_loop_loop_vocab_info.csv"
   ]
  },
  {
   "cell_type": "code",
   "execution_count": 55,
   "metadata": {},
   "outputs": [
    {
     "name": "stdout",
     "output_type": "stream",
     "text": [
      "====== STARTING  Melanocytes ../data/processed/fig4_modelling/tf_tf_pairs/expr_Melanocytes_pair_filt_unique.csv\n",
      "num vocab found: 1681\n",
      "saving loop type info ../data/processed/fig4_modelling/tf_tf_pairs/expr_Melanocytes_loop_type.csv\n",
      "num tf-tf pairs in loop type found loop_loop 1585\n"
     ]
    },
    {
     "name": "stderr",
     "output_type": "stream",
     "text": [
      "/Users/mguo123/opt/anaconda3/lib/python3.7/site-packages/ipykernel_launcher.py:48: SettingWithCopyWarning: \n",
      "A value is trying to be set on a copy of a slice from a DataFrame.\n",
      "Try using .loc[row_indexer,col_indexer] = value instead\n",
      "\n",
      "See the caveats in the documentation: http://pandas.pydata.org/pandas-docs/stable/user_guide/indexing.html#returning-a-view-versus-a-copy\n"
     ]
    },
    {
     "name": "stdout",
     "output_type": "stream",
     "text": [
      "vocab_tissue_df length:  33975 1042\n",
      "saved ../data/processed/fig4_modelling/tf_tf_pairs/expr_Melanocytes_loop_loop_vocab_info.csv\n",
      "CPU times: user 2min 36s, sys: 10.9 s, total: 2min 46s\n",
      "Wall time: 2min 46s\n"
     ]
    }
   ],
   "source": [
    "%%time \n",
    "vocab_df_expr_loop_loop = get_vocab([ '../data/processed/fig4_modelling/tf_tf_pairs/expr_Melanocytes_pair_filt_unique.csv'], expr_genesets, \n",
    "                          savepath=os.path.join(save_dir, 'expr_'),\n",
    "                     type_loop='loop_loop',save_loop_count=os.path.join(save_dir, 'expr_'))\n",
    "# vocab_df_expr.to_csv(os.path.join(save_dir, 'expr_alltissue_vocab_info.csv'))"
   ]
  },
  {
   "cell_type": "markdown",
   "metadata": {},
   "source": [
    "## doing GDSD0 \n"
   ]
  },
  {
   "cell_type": "code",
   "execution_count": 67,
   "metadata": {},
   "outputs": [
    {
     "name": "stdout",
     "output_type": "stream",
     "text": [
      "====== STARTING  GDSD0 ../data/processed/fig4_modelling/tf_tf_pairs/expr_GDSD0_pair_filt_unique.csv\n",
      "num vocab found: 5171\n",
      "num tf-tf pairs in loop type found pro_pro 2553\n"
     ]
    },
    {
     "name": "stderr",
     "output_type": "stream",
     "text": [
      "/Users/mguo123/opt/anaconda3/lib/python3.7/site-packages/ipykernel_launcher.py:48: SettingWithCopyWarning: \n",
      "A value is trying to be set on a copy of a slice from a DataFrame.\n",
      "Try using .loc[row_indexer,col_indexer] = value instead\n",
      "\n",
      "See the caveats in the documentation: http://pandas.pydata.org/pandas-docs/stable/user_guide/indexing.html#returning-a-view-versus-a-copy\n"
     ]
    },
    {
     "name": "stdout",
     "output_type": "stream",
     "text": [
      "vocab_tissue_df length:  39199 2553\n",
      "saved ../data/processed/fig4_modelling/tf_tf_pairs/expr_GDSD0_pro_pro_vocab_info.csv\n",
      "CPU times: user 4min 47s, sys: 13.8 s, total: 5min 1s\n",
      "Wall time: 5min 1s\n"
     ]
    }
   ],
   "source": [
    "%%time \n",
    "vocab_df_expr = get_vocab([ '../data/processed/fig4_modelling/tf_tf_pairs/expr_GDSD0_pair_filt_unique.csv'], expr_genesets, \n",
    "                          savepath=os.path.join(save_dir, 'expr_'))\n",
    "# vocab_df_expr.to_csv(os.path.join(save_dir, 'expr_alltissue_vocab_info.csv'))"
   ]
  },
  {
   "cell_type": "code",
   "execution_count": 68,
   "metadata": {},
   "outputs": [
    {
     "name": "stdout",
     "output_type": "stream",
     "text": [
      "====== STARTING  GDSD0 ../data/processed/fig4_modelling/tf_tf_pairs/expr_GDSD0_pair_filt_unique.csv\n",
      "num vocab found: 5171\n",
      "saving loop type info ../data/processed/fig4_modelling/tf_tf_pairs/expr_GDSD0_loop_type.csv\n",
      "num tf-tf pairs in loop type found loop_loop 5170\n"
     ]
    },
    {
     "name": "stderr",
     "output_type": "stream",
     "text": [
      "/Users/mguo123/opt/anaconda3/lib/python3.7/site-packages/ipykernel_launcher.py:48: SettingWithCopyWarning: \n",
      "A value is trying to be set on a copy of a slice from a DataFrame.\n",
      "Try using .loc[row_indexer,col_indexer] = value instead\n",
      "\n",
      "See the caveats in the documentation: http://pandas.pydata.org/pandas-docs/stable/user_guide/indexing.html#returning-a-view-versus-a-copy\n"
     ]
    },
    {
     "name": "stdout",
     "output_type": "stream",
     "text": [
      "vocab_tissue_df length:  236963 4940\n",
      "saved ../data/processed/fig4_modelling/tf_tf_pairs/expr_GDSD0_loop_loop_vocab_info.csv\n",
      "CPU times: user 48min 56s, sys: 1min 22s, total: 50min 19s\n",
      "Wall time: 15min 43s\n"
     ]
    }
   ],
   "source": [
    "%%time \n",
    "vocab_df_expr_loop_loop = get_vocab([ '../data/processed/fig4_modelling/tf_tf_pairs/expr_GDSD0_pair_filt_unique.csv'], expr_genesets, \n",
    "                          savepath=os.path.join(save_dir, 'expr_'),\n",
    "                     type_loop='loop_loop',save_loop_count=os.path.join(save_dir, 'expr_'))\n",
    "# vocab_df_expr.to_csv(os.path.join(save_dir, 'expr_alltissue_vocab_info.csv'))"
   ]
  },
  {
   "cell_type": "code",
   "execution_count": null,
   "metadata": {},
   "outputs": [],
   "source": []
  },
  {
   "cell_type": "markdown",
   "metadata": {},
   "source": [
    "## doing GDSD3\n"
   ]
  },
  {
   "cell_type": "code",
   "execution_count": 69,
   "metadata": {},
   "outputs": [
    {
     "name": "stdout",
     "output_type": "stream",
     "text": [
      "====== STARTING  GDSD3 ../data/processed/fig4_modelling/tf_tf_pairs/expr_GDSD3_pair_filt_unique.csv\n",
      "num vocab found: 1336\n",
      "EXIT: no tf tf pairs in loop type:  pro_pro ../data/processed/fig4_modelling/tf_tf_pairs/expr_GDSD3_pair_filt_unique.csv\n",
      "CPU times: user 26.2 s, sys: 94.2 ms, total: 26.3 s\n",
      "Wall time: 26.4 s\n"
     ]
    }
   ],
   "source": [
    "%%time \n",
    "vocab_df_expr = get_vocab([ '../data/processed/fig4_modelling/tf_tf_pairs/expr_GDSD3_pair_filt_unique.csv'], expr_genesets, \n",
    "                          savepath=os.path.join(save_dir, 'expr_'))\n",
    "# vocab_df_expr.to_csv(os.path.join(save_dir, 'expr_alltissue_vocab_info.csv'))"
   ]
  },
  {
   "cell_type": "code",
   "execution_count": 70,
   "metadata": {},
   "outputs": [
    {
     "name": "stdout",
     "output_type": "stream",
     "text": [
      "====== STARTING  GDSD3 ../data/processed/fig4_modelling/tf_tf_pairs/expr_GDSD3_pair_filt_unique.csv\n",
      "num vocab found: 1336\n",
      "saving loop type info ../data/processed/fig4_modelling/tf_tf_pairs/expr_GDSD3_loop_type.csv\n",
      "EXIT: no tf tf pairs in loop type:  loop_loop ../data/processed/fig4_modelling/tf_tf_pairs/expr_GDSD3_pair_filt_unique.csv\n",
      "CPU times: user 27.3 s, sys: 94.2 ms, total: 27.4 s\n",
      "Wall time: 27.5 s\n"
     ]
    }
   ],
   "source": [
    "%%time \n",
    "vocab_df_expr_loop_loop = get_vocab([ '../data/processed/fig4_modelling/tf_tf_pairs/expr_GDSD3_pair_filt_unique.csv'], expr_genesets, \n",
    "                          savepath=os.path.join(save_dir, 'expr_'),\n",
    "                     type_loop='loop_loop',save_loop_count=os.path.join(save_dir, 'expr_'))\n",
    "# vocab_df_expr.to_csv(os.path.join(save_dir, 'expr_alltissue_vocab_info.csv'))"
   ]
  },
  {
   "cell_type": "markdown",
   "metadata": {},
   "source": [
    "# debug\n",
    "3/21/2021\n",
    "\n",
    "So I can't find any of the significant COLO vocabs/genes they loop to in '../data/processed/fig4_modelling/tf_tf_pairs_mm_expr_COLO-SCR-DMSO_loop_type.csv' ... is there somewhere else I should be looking? (edited) \n",
    "\n",
    "\n"
   ]
  },
  {
   "cell_type": "code",
   "execution_count": null,
   "metadata": {},
   "outputs": [],
   "source": [
    "        tissue = os.path.basename(filepath).split('_')[1]\n",
    "        print('====== STARTING ',tissue, filepath)\n",
    "\n",
    "        # read file\n",
    "        df = pd.read_csv(filepath, index_col=0)\n",
    "        if df.shape[0]==0:\n",
    "            print('EXIT: no data', filepath)\n",
    "            continue\n",
    "        else:\n",
    "            print('num vocab found:', df.shape[0])\n",
    "\n",
    "        # get tf tf pair types\n",
    "        tf_tf_pair_feat = {}\n",
    "        for tf_tf_pair in df.tf_key:\n",
    "            tf_tf_pair_feat[tf_tf_pair] = check_tf_tf_loop_occur(tf_tf_pair, tissue, genesets_dict)\n",
    "        df_tf_key_type = pd.DataFrame.from_dict(tf_tf_pair_feat,orient='index')\n",
    "\n",
    "        # get pro_pro OR loop_loop or looponly (PART TO CHANGE IN FUTURE)\n",
    "        if type_loop in ['pro_pro','loop_loop','pro_loop']:\n",
    "            if save_loop_count is not None:\n",
    "                print('saving loop type info', save_loop_count+tissue+'_loop_type.csv')\n",
    "                df_tf_key_type.to_csv(save_loop_count+tissue+'_loop_type.csv')\n",
    "        else:\n",
    "            print('vocab type not correct', type_loop)\n",
    "            raise            \n",
    "        df_tf_filt = df_tf_key_type[df_tf_key_type[type_loop+'_count']>0]    \n",
    "        \n",
    "        \n",
    "        # get locations of vocab points\n",
    "        if df_tf_filt.shape[0]==0:\n",
    "            print('EXIT: no tf tf pairs in loop type: ', type_loop, filepath)\n",
    "            continue   \n",
    "        else:\n",
    "            print('num tf-tf pairs in loop type found', type_loop,  df_tf_filt.shape[0])\n",
    "\n",
    "        vocab_tissue_df = pd.DataFrame()\n",
    "        foot_df = pd.read_csv(os.path.join('../data/interim/annon/promoter_motif_scan/','promoter_'+tissue+'_annon.bed'),sep='\\t',header=None)\n",
    "        foot_df.columns = ['chr','start','stop','TSS','chr_m','start_m','stop_m','id_trim','score','strand']\n",
    "        for tf_pair, row in df_tf_filt.iterrows():\n",
    "            tf_arr = tf_pair.split('::')\n",
    "#             print(row)\n",
    "            genes_pro_only = row[type_loop+'_genes'].split('|')\n",
    "            foot_df_sel = foot_df[foot_df.TSS.isin(genes_pro_only)]\n",
    "            foot_df_sel['tf'] = foot_df_sel.id_trim.map(tf_id_to_name_dict)\n",
    "            foot_df_sel = foot_df_sel[foot_df_sel.tf.isin(tf_arr)].drop_duplicates()\n",
    "            foot_df_sel['vocab'] = tf_pair\n",
    "            foot_df_sel['genes'] = row[type_loop+'_genes']\n",
    "            vocab_tissue_df = pd.concat([vocab_tissue_df, foot_df_sel],axis=0,sort=False)\n",
    "\n",
    "        vocab_tissue_df['tissue'] = tissue\n",
    "        print('vocab_tissue_df length: ', vocab_tissue_df.shape[0], len(vocab_tissue_df.vocab.unique()))\n",
    "        if savepath is not None:\n",
    "            print('saved', savepath+tissue+\"_\"+type_loop+'_vocab_info.csv')\n",
    "            vocab_tissue_df.to_csv(savepath+tissue+\"_\"+type_loop+'_vocab_info.csv')\n",
    "        \n",
    "        if savepath is None:\n",
    "            vocab_df = pd.concat([vocab_df,vocab_tissue_df ],axis=0,sort=False)\n"
   ]
  }
 ],
 "metadata": {
  "kernelspec": {
   "display_name": "Python 3",
   "language": "python",
   "name": "python3"
  },
  "language_info": {
   "codemirror_mode": {
    "name": "ipython",
    "version": 3
   },
   "file_extension": ".py",
   "mimetype": "text/x-python",
   "name": "python",
   "nbconvert_exporter": "python",
   "pygments_lexer": "ipython3",
   "version": "3.7.4"
  }
 },
 "nbformat": 4,
 "nbformat_minor": 4
}
