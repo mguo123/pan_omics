{
 "cells": [
  {
   "cell_type": "markdown",
   "metadata": {},
   "source": [
    "5/6/2020"
   ]
  },
  {
   "cell_type": "code",
   "execution_count": 1,
   "metadata": {},
   "outputs": [],
   "source": [
    "import os, glob\n",
    "import pandas as pd\n"
   ]
  },
  {
   "cell_type": "code",
   "execution_count": 4,
   "metadata": {},
   "outputs": [],
   "source": [
    "normal_tissues = ['Airway','Astrocytes','Bladder','Colon','Esophageal',\n",
    "'GDSD0',\n",
    "'GDSD3',\n",
    "'GDSD6',\n",
    "'GM12878',\n",
    "'HMEC',\n",
    "'Melanocytes',\n",
    "'Ovarian',\n",
    "'Pancreas',\n",
    "'Prostate',\n",
    "'Renal',\n",
    "'Thyroid',\n",
    "'Uterine']"
   ]
  },
  {
   "cell_type": "code",
   "execution_count": null,
   "metadata": {},
   "outputs": [],
   "source": [
    "def get_alpha(row):\n",
    "    return '::'.join(sorted([row['source'], row['target']]))"
   ]
  },
  {
   "cell_type": "code",
   "execution_count": 20,
   "metadata": {},
   "outputs": [
    {
     "name": "stdout",
     "output_type": "stream",
     "text": [
      "../data/interim/merged/loops/Airway.loops.csv\n",
      "../data/interim/merged/loops/Astrocytes.loops.csv\n",
      "../data/interim/merged/loops/Bladder.loops.csv\n",
      "../data/interim/merged/loops/Colon.loops.csv\n",
      "../data/interim/merged/loops/Esophageal.loops.csv\n",
      "../data/interim/merged/loops/GDSD0.loops.csv\n",
      "../data/interim/merged/loops/GDSD3.loops.csv\n",
      "../data/interim/merged/loops/GDSD6.loops.csv\n",
      "../data/interim/merged/loops/GM12878.loops.csv\n",
      "../data/interim/merged/loops/HMEC.loops.csv\n",
      "../data/interim/merged/loops/Melanocytes.loops.csv\n",
      "../data/interim/merged/loops/Ovarian.loops.csv\n",
      "../data/interim/merged/loops/Pancreas.loops.csv\n",
      "../data/interim/merged/loops/Prostate.loops.csv\n",
      "../data/interim/merged/loops/Renal.loops.csv\n",
      "../data/interim/merged/loops/Thyroid.loops.csv\n",
      "../data/interim/merged/loops/Uterine.loops.csv\n"
     ]
    }
   ],
   "source": [
    "tissue_loop_dict = {}\n",
    "for file in sorted(glob.glob('../data/interim/merged/loops/*csv')):\n",
    "    filename = os.path.basename(file)\n",
    "    tissue = filename.split('.')[0]\n",
    "    if tissue in normal_tissues:\n",
    "        print(file)\n",
    "        df = pd.read_csv(file, index_col=0)\n",
    "        df['loop_name'] = df[['source','target']].apply(get_alpha,axis=1)\n",
    "        per_tissue_loop_dict = pd.Series(df['count'].values, index=df.loop_name.values).to_dict()\n",
    "        tissue_loop_dict[tissue] = per_tissue_loop_dict\n",
    "        "
   ]
  },
  {
   "cell_type": "code",
   "execution_count": 24,
   "metadata": {},
   "outputs": [],
   "source": [
    "tissue_loop_df = pd.DataFrame(tissue_loop_dict).fillna(0)"
   ]
  },
  {
   "cell_type": "code",
   "execution_count": 22,
   "metadata": {},
   "outputs": [],
   "source": [
    "save_dir = '../data/processed/fig1/hichip'\n",
    "if not os.path.exists(save_dir):\n",
    "    os.makedirs(save_dir)"
   ]
  },
  {
   "cell_type": "code",
   "execution_count": 28,
   "metadata": {},
   "outputs": [],
   "source": [
    "tissue_loop_df.to_csv(os.path.join(save_dir,'tissue_loop_df.csv'))"
   ]
  },
  {
   "cell_type": "code",
   "execution_count": null,
   "metadata": {},
   "outputs": [],
   "source": []
  }
 ],
 "metadata": {
  "kernelspec": {
   "display_name": "Python 3",
   "language": "python",
   "name": "python3"
  },
  "language_info": {
   "codemirror_mode": {
    "name": "ipython",
    "version": 3
   },
   "file_extension": ".py",
   "mimetype": "text/x-python",
   "name": "python",
   "nbconvert_exporter": "python",
   "pygments_lexer": "ipython3",
   "version": "3.7.4"
  }
 },
 "nbformat": 4,
 "nbformat_minor": 4
}
