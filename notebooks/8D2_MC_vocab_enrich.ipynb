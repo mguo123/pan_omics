{
 "cells": [
  {
   "cell_type": "markdown",
   "metadata": {},
   "source": [
    "08/04/2020\n",
    "\n",
    "Melanocyte Vocab Finder"
   ]
  },
  {
   "cell_type": "code",
   "execution_count": 1,
   "metadata": {},
   "outputs": [],
   "source": [
    "# basic packages\n",
    "import os, glob\n",
    "import pandas as pd\n",
    "import numpy as np; np.random.seed(0)\n",
    "import itertools\n",
    "from collections import Counter, defaultdict\n",
    "import time\n",
    "# Import tools needed for visualization\n",
    "import seaborn as sns; sns.set()\n",
    "import matplotlib\n",
    "import matplotlib.pyplot as plt"
   ]
  },
  {
   "cell_type": "code",
   "execution_count": 2,
   "metadata": {},
   "outputs": [],
   "source": [
    "save_dir = '../data/processed/fig4_modelling/vocab_sum/'\n",
    "if not os.path.exists(save_dir):\n",
    "    os.makedirs(save_dir)"
   ]
  },
  {
   "cell_type": "code",
   "execution_count": 3,
   "metadata": {},
   "outputs": [],
   "source": [
    "TISSUE = 'Melanocytes'"
   ]
  },
  {
   "cell_type": "code",
   "execution_count": 4,
   "metadata": {},
   "outputs": [],
   "source": [
    "MAX_DIST=135\n"
   ]
  },
  {
   "cell_type": "code",
   "execution_count": 5,
   "metadata": {},
   "outputs": [
    {
     "name": "stdout",
     "output_type": "stream",
     "text": [
      "28\n",
      "['ATF4', 'CERS2', 'CSDE1', 'EDF1', 'EIF3K', 'ETS1', 'EWSR1', 'H1F0', 'HMG20B', 'HMGB1', 'IFI16', 'IRF4', 'LEF1', 'MITF', 'NFE2L1', 'PAX3', 'PHB2', 'PLXNC1', 'RB1', 'SNAI2', 'SOX10', 'SREBF2', 'TCEAL8', 'TFAP2A', 'USF2', 'YBX1', 'YY1', 'ZFP106']\n"
     ]
    }
   ],
   "source": [
    "#get tfs\n",
    "tf_df = pd.read_csv('../data/external/transcription_factor_info_063020.csv')\n",
    "TFS = sorted(set(tf_df[tf_df['cell_type']=='Melanocytes'][\"tf\"]))##### DIFFERENT FOR EACH TISSUE\n",
    "print(len(TFS))\n",
    "print(TFS)\n"
   ]
  },
  {
   "cell_type": "code",
   "execution_count": 6,
   "metadata": {},
   "outputs": [],
   "source": [
    "vocab_dir = '../data/processed/fig4_modelling/tf_tf_pairs/'"
   ]
  },
  {
   "cell_type": "markdown",
   "metadata": {},
   "source": [
    "read in loop_types"
   ]
  },
  {
   "cell_type": "code",
   "execution_count": 7,
   "metadata": {},
   "outputs": [
    {
     "data": {
      "text/plain": [
       "['../data/processed/fig4_modelling/tf_tf_pairs/expr_Astrocytes_loop_type.csv',\n",
       " '../data/processed/fig4_modelling/tf_tf_pairs/expr_GM12878_loop_type.csv',\n",
       " '../data/processed/fig4_modelling/tf_tf_pairs/expr_Thyroid_loop_type.csv',\n",
       " '../data/processed/fig4_modelling/tf_tf_pairs/expr_GDSD0_loop_type.csv',\n",
       " '../data/processed/fig4_modelling/tf_tf_pairs/unique_Astrocytes_loop_type.csv',\n",
       " '../data/processed/fig4_modelling/tf_tf_pairs/expr_Esophageal_loop_type.csv',\n",
       " '../data/processed/fig4_modelling/tf_tf_pairs/unique_HMEC_loop_type.csv',\n",
       " '../data/processed/fig4_modelling/tf_tf_pairs/unique_Esophageal_loop_type.csv',\n",
       " '../data/processed/fig4_modelling/tf_tf_pairs/expr_Prostate_loop_type.csv',\n",
       " '../data/processed/fig4_modelling/tf_tf_pairs/expr_GDSD3_loop_type.csv',\n",
       " '../data/processed/fig4_modelling/tf_tf_pairs/expr_Colon_loop_type.csv',\n",
       " '../data/processed/fig4_modelling/tf_tf_pairs/unique_Ovarian_loop_type.csv',\n",
       " '../data/processed/fig4_modelling/tf_tf_pairs/expr_Airway_loop_type.csv',\n",
       " '../data/processed/fig4_modelling/tf_tf_pairs/unique_Uterine_loop_type.csv',\n",
       " '../data/processed/fig4_modelling/tf_tf_pairs/unique_Melanocytes_loop_type.csv',\n",
       " '../data/processed/fig4_modelling/tf_tf_pairs/unique_Bladder_loop_type.csv',\n",
       " '../data/processed/fig4_modelling/tf_tf_pairs/expr_Bladder_loop_type.csv',\n",
       " '../data/processed/fig4_modelling/tf_tf_pairs/expr_Melanocytes_loop_type.csv',\n",
       " '../data/processed/fig4_modelling/tf_tf_pairs/expr_Uterine_loop_type.csv',\n",
       " '../data/processed/fig4_modelling/tf_tf_pairs/expr_Pancreas_loop_type.csv',\n",
       " '../data/processed/fig4_modelling/tf_tf_pairs/expr_Renal_loop_type.csv',\n",
       " '../data/processed/fig4_modelling/tf_tf_pairs/unique_Renal_loop_type.csv',\n",
       " '../data/processed/fig4_modelling/tf_tf_pairs/expr_Ovarian_loop_type.csv',\n",
       " '../data/processed/fig4_modelling/tf_tf_pairs/unique_GDSD6_loop_type.csv',\n",
       " '../data/processed/fig4_modelling/tf_tf_pairs/expr_GDSD6_loop_type.csv',\n",
       " '../data/processed/fig4_modelling/tf_tf_pairs/unique_Prostate_loop_type.csv',\n",
       " '../data/processed/fig4_modelling/tf_tf_pairs/expr_HMEC_loop_type.csv',\n",
       " '../data/processed/fig4_modelling/tf_tf_pairs/unique_Thyroid_loop_type.csv',\n",
       " '../data/processed/fig4_modelling/tf_tf_pairs/unique_GM12878_loop_type.csv']"
      ]
     },
     "execution_count": 7,
     "metadata": {},
     "output_type": "execute_result"
    }
   ],
   "source": [
    "glob.glob('../data/processed/fig4_modelling/tf_tf_pairs/'+'*loop_type*')"
   ]
  },
  {
   "cell_type": "markdown",
   "metadata": {},
   "source": [
    "# 1 understand the types of vocabularies pulled out and where they come from\n",
    "\n",
    "## 1A. enriched vocabularies from unique tissue genes"
   ]
  },
  {
   "cell_type": "code",
   "execution_count": 32,
   "metadata": {},
   "outputs": [
    {
     "name": "stdout",
     "output_type": "stream",
     "text": [
      "2\n",
      "['KLF12::MYOD1' 'MYOD1::SALL4']\n",
      "2\n",
      "['MYOD1::TFAP2B' 'SALL4::ZFP28']\n",
      "88\n",
      "['ARNT2::EBF1' 'ARNT2::EN2' 'ARNT2::ETV2' 'ARNT2::KLF12' 'ARNT2::KLF15'\n",
      " 'ARNT2::LEF1' 'ARNT2::PRRX1' 'ARNT2::SALL4' 'ARNT2::TFAP2B'\n",
      " 'ARNT2::TWIST1' 'ARNT2::ZFP28' 'ARNT2::ZNF324' 'ARNT2::ZNF449'\n",
      " 'ARNT2::ZNF589' 'CPEB1::EN2' 'CPEB1::KLF12' 'CPEB1::LEF1' 'CPEB1::PRRX1'\n",
      " 'CPEB1::ZFP28' 'CPEB1::ZFP82' 'EBF1::EN2' 'EBF1::ETV2' 'EBF1::LEF1'\n",
      " 'EBF1::TWIST1' 'EBF1::ZNF324' 'EBF1::ZNF449' 'EN2::ETV2' 'EN2::KLF12'\n",
      " 'EN2::KLF15' 'EN2::LEF1' 'EN2::PRRX1' 'EN2::SALL4' 'EN2::TFAP2B'\n",
      " 'EN2::TWIST1' 'EN2::ZFP28' 'EN2::ZFP82' 'EN2::ZNF324' 'EN2::ZNF449'\n",
      " 'EN2::ZNF589' 'ETV2::KLF12' 'ETV2::KLF15' 'ETV2::LEF1' 'ETV2::PRRX1'\n",
      " 'ETV2::SALL4' 'ETV2::TFAP2B' 'ETV2::TWIST1' 'ETV2::ZNF324' 'ETV2::ZNF449'\n",
      " 'ETV2::ZNF589' 'KLF12::ZFP82' 'KLF12::ZNF324' 'KLF12::ZNF449'\n",
      " 'KLF15::LEF1' 'KLF15::TWIST1' 'KLF15::ZFP28' 'KLF15::ZNF324'\n",
      " 'KLF15::ZNF449' 'LEF1::MYOD1' 'LEF1::PRRX1' 'LEF1::SALL4' 'LEF1::TFAP2B'\n",
      " 'LEF1::TWIST1' 'LEF1::ZFP28' 'LEF1::ZFP82' 'LEF1::ZNF324' 'LEF1::ZNF449'\n",
      " 'LEF1::ZNF589' 'PRRX1::TWIST1' 'PRRX1::ZFP28' 'PRRX1::ZFP82'\n",
      " 'PRRX1::ZNF324' 'PRRX1::ZNF449' 'SALL4::ZNF324' 'SALL4::ZNF449'\n",
      " 'TFAP2B::TWIST1' 'TFAP2B::ZFP28' 'TFAP2B::ZNF324' 'TFAP2B::ZNF449'\n",
      " 'TWIST1::ZFP28' 'TWIST1::ZNF324' 'TWIST1::ZNF449' 'TWIST1::ZNF589'\n",
      " 'ZFP28::ZFP82' 'ZFP28::ZNF449' 'ZFP28::ZNF589' 'ZNF324::ZNF449'\n",
      " 'ZNF324::ZNF589' 'ZNF449::ZNF589']\n",
      "7\n",
      "['KLF12::PRRX1' 'KLF12::TFAP2B' 'KLF12::ZNF589' 'PRRX1::TFAP2B'\n",
      " 'PRRX1::ZNF589' 'SALL4::TFAP2B' 'SALL4::ZNF589']\n"
     ]
    }
   ],
   "source": [
    "loop_type_df = pd.read_csv('../data/processed/fig4_modelling/tf_tf_pairs/unique_'+TISSUE+'_loop_type.csv',index_col=0).fillna('')\n",
    "pro_pro_vocab = loop_type_df[(loop_type_df.pro_pro_count>0) & (loop_type_df.loop_loop_count==0) & (loop_type_df.pro_loop_count==0)].index.values\n",
    "print(len(pro_pro_vocab))\n",
    "print(pro_pro_vocab)\n",
    "pro_loop_vocab = loop_type_df[(loop_type_df.pro_pro_count==0) & (loop_type_df.loop_loop_count==0) & (loop_type_df.pro_loop_count>0)].index.values\n",
    "print(len(pro_loop_vocab))\n",
    "print(pro_loop_vocab)\n",
    "\n",
    "loop_loop_vocab = loop_type_df[(loop_type_df.pro_pro_count==0) & (loop_type_df.loop_loop_count>0) & (loop_type_df.pro_loop_count==0)].index.values\n",
    "print(len(loop_loop_vocab))\n",
    "print(loop_loop_vocab)\n",
    "\n",
    "all_vocab = loop_type_df[(loop_type_df.pro_pro_count>0) & (loop_type_df.loop_loop_count>0) & (loop_type_df.pro_loop_count>0)].index.values\n",
    "print(len(all_vocab))\n",
    "print(all_vocab)\n"
   ]
  },
  {
   "cell_type": "markdown",
   "metadata": {},
   "source": [
    "## 1b enriched vocab from expressed genes in KRT"
   ]
  },
  {
   "cell_type": "code",
   "execution_count": 9,
   "metadata": {},
   "outputs": [
    {
     "name": "stdout",
     "output_type": "stream",
     "text": [
      "1\n",
      "['E2F2::HOXD3']\n",
      "2\n",
      "['HOXC11::HOXD3' 'HOXD3::ZNF423']\n",
      "737\n",
      "['ALX1::ARNT2' 'ALX1::BATF3' 'ALX1::CPEB1' 'ALX1::CREB3L1' 'ALX1::EBF1'\n",
      " 'ALX1::ETV1' 'ALX1::FOXD3' 'ALX1::FOXF2' 'ALX1::FOXL1' 'ALX1::GLI3'\n",
      " 'ALX1::GLIS3' 'ALX1::HES7' 'ALX1::HOXB3' 'ALX1::HOXC10' 'ALX1::HOXC11'\n",
      " 'ALX1::HOXC6' 'ALX1::HOXC8' 'ALX1::HOXD3' 'ALX1::HOXD8' 'ALX1::ID4'\n",
      " 'ALX1::IRF4' 'ALX1::KLF12' 'ALX1::KLF9' 'ALX1::LEF1' 'ALX1::LYL1'\n",
      " 'ALX1::MAF' 'ALX1::MEF2C' 'ALX1::MEIS1' 'ALX1::MEIS3' 'ALX1::MITF'\n",
      " 'ALX1::MYOD1' 'ALX1::NFATC1' 'ALX1::NFATC2' 'ALX1::NR4A3' 'ALX1::PBX1'\n",
      " 'ALX1::PLAG1' 'ALX1::POU3F1' 'ALX1::RARA' 'ALX1::RARB' 'ALX1::RARG'\n",
      " 'ALX1::RFX3' 'ALX1::SALL4' 'ALX1::SOX10' 'ALX1::SOX11' 'ALX1::SOX5'\n",
      " 'ALX1::SP2' 'ALX1::TBX2' 'ALX1::TBX3' 'ALX1::TCF4' 'ALX1::TFAP2B'\n",
      " 'ALX1::TWIST1' 'ALX1::ZBTB6' 'ALX1::ZFP82' 'ALX1::ZNF18' 'ALX1::ZNF219'\n",
      " 'ALX1::ZNF324' 'ALX1::ZNF41' 'ALX1::ZNF418' 'ALX1::ZNF423' 'ALX1::ZNF436'\n",
      " 'ALX1::ZNF449' 'ALX1::ZNF554' 'ALX1::ZNF708' 'ARNT2::HOXB8'\n",
      " 'ARNT2::HOXC11' 'ARNT2::HOXC6' 'ARNT2::HOXC8' 'ARNT2::HSF4' 'ARNT2::PAX3'\n",
      " 'ARNT2::ZNF382' 'BATF3::FOXD3' 'BATF3::FOXF2' 'BATF3::HES7'\n",
      " 'BATF3::HOXC10' 'BATF3::HOXC11' 'BATF3::HOXC6' 'BATF3::HOXD3'\n",
      " 'BATF3::HOXD8' 'BATF3::MEIS1' 'BATF3::NR4A3' 'BATF3::PAX3'\n",
      " 'BATF3::POU3F1' 'BATF3::SALL4' 'BATF3::SOX10' 'BATF3::TBX3'\n",
      " 'BATF3::ZNF382' 'CPEB1::CREB3L1' 'CPEB1::E2F1' 'CPEB1::E2F2'\n",
      " 'CPEB1::EBF1' 'CPEB1::ETV1' 'CPEB1::GLI3' 'CPEB1::GLIS3' 'CPEB1::HES7'\n",
      " 'CPEB1::HEY1' 'CPEB1::HOXB3' 'CPEB1::HOXB8' 'CPEB1::HOXC11'\n",
      " 'CPEB1::HOXC8' 'CPEB1::HOXD8' 'CPEB1::HSF4' 'CPEB1::ID4' 'CPEB1::IRF4'\n",
      " 'CPEB1::MEF2C' 'CPEB1::MEIS1' 'CPEB1::MEIS3' 'CPEB1::MITF' 'CPEB1::MYOD1'\n",
      " 'CPEB1::NR4A3' 'CPEB1::POU3F1' 'CPEB1::RARA' 'CPEB1::RARB' 'CPEB1::RARG'\n",
      " 'CPEB1::RFX3' 'CPEB1::SALL4' 'CPEB1::SOX10' 'CPEB1::TBX2' 'CPEB1::TBX3'\n",
      " 'CPEB1::TCF4' 'CPEB1::TFEB' 'CPEB1::ZBTB6' 'CPEB1::ZNF18' 'CPEB1::ZNF324'\n",
      " 'CPEB1::ZNF333' 'CPEB1::ZNF382' 'CPEB1::ZNF41' 'CPEB1::ZNF423'\n",
      " 'CPEB1::ZNF549' 'CPEB1::ZNF708' 'CREB3L1::FOXD3' 'CREB3L1::HES7'\n",
      " 'CREB3L1::HOXB8' 'CREB3L1::HOXC10' 'CREB3L1::HOXC11' 'CREB3L1::HOXC6'\n",
      " 'CREB3L1::HOXD8' 'CREB3L1::NR4A3' 'CREB3L1::POU3F1' 'CREB3L1::SOX10'\n",
      " 'E2F1::HES7' 'E2F1::HOXB8' 'E2F1::HOXC10' 'E2F1::HOXC11' 'E2F1::HOXC6'\n",
      " 'E2F1::HOXD3' 'E2F1::MITF' 'E2F1::PAX3' 'E2F1::POU3F1' 'E2F1::SOX10'\n",
      " 'E2F1::ZNF382' 'E2F2::FOXD3' 'E2F2::HES7' 'E2F2::HSF4' 'E2F2::NR4A3'\n",
      " 'E2F2::POU3F1' 'E2F2::SOX10' 'E2F4::FOXF2' 'E2F4::HES7' 'E2F4::HOXB8'\n",
      " 'E2F4::HOXC10' 'E2F4::HOXC11' 'E2F4::HOXC6' 'E2F4::HOXD3' 'E2F4::PAX3'\n",
      " 'E2F4::POU3F1' 'E2F4::SOX10' 'E2F4::ZNF333' 'E2F4::ZNF382' 'E2F7::HOXB8'\n",
      " 'E2F7::HOXC10' 'E2F7::HOXC11' 'E2F7::HOXC6' 'E2F7::HOXD3' 'E2F7::PAX3'\n",
      " 'E2F7::POU3F1' 'E2F7::SOX10' 'E2F7::ZNF382' 'EBF1::FOXD3' 'EBF1::FOXF2'\n",
      " 'EBF1::FOXL1' 'EBF1::GLI3' 'EBF1::HOXB3' 'EBF1::HOXB8' 'EBF1::HOXC10'\n",
      " 'EBF1::HOXC11' 'EBF1::HOXC6' 'EBF1::HOXC8' 'EBF1::HOXD3' 'EBF1::HOXD8'\n",
      " 'EBF1::HSF4' 'EBF1::ID4' 'EBF1::MAF' 'EBF1::MITF' 'EBF1::MYOD1'\n",
      " 'EBF1::PAX3' 'EBF1::POU3F1' 'EBF1::SOX10' 'EBF1::SOX11' 'EBF1::SOX5'\n",
      " 'EBF1::TBX2' 'EBF1::TWIST1' 'EBF1::ZFP82' 'EBF1::ZNF333' 'EBF1::ZNF382'\n",
      " 'EBF1::ZNF423' 'EBF1::ZNF549' 'EBF1::ZNF708' 'EN2::HES7' 'EN2::HEY1'\n",
      " 'EN2::HSF4' 'EN2::MEIS3' 'EN2::MITF' 'EN2::POU3F1' 'EN2::TFEB'\n",
      " 'EN2::ZNF136' 'EN2::ZNF382' 'ETV1::FOXD3' 'ETV1::HOXB8' 'ETV1::HSF4'\n",
      " 'ETV1::MITF' 'ETV1::PAX3' 'ETV1::ZNF382' 'ETV2::HOXB3' 'ETV2::HOXC10'\n",
      " 'ETV2::HOXC6' 'ETV2::HOXD3' 'ETV2::HSF4' 'ETV2::LEF1' 'ETV2::MEIS3'\n",
      " 'ETV2::POU3F1' 'ETV2::SOX11' 'ETV2::SOX5' 'ETV2::TBX2' 'ETV2::TCF4'\n",
      " 'ETV2::TWIST1' 'ETV2::ZNF136' 'ETV2::ZNF382' 'FOXD3::HOXC11'\n",
      " 'FOXD3::HSF4' 'FOXD3::ID4' 'FOXD3::MEIS3' 'FOXD3::MITF' 'FOXD3::MYOD1'\n",
      " 'FOXD3::PLAG1' 'FOXD3::RFX3' 'FOXD3::TBX2' 'FOXD3::TCF4' 'FOXD3::TFEB'\n",
      " 'FOXD3::ZNF136' 'FOXD3::ZNF382' 'FOXD3::ZNF41' 'FOXD3::ZNF423'\n",
      " 'FOXD3::ZNF436' 'FOXD3::ZNF549' 'FOXD3::ZNF76' 'FOXF2::HOXC10'\n",
      " 'FOXF2::HOXC11' 'FOXF2::HOXC6' 'FOXF2::HOXD3' 'FOXF2::HSF4' 'FOXF2::ID4'\n",
      " 'FOXF2::LYL1' 'FOXF2::MEF2C' 'FOXF2::MYOD1' 'FOXF2::NR4A3' 'FOXF2::PAX3'\n",
      " 'FOXF2::SOX10' 'FOXF2::TFEB' 'FOXF2::TWIST1' 'FOXF2::ZNF382'\n",
      " 'FOXF2::ZNF423' 'FOXF2::ZNF549' 'FOXL1::HOXC11' 'FOXL1::HOXC6'\n",
      " 'FOXL1::HOXD3' 'FOXL1::HSF4' 'FOXL1::LYL1' 'FOXL1::MYOD1' 'FOXL1::PAX3'\n",
      " 'FOXL1::TFAP2B' 'FOXL1::ZNF382' 'FOXL1::ZNF423' 'GLI3::HOXD3'\n",
      " 'GLI3::MYOD1' 'GLI3::PAX3' 'GLI3::ZNF382' 'GLIS3::HOXB8' 'GLIS3::HOXC10'\n",
      " 'GLIS3::HOXC11' 'GLIS3::HOXD3' 'GLIS3::HSF4' 'GLIS3::MEIS1' 'GLIS3::MITF'\n",
      " 'GLIS3::MYOD1' 'GLIS3::NR4A3' 'GLIS3::POU3F1' 'GLIS3::TFEB'\n",
      " 'GLIS3::ZNF382' 'HES7::HOXD3' 'HES7::HSF4' 'HES7::ID4' 'HES7::IRF4'\n",
      " 'HES7::KLF12' 'HES7::MEF2C' 'HES7::MITF' 'HES7::MYOD1' 'HES7::NFATC2'\n",
      " 'HES7::NR4A3' 'HES7::RARB' 'HES7::SALL4' 'HES7::SOX10' 'HES7::SOX5'\n",
      " 'HES7::TBX2' 'HES7::TFAP2B' 'HES7::ZFP82' 'HES7::ZNF136' 'HES7::ZNF219'\n",
      " 'HES7::ZNF324' 'HES7::ZNF382' 'HES7::ZNF418' 'HES7::ZNF423'\n",
      " 'HES7::ZNF449' 'HES7::ZNF549' 'HES7::ZNF589' 'HES7::ZNF708'\n",
      " 'HEY1::HOXC10' 'HEY1::HOXC11' 'HEY1::HOXD3' 'HEY1::HSF4' 'HEY1::MYOD1'\n",
      " 'HEY1::NR4A3' 'HEY1::ZNF382' 'HOXB3::HOXC10' 'HOXB3::HOXC11'\n",
      " 'HOXB3::HOXC6' 'HOXB3::HOXD3' 'HOXB3::IRF4' 'HOXB3::LEF1' 'HOXB3::MAF'\n",
      " 'HOXB3::MEF2C' 'HOXB3::MITF' 'HOXB3::NR4A3' 'HOXB3::POU3F1' 'HOXB3::RARB'\n",
      " 'HOXB3::SOX10' 'HOXB3::SOX11' 'HOXB3::ZFP82' 'HOXB3::ZNF382'\n",
      " 'HOXB3::ZNF423' 'HOXB3::ZNF549' 'HOXB3::ZNF708' 'HOXB8::HOXD3'\n",
      " 'HOXB8::ID4' 'HOXB8::KLF12' 'HOXB8::KLF15' 'HOXB8::LEF1' 'HOXB8::MYOD1'\n",
      " 'HOXB8::NFATC2' 'HOXB8::PLAG1' 'HOXB8::SALL4' 'HOXB8::SOX10'\n",
      " 'HOXB8::SOX5' 'HOXB8::TFAP2B' 'HOXB8::ZBTB33' 'HOXB8::ZFP82'\n",
      " 'HOXB8::ZNF219' 'HOXB8::ZNF324' 'HOXB8::ZNF449' 'HOXB8::ZNF554'\n",
      " 'HOXB8::ZNF708' 'HOXC10::HOXD3' 'HOXC10::IRF4' 'HOXC10::MEIS3'\n",
      " 'HOXC10::MITF' 'HOXC10::MYOD1' 'HOXC10::PAX3' 'HOXC10::SOX5'\n",
      " 'HOXC10::TBX2' 'HOXC10::TFAP2B' 'HOXC10::ZNF136' 'HOXC10::ZNF324'\n",
      " 'HOXC10::ZNF423' 'HOXC10::ZNF549' 'HOXC10::ZNF708' 'HOXC10::ZNF76'\n",
      " 'HOXC11::IRF4' 'HOXC11::MEIS3' 'HOXC11::PAX3' 'HOXC11::SOX5'\n",
      " 'HOXC11::TBX2' 'HOXC11::TFAP2B' 'HOXC11::TWIST1' 'HOXC11::ZNF324'\n",
      " 'HOXC11::ZNF382' 'HOXC11::ZNF41' 'HOXC11::ZNF423' 'HOXC11::ZNF449'\n",
      " 'HOXC11::ZNF549' 'HOXC11::ZNF708' 'HOXC6::HSF4' 'HOXC6::IRF4'\n",
      " 'HOXC6::LEF1' 'HOXC6::MEF2C' 'HOXC6::MITF' 'HOXC6::MYOD1' 'HOXC6::NR4A3'\n",
      " 'HOXC6::RARB' 'HOXC6::SOX10' 'HOXC6::TBX2' 'HOXC6::ZFP82' 'HOXC6::ZNF382'\n",
      " 'HOXC6::ZNF449' 'HOXC6::ZNF549' 'HOXC6::ZNF708' 'HOXC8::HSF4'\n",
      " 'HOXC8::ID4' 'HOXC8::MITF' 'HOXC8::NFATC2' 'HOXC8::PAX3' 'HOXC8::SALL4'\n",
      " 'HOXC8::SOX5' 'HOXC8::ZFP82' 'HOXC8::ZNF136' 'HOXC8::ZNF382'\n",
      " 'HOXC8::ZNF423' 'HOXD3::HOXD8' 'HOXD3::IRF4' 'HOXD3::LEF1' 'HOXD3::LYL1'\n",
      " 'HOXD3::MAF' 'HOXD3::MEF2C' 'HOXD3::MEIS1' 'HOXD3::MITF' 'HOXD3::MYOD1'\n",
      " 'HOXD3::NFATC1' 'HOXD3::NFATC2' 'HOXD3::NR4A3' 'HOXD3::RARA'\n",
      " 'HOXD3::RARB' 'HOXD3::RARG' 'HOXD3::RFX3' 'HOXD3::SOX10' 'HOXD3::SOX11'\n",
      " 'HOXD3::SOX5' 'HOXD3::TCF4' 'HOXD3::TFAP2B' 'HOXD3::TWIST1'\n",
      " 'HOXD3::ZBTB33' 'HOXD3::ZFP82' 'HOXD3::ZNF324' 'HOXD3::ZNF333'\n",
      " 'HOXD3::ZNF382' 'HOXD3::ZNF41' 'HOXD3::ZNF418' 'HOXD3::ZNF554'\n",
      " 'HOXD3::ZNF76' 'HOXD8::IRF4' 'HOXD8::KLF15' 'HOXD8::LEF1' 'HOXD8::MEF2C'\n",
      " 'HOXD8::MYOD1' 'HOXD8::NR4A3' 'HOXD8::PAX3' 'HOXD8::RARB' 'HOXD8::SOX10'\n",
      " 'HOXD8::TFAP2B' 'HOXD8::ZFP82' 'HOXD8::ZNF136' 'HOXD8::ZNF382'\n",
      " 'HOXD8::ZNF423' 'HOXD8::ZNF549' 'HOXD8::ZNF708' 'HSF4::IRF4' 'HSF4::LEF1'\n",
      " 'HSF4::LYL1' 'HSF4::MYOD1' 'HSF4::NFATC1' 'HSF4::POU3F1' 'HSF4::RFX3'\n",
      " 'HSF4::SALL4' 'HSF4::SOX10' 'HSF4::SOX5' 'HSF4::TBX2' 'HSF4::TFAP2B'\n",
      " 'HSF4::ZBTB33' 'HSF4::ZNF136' 'HSF4::ZNF18' 'HSF4::ZNF41' 'HSF4::ZNF436'\n",
      " 'ID4::LYL1' 'ID4::MEIS1' 'ID4::MYOD1' 'ID4::NR4A3' 'ID4::PBX1'\n",
      " 'ID4::POU3F1' 'ID4::SOX10' 'ID4::TBX2' 'ID4::ZNF333' 'ID4::ZNF382'\n",
      " 'IRF4::MYOD1' 'IRF4::SOX10' 'IRF4::SOX11' 'IRF4::ZNF382' 'KLF12::PAX3'\n",
      " 'KLF12::ZNF382' 'KLF15::PAX3' 'KLF15::SOX11' 'KLF15::ZNF382'\n",
      " 'KLF15::ZNF549' 'KLF9::PAX3' 'KLF9::ZNF382' 'LEF1::NR4A3' 'LEF1::PAX3'\n",
      " 'LEF1::POU3F1' 'LEF1::RARG' 'LEF1::SOX10' 'LEF1::TBX2' 'LEF1::TBX3'\n",
      " 'LEF1::ZNF382' 'LYL1::MEIS3' 'LYL1::MITF' 'LYL1::NR4A3' 'LYL1::RARB'\n",
      " 'LYL1::SOX10' 'LYL1::SOX5' 'LYL1::TBX2' 'LYL1::TFAP2B' 'LYL1::ZNF324'\n",
      " 'LYL1::ZNF382' 'LYL1::ZNF418' 'LYL1::ZNF423' 'LYL1::ZNF449'\n",
      " 'LYL1::ZNF549' 'LYL1::ZNF708' 'MAF::NR4A3' 'MAF::PAX3' 'MAF::SOX10'\n",
      " 'MAF::ZNF382' 'MEF2C::MEIS1' 'MEF2C::MYOD1' 'MEF2C::PAX3' 'MEF2C::TBX2'\n",
      " 'MEF2C::TBX3' 'MEF2C::TFAP2B' 'MEF2C::ZNF324' 'MEF2C::ZNF333'\n",
      " 'MEF2C::ZNF382' 'MEIS1::PAX3' 'MEIS1::SOX5' 'MEIS1::ZNF136'\n",
      " 'MEIS1::ZNF382' 'MEIS3::MYOD1' 'MEIS3::PAX3' 'MEIS3::SALL4'\n",
      " 'MEIS3::SOX10' 'MEIS3::TFAP2B' 'MEIS3::ZNF382' 'MITF::MYOD1'\n",
      " 'MITF::NR4A3' 'MITF::PAX3' 'MITF::SOX5' 'MITF::TWIST1' 'MITF::ZBTB33'\n",
      " 'MITF::ZNF136' 'MITF::ZNF382' 'MITF::ZNF449' 'MYOD1::NFATC1'\n",
      " 'MYOD1::NFATC2' 'MYOD1::NR4A3' 'MYOD1::POU3F1' 'MYOD1::RARA'\n",
      " 'MYOD1::RARB' 'MYOD1::RARG' 'MYOD1::RFX3' 'MYOD1::SOX10' 'MYOD1::SOX11'\n",
      " 'MYOD1::SOX5' 'MYOD1::TBX2' 'MYOD1::TBX3' 'MYOD1::TFEB' 'MYOD1::TWIST1'\n",
      " 'MYOD1::ZBTB33' 'MYOD1::ZBTB6' 'MYOD1::ZFP82' 'MYOD1::ZNF136'\n",
      " 'MYOD1::ZNF333' 'MYOD1::ZNF382' 'MYOD1::ZNF41' 'MYOD1::ZNF418'\n",
      " 'MYOD1::ZNF423' 'MYOD1::ZNF449' 'MYOD1::ZNF549' 'MYOD1::ZNF708'\n",
      " 'MYOD1::ZNF76' 'NFATC1::SOX11' 'NFATC1::ZNF324' 'NFATC1::ZNF382'\n",
      " 'NFATC1::ZNF418' 'NFATC2::NR4A3' 'NFATC2::PAX3' 'NFATC2::POU3F1'\n",
      " 'NFATC2::TBX2' 'NFATC2::ZNF382' 'NFATC4::ZNF382' 'NR4A3::PAX3'\n",
      " 'NR4A3::PBX1' 'NR4A3::POU3F1' 'NR4A3::RFX3' 'NR4A3::SOX10' 'NR4A3::SOX11'\n",
      " 'NR4A3::SOX5' 'NR4A3::TBX2' 'NR4A3::TBX3' 'NR4A3::TCF4' 'NR4A3::ZBTB33'\n",
      " 'NR4A3::ZFP82' 'NR4A3::ZNF18' 'NR4A3::ZNF333' 'NR4A3::ZNF382'\n",
      " 'NR4A3::ZNF418' 'NR4A3::ZNF436' 'NR4A3::ZNF554' 'NR4A3::ZNF708'\n",
      " 'NR4A3::ZNF76' 'PAX3::POU3F1' 'PAX3::RARA' 'PAX3::RARB' 'PAX3::RARG'\n",
      " 'PAX3::RFX3' 'PAX3::SALL4' 'PAX3::SOX10' 'PAX3::TFEB' 'PAX3::ZFP82'\n",
      " 'PAX3::ZNF324' 'PAX3::ZNF41' 'PAX3::ZNF449' 'PBX1::SOX10' 'PBX1::ZNF136'\n",
      " 'PBX1::ZNF382' 'PLAG1::SOX10' 'PLAG1::ZNF382' 'POU3F1::RARB'\n",
      " 'POU3F1::SALL4' 'POU3F1::TWIST1' 'POU3F1::ZFP82' 'POU3F1::ZNF219'\n",
      " 'POU3F1::ZNF324' 'POU3F1::ZNF382' 'POU3F1::ZNF708' 'RARA::SOX5'\n",
      " 'RARA::ZNF382' 'RARA::ZNF423' 'RARB::TBX2' 'RARB::ZNF382' 'RARG::SOX5'\n",
      " 'RARG::ZNF136' 'RARG::ZNF382' 'RARG::ZNF423' 'RFX3::SOX10' 'RFX3::ZNF382'\n",
      " 'SALL4::SOX5' 'SALL4::TWIST1' 'SALL4::ZNF136' 'SALL4::ZNF333'\n",
      " 'SALL4::ZNF382' 'SALL4::ZNF549' 'SOX10::SOX11' 'SOX10::TBX2'\n",
      " 'SOX10::TBX3' 'SOX10::TCF4' 'SOX10::TFEB' 'SOX10::TWIST1' 'SOX10::ZBTB6'\n",
      " 'SOX10::ZFP82' 'SOX10::ZNF136' 'SOX10::ZNF18' 'SOX10::ZNF324'\n",
      " 'SOX10::ZNF333' 'SOX10::ZNF382' 'SOX10::ZNF41' 'SOX10::ZNF423'\n",
      " 'SOX10::ZNF449' 'SOX10::ZNF549' 'SOX10::ZNF708' 'SOX11::TBX2'\n",
      " 'SOX11::TFAP2B' 'SOX11::ZNF324' 'SOX11::ZNF41' 'SOX11::ZNF76'\n",
      " 'SOX5::TBX2' 'SOX5::TCF4' 'SOX5::TFAP2B' 'SOX5::TFEB' 'SOX5::ZBTB6'\n",
      " 'SOX5::ZNF333' 'SOX5::ZNF382' 'SOX5::ZNF76' 'TBX2::TFEB' 'TBX2::ZNF382'\n",
      " 'TBX2::ZNF418' 'TBX2::ZNF423' 'TBX3::ZNF136' 'TBX3::ZNF382'\n",
      " 'TBX3::ZNF423' 'TCF4::TFAP2B' 'TCF4::ZNF382' 'TCF4::ZNF423'\n",
      " 'TCF4::ZNF449' 'TFAP2B::TFEB' 'TFAP2B::ZNF382' 'TFAP2B::ZNF549'\n",
      " 'TFEB::ZNF382' 'TWIST1::ZNF324' 'TWIST1::ZNF382' 'ZBTB33::ZNF382'\n",
      " 'ZBTB6::ZNF423' 'ZBTB6::ZNF549' 'ZBTB6::ZNF708' 'ZFP82::ZNF382'\n",
      " 'ZFP82::ZNF41' 'ZNF136::ZNF324' 'ZNF18::ZNF382' 'ZNF219::ZNF382'\n",
      " 'ZNF324::ZNF382' 'ZNF333::ZNF382' 'ZNF333::ZNF423' 'ZNF333::ZNF449'\n",
      " 'ZNF382::ZNF41' 'ZNF382::ZNF418' 'ZNF382::ZNF423' 'ZNF382::ZNF436'\n",
      " 'ZNF382::ZNF449' 'ZNF382::ZNF554' 'ZNF382::ZNF589' 'ZNF41::ZNF449'\n",
      " 'ZNF41::ZNF549' 'ZNF423::ZNF76']\n",
      "510\n",
      "['ALX1::EN2' 'ALX1::ETV2' 'ALX1::NFATC4' 'ALX1::PAX3' 'ALX1::PRRX1'\n",
      " 'ALX1::ZNF333' 'ALX1::ZNF589' 'ARNT2::CPEB1' 'ARNT2::EBF1' 'ARNT2::EN2'\n",
      " 'ARNT2::ETV2' 'ARNT2::HOXC10' 'ARNT2::HOXD8' 'ARNT2::IRF4' 'ARNT2::KLF15'\n",
      " 'ARNT2::MEIS1' 'ARNT2::MITF' 'ARNT2::MYOD1' 'ARNT2::NFATC1' 'ARNT2::PBX1'\n",
      " 'ARNT2::RARA' 'ARNT2::RARG' 'ARNT2::SALL4' 'ARNT2::SOX10' 'ARNT2::TBX2'\n",
      " 'ARNT2::TBX3' 'ARNT2::TFAP2B' 'ARNT2::TFEB' 'ARNT2::ZBTB6'\n",
      " 'ARNT2::ZNF324' 'ARNT2::ZNF41' 'ARNT2::ZNF76' 'BATF3::ETV2'\n",
      " 'BATF3::KLF15' 'BATF3::MITF' 'BATF3::MYOD1' 'CPEB1::ETV2' 'CPEB1::FOXL1'\n",
      " 'CPEB1::HOXC6' 'CPEB1::KLF15' 'CPEB1::NFATC2' 'CPEB1::NFATC4'\n",
      " 'CPEB1::PAX3' 'CPEB1::PRRX1' 'CPEB1::SOX5' 'CPEB1::SP2' 'CPEB1::TFAP2B'\n",
      " 'CPEB1::ZBTB33' 'CPEB1::ZFP82' 'CPEB1::ZNF589' 'CREB3L1::ETV2'\n",
      " 'CREB3L1::KLF15' 'CREB3L1::MYOD1' 'CREB3L1::TFAP2B' 'E2F1::ETV2'\n",
      " 'E2F1::HSF4' 'E2F1::IRF4' 'E2F1::KLF15' 'E2F1::MEIS1' 'E2F1::NR4A3'\n",
      " 'E2F1::RARG' 'E2F1::SALL4' 'E2F1::TBX3' 'E2F1::TFAP2B' 'E2F1::TFEB'\n",
      " 'E2F1::ZNF324' 'E2F1::ZNF41' 'E2F2::ETV2' 'E2F2::MEIS1' 'E2F2::MYOD1'\n",
      " 'E2F4::EBF1' 'E2F4::ETV2' 'E2F4::HSF4' 'E2F4::IRF4' 'E2F4::KLF15'\n",
      " 'E2F4::MEIS1' 'E2F4::MITF' 'E2F4::NR4A3' 'E2F4::RARA' 'E2F4::RARG'\n",
      " 'E2F4::SALL4' 'E2F4::TBX3' 'E2F4::TFAP2B' 'E2F4::TFEB' 'E2F4::ZBTB6'\n",
      " 'E2F4::ZNF324' 'E2F4::ZNF41' 'E2F7::EBF1' 'E2F7::ETV2' 'E2F7::IRF4'\n",
      " 'E2F7::NFATC1' 'E2F7::NR4A3' 'E2F7::SALL4' 'E2F7::TFAP2B' 'E2F7::ZNF41'\n",
      " 'EBF1::EN2' 'EBF1::GLIS3' 'EBF1::KLF12' 'EBF1::KLF15' 'EBF1::KLF9'\n",
      " 'EBF1::MEIS1' 'EBF1::PRRX1' 'EBF1::SALL4' 'EBF1::TFAP2B' 'EBF1::ZNF219'\n",
      " 'EBF1::ZNF324' 'EBF1::ZNF449' 'EN2::ETV2' 'EN2::FOXD3' 'EN2::GLI3'\n",
      " 'EN2::HOXB3' 'EN2::HOXB8' 'EN2::HOXC10' 'EN2::HOXC11' 'EN2::HOXD3'\n",
      " 'EN2::HOXD8' 'EN2::IRF4' 'EN2::KLF12' 'EN2::KLF15' 'EN2::LYL1'\n",
      " 'EN2::MEF2C' 'EN2::MEIS1' 'EN2::MYOD1' 'EN2::NFATC4' 'EN2::PAX3'\n",
      " 'EN2::PRRX1' 'EN2::RARB' 'EN2::RARG' 'EN2::SALL4' 'EN2::SOX11'\n",
      " 'EN2::TFAP2B' 'EN2::TWIST1' 'EN2::ZFP82' 'EN2::ZNF18' 'EN2::ZNF41'\n",
      " 'EN2::ZNF418' 'EN2::ZNF423' 'EN2::ZNF449' 'EN2::ZNF589' 'ETV1::ETV2'\n",
      " 'ETV1::MYOD1' 'ETV1::SALL4' 'ETV1::TFAP2B' 'ETV2::FOXD3' 'ETV2::FOXF2'\n",
      " 'ETV2::FOXL1' 'ETV2::GLIS3' 'ETV2::HOXB8' 'ETV2::HOXC11' 'ETV2::HOXC8'\n",
      " 'ETV2::IRF4' 'ETV2::KLF12' 'ETV2::KLF15' 'ETV2::KLF9' 'ETV2::MAF'\n",
      " 'ETV2::MEIS1' 'ETV2::MITF' 'ETV2::MYOD1' 'ETV2::NFATC2' 'ETV2::NFATC4'\n",
      " 'ETV2::PAX3' 'ETV2::PBX1' 'ETV2::PLAG1' 'ETV2::PRRX1' 'ETV2::RARA'\n",
      " 'ETV2::RARB' 'ETV2::RARG' 'ETV2::SALL4' 'ETV2::SOX10' 'ETV2::SP2'\n",
      " 'ETV2::TFAP2B' 'ETV2::ZBTB33' 'ETV2::ZFP82' 'ETV2::ZNF18' 'ETV2::ZNF219'\n",
      " 'ETV2::ZNF324' 'ETV2::ZNF333' 'ETV2::ZNF41' 'ETV2::ZNF423' 'ETV2::ZNF436'\n",
      " 'ETV2::ZNF449' 'ETV2::ZNF554' 'ETV2::ZNF589' 'ETV2::ZNF76' 'FOXD3::FOXF2'\n",
      " 'FOXD3::FOXL1' 'FOXD3::HOXB8' 'FOXD3::HOXC10' 'FOXD3::HOXD8'\n",
      " 'FOXD3::IRF4' 'FOXD3::KLF12' 'FOXD3::KLF15' 'FOXD3::KLF9' 'FOXD3::LEF1'\n",
      " 'FOXD3::LYL1' 'FOXD3::MAF' 'FOXD3::MEF2C' 'FOXD3::NFATC1' 'FOXD3::NFATC4'\n",
      " 'FOXD3::PAX3' 'FOXD3::PBX1' 'FOXD3::PRRX1' 'FOXD3::RARA' 'FOXD3::RARB'\n",
      " 'FOXD3::RARG' 'FOXD3::SOX5' 'FOXD3::SP2' 'FOXD3::TWIST1' 'FOXD3::ZFP82'\n",
      " 'FOXD3::ZNF333' 'FOXD3::ZNF418' 'FOXD3::ZNF589' 'FOXF2::IRF4'\n",
      " 'FOXF2::KLF12' 'FOXF2::LEF1' 'FOXF2::NFATC4' 'FOXF2::PRRX1' 'FOXF2::RARB'\n",
      " 'FOXF2::SOX5' 'FOXF2::ZFP82' 'FOXF2::ZNF589' 'FOXL1::HOXC10'\n",
      " 'FOXL1::IRF4' 'FOXL1::KLF12' 'FOXL1::KLF15' 'FOXL1::MEF2C'\n",
      " 'FOXL1::NFATC2' 'FOXL1::NFATC4' 'FOXL1::PRRX1' 'FOXL1::RARB'\n",
      " 'FOXL1::SOX11' 'FOXL1::SOX5' 'FOXL1::ZFP82' 'FOXL1::ZNF324'\n",
      " 'FOXL1::ZNF418' 'GLI3::KLF15' 'GLI3::TFAP2B' 'GLIS3::IRF4' 'GLIS3::SALL4'\n",
      " 'GLIS3::TBX3' 'GLIS3::TFAP2B' 'GLIS3::ZNF324' 'HEY1::KLF15'\n",
      " 'HEY1::TFAP2B' 'HOXB3::KLF12' 'HOXB3::PRRX1' 'HOXB3::ZNF324'\n",
      " 'HOXB8::HOXC11' 'HOXB8::HOXC8' 'HOXB8::IRF4' 'HOXB8::LYL1'\n",
      " 'HOXB8::NFATC4' 'HOXB8::PAX3' 'HOXB8::PRRX1' 'HOXB8::ZNF333'\n",
      " 'HOXC10::MEF2C' 'HOXC10::PRRX1' 'HOXC10::ZNF589' 'HOXC11::KLF15'\n",
      " 'HOXC11::LEF1' 'HOXC11::PRRX1' 'HOXC11::ZNF418' 'HOXC11::ZNF589'\n",
      " 'HOXC6::PAX3' 'HOXC6::PRRX1' 'HOXC6::ZNF589' 'HOXC8::IRF4' 'HOXC8::KLF12'\n",
      " 'HOXC8::PRRX1' 'HOXC8::SOX10' 'HOXC8::ZNF219' 'HOXC8::ZNF449'\n",
      " 'HOXC8::ZNF589' 'HOXC8::ZNF708' 'HOXD3::PRRX1' 'HOXD8::KLF12'\n",
      " 'HOXD8::PRRX1' 'HOXD8::ZNF219' 'HOXD8::ZNF324' 'HOXD8::ZNF449'\n",
      " 'HOXD8::ZNF589' 'HSF4::KLF15' 'HSF4::NR4A3' 'HSF4::PLAG1' 'HSF4::PRRX1'\n",
      " 'HSF4::SP2' 'HSF4::ZNF449' 'HSF4::ZNF589' 'ID4::MITF' 'ID4::TFAP2B'\n",
      " 'ID4::ZNF324' 'IRF4::KLF12' 'IRF4::KLF15' 'IRF4::KLF9' 'IRF4::MAF'\n",
      " 'IRF4::MEIS1' 'IRF4::MEIS3' 'IRF4::MITF' 'IRF4::NR4A3' 'IRF4::PAX3'\n",
      " 'IRF4::PBX1' 'IRF4::PRRX1' 'IRF4::RARB' 'IRF4::RARG' 'IRF4::SALL4'\n",
      " 'IRF4::TFAP2B' 'IRF4::TWIST1' 'IRF4::ZFP82' 'IRF4::ZNF219' 'IRF4::ZNF324'\n",
      " 'IRF4::ZNF333' 'IRF4::ZNF418' 'IRF4::ZNF423' 'IRF4::ZNF449'\n",
      " 'IRF4::ZNF554' 'IRF4::ZNF708' 'KLF12::KLF15' 'KLF12::LYL1' 'KLF12::MYOD1'\n",
      " 'KLF12::NFATC1' 'KLF12::NR4A3' 'KLF12::POU3F1' 'KLF12::SALL4'\n",
      " 'KLF12::SOX10' 'KLF12::TBX2' 'KLF12::TFAP2B' 'KLF12::ZBTB6'\n",
      " 'KLF12::ZNF41' 'KLF15::LEF1' 'KLF15::MAF' 'KLF15::MEF2C' 'KLF15::MEIS1'\n",
      " 'KLF15::MEIS3' 'KLF15::MITF' 'KLF15::NFATC1' 'KLF15::NFATC2'\n",
      " 'KLF15::NR4A3' 'KLF15::POU3F1' 'KLF15::PRRX1' 'KLF15::RARB'\n",
      " 'KLF15::SALL4' 'KLF15::SOX10' 'KLF15::SOX5' 'KLF15::TBX2' 'KLF15::TBX3'\n",
      " 'KLF15::TFAP2B' 'KLF15::TFEB' 'KLF15::TWIST1' 'KLF15::ZFP82'\n",
      " 'KLF15::ZNF18' 'KLF15::ZNF219' 'KLF15::ZNF324' 'KLF15::ZNF41'\n",
      " 'KLF15::ZNF418' 'KLF15::ZNF423' 'KLF15::ZNF436' 'KLF15::ZNF449'\n",
      " 'KLF15::ZNF589' 'KLF15::ZNF708' 'KLF9::MYOD1' 'KLF9::NR4A3' 'KLF9::SOX10'\n",
      " 'KLF9::TFAP2B' 'LEF1::MEIS1' 'LEF1::MYOD1' 'LEF1::PBX1' 'LEF1::SALL4'\n",
      " 'LYL1::MAF' 'LYL1::MYOD1' 'LYL1::PAX3' 'LYL1::PRRX1' 'LYL1::TWIST1'\n",
      " 'LYL1::ZNF219' 'MAF::MYOD1' 'MAF::TFAP2B' 'MEIS1::PRRX1' 'MEIS1::SALL4'\n",
      " 'MEIS1::TFAP2B' 'MEIS1::ZNF449' 'MITF::PLAG1' 'MITF::PRRX1' 'MITF::SALL4'\n",
      " 'MITF::SOX11' 'MITF::SP2' 'MITF::TFAP2B' 'MITF::ZNF589' 'MYOD1::NFATC4'\n",
      " 'MYOD1::PLAG1' 'MYOD1::PRRX1' 'MYOD1::SP2' 'MYOD1::TCF4' 'MYOD1::ZNF18'\n",
      " 'MYOD1::ZNF219' 'MYOD1::ZNF554' 'MYOD1::ZNF589' 'NFATC1::NR4A3'\n",
      " 'NFATC1::PAX3' 'NFATC1::PRRX1' 'NFATC1::RARB' 'NFATC1::SOX10'\n",
      " 'NFATC1::TFAP2B' 'NFATC1::ZNF333' 'NFATC1::ZNF549' 'NFATC2::SOX10'\n",
      " 'NFATC2::TFAP2B' 'NFATC4::NR4A3' 'NFATC4::PAX3' 'NFATC4::SOX10'\n",
      " 'NFATC4::TBX2' 'NFATC4::TFAP2B' 'NR4A3::PLAG1' 'NR4A3::PRRX1'\n",
      " 'NR4A3::RARA' 'NR4A3::RARB' 'NR4A3::RARG' 'NR4A3::SP2' 'NR4A3::TFEB'\n",
      " 'NR4A3::ZNF219' 'NR4A3::ZNF41' 'NR4A3::ZNF449' 'NR4A3::ZNF589'\n",
      " 'PAX3::PBX1' 'PAX3::PRRX1' 'PAX3::TWIST1' 'PAX3::ZBTB33' 'PAX3::ZNF333'\n",
      " 'PAX3::ZNF589' 'PBX1::PRRX1' 'PBX1::SALL4' 'PBX1::TFAP2B' 'PBX1::ZNF449'\n",
      " 'PBX1::ZNF589' 'PLAG1::TFAP2B' 'PLAG1::ZNF324' 'POU3F1::PRRX1'\n",
      " 'POU3F1::SOX10' 'POU3F1::SOX5' 'POU3F1::ZNF418' 'POU3F1::ZNF589'\n",
      " 'PRRX1::RARA' 'PRRX1::RARG' 'PRRX1::SALL4' 'PRRX1::SOX10' 'PRRX1::TBX2'\n",
      " 'PRRX1::TBX3' 'PRRX1::TCF4' 'PRRX1::TFAP2B' 'PRRX1::TFEB' 'PRRX1::ZBTB6'\n",
      " 'PRRX1::ZNF324' 'PRRX1::ZNF333' 'PRRX1::ZNF41' 'PRRX1::ZNF76'\n",
      " 'RARA::TFAP2B' 'RARA::ZNF449' 'RARB::ZBTB6' 'RARB::ZNF41' 'RARG::ZNF449'\n",
      " 'RARG::ZNF589' 'RFX3::ZNF324' 'SALL4::TFAP2B' 'SALL4::ZBTB33'\n",
      " 'SALL4::ZNF18' 'SALL4::ZNF219' 'SALL4::ZNF324' 'SALL4::ZNF41'\n",
      " 'SALL4::ZNF418' 'SALL4::ZNF423' 'SALL4::ZNF449' 'SALL4::ZNF589'\n",
      " 'SALL4::ZNF76' 'SOX10::SOX5' 'SOX10::SP2' 'SOX10::ZBTB33' 'SOX10::ZNF418'\n",
      " 'SOX10::ZNF436' 'SOX10::ZNF554' 'SOX10::ZNF589' 'SOX5::ZNF41'\n",
      " 'SP2::TFAP2B' 'SP2::ZNF324' 'TBX2::ZNF449' 'TBX2::ZNF589' 'TBX2::ZNF708'\n",
      " 'TBX3::TFAP2B' 'TFAP2B::ZBTB33' 'TFAP2B::ZNF18' 'TFAP2B::ZNF219'\n",
      " 'TFAP2B::ZNF324' 'TFAP2B::ZNF41' 'TFAP2B::ZNF436' 'TFAP2B::ZNF449'\n",
      " 'TFAP2B::ZNF554' 'TFAP2B::ZNF589' 'TFAP2B::ZNF76' 'TFEB::ZNF449'\n",
      " 'TWIST1::ZNF333' 'ZBTB33::ZNF324' 'ZBTB6::ZFP82' 'ZBTB6::ZNF219'\n",
      " 'ZBTB6::ZNF324' 'ZNF18::ZNF324' 'ZNF219::ZNF41' 'ZNF324::ZNF436'\n",
      " 'ZNF324::ZNF449' 'ZNF324::ZNF589' 'ZNF333::ZNF589' 'ZNF41::ZNF423'\n",
      " 'ZNF41::ZNF708' 'ZNF449::ZNF76']\n"
     ]
    }
   ],
   "source": [
    "loop_type_df = pd.read_csv('../data/processed/fig4_modelling/tf_tf_pairs/expr_'+TISSUE+'_loop_type.csv',index_col=0).fillna('')\n",
    "pro_pro_vocab = loop_type_df[(loop_type_df.pro_pro_count>0) & (loop_type_df.loop_loop_count==0) & (loop_type_df.pro_loop_count==0)].index.values\n",
    "print(len(pro_pro_vocab))\n",
    "print(pro_pro_vocab)\n",
    "pro_loop_vocab = loop_type_df[(loop_type_df.pro_pro_count==0) & (loop_type_df.loop_loop_count==0) & (loop_type_df.pro_loop_count>0)].index.values\n",
    "print(len(pro_loop_vocab))\n",
    "print(pro_loop_vocab)\n",
    "\n",
    "loop_loop_vocab = loop_type_df[(loop_type_df.pro_pro_count==0) & (loop_type_df.loop_loop_count>0) & (loop_type_df.pro_loop_count==0)].index.values\n",
    "print(len(loop_loop_vocab))\n",
    "print(loop_loop_vocab)\n",
    "\n",
    "all_vocab = loop_type_df[(loop_type_df.pro_pro_count>0) & (loop_type_df.loop_loop_count>0) & (loop_type_df.pro_loop_count>0)].index.values\n",
    "print(len(all_vocab))\n",
    "print(all_vocab)\n"
   ]
  },
  {
   "cell_type": "markdown",
   "metadata": {},
   "source": [
    "## 1C get motif appearance locations (normalized)"
   ]
  },
  {
   "cell_type": "code",
   "execution_count": 10,
   "metadata": {},
   "outputs": [
    {
     "data": {
      "text/plain": [
       "EN2::NFATC2       0.256159\n",
       "ID4::KLF15        0.285022\n",
       "RARA::SALL4       0.293284\n",
       "HOXD8::KLF15      0.348906\n",
       "SOX10::ZNF219     0.348906\n",
       "                   ...    \n",
       "PAX3::ZNF136     20.236570\n",
       "HSF4::ID4        20.236570\n",
       "FOXD3::HOXD3     20.236570\n",
       "HOXD3::ZNF449    30.354855\n",
       "E2F2::HOXD3      60.709711\n",
       "Length: 1681, dtype: float64"
      ]
     },
     "execution_count": 10,
     "metadata": {},
     "output_type": "execute_result"
    }
   ],
   "source": [
    "# for vocab pairs\n",
    "pro_frac = ((loop_type_df.pro_pro_count+1)/(loop_type_df.pro_pro_count.sum()+1))\n",
    "loop_frac = ((loop_type_df.loop_loop_count+1)/(loop_type_df.loop_loop_count.sum()+1))\n",
    "ratio = pro_frac/loop_frac\n",
    "ratio.sort_values()"
   ]
  },
  {
   "cell_type": "code",
   "execution_count": 11,
   "metadata": {},
   "outputs": [
    {
     "name": "stdout",
     "output_type": "stream",
     "text": [
      "85\n"
     ]
    }
   ],
   "source": [
    "# for motifs\n",
    "# 1. get motifs\n",
    "motifs = set()\n",
    "for vocab_pair in loop_type_df.index.values:\n",
    "    v1, v2 = vocab_pair.split('::')\n",
    "    motifs.add(v1)\n",
    "    motifs.add(v2)\n",
    "motifs = sorted(motifs)\n",
    "print(len(motifs))\n",
    "\n",
    "# 2. initialize counts\n",
    "motif_counts_dict = {}\n",
    "for motif in motifs:\n",
    "    motif_counts_dict[motif] = {'pro_pro_count':0,'loop_loop_count':0,'pro_loop_count':0} #list of counts for pro_pro_count, loop_loop_count, pro_loop_count, respectively\n",
    "    \n",
    "# 3. run through loop_type_df to fill in motif_counts_dict\n",
    "for vocab_pair, row in loop_type_df.iterrows():\n",
    "    v1, v2 = vocab_pair.split('::')\n",
    "    motif_counts_dict[v1]['pro_pro_count'] +=row['pro_pro_count']\n",
    "    motif_counts_dict[v2]['pro_pro_count'] +=row['pro_pro_count']\n",
    "    motif_counts_dict[v1]['loop_loop_count'] +=row['loop_loop_count']\n",
    "    motif_counts_dict[v2]['loop_loop_count'] +=row['loop_loop_count']\n",
    "    motif_counts_dict[v1]['pro_loop_count'] +=row['pro_loop_count']\n",
    "    motif_counts_dict[v2]['pro_loop_count'] +=row['pro_loop_count']\n",
    "            \n",
    "motif_counts_df = pd.DataFrame.from_dict(motif_counts_dict,orient='index')   \n",
    "motif_counts_df_norm = motif_counts_df/motif_counts_df.sum(axis=0)\n"
   ]
  },
  {
   "cell_type": "code",
   "execution_count": 12,
   "metadata": {},
   "outputs": [],
   "source": [
    "motif_counts_df_norm_sel = motif_counts_df_norm.reset_index()[motif_counts_df_norm.reset_index()['index'].isin(TFS)]\n",
    "motif_counts_df_norm_sel.set_index('index',inplace=True)"
   ]
  },
  {
   "cell_type": "code",
   "execution_count": 13,
   "metadata": {},
   "outputs": [
    {
     "data": {
      "text/html": [
       "<div>\n",
       "<style scoped>\n",
       "    .dataframe tbody tr th:only-of-type {\n",
       "        vertical-align: middle;\n",
       "    }\n",
       "\n",
       "    .dataframe tbody tr th {\n",
       "        vertical-align: top;\n",
       "    }\n",
       "\n",
       "    .dataframe thead th {\n",
       "        text-align: right;\n",
       "    }\n",
       "</style>\n",
       "<table border=\"1\" class=\"dataframe\">\n",
       "  <thead>\n",
       "    <tr style=\"text-align: right;\">\n",
       "      <th></th>\n",
       "      <th>pro_pro_count</th>\n",
       "      <th>loop_loop_count</th>\n",
       "      <th>pro_loop_count</th>\n",
       "    </tr>\n",
       "  </thead>\n",
       "  <tbody>\n",
       "    <tr>\n",
       "      <td>ALX1</td>\n",
       "      <td>0.238007</td>\n",
       "      <td>0.461822</td>\n",
       "      <td>0.300171</td>\n",
       "    </tr>\n",
       "    <tr>\n",
       "      <td>ARNT2</td>\n",
       "      <td>0.323929</td>\n",
       "      <td>0.358599</td>\n",
       "      <td>0.317471</td>\n",
       "    </tr>\n",
       "    <tr>\n",
       "      <td>BATF3</td>\n",
       "      <td>0.326360</td>\n",
       "      <td>0.368058</td>\n",
       "      <td>0.305582</td>\n",
       "    </tr>\n",
       "    <tr>\n",
       "      <td>CPEB1</td>\n",
       "      <td>0.291465</td>\n",
       "      <td>0.503854</td>\n",
       "      <td>0.204681</td>\n",
       "    </tr>\n",
       "    <tr>\n",
       "      <td>CREB3L1</td>\n",
       "      <td>0.201719</td>\n",
       "      <td>0.393545</td>\n",
       "      <td>0.404736</td>\n",
       "    </tr>\n",
       "    <tr>\n",
       "      <td>...</td>\n",
       "      <td>...</td>\n",
       "      <td>...</td>\n",
       "      <td>...</td>\n",
       "    </tr>\n",
       "    <tr>\n",
       "      <td>ZNF549</td>\n",
       "      <td>0.080666</td>\n",
       "      <td>0.466151</td>\n",
       "      <td>0.453182</td>\n",
       "    </tr>\n",
       "    <tr>\n",
       "      <td>ZNF554</td>\n",
       "      <td>0.298783</td>\n",
       "      <td>0.341525</td>\n",
       "      <td>0.359692</td>\n",
       "    </tr>\n",
       "    <tr>\n",
       "      <td>ZNF589</td>\n",
       "      <td>0.371780</td>\n",
       "      <td>0.329840</td>\n",
       "      <td>0.298380</td>\n",
       "    </tr>\n",
       "    <tr>\n",
       "      <td>ZNF708</td>\n",
       "      <td>0.150980</td>\n",
       "      <td>0.364332</td>\n",
       "      <td>0.484689</td>\n",
       "    </tr>\n",
       "    <tr>\n",
       "      <td>ZNF76</td>\n",
       "      <td>0.308229</td>\n",
       "      <td>0.313431</td>\n",
       "      <td>0.378340</td>\n",
       "    </tr>\n",
       "  </tbody>\n",
       "</table>\n",
       "<p>85 rows × 3 columns</p>\n",
       "</div>"
      ],
      "text/plain": [
       "         pro_pro_count  loop_loop_count  pro_loop_count\n",
       "ALX1          0.238007         0.461822        0.300171\n",
       "ARNT2         0.323929         0.358599        0.317471\n",
       "BATF3         0.326360         0.368058        0.305582\n",
       "CPEB1         0.291465         0.503854        0.204681\n",
       "CREB3L1       0.201719         0.393545        0.404736\n",
       "...                ...              ...             ...\n",
       "ZNF549        0.080666         0.466151        0.453182\n",
       "ZNF554        0.298783         0.341525        0.359692\n",
       "ZNF589        0.371780         0.329840        0.298380\n",
       "ZNF708        0.150980         0.364332        0.484689\n",
       "ZNF76         0.308229         0.313431        0.378340\n",
       "\n",
       "[85 rows x 3 columns]"
      ]
     },
     "execution_count": 13,
     "metadata": {},
     "output_type": "execute_result"
    }
   ],
   "source": [
    "motif_counts_df_norm.div(motif_counts_df_norm.sum(axis=1),axis=0)"
   ]
  },
  {
   "cell_type": "code",
   "execution_count": 14,
   "metadata": {},
   "outputs": [
    {
     "data": {
      "image/png": "[encoded data removed]",
      "text/plain": [
       "<Figure size 864x504 with 1 Axes>"
      ]
     },
     "metadata": {
      "needs_background": "light"
     },
     "output_type": "display_data"
    }
   ],
   "source": [
    "# all tfs\n",
    "ax = motif_counts_df_norm.sort_values('pro_pro_count').plot(kind='bar', stacked=True,figsize = (12,7),fontsize=9)\n",
    "ax.figure.savefig(os.path.join(save_dir, TISSUE+'_config_count_bar.pdf'))\n"
   ]
  },
  {
   "cell_type": "markdown",
   "metadata": {},
   "source": [
    "this shows the likelihood of the motif appears in a vocab pair from pro_pro, pro_loop, or loop_loop configurations, GIVEN that it does appear at all (so normalized by both the probability of the configuration type)\n",
    "\n",
    "this will show frequency of footprints being found in the looped regions "
   ]
  },
  {
   "cell_type": "code",
   "execution_count": 15,
   "metadata": {},
   "outputs": [
    {
     "data": {
      "image/png": "[encoded data removed]",
      "text/plain": [
       "<Figure size 504x504 with 1 Axes>"
      ]
     },
     "metadata": {
      "needs_background": "light"
     },
     "output_type": "display_data"
    }
   ],
   "source": [
    "ax = motif_counts_df_norm_sel.sort_values('pro_pro_count').plot(kind='bar', stacked=True,figsize = (7,7),fontsize=12)\n",
    "ax.figure.savefig(os.path.join(save_dir, TISSUE+'_config_count_sel_bar.pdf'))\n"
   ]
  },
  {
   "cell_type": "markdown",
   "metadata": {},
   "source": [
    "same graph as before but only for tissue specific TFS"
   ]
  },
  {
   "cell_type": "code",
   "execution_count": 16,
   "metadata": {},
   "outputs": [
    {
     "data": {
      "image/png": "[encoded data removed]",
      "text/plain": [
       "<Figure size 864x504 with 1 Axes>"
      ]
     },
     "metadata": {
      "needs_background": "light"
     },
     "output_type": "display_data"
    }
   ],
   "source": [
    "ax = motif_counts_df_norm.div(motif_counts_df_norm.sum(axis=1),axis=0).sort_values('pro_pro_count').plot(kind='bar', stacked=True,\n",
    "                                                                                                    figsize = (12,7),fontsize=9)\n",
    "ax.figure.savefig(os.path.join(save_dir, TISSUE+'_config_count_norm_bar.pdf'))\n"
   ]
  },
  {
   "cell_type": "markdown",
   "metadata": {},
   "source": [
    "this shows the likelihood of the motif appears in a vocab pair from pro_pro, pro_loop, or loop_loop configurations, GIVEN that it does appear at all (so normalized by both the probability of the configuration type as well as by the motif frequency itself"
   ]
  },
  {
   "cell_type": "code",
   "execution_count": 17,
   "metadata": {},
   "outputs": [
    {
     "data": {
      "image/png": "[encoded data removed]",
      "text/plain": [
       "<Figure size 864x504 with 1 Axes>"
      ]
     },
     "metadata": {
      "needs_background": "light"
     },
     "output_type": "display_data"
    }
   ],
   "source": [
    "# fig,ax= plt.subplots(figsize = (20,7))\n",
    "# ax.set_xlabel('xlabel', fontsize=6)\n",
    "\n",
    "ax = motif_counts_df_norm.pro_pro_count.sort_values().plot(kind='bar',figsize = (12,7),fontsize=9)\n",
    "\n",
    "ax.figure.savefig(os.path.join(save_dir, TISSUE+'_pro_count_norm_bar.pdf'))\n"
   ]
  },
  {
   "cell_type": "markdown",
   "metadata": {},
   "source": [
    "only the promoter fractions"
   ]
  },
  {
   "cell_type": "code",
   "execution_count": 18,
   "metadata": {},
   "outputs": [
    {
     "data": {
      "image/png": "[encoded data removed]",
      "text/plain": [
       "<Figure size 504x504 with 1 Axes>"
      ]
     },
     "metadata": {
      "needs_background": "light"
     },
     "output_type": "display_data"
    }
   ],
   "source": [
    "ax = motif_counts_df_norm_sel.div(motif_counts_df_norm_sel.sum(axis=1),axis=0).sort_values('pro_pro_count').plot(kind='bar', stacked=True,\n",
    "                                                                                                    figsize = (7,7),fontsize=12)\n",
    "ax.figure.savefig(os.path.join(save_dir, TISSUE+'_config_count_norm_sel_bar.pdf'))\n"
   ]
  },
  {
   "cell_type": "code",
   "execution_count": 19,
   "metadata": {},
   "outputs": [
    {
     "data": {
      "text/html": [
       "<div>\n",
       "<style scoped>\n",
       "    .dataframe tbody tr th:only-of-type {\n",
       "        vertical-align: middle;\n",
       "    }\n",
       "\n",
       "    .dataframe tbody tr th {\n",
       "        vertical-align: top;\n",
       "    }\n",
       "\n",
       "    .dataframe thead th {\n",
       "        text-align: right;\n",
       "    }\n",
       "</style>\n",
       "<table border=\"1\" class=\"dataframe\">\n",
       "  <thead>\n",
       "    <tr style=\"text-align: right;\">\n",
       "      <th></th>\n",
       "      <th>pro_pro_count</th>\n",
       "      <th>loop_loop_count</th>\n",
       "      <th>pro_loop_count</th>\n",
       "    </tr>\n",
       "  </thead>\n",
       "  <tbody>\n",
       "    <tr>\n",
       "      <td>ALX1</td>\n",
       "      <td>0.023891</td>\n",
       "      <td>0.938567</td>\n",
       "      <td>0.037543</td>\n",
       "    </tr>\n",
       "    <tr>\n",
       "      <td>ARNT2</td>\n",
       "      <td>0.040593</td>\n",
       "      <td>0.909836</td>\n",
       "      <td>0.049571</td>\n",
       "    </tr>\n",
       "    <tr>\n",
       "      <td>BATF3</td>\n",
       "      <td>0.040000</td>\n",
       "      <td>0.913333</td>\n",
       "      <td>0.046667</td>\n",
       "    </tr>\n",
       "    <tr>\n",
       "      <td>CPEB1</td>\n",
       "      <td>0.027119</td>\n",
       "      <td>0.949153</td>\n",
       "      <td>0.023729</td>\n",
       "    </tr>\n",
       "    <tr>\n",
       "      <td>CREB3L1</td>\n",
       "      <td>0.023256</td>\n",
       "      <td>0.918605</td>\n",
       "      <td>0.058140</td>\n",
       "    </tr>\n",
       "    <tr>\n",
       "      <td>...</td>\n",
       "      <td>...</td>\n",
       "      <td>...</td>\n",
       "      <td>...</td>\n",
       "    </tr>\n",
       "    <tr>\n",
       "      <td>ZNF549</td>\n",
       "      <td>0.008000</td>\n",
       "      <td>0.936000</td>\n",
       "      <td>0.056000</td>\n",
       "    </tr>\n",
       "    <tr>\n",
       "      <td>ZNF554</td>\n",
       "      <td>0.038997</td>\n",
       "      <td>0.902507</td>\n",
       "      <td>0.058496</td>\n",
       "    </tr>\n",
       "    <tr>\n",
       "      <td>ZNF589</td>\n",
       "      <td>0.050094</td>\n",
       "      <td>0.899812</td>\n",
       "      <td>0.050094</td>\n",
       "    </tr>\n",
       "    <tr>\n",
       "      <td>ZNF708</td>\n",
       "      <td>0.018568</td>\n",
       "      <td>0.907162</td>\n",
       "      <td>0.074271</td>\n",
       "    </tr>\n",
       "    <tr>\n",
       "      <td>ZNF76</td>\n",
       "      <td>0.043257</td>\n",
       "      <td>0.890585</td>\n",
       "      <td>0.066158</td>\n",
       "    </tr>\n",
       "  </tbody>\n",
       "</table>\n",
       "<p>85 rows × 3 columns</p>\n",
       "</div>"
      ],
      "text/plain": [
       "         pro_pro_count  loop_loop_count  pro_loop_count\n",
       "ALX1          0.023891         0.938567        0.037543\n",
       "ARNT2         0.040593         0.909836        0.049571\n",
       "BATF3         0.040000         0.913333        0.046667\n",
       "CPEB1         0.027119         0.949153        0.023729\n",
       "CREB3L1       0.023256         0.918605        0.058140\n",
       "...                ...              ...             ...\n",
       "ZNF549        0.008000         0.936000        0.056000\n",
       "ZNF554        0.038997         0.902507        0.058496\n",
       "ZNF589        0.050094         0.899812        0.050094\n",
       "ZNF708        0.018568         0.907162        0.074271\n",
       "ZNF76         0.043257         0.890585        0.066158\n",
       "\n",
       "[85 rows x 3 columns]"
      ]
     },
     "execution_count": 19,
     "metadata": {},
     "output_type": "execute_result"
    }
   ],
   "source": [
    "motif_counts_df.div(motif_counts_df.sum(axis=1),axis=0)"
   ]
  },
  {
   "cell_type": "markdown",
   "metadata": {},
   "source": [
    "# 2. Vocabulary genomic instances - setup\n",
    "\n",
    "\n",
    "## 2A. find the locations"
   ]
  },
  {
   "cell_type": "code",
   "execution_count": 20,
   "metadata": {},
   "outputs": [
    {
     "data": {
      "text/plain": [
       "['../data/processed/fig4_modelling/tf_tf_pairs_stability/Airway_loop_loop_vocab_group.csv',\n",
       " '../data/processed/fig4_modelling/tf_tf_pairs_stability/Airway_pro_pro_vocab_group.csv',\n",
       " '../data/processed/fig4_modelling/tf_tf_pairs_stability/Airway_vocab_group.csv',\n",
       " '../data/processed/fig4_modelling/tf_tf_pairs_stability/Bladder_loop_loop_vocab_group.csv',\n",
       " '../data/processed/fig4_modelling/tf_tf_pairs_stability/GDSD6_loop_loop_vocab.csv',\n",
       " '../data/processed/fig4_modelling/tf_tf_pairs_stability/GDSD6_loop_loop_vocab_group.csv',\n",
       " '../data/processed/fig4_modelling/tf_tf_pairs_stability/GDSD6_pro_pro_vocab.csv',\n",
       " '../data/processed/fig4_modelling/tf_tf_pairs_stability/GDSD6_vocab.csv',\n",
       " '../data/processed/fig4_modelling/tf_tf_pairs_stability/GDSD6_vocab.xlsx',\n",
       " '../data/processed/fig4_modelling/tf_tf_pairs_stability/GM12878_loop_loop_vocab_group.csv',\n",
       " '../data/processed/fig4_modelling/tf_tf_pairs_stability/GM12878_pro_pro_vocab_group.csv',\n",
       " '../data/processed/fig4_modelling/tf_tf_pairs_stability/GM12878_vocab_group.csv',\n",
       " '../data/processed/fig4_modelling/tf_tf_pairs_stability/HMEC_loop_loop_vocab_group.csv',\n",
       " '../data/processed/fig4_modelling/tf_tf_pairs_stability/HMEC_pro_pro_vocab_group.csv',\n",
       " '../data/processed/fig4_modelling/tf_tf_pairs_stability/HMEC_vocab_group.csv',\n",
       " '../data/processed/fig4_modelling/tf_tf_pairs_stability/Ovarian_loop_loop_vocab_group.csv',\n",
       " '../data/processed/fig4_modelling/tf_tf_pairs_stability/Ovarian_pro_pro_vocab_group.csv',\n",
       " '../data/processed/fig4_modelling/tf_tf_pairs_stability/Ovarian_vocab_group.csv',\n",
       " '../data/processed/fig4_modelling/tf_tf_pairs_stability/Prostate_loop_loop_vocab.csv',\n",
       " '../data/processed/fig4_modelling/tf_tf_pairs_stability/Prostate_loop_loop_vocab_group.csv',\n",
       " '../data/processed/fig4_modelling/tf_tf_pairs_stability/Prostate_pro_pro_vocab.csv',\n",
       " '../data/processed/fig4_modelling/tf_tf_pairs_stability/Prostate_pro_pro_vocab_group.csv',\n",
       " '../data/processed/fig4_modelling/tf_tf_pairs_stability/Prostate_vocab.csv',\n",
       " '../data/processed/fig4_modelling/tf_tf_pairs_stability/Prostate_vocab_group.csv',\n",
       " '../data/processed/fig4_modelling/tf_tf_pairs_stability/Uterine_loop_loop_vocab_group.csv',\n",
       " '../data/processed/fig4_modelling/tf_tf_pairs_stability/Uterine_pro_pro_vocab_group.csv',\n",
       " '../data/processed/fig4_modelling/tf_tf_pairs_stability/Uterine_vocab_group.csv']"
      ]
     },
     "execution_count": 20,
     "metadata": {},
     "output_type": "execute_result"
    }
   ],
   "source": [
    "sorted(glob.glob('../data/processed/fig4_modelling/tf_tf_pairs_stability/'+'*vocab*'))"
   ]
  },
  {
   "cell_type": "code",
   "execution_count": 21,
   "metadata": {},
   "outputs": [
    {
     "data": {
      "text/plain": [
       "['../data/processed/fig4_modelling/tf_tf_pairs/expr_Airway_loop_loop_vocab_info.csv',\n",
       " '../data/processed/fig4_modelling/tf_tf_pairs/expr_Airway_pro_pro_vocab_info.csv',\n",
       " '../data/processed/fig4_modelling/tf_tf_pairs/expr_Astrocytes_loop_loop_vocab_info.csv',\n",
       " '../data/processed/fig4_modelling/tf_tf_pairs/expr_Astrocytes_pro_pro_vocab_info.csv',\n",
       " '../data/processed/fig4_modelling/tf_tf_pairs/expr_Bladder_loop_loop_vocab_info.csv',\n",
       " '../data/processed/fig4_modelling/tf_tf_pairs/expr_Bladder_pro_pro_vocab_info.csv',\n",
       " '../data/processed/fig4_modelling/tf_tf_pairs/expr_Colon_loop_loop_vocab_info.csv',\n",
       " '../data/processed/fig4_modelling/tf_tf_pairs/expr_Colon_pro_pro_vocab_info.csv',\n",
       " '../data/processed/fig4_modelling/tf_tf_pairs/expr_Esophageal_loop_loop_vocab_info.csv',\n",
       " '../data/processed/fig4_modelling/tf_tf_pairs/expr_Esophageal_pro_pro_vocab_info.csv',\n",
       " '../data/processed/fig4_modelling/tf_tf_pairs/expr_GDSD6_loop_loop_vocab_info.csv',\n",
       " '../data/processed/fig4_modelling/tf_tf_pairs/expr_GDSD6_pro_pro_vocab_info.csv',\n",
       " '../data/processed/fig4_modelling/tf_tf_pairs/expr_GM12878_loop_loop_vocab_info.csv',\n",
       " '../data/processed/fig4_modelling/tf_tf_pairs/expr_GM12878_pro_pro_vocab_info.csv',\n",
       " '../data/processed/fig4_modelling/tf_tf_pairs/expr_HMEC_loop_loop_vocab_info.csv',\n",
       " '../data/processed/fig4_modelling/tf_tf_pairs/expr_HMEC_pro_pro_vocab_info.csv',\n",
       " '../data/processed/fig4_modelling/tf_tf_pairs/expr_Melanocytes_loop_loop_vocab_info.csv',\n",
       " '../data/processed/fig4_modelling/tf_tf_pairs/expr_Melanocytes_pro_pro_vocab_info.csv',\n",
       " '../data/processed/fig4_modelling/tf_tf_pairs/expr_Ovarian_loop_loop_vocab_info.csv',\n",
       " '../data/processed/fig4_modelling/tf_tf_pairs/expr_Ovarian_pro_pro_vocab_info.csv',\n",
       " '../data/processed/fig4_modelling/tf_tf_pairs/expr_Pancreas_loop_loop_vocab_info.csv',\n",
       " '../data/processed/fig4_modelling/tf_tf_pairs/expr_Pancreas_pro_pro_vocab_info.csv',\n",
       " '../data/processed/fig4_modelling/tf_tf_pairs/expr_Prostate_loop_loop_vocab_info.csv',\n",
       " '../data/processed/fig4_modelling/tf_tf_pairs/expr_Prostate_pro_pro_vocab_info.csv',\n",
       " '../data/processed/fig4_modelling/tf_tf_pairs/expr_Renal_loop_loop_vocab_info.csv',\n",
       " '../data/processed/fig4_modelling/tf_tf_pairs/expr_Renal_pro_pro_vocab_info.csv',\n",
       " '../data/processed/fig4_modelling/tf_tf_pairs/expr_Thyroid_loop_loop_vocab_info.csv',\n",
       " '../data/processed/fig4_modelling/tf_tf_pairs/expr_Thyroid_pro_pro_vocab_info.csv',\n",
       " '../data/processed/fig4_modelling/tf_tf_pairs/expr_Uterine_loop_loop_vocab_info.csv',\n",
       " '../data/processed/fig4_modelling/tf_tf_pairs/expr_Uterine_pro_pro_vocab_info.csv',\n",
       " '../data/processed/fig4_modelling/tf_tf_pairs/unique_alltissue_loop_loop_vocab_info.csv',\n",
       " '../data/processed/fig4_modelling/tf_tf_pairs/unique_alltissue_pro_loop_vocab_info.csv',\n",
       " '../data/processed/fig4_modelling/tf_tf_pairs/unique_alltissue_pro_pro_vocab_info.csv',\n",
       " '../data/processed/fig4_modelling/tf_tf_pairs/unique_alltissue_vocab_info.csv',\n",
       " '../data/processed/fig4_modelling/tf_tf_pairs/unique_alltissue_vocab_info.xlsx']"
      ]
     },
     "execution_count": 21,
     "metadata": {},
     "output_type": "execute_result"
    }
   ],
   "source": [
    "sorted(glob.glob(vocab_dir+'*vocab*'))"
   ]
  },
  {
   "cell_type": "markdown",
   "metadata": {},
   "source": [
    "## 2B helper functions"
   ]
  },
  {
   "cell_type": "code",
   "execution_count": 8,
   "metadata": {},
   "outputs": [],
   "source": [
    "def get_other_vocab_word(row, next_row):\n",
    "    if row['vocab']!=next_row['vocab']:\n",
    "        return False\n",
    "    \n",
    "    vocab_word = set(row['tf'])\n",
    "    vocab_set = set(row['vocab'].split('::'))\n",
    "    other_vocab = list(vocab_set -  vocab_word)[0]\n",
    "    return other_vocab == next_row['tf']\n",
    "\n",
    "def check_distance(row,next_row,max_dist=MAX_DIST):\n",
    "    if row['chr_m']==next_row['chr_m']:\n",
    "        if row['stop_m']<next_row['start_m']:\n",
    "            tot_dist = next_row['stop_m'] - row['start_m']\n",
    "            btn_dist = next_row['start_m'] - row['stop_m']\n",
    "            return (tot_dist < max_dist), tot_dist, btn_dist\n",
    "    return False,-1,-1\n",
    "\n",
    "def check_tissue(row,next_row, tfs=TFS):\n",
    "    if (row['tf'] in tfs) & (next_row['tf'] in tfs):\n",
    "        return 'both'\n",
    "    elif (row['tf'] in tfs) | (next_row['tf'] in tfs):\n",
    "        return 'one'    \n",
    "    else:\n",
    "        return 'none'\n",
    "    \n",
    "def get_hits(vocab_file,tfs=TFS):\n",
    "    print('**** reading', vocab_file)\n",
    "    vocab_df = pd.read_csv(vocab_file)\n",
    "    print(vocab_df.shape)\n",
    "    idx = 0\n",
    "    idx_hits = 0\n",
    "    results_dict = {}\n",
    "    while idx < (vocab_df.shape[0]-1):\n",
    "        # look at next \n",
    "        row = vocab_df.iloc[idx,:]\n",
    "        next_row = vocab_df.iloc[idx+1,:]\n",
    "\n",
    "        check_vocab_pair = get_other_vocab_word(row,next_row)\n",
    "        check_dist,tot_dist, btn_dist = check_distance(row, next_row)\n",
    "        check_tissue_tf = check_tissue(row,next_row, tfs)\n",
    "        if (check_dist and check_vocab_pair):\n",
    "    #         print('hi',idx)\n",
    "    #         print(row)\n",
    "    #         print(next_row)\n",
    "\n",
    "            results_dict[idx_hits] = {'vocab_pair':row['vocab'],'tot_dist':tot_dist,'btn_dist':btn_dist,\n",
    "                                      'chr':row['chr'],'start':row['start_m'],'stop':next_row['stop_m'], \n",
    "                                      'vocab1':row['tf'],'vocab1_start':row['start_m'], 'vocab1_stop': row['stop_m'],\n",
    "                                      'vocab2':next_row['tf'],'vocab2_start':next_row['start_m'], 'vocab2_stop': next_row['stop_m'],\n",
    "                                      'genes':row['genes'],'num_genes':len(row['genes'].split('|')), 'tissue':row['tissue'],\n",
    "                                     'check_tissuetf':check_tissue_tf}\n",
    "            idx_hits+=1\n",
    "\n",
    "        idx+=1\n",
    "    print('num_hits',idx_hits)\n",
    "    results_df = pd.DataFrame.from_dict(results_dict, orient='index')\n",
    "    return results_df\n",
    "    \n",
    "def filter_results(results_df,min_hits_per_vocab=10):\n",
    "    print('shape', results_df.shape)\n",
    "    vocab_counts = results_df.vocab_pair.value_counts()\n",
    "    print('original num vocab',vocab_counts.shape[0])\n",
    "    vocab_to_include = vocab_counts[vocab_counts>min_hits_per_vocab].index.values\n",
    "    print('filt num vocab',vocab_to_include.shape[0])\n",
    "    \n",
    "    results_df_filt = results_df[results_df.vocab_pair.isin(vocab_to_include)]\n",
    "    return results_df_filt\n",
    "\n",
    "    "
   ]
  },
  {
   "cell_type": "markdown",
   "metadata": {},
   "source": [
    "# 3. Vocabulary genomic instances - running\n",
    "\n",
    "## 3A get expression and stability for loop-loop regions"
   ]
  },
  {
   "cell_type": "code",
   "execution_count": 9,
   "metadata": {},
   "outputs": [],
   "source": [
    "# ###TESTING PURPOSES\n",
    "# vocab_df = pd.read_csv('../data/processed/fig4_modelling/tf_tf_pairs/expr_GDSD6_pro_pro_vocab_info.csv')\n",
    "# print(vocab_df.shape)\n",
    "# vocab_df[:5]"
   ]
  },
  {
   "cell_type": "code",
   "execution_count": 10,
   "metadata": {},
   "outputs": [
    {
     "name": "stdout",
     "output_type": "stream",
     "text": [
      "**** reading ../data/processed/fig4_modelling/tf_tf_pairs/expr_Melanocytes_pro_pro_vocab_info.csv\n",
      "(20164, 15)\n",
      "num_hits 3863\n",
      "CPU times: user 8.26 s, sys: 27.9 ms, total: 8.29 s\n",
      "Wall time: 8.3 s\n"
     ]
    }
   ],
   "source": [
    "%%time\n",
    "# filtered so that at least 10 genomic instances of vocab pair in significantly found in expressed genes \n",
    "results_expr_pro_pro = get_hits('../data/processed/fig4_modelling/tf_tf_pairs/expr_'+TISSUE+'_pro_pro_vocab_info.csv')\n",
    "# results_stability_pro_pro = get_hits('../data/processed/fig4_modelling/tf_tf_pairs_stability/'+TISSUE+'_pro_pro_vocab.csv')\n",
    "\n",
    "#### NO STABILITY"
   ]
  },
  {
   "cell_type": "code",
   "execution_count": 36,
   "metadata": {},
   "outputs": [
    {
     "name": "stdout",
     "output_type": "stream",
     "text": [
      "**** reading ../data/processed/fig4_modelling/tf_tf_pairs/expr_Melanocytes_loop_loop_vocab_info.csv\n",
      "(33975, 15)\n",
      "num_hits 6475\n",
      "CPU times: user 14.9 s, sys: 57.8 ms, total: 15 s\n",
      "Wall time: 15 s\n"
     ]
    }
   ],
   "source": [
    "%%time\n",
    "### TAKES AWHILE\n",
    "results_expr_loop_loop = get_hits('../data/processed/fig4_modelling/tf_tf_pairs/expr_'+TISSUE+'_loop_loop_vocab_info.csv')\n",
    "# results_stability_loop_loop = get_hits('../data/processed/fig4_modelling/tf_tf_pairs_stability/'+TISSUE+'_loop_loop_vocab.csv')\n"
   ]
  },
  {
   "cell_type": "markdown",
   "metadata": {},
   "source": [
    "## 3B raw statistics (pre genomic instance filter)"
   ]
  },
  {
   "cell_type": "code",
   "execution_count": 37,
   "metadata": {},
   "outputs": [
    {
     "name": "stdout",
     "output_type": "stream",
     "text": [
      "num motifs in pro_pro 77\n",
      "['ALX1', 'ARNT2', 'BATF3', 'CPEB1', 'CREB3L1', 'E2F1', 'E2F4', 'E2F7', 'EBF1', 'EN2', 'ETV1', 'ETV2', 'FOXD3', 'FOXF2', 'FOXL1', 'GLI3', 'GLIS3', 'HEY1', 'HOXB3', 'HOXB8', 'HOXC10', 'HOXC11', 'HOXC6', 'HOXC8', 'HOXD3', 'HOXD8', 'HSF4', 'ID4', 'IRF4', 'KLF12', 'KLF15', 'KLF9', 'LEF1', 'LYL1', 'MAF', 'MEF2C', 'MEIS1', 'MEIS3', 'MITF', 'MYOD1', 'NFATC1', 'NFATC2', 'NFATC4', 'NR4A3', 'PAX3', 'PBX1', 'PLAG1', 'POU3F1', 'PRRX1', 'RARA', 'RARB', 'RARG', 'SALL4', 'SOX10', 'SOX5', 'SP2', 'TBX2', 'TBX3', 'TFAP2B', 'TFEB', 'TWIST1', 'ZBTB33', 'ZBTB6', 'ZFP82', 'ZNF18', 'ZNF219', 'ZNF324', 'ZNF333', 'ZNF41', 'ZNF418', 'ZNF423', 'ZNF436', 'ZNF449', 'ZNF554', 'ZNF589', 'ZNF708', 'ZNF76']\n",
      "num motifs in loop_loop 78\n",
      "['ALX1', 'ARNT2', 'BATF3', 'CPEB1', 'CREB3L1', 'E2F1', 'E2F4', 'E2F7', 'EBF1', 'EN2', 'ETV1', 'ETV2', 'FOXD3', 'FOXF2', 'FOXL1', 'GLI3', 'GLIS3', 'HEY1', 'HOXB3', 'HOXB8', 'HOXC10', 'HOXC11', 'HOXC6', 'HOXC8', 'HOXD8', 'HSF4', 'ID4', 'IRF4', 'KLF12', 'KLF15', 'KLF9', 'LEF1', 'LYL1', 'MAF', 'MEF2C', 'MEIS1', 'MEIS3', 'MITF', 'MYOD1', 'NFATC1', 'NFATC2', 'NFATC4', 'NR4A3', 'PAX3', 'PBX1', 'PLAG1', 'POU3F1', 'PRRX1', 'RARA', 'RARB', 'RARG', 'SALL4', 'SOX10', 'SOX5', 'SP2', 'TBX2', 'TBX3', 'TCF4', 'TFAP2B', 'TFEB', 'TWIST1', 'ZBTB33', 'ZBTB6', 'ZFP82', 'ZNF18', 'ZNF219', 'ZNF324', 'ZNF333', 'ZNF41', 'ZNF418', 'ZNF423', 'ZNF436', 'ZNF449', 'ZNF549', 'ZNF554', 'ZNF589', 'ZNF708', 'ZNF76']\n"
     ]
    }
   ],
   "source": [
    "motifs_pro_pro = sorted(set(list(results_expr_pro_pro.vocab1.unique())+list(results_expr_pro_pro.vocab2.unique())))\n",
    "print('num motifs in pro_pro', len(motifs_pro_pro))\n",
    "print(motifs_pro_pro)\n",
    "\n",
    "\n",
    "motifs_loop_loop = sorted(set(list(results_expr_loop_loop.vocab1.unique())+list(results_expr_loop_loop.vocab2.unique())))\n",
    "print('num motifs in loop_loop', len(motifs_loop_loop))\n",
    "print(motifs_loop_loop)"
   ]
  },
  {
   "cell_type": "code",
   "execution_count": 38,
   "metadata": {},
   "outputs": [
    {
     "name": "stdout",
     "output_type": "stream",
     "text": [
      "pre genomic instance filter\n",
      "num vocab in expression enrichment (pro-pro region):  376\n",
      "num vocab in expression enrichment (loop-loop region):  491\n"
     ]
    }
   ],
   "source": [
    "print('pre genomic instance filter')\n",
    "print('num vocab in expression enrichment (pro-pro region): ', results_expr_pro_pro.vocab_pair.unique().shape[0])\n",
    "# print('num vocab in expression enrichment intersected with stability (pro-pro region): ', results_stability_pro_pro.vocab_pair.unique().shape[0])\n",
    "# print(results_stability_pro_pro.vocab_pair.unique())\n",
    "print('num vocab in expression enrichment (loop-loop region): ', results_expr_loop_loop.vocab_pair.unique().shape[0])\n",
    "# print('num vocab in expression enrichment intersected with stability (loop-loop region): ', results_stability_loop_loop.vocab_pair.unique().shape[0])\n",
    "# print(results_stability_loop_loop.vocab_pair.unique())\n"
   ]
  },
  {
   "cell_type": "markdown",
   "metadata": {},
   "source": [
    "## 3C. filter expression enriched vocab words if then have at least 10 genomic instances then get stats"
   ]
  },
  {
   "cell_type": "code",
   "execution_count": 39,
   "metadata": {},
   "outputs": [
    {
     "name": "stdout",
     "output_type": "stream",
     "text": [
      "shape (4360, 16)\n",
      "original num vocab 376\n",
      "filt num vocab 75\n"
     ]
    }
   ],
   "source": [
    "results_expr_pro_pro = filter_results(results_expr_pro_pro,min_hits_per_vocab=10)\n",
    "# print(results_expr_pro_pro.vocab_pair.unique().shape)\n",
    "# results_expr_pro_pro.vocab_pair.unique()"
   ]
  },
  {
   "cell_type": "code",
   "execution_count": 40,
   "metadata": {},
   "outputs": [
    {
     "name": "stdout",
     "output_type": "stream",
     "text": [
      "shape (6475, 16)\n",
      "original num vocab 491\n",
      "filt num vocab 92\n"
     ]
    }
   ],
   "source": [
    "results_expr_loop_loop = filter_results(results_expr_loop_loop,min_hits_per_vocab=10)\n",
    "# print(results_expr_loop_loop.vocab_pair.unique().shape)\n",
    "# results_expr_loop_loop.vocab_pair.unique()"
   ]
  },
  {
   "cell_type": "code",
   "execution_count": 41,
   "metadata": {},
   "outputs": [],
   "source": [
    "# results_stability_pro_pro = filter_results(results_stability_pro_pro,min_hits_per_vocab=10)\n",
    "# results_stability_loop_loop = filter_results(results_stability_loop_loop,min_hits_per_vocab=10)\n"
   ]
  },
  {
   "cell_type": "code",
   "execution_count": 42,
   "metadata": {},
   "outputs": [
    {
     "name": "stdout",
     "output_type": "stream",
     "text": [
      "post genomic instance filter\n",
      "num vocab in expression enrichment (pro-pro region):  75\n",
      "['ARNT2::EN2' 'ARNT2::KLF15' 'ARNT2::SALL4' 'ARNT2::TFAP2B' 'ARNT2::ZNF76'\n",
      " 'E2F1::KLF15' 'E2F1::SALL4' 'E2F4::KLF15' 'E2F4::SALL4' 'E2F7::SALL4'\n",
      " 'EBF1::KLF12' 'EBF1::KLF15' 'EBF1::KLF9' 'EBF1::PRRX1' 'EN2::KLF12'\n",
      " 'EN2::KLF15' 'EN2::PRRX1' 'EN2::ZNF589' 'ETV2::KLF12' 'ETV2::KLF15'\n",
      " 'ETV2::KLF9' 'ETV2::NFATC4' 'ETV2::PRRX1' 'ETV2::SP2' 'ETV2::ZNF589'\n",
      " 'FOXF2::PRRX1' 'FOXL1::PRRX1' 'HOXB8::PRRX1' 'HOXC11::PRRX1'\n",
      " 'HOXD3::KLF12' 'HOXD3::KLF9' 'HOXD3::PRRX1' 'HOXD3::SP2' 'IRF4::KLF12'\n",
      " 'IRF4::PRRX1' 'KLF12::KLF15' 'KLF12::SALL4' 'KLF12::TFAP2B'\n",
      " 'KLF15::NFATC1' 'KLF15::PRRX1' 'KLF15::SALL4' 'KLF15::TBX3'\n",
      " 'KLF15::TFAP2B' 'KLF15::ZFP82' 'KLF15::ZNF18' 'KLF15::ZNF219'\n",
      " 'KLF15::ZNF324' 'KLF15::ZNF41' 'KLF15::ZNF423' 'KLF15::ZNF436'\n",
      " 'KLF15::ZNF589' 'KLF9::TFAP2B' 'MEIS1::PRRX1' 'MYOD1::PRRX1'\n",
      " 'NR4A3::PRRX1' 'PAX3::ZNF589' 'PBX1::PRRX1' 'PBX1::ZNF589'\n",
      " 'PLAG1::TFAP2B' 'POU3F1::PRRX1' 'POU3F1::ZNF589' 'PRRX1::RARG'\n",
      " 'PRRX1::SALL4' 'PRRX1::SOX10' 'PRRX1::TBX3' 'PRRX1::TFAP2B'\n",
      " 'PRRX1::ZBTB6' 'PRRX1::ZNF324' 'SALL4::ZNF219' 'SALL4::ZNF589'\n",
      " 'SP2::TFAP2B' 'SP2::ZNF324' 'TFAP2B::ZNF219' 'TFAP2B::ZNF589'\n",
      " 'ZNF324::ZNF589']\n",
      "num vocab in expression enrichment (loop-loop region):  92\n",
      "['ARNT2::EN2' 'ARNT2::ETV2' 'ARNT2::KLF15' 'ARNT2::RARA' 'ARNT2::SALL4'\n",
      " 'ARNT2::TFAP2B' 'ARNT2::ZNF324' 'E2F1::KLF15' 'E2F4::KLF15' 'E2F7::SALL4'\n",
      " 'EBF1::KLF12' 'EBF1::KLF15' 'EBF1::KLF9' 'EBF1::PRRX1' 'EN2::KLF12'\n",
      " 'EN2::KLF15' 'EN2::NFATC4' 'EN2::PRRX1' 'EN2::ZNF589' 'ETV2::KLF12'\n",
      " 'ETV2::KLF15' 'ETV2::KLF9' 'ETV2::NFATC4' 'ETV2::PRRX1' 'ETV2::ZNF589'\n",
      " 'FOXF2::PRRX1' 'FOXF2::ZNF589' 'FOXL1::NFATC4' 'FOXL1::PRRX1'\n",
      " 'HES7::PRRX1' 'HEY1::KLF15' 'HOXB8::PRRX1' 'HOXC11::PRRX1' 'HOXD3::PRRX1'\n",
      " 'HOXD8::KLF12' 'HOXD8::KLF15' 'HOXD8::ZNF589' 'IRF4::KLF12' 'IRF4::PRRX1'\n",
      " 'KLF12::KLF15' 'KLF12::NFATC1' 'KLF12::SALL4' 'KLF12::TFAP2B'\n",
      " 'KLF12::ZNF41' 'KLF15::MEIS1' 'KLF15::NFATC1' 'KLF15::PRRX1'\n",
      " 'KLF15::RARB' 'KLF15::SALL4' 'KLF15::TBX3' 'KLF15::TFAP2B' 'KLF15::TFEB'\n",
      " 'KLF15::ZFP82' 'KLF15::ZNF18' 'KLF15::ZNF219' 'KLF15::ZNF324'\n",
      " 'KLF15::ZNF41' 'KLF15::ZNF418' 'KLF15::ZNF423' 'KLF15::ZNF436'\n",
      " 'KLF15::ZNF589' 'KLF15::ZNF708' 'KLF9::TFAP2B' 'MYOD1::PRRX1'\n",
      " 'MYOD1::SP2' 'NFATC1::PRRX1' 'NFATC4::SOX10' 'NFATC4::TFAP2B'\n",
      " 'NR4A3::PRRX1' 'NR4A3::SP2' 'NR4A3::ZNF589' 'PAX3::ZNF589' 'PBX1::PRRX1'\n",
      " 'PBX1::ZNF589' 'PLAG1::TFAP2B' 'POU3F1::PRRX1' 'PRRX1::RARA'\n",
      " 'PRRX1::RARG' 'PRRX1::SALL4' 'PRRX1::SOX10' 'PRRX1::TBX3' 'PRRX1::TFAP2B'\n",
      " 'PRRX1::TFEB' 'PRRX1::ZNF324' 'SALL4::ZNF219' 'SALL4::ZNF589'\n",
      " 'SOX10::ZNF589' 'SP2::TFAP2B' 'SP2::ZNF324' 'TFAP2B::ZNF219'\n",
      " 'TFAP2B::ZNF589' 'ZNF324::ZNF589']\n"
     ]
    }
   ],
   "source": [
    "print('post genomic instance filter')\n",
    "print('num vocab in expression enrichment (pro-pro region): ', results_expr_pro_pro.vocab_pair.unique().shape[0])\n",
    "# print('num vocab in expression enrichment intersected with stability (pro-pro region): ', results_stability_pro_pro.vocab_pair.unique().shape[0])\n",
    "print(results_expr_pro_pro.vocab_pair.unique())\n",
    "print('num vocab in expression enrichment (loop-loop region): ', results_expr_loop_loop.vocab_pair.unique().shape[0])\n",
    "# print('num vocab in expression enrichment intersected with stability (loop-loop region): ', results_stability_loop_loop.vocab_pair.unique().shape[0])\n",
    "print(results_expr_loop_loop.vocab_pair.unique())\n"
   ]
  },
  {
   "cell_type": "code",
   "execution_count": 43,
   "metadata": {},
   "outputs": [
    {
     "data": {
      "text/plain": [
       "Series([], Name: vocab_pair, dtype: int64)"
      ]
     },
     "execution_count": 43,
     "metadata": {},
     "output_type": "execute_result"
    }
   ],
   "source": [
    "results_expr_loop_loop[results_expr_loop_loop.vocab_pair.str.contains('MITF')].vocab_pair.value_counts()"
   ]
  },
  {
   "cell_type": "markdown",
   "metadata": {},
   "source": [
    "## 3D filter expr vocab words based on whether there is they are annotated for skin"
   ]
  },
  {
   "cell_type": "code",
   "execution_count": 44,
   "metadata": {},
   "outputs": [
    {
     "data": {
      "text/plain": [
       "none    74\n",
       "one      4\n",
       "Name: check_tissuetf, dtype: int64"
      ]
     },
     "execution_count": 44,
     "metadata": {},
     "output_type": "execute_result"
    }
   ],
   "source": [
    "results_expr_pro_pro[['vocab_pair','check_tissuetf']].drop_duplicates().check_tissuetf.value_counts()"
   ]
  },
  {
   "cell_type": "code",
   "execution_count": 45,
   "metadata": {},
   "outputs": [
    {
     "data": {
      "text/plain": [
       "none    91\n",
       "one      5\n",
       "both     1\n",
       "Name: check_tissuetf, dtype: int64"
      ]
     },
     "execution_count": 45,
     "metadata": {},
     "output_type": "execute_result"
    }
   ],
   "source": [
    "results_expr_loop_loop[['vocab_pair','check_tissuetf']].drop_duplicates().check_tissuetf.value_counts()"
   ]
  },
  {
   "cell_type": "markdown",
   "metadata": {},
   "source": [
    "shows fraction of vocab words having tissue specific motif configuration (`both` are tissue specific, `one` is tissue specific, or `none` are)\n",
    "\n",
    "\n",
    "MAKE SURE #s are around 40 ish so pick `one` or `both`"
   ]
  },
  {
   "cell_type": "code",
   "execution_count": 46,
   "metadata": {},
   "outputs": [
    {
     "name": "stdout",
     "output_type": "stream",
     "text": [
      "pro-pro region\n",
      "total vocab: 75 tissue annon vocab: 75\n",
      "['ARNT2::EN2' 'ARNT2::KLF15' 'ARNT2::SALL4' 'ARNT2::TFAP2B' 'ARNT2::ZNF76'\n",
      " 'E2F1::KLF15' 'E2F1::SALL4' 'E2F4::KLF15' 'E2F4::SALL4' 'E2F7::SALL4'\n",
      " 'EBF1::KLF12' 'EBF1::KLF15' 'EBF1::KLF9' 'EBF1::PRRX1' 'EN2::KLF12'\n",
      " 'EN2::KLF15' 'EN2::PRRX1' 'EN2::ZNF589' 'ETV2::KLF12' 'ETV2::KLF15'\n",
      " 'ETV2::KLF9' 'ETV2::NFATC4' 'ETV2::PRRX1' 'ETV2::SP2' 'ETV2::ZNF589'\n",
      " 'FOXF2::PRRX1' 'FOXL1::PRRX1' 'HOXB8::PRRX1' 'HOXC11::PRRX1'\n",
      " 'HOXD3::KLF12' 'HOXD3::KLF9' 'HOXD3::PRRX1' 'HOXD3::SP2' 'IRF4::KLF12'\n",
      " 'IRF4::PRRX1' 'KLF12::KLF15' 'KLF12::SALL4' 'KLF12::TFAP2B'\n",
      " 'KLF15::NFATC1' 'KLF15::PRRX1' 'KLF15::SALL4' 'KLF15::TBX3'\n",
      " 'KLF15::TFAP2B' 'KLF15::ZFP82' 'KLF15::ZNF18' 'KLF15::ZNF219'\n",
      " 'KLF15::ZNF324' 'KLF15::ZNF41' 'KLF15::ZNF423' 'KLF15::ZNF436'\n",
      " 'KLF15::ZNF589' 'KLF9::TFAP2B' 'MEIS1::PRRX1' 'MYOD1::PRRX1'\n",
      " 'NR4A3::PRRX1' 'PAX3::ZNF589' 'PBX1::PRRX1' 'PBX1::ZNF589'\n",
      " 'PLAG1::TFAP2B' 'POU3F1::PRRX1' 'POU3F1::ZNF589' 'PRRX1::RARG'\n",
      " 'PRRX1::SALL4' 'PRRX1::SOX10' 'PRRX1::TBX3' 'PRRX1::TFAP2B'\n",
      " 'PRRX1::ZBTB6' 'PRRX1::ZNF324' 'SALL4::ZNF219' 'SALL4::ZNF589'\n",
      " 'SP2::TFAP2B' 'SP2::ZNF324' 'TFAP2B::ZNF219' 'TFAP2B::ZNF589'\n",
      " 'ZNF324::ZNF589']\n",
      "loop-loop region\n",
      "total vocab: 92 tissue annon vocab: 92\n",
      "['ARNT2::EN2' 'ARNT2::ETV2' 'ARNT2::KLF15' 'ARNT2::RARA' 'ARNT2::SALL4'\n",
      " 'ARNT2::TFAP2B' 'ARNT2::ZNF324' 'E2F1::KLF15' 'E2F4::KLF15' 'E2F7::SALL4'\n",
      " 'EBF1::KLF12' 'EBF1::KLF15' 'EBF1::KLF9' 'EBF1::PRRX1' 'EN2::KLF12'\n",
      " 'EN2::KLF15' 'EN2::NFATC4' 'EN2::PRRX1' 'EN2::ZNF589' 'ETV2::KLF12'\n",
      " 'ETV2::KLF15' 'ETV2::KLF9' 'ETV2::NFATC4' 'ETV2::PRRX1' 'ETV2::ZNF589'\n",
      " 'FOXF2::PRRX1' 'FOXF2::ZNF589' 'FOXL1::NFATC4' 'FOXL1::PRRX1'\n",
      " 'HES7::PRRX1' 'HEY1::KLF15' 'HOXB8::PRRX1' 'HOXC11::PRRX1' 'HOXD3::PRRX1'\n",
      " 'HOXD8::KLF12' 'HOXD8::KLF15' 'HOXD8::ZNF589' 'IRF4::KLF12' 'IRF4::PRRX1'\n",
      " 'KLF12::KLF15' 'KLF12::NFATC1' 'KLF12::SALL4' 'KLF12::TFAP2B'\n",
      " 'KLF12::ZNF41' 'KLF15::MEIS1' 'KLF15::NFATC1' 'KLF15::PRRX1'\n",
      " 'KLF15::RARB' 'KLF15::SALL4' 'KLF15::TBX3' 'KLF15::TFAP2B' 'KLF15::TFEB'\n",
      " 'KLF15::ZFP82' 'KLF15::ZNF18' 'KLF15::ZNF219' 'KLF15::ZNF324'\n",
      " 'KLF15::ZNF41' 'KLF15::ZNF418' 'KLF15::ZNF423' 'KLF15::ZNF436'\n",
      " 'KLF15::ZNF589' 'KLF15::ZNF708' 'KLF9::TFAP2B' 'MYOD1::PRRX1'\n",
      " 'MYOD1::SP2' 'NFATC1::PRRX1' 'NFATC4::SOX10' 'NFATC4::TFAP2B'\n",
      " 'NR4A3::PRRX1' 'NR4A3::SP2' 'NR4A3::ZNF589' 'PAX3::ZNF589' 'PBX1::PRRX1'\n",
      " 'PBX1::ZNF589' 'PLAG1::TFAP2B' 'POU3F1::PRRX1' 'PRRX1::RARA'\n",
      " 'PRRX1::RARG' 'PRRX1::SALL4' 'PRRX1::SOX10' 'PRRX1::TBX3' 'PRRX1::TFAP2B'\n",
      " 'PRRX1::TFEB' 'PRRX1::ZNF324' 'SALL4::ZNF219' 'SALL4::ZNF589'\n",
      " 'SOX10::ZNF589' 'SP2::TFAP2B' 'SP2::ZNF324' 'TFAP2B::ZNF219'\n",
      " 'TFAP2B::ZNF589' 'ZNF324::ZNF589']\n"
     ]
    }
   ],
   "source": [
    "filter_thres = ['none','one','both']#'both' # 'one'\n",
    "results_expr_pro_pro_tissue = results_expr_pro_pro[results_expr_pro_pro.check_tissuetf.isin(filter_thres)]\n",
    "print('pro-pro region')\n",
    "print('total vocab:',results_expr_pro_pro.vocab_pair.unique().shape[0],'tissue annon vocab:', results_expr_pro_pro_tissue.vocab_pair.unique().shape[0])\n",
    "print(results_expr_pro_pro_tissue.vocab_pair.unique())\n",
    "\n",
    "results_expr_loop_loop_tissue = results_expr_loop_loop[results_expr_loop_loop.check_tissuetf.isin(filter_thres)]\n",
    "print('loop-loop region')\n",
    "print('total vocab:',results_expr_loop_loop.vocab_pair.unique().shape[0],'tissue annon vocab:', results_expr_loop_loop_tissue.vocab_pair.unique().shape[0])\n",
    "print(results_expr_loop_loop_tissue.vocab_pair.unique())"
   ]
  },
  {
   "cell_type": "markdown",
   "metadata": {},
   "source": [
    "## 3E add in stability scores vocab pairs that pass the genomic instance filter and get genomic instance counts"
   ]
  },
  {
   "cell_type": "code",
   "execution_count": 51,
   "metadata": {},
   "outputs": [],
   "source": [
    "def get_counts(results_df, label):\n",
    "    vocab_to_checktissue = pd.Series(results_df.check_tissuetf.values, index=results_df.vocab_pair.values).to_dict()\n",
    "    counts_df = pd.DataFrame(results_df.vocab_pair.value_counts())\n",
    "    counts_df.columns = ['num_instance']\n",
    "    counts_df['label']=label\n",
    "    counts_df.index.set_names('vocab',inplace=True)\n",
    "    counts_df.reset_index(inplace=True)\n",
    "\n",
    "    counts_df['check_tissue'] = counts_df.vocab.map(vocab_to_checktissue)\n",
    "    return counts_df"
   ]
  },
  {
   "cell_type": "code",
   "execution_count": 52,
   "metadata": {},
   "outputs": [
    {
     "data": {
      "text/plain": [
       "expr_pro_tissue|expr_loop_tissue    65\n",
       "expr_loop_tissue                    27\n",
       "expr_pro_tissue                     10\n",
       "Name: label, dtype: int64"
      ]
     },
     "execution_count": 52,
     "metadata": {},
     "output_type": "execute_result"
    }
   ],
   "source": [
    "vocab_summary_df = pd.concat([ #get_counts(results_stability_pro_pro, 'stability_pro'),\n",
    "            get_counts(results_expr_pro_pro_tissue, 'expr_pro_tissue'),\n",
    "#             get_counts(results_stability_loop_loop, 'stability_loop'),\n",
    "            get_counts(results_expr_loop_loop_tissue, 'expr_loop_tissue')],axis=0)\n",
    "vocab_summary_df = vocab_summary_df.groupby('vocab').agg({'num_instance':sum, 'check_tissue':lambda x: ''.join(list(set(x))),'label':'|'.join}).reset_index()\n",
    "vocab_summary_df['tissue']=TISSUE\n",
    "vocab_summary_df.label.value_counts()\n",
    "# results_stability_loop_loop.vocab_pair.unique()"
   ]
  },
  {
   "cell_type": "code",
   "execution_count": 53,
   "metadata": {},
   "outputs": [
    {
     "data": {
      "text/html": [
       "<div>\n",
       "<style scoped>\n",
       "    .dataframe tbody tr th:only-of-type {\n",
       "        vertical-align: middle;\n",
       "    }\n",
       "\n",
       "    .dataframe tbody tr th {\n",
       "        vertical-align: top;\n",
       "    }\n",
       "\n",
       "    .dataframe thead th {\n",
       "        text-align: right;\n",
       "    }\n",
       "</style>\n",
       "<table border=\"1\" class=\"dataframe\">\n",
       "  <thead>\n",
       "    <tr style=\"text-align: right;\">\n",
       "      <th></th>\n",
       "      <th>vocab</th>\n",
       "      <th>num_instance</th>\n",
       "      <th>check_tissue</th>\n",
       "      <th>label</th>\n",
       "      <th>tissue</th>\n",
       "    </tr>\n",
       "  </thead>\n",
       "  <tbody>\n",
       "    <tr>\n",
       "      <td>0</td>\n",
       "      <td>ARNT2::EN2</td>\n",
       "      <td>32</td>\n",
       "      <td>none</td>\n",
       "      <td>expr_pro_tissue|expr_loop_tissue</td>\n",
       "      <td>Melanocytes</td>\n",
       "    </tr>\n",
       "    <tr>\n",
       "      <td>1</td>\n",
       "      <td>ARNT2::ETV2</td>\n",
       "      <td>12</td>\n",
       "      <td>none</td>\n",
       "      <td>expr_loop_tissue</td>\n",
       "      <td>Melanocytes</td>\n",
       "    </tr>\n",
       "    <tr>\n",
       "      <td>2</td>\n",
       "      <td>ARNT2::KLF15</td>\n",
       "      <td>200</td>\n",
       "      <td>none</td>\n",
       "      <td>expr_pro_tissue|expr_loop_tissue</td>\n",
       "      <td>Melanocytes</td>\n",
       "    </tr>\n",
       "    <tr>\n",
       "      <td>3</td>\n",
       "      <td>ARNT2::RARA</td>\n",
       "      <td>13</td>\n",
       "      <td>none</td>\n",
       "      <td>expr_loop_tissue</td>\n",
       "      <td>Melanocytes</td>\n",
       "    </tr>\n",
       "    <tr>\n",
       "      <td>4</td>\n",
       "      <td>ARNT2::SALL4</td>\n",
       "      <td>25</td>\n",
       "      <td>none</td>\n",
       "      <td>expr_pro_tissue|expr_loop_tissue</td>\n",
       "      <td>Melanocytes</td>\n",
       "    </tr>\n",
       "  </tbody>\n",
       "</table>\n",
       "</div>"
      ],
      "text/plain": [
       "          vocab  num_instance check_tissue                             label  \\\n",
       "0    ARNT2::EN2            32         none  expr_pro_tissue|expr_loop_tissue   \n",
       "1   ARNT2::ETV2            12         none                  expr_loop_tissue   \n",
       "2  ARNT2::KLF15           200         none  expr_pro_tissue|expr_loop_tissue   \n",
       "3   ARNT2::RARA            13         none                  expr_loop_tissue   \n",
       "4  ARNT2::SALL4            25         none  expr_pro_tissue|expr_loop_tissue   \n",
       "\n",
       "        tissue  \n",
       "0  Melanocytes  \n",
       "1  Melanocytes  \n",
       "2  Melanocytes  \n",
       "3  Melanocytes  \n",
       "4  Melanocytes  "
      ]
     },
     "execution_count": 53,
     "metadata": {},
     "output_type": "execute_result"
    }
   ],
   "source": [
    "vocab_summary_df[:5]"
   ]
  },
  {
   "cell_type": "code",
   "execution_count": 54,
   "metadata": {},
   "outputs": [],
   "source": [
    "vocab_summary_df.to_csv(os.path.join(save_dir, TISSUE+'_vocab_summary.csv'))"
   ]
  },
  {
   "cell_type": "code",
   "execution_count": null,
   "metadata": {},
   "outputs": [],
   "source": []
  }
 ],
 "metadata": {
  "kernelspec": {
   "display_name": "Python 3",
   "language": "python",
   "name": "python3"
  },
  "language_info": {
   "codemirror_mode": {
    "name": "ipython",
    "version": 3
   },
   "file_extension": ".py",
   "mimetype": "text/x-python",
   "name": "python",
   "nbconvert_exporter": "python",
   "pygments_lexer": "ipython3",
   "version": "3.7.4"
  }
 },
 "nbformat": 4,
 "nbformat_minor": 4
}
