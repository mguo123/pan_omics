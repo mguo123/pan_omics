{
 "cells": [
  {
   "cell_type": "markdown",
   "metadata": {},
   "source": [
    "# Statistics\n",
    "\n",
    "11/02/2019\n",
    "\n",
    "use the data tables \n"
   ]
  },
  {
   "cell_type": "code",
   "execution_count": 15,
   "metadata": {},
   "outputs": [],
   "source": [
    "# import rpy2.robjects.lib.ggplot2 as ggplot2\n",
    "# from rpy2.robjects import r, pandas2ri\n",
    "# pandas2ri.activate()\n",
    "\n",
    "# import rpy2.robjects.packages as importr\n",
    "\n",
    "# %load_ext rpy2.ipython"
   ]
  },
  {
   "cell_type": "code",
   "execution_count": 1,
   "metadata": {},
   "outputs": [],
   "source": [
    "import pandas as pd\n",
    "from plotnine import *\n",
    "\n",
    "import networkx as nx\n",
    "import random\n",
    "import numpy as np\n",
    "import os, sys, glob\n",
    "from collections import defaultdict, Counter\n",
    "import ast\n",
    "import itertools\n",
    "import seaborn as sns\n",
    "sns.set(color_codes=True)\n",
    "from scipy import stats\n",
    "\n",
    "\n",
    "\n",
    "import matplotlib.pyplot as plt"
   ]
  },
  {
   "cell_type": "code",
   "execution_count": 2,
   "metadata": {},
   "outputs": [],
   "source": [
    "output_dir = 'diffloop_data/bedpe_files_csvs/'\n",
    "output_dir_LK = 'diffloop_data/bedpe_files_csvs_LK/'\n",
    "\n",
    "#### MODIFY WHEN NEW DATA COMES\n",
    "output_dir = output_dir_LK\n",
    "\n",
    "\n",
    "tissues = ['Air',\n",
    " 'Astro',\n",
    " 'Blad',\n",
    " 'Colon',\n",
    " 'Eso',\n",
    " 'GDSD0',\n",
    " 'GDSD3',\n",
    " 'GDSD6',\n",
    " 'GM12878',\n",
    " 'HMEC',\n",
    " 'MC',\n",
    " 'Ova',\n",
    " 'Panc',\n",
    " 'Pros',\n",
    " 'Renal',\n",
    " 'Thy',\n",
    " 'Uter']\n",
    "type_prefix='-5000-separate'"
   ]
  },
  {
   "cell_type": "code",
   "execution_count": 3,
   "metadata": {},
   "outputs": [],
   "source": [
    "# df1 = pd.read_csv(os.path.join(output_dir, 'MC'+type_prefix+'-merged.anchors.csv'),index_col=0)\n",
    "# df2 = pd.read_csv(os.path.join(output_dir_LK, \"MC\"+type_prefix+'-merged.anchors.csv'),index_col=0)\n",
    "# df1 = df1.merge(df2, on=['anchors', 'chr', 'start', 'end', 'sample', 'atac_regions', 'num_atac_regions', 'snp', 'num_snp'])\n",
    "# print(df1.shape)\n",
    "# df1[(df1['gene_x']!=df1['gene_y']) & (df1[['gene_x','gene_y']].notna().all(axis=1))]"
   ]
  },
  {
   "cell_type": "code",
   "execution_count": 4,
   "metadata": {},
   "outputs": [],
   "source": [
    "# df1[df1[['gene_x','gene_y']].notna().all(axis=1)][['gene_x', 'gene_y']]"
   ]
  },
  {
   "cell_type": "code",
   "execution_count": 5,
   "metadata": {},
   "outputs": [],
   "source": [
    "# (df1['gene_x']!=df1['gene_y'])"
   ]
  },
  {
   "cell_type": "code",
   "execution_count": 6,
   "metadata": {},
   "outputs": [],
   "source": [
    "# anchor_tissue_dict[tissue][:6]"
   ]
  },
  {
   "cell_type": "code",
   "execution_count": 7,
   "metadata": {},
   "outputs": [
    {
     "name": "stdout",
     "output_type": "stream",
     "text": [
      "Air (26056, 11)\n",
      "Astro (97103, 11)\n",
      "Blad (93584, 11)\n",
      "Colon (101559, 11)\n",
      "Eso (90014, 11)\n",
      "GDSD0 (98754, 11)\n",
      "GDSD3 (102648, 11)\n",
      "GDSD6 (88943, 11)\n",
      "GM12878 (83619, 11)\n",
      "HMEC (71426, 11)\n",
      "MC (63043, 11)\n",
      "Ova (89008, 11)\n",
      "Panc (61609, 11)\n",
      "Pros (136934, 11)\n",
      "Renal (116247, 11)\n",
      "Thy (87756, 11)\n",
      "Uter (168205, 11)\n",
      "Air (29646, 3)\n",
      "Astro (194682, 3)\n",
      "Blad (180684, 3)\n",
      "Colon (226720, 3)\n",
      "Eso (213658, 3)\n",
      "GDSD0 (170716, 3)\n",
      "GDSD3 (187809, 3)\n",
      "GDSD6 (170366, 3)\n",
      "GM12878 (167347, 3)\n",
      "HMEC (110176, 3)\n",
      "MC (82124, 3)\n",
      "Ova (178829, 3)\n",
      "Panc (99357, 3)\n",
      "Pros (265992, 3)\n",
      "Renal (223889, 3)\n",
      "Thy (173987, 3)\n",
      "Uter (399576, 3)\n"
     ]
    }
   ],
   "source": [
    "anchor_tissue_dict = {}\n",
    "anchor_tissue_dict_TSS = {}\n",
    "anchor_tissue_dict = {}\n",
    "hichip_tissue_dict={}\n",
    "\n",
    "for tissue in tissues: \n",
    "    df = pd.read_csv(os.path.join(output_dir, tissue+type_prefix+'-merged.anchors.csv'),index_col=0)\n",
    "    print(tissue, df.shape)\n",
    "#     df = pd.read_csv(os.path.join(output_dir_LK, tissue+type_prefix+'-merged.anchors.csv'),index_col=0)\n",
    "    anchor_tissue_dict[tissue] = df\n",
    "        \n",
    "\n",
    "for tissue in tissues: \n",
    "    df = pd.read_csv(os.path.join(output_dir, tissue+type_prefix+'-merged.loops.csv'),index_col=0)\n",
    "    print(tissue, df.shape)\n",
    "    hichip_tissue_dict[tissue] = df\n"
   ]
  },
  {
   "cell_type": "code",
   "execution_count": 8,
   "metadata": {},
   "outputs": [
    {
     "name": "stdout",
     "output_type": "stream",
     "text": [
      "Air\n",
      "Astro\n",
      "Blad\n",
      "Colon\n",
      "Eso\n",
      "GDSD0\n",
      "GDSD3\n",
      "GDSD6\n",
      "GM12878\n",
      "HMEC\n",
      "MC\n",
      "Ova\n",
      "Panc\n",
      "Pros\n",
      "Renal\n",
      "Thy\n",
      "Uter\n"
     ]
    }
   ],
   "source": [
    "# overall_snp_df = pd.DataFrame([])\n",
    "# for tissue,df in sorted(hichip_tissue_dict.items(), key=lambda x:x[0]):\n",
    "#     print(tissue)\n",
    "overall_stats_dict = {}\n",
    "for tissue in tissues:\n",
    "# tissue = 'MC'\n",
    "    tissue_stats_dict = {}\n",
    "    anchors_df = anchor_tissue_dict[tissue]\n",
    "    df = hichip_tissue_dict[tissue]\n",
    "\n",
    "    print(tissue)\n",
    "#     print(anchors_df.columns)\n",
    "    anchors_df['is_acc']= anchors_df['num_atac_regions']>0\n",
    "    if 'num_TSS' in anchors_df.columns:\n",
    "        anchors_df['is_promoter'] = anchors_df['num_TSS']>0\n",
    "    else:\n",
    "        anchors_df['is_promoter'] = anchors_df['num_gene']>0\n",
    "        \n",
    "    anchors_df['is_promoter_acc'] = anchors_df['is_promoter'] & anchors_df['is_acc']\n",
    "\n",
    "    # Loose defintion: frac_PIR + frac_P = 1\n",
    "    anchors_df['is_PIR'] = ~anchors_df['is_promoter']\n",
    "    # IF YOU WANT NON-INTERGENIC REGIONS THEN USE PIR_STRICT DEFINITION (NOT USED) - must have latest file version\n",
    "    # in this case some promoters are also annotated as genomic regions in Gencode so frac_PIR + frac_P + frac_gene > 1\n",
    "    # anchors_df['is_intergene'] = anchors_df['num_gene']>0\n",
    "    # anchors_df['is_intergene_acc'] = anchors_df['is_intergene'] & anchors_df['is_acc']\n",
    "    \n",
    "    # anchors_df['is_PIR_strict'] = (~anchors_df['is_promoter']) & (~anchors_df['is_intergene']) \n",
    "    anchors_df['is_PIR_acc'] = anchors_df['is_PIR'] & anchors_df['is_acc']\n",
    "\n",
    "    for c in anchors_df[['is_acc', 'is_promoter', 'is_promoter_acc','is_PIR', 'is_PIR_acc'\n",
    "                            ## UNCOMMENT IF CARE ABOUT INTERGENE DIFFERENTIATION\n",
    "#                          ,'is_intergene','is_intergene_acc'\n",
    "                        ]].columns:\n",
    "#         print( \"---- %s ---\" % c)\n",
    "#         print (anchors_df[c].value_counts(normalize=True)[True])\n",
    "        tissue_stats_dict[c] = anchors_df[c].value_counts(normalize=True)[True]\n",
    "\n",
    "    tissue_stats_dict['num_loops']=df.shape[0]\n",
    "    df_annon = df.merge(anchors_df,left_on='source', right_on='anchors')\n",
    "    df_annon = df_annon.merge(anchors_df,left_on='target', right_on='anchors',suffixes=[\"_A\",\"_B\"])\n",
    "#     df_annon['min_atac'] = df_annon[['num_atac_regions_A','num_atac_regions_B']].min(axis=1)\n",
    "#     df_annon['sum_snps'] = df_annon['num_snp_A'] + df_annon['num_snp_B']\n",
    "#     df_annon['sum_gene'] = df_annon['num_gene_A'] + df_annon['num_gene_B']\n",
    "#     df_annon['sum_TSS'] = df_annon['num_TSS_A'] + df_annon['num_TSS_B']\n",
    "#     df_annon['tissue'] = tissue\n",
    "\n",
    "    # df_annon ATAC PERCENTAGES\n",
    "    df_annon['loop_is_both_acc'] = df_annon['is_acc_A'] & df_annon['is_acc_B']\n",
    "    df_annon['loop_is_one_acc'] = df_annon['is_acc_A'] | df_annon['is_acc_B']\n",
    "    # df_annon['loop_is_not_acc'] = ~df_annon['loop_is_one_acc'] \n",
    "    df_annon['loop_PIR_PIR'] = df_annon['is_PIR_A'] & df_annon['is_PIR_B']\n",
    "    df_annon['loop_PIR_PIR_acc'] = df_annon['loop_PIR_PIR'] & df_annon['is_acc_A'] & df_annon['is_acc_B']\n",
    "    df_annon['loop_P_PIR'] = (df_annon['is_PIR_A'] & df_annon['is_promoter_B']) | (df_annon['is_PIR_B'] & df_annon['is_promoter_A'])\n",
    "    df_annon['loop_P_PIR_acc'] = df_annon['loop_P_PIR'] & df_annon['is_acc_A'] & df_annon['is_acc_B']\n",
    "    df_annon['loop_P_P'] = df_annon['is_promoter_A'] & df_annon['is_promoter_B']\n",
    "    df_annon['loop_P_P_acc'] = df_annon['loop_P_P'] & df_annon['is_acc_A'] & df_annon['is_acc_B']\n",
    "    ## UNCOMMENT IF CARE ABOUT INTERGENE DIFFERENTIATION\n",
    "#     df_annon['loop_P_P_gene_TSS'] = (df_annon['is_promoter_A'] | df_annon['is_intergene_A']) & (df_annon['is_promoter_B'] | df_annon['is_intergene_B'])\n",
    "#     df_annon['loop_P_P_gene_TSS_acc'] = df_annon['loop_P_P_gene_TSS'] & df_annon['is_acc_A'] & df_annon['is_acc_B']\n",
    "#     df_annon['loop_P_PIR_gene_TSS'] = ((df_annon['is_promoter_A'] | df_annon['is_intergene_A']) & df_annon['is_PIR_B']) | \\\n",
    "#                                             ((df_annon['is_promoter_B'] | df_annon['is_intergene_B']) & df_annon['is_PIR_A'])\n",
    "#     df_annon['loop_P_PIR_gene_TSS_acc'] = df_annon['loop_P_PIR_gene_TSS'] & df_annon['is_acc_A'] & df_annon['is_acc_B']\n",
    "\n",
    "    for c in df_annon[['loop_is_both_acc',\n",
    "           'loop_is_one_acc', 'loop_PIR_PIR',\n",
    "           'loop_PIR_PIR_acc', 'loop_P_PIR', 'loop_P_PIR_acc', 'loop_P_P',\n",
    "           'loop_P_P_acc'\n",
    "                    ## UNCOMMENT IF CARE ABOUT INTERGENE DIFFERENTIATION\n",
    "#                        , 'loop_P_P_gene_TSS', 'loop_P_P_gene_TSS_acc', \n",
    "#                       'loop_P_PIR_gene_TSS', 'loop_P_PIR_gene_TSS_acc'\n",
    "                      ]].columns:\n",
    "#         print( \"---- %s ---\" % c)\n",
    "#         print (df_annon[c].value_counts(normalize=True)[True])\n",
    "        tissue_stats_dict[c] = df_annon[c].value_counts(normalize=True)[True]\n",
    "\n",
    "    # df_annon_filt = df_annon[(df_annon.sum_gene>0) & (df_annon.sum_snps>0) ]\n",
    "    #     print(tissue, df_annon_filt.shape)#, overall_snp_df.shape)\n",
    "    #     if overall_snp_df.shape[0]==0:\n",
    "    #         overall_snp_df = df_annon_filt\n",
    "    #     else:\n",
    "    #         overall_snp_df = pd.concat([overall_snp_df, df_annon_filt], ignore_index=True)\n",
    "    # print(tissue_stats_dict)\n",
    "#     df_annon[:5]\n",
    "    overall_stats_dict[tissue]=tissue_stats_dict\n"
   ]
  },
  {
   "cell_type": "code",
   "execution_count": 9,
   "metadata": {},
   "outputs": [],
   "source": [
    "overall_stats_df = pd.DataFrame.from_dict(overall_stats_dict,orient='index')\n",
    "overall_stats_df_select = overall_stats_df[['loop_P_P_acc', 'loop_P_PIR_acc', 'loop_PIR_PIR_acc']]"
   ]
  },
  {
   "cell_type": "code",
   "execution_count": 10,
   "metadata": {},
   "outputs": [],
   "source": [
    "# # overall_stats_df.to_csv('looping_stats.csv') \n",
    "# # display(overall_stats_df)\n",
    "# with open('networks/looping_stats_1107.csv', 'w') as f:\n",
    "#     header=','.join(['tissue']+list(overall_stats_df.columns))+'\\n'\n",
    "#     f.write(header)\n",
    "#     for idx,line in overall_stats_df.iterrows(): \n",
    "#         new_line = ','.join([idx]+[str(x) for x in line])+'\\n'\n",
    "#         f.write(new_line)"
   ]
  },
  {
   "cell_type": "code",
   "execution_count": 11,
   "metadata": {},
   "outputs": [],
   "source": [
    "overall_stats_df.to_csv('networks/looping_stats_1107.csv')"
   ]
  },
  {
   "cell_type": "code",
   "execution_count": 12,
   "metadata": {},
   "outputs": [
    {
     "name": "stderr",
     "output_type": "stream",
     "text": [
      "/Users/margaret/anaconda3/lib/python3.6/site-packages/ipykernel_launcher.py:1: SettingWithCopyWarning: \n",
      "A value is trying to be set on a copy of a slice from a DataFrame.\n",
      "Try using .loc[row_indexer,col_indexer] = value instead\n",
      "\n",
      "See the caveats in the documentation: http://pandas.pydata.org/pandas-docs/stable/indexing.html#indexing-view-versus-copy\n",
      "  \"\"\"Entry point for launching an IPython kernel.\n"
     ]
    }
   ],
   "source": [
    "overall_stats_df_select['tissue'] = overall_stats_df_select.index\n",
    "overall_stats_df_select_long = pd.melt(overall_stats_df_select,id_vars='tissue')"
   ]
  },
  {
   "cell_type": "code",
   "execution_count": 13,
   "metadata": {},
   "outputs": [
    {
     "data": {
      "text/html": [
       "<div>\n",
       "<style scoped>\n",
       "    .dataframe tbody tr th:only-of-type {\n",
       "        vertical-align: middle;\n",
       "    }\n",
       "\n",
       "    .dataframe tbody tr th {\n",
       "        vertical-align: top;\n",
       "    }\n",
       "\n",
       "    .dataframe thead th {\n",
       "        text-align: right;\n",
       "    }\n",
       "</style>\n",
       "<table border=\"1\" class=\"dataframe\">\n",
       "  <thead>\n",
       "    <tr style=\"text-align: right;\">\n",
       "      <th></th>\n",
       "      <th>tissue</th>\n",
       "      <th>variable</th>\n",
       "      <th>value</th>\n",
       "    </tr>\n",
       "  </thead>\n",
       "  <tbody>\n",
       "    <tr>\n",
       "      <th>0</th>\n",
       "      <td>Air</td>\n",
       "      <td>loop_P_P_acc</td>\n",
       "      <td>0.020542</td>\n",
       "    </tr>\n",
       "    <tr>\n",
       "      <th>1</th>\n",
       "      <td>Astro</td>\n",
       "      <td>loop_P_P_acc</td>\n",
       "      <td>0.009698</td>\n",
       "    </tr>\n",
       "    <tr>\n",
       "      <th>2</th>\n",
       "      <td>Blad</td>\n",
       "      <td>loop_P_P_acc</td>\n",
       "      <td>0.019172</td>\n",
       "    </tr>\n",
       "    <tr>\n",
       "      <th>3</th>\n",
       "      <td>Colon</td>\n",
       "      <td>loop_P_P_acc</td>\n",
       "      <td>0.038700</td>\n",
       "    </tr>\n",
       "    <tr>\n",
       "      <th>4</th>\n",
       "      <td>Eso</td>\n",
       "      <td>loop_P_P_acc</td>\n",
       "      <td>0.039774</td>\n",
       "    </tr>\n",
       "  </tbody>\n",
       "</table>\n",
       "</div>"
      ],
      "text/plain": [
       "  tissue      variable     value\n",
       "0    Air  loop_P_P_acc  0.020542\n",
       "1  Astro  loop_P_P_acc  0.009698\n",
       "2   Blad  loop_P_P_acc  0.019172\n",
       "3  Colon  loop_P_P_acc  0.038700\n",
       "4    Eso  loop_P_P_acc  0.039774"
      ]
     },
     "execution_count": 13,
     "metadata": {},
     "output_type": "execute_result"
    }
   ],
   "source": [
    "overall_stats_df_select_long[:5]"
   ]
  },
  {
   "cell_type": "code",
   "execution_count": 14,
   "metadata": {},
   "outputs": [
    {
     "name": "stderr",
     "output_type": "stream",
     "text": [
      "/Users/margaret/anaconda3/lib/python3.6/site-packages/plotnine/scales/scale.py:93: MatplotlibDeprecationWarning: \n",
      "The iterable function was deprecated in Matplotlib 3.1 and will be removed in 3.3. Use np.iterable instead.\n",
      "  if cbook.iterable(self.breaks) and cbook.iterable(self.labels):\n",
      "/Users/margaret/anaconda3/lib/python3.6/site-packages/plotnine/scales/scale.py:93: MatplotlibDeprecationWarning: \n",
      "The iterable function was deprecated in Matplotlib 3.1 and will be removed in 3.3. Use np.iterable instead.\n",
      "  if cbook.iterable(self.breaks) and cbook.iterable(self.labels):\n",
      "/Users/margaret/anaconda3/lib/python3.6/site-packages/plotnine/scales/scale.py:93: MatplotlibDeprecationWarning: \n",
      "The iterable function was deprecated in Matplotlib 3.1 and will be removed in 3.3. Use np.iterable instead.\n",
      "  if cbook.iterable(self.breaks) and cbook.iterable(self.labels):\n",
      "/Users/margaret/anaconda3/lib/python3.6/site-packages/plotnine/utils.py:553: MatplotlibDeprecationWarning: \n",
      "The iterable function was deprecated in Matplotlib 3.1 and will be removed in 3.3. Use np.iterable instead.\n",
      "  return cbook.iterable(var) and not is_string(var)\n",
      "/Users/margaret/anaconda3/lib/python3.6/site-packages/plotnine/utils.py:553: MatplotlibDeprecationWarning: \n",
      "The iterable function was deprecated in Matplotlib 3.1 and will be removed in 3.3. Use np.iterable instead.\n",
      "  return cbook.iterable(var) and not is_string(var)\n",
      "/Users/margaret/anaconda3/lib/python3.6/site-packages/plotnine/utils.py:553: MatplotlibDeprecationWarning: \n",
      "The iterable function was deprecated in Matplotlib 3.1 and will be removed in 3.3. Use np.iterable instead.\n",
      "  return cbook.iterable(var) and not is_string(var)\n",
      "/Users/margaret/anaconda3/lib/python3.6/site-packages/plotnine/utils.py:553: MatplotlibDeprecationWarning: \n",
      "The iterable function was deprecated in Matplotlib 3.1 and will be removed in 3.3. Use np.iterable instead.\n",
      "  return cbook.iterable(var) and not is_string(var)\n",
      "/Users/margaret/anaconda3/lib/python3.6/site-packages/plotnine/utils.py:553: MatplotlibDeprecationWarning: \n",
      "The iterable function was deprecated in Matplotlib 3.1 and will be removed in 3.3. Use np.iterable instead.\n",
      "  return cbook.iterable(var) and not is_string(var)\n",
      "/Users/margaret/anaconda3/lib/python3.6/site-packages/plotnine/utils.py:553: MatplotlibDeprecationWarning: \n",
      "The iterable function was deprecated in Matplotlib 3.1 and will be removed in 3.3. Use np.iterable instead.\n",
      "  return cbook.iterable(var) and not is_string(var)\n",
      "/Users/margaret/anaconda3/lib/python3.6/site-packages/plotnine/utils.py:553: MatplotlibDeprecationWarning: \n",
      "The iterable function was deprecated in Matplotlib 3.1 and will be removed in 3.3. Use np.iterable instead.\n",
      "  return cbook.iterable(var) and not is_string(var)\n",
      "/Users/margaret/anaconda3/lib/python3.6/site-packages/plotnine/utils.py:553: MatplotlibDeprecationWarning: \n",
      "The iterable function was deprecated in Matplotlib 3.1 and will be removed in 3.3. Use np.iterable instead.\n",
      "  return cbook.iterable(var) and not is_string(var)\n"
     ]
    },
    {
     "data": {
      "image/png": "[encoded data removed]",
      "text/plain": [
       "<Figure size 640x480 with 1 Axes>"
      ]
     },
     "metadata": {},
     "output_type": "display_data"
    },
    {
     "data": {
      "text/plain": [
       "<ggplot: (343739554)>"
      ]
     },
     "execution_count": 14,
     "metadata": {},
     "output_type": "execute_result"
    }
   ],
   "source": [
    "(ggplot(overall_stats_df_select_long, aes(x='tissue', y='value',fill='variable'))\n",
    " + geom_bar(stat = \"identity\")\n",
    "#  + geom_text(\n",
    "#      aes(label='stat(count)'),\n",
    "#      stat='count',\n",
    "#      nudge_y=0.125,\n",
    "#      va='bottom'\n",
    "#  )\n",
    ")"
   ]
  },
  {
   "cell_type": "code",
   "execution_count": 130,
   "metadata": {},
   "outputs": [
    {
     "data": {
      "text/plain": [
       "Index(['source', 'target', 'count', 'anchors_A', 'chr_A', 'start_A', 'end_A',\n",
       "       'sample_A', 'snp_A', 'num_snp_A', 'TSS_A', 'num_TSS_A', 'gene_A',\n",
       "       'num_gene_A', 'atac_regions_A', 'num_atac_regions_A', 'motif_A',\n",
       "       'num_motif_A', 'is_acc_A', 'is_promoter_A', 'is_promoter_acc_A',\n",
       "       'is_intergene_A', 'is_intergene_acc_A', 'is_PIR_A', 'is_PIR_acc_A',\n",
       "       'anchors_B', 'chr_B', 'start_B', 'end_B', 'sample_B', 'snp_B',\n",
       "       'num_snp_B', 'TSS_B', 'num_TSS_B', 'gene_B', 'num_gene_B',\n",
       "       'atac_regions_B', 'num_atac_regions_B', 'motif_B', 'num_motif_B',\n",
       "       'is_acc_B', 'is_promoter_B', 'is_promoter_acc_B', 'is_intergene_B',\n",
       "       'is_intergene_acc_B', 'is_PIR_B', 'is_PIR_acc_B', 'min_atac',\n",
       "       'sum_snps', 'sum_gene', 'sum_TSS', 'tissue', 'loop_is_both_acc',\n",
       "       'loop_is_one_acc', 'loop_is_not_acc', 'loop_PIR_PIR',\n",
       "       'loop_PIR_PIR_acc', 'loop_P_PIR', 'loop_P_PIR_acc', 'loop_P_P',\n",
       "       'loop_P_P_acc', 'loop_P_P_gene_TSS', 'loop_P_P_gene_TSS_acc'],\n",
       "      dtype='object')"
      ]
     },
     "execution_count": 130,
     "metadata": {},
     "output_type": "execute_result"
    }
   ],
   "source": [
    "df_annon.columns\n"
   ]
  },
  {
   "cell_type": "code",
   "execution_count": 125,
   "metadata": {},
   "outputs": [
    {
     "data": {
      "text/plain": [
       "1.060959"
      ]
     },
     "execution_count": 125,
     "metadata": {},
     "output_type": "execute_result"
    }
   ],
   "source": [
    "0.094126+0.604223+0.36261"
   ]
  },
  {
   "cell_type": "code",
   "execution_count": 124,
   "metadata": {},
   "outputs": [
    {
     "name": "stdout",
     "output_type": "stream",
     "text": [
      "---- is_acc ---\n",
      "False    0.818061\n",
      "True     0.181939\n",
      "Name: is_acc, dtype: float64\n",
      "---- is_promoter ---\n",
      "False    0.905874\n",
      "True     0.094126\n",
      "Name: is_promoter, dtype: float64\n",
      "---- is_promoter_acc ---\n",
      "False    0.926907\n",
      "True     0.073093\n",
      "Name: is_promoter_acc, dtype: float64\n",
      "---- is_intergene ---\n",
      "True     0.604223\n",
      "False    0.395777\n",
      "Name: is_intergene, dtype: float64\n",
      "---- is_intergene_acc ---\n",
      "False    0.886887\n",
      "True     0.113113\n",
      "Name: is_intergene_acc, dtype: float64\n",
      "---- is_PIR ---\n",
      "False    0.63739\n",
      "True     0.36261\n",
      "Name: is_PIR, dtype: float64\n",
      "---- is_PIR_acc ---\n",
      "False    0.956173\n",
      "True     0.043827\n",
      "Name: is_PIR_acc, dtype: float64\n"
     ]
    }
   ],
   "source": [
    "for c in anchors_df[['is_acc', 'is_promoter', 'is_promoter_acc','is_intergene','is_intergene_acc','is_PIR', 'is_PIR_acc']].columns:\n",
    "    print( \"---- %s ---\" % c)\n",
    "    print (anchors_df[c].value_counts(normalize=True))"
   ]
  },
  {
   "cell_type": "markdown",
   "metadata": {},
   "source": [
    "# old version"
   ]
  },
  {
   "cell_type": "code",
   "execution_count": 61,
   "metadata": {},
   "outputs": [],
   "source": [
    "# def is_acc(node,g):\n",
    "#     if g.nodes[node]['atac'] == ['atac_peak']:\n",
    "#         return True\n",
    "#     return False\n",
    "    \n",
    "# def is_PIR(node, g, acc=True):\n",
    "#     if len(g.nodes[node]['genes'])==0 and len(g.nodes[node]['promoter'])==0:\n",
    "#         if acc:\n",
    "#             if is_acc(node,g):\n",
    "#                 return True\n",
    "#             else:\n",
    "#                 return False\n",
    "#         else:\n",
    "#             return True\n",
    "#     return False\n",
    "\n",
    "# def is_promoter(node,g,acc=True):\n",
    "#     if len(g.nodes[node]['promoter'])>0 or len(g.nodes[node]['genes'])>0 :\n",
    "#         if acc:\n",
    "#             if is_acc(node,g):\n",
    "#                 return True\n",
    "#             else:\n",
    "#                 return False\n",
    "#         else:\n",
    "#             return True\n",
    "#     return False\n"
   ]
  },
  {
   "cell_type": "code",
   "execution_count": 60,
   "metadata": {},
   "outputs": [],
   "source": [
    "# network_pickle_dir = 'networks/'\n",
    "# for gpickle_file in glob.glob(os.path.join(network_pickle_dir, '*gpickle')):\n",
    "#     tissue = gpickle_file.split('/')[-1].split('.')[0]\n",
    "# #     print(tissue)\n",
    "#     g = nx.read_gpickle(gpickle_file)  \n",
    "#     atac_bool = nx.get_node_attributes(g, 'is_atac')\n",
    "#     atac_bool = nx.get_node_attributes(g, 'is_atac')\n",
    "   \n",
    "#     num_loops_P_P_acc, num_loops_P_PIR_acc, num_loops_PIR_PIR_acc, num_loops_other_acc = 0,0,0,0\n",
    "#     num_loops_P_P, num_loops_P_PIR, num_loops_PIR_PIR, num_loops_other = 0,0,0,0\n",
    "#     num_loops = len(g.edges())\n",
    "#     num_loops_both_acc, num_loops_one_acc, num_loops_not_acc= 0,0,0\n",
    "    \n",
    "#     for node_1, node_2 in g.edges:\n",
    "#         node_1_acc = is_acc(node_1, g)\n",
    "#         node_2_acc = is_acc(node_2, g)\n",
    "#         if node_1_acc and node_2_acc:\n",
    "#             num_loops_both_acc+=1\n",
    "#         elif node_1_acc or node_2_acc:\n",
    "#             num_loops_one_acc+=1\n",
    "#         else:\n",
    "#             num_loops_not_acc+=1\n",
    "        \n",
    "#         node_1_P_acc = is_promoter(node_1, g)\n",
    "#         node_2_P_acc = is_promoter(node_2, g)\n",
    "#         node_1_PIR_acc = is_PIR(node_1, g)\n",
    "#         node_2_PIR_acc = is_PIR(node_2, g)\n",
    "#         if node_1_P_acc and node_2_P_acc:\n",
    "#             num_loops_P_P_acc+=1\n",
    "#         elif (node_1_P_acc and node_2_PIR_acc) or (node_1_PIR_acc and node_2_P_acc):\n",
    "#             num_loops_P_PIR_acc+=1\n",
    "#         elif node_1_PIR_acc and node_2_PIR_acc:\n",
    "#             num_loops_PIR_PIR_acc+=1\n",
    "#         else:\n",
    "#             num_loops_other_acc+=1\n",
    "\n",
    "            \n",
    "#         node_1_P = is_promoter(node_1, g, acc=False)\n",
    "#         node_2_P = is_promoter(node_2, g, acc=False)\n",
    "#         node_1_PIR = is_PIR(node_1, g, acc=False)\n",
    "#         node_2_PIR = is_PIR(node_2, g, acc=False)\n",
    "#         if node_1_P and node_2_P:\n",
    "#             num_loops_P_P+=1\n",
    "#         elif (node_1_P and node_2_PIR) or (node_1_PIR and node_2_P):\n",
    "#             num_loops_P_PIR+=1\n",
    "#         elif node_1_PIR and node_2_PIR:\n",
    "#             num_loops_PIR_PIR+=1\n",
    "#         else:\n",
    "#             num_loops_other+=1\n",
    "# #     print('num_loops', num_loops) \n",
    "    \n",
    "\n",
    "\n",
    "\n",
    "#     print('\\t'.join([tissue, str(num_loops)]+['%d' % x for x in [num_loops_P_P, num_loops_P_PIR, num_loops_PIR_PIR, num_loops_other,num_loops_both_acc, num_loops_one_acc, num_loops_not_acc, num_loops_P_P_acc, num_loops_P_PIR_acc, num_loops_PIR_PIR_acc, num_loops_other_acc]]))\n",
    "# #     print('\\t'.join([tissue, str(num_loops)]+['%.3f' % (x/float(num_loops)) for x in [num_loops_P_P, num_loops_P_PIR, num_loops_PIR_PIR, num_loops_other,num_loops_both_acc, num_loops_one_acc, num_loops_not_acc]]))\n",
    "# #     print([num_loops_P_P, num_loops_P_PIR, num_loops_PIR_PIR, num_loops_other,num_loops_both_acc, num_loops_one_acc, num_loops_not_acc])\n",
    "#     #     print('\\t'.join(['%.2f'% (x/float(num_loops)) for x  in [num_loops_both_acc, num_loops_one_acc, num_loops_not_acc]]))\n",
    "    \n",
    "\n",
    "# #     promoter_bool = nx.get_node_attributes(g, 'promoter')\n",
    "# #     motifs = nx.get_node_attributes(g, 'footprint')"
   ]
  },
  {
   "cell_type": "code",
   "execution_count": 58,
   "metadata": {},
   "outputs": [],
   "source": [
    "#  g.nodes['chr1,16005000,16010000']"
   ]
  },
  {
   "cell_type": "code",
   "execution_count": 59,
   "metadata": {},
   "outputs": [],
   "source": [
    "# g.nodes['chr1,203485000,203490000']"
   ]
  },
  {
   "cell_type": "code",
   "execution_count": 57,
   "metadata": {},
   "outputs": [],
   "source": [
    "# for node_1, node_2 in list(g.edges)[:100]:\n",
    "#     node_1_P_acc = is_promoter(node_1, g)\n",
    "#     node_2_P_acc = is_promoter(node_2, g)\n",
    "#     node_1_PIR_acc = is_PIR(node_1, g)\n",
    "#     node_2_PIR_acc = is_PIR(node_2, g)    \n",
    "#     print(node_1_P_acc, node_2_P_acc, node_1_PIR_acc, node_2_PIR_acc)"
   ]
  },
  {
   "cell_type": "markdown",
   "metadata": {},
   "source": [
    "# Q2 - what are cell type specific anchor points\n"
   ]
  },
  {
   "cell_type": "code",
   "execution_count": 17,
   "metadata": {},
   "outputs": [
    {
     "name": "stdout",
     "output_type": "stream",
     "text": [
      "Air\n",
      "Astro\n",
      "Blad\n",
      "Colon\n",
      "Eso\n",
      "GDSD0\n",
      "GDSD3\n",
      "GDSD6\n",
      "GM12878\n",
      "HMEC\n",
      "MC\n",
      "Ova\n",
      "Panc\n",
      "Pros\n",
      "Renal\n",
      "Thy\n",
      "Uter\n"
     ]
    }
   ],
   "source": [
    "anchors_binary_per_tissue = {}\n",
    "for tissue in tissues:\n",
    "    print(tissue)\n",
    "    anchors_df = anchor_tissue_dict[tissue]\n",
    "#     df = hichip_tissue_dict[tissue]\n",
    "    for anchor in anchors_df.anchors:\n",
    "        if anchor in anchors_binary_per_tissue:\n",
    "            anchors_binary_per_tissue[anchor][tissue]=1\n",
    "        else:\n",
    "            anchors_binary_per_tissue[anchor] = {tissue:1}\n"
   ]
  },
  {
   "cell_type": "code",
   "execution_count": 22,
   "metadata": {},
   "outputs": [],
   "source": [
    "anchors_binary_per_tissue_df = pd.DataFrame.from_dict(anchors_binary_per_tissue,orient='index')"
   ]
  },
  {
   "cell_type": "code",
   "execution_count": 24,
   "metadata": {},
   "outputs": [],
   "source": [
    "anchors_binary_per_tissue_df.fillna(0,inplace=True)"
   ]
  },
  {
   "cell_type": "code",
   "execution_count": 45,
   "metadata": {},
   "outputs": [
    {
     "data": {
      "text/html": [
       "<div>\n",
       "<style scoped>\n",
       "    .dataframe tbody tr th:only-of-type {\n",
       "        vertical-align: middle;\n",
       "    }\n",
       "\n",
       "    .dataframe tbody tr th {\n",
       "        vertical-align: top;\n",
       "    }\n",
       "\n",
       "    .dataframe thead th {\n",
       "        text-align: right;\n",
       "    }\n",
       "</style>\n",
       "<table border=\"1\" class=\"dataframe\">\n",
       "  <thead>\n",
       "    <tr style=\"text-align: right;\">\n",
       "      <th></th>\n",
       "      <th>Air</th>\n",
       "      <th>Astro</th>\n",
       "      <th>Colon</th>\n",
       "      <th>Eso</th>\n",
       "      <th>GDSD6</th>\n",
       "      <th>Ova</th>\n",
       "      <th>Panc</th>\n",
       "      <th>Pros</th>\n",
       "      <th>Renal</th>\n",
       "      <th>Thy</th>\n",
       "      <th>HMEC</th>\n",
       "      <th>MC</th>\n",
       "      <th>Blad</th>\n",
       "      <th>GDSD0</th>\n",
       "      <th>GDSD3</th>\n",
       "      <th>Uter</th>\n",
       "      <th>GM12878</th>\n",
       "    </tr>\n",
       "  </thead>\n",
       "  <tbody>\n",
       "    <tr>\n",
       "      <th>chr10_100000000_100005000</th>\n",
       "      <td>0.0</td>\n",
       "      <td>1.0</td>\n",
       "      <td>1.0</td>\n",
       "      <td>1.0</td>\n",
       "      <td>1.0</td>\n",
       "      <td>0.0</td>\n",
       "      <td>0.0</td>\n",
       "      <td>1.0</td>\n",
       "      <td>1.0</td>\n",
       "      <td>1.0</td>\n",
       "      <td>0.0</td>\n",
       "      <td>1.0</td>\n",
       "      <td>1.0</td>\n",
       "      <td>0.0</td>\n",
       "      <td>1.0</td>\n",
       "      <td>1.0</td>\n",
       "      <td>0.0</td>\n",
       "    </tr>\n",
       "    <tr>\n",
       "      <th>chr10_100005000_100010000</th>\n",
       "      <td>0.0</td>\n",
       "      <td>1.0</td>\n",
       "      <td>1.0</td>\n",
       "      <td>1.0</td>\n",
       "      <td>1.0</td>\n",
       "      <td>1.0</td>\n",
       "      <td>1.0</td>\n",
       "      <td>1.0</td>\n",
       "      <td>1.0</td>\n",
       "      <td>1.0</td>\n",
       "      <td>0.0</td>\n",
       "      <td>1.0</td>\n",
       "      <td>0.0</td>\n",
       "      <td>1.0</td>\n",
       "      <td>0.0</td>\n",
       "      <td>0.0</td>\n",
       "      <td>0.0</td>\n",
       "    </tr>\n",
       "    <tr>\n",
       "      <th>chr10_100010000_100015000</th>\n",
       "      <td>0.0</td>\n",
       "      <td>0.0</td>\n",
       "      <td>0.0</td>\n",
       "      <td>0.0</td>\n",
       "      <td>0.0</td>\n",
       "      <td>0.0</td>\n",
       "      <td>0.0</td>\n",
       "      <td>0.0</td>\n",
       "      <td>0.0</td>\n",
       "      <td>0.0</td>\n",
       "      <td>0.0</td>\n",
       "      <td>0.0</td>\n",
       "      <td>0.0</td>\n",
       "      <td>0.0</td>\n",
       "      <td>1.0</td>\n",
       "      <td>0.0</td>\n",
       "      <td>0.0</td>\n",
       "    </tr>\n",
       "    <tr>\n",
       "      <th>chr10_100015000_100020000</th>\n",
       "      <td>0.0</td>\n",
       "      <td>1.0</td>\n",
       "      <td>1.0</td>\n",
       "      <td>1.0</td>\n",
       "      <td>1.0</td>\n",
       "      <td>1.0</td>\n",
       "      <td>0.0</td>\n",
       "      <td>1.0</td>\n",
       "      <td>1.0</td>\n",
       "      <td>1.0</td>\n",
       "      <td>1.0</td>\n",
       "      <td>1.0</td>\n",
       "      <td>1.0</td>\n",
       "      <td>1.0</td>\n",
       "      <td>0.0</td>\n",
       "      <td>1.0</td>\n",
       "      <td>0.0</td>\n",
       "    </tr>\n",
       "    <tr>\n",
       "      <th>chr10_100020000_100025000</th>\n",
       "      <td>0.0</td>\n",
       "      <td>1.0</td>\n",
       "      <td>1.0</td>\n",
       "      <td>1.0</td>\n",
       "      <td>1.0</td>\n",
       "      <td>1.0</td>\n",
       "      <td>1.0</td>\n",
       "      <td>1.0</td>\n",
       "      <td>1.0</td>\n",
       "      <td>1.0</td>\n",
       "      <td>1.0</td>\n",
       "      <td>0.0</td>\n",
       "      <td>0.0</td>\n",
       "      <td>1.0</td>\n",
       "      <td>0.0</td>\n",
       "      <td>1.0</td>\n",
       "      <td>0.0</td>\n",
       "    </tr>\n",
       "  </tbody>\n",
       "</table>\n",
       "</div>"
      ],
      "text/plain": [
       "                           Air  Astro  Colon  Eso  GDSD6  Ova  Panc  Pros  \\\n",
       "chr10_100000000_100005000  0.0    1.0    1.0  1.0    1.0  0.0   0.0   1.0   \n",
       "chr10_100005000_100010000  0.0    1.0    1.0  1.0    1.0  1.0   1.0   1.0   \n",
       "chr10_100010000_100015000  0.0    0.0    0.0  0.0    0.0  0.0   0.0   0.0   \n",
       "chr10_100015000_100020000  0.0    1.0    1.0  1.0    1.0  1.0   0.0   1.0   \n",
       "chr10_100020000_100025000  0.0    1.0    1.0  1.0    1.0  1.0   1.0   1.0   \n",
       "\n",
       "                           Renal  Thy  HMEC   MC  Blad  GDSD0  GDSD3  Uter  \\\n",
       "chr10_100000000_100005000    1.0  1.0   0.0  1.0   1.0    0.0    1.0   1.0   \n",
       "chr10_100005000_100010000    1.0  1.0   0.0  1.0   0.0    1.0    0.0   0.0   \n",
       "chr10_100010000_100015000    0.0  0.0   0.0  0.0   0.0    0.0    1.0   0.0   \n",
       "chr10_100015000_100020000    1.0  1.0   1.0  1.0   1.0    1.0    0.0   1.0   \n",
       "chr10_100020000_100025000    1.0  1.0   1.0  0.0   0.0    1.0    0.0   1.0   \n",
       "\n",
       "                           GM12878  \n",
       "chr10_100000000_100005000      0.0  \n",
       "chr10_100005000_100010000      0.0  \n",
       "chr10_100010000_100015000      0.0  \n",
       "chr10_100015000_100020000      0.0  \n",
       "chr10_100020000_100025000      0.0  "
      ]
     },
     "execution_count": 45,
     "metadata": {},
     "output_type": "execute_result"
    }
   ],
   "source": [
    "anchors_binary_per_tissue_df[:5]"
   ]
  },
  {
   "cell_type": "code",
   "execution_count": 29,
   "metadata": {},
   "outputs": [
    {
     "data": {
      "text/plain": [
       "(286925, 17)"
      ]
     },
     "execution_count": 29,
     "metadata": {},
     "output_type": "execute_result"
    }
   ],
   "source": [
    "anchors_binary_per_tissue_df.shape"
   ]
  },
  {
   "cell_type": "code",
   "execution_count": 49,
   "metadata": {},
   "outputs": [],
   "source": [
    "anchors_binary_per_tissue_df.to_csv('networks/anchors_binary_per_tissue_df.csv')"
   ]
  },
  {
   "cell_type": "code",
   "execution_count": 57,
   "metadata": {},
   "outputs": [
    {
     "data": {
      "text/plain": [
       "Uter       19610\n",
       "GM12878     8557\n",
       "Pros        8275\n",
       "Astro       6877\n",
       "Renal       6517\n",
       "GDSD3       3689\n",
       "Colon       2995\n",
       "GDSD6       2986\n",
       "GDSD0       2899\n",
       "MC          2720\n",
       "Blad        2351\n",
       "Eso         2111\n",
       "Thy         1733\n",
       "Ova         1671\n",
       "HMEC        1016\n",
       "Panc         725\n",
       "Air           47\n",
       "Name: variable, dtype: int64"
      ]
     },
     "execution_count": 57,
     "metadata": {},
     "output_type": "execute_result"
    }
   ],
   "source": [
    "# distribution of unique anchors by cell type\n",
    "anchors_unique_tissue_long_df = anchors_binary_per_tissue_df[anchors_binary_per_tissue_df.sum(axis=1)==1].reset_index().melt(id_vars='index')\n",
    "anchors_unique_tissue_long_df = anchors_unique_tissue_long_df[anchors_unique_tissue_long_df.value==1.0]\n",
    "anchors_unique_tissue_long_df.variable.value_counts()"
   ]
  },
  {
   "cell_type": "code",
   "execution_count": 28,
   "metadata": {},
   "outputs": [
    {
     "data": {
      "text/plain": [
       "1.0     74779\n",
       "2.0     39423\n",
       "3.0     26813\n",
       "4.0     20503\n",
       "5.0     16566\n",
       "6.0     13949\n",
       "7.0     12188\n",
       "8.0     10886\n",
       "9.0      9845\n",
       "10.0     8672\n",
       "16.0     8241\n",
       "11.0     8096\n",
       "15.0     7642\n",
       "12.0     7414\n",
       "17.0     7398\n",
       "14.0     7273\n",
       "13.0     7237\n",
       "dtype: int64"
      ]
     },
     "execution_count": 28,
     "metadata": {},
     "output_type": "execute_result"
    }
   ],
   "source": [
    "anchors_binary_per_tissue_df.sum(axis=1).value_counts()"
   ]
  },
  {
   "cell_type": "code",
   "execution_count": 30,
   "metadata": {},
   "outputs": [
    {
     "data": {
      "text/plain": [
       "0.260622113792803"
      ]
     },
     "execution_count": 30,
     "metadata": {},
     "output_type": "execute_result"
    }
   ],
   "source": [
    "74779/286925"
   ]
  },
  {
   "cell_type": "code",
   "execution_count": 46,
   "metadata": {},
   "outputs": [
    {
     "data": {
      "text/plain": [
       "0.02522261915134617"
      ]
     },
     "execution_count": 46,
     "metadata": {},
     "output_type": "execute_result"
    }
   ],
   "source": [
    "7237/286925"
   ]
  },
  {
   "cell_type": "markdown",
   "metadata": {},
   "source": [
    "About 26% of anchors are cell type specific at a 5Kb resolution\n",
    "\n",
    "2.5% of anchors are in all cell types at a 5Kb resolution"
   ]
  },
  {
   "cell_type": "code",
   "execution_count": 34,
   "metadata": {},
   "outputs": [],
   "source": [
    "unique_anchors = list(anchors_binary_per_tissue_df.index[anchors_binary_per_tissue_df.sum(axis=1)==1])\n"
   ]
  },
  {
   "cell_type": "markdown",
   "metadata": {},
   "source": [
    "# Q3 - what are cell type specific looping (two points"
   ]
  },
  {
   "cell_type": "code",
   "execution_count": 40,
   "metadata": {},
   "outputs": [
    {
     "name": "stdout",
     "output_type": "stream",
     "text": [
      "Air\n",
      "Astro\n",
      "Blad\n",
      "Colon\n",
      "Eso\n",
      "GDSD0\n",
      "GDSD3\n",
      "GDSD6\n",
      "GM12878\n",
      "HMEC\n",
      "MC\n",
      "Ova\n",
      "Panc\n",
      "Pros\n",
      "Renal\n",
      "Thy\n",
      "Uter\n"
     ]
    }
   ],
   "source": [
    "loops_binary_per_tissue = {}\n",
    "for tissue in tissues:\n",
    "    print(tissue)\n",
    "    hichip_df = hichip_tissue_dict[tissue]\n",
    "    for loop_tuple in zip(hichip_df.source, hichip_df.target):\n",
    "        loop_str = '::'.join(loop_tuple)\n",
    "        if loop_str in loops_binary_per_tissue:\n",
    "            loops_binary_per_tissue[loop_str][tissue]=1\n",
    "        else:\n",
    "            loops_binary_per_tissue[loop_str] = {tissue:1}\n"
   ]
  },
  {
   "cell_type": "code",
   "execution_count": 41,
   "metadata": {},
   "outputs": [],
   "source": [
    "loops_binary_per_tissue_df = pd.DataFrame.from_dict(loops_binary_per_tissue,orient='index')\n",
    "loops_binary_per_tissue_df.fillna(0,inplace=True)"
   ]
  },
  {
   "cell_type": "code",
   "execution_count": 42,
   "metadata": {},
   "outputs": [
    {
     "data": {
      "text/plain": [
       "(1130691, 17)"
      ]
     },
     "execution_count": 42,
     "metadata": {},
     "output_type": "execute_result"
    }
   ],
   "source": [
    "loops_binary_per_tissue_df.shape"
   ]
  },
  {
   "cell_type": "code",
   "execution_count": 4,
   "metadata": {},
   "outputs": [],
   "source": [
    "loops_binary_per_tissue_df = pd.read_csv('networks/loops_binary_per_tissue_df.csv', index_col=0)"
   ]
  },
  {
   "cell_type": "code",
   "execution_count": 5,
   "metadata": {},
   "outputs": [
    {
     "data": {
      "text/plain": [
       "1.0     601390\n",
       "2.0     181379\n",
       "3.0      94607\n",
       "4.0      61362\n",
       "5.0      43232\n",
       "6.0      32948\n",
       "7.0      25407\n",
       "8.0      19602\n",
       "9.0      15228\n",
       "10.0     12038\n",
       "11.0      9869\n",
       "12.0      8357\n",
       "13.0      7197\n",
       "14.0      6302\n",
       "15.0      5296\n",
       "16.0      3985\n",
       "17.0      2492\n",
       "dtype: int64"
      ]
     },
     "execution_count": 5,
     "metadata": {},
     "output_type": "execute_result"
    }
   ],
   "source": [
    "loops_binary_per_tissue_df.sum(axis=1).value_counts()"
   ]
  },
  {
   "cell_type": "code",
   "execution_count": 6,
   "metadata": {},
   "outputs": [
    {
     "data": {
      "text/plain": [
       "0.5318782938928496"
      ]
     },
     "execution_count": 6,
     "metadata": {},
     "output_type": "execute_result"
    }
   ],
   "source": [
    "601390/1130691"
   ]
  },
  {
   "cell_type": "code",
   "execution_count": 7,
   "metadata": {},
   "outputs": [
    {
     "data": {
      "text/plain": [
       "0.0022039620019970087"
      ]
     },
     "execution_count": 7,
     "metadata": {},
     "output_type": "execute_result"
    }
   ],
   "source": [
    "2492/1130691"
   ]
  },
  {
   "cell_type": "markdown",
   "metadata": {},
   "source": [
    "53% of loops are cell type specific at a 5Kb resolution\n",
    "\n",
    ".2% of loops are in all cell types at a 5Kb resolution"
   ]
  },
  {
   "cell_type": "code",
   "execution_count": null,
   "metadata": {},
   "outputs": [],
   "source": []
  },
  {
   "cell_type": "code",
   "execution_count": 8,
   "metadata": {},
   "outputs": [],
   "source": [
    "unique_loops = list(loops_binary_per_tissue_df.index[loops_binary_per_tissue_df.sum(axis=1)==1])\n"
   ]
  },
  {
   "cell_type": "code",
   "execution_count": 10,
   "metadata": {},
   "outputs": [],
   "source": [
    "# unique_loops"
   ]
  },
  {
   "cell_type": "code",
   "execution_count": null,
   "metadata": {},
   "outputs": [],
   "source": []
  },
  {
   "cell_type": "code",
   "execution_count": 11,
   "metadata": {},
   "outputs": [
    {
     "data": {
      "text/plain": [
       "Uter       129389\n",
       "GM12878     75918\n",
       "Astro       57560\n",
       "Renal       50168\n",
       "Pros        48975\n",
       "Eso         36144\n",
       "Colon       35205\n",
       "GDSD6       28345\n",
       "GDSD3       27723\n",
       "Blad        22455\n",
       "GDSD0       19844\n",
       "Thy         18771\n",
       "Ova         18379\n",
       "MC          16928\n",
       "HMEC         7980\n",
       "Panc         7006\n",
       "Air           600\n",
       "Name: variable, dtype: int64"
      ]
     },
     "execution_count": 11,
     "metadata": {},
     "output_type": "execute_result"
    }
   ],
   "source": [
    "# distribution of unique loops by cell type\n",
    "loops_unique_tissue_long_df = loops_binary_per_tissue_df[loops_binary_per_tissue_df.sum(axis=1)==1].reset_index().melt(id_vars='index')\n",
    "loops_unique_tissue_long_df = loops_unique_tissue_long_df[loops_unique_tissue_long_df.value==1.0]\n",
    "loops_unique_tissue_long_df.variable.value_counts()"
   ]
  },
  {
   "cell_type": "code",
   "execution_count": null,
   "metadata": {},
   "outputs": [],
   "source": [
    "loops_unique_tissue_long_df.to_csv('networks/loops_unique_tissue_long_df.csv')"
   ]
  },
  {
   "cell_type": "code",
   "execution_count": null,
   "metadata": {},
   "outputs": [],
   "source": []
  },
  {
   "cell_type": "code",
   "execution_count": 78,
   "metadata": {},
   "outputs": [
    {
     "data": {
      "text/html": [
       "<div>\n",
       "<style scoped>\n",
       "    .dataframe tbody tr th:only-of-type {\n",
       "        vertical-align: middle;\n",
       "    }\n",
       "\n",
       "    .dataframe tbody tr th {\n",
       "        vertical-align: top;\n",
       "    }\n",
       "\n",
       "    .dataframe thead th {\n",
       "        text-align: right;\n",
       "    }\n",
       "</style>\n",
       "<table border=\"1\" class=\"dataframe\">\n",
       "  <thead>\n",
       "    <tr style=\"text-align: right;\">\n",
       "      <th></th>\n",
       "      <th>tissue</th>\n",
       "      <th>variable</th>\n",
       "      <th>value</th>\n",
       "    </tr>\n",
       "  </thead>\n",
       "  <tbody>\n",
       "    <tr>\n",
       "      <th>0</th>\n",
       "      <td>Air</td>\n",
       "      <td>shared_loops</td>\n",
       "      <td>29046.0</td>\n",
       "    </tr>\n",
       "    <tr>\n",
       "      <th>1</th>\n",
       "      <td>Astro</td>\n",
       "      <td>shared_loops</td>\n",
       "      <td>137122.0</td>\n",
       "    </tr>\n",
       "    <tr>\n",
       "      <th>2</th>\n",
       "      <td>Blad</td>\n",
       "      <td>shared_loops</td>\n",
       "      <td>158229.0</td>\n",
       "    </tr>\n",
       "    <tr>\n",
       "      <th>3</th>\n",
       "      <td>Colon</td>\n",
       "      <td>shared_loops</td>\n",
       "      <td>191515.0</td>\n",
       "    </tr>\n",
       "    <tr>\n",
       "      <th>4</th>\n",
       "      <td>Eso</td>\n",
       "      <td>shared_loops</td>\n",
       "      <td>177514.0</td>\n",
       "    </tr>\n",
       "  </tbody>\n",
       "</table>\n",
       "</div>"
      ],
      "text/plain": [
       "  tissue      variable     value\n",
       "0    Air  shared_loops   29046.0\n",
       "1  Astro  shared_loops  137122.0\n",
       "2   Blad  shared_loops  158229.0\n",
       "3  Colon  shared_loops  191515.0\n",
       "4    Eso  shared_loops  177514.0"
      ]
     },
     "metadata": {},
     "output_type": "display_data"
    }
   ],
   "source": [
    "# shared vs unique loops per tissue\n",
    "loops_share_unique = pd.DataFrame({'total_loops':loops_binary_per_tissue_df.sum(axis=0),\n",
    "                                   'unique_loops':loops_unique_tissue_long_df.variable.value_counts()})\n",
    "loops_share_unique['shared_loops']=loops_share_unique.total_loops - loops_share_unique.unique_loops\n",
    "loops_share_unique=loops_share_unique[['shared_loops','unique_loops']]\n",
    "loops_share_unique['tissue'] = loops_share_unique.index\n",
    "loops_share_unique = loops_share_unique.melt(id_vars='tissue')\n",
    "display(loops_share_unique[:5])\n"
   ]
  },
  {
   "cell_type": "code",
   "execution_count": 81,
   "metadata": {},
   "outputs": [],
   "source": [
    "loops_share_unique.to_csv('networks/loops_share_unique.csv')"
   ]
  },
  {
   "cell_type": "code",
   "execution_count": 80,
   "metadata": {},
   "outputs": [
    {
     "name": "stderr",
     "output_type": "stream",
     "text": [
      "/Users/margaret/anaconda3/lib/python3.6/site-packages/plotnine/scales/scale.py:93: MatplotlibDeprecationWarning: \n",
      "The iterable function was deprecated in Matplotlib 3.1 and will be removed in 3.3. Use np.iterable instead.\n",
      "  if cbook.iterable(self.breaks) and cbook.iterable(self.labels):\n",
      "/Users/margaret/anaconda3/lib/python3.6/site-packages/plotnine/scales/scale.py:93: MatplotlibDeprecationWarning: \n",
      "The iterable function was deprecated in Matplotlib 3.1 and will be removed in 3.3. Use np.iterable instead.\n",
      "  if cbook.iterable(self.breaks) and cbook.iterable(self.labels):\n",
      "/Users/margaret/anaconda3/lib/python3.6/site-packages/plotnine/scales/scale.py:93: MatplotlibDeprecationWarning: \n",
      "The iterable function was deprecated in Matplotlib 3.1 and will be removed in 3.3. Use np.iterable instead.\n",
      "  if cbook.iterable(self.breaks) and cbook.iterable(self.labels):\n",
      "/Users/margaret/anaconda3/lib/python3.6/site-packages/plotnine/utils.py:553: MatplotlibDeprecationWarning: \n",
      "The iterable function was deprecated in Matplotlib 3.1 and will be removed in 3.3. Use np.iterable instead.\n",
      "  return cbook.iterable(var) and not is_string(var)\n",
      "/Users/margaret/anaconda3/lib/python3.6/site-packages/plotnine/utils.py:553: MatplotlibDeprecationWarning: \n",
      "The iterable function was deprecated in Matplotlib 3.1 and will be removed in 3.3. Use np.iterable instead.\n",
      "  return cbook.iterable(var) and not is_string(var)\n",
      "/Users/margaret/anaconda3/lib/python3.6/site-packages/plotnine/utils.py:553: MatplotlibDeprecationWarning: \n",
      "The iterable function was deprecated in Matplotlib 3.1 and will be removed in 3.3. Use np.iterable instead.\n",
      "  return cbook.iterable(var) and not is_string(var)\n",
      "/Users/margaret/anaconda3/lib/python3.6/site-packages/plotnine/utils.py:553: MatplotlibDeprecationWarning: \n",
      "The iterable function was deprecated in Matplotlib 3.1 and will be removed in 3.3. Use np.iterable instead.\n",
      "  return cbook.iterable(var) and not is_string(var)\n",
      "/Users/margaret/anaconda3/lib/python3.6/site-packages/plotnine/utils.py:553: MatplotlibDeprecationWarning: \n",
      "The iterable function was deprecated in Matplotlib 3.1 and will be removed in 3.3. Use np.iterable instead.\n",
      "  return cbook.iterable(var) and not is_string(var)\n",
      "/Users/margaret/anaconda3/lib/python3.6/site-packages/plotnine/utils.py:553: MatplotlibDeprecationWarning: \n",
      "The iterable function was deprecated in Matplotlib 3.1 and will be removed in 3.3. Use np.iterable instead.\n",
      "  return cbook.iterable(var) and not is_string(var)\n"
     ]
    },
    {
     "data": {
      "image/png": "[encoded data removed]",
      "text/plain": [
       "<Figure size 640x480 with 1 Axes>"
      ]
     },
     "metadata": {},
     "output_type": "display_data"
    },
    {
     "data": {
      "text/plain": [
       "<ggplot: (-9223372036498638904)>"
      ]
     },
     "execution_count": 80,
     "metadata": {},
     "output_type": "execute_result"
    }
   ],
   "source": [
    "(ggplot(loops_share_unique, aes(x='tissue', y='value',fill='variable'))\n",
    " + geom_bar(stat = \"identity\"))\n"
   ]
  },
  {
   "cell_type": "code",
   "execution_count": 50,
   "metadata": {},
   "outputs": [],
   "source": [
    "loops_binary_per_tissue_df.to_csv('networks/loops_binary_per_tissue_df.csv')"
   ]
  },
  {
   "cell_type": "code",
   "execution_count": 62,
   "metadata": {},
   "outputs": [
    {
     "data": {
      "text/plain": [
       "Index(['Uter', 'GM12878', 'Astro', 'Renal', 'Pros', 'Eso', 'Colon', 'GDSD6',\n",
       "       'GDSD3', 'Blad', 'GDSD0', 'Thy', 'Ova', 'MC', 'HMEC', 'Panc', 'Air'],\n",
       "      dtype='object')"
      ]
     },
     "execution_count": 62,
     "metadata": {},
     "output_type": "execute_result"
    }
   ],
   "source": [
    "loops_unique_tissue_long_df.variable.value_counts().index"
   ]
  },
  {
   "cell_type": "code",
   "execution_count": 63,
   "metadata": {},
   "outputs": [
    {
     "data": {
      "text/plain": [
       "'Uter::GM12878::Astro::Renal::Pros::Eso::Colon::GDSD6::GDSD3::Blad::GDSD0::Thy::Ova::MC::HMEC::Panc::Air'"
      ]
     },
     "execution_count": 63,
     "metadata": {},
     "output_type": "execute_result"
    }
   ],
   "source": [
    "'::'.join(list(loops_unique_tissue_long_df.variable.value_counts().index))"
   ]
  },
  {
   "cell_type": "code",
   "execution_count": null,
   "metadata": {},
   "outputs": [],
   "source": []
  }
 ],
 "metadata": {
  "kernelspec": {
   "display_name": "Python 3",
   "language": "python",
   "name": "python3"
  },
  "language_info": {
   "codemirror_mode": {
    "name": "ipython",
    "version": 3
   },
   "file_extension": ".py",
   "mimetype": "text/x-python",
   "name": "python",
   "nbconvert_exporter": "python",
   "pygments_lexer": "ipython3",
   "version": "3.6.8"
  }
 },
 "nbformat": 4,
 "nbformat_minor": 2
}
