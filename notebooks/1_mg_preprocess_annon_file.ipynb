{
 "cells": [
  {
   "cell_type": "markdown",
   "metadata": {},
   "source": [
    "# preprocess_annon_file\n",
    "\n",
    "for pan_omics project\n",
    "\n",
    "04/09/2020"
   ]
  },
  {
   "cell_type": "code",
   "execution_count": 148,
   "metadata": {},
   "outputs": [],
   "source": [
    "import pandas as pd\n",
    "import subprocess\n",
    "import pybedtools"
   ]
  },
  {
   "cell_type": "code",
   "execution_count": null,
   "metadata": {},
   "outputs": [],
   "source": []
  },
  {
   "cell_type": "code",
   "execution_count": 159,
   "metadata": {},
   "outputs": [],
   "source": [
    "tss_file = 'TSS_annon_ALL.csv'\n",
    "gencode_file = 'gene_annon_ALL.csv'\n"
   ]
  },
  {
   "cell_type": "code",
   "execution_count": 160,
   "metadata": {},
   "outputs": [
    {
     "data": {
      "text/html": [
       "<div>\n",
       "<style scoped>\n",
       "    .dataframe tbody tr th:only-of-type {\n",
       "        vertical-align: middle;\n",
       "    }\n",
       "\n",
       "    .dataframe tbody tr th {\n",
       "        vertical-align: top;\n",
       "    }\n",
       "\n",
       "    .dataframe thead th {\n",
       "        text-align: right;\n",
       "    }\n",
       "</style>\n",
       "<table border=\"1\" class=\"dataframe\">\n",
       "  <thead>\n",
       "    <tr style=\"text-align: right;\">\n",
       "      <th></th>\n",
       "      <th>chr</th>\n",
       "      <th>start</th>\n",
       "      <th>end</th>\n",
       "      <th>width</th>\n",
       "      <th>strand</th>\n",
       "      <th>gene</th>\n",
       "    </tr>\n",
       "  </thead>\n",
       "  <tbody>\n",
       "    <tr>\n",
       "      <td>1</td>\n",
       "      <td>chr1</td>\n",
       "      <td>69091</td>\n",
       "      <td>70008</td>\n",
       "      <td>918</td>\n",
       "      <td>*</td>\n",
       "      <td>OR4F5</td>\n",
       "    </tr>\n",
       "    <tr>\n",
       "      <td>2</td>\n",
       "      <td>chr1</td>\n",
       "      <td>134901</td>\n",
       "      <td>139379</td>\n",
       "      <td>4479</td>\n",
       "      <td>*</td>\n",
       "      <td>AL627309.1</td>\n",
       "    </tr>\n",
       "    <tr>\n",
       "      <td>3</td>\n",
       "      <td>chr1</td>\n",
       "      <td>367640</td>\n",
       "      <td>368634</td>\n",
       "      <td>995</td>\n",
       "      <td>*</td>\n",
       "      <td>OR4F29</td>\n",
       "    </tr>\n",
       "    <tr>\n",
       "      <td>4</td>\n",
       "      <td>chr1</td>\n",
       "      <td>621059</td>\n",
       "      <td>622053</td>\n",
       "      <td>995</td>\n",
       "      <td>*</td>\n",
       "      <td>OR4F16</td>\n",
       "    </tr>\n",
       "    <tr>\n",
       "      <td>5</td>\n",
       "      <td>chr1</td>\n",
       "      <td>738532</td>\n",
       "      <td>739137</td>\n",
       "      <td>606</td>\n",
       "      <td>*</td>\n",
       "      <td>AL669831.1</td>\n",
       "    </tr>\n",
       "  </tbody>\n",
       "</table>\n",
       "</div>"
      ],
      "text/plain": [
       "    chr   start     end  width strand        gene\n",
       "1  chr1   69091   70008    918      *       OR4F5\n",
       "2  chr1  134901  139379   4479      *  AL627309.1\n",
       "3  chr1  367640  368634    995      *      OR4F29\n",
       "4  chr1  621059  622053    995      *      OR4F16\n",
       "5  chr1  738532  739137    606      *  AL669831.1"
      ]
     },
     "execution_count": 160,
     "metadata": {},
     "output_type": "execute_result"
    }
   ],
   "source": [
    "# make gencode list\n",
    "gencode_df = pd.read_csv(gencode_file,index_col=0)\n",
    "gencode_df.columns = ['chr', 'start', 'end', 'width', 'strand', 'gene']\n",
    "gencode_df['chr'] = 'chr' + gencode_df['chr'].astype(str)\n",
    "gencode_df[:5]"
   ]
  },
  {
   "cell_type": "code",
   "execution_count": null,
   "metadata": {},
   "outputs": [],
   "source": []
  },
  {
   "cell_type": "code",
   "execution_count": 152,
   "metadata": {},
   "outputs": [
    {
     "data": {
      "text/html": [
       "<div>\n",
       "<style scoped>\n",
       "    .dataframe tbody tr th:only-of-type {\n",
       "        vertical-align: middle;\n",
       "    }\n",
       "\n",
       "    .dataframe tbody tr th {\n",
       "        vertical-align: top;\n",
       "    }\n",
       "\n",
       "    .dataframe thead th {\n",
       "        text-align: right;\n",
       "    }\n",
       "</style>\n",
       "<table border=\"1\" class=\"dataframe\">\n",
       "  <thead>\n",
       "    <tr style=\"text-align: right;\">\n",
       "      <th></th>\n",
       "      <th>chr</th>\n",
       "      <th>start</th>\n",
       "      <th>end</th>\n",
       "      <th>width</th>\n",
       "      <th>strand</th>\n",
       "      <th>TSS</th>\n",
       "    </tr>\n",
       "  </thead>\n",
       "  <tbody>\n",
       "    <tr>\n",
       "      <td>0</td>\n",
       "      <td>chr1</td>\n",
       "      <td>1846266</td>\n",
       "      <td>1846266</td>\n",
       "      <td>1</td>\n",
       "      <td>*</td>\n",
       "      <td>CALML6</td>\n",
       "    </tr>\n",
       "    <tr>\n",
       "      <td>1</td>\n",
       "      <td>chr1</td>\n",
       "      <td>231376933</td>\n",
       "      <td>231376933</td>\n",
       "      <td>1</td>\n",
       "      <td>*</td>\n",
       "      <td>C1orf131</td>\n",
       "    </tr>\n",
       "    <tr>\n",
       "      <td>2</td>\n",
       "      <td>chr1</td>\n",
       "      <td>241683061</td>\n",
       "      <td>241683061</td>\n",
       "      <td>1</td>\n",
       "      <td>*</td>\n",
       "      <td>FH</td>\n",
       "    </tr>\n",
       "    <tr>\n",
       "      <td>3</td>\n",
       "      <td>chr1</td>\n",
       "      <td>120202421</td>\n",
       "      <td>120202421</td>\n",
       "      <td>1</td>\n",
       "      <td>*</td>\n",
       "      <td>PHGDH</td>\n",
       "    </tr>\n",
       "    <tr>\n",
       "      <td>4</td>\n",
       "      <td>chr1</td>\n",
       "      <td>204135465</td>\n",
       "      <td>204135465</td>\n",
       "      <td>1</td>\n",
       "      <td>*</td>\n",
       "      <td>REN</td>\n",
       "    </tr>\n",
       "  </tbody>\n",
       "</table>\n",
       "</div>"
      ],
      "text/plain": [
       "    chr      start        end  width strand       TSS\n",
       "0  chr1    1846266    1846266      1      *    CALML6\n",
       "1  chr1  231376933  231376933      1      *  C1orf131\n",
       "2  chr1  241683061  241683061      1      *        FH\n",
       "3  chr1  120202421  120202421      1      *     PHGDH\n",
       "4  chr1  204135465  204135465      1      *       REN"
      ]
     },
     "execution_count": 152,
     "metadata": {},
     "output_type": "execute_result"
    }
   ],
   "source": [
    "# make tss list\n",
    "tss_df = pd.read_csv(tss_file,index_col=0)\n",
    "tss_df.columns = ['chr', 'start', 'end', 'width', 'strand', 'TSS']\n",
    "tss_df['chr'] = 'chr' + tss_df['chr'].astype(str)\n",
    "tss_df.sort_values('chr',inplace=True)\n",
    "tss_df.reset_index(drop=True,inplace=True)\n",
    "tss_df[:5]"
   ]
  },
  {
   "cell_type": "code",
   "execution_count": 153,
   "metadata": {},
   "outputs": [
    {
     "name": "stdout",
     "output_type": "stream",
     "text": [
      "(20178, 1)\n",
      "(69,)\n"
     ]
    },
    {
     "data": {
      "text/plain": [
       "Index(['ACE', 'ALG9', 'ANKRD18A', 'CCDC177', 'CDRT1', 'CELF6', 'CHTF8',\n",
       "       'CKS1B', 'CLN3', 'CRIP1', 'CRYBG3', 'DEFB130', 'FAM47E-STBD1', 'GALT',\n",
       "       'GOLGA7B', 'HOXC4', 'IER3IP1', 'ITFG3', 'ITGB3', 'KBTBD4', 'KIAA0391',\n",
       "       'KLK9', 'KRBOX1', 'KRT222', 'LCN6', 'LIMS3', 'LSP1', 'LTB4R2', 'MDGA2',\n",
       "       'MFRP', 'MRPL30', 'MRPS17', 'MUC3A', 'NAA60', 'NDUFA7', 'NDUFB8',\n",
       "       'NPIPA7', 'OC90', 'PAGR1', 'PIK3R2', 'POLR2J2', 'PSMA1', 'PSMA2',\n",
       "       'RBL1', 'RNASE11', 'RPP14', 'SDHD', 'SEPT1', 'SHPK', 'SIGLEC5',\n",
       "       'SLC25A10', 'SNURF', 'SOGA3', 'TAP2', 'TIMM10B', 'TLR9', 'TM4SF19',\n",
       "       'TMBIM4', 'TMEM236', 'TUBB3', 'UGT2A1', 'UQCR11', 'ZFP41', 'ZNF223',\n",
       "       'ZNF286A', 'ZNF668', 'ZNF709', 'ZNF747', 'ZNF8'],\n",
       "      dtype='object', name='TSS')"
      ]
     },
     "execution_count": 153,
     "metadata": {},
     "output_type": "execute_result"
    }
   ],
   "source": [
    "check_tss_unique = pd.DataFrame(tss_df.groupby(\"TSS\")['end'].nunique())\n",
    "print(check_tss_unique.shape)\n",
    "print(check_tss_unique[check_tss_unique.end>1].index.shape)\n",
    "check_tss_unique[check_tss_unique.end>1].index.sort_values()"
   ]
  },
  {
   "cell_type": "markdown",
   "metadata": {},
   "source": [
    " note that there are 69 of 20178 unique TSS symbols that have two TSS locations, there is some discrepancy as to where those TSS's actually are located so we'll just use both and not this for future reference"
   ]
  },
  {
   "cell_type": "code",
   "execution_count": 209,
   "metadata": {},
   "outputs": [],
   "source": [
    "PROMOTER_LEN_UPSTREAM=2000\n",
    "PROMOTER_LEN_DOWNSTREAM=500"
   ]
  },
  {
   "cell_type": "code",
   "execution_count": 210,
   "metadata": {},
   "outputs": [],
   "source": [
    "promoter_df = tss_df\n",
    "promoter_df['start_n']= promoter_df['start'].map(int) - PROMOTER_LEN_UPSTREAM\n",
    "promoter_df['end_n']= promoter_df.end + PROMOTER_LEN_DOWNSTREAM\n",
    "promoter_df = promoter_df[['chr','start_n','end_n','TSS']]"
   ]
  },
  {
   "cell_type": "code",
   "execution_count": 211,
   "metadata": {},
   "outputs": [
    {
     "data": {
      "text/html": [
       "<div>\n",
       "<style scoped>\n",
       "    .dataframe tbody tr th:only-of-type {\n",
       "        vertical-align: middle;\n",
       "    }\n",
       "\n",
       "    .dataframe tbody tr th {\n",
       "        vertical-align: top;\n",
       "    }\n",
       "\n",
       "    .dataframe thead th {\n",
       "        text-align: right;\n",
       "    }\n",
       "</style>\n",
       "<table border=\"1\" class=\"dataframe\">\n",
       "  <thead>\n",
       "    <tr style=\"text-align: right;\">\n",
       "      <th></th>\n",
       "      <th>chr</th>\n",
       "      <th>start_n</th>\n",
       "      <th>end_n</th>\n",
       "      <th>TSS</th>\n",
       "    </tr>\n",
       "  </thead>\n",
       "  <tbody>\n",
       "    <tr>\n",
       "      <td>0</td>\n",
       "      <td>chr1</td>\n",
       "      <td>1834266</td>\n",
       "      <td>1836766</td>\n",
       "      <td>CALML6</td>\n",
       "    </tr>\n",
       "    <tr>\n",
       "      <td>1</td>\n",
       "      <td>chr1</td>\n",
       "      <td>231364933</td>\n",
       "      <td>231367433</td>\n",
       "      <td>C1orf131</td>\n",
       "    </tr>\n",
       "    <tr>\n",
       "      <td>2</td>\n",
       "      <td>chr1</td>\n",
       "      <td>241671061</td>\n",
       "      <td>241673561</td>\n",
       "      <td>FH</td>\n",
       "    </tr>\n",
       "    <tr>\n",
       "      <td>3</td>\n",
       "      <td>chr1</td>\n",
       "      <td>120190421</td>\n",
       "      <td>120192921</td>\n",
       "      <td>PHGDH</td>\n",
       "    </tr>\n",
       "    <tr>\n",
       "      <td>4</td>\n",
       "      <td>chr1</td>\n",
       "      <td>204123465</td>\n",
       "      <td>204125965</td>\n",
       "      <td>REN</td>\n",
       "    </tr>\n",
       "  </tbody>\n",
       "</table>\n",
       "</div>"
      ],
      "text/plain": [
       "    chr    start_n      end_n       TSS\n",
       "0  chr1    1834266    1836766    CALML6\n",
       "1  chr1  231364933  231367433  C1orf131\n",
       "2  chr1  241671061  241673561        FH\n",
       "3  chr1  120190421  120192921     PHGDH\n",
       "4  chr1  204123465  204125965       REN"
      ]
     },
     "execution_count": 211,
     "metadata": {},
     "output_type": "execute_result"
    }
   ],
   "source": [
    "promoter_df[:5]"
   ]
  },
  {
   "cell_type": "code",
   "execution_count": 212,
   "metadata": {},
   "outputs": [],
   "source": [
    "promoter_df.to_csv('promoter_hg19_{}_{}.bed'.format(PROMOTER_LEN_UPSTREAM,PROMOTER_LEN_DOWNSTREAM),\n",
    "                   header=None,index=None,sep='\\t')\n",
    "                   "
   ]
  },
  {
   "cell_type": "code",
   "execution_count": 213,
   "metadata": {},
   "outputs": [],
   "source": [
    "# cmd = \"bedtools sort -i promoter_hg19_5000_5000.bed\"\n",
    "# cmd_arr = cmd.split(' ')\n",
    "# print(cmd_arr)\n",
    "# with open(\"promoter_hg19_2500_500_sort.bed\", \"w\") as file:\n",
    "#     subprocess.run(cmd_arr, shell=True, check=True, stdout=file)"
   ]
  },
  {
   "cell_type": "code",
   "execution_count": 214,
   "metadata": {},
   "outputs": [
    {
     "data": {
      "text/plain": [
       "<BedTool(promoter_hg19_2000_500_sort.bed)>"
      ]
     },
     "execution_count": 214,
     "metadata": {},
     "output_type": "execute_result"
    }
   ],
   "source": [
    "promoter = pybedtools.BedTool('promoter_hg19_{}_{}.bed'.format(PROMOTER_LEN_UPSTREAM,PROMOTER_LEN_DOWNSTREAM))\n",
    "\n",
    "promoter.sort().saveas('promoter_hg19_{}_{}_sort.bed'.format(PROMOTER_LEN_UPSTREAM,PROMOTER_LEN_DOWNSTREAM))\n",
    "\n"
   ]
  },
  {
   "cell_type": "markdown",
   "metadata": {},
   "source": [
    "# fix tf annotation file"
   ]
  },
  {
   "cell_type": "code",
   "execution_count": 47,
   "metadata": {},
   "outputs": [],
   "source": [
    "rna_tpm_file = '../rnaseq/tissue_tpm_sym.csv'\n",
    "rna_df = pd.read_csv(rna_tpm_file, index_col=0,header=0)\n",
    "rna_df.index = [x.upper() for x in rna_df.index.values]\n",
    "def get_exp(rna_df, sym, tissue,verbose=True):\n",
    "    try:\n",
    "        return rna_df.loc[sym,tissue]\n",
    "    except KeyError:\n",
    "        if verbose:\n",
    "            print(sym, 'not found')\n",
    "        return 0\n"
   ]
  },
  {
   "cell_type": "code",
   "execution_count": 72,
   "metadata": {},
   "outputs": [],
   "source": [
    "hoco_annon_file = 'HOCOMOCOv11_core_annotation_HUMAN_mono.tsv'\n",
    "hoco_annon = pd.read_table(hoco_annon_file,header=0)\n",
    "# hoco_annon[['motif_abbr','motif_info']]=hoco_annon['Model'].str.split(\"_\",expand=True)\n",
    "hoco_id_to_tf = pd.Series(hoco_annon['Transcription factor'].values, index=hoco_annon.Model.values).to_dict()\n",
    "# hoco_df = pd.read_table(hoco_annon_file, index_col=None, \n",
    "#                             names=['anchor_chr', 'anchor_start', 'anchor_end', \n",
    "#                                     'foot_chr', 'foot_start', 'foot_end', 'motif', 'score', 'strand'])\n",
    "# hoco_df['transcription_factor'] = hoco_df['motif'].map(hoco_motif_to_tf)"
   ]
  },
  {
   "cell_type": "code",
   "execution_count": 73,
   "metadata": {},
   "outputs": [
    {
     "name": "stdout",
     "output_type": "stream",
     "text": [
      "T not found\n",
      "BRAC_HUMAN.H11MO.0.A T\n",
      "HNF1B not found\n",
      "HNF1B_HUMAN.H11MO.0.A HNF1B\n",
      "MEF2B not found\n",
      "MEF2B_HUMAN.H11MO.0.A MEF2B\n",
      "NR2E3 not found\n",
      "NR2E3_HUMAN.H11MO.0.C NR2E3\n",
      "ZNF8 not found\n",
      "ZNF8_HUMAN.H11MO.0.C ZNF8\n"
     ]
    }
   ],
   "source": [
    "# check to see if the rna expression for these tfs is in the table\n",
    "for motif, tf in hoco_id_to_tf.items():\n",
    "    exp = get_exp(rna_df, tf, 'GDSD0')\n",
    "    if type(exp)==int:\n",
    "        print(motif, tf)\n",
    "        "
   ]
  },
  {
   "cell_type": "code",
   "execution_count": 74,
   "metadata": {},
   "outputs": [
    {
     "data": {
      "text/plain": [
       "401"
      ]
     },
     "execution_count": 74,
     "metadata": {},
     "output_type": "execute_result"
    }
   ],
   "source": [
    "len(hoco_motif_to_tf)\n",
    "401"
   ]
  },
  {
   "cell_type": "markdown",
   "metadata": {},
   "source": [
    "So of the 401 human Transcription factors in HOCOMOCO,5 are not found in RNA_df by direct lookup, By manual search we find the following mappings\n",
    "\n",
    "-  BRAC_HUMAN.H11MO.0.A, T --> TBXT\n",
    "- HNF1B_HUMAN.H11MO.0.A --> n/a\n",
    "- MEF2B_HUMAN.H11MO.0.A --> n/a\n",
    "- NR2E3_HUMAN.H11MO.0.C --> n/a\n",
    "- ZNF8_HUMAN.H11MO.0.C --> ZNF8-ERVK3-1"
   ]
  },
  {
   "cell_type": "code",
   "execution_count": 75,
   "metadata": {},
   "outputs": [
    {
     "name": "stdout",
     "output_type": "stream",
     "text": [
      "HNF1B not found\n",
      "HNF1B_HUMAN.H11MO.0.A HNF1B\n",
      "MEF2B not found\n",
      "MEF2B_HUMAN.H11MO.0.A MEF2B\n",
      "NR2E3 not found\n",
      "NR2E3_HUMAN.H11MO.0.C NR2E3\n"
     ]
    }
   ],
   "source": [
    "# manual correction of mapping dict\n",
    "hoco_id_to_tf['BRAC_HUMAN.H11MO.0.A'] = 'TBXT'\n",
    "hoco_id_to_tf['ZNF8_HUMAN.H11MO.0.C'] = 'ZNF8-ERVK3-1'\n",
    "for motif, tf in hoco_id_to_tf.items():\n",
    "    exp = get_exp(rna_df, tf, 'GDSD0')\n",
    "    if type(exp)==int:\n",
    "        print(motif, tf)\n",
    "        "
   ]
  },
  {
   "cell_type": "code",
   "execution_count": 76,
   "metadata": {},
   "outputs": [],
   "source": [
    "hoco_id_to_tf = pd.DataFrame(pd.Series(hoco_id_to_tf).reset_index())\n",
    "hoco_id_to_tf.columns=['id','tf']\n"
   ]
  },
  {
   "cell_type": "code",
   "execution_count": 78,
   "metadata": {},
   "outputs": [
    {
     "data": {
      "text/html": [
       "<div>\n",
       "<style scoped>\n",
       "    .dataframe tbody tr th:only-of-type {\n",
       "        vertical-align: middle;\n",
       "    }\n",
       "\n",
       "    .dataframe tbody tr th {\n",
       "        vertical-align: top;\n",
       "    }\n",
       "\n",
       "    .dataframe thead th {\n",
       "        text-align: right;\n",
       "    }\n",
       "</style>\n",
       "<table border=\"1\" class=\"dataframe\">\n",
       "  <thead>\n",
       "    <tr style=\"text-align: right;\">\n",
       "      <th></th>\n",
       "      <th>id</th>\n",
       "      <th>tf</th>\n",
       "    </tr>\n",
       "  </thead>\n",
       "  <tbody>\n",
       "    <tr>\n",
       "      <td>0</td>\n",
       "      <td>AHR_HUMAN.H11MO.0.B</td>\n",
       "      <td>AHR</td>\n",
       "    </tr>\n",
       "    <tr>\n",
       "      <td>1</td>\n",
       "      <td>AIRE_HUMAN.H11MO.0.C</td>\n",
       "      <td>AIRE</td>\n",
       "    </tr>\n",
       "    <tr>\n",
       "      <td>2</td>\n",
       "      <td>ALX1_HUMAN.H11MO.0.B</td>\n",
       "      <td>ALX1</td>\n",
       "    </tr>\n",
       "    <tr>\n",
       "      <td>3</td>\n",
       "      <td>ANDR_HUMAN.H11MO.0.A</td>\n",
       "      <td>AR</td>\n",
       "    </tr>\n",
       "    <tr>\n",
       "      <td>4</td>\n",
       "      <td>AP2A_HUMAN.H11MO.0.A</td>\n",
       "      <td>TFAP2A</td>\n",
       "    </tr>\n",
       "  </tbody>\n",
       "</table>\n",
       "</div>"
      ],
      "text/plain": [
       "                     id      tf\n",
       "0   AHR_HUMAN.H11MO.0.B     AHR\n",
       "1  AIRE_HUMAN.H11MO.0.C    AIRE\n",
       "2  ALX1_HUMAN.H11MO.0.B    ALX1\n",
       "3  ANDR_HUMAN.H11MO.0.A      AR\n",
       "4  AP2A_HUMAN.H11MO.0.A  TFAP2A"
      ]
     },
     "execution_count": 78,
     "metadata": {},
     "output_type": "execute_result"
    }
   ],
   "source": [
    "hoco_id_to_tf[:5]"
   ]
  },
  {
   "cell_type": "code",
   "execution_count": 79,
   "metadata": {},
   "outputs": [],
   "source": [
    "hoco_id_to_tf.to_csv('HOCOMOCOv11_annotation.csv')"
   ]
  },
  {
   "cell_type": "code",
   "execution_count": null,
   "metadata": {},
   "outputs": [],
   "source": []
  }
 ],
 "metadata": {
  "kernelspec": {
   "display_name": "Python 3",
   "language": "python",
   "name": "python3"
  },
  "language_info": {
   "codemirror_mode": {
    "name": "ipython",
    "version": 3
   },
   "file_extension": ".py",
   "mimetype": "text/x-python",
   "name": "python",
   "nbconvert_exporter": "python",
   "pygments_lexer": "ipython3",
   "version": "3.7.4"
  }
 },
 "nbformat": 4,
 "nbformat_minor": 4
}
