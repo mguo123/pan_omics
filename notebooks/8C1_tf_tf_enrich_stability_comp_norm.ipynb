{
 "cells": [
  {
   "cell_type": "markdown",
   "metadata": {},
   "source": [
    "compare results from 8A and irf cca results (6A)\n",
    "\n",
    "07/22/2020\n",
    "\n",
    "modified 08/16/2020 - for only selected tissues for mpra"
   ]
  },
  {
   "cell_type": "code",
   "execution_count": 97,
   "metadata": {},
   "outputs": [],
   "source": [
    "import os, glob\n",
    "import pandas as pd\n",
    "from collections import defaultdict\n",
    "import seaborn as sns\n",
    "import matplotlib as plt"
   ]
  },
  {
   "cell_type": "code",
   "execution_count": 70,
   "metadata": {},
   "outputs": [],
   "source": [
    "sel_tissues = ['Colon','GDSD6','GM12878','Melanocytes']"
   ]
  },
  {
   "cell_type": "code",
   "execution_count": 75,
   "metadata": {},
   "outputs": [],
   "source": [
    "save_dir = '../data/processed/fig4_modelling/tf_tf_pairs_stability/'\n",
    "if not os.path.exists(save_dir):\n",
    "    os.makedirs(save_dir)"
   ]
  },
  {
   "cell_type": "code",
   "execution_count": 76,
   "metadata": {},
   "outputs": [
    {
     "data": {
      "text/plain": [
       "['../data/processed/fig4_modelling/tf_tf_pairs/expr_Airway_loop_loop_vocab_info.csv',\n",
       " '../data/processed/fig4_modelling/tf_tf_pairs/expr_Airway_pro_pro_vocab_info.csv',\n",
       " '../data/processed/fig4_modelling/tf_tf_pairs/expr_Astrocytes_loop_loop_vocab_info.csv',\n",
       " '../data/processed/fig4_modelling/tf_tf_pairs/expr_Astrocytes_pro_pro_vocab_info.csv',\n",
       " '../data/processed/fig4_modelling/tf_tf_pairs/expr_Bladder_loop_loop_vocab_info.csv',\n",
       " '../data/processed/fig4_modelling/tf_tf_pairs/expr_Bladder_pro_pro_vocab_info.csv',\n",
       " '../data/processed/fig4_modelling/tf_tf_pairs/expr_Colon_loop_loop_vocab_info.csv',\n",
       " '../data/processed/fig4_modelling/tf_tf_pairs/expr_Colon_pro_pro_vocab_info.csv',\n",
       " '../data/processed/fig4_modelling/tf_tf_pairs/expr_Esophageal_loop_loop_vocab_info.csv',\n",
       " '../data/processed/fig4_modelling/tf_tf_pairs/expr_Esophageal_pro_pro_vocab_info.csv',\n",
       " '../data/processed/fig4_modelling/tf_tf_pairs/expr_GDSD6_loop_loop_vocab_info.csv',\n",
       " '../data/processed/fig4_modelling/tf_tf_pairs/expr_GDSD6_pro_pro_vocab_info.csv',\n",
       " '../data/processed/fig4_modelling/tf_tf_pairs/expr_GM12878_loop_loop_vocab_info.csv',\n",
       " '../data/processed/fig4_modelling/tf_tf_pairs/expr_GM12878_pro_pro_vocab_info.csv',\n",
       " '../data/processed/fig4_modelling/tf_tf_pairs/expr_HMEC_loop_loop_vocab_info.csv',\n",
       " '../data/processed/fig4_modelling/tf_tf_pairs/expr_HMEC_pro_pro_vocab_info.csv',\n",
       " '../data/processed/fig4_modelling/tf_tf_pairs/expr_Melanocytes_loop_loop_vocab_info.csv',\n",
       " '../data/processed/fig4_modelling/tf_tf_pairs/expr_Melanocytes_pro_pro_vocab_info.csv',\n",
       " '../data/processed/fig4_modelling/tf_tf_pairs/expr_Ovarian_loop_loop_vocab_info.csv',\n",
       " '../data/processed/fig4_modelling/tf_tf_pairs/expr_Ovarian_pro_pro_vocab_info.csv',\n",
       " '../data/processed/fig4_modelling/tf_tf_pairs/expr_Pancreas_loop_loop_vocab_info.csv',\n",
       " '../data/processed/fig4_modelling/tf_tf_pairs/expr_Pancreas_pro_pro_vocab_info.csv',\n",
       " '../data/processed/fig4_modelling/tf_tf_pairs/expr_Prostate_loop_loop_vocab_info.csv',\n",
       " '../data/processed/fig4_modelling/tf_tf_pairs/expr_Prostate_pro_pro_vocab_info.csv',\n",
       " '../data/processed/fig4_modelling/tf_tf_pairs/expr_Renal_loop_loop_vocab_info.csv',\n",
       " '../data/processed/fig4_modelling/tf_tf_pairs/expr_Renal_pro_pro_vocab_info.csv',\n",
       " '../data/processed/fig4_modelling/tf_tf_pairs/expr_Thyroid_loop_loop_vocab_info.csv',\n",
       " '../data/processed/fig4_modelling/tf_tf_pairs/expr_Thyroid_pro_pro_vocab_info.csv',\n",
       " '../data/processed/fig4_modelling/tf_tf_pairs/expr_Uterine_loop_loop_vocab_info.csv',\n",
       " '../data/processed/fig4_modelling/tf_tf_pairs/expr_Uterine_pro_pro_vocab_info.csv',\n",
       " '../data/processed/fig4_modelling/tf_tf_pairs/unique_alltissue_loop_loop_vocab_info.csv',\n",
       " '../data/processed/fig4_modelling/tf_tf_pairs/unique_alltissue_pro_loop_vocab_info.csv',\n",
       " '../data/processed/fig4_modelling/tf_tf_pairs/unique_alltissue_pro_pro_vocab_info.csv',\n",
       " '../data/processed/fig4_modelling/tf_tf_pairs/unique_alltissue_vocab_info.csv']"
      ]
     },
     "execution_count": 76,
     "metadata": {},
     "output_type": "execute_result"
    }
   ],
   "source": [
    "# tf tf enrichment results\n",
    "enrichment_path =  '../data/processed/fig4_modelling/tf_tf_pairs/'\n",
    "sorted(glob.glob(os.path.join(enrichment_path,'*info.csv')))"
   ]
  },
  {
   "cell_type": "code",
   "execution_count": 77,
   "metadata": {},
   "outputs": [
    {
     "data": {
      "text/plain": [
       "['../data/processed/fig4_modelling/tf_tf_pairs_stability_sherlock/expr_Colon_Colon_boosted_stability_score.csv',\n",
       " '../data/processed/fig4_modelling/tf_tf_pairs_stability_sherlock/expr_GDSD6_GDSD6_boosted_stability_score.csv',\n",
       " '../data/processed/fig4_modelling/tf_tf_pairs_stability_sherlock/expr_GM12878_GM12878_boosted_stability_score.csv',\n",
       " '../data/processed/fig4_modelling/tf_tf_pairs_stability_sherlock/expr_Melanocytes_Melanocytes_boosted_stability_score.csv',\n",
       " '../data/processed/fig4_modelling/tf_tf_pairs_stability_sherlock/test1_GDSD6_GDSD6_boosted_stability_score.csv',\n",
       " '../data/processed/fig4_modelling/tf_tf_pairs_stability_sherlock/test_GDSD6_GDSD6_boosted_stability_score.csv']"
      ]
     },
     "execution_count": 77,
     "metadata": {},
     "output_type": "execute_result"
    }
   ],
   "source": [
    "# stability_path = '../data/processed/fig4_modelling/irf_manual/'\n",
    "\n",
    "stability_path = '../data/processed/fig4_modelling/tf_tf_pairs_stability_sherlock/'\n",
    "sorted(glob.glob(os.path.join(stability_path, '*boosted_stability_score.csv')))"
   ]
  },
  {
   "cell_type": "code",
   "execution_count": 78,
   "metadata": {},
   "outputs": [],
   "source": [
    "group_dict={'Airway':'purple','Astrocytes':'blue','Bladder':'purple','Colon':'green','Esophageal':'green','GDSD6':'purple','GM12878':'grey','HMEC':'purple','Melanocytes':'blue','Ovarian':'green',\n",
    "'Pancreas':'green','Prostate':'purple','Renal':'green','Thyroid':'green','Uterine':'purple'}\n",
    "    \n"
   ]
  },
  {
   "cell_type": "code",
   "execution_count": 79,
   "metadata": {},
   "outputs": [],
   "source": [
    "def get_vocab_pair(vocab):\n",
    "    vocab_arr = vocab.split('::')\n",
    "    vocab_arr_trim = [x.split('_')[0] for x in vocab_arr]\n",
    "    return '::'.join(vocab_arr_trim)\n"
   ]
  },
  {
   "cell_type": "code",
   "execution_count": 122,
   "metadata": {},
   "outputs": [],
   "source": [
    "def merge_methods(tissue, save=None,loop_type='pro_pro', expr=True,group=False):\n",
    "    print('++++++++',tissue, 'group', group, 'expr',expr, 'loop_type', loop_type)\n",
    "    if expr:\n",
    "        expr_file = os.path.join(enrichment_path, 'expr_'+tissue+'_' + loop_type + '_vocab_info.csv')\n",
    "    else:\n",
    "        expr_file = os.path.join(enrichment_path, 'unique_alltissue_'+loop_type+'_vocab_info.csv')\n",
    "    if not os.path.isfile(expr_file):\n",
    "        print('expr file not found, ', expr_file)\n",
    "        return None\n",
    "    else:\n",
    "        print('loaded expr file: ', expr_file)\n",
    "    df_enrich = pd.read_csv(expr_file, index_col=0)\n",
    "    # df_enrich = pd.read_csv('../data/processed/fig4_modelling/tf_tf_pairs/unique_alltissue_vocab_info.csv', index_col=0)\n",
    "    df_enrich = df_enrich[df_enrich.tissue==tissue]\n",
    "    df_enrich_vocab = df_enrich.vocab.unique()\n",
    "    print('num vocab enrichment', df_enrich_vocab.shape)\n",
    "    \n",
    "    if group:\n",
    "        stability_file = os.path.join(stability_path, 'expr_'+tissue+'_'+group_dict[tissue]+'_boosted_stability_score.csv')\n",
    "    else:\n",
    "        stability_file = os.path.join(stability_path, 'expr_'+tissue+'_'+tissue+'_boosted_stability_score.csv')\n",
    "    if not os.path.isfile(stability_file):\n",
    "        print('stability file not exist', stability_file)\n",
    "        return None \n",
    "    else:\n",
    "        print('loaded stability file', stability_file)\n",
    "    df_stability = pd.read_csv(stability_file)\n",
    "    df_stability['vocab'] = df_stability['index'].apply(get_vocab_pair)\n",
    "    df_stability['vocab_num'] = df_stability['index'].apply(lambda x: len(x.split('::')))\n",
    "    \n",
    "    ##### MERGING ENRICH AND STABLE\n",
    "#     df_enrich_stable =  df_enrich.merge(df_stability, how='inner',on='vocab',suffixes=('_tf','_model'))\n",
    "    vocab_arr = [x.split('::') for x in df_enrich.vocab.unique()]\n",
    "    e_vocab_stable = defaultdict(dict)\n",
    "    for idx, row in df_stability.iterrows():\n",
    "        s_vocab = row['vocab']\n",
    "        s_vocab_arr = s_vocab.split('::')\n",
    "        for e_vocab_arr in vocab_arr:\n",
    "            enrich_in_stable = True\n",
    "            for e_vocab in e_vocab_arr:\n",
    "                if e_vocab not in s_vocab_arr:\n",
    "                    enrich_in_stable = False\n",
    "\n",
    "            if enrich_in_stable:\n",
    "                e_vocab_stable['::'.join(e_vocab_arr)][s_vocab] = row['score']\n",
    "\n",
    "        vocab_overlap_df = pd.DataFrame.from_dict(e_vocab_stable,orient='index').reset_index().melt(id_vars='index')\n",
    "    vocab_overlap_df.columns = ['enrich_vocab','stability_vocab', 'stability_score']\n",
    "    vocab_overlap_df= vocab_overlap_df[~vocab_overlap_df.stability_score.isna()].reset_index(drop=True)\n",
    "    df_enrich_stable = df_enrich.merge(vocab_overlap_df, how='inner',left_on='vocab',right_on='enrich_vocab')\n",
    "\n",
    "            \n",
    "    print('df_enrich_stable', df_enrich_stable.shape)\n",
    "    if df_enrich_stable.shape[0]==0:\n",
    "        return\n",
    "    if save is not None:\n",
    "        print('saving',tissue)\n",
    "        if expr:\n",
    "            if group:\n",
    "                df_enrich_stable.to_csv(save+ tissue+'_'+loop_type+'_vocab_group.csv')            \n",
    "            else:\n",
    "                df_enrich_stable.to_csv(save+ tissue+'_'+loop_type+'_vocab.csv')\n",
    "        else:\n",
    "            if group:\n",
    "                df_enrich_stable.to_csv(save+ tissue+'_'+loop_type+'_vocab_group_unique.csv')            \n",
    "            else:\n",
    "                df_enrich_stable.to_csv(save+ tissue+'_'+loop_type+'_vocab_unique.csv')\n"
   ]
  },
  {
   "cell_type": "code",
   "execution_count": 123,
   "metadata": {},
   "outputs": [],
   "source": [
    "# testing\n",
    "# df_enrich, df_stability = merge_methods('Colon',save=save_dir+'/', expr=True,group=False, loop_type= 'pro_pro')\n",
    "# df_enrich_stable = merge_methods('Colon',save=save_dir+'/', expr=True,group=False, loop_type= 'pro_pro')"
   ]
  },
  {
   "cell_type": "code",
   "execution_count": 124,
   "metadata": {},
   "outputs": [
    {
     "name": "stdout",
     "output_type": "stream",
     "text": [
      "++++++++ Colon group False expr True loop_type pro_pro\n",
      "loaded expr file:  ../data/processed/fig4_modelling/tf_tf_pairs/expr_Colon_pro_pro_vocab_info.csv\n",
      "num vocab enrichment (119,)\n",
      "loaded stability file ../data/processed/fig4_modelling/tf_tf_pairs_stability_sherlock/expr_Colon_Colon_boosted_stability_score.csv\n",
      "df_enrich_stable (128, 17)\n",
      "saving Colon\n",
      "++++++++ Colon group False expr True loop_type loop_loop\n",
      "loaded expr file:  ../data/processed/fig4_modelling/tf_tf_pairs/expr_Colon_loop_loop_vocab_info.csv\n",
      "num vocab enrichment (220,)\n",
      "loaded stability file ../data/processed/fig4_modelling/tf_tf_pairs_stability_sherlock/expr_Colon_Colon_boosted_stability_score.csv\n",
      "df_enrich_stable (2037, 17)\n",
      "saving Colon\n",
      "++++++++ GDSD6 group False expr True loop_type pro_pro\n",
      "loaded expr file:  ../data/processed/fig4_modelling/tf_tf_pairs/expr_GDSD6_pro_pro_vocab_info.csv\n",
      "num vocab enrichment (1722,)\n",
      "loaded stability file ../data/processed/fig4_modelling/tf_tf_pairs_stability_sherlock/expr_GDSD6_GDSD6_boosted_stability_score.csv\n",
      "df_enrich_stable (52520, 17)\n",
      "saving GDSD6\n",
      "++++++++ GDSD6 group False expr True loop_type loop_loop\n",
      "loaded expr file:  ../data/processed/fig4_modelling/tf_tf_pairs/expr_GDSD6_loop_loop_vocab_info.csv\n",
      "num vocab enrichment (3514,)\n",
      "loaded stability file ../data/processed/fig4_modelling/tf_tf_pairs_stability_sherlock/expr_GDSD6_GDSD6_boosted_stability_score.csv\n",
      "df_enrich_stable (491218, 17)\n",
      "saving GDSD6\n",
      "++++++++ GM12878 group False expr True loop_type pro_pro\n",
      "loaded expr file:  ../data/processed/fig4_modelling/tf_tf_pairs/expr_GM12878_pro_pro_vocab_info.csv\n",
      "num vocab enrichment (1520,)\n",
      "loaded stability file ../data/processed/fig4_modelling/tf_tf_pairs_stability_sherlock/expr_GM12878_GM12878_boosted_stability_score.csv\n",
      "df_enrich_stable (13214, 17)\n",
      "saving GM12878\n",
      "++++++++ GM12878 group False expr True loop_type loop_loop\n",
      "loaded expr file:  ../data/processed/fig4_modelling/tf_tf_pairs/expr_GM12878_loop_loop_vocab_info.csv\n",
      "num vocab enrichment (3135,)\n",
      "loaded stability file ../data/processed/fig4_modelling/tf_tf_pairs_stability_sherlock/expr_GM12878_GM12878_boosted_stability_score.csv\n",
      "df_enrich_stable (139154, 17)\n",
      "saving GM12878\n",
      "++++++++ Melanocytes group False expr True loop_type pro_pro\n",
      "loaded expr file:  ../data/processed/fig4_modelling/tf_tf_pairs/expr_Melanocytes_pro_pro_vocab_info.csv\n",
      "num vocab enrichment (583,)\n",
      "loaded stability file ../data/processed/fig4_modelling/tf_tf_pairs_stability_sherlock/expr_Melanocytes_Melanocytes_boosted_stability_score.csv\n",
      "df_enrich_stable (11, 17)\n",
      "saving Melanocytes\n",
      "++++++++ Melanocytes group False expr True loop_type loop_loop\n",
      "loaded expr file:  ../data/processed/fig4_modelling/tf_tf_pairs/expr_Melanocytes_loop_loop_vocab_info.csv\n",
      "num vocab enrichment (1042,)\n",
      "loaded stability file ../data/processed/fig4_modelling/tf_tf_pairs_stability_sherlock/expr_Melanocytes_Melanocytes_boosted_stability_score.csv\n",
      "df_enrich_stable (50, 17)\n",
      "saving Melanocytes\n"
     ]
    }
   ],
   "source": [
    "for tissue in sel_tissues:\n",
    "    merge_methods(tissue,save=save_dir+'/', expr=True,group=False, loop_type= 'pro_pro')\n",
    "#     merge_methods(tissue,save=save_dir+'/',expr=True, group=True,loop_type= 'pro_pro')# unique to not tissue\n",
    "#     merge_methods(tissue,save=save_dir+'/',expr=False,group=False,loop_type= 'pro_pro') #unique to only tissue\n",
    "    merge_methods(tissue,save=save_dir+'/', expr=True,group=False, loop_type= 'loop_loop')\n",
    "#     merge_methods(tissue,save=save_dir+'/',expr=True, group=True,loop_type= 'loop_loop')# unique to not tissue\n",
    "#     merge_methods(tissue,save=save_dir+'/',expr=False,group=False,loop_type= 'loop_loop') #unique to only tissue\n",
    "        "
   ]
  },
  {
   "cell_type": "code",
   "execution_count": 125,
   "metadata": {},
   "outputs": [],
   "source": [
    "# for tissue in ['Melanocytes']:\n",
    "#     merge_methods(tissue,save=save_dir+'/', expr=True,group=False, loop_type= 'pro_pro')\n",
    "#     merge_methods(tissue,save=save_dir+'/',expr=True, group=True,loop_type= 'pro_pro')# unique to not tissue\n",
    "#     merge_methods(tissue,save=save_dir+'/',expr=False,group=False,loop_type= 'pro_pro') #unique to only tissue\n",
    "#     merge_methods(tissue,save=save_dir+'/', expr=True,group=False, loop_type= 'loop_loop')\n",
    "#     merge_methods(tissue,save=save_dir+'/',expr=True, group=True,loop_type= 'loop_loop')# unique to not tissue\n",
    "#     merge_methods(tissue,save=save_dir+'/',expr=False,group=False,loop_type= 'loop_loop') #unique to only tissue\n",
    "        "
   ]
  },
  {
   "cell_type": "code",
   "execution_count": null,
   "metadata": {},
   "outputs": [],
   "source": [
    "\n",
    "# df_stability = pd.read_csv('../data/processed/fig4_modelling/irf_manual/test_GDSD6_GDSD6_boosted_stability_score.csv')\n",
    "# df_stability['vocab'] = df_stability['index'].apply(get_vocab_pair)\n",
    "\n",
    "# df_enrich.merge(df_stability, how='inner',on='vocab',suffixes=('_tf','_model'))"
   ]
  },
  {
   "cell_type": "code",
   "execution_count": 126,
   "metadata": {},
   "outputs": [],
   "source": [
    "# for tissue in normal_tissues:\n",
    "    "
   ]
  },
  {
   "cell_type": "code",
   "execution_count": null,
   "metadata": {},
   "outputs": [],
   "source": []
  }
 ],
 "metadata": {
  "kernelspec": {
   "display_name": "Python 3",
   "language": "python",
   "name": "python3"
  },
  "language_info": {
   "codemirror_mode": {
    "name": "ipython",
    "version": 3
   },
   "file_extension": ".py",
   "mimetype": "text/x-python",
   "name": "python",
   "nbconvert_exporter": "python",
   "pygments_lexer": "ipython3",
   "version": "3.7.4"
  }
 },
 "nbformat": 4,
 "nbformat_minor": 4
}
