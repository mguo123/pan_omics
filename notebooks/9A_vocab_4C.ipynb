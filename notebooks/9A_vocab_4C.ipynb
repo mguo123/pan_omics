{
 "cells": [
  {
   "cell_type": "markdown",
   "metadata": {},
   "source": [
    "# 9A_vocab_4C\n",
    "\n",
    "11/16/2020\n",
    "\n",
    "get \n",
    "\n",
    "Sorry. I lied. More potential things if possible. I'm looking to make 4 v4C vignettes so trying to find genomic instances I can show:\n",
    "- a.    POU2F2 motif in enhancer connected to a cornification gene in KC D6 and POU2F2 motif in enhancer connected to a prostate gonad development gene in Prostate\n",
    "- b.    SCC: TFAP4 motif connected to a gene in the to extrinsic apoptotic signaling pathway (or another SCC-associated gene)\n",
    "- c.    Melanoma: ZNF768 to catecholamine metabolic process or response to endoplasmic reticulum stress (or another melanoma-related gene)\n",
    "\n",
    "TODO:\n",
    "for each send genomics instances in [specified cell-types] as well as the genes those locations are linked to\n"
   ]
  },
  {
   "cell_type": "code",
   "execution_count": 6,
   "metadata": {},
   "outputs": [],
   "source": [
    "import os, glob\n",
    "import pandas as pd\n",
    "import pybedtools "
   ]
  },
  {
   "cell_type": "code",
   "execution_count": 45,
   "metadata": {},
   "outputs": [],
   "source": [
    "save_dir = '../data/processed/9A_vignettes'\n",
    "if not os.path.exists(save_dir):\n",
    "    os.makedirs(save_dir)"
   ]
  },
  {
   "cell_type": "code",
   "execution_count": 9,
   "metadata": {},
   "outputs": [],
   "source": [
    "tf_annon_df = pd.read_csv('../data/external/HOCOMOCOv11_annotation.csv',index_col=0)\n",
    "tf_annon_df['id_trim'] = tf_annon_df['id'] + '.pwm.trim'\n",
    "tf_name_to_id_dict = pd.Series(tf_annon_df.id_trim.values, index=tf_annon_df.tf.values).to_dict()\n",
    "tf_id_to_name_dict = pd.Series(tf_annon_df.tf.values, index=tf_annon_df.id_trim.values).to_dict()"
   ]
  },
  {
   "cell_type": "code",
   "execution_count": 32,
   "metadata": {},
   "outputs": [
    {
     "name": "stdout",
     "output_type": "stream",
     "text": [
      "['../data/interim/annon/promoter_anchors/Icon\\r', '../data/interim/annon/promoter_anchors/promoter_A431-CTRLi_annon.bed', '../data/interim/annon/promoter_anchors/promoter_A431-p63i_annon.bed', '../data/interim/annon/promoter_anchors/promoter_Airway_annon.bed', '../data/interim/annon/promoter_anchors/promoter_Astrocytes_annon.bed', '../data/interim/annon/promoter_anchors/promoter_Bladder_annon.bed', '../data/interim/annon/promoter_anchors/promoter_CAL27-CTRLi_annon.bed', '../data/interim/annon/promoter_anchors/promoter_CAL27-p63i_annon.bed', '../data/interim/annon/promoter_anchors/promoter_COLO_SCR_DMSO_annon.bed', '../data/interim/annon/promoter_anchors/promoter_COLO_SCR_PLX_annon.bed', '../data/interim/annon/promoter_anchors/promoter_COLO_shMITF_DMSO_annon.bed', '../data/interim/annon/promoter_anchors/promoter_COLO_shMITF_PLX_annon.bed', '../data/interim/annon/promoter_anchors/promoter_Colon_annon.bed', '../data/interim/annon/promoter_anchors/promoter_D0-CTRLi_annon.bed', '../data/interim/annon/promoter_anchors/promoter_D0-p63i_annon.bed', '../data/interim/annon/promoter_anchors/promoter_D3-CTRLi_annon.bed', '../data/interim/annon/promoter_anchors/promoter_D3-p63i_annon.bed', '../data/interim/annon/promoter_anchors/promoter_D6-CTRLi_annon.bed', '../data/interim/annon/promoter_anchors/promoter_D6-p63i_annon.bed', '../data/interim/annon/promoter_anchors/promoter_Esophageal_annon.bed', '../data/interim/annon/promoter_anchors/promoter_GDSD0_annon.bed', '../data/interim/annon/promoter_anchors/promoter_GDSD3_annon.bed', '../data/interim/annon/promoter_anchors/promoter_GDSD6_annon.bed', '../data/interim/annon/promoter_anchors/promoter_GM12878_annon.bed', '../data/interim/annon/promoter_anchors/promoter_HMEC_annon.bed', '../data/interim/annon/promoter_anchors/promoter_Melanocytes_annon.bed', '../data/interim/annon/promoter_anchors/promoter_Ovarian_annon.bed', '../data/interim/annon/promoter_anchors/promoter_Pancreas_annon.bed', '../data/interim/annon/promoter_anchors/promoter_Prostate_annon.bed', '../data/interim/annon/promoter_anchors/promoter_Renal_annon.bed', '../data/interim/annon/promoter_anchors/promoter_SCC13-CTRLi_annon.bed', '../data/interim/annon/promoter_anchors/promoter_SCC13-p63i_annon.bed', '../data/interim/annon/promoter_anchors/promoter_Thyroid_annon.bed', '../data/interim/annon/promoter_anchors/promoter_Uterine_annon.bed', '../data/interim/annon/promoter_anchors/promoter_WM_SCR_DMSO_annon.bed', '../data/interim/annon/promoter_anchors/promoter_WM_SCR_PLX_annon.bed', '../data/interim/annon/promoter_anchors/promoter_WM_shMITF_DMSO_annon.bed', '../data/interim/annon/promoter_anchors/promoter_WM_shMITF_PLX_annon.bed']\n"
     ]
    }
   ],
   "source": [
    "print(sorted(glob.glob('../data/interim/annon/promoter_anchors/*')))"
   ]
  },
  {
   "cell_type": "code",
   "execution_count": 31,
   "metadata": {},
   "outputs": [
    {
     "name": "stdout",
     "output_type": "stream",
     "text": [
      "['../data/interim/annon/anchor_footprinting/A431-CTRLi_annon.bed', '../data/interim/annon/anchor_footprinting/A431-p63i_annon.bed', '../data/interim/annon/anchor_footprinting/Airway_annon.bed', '../data/interim/annon/anchor_footprinting/Astrocytes_annon.bed', '../data/interim/annon/anchor_footprinting/Bladder_annon.bed', '../data/interim/annon/anchor_footprinting/CAL27-CTRLi_annon.bed', '../data/interim/annon/anchor_footprinting/CAL27-p63i_annon.bed', '../data/interim/annon/anchor_footprinting/COLO_SCR_DMSO_annon.bed', '../data/interim/annon/anchor_footprinting/COLO_SCR_PLX_annon.bed', '../data/interim/annon/anchor_footprinting/COLO_shMITF_DMSO_annon.bed', '../data/interim/annon/anchor_footprinting/COLO_shMITF_PLX_annon.bed', '../data/interim/annon/anchor_footprinting/Colon_annon.bed', '../data/interim/annon/anchor_footprinting/D0-CTRLi_annon.bed', '../data/interim/annon/anchor_footprinting/D0-p63i_annon.bed', '../data/interim/annon/anchor_footprinting/D3-CTRLi_annon.bed', '../data/interim/annon/anchor_footprinting/D3-p63i_annon.bed', '../data/interim/annon/anchor_footprinting/D6-CTRLi_annon.bed', '../data/interim/annon/anchor_footprinting/D6-p63i_annon.bed', '../data/interim/annon/anchor_footprinting/Esophageal_annon.bed', '../data/interim/annon/anchor_footprinting/GDSD0_annon.bed', '../data/interim/annon/anchor_footprinting/GDSD3_annon.bed', '../data/interim/annon/anchor_footprinting/GDSD6_annon.bed', '../data/interim/annon/anchor_footprinting/GM12878_annon.bed', '../data/interim/annon/anchor_footprinting/HMEC_annon.bed', '../data/interim/annon/anchor_footprinting/Icon\\r', '../data/interim/annon/anchor_footprinting/Melanocytes_annon.bed', '../data/interim/annon/anchor_footprinting/Ovarian_annon.bed', '../data/interim/annon/anchor_footprinting/Pancreas_annon.bed', '../data/interim/annon/anchor_footprinting/Prostate_annon.bed', '../data/interim/annon/anchor_footprinting/Renal_annon.bed', '../data/interim/annon/anchor_footprinting/SCC13-CTRLi_annon.bed', '../data/interim/annon/anchor_footprinting/SCC13-p63i_annon.bed', '../data/interim/annon/anchor_footprinting/Thyroid_annon.bed', '../data/interim/annon/anchor_footprinting/Uterine_annon.bed', '../data/interim/annon/anchor_footprinting/WM_SCR_DMSO_annon.bed']\n"
     ]
    }
   ],
   "source": [
    "print(sorted(glob.glob('../data/interim/annon/anchor_footprinting/*')))"
   ]
  },
  {
   "cell_type": "code",
   "execution_count": 30,
   "metadata": {},
   "outputs": [
    {
     "name": "stdout",
     "output_type": "stream",
     "text": [
      "['Prostate.loops.csv', 'HMEC.loops.csv', 'Astrocytes.loops.csv', 'COLO_SCR_PLX.loops.csv', 'COLO_shMITF_PLX.loops.csv', 'COLO_shMITF_DMSO.loops.csv', 'Melanocytes.loops.csv', 'Bladder.loops.csv', 'Uterine.loops.csv', 'COLO_SCR_DMSO.loops.csv', 'Icon\\r', 'Pancreas.loops.csv', 'WM_SCR_DMSO.loops.csv', 'Ovarian.loops.csv', 'CAL27-CTRLi.loops.csv', 'GDSD6.loops.csv', 'SCC13-CTRLi.loops.csv', 'GDSD0.loops.csv', 'Airway.loops.csv', 'WM_shMITF_DMSO.loops.csv', 'SCC13-p63i.loops.csv', 'D3-CTRLi.loops.csv', 'Colon.loops.csv', 'CAL27-p63i.loops.csv', 'WM_SCR_PLX.loops.csv', 'Thyroid.loops.csv', 'D6-CTRLi.loops.csv', 'D6-p63i.loops.csv', 'Esophageal.loops.csv', 'Renal.loops.csv', 'GDSD3.loops.csv', 'A431-CTRLi.loops.csv', 'D0-p63i.loops.csv', 'WM_shMITF_PLX.loops.csv', 'D0-CTRLi.loops.csv', 'A431-p63i.loops.csv', 'D3-p63i.loops.csv', 'GM12878.loops.csv']\n"
     ]
    }
   ],
   "source": [
    "loop_dir = '../data/interim/merged/loops'\n",
    "print(os.listdir(loop_dir))\n",
    "def make_loop_df(loop_file):\n",
    "    \"\"\"\n",
    "    from hichip_df make hichip df that's bidirectionary target <-> source\n",
    "\n",
    "\n",
    "    Arguments\n",
    "        loop_file : <str> like '../data/interim/merged/loops/GDSD3.loops.csv'\n",
    "\n",
    "    return: loop_df_bi <DataFrame> with colummns ['target','source','count']\n",
    "\n",
    "    \"\"\"\n",
    "    # loop_file = '../data/interim/merged/loops/GDSD3.loops.csv'\n",
    "    loop_df = pd.read_csv(loop_file,index_col=0)\n",
    "    loop_df_rev = loop_df.copy()\n",
    "    loop_df_rev.columns = ['target','source','count']\n",
    "    loop_df_bi = pd.concat([loop_df, loop_df_rev],sort=False)\n",
    "    return loop_df_bi"
   ]
  },
  {
   "cell_type": "code",
   "execution_count": 23,
   "metadata": {},
   "outputs": [
    {
     "data": {
      "text/html": [
       "<div>\n",
       "<style scoped>\n",
       "    .dataframe tbody tr th:only-of-type {\n",
       "        vertical-align: middle;\n",
       "    }\n",
       "\n",
       "    .dataframe tbody tr th {\n",
       "        vertical-align: top;\n",
       "    }\n",
       "\n",
       "    .dataframe thead th {\n",
       "        text-align: right;\n",
       "    }\n",
       "</style>\n",
       "<table border=\"1\" class=\"dataframe\">\n",
       "  <thead>\n",
       "    <tr style=\"text-align: right;\">\n",
       "      <th></th>\n",
       "      <th>chrP</th>\n",
       "      <th>startP</th>\n",
       "      <th>endP</th>\n",
       "      <th>gene</th>\n",
       "      <th>chrA</th>\n",
       "      <th>startA</th>\n",
       "      <th>stopA</th>\n",
       "      <th>anchor_name</th>\n",
       "      <th>coverage</th>\n",
       "    </tr>\n",
       "  </thead>\n",
       "  <tbody>\n",
       "    <tr>\n",
       "      <td>0</td>\n",
       "      <td>chr1</td>\n",
       "      <td>933803</td>\n",
       "      <td>943803</td>\n",
       "      <td>ISG15</td>\n",
       "      <td>chr1</td>\n",
       "      <td>935000</td>\n",
       "      <td>940000</td>\n",
       "      <td>chr1_935000_940000</td>\n",
       "      <td>5000</td>\n",
       "    </tr>\n",
       "    <tr>\n",
       "      <td>1</td>\n",
       "      <td>chr1</td>\n",
       "      <td>940503</td>\n",
       "      <td>950503</td>\n",
       "      <td>AGRN</td>\n",
       "      <td>chr1</td>\n",
       "      <td>945000</td>\n",
       "      <td>950000</td>\n",
       "      <td>chr1_945000_950000</td>\n",
       "      <td>5000</td>\n",
       "    </tr>\n",
       "    <tr>\n",
       "      <td>2</td>\n",
       "      <td>chr1</td>\n",
       "      <td>994687</td>\n",
       "      <td>1004687</td>\n",
       "      <td>RNF223</td>\n",
       "      <td>chr1</td>\n",
       "      <td>995000</td>\n",
       "      <td>1000000</td>\n",
       "      <td>chr1_995000_1000000</td>\n",
       "      <td>5000</td>\n",
       "    </tr>\n",
       "    <tr>\n",
       "      <td>3</td>\n",
       "      <td>chr1</td>\n",
       "      <td>1094264</td>\n",
       "      <td>1104264</td>\n",
       "      <td>TTLL10</td>\n",
       "      <td>chr1</td>\n",
       "      <td>1090000</td>\n",
       "      <td>1095000</td>\n",
       "      <td>chr1_1090000_1095000</td>\n",
       "      <td>736</td>\n",
       "    </tr>\n",
       "    <tr>\n",
       "      <td>4</td>\n",
       "      <td>chr1</td>\n",
       "      <td>1127071</td>\n",
       "      <td>1137071</td>\n",
       "      <td>TNFRSF18</td>\n",
       "      <td>chr1</td>\n",
       "      <td>1125000</td>\n",
       "      <td>1130000</td>\n",
       "      <td>chr1_1125000_1130000</td>\n",
       "      <td>2929</td>\n",
       "    </tr>\n",
       "  </tbody>\n",
       "</table>\n",
       "</div>"
      ],
      "text/plain": [
       "   chrP   startP     endP      gene  chrA   startA    stopA  \\\n",
       "0  chr1   933803   943803     ISG15  chr1   935000   940000   \n",
       "1  chr1   940503   950503      AGRN  chr1   945000   950000   \n",
       "2  chr1   994687  1004687    RNF223  chr1   995000  1000000   \n",
       "3  chr1  1094264  1104264    TTLL10  chr1  1090000  1095000   \n",
       "4  chr1  1127071  1137071  TNFRSF18  chr1  1125000  1130000   \n",
       "\n",
       "            anchor_name  coverage  \n",
       "0    chr1_935000_940000      5000  \n",
       "1    chr1_945000_950000      5000  \n",
       "2   chr1_995000_1000000      5000  \n",
       "3  chr1_1090000_1095000       736  \n",
       "4  chr1_1125000_1130000      2929  "
      ]
     },
     "execution_count": 23,
     "metadata": {},
     "output_type": "execute_result"
    }
   ],
   "source": [
    "gene_df = pybedtools.BedTool( '../data/interim/annon/promoter_anchors/promoter_Prostate_annon.bed').to_dataframe()\n",
    "gene_df.columns = ['chrP','startP','endP','gene','chrA','startA','stopA','anchor_name','coverage']\n",
    "gene_df[:5]"
   ]
  },
  {
   "cell_type": "code",
   "execution_count": 29,
   "metadata": {},
   "outputs": [
    {
     "data": {
      "text/html": [
       "<div>\n",
       "<style scoped>\n",
       "    .dataframe tbody tr th:only-of-type {\n",
       "        vertical-align: middle;\n",
       "    }\n",
       "\n",
       "    .dataframe tbody tr th {\n",
       "        vertical-align: top;\n",
       "    }\n",
       "\n",
       "    .dataframe thead th {\n",
       "        text-align: right;\n",
       "    }\n",
       "</style>\n",
       "<table border=\"1\" class=\"dataframe\">\n",
       "  <thead>\n",
       "    <tr style=\"text-align: right;\">\n",
       "      <th></th>\n",
       "      <th>chrA</th>\n",
       "      <th>startA</th>\n",
       "      <th>stopA</th>\n",
       "      <th>anchor_name</th>\n",
       "      <th>chrF</th>\n",
       "      <th>startF</th>\n",
       "      <th>stopF</th>\n",
       "      <th>id_tf</th>\n",
       "      <th>score</th>\n",
       "      <th>strand</th>\n",
       "      <th>etc</th>\n",
       "    </tr>\n",
       "  </thead>\n",
       "  <tbody>\n",
       "    <tr>\n",
       "      <td>0</td>\n",
       "      <td>chr1</td>\n",
       "      <td>760000</td>\n",
       "      <td>765000</td>\n",
       "      <td>chr1_760000_765000</td>\n",
       "      <td>chr1</td>\n",
       "      <td>762619</td>\n",
       "      <td>762624</td>\n",
       "      <td>UBIP1_HUMAN.H11MO.0.D.pwm.trim</td>\n",
       "      <td>5.315150</td>\n",
       "      <td>+</td>\n",
       "      <td>.</td>\n",
       "    </tr>\n",
       "    <tr>\n",
       "      <td>1</td>\n",
       "      <td>chr1</td>\n",
       "      <td>760000</td>\n",
       "      <td>765000</td>\n",
       "      <td>chr1_760000_765000</td>\n",
       "      <td>chr1</td>\n",
       "      <td>762628</td>\n",
       "      <td>762631</td>\n",
       "      <td>KLF8_HUMAN.H11MO.0.C.pwm.trim</td>\n",
       "      <td>3.409391</td>\n",
       "      <td>+</td>\n",
       "      <td>.</td>\n",
       "    </tr>\n",
       "    <tr>\n",
       "      <td>2</td>\n",
       "      <td>chr1</td>\n",
       "      <td>760000</td>\n",
       "      <td>765000</td>\n",
       "      <td>chr1_760000_765000</td>\n",
       "      <td>chr1</td>\n",
       "      <td>762634</td>\n",
       "      <td>762639</td>\n",
       "      <td>SPIC_HUMAN.H11MO.0.D.pwm.trim</td>\n",
       "      <td>7.143083</td>\n",
       "      <td>+</td>\n",
       "      <td>.</td>\n",
       "    </tr>\n",
       "    <tr>\n",
       "      <td>3</td>\n",
       "      <td>chr1</td>\n",
       "      <td>760000</td>\n",
       "      <td>765000</td>\n",
       "      <td>chr1_760000_765000</td>\n",
       "      <td>chr1</td>\n",
       "      <td>762636</td>\n",
       "      <td>762639</td>\n",
       "      <td>KLF8_HUMAN.H11MO.0.C.pwm.trim</td>\n",
       "      <td>3.409391</td>\n",
       "      <td>+</td>\n",
       "      <td>.</td>\n",
       "    </tr>\n",
       "    <tr>\n",
       "      <td>4</td>\n",
       "      <td>chr1</td>\n",
       "      <td>760000</td>\n",
       "      <td>765000</td>\n",
       "      <td>chr1_760000_765000</td>\n",
       "      <td>chr1</td>\n",
       "      <td>762637</td>\n",
       "      <td>762644</td>\n",
       "      <td>MBD2_HUMAN.H11MO.0.B.pwm.trim</td>\n",
       "      <td>11.435082</td>\n",
       "      <td>+</td>\n",
       "      <td>.</td>\n",
       "    </tr>\n",
       "  </tbody>\n",
       "</table>\n",
       "</div>"
      ],
      "text/plain": [
       "   chrA  startA   stopA         anchor_name  chrF  startF   stopF  \\\n",
       "0  chr1  760000  765000  chr1_760000_765000  chr1  762619  762624   \n",
       "1  chr1  760000  765000  chr1_760000_765000  chr1  762628  762631   \n",
       "2  chr1  760000  765000  chr1_760000_765000  chr1  762634  762639   \n",
       "3  chr1  760000  765000  chr1_760000_765000  chr1  762636  762639   \n",
       "4  chr1  760000  765000  chr1_760000_765000  chr1  762637  762644   \n",
       "\n",
       "                            id_tf      score strand etc  \n",
       "0  UBIP1_HUMAN.H11MO.0.D.pwm.trim   5.315150      +   .  \n",
       "1   KLF8_HUMAN.H11MO.0.C.pwm.trim   3.409391      +   .  \n",
       "2   SPIC_HUMAN.H11MO.0.D.pwm.trim   7.143083      +   .  \n",
       "3   KLF8_HUMAN.H11MO.0.C.pwm.trim   3.409391      +   .  \n",
       "4   MBD2_HUMAN.H11MO.0.B.pwm.trim  11.435082      +   .  "
      ]
     },
     "execution_count": 29,
     "metadata": {},
     "output_type": "execute_result"
    }
   ],
   "source": [
    "foot_df = pybedtools.BedTool( '../data/interim/annon/anchor_footprinting/Prostate_annon.bed').to_dataframe()[:5]\n",
    "foot_df.columns = ['chrA','startA','stopA','anchor_name','chrF','startF','stopF','id_tf','score','strand','etc']\n",
    "foot_df"
   ]
  },
  {
   "cell_type": "markdown",
   "metadata": {},
   "source": [
    "## a.    POU2F2 motif in enhancer connected to a cornification gene in KC D6 and POU2F2 motif in enhancer connected to a prostate gonad development gene in Prostate\n"
   ]
  },
  {
   "cell_type": "code",
   "execution_count": 68,
   "metadata": {},
   "outputs": [],
   "source": [
    "def get_genes_tf(tissue, tf):\n",
    "    id_tf = tf_name_to_id_dict[tf]\n",
    "    print('tissue',tissue)\n",
    "    print('tf',tf,id_tf)\n",
    "    \n",
    "    # get anchor to gene annotations\n",
    "    anchor_promoter_annon_df = pybedtools.BedTool( '../data/interim/annon/promoter_anchors/promoter_'+tissue+'_annon.bed').to_dataframe()\n",
    "    anchor_promoter_annon_df.columns = ['chrP','startP','endP','gene','chrA','startA','stopA','anchor','coverage']\n",
    "    anchor_annon_df_filt = anchor_promoter_annon_df.sort_values('coverage', ascending=False).drop_duplicates(['gene','anchor']).sort_index()\n",
    "    anchor_annon_df_filt = anchor_annon_df_filt[['anchor','gene']]\n",
    "\n",
    "    # read in loops, then \"annotate\" the source TSS regions the loop anchors\n",
    "    loop_file = os.path.join(loop_dir, tissue+'.loops.csv')\n",
    "    loop_df_bi = make_loop_df(loop_file)\n",
    "    loop_df_bi = loop_df_bi.merge(anchor_annon_df_filt,how='inner',left_on='source',right_on='anchor' )\n",
    "\n",
    "    # get footprinting data and select for tf\n",
    "    foot_df = pybedtools.BedTool( '../data/interim/annon/anchor_footprinting/'+tissue+'_annon.bed').to_dataframe()\n",
    "    foot_df.columns = ['chrA','startA','stopA','anchor','chrF','startF','stopF','id_tf','score','strand','etc']\n",
    "    foot_df_sel = foot_df[foot_df.id_tf==id_tf]\n",
    "    print('num footprints', foot_df_sel.shape[0])\n",
    "    \n",
    "    # anchor genes (where the footprint is within the anchor that contains that gene)\n",
    "    foot_anchor = foot_df_sel.merge(anchor_annon_df_filt, on='anchor')\n",
    "#     print(foot_anchor.shape)\n",
    "    foot_anchor_genes = list(foot_anchor.gene.unique())\n",
    "#     print(foot_anchor_genes)\n",
    "    print('foot_anchor_genes',len(foot_anchor_genes))\n",
    "\n",
    "    # loop genes (where the footprint is looped to the gene)\n",
    "    foot_loop = foot_df_sel.merge(loop_df_bi, how='inner', left_on='anchor',right_on='target')\n",
    "#     print(foot_loop.shape)\n",
    "    foot_loop_genes = list(foot_loop.gene.unique())\n",
    "#     print(foot_loop_genes)\n",
    "    print('foot_loop_genes',len(foot_loop_genes))\n",
    "    \n",
    "    pd.Series(foot_anchor_genes).to_csv(os.path.join(save_dir, tissue+'_'+tf+'_anchor_genes.txt'),header=None,index=None)\n",
    "    pd.Series(foot_loop_genes).to_csv(os.path.join(save_dir, tissue+'_'+tf+'_loop_genes.txt'),header=None,index=None)\n",
    "    foot_anchor.to_csv(os.path.join(save_dir, tissue+'_'+tf+'_anchor.csv'))\n",
    "    foot_loop.to_csv(os.path.join(save_dir, tissue+'_'+tf+'_loop.csv'))\n",
    "    return foot_anchor, foot_anchor_genes, foot_loop, foot_loop_genes"
   ]
  },
  {
   "cell_type": "code",
   "execution_count": 69,
   "metadata": {},
   "outputs": [
    {
     "name": "stdout",
     "output_type": "stream",
     "text": [
      "tissue GDSD6\n",
      "tf POU2F2 PO2F2_HUMAN.H11MO.0.A.pwm.trim\n",
      "num footprints 737\n",
      "foot_anchor_genes 116\n",
      "foot_loop_genes 625\n"
     ]
    },
    {
     "name": "stderr",
     "output_type": "stream",
     "text": [
      "/Users/mguo123/opt/anaconda3/lib/python3.7/site-packages/ipykernel_launcher.py:37: FutureWarning: The signature of `Series.to_csv` was aligned to that of `DataFrame.to_csv`, and argument 'header' will change its default value from False to True: please pass an explicit value to suppress this warning.\n",
      "/Users/mguo123/opt/anaconda3/lib/python3.7/site-packages/ipykernel_launcher.py:38: FutureWarning: The signature of `Series.to_csv` was aligned to that of `DataFrame.to_csv`, and argument 'header' will change its default value from False to True: please pass an explicit value to suppress this warning.\n"
     ]
    }
   ],
   "source": [
    "foot_anchor, foot_anchor_genes, foot_loop, foot_loop_genes = get_genes_tf('GDSD6', 'POU2F2')"
   ]
  },
  {
   "cell_type": "code",
   "execution_count": 70,
   "metadata": {},
   "outputs": [
    {
     "name": "stdout",
     "output_type": "stream",
     "text": [
      "tissue Prostate\n",
      "tf POU2F2 PO2F2_HUMAN.H11MO.0.A.pwm.trim\n",
      "num footprints 319\n",
      "foot_anchor_genes 70\n",
      "foot_loop_genes 318\n"
     ]
    },
    {
     "name": "stderr",
     "output_type": "stream",
     "text": [
      "/Users/mguo123/opt/anaconda3/lib/python3.7/site-packages/ipykernel_launcher.py:37: FutureWarning: The signature of `Series.to_csv` was aligned to that of `DataFrame.to_csv`, and argument 'header' will change its default value from False to True: please pass an explicit value to suppress this warning.\n",
      "/Users/mguo123/opt/anaconda3/lib/python3.7/site-packages/ipykernel_launcher.py:38: FutureWarning: The signature of `Series.to_csv` was aligned to that of `DataFrame.to_csv`, and argument 'header' will change its default value from False to True: please pass an explicit value to suppress this warning.\n"
     ]
    }
   ],
   "source": [
    "foot_anchor, foot_anchor_genes, foot_loop, foot_loop_genes = get_genes_tf('Prostate', 'POU2F2')"
   ]
  },
  {
   "cell_type": "code",
   "execution_count": 71,
   "metadata": {},
   "outputs": [
    {
     "name": "stdout",
     "output_type": "stream",
     "text": [
      "tissue A431-CTRLi\n",
      "tf TFAP4 TFAP4_HUMAN.H11MO.0.A.pwm.trim\n",
      "num footprints 1136\n",
      "foot_anchor_genes 232\n",
      "foot_loop_genes 3047\n"
     ]
    },
    {
     "name": "stderr",
     "output_type": "stream",
     "text": [
      "/Users/mguo123/opt/anaconda3/lib/python3.7/site-packages/ipykernel_launcher.py:37: FutureWarning: The signature of `Series.to_csv` was aligned to that of `DataFrame.to_csv`, and argument 'header' will change its default value from False to True: please pass an explicit value to suppress this warning.\n",
      "/Users/mguo123/opt/anaconda3/lib/python3.7/site-packages/ipykernel_launcher.py:38: FutureWarning: The signature of `Series.to_csv` was aligned to that of `DataFrame.to_csv`, and argument 'header' will change its default value from False to True: please pass an explicit value to suppress this warning.\n"
     ]
    }
   ],
   "source": [
    "foot_anchor, foot_anchor_genes, foot_loop, foot_loop_genes = get_genes_tf('A431-CTRLi', 'TFAP4')"
   ]
  },
  {
   "cell_type": "code",
   "execution_count": 72,
   "metadata": {},
   "outputs": [
    {
     "name": "stdout",
     "output_type": "stream",
     "text": [
      "tissue CAL27-CTRLi\n",
      "tf TFAP4 TFAP4_HUMAN.H11MO.0.A.pwm.trim\n",
      "num footprints 1343\n",
      "foot_anchor_genes 237\n",
      "foot_loop_genes 3172\n"
     ]
    },
    {
     "name": "stderr",
     "output_type": "stream",
     "text": [
      "/Users/mguo123/opt/anaconda3/lib/python3.7/site-packages/ipykernel_launcher.py:37: FutureWarning: The signature of `Series.to_csv` was aligned to that of `DataFrame.to_csv`, and argument 'header' will change its default value from False to True: please pass an explicit value to suppress this warning.\n",
      "/Users/mguo123/opt/anaconda3/lib/python3.7/site-packages/ipykernel_launcher.py:38: FutureWarning: The signature of `Series.to_csv` was aligned to that of `DataFrame.to_csv`, and argument 'header' will change its default value from False to True: please pass an explicit value to suppress this warning.\n"
     ]
    }
   ],
   "source": [
    "foot_anchor, foot_anchor_genes, foot_loop, foot_loop_genes = get_genes_tf('CAL27-CTRLi', 'TFAP4')"
   ]
  },
  {
   "cell_type": "code",
   "execution_count": 73,
   "metadata": {},
   "outputs": [
    {
     "name": "stdout",
     "output_type": "stream",
     "text": [
      "tissue SCC13-CTRLi\n",
      "tf TFAP4 TFAP4_HUMAN.H11MO.0.A.pwm.trim\n",
      "num footprints 1230\n",
      "foot_anchor_genes 231\n",
      "foot_loop_genes 2446\n"
     ]
    },
    {
     "name": "stderr",
     "output_type": "stream",
     "text": [
      "/Users/mguo123/opt/anaconda3/lib/python3.7/site-packages/ipykernel_launcher.py:37: FutureWarning: The signature of `Series.to_csv` was aligned to that of `DataFrame.to_csv`, and argument 'header' will change its default value from False to True: please pass an explicit value to suppress this warning.\n",
      "/Users/mguo123/opt/anaconda3/lib/python3.7/site-packages/ipykernel_launcher.py:38: FutureWarning: The signature of `Series.to_csv` was aligned to that of `DataFrame.to_csv`, and argument 'header' will change its default value from False to True: please pass an explicit value to suppress this warning.\n"
     ]
    }
   ],
   "source": [
    "foot_anchor, foot_anchor_genes, foot_loop, foot_loop_genes = get_genes_tf('SCC13-CTRLi', 'TFAP4')"
   ]
  },
  {
   "cell_type": "code",
   "execution_count": 74,
   "metadata": {},
   "outputs": [
    {
     "name": "stdout",
     "output_type": "stream",
     "text": [
      "tissue COLO_SCR_DMSO\n",
      "tf ZNF768 ZN768_HUMAN.H11MO.0.C.pwm.trim\n",
      "num footprints 982\n",
      "foot_anchor_genes 177\n",
      "foot_loop_genes 805\n"
     ]
    },
    {
     "name": "stderr",
     "output_type": "stream",
     "text": [
      "/Users/mguo123/opt/anaconda3/lib/python3.7/site-packages/ipykernel_launcher.py:37: FutureWarning: The signature of `Series.to_csv` was aligned to that of `DataFrame.to_csv`, and argument 'header' will change its default value from False to True: please pass an explicit value to suppress this warning.\n",
      "/Users/mguo123/opt/anaconda3/lib/python3.7/site-packages/ipykernel_launcher.py:38: FutureWarning: The signature of `Series.to_csv` was aligned to that of `DataFrame.to_csv`, and argument 'header' will change its default value from False to True: please pass an explicit value to suppress this warning.\n"
     ]
    }
   ],
   "source": [
    "foot_anchor, foot_anchor_genes, foot_loop, foot_loop_genes = get_genes_tf('COLO_SCR_DMSO', 'ZNF768')"
   ]
  },
  {
   "cell_type": "code",
   "execution_count": 75,
   "metadata": {},
   "outputs": [
    {
     "name": "stdout",
     "output_type": "stream",
     "text": [
      "tissue WM_SCR_DMSO\n",
      "tf ZNF768 ZN768_HUMAN.H11MO.0.C.pwm.trim\n",
      "num footprints 1225\n",
      "foot_anchor_genes 201\n",
      "foot_loop_genes 1598\n"
     ]
    },
    {
     "name": "stderr",
     "output_type": "stream",
     "text": [
      "/Users/mguo123/opt/anaconda3/lib/python3.7/site-packages/ipykernel_launcher.py:37: FutureWarning: The signature of `Series.to_csv` was aligned to that of `DataFrame.to_csv`, and argument 'header' will change its default value from False to True: please pass an explicit value to suppress this warning.\n",
      "/Users/mguo123/opt/anaconda3/lib/python3.7/site-packages/ipykernel_launcher.py:38: FutureWarning: The signature of `Series.to_csv` was aligned to that of `DataFrame.to_csv`, and argument 'header' will change its default value from False to True: please pass an explicit value to suppress this warning.\n"
     ]
    }
   ],
   "source": [
    "foot_anchor, foot_anchor_genes, foot_loop, foot_loop_genes = get_genes_tf('WM_SCR_DMSO', 'ZNF768')"
   ]
  },
  {
   "cell_type": "markdown",
   "metadata": {},
   "source": [
    "## testing"
   ]
  },
  {
   "cell_type": "code",
   "execution_count": 54,
   "metadata": {},
   "outputs": [],
   "source": [
    "# tissue = 'GDSD6'\n",
    "# tf = 'POU2F2'\n",
    "# id_tf = tf_name_to_id_dict[tf]\n",
    "# id_tf"
   ]
  },
  {
   "cell_type": "code",
   "execution_count": 55,
   "metadata": {},
   "outputs": [],
   "source": [
    "# # get anchor to gene annotations\n",
    "# anchor_promoter_annon_df = pybedtools.BedTool( '../data/interim/annon/promoter_anchors/promoter_'+tissue+'_annon.bed').to_dataframe()\n",
    "# anchor_promoter_annon_df.columns = ['chrP','startP','endP','gene','chrA','startA','stopA','anchor','coverage']\n",
    "\n",
    "# anchor_annon_df_filt = anchor_promoter_annon_df.sort_values('coverage', ascending=False).drop_duplicates(['gene','anchor']).sort_index()\n",
    "# anchor_annon_df_filt = anchor_annon_df_filt[['anchor','gene']]\n",
    "# anchor_annon_df_filt[:5]"
   ]
  },
  {
   "cell_type": "code",
   "execution_count": 56,
   "metadata": {},
   "outputs": [],
   "source": [
    "# # get loop file\n",
    "# # read in loops, then \"annotate\" the source TSS regions the loop anchors\n",
    "# loop_file = os.path.join(loop_dir, tissue+'.loops.csv')\n",
    "# loop_df_bi = make_loop_df(loop_file)\n",
    "# loop_df_bi = loop_df_bi.merge(anchor_annon_df_filt,how='inner',left_on='source',right_on='anchor' )\n",
    "# loop_df_bi[:5]"
   ]
  },
  {
   "cell_type": "code",
   "execution_count": 57,
   "metadata": {},
   "outputs": [],
   "source": [
    "# # get footprinting data\n",
    "# foot_df = pybedtools.BedTool( '../data/interim/annon/anchor_footprinting/'+tissue+'_annon.bed').to_dataframe()\n",
    "# foot_df.columns = ['chrA','startA','stopA','anchor','chrF','startF','stopF','id_tf','score','strand','etc']\n",
    "# foot_df_sel = foot_df[foot_df.id_tf==id_tf]\n",
    "# print(foot_df.shape, foot_df_sel.shape)\n",
    "# foot_df_sel[:5]"
   ]
  },
  {
   "cell_type": "code",
   "execution_count": 58,
   "metadata": {},
   "outputs": [],
   "source": [
    "# # anchor genes (where the footprint is within the anchor that contains that gene)\n",
    "# foot_anchor = foot_df_sel.merge(anchor_annon_df_filt, on='anchor')\n",
    "# print(foot_anchor.shape)\n",
    "# foot_anchor_genes = list(foot_anchor.gene.unique())\n",
    "# print(foot_anchor_genes)\n",
    "# print(len(foot_anchor_genes))"
   ]
  },
  {
   "cell_type": "code",
   "execution_count": 59,
   "metadata": {},
   "outputs": [],
   "source": [
    "# # loop genes (where the footprint is looped to the gene)\n",
    "# foot_loop = foot_df_sel.merge(loop_df_bi, how='inner', left_on='anchor',right_on='target')\n",
    "# print(foot_loop.shape)\n",
    "# foot_loop_genes = list(foot_loop.gene.unique())\n",
    "# print(foot_loop_genes)\n",
    "# print(len(foot_loop_genes))"
   ]
  },
  {
   "cell_type": "code",
   "execution_count": 60,
   "metadata": {},
   "outputs": [],
   "source": [
    "#### snp_df_loop = snp_annon_df.merge(loop_df_bi,how='inner', left_on='p_loc',right_on='target')\n"
   ]
  },
  {
   "cell_type": "code",
   "execution_count": null,
   "metadata": {},
   "outputs": [],
   "source": []
  }
 ],
 "metadata": {
  "kernelspec": {
   "display_name": "Python 3",
   "language": "python",
   "name": "python3"
  },
  "language_info": {
   "codemirror_mode": {
    "name": "ipython",
    "version": 3
   },
   "file_extension": ".py",
   "mimetype": "text/x-python",
   "name": "python",
   "nbconvert_exporter": "python",
   "pygments_lexer": "ipython3",
   "version": "3.7.4"
  }
 },
 "nbformat": 4,
 "nbformat_minor": 4
}
