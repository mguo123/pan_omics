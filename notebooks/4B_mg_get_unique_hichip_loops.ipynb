{
 "cells": [
  {
   "cell_type": "markdown",
   "metadata": {},
   "source": [
    "07/28/2020\n",
    "\n",
    "get unique hichip loops and anchors per tissue save as bedfile\n",
    "\n",
    "also get differential atac files (sherlock and write to bed)"
   ]
  },
  {
   "cell_type": "code",
   "execution_count": 25,
   "metadata": {},
   "outputs": [],
   "source": [
    "import os, glob\n",
    "import pandas as pd\n",
    "import numpy as np\n",
    "import pybedtools\n",
    "import matplotlib.pyplot as plt\n",
    "import re\n",
    "import seaborn as sns"
   ]
  },
  {
   "cell_type": "code",
   "execution_count": 7,
   "metadata": {},
   "outputs": [],
   "source": []
  },
  {
   "cell_type": "code",
   "execution_count": 3,
   "metadata": {},
   "outputs": [],
   "source": [
    "loop_files = glob.glob('../data/interim/merged/loops/*.loops.csv')\n",
    "anchor_annon_dir = '../data/interim/annon/anchor_atac'\n",
    "anchor_annon_files = glob.glob('../data/interim/annon/anchor_atac/*_annon.bed')\n",
    "promoter_annon_dir = '../data/interim/annon/promoter_anchors/'\n",
    "promoter_annon_files = glob.glob('../data/interim/annon/promoter_anchors/promoter_*_annon.bed')\n",
    "# anchor_annon_files\n",
    "anchor_dir = '../data/interim/merged/anchors/'\n",
    "anchor_files = glob.glob('../data/interim/merged/anchors/*.anchors.csv')"
   ]
  },
  {
   "cell_type": "code",
   "execution_count": 4,
   "metadata": {},
   "outputs": [],
   "source": [
    "normal_tissues = ['Airway','Astrocytes','Bladder','Colon','Esophageal',\n",
    "'GDSD0',\n",
    "'GDSD3',\n",
    "'GDSD6',\n",
    "'GM12878',\n",
    "'HMEC',\n",
    "'Melanocytes',\n",
    "'Ovarian',\n",
    "'Pancreas',\n",
    "'Prostate',\n",
    "'Renal',\n",
    "'Thyroid',\n",
    "'Uterine']\n",
    "\n"
   ]
  },
  {
   "cell_type": "code",
   "execution_count": null,
   "metadata": {},
   "outputs": [],
   "source": []
  },
  {
   "cell_type": "markdown",
   "metadata": {},
   "source": [
    "# 1. Unique info\n",
    "\n",
    "for each tissue (split normal and all) get following stats\n",
    "- num unique loops\n",
    "- num unique anchors\n",
    "- num common loops\n",
    "- num common anchors \n",
    "- num loops\n",
    "- num anchors \t\n",
    "\n",
    "summative stats (across all tissues)\n",
    "    - total number of distinct anchors\n",
    "    - total number of distinct loops"
   ]
  },
  {
   "cell_type": "code",
   "execution_count": null,
   "metadata": {},
   "outputs": [],
   "source": [
    "save_dir = '../data/processed/fig2_hichip/unique'\n",
    "if not os.path.exists(save_dir):\n",
    "    os.makedirs(save_dir)"
   ]
  },
  {
   "cell_type": "code",
   "execution_count": 6,
   "metadata": {},
   "outputs": [
    {
     "name": "stdout",
     "output_type": "stream",
     "text": [
      "Airway\n",
      "Airway done\n",
      "Astrocytes\n",
      "Astrocytes done\n",
      "Bladder\n",
      "Bladder done\n",
      "Colon\n",
      "Colon done\n",
      "Esophageal\n",
      "Esophageal done\n",
      "GDSD0\n",
      "GDSD0 done\n",
      "GDSD3\n",
      "GDSD3 done\n",
      "GDSD6\n",
      "GDSD6 done\n",
      "GM12878\n",
      "GM12878 done\n",
      "HMEC\n",
      "HMEC done\n",
      "Melanocytes\n",
      "Melanocytes done\n",
      "Ovarian\n",
      "Ovarian done\n",
      "Pancreas\n",
      "Pancreas done\n",
      "Prostate\n",
      "Prostate done\n",
      "Renal\n",
      "Renal done\n",
      "Thyroid\n",
      "Thyroid done\n",
      "Uterine\n",
      "Uterine done\n",
      "CPU times: user 1min 46s, sys: 1.14 s, total: 1min 47s\n",
      "Wall time: 1min 19s\n"
     ]
    }
   ],
   "source": [
    "%%time\n",
    "# first get set of all loops\n",
    "# all_loops, all_loops_normal = set(),set()\n",
    "# all_anchors, all_anchors_normal = set(),set()\n",
    "\n",
    "tissues = []\n",
    "loops_all_df = pd.DataFrame(columns=['loop_name','tissue'])\n",
    "anchors_all_df = pd.DataFrame(columns=['anchors','tissue'])\n",
    "\n",
    "# tissue_info_dict = {}\n",
    "for loop_file in sorted(loop_files):\n",
    "    loop_filename = os.path.basename(loop_file)\n",
    "    tissue = loop_filename.split('.')[0]\n",
    "    \n",
    "    #### NORMAL only####\n",
    "    if tissue not in normal_tissues:\n",
    "        continue\n",
    "    print(tissue)\n",
    "    tissues.append(tissue)\n",
    "    anchor_file = os.path.join(anchor_dir, tissue+'.anchors.csv')\n",
    "    loop_df = pd.read_csv(loop_file, index_col=0)\n",
    "    loop_df['loop_name'] = loop_df.apply(lambda row: '::'.join(sorted([row.source,row.target])),axis=1)\n",
    "    loop_df['tissue'] = tissue\n",
    "    \n",
    "    anchor_df = pd.read_csv(anchor_file, index_col=0)\n",
    "    anchor_df['tissue'] = tissue\n",
    "   \n",
    "    loops_all_df = pd.concat([loops_all_df, loop_df[['loop_name', 'tissue']]])\n",
    "    anchors_all_df = pd.concat([anchors_all_df, anchor_df[['anchors', 'tissue']]])\n",
    "    print(tissue, 'done')\n",
    "    \n",
    "#     tissue_info_dict[tissue] = [loop_df,anchor_df,anchor_to_count_dict]\n",
    "    \n",
    "#     all_loops  = all_loops.union(set(loop_df.loop_name))\n",
    "#     all_anchors  = all_anchors.union(set(anchor_df.anchors))\n",
    "                                         \n",
    "#     if tissue in normal_tissues:\n",
    "#         all_loops_normal = all_loops_normal.union(set(loop_df.loop_name))\n",
    "#         all_anchors_normal = all_anchors_normal.union(set(anchor_df.anchors))                            \n",
    "    "
   ]
  },
  {
   "cell_type": "code",
   "execution_count": 8,
   "metadata": {},
   "outputs": [],
   "source": [
    "all_loops = loops_all_df.loop_name.unique()\n",
    "all_anchors = anchors_all_df.anchors.unique()\n"
   ]
  },
  {
   "cell_type": "code",
   "execution_count": 14,
   "metadata": {},
   "outputs": [],
   "source": [
    "# get loop/anchor by tissue binary matrix, 1 or 0 depending on whether loop/anchor exists in tissue\n",
    "loops_all_df['count']=1\n",
    "loop_counts = loops_all_df.pivot_table(index='loop_name', columns='tissue',values='count', fill_value=0)\n",
    "loop_counts['num_tissues'] = loop_counts.sum(axis=1)\n",
    "\n",
    "anchors_all_df['count']=1\n",
    "anchor_counts = anchors_all_df.pivot_table(index='anchors', columns='tissue',values='count', fill_value=0)\n",
    "anchor_counts['num_tissues'] = anchor_counts.sum(axis=1)\n"
   ]
  },
  {
   "cell_type": "code",
   "execution_count": 19,
   "metadata": {},
   "outputs": [
    {
     "data": {
      "text/plain": [
       "tissue\n",
       "Airway           1414\n",
       "Astrocytes      56819\n",
       "Bladder         21783\n",
       "Colon           34185\n",
       "Esophageal      33479\n",
       "GDSD0           19421\n",
       "GDSD3           27291\n",
       "GDSD6           27896\n",
       "GM12878         75373\n",
       "HMEC             7802\n",
       "Melanocytes     16755\n",
       "Ovarian         17720\n",
       "Pancreas        12998\n",
       "Prostate        47947\n",
       "Renal           49578\n",
       "Thyroid         18234\n",
       "Uterine        133498\n",
       "num_tissues    602193\n",
       "dtype: int64"
      ]
     },
     "execution_count": 19,
     "metadata": {},
     "output_type": "execute_result"
    }
   ],
   "source": [
    "# unique loop counts\n",
    "loop_counts[loop_counts.num_tissues==1].sum()"
   ]
  },
  {
   "cell_type": "code",
   "execution_count": 23,
   "metadata": {},
   "outputs": [
    {
     "data": {
      "text/plain": [
       "tissue\n",
       "Airway           109\n",
       "Astrocytes      6753\n",
       "Bladder         2280\n",
       "Colon           2881\n",
       "Esophageal      1955\n",
       "GDSD0           2819\n",
       "GDSD3           3599\n",
       "GDSD6           2906\n",
       "GM12878         8383\n",
       "HMEC             997\n",
       "Melanocytes     2681\n",
       "Ovarian         1597\n",
       "Pancreas        1139\n",
       "Prostate        8051\n",
       "Renal           6408\n",
       "Thyroid         1669\n",
       "Uterine        20013\n",
       "num_tissues    74240\n",
       "dtype: int64"
      ]
     },
     "execution_count": 23,
     "metadata": {},
     "output_type": "execute_result"
    }
   ],
   "source": [
    "# unique anchor counts\n",
    "anchor_counts[anchor_counts.num_tissues==1].sum()"
   ]
  },
  {
   "cell_type": "code",
   "execution_count": 22,
   "metadata": {},
   "outputs": [],
   "source": [
    "unique_loops_df = loop_counts[loop_counts.num_tissues==1]\n",
    "unique_anchors_df = anchor_counts[anchor_counts.num_tissues==1]"
   ]
  },
  {
   "cell_type": "code",
   "execution_count": 35,
   "metadata": {},
   "outputs": [
    {
     "name": "stdout",
     "output_type": "stream",
     "text": [
      "Airway\n",
      "../data/processed/fig2_hichip/unique/Airway_loops.bed\n",
      "Astrocytes\n",
      "../data/processed/fig2_hichip/unique/Astrocytes_loops.bed\n",
      "Bladder\n",
      "../data/processed/fig2_hichip/unique/Bladder_loops.bed\n",
      "Colon\n",
      "../data/processed/fig2_hichip/unique/Colon_loops.bed\n",
      "Esophageal\n",
      "../data/processed/fig2_hichip/unique/Esophageal_loops.bed\n",
      "GDSD0\n",
      "../data/processed/fig2_hichip/unique/GDSD0_loops.bed\n",
      "GDSD3\n",
      "../data/processed/fig2_hichip/unique/GDSD3_loops.bed\n",
      "GDSD6\n",
      "../data/processed/fig2_hichip/unique/GDSD6_loops.bed\n",
      "GM12878\n",
      "../data/processed/fig2_hichip/unique/GM12878_loops.bed\n",
      "HMEC\n",
      "../data/processed/fig2_hichip/unique/HMEC_loops.bed\n",
      "Melanocytes\n",
      "../data/processed/fig2_hichip/unique/Melanocytes_loops.bed\n",
      "Ovarian\n",
      "../data/processed/fig2_hichip/unique/Ovarian_loops.bed\n",
      "Pancreas\n",
      "../data/processed/fig2_hichip/unique/Pancreas_loops.bed\n",
      "Prostate\n",
      "../data/processed/fig2_hichip/unique/Prostate_loops.bed\n",
      "Renal\n",
      "../data/processed/fig2_hichip/unique/Renal_loops.bed\n",
      "Thyroid\n",
      "../data/processed/fig2_hichip/unique/Thyroid_loops.bed\n",
      "Uterine\n",
      "../data/processed/fig2_hichip/unique/Uterine_loops.bed\n",
      "num_tissues\n",
      "../data/processed/fig2_hichip/unique/num_tissues_loops.bed\n"
     ]
    }
   ],
   "source": [
    "for tissue in unique_loops_df.columns:\n",
    "    print(tissue)\n",
    "    loop_df = pd.Series(unique_loops_df[tissue][unique_loops_df[tissue]==1].index).str.split('[:_]',expand=True)\n",
    "    loop_df.drop(3,axis=1).to_csv(os.path.join(save_dir, tissue+'_loops.bed'),header=None,index=None, sep='\\t')\n",
    "    print(os.path.join(save_dir, tissue+'_loops.bed'))"
   ]
  },
  {
   "cell_type": "code",
   "execution_count": 41,
   "metadata": {},
   "outputs": [
    {
     "name": "stdout",
     "output_type": "stream",
     "text": [
      "Airway\n",
      "../data/processed/fig2_hichip/unique/Airway_anchors.bed\n",
      "Astrocytes\n",
      "../data/processed/fig2_hichip/unique/Astrocytes_anchors.bed\n",
      "Bladder\n",
      "../data/processed/fig2_hichip/unique/Bladder_anchors.bed\n",
      "Colon\n",
      "../data/processed/fig2_hichip/unique/Colon_anchors.bed\n",
      "Esophageal\n",
      "../data/processed/fig2_hichip/unique/Esophageal_anchors.bed\n",
      "GDSD0\n",
      "../data/processed/fig2_hichip/unique/GDSD0_anchors.bed\n",
      "GDSD3\n",
      "../data/processed/fig2_hichip/unique/GDSD3_anchors.bed\n",
      "GDSD6\n",
      "../data/processed/fig2_hichip/unique/GDSD6_anchors.bed\n",
      "GM12878\n",
      "../data/processed/fig2_hichip/unique/GM12878_anchors.bed\n",
      "HMEC\n",
      "../data/processed/fig2_hichip/unique/HMEC_anchors.bed\n",
      "Melanocytes\n",
      "../data/processed/fig2_hichip/unique/Melanocytes_anchors.bed\n",
      "Ovarian\n",
      "../data/processed/fig2_hichip/unique/Ovarian_anchors.bed\n",
      "Pancreas\n",
      "../data/processed/fig2_hichip/unique/Pancreas_anchors.bed\n",
      "Prostate\n",
      "../data/processed/fig2_hichip/unique/Prostate_anchors.bed\n",
      "Renal\n",
      "../data/processed/fig2_hichip/unique/Renal_anchors.bed\n",
      "Thyroid\n",
      "../data/processed/fig2_hichip/unique/Thyroid_anchors.bed\n",
      "Uterine\n",
      "../data/processed/fig2_hichip/unique/Uterine_anchors.bed\n",
      "num_tissues\n",
      "../data/processed/fig2_hichip/unique/num_tissues_anchors.bed\n"
     ]
    }
   ],
   "source": [
    "for tissue in unique_loops_df.columns:\n",
    "    print(tissue)\n",
    "    anchor_df = pd.Series(unique_anchors_df[tissue][unique_anchors_df[tissue]==1].index).str.split('[:_]',expand=True)\n",
    "    pybedtools.BedTool.from_dataframe(anchor_df).sort().saveas(os.path.join(save_dir, tissue+'_anchors.bed'))\n",
    "    print(os.path.join(save_dir, tissue+'_anchors.bed'))"
   ]
  },
  {
   "cell_type": "code",
   "execution_count": 140,
   "metadata": {},
   "outputs": [],
   "source": [
    "all_counts_results_df = pd.DataFrame()\n",
    "all_counts_results_df['num_loops'] = loop_counts.sum(axis=0)\n",
    "all_counts_results_df['num_unique_loops'] = loop_counts[loop_counts.num_tissues==1].sum()\n",
    "all_counts_results_df['num_common_loops'] = loop_counts[loop_counts.num_tissues==(loop_counts.shape[1]-1)].sum()\n",
    "all_counts_results_df['num_anchors'] = anchor_counts.sum(axis=0)\n",
    "all_counts_results_df['num_unique_anchors'] = anchor_counts[anchor_counts.num_tissues==1].sum()\n",
    "all_counts_results_df['num_common_anchors'] = anchor_counts[anchor_counts.num_tissues==(anchor_counts.shape[1]-1)].sum()\n",
    "all_counts_results_df.drop('num_tissues',inplace=True)"
   ]
  },
  {
   "cell_type": "code",
   "execution_count": 141,
   "metadata": {},
   "outputs": [],
   "source": []
  },
  {
   "cell_type": "code",
   "execution_count": 142,
   "metadata": {},
   "outputs": [],
   "source": [
    "# all_counts_results_df.to_csv(os.path.join(save_dir, 'all_counts_results_df.csv'))\n"
   ]
  },
  {
   "cell_type": "code",
   "execution_count": 143,
   "metadata": {},
   "outputs": [
    {
     "name": "stdout",
     "output_type": "stream",
     "text": [
      "Total # of loops all tissues:  13249551\n",
      "Total # unique loops all tissues:  1235518\n",
      "Total # common loops all tissues:  1529\n",
      "Total # of anchors all samples:  4646665\n",
      "Total # unique anchors all tissues:  49665\n",
      "Total # common anchors all tissues:  5904\n",
      "\n",
      "Total # of loops normal tissues :  3180706\n",
      "Total # unique loops normal tissues:  602193\n",
      "Total # common loops normal tissues:  3567\n",
      "Total # of anchors all samples normal:  1616223\n",
      "Total # unique anchors normal tissues:  74240\n",
      "Total # common anchors normal tissues:  9916\n"
     ]
    }
   ],
   "source": [
    "\n",
    "print('Total # of loops all tissues: ',all_counts_results_df.num_loops.sum())\n",
    "print('Total # unique loops all tissues: ',all_counts_results_df.num_unique_loops.sum())\n",
    "print('Total # common loops all tissues: ',all_counts_results_df.num_common_loops[0])\n",
    "\n",
    "print('Total # of anchors all samples: ',all_counts_results_df.num_anchors.sum())\n",
    "print('Total # unique anchors all tissues: ',all_counts_results_df.num_unique_anchors.sum())\n",
    "print('Total # common anchors all tissues: ',all_counts_results_df.num_common_anchors[0])\n",
    "\n",
    "print()\n"
   ]
  },
  {
   "cell_type": "markdown",
   "metadata": {},
   "source": [
    "# 2. differential atac\n",
    "\n",
    "on local computer\n",
    "\n",
    "```\n",
    "cd /Users/mguo123/Google Drive/1_khavari/omics_project-LD/pan_omics/data/processed/fig2_hichip/unique_atac\n",
    "\n",
    "scp mguo123@login.sherlock.stanford.edu:/oak/stanford/groups/khavari/users/lkhd/project/3D/ATAC/hiseq/epithelia/ggr-project/by_celltype/*differential.txt .\n",
    "\n",
    "```\n",
    "then manually rename a couple\n",
    "```\n",
    "mv epithelia.HMEC.00.differential.txt epithelia.HMEC.differential.txt\n",
    "mv epithelia.GDS.D0.differential.txt epithelia.GDSD0.differential.txt\n",
    "mv epithelia.GDS.D3.differential.txt epithelia.GDSD3.differential.txt\n",
    "mv epithelia.GDS.D6.differential.txt epithelia.GDSD6.differential.txt\n",
    "```\n"
   ]
  },
  {
   "cell_type": "code",
   "execution_count": 42,
   "metadata": {},
   "outputs": [],
   "source": [
    "save_dir = '../data/processed/fig2_hichip/unique_atac'\n",
    "if not os.path.exists(save_dir):\n",
    "    os.makedirs(save_dir)"
   ]
  },
  {
   "cell_type": "code",
   "execution_count": 45,
   "metadata": {},
   "outputs": [
    {
     "data": {
      "text/plain": [
       "['../data/processed/fig2_hichip/unique_atac/epithelia.Airway.differential.txt',\n",
       " '../data/processed/fig2_hichip/unique_atac/epithelia.Astrocytes.differential.txt',\n",
       " '../data/processed/fig2_hichip/unique_atac/epithelia.Bladder.differential.txt',\n",
       " '../data/processed/fig2_hichip/unique_atac/epithelia.Colon.differential.txt',\n",
       " '../data/processed/fig2_hichip/unique_atac/epithelia.Esophageal.differential.txt',\n",
       " '../data/processed/fig2_hichip/unique_atac/epithelia.GDSD0.differential.txt',\n",
       " '../data/processed/fig2_hichip/unique_atac/epithelia.GDSD3.differential.txt',\n",
       " '../data/processed/fig2_hichip/unique_atac/epithelia.GDSD6.differential.txt',\n",
       " '../data/processed/fig2_hichip/unique_atac/epithelia.GM12878.differential.txt',\n",
       " '../data/processed/fig2_hichip/unique_atac/epithelia.HMEC.differential.txt',\n",
       " '../data/processed/fig2_hichip/unique_atac/epithelia.Melanocytes.differential.txt',\n",
       " '../data/processed/fig2_hichip/unique_atac/epithelia.Ovarian.differential.txt',\n",
       " '../data/processed/fig2_hichip/unique_atac/epithelia.Pancreas.differential.txt',\n",
       " '../data/processed/fig2_hichip/unique_atac/epithelia.Prostate.differential.txt',\n",
       " '../data/processed/fig2_hichip/unique_atac/epithelia.Renal.differential.txt',\n",
       " '../data/processed/fig2_hichip/unique_atac/epithelia.Thyroid.differential.txt',\n",
       " '../data/processed/fig2_hichip/unique_atac/epithelia.Uterine.differential.txt']"
      ]
     },
     "execution_count": 45,
     "metadata": {},
     "output_type": "execute_result"
    }
   ],
   "source": [
    "sorted(glob.glob(os.path.join(save_dir, '*txt')))"
   ]
  },
  {
   "cell_type": "code",
   "execution_count": 57,
   "metadata": {},
   "outputs": [
    {
     "name": "stdout",
     "output_type": "stream",
     "text": [
      "Airway 23032\n",
      "Astrocytes 25097\n",
      "Bladder 27452\n",
      "Colon 15185\n",
      "Esophageal 18687\n",
      "GDSD0 29132\n",
      "GDSD3 30743\n",
      "GDSD6 32995\n",
      "GM12878 41327\n",
      "HMEC 35742\n",
      "Melanocytes 28917\n",
      "Ovarian 13274\n",
      "Pancreas 15659\n",
      "Prostate 9180\n",
      "Renal 20003\n",
      "Thyroid 15144\n",
      "Uterine 24126\n"
     ]
    }
   ],
   "source": [
    "for file in sorted(glob.glob(os.path.join(save_dir, '*txt'))):\n",
    "    tissue = os.path.basename(file).split('.')[1]\n",
    "    save_path = os.path.join(save_dir, tissue+'_atac_diff.bed')\n",
    "    df = pd.read_csv(file, header=None, sep='\\t')\n",
    "    print(tissue, df.shape[0])\n",
    "    df.columns = ['name','score']\n",
    "    df[['chr','start','stop']] = df.name.str.split('[:-]',expand=True)\n",
    "    df = df[['chr','start','stop','score']]\n",
    "    pybedtools.BedTool.from_dataframe(df).sort().saveas(save_path)\n",
    "#     print(save_path)"
   ]
  },
  {
   "cell_type": "code",
   "execution_count": 55,
   "metadata": {},
   "outputs": [
    {
     "data": {
      "text/html": [
       "<div>\n",
       "<style scoped>\n",
       "    .dataframe tbody tr th:only-of-type {\n",
       "        vertical-align: middle;\n",
       "    }\n",
       "\n",
       "    .dataframe tbody tr th {\n",
       "        vertical-align: top;\n",
       "    }\n",
       "\n",
       "    .dataframe thead th {\n",
       "        text-align: right;\n",
       "    }\n",
       "</style>\n",
       "<table border=\"1\" class=\"dataframe\">\n",
       "  <thead>\n",
       "    <tr style=\"text-align: right;\">\n",
       "      <th></th>\n",
       "      <th>chrom</th>\n",
       "      <th>start</th>\n",
       "      <th>end</th>\n",
       "      <th>name</th>\n",
       "    </tr>\n",
       "  </thead>\n",
       "  <tbody>\n",
       "    <tr>\n",
       "      <td>0</td>\n",
       "      <td>chr1</td>\n",
       "      <td>56063</td>\n",
       "      <td>56511</td>\n",
       "      <td>1.605055</td>\n",
       "    </tr>\n",
       "    <tr>\n",
       "      <td>1</td>\n",
       "      <td>chr1</td>\n",
       "      <td>739766</td>\n",
       "      <td>740428</td>\n",
       "      <td>2.694908</td>\n",
       "    </tr>\n",
       "    <tr>\n",
       "      <td>2</td>\n",
       "      <td>chr1</td>\n",
       "      <td>752616</td>\n",
       "      <td>753326</td>\n",
       "      <td>2.068369</td>\n",
       "    </tr>\n",
       "    <tr>\n",
       "      <td>3</td>\n",
       "      <td>chr1</td>\n",
       "      <td>903320</td>\n",
       "      <td>903691</td>\n",
       "      <td>1.118400</td>\n",
       "    </tr>\n",
       "    <tr>\n",
       "      <td>4</td>\n",
       "      <td>chr1</td>\n",
       "      <td>917404</td>\n",
       "      <td>917860</td>\n",
       "      <td>1.428870</td>\n",
       "    </tr>\n",
       "    <tr>\n",
       "      <td>...</td>\n",
       "      <td>...</td>\n",
       "      <td>...</td>\n",
       "      <td>...</td>\n",
       "      <td>...</td>\n",
       "    </tr>\n",
       "    <tr>\n",
       "      <td>24121</td>\n",
       "      <td>chrX</td>\n",
       "      <td>153322200</td>\n",
       "      <td>153322492</td>\n",
       "      <td>1.087908</td>\n",
       "    </tr>\n",
       "    <tr>\n",
       "      <td>24122</td>\n",
       "      <td>chrX</td>\n",
       "      <td>153788624</td>\n",
       "      <td>153788880</td>\n",
       "      <td>1.093475</td>\n",
       "    </tr>\n",
       "    <tr>\n",
       "      <td>24123</td>\n",
       "      <td>chrX</td>\n",
       "      <td>153872059</td>\n",
       "      <td>153872294</td>\n",
       "      <td>1.219003</td>\n",
       "    </tr>\n",
       "    <tr>\n",
       "      <td>24124</td>\n",
       "      <td>chrX</td>\n",
       "      <td>154340323</td>\n",
       "      <td>154340949</td>\n",
       "      <td>1.957704</td>\n",
       "    </tr>\n",
       "    <tr>\n",
       "      <td>24125</td>\n",
       "      <td>chrY</td>\n",
       "      <td>7148413</td>\n",
       "      <td>7148782</td>\n",
       "      <td>1.160807</td>\n",
       "    </tr>\n",
       "  </tbody>\n",
       "</table>\n",
       "<p>24126 rows × 4 columns</p>\n",
       "</div>"
      ],
      "text/plain": [
       "      chrom      start        end      name\n",
       "0      chr1      56063      56511  1.605055\n",
       "1      chr1     739766     740428  2.694908\n",
       "2      chr1     752616     753326  2.068369\n",
       "3      chr1     903320     903691  1.118400\n",
       "4      chr1     917404     917860  1.428870\n",
       "...     ...        ...        ...       ...\n",
       "24121  chrX  153322200  153322492  1.087908\n",
       "24122  chrX  153788624  153788880  1.093475\n",
       "24123  chrX  153872059  153872294  1.219003\n",
       "24124  chrX  154340323  154340949  1.957704\n",
       "24125  chrY    7148413    7148782  1.160807\n",
       "\n",
       "[24126 rows x 4 columns]"
      ]
     },
     "execution_count": 55,
     "metadata": {},
     "output_type": "execute_result"
    }
   ],
   "source": []
  },
  {
   "cell_type": "code",
   "execution_count": null,
   "metadata": {},
   "outputs": [],
   "source": []
  }
 ],
 "metadata": {
  "kernelspec": {
   "display_name": "Python 3",
   "language": "python",
   "name": "python3"
  },
  "language_info": {
   "codemirror_mode": {
    "name": "ipython",
    "version": 3
   },
   "file_extension": ".py",
   "mimetype": "text/x-python",
   "name": "python",
   "nbconvert_exporter": "python",
   "pygments_lexer": "ipython3",
   "version": "3.7.4"
  }
 },
 "nbformat": 4,
 "nbformat_minor": 4
}
