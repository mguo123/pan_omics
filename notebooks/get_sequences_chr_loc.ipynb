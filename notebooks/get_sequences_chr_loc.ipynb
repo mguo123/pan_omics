{
 "cells": [
  {
   "cell_type": "code",
   "execution_count": 13,
   "metadata": {},
   "outputs": [],
   "source": [
    "import pandas as pd\n",
    "import urllib.request\n",
    "import xmltodict\n"
   ]
  },
  {
   "cell_type": "code",
   "execution_count": 16,
   "metadata": {},
   "outputs": [
    {
     "data": {
      "text/html": [
       "<div>\n",
       "<style scoped>\n",
       "    .dataframe tbody tr th:only-of-type {\n",
       "        vertical-align: middle;\n",
       "    }\n",
       "\n",
       "    .dataframe tbody tr th {\n",
       "        vertical-align: top;\n",
       "    }\n",
       "\n",
       "    .dataframe thead th {\n",
       "        text-align: right;\n",
       "    }\n",
       "</style>\n",
       "<table border=\"1\" class=\"dataframe\">\n",
       "  <thead>\n",
       "    <tr style=\"text-align: right;\">\n",
       "      <th></th>\n",
       "      <th>chr</th>\n",
       "      <th>start</th>\n",
       "      <th>end</th>\n",
       "    </tr>\n",
       "  </thead>\n",
       "  <tbody>\n",
       "    <tr>\n",
       "      <td>0</td>\n",
       "      <td>chr1</td>\n",
       "      <td>1200000</td>\n",
       "      <td>1201000</td>\n",
       "    </tr>\n",
       "    <tr>\n",
       "      <td>1</td>\n",
       "      <td>chr2</td>\n",
       "      <td>1300000</td>\n",
       "      <td>1301000</td>\n",
       "    </tr>\n",
       "  </tbody>\n",
       "</table>\n",
       "</div>"
      ],
      "text/plain": [
       "    chr    start      end\n",
       "0  chr1  1200000  1201000\n",
       "1  chr2  1300000  1301000"
      ]
     },
     "execution_count": 16,
     "metadata": {},
     "output_type": "execute_result"
    }
   ],
   "source": [
    "sequences_df = pd.DataFrame({'chr':['chr1','chr2'],'start':['1200000','1300000'],'end':['1201000','1301000']})\n",
    "sequences_df"
   ]
  },
  {
   "cell_type": "code",
   "execution_count": 17,
   "metadata": {},
   "outputs": [
    {
     "data": {
      "text/html": [
       "<div>\n",
       "<style scoped>\n",
       "    .dataframe tbody tr th:only-of-type {\n",
       "        vertical-align: middle;\n",
       "    }\n",
       "\n",
       "    .dataframe tbody tr th {\n",
       "        vertical-align: top;\n",
       "    }\n",
       "\n",
       "    .dataframe thead th {\n",
       "        text-align: right;\n",
       "    }\n",
       "</style>\n",
       "<table border=\"1\" class=\"dataframe\">\n",
       "  <thead>\n",
       "    <tr style=\"text-align: right;\">\n",
       "      <th></th>\n",
       "      <th>chr</th>\n",
       "      <th>start</th>\n",
       "      <th>end</th>\n",
       "      <th>pad_start</th>\n",
       "      <th>pad_end</th>\n",
       "    </tr>\n",
       "  </thead>\n",
       "  <tbody>\n",
       "    <tr>\n",
       "      <td>0</td>\n",
       "      <td>chr1</td>\n",
       "      <td>1200000</td>\n",
       "      <td>1201000</td>\n",
       "      <td>1199975</td>\n",
       "      <td>1201024</td>\n",
       "    </tr>\n",
       "    <tr>\n",
       "      <td>1</td>\n",
       "      <td>chr2</td>\n",
       "      <td>1300000</td>\n",
       "      <td>1301000</td>\n",
       "      <td>1299975</td>\n",
       "      <td>1301024</td>\n",
       "    </tr>\n",
       "  </tbody>\n",
       "</table>\n",
       "</div>"
      ],
      "text/plain": [
       "    chr    start      end  pad_start  pad_end\n",
       "0  chr1  1200000  1201000    1199975  1201024\n",
       "1  chr2  1300000  1301000    1299975  1301024"
      ]
     },
     "execution_count": 17,
     "metadata": {},
     "output_type": "execute_result"
    }
   ],
   "source": [
    "# add padding\n",
    "pad_bp = 25\n",
    "sequences_df['pad_start'] = sequences_df['start'].map(int) - pad_bp\n",
    "sequences_df['pad_end'] = sequences_df['end'].map(int)  + pad_bp - 1\n",
    "sequences_df"
   ]
  },
  {
   "cell_type": "code",
   "execution_count": 21,
   "metadata": {},
   "outputs": [],
   "source": [
    "# a function to get the sequences that you want api\n",
    "\n",
    "def get_sequence(row,chr_col='chr', start_col='start', stop_col='end', version='hg19'):\n",
    "    url = 'http://genome.ucsc.edu/cgi-bin/das/{}/dna?segment={}:{},{}'.format(version, row[chr_col],row[start_col],row[stop_col])#chr4:39355986,39356120'\n",
    "    contents = urllib.request.urlopen(url).read()\n",
    "    sequence = ''.join(xmltodict.parse(contents)['DASDNA']['SEQUENCE']['DNA']['#text'].upper().split('\\n'))\n",
    "    return(sequence)\n"
   ]
  },
  {
   "cell_type": "code",
   "execution_count": 22,
   "metadata": {},
   "outputs": [
    {
     "name": "stdout",
     "output_type": "stream",
     "text": [
      "CPU times: user 3.95 ms, sys: 1.68 ms, total: 5.63 ms\n",
      "Wall time: 147 ms\n"
     ]
    }
   ],
   "source": [
    "%%time\n",
    "sequences_df['sequence'] = sequences_df.apply(lambda x: get_sequence(x, \n",
    "                                                                     version='hg38',\n",
    "                                                                     chr_col='chr', \n",
    "                                                                     start_col='pad_start',\n",
    "                                                                     stop_col='pad_end'),axis=1)\n"
   ]
  },
  {
   "cell_type": "code",
   "execution_count": 23,
   "metadata": {},
   "outputs": [
    {
     "data": {
      "text/html": [
       "<div>\n",
       "<style scoped>\n",
       "    .dataframe tbody tr th:only-of-type {\n",
       "        vertical-align: middle;\n",
       "    }\n",
       "\n",
       "    .dataframe tbody tr th {\n",
       "        vertical-align: top;\n",
       "    }\n",
       "\n",
       "    .dataframe thead th {\n",
       "        text-align: right;\n",
       "    }\n",
       "</style>\n",
       "<table border=\"1\" class=\"dataframe\">\n",
       "  <thead>\n",
       "    <tr style=\"text-align: right;\">\n",
       "      <th></th>\n",
       "      <th>chr</th>\n",
       "      <th>start</th>\n",
       "      <th>end</th>\n",
       "      <th>pad_start</th>\n",
       "      <th>pad_end</th>\n",
       "      <th>sequence</th>\n",
       "    </tr>\n",
       "  </thead>\n",
       "  <tbody>\n",
       "    <tr>\n",
       "      <td>0</td>\n",
       "      <td>chr1</td>\n",
       "      <td>1200000</td>\n",
       "      <td>1201000</td>\n",
       "      <td>1199975</td>\n",
       "      <td>1201024</td>\n",
       "      <td>GTCTGCGAGGTCACAACAGCATGGACCACCAGGGAGAGGGGGACTG...</td>\n",
       "    </tr>\n",
       "    <tr>\n",
       "      <td>1</td>\n",
       "      <td>chr2</td>\n",
       "      <td>1300000</td>\n",
       "      <td>1301000</td>\n",
       "      <td>1299975</td>\n",
       "      <td>1301024</td>\n",
       "      <td>AGGGCACTTACCATCACTGCTCTGAAGGGCGTGCAAGACAGGTGCC...</td>\n",
       "    </tr>\n",
       "  </tbody>\n",
       "</table>\n",
       "</div>"
      ],
      "text/plain": [
       "    chr    start      end  pad_start  pad_end  \\\n",
       "0  chr1  1200000  1201000    1199975  1201024   \n",
       "1  chr2  1300000  1301000    1299975  1301024   \n",
       "\n",
       "                                            sequence  \n",
       "0  GTCTGCGAGGTCACAACAGCATGGACCACCAGGGAGAGGGGGACTG...  \n",
       "1  AGGGCACTTACCATCACTGCTCTGAAGGGCGTGCAAGACAGGTGCC...  "
      ]
     },
     "execution_count": 23,
     "metadata": {},
     "output_type": "execute_result"
    }
   ],
   "source": [
    "sequences_df"
   ]
  },
  {
   "cell_type": "code",
   "execution_count": null,
   "metadata": {},
   "outputs": [],
   "source": []
  }
 ],
 "metadata": {
  "kernelspec": {
   "display_name": "Python 3",
   "language": "python",
   "name": "python3"
  },
  "language_info": {
   "codemirror_mode": {
    "name": "ipython",
    "version": 3
   },
   "file_extension": ".py",
   "mimetype": "text/x-python",
   "name": "python",
   "nbconvert_exporter": "python",
   "pygments_lexer": "ipython3",
   "version": "3.7.4"
  }
 },
 "nbformat": 4,
 "nbformat_minor": 4
}
