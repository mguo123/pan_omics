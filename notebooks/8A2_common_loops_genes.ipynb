{
 "cells": [
  {
   "cell_type": "markdown",
   "metadata": {},
   "source": [
    "# 8A2_common_loops_genes\n",
    "\n",
    "7/7/2021\n",
    "\n",
    "what are the genes touching the common loops and are those genes all expressed"
   ]
  },
  {
   "cell_type": "code",
   "execution_count": 6,
   "metadata": {},
   "outputs": [],
   "source": [
    "import pandas as pd\n",
    "import os, glob\n",
    "import pybedtools\n",
    "import numpy as np"
   ]
  },
  {
   "cell_type": "code",
   "execution_count": 7,
   "metadata": {},
   "outputs": [],
   "source": [
    "save_dir = '../data/processed/fig4_modelling/common_genes'\n",
    "if not os.path.exists(save_dir):\n",
    "    os.makedirs(save_dir)"
   ]
  },
  {
   "cell_type": "markdown",
   "metadata": {},
   "source": [
    "# get commonly expressed genes"
   ]
  },
  {
   "cell_type": "code",
   "execution_count": 8,
   "metadata": {},
   "outputs": [],
   "source": [
    "#get rna\n",
    "normal_tissues = ['Airway','Astrocytes','Bladder','Colon','Esophageal','GDSD6','GM12878','HMEC','Melanocytes','Ovarian',\n",
    "'Pancreas','Prostate','Renal','Thyroid','Uterine']\n",
    "normal_tissues_dict = dict(zip(normal_tissues,range(len(normal_tissues))))\n",
    "rna_df = pd.read_csv('../data/interim/rna/tissue_tpm_sym.csv',index_col=0)\n",
    "rna_df_norm = rna_df[normal_tissues]"
   ]
  },
  {
   "cell_type": "code",
   "execution_count": 9,
   "metadata": {},
   "outputs": [],
   "source": [
    "THRES=1"
   ]
  },
  {
   "cell_type": "code",
   "execution_count": 35,
   "metadata": {},
   "outputs": [
    {
     "name": "stdout",
     "output_type": "stream",
     "text": [
      "7106 number of common genes\n",
      "1442 number of unique genes\n",
      "(24811, 15)\n"
     ]
    },
    {
     "data": {
      "text/plain": [
       "7106"
      ]
     },
     "execution_count": 35,
     "metadata": {},
     "output_type": "execute_result"
    }
   ],
   "source": [
    "# common genes\n",
    "print(sum((rna_df_norm>THRES).sum(axis=1)==15), 'number of common genes')\n",
    "print(sum((rna_df_norm>THRES).sum(axis=1)==1), 'number of unique genes')\n",
    "print(rna_df_norm.shape)\n",
    "common_genes = []\n",
    "# counter = 0 \n",
    "for gene, row in pd.DataFrame(rna_df_norm>THRES).iterrows():\n",
    "#     if counter>5:\n",
    "#         break\n",
    "#     counter +=1\n",
    "    if np.array(row).all():\n",
    "        common_genes.append(gene)\n",
    "len(common_genes)"
   ]
  },
  {
   "cell_type": "code",
   "execution_count": 45,
   "metadata": {},
   "outputs": [
    {
     "data": {
      "text/plain": [
       "(3717, 3)"
      ]
     },
     "execution_count": 45,
     "metadata": {},
     "output_type": "execute_result"
    }
   ],
   "source": [
    "# common_loops_normal\n",
    "common_loops_normal = pd.read_csv('../data/processed/fig2_hichip/common_loops_normal.csv',index_col=0)\n",
    "common_loops_normal[['loop_1','loop_2']] = common_loops_normal.loop_name.str.split('::',expand=True)\n",
    "common_loops_normal.shape"
   ]
  },
  {
   "cell_type": "code",
   "execution_count": 47,
   "metadata": {},
   "outputs": [
    {
     "name": "stdout",
     "output_type": "stream",
     "text": [
      "(325, 5)\n",
      "(496, 5)\n"
     ]
    }
   ],
   "source": [
    "print(common_loops_normal.merge(anc_prom[['name','thickEnd']], how='inner',left_on='loop_1',right_on='thickEnd').shape)\n",
    "print(common_loops_normal.merge(anc_prom[['name','thickEnd']], how='inner',left_on='loop_2',right_on='thickEnd').shape)\n",
    "\n",
    "\n",
    "# basically saing"
   ]
  },
  {
   "cell_type": "code",
   "execution_count": 28,
   "metadata": {},
   "outputs": [
    {
     "name": "stdout",
     "output_type": "stream",
     "text": [
      "Airway\n",
      "453\n",
      "Astrocytes\n",
      "453\n",
      "Bladder\n",
      "453\n",
      "Colon\n",
      "453\n",
      "Esophageal\n",
      "453\n",
      "GDSD6\n",
      "453\n",
      "GM12878\n",
      "453\n",
      "HMEC\n",
      "453\n",
      "Melanocytes\n",
      "453\n",
      "Ovarian\n",
      "453\n",
      "Pancreas\n",
      "453\n",
      "Prostate\n",
      "453\n",
      "Renal\n",
      "453\n",
      "Thyroid\n",
      "453\n",
      "Uterine\n",
      "453\n"
     ]
    }
   ],
   "source": [
    "# common_genes_in_common_loops\n",
    "common_genes_in_common_loops = set()\n",
    "for tissue in normal_tissues:\n",
    "    common_loops_normal['loop_1_'+tissue] = ''\n",
    "    common_loops_normal['loop_2_'+tissue] = ''\n",
    "    anc_prom = pybedtools.BedTool('../data/interim/annon/promoter_anchors/promoter_'+normal_tissues[1]+'_annon.bed').to_dataframe()\n",
    "    anc_prom = anc_prom[anc_prom.name.isin(common_genes)]\n",
    "    genes1 = common_loops_normal.merge(anc_prom[['name','thickEnd']], how='inner',left_on='loop_1',right_on='thickEnd').name.unique()#.sort()\n",
    "    genes1 = sorted(genes1)\n",
    "    genes2 = common_loops_normal.merge(anc_prom[['name','thickEnd']], how='inner',left_on='loop_2',right_on='thickEnd').name.unique()#.sort()\n",
    "    genes2 = sorted(genes2)\n",
    "    genes = sorted(set(genes1).union(set(genes2)))\n",
    "    print(tissue)\n",
    "    common_genes_in_common_loops= common_genes_in_common_loops.union(genes)\n",
    "    print(len(common_genes_in_common_loops))\n",
    "#     print(genes)\n"
   ]
  },
  {
   "cell_type": "code",
   "execution_count": 40,
   "metadata": {},
   "outputs": [
    {
     "name": "stdout",
     "output_type": "stream",
     "text": [
      "housekeeping_genes_list 398\n",
      "essential_genes_list 1878\n"
     ]
    }
   ],
   "source": [
    "# housekeeping and essential genes\n",
    "housekeeping_df = pd.read_table('../data/external/HSIAO_HOUSEKEEPING_GENES.txt',skiprows=2, header=None)\n",
    "housekeeping_df.columns = ['genes']\n",
    "housekeeping_genes_list = list(housekeeping_df.genes)\n",
    "print('housekeeping_genes_list', len(housekeeping_genes_list))\n",
    "\n",
    "essential_genes = pd.read_csv('../data/external/essential_genes/essential_genes_wang2015.txt',header=None).iloc[:,0].to_list()\n",
    "print('essential_genes_list', len(essential_genes))\n"
   ]
  },
  {
   "cell_type": "code",
   "execution_count": 44,
   "metadata": {},
   "outputs": [
    {
     "name": "stdout",
     "output_type": "stream",
     "text": [
      "num housekeeping genes in commongenes-common loops 36\n",
      "num essential genes in commongenes-common loops 112\n"
     ]
    }
   ],
   "source": [
    "num_hk_cg_cl = len(set(common_genes_in_common_loops).intersection(set(housekeeping_genes_list)))\n",
    "num_es_cg_cl = len(set(common_genes_in_common_loops).intersection(set(essential_genes)))\n",
    "print('num housekeeping genes in commongenes-common loops', num_hk_cg_cl)\n",
    "print('num essential genes in commongenes-common loops', num_es_cg_cl)"
   ]
  },
  {
   "cell_type": "code",
   "execution_count": 52,
   "metadata": {},
   "outputs": [
    {
     "name": "stdout",
     "output_type": "stream",
     "text": [
      "['ACTB', 'CAPNS1', 'CIRBP', 'COX6A1', 'CTDSP2', 'DDB1', 'DHPS', 'EEF1G', 'EIF4G2', 'EZR', 'FBL', 'FTL', 'GPX4', 'HINT1', 'HNRNPF', 'HSPB1', 'IFITM3', 'JUNB', 'JUND', 'MLF2', 'NACA', 'PFN1', 'PHB2', 'PSAP', 'PTP4A2', 'RPL10A', 'RPL23', 'RPL3', 'RPL35', 'RPS10', 'RPS11', 'RPS21', 'RPS7', 'STMN1', 'TCEA1', 'YWHAZ']\n"
     ]
    }
   ],
   "source": [
    "# hk genes\n",
    "print(sorted(set(common_genes_in_common_loops).intersection(set(housekeeping_genes_list))))"
   ]
  },
  {
   "cell_type": "code",
   "execution_count": 51,
   "metadata": {},
   "outputs": [
    {
     "name": "stdout",
     "output_type": "stream",
     "text": [
      "['ACO2', 'ACTB', 'ACTR3', 'AHCY', 'ANAPC15', 'AP2S1', 'ARID1A', 'BCR', 'CCT2', 'CENPM', 'CHAF1A', 'CHEK1', 'CLP1', 'COPZ1', 'COQ5', 'CREB3', 'DCTN3', 'DDB1', 'DDX27', 'DHX8', 'DPAGT1', 'ECD', 'EEF1G', 'EIF4G2', 'ELP5', 'ELP6', 'EP300', 'FPGS', 'GET4', 'GRB2', 'GSS', 'GTPBP8', 'HEXIM1', 'INTS1', 'IPO13', 'IRF2BP2', 'KAT7', 'KRAS', 'MCL1', 'METTL3', 'MNAT1', 'MRPL16', 'MRPL24', 'MRPL38', 'MRPL48', 'MRPS21', 'NAA15', 'NDUFA2', 'NOP9', 'NPLOC4', 'NSMCE1', 'NUBP1', 'NXF1', 'PCBP1', 'PFN1', 'PHB2', 'PPA1', 'PPIL2', 'PPP1CB', 'PPP4C', 'PRCC', 'PRELID1', 'PRMT1', 'PSMD4', 'RAD9A', 'REXO2', 'RNASEH2A', 'RNASEH2C', 'RPL10A', 'RPL23', 'RPL3', 'RPL35', 'RPP14', 'RPS10', 'RPS11', 'RPS21', 'RPS7', 'RTTN', 'SAMD4B', 'SCD', 'SCYL1', 'SEPHS2', 'SHMT2', 'SIK2', 'SLC35B1', 'SLC3A2', 'SMC3', 'SMG9', 'SNAPC1', 'SRP54', 'SRRT', 'SRSF1', 'SSBP4', 'STK11', 'TAF10', 'TAF15', 'TAF8', 'TCEA1', 'TERF2', 'TPX2', 'TRIAP1', 'TRPM7', 'TXN2', 'UBE2M', 'UBTF', 'UQCC2', 'WDR55', 'WDR74', 'WEE1', 'ZFC3H1', 'ZFP36L1', 'ZMAT2']\n"
     ]
    }
   ],
   "source": [
    "# es genes\n",
    "print(sorted(set(common_genes_in_common_loops).intersection(set(essential_genes))))"
   ]
  },
  {
   "cell_type": "code",
   "execution_count": null,
   "metadata": {},
   "outputs": [],
   "source": []
  }
 ],
 "metadata": {
  "kernelspec": {
   "display_name": "Python 3",
   "language": "python",
   "name": "python3"
  },
  "language_info": {
   "codemirror_mode": {
    "name": "ipython",
    "version": 3
   },
   "file_extension": ".py",
   "mimetype": "text/x-python",
   "name": "python",
   "nbconvert_exporter": "python",
   "pygments_lexer": "ipython3",
   "version": "3.7.4"
  }
 },
 "nbformat": 4,
 "nbformat_minor": 4
}
