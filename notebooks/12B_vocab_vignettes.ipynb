{
 "cells": [
  {
   "cell_type": "markdown",
   "metadata": {},
   "source": [
    "# 12B_vocab_vignettes\n",
    "\n",
    "3/18/2021\n",
    "```\n",
    "Is there a way to get gene lists + GO Terms for:\n",
    "MAF::RORA target genes in KCD6\n",
    "SP1::ZNF219 target genes in A431\n",
    "SP1::ZBTB14 target genes in A431\n",
    "MAZ::SP1 target genes in A431\n",
    "EGR1::SP1 target genes in A431\n",
    "EGR1::SP3 target genes in A431\n",
    "KLF5::NR2F1 target genes in Colon\n",
    "OSR2::THAP1 target genes in Colon\n",
    "KLF15::ZNF589 target genes in MC\n",
    "IZKF1::ZNF589 target genes in GM\n",
    "\n",
    "```\n",
    "\n",
    "\n",
    "jk \n",
    "\n",
    "Margaret  11:38 AM\n",
    "if you go into pan_omics/data/processed/fig7_vocab_go/vocab_genesets the information should be there\n",
    "\n",
    "\n",
    "if not you can also retrieve the genes from various pro-pro, pro-loop, loop-loop configs from these files\n",
    "KCD6_df = pd.read_csv( '../data/processed/fig4_modelling/tf_tf_pairs/expr_GDSD6_loop_type.csv',index_col=0)\n",
    "MC_df = pd.read_csv( '../data/processed/fig4_modelling/tf_tf_pairs/expr_Melanocytes_loop_type.csv',index_col=0)\n",
    "GM_df = pd.read_csv( '../data/processed/fig4_modelling/tf_tf_pairs/expr_GM12878_loop_type.csv',index_col=0)\n",
    "Colon_df = pd.read_csv( '../data/processed/fig4_modelling/tf_tf_pairs/expr_Colon_loop_type.csv',index_col=0)\n",
    "A431_df = pd.read_csv( '../data/processed/fig4_modelling/tf_tf_pairs_scc/expr_A431-CTRLi_loop_type.csv',index_col=0)\n",
    "COLO_df = pd.read_csv( '../data/processed/fig4_modelling/tf_tf_pairs_mm/expr_COLO-SCR-DMSO_loop_type.csv',index_col=0)"
   ]
  },
  {
   "cell_type": "code",
   "execution_count": 1,
   "metadata": {},
   "outputs": [],
   "source": [
    "import pandas as pd\n",
    "import os, glob\n",
    "save_dir = ''"
   ]
  },
  {
   "cell_type": "code",
   "execution_count": 3,
   "metadata": {},
   "outputs": [
    {
     "data": {
      "text/html": [
       "<div>\n",
       "<style scoped>\n",
       "    .dataframe tbody tr th:only-of-type {\n",
       "        vertical-align: middle;\n",
       "    }\n",
       "\n",
       "    .dataframe tbody tr th {\n",
       "        vertical-align: top;\n",
       "    }\n",
       "\n",
       "    .dataframe thead th {\n",
       "        text-align: right;\n",
       "    }\n",
       "</style>\n",
       "<table border=\"1\" class=\"dataframe\">\n",
       "  <thead>\n",
       "    <tr style=\"text-align: right;\">\n",
       "      <th></th>\n",
       "      <th>pro_pro_count</th>\n",
       "      <th>pro_pro_genes</th>\n",
       "      <th>loop_loop_count</th>\n",
       "      <th>loop_loop_genes</th>\n",
       "      <th>pro_loop_count</th>\n",
       "      <th>pro_loop_genes</th>\n",
       "      <th>loop_pro_count</th>\n",
       "      <th>loop_pro_genes</th>\n",
       "    </tr>\n",
       "  </thead>\n",
       "  <tbody>\n",
       "    <tr>\n",
       "      <td>ARID3A::ATF7</td>\n",
       "      <td>0</td>\n",
       "      <td>NaN</td>\n",
       "      <td>35</td>\n",
       "      <td>ADAMTS1|ADM|AMPD3|ATF3|ATP12A|CASZ1|CRCT1|CTDS...</td>\n",
       "      <td>0</td>\n",
       "      <td>NaN</td>\n",
       "      <td>2</td>\n",
       "      <td>PI4K2A|SDC4</td>\n",
       "    </tr>\n",
       "    <tr>\n",
       "      <td>ARID3A::CREB1</td>\n",
       "      <td>0</td>\n",
       "      <td>NaN</td>\n",
       "      <td>30</td>\n",
       "      <td>ADAMTS1|ATP2A2|CAPZA2|CASZ1|CDCP1|CTDSP2|DUSP1...</td>\n",
       "      <td>0</td>\n",
       "      <td>NaN</td>\n",
       "      <td>1</td>\n",
       "      <td>GNB5</td>\n",
       "    </tr>\n",
       "    <tr>\n",
       "      <td>ARID3A::CREB5</td>\n",
       "      <td>0</td>\n",
       "      <td>NaN</td>\n",
       "      <td>33</td>\n",
       "      <td>ADM|AMPD3|ATF3|ATP12A|ATP2A2|CASZ1|CRCT1|CTDSP...</td>\n",
       "      <td>0</td>\n",
       "      <td>NaN</td>\n",
       "      <td>1</td>\n",
       "      <td>SDC4</td>\n",
       "    </tr>\n",
       "    <tr>\n",
       "      <td>ARID3A::CUX1</td>\n",
       "      <td>0</td>\n",
       "      <td>NaN</td>\n",
       "      <td>7</td>\n",
       "      <td>CDCP1|CFLAR|FAM126B|GRN|NDUFB3|NIF3L1|ORC2</td>\n",
       "      <td>0</td>\n",
       "      <td>NaN</td>\n",
       "      <td>0</td>\n",
       "      <td>NaN</td>\n",
       "    </tr>\n",
       "    <tr>\n",
       "      <td>ARID3A::ELF5</td>\n",
       "      <td>0</td>\n",
       "      <td>NaN</td>\n",
       "      <td>85</td>\n",
       "      <td>ARHGAP17|ARL4C|ARPC1A|ATF3|ATPAF2|B9D1|BLZF1|C...</td>\n",
       "      <td>4</td>\n",
       "      <td>ARHGAP17|KLF4|KLK8|TXN2</td>\n",
       "      <td>2</td>\n",
       "      <td>SDC4|WFDC5</td>\n",
       "    </tr>\n",
       "  </tbody>\n",
       "</table>\n",
       "</div>"
      ],
      "text/plain": [
       "               pro_pro_count pro_pro_genes  loop_loop_count  \\\n",
       "ARID3A::ATF7               0           NaN               35   \n",
       "ARID3A::CREB1              0           NaN               30   \n",
       "ARID3A::CREB5              0           NaN               33   \n",
       "ARID3A::CUX1               0           NaN                7   \n",
       "ARID3A::ELF5               0           NaN               85   \n",
       "\n",
       "                                                 loop_loop_genes  \\\n",
       "ARID3A::ATF7   ADAMTS1|ADM|AMPD3|ATF3|ATP12A|CASZ1|CRCT1|CTDS...   \n",
       "ARID3A::CREB1  ADAMTS1|ATP2A2|CAPZA2|CASZ1|CDCP1|CTDSP2|DUSP1...   \n",
       "ARID3A::CREB5  ADM|AMPD3|ATF3|ATP12A|ATP2A2|CASZ1|CRCT1|CTDSP...   \n",
       "ARID3A::CUX1          CDCP1|CFLAR|FAM126B|GRN|NDUFB3|NIF3L1|ORC2   \n",
       "ARID3A::ELF5   ARHGAP17|ARL4C|ARPC1A|ATF3|ATPAF2|B9D1|BLZF1|C...   \n",
       "\n",
       "               pro_loop_count           pro_loop_genes  loop_pro_count  \\\n",
       "ARID3A::ATF7                0                      NaN               2   \n",
       "ARID3A::CREB1               0                      NaN               1   \n",
       "ARID3A::CREB5               0                      NaN               1   \n",
       "ARID3A::CUX1                0                      NaN               0   \n",
       "ARID3A::ELF5                4  ARHGAP17|KLF4|KLK8|TXN2               2   \n",
       "\n",
       "              loop_pro_genes  \n",
       "ARID3A::ATF7     PI4K2A|SDC4  \n",
       "ARID3A::CREB1           GNB5  \n",
       "ARID3A::CREB5           SDC4  \n",
       "ARID3A::CUX1             NaN  \n",
       "ARID3A::ELF5      SDC4|WFDC5  "
      ]
     },
     "execution_count": 3,
     "metadata": {},
     "output_type": "execute_result"
    }
   ],
   "source": [
    "KCD6_df = pd.read_csv( '../data/processed/fig4_modelling/tf_tf_pairs/expr_GDSD6_loop_type.csv',index_col=0)\n",
    "MC_df = pd.read_csv( '../data/processed/fig4_modelling/tf_tf_pairs/expr_Melanocytes_loop_type.csv',index_col=0)\n",
    "GM_df = pd.read_csv( '../data/processed/fig4_modelling/tf_tf_pairs/expr_GM12878_loop_type.csv',index_col=0)\n",
    "Colon_df = pd.read_csv( '../data/processed/fig4_modelling/tf_tf_pairs/expr_Colon_loop_type.csv',index_col=0)\n",
    "A431_df = pd.read_csv( '../data/processed/fig4_modelling/tf_tf_pairs_scc/expr_A431-CTRLi_loop_type.csv',index_col=0)\n",
    "COLO_df = pd.read_csv( '../data/processed/fig4_modelling/tf_tf_pairs_mm/expr_COLO-SCR-DMSO_loop_type.csv',index_col=0)\n",
    "KCD6_df[:5]"
   ]
  },
  {
   "cell_type": "code",
   "execution_count": 4,
   "metadata": {
    "jupyter": {
     "source_hidden": true
    }
   },
   "outputs": [],
   "source": [
    "# KCD6_pro_file = '../data/processed/fig4_modelling/tf_tf_pairs/expr_GDSD6_pro_pro_vocab_info.csv'\n",
    "# KCD6_loop_file = '../data/processed/fig4_modelling/tf_tf_pairs/expr_GDSD6_loop_loop_vocab_info.csv'\n",
    "# MC_pro_file = '../data/processed/fig4_modelling/tf_tf_pairs/expr_Melanocytes_pro_pro_vocab_info.csv'\n",
    "# MC_loop_file = '../data/processed/fig4_modelling/tf_tf_pairs/expr_Melanocytes_loop_loop_vocab_info.csv'\n",
    "# Colon_pro_file = '../data/processed/fig4_modelling/tf_tf_pairs/expr_Colon_pro_pro_vocab_info.csv'\n",
    "# Colon_loop_file = '../data/processed/fig4_modelling/tf_tf_pairs/expr_Colon_loop_loop_vocab_info.csv'\n",
    "# GM_pro_file = '../data/processed/fig4_modelling/tf_tf_pairs/expr_GM12878_pro_pro_vocab_info.csv'\n",
    "# GM_loop_file = '../data/processed/fig4_modelling/tf_tf_pairs/expr_GM12878_loop_loop_vocab_info.csv'\n",
    "\n",
    "# A431_pro_file = '../data/processed/fig4_modelling/tf_tf_pairs_scc/'"
   ]
  },
  {
   "cell_type": "code",
   "execution_count": null,
   "metadata": {},
   "outputs": [],
   "source": [
    "# MAF::RORA target genes in KCD6\n",
    "maf_rora\n",
    "# SP1::ZNF219 target genes in A431\n",
    "# SP1::ZBTB14 target genes in A431\n",
    "# MAZ::SP1 target genes in A431\n",
    "# EGR1::SP1 target genes in A431\n",
    "# EGR1::SP3 target genes in A431\n",
    "# KLF5::NR2F1 target genes in Colon\n",
    "# OSR2::THAP1 target genes in Colon\n",
    "# KLF15::ZNF589 target genes in MC\n",
    "# IZKF1::ZNF589 target genes in GM"
   ]
  },
  {
   "cell_type": "code",
   "execution_count": 5,
   "metadata": {},
   "outputs": [
    {
     "data": {
      "text/plain": [
       "pro_pro_count                                                      1\n",
       "pro_pro_genes                                                  ACTN4\n",
       "loop_loop_count                                                  264\n",
       "loop_loop_genes    ABHD17C|ABLIM3|ACAA1|ACADVL|ACTN4|ADAM10|ADM|A...\n",
       "pro_loop_count                                                     8\n",
       "pro_loop_genes          ACTN4|ADM|ATG9A|EIF1|KRT6B|LRP11|MIA2|S100A6\n",
       "loop_pro_count                                                    15\n",
       "loop_pro_genes     ACTN4|ARHGDIA|CTDNEP1|EHD1|ELP5|EML3|EPHA2|HSP...\n",
       "Name: MAF::RORA, dtype: object"
      ]
     },
     "execution_count": 5,
     "metadata": {},
     "output_type": "execute_result"
    }
   ],
   "source": [
    "KCD6_df.loc['MAF::RORA',:]"
   ]
  },
  {
   "cell_type": "code",
   "execution_count": null,
   "metadata": {},
   "outputs": [],
   "source": []
  },
  {
   "cell_type": "code",
   "execution_count": null,
   "metadata": {},
   "outputs": [],
   "source": []
  }
 ],
 "metadata": {
  "kernelspec": {
   "display_name": "Python 3",
   "language": "python",
   "name": "python3"
  },
  "language_info": {
   "codemirror_mode": {
    "name": "ipython",
    "version": 3
   },
   "file_extension": ".py",
   "mimetype": "text/x-python",
   "name": "python",
   "nbconvert_exporter": "python",
   "pygments_lexer": "ipython3",
   "version": "3.7.4"
  }
 },
 "nbformat": 4,
 "nbformat_minor": 4
}
