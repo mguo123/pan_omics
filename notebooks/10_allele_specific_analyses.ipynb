{
 "cells": [
  {
   "cell_type": "markdown",
   "metadata": {},
   "source": [
    "# allele_specific_analyses(10)\n",
    "\n",
    "1/27/2021\n",
    "\n",
    "run gatk (see one note for details)\n",
    "\n",
    "now see if overlap with mpra results"
   ]
  },
  {
   "cell_type": "code",
   "execution_count": 1,
   "metadata": {},
   "outputs": [],
   "source": [
    "import pandas as pd \n",
    "import os,sys, glob\n",
    "import pybedtools\n",
    "import scipy.stats as stats\n",
    "import re\n",
    "import numpy as np"
   ]
  },
  {
   "cell_type": "code",
   "execution_count": 2,
   "metadata": {},
   "outputs": [],
   "source": [
    "def read_vcf(path):\n",
    "    with open(path, 'r') as f:\n",
    "        lines = f.readlines()\n",
    "        lines = [l.strip().split('\\t') for l in lines if not l.startswith('##')]\n",
    "    df=  pd.DataFrame(lines[1: ],columns=lines[0]).rename(columns={'#CHROM': 'CHROM'})\n",
    "    if not df['CHROM'][0].startswith('chr'):\n",
    "        df['CHROM'] = 'chr' + df.CHROM.map(str)\n",
    "\n",
    "    df['rowname'] =  df.CHROM + '_' + df.POS.map(str)\n",
    "    print('read',path)\n",
    "    print('shape',df.shape)\n",
    "    return df\n",
    "\n",
    "def preprocess_vcf(row,tissue):\n",
    "    # get info quality metrics\n",
    "    info_str = row['INFO']\n",
    "    info_str_arr = re.split('[=;]',info_str)\n",
    "    qual =  pd.Series(dict(zip(info_str_arr[::2],info_str_arr[1::2] )))\n",
    "    qual = qual[['DP','SOR','FS']]\n",
    "    # get \n",
    "    tissue_cols = [x for x in row.index if re.search('B[1-3]$',x) is not None]    #x.startswith(tissue[:min(len(tissue),4)])]\n",
    "    if len(tissue_cols)==0:\n",
    "        tissue_cols=['sample','sample']\n",
    "#     print('tissue_cols',tissue_cols)\n",
    "    try:\n",
    "        sample_1_info = row[tissue_cols[0]].split(':')\n",
    "        sample_2_info = row[tissue_cols[1]].split(':')\n",
    "\n",
    "        qual['GT_1'] = sample_1_info[0]\n",
    "        qual['GT_2'] = sample_2_info[0]\n",
    "        qual['AD_1_ref'] = int(sample_1_info[1].split(',')[0])\n",
    "        qual['AD_1_alt'] = int(sample_1_info[1].split(',')[1])\n",
    "        qual['AD_2_ref'] = int(sample_2_info[1].split(',')[0])\n",
    "        qual['AD_2_alt'] = int(sample_2_info[1].split(',')[1])\n",
    "    except:\n",
    "        print(row)\n",
    "        print(tissue_cols)\n",
    "        raise\n",
    "    return qual\n",
    "#     format_arr = row['FORMAT'].split(':')\n",
    "#     \n",
    "#     format_series = pd.Series()\n",
    "#     for idx,sample in enumerate(tissue_cols):\n",
    "#         format_arr_sample = [x+\"_\"+str(idx)for x in format_arr]\n",
    "#         format_series=pd.concat([format_series,pd.Series(dict(zip(format_arr_sample,row[sample].split(':'))))])\n",
    "#     return pd.concat([qual,format_series])\n",
    "\n",
    "def filter_vcf(vcf_df):\n",
    "    # filter depth count (DP)>=10\n",
    "    vcf_df = vcf_df[vcf_df.DP.map(int)>=10]\n",
    "    # the allele  only biallelic SNP sites (GT: 0/1) w\n",
    "    vcf_df = vcf_df[(vcf_df.GT_1 =='0/1')& (vcf_df.GT_2 =='0/1')]\n",
    "    \n",
    "    # minimum reference or alternative allele count >=2 (AD)\n",
    "    vcf_df['AD_1_min'] = vcf_df[['AD_1_ref','AD_1_alt']].min(axis=1)\n",
    "    vcf_df = vcf_df[vcf_df.AD_1_min>=2]\n",
    "    vcf_df['AD_2_min'] = vcf_df[['AD_2_ref','AD_2_alt']].min(axis=1)\n",
    "    vcf_df = vcf_df[vcf_df.AD_2_min>=2]\n",
    "    return vcf_df"
   ]
  },
  {
   "cell_type": "code",
   "execution_count": 3,
   "metadata": {},
   "outputs": [],
   "source": [
    "save_dir = '../data/processed/vcf_files/analyses'\n",
    "if not os.path.exists(save_dir):\n",
    "    os.makedirs(save_dir)"
   ]
  },
  {
   "cell_type": "code",
   "execution_count": 4,
   "metadata": {},
   "outputs": [
    {
     "name": "stdout",
     "output_type": "stream",
     "text": [
      "lib_df_bed_df (35203, 4) lib_df_bed_df1 (5016, 4)\n",
      "lib_df_bed_df shape post merge (38031, 4)\n"
     ]
    },
    {
     "data": {
      "text/html": [
       "<div>\n",
       "<style scoped>\n",
       "    .dataframe tbody tr th:only-of-type {\n",
       "        vertical-align: middle;\n",
       "    }\n",
       "\n",
       "    .dataframe tbody tr th {\n",
       "        vertical-align: top;\n",
       "    }\n",
       "\n",
       "    .dataframe thead th {\n",
       "        text-align: right;\n",
       "    }\n",
       "</style>\n",
       "<table border=\"1\" class=\"dataframe\">\n",
       "  <thead>\n",
       "    <tr style=\"text-align: right;\">\n",
       "      <th></th>\n",
       "      <th>chr</th>\n",
       "      <th>start</th>\n",
       "      <th>stop</th>\n",
       "      <th>rowname</th>\n",
       "    </tr>\n",
       "  </thead>\n",
       "  <tbody>\n",
       "    <tr>\n",
       "      <td>0</td>\n",
       "      <td>chr1</td>\n",
       "      <td>44171211</td>\n",
       "      <td>44171212</td>\n",
       "      <td>chr1_44171211</td>\n",
       "    </tr>\n",
       "    <tr>\n",
       "      <td>1</td>\n",
       "      <td>chr1</td>\n",
       "      <td>8086527</td>\n",
       "      <td>8086528</td>\n",
       "      <td>chr1_8086527</td>\n",
       "    </tr>\n",
       "    <tr>\n",
       "      <td>2</td>\n",
       "      <td>chr1</td>\n",
       "      <td>108330356</td>\n",
       "      <td>108330357</td>\n",
       "      <td>chr1_108330356</td>\n",
       "    </tr>\n",
       "    <tr>\n",
       "      <td>3</td>\n",
       "      <td>chr5</td>\n",
       "      <td>44876507</td>\n",
       "      <td>44876508</td>\n",
       "      <td>chr5_44876507</td>\n",
       "    </tr>\n",
       "    <tr>\n",
       "      <td>4</td>\n",
       "      <td>chr5</td>\n",
       "      <td>50735307</td>\n",
       "      <td>50735308</td>\n",
       "      <td>chr5_50735307</td>\n",
       "    </tr>\n",
       "  </tbody>\n",
       "</table>\n",
       "</div>"
      ],
      "text/plain": [
       "    chr      start       stop         rowname\n",
       "0  chr1   44171211   44171212   chr1_44171211\n",
       "1  chr1    8086527    8086528    chr1_8086527\n",
       "2  chr1  108330356  108330357  chr1_108330356\n",
       "3  chr5   44876507   44876508   chr5_44876507\n",
       "4  chr5   50735307   50735308   chr5_50735307"
      ]
     },
     "metadata": {},
     "output_type": "display_data"
    }
   ],
   "source": [
    "# option1\n",
    "lib_df1  = pd.read_csv('../data/external/GWAS/cancer_mpra_lib_snps_bedformat_121520.bed',sep='\\t',header=None)\n",
    "lib_df1.columns = ['chr','start','stop','rsid']\n",
    "lib_df1['rowname'] = lib_df1.chr + '_' + lib_df1['start'].map(str)\n",
    "lib_df_bed_df1 = lib_df1[['chr','start','stop','rowname']]\n",
    "# option2\n",
    "lib_df  = pd.read_csv('../data/external/GWAS/snp_list_combined.csv',index_col=0)\n",
    "lib_df.columns = ['rsid','chr','start','disease']\n",
    "lib_df['stop'] = lib_df['start'] + 1 \n",
    "lib_df['rowname'] = lib_df.chr + '_' + lib_df['start'].map(str)\n",
    "lib_df_bed_df = lib_df[['chr','start','stop','rowname']]\n",
    "print('lib_df_bed_df',lib_df_bed_df.shape,'lib_df_bed_df1', lib_df_bed_df1.shape)\n",
    "lib_df_bed_df = pd.concat([lib_df_bed_df,lib_df_bed_df1]).drop_duplicates()\n",
    "print('lib_df_bed_df shape post merge',lib_df_bed_df.shape)\n",
    "display(lib_df_bed_df[:5])\n",
    "#common processing\n",
    "lib_df_bed = pybedtools.BedTool.from_dataframe(lib_df_bed_df)\n",
    "# print(lib_df.disease.unique())\n",
    "# lib_df[:5]"
   ]
  },
  {
   "cell_type": "code",
   "execution_count": 34,
   "metadata": {},
   "outputs": [
    {
     "data": {
      "text/html": [
       "<div>\n",
       "<style scoped>\n",
       "    .dataframe tbody tr th:only-of-type {\n",
       "        vertical-align: middle;\n",
       "    }\n",
       "\n",
       "    .dataframe tbody tr th {\n",
       "        vertical-align: top;\n",
       "    }\n",
       "\n",
       "    .dataframe thead th {\n",
       "        text-align: right;\n",
       "    }\n",
       "</style>\n",
       "<table border=\"1\" class=\"dataframe\">\n",
       "  <thead>\n",
       "    <tr style=\"text-align: right;\">\n",
       "      <th></th>\n",
       "      <th>Causal_SNP</th>\n",
       "      <th>rowname</th>\n",
       "      <th>disease</th>\n",
       "    </tr>\n",
       "    <tr>\n",
       "      <th>locus</th>\n",
       "      <th></th>\n",
       "      <th></th>\n",
       "      <th></th>\n",
       "    </tr>\n",
       "  </thead>\n",
       "  <tbody>\n",
       "    <tr>\n",
       "      <td>locus_1000</td>\n",
       "      <td>rs4866783</td>\n",
       "      <td>chr5_44876507</td>\n",
       "      <td>hmec</td>\n",
       "    </tr>\n",
       "    <tr>\n",
       "      <td>locus_1001</td>\n",
       "      <td>rs75282042</td>\n",
       "      <td>chr5_50735307</td>\n",
       "      <td>hmec</td>\n",
       "    </tr>\n",
       "    <tr>\n",
       "      <td>locus_1002</td>\n",
       "      <td>rs115010969</td>\n",
       "      <td>chr5_52535211</td>\n",
       "      <td>hmec</td>\n",
       "    </tr>\n",
       "    <tr>\n",
       "      <td>locus_1003</td>\n",
       "      <td>rs17343328</td>\n",
       "      <td>chr5_52615305</td>\n",
       "      <td>hmec</td>\n",
       "    </tr>\n",
       "    <tr>\n",
       "      <td>locus_1004</td>\n",
       "      <td>rs10940312</td>\n",
       "      <td>chr5_52667982</td>\n",
       "      <td>hmec</td>\n",
       "    </tr>\n",
       "    <tr>\n",
       "      <td>...</td>\n",
       "      <td>...</td>\n",
       "      <td>...</td>\n",
       "      <td>...</td>\n",
       "    </tr>\n",
       "    <tr>\n",
       "      <td>locus_996</td>\n",
       "      <td>rs16901937</td>\n",
       "      <td>chr5_44709141</td>\n",
       "      <td>hmec</td>\n",
       "    </tr>\n",
       "    <tr>\n",
       "      <td>locus_997</td>\n",
       "      <td>rs1866406</td>\n",
       "      <td>chr5_44809945</td>\n",
       "      <td>hmec</td>\n",
       "    </tr>\n",
       "    <tr>\n",
       "      <td>locus_999</td>\n",
       "      <td>rs10070037</td>\n",
       "      <td>chr5_44870237</td>\n",
       "      <td>hmec</td>\n",
       "    </tr>\n",
       "    <tr>\n",
       "      <td>locus_99</td>\n",
       "      <td>rs4915073</td>\n",
       "      <td>chr1_108325879</td>\n",
       "      <td>thy</td>\n",
       "    </tr>\n",
       "    <tr>\n",
       "      <td>locus_9</td>\n",
       "      <td>rs408320</td>\n",
       "      <td>chr1_8085328</td>\n",
       "      <td>hmec</td>\n",
       "    </tr>\n",
       "  </tbody>\n",
       "</table>\n",
       "<p>4853 rows × 3 columns</p>\n",
       "</div>"
      ],
      "text/plain": [
       "             Causal_SNP         rowname disease\n",
       "locus                                          \n",
       "locus_1000    rs4866783   chr5_44876507    hmec\n",
       "locus_1001   rs75282042   chr5_50735307    hmec\n",
       "locus_1002  rs115010969   chr5_52535211    hmec\n",
       "locus_1003   rs17343328   chr5_52615305    hmec\n",
       "locus_1004   rs10940312   chr5_52667982    hmec\n",
       "...                 ...             ...     ...\n",
       "locus_996    rs16901937   chr5_44709141    hmec\n",
       "locus_997     rs1866406   chr5_44809945    hmec\n",
       "locus_999    rs10070037   chr5_44870237    hmec\n",
       "locus_99      rs4915073  chr1_108325879     thy\n",
       "locus_9        rs408320    chr1_8085328    hmec\n",
       "\n",
       "[4853 rows x 3 columns]"
      ]
     },
     "execution_count": 34,
     "metadata": {},
     "output_type": "execute_result"
    }
   ],
   "source": [
    "mpra_info_df = pd.read_table('../data/external/GWAS/cancer_mpra_snps_results_120320.tsv',index_col=0)\n",
    "mpra_info_df['rowname'] = 'chr'+mpra_info_df.Chr_37.map(str) + '_' +mpra_info_df.Start_37.map(str)\n",
    "mpra_info_df[['Causal_SNP', 'rowname','disease']]"
   ]
  },
  {
   "cell_type": "code",
   "execution_count": 10,
   "metadata": {},
   "outputs": [
    {
     "data": {
      "text/html": [
       "<div>\n",
       "<style scoped>\n",
       "    .dataframe tbody tr th:only-of-type {\n",
       "        vertical-align: middle;\n",
       "    }\n",
       "\n",
       "    .dataframe tbody tr th {\n",
       "        vertical-align: top;\n",
       "    }\n",
       "\n",
       "    .dataframe thead th {\n",
       "        text-align: right;\n",
       "    }\n",
       "</style>\n",
       "<table border=\"1\" class=\"dataframe\">\n",
       "  <thead>\n",
       "    <tr style=\"text-align: right;\">\n",
       "      <th></th>\n",
       "      <th>Chr_37</th>\n",
       "      <th>Start_37</th>\n",
       "      <th>disease</th>\n",
       "      <th>hit_tissue</th>\n",
       "      <th>rowname</th>\n",
       "    </tr>\n",
       "    <tr>\n",
       "      <th>Causal_SNP</th>\n",
       "      <th></th>\n",
       "      <th></th>\n",
       "      <th></th>\n",
       "      <th></th>\n",
       "      <th></th>\n",
       "    </tr>\n",
       "  </thead>\n",
       "  <tbody>\n",
       "    <tr>\n",
       "      <td>rs111640187</td>\n",
       "      <td>5</td>\n",
       "      <td>82428995</td>\n",
       "      <td>airway</td>\n",
       "      <td>airway</td>\n",
       "      <td>chr5_82428995</td>\n",
       "    </tr>\n",
       "    <tr>\n",
       "      <td>rs34064842</td>\n",
       "      <td>6</td>\n",
       "      <td>27688625</td>\n",
       "      <td>airway,hmec</td>\n",
       "      <td>airway</td>\n",
       "      <td>chr6_27688625</td>\n",
       "    </tr>\n",
       "    <tr>\n",
       "      <td>rs71546575</td>\n",
       "      <td>6</td>\n",
       "      <td>27805022</td>\n",
       "      <td>airway,hmec</td>\n",
       "      <td>airway</td>\n",
       "      <td>chr6_27805022</td>\n",
       "    </tr>\n",
       "    <tr>\n",
       "      <td>rs35353359</td>\n",
       "      <td>6</td>\n",
       "      <td>28324378</td>\n",
       "      <td>airway,hmec</td>\n",
       "      <td>airway</td>\n",
       "      <td>chr6_28324378</td>\n",
       "    </tr>\n",
       "    <tr>\n",
       "      <td>rs3095311</td>\n",
       "      <td>6</td>\n",
       "      <td>31051675</td>\n",
       "      <td>airway</td>\n",
       "      <td>airway</td>\n",
       "      <td>chr6_31051675</td>\n",
       "    </tr>\n",
       "  </tbody>\n",
       "</table>\n",
       "</div>"
      ],
      "text/plain": [
       "             Chr_37  Start_37      disease hit_tissue        rowname\n",
       "Causal_SNP                                                          \n",
       "rs111640187       5  82428995       airway     airway  chr5_82428995\n",
       "rs34064842        6  27688625  airway,hmec     airway  chr6_27688625\n",
       "rs71546575        6  27805022  airway,hmec     airway  chr6_27805022\n",
       "rs35353359        6  28324378  airway,hmec     airway  chr6_28324378\n",
       "rs3095311         6  31051675       airway     airway  chr6_31051675"
      ]
     },
     "execution_count": 10,
     "metadata": {},
     "output_type": "execute_result"
    }
   ],
   "source": [
    "mpra_res_df = pd.read_table('../data/external/GWAS/cancer_mpra_significant_hits_coords_1.27.21.tsv',index_col=0)\n",
    "mpra_res_df['rowname'] = 'chr'+mpra_res_df.Chr_37.map(str) + '_' +mpra_res_df.Start_37.map(str)\n",
    "# mpra_res_df = mpra_res_df.merge(lib_df[['Linked_SNP','rowname']],how='left',on='rowname' )\n",
    "mpra_res_df[:5]"
   ]
  },
  {
   "cell_type": "code",
   "execution_count": 28,
   "metadata": {},
   "outputs": [
    {
     "name": "stdout",
     "output_type": "stream",
     "text": [
      "(451, 6)\n"
     ]
    },
    {
     "data": {
      "text/plain": [
       "HMEC           147\n",
       "Airway          68\n",
       "Prostate        51\n",
       "Colon           31\n",
       "Ovarian         24\n",
       "Melanocytes     23\n",
       "Uterine         22\n",
       "GDSD6           19\n",
       "Pancreas        17\n",
       "Thyroid         16\n",
       "GM12878         16\n",
       "Astrocytes      10\n",
       "Esophageal       4\n",
       "Renal            3\n",
       "Name: mapped_tissue, dtype: int64"
      ]
     },
     "execution_count": 28,
     "metadata": {},
     "output_type": "execute_result"
    }
   ],
   "source": [
    "print(mpra_res_df.shape)\n",
    "mpra_res_df.hit_tissue.unique()\n",
    "# # from asATAC to tissue\n",
    "mpra_tissue_mapper = {\n",
    "    'Airway':'airway',\n",
    "    'Astrocytes':'ast',\n",
    "    'Colon':'colon',\n",
    "    'Esophageal':'eso',\n",
    "    'GM12878':'gm',\n",
    "    'HMEC':'hmec',\n",
    "    'GDSD6':'kc',\n",
    "    'Melanocytes':'mc',\n",
    "    'Ovarian':'ov',\n",
    "    'Pancreas':'panc',\n",
    "    'Prostate':'pros',\n",
    "    'Renal':'renal',\n",
    "    'Thyroid':'thy',\n",
    "    'Uterine':'endo'\n",
    "}\n",
    "inv_mpra_tissue_mapper = {v: k for k, v in mpra_tissue_mapper.items()}\n",
    "mpra_res_df['mapped_tissue'] = mpra_res_df.hit_tissue.map(inv_mpra_tissue_mapper )\n",
    "mpra_res_df.mapped_tissue.value_counts()"
   ]
  },
  {
   "cell_type": "code",
   "execution_count": 7,
   "metadata": {},
   "outputs": [],
   "source": [
    "# mpra_rownames_sig = list(mpra_res_df.rowname.unique())\n",
    "# len(mpra_rownames_sig)\n"
   ]
  },
  {
   "cell_type": "code",
   "execution_count": 71,
   "metadata": {},
   "outputs": [],
   "source": [
    "# num_mpra_sig_hits = mpra_res_df.rowname.unique().shape[0]\n",
    "num_lib_tested = lib_df.rowname.unique().shape[0]\n",
    "# print(num_mpra_sig_hits, num_lib_tested)"
   ]
  },
  {
   "cell_type": "markdown",
   "metadata": {},
   "source": [
    "# 1. atac"
   ]
  },
  {
   "cell_type": "code",
   "execution_count": 11,
   "metadata": {},
   "outputs": [
    {
     "data": {
      "text/plain": [
       "['../data/interim/merged/atac/Airway_merged.bed',\n",
       " '../data/interim/merged/atac/Astrocytes_merged.bed',\n",
       " '../data/interim/merged/atac/Bladder_merged.bed',\n",
       " '../data/interim/merged/atac/Colon_merged.bed',\n",
       " '../data/interim/merged/atac/Esophageal_merged.bed',\n",
       " '../data/interim/merged/atac/GDSD0_merged.bed',\n",
       " '../data/interim/merged/atac/GDSD3_merged.bed',\n",
       " '../data/interim/merged/atac/GDSD6_merged.bed',\n",
       " '../data/interim/merged/atac/GM12878_merged.bed',\n",
       " '../data/interim/merged/atac/HMEC_merged.bed',\n",
       " '../data/interim/merged/atac/Melanocytes_merged.bed',\n",
       " '../data/interim/merged/atac/Ovarian_merged.bed',\n",
       " '../data/interim/merged/atac/Pancreas_merged.bed',\n",
       " '../data/interim/merged/atac/Prostate_merged.bed',\n",
       " '../data/interim/merged/atac/Renal_merged.bed',\n",
       " '../data/interim/merged/atac/Thyroid_merged.bed',\n",
       " '../data/interim/merged/atac/Uterine_merged.bed']"
      ]
     },
     "execution_count": 11,
     "metadata": {},
     "output_type": "execute_result"
    }
   ],
   "source": [
    "atac_dir = '../data/interim/merged/atac/'\n",
    "atac_bed_files = glob.glob(os.path.join(atac_dir, '*bed'))\n",
    "atac_bed_files_sel =sorted( [ '../data/interim/merged/atac/Renal_merged.bed',\n",
    " '../data/interim/merged/atac/Prostate_merged.bed',\n",
    " '../data/interim/merged/atac/Uterine_merged.bed',\n",
    " '../data/interim/merged/atac/GDSD6_merged.bed',\n",
    " '../data/interim/merged/atac/Pancreas_merged.bed',\n",
    " '../data/interim/merged/atac/Melanocytes_merged.bed',\n",
    " '../data/interim/merged/atac/Ovarian_merged.bed',\n",
    " '../data/interim/merged/atac/Bladder_merged.bed',\n",
    " '../data/interim/merged/atac/GDSD3_merged.bed',\n",
    " '../data/interim/merged/atac/Esophageal_merged.bed',\n",
    " '../data/interim/merged/atac/GM12878_merged.bed',\n",
    " '../data/interim/merged/atac/Astrocytes_merged.bed',\n",
    " '../data/interim/merged/atac/Colon_merged.bed',\n",
    " '../data/interim/merged/atac/GDSD0_merged.bed',\n",
    " '../data/interim/merged/atac/Thyroid_merged.bed',\n",
    " '../data/interim/merged/atac/Airway_merged.bed',\n",
    " '../data/interim/merged/atac/HMEC_merged.bed'])\n",
    "atac_bed_files_sel"
   ]
  },
  {
   "cell_type": "code",
   "execution_count": 30,
   "metadata": {},
   "outputs": [],
   "source": [
    "# #testing\n",
    "# atac_file = '/Users/mguo123/Documents/pan_omics_psych/data/interim/merged/atac/SL_D0_merged.bed'\n",
    "# tissue_mapper = {\n",
    "#     'H9_D2':'H9D2',\n",
    "#     'SLC_D0':'SLC',\n",
    "#     'SL_D0':'SL',\n",
    "#     'Astrocytes':'AST1',\n",
    "#     'H9_D10':'H9D10',\n",
    "#     'H9_D0':'H9D0'\n",
    "# }\n",
    "# tissue = os.path.basename(atac_file).split('_merged')[0]\n",
    "# atac_bed = pybedtools.BedTool(atac_file)\n",
    "# lib_df_bed_atac = lib_df_bed.intersect(atac_bed).to_dataframe()\n",
    "# lib_df_bed_atac  =lib_df_bed_atac[['name']].drop_duplicates().reset_index(drop=True)\n",
    "# lib_df_bed_atac['tissue'] = tissue_mapper[tissue]\n",
    "# lib_df_bed_atac.name[lib_df_bed_atac.name.str.startswith('chr3_503')]"
   ]
  },
  {
   "cell_type": "code",
   "execution_count": 31,
   "metadata": {},
   "outputs": [],
   "source": [
    "# lib_atac_df.rowname[lib_atac_df.rowname.str.startswith('chr3_503')]"
   ]
  },
  {
   "cell_type": "code",
   "execution_count": 61,
   "metadata": {},
   "outputs": [
    {
     "name": "stdout",
     "output_type": "stream",
     "text": [
      "Airway\n",
      "lib_atac_df (3067, 2)\n",
      "Astrocytes\n",
      "lib_atac_df (4414, 2)\n",
      "Bladder\n",
      "lib_atac_df (7692, 2)\n",
      "Colon\n",
      "lib_atac_df (11160, 2)\n",
      "Esophageal\n",
      "lib_atac_df (14751, 2)\n",
      "GDSD0\n",
      "lib_atac_df (17860, 2)\n",
      "GDSD3\n",
      "lib_atac_df (21137, 2)\n",
      "GDSD6\n",
      "lib_atac_df (24326, 2)\n",
      "GM12878\n",
      "lib_atac_df (27188, 2)\n",
      "HMEC\n",
      "lib_atac_df (30094, 2)\n",
      "Melanocytes\n",
      "lib_atac_df (31847, 2)\n",
      "Ovarian\n",
      "lib_atac_df (33669, 2)\n",
      "Pancreas\n",
      "lib_atac_df (37299, 2)\n",
      "Prostate\n",
      "lib_atac_df (39143, 2)\n",
      "Renal\n",
      "lib_atac_df (42699, 2)\n",
      "Thyroid\n",
      "lib_atac_df (46083, 2)\n",
      "Uterine\n",
      "lib_atac_df (50089, 2)\n"
     ]
    }
   ],
   "source": [
    "# aside get a table which lists for all the snps whether it's in an atac peak and which tissues\n",
    "\n",
    "lib_atac_df = pd.DataFrame()\n",
    "for atac_file in sorted(atac_bed_files_sel):\n",
    "    tissue = os.path.basename(atac_file).split('_merged')[0]\n",
    "    print(tissue)\n",
    "#     if tissue not in tissue_mapper.keys():\n",
    "#         print(tissue, 'not considered')\n",
    "#         continue\n",
    "    atac_bed = pybedtools.BedTool(atac_file)\n",
    "    lib_df_bed_atac = lib_df_bed.intersect(atac_bed).to_dataframe()\n",
    "    lib_df_bed_atac  =lib_df_bed_atac[['name']].drop_duplicates().reset_index(drop=True)\n",
    "    lib_df_bed_atac['tissue'] = tissue#tissue_mapper[tissue]\n",
    "    lib_atac_df = pd.concat([lib_atac_df, lib_df_bed_atac])\n",
    "    print('lib_atac_df', lib_atac_df.shape)\n",
    "    \n",
    "lib_atac_df = lib_atac_df.groupby('name').agg({'tissue':'|'.join}).reset_index()\n",
    "lib_atac_df.columns = ['rowname','atac_tissues']\n",
    "lib_atac_df['bool_in_atac_pk'] = True\n",
    "lib_atac_df.to_csv(os.path.join(save_dir,'lib_atac_annotation.csv'))"
   ]
  },
  {
   "cell_type": "code",
   "execution_count": 78,
   "metadata": {},
   "outputs": [
    {
     "data": {
      "text/html": [
       "<div>\n",
       "<style scoped>\n",
       "    .dataframe tbody tr th:only-of-type {\n",
       "        vertical-align: middle;\n",
       "    }\n",
       "\n",
       "    .dataframe tbody tr th {\n",
       "        vertical-align: top;\n",
       "    }\n",
       "\n",
       "    .dataframe thead th {\n",
       "        text-align: right;\n",
       "    }\n",
       "</style>\n",
       "<table border=\"1\" class=\"dataframe\">\n",
       "  <thead>\n",
       "    <tr style=\"text-align: right;\">\n",
       "      <th></th>\n",
       "      <th>rowname</th>\n",
       "      <th>atac_tissues</th>\n",
       "      <th>bool_in_atac_pk</th>\n",
       "    </tr>\n",
       "  </thead>\n",
       "  <tbody>\n",
       "    <tr>\n",
       "      <td>0</td>\n",
       "      <td>chr10_101860630</td>\n",
       "      <td>Uterine</td>\n",
       "      <td>True</td>\n",
       "    </tr>\n",
       "    <tr>\n",
       "      <td>1</td>\n",
       "      <td>chr10_101860631</td>\n",
       "      <td>Uterine</td>\n",
       "      <td>True</td>\n",
       "    </tr>\n",
       "    <tr>\n",
       "      <td>2</td>\n",
       "      <td>chr10_101946033</td>\n",
       "      <td>Airway|Astrocytes|Bladder|Colon|Esophageal|GDS...</td>\n",
       "      <td>True</td>\n",
       "    </tr>\n",
       "    <tr>\n",
       "      <td>3</td>\n",
       "      <td>chr10_101989509</td>\n",
       "      <td>Airway|Astrocytes|Bladder|Colon|Esophageal|GDS...</td>\n",
       "      <td>True</td>\n",
       "    </tr>\n",
       "    <tr>\n",
       "      <td>4</td>\n",
       "      <td>chr10_101989510</td>\n",
       "      <td>Airway|Astrocytes|Bladder|Colon|Esophageal|GDS...</td>\n",
       "      <td>True</td>\n",
       "    </tr>\n",
       "  </tbody>\n",
       "</table>\n",
       "</div>"
      ],
      "text/plain": [
       "           rowname                                       atac_tissues  \\\n",
       "0  chr10_101860630                                            Uterine   \n",
       "1  chr10_101860631                                            Uterine   \n",
       "2  chr10_101946033  Airway|Astrocytes|Bladder|Colon|Esophageal|GDS...   \n",
       "3  chr10_101989509  Airway|Astrocytes|Bladder|Colon|Esophageal|GDS...   \n",
       "4  chr10_101989510  Airway|Astrocytes|Bladder|Colon|Esophageal|GDS...   \n",
       "\n",
       "   bool_in_atac_pk  \n",
       "0             True  \n",
       "1             True  \n",
       "2             True  \n",
       "3             True  \n",
       "4             True  "
      ]
     },
     "metadata": {},
     "output_type": "display_data"
    },
    {
     "data": {
      "text/plain": [
       "((7125, 3), (38031, 4))"
      ]
     },
     "execution_count": 78,
     "metadata": {},
     "output_type": "execute_result"
    }
   ],
   "source": [
    "display(lib_atac_df[:5])\n",
    "lib_atac_df.shape, lib_df_bed_df.shape"
   ]
  },
  {
   "cell_type": "code",
   "execution_count": 63,
   "metadata": {},
   "outputs": [
    {
     "data": {
      "text/plain": [
       "['../data/processed/vcf_files/atac/Airway_postvqsr.vcf',\n",
       " '../data/processed/vcf_files/atac/Astrocytes_postvqsr.vcf',\n",
       " '../data/processed/vcf_files/atac/Bladder_postvqsr.vcf',\n",
       " '../data/processed/vcf_files/atac/Colon_postvqsr.vcf',\n",
       " '../data/processed/vcf_files/atac/Esophageal_postvqsr.vcf',\n",
       " '../data/processed/vcf_files/atac/GDSD0_postvqsr.vcf',\n",
       " '../data/processed/vcf_files/atac/GDSD3_postvqsr.vcf',\n",
       " '../data/processed/vcf_files/atac/GDSD6_postvqsr.vcf',\n",
       " '../data/processed/vcf_files/atac/GM12878_postvqsr.vcf',\n",
       " '../data/processed/vcf_files/atac/HMEC_postvqsr.vcf',\n",
       " '../data/processed/vcf_files/atac/Melanocytes_postvqsr.vcf',\n",
       " '../data/processed/vcf_files/atac/Ovarian_postvqsr.vcf',\n",
       " '../data/processed/vcf_files/atac/Pancreas_postvqsr.vcf',\n",
       " '../data/processed/vcf_files/atac/Prostate_postvqsr.vcf',\n",
       " '../data/processed/vcf_files/atac/Renal_postvqsr.vcf',\n",
       " '../data/processed/vcf_files/atac/Thyroid_postvqsr.vcf',\n",
       " '../data/processed/vcf_files/atac/Uterine_postvqsr.vcf']"
      ]
     },
     "execution_count": 63,
     "metadata": {},
     "output_type": "execute_result"
    }
   ],
   "source": [
    "vcf_files = sorted(glob.glob('../data/processed/vcf_files/atac/*vcf'))\n",
    "vcf_files "
   ]
  },
  {
   "cell_type": "code",
   "execution_count": 64,
   "metadata": {},
   "outputs": [
    {
     "name": "stdout",
     "output_type": "stream",
     "text": [
      "Airway\n",
      "Astrocytes\n",
      "Bladder\n",
      "Colon\n",
      "Esophageal\n",
      "GDSD0\n",
      "GDSD3\n",
      "GDSD6\n",
      "GM12878\n",
      "HMEC\n",
      "Melanocytes\n",
      "Ovarian\n",
      "Pancreas\n",
      "Prostate\n",
      "Renal\n",
      "Thyroid\n",
      "Uterine\n"
     ]
    }
   ],
   "source": [
    "tissues = []\n",
    "for vcf_file in vcf_files:\n",
    "    tissue = os.path.basename(vcf_file).split('_post')[0]\n",
    "    print(tissue)\n",
    "    tissues.append(tissue)"
   ]
  },
  {
   "cell_type": "code",
   "execution_count": 86,
   "metadata": {},
   "outputs": [
    {
     "data": {
      "text/plain": [
       "{'Airway': 'Airway',\n",
       " 'Astrocytes': 'Astrocytes',\n",
       " 'Bladder': 'Bladder',\n",
       " 'Colon': 'Colon',\n",
       " 'Esophageal': 'Esophageal',\n",
       " 'GDSD0': 'GDSD0',\n",
       " 'GDSD3': 'GDSD3',\n",
       " 'GDSD6': 'GDSD6',\n",
       " 'GM12878': 'GM12878',\n",
       " 'HMEC': 'HMEC',\n",
       " 'Melanocytes': 'Melanocytes',\n",
       " 'Ovarian': 'Ovarian',\n",
       " 'Pancreas': 'Pancreas',\n",
       " 'Prostate': 'Prostate',\n",
       " 'Renal': 'Renal',\n",
       " 'Thyroid': 'Thyroid',\n",
       " 'Uterine': 'Uterine'}"
      ]
     },
     "execution_count": 86,
     "metadata": {},
     "output_type": "execute_result"
    }
   ],
   "source": [
    "atac_tissue_mapper = dict(zip(tissues,tissues))\n",
    "atac_tissue_mapper"
   ]
  },
  {
   "cell_type": "code",
   "execution_count": 66,
   "metadata": {},
   "outputs": [],
   "source": [
    "### FROM TESTING\n",
    "# vcf_df[:5]"
   ]
  },
  {
   "cell_type": "markdown",
   "metadata": {},
   "source": [
    "hypergeometric test between two sets\n",
    "- phyper=(overlap-1,list1,PopSize-list1,list2,lower.tail = FALSE, log.p = FALSE)\n",
    "- scipy.stats.hypergeom.cdf(overlap, pop, list1, list2)\n",
    "\n",
    "- \n",
    "phyper=(88,598,23000-598,5500,lower.tail = FALSE, log.p = FALSE)"
   ]
  },
  {
   "cell_type": "code",
   "execution_count": 39,
   "metadata": {},
   "outputs": [],
   "source": [
    "def hypergeometric_test(x, M, n, N):\n",
    "    \"\"\"\n",
    "    The hypergeometric distribution models drawing objects from a bin.\n",
    "    - M is total number of objects\n",
    "    - n is total number of Type I objects. \n",
    "    - x (random variate) represents the number of Type I objects in N drawn without replacement from the total population\n",
    "\n",
    "    - http://en.wikipedia.org/wiki/Hypergeometric_distribution\n",
    "    - https://www.biostars.org/p/66729/\n",
    "    - http://docs.scipy.org/doc/scipy-0.14.0/reference/generated/scipy.stats.hypergeom.html\n",
    "    - http://docs.scipy.org/doc/numpy/reference/generated/numpy.random.hypergeometric.html\n",
    "    - http://stackoverflow.com/questions/6594840/what-are-equivalents-to-rs-phyper-function-in-python\n",
    "    \"\"\"\n",
    "\n",
    "    assert n <= M\n",
    "    assert x <= n\n",
    "    assert N <= M\n",
    "#     pv_le = stats.hypergeom.cdf(x+1, M, n, N)\n",
    "    pv_gt = stats.hypergeom.sf(x-1, M, n, N)# 1-cdf sometimes more accurate\n",
    "    return pv_gt#pv_gt pv_gt \n"
   ]
  },
  {
   "cell_type": "markdown",
   "metadata": {},
   "source": [
    "hyper geometric test 1\n",
    "- check overlap between geneset of all asATAC snp locations with location with all of library snps over background of total # of snps? \n",
    "- check overlap between geneset of asATAC snps (tissue specific) in the library with the mpra hits in the library (tissue specific) \n",
    "- check overlap between geneset of asATAC snps (overall tissues) in the library with the mpra hits in the library all tissues)\n"
   ]
  },
  {
   "cell_type": "code",
   "execution_count": null,
   "metadata": {},
   "outputs": [],
   "source": []
  },
  {
   "cell_type": "code",
   "execution_count": 90,
   "metadata": {
    "collapsed": true,
    "jupyter": {
     "outputs_hidden": true
    }
   },
   "outputs": [
    {
     "name": "stdout",
     "output_type": "stream",
     "text": [
      "************\n",
      "Airway\n",
      "read ../data/processed/vcf_files/atac/Airway_postvqsr.vcf\n",
      "shape (75646, 11)\n",
      "num_vcf_hits PRE FILTER 75646\n"
     ]
    },
    {
     "name": "stderr",
     "output_type": "stream",
     "text": [
      "/Users/mguo123/opt/anaconda3/lib/python3.7/site-packages/ipykernel_launcher.py:17: SettingWithCopyWarning: \n",
      "A value is trying to be set on a copy of a slice from a DataFrame.\n",
      "Try using .loc[row_indexer,col_indexer] = value instead\n",
      "\n",
      "See the caveats in the documentation: http://pandas.pydata.org/pandas-docs/stable/user_guide/indexing.html#returning-a-view-versus-a-copy\n"
     ]
    },
    {
     "name": "stdout",
     "output_type": "stream",
     "text": [
      "num_vcf_hits POST FILTER 31211\n",
      "background library hits that are asATAC 33066 853 0.025796891066352145\n",
      "atac filter 21965 out of 31211 allele-specific atac 0.7037582903463523\n",
      "atac filter 3067 out of 33066 mpra alleles tested 0.09275388616705982\n",
      "background library hits-atac filt 3067 623 0.2031300945549397\n",
      "************\n",
      "Astrocytes\n",
      "read ../data/processed/vcf_files/atac/Astrocytes_postvqsr.vcf\n",
      "shape (59122, 11)\n"
     ]
    },
    {
     "name": "stderr",
     "output_type": "stream",
     "text": [
      "/Users/mguo123/opt/anaconda3/lib/python3.7/site-packages/pandas/core/series.py:1152: FutureWarning: \n",
      "Passing list-likes to .loc or [] with any missing label will raise\n",
      "KeyError in the future, you can use .reindex() as an alternative.\n",
      "\n",
      "See the documentation here:\n",
      "https://pandas.pydata.org/pandas-docs/stable/user_guide/indexing.html#deprecate-loc-reindex-listlike\n",
      "  return self.loc[key]\n"
     ]
    },
    {
     "name": "stdout",
     "output_type": "stream",
     "text": [
      "num_vcf_hits PRE FILTER 59122\n"
     ]
    },
    {
     "name": "stderr",
     "output_type": "stream",
     "text": [
      "/Users/mguo123/opt/anaconda3/lib/python3.7/site-packages/ipykernel_launcher.py:17: SettingWithCopyWarning: \n",
      "A value is trying to be set on a copy of a slice from a DataFrame.\n",
      "Try using .loc[row_indexer,col_indexer] = value instead\n",
      "\n",
      "See the caveats in the documentation: http://pandas.pydata.org/pandas-docs/stable/user_guide/indexing.html#returning-a-view-versus-a-copy\n"
     ]
    },
    {
     "name": "stdout",
     "output_type": "stream",
     "text": [
      "num_vcf_hits POST FILTER 21337\n",
      "background library hits that are asATAC 33066 619 0.018720135486602552\n",
      "atac filter 6353 out of 21337 allele-specific atac 0.29774569995781974\n",
      "atac filter 1347 out of 33066 mpra alleles tested 0.04073670840137906\n",
      "background library hits-atac filt 1347 218 0.16184112843355605\n",
      "************\n",
      "Bladder\n",
      "read ../data/processed/vcf_files/atac/Bladder_postvqsr.vcf\n",
      "shape (76857, 11)\n"
     ]
    },
    {
     "name": "stderr",
     "output_type": "stream",
     "text": [
      "/Users/mguo123/opt/anaconda3/lib/python3.7/site-packages/pandas/core/series.py:1152: FutureWarning: \n",
      "Passing list-likes to .loc or [] with any missing label will raise\n",
      "KeyError in the future, you can use .reindex() as an alternative.\n",
      "\n",
      "See the documentation here:\n",
      "https://pandas.pydata.org/pandas-docs/stable/user_guide/indexing.html#deprecate-loc-reindex-listlike\n",
      "  return self.loc[key]\n"
     ]
    },
    {
     "name": "stdout",
     "output_type": "stream",
     "text": [
      "num_vcf_hits PRE FILTER 76857\n"
     ]
    },
    {
     "name": "stderr",
     "output_type": "stream",
     "text": [
      "/Users/mguo123/opt/anaconda3/lib/python3.7/site-packages/ipykernel_launcher.py:17: SettingWithCopyWarning: \n",
      "A value is trying to be set on a copy of a slice from a DataFrame.\n",
      "Try using .loc[row_indexer,col_indexer] = value instead\n",
      "\n",
      "See the caveats in the documentation: http://pandas.pydata.org/pandas-docs/stable/user_guide/indexing.html#returning-a-view-versus-a-copy\n"
     ]
    },
    {
     "name": "stdout",
     "output_type": "stream",
     "text": [
      "num_vcf_hits POST FILTER 26112\n",
      "background library hits that are asATAC 33066 708 0.021411722010524405\n",
      "atac filter 18865 out of 26112 allele-specific atac 0.7224647671568627\n",
      "atac filter 3278 out of 33066 mpra alleles tested 0.09913506320691949\n",
      "background library hits-atac filt 3278 526 0.16046369737644905\n",
      "************\n",
      "Colon\n",
      "read ../data/processed/vcf_files/atac/Colon_postvqsr.vcf\n",
      "shape (81035, 11)\n"
     ]
    },
    {
     "name": "stderr",
     "output_type": "stream",
     "text": [
      "/Users/mguo123/opt/anaconda3/lib/python3.7/site-packages/pandas/core/series.py:1152: FutureWarning: \n",
      "Passing list-likes to .loc or [] with any missing label will raise\n",
      "KeyError in the future, you can use .reindex() as an alternative.\n",
      "\n",
      "See the documentation here:\n",
      "https://pandas.pydata.org/pandas-docs/stable/user_guide/indexing.html#deprecate-loc-reindex-listlike\n",
      "  return self.loc[key]\n"
     ]
    },
    {
     "name": "stdout",
     "output_type": "stream",
     "text": [
      "num_vcf_hits PRE FILTER 81035\n"
     ]
    },
    {
     "name": "stderr",
     "output_type": "stream",
     "text": [
      "/Users/mguo123/opt/anaconda3/lib/python3.7/site-packages/ipykernel_launcher.py:17: SettingWithCopyWarning: \n",
      "A value is trying to be set on a copy of a slice from a DataFrame.\n",
      "Try using .loc[row_indexer,col_indexer] = value instead\n",
      "\n",
      "See the caveats in the documentation: http://pandas.pydata.org/pandas-docs/stable/user_guide/indexing.html#returning-a-view-versus-a-copy\n"
     ]
    },
    {
     "name": "stdout",
     "output_type": "stream",
     "text": [
      "num_vcf_hits POST FILTER 26331\n",
      "background library hits that are asATAC 33066 650 0.01965765438819331\n",
      "atac filter 19110 out of 26331 allele-specific atac 0.7257605104249744\n",
      "atac filter 3468 out of 33066 mpra alleles tested 0.10488114679731446\n",
      "background library hits-atac filt 3468 484 0.1395617070357555\n",
      "************\n",
      "Esophageal\n",
      "read ../data/processed/vcf_files/atac/Esophageal_postvqsr.vcf\n",
      "shape (80599, 11)\n"
     ]
    },
    {
     "name": "stderr",
     "output_type": "stream",
     "text": [
      "/Users/mguo123/opt/anaconda3/lib/python3.7/site-packages/pandas/core/series.py:1152: FutureWarning: \n",
      "Passing list-likes to .loc or [] with any missing label will raise\n",
      "KeyError in the future, you can use .reindex() as an alternative.\n",
      "\n",
      "See the documentation here:\n",
      "https://pandas.pydata.org/pandas-docs/stable/user_guide/indexing.html#deprecate-loc-reindex-listlike\n",
      "  return self.loc[key]\n"
     ]
    },
    {
     "name": "stdout",
     "output_type": "stream",
     "text": [
      "num_vcf_hits PRE FILTER 80599\n"
     ]
    },
    {
     "name": "stderr",
     "output_type": "stream",
     "text": [
      "/Users/mguo123/opt/anaconda3/lib/python3.7/site-packages/ipykernel_launcher.py:17: SettingWithCopyWarning: \n",
      "A value is trying to be set on a copy of a slice from a DataFrame.\n",
      "Try using .loc[row_indexer,col_indexer] = value instead\n",
      "\n",
      "See the caveats in the documentation: http://pandas.pydata.org/pandas-docs/stable/user_guide/indexing.html#returning-a-view-versus-a-copy\n"
     ]
    },
    {
     "name": "stdout",
     "output_type": "stream",
     "text": [
      "num_vcf_hits POST FILTER 26104\n",
      "background library hits that are asATAC 33066 635 0.019204016210004234\n",
      "atac filter 19586 out of 26104 allele-specific atac 0.7503064664419246\n",
      "atac filter 3591 out of 33066 mpra alleles tested 0.10860097985846488\n",
      "background library hits-atac filt 3591 485 0.13505987190197716\n",
      "************\n",
      "GDSD0\n",
      "read ../data/processed/vcf_files/atac/GDSD0_postvqsr.vcf\n",
      "shape (66677, 11)\n"
     ]
    },
    {
     "name": "stderr",
     "output_type": "stream",
     "text": [
      "/Users/mguo123/opt/anaconda3/lib/python3.7/site-packages/pandas/core/series.py:1152: FutureWarning: \n",
      "Passing list-likes to .loc or [] with any missing label will raise\n",
      "KeyError in the future, you can use .reindex() as an alternative.\n",
      "\n",
      "See the documentation here:\n",
      "https://pandas.pydata.org/pandas-docs/stable/user_guide/indexing.html#deprecate-loc-reindex-listlike\n",
      "  return self.loc[key]\n"
     ]
    },
    {
     "name": "stdout",
     "output_type": "stream",
     "text": [
      "num_vcf_hits PRE FILTER 66677\n"
     ]
    },
    {
     "name": "stderr",
     "output_type": "stream",
     "text": [
      "/Users/mguo123/opt/anaconda3/lib/python3.7/site-packages/ipykernel_launcher.py:17: SettingWithCopyWarning: \n",
      "A value is trying to be set on a copy of a slice from a DataFrame.\n",
      "Try using .loc[row_indexer,col_indexer] = value instead\n",
      "\n",
      "See the caveats in the documentation: http://pandas.pydata.org/pandas-docs/stable/user_guide/indexing.html#returning-a-view-versus-a-copy\n"
     ]
    },
    {
     "name": "stdout",
     "output_type": "stream",
     "text": [
      "num_vcf_hits POST FILTER 24220\n",
      "background library hits that are asATAC 33066 654 0.01977862456904373\n",
      "atac filter 14145 out of 24220 allele-specific atac 0.5840214698596201\n",
      "atac filter 3109 out of 33066 mpra alleles tested 0.09402407306598923\n",
      "background library hits-atac filt 3109 430 0.138308137664844\n",
      "************\n",
      "GDSD3\n",
      "read ../data/processed/vcf_files/atac/GDSD3_postvqsr.vcf\n",
      "shape (72690, 11)\n"
     ]
    },
    {
     "name": "stderr",
     "output_type": "stream",
     "text": [
      "/Users/mguo123/opt/anaconda3/lib/python3.7/site-packages/pandas/core/series.py:1152: FutureWarning: \n",
      "Passing list-likes to .loc or [] with any missing label will raise\n",
      "KeyError in the future, you can use .reindex() as an alternative.\n",
      "\n",
      "See the documentation here:\n",
      "https://pandas.pydata.org/pandas-docs/stable/user_guide/indexing.html#deprecate-loc-reindex-listlike\n",
      "  return self.loc[key]\n"
     ]
    },
    {
     "name": "stdout",
     "output_type": "stream",
     "text": [
      "num_vcf_hits PRE FILTER 72690\n"
     ]
    },
    {
     "name": "stderr",
     "output_type": "stream",
     "text": [
      "/Users/mguo123/opt/anaconda3/lib/python3.7/site-packages/ipykernel_launcher.py:17: SettingWithCopyWarning: \n",
      "A value is trying to be set on a copy of a slice from a DataFrame.\n",
      "Try using .loc[row_indexer,col_indexer] = value instead\n",
      "\n",
      "See the caveats in the documentation: http://pandas.pydata.org/pandas-docs/stable/user_guide/indexing.html#returning-a-view-versus-a-copy\n"
     ]
    },
    {
     "name": "stdout",
     "output_type": "stream",
     "text": [
      "num_vcf_hits POST FILTER 26235\n",
      "background library hits that are asATAC 33066 651 0.019687896933405915\n",
      "atac filter 16438 out of 26235 allele-specific atac 0.626567562416619\n",
      "atac filter 3277 out of 33066 mpra alleles tested 0.0991048206617069\n",
      "background library hits-atac filt 3277 415 0.12664021971315229\n",
      "************\n",
      "GDSD6\n",
      "read ../data/processed/vcf_files/atac/GDSD6_postvqsr.vcf\n",
      "shape (71290, 11)\n"
     ]
    },
    {
     "name": "stderr",
     "output_type": "stream",
     "text": [
      "/Users/mguo123/opt/anaconda3/lib/python3.7/site-packages/pandas/core/series.py:1152: FutureWarning: \n",
      "Passing list-likes to .loc or [] with any missing label will raise\n",
      "KeyError in the future, you can use .reindex() as an alternative.\n",
      "\n",
      "See the documentation here:\n",
      "https://pandas.pydata.org/pandas-docs/stable/user_guide/indexing.html#deprecate-loc-reindex-listlike\n",
      "  return self.loc[key]\n"
     ]
    },
    {
     "name": "stdout",
     "output_type": "stream",
     "text": [
      "num_vcf_hits PRE FILTER 71290\n"
     ]
    },
    {
     "name": "stderr",
     "output_type": "stream",
     "text": [
      "/Users/mguo123/opt/anaconda3/lib/python3.7/site-packages/ipykernel_launcher.py:17: SettingWithCopyWarning: \n",
      "A value is trying to be set on a copy of a slice from a DataFrame.\n",
      "Try using .loc[row_indexer,col_indexer] = value instead\n",
      "\n",
      "See the caveats in the documentation: http://pandas.pydata.org/pandas-docs/stable/user_guide/indexing.html#returning-a-view-versus-a-copy\n"
     ]
    },
    {
     "name": "stdout",
     "output_type": "stream",
     "text": [
      "num_vcf_hits POST FILTER 25634\n",
      "background library hits that are asATAC 33066 645 0.019506441662130284\n",
      "atac filter 16106 out of 25634 allele-specific atac 0.628306155886713\n",
      "atac filter 3189 out of 33066 mpra alleles tested 0.09644347668299764\n",
      "background library hits-atac filt 3189 409 0.12825337096268422\n",
      "************\n",
      "GM12878\n",
      "read ../data/processed/vcf_files/atac/GM12878_postvqsr.vcf\n",
      "shape (63362, 11)\n"
     ]
    },
    {
     "name": "stderr",
     "output_type": "stream",
     "text": [
      "/Users/mguo123/opt/anaconda3/lib/python3.7/site-packages/pandas/core/series.py:1152: FutureWarning: \n",
      "Passing list-likes to .loc or [] with any missing label will raise\n",
      "KeyError in the future, you can use .reindex() as an alternative.\n",
      "\n",
      "See the documentation here:\n",
      "https://pandas.pydata.org/pandas-docs/stable/user_guide/indexing.html#deprecate-loc-reindex-listlike\n",
      "  return self.loc[key]\n"
     ]
    },
    {
     "name": "stdout",
     "output_type": "stream",
     "text": [
      "num_vcf_hits PRE FILTER 63362\n"
     ]
    },
    {
     "name": "stderr",
     "output_type": "stream",
     "text": [
      "/Users/mguo123/opt/anaconda3/lib/python3.7/site-packages/ipykernel_launcher.py:17: SettingWithCopyWarning: \n",
      "A value is trying to be set on a copy of a slice from a DataFrame.\n",
      "Try using .loc[row_indexer,col_indexer] = value instead\n",
      "\n",
      "See the caveats in the documentation: http://pandas.pydata.org/pandas-docs/stable/user_guide/indexing.html#returning-a-view-versus-a-copy\n"
     ]
    },
    {
     "name": "stdout",
     "output_type": "stream",
     "text": [
      "num_vcf_hits POST FILTER 23755\n",
      "background library hits that are asATAC 33066 740 0.022379483457327768\n",
      "atac filter 18484 out of 23755 allele-specific atac 0.7781098716059777\n",
      "atac filter 2862 out of 33066 mpra alleles tested 0.08655416439847577\n",
      "background library hits-atac filt 2862 573 0.20020964360587\n",
      "************\n",
      "HMEC\n",
      "read ../data/processed/vcf_files/atac/HMEC_postvqsr.vcf\n",
      "shape (59800, 11)\n"
     ]
    },
    {
     "name": "stderr",
     "output_type": "stream",
     "text": [
      "/Users/mguo123/opt/anaconda3/lib/python3.7/site-packages/pandas/core/series.py:1152: FutureWarning: \n",
      "Passing list-likes to .loc or [] with any missing label will raise\n",
      "KeyError in the future, you can use .reindex() as an alternative.\n",
      "\n",
      "See the documentation here:\n",
      "https://pandas.pydata.org/pandas-docs/stable/user_guide/indexing.html#deprecate-loc-reindex-listlike\n",
      "  return self.loc[key]\n"
     ]
    },
    {
     "name": "stdout",
     "output_type": "stream",
     "text": [
      "num_vcf_hits PRE FILTER 59800\n"
     ]
    },
    {
     "name": "stderr",
     "output_type": "stream",
     "text": [
      "/Users/mguo123/opt/anaconda3/lib/python3.7/site-packages/ipykernel_launcher.py:17: SettingWithCopyWarning: \n",
      "A value is trying to be set on a copy of a slice from a DataFrame.\n",
      "Try using .loc[row_indexer,col_indexer] = value instead\n",
      "\n",
      "See the caveats in the documentation: http://pandas.pydata.org/pandas-docs/stable/user_guide/indexing.html#returning-a-view-versus-a-copy\n"
     ]
    },
    {
     "name": "stdout",
     "output_type": "stream",
     "text": [
      "num_vcf_hits POST FILTER 22109\n",
      "background library hits that are asATAC 33066 602 0.018206012217988267\n",
      "atac filter 14196 out of 22109 allele-specific atac 0.6420914559681578\n",
      "atac filter 2906 out of 33066 mpra alleles tested 0.0878848363878304\n",
      "background library hits-atac filt 2906 402 0.1383344803854095\n",
      "************\n",
      "Melanocytes\n",
      "read ../data/processed/vcf_files/atac/Melanocytes_postvqsr.vcf\n",
      "shape (66427, 11)\n"
     ]
    },
    {
     "name": "stderr",
     "output_type": "stream",
     "text": [
      "/Users/mguo123/opt/anaconda3/lib/python3.7/site-packages/pandas/core/series.py:1152: FutureWarning: \n",
      "Passing list-likes to .loc or [] with any missing label will raise\n",
      "KeyError in the future, you can use .reindex() as an alternative.\n",
      "\n",
      "See the documentation here:\n",
      "https://pandas.pydata.org/pandas-docs/stable/user_guide/indexing.html#deprecate-loc-reindex-listlike\n",
      "  return self.loc[key]\n"
     ]
    },
    {
     "name": "stdout",
     "output_type": "stream",
     "text": [
      "num_vcf_hits PRE FILTER 66427\n"
     ]
    },
    {
     "name": "stderr",
     "output_type": "stream",
     "text": [
      "/Users/mguo123/opt/anaconda3/lib/python3.7/site-packages/ipykernel_launcher.py:17: SettingWithCopyWarning: \n",
      "A value is trying to be set on a copy of a slice from a DataFrame.\n",
      "Try using .loc[row_indexer,col_indexer] = value instead\n",
      "\n",
      "See the caveats in the documentation: http://pandas.pydata.org/pandas-docs/stable/user_guide/indexing.html#returning-a-view-versus-a-copy\n"
     ]
    },
    {
     "name": "stdout",
     "output_type": "stream",
     "text": [
      "num_vcf_hits POST FILTER 36822\n",
      "background library hits that are asATAC 33066 1175 0.03553499062481098\n",
      "atac filter 16954 out of 36822 allele-specific atac 0.4604312639183097\n",
      "atac filter 1753 out of 33066 mpra alleles tested 0.053015181757696726\n",
      "background library hits-atac filt 1753 587 0.33485453508271534\n",
      "************\n",
      "Ovarian\n",
      "read ../data/processed/vcf_files/atac/Ovarian_postvqsr.vcf\n",
      "shape (55824, 11)\n"
     ]
    },
    {
     "name": "stderr",
     "output_type": "stream",
     "text": [
      "/Users/mguo123/opt/anaconda3/lib/python3.7/site-packages/pandas/core/series.py:1152: FutureWarning: \n",
      "Passing list-likes to .loc or [] with any missing label will raise\n",
      "KeyError in the future, you can use .reindex() as an alternative.\n",
      "\n",
      "See the documentation here:\n",
      "https://pandas.pydata.org/pandas-docs/stable/user_guide/indexing.html#deprecate-loc-reindex-listlike\n",
      "  return self.loc[key]\n"
     ]
    },
    {
     "name": "stdout",
     "output_type": "stream",
     "text": [
      "num_vcf_hits PRE FILTER 55824\n"
     ]
    },
    {
     "name": "stderr",
     "output_type": "stream",
     "text": [
      "/Users/mguo123/opt/anaconda3/lib/python3.7/site-packages/ipykernel_launcher.py:17: SettingWithCopyWarning: \n",
      "A value is trying to be set on a copy of a slice from a DataFrame.\n",
      "Try using .loc[row_indexer,col_indexer] = value instead\n",
      "\n",
      "See the caveats in the documentation: http://pandas.pydata.org/pandas-docs/stable/user_guide/indexing.html#returning-a-view-versus-a-copy\n"
     ]
    },
    {
     "name": "stdout",
     "output_type": "stream",
     "text": [
      "num_vcf_hits POST FILTER 17853\n",
      "background library hits that are asATAC 33066 496 0.015000302425452127\n",
      "atac filter 7344 out of 17853 allele-specific atac 0.41135943538901026\n",
      "atac filter 1822 out of 33066 mpra alleles tested 0.05510191737736648\n",
      "background library hits-atac filt 1822 222 0.12184412733260154\n",
      "************\n",
      "Pancreas\n",
      "read ../data/processed/vcf_files/atac/Pancreas_postvqsr.vcf\n",
      "shape (82065, 11)\n"
     ]
    },
    {
     "name": "stderr",
     "output_type": "stream",
     "text": [
      "/Users/mguo123/opt/anaconda3/lib/python3.7/site-packages/pandas/core/series.py:1152: FutureWarning: \n",
      "Passing list-likes to .loc or [] with any missing label will raise\n",
      "KeyError in the future, you can use .reindex() as an alternative.\n",
      "\n",
      "See the documentation here:\n",
      "https://pandas.pydata.org/pandas-docs/stable/user_guide/indexing.html#deprecate-loc-reindex-listlike\n",
      "  return self.loc[key]\n"
     ]
    },
    {
     "name": "stdout",
     "output_type": "stream",
     "text": [
      "num_vcf_hits PRE FILTER 82065\n"
     ]
    },
    {
     "name": "stderr",
     "output_type": "stream",
     "text": [
      "/Users/mguo123/opt/anaconda3/lib/python3.7/site-packages/ipykernel_launcher.py:17: SettingWithCopyWarning: \n",
      "A value is trying to be set on a copy of a slice from a DataFrame.\n",
      "Try using .loc[row_indexer,col_indexer] = value instead\n",
      "\n",
      "See the caveats in the documentation: http://pandas.pydata.org/pandas-docs/stable/user_guide/indexing.html#returning-a-view-versus-a-copy\n"
     ]
    },
    {
     "name": "stdout",
     "output_type": "stream",
     "text": [
      "num_vcf_hits POST FILTER 27878\n",
      "background library hits that are asATAC 33066 678 0.020504445654146254\n",
      "atac filter 20650 out of 27878 allele-specific atac 0.7407274553411292\n",
      "atac filter 3630 out of 33066 mpra alleles tested 0.10978043912175649\n",
      "background library hits-atac filt 3630 518 0.14269972451790633\n",
      "************\n",
      "Prostate\n",
      "read ../data/processed/vcf_files/atac/Prostate_postvqsr.vcf\n",
      "shape (41596, 11)\n"
     ]
    },
    {
     "name": "stderr",
     "output_type": "stream",
     "text": [
      "/Users/mguo123/opt/anaconda3/lib/python3.7/site-packages/pandas/core/series.py:1152: FutureWarning: \n",
      "Passing list-likes to .loc or [] with any missing label will raise\n",
      "KeyError in the future, you can use .reindex() as an alternative.\n",
      "\n",
      "See the documentation here:\n",
      "https://pandas.pydata.org/pandas-docs/stable/user_guide/indexing.html#deprecate-loc-reindex-listlike\n",
      "  return self.loc[key]\n"
     ]
    },
    {
     "name": "stdout",
     "output_type": "stream",
     "text": [
      "num_vcf_hits PRE FILTER 41596\n",
      "num_vcf_hits POST FILTER 11277\n"
     ]
    },
    {
     "name": "stderr",
     "output_type": "stream",
     "text": [
      "/Users/mguo123/opt/anaconda3/lib/python3.7/site-packages/ipykernel_launcher.py:17: SettingWithCopyWarning: \n",
      "A value is trying to be set on a copy of a slice from a DataFrame.\n",
      "Try using .loc[row_indexer,col_indexer] = value instead\n",
      "\n",
      "See the caveats in the documentation: http://pandas.pydata.org/pandas-docs/stable/user_guide/indexing.html#returning-a-view-versus-a-copy\n"
     ]
    },
    {
     "name": "stdout",
     "output_type": "stream",
     "text": [
      "background library hits that are asATAC 33066 363 0.010978043912175649\n",
      "atac filter 5748 out of 11277 allele-specific atac 0.5097100292631019\n",
      "atac filter 1844 out of 33066 mpra alleles tested 0.055767253372043794\n",
      "background library hits-atac filt 1844 227 0.12310195227765727\n",
      "************\n",
      "Renal\n",
      "read ../data/processed/vcf_files/atac/Renal_postvqsr.vcf\n",
      "shape (79237, 11)\n"
     ]
    },
    {
     "name": "stderr",
     "output_type": "stream",
     "text": [
      "/Users/mguo123/opt/anaconda3/lib/python3.7/site-packages/pandas/core/series.py:1152: FutureWarning: \n",
      "Passing list-likes to .loc or [] with any missing label will raise\n",
      "KeyError in the future, you can use .reindex() as an alternative.\n",
      "\n",
      "See the documentation here:\n",
      "https://pandas.pydata.org/pandas-docs/stable/user_guide/indexing.html#deprecate-loc-reindex-listlike\n",
      "  return self.loc[key]\n"
     ]
    },
    {
     "name": "stdout",
     "output_type": "stream",
     "text": [
      "num_vcf_hits PRE FILTER 79237\n"
     ]
    },
    {
     "name": "stderr",
     "output_type": "stream",
     "text": [
      "/Users/mguo123/opt/anaconda3/lib/python3.7/site-packages/ipykernel_launcher.py:17: SettingWithCopyWarning: \n",
      "A value is trying to be set on a copy of a slice from a DataFrame.\n",
      "Try using .loc[row_indexer,col_indexer] = value instead\n",
      "\n",
      "See the caveats in the documentation: http://pandas.pydata.org/pandas-docs/stable/user_guide/indexing.html#returning-a-view-versus-a-copy\n"
     ]
    },
    {
     "name": "stdout",
     "output_type": "stream",
     "text": [
      "num_vcf_hits POST FILTER 26721\n",
      "background library hits that are asATAC 33066 662 0.020020564930744573\n",
      "atac filter 20072 out of 26721 allele-specific atac 0.7511694921597246\n",
      "atac filter 3556 out of 33066 mpra alleles tested 0.10754249077602371\n",
      "background library hits-atac filt 3556 489 0.1375140607424072\n",
      "************\n",
      "Thyroid\n",
      "read ../data/processed/vcf_files/atac/Thyroid_postvqsr.vcf\n",
      "shape (79958, 11)\n"
     ]
    },
    {
     "name": "stderr",
     "output_type": "stream",
     "text": [
      "/Users/mguo123/opt/anaconda3/lib/python3.7/site-packages/pandas/core/series.py:1152: FutureWarning: \n",
      "Passing list-likes to .loc or [] with any missing label will raise\n",
      "KeyError in the future, you can use .reindex() as an alternative.\n",
      "\n",
      "See the documentation here:\n",
      "https://pandas.pydata.org/pandas-docs/stable/user_guide/indexing.html#deprecate-loc-reindex-listlike\n",
      "  return self.loc[key]\n"
     ]
    },
    {
     "name": "stdout",
     "output_type": "stream",
     "text": [
      "num_vcf_hits PRE FILTER 79958\n"
     ]
    },
    {
     "name": "stderr",
     "output_type": "stream",
     "text": [
      "/Users/mguo123/opt/anaconda3/lib/python3.7/site-packages/ipykernel_launcher.py:17: SettingWithCopyWarning: \n",
      "A value is trying to be set on a copy of a slice from a DataFrame.\n",
      "Try using .loc[row_indexer,col_indexer] = value instead\n",
      "\n",
      "See the caveats in the documentation: http://pandas.pydata.org/pandas-docs/stable/user_guide/indexing.html#returning-a-view-versus-a-copy\n"
     ]
    },
    {
     "name": "stdout",
     "output_type": "stream",
     "text": [
      "num_vcf_hits POST FILTER 26163\n",
      "background library hits that are asATAC 33066 658 0.01989959474989415\n",
      "atac filter 18911 out of 26163 allele-specific atac 0.722814661927149\n",
      "atac filter 3384 out of 33066 mpra alleles tested 0.10234077299945564\n",
      "background library hits-atac filt 3384 482 0.14243498817966904\n",
      "************\n",
      "Uterine\n",
      "read ../data/processed/vcf_files/atac/Uterine_postvqsr.vcf\n",
      "shape (96367, 11)\n"
     ]
    },
    {
     "name": "stderr",
     "output_type": "stream",
     "text": [
      "/Users/mguo123/opt/anaconda3/lib/python3.7/site-packages/pandas/core/series.py:1152: FutureWarning: \n",
      "Passing list-likes to .loc or [] with any missing label will raise\n",
      "KeyError in the future, you can use .reindex() as an alternative.\n",
      "\n",
      "See the documentation here:\n",
      "https://pandas.pydata.org/pandas-docs/stable/user_guide/indexing.html#deprecate-loc-reindex-listlike\n",
      "  return self.loc[key]\n"
     ]
    },
    {
     "name": "stdout",
     "output_type": "stream",
     "text": [
      "num_vcf_hits PRE FILTER 96367\n"
     ]
    },
    {
     "name": "stderr",
     "output_type": "stream",
     "text": [
      "/Users/mguo123/opt/anaconda3/lib/python3.7/site-packages/ipykernel_launcher.py:17: SettingWithCopyWarning: \n",
      "A value is trying to be set on a copy of a slice from a DataFrame.\n",
      "Try using .loc[row_indexer,col_indexer] = value instead\n",
      "\n",
      "See the caveats in the documentation: http://pandas.pydata.org/pandas-docs/stable/user_guide/indexing.html#returning-a-view-versus-a-copy\n"
     ]
    },
    {
     "name": "stdout",
     "output_type": "stream",
     "text": [
      "num_vcf_hits POST FILTER 44282\n",
      "background library hits that are asATAC 33066 1111 0.03359946773120426\n",
      "atac filter 32958 out of 44282 allele-specific atac 0.7442753263176911\n",
      "atac filter 4006 out of 33066 mpra alleles tested 0.12115163612169601\n",
      "background library hits-atac filt 4006 840 0.20968547179231153\n",
      "CPU times: user 1h 29min 1s, sys: 14.5 s, total: 1h 29min 15s\n",
      "Wall time: 1h 28min 54s\n"
     ]
    }
   ],
   "source": [
    "%%time\n",
    "asatac_lib_df = pd.DataFrame()\n",
    "vcf_df_all = pd.DataFrame()\n",
    "vcf_df_lib_all = pd.DataFrame()\n",
    "vcf_df_lib_atac_all = pd.DataFrame()\n",
    "for vcf_file in sorted(vcf_files):\n",
    "    tissue = os.path.basename(vcf_file).split('_post')[0]\n",
    "    print('************')\n",
    "    print(tissue)\n",
    "    vcf_df = read_vcf(vcf_file)\n",
    "    vcf_df = pd.concat([vcf_df, vcf_df.apply(lambda x:preprocess_vcf(x,tissue),axis=1)], axis=1)\n",
    "    num_vcf_hits = vcf_df.shape[0]\n",
    "    print('num_vcf_hits PRE FILTER', num_vcf_hits)  \n",
    "    vcf_df = filter_vcf(vcf_df)\n",
    "    vcf_df['tissue'] = tissue\n",
    "    num_vcf_hits_postfilt = vcf_df.shape[0]\n",
    "    vcf_bed_df = vcf_df[['CHROM','POS','rowname']]\n",
    "    vcf_bed_df['stop'] = vcf_df.POS.map(int) + 1\n",
    "    vcf_bed_df = vcf_bed_df[['CHROM','POS','stop','rowname']]\n",
    "    vcf_bed_df.columns = ['chr','start','stop','name']\n",
    "    print('num_vcf_hits POST FILTER', num_vcf_hits_postfilt)      \n",
    "    vcf_df_all = pd.concat([vcf_df_all, vcf_df])\n",
    "\n",
    "    vcf_df_lib = vcf_df.merge(lib_df_bed_df, how='inner',on='rowname')\n",
    "    vcf_df_lib_all = pd.concat([vcf_df_lib_all, vcf_df_lib])\n",
    "    lib_hits = vcf_df_lib.rowname.unique()\n",
    "    num_lib_hits = lib_hits.shape[0]\n",
    "    print('background library hits that are asATAC', num_lib_tested,num_lib_hits, num_lib_hits/ num_lib_tested)\n",
    "    \n",
    "#     if tissue in mpra_tissue_mapper:\n",
    "#         mpra_res_df_tissue = mpra_res_df[mpra_res_df.tissue==mpra_tissue_mapper[tissue]]\n",
    "#         mpra_hits_tissue = mpra_res_df_tissue.rowname.unique()\n",
    "#         num_mpra_hits_tissue= mpra_hits_tissue.shape[0]\n",
    "# #         mpra_sig_df_lib = vcf_df.merge(mpra_res_df_tissue, how='inner',on='rowname')\n",
    "\n",
    "#         num_mpra_asatac_hits = len(set(lib_hits).intersection(set(mpra_hits_tissue)))\n",
    "#         asatac_lib_df_tissue=pd.DataFrame()\n",
    "#         asatac_lib_df_tissue['rowname'] = sorted(set(lib_hits).intersection(set(mpra_hits_tissue)))\n",
    "#         asatac_lib_df_tissue['tissue'] =  mpra_tissue_mapper[tissue]\n",
    "#         asatac_lib_df = pd.concat([asatac_lib_df, asatac_lib_df_tissue])\n",
    "#         # do a hypergeometric test between being asATAC and being an mpra hit over a background of being in the mpra dataset\n",
    "    \n",
    "#         print('mpra sig library hits in tissue ', num_mpra_hits_tissue)\n",
    "#         print('overlap:', num_mpra_asatac_hits)\n",
    "# #         oddsratio, pvalue = stats.fisher_exact([[num_lib_hits, num_lib_tested- num_lib_hits],\n",
    "# #                                                 [num_mpra_hits, num_mpra_sig_hits - num_mpra_hits]])\n",
    "# #         print('fisher for mpra and as annotation association', pvalue, oddsratio)\n",
    "#         phyper =  hypergeometric_test(num_mpra_asatac_hits, num_lib_tested, num_mpra_hits_tissue, num_lib_hits)\n",
    "#         #stats.hypergeom.cdf(num_mpra_asatac_hits, num_lib_tested, num_lib_hits, num_mpra_hits)\n",
    "#         print('hypergeometric test between being asATAC and MPRA hit over backgroun of being in mpra_dataset', phyper )\n",
    "#         phyper =  hypergeometric_test(num_mpra_asatac_hits, num_vcf_hits_postfilt, num_mpra_hits_tissue, num_lib_hits)\n",
    "#         print('hypergeometric test between being asATAC and MPRA hit over backgroun of being in an asatac', phyper )\n",
    "    \n",
    "    ## filter through atac\n",
    "    atac_tissue = atac_tissue_mapper[tissue]\n",
    "    atac_bed_file = os.path.join(atac_dir, atac_tissue+'_merged.bed')\n",
    "    if not os.path.exists(atac_bed_file):\n",
    "        print('atac file',atac_bed_file, 'does not exist')\n",
    "        continue\n",
    "    atac_bed = pybedtools.BedTool(atac_bed_file)\n",
    "\n",
    "    vcf_bed_df_atac = pybedtools.BedTool.from_dataframe(vcf_bed_df).intersect(atac_bed).to_dataframe()\n",
    "    num_atac_vcf = vcf_bed_df_atac.name.unique().shape[0]\n",
    "    print('atac filter', num_atac_vcf, 'out of', vcf_bed_df.shape[0], 'allele-specific atac', num_atac_vcf/vcf_bed_df.shape[0])\n",
    "    lib_df_bed_atac = lib_df_bed.intersect(atac_bed).to_dataframe()\n",
    "    lib_atac  = lib_df_bed_atac.name.unique()\n",
    "    num_lib_atac = lib_atac.shape[0]\n",
    "    print('atac filter', num_lib_atac, 'out of', num_lib_tested, 'mpra alleles tested', num_lib_atac/num_lib_tested)\n",
    "#     mpra_atac = lib_df_bed_atac[lib_df_bed_atac.name.isin(mpra_rownames_sig)].name.unique()\n",
    "#     num_mpra_atac = mpra_atac.shape[0]\n",
    "#     print('atac filter', num_mpra_atac, 'out of', num_mpra_sig_hits, 'mpra alleles sig',num_mpra_atac/num_mpra_sig_hits)\n",
    "    \n",
    "    vcf_df_lib_atac = vcf_bed_df_atac.merge(lib_df_bed_df, how='inner',left_on='name',right_on='rowname')\n",
    "    num_lib_hits_atac = vcf_df_lib_atac.rowname.unique().shape[0]\n",
    "    vcf_df_lib_atac_all = pd.concat([vcf_df_lib_atac_all, vcf_df_lib_atac])\n",
    "#     mpra_sig_df_lib_atac = vcf_bed_df_atac.merge(mpra_res_df, how='inner',left_on='name',right_on='rowname')\n",
    "#     num_mpra_hits_atac = mpra_sig_df_lib_atac.rowname.unique().shape[0]\n",
    "    \n",
    "    print('background library hits-atac filt', num_lib_atac,num_lib_hits_atac, num_lib_hits_atac/ num_lib_atac)\n",
    "#     print('mpra sig library hits-atac filt', num_mpra_atac,num_mpra_hits_atac, num_mpra_hits_atac/ num_mpra_atac)\n",
    "#     if tissue in mpra_tissue_mapper:\n",
    "#         mpra_hits_tissue_atac = set(mpra_hits_tissue).intersection(set(lib_atac))\n",
    "#         num_mpra_hits_tissue_atac= mpra_hits_tissue.shape[0]\n",
    "# #         mpra_sig_df_lib = vcf_df.merge(mpra_res_df_tissue, how='inner',on='rowname')\n",
    "\n",
    "#         num_mpra_asatac_filtatac_hits = len(set(lib_hits).intersection(set(mpra_hits_tissue_atac)))\n",
    "#         # do a hypergeometric test between being asATAC and being an mpra hit over a background of being in the mpra dataset\n",
    "\n",
    "#         print('mpra sig library hits in tissue atac filt ', num_mpra_hits_tissue_atac)\n",
    "#         print('overlap atac:', num_mpra_asatac_filtatac_hits)\n",
    "# #         oddsratio, pvalue = stats.fisher_exact([[num_lib_hits, num_lib_tested- num_lib_hits],\n",
    "# #                                                 [num_mpra_hits, num_mpra_sig_hits - num_mpra_hits]])\n",
    "# #         print('fisher for mpra and as annotation association', pvalue, oddsratio)\n",
    "#         phyper =  hypergeometric_test(num_mpra_asatac_filtatac_hits, num_atac_vcf, num_mpra_hits_tissue_atac, num_lib_atac)\n",
    "#         #stats.hypergeom.cdf(num_mpra_asatac_hits, num_lib_tested, num_lib_hits, num_mpra_hits)\n",
    "#         print('hypergeometric test between being asATAC and MPRA hit over backgroun of being asatac', phyper )\n",
    "\n",
    "\n",
    "        "
   ]
  },
  {
   "cell_type": "markdown",
   "metadata": {},
   "source": [
    "we can see by the % that the mpra significant hits are overenriched compared to library background\n",
    "- choice of library background can be changed to all gwas non cancer hits??? (will do next \n",
    "\n",
    "NOTE FISHER IS NOT THE RIGHT WAY TO DO IT!!! WIll need to fix ##TODO fix fisher #s\n",
    "\n",
    "\n",
    "that means that MPRA signal is semi effected by "
   ]
  },
  {
   "cell_type": "code",
   "execution_count": 91,
   "metadata": {},
   "outputs": [],
   "source": [
    "vcf_df_all.to_csv(os.path.join(save_dir, 'vcf_df_all.csv'))\n",
    "vcf_df_lib_all.to_csv(os.path.join(save_dir, 'vcf_df_lib_all.csv'))\n",
    "vcf_df_lib_atac_all.to_csv(os.path.join(save_dir, 'vcf_df_lib_atac_all.csv'))\n"
   ]
  },
  {
   "cell_type": "code",
   "execution_count": 99,
   "metadata": {},
   "outputs": [
    {
     "data": {
      "text/plain": [
       "(28936, 8)"
      ]
     },
     "execution_count": 99,
     "metadata": {},
     "output_type": "execute_result"
    }
   ],
   "source": [
    "vcf_df_lib_atac_all.shape"
   ]
  },
  {
   "cell_type": "code",
   "execution_count": 111,
   "metadata": {},
   "outputs": [
    {
     "name": "stdout",
     "output_type": "stream",
     "text": [
      "(2595, 6)\n"
     ]
    },
    {
     "data": {
      "text/html": [
       "<div>\n",
       "<style scoped>\n",
       "    .dataframe tbody tr th:only-of-type {\n",
       "        vertical-align: middle;\n",
       "    }\n",
       "\n",
       "    .dataframe tbody tr th {\n",
       "        vertical-align: top;\n",
       "    }\n",
       "\n",
       "    .dataframe thead th {\n",
       "        text-align: right;\n",
       "    }\n",
       "</style>\n",
       "<table border=\"1\" class=\"dataframe\">\n",
       "  <thead>\n",
       "    <tr style=\"text-align: right;\">\n",
       "      <th></th>\n",
       "      <th>rowname</th>\n",
       "      <th>tissue_asatac</th>\n",
       "      <th>bool_is_asatac</th>\n",
       "      <th>chr</th>\n",
       "      <th>start</th>\n",
       "      <th>stop</th>\n",
       "    </tr>\n",
       "  </thead>\n",
       "  <tbody>\n",
       "    <tr>\n",
       "      <td>0</td>\n",
       "      <td>chr10_102027407</td>\n",
       "      <td>GM12878|HMEC|Uterine</td>\n",
       "      <td>True</td>\n",
       "      <td>chr10</td>\n",
       "      <td>102027407</td>\n",
       "      <td>102027408</td>\n",
       "    </tr>\n",
       "    <tr>\n",
       "      <td>1</td>\n",
       "      <td>chr10_104228017</td>\n",
       "      <td>Colon|Pancreas</td>\n",
       "      <td>True</td>\n",
       "      <td>chr10</td>\n",
       "      <td>104228017</td>\n",
       "      <td>104228018</td>\n",
       "    </tr>\n",
       "    <tr>\n",
       "      <td>2</td>\n",
       "      <td>chr10_104239100</td>\n",
       "      <td>Bladder|Colon|Esophageal|GDSD6|Melanocytes|Pan...</td>\n",
       "      <td>True</td>\n",
       "      <td>chr10</td>\n",
       "      <td>104239100</td>\n",
       "      <td>104239101</td>\n",
       "    </tr>\n",
       "    <tr>\n",
       "      <td>3</td>\n",
       "      <td>chr10_104262628</td>\n",
       "      <td>Airway|Bladder|Colon|Esophageal|Melanocytes|Ov...</td>\n",
       "      <td>True</td>\n",
       "      <td>chr10</td>\n",
       "      <td>104262628</td>\n",
       "      <td>104262629</td>\n",
       "    </tr>\n",
       "    <tr>\n",
       "      <td>4</td>\n",
       "      <td>chr10_104263675</td>\n",
       "      <td>Airway|Bladder|Colon|Esophageal|Melanocytes|Ov...</td>\n",
       "      <td>True</td>\n",
       "      <td>chr10</td>\n",
       "      <td>104263675</td>\n",
       "      <td>104263676</td>\n",
       "    </tr>\n",
       "  </tbody>\n",
       "</table>\n",
       "</div>"
      ],
      "text/plain": [
       "           rowname                                      tissue_asatac  \\\n",
       "0  chr10_102027407                               GM12878|HMEC|Uterine   \n",
       "1  chr10_104228017                                     Colon|Pancreas   \n",
       "2  chr10_104239100  Bladder|Colon|Esophageal|GDSD6|Melanocytes|Pan...   \n",
       "3  chr10_104262628  Airway|Bladder|Colon|Esophageal|Melanocytes|Ov...   \n",
       "4  chr10_104263675  Airway|Bladder|Colon|Esophageal|Melanocytes|Ov...   \n",
       "\n",
       "   bool_is_asatac    chr      start       stop  \n",
       "0            True  chr10  102027407  102027408  \n",
       "1            True  chr10  104228017  104228018  \n",
       "2            True  chr10  104239100  104239101  \n",
       "3            True  chr10  104262628  104262629  \n",
       "4            True  chr10  104263675  104263676  "
      ]
     },
     "execution_count": 111,
     "metadata": {},
     "output_type": "execute_result"
    }
   ],
   "source": [
    "asatac_lib_df = vcf_df_lib_atac_all.merge(vcf_df_all[['rowname','tissue']],how='left',on='rowname').drop_duplicates().sort_values('tissue').groupby('rowname').agg({'tissue':'|'.join}).reset_index()\n",
    "asatac_lib_df.columns = ['rowname','tissue_asatac']\n",
    "asatac_lib_df['bool_is_asatac'] = True\n",
    "asatac_lib_df= asatac_lib_df.merge(lib_df_bed_df, how='left',on='rowname')\n",
    "asatac_lib_df.to_csv(os.path.join(save_dir,'lib_asatac_annotation_postfilter.csv'))\n",
    "print(asatac_lib_df.shape)\n",
    "asatac_lib_df[:5]"
   ]
  },
  {
   "cell_type": "markdown",
   "metadata": {},
   "source": [
    "# 1B. ATAC hypergeometric test"
   ]
  },
  {
   "cell_type": "code",
   "execution_count": 24,
   "metadata": {},
   "outputs": [],
   "source": [
    "vcf_df_all = pd.read_csv(os.path.join(save_dir, 'vcf_df_all.csv'),index_col=0)\n",
    "vcf_df_lib_all = pd.read_csv(os.path.join(save_dir, 'vcf_df_lib_all.csv'),index_col=0)\n",
    "vcf_df_lib_atac_all = pd.read_csv(os.path.join(save_dir, 'vcf_df_lib_atac_all.csv'),index_col=0)\n",
    "asatac_lib_df = pd.read_csv(os.path.join(save_dir,'lib_asatac_annotation_postfilter.csv'),index_col=0)\n"
   ]
  },
  {
   "cell_type": "code",
   "execution_count": null,
   "metadata": {},
   "outputs": [],
   "source": [
    "#         phyper =  hypergeometric_test(num_mpra_asatac_hits, num_lib_tested, num_mpra_hits_tissue, num_lib_hits)\n",
    "#         #stats.hypergeom.cdf(num_mpra_asatac_hits, num_lib_tested, num_lib_hits, num_mpra_hits)\n",
    "#         print('hypergeometric test between being asATAC and MPRA hit over backgroun of being in mpra_dataset', phyper )\n",
    "#         phyper =  hypergeometric_test(num_mpra_asatac_hits, num_vcf_hits_postfilt, num_mpra_hits_tissue, num_lib_hits)\n",
    "#         print('hypergeometric test between being asATAC and MPRA hit over backgroun of being in an asatac', phyper )\n",
    " #         # do a hypergeometric test between being asATAC and being an mpra hit over a background of being in the mpra dataset\n",
    "#     - M is total number of objects\n",
    "#     - n is total number of Type I objects. \n",
    "#     - x (random variate) represents the number of Type I objects in N drawn without replacement from the total population\n"
   ]
  },
  {
   "cell_type": "code",
   "execution_count": 26,
   "metadata": {},
   "outputs": [
    {
     "data": {
      "text/html": [
       "<div>\n",
       "<style scoped>\n",
       "    .dataframe tbody tr th:only-of-type {\n",
       "        vertical-align: middle;\n",
       "    }\n",
       "\n",
       "    .dataframe tbody tr th {\n",
       "        vertical-align: top;\n",
       "    }\n",
       "\n",
       "    .dataframe thead th {\n",
       "        text-align: right;\n",
       "    }\n",
       "</style>\n",
       "<table border=\"1\" class=\"dataframe\">\n",
       "  <thead>\n",
       "    <tr style=\"text-align: right;\">\n",
       "      <th></th>\n",
       "      <th>rowname</th>\n",
       "      <th>tissue_asatac</th>\n",
       "      <th>bool_is_asatac</th>\n",
       "      <th>chr</th>\n",
       "      <th>start</th>\n",
       "      <th>stop</th>\n",
       "    </tr>\n",
       "  </thead>\n",
       "  <tbody>\n",
       "    <tr>\n",
       "      <td>0</td>\n",
       "      <td>chr10_102027407</td>\n",
       "      <td>GM12878|HMEC|Uterine</td>\n",
       "      <td>True</td>\n",
       "      <td>chr10</td>\n",
       "      <td>102027407</td>\n",
       "      <td>102027408</td>\n",
       "    </tr>\n",
       "    <tr>\n",
       "      <td>1</td>\n",
       "      <td>chr10_104228017</td>\n",
       "      <td>Colon|Pancreas</td>\n",
       "      <td>True</td>\n",
       "      <td>chr10</td>\n",
       "      <td>104228017</td>\n",
       "      <td>104228018</td>\n",
       "    </tr>\n",
       "    <tr>\n",
       "      <td>2</td>\n",
       "      <td>chr10_104239100</td>\n",
       "      <td>Bladder|Colon|Esophageal|GDSD6|Melanocytes|Pan...</td>\n",
       "      <td>True</td>\n",
       "      <td>chr10</td>\n",
       "      <td>104239100</td>\n",
       "      <td>104239101</td>\n",
       "    </tr>\n",
       "    <tr>\n",
       "      <td>3</td>\n",
       "      <td>chr10_104262628</td>\n",
       "      <td>Airway|Bladder|Colon|Esophageal|Melanocytes|Ov...</td>\n",
       "      <td>True</td>\n",
       "      <td>chr10</td>\n",
       "      <td>104262628</td>\n",
       "      <td>104262629</td>\n",
       "    </tr>\n",
       "    <tr>\n",
       "      <td>4</td>\n",
       "      <td>chr10_104263675</td>\n",
       "      <td>Airway|Bladder|Colon|Esophageal|Melanocytes|Ov...</td>\n",
       "      <td>True</td>\n",
       "      <td>chr10</td>\n",
       "      <td>104263675</td>\n",
       "      <td>104263676</td>\n",
       "    </tr>\n",
       "    <tr>\n",
       "      <td>...</td>\n",
       "      <td>...</td>\n",
       "      <td>...</td>\n",
       "      <td>...</td>\n",
       "      <td>...</td>\n",
       "      <td>...</td>\n",
       "      <td>...</td>\n",
       "    </tr>\n",
       "    <tr>\n",
       "      <td>2590</td>\n",
       "      <td>chr9_93940390</td>\n",
       "      <td>Bladder</td>\n",
       "      <td>True</td>\n",
       "      <td>chr9</td>\n",
       "      <td>93940390</td>\n",
       "      <td>93940391</td>\n",
       "    </tr>\n",
       "    <tr>\n",
       "      <td>2591</td>\n",
       "      <td>chr9_94877836</td>\n",
       "      <td>Airway|HMEC|Ovarian</td>\n",
       "      <td>True</td>\n",
       "      <td>chr9</td>\n",
       "      <td>94877836</td>\n",
       "      <td>94877837</td>\n",
       "    </tr>\n",
       "    <tr>\n",
       "      <td>2592</td>\n",
       "      <td>chr9_96213146</td>\n",
       "      <td>Uterine</td>\n",
       "      <td>True</td>\n",
       "      <td>chr9</td>\n",
       "      <td>96213146</td>\n",
       "      <td>96213147</td>\n",
       "    </tr>\n",
       "    <tr>\n",
       "      <td>2593</td>\n",
       "      <td>chr9_96213529</td>\n",
       "      <td>Uterine</td>\n",
       "      <td>True</td>\n",
       "      <td>chr9</td>\n",
       "      <td>96213529</td>\n",
       "      <td>96213530</td>\n",
       "    </tr>\n",
       "    <tr>\n",
       "      <td>2594</td>\n",
       "      <td>chr9_96725350</td>\n",
       "      <td>Airway|Melanocytes</td>\n",
       "      <td>True</td>\n",
       "      <td>chr9</td>\n",
       "      <td>96725350</td>\n",
       "      <td>96725351</td>\n",
       "    </tr>\n",
       "  </tbody>\n",
       "</table>\n",
       "<p>2595 rows × 6 columns</p>\n",
       "</div>"
      ],
      "text/plain": [
       "              rowname                                      tissue_asatac  \\\n",
       "0     chr10_102027407                               GM12878|HMEC|Uterine   \n",
       "1     chr10_104228017                                     Colon|Pancreas   \n",
       "2     chr10_104239100  Bladder|Colon|Esophageal|GDSD6|Melanocytes|Pan...   \n",
       "3     chr10_104262628  Airway|Bladder|Colon|Esophageal|Melanocytes|Ov...   \n",
       "4     chr10_104263675  Airway|Bladder|Colon|Esophageal|Melanocytes|Ov...   \n",
       "...               ...                                                ...   \n",
       "2590    chr9_93940390                                            Bladder   \n",
       "2591    chr9_94877836                                Airway|HMEC|Ovarian   \n",
       "2592    chr9_96213146                                            Uterine   \n",
       "2593    chr9_96213529                                            Uterine   \n",
       "2594    chr9_96725350                                 Airway|Melanocytes   \n",
       "\n",
       "      bool_is_asatac    chr      start       stop  \n",
       "0               True  chr10  102027407  102027408  \n",
       "1               True  chr10  104228017  104228018  \n",
       "2               True  chr10  104239100  104239101  \n",
       "3               True  chr10  104262628  104262629  \n",
       "4               True  chr10  104263675  104263676  \n",
       "...              ...    ...        ...        ...  \n",
       "2590            True   chr9   93940390   93940391  \n",
       "2591            True   chr9   94877836   94877837  \n",
       "2592            True   chr9   96213146   96213147  \n",
       "2593            True   chr9   96213529   96213530  \n",
       "2594            True   chr9   96725350   96725351  \n",
       "\n",
       "[2595 rows x 6 columns]"
      ]
     },
     "execution_count": 26,
     "metadata": {},
     "output_type": "execute_result"
    }
   ],
   "source": [
    "mpra_res_df\n",
    "mpra_info_df[['Causal_SNP', 'rowname','disease']]\n",
    "asatac_lib_df#.columns"
   ]
  },
  {
   "cell_type": "code",
   "execution_count": 54,
   "metadata": {},
   "outputs": [
    {
     "name": "stdout",
     "output_type": "stream",
     "text": [
      "Airway\n",
      "6 5016 68 747\n",
      "hypergeometric test between being asATAC and MPRA hit in a tissue over background of being in mpra_dataset 0.9522384331479963\n",
      "Astrocytes\n",
      "2 5016 10 531\n",
      "hypergeometric test between being asATAC and MPRA hit in a tissue over background of being in mpra_dataset 0.286650396582166\n",
      "Colon\n",
      "2 5016 31 608\n",
      "hypergeometric test between being asATAC and MPRA hit in a tissue over background of being in mpra_dataset 0.9046046728017356\n",
      "Esophageal\n",
      "0 5016 4 600\n",
      "hypergeometric test between being asATAC and MPRA hit in a tissue over background of being in mpra_dataset 1.0\n",
      "GDSD6\n",
      "0 5016 19 559\n",
      "hypergeometric test between being asATAC and MPRA hit in a tissue over background of being in mpra_dataset 1.0\n",
      "GM12878\n",
      "0 5016 16 666\n",
      "hypergeometric test between being asATAC and MPRA hit in a tissue over background of being in mpra_dataset 1.0\n",
      "HMEC\n",
      "5 5016 138 517\n",
      "hypergeometric test between being asATAC and MPRA hit in a tissue over background of being in mpra_dataset 0.9991084649892193\n",
      "Melanocytes\n",
      "2 5016 23 978\n",
      "hypergeometric test between being asATAC and MPRA hit in a tissue over background of being in mpra_dataset 0.9555476377983012\n",
      "Ovarian\n",
      "0 5016 23 451\n",
      "hypergeometric test between being asATAC and MPRA hit in a tissue over background of being in mpra_dataset 1.0\n",
      "Pancreas\n",
      "1 5016 17 641\n",
      "hypergeometric test between being asATAC and MPRA hit in a tissue over background of being in mpra_dataset 0.9025415037510448\n",
      "Prostate\n",
      "0 5016 51 344\n",
      "hypergeometric test between being asATAC and MPRA hit in a tissue over background of being in mpra_dataset 1.0\n",
      "Renal\n",
      "0 5016 3 619\n",
      "hypergeometric test between being asATAC and MPRA hit in a tissue over background of being in mpra_dataset 1.0\n",
      "Thyroid\n",
      "1 5016 16 622\n",
      "hypergeometric test between being asATAC and MPRA hit in a tissue over background of being in mpra_dataset 0.8801697692916676\n",
      "Uterine\n",
      "3 5016 22 977\n",
      "hypergeometric test between being asATAC and MPRA hit in a tissue over background of being in mpra_dataset 0.8316877899636256\n"
     ]
    }
   ],
   "source": [
    "# testing for given tissue\n",
    "tissue_num_hits_dict = {}\n",
    "hits\n",
    "for tissue in sorted(mpra_tissue_mapper.keys()):\n",
    "    print(tissue)\n",
    "    mpra_tissue = mpra_tissue_mapper[tissue]\n",
    "    lib_tested_rownames = set(mpra_info_df[mpra_info_df.disease.str.contains(mpra_tissue)].rowname.values)\n",
    "    mpra_hit_rownames = set(mpra_res_df[mpra_res_df.mapped_tissue==tissue].rowname.values)\n",
    "    asatac_hit_rowanmes = set(asatac_lib_df[asatac_lib_df.tissue_asatac.str.contains(tissue)].rowname.values)\n",
    "\n",
    "\n",
    "    num_mpra_asatac_hits = len(mpra_hit_rownames.intersection(asatac_hit_rowanmes))\n",
    "    num_lib_tested =lib_df1.shape[0] #len(lib_tested_rownames)\n",
    "    num_mpra_hits = len(mpra_hit_rownames)\n",
    "    num_asatac_hits = len(asatac_hit_rowanmes)\n",
    "    print(num_mpra_asatac_hits,  num_lib_tested, num_mpra_hits, num_asatac_hits)\n",
    "    phyper =  hypergeometric_test(num_mpra_asatac_hits, num_lib_tested, num_mpra_hits, num_asatac_hits)\n",
    "    print('hypergeometric test between being asATAC and MPRA hit in a tissue over background of being in mpra_dataset', phyper )\n",
    "\n",
    "    tissue_num_hits_dict[tissue]= num_mpra_asatac_hits\n",
    "    "
   ]
  },
  {
   "cell_type": "code",
   "execution_count": 55,
   "metadata": {},
   "outputs": [
    {
     "data": {
      "text/plain": [
       "{'Airway': 6,\n",
       " 'Astrocytes': 2,\n",
       " 'Colon': 2,\n",
       " 'Esophageal': 0,\n",
       " 'GDSD6': 0,\n",
       " 'GM12878': 0,\n",
       " 'HMEC': 5,\n",
       " 'Melanocytes': 2,\n",
       " 'Ovarian': 0,\n",
       " 'Pancreas': 1,\n",
       " 'Prostate': 0,\n",
       " 'Renal': 0,\n",
       " 'Thyroid': 1,\n",
       " 'Uterine': 3}"
      ]
     },
     "execution_count": 55,
     "metadata": {},
     "output_type": "execute_result"
    }
   ],
   "source": [
    "tissue_num_hits_dict"
   ]
  },
  {
   "cell_type": "code",
   "execution_count": 52,
   "metadata": {},
   "outputs": [
    {
     "data": {
      "text/html": [
       "<div>\n",
       "<style scoped>\n",
       "    .dataframe tbody tr th:only-of-type {\n",
       "        vertical-align: middle;\n",
       "    }\n",
       "\n",
       "    .dataframe tbody tr th {\n",
       "        vertical-align: top;\n",
       "    }\n",
       "\n",
       "    .dataframe thead th {\n",
       "        text-align: right;\n",
       "    }\n",
       "</style>\n",
       "<table border=\"1\" class=\"dataframe\">\n",
       "  <thead>\n",
       "    <tr style=\"text-align: right;\">\n",
       "      <th></th>\n",
       "      <th>chr</th>\n",
       "      <th>start</th>\n",
       "      <th>stop</th>\n",
       "      <th>rsid</th>\n",
       "      <th>rowname</th>\n",
       "      <th>Causal_SNP</th>\n",
       "      <th>disease</th>\n",
       "    </tr>\n",
       "  </thead>\n",
       "  <tbody>\n",
       "    <tr>\n",
       "      <td>0</td>\n",
       "      <td>chr1</td>\n",
       "      <td>46505785</td>\n",
       "      <td>46505785</td>\n",
       "      <td>rs71062735</td>\n",
       "      <td>chr1_46505785</td>\n",
       "      <td>rs71062735</td>\n",
       "      <td>hmec</td>\n",
       "    </tr>\n",
       "    <tr>\n",
       "      <td>1</td>\n",
       "      <td>chr1</td>\n",
       "      <td>46358009</td>\n",
       "      <td>46358010</td>\n",
       "      <td>rs4539075</td>\n",
       "      <td>chr1_46358009</td>\n",
       "      <td>NaN</td>\n",
       "      <td>NaN</td>\n",
       "    </tr>\n",
       "    <tr>\n",
       "      <td>2</td>\n",
       "      <td>chr1</td>\n",
       "      <td>46361176</td>\n",
       "      <td>46361177</td>\n",
       "      <td>rs7512395</td>\n",
       "      <td>chr1_46361176</td>\n",
       "      <td>NaN</td>\n",
       "      <td>NaN</td>\n",
       "    </tr>\n",
       "    <tr>\n",
       "      <td>3</td>\n",
       "      <td>chr1</td>\n",
       "      <td>88423171</td>\n",
       "      <td>88423172</td>\n",
       "      <td>rs7514001</td>\n",
       "      <td>chr1_88423171</td>\n",
       "      <td>NaN</td>\n",
       "      <td>NaN</td>\n",
       "    </tr>\n",
       "    <tr>\n",
       "      <td>4</td>\n",
       "      <td>chr1</td>\n",
       "      <td>108368897</td>\n",
       "      <td>108368902</td>\n",
       "      <td>rs11278684</td>\n",
       "      <td>chr1_108368897</td>\n",
       "      <td>NaN</td>\n",
       "      <td>NaN</td>\n",
       "    </tr>\n",
       "    <tr>\n",
       "      <td>...</td>\n",
       "      <td>...</td>\n",
       "      <td>...</td>\n",
       "      <td>...</td>\n",
       "      <td>...</td>\n",
       "      <td>...</td>\n",
       "      <td>...</td>\n",
       "      <td>...</td>\n",
       "    </tr>\n",
       "    <tr>\n",
       "      <td>5023</td>\n",
       "      <td>chr22</td>\n",
       "      <td>40436972</td>\n",
       "      <td>40436973</td>\n",
       "      <td>rs11704416</td>\n",
       "      <td>chr22_40436972</td>\n",
       "      <td>NaN</td>\n",
       "      <td>NaN</td>\n",
       "    </tr>\n",
       "    <tr>\n",
       "      <td>5024</td>\n",
       "      <td>chr22</td>\n",
       "      <td>38568832</td>\n",
       "      <td>38568833</td>\n",
       "      <td>rs738321</td>\n",
       "      <td>chr22_38568832</td>\n",
       "      <td>NaN</td>\n",
       "      <td>NaN</td>\n",
       "    </tr>\n",
       "    <tr>\n",
       "      <td>5025</td>\n",
       "      <td>chr22</td>\n",
       "      <td>30236242</td>\n",
       "      <td>30236243</td>\n",
       "      <td>rs2105870</td>\n",
       "      <td>chr22_30236242</td>\n",
       "      <td>NaN</td>\n",
       "      <td>NaN</td>\n",
       "    </tr>\n",
       "    <tr>\n",
       "      <td>5026</td>\n",
       "      <td>chr22</td>\n",
       "      <td>40948874</td>\n",
       "      <td>40948875</td>\n",
       "      <td>rs55662398</td>\n",
       "      <td>chr22_40948874</td>\n",
       "      <td>NaN</td>\n",
       "      <td>NaN</td>\n",
       "    </tr>\n",
       "    <tr>\n",
       "      <td>5027</td>\n",
       "      <td>chr22</td>\n",
       "      <td>40889907</td>\n",
       "      <td>40889908</td>\n",
       "      <td>rs77426923</td>\n",
       "      <td>chr22_40889907</td>\n",
       "      <td>NaN</td>\n",
       "      <td>NaN</td>\n",
       "    </tr>\n",
       "  </tbody>\n",
       "</table>\n",
       "<p>5028 rows × 7 columns</p>\n",
       "</div>"
      ],
      "text/plain": [
       "        chr      start       stop        rsid         rowname  Causal_SNP  \\\n",
       "0      chr1   46505785   46505785  rs71062735   chr1_46505785  rs71062735   \n",
       "1      chr1   46358009   46358010   rs4539075   chr1_46358009         NaN   \n",
       "2      chr1   46361176   46361177   rs7512395   chr1_46361176         NaN   \n",
       "3      chr1   88423171   88423172   rs7514001   chr1_88423171         NaN   \n",
       "4      chr1  108368897  108368902  rs11278684  chr1_108368897         NaN   \n",
       "...     ...        ...        ...         ...             ...         ...   \n",
       "5023  chr22   40436972   40436973  rs11704416  chr22_40436972         NaN   \n",
       "5024  chr22   38568832   38568833    rs738321  chr22_38568832         NaN   \n",
       "5025  chr22   30236242   30236243   rs2105870  chr22_30236242         NaN   \n",
       "5026  chr22   40948874   40948875  rs55662398  chr22_40948874         NaN   \n",
       "5027  chr22   40889907   40889908  rs77426923  chr22_40889907         NaN   \n",
       "\n",
       "     disease  \n",
       "0       hmec  \n",
       "1        NaN  \n",
       "2        NaN  \n",
       "3        NaN  \n",
       "4        NaN  \n",
       "...      ...  \n",
       "5023     NaN  \n",
       "5024     NaN  \n",
       "5025     NaN  \n",
       "5026     NaN  \n",
       "5027     NaN  \n",
       "\n",
       "[5028 rows x 7 columns]"
      ]
     },
     "execution_count": 52,
     "metadata": {},
     "output_type": "execute_result"
    }
   ],
   "source": [
    "lib_df1.merge(mpra_info_df[['Causal_SNP', 'rowname','disease']],how='left',on='rowname')"
   ]
  },
  {
   "cell_type": "markdown",
   "metadata": {},
   "source": [
    "# 2. Hichip"
   ]
  },
  {
   "cell_type": "code",
   "execution_count": 112,
   "metadata": {},
   "outputs": [
    {
     "data": {
      "text/plain": [
       "['../data/interim/merged/anchors_bed_sort/COLO_SCR_DMSO_sort.bed',\n",
       " '../data/interim/merged/anchors_bed_sort/Ovarian_sort.bed',\n",
       " '../data/interim/merged/anchors_bed_sort/GDSD3_sort.bed',\n",
       " '../data/interim/merged/anchors_bed_sort/COLO_shMITF_DMSO_sort.bed',\n",
       " '../data/interim/merged/anchors_bed_sort/Melanocytes_sort.bed',\n",
       " '../data/interim/merged/anchors_bed_sort/Pancreas_sort.bed',\n",
       " '../data/interim/merged/anchors_bed_sort/Colon_sort.bed',\n",
       " '../data/interim/merged/anchors_bed_sort/SCC13-CTRLi_sort.bed',\n",
       " '../data/interim/merged/anchors_bed_sort/CAL27-CTRLi_sort.bed',\n",
       " '../data/interim/merged/anchors_bed_sort/Thyroid_sort.bed',\n",
       " '../data/interim/merged/anchors_bed_sort/Uterine_sort.bed',\n",
       " '../data/interim/merged/anchors_bed_sort/D6-p63i_sort.bed',\n",
       " '../data/interim/merged/anchors_bed_sort/GM12878_sort.bed',\n",
       " '../data/interim/merged/anchors_bed_sort/HMEC_sort.bed',\n",
       " '../data/interim/merged/anchors_bed_sort/A431-p63i_sort.bed',\n",
       " '../data/interim/merged/anchors_bed_sort/Astrocytes_sort.bed',\n",
       " '../data/interim/merged/anchors_bed_sort/D3-p63i_sort.bed',\n",
       " '../data/interim/merged/anchors_bed_sort/D0-CTRLi_sort.bed',\n",
       " '../data/interim/merged/anchors_bed_sort/Airway_sort.bed',\n",
       " '../data/interim/merged/anchors_bed_sort/GDSD0_sort.bed',\n",
       " '../data/interim/merged/anchors_bed_sort/SCC13-p63i_sort.bed',\n",
       " '../data/interim/merged/anchors_bed_sort/D0-p63i_sort.bed',\n",
       " '../data/interim/merged/anchors_bed_sort/WM_SCR_DMSO_sort.bed',\n",
       " '../data/interim/merged/anchors_bed_sort/D6-CTRLi_sort.bed',\n",
       " '../data/interim/merged/anchors_bed_sort/WM_shMITF_PLX_sort.bed',\n",
       " '../data/interim/merged/anchors_bed_sort/GDSD6_sort.bed',\n",
       " '../data/interim/merged/anchors_bed_sort/A431-CTRLi_sort.bed',\n",
       " '../data/interim/merged/anchors_bed_sort/Renal_sort.bed',\n",
       " '../data/interim/merged/anchors_bed_sort/D3-CTRLi_sort.bed',\n",
       " '../data/interim/merged/anchors_bed_sort/WM_SCR_PLX_sort.bed',\n",
       " '../data/interim/merged/anchors_bed_sort/CAL27-p63i_sort.bed',\n",
       " '../data/interim/merged/anchors_bed_sort/Bladder_sort.bed',\n",
       " '../data/interim/merged/anchors_bed_sort/WM_shMITF_DMSO_sort.bed',\n",
       " '../data/interim/merged/anchors_bed_sort/Prostate_sort.bed',\n",
       " '../data/interim/merged/anchors_bed_sort/COLO_shMITF_PLX_sort.bed',\n",
       " '../data/interim/merged/anchors_bed_sort/COLO_SCR_PLX_sort.bed',\n",
       " '../data/interim/merged/anchors_bed_sort/Esophageal_sort.bed']"
      ]
     },
     "execution_count": 112,
     "metadata": {},
     "output_type": "execute_result"
    }
   ],
   "source": [
    "hichip_peaks_dir = '../data/interim/merged/anchors_bed_sort'\n",
    "hichip_bed_files = glob.glob(os.path.join(hichip_peaks_dir, '*_sort.bed'))\n",
    "hichip_bed_files"
   ]
  },
  {
   "cell_type": "code",
   "execution_count": 113,
   "metadata": {},
   "outputs": [],
   "source": [
    "# for hichip_file in sorted(hichip_bed_files):\n",
    "#     tissue = os.path.basename(hichip_file).split('_diffloop')[0]\n",
    "#     print(tissue)\n",
    "    "
   ]
  },
  {
   "cell_type": "code",
   "execution_count": 118,
   "metadata": {},
   "outputs": [
    {
     "name": "stdout",
     "output_type": "stream",
     "text": [
      "A431-CTRLi\n",
      "A431-CTRLi not considered\n",
      "A431-p63i\n",
      "A431-p63i not considered\n",
      "Airway\n",
      "lib_hichip_df (7094, 2)\n",
      "Astrocytes\n",
      "lib_hichip_df (19811, 2)\n",
      "Bladder\n",
      "lib_hichip_df (32719, 2)\n",
      "CAL27-CTRLi\n",
      "CAL27-CTRLi not considered\n",
      "CAL27-p63i\n",
      "CAL27-p63i not considered\n",
      "COLO_SCR_DMSO\n",
      "COLO_SCR_DMSO not considered\n",
      "COLO_SCR_PLX\n",
      "COLO_SCR_PLX not considered\n",
      "COLO_shMITF_DMSO\n",
      "COLO_shMITF_DMSO not considered\n",
      "COLO_shMITF_PLX\n",
      "COLO_shMITF_PLX not considered\n",
      "Colon\n",
      "lib_hichip_df (48275, 2)\n",
      "D0-CTRLi\n",
      "D0-CTRLi not considered\n",
      "D0-p63i\n",
      "D0-p63i not considered\n",
      "D3-CTRLi\n",
      "D3-CTRLi not considered\n",
      "D3-p63i\n",
      "D3-p63i not considered\n",
      "D6-CTRLi\n",
      "D6-CTRLi not considered\n",
      "D6-p63i\n",
      "D6-p63i not considered\n",
      "Esophageal\n",
      "lib_hichip_df (62259, 2)\n",
      "GDSD0\n",
      "lib_hichip_df (75640, 2)\n",
      "GDSD3\n",
      "lib_hichip_df (89399, 2)\n",
      "GDSD6\n",
      "lib_hichip_df (102456, 2)\n",
      "GM12878\n",
      "lib_hichip_df (115908, 2)\n",
      "HMEC\n",
      "lib_hichip_df (126392, 2)\n",
      "Melanocytes\n",
      "lib_hichip_df (135862, 2)\n",
      "Ovarian\n",
      "lib_hichip_df (150199, 2)\n",
      "Pancreas\n",
      "lib_hichip_df (162783, 2)\n",
      "Prostate\n",
      "lib_hichip_df (179240, 2)\n",
      "Renal\n",
      "lib_hichip_df (195056, 2)\n",
      "SCC13-CTRLi\n",
      "SCC13-CTRLi not considered\n",
      "SCC13-p63i\n",
      "SCC13-p63i not considered\n",
      "Thyroid\n",
      "lib_hichip_df (209232, 2)\n",
      "Uterine\n",
      "lib_hichip_df (228791, 2)\n",
      "WM_SCR_DMSO\n",
      "WM_SCR_DMSO not considered\n",
      "WM_SCR_PLX\n",
      "WM_SCR_PLX not considered\n",
      "WM_shMITF_DMSO\n",
      "WM_shMITF_DMSO not considered\n",
      "WM_shMITF_PLX\n",
      "WM_shMITF_PLX not considered\n"
     ]
    }
   ],
   "source": [
    "# aside get a table which lists for all the snps whether it's in a hichip anchor peak and which tissues\n",
    "tissue_mapper = atac_tissue_mapper\n",
    "\n",
    "lib_hichip_df = pd.DataFrame()\n",
    "for hichip_file in sorted(hichip_bed_files):# sorted(hichip_bed_files):\n",
    "    tissue = os.path.basename(hichip_file).split('_sort')[0]\n",
    "    print(tissue)\n",
    "    if tissue not in tissue_mapper.keys():\n",
    "        print(tissue, 'not considered')\n",
    "        continue\n",
    "    hichip_bed = pybedtools.BedTool(hichip_file).to_dataframe()\n",
    "    if type(hichip_bed['chrom'][0])==int:\n",
    "        hichip_bed['chrom'] = 'chr' + hichip_bed.chrom.map(str)\n",
    "        hichip_bed = pybedtools.BedTool.from_dataframe(hichip_bed)\n",
    "    else:\n",
    "        hichip_bed = pybedtools.BedTool(hichip_file)\n",
    "    lib_df_bed_hichip = lib_df_bed.intersect(hichip_bed).to_dataframe()\n",
    "    lib_df_bed_hichip  =lib_df_bed_hichip[['name']].drop_duplicates().reset_index(drop=True)\n",
    "    lib_df_bed_hichip['tissue'] = tissue_mapper[tissue]\n",
    "    lib_hichip_df = pd.concat([lib_hichip_df, lib_df_bed_hichip])\n",
    "    print('lib_hichip_df', lib_hichip_df.shape)\n",
    "    \n",
    "lib_hichip_df = lib_hichip_df.groupby('name').agg({'tissue':'|'.join}).reset_index()\n",
    "lib_hichip_df.columns = ['rowname','hichip_tissues']\n",
    "lib_hichip_df['bool_in_hichip_pk'] = True\n",
    "lib_hichip_df.to_csv(os.path.join(save_dir, 'lib_hichip_annotation.csv'))"
   ]
  },
  {
   "cell_type": "code",
   "execution_count": 119,
   "metadata": {},
   "outputs": [
    {
     "data": {
      "text/plain": [
       "['../data/processed/vcf_files/hichip/GDSD3_postvqsr.vcf',\n",
       " '../data/processed/vcf_files/hichip/GM12878_postvqsr.vcf',\n",
       " '../data/processed/vcf_files/hichip/Airway_postvqsr.vcf',\n",
       " '../data/processed/vcf_files/hichip/Bladder_postvqsr.vcf',\n",
       " '../data/processed/vcf_files/hichip/Astrocytes_postvqsr.vcf',\n",
       " '../data/processed/vcf_files/hichip/Esophageal_postvqsr.vcf',\n",
       " '../data/processed/vcf_files/hichip/Ovarian_postvqsr.vcf',\n",
       " '../data/processed/vcf_files/hichip/Melanocytes_postvqsr.vcf',\n",
       " '../data/processed/vcf_files/hichip/Colon_postvqsr.vcf',\n",
       " '../data/processed/vcf_files/hichip/Thyroid_postvqsr.vcf',\n",
       " '../data/processed/vcf_files/hichip/HMEC_postvqsr.vcf',\n",
       " '../data/processed/vcf_files/hichip/Uterine_postvqsr.vcf',\n",
       " '../data/processed/vcf_files/hichip/GDSD0_postvqsr.vcf',\n",
       " '../data/processed/vcf_files/hichip/GDSD6_postvqsr.vcf',\n",
       " '../data/processed/vcf_files/hichip/Renal_postvqsr.vcf',\n",
       " '../data/processed/vcf_files/hichip/Pancreas_postvqsr.vcf',\n",
       " '../data/processed/vcf_files/hichip/Prostate_postvqsr.vcf']"
      ]
     },
     "execution_count": 119,
     "metadata": {},
     "output_type": "execute_result"
    }
   ],
   "source": [
    "vcf_files_hichip = glob.glob('../data/processed/vcf_files/hichip/*vcf')\n",
    "vcf_files_hichip"
   ]
  },
  {
   "cell_type": "code",
   "execution_count": 120,
   "metadata": {},
   "outputs": [
    {
     "name": "stdout",
     "output_type": "stream",
     "text": [
      "GDSD3\n",
      "GM12878\n",
      "Airway\n",
      "Bladder\n",
      "Astrocytes\n",
      "Esophageal\n",
      "Ovarian\n",
      "Melanocytes\n",
      "Colon\n",
      "Thyroid\n",
      "HMEC\n",
      "Uterine\n",
      "GDSD0\n",
      "GDSD6\n",
      "Renal\n",
      "Pancreas\n",
      "Prostate\n"
     ]
    }
   ],
   "source": [
    "for vcf_file in vcf_files_hichip:\n",
    "    tissue = os.path.basename(vcf_file).split('_post')[0]\n",
    "    print(tissue)"
   ]
  },
  {
   "cell_type": "code",
   "execution_count": 121,
   "metadata": {},
   "outputs": [],
   "source": [
    "hichip_tissue_mapper =atac_tissue_mapper"
   ]
  },
  {
   "cell_type": "code",
   "execution_count": 130,
   "metadata": {},
   "outputs": [
    {
     "name": "stdout",
     "output_type": "stream",
     "text": [
      "************\n",
      "Airway\n",
      "read ../data/processed/vcf_files/hichip/Airway_postvqsr.vcf\n",
      "shape (1173693, 12)\n",
      "CHROM                                                   chr8\n",
      "POS                                                 25145740\n",
      "ID                                                         .\n",
      "REF                                                        A\n",
      "ALT                                                        G\n",
      "QUAL                                                  745.46\n",
      "FILTER                                                  PASS\n",
      "INFO       AC=2;AF=0.500;AN=4;AS_QD=18.17;BaseQRankSum=-8...\n",
      "FORMAT                                        GT:AD:DP:GQ:PL\n",
      "Air_B1                              0/1:8,12:20:99:415,0,184\n",
      "Air_B3                              0/1:12,9:21:99:340,0,390\n",
      "rowname                                        chr8_25145740\n",
      "Name: 1007026, dtype: object\n",
      "['Air_B1', 'Air_B3']\n"
     ]
    },
    {
     "ename": "KeyboardInterrupt",
     "evalue": "",
     "output_type": "error",
     "traceback": [
      "\u001b[0;31m---------------------------------------------------------------------------\u001b[0m",
      "\u001b[0;31mKeyError\u001b[0m                                  Traceback (most recent call last)",
      "\u001b[0;32m~/opt/anaconda3/lib/python3.7/site-packages/pandas/core/series.py\u001b[0m in \u001b[0;36m_set_with_engine\u001b[0;34m(self, key, value)\u001b[0m\n\u001b[1;32m   1251\u001b[0m         \u001b[0;32mtry\u001b[0m\u001b[0;34m:\u001b[0m\u001b[0;34m\u001b[0m\u001b[0;34m\u001b[0m\u001b[0m\n\u001b[0;32m-> 1252\u001b[0;31m             \u001b[0mself\u001b[0m\u001b[0;34m.\u001b[0m\u001b[0mindex\u001b[0m\u001b[0;34m.\u001b[0m\u001b[0m_engine\u001b[0m\u001b[0;34m.\u001b[0m\u001b[0mset_value\u001b[0m\u001b[0;34m(\u001b[0m\u001b[0mvalues\u001b[0m\u001b[0;34m,\u001b[0m \u001b[0mkey\u001b[0m\u001b[0;34m,\u001b[0m \u001b[0mvalue\u001b[0m\u001b[0;34m)\u001b[0m\u001b[0;34m\u001b[0m\u001b[0;34m\u001b[0m\u001b[0m\n\u001b[0m\u001b[1;32m   1253\u001b[0m             \u001b[0;32mreturn\u001b[0m\u001b[0;34m\u001b[0m\u001b[0;34m\u001b[0m\u001b[0m\n",
      "\u001b[0;32mpandas/_libs/index.pyx\u001b[0m in \u001b[0;36mpandas._libs.index.IndexEngine.set_value\u001b[0;34m()\u001b[0m\n",
      "\u001b[0;32mpandas/_libs/index.pyx\u001b[0m in \u001b[0;36mpandas._libs.index.IndexEngine.set_value\u001b[0;34m()\u001b[0m\n",
      "\u001b[0;32mpandas/_libs/index.pyx\u001b[0m in \u001b[0;36mpandas._libs.index.IndexEngine.get_loc\u001b[0;34m()\u001b[0m\n",
      "\u001b[0;32mpandas/_libs/hashtable_class_helper.pxi\u001b[0m in \u001b[0;36mpandas._libs.hashtable.PyObjectHashTable.get_item\u001b[0;34m()\u001b[0m\n",
      "\u001b[0;32mpandas/_libs/hashtable_class_helper.pxi\u001b[0m in \u001b[0;36mpandas._libs.hashtable.PyObjectHashTable.get_item\u001b[0;34m()\u001b[0m\n",
      "\u001b[0;31mKeyError\u001b[0m: 'AD_1_alt'",
      "\nDuring handling of the above exception, another exception occurred:\n",
      "\u001b[0;31mKeyError\u001b[0m                                  Traceback (most recent call last)",
      "\u001b[0;32m~/opt/anaconda3/lib/python3.7/site-packages/pandas/core/indexes/base.py\u001b[0m in \u001b[0;36mget_loc\u001b[0;34m(self, key, method, tolerance)\u001b[0m\n\u001b[1;32m   2896\u001b[0m             \u001b[0;32mtry\u001b[0m\u001b[0;34m:\u001b[0m\u001b[0;34m\u001b[0m\u001b[0;34m\u001b[0m\u001b[0m\n\u001b[0;32m-> 2897\u001b[0;31m                 \u001b[0;32mreturn\u001b[0m \u001b[0mself\u001b[0m\u001b[0;34m.\u001b[0m\u001b[0m_engine\u001b[0m\u001b[0;34m.\u001b[0m\u001b[0mget_loc\u001b[0m\u001b[0;34m(\u001b[0m\u001b[0mkey\u001b[0m\u001b[0;34m)\u001b[0m\u001b[0;34m\u001b[0m\u001b[0;34m\u001b[0m\u001b[0m\n\u001b[0m\u001b[1;32m   2898\u001b[0m             \u001b[0;32mexcept\u001b[0m \u001b[0mKeyError\u001b[0m\u001b[0;34m:\u001b[0m\u001b[0;34m\u001b[0m\u001b[0;34m\u001b[0m\u001b[0m\n",
      "\u001b[0;32mpandas/_libs/index.pyx\u001b[0m in \u001b[0;36mpandas._libs.index.IndexEngine.get_loc\u001b[0;34m()\u001b[0m\n",
      "\u001b[0;32mpandas/_libs/index.pyx\u001b[0m in \u001b[0;36mpandas._libs.index.IndexEngine.get_loc\u001b[0;34m()\u001b[0m\n",
      "\u001b[0;32mpandas/_libs/hashtable_class_helper.pxi\u001b[0m in \u001b[0;36mpandas._libs.hashtable.PyObjectHashTable.get_item\u001b[0;34m()\u001b[0m\n",
      "\u001b[0;32mpandas/_libs/hashtable_class_helper.pxi\u001b[0m in \u001b[0;36mpandas._libs.hashtable.PyObjectHashTable.get_item\u001b[0;34m()\u001b[0m\n",
      "\u001b[0;31mKeyError\u001b[0m: 'AD_1_alt'",
      "\nDuring handling of the above exception, another exception occurred:\n",
      "\u001b[0;31mKeyError\u001b[0m                                  Traceback (most recent call last)",
      "\u001b[0;32m~/opt/anaconda3/lib/python3.7/site-packages/pandas/core/series.py\u001b[0m in \u001b[0;36msetitem\u001b[0;34m(key, value)\u001b[0m\n\u001b[1;32m   1189\u001b[0m             \u001b[0;32mtry\u001b[0m\u001b[0;34m:\u001b[0m\u001b[0;34m\u001b[0m\u001b[0;34m\u001b[0m\u001b[0m\n\u001b[0;32m-> 1190\u001b[0;31m                 \u001b[0mself\u001b[0m\u001b[0;34m.\u001b[0m\u001b[0m_set_with_engine\u001b[0m\u001b[0;34m(\u001b[0m\u001b[0mkey\u001b[0m\u001b[0;34m,\u001b[0m \u001b[0mvalue\u001b[0m\u001b[0;34m)\u001b[0m\u001b[0;34m\u001b[0m\u001b[0;34m\u001b[0m\u001b[0m\n\u001b[0m\u001b[1;32m   1191\u001b[0m                 \u001b[0;32mreturn\u001b[0m\u001b[0;34m\u001b[0m\u001b[0;34m\u001b[0m\u001b[0m\n",
      "\u001b[0;32m~/opt/anaconda3/lib/python3.7/site-packages/pandas/core/series.py\u001b[0m in \u001b[0;36m_set_with_engine\u001b[0;34m(self, key, value)\u001b[0m\n\u001b[1;32m   1254\u001b[0m         \u001b[0;32mexcept\u001b[0m \u001b[0mKeyError\u001b[0m\u001b[0;34m:\u001b[0m\u001b[0;34m\u001b[0m\u001b[0;34m\u001b[0m\u001b[0m\n\u001b[0;32m-> 1255\u001b[0;31m             \u001b[0mvalues\u001b[0m\u001b[0;34m[\u001b[0m\u001b[0mself\u001b[0m\u001b[0;34m.\u001b[0m\u001b[0mindex\u001b[0m\u001b[0;34m.\u001b[0m\u001b[0mget_loc\u001b[0m\u001b[0;34m(\u001b[0m\u001b[0mkey\u001b[0m\u001b[0;34m)\u001b[0m\u001b[0;34m]\u001b[0m \u001b[0;34m=\u001b[0m \u001b[0mvalue\u001b[0m\u001b[0;34m\u001b[0m\u001b[0;34m\u001b[0m\u001b[0m\n\u001b[0m\u001b[1;32m   1256\u001b[0m             \u001b[0;32mreturn\u001b[0m\u001b[0;34m\u001b[0m\u001b[0;34m\u001b[0m\u001b[0m\n",
      "\u001b[0;32m~/opt/anaconda3/lib/python3.7/site-packages/pandas/core/indexes/base.py\u001b[0m in \u001b[0;36mget_loc\u001b[0;34m(self, key, method, tolerance)\u001b[0m\n\u001b[1;32m   2898\u001b[0m             \u001b[0;32mexcept\u001b[0m \u001b[0mKeyError\u001b[0m\u001b[0;34m:\u001b[0m\u001b[0;34m\u001b[0m\u001b[0;34m\u001b[0m\u001b[0m\n\u001b[0;32m-> 2899\u001b[0;31m                 \u001b[0;32mreturn\u001b[0m \u001b[0mself\u001b[0m\u001b[0;34m.\u001b[0m\u001b[0m_engine\u001b[0m\u001b[0;34m.\u001b[0m\u001b[0mget_loc\u001b[0m\u001b[0;34m(\u001b[0m\u001b[0mself\u001b[0m\u001b[0;34m.\u001b[0m\u001b[0m_maybe_cast_indexer\u001b[0m\u001b[0;34m(\u001b[0m\u001b[0mkey\u001b[0m\u001b[0;34m)\u001b[0m\u001b[0;34m)\u001b[0m\u001b[0;34m\u001b[0m\u001b[0;34m\u001b[0m\u001b[0m\n\u001b[0m\u001b[1;32m   2900\u001b[0m         \u001b[0mindexer\u001b[0m \u001b[0;34m=\u001b[0m \u001b[0mself\u001b[0m\u001b[0;34m.\u001b[0m\u001b[0mget_indexer\u001b[0m\u001b[0;34m(\u001b[0m\u001b[0;34m[\u001b[0m\u001b[0mkey\u001b[0m\u001b[0;34m]\u001b[0m\u001b[0;34m,\u001b[0m \u001b[0mmethod\u001b[0m\u001b[0;34m=\u001b[0m\u001b[0mmethod\u001b[0m\u001b[0;34m,\u001b[0m \u001b[0mtolerance\u001b[0m\u001b[0;34m=\u001b[0m\u001b[0mtolerance\u001b[0m\u001b[0;34m)\u001b[0m\u001b[0;34m\u001b[0m\u001b[0;34m\u001b[0m\u001b[0m\n",
      "\u001b[0;32mpandas/_libs/index.pyx\u001b[0m in \u001b[0;36mpandas._libs.index.IndexEngine.get_loc\u001b[0;34m()\u001b[0m\n",
      "\u001b[0;32mpandas/_libs/index.pyx\u001b[0m in \u001b[0;36mpandas._libs.index.IndexEngine.get_loc\u001b[0;34m()\u001b[0m\n",
      "\u001b[0;32mpandas/_libs/hashtable_class_helper.pxi\u001b[0m in \u001b[0;36mpandas._libs.hashtable.PyObjectHashTable.get_item\u001b[0;34m()\u001b[0m\n",
      "\u001b[0;32mpandas/_libs/hashtable_class_helper.pxi\u001b[0m in \u001b[0;36mpandas._libs.hashtable.PyObjectHashTable.get_item\u001b[0;34m()\u001b[0m\n",
      "\u001b[0;31mKeyError\u001b[0m: 'AD_1_alt'",
      "\nDuring handling of the above exception, another exception occurred:\n",
      "\u001b[0;31mKeyboardInterrupt\u001b[0m                         Traceback (most recent call last)",
      "\u001b[0;32m<ipython-input-130-b0d09febbec8>\u001b[0m in \u001b[0;36m<module>\u001b[0;34m\u001b[0m\n\u001b[1;32m      8\u001b[0m     \u001b[0mprint\u001b[0m\u001b[0;34m(\u001b[0m\u001b[0mtissue\u001b[0m\u001b[0;34m)\u001b[0m\u001b[0;34m\u001b[0m\u001b[0;34m\u001b[0m\u001b[0m\n\u001b[1;32m      9\u001b[0m     \u001b[0mvcf_df\u001b[0m \u001b[0;34m=\u001b[0m \u001b[0mread_vcf\u001b[0m\u001b[0;34m(\u001b[0m\u001b[0mvcf_file\u001b[0m\u001b[0;34m)\u001b[0m\u001b[0;34m\u001b[0m\u001b[0;34m\u001b[0m\u001b[0m\n\u001b[0;32m---> 10\u001b[0;31m     \u001b[0mvcf_df\u001b[0m \u001b[0;34m=\u001b[0m \u001b[0mpd\u001b[0m\u001b[0;34m.\u001b[0m\u001b[0mconcat\u001b[0m\u001b[0;34m(\u001b[0m\u001b[0;34m[\u001b[0m\u001b[0mvcf_df\u001b[0m\u001b[0;34m,\u001b[0m \u001b[0mvcf_df\u001b[0m\u001b[0;34m.\u001b[0m\u001b[0mapply\u001b[0m\u001b[0;34m(\u001b[0m\u001b[0;32mlambda\u001b[0m \u001b[0mx\u001b[0m\u001b[0;34m:\u001b[0m\u001b[0mpreprocess_vcf\u001b[0m\u001b[0;34m(\u001b[0m\u001b[0mx\u001b[0m\u001b[0;34m,\u001b[0m\u001b[0mtissue\u001b[0m\u001b[0;34m)\u001b[0m\u001b[0;34m,\u001b[0m\u001b[0maxis\u001b[0m\u001b[0;34m=\u001b[0m\u001b[0;36m1\u001b[0m\u001b[0;34m)\u001b[0m\u001b[0;34m]\u001b[0m\u001b[0;34m,\u001b[0m \u001b[0maxis\u001b[0m\u001b[0;34m=\u001b[0m\u001b[0;36m1\u001b[0m\u001b[0;34m)\u001b[0m\u001b[0;34m\u001b[0m\u001b[0;34m\u001b[0m\u001b[0m\n\u001b[0m\u001b[1;32m     11\u001b[0m     \u001b[0mnum_vcf_hits\u001b[0m \u001b[0;34m=\u001b[0m \u001b[0mvcf_df\u001b[0m\u001b[0;34m.\u001b[0m\u001b[0mshape\u001b[0m\u001b[0;34m[\u001b[0m\u001b[0;36m0\u001b[0m\u001b[0;34m]\u001b[0m\u001b[0;34m\u001b[0m\u001b[0;34m\u001b[0m\u001b[0m\n\u001b[1;32m     12\u001b[0m     \u001b[0mprint\u001b[0m\u001b[0;34m(\u001b[0m\u001b[0;34m'num_vcf_hits PRE FILTER'\u001b[0m\u001b[0;34m,\u001b[0m \u001b[0mnum_vcf_hits\u001b[0m\u001b[0;34m)\u001b[0m\u001b[0;34m\u001b[0m\u001b[0;34m\u001b[0m\u001b[0m\n",
      "\u001b[0;32m~/opt/anaconda3/lib/python3.7/site-packages/pandas/core/frame.py\u001b[0m in \u001b[0;36mapply\u001b[0;34m(self, func, axis, broadcast, raw, reduce, result_type, args, **kwds)\u001b[0m\n\u001b[1;32m   6911\u001b[0m             \u001b[0mkwds\u001b[0m\u001b[0;34m=\u001b[0m\u001b[0mkwds\u001b[0m\u001b[0;34m,\u001b[0m\u001b[0;34m\u001b[0m\u001b[0;34m\u001b[0m\u001b[0m\n\u001b[1;32m   6912\u001b[0m         )\n\u001b[0;32m-> 6913\u001b[0;31m         \u001b[0;32mreturn\u001b[0m \u001b[0mop\u001b[0m\u001b[0;34m.\u001b[0m\u001b[0mget_result\u001b[0m\u001b[0;34m(\u001b[0m\u001b[0;34m)\u001b[0m\u001b[0;34m\u001b[0m\u001b[0;34m\u001b[0m\u001b[0m\n\u001b[0m\u001b[1;32m   6914\u001b[0m \u001b[0;34m\u001b[0m\u001b[0m\n\u001b[1;32m   6915\u001b[0m     \u001b[0;32mdef\u001b[0m \u001b[0mapplymap\u001b[0m\u001b[0;34m(\u001b[0m\u001b[0mself\u001b[0m\u001b[0;34m,\u001b[0m \u001b[0mfunc\u001b[0m\u001b[0;34m)\u001b[0m\u001b[0;34m:\u001b[0m\u001b[0;34m\u001b[0m\u001b[0;34m\u001b[0m\u001b[0m\n",
      "\u001b[0;32m~/opt/anaconda3/lib/python3.7/site-packages/pandas/core/apply.py\u001b[0m in \u001b[0;36mget_result\u001b[0;34m(self)\u001b[0m\n\u001b[1;32m    184\u001b[0m             \u001b[0;32mreturn\u001b[0m \u001b[0mself\u001b[0m\u001b[0;34m.\u001b[0m\u001b[0mapply_raw\u001b[0m\u001b[0;34m(\u001b[0m\u001b[0;34m)\u001b[0m\u001b[0;34m\u001b[0m\u001b[0;34m\u001b[0m\u001b[0m\n\u001b[1;32m    185\u001b[0m \u001b[0;34m\u001b[0m\u001b[0m\n\u001b[0;32m--> 186\u001b[0;31m         \u001b[0;32mreturn\u001b[0m \u001b[0mself\u001b[0m\u001b[0;34m.\u001b[0m\u001b[0mapply_standard\u001b[0m\u001b[0;34m(\u001b[0m\u001b[0;34m)\u001b[0m\u001b[0;34m\u001b[0m\u001b[0;34m\u001b[0m\u001b[0m\n\u001b[0m\u001b[1;32m    187\u001b[0m \u001b[0;34m\u001b[0m\u001b[0m\n\u001b[1;32m    188\u001b[0m     \u001b[0;32mdef\u001b[0m \u001b[0mapply_empty_result\u001b[0m\u001b[0;34m(\u001b[0m\u001b[0mself\u001b[0m\u001b[0;34m)\u001b[0m\u001b[0;34m:\u001b[0m\u001b[0;34m\u001b[0m\u001b[0;34m\u001b[0m\u001b[0m\n",
      "\u001b[0;32m~/opt/anaconda3/lib/python3.7/site-packages/pandas/core/apply.py\u001b[0m in \u001b[0;36mapply_standard\u001b[0;34m(self)\u001b[0m\n\u001b[1;32m    290\u001b[0m \u001b[0;34m\u001b[0m\u001b[0m\n\u001b[1;32m    291\u001b[0m         \u001b[0;31m# compute the result using the series generator\u001b[0m\u001b[0;34m\u001b[0m\u001b[0;34m\u001b[0m\u001b[0;34m\u001b[0m\u001b[0m\n\u001b[0;32m--> 292\u001b[0;31m         \u001b[0mself\u001b[0m\u001b[0;34m.\u001b[0m\u001b[0mapply_series_generator\u001b[0m\u001b[0;34m(\u001b[0m\u001b[0;34m)\u001b[0m\u001b[0;34m\u001b[0m\u001b[0;34m\u001b[0m\u001b[0m\n\u001b[0m\u001b[1;32m    293\u001b[0m \u001b[0;34m\u001b[0m\u001b[0m\n\u001b[1;32m    294\u001b[0m         \u001b[0;31m# wrap results\u001b[0m\u001b[0;34m\u001b[0m\u001b[0;34m\u001b[0m\u001b[0;34m\u001b[0m\u001b[0m\n",
      "\u001b[0;32m~/opt/anaconda3/lib/python3.7/site-packages/pandas/core/apply.py\u001b[0m in \u001b[0;36mapply_series_generator\u001b[0;34m(self)\u001b[0m\n\u001b[1;32m    319\u001b[0m             \u001b[0;32mtry\u001b[0m\u001b[0;34m:\u001b[0m\u001b[0;34m\u001b[0m\u001b[0;34m\u001b[0m\u001b[0m\n\u001b[1;32m    320\u001b[0m                 \u001b[0;32mfor\u001b[0m \u001b[0mi\u001b[0m\u001b[0;34m,\u001b[0m \u001b[0mv\u001b[0m \u001b[0;32min\u001b[0m \u001b[0menumerate\u001b[0m\u001b[0;34m(\u001b[0m\u001b[0mseries_gen\u001b[0m\u001b[0;34m)\u001b[0m\u001b[0;34m:\u001b[0m\u001b[0;34m\u001b[0m\u001b[0;34m\u001b[0m\u001b[0m\n\u001b[0;32m--> 321\u001b[0;31m                     \u001b[0mresults\u001b[0m\u001b[0;34m[\u001b[0m\u001b[0mi\u001b[0m\u001b[0;34m]\u001b[0m \u001b[0;34m=\u001b[0m \u001b[0mself\u001b[0m\u001b[0;34m.\u001b[0m\u001b[0mf\u001b[0m\u001b[0;34m(\u001b[0m\u001b[0mv\u001b[0m\u001b[0;34m)\u001b[0m\u001b[0;34m\u001b[0m\u001b[0;34m\u001b[0m\u001b[0m\n\u001b[0m\u001b[1;32m    322\u001b[0m                     \u001b[0mkeys\u001b[0m\u001b[0;34m.\u001b[0m\u001b[0mappend\u001b[0m\u001b[0;34m(\u001b[0m\u001b[0mv\u001b[0m\u001b[0;34m.\u001b[0m\u001b[0mname\u001b[0m\u001b[0;34m)\u001b[0m\u001b[0;34m\u001b[0m\u001b[0;34m\u001b[0m\u001b[0m\n\u001b[1;32m    323\u001b[0m             \u001b[0;32mexcept\u001b[0m \u001b[0mException\u001b[0m \u001b[0;32mas\u001b[0m \u001b[0me\u001b[0m\u001b[0;34m:\u001b[0m\u001b[0;34m\u001b[0m\u001b[0;34m\u001b[0m\u001b[0m\n",
      "\u001b[0;32m<ipython-input-130-b0d09febbec8>\u001b[0m in \u001b[0;36m<lambda>\u001b[0;34m(x)\u001b[0m\n\u001b[1;32m      8\u001b[0m     \u001b[0mprint\u001b[0m\u001b[0;34m(\u001b[0m\u001b[0mtissue\u001b[0m\u001b[0;34m)\u001b[0m\u001b[0;34m\u001b[0m\u001b[0;34m\u001b[0m\u001b[0m\n\u001b[1;32m      9\u001b[0m     \u001b[0mvcf_df\u001b[0m \u001b[0;34m=\u001b[0m \u001b[0mread_vcf\u001b[0m\u001b[0;34m(\u001b[0m\u001b[0mvcf_file\u001b[0m\u001b[0;34m)\u001b[0m\u001b[0;34m\u001b[0m\u001b[0;34m\u001b[0m\u001b[0m\n\u001b[0;32m---> 10\u001b[0;31m     \u001b[0mvcf_df\u001b[0m \u001b[0;34m=\u001b[0m \u001b[0mpd\u001b[0m\u001b[0;34m.\u001b[0m\u001b[0mconcat\u001b[0m\u001b[0;34m(\u001b[0m\u001b[0;34m[\u001b[0m\u001b[0mvcf_df\u001b[0m\u001b[0;34m,\u001b[0m \u001b[0mvcf_df\u001b[0m\u001b[0;34m.\u001b[0m\u001b[0mapply\u001b[0m\u001b[0;34m(\u001b[0m\u001b[0;32mlambda\u001b[0m \u001b[0mx\u001b[0m\u001b[0;34m:\u001b[0m\u001b[0mpreprocess_vcf\u001b[0m\u001b[0;34m(\u001b[0m\u001b[0mx\u001b[0m\u001b[0;34m,\u001b[0m\u001b[0mtissue\u001b[0m\u001b[0;34m)\u001b[0m\u001b[0;34m,\u001b[0m\u001b[0maxis\u001b[0m\u001b[0;34m=\u001b[0m\u001b[0;36m1\u001b[0m\u001b[0;34m)\u001b[0m\u001b[0;34m]\u001b[0m\u001b[0;34m,\u001b[0m \u001b[0maxis\u001b[0m\u001b[0;34m=\u001b[0m\u001b[0;36m1\u001b[0m\u001b[0;34m)\u001b[0m\u001b[0;34m\u001b[0m\u001b[0;34m\u001b[0m\u001b[0m\n\u001b[0m\u001b[1;32m     11\u001b[0m     \u001b[0mnum_vcf_hits\u001b[0m \u001b[0;34m=\u001b[0m \u001b[0mvcf_df\u001b[0m\u001b[0;34m.\u001b[0m\u001b[0mshape\u001b[0m\u001b[0;34m[\u001b[0m\u001b[0;36m0\u001b[0m\u001b[0;34m]\u001b[0m\u001b[0;34m\u001b[0m\u001b[0;34m\u001b[0m\u001b[0m\n\u001b[1;32m     12\u001b[0m     \u001b[0mprint\u001b[0m\u001b[0;34m(\u001b[0m\u001b[0;34m'num_vcf_hits PRE FILTER'\u001b[0m\u001b[0;34m,\u001b[0m \u001b[0mnum_vcf_hits\u001b[0m\u001b[0;34m)\u001b[0m\u001b[0;34m\u001b[0m\u001b[0;34m\u001b[0m\u001b[0m\n",
      "\u001b[0;32m<ipython-input-123-4fb28a0b3a3c>\u001b[0m in \u001b[0;36mpreprocess_vcf\u001b[0;34m(row, tissue)\u001b[0m\n\u001b[1;32m     30\u001b[0m         \u001b[0mqual\u001b[0m\u001b[0;34m[\u001b[0m\u001b[0;34m'GT_2'\u001b[0m\u001b[0;34m]\u001b[0m \u001b[0;34m=\u001b[0m \u001b[0msample_2_info\u001b[0m\u001b[0;34m[\u001b[0m\u001b[0;36m0\u001b[0m\u001b[0;34m]\u001b[0m\u001b[0;34m\u001b[0m\u001b[0;34m\u001b[0m\u001b[0m\n\u001b[1;32m     31\u001b[0m         \u001b[0mqual\u001b[0m\u001b[0;34m[\u001b[0m\u001b[0;34m'AD_1_ref'\u001b[0m\u001b[0;34m]\u001b[0m \u001b[0;34m=\u001b[0m \u001b[0mint\u001b[0m\u001b[0;34m(\u001b[0m\u001b[0msample_1_info\u001b[0m\u001b[0;34m[\u001b[0m\u001b[0;36m1\u001b[0m\u001b[0;34m]\u001b[0m\u001b[0;34m.\u001b[0m\u001b[0msplit\u001b[0m\u001b[0;34m(\u001b[0m\u001b[0;34m','\u001b[0m\u001b[0;34m)\u001b[0m\u001b[0;34m[\u001b[0m\u001b[0;36m0\u001b[0m\u001b[0;34m]\u001b[0m\u001b[0;34m)\u001b[0m\u001b[0;34m\u001b[0m\u001b[0;34m\u001b[0m\u001b[0m\n\u001b[0;32m---> 32\u001b[0;31m         \u001b[0mqual\u001b[0m\u001b[0;34m[\u001b[0m\u001b[0;34m'AD_1_alt'\u001b[0m\u001b[0;34m]\u001b[0m \u001b[0;34m=\u001b[0m \u001b[0mint\u001b[0m\u001b[0;34m(\u001b[0m\u001b[0msample_1_info\u001b[0m\u001b[0;34m[\u001b[0m\u001b[0;36m1\u001b[0m\u001b[0;34m]\u001b[0m\u001b[0;34m.\u001b[0m\u001b[0msplit\u001b[0m\u001b[0;34m(\u001b[0m\u001b[0;34m','\u001b[0m\u001b[0;34m)\u001b[0m\u001b[0;34m[\u001b[0m\u001b[0;36m1\u001b[0m\u001b[0;34m]\u001b[0m\u001b[0;34m)\u001b[0m\u001b[0;34m\u001b[0m\u001b[0;34m\u001b[0m\u001b[0m\n\u001b[0m\u001b[1;32m     33\u001b[0m         \u001b[0mqual\u001b[0m\u001b[0;34m[\u001b[0m\u001b[0;34m'AD_2_ref'\u001b[0m\u001b[0;34m]\u001b[0m \u001b[0;34m=\u001b[0m \u001b[0mint\u001b[0m\u001b[0;34m(\u001b[0m\u001b[0msample_2_info\u001b[0m\u001b[0;34m[\u001b[0m\u001b[0;36m1\u001b[0m\u001b[0;34m]\u001b[0m\u001b[0;34m.\u001b[0m\u001b[0msplit\u001b[0m\u001b[0;34m(\u001b[0m\u001b[0;34m','\u001b[0m\u001b[0;34m)\u001b[0m\u001b[0;34m[\u001b[0m\u001b[0;36m0\u001b[0m\u001b[0;34m]\u001b[0m\u001b[0;34m)\u001b[0m\u001b[0;34m\u001b[0m\u001b[0;34m\u001b[0m\u001b[0m\n\u001b[1;32m     34\u001b[0m         \u001b[0mqual\u001b[0m\u001b[0;34m[\u001b[0m\u001b[0;34m'AD_2_alt'\u001b[0m\u001b[0;34m]\u001b[0m \u001b[0;34m=\u001b[0m \u001b[0mint\u001b[0m\u001b[0;34m(\u001b[0m\u001b[0msample_2_info\u001b[0m\u001b[0;34m[\u001b[0m\u001b[0;36m1\u001b[0m\u001b[0;34m]\u001b[0m\u001b[0;34m.\u001b[0m\u001b[0msplit\u001b[0m\u001b[0;34m(\u001b[0m\u001b[0;34m','\u001b[0m\u001b[0;34m)\u001b[0m\u001b[0;34m[\u001b[0m\u001b[0;36m1\u001b[0m\u001b[0;34m]\u001b[0m\u001b[0;34m)\u001b[0m\u001b[0;34m\u001b[0m\u001b[0;34m\u001b[0m\u001b[0m\n",
      "\u001b[0;32m~/opt/anaconda3/lib/python3.7/site-packages/pandas/core/series.py\u001b[0m in \u001b[0;36m__setitem__\u001b[0;34m(self, key, value)\u001b[0m\n\u001b[1;32m   1239\u001b[0m         \u001b[0;31m# do the setitem\u001b[0m\u001b[0;34m\u001b[0m\u001b[0;34m\u001b[0m\u001b[0;34m\u001b[0m\u001b[0m\n\u001b[1;32m   1240\u001b[0m         \u001b[0mcacher_needs_updating\u001b[0m \u001b[0;34m=\u001b[0m \u001b[0mself\u001b[0m\u001b[0;34m.\u001b[0m\u001b[0m_check_is_chained_assignment_possible\u001b[0m\u001b[0;34m(\u001b[0m\u001b[0;34m)\u001b[0m\u001b[0;34m\u001b[0m\u001b[0;34m\u001b[0m\u001b[0m\n\u001b[0;32m-> 1241\u001b[0;31m         \u001b[0msetitem\u001b[0m\u001b[0;34m(\u001b[0m\u001b[0mkey\u001b[0m\u001b[0;34m,\u001b[0m \u001b[0mvalue\u001b[0m\u001b[0;34m)\u001b[0m\u001b[0;34m\u001b[0m\u001b[0;34m\u001b[0m\u001b[0m\n\u001b[0m\u001b[1;32m   1242\u001b[0m         \u001b[0;32mif\u001b[0m \u001b[0mcacher_needs_updating\u001b[0m\u001b[0;34m:\u001b[0m\u001b[0;34m\u001b[0m\u001b[0;34m\u001b[0m\u001b[0m\n\u001b[1;32m   1243\u001b[0m             \u001b[0mself\u001b[0m\u001b[0;34m.\u001b[0m\u001b[0m_maybe_update_cacher\u001b[0m\u001b[0;34m(\u001b[0m\u001b[0;34m)\u001b[0m\u001b[0;34m\u001b[0m\u001b[0;34m\u001b[0m\u001b[0m\n",
      "\u001b[0;32m~/opt/anaconda3/lib/python3.7/site-packages/pandas/core/series.py\u001b[0m in \u001b[0;36msetitem\u001b[0;34m(key, value)\u001b[0m\n\u001b[1;32m   1216\u001b[0m                             \u001b[0;32mpass\u001b[0m\u001b[0;34m\u001b[0m\u001b[0;34m\u001b[0m\u001b[0m\n\u001b[1;32m   1217\u001b[0m \u001b[0;34m\u001b[0m\u001b[0m\n\u001b[0;32m-> 1218\u001b[0;31m                 \u001b[0mself\u001b[0m\u001b[0;34m.\u001b[0m\u001b[0mloc\u001b[0m\u001b[0;34m[\u001b[0m\u001b[0mkey\u001b[0m\u001b[0;34m]\u001b[0m \u001b[0;34m=\u001b[0m \u001b[0mvalue\u001b[0m\u001b[0;34m\u001b[0m\u001b[0;34m\u001b[0m\u001b[0m\n\u001b[0m\u001b[1;32m   1219\u001b[0m                 \u001b[0;32mreturn\u001b[0m\u001b[0;34m\u001b[0m\u001b[0;34m\u001b[0m\u001b[0m\n\u001b[1;32m   1220\u001b[0m \u001b[0;34m\u001b[0m\u001b[0m\n",
      "\u001b[0;32m~/opt/anaconda3/lib/python3.7/site-packages/pandas/core/indexing.py\u001b[0m in \u001b[0;36m__setitem__\u001b[0;34m(self, key, value)\u001b[0m\n\u001b[1;32m    203\u001b[0m             \u001b[0mkey\u001b[0m \u001b[0;34m=\u001b[0m \u001b[0mcom\u001b[0m\u001b[0;34m.\u001b[0m\u001b[0mapply_if_callable\u001b[0m\u001b[0;34m(\u001b[0m\u001b[0mkey\u001b[0m\u001b[0;34m,\u001b[0m \u001b[0mself\u001b[0m\u001b[0;34m.\u001b[0m\u001b[0mobj\u001b[0m\u001b[0;34m)\u001b[0m\u001b[0;34m\u001b[0m\u001b[0;34m\u001b[0m\u001b[0m\n\u001b[1;32m    204\u001b[0m         \u001b[0mindexer\u001b[0m \u001b[0;34m=\u001b[0m \u001b[0mself\u001b[0m\u001b[0;34m.\u001b[0m\u001b[0m_get_setitem_indexer\u001b[0m\u001b[0;34m(\u001b[0m\u001b[0mkey\u001b[0m\u001b[0;34m)\u001b[0m\u001b[0;34m\u001b[0m\u001b[0;34m\u001b[0m\u001b[0m\n\u001b[0;32m--> 205\u001b[0;31m         \u001b[0mself\u001b[0m\u001b[0;34m.\u001b[0m\u001b[0m_setitem_with_indexer\u001b[0m\u001b[0;34m(\u001b[0m\u001b[0mindexer\u001b[0m\u001b[0;34m,\u001b[0m \u001b[0mvalue\u001b[0m\u001b[0;34m)\u001b[0m\u001b[0;34m\u001b[0m\u001b[0;34m\u001b[0m\u001b[0m\n\u001b[0m\u001b[1;32m    206\u001b[0m \u001b[0;34m\u001b[0m\u001b[0m\n\u001b[1;32m    207\u001b[0m     \u001b[0;32mdef\u001b[0m \u001b[0m_validate_key\u001b[0m\u001b[0;34m(\u001b[0m\u001b[0mself\u001b[0m\u001b[0;34m,\u001b[0m \u001b[0mkey\u001b[0m\u001b[0;34m,\u001b[0m \u001b[0maxis\u001b[0m\u001b[0;34m:\u001b[0m \u001b[0mint\u001b[0m\u001b[0;34m)\u001b[0m\u001b[0;34m:\u001b[0m\u001b[0;34m\u001b[0m\u001b[0;34m\u001b[0m\u001b[0m\n",
      "\u001b[0;32m~/opt/anaconda3/lib/python3.7/site-packages/pandas/core/indexing.py\u001b[0m in \u001b[0;36m_setitem_with_indexer\u001b[0;34m(self, indexer, value)\u001b[0m\n\u001b[1;32m    404\u001b[0m \u001b[0;34m\u001b[0m\u001b[0m\n\u001b[1;32m    405\u001b[0m             \u001b[0;32mif\u001b[0m \u001b[0mmissing\u001b[0m\u001b[0;34m:\u001b[0m\u001b[0;34m\u001b[0m\u001b[0;34m\u001b[0m\u001b[0m\n\u001b[0;32m--> 406\u001b[0;31m                 \u001b[0;32mreturn\u001b[0m \u001b[0mself\u001b[0m\u001b[0;34m.\u001b[0m\u001b[0m_setitem_with_indexer_missing\u001b[0m\u001b[0;34m(\u001b[0m\u001b[0mindexer\u001b[0m\u001b[0;34m,\u001b[0m \u001b[0mvalue\u001b[0m\u001b[0;34m)\u001b[0m\u001b[0;34m\u001b[0m\u001b[0;34m\u001b[0m\u001b[0m\n\u001b[0m\u001b[1;32m    407\u001b[0m \u001b[0;34m\u001b[0m\u001b[0m\n\u001b[1;32m    408\u001b[0m         \u001b[0;31m# set\u001b[0m\u001b[0;34m\u001b[0m\u001b[0;34m\u001b[0m\u001b[0;34m\u001b[0m\u001b[0m\n",
      "\u001b[0;32m~/opt/anaconda3/lib/python3.7/site-packages/pandas/core/indexing.py\u001b[0m in \u001b[0;36m_setitem_with_indexer_missing\u001b[0;34m(self, indexer, value)\u001b[0m\n\u001b[1;32m    624\u001b[0m                 \u001b[0mnew_values\u001b[0m \u001b[0;34m=\u001b[0m \u001b[0m_concat_compat\u001b[0m\u001b[0;34m(\u001b[0m\u001b[0;34m[\u001b[0m\u001b[0mself\u001b[0m\u001b[0;34m.\u001b[0m\u001b[0mobj\u001b[0m\u001b[0;34m.\u001b[0m\u001b[0m_values\u001b[0m\u001b[0;34m,\u001b[0m \u001b[0mnew_values\u001b[0m\u001b[0;34m]\u001b[0m\u001b[0;34m)\u001b[0m\u001b[0;34m\u001b[0m\u001b[0;34m\u001b[0m\u001b[0m\n\u001b[1;32m    625\u001b[0m             self.obj._data = self.obj._constructor(\n\u001b[0;32m--> 626\u001b[0;31m                 \u001b[0mnew_values\u001b[0m\u001b[0;34m,\u001b[0m \u001b[0mindex\u001b[0m\u001b[0;34m=\u001b[0m\u001b[0mnew_index\u001b[0m\u001b[0;34m,\u001b[0m \u001b[0mname\u001b[0m\u001b[0;34m=\u001b[0m\u001b[0mself\u001b[0m\u001b[0;34m.\u001b[0m\u001b[0mobj\u001b[0m\u001b[0;34m.\u001b[0m\u001b[0mname\u001b[0m\u001b[0;34m\u001b[0m\u001b[0;34m\u001b[0m\u001b[0m\n\u001b[0m\u001b[1;32m    627\u001b[0m             )._data\n\u001b[1;32m    628\u001b[0m             \u001b[0mself\u001b[0m\u001b[0;34m.\u001b[0m\u001b[0mobj\u001b[0m\u001b[0;34m.\u001b[0m\u001b[0m_maybe_update_cacher\u001b[0m\u001b[0;34m(\u001b[0m\u001b[0mclear\u001b[0m\u001b[0;34m=\u001b[0m\u001b[0;32mTrue\u001b[0m\u001b[0;34m)\u001b[0m\u001b[0;34m\u001b[0m\u001b[0;34m\u001b[0m\u001b[0m\n",
      "\u001b[0;32m~/opt/anaconda3/lib/python3.7/site-packages/pandas/core/series.py\u001b[0m in \u001b[0;36m__init__\u001b[0;34m(self, data, index, dtype, name, copy, fastpath)\u001b[0m\n\u001b[1;32m    309\u001b[0m                     \u001b[0mdata\u001b[0m \u001b[0;34m=\u001b[0m \u001b[0mdata\u001b[0m\u001b[0;34m.\u001b[0m\u001b[0mcopy\u001b[0m\u001b[0;34m(\u001b[0m\u001b[0;34m)\u001b[0m\u001b[0;34m\u001b[0m\u001b[0;34m\u001b[0m\u001b[0m\n\u001b[1;32m    310\u001b[0m             \u001b[0;32melse\u001b[0m\u001b[0;34m:\u001b[0m\u001b[0;34m\u001b[0m\u001b[0;34m\u001b[0m\u001b[0m\n\u001b[0;32m--> 311\u001b[0;31m                 \u001b[0mdata\u001b[0m \u001b[0;34m=\u001b[0m \u001b[0msanitize_array\u001b[0m\u001b[0;34m(\u001b[0m\u001b[0mdata\u001b[0m\u001b[0;34m,\u001b[0m \u001b[0mindex\u001b[0m\u001b[0;34m,\u001b[0m \u001b[0mdtype\u001b[0m\u001b[0;34m,\u001b[0m \u001b[0mcopy\u001b[0m\u001b[0;34m,\u001b[0m \u001b[0mraise_cast_failure\u001b[0m\u001b[0;34m=\u001b[0m\u001b[0;32mTrue\u001b[0m\u001b[0;34m)\u001b[0m\u001b[0;34m\u001b[0m\u001b[0;34m\u001b[0m\u001b[0m\n\u001b[0m\u001b[1;32m    312\u001b[0m \u001b[0;34m\u001b[0m\u001b[0m\n\u001b[1;32m    313\u001b[0m                 \u001b[0mdata\u001b[0m \u001b[0;34m=\u001b[0m \u001b[0mSingleBlockManager\u001b[0m\u001b[0;34m(\u001b[0m\u001b[0mdata\u001b[0m\u001b[0;34m,\u001b[0m \u001b[0mindex\u001b[0m\u001b[0;34m,\u001b[0m \u001b[0mfastpath\u001b[0m\u001b[0;34m=\u001b[0m\u001b[0;32mTrue\u001b[0m\u001b[0;34m)\u001b[0m\u001b[0;34m\u001b[0m\u001b[0;34m\u001b[0m\u001b[0m\n",
      "\u001b[0;32m~/opt/anaconda3/lib/python3.7/site-packages/pandas/core/internals/construction.py\u001b[0m in \u001b[0;36msanitize_array\u001b[0;34m(data, index, dtype, copy, raise_cast_failure)\u001b[0m\n\u001b[1;32m    747\u001b[0m         \u001b[0;32mand\u001b[0m \u001b[0;32mnot\u001b[0m \u001b[0mis_object_dtype\u001b[0m\u001b[0;34m(\u001b[0m\u001b[0mdtype\u001b[0m\u001b[0;34m)\u001b[0m\u001b[0;34m\u001b[0m\u001b[0;34m\u001b[0m\u001b[0m\n\u001b[1;32m    748\u001b[0m     ):\n\u001b[0;32m--> 749\u001b[0;31m         \u001b[0minferred\u001b[0m \u001b[0;34m=\u001b[0m \u001b[0mlib\u001b[0m\u001b[0;34m.\u001b[0m\u001b[0minfer_dtype\u001b[0m\u001b[0;34m(\u001b[0m\u001b[0msubarr\u001b[0m\u001b[0;34m,\u001b[0m \u001b[0mskipna\u001b[0m\u001b[0;34m=\u001b[0m\u001b[0;32mFalse\u001b[0m\u001b[0;34m)\u001b[0m\u001b[0;34m\u001b[0m\u001b[0;34m\u001b[0m\u001b[0m\n\u001b[0m\u001b[1;32m    750\u001b[0m         \u001b[0;32mif\u001b[0m \u001b[0minferred\u001b[0m \u001b[0;34m==\u001b[0m \u001b[0;34m\"period\"\u001b[0m\u001b[0;34m:\u001b[0m\u001b[0;34m\u001b[0m\u001b[0;34m\u001b[0m\u001b[0m\n\u001b[1;32m    751\u001b[0m             \u001b[0;32mtry\u001b[0m\u001b[0;34m:\u001b[0m\u001b[0;34m\u001b[0m\u001b[0;34m\u001b[0m\u001b[0m\n",
      "\u001b[0;32mpandas/_libs/lib.pyx\u001b[0m in \u001b[0;36mpandas._libs.lib.infer_dtype\u001b[0;34m()\u001b[0m\n",
      "\u001b[0;32mpandas/_libs/lib.pyx\u001b[0m in \u001b[0;36mpandas._libs.lib._try_infer_map\u001b[0;34m()\u001b[0m\n",
      "\u001b[0;32m~/opt/anaconda3/lib/python3.7/site-packages/numpy/core/_dtype.py\u001b[0m in \u001b[0;36m_name_get\u001b[0;34m(dtype)\u001b[0m\n\u001b[1;32m    336\u001b[0m \u001b[0;34m\u001b[0m\u001b[0m\n\u001b[1;32m    337\u001b[0m     \u001b[0;31m# append metadata to datetimes\u001b[0m\u001b[0;34m\u001b[0m\u001b[0;34m\u001b[0m\u001b[0;34m\u001b[0m\u001b[0m\n\u001b[0;32m--> 338\u001b[0;31m     \u001b[0;32melif\u001b[0m \u001b[0mdtype\u001b[0m\u001b[0;34m.\u001b[0m\u001b[0mtype\u001b[0m \u001b[0;32min\u001b[0m \u001b[0;34m(\u001b[0m\u001b[0mnp\u001b[0m\u001b[0;34m.\u001b[0m\u001b[0mdatetime64\u001b[0m\u001b[0;34m,\u001b[0m \u001b[0mnp\u001b[0m\u001b[0;34m.\u001b[0m\u001b[0mtimedelta64\u001b[0m\u001b[0;34m)\u001b[0m\u001b[0;34m:\u001b[0m\u001b[0;34m\u001b[0m\u001b[0;34m\u001b[0m\u001b[0m\n\u001b[0m\u001b[1;32m    339\u001b[0m         \u001b[0mname\u001b[0m \u001b[0;34m+=\u001b[0m \u001b[0m_datetime_metadata_str\u001b[0m\u001b[0;34m(\u001b[0m\u001b[0mdtype\u001b[0m\u001b[0;34m)\u001b[0m\u001b[0;34m\u001b[0m\u001b[0;34m\u001b[0m\u001b[0m\n\u001b[1;32m    340\u001b[0m \u001b[0;34m\u001b[0m\u001b[0m\n",
      "\u001b[0;31mKeyboardInterrupt\u001b[0m: "
     ]
    }
   ],
   "source": [
    "ashichip_lib_df = pd.DataFrame()\n",
    "vcf_df_all_hichip = pd.DataFrame()\n",
    "vcf_df_lib_all_hichip = pd.DataFrame()\n",
    "vcf_df_lib_hichip_all_hichip = pd.DataFrame()\n",
    "for vcf_file in sorted(vcf_files_hichip):\n",
    "    tissue = os.path.basename(vcf_file).split('_post')[0]\n",
    "    print('************')\n",
    "    print(tissue)\n",
    "    vcf_df = read_vcf(vcf_file)\n",
    "    vcf_df = pd.concat([vcf_df, vcf_df.apply(lambda x:preprocess_vcf(x,tissue),axis=1)], axis=1)\n",
    "    num_vcf_hits = vcf_df.shape[0]\n",
    "    print('num_vcf_hits PRE FILTER', num_vcf_hits)  \n",
    "    vcf_df = filter_vcf(vcf_df)\n",
    "    vcf_df['tissue'] = tissue\n",
    "    num_vcf_hits_postfilt = vcf_df.shape[0]\n",
    "    vcf_bed_df = vcf_df[['CHROM','POS','rowname']]\n",
    "    vcf_bed_df['stop'] = vcf_df.POS.map(int) + 1\n",
    "    vcf_bed_df = vcf_bed_df[['CHROM','POS','stop','rowname']]\n",
    "    vcf_bed_df.columns = ['chr','start','stop','name']\n",
    "    print('num_vcf_hits POST FILTER', num_vcf_hits_postfilt)      \n",
    "    vcf_df_all_hichip = pd.concat([vcf_df_all_hichip, vcf_df])\n",
    "\n",
    "    vcf_df_lib = vcf_df.merge(lib_df_bed_df, how='inner',on='rowname')\n",
    "    vcf_df_lib_all_hichip = pd.concat([vcf_df_lib_all_hichip, vcf_df_lib])\n",
    "    lib_hits = vcf_df_lib.rowname.unique()\n",
    "    num_lib_hits = lib_hits.shape[0]\n",
    "    print('background library hits that are asHiChIP', num_lib_tested,num_lib_hits, num_lib_hits/ num_lib_tested)\n",
    "    \n",
    "#     if tissue in mpra_tissue_mapper:\n",
    "#         mpra_res_df_tissue = mpra_res_df[mpra_res_df.tissue==mpra_tissue_mapper[tissue]]\n",
    "#         mpra_hits_tissue = mpra_res_df_tissue.rowname.unique()\n",
    "#         num_mpra_hits_tissue= mpra_hits_tissue.shape[0]\n",
    "# #         mpra_sig_df_lib = vcf_df.merge(mpra_res_df_tissue, how='inner',on='rowname')\n",
    "\n",
    "#         num_mpra_ashichip_hits = len(set(lib_hits).intersection(set(mpra_hits_tissue)))\n",
    "#         ashichip_lib_df_tissue=pd.DataFrame()\n",
    "#         ashichip_lib_df_tissue['rowname'] = sorted(set(lib_hits).intersection(set(mpra_hits_tissue)))\n",
    "#         ashichip_lib_df_tissue['tissue'] =  mpra_tissue_mapper[tissue]\n",
    "#         ashichip_lib_df = pd.concat([ashichip_lib_df, ashichip_lib_df_tissue])\n",
    "#         # do a hypergeometric test between being asHiChIP and being an mpra hit over a background of being in the mpra dataset\n",
    "    \n",
    "#         print('mpra sig library hits in tissue ', num_mpra_hits_tissue)\n",
    "#         print('overlap:', num_mpra_ashichip_hits)\n",
    "# #         oddsratio, pvalue = stats.fisher_exact([[num_lib_hits, num_lib_tested- num_lib_hits],\n",
    "# #                                                 [num_mpra_hits, num_mpra_sig_hits - num_mpra_hits]])\n",
    "# #         print('fisher for mpra and as annotation association', pvalue, oddsratio)\n",
    "#         phyper =  hypergeometric_test(num_mpra_ashichip_hits, num_lib_tested, num_mpra_hits_tissue, num_lib_hits)\n",
    "#         #stats.hypergeom.cdf(num_mpra_ashichip_hits, num_lib_tested, num_lib_hits, num_mpra_hits)\n",
    "#         print('hypergeometric test between being asHiChIP and MPRA hit over backgroun of being in mpra_dataset', phyper )\n",
    "#         phyper =  hypergeometric_test(num_mpra_ashichip_hits, num_vcf_hits, num_mpra_hits_tissue, num_lib_hits)\n",
    "#         print('hypergeometric test between being asHiChIP and MPRA hit over backgroun of being in an ashichip', phyper )\n",
    "    \n",
    "    ## filter through hichip\n",
    "    if  tissue not in hichip_tissue_mapper:\n",
    "        print(tissue,'not in hichip tissue mapper')\n",
    "        continue\n",
    "    hichip_tissue = hichip_tissue_mapper[tissue]\n",
    "    hichip_bed_file = os.path.join(hichip_peaks_dir, hichip_tissue+'_sort.bed')\n",
    "    if not os.path.exists(hichip_bed_file):\n",
    "        print('hichip file',hichip_bed_file, 'does not exist')\n",
    "        continue\n",
    "    hichip_bed = pybedtools.BedTool(hichip_bed_file).to_dataframe()\n",
    "    if type(hichip_bed['chrom'][0])==int:\n",
    "        hichip_bed['chrom'] = 'chr' + hichip_bed.chrom.map(str)\n",
    "        hichip_bed = pybedtools.BedTool.from_dataframe(hichip_bed)\n",
    "    else:\n",
    "        hichip_bed = pybedtools.BedTool(hichip_bed_file)\n",
    "        \n",
    "    vcf_bed_df_hichip = pybedtools.BedTool.from_dataframe(vcf_bed_df).intersect(hichip_bed).to_dataframe()\n",
    "    num_hichip_vcf = vcf_bed_df_hichip.name.unique().shape[0]\n",
    "    print('hichip filter', num_hichip_vcf, 'out of', vcf_bed_df.shape[0], 'allele-specific hichip', num_hichip_vcf/vcf_bed_df.shape[0])\n",
    "    lib_df_bed_hichip = lib_df_bed.intersect(hichip_bed).to_dataframe()\n",
    "    lib_hichip  = lib_df_bed_hichip.name.unique()\n",
    "    num_lib_hichip = lib_hichip.shape[0]\n",
    "    print('hichip filter', num_lib_hichip, 'out of', num_lib_tested, 'mpra alleles tested', num_lib_hichip/num_lib_tested)\n",
    "#     mpra_hichip = lib_df_bed_hichip[lib_df_bed_hichip.name.isin(mpra_rownames_sig)].name.unique()\n",
    "#     num_mpra_hichip = mpra_hichip.shape[0]\n",
    "#     print('hichip filter', num_mpra_hichip, 'out of', num_mpra_sig_hits, 'mpra alleles sig',num_mpra_hichip/num_mpra_sig_hits)\n",
    "    \n",
    "    vcf_df_lib_hichip = vcf_bed_df_hichip.merge(lib_df_bed_df, how='inner',left_on='name',right_on='rowname')\n",
    "    num_lib_hits_hichip = vcf_df_lib_hichip.rowname.unique().shape[0]\n",
    "    vcf_df_lib_hichip_all_hichip = pd.concat([vcf_df_lib_hichip_all_hichip, vcf_df_lib_hichip])\n",
    "#     mpra_sig_df_lib_hichip = vcf_bed_df_hichip.merge(mpra_res_df, how='inner',left_on='name',right_on='rowname')\n",
    "#     num_mpra_hits_hichip = mpra_sig_df_lib_hichip.rowname.unique().shape[0]\n",
    "    \n",
    "    print('background library hits-hichip filt', num_lib_hichip,num_lib_hits_hichip, num_lib_hits_hichip/ num_lib_hichip)\n",
    "#     print('mpra sig library hits-hichip filt', num_mpra_hichip,num_mpra_hits_hichip, num_mpra_hits_hichip/ num_mpra_hichip)\n",
    "#     if tissue in mpra_tissue_mapper:\n",
    "#         mpra_hits_tissue_hichip = set(mpra_hits_tissue).intersection(set(lib_hichip))\n",
    "#         num_mpra_hits_tissue_hichip= mpra_hits_tissue.shape[0]\n",
    "# #         mpra_sig_df_lib = vcf_df.merge(mpra_res_df_tissue, how='inner',on='rowname')\n",
    "\n",
    "#         num_mpra_ashichip_filthichip_hits = len(set(lib_hits).intersection(set(mpra_hits_tissue_hichip)))\n",
    "#         # do a hypergeometric test between being asHiChIP and being an mpra hit over a background of being in the mpra dataset\n",
    "\n",
    "#         print('mpra sig library hits in tissue hichip filt ', num_mpra_hits_tissue_hichip)\n",
    "#         print('overlap hichip:', num_mpra_ashichip_filthichip_hits)\n",
    "# #         oddsratio, pvalue = stats.fisher_exact([[num_lib_hits, num_lib_tested- num_lib_hits],\n",
    "# #                                                 [num_mpra_hits, num_mpra_sig_hits - num_mpra_hits]])\n",
    "# #         print('fisher for mpra and as annotation association', pvalue, oddsratio)\n",
    "#         phyper =  hypergeometric_test(num_mpra_ashichip_filthichip_hits, num_hichip_vcf, num_mpra_hits_tissue_hichip, num_lib_hichip)\n",
    "#         #stats.hypergeom.cdf(num_mpra_ashichip_hits, num_lib_tested, num_lib_hits, num_mpra_hits)\n",
    "#         print('hypergeometric test between being asHiChIP and MPRA hit over backgroun of being ashichip', phyper )\n",
    "\n"
   ]
  },
  {
   "cell_type": "code",
   "execution_count": null,
   "metadata": {},
   "outputs": [],
   "source": [
    "vcf_df_all_hichip.to_csv(os.path.join(save_dir, 'vcf_df_all_hichip.csv'))\n",
    "vcf_df_lib_all_hichip.to_csv(os.path.join(save_dir, 'vcf_df_lib_all_hichip.csv'))\n",
    "vcf_df_lib_hichip_all_hichip.to_csv(os.path.join(save_dir, 'vcf_df_lib_hichip_all_hichip.csv'))\n"
   ]
  },
  {
   "cell_type": "code",
   "execution_count": null,
   "metadata": {},
   "outputs": [],
   "source": [
    "ashichip_lib_df = vcf_df_lib_hichip_all_hichip.merge(vcf_df_all[['rowname','tissue']],how='left',on='rowname').drop_duplicates()..sort_values('tissue').groupby('rowname').agg({'tissue':'|'.join}).reset_index()\n",
    "ashichip_lib_df.columns = ['rowname','tissue_ashichip']\n",
    "ashichip_lib_df['bool_is_ashichip'] = True\n",
    "ashichip_lib_df= ashichip_lib_df.merge(lib_df_bed_df, how='left',on='rowname')\n",
    "ashichip_lib_df.to_csv(os.path.join(save_dir,'lib_ashichip_annotation_post_filt.csv'))\n"
   ]
  },
  {
   "cell_type": "code",
   "execution_count": null,
   "metadata": {},
   "outputs": [],
   "source": []
  }
 ],
 "metadata": {
  "kernelspec": {
   "display_name": "Python 3",
   "language": "python",
   "name": "python3"
  },
  "language_info": {
   "codemirror_mode": {
    "name": "ipython",
    "version": 3
   },
   "file_extension": ".py",
   "mimetype": "text/x-python",
   "name": "python",
   "nbconvert_exporter": "python",
   "pygments_lexer": "ipython3",
   "version": "3.7.4"
  }
 },
 "nbformat": 4,
 "nbformat_minor": 4
}
