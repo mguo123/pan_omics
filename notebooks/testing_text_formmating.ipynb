{
 "cells": [
  {
   "cell_type": "code",
   "execution_count": 16,
   "metadata": {},
   "outputs": [],
   "source": [
    "args={'f':'test'}\n",
    "x=\"\"\"#!/bin/bash\n",
    "# motif_scan_hint_singletissue.sbatch\n",
    "# 07/21/2020\n",
    "#SBATCH -J motif_match_${f}\n",
    "#SBATCH -p rbaltman,khavari\n",
    "#SBATCH -n 1\n",
    "#SBATCH --mem=64GB\n",
    "#SBATCH -o motif_match_hint_${f}.out \n",
    "#SBATCH -e motif_match_hint_${f}.err\n",
    "#SBATCH --time=24:00:00\n",
    "#SBATCH --mail-type=FAIL,END\n",
    "#SBATCH --mail-user=mguo123@stanford.edu\n",
    "\n",
    "ml biology\n",
    "ml samtools\n",
    "\n",
    "export RGTDATA=/oak/stanford/groups/khavari/users/mguo123/atac_footprinting/reg-gen/data\n",
    "export PATH=/share/software/user/open/python/2.7.13/bin:/share/software/user/open/sqlite/3.18.0/bin:/share/software/user/open/tcltk/8.6.6/bin:/share/software/user/open/libressl/2.5.3/bin:/share/software/user/open/xz/5.2.3/bin:/home/users/mguo123/.local/bin:/share/software/user/open/python/3.6.1/bin/python3:/share/software/user/srcc/bin:/usr/local/bin:/usr/bin:/usr/local/sbin:/usr/sbin:/opt/dell/srvadmin/bin:/home/users/mguo123/bin\n",
    "\n",
    "\n",
    "echo ${f}\n",
    "rgt-motifanalysis matching --input-files ${f} --motif-dbs /oak/stanford/groups/khavari/users/mguo123/atac_footprinting/reg-gen/data/motifs/hocomoco_human_trim --output-location results\n",
    "\n",
    "\"\"\".format(**args)#f='/oak/stanford/groups/khavari/users/mguo123/pan_omics/data/interim/merged/anchors_bed_sort/A431-p63i_sort.bed')\n",
    "with open('test.sbatch', 'w') as f:\n",
    "    f.write(x)"
   ]
  },
  {
   "cell_type": "code",
   "execution_count": 9,
   "metadata": {},
   "outputs": [
    {
     "data": {
      "text/plain": [
       "'line 1\\nline 2\\nline 3'"
      ]
     },
     "execution_count": 9,
     "metadata": {},
     "output_type": "execute_result"
    }
   ],
   "source": [
    "\n",
    "# vi motif_scan_hint_anchor.py\n",
    "\n",
    "import os, glob\n",
    "\n",
    "anchor_files = glob.glob('/oak/stanford/groups/khavari/users/mguo123/pan_omics/data/interim/merged/anchors_bed_sort/*bed')\n",
    "\n",
    "for anchor_file in anchor_files:\n",
    "    tissue =os.path.basename(anchor_file).split('_sort')[0]\n",
    "    args={'f':anchor_file, 'tissue':tissue}\n",
    "    x=\"\"\"#!/bin/bash\n",
    "# motif_scan_hint_singletissue.sbatch\n",
    "# 07/21/2020\n",
    "#SBATCH -J motif_match_{tissue}\n",
    "#SBATCH -p rbaltman,khavari\n",
    "#SBATCH -n 1\n",
    "#SBATCH --mem=64GB\n",
    "#SBATCH -o motif_match_hint_{tissue}.out \n",
    "#SBATCH -e motif_match_hint_{tissue}.err\n",
    "#SBATCH --time=24:00:00\n",
    "#SBATCH --mail-type=FAIL,END\n",
    "#SBATCH --mail-user=mguo123@stanford.edu\n",
    "\n",
    "ml biology\n",
    "ml samtools\n",
    "\n",
    "export RGTDATA=/oak/stanford/groups/khavari/users/mguo123/atac_footprinting/reg-gen/data\n",
    "export PATH=/share/software/user/open/python/2.7.13/bin:/share/software/user/open/sqlite/3.18.0/bin:/share/software/user/open/tcltk/8.6.6/bin:/share/software/user/open/libressl/2.5.3/bin:/share/software/user/open/xz/5.2.3/bin:/home/users/mguo123/.local/bin:/share/software/user/open/python/3.6.1/bin/python3:/share/software/user/srcc/bin:/usr/local/bin:/usr/bin:/usr/local/sbin:/usr/sbin:/opt/dell/srvadmin/bin:/home/users/mguo123/bin\n",
    "\n",
    "\n",
    "echo {f}\n",
    "rgt-motifanalysis matching --input-files {f} --motif-dbs /oak/stanford/groups/khavari/users/mguo123/atac_footprinting/reg-gen/data/motifs/hocomoco_human_trim --output-location results\n",
    "\n",
    "\"\"\".format(**args)#f='/oak/stanford/groups/khavari/users/mguo123/pan_omics/data/interim/merged/anchors_bed_sort/A431-p63i_sort.bed')\n",
    "    with open('motif_scan_anchor_'+tissue+'.sbatch', 'w') as f:\n",
    "        f.write(x)"
   ]
  },
  {
   "cell_type": "code",
   "execution_count": null,
   "metadata": {},
   "outputs": [],
   "source": []
  }
 ],
 "metadata": {
  "kernelspec": {
   "display_name": "Python 3",
   "language": "python",
   "name": "python3"
  },
  "language_info": {
   "codemirror_mode": {
    "name": "ipython",
    "version": 3
   },
   "file_extension": ".py",
   "mimetype": "text/x-python",
   "name": "python",
   "nbconvert_exporter": "python",
   "pygments_lexer": "ipython3",
   "version": "3.7.4"
  }
 },
 "nbformat": 4,
 "nbformat_minor": 4
}
