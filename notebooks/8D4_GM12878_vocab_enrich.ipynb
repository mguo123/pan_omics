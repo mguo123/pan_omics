{
 "cells": [
  {
   "cell_type": "markdown",
   "metadata": {},
   "source": [
    "08/04/2020\n",
    "\n",
    "GM12878 Vocab Finder"
   ]
  },
  {
   "cell_type": "code",
   "execution_count": 1,
   "metadata": {},
   "outputs": [],
   "source": [
    "# basic packages\n",
    "import os, glob\n",
    "import pandas as pd\n",
    "import numpy as np; np.random.seed(0)\n",
    "import itertools\n",
    "from collections import Counter, defaultdict\n",
    "import time\n",
    "# Import tools needed for visualization\n",
    "import seaborn as sns; sns.set()\n",
    "import matplotlib\n",
    "import matplotlib.pyplot as plt"
   ]
  },
  {
   "cell_type": "code",
   "execution_count": 2,
   "metadata": {},
   "outputs": [],
   "source": [
    "save_dir = '../data/processed/fig4_modelling/vocab_sum/'\n",
    "if not os.path.exists(save_dir):\n",
    "    os.makedirs(save_dir)"
   ]
  },
  {
   "cell_type": "code",
   "execution_count": 3,
   "metadata": {},
   "outputs": [],
   "source": [
    "TISSUE = 'GM12878'"
   ]
  },
  {
   "cell_type": "code",
   "execution_count": 4,
   "metadata": {},
   "outputs": [],
   "source": [
    "MAX_DIST=135\n"
   ]
  },
  {
   "cell_type": "code",
   "execution_count": 5,
   "metadata": {},
   "outputs": [
    {
     "name": "stdout",
     "output_type": "stream",
     "text": [
      "['Airway' 'Astrocytes' 'Bladder' 'Colon' 'Esophageal' 'Pancreas' 'Renal'\n",
      " 'Keratinocytes' 'GM12878' 'Melanocytes' 'Ovarian' 'HMEC' 'Uterine'\n",
      " 'Prostate' 'Thyroid' 'Melanoma']\n",
      "18\n",
      "['BACH2', 'BATF', 'BATF3', 'BCL6', 'E2A', 'EBF1', 'FOSL1', 'IKAROS', 'IKZF1', 'IRF2', 'IRF4', 'IRF8', 'MYB', 'PAX5', 'SOX4', 'TAL1', 'TCF3', 'ZBTB20']\n"
     ]
    }
   ],
   "source": [
    "#get tfs\n",
    "tf_df = pd.read_csv('../data/external/transcription_factor_info_063020.csv')\n",
    "print(tf_df['cell_type'].unique())\n",
    "TFS = sorted(set(tf_df[tf_df['cell_type']=='GM12878'][\"tf\"]))##### DIFFERENT FOR EACH TISSUE\n",
    "print(len(TFS))\n",
    "print(TFS)\n"
   ]
  },
  {
   "cell_type": "code",
   "execution_count": 6,
   "metadata": {},
   "outputs": [],
   "source": [
    "vocab_dir = '../data/processed/fig4_modelling/tf_tf_pairs/'"
   ]
  },
  {
   "cell_type": "markdown",
   "metadata": {},
   "source": [
    "read in loop_types"
   ]
  },
  {
   "cell_type": "code",
   "execution_count": 7,
   "metadata": {},
   "outputs": [
    {
     "data": {
      "text/plain": [
       "['../data/processed/fig4_modelling/tf_tf_pairs/expr_Astrocytes_loop_type.csv',\n",
       " '../data/processed/fig4_modelling/tf_tf_pairs/expr_GM12878_loop_type.csv',\n",
       " '../data/processed/fig4_modelling/tf_tf_pairs/expr_Thyroid_loop_type.csv',\n",
       " '../data/processed/fig4_modelling/tf_tf_pairs/expr_GDSD0_loop_type.csv',\n",
       " '../data/processed/fig4_modelling/tf_tf_pairs/unique_Astrocytes_loop_type.csv',\n",
       " '../data/processed/fig4_modelling/tf_tf_pairs/expr_Esophageal_loop_type.csv',\n",
       " '../data/processed/fig4_modelling/tf_tf_pairs/unique_HMEC_loop_type.csv',\n",
       " '../data/processed/fig4_modelling/tf_tf_pairs/unique_Esophageal_loop_type.csv',\n",
       " '../data/processed/fig4_modelling/tf_tf_pairs/expr_Prostate_loop_type.csv',\n",
       " '../data/processed/fig4_modelling/tf_tf_pairs/expr_GDSD3_loop_type.csv',\n",
       " '../data/processed/fig4_modelling/tf_tf_pairs/expr_Colon_loop_type.csv',\n",
       " '../data/processed/fig4_modelling/tf_tf_pairs/unique_Ovarian_loop_type.csv',\n",
       " '../data/processed/fig4_modelling/tf_tf_pairs/expr_Airway_loop_type.csv',\n",
       " '../data/processed/fig4_modelling/tf_tf_pairs/unique_Uterine_loop_type.csv',\n",
       " '../data/processed/fig4_modelling/tf_tf_pairs/unique_Melanocytes_loop_type.csv',\n",
       " '../data/processed/fig4_modelling/tf_tf_pairs/unique_Bladder_loop_type.csv',\n",
       " '../data/processed/fig4_modelling/tf_tf_pairs/expr_Bladder_loop_type.csv',\n",
       " '../data/processed/fig4_modelling/tf_tf_pairs/expr_Melanocytes_loop_type.csv',\n",
       " '../data/processed/fig4_modelling/tf_tf_pairs/expr_Uterine_loop_type.csv',\n",
       " '../data/processed/fig4_modelling/tf_tf_pairs/expr_Pancreas_loop_type.csv',\n",
       " '../data/processed/fig4_modelling/tf_tf_pairs/expr_Renal_loop_type.csv',\n",
       " '../data/processed/fig4_modelling/tf_tf_pairs/unique_Renal_loop_type.csv',\n",
       " '../data/processed/fig4_modelling/tf_tf_pairs/expr_Ovarian_loop_type.csv',\n",
       " '../data/processed/fig4_modelling/tf_tf_pairs/unique_GDSD6_loop_type.csv',\n",
       " '../data/processed/fig4_modelling/tf_tf_pairs/expr_GDSD6_loop_type.csv',\n",
       " '../data/processed/fig4_modelling/tf_tf_pairs/unique_Prostate_loop_type.csv',\n",
       " '../data/processed/fig4_modelling/tf_tf_pairs/expr_HMEC_loop_type.csv',\n",
       " '../data/processed/fig4_modelling/tf_tf_pairs/unique_Thyroid_loop_type.csv',\n",
       " '../data/processed/fig4_modelling/tf_tf_pairs/unique_GM12878_loop_type.csv']"
      ]
     },
     "execution_count": 7,
     "metadata": {},
     "output_type": "execute_result"
    }
   ],
   "source": [
    "glob.glob('../data/processed/fig4_modelling/tf_tf_pairs/'+'*loop_type*')"
   ]
  },
  {
   "cell_type": "markdown",
   "metadata": {},
   "source": [
    "# 1 understand the types of vocabularies pulled out and where they come from\n",
    "\n",
    "## 1A. enriched vocabularies from unique tissue genes"
   ]
  },
  {
   "cell_type": "code",
   "execution_count": 10,
   "metadata": {},
   "outputs": [
    {
     "name": "stdout",
     "output_type": "stream",
     "text": [
      "0\n",
      "[]\n",
      "0\n",
      "[]\n",
      "1251\n",
      "['ARID3A::ARID5B' 'ARID3A::BATF3' 'ARID3A::BCL11A' ... 'ZNF18::ZNF41'\n",
      " 'ZNF18::ZNF586' 'ZNF18::ZNF816']\n",
      "595\n",
      "['ARID5B::BCL11A' 'ARID5B::BHLHE22' 'ARID5B::EGR2' 'ARID5B::EGR3'\n",
      " 'ARID5B::ETV5' 'ARID5B::FLI1' 'ARID5B::FOXJ3' 'ARID5B::FUBP1'\n",
      " 'ARID5B::HMGA1' 'ARID5B::IKZF1' 'ARID5B::IRF1' 'ARID5B::IRF2'\n",
      " 'ARID5B::IRF3' 'ARID5B::IRF4' 'ARID5B::IRF5' 'ARID5B::IRF7'\n",
      " 'ARID5B::IRF8' 'ARID5B::LEF1' 'ARID5B::MEF2A' 'ARID5B::MEF2C'\n",
      " 'ARID5B::MEF2D' 'ARID5B::MYBL2' 'ARID5B::NFAT5' 'ARID5B::NFATC4'\n",
      " 'ARID5B::NFKB1' 'ARID5B::NFKB2' 'ARID5B::NR3C1' 'ARID5B::PAX5'\n",
      " 'ARID5B::POU2F2' 'ARID5B::RREB1' 'ARID5B::SP4' 'ARID5B::STAT1'\n",
      " 'ARID5B::STAT2' 'ARID5B::UBP1' 'ARID5B::ZBTB49' 'ARID5B::ZNF41'\n",
      " 'ARID5B::ZNF589' 'BATF3::NFAT5' 'BATF3::NFATC4' 'BCL11A::EBF1'\n",
      " 'BCL11A::EGR2' 'BCL11A::EGR3' 'BCL11A::ETV5' 'BCL11A::FLI1'\n",
      " 'BCL11A::FOXJ3' 'BCL11A::HMGA1' 'BCL11A::IRF1' 'BCL11A::IRF2'\n",
      " 'BCL11A::IRF3' 'BCL11A::IRF4' 'BCL11A::IRF5' 'BCL11A::IRF7'\n",
      " 'BCL11A::IRF8' 'BCL11A::IRF9' 'BCL11A::LEF1' 'BCL11A::MEF2A'\n",
      " 'BCL11A::MEF2C' 'BCL11A::MEF2D' 'BCL11A::MESP1' 'BCL11A::MNX1'\n",
      " 'BCL11A::MYBL2' 'BCL11A::NFAT5' 'BCL11A::NFATC1' 'BCL11A::NFATC2'\n",
      " 'BCL11A::NFATC4' 'BCL11A::NFKB1' 'BCL11A::NFKB2' 'BCL11A::NR3C1'\n",
      " 'BCL11A::PRDM1' 'BCL11A::RREB1' 'BCL11A::SP4' 'BCL11A::SPIB'\n",
      " 'BCL11A::STAT1' 'BCL11A::STAT2' 'BCL11A::TBX21' 'BCL11A::UBP1'\n",
      " 'BCL11A::ZNF18' 'BCL11A::ZNF41' 'BCL11A::ZNF589' 'BCL11A::ZNF816'\n",
      " 'BHLHE22::FLI1' 'BHLHE22::HMGA1' 'BHLHE22::NFAT5' 'BHLHE22::NFATC4'\n",
      " 'BHLHE22::NFKB1' 'BHLHE22::NFKB2' 'BHLHE22::POU2F2' 'BHLHE22::UBP1'\n",
      " 'BPTF::FOXJ3' 'BPTF::MYBL2' 'BPTF::ZNF589' 'CBFB::ETV5' 'CBFB::FLI1'\n",
      " 'CBFB::PAX5' 'CBFB::RUNX3' 'CBFB::UBP1' 'CBFB::ZNF589' 'EBF1::MEIS2'\n",
      " 'EBF1::MYBL2' 'EBF1::NFKB1' 'EBF1::NFKB2' 'EBF1::TGIF2' 'EBF1::ZNF589'\n",
      " 'EGR2::EGR3' 'EGR2::ETV5' 'EGR2::FLI1' 'EGR2::IKZF1' 'EGR2::IRF1'\n",
      " 'EGR2::IRF2' 'EGR2::IRF3' 'EGR2::IRF4' 'EGR2::IRF5' 'EGR2::IRF7'\n",
      " 'EGR2::MNX1' 'EGR2::MYBL2' 'EGR2::NFAT5' 'EGR2::NFATC4' 'EGR2::NR3C1'\n",
      " 'EGR2::RREB1' 'EGR2::SP4' 'EGR2::SPIB' 'EGR2::TP73' 'EGR2::UBP1'\n",
      " 'EGR2::ZNF41' 'EGR2::ZNF589' 'EGR2::ZNF816' 'EGR3::ETV5' 'EGR3::IRF1'\n",
      " 'EGR3::IRF2' 'EGR3::IRF3' 'EGR3::IRF4' 'EGR3::IRF5' 'EGR3::IRF7'\n",
      " 'EGR3::IRF8' 'EGR3::IRF9' 'EGR3::NFAT5' 'EGR3::NFATC4' 'EGR3::PRDM1'\n",
      " 'EGR3::SP4' 'EGR3::SPIB' 'EGR3::STAT1' 'EGR3::STAT2' 'EGR3::UBP1'\n",
      " 'EGR3::ZNF589' 'ETV5::FLI1' 'ETV5::HMGA1' 'ETV5::IRF1' 'ETV5::IRF2'\n",
      " 'ETV5::IRF4' 'ETV5::IRF5' 'ETV5::IRF7' 'ETV5::IRF8' 'ETV5::MEF2A'\n",
      " 'ETV5::MEF2C' 'ETV5::MESP1' 'ETV5::MNX1' 'ETV5::MYBL2' 'ETV5::NFAT5'\n",
      " 'ETV5::NFATC1' 'ETV5::NFATC2' 'ETV5::NFATC4' 'ETV5::NFKB1' 'ETV5::NFKB2'\n",
      " 'ETV5::NR3C1' 'ETV5::PRDM1' 'ETV5::RREB1' 'ETV5::SP4' 'ETV5::SPIB'\n",
      " 'ETV5::TP73' 'ETV5::UBP1' 'ETV5::ZNF41' 'ETV5::ZNF589' 'ETV5::ZNF816'\n",
      " 'FLI1::HMGA1' 'FLI1::IRF1' 'FLI1::IRF2' 'FLI1::IRF3' 'FLI1::IRF4'\n",
      " 'FLI1::IRF5' 'FLI1::IRF8' 'FLI1::MEF2A' 'FLI1::MEF2C' 'FLI1::MNX1'\n",
      " 'FLI1::MYBL2' 'FLI1::NFAT5' 'FLI1::NFATC1' 'FLI1::NFATC2' 'FLI1::NFATC4'\n",
      " 'FLI1::NFKB1' 'FLI1::NFKB2' 'FLI1::NR3C1' 'FLI1::POU2F2' 'FLI1::PRDM1'\n",
      " 'FLI1::RREB1' 'FLI1::SP4' 'FLI1::SPIB' 'FLI1::TBX21' 'FLI1::TP73'\n",
      " 'FLI1::UBP1' 'FLI1::ZNF18' 'FLI1::ZNF41' 'FLI1::ZNF589' 'FLI1::ZNF816'\n",
      " 'FOXJ3::FUBP1' 'FOXJ3::HMGA1' 'FOXJ3::IRF1' 'FOXJ3::IRF2' 'FOXJ3::IRF3'\n",
      " 'FOXJ3::IRF4' 'FOXJ3::IRF5' 'FOXJ3::IRF7' 'FOXJ3::IRF8' 'FOXJ3::LEF1'\n",
      " 'FOXJ3::MEF2A' 'FOXJ3::MEF2C' 'FOXJ3::MEF2D' 'FOXJ3::MYBL2'\n",
      " 'FOXJ3::NFAT5' 'FOXJ3::NFATC4' 'FOXJ3::NFKB1' 'FOXJ3::NR3C1'\n",
      " 'FOXJ3::RREB1' 'FOXJ3::STAT1' 'FOXJ3::STAT2' 'FOXJ3::UBP1'\n",
      " 'FOXJ3::ZBTB49' 'FOXJ3::ZNF589' 'FUBP1::HMGA1' 'FUBP1::IRF1'\n",
      " 'FUBP1::IRF2' 'FUBP1::IRF3' 'FUBP1::IRF5' 'FUBP1::IRF7' 'FUBP1::NR3C1'\n",
      " 'FUBP1::RREB1' 'FUBP1::STAT1' 'FUBP1::STAT2' 'FUBP1::UBP1'\n",
      " 'FUBP1::ZBTB49' 'HMGA1::IRF1' 'HMGA1::IRF2' 'HMGA1::IRF3' 'HMGA1::IRF4'\n",
      " 'HMGA1::IRF5' 'HMGA1::IRF7' 'HMGA1::IRF8' 'HMGA1::LEF1' 'HMGA1::MEF2A'\n",
      " 'HMGA1::MEF2C' 'HMGA1::MEF2D' 'HMGA1::MYBL2' 'HMGA1::NFAT5'\n",
      " 'HMGA1::NFATC4' 'HMGA1::NFKB1' 'HMGA1::NFKB2' 'HMGA1::NR3C1'\n",
      " 'HMGA1::PAX5' 'HMGA1::POU2F2' 'HMGA1::RREB1' 'HMGA1::SP4' 'HMGA1::STAT1'\n",
      " 'HMGA1::STAT2' 'HMGA1::UBP1' 'HMGA1::ZBTB49' 'HMGA1::ZNF589'\n",
      " 'IKZF1::MYBL2' 'IKZF1::RREB1' 'IKZF1::SP4' 'IKZF1::UBP1' 'IKZF1::ZNF589'\n",
      " 'IRF1::IRF2' 'IRF1::IRF3' 'IRF1::IRF4' 'IRF1::IRF5' 'IRF1::IRF7'\n",
      " 'IRF1::IRF8' 'IRF1::IRF9' 'IRF1::NFAT5' 'IRF1::NFATC1' 'IRF1::NFATC2'\n",
      " 'IRF1::NFATC4' 'IRF1::NR3C1' 'IRF1::PRDM1' 'IRF1::RREB1' 'IRF1::SP4'\n",
      " 'IRF1::SPIB' 'IRF1::STAT1' 'IRF1::STAT2' 'IRF1::TP73' 'IRF1::UBP1'\n",
      " 'IRF1::ZBTB49' 'IRF1::ZNF41' 'IRF1::ZNF816' 'IRF2::IRF3' 'IRF2::IRF4'\n",
      " 'IRF2::IRF5' 'IRF2::IRF7' 'IRF2::IRF8' 'IRF2::IRF9' 'IRF2::NFAT5'\n",
      " 'IRF2::NFATC4' 'IRF2::NR3C1' 'IRF2::PRDM1' 'IRF2::RREB1' 'IRF2::SP4'\n",
      " 'IRF2::SPIB' 'IRF2::STAT1' 'IRF2::STAT2' 'IRF2::TP73' 'IRF2::UBP1'\n",
      " 'IRF2::ZBTB49' 'IRF2::ZNF816' 'IRF3::IRF4' 'IRF3::IRF5' 'IRF3::IRF7'\n",
      " 'IRF3::IRF8' 'IRF3::IRF9' 'IRF3::NFAT5' 'IRF3::NFATC4' 'IRF3::NR3C1'\n",
      " 'IRF3::PRDM1' 'IRF3::RREB1' 'IRF3::SP4' 'IRF3::SPIB' 'IRF3::STAT1'\n",
      " 'IRF3::STAT2' 'IRF3::UBP1' 'IRF3::ZBTB49' 'IRF3::ZNF41' 'IRF3::ZNF589'\n",
      " 'IRF4::IRF5' 'IRF4::IRF7' 'IRF4::IRF8' 'IRF4::IRF9' 'IRF4::LEF1'\n",
      " 'IRF4::MEF2A' 'IRF4::MEF2C' 'IRF4::MEF2D' 'IRF4::MNX1' 'IRF4::MYBL2'\n",
      " 'IRF4::NFAT5' 'IRF4::NFATC1' 'IRF4::NFATC2' 'IRF4::NFATC4' 'IRF4::NFKB1'\n",
      " 'IRF4::NR3C1' 'IRF4::PRDM1' 'IRF4::RREB1' 'IRF4::SP4' 'IRF4::SPIB'\n",
      " 'IRF4::STAT1' 'IRF4::STAT2' 'IRF4::UBP1' 'IRF4::ZNF41' 'IRF4::ZNF589'\n",
      " 'IRF4::ZNF816' 'IRF5::IRF7' 'IRF5::IRF8' 'IRF5::IRF9' 'IRF5::NFAT5'\n",
      " 'IRF5::NFATC1' 'IRF5::NFATC2' 'IRF5::NFATC4' 'IRF5::NR3C1' 'IRF5::PRDM1'\n",
      " 'IRF5::RREB1' 'IRF5::SP4' 'IRF5::SPIB' 'IRF5::STAT1' 'IRF5::STAT2'\n",
      " 'IRF5::TP73' 'IRF5::UBP1' 'IRF5::ZBTB49' 'IRF5::ZNF41' 'IRF5::ZNF816'\n",
      " 'IRF7::IRF8' 'IRF7::IRF9' 'IRF7::LEF1' 'IRF7::MEF2A' 'IRF7::MEF2C'\n",
      " 'IRF7::MEF2D' 'IRF7::MYBL2' 'IRF7::NFAT5' 'IRF7::NFATC4' 'IRF7::NFKB1'\n",
      " 'IRF7::NR3C1' 'IRF7::POU2F2' 'IRF7::PRDM1' 'IRF7::RREB1' 'IRF7::SP4'\n",
      " 'IRF7::SPIB' 'IRF7::STAT1' 'IRF7::STAT2' 'IRF7::TP73' 'IRF7::UBP1'\n",
      " 'IRF7::ZBTB49' 'IRF7::ZNF589' 'IRF8::IRF9' 'IRF8::LEF1' 'IRF8::MEF2A'\n",
      " 'IRF8::MEF2C' 'IRF8::MEF2D' 'IRF8::MYBL2' 'IRF8::NFAT5' 'IRF8::NFATC1'\n",
      " 'IRF8::NFATC2' 'IRF8::NFATC4' 'IRF8::NFKB1' 'IRF8::PRDM1' 'IRF8::SPIB'\n",
      " 'IRF8::STAT1' 'IRF8::STAT2' 'IRF8::UBP1' 'IRF8::ZNF41' 'IRF8::ZNF589'\n",
      " 'IRF9::NFAT5' 'IRF9::NFATC4' 'IRF9::PRDM1' 'IRF9::SPIB' 'IRF9::STAT1'\n",
      " 'IRF9::STAT2' 'IRF9::UBP1' 'LEF1::MEF2A' 'LEF1::MEF2C' 'LEF1::MEF2D'\n",
      " 'LEF1::MYBL2' 'LEF1::NFAT5' 'LEF1::NFATC4' 'LEF1::NFKB1' 'LEF1::SP4'\n",
      " 'LEF1::UBP1' 'LEF1::ZNF41' 'LEF1::ZNF586' 'LEF1::ZNF589' 'MEF2A::MEF2C'\n",
      " 'MEF2A::MEF2D' 'MEF2A::MYBL2' 'MEF2A::NFAT5' 'MEF2A::NFATC4'\n",
      " 'MEF2A::NFKB1' 'MEF2A::UBP1' 'MEF2A::ZNF589' 'MEF2C::MEF2D'\n",
      " 'MEF2C::MYBL2' 'MEF2C::NFAT5' 'MEF2C::NFATC4' 'MEF2C::NFKB1'\n",
      " 'MEF2C::UBP1' 'MEF2C::ZNF589' 'MEF2D::MYBL2' 'MEF2D::NFAT5'\n",
      " 'MEF2D::NFATC4' 'MEF2D::NFKB1' 'MEF2D::UBP1' 'MEF2D::ZNF589'\n",
      " 'MEIS2::MYBL2' 'MEIS2::NFKB1' 'MEIS2::NFKB2' 'MEIS2::TGIF2'\n",
      " 'MEIS2::ZNF589' 'MESP1::MYBL2' 'MESP1::NFAT5' 'MESP1::NFATC4'\n",
      " 'MESP1::NFKB1' 'MESP1::NFKB2' 'MESP1::NR3C1' 'MESP1::SPIB'\n",
      " 'MESP1::ZNF589' 'MNX1::NR3C1' 'MNX1::RREB1' 'MNX1::SP4' 'MNX1::SPIB'\n",
      " 'MNX1::UBP1' 'MNX1::ZNF816' 'MYBL2::NFAT5' 'MYBL2::NFATC4' 'MYBL2::NFKB1'\n",
      " 'MYBL2::NFKB2' 'MYBL2::POU2F2' 'MYBL2::RREB1' 'MYBL2::SP4' 'MYBL2::SPIB'\n",
      " 'MYBL2::TGIF2' 'MYBL2::UBP1' 'MYBL2::ZNF41' 'MYBL2::ZNF586'\n",
      " 'MYBL2::ZNF589' 'NFAT5::NFATC1' 'NFAT5::NFATC2' 'NFAT5::NFATC4'\n",
      " 'NFAT5::NFKB1' 'NFAT5::NFKB2' 'NFAT5::POU2F2' 'NFAT5::PRDM1' 'NFAT5::SP4'\n",
      " 'NFAT5::SPIB' 'NFAT5::STAT1' 'NFAT5::STAT2' 'NFAT5::TBX21' 'NFAT5::TP73'\n",
      " 'NFAT5::UBP1' 'NFAT5::ZNF18' 'NFAT5::ZNF41' 'NFAT5::ZNF589'\n",
      " 'NFATC1::NFATC2' 'NFATC1::NFATC4' 'NFATC1::UBP1' 'NFATC1::ZNF41'\n",
      " 'NFATC2::NFATC4' 'NFATC2::UBP1' 'NFATC2::ZNF41' 'NFATC4::NFKB1'\n",
      " 'NFATC4::NFKB2' 'NFATC4::POU2F2' 'NFATC4::PRDM1' 'NFATC4::SP4'\n",
      " 'NFATC4::SPIB' 'NFATC4::STAT1' 'NFATC4::STAT2' 'NFATC4::TBX21'\n",
      " 'NFATC4::TP73' 'NFATC4::UBP1' 'NFATC4::ZNF18' 'NFATC4::ZNF41'\n",
      " 'NFATC4::ZNF589' 'NFKB1::NFKB2' 'NFKB1::POU2F2' 'NFKB1::SPIB'\n",
      " 'NFKB1::TGIF2' 'NFKB1::UBP1' 'NFKB1::ZNF41' 'NFKB1::ZNF589'\n",
      " 'NFKB2::POU2F2' 'NFKB2::SPIB' 'NFKB2::TGIF2' 'NFKB2::UBP1'\n",
      " 'NFKB2::ZNF589' 'NR3C1::RREB1' 'NR3C1::SP4' 'NR3C1::SPIB' 'NR3C1::STAT1'\n",
      " 'NR3C1::STAT2' 'NR3C1::UBP1' 'NR3C1::ZBTB49' 'NR3C1::ZNF816'\n",
      " 'PAX5::RUNX3' 'PAX5::SP4' 'PAX5::UBP1' 'PAX5::ZNF589' 'POU2F2::UBP1'\n",
      " 'POU2F2::ZNF589' 'PRDM1::SPIB' 'PRDM1::STAT1' 'PRDM1::STAT2'\n",
      " 'PRDM1::UBP1' 'RREB1::SP4' 'RREB1::SPIB' 'RREB1::STAT1' 'RREB1::STAT2'\n",
      " 'RREB1::UBP1' 'RREB1::ZBTB49' 'RREB1::ZNF41' 'RREB1::ZNF589'\n",
      " 'RREB1::ZNF816' 'RUNX3::ZNF589' 'SP4::SPIB' 'SP4::TP73' 'SP4::UBP1'\n",
      " 'SP4::ZNF41' 'SP4::ZNF586' 'SP4::ZNF589' 'SP4::ZNF816' 'SPIB::STAT1'\n",
      " 'SPIB::STAT2' 'SPIB::TP73' 'SPIB::UBP1' 'SPIB::ZNF589' 'SPIB::ZNF816'\n",
      " 'STAT1::STAT2' 'STAT1::UBP1' 'STAT1::ZBTB49' 'STAT2::UBP1'\n",
      " 'STAT2::ZBTB49' 'TBX21::ZNF18' 'TCF7::UBP1' 'TGIF2::ZNF589' 'TP73::UBP1'\n",
      " 'TP73::ZNF816' 'UBP1::ZBTB49' 'UBP1::ZNF41' 'UBP1::ZNF589' 'UBP1::ZNF816'\n",
      " 'ZNF41::ZNF586' 'ZNF41::ZNF589' 'ZNF586::ZNF589']\n"
     ]
    }
   ],
   "source": [
    "loop_type_df = pd.read_csv('../data/processed/fig4_modelling/tf_tf_pairs/unique_'+TISSUE+'_loop_type.csv',index_col=0).fillna('')\n",
    "pro_pro_vocab = loop_type_df[(loop_type_df.pro_pro_count>0) & (loop_type_df.loop_loop_count==0) & (loop_type_df.pro_loop_count==0)].index.values\n",
    "print(len(pro_pro_vocab))\n",
    "print(pro_pro_vocab)\n",
    "pro_loop_vocab = loop_type_df[(loop_type_df.pro_pro_count==0) & (loop_type_df.loop_loop_count==0) & (loop_type_df.pro_loop_count>0)].index.values\n",
    "print(len(pro_loop_vocab))\n",
    "print(pro_loop_vocab)\n",
    "\n",
    "loop_loop_vocab = loop_type_df[(loop_type_df.pro_pro_count==0) & (loop_type_df.loop_loop_count>0) & (loop_type_df.pro_loop_count==0)].index.values\n",
    "print(len(loop_loop_vocab))\n",
    "print(loop_loop_vocab)\n",
    "\n",
    "all_vocab = loop_type_df[(loop_type_df.pro_pro_count>0) & (loop_type_df.loop_loop_count>0) & (loop_type_df.pro_loop_count>0)].index.values\n",
    "print(len(all_vocab))\n",
    "print(all_vocab)\n"
   ]
  },
  {
   "cell_type": "markdown",
   "metadata": {},
   "source": [
    "## 1b enriched vocab from expressed genes in KRT"
   ]
  },
  {
   "cell_type": "code",
   "execution_count": 11,
   "metadata": {},
   "outputs": [
    {
     "name": "stdout",
     "output_type": "stream",
     "text": [
      "1\n",
      "['HMX2::HOXB4']\n",
      "0\n",
      "[]\n",
      "613\n",
      "['ARID3A::HIC1' 'ARID3A::HMX2' 'ARID3A::TBX21' 'ARID3A::ZNF136'\n",
      " 'BATF3::BRCA1' 'BATF3::DBP' 'BATF3::FOXJ2' 'BATF3::HIVEP1' 'BATF3::HMX2'\n",
      " 'BATF3::HOXB2' 'BATF3::HOXB4' 'BATF3::MYB' 'BATF3::MYNN' 'BATF3::NFIL3'\n",
      " 'BATF3::NFKB1' 'BATF3::NFKB2' 'BATF3::PAX5' 'BATF3::TBP' 'BATF3::TBX21'\n",
      " 'BATF3::TGIF2' 'BATF3::ZNF232' 'BATF3::ZNF264' 'BATF3::ZNF317'\n",
      " 'BATF3::ZNF394' 'BATF3::ZSCAN16' 'BATF::MYNN' 'BATF::ZNF264'\n",
      " 'BCL11A::HMX2' 'BCL11A::LHX2' 'BHLHE22::E2F2' 'BHLHE22::GFI1'\n",
      " 'BHLHE22::HMX2' 'BHLHE22::HOXB4' 'BHLHE22::MYNN' 'BHLHE22::NFIL3'\n",
      " 'BHLHE22::NR4A2' 'BHLHE22::RELA' 'BHLHE22::RFX3' 'BHLHE22::ZBTB7B'\n",
      " 'BHLHE22::ZNF232' 'BHLHE22::ZNF264' 'BPTF::HIC1' 'BRCA1::CREB3L1'\n",
      " 'BRCA1::E2F2' 'BRCA1::HIC1' 'BRCA1::HMX2' 'BRCA1::LHX2' 'BRCA1::MEF2C'\n",
      " 'BRCA1::MLX' 'BRCA1::MNX1' 'BRCA1::MYB' 'BRCA1::NFATC2' 'BRCA1::RFX3'\n",
      " 'BRCA1::TGIF2' 'BRCA1::USF2' 'BRCA1::ZBTB6' 'BRCA1::ZNF136'\n",
      " 'BRCA1::ZNF264' 'BRCA1::ZNF586' 'CBFB::HMX2' 'CBFB::ZNF264' 'CLOCK::GFI1'\n",
      " 'CLOCK::HIC1' 'CLOCK::HMX2' 'CLOCK::LHX2' 'CLOCK::MEIS2' 'CLOCK::MYB'\n",
      " 'CLOCK::TBX21' 'CLOCK::TGIF2' 'CLOCK::ZNF136' 'CLOCK::ZNF264'\n",
      " 'CLOCK::ZNF586' 'CREB3L1::HMX2' 'CREB3L1::HOXB2' 'CREB3L1::HOXB4'\n",
      " 'CREB3L1::MYB' 'CREB3L1::NR4A2' 'CREB3L1::ZNF232' 'CREB3L1::ZNF264'\n",
      " 'CREB3L1::ZNF317' 'CREB3L1::ZSCAN16' 'DBP::GFI1' 'DBP::HIC1' 'DBP::HMX2'\n",
      " 'DBP::LHX2' 'DBP::TP73' 'DBP::ZEB1' 'DBP::ZNF136' 'DBP::ZNF264'\n",
      " 'E2F2::FOXJ2' 'E2F2::FOXP1' 'E2F2::GFI1' 'E2F2::HMX2' 'E2F2::HOXB2'\n",
      " 'E2F2::HOXB4' 'E2F2::IRF5' 'E2F2::IRF9' 'E2F2::MEF2A' 'E2F2::MEF2D'\n",
      " 'E2F2::MYB' 'E2F2::MYNN' 'E2F2::REL' 'E2F2::STAT2' 'E2F2::TBP'\n",
      " 'E2F2::TGIF2' 'E2F2::ZNF232' 'E2F2::ZNF264' 'E2F2::ZNF317' 'E2F2::ZNF394'\n",
      " 'E2F8::FOXJ2' 'E2F8::FOXP1' 'E2F8::HIC1' 'E2F8::HOXB2' 'E2F8::HOXB4'\n",
      " 'E2F8::LHX2' 'E2F8::MYB' 'E2F8::MYNN' 'E2F8::TBX21' 'E2F8::ZNF136'\n",
      " 'E2F8::ZNF232' 'E2F8::ZNF264' 'E2F8::ZSCAN16' 'EBF1::HIC1' 'EBF1::HMX2'\n",
      " 'EBF1::HOXB2' 'EBF1::LHX2' 'EBF1::MNX1' 'EBF1::TBP' 'EBF1::TBX21'\n",
      " 'EBF1::ZNF232' 'EBF1::ZNF586' 'EBF1::ZSCAN16' 'EGR1::LHX2' 'EGR1::ZNF136'\n",
      " 'EGR2::LHX2' 'EGR3::HMX2' 'EGR3::LHX2' 'EGR3::MYB' 'EGR3::ZNF264'\n",
      " 'FOXJ2::LHX2' 'FOXJ2::MNX1' 'FOXJ2::ZNF264' 'FOXP1::LHX2' 'FOXP1::MYB'\n",
      " 'FUBP1::ZNF264' 'GFI1::HEY1' 'GFI1::HIC1' 'GFI1::HMX2' 'GFI1::HOXB4'\n",
      " 'GFI1::LHX2' 'GFI1::MNX1' 'GFI1::MYB' 'GFI1::NFKB1' 'GFI1::NFKB2'\n",
      " 'GFI1::POU2F1' 'GFI1::REL' 'GFI1::RELA' 'GFI1::SMAD4' 'GFI1::TBX21'\n",
      " 'GFI1::TCF4' 'GFI1::TFEB' 'GFI1::TP73' 'GFI1::USF2' 'GFI1::ZEB1'\n",
      " 'GFI1::ZNF136' 'GFI1::ZNF232' 'GFI1::ZNF264' 'GFI1::ZNF317'\n",
      " 'GFI1::ZSCAN16' 'HBP1::HIC1' 'HBP1::ZNF136' 'HEY1::HMX2' 'HEY1::MYB'\n",
      " 'HEY1::TBX21' 'HEY1::TGIF2' 'HEY1::ZNF264' 'HEY1::ZNF586' 'HIC1::HOXB2'\n",
      " 'HIC1::HOXB4' 'HIC1::LYL1' 'HIC1::MEF2A' 'HIC1::MEF2D' 'HIC1::MEIS2'\n",
      " 'HIC1::MYB' 'HIC1::MYNN' 'HIC1::NFIL3' 'HIC1::NFKB1' 'HIC1::NFKB2'\n",
      " 'HIC1::NR4A2' 'HIC1::OSR2' 'HIC1::PAX5' 'HIC1::SMAD4' 'HIC1::SPIB'\n",
      " 'HIC1::TBP' 'HIC1::TCF3' 'HIC1::TCF4' 'HIC1::TCF7' 'HIC1::TGIF2'\n",
      " 'HIC1::ZBTB18' 'HIC1::ZNF232' 'HIC1::ZNF264' 'HIC1::ZNF317' 'HIC1::ZNF76'\n",
      " 'HIC1::ZSCAN16' 'HIVEP1::HMX2' 'HIVEP1::LHX2' 'HIVEP1::MEF2C'\n",
      " 'HIVEP1::USF2' 'HIVEP1::ZNF264' 'HMX2::HOXB2' 'HMX2::IKZF1' 'HMX2::IRF1'\n",
      " 'HMX2::IRF2' 'HMX2::IRF3' 'HMX2::IRF4' 'HMX2::IRF5' 'HMX2::IRF7'\n",
      " 'HMX2::IRF8' 'HMX2::IRF9' 'HMX2::LEF1' 'HMX2::LHX2' 'HMX2::LYL1'\n",
      " 'HMX2::MEF2A' 'HMX2::MEF2C' 'HMX2::MEF2D' 'HMX2::MEIS2' 'HMX2::MESP1'\n",
      " 'HMX2::MLX' 'HMX2::MNX1' 'HMX2::MYB' 'HMX2::MYBL2' 'HMX2::MYNN'\n",
      " 'HMX2::NFATC1' 'HMX2::NFATC2' 'HMX2::NFATC4' 'HMX2::NFIL3' 'HMX2::NFKB1'\n",
      " 'HMX2::NFKB2' 'HMX2::NR1I3' 'HMX2::NR3C1' 'HMX2::NR4A2' 'HMX2::OSR2'\n",
      " 'HMX2::PAX5' 'HMX2::PLAG1' 'HMX2::PLAGL1' 'HMX2::POU2F1' 'HMX2::POU2F2'\n",
      " 'HMX2::PRDM1' 'HMX2::RARA' 'HMX2::REL' 'HMX2::RELA' 'HMX2::RFX3'\n",
      " 'HMX2::RREB1' 'HMX2::RUNX1' 'HMX2::RUNX3' 'HMX2::SMAD4' 'HMX2::SP2'\n",
      " 'HMX2::SP4' 'HMX2::SPIB' 'HMX2::STAT1' 'HMX2::STAT2' 'HMX2::STAT5A'\n",
      " 'HMX2::TBP' 'HMX2::TBX21' 'HMX2::TCF3' 'HMX2::TCF4' 'HMX2::TCF7'\n",
      " 'HMX2::TFEB' 'HMX2::TGIF2' 'HMX2::TP73' 'HMX2::UBP1' 'HMX2::USF2'\n",
      " 'HMX2::ZBTB18' 'HMX2::ZBTB33' 'HMX2::ZBTB6' 'HMX2::ZBTB7B' 'HMX2::ZEB1'\n",
      " 'HMX2::ZNF136' 'HMX2::ZNF18' 'HMX2::ZNF232' 'HMX2::ZNF264' 'HMX2::ZNF317'\n",
      " 'HMX2::ZNF394' 'HMX2::ZNF41' 'HMX2::ZNF563' 'HMX2::ZNF586' 'HMX2::ZNF589'\n",
      " 'HMX2::ZNF76' 'HMX2::ZNF816' 'HMX2::ZSCAN16' 'HOXB2::LEF1' 'HOXB2::LHX2'\n",
      " 'HOXB2::LYL1' 'HOXB2::MLX' 'HOXB2::MYB' 'HOXB2::NFKB1' 'HOXB2::USF2'\n",
      " 'HOXB2::ZBTB33' 'HOXB2::ZNF136' 'HOXB2::ZNF264' 'HOXB2::ZNF586'\n",
      " 'HOXB4::IKZF1' 'HOXB4::LHX2' 'HOXB4::MEF2C' 'HOXB4::MYB' 'HOXB4::TGIF2'\n",
      " 'HOXB4::TP73' 'HOXB4::ZBTB33' 'HOXB4::ZEB1' 'HOXB4::ZNF136'\n",
      " 'HOXB4::ZNF264' 'HOXB4::ZNF586' 'IKZF1::TBX21' 'IKZF1::ZNF136'\n",
      " 'IKZF1::ZNF264' 'IRF1::ZNF136' 'IRF2::ZNF264' 'IRF3::ZNF136' 'IRF4::LHX2'\n",
      " 'IRF4::ZNF232' 'IRF7::LHX2' 'IRF7::ZNF136' 'IRF7::ZNF264' 'IRF8::ZNF136'\n",
      " 'IRF9::LHX2' 'IRF9::TGIF2' 'IRF9::ZNF317' 'LEF1::MNX1' 'LEF1::MYB'\n",
      " 'LEF1::NFKB2' 'LEF1::RELA' 'LEF1::TBX21' 'LEF1::TCF4' 'LEF1::ZNF232'\n",
      " 'LEF1::ZNF264' 'LHX2::LYL1' 'LHX2::MEIS2' 'LHX2::MLX' 'LHX2::MNX1'\n",
      " 'LHX2::MYB' 'LHX2::MYNN' 'LHX2::NFIL3' 'LHX2::NR1I3' 'LHX2::NR3C1'\n",
      " 'LHX2::POU2F1' 'LHX2::POU2F2' 'LHX2::RARA' 'LHX2::RUNX1' 'LHX2::RUNX3'\n",
      " 'LHX2::SMAD4' 'LHX2::STAT5A' 'LHX2::TCF4' 'LHX2::TCF7' 'LHX2::TFEB'\n",
      " 'LHX2::USF2' 'LHX2::ZBTB18' 'LHX2::ZBTB7B' 'LHX2::ZNF232' 'LHX2::ZNF264'\n",
      " 'LHX2::ZNF317' 'LHX2::ZNF394' 'LHX2::ZNF563' 'LHX2::ZNF76'\n",
      " 'LHX2::ZSCAN16' 'LYL1::MEIS2' 'LYL1::MLX' 'LYL1::TBX21' 'LYL1::ZNF232'\n",
      " 'LYL1::ZNF317' 'MEF2A::MYB' 'MEF2A::TBX21' 'MEF2A::ZNF136'\n",
      " 'MEF2A::ZNF264' 'MEF2C::MYB' 'MEF2C::TBX21' 'MEF2C::ZBTB7B'\n",
      " 'MEF2C::ZNF232' 'MEF2C::ZNF264' 'MEF2D::MNX1' 'MEF2D::MYB' 'MEF2D::TBX21'\n",
      " 'MEF2D::ZNF136' 'MEF2D::ZNF264' 'MEIS2::MYNN' 'MEIS2::TBX21'\n",
      " 'MEIS2::ZEB1' 'MEIS2::ZNF136' 'MEIS2::ZNF264' 'MESP1::ZNF136' 'MLX::MNX1'\n",
      " 'MLX::MYB' 'MLX::MYNN' 'MLX::NFATC2' 'MLX::POU2F1' 'MLX::RELA'\n",
      " 'MLX::RFX3' 'MLX::TBP' 'MLX::TBX21' 'MLX::TGIF2' 'MLX::ZBTB6'\n",
      " 'MLX::ZNF136' 'MLX::ZNF232' 'MLX::ZNF264' 'MLX::ZNF317' 'MLX::ZNF586'\n",
      " 'MLX::ZSCAN16' 'MNX1::MYB' 'MNX1::MYNN' 'MNX1::TBP' 'MNX1::TBX21'\n",
      " 'MNX1::TGIF2' 'MNX1::ZNF136' 'MNX1::ZNF264' 'MYB::MYNN' 'MYB::NFIL3'\n",
      " 'MYB::NR3C1' 'MYB::NR4A2' 'MYB::PAX5' 'MYB::PLAG1' 'MYB::PLAGL1'\n",
      " 'MYB::POU2F1' 'MYB::PRDM1' 'MYB::RARA' 'MYB::REL' 'MYB::RELA' 'MYB::RFX3'\n",
      " 'MYB::RREB1' 'MYB::SMAD4' 'MYB::SP4' 'MYB::SPIB' 'MYB::STAT5A' 'MYB::TBP'\n",
      " 'MYB::TBX21' 'MYB::TCF7' 'MYB::TFEB' 'MYB::TGIF2' 'MYB::TP73' 'MYB::USF2'\n",
      " 'MYB::ZBTB18' 'MYB::ZBTB33' 'MYB::ZBTB7B' 'MYB::ZEB1' 'MYB::ZNF136'\n",
      " 'MYB::ZNF18' 'MYB::ZNF264' 'MYB::ZNF317' 'MYB::ZNF41' 'MYB::ZNF563'\n",
      " 'MYB::ZNF586' 'MYB::ZNF76' 'MYB::ZSCAN16' 'MYNN::NFATC2' 'MYNN::NFKB1'\n",
      " 'MYNN::OSR2' 'MYNN::PAX5' 'MYNN::PLAG1' 'MYNN::RARA' 'MYNN::RFX3'\n",
      " 'MYNN::SP2' 'MYNN::SP4' 'MYNN::TBX21' 'MYNN::TCF3' 'MYNN::TCF4'\n",
      " 'MYNN::TGIF2' 'MYNN::TP73' 'MYNN::USF2' 'MYNN::ZBTB33' 'MYNN::ZBTB6'\n",
      " 'MYNN::ZEB1' 'MYNN::ZNF136' 'MYNN::ZNF18' 'MYNN::ZNF264' 'MYNN::ZNF586'\n",
      " 'MYNN::ZNF76' 'MYNN::ZNF816' 'NFATC1::ZNF264' 'NFATC2::ZNF232'\n",
      " 'NFATC2::ZNF264' 'NFATC2::ZSCAN16' 'NFIL3::ZEB1' 'NFIL3::ZNF136'\n",
      " 'NFIL3::ZNF264' 'NFKB1::TBP' 'NFKB1::ZNF232' 'NFKB1::ZNF264'\n",
      " 'NFKB2::ZNF264' 'NR1I3::TBX21' 'NR1I3::ZNF136' 'NR3C1::ZNF264'\n",
      " 'NR4A2::TCF3' 'NR4A2::TGIF2' 'NR4A2::ZNF136' 'NR4A2::ZNF264'\n",
      " 'NR4A2::ZNF586' 'OSR2::ZNF136' 'OSR2::ZNF317' 'OSR2::ZSCAN16' 'PAX5::TBP'\n",
      " 'PAX5::TBX21' 'PAX5::ZNF136' 'PAX5::ZNF232' 'PAX5::ZNF264' 'PAX5::ZNF317'\n",
      " 'PLAG1::TBP' 'PLAG1::TGIF2' 'POU2F1::TBX21' 'POU2F1::TGIF2'\n",
      " 'POU2F1::TP73' 'POU2F1::ZBTB33' 'POU2F1::ZNF136' 'POU2F1::ZNF264'\n",
      " 'PRDM1::TGIF2' 'PRDM1::ZNF136' 'RARA::ZNF136' 'REL::TBX21' 'REL::TGIF2'\n",
      " 'REL::ZBTB33' 'REL::ZNF264' 'RELA::ZBTB33' 'RELA::ZNF136' 'RELA::ZNF264'\n",
      " 'RFX3::ZNF264' 'RUNX1::ZNF264' 'RUNX1::ZNF76' 'RUNX3::ZNF264'\n",
      " 'SMAD4::ZNF136' 'SMAD4::ZNF264' 'SPIB::STAT5A' 'SPIB::ZNF136'\n",
      " 'STAT1::ZNF136' 'STAT2::ZNF136' 'STAT2::ZNF264' 'STAT5A::TCF3'\n",
      " 'STAT5A::TGIF2' 'STAT5A::USF2' 'STAT5A::ZNF136' 'TBP::TBX21'\n",
      " 'TBP::ZBTB33' 'TBP::ZNF136' 'TBX21::TCF7' 'TBX21::TFEB' 'TBX21::TP73'\n",
      " 'TBX21::ZBTB18' 'TBX21::ZBTB7B' 'TBX21::ZNF232' 'TBX21::ZNF317'\n",
      " 'TBX21::ZNF41' 'TBX21::ZNF816' 'TBX21::ZSCAN16' 'TCF3::ZNF136'\n",
      " 'TCF3::ZNF232' 'TCF3::ZNF264' 'TCF3::ZNF317' 'TCF4::ZNF136'\n",
      " 'TCF4::ZNF264' 'TCF4::ZNF317' 'TCF4::ZSCAN16' 'TCF7::TGIF2'\n",
      " 'TCF7::ZNF136' 'TCF7::ZNF232' 'TCF7::ZNF264' 'TCF7::ZNF317'\n",
      " 'TCF7::ZSCAN16' 'TFEB::TGIF2' 'TFEB::TP73' 'TFEB::ZEB1' 'TFEB::ZNF264'\n",
      " 'TFEB::ZNF586' 'TGIF2::TP73' 'TGIF2::ZBTB18' 'TGIF2::ZBTB6'\n",
      " 'TGIF2::ZBTB7B' 'TGIF2::ZEB1' 'TGIF2::ZNF136' 'TGIF2::ZNF18'\n",
      " 'TGIF2::ZNF264' 'TGIF2::ZNF394' 'TGIF2::ZNF41' 'TGIF2::ZNF563'\n",
      " 'TGIF2::ZSCAN16' 'TP73::ZNF264' 'TP73::ZSCAN16' 'USF2::ZBTB6'\n",
      " 'USF2::ZNF136' 'USF2::ZNF232' 'USF2::ZNF264' 'USF2::ZNF317'\n",
      " 'ZBTB18::ZNF136' 'ZBTB18::ZNF264' 'ZBTB18::ZNF586' 'ZBTB33::ZNF264'\n",
      " 'ZBTB33::ZNF586' 'ZBTB6::ZNF264' 'ZBTB6::ZNF317' 'ZBTB7B::ZNF136'\n",
      " 'ZEB1::ZNF232' 'ZEB1::ZNF317' 'ZNF136::ZNF264' 'ZNF136::ZNF317'\n",
      " 'ZNF136::ZNF563' 'ZNF136::ZNF586' 'ZNF136::ZNF76' 'ZNF136::ZSCAN16'\n",
      " 'ZNF232::ZNF264' 'ZNF232::ZNF586' 'ZNF264::ZNF317' 'ZNF264::ZNF394'\n",
      " 'ZNF264::ZNF41' 'ZNF264::ZNF76' 'ZNF264::ZNF816' 'ZNF264::ZSCAN16'\n",
      " 'ZNF586::ZSCAN16' 'ZNF76::ZSCAN16']\n",
      "1489\n",
      "['ARID3A::BATF3' 'ARID3A::BHLHE22' 'ARID3A::EGR1' ... 'ZNF394::ZNF586'\n",
      " 'ZNF586::ZNF589' 'ZNF589::ZNF76']\n"
     ]
    }
   ],
   "source": [
    "loop_type_df = pd.read_csv('../data/processed/fig4_modelling/tf_tf_pairs/expr_'+TISSUE+'_loop_type.csv',index_col=0).fillna('')\n",
    "pro_pro_vocab = loop_type_df[(loop_type_df.pro_pro_count>0) & (loop_type_df.loop_loop_count==0) & (loop_type_df.pro_loop_count==0)].index.values\n",
    "print(len(pro_pro_vocab))\n",
    "print(pro_pro_vocab)\n",
    "pro_loop_vocab = loop_type_df[(loop_type_df.pro_pro_count==0) & (loop_type_df.loop_loop_count==0) & (loop_type_df.pro_loop_count>0)].index.values\n",
    "print(len(pro_loop_vocab))\n",
    "print(pro_loop_vocab)\n",
    "\n",
    "loop_loop_vocab = loop_type_df[(loop_type_df.pro_pro_count==0) & (loop_type_df.loop_loop_count>0) & (loop_type_df.pro_loop_count==0)].index.values\n",
    "print(len(loop_loop_vocab))\n",
    "print(loop_loop_vocab)\n",
    "\n",
    "all_vocab = loop_type_df[(loop_type_df.pro_pro_count>0) & (loop_type_df.loop_loop_count>0) & (loop_type_df.pro_loop_count>0)].index.values\n",
    "print(len(all_vocab))\n",
    "print(all_vocab)\n"
   ]
  },
  {
   "cell_type": "markdown",
   "metadata": {},
   "source": [
    "## 1C get motif appearance locations (normalized)"
   ]
  },
  {
   "cell_type": "code",
   "execution_count": 12,
   "metadata": {},
   "outputs": [
    {
     "data": {
      "text/plain": [
       "EGR3::IRF3         0.221582\n",
       "EGR1::IRF2         0.227558\n",
       "EGR3::IRF4         0.229622\n",
       "EGR3::IRF8         0.242837\n",
       "NFATC2::SPIB       0.261662\n",
       "                    ...    \n",
       "HMX2::ZNF136      33.754386\n",
       "HMX2::ZNF264      33.754386\n",
       "HOXB2::LHX2       50.631579\n",
       "HOXB2::ZNF136     50.631579\n",
       "HMX2::HOXB4      202.526316\n",
       "Length: 3287, dtype: float64"
      ]
     },
     "execution_count": 12,
     "metadata": {},
     "output_type": "execute_result"
    }
   ],
   "source": [
    "# for vocab pairs\n",
    "pro_frac = ((loop_type_df.pro_pro_count+1)/(loop_type_df.pro_pro_count.sum()+1))\n",
    "loop_frac = ((loop_type_df.loop_loop_count+1)/(loop_type_df.loop_loop_count.sum()+1))\n",
    "ratio = pro_frac/loop_frac\n",
    "ratio.sort_values()"
   ]
  },
  {
   "cell_type": "code",
   "execution_count": 13,
   "metadata": {},
   "outputs": [
    {
     "name": "stdout",
     "output_type": "stream",
     "text": [
      "115\n"
     ]
    }
   ],
   "source": [
    "# for motifs\n",
    "# 1. get motifs\n",
    "motifs = set()\n",
    "for vocab_pair in loop_type_df.index.values:\n",
    "    v1, v2 = vocab_pair.split('::')\n",
    "    motifs.add(v1)\n",
    "    motifs.add(v2)\n",
    "motifs = sorted(motifs)\n",
    "print(len(motifs))\n",
    "\n",
    "# 2. initialize counts\n",
    "motif_counts_dict = {}\n",
    "for motif in motifs:\n",
    "    motif_counts_dict[motif] = {'pro_pro_count':0,'loop_loop_count':0,'pro_loop_count':0} #list of counts for pro_pro_count, loop_loop_count, pro_loop_count, respectively\n",
    "    \n",
    "# 3. run through loop_type_df to fill in motif_counts_dict\n",
    "for vocab_pair, row in loop_type_df.iterrows():\n",
    "    v1, v2 = vocab_pair.split('::')\n",
    "    motif_counts_dict[v1]['pro_pro_count'] +=row['pro_pro_count']\n",
    "    motif_counts_dict[v2]['pro_pro_count'] +=row['pro_pro_count']\n",
    "    motif_counts_dict[v1]['loop_loop_count'] +=row['loop_loop_count']\n",
    "    motif_counts_dict[v2]['loop_loop_count'] +=row['loop_loop_count']\n",
    "    motif_counts_dict[v1]['pro_loop_count'] +=row['pro_loop_count']\n",
    "    motif_counts_dict[v2]['pro_loop_count'] +=row['pro_loop_count']\n",
    "            \n",
    "motif_counts_df = pd.DataFrame.from_dict(motif_counts_dict,orient='index')   \n",
    "motif_counts_df_norm = motif_counts_df/motif_counts_df.sum(axis=0)\n"
   ]
  },
  {
   "cell_type": "code",
   "execution_count": 14,
   "metadata": {},
   "outputs": [],
   "source": [
    "motif_counts_df_norm_sel = motif_counts_df_norm.reset_index()[motif_counts_df_norm.reset_index()['index'].isin(TFS)]\n",
    "motif_counts_df_norm_sel.set_index('index',inplace=True)"
   ]
  },
  {
   "cell_type": "code",
   "execution_count": 15,
   "metadata": {},
   "outputs": [
    {
     "data": {
      "text/html": [
       "<div>\n",
       "<style scoped>\n",
       "    .dataframe tbody tr th:only-of-type {\n",
       "        vertical-align: middle;\n",
       "    }\n",
       "\n",
       "    .dataframe tbody tr th {\n",
       "        vertical-align: top;\n",
       "    }\n",
       "\n",
       "    .dataframe thead th {\n",
       "        text-align: right;\n",
       "    }\n",
       "</style>\n",
       "<table border=\"1\" class=\"dataframe\">\n",
       "  <thead>\n",
       "    <tr style=\"text-align: right;\">\n",
       "      <th></th>\n",
       "      <th>pro_pro_count</th>\n",
       "      <th>loop_loop_count</th>\n",
       "      <th>pro_loop_count</th>\n",
       "    </tr>\n",
       "  </thead>\n",
       "  <tbody>\n",
       "    <tr>\n",
       "      <td>ARID3A</td>\n",
       "      <td>0.248395</td>\n",
       "      <td>0.454331</td>\n",
       "      <td>0.297274</td>\n",
       "    </tr>\n",
       "    <tr>\n",
       "      <td>ARID5B</td>\n",
       "      <td>0.336783</td>\n",
       "      <td>0.237764</td>\n",
       "      <td>0.425453</td>\n",
       "    </tr>\n",
       "    <tr>\n",
       "      <td>BATF</td>\n",
       "      <td>0.330535</td>\n",
       "      <td>0.359667</td>\n",
       "      <td>0.309799</td>\n",
       "    </tr>\n",
       "    <tr>\n",
       "      <td>BATF3</td>\n",
       "      <td>0.281191</td>\n",
       "      <td>0.557030</td>\n",
       "      <td>0.161779</td>\n",
       "    </tr>\n",
       "    <tr>\n",
       "      <td>BCL11A</td>\n",
       "      <td>0.377435</td>\n",
       "      <td>0.303877</td>\n",
       "      <td>0.318688</td>\n",
       "    </tr>\n",
       "    <tr>\n",
       "      <td>...</td>\n",
       "      <td>...</td>\n",
       "      <td>...</td>\n",
       "      <td>...</td>\n",
       "    </tr>\n",
       "    <tr>\n",
       "      <td>ZNF586</td>\n",
       "      <td>0.356940</td>\n",
       "      <td>0.343641</td>\n",
       "      <td>0.299419</td>\n",
       "    </tr>\n",
       "    <tr>\n",
       "      <td>ZNF589</td>\n",
       "      <td>0.499118</td>\n",
       "      <td>0.260349</td>\n",
       "      <td>0.240533</td>\n",
       "    </tr>\n",
       "    <tr>\n",
       "      <td>ZNF76</td>\n",
       "      <td>0.221122</td>\n",
       "      <td>0.386145</td>\n",
       "      <td>0.392733</td>\n",
       "    </tr>\n",
       "    <tr>\n",
       "      <td>ZNF816</td>\n",
       "      <td>0.271723</td>\n",
       "      <td>0.344508</td>\n",
       "      <td>0.383768</td>\n",
       "    </tr>\n",
       "    <tr>\n",
       "      <td>ZSCAN16</td>\n",
       "      <td>0.279179</td>\n",
       "      <td>0.289168</td>\n",
       "      <td>0.431653</td>\n",
       "    </tr>\n",
       "  </tbody>\n",
       "</table>\n",
       "<p>115 rows × 3 columns</p>\n",
       "</div>"
      ],
      "text/plain": [
       "         pro_pro_count  loop_loop_count  pro_loop_count\n",
       "ARID3A        0.248395         0.454331        0.297274\n",
       "ARID5B        0.336783         0.237764        0.425453\n",
       "BATF          0.330535         0.359667        0.309799\n",
       "BATF3         0.281191         0.557030        0.161779\n",
       "BCL11A        0.377435         0.303877        0.318688\n",
       "...                ...              ...             ...\n",
       "ZNF586        0.356940         0.343641        0.299419\n",
       "ZNF589        0.499118         0.260349        0.240533\n",
       "ZNF76         0.221122         0.386145        0.392733\n",
       "ZNF816        0.271723         0.344508        0.383768\n",
       "ZSCAN16       0.279179         0.289168        0.431653\n",
       "\n",
       "[115 rows x 3 columns]"
      ]
     },
     "execution_count": 15,
     "metadata": {},
     "output_type": "execute_result"
    }
   ],
   "source": [
    "motif_counts_df_norm.div(motif_counts_df_norm.sum(axis=1),axis=0)"
   ]
  },
  {
   "cell_type": "code",
   "execution_count": 16,
   "metadata": {},
   "outputs": [
    {
     "data": {
      "image/png": "[encoded data removed]",
      "text/plain": [
       "<Figure size 1440x504 with 1 Axes>"
      ]
     },
     "metadata": {
      "needs_background": "light"
     },
     "output_type": "display_data"
    }
   ],
   "source": [
    "# all tfs\n",
    "ax = motif_counts_df_norm.sort_values('pro_pro_count').plot(kind='bar', stacked=True,figsize = (20,7),fontsize=9)\n",
    "ax.figure.savefig(os.path.join(save_dir, TISSUE+'_config_count_bar.pdf'))\n"
   ]
  },
  {
   "cell_type": "markdown",
   "metadata": {},
   "source": [
    "this shows the likelihood of the motif appears in a vocab pair from pro_pro, pro_loop, or loop_loop configurations, GIVEN that it does appear at all (so normalized by both the probability of the configuration type)\n",
    "\n",
    "this will show frequency of footprints being found in the looped regions "
   ]
  },
  {
   "cell_type": "code",
   "execution_count": 19,
   "metadata": {},
   "outputs": [
    {
     "data": {
      "image/png": "[encoded data removed]",
      "text/plain": [
       "<Figure size 720x504 with 1 Axes>"
      ]
     },
     "metadata": {
      "needs_background": "light"
     },
     "output_type": "display_data"
    }
   ],
   "source": [
    "ax = motif_counts_df_norm_sel.sort_values('pro_pro_count').plot(kind='bar', stacked=True,figsize = (10,7),fontsize=12)\n",
    "ax.figure.savefig(os.path.join(save_dir, TISSUE+'_config_count_sel_bar.pdf'))\n"
   ]
  },
  {
   "cell_type": "markdown",
   "metadata": {},
   "source": [
    "same graph as before but only for tissue specific TFS"
   ]
  },
  {
   "cell_type": "code",
   "execution_count": 20,
   "metadata": {},
   "outputs": [
    {
     "data": {
      "image/png": "[encoded data removed]",
      "text/plain": [
       "<Figure size 1440x504 with 1 Axes>"
      ]
     },
     "metadata": {
      "needs_background": "light"
     },
     "output_type": "display_data"
    }
   ],
   "source": [
    "ax = motif_counts_df_norm.div(motif_counts_df_norm.sum(axis=1),axis=0).sort_values('pro_pro_count').plot(kind='bar', stacked=True,\n",
    "                                                                                                    figsize = (20,7),fontsize=9)\n",
    "ax.figure.savefig(os.path.join(save_dir, TISSUE+'_config_count_norm_bar.pdf'))\n"
   ]
  },
  {
   "cell_type": "markdown",
   "metadata": {},
   "source": [
    "this shows the likelihood of the motif appears in a vocab pair from pro_pro, pro_loop, or loop_loop configurations, GIVEN that it does appear at all (so normalized by both the probability of the configuration type as well as by the motif frequency itself"
   ]
  },
  {
   "cell_type": "code",
   "execution_count": 24,
   "metadata": {},
   "outputs": [
    {
     "data": {
      "image/png": "[encoded data removed]",
      "text/plain": [
       "<Figure size 1440x504 with 1 Axes>"
      ]
     },
     "metadata": {
      "needs_background": "light"
     },
     "output_type": "display_data"
    }
   ],
   "source": [
    "# fig,ax= plt.subplots(figsize = (20,7))\n",
    "# ax.set_xlabel('xlabel', fontsize=6)\n",
    "\n",
    "ax = motif_counts_df_norm.pro_pro_count.sort_values().plot(kind='bar',figsize = (20,7),fontsize=9)\n",
    "\n",
    "ax.figure.savefig(os.path.join(save_dir, TISSUE+'_pro_count_norm_bar.pdf'))\n"
   ]
  },
  {
   "cell_type": "markdown",
   "metadata": {},
   "source": [
    "only the promoter fractions"
   ]
  },
  {
   "cell_type": "code",
   "execution_count": 25,
   "metadata": {},
   "outputs": [
    {
     "data": {
      "image/png": "[encoded data removed]",
      "text/plain": [
       "<Figure size 720x504 with 1 Axes>"
      ]
     },
     "metadata": {
      "needs_background": "light"
     },
     "output_type": "display_data"
    }
   ],
   "source": [
    "ax = motif_counts_df_norm_sel.div(motif_counts_df_norm_sel.sum(axis=1),axis=0).sort_values('pro_pro_count').plot(kind='bar', stacked=True,\n",
    "                                                                                                    figsize = (10,7),fontsize=12)\n",
    "ax.figure.savefig(os.path.join(save_dir, TISSUE+'_config_count_norm_sel_bar.pdf'))\n"
   ]
  },
  {
   "cell_type": "code",
   "execution_count": 26,
   "metadata": {},
   "outputs": [
    {
     "data": {
      "text/html": [
       "<div>\n",
       "<style scoped>\n",
       "    .dataframe tbody tr th:only-of-type {\n",
       "        vertical-align: middle;\n",
       "    }\n",
       "\n",
       "    .dataframe tbody tr th {\n",
       "        vertical-align: top;\n",
       "    }\n",
       "\n",
       "    .dataframe thead th {\n",
       "        text-align: right;\n",
       "    }\n",
       "</style>\n",
       "<table border=\"1\" class=\"dataframe\">\n",
       "  <thead>\n",
       "    <tr style=\"text-align: right;\">\n",
       "      <th></th>\n",
       "      <th>pro_pro_count</th>\n",
       "      <th>loop_loop_count</th>\n",
       "      <th>pro_loop_count</th>\n",
       "    </tr>\n",
       "  </thead>\n",
       "  <tbody>\n",
       "    <tr>\n",
       "      <td>ARID3A</td>\n",
       "      <td>0.005248</td>\n",
       "      <td>0.972122</td>\n",
       "      <td>0.022630</td>\n",
       "    </tr>\n",
       "    <tr>\n",
       "      <td>ARID5B</td>\n",
       "      <td>0.012978</td>\n",
       "      <td>0.927946</td>\n",
       "      <td>0.059076</td>\n",
       "    </tr>\n",
       "    <tr>\n",
       "      <td>BATF</td>\n",
       "      <td>0.008727</td>\n",
       "      <td>0.961798</td>\n",
       "      <td>0.029475</td>\n",
       "    </tr>\n",
       "    <tr>\n",
       "      <td>BATF3</td>\n",
       "      <td>0.004909</td>\n",
       "      <td>0.984914</td>\n",
       "      <td>0.010177</td>\n",
       "    </tr>\n",
       "    <tr>\n",
       "      <td>BCL11A</td>\n",
       "      <td>0.011684</td>\n",
       "      <td>0.952766</td>\n",
       "      <td>0.035550</td>\n",
       "    </tr>\n",
       "    <tr>\n",
       "      <td>...</td>\n",
       "      <td>...</td>\n",
       "      <td>...</td>\n",
       "      <td>...</td>\n",
       "    </tr>\n",
       "    <tr>\n",
       "      <td>ZNF586</td>\n",
       "      <td>0.009849</td>\n",
       "      <td>0.960379</td>\n",
       "      <td>0.029772</td>\n",
       "    </tr>\n",
       "    <tr>\n",
       "      <td>ZNF589</td>\n",
       "      <td>0.017996</td>\n",
       "      <td>0.950752</td>\n",
       "      <td>0.031252</td>\n",
       "    </tr>\n",
       "    <tr>\n",
       "      <td>ZNF76</td>\n",
       "      <td>0.005427</td>\n",
       "      <td>0.959841</td>\n",
       "      <td>0.034732</td>\n",
       "    </tr>\n",
       "    <tr>\n",
       "      <td>ZNF816</td>\n",
       "      <td>0.007435</td>\n",
       "      <td>0.954727</td>\n",
       "      <td>0.037839</td>\n",
       "    </tr>\n",
       "    <tr>\n",
       "      <td>ZSCAN16</td>\n",
       "      <td>0.008971</td>\n",
       "      <td>0.941051</td>\n",
       "      <td>0.049979</td>\n",
       "    </tr>\n",
       "  </tbody>\n",
       "</table>\n",
       "<p>115 rows × 3 columns</p>\n",
       "</div>"
      ],
      "text/plain": [
       "         pro_pro_count  loop_loop_count  pro_loop_count\n",
       "ARID3A        0.005248         0.972122        0.022630\n",
       "ARID5B        0.012978         0.927946        0.059076\n",
       "BATF          0.008727         0.961798        0.029475\n",
       "BATF3         0.004909         0.984914        0.010177\n",
       "BCL11A        0.011684         0.952766        0.035550\n",
       "...                ...              ...             ...\n",
       "ZNF586        0.009849         0.960379        0.029772\n",
       "ZNF589        0.017996         0.950752        0.031252\n",
       "ZNF76         0.005427         0.959841        0.034732\n",
       "ZNF816        0.007435         0.954727        0.037839\n",
       "ZSCAN16       0.008971         0.941051        0.049979\n",
       "\n",
       "[115 rows x 3 columns]"
      ]
     },
     "execution_count": 26,
     "metadata": {},
     "output_type": "execute_result"
    }
   ],
   "source": [
    "motif_counts_df.div(motif_counts_df.sum(axis=1),axis=0)"
   ]
  },
  {
   "cell_type": "markdown",
   "metadata": {},
   "source": [
    "# 2. Vocabulary genomic instances - setup\n",
    "\n",
    "\n",
    "## 2A. find the locations"
   ]
  },
  {
   "cell_type": "code",
   "execution_count": 27,
   "metadata": {},
   "outputs": [
    {
     "data": {
      "text/plain": [
       "['../data/processed/fig4_modelling/tf_tf_pairs_stability/Airway_loop_loop_vocab_group.csv',\n",
       " '../data/processed/fig4_modelling/tf_tf_pairs_stability/Airway_pro_pro_vocab_group.csv',\n",
       " '../data/processed/fig4_modelling/tf_tf_pairs_stability/Airway_vocab_group.csv',\n",
       " '../data/processed/fig4_modelling/tf_tf_pairs_stability/Bladder_loop_loop_vocab_group.csv',\n",
       " '../data/processed/fig4_modelling/tf_tf_pairs_stability/GDSD6_loop_loop_vocab.csv',\n",
       " '../data/processed/fig4_modelling/tf_tf_pairs_stability/GDSD6_loop_loop_vocab_group.csv',\n",
       " '../data/processed/fig4_modelling/tf_tf_pairs_stability/GDSD6_pro_pro_vocab.csv',\n",
       " '../data/processed/fig4_modelling/tf_tf_pairs_stability/GDSD6_vocab.csv',\n",
       " '../data/processed/fig4_modelling/tf_tf_pairs_stability/GDSD6_vocab.xlsx',\n",
       " '../data/processed/fig4_modelling/tf_tf_pairs_stability/GM12878_loop_loop_vocab_group.csv',\n",
       " '../data/processed/fig4_modelling/tf_tf_pairs_stability/GM12878_pro_pro_vocab_group.csv',\n",
       " '../data/processed/fig4_modelling/tf_tf_pairs_stability/GM12878_vocab_group.csv',\n",
       " '../data/processed/fig4_modelling/tf_tf_pairs_stability/HMEC_loop_loop_vocab_group.csv',\n",
       " '../data/processed/fig4_modelling/tf_tf_pairs_stability/HMEC_pro_pro_vocab_group.csv',\n",
       " '../data/processed/fig4_modelling/tf_tf_pairs_stability/HMEC_vocab_group.csv',\n",
       " '../data/processed/fig4_modelling/tf_tf_pairs_stability/Ovarian_loop_loop_vocab_group.csv',\n",
       " '../data/processed/fig4_modelling/tf_tf_pairs_stability/Ovarian_pro_pro_vocab_group.csv',\n",
       " '../data/processed/fig4_modelling/tf_tf_pairs_stability/Ovarian_vocab_group.csv',\n",
       " '../data/processed/fig4_modelling/tf_tf_pairs_stability/Prostate_loop_loop_vocab.csv',\n",
       " '../data/processed/fig4_modelling/tf_tf_pairs_stability/Prostate_loop_loop_vocab_group.csv',\n",
       " '../data/processed/fig4_modelling/tf_tf_pairs_stability/Prostate_pro_pro_vocab.csv',\n",
       " '../data/processed/fig4_modelling/tf_tf_pairs_stability/Prostate_pro_pro_vocab_group.csv',\n",
       " '../data/processed/fig4_modelling/tf_tf_pairs_stability/Prostate_vocab.csv',\n",
       " '../data/processed/fig4_modelling/tf_tf_pairs_stability/Prostate_vocab_group.csv',\n",
       " '../data/processed/fig4_modelling/tf_tf_pairs_stability/Uterine_loop_loop_vocab_group.csv',\n",
       " '../data/processed/fig4_modelling/tf_tf_pairs_stability/Uterine_pro_pro_vocab_group.csv',\n",
       " '../data/processed/fig4_modelling/tf_tf_pairs_stability/Uterine_vocab_group.csv']"
      ]
     },
     "execution_count": 27,
     "metadata": {},
     "output_type": "execute_result"
    }
   ],
   "source": [
    "sorted(glob.glob('../data/processed/fig4_modelling/tf_tf_pairs_stability/'+'*vocab*'))"
   ]
  },
  {
   "cell_type": "code",
   "execution_count": 28,
   "metadata": {},
   "outputs": [
    {
     "data": {
      "text/plain": [
       "['../data/processed/fig4_modelling/tf_tf_pairs/expr_Airway_loop_loop_vocab_info.csv',\n",
       " '../data/processed/fig4_modelling/tf_tf_pairs/expr_Airway_pro_pro_vocab_info.csv',\n",
       " '../data/processed/fig4_modelling/tf_tf_pairs/expr_Astrocytes_loop_loop_vocab_info.csv',\n",
       " '../data/processed/fig4_modelling/tf_tf_pairs/expr_Astrocytes_pro_pro_vocab_info.csv',\n",
       " '../data/processed/fig4_modelling/tf_tf_pairs/expr_Bladder_loop_loop_vocab_info.csv',\n",
       " '../data/processed/fig4_modelling/tf_tf_pairs/expr_Bladder_pro_pro_vocab_info.csv',\n",
       " '../data/processed/fig4_modelling/tf_tf_pairs/expr_Colon_loop_loop_vocab_info.csv',\n",
       " '../data/processed/fig4_modelling/tf_tf_pairs/expr_Colon_pro_pro_vocab_info.csv',\n",
       " '../data/processed/fig4_modelling/tf_tf_pairs/expr_Esophageal_loop_loop_vocab_info.csv',\n",
       " '../data/processed/fig4_modelling/tf_tf_pairs/expr_Esophageal_pro_pro_vocab_info.csv',\n",
       " '../data/processed/fig4_modelling/tf_tf_pairs/expr_GDSD6_loop_loop_vocab_info.csv',\n",
       " '../data/processed/fig4_modelling/tf_tf_pairs/expr_GDSD6_pro_pro_vocab_info.csv',\n",
       " '../data/processed/fig4_modelling/tf_tf_pairs/expr_GM12878_loop_loop_vocab_info.csv',\n",
       " '../data/processed/fig4_modelling/tf_tf_pairs/expr_GM12878_pro_pro_vocab_info.csv',\n",
       " '../data/processed/fig4_modelling/tf_tf_pairs/expr_HMEC_loop_loop_vocab_info.csv',\n",
       " '../data/processed/fig4_modelling/tf_tf_pairs/expr_HMEC_pro_pro_vocab_info.csv',\n",
       " '../data/processed/fig4_modelling/tf_tf_pairs/expr_Melanocytes_loop_loop_vocab_info.csv',\n",
       " '../data/processed/fig4_modelling/tf_tf_pairs/expr_Melanocytes_pro_pro_vocab_info.csv',\n",
       " '../data/processed/fig4_modelling/tf_tf_pairs/expr_Ovarian_loop_loop_vocab_info.csv',\n",
       " '../data/processed/fig4_modelling/tf_tf_pairs/expr_Ovarian_pro_pro_vocab_info.csv',\n",
       " '../data/processed/fig4_modelling/tf_tf_pairs/expr_Pancreas_loop_loop_vocab_info.csv',\n",
       " '../data/processed/fig4_modelling/tf_tf_pairs/expr_Pancreas_pro_pro_vocab_info.csv',\n",
       " '../data/processed/fig4_modelling/tf_tf_pairs/expr_Prostate_loop_loop_vocab_info.csv',\n",
       " '../data/processed/fig4_modelling/tf_tf_pairs/expr_Prostate_pro_pro_vocab_info.csv',\n",
       " '../data/processed/fig4_modelling/tf_tf_pairs/expr_Renal_loop_loop_vocab_info.csv',\n",
       " '../data/processed/fig4_modelling/tf_tf_pairs/expr_Renal_pro_pro_vocab_info.csv',\n",
       " '../data/processed/fig4_modelling/tf_tf_pairs/expr_Thyroid_loop_loop_vocab_info.csv',\n",
       " '../data/processed/fig4_modelling/tf_tf_pairs/expr_Thyroid_pro_pro_vocab_info.csv',\n",
       " '../data/processed/fig4_modelling/tf_tf_pairs/expr_Uterine_loop_loop_vocab_info.csv',\n",
       " '../data/processed/fig4_modelling/tf_tf_pairs/expr_Uterine_pro_pro_vocab_info.csv',\n",
       " '../data/processed/fig4_modelling/tf_tf_pairs/unique_alltissue_loop_loop_vocab_info.csv',\n",
       " '../data/processed/fig4_modelling/tf_tf_pairs/unique_alltissue_pro_loop_vocab_info.csv',\n",
       " '../data/processed/fig4_modelling/tf_tf_pairs/unique_alltissue_pro_pro_vocab_info.csv',\n",
       " '../data/processed/fig4_modelling/tf_tf_pairs/unique_alltissue_vocab_info.csv',\n",
       " '../data/processed/fig4_modelling/tf_tf_pairs/unique_alltissue_vocab_info.xlsx']"
      ]
     },
     "execution_count": 28,
     "metadata": {},
     "output_type": "execute_result"
    }
   ],
   "source": [
    "sorted(glob.glob(vocab_dir+'*vocab*'))"
   ]
  },
  {
   "cell_type": "markdown",
   "metadata": {},
   "source": [
    "## 2B helper functions"
   ]
  },
  {
   "cell_type": "code",
   "execution_count": 8,
   "metadata": {},
   "outputs": [],
   "source": [
    "def get_other_vocab_word(row, next_row):\n",
    "    if row['vocab']!=next_row['vocab']:\n",
    "        return False\n",
    "    \n",
    "    vocab_word = set(row['tf'])\n",
    "    vocab_set = set(row['vocab'].split('::'))\n",
    "    other_vocab = list(vocab_set -  vocab_word)[0]\n",
    "    return other_vocab == next_row['tf']\n",
    "\n",
    "def check_distance(row,next_row,max_dist=MAX_DIST):\n",
    "    if row['chr_m']==next_row['chr_m']:\n",
    "        if row['stop_m']<next_row['start_m']:\n",
    "            tot_dist = next_row['stop_m'] - row['start_m']\n",
    "            btn_dist = next_row['start_m'] - row['stop_m']\n",
    "            return (tot_dist < max_dist), tot_dist, btn_dist\n",
    "    return False,-1,-1\n",
    "\n",
    "def check_tissue(row,next_row,tfs=TFS):\n",
    "    if (row['tf'] in tfs) & (next_row['tf'] in tfs):\n",
    "        return 'both'\n",
    "    elif (row['tf'] in tfs) | (next_row['tf'] in tfs):\n",
    "        return 'one'    \n",
    "    else:\n",
    "        return 'none'\n",
    "    \n",
    "def get_hits(vocab_file,tfs=TFS):\n",
    "    print('**** reading', vocab_file)\n",
    "    vocab_df = pd.read_csv(vocab_file)\n",
    "    print(vocab_df.shape)\n",
    "    idx = 0\n",
    "    idx_hits = 0\n",
    "    results_dict = {}\n",
    "    while idx < (vocab_df.shape[0]-1):\n",
    "        # look at next \n",
    "        row = vocab_df.iloc[idx,:]\n",
    "        next_row = vocab_df.iloc[idx+1,:]\n",
    "\n",
    "        check_vocab_pair = get_other_vocab_word(row,next_row)\n",
    "        check_dist,tot_dist, btn_dist = check_distance(row, next_row)\n",
    "        check_tissue_tf = check_tissue(row,next_row,tfs)\n",
    "        if (check_dist and check_vocab_pair):\n",
    "    #         print('hi',idx)\n",
    "    #         print(row)\n",
    "    #         print(next_row)\n",
    "\n",
    "            results_dict[idx_hits] = {'vocab_pair':row['vocab'],'tot_dist':tot_dist,'btn_dist':btn_dist,\n",
    "                                      'chr':row['chr'],'start':row['start_m'],'stop':next_row['stop_m'], \n",
    "                                      'vocab1':row['tf'],'vocab1_start':row['start_m'], 'vocab1_stop': row['stop_m'],\n",
    "                                      'vocab2':next_row['tf'],'vocab2_start':next_row['start_m'], 'vocab2_stop': next_row['stop_m'],\n",
    "                                      'genes':row['genes'],'num_genes':len(row['genes'].split('|')), 'tissue':row['tissue'],\n",
    "                                     'check_tissuetf':check_tissue_tf}\n",
    "            idx_hits+=1\n",
    "\n",
    "        idx+=1\n",
    "    print('num_hits',idx_hits)\n",
    "    results_df = pd.DataFrame.from_dict(results_dict, orient='index')\n",
    "    return results_df\n",
    "    \n",
    "def filter_results(results_df,min_hits_per_vocab=10):\n",
    "    print('shape', results_df.shape)\n",
    "    vocab_counts = results_df.vocab_pair.value_counts()\n",
    "    print('original num vocab',vocab_counts.shape[0])\n",
    "    vocab_to_include = vocab_counts[vocab_counts>min_hits_per_vocab].index.values\n",
    "    print('filt num vocab',vocab_to_include.shape[0])\n",
    "    \n",
    "    results_df_filt = results_df[results_df.vocab_pair.isin(vocab_to_include)]\n",
    "    return results_df_filt\n",
    "\n",
    "    "
   ]
  },
  {
   "cell_type": "markdown",
   "metadata": {},
   "source": [
    "# 3. Vocabulary genomic instances - running\n",
    "\n",
    "## 3A get expression and stability for loop-loop regions"
   ]
  },
  {
   "cell_type": "code",
   "execution_count": 9,
   "metadata": {},
   "outputs": [],
   "source": [
    "# ###TESTING PURPOSES\n",
    "# vocab_df = pd.read_csv('../data/processed/fig4_modelling/tf_tf_pairs/expr_GDSD6_pro_pro_vocab_info.csv')\n",
    "# print(vocab_df.shape)\n",
    "# vocab_df[:5]"
   ]
  },
  {
   "cell_type": "code",
   "execution_count": 10,
   "metadata": {},
   "outputs": [
    {
     "name": "stdout",
     "output_type": "stream",
     "text": [
      "**** reading ../data/processed/fig4_modelling/tf_tf_pairs/expr_GM12878_pro_pro_vocab_info.csv\n",
      "(40485, 15)\n",
      "num_hits 6058\n",
      "CPU times: user 16.6 s, sys: 49 ms, total: 16.6 s\n",
      "Wall time: 16.6 s\n"
     ]
    }
   ],
   "source": [
    "%%time\n",
    "# filtered so that at least 10 genomic instances of vocab pair in significantly found in expressed genes \n",
    "results_expr_pro_pro = get_hits('../data/processed/fig4_modelling/tf_tf_pairs/expr_'+TISSUE+'_pro_pro_vocab_info.csv')\n",
    "# results_stability_pro_pro = get_hits('../data/processed/fig4_modelling/tf_tf_pairs_stability/'+TISSUE+'_pro_pro_vocab.csv')\n",
    "\n"
   ]
  },
  {
   "cell_type": "code",
   "execution_count": 11,
   "metadata": {},
   "outputs": [
    {
     "name": "stdout",
     "output_type": "stream",
     "text": [
      "**** reading ../data/processed/fig4_modelling/tf_tf_pairs/expr_GM12878_loop_loop_vocab_info.csv\n",
      "(331883, 15)\n",
      "num_hits 41856\n",
      "CPU times: user 2min 17s, sys: 569 ms, total: 2min 18s\n",
      "Wall time: 2min 16s\n"
     ]
    }
   ],
   "source": [
    "%%time\n",
    "### TAKES AWHILE\n",
    "results_expr_loop_loop = get_hits('../data/processed/fig4_modelling/tf_tf_pairs/expr_'+TISSUE+'_loop_loop_vocab_info.csv')\n",
    "# results_stability_loop_loop = get_hits('../data/processed/fig4_modelling/tf_tf_pairs_stability/'+TISSUE+'_loop_loop_vocab.csv')\n"
   ]
  },
  {
   "cell_type": "markdown",
   "metadata": {},
   "source": [
    "## 3B raw statistics (pre genomic instance filter)"
   ]
  },
  {
   "cell_type": "code",
   "execution_count": 12,
   "metadata": {},
   "outputs": [
    {
     "name": "stdout",
     "output_type": "stream",
     "text": [
      "num motifs in pro_pro 111\n",
      "['ARID3A', 'ARID5B', 'BATF', 'BATF3', 'BCL11A', 'BHLHE22', 'BPTF', 'BRCA1', 'CBFB', 'CLOCK', 'CREB3L1', 'DBP', 'E2F2', 'E2F8', 'EBF1', 'EGR1', 'EGR2', 'EGR3', 'ETS1', 'ETV5', 'FLI1', 'FOXJ2', 'FOXJ3', 'FOXP1', 'FUBP1', 'GFI1', 'HBP1', 'HEY1', 'HIC1', 'HIVEP1', 'HMGA1', 'HOXB2', 'IKZF1', 'IRF1', 'IRF2', 'IRF3', 'IRF4', 'IRF5', 'IRF7', 'IRF8', 'IRF9', 'LEF1', 'LYL1', 'MEF2A', 'MEF2C', 'MEF2D', 'MEIS2', 'MESP1', 'MLX', 'MNX1', 'MYB', 'MYBL2', 'MYNN', 'NFATC1', 'NFATC2', 'NFATC4', 'NFIL3', 'NFKB1', 'NFKB2', 'NR1I3', 'NR3C1', 'NR4A2', 'OSR2', 'PAX5', 'PLAG1', 'PLAGL1', 'POU2F1', 'POU2F2', 'PRDM1', 'RARA', 'REL', 'RELA', 'RFX3', 'RREB1', 'RUNX1', 'RUNX3', 'SMAD4', 'SP2', 'SP4', 'SPIB', 'STAT1', 'STAT2', 'STAT5A', 'TBP', 'TBX21', 'TCF3', 'TCF4', 'TCF7', 'TFEB', 'TGIF2', 'TP73', 'UBP1', 'USF2', 'ZBTB18', 'ZBTB33', 'ZBTB49', 'ZBTB6', 'ZBTB7B', 'ZEB1', 'ZNF18', 'ZNF232', 'ZNF264', 'ZNF317', 'ZNF394', 'ZNF41', 'ZNF563', 'ZNF586', 'ZNF589', 'ZNF76', 'ZNF816', 'ZSCAN16']\n",
      "num motifs in loop_loop 115\n",
      "['ARID3A', 'ARID5B', 'BATF', 'BATF3', 'BCL11A', 'BHLHE22', 'BPTF', 'BRCA1', 'CBFB', 'CLOCK', 'CREB3L1', 'DBP', 'E2F2', 'E2F8', 'EBF1', 'EGR1', 'EGR2', 'EGR3', 'ETS1', 'ETV5', 'FLI1', 'FOXJ2', 'FOXJ3', 'FOXP1', 'FUBP1', 'GFI1', 'HBP1', 'HEY1', 'HIC1', 'HIVEP1', 'HMGA1', 'HMX2', 'HOXB2', 'HOXB4', 'IKZF1', 'IRF1', 'IRF2', 'IRF3', 'IRF4', 'IRF5', 'IRF7', 'IRF8', 'IRF9', 'LEF1', 'LHX2', 'LYL1', 'MEF2A', 'MEF2C', 'MEF2D', 'MEIS2', 'MESP1', 'MLX', 'MNX1', 'MYB', 'MYBL2', 'MYNN', 'NFATC1', 'NFATC2', 'NFATC4', 'NFIL3', 'NFKB1', 'NFKB2', 'NR1I3', 'NR3C1', 'NR4A2', 'OSR2', 'PAX5', 'PLAG1', 'PLAGL1', 'POU2F1', 'POU2F2', 'PRDM1', 'RARA', 'REL', 'RELA', 'RFX3', 'RREB1', 'RUNX1', 'RUNX3', 'SMAD4', 'SP2', 'SP4', 'SPIB', 'STAT1', 'STAT2', 'STAT5A', 'TBP', 'TBX21', 'TCF3', 'TCF4', 'TCF7', 'TFEB', 'TGIF2', 'TP73', 'UBP1', 'USF2', 'ZBTB18', 'ZBTB33', 'ZBTB49', 'ZBTB6', 'ZBTB7B', 'ZEB1', 'ZNF136', 'ZNF18', 'ZNF232', 'ZNF264', 'ZNF317', 'ZNF394', 'ZNF41', 'ZNF563', 'ZNF586', 'ZNF589', 'ZNF76', 'ZNF816', 'ZSCAN16']\n"
     ]
    }
   ],
   "source": [
    "motifs_pro_pro = sorted(set(list(results_expr_pro_pro.vocab1.unique())+list(results_expr_pro_pro.vocab2.unique())))\n",
    "print('num motifs in pro_pro', len(motifs_pro_pro))\n",
    "print(motifs_pro_pro)\n",
    "\n",
    "\n",
    "motifs_loop_loop = sorted(set(list(results_expr_loop_loop.vocab1.unique())+list(results_expr_loop_loop.vocab2.unique())))\n",
    "print('num motifs in loop_loop', len(motifs_loop_loop))\n",
    "print(motifs_loop_loop)"
   ]
  },
  {
   "cell_type": "code",
   "execution_count": 13,
   "metadata": {},
   "outputs": [
    {
     "name": "stdout",
     "output_type": "stream",
     "text": [
      "pre genomic instance filter\n",
      "num vocab in expression enrichment (pro-pro region):  957\n",
      "num vocab in expression enrichment (loop-loop region):  2100\n"
     ]
    }
   ],
   "source": [
    "print('pre genomic instance filter')\n",
    "print('num vocab in expression enrichment (pro-pro region): ', results_expr_pro_pro.vocab_pair.unique().shape[0])\n",
    "# print('num vocab in expression enrichment intersected with stability (pro-pro region): ', results_stability_pro_pro.vocab_pair.unique().shape[0])\n",
    "# print(results_stability_pro_pro.vocab_pair.unique())\n",
    "print('num vocab in expression enrichment (loop-loop region): ', results_expr_loop_loop.vocab_pair.unique().shape[0])\n",
    "# print('num vocab in expression enrichment intersected with stability (loop-loop region): ', results_stability_loop_loop.vocab_pair.unique().shape[0])\n",
    "# print(results_stability_loop_loop.vocab_pair.unique())\n"
   ]
  },
  {
   "cell_type": "markdown",
   "metadata": {},
   "source": [
    "## 3C. filter expression enriched vocab words if then have at least 10 genomic instances then get stats"
   ]
  },
  {
   "cell_type": "code",
   "execution_count": 14,
   "metadata": {},
   "outputs": [
    {
     "name": "stdout",
     "output_type": "stream",
     "text": [
      "shape (6058, 16)\n",
      "original num vocab 957\n",
      "filt num vocab 112\n"
     ]
    }
   ],
   "source": [
    "results_expr_pro_pro = filter_results(results_expr_pro_pro,min_hits_per_vocab=10)\n",
    "# print(results_expr_pro_pro.vocab_pair.unique().shape)\n",
    "# results_expr_pro_pro.vocab_pair.unique()"
   ]
  },
  {
   "cell_type": "code",
   "execution_count": 15,
   "metadata": {},
   "outputs": [
    {
     "name": "stdout",
     "output_type": "stream",
     "text": [
      "shape (41856, 16)\n",
      "original num vocab 2100\n",
      "filt num vocab 635\n"
     ]
    }
   ],
   "source": [
    "results_expr_loop_loop = filter_results(results_expr_loop_loop,min_hits_per_vocab=10)\n",
    "# print(results_expr_loop_loop.vocab_pair.unique().shape)\n",
    "# results_expr_loop_loop.vocab_pair.unique()"
   ]
  },
  {
   "cell_type": "code",
   "execution_count": 16,
   "metadata": {},
   "outputs": [],
   "source": [
    "# results_stability_pro_pro = filter_results(results_stability_pro_pro,min_hits_per_vocab=10)\n",
    "# results_stability_loop_loop = filter_results(results_stability_loop_loop,min_hits_per_vocab=10)\n"
   ]
  },
  {
   "cell_type": "code",
   "execution_count": 17,
   "metadata": {},
   "outputs": [
    {
     "name": "stdout",
     "output_type": "stream",
     "text": [
      "post genomic instance filter\n",
      "num vocab in expression enrichment (pro-pro region):  112\n",
      "num vocab in expression enrichment (loop-loop region):  635\n"
     ]
    }
   ],
   "source": [
    "print('post genomic instance filter')\n",
    "print('num vocab in expression enrichment (pro-pro region): ', results_expr_pro_pro.vocab_pair.unique().shape[0])\n",
    "# print('num vocab in expression enrichment intersected with stability (pro-pro region): ', results_stability_pro_pro.vocab_pair.unique().shape[0])\n",
    "# print(results_stability_pro_pro.vocab_pair.unique())\n",
    "print('num vocab in expression enrichment (loop-loop region): ', results_expr_loop_loop.vocab_pair.unique().shape[0])\n",
    "# print('num vocab in expression enrichment intersected with stability (loop-loop region): ', results_stability_loop_loop.vocab_pair.unique().shape[0])\n",
    "# print(results_stability_loop_loop.vocab_pair.unique())\n"
   ]
  },
  {
   "cell_type": "markdown",
   "metadata": {},
   "source": [
    "## 3D filter expr vocab words based on whether there is they are annotated for skin"
   ]
  },
  {
   "cell_type": "code",
   "execution_count": 18,
   "metadata": {},
   "outputs": [
    {
     "data": {
      "text/plain": [
       "none    106\n",
       "one      21\n",
       "both      5\n",
       "Name: check_tissuetf, dtype: int64"
      ]
     },
     "execution_count": 18,
     "metadata": {},
     "output_type": "execute_result"
    }
   ],
   "source": [
    "results_expr_pro_pro[['vocab_pair','check_tissuetf']].drop_duplicates().check_tissuetf.value_counts()"
   ]
  },
  {
   "cell_type": "code",
   "execution_count": 19,
   "metadata": {},
   "outputs": [
    {
     "data": {
      "text/plain": [
       "none    538\n",
       "one     179\n",
       "both     96\n",
       "Name: check_tissuetf, dtype: int64"
      ]
     },
     "execution_count": 19,
     "metadata": {},
     "output_type": "execute_result"
    }
   ],
   "source": [
    "results_expr_loop_loop[['vocab_pair','check_tissuetf']].drop_duplicates().check_tissuetf.value_counts()"
   ]
  },
  {
   "cell_type": "markdown",
   "metadata": {},
   "source": [
    "shows fraction of vocab words having tissue specific motif configuration (`both` are tissue specific, `one` is tissue specific, or `none` are)\n",
    "\n",
    "\n",
    "MAKE SURE #s are around 40 ish so pick `one` or `both`"
   ]
  },
  {
   "cell_type": "code",
   "execution_count": 20,
   "metadata": {},
   "outputs": [
    {
     "name": "stdout",
     "output_type": "stream",
     "text": [
      "pro-pro region\n",
      "total vocab: 112 tissue annon vocab: 21\n",
      "['ARID5B::IKZF1' 'ARID5B::IRF4' 'BATF::ZNF589' 'EBF1::EGR2' 'EBF1::ETV5'\n",
      " 'EBF1::SP4' 'EBF1::UBP1' 'EGR2::IKZF1' 'EGR2::IRF4' 'EGR2::PAX5'\n",
      " 'HMGA1::IKZF1' 'HMGA1::IRF4' 'IKZF1::SP2' 'IKZF1::UBP1' 'IKZF1::ZNF589'\n",
      " 'IRF4::UBP1' 'IRF8::UBP1' 'IRF8::ZNF589' 'PAX5::SP2' 'PAX5::UBP1'\n",
      " 'SP2::TCF3']\n",
      "loop-loop region\n",
      "total vocab: 635 tissue annon vocab: 96\n",
      "['BATF::ZNF589' 'BCL11A::IKZF1' 'BPTF::IKZF1' 'CBFB::IKZF1' 'CBFB::IRF8'\n",
      " 'DBP::IRF8' 'EBF1::IKZF1' 'EBF1::IRF2' 'EGR1::IRF2' 'EGR3::IKZF1'\n",
      " 'EGR3::IRF8' 'ETV5::IKZF1' 'ETV5::IRF8' 'FOXJ3::IKZF1' 'FOXP1::IRF4'\n",
      " 'FOXP1::IRF8' 'HBP1::IRF8' 'HIVEP1::IKZF1' 'HMGA1::IKZF1' 'HMGA1::IRF8'\n",
      " 'IKZF1::IRF1' 'IKZF1::IRF2' 'IKZF1::IRF3' 'IKZF1::IRF4' 'IKZF1::IRF7'\n",
      " 'IKZF1::IRF8' 'IKZF1::MEF2A' 'IKZF1::MEF2C' 'IKZF1::MESP1' 'IKZF1::MYBL2'\n",
      " 'IKZF1::NFATC1' 'IKZF1::NFATC4' 'IKZF1::NFKB1' 'IKZF1::NR3C1'\n",
      " 'IKZF1::PAX5' 'IKZF1::PLAG1' 'IKZF1::PLAGL1' 'IKZF1::PRDM1' 'IKZF1::RARA'\n",
      " 'IKZF1::REL' 'IKZF1::RREB1' 'IKZF1::RUNX1' 'IKZF1::RUNX3' 'IKZF1::SP4'\n",
      " 'IKZF1::SPIB' 'IKZF1::STAT2' 'IKZF1::TP73' 'IKZF1::UBP1' 'IKZF1::ZBTB33'\n",
      " 'IKZF1::ZBTB49' 'IKZF1::ZNF18' 'IKZF1::ZNF394' 'IKZF1::ZNF41'\n",
      " 'IKZF1::ZNF586' 'IKZF1::ZNF589' 'IKZF1::ZNF816' 'IRF1::IRF8' 'IRF2::IRF4'\n",
      " 'IRF2::IRF5' 'IRF2::IRF8' 'IRF2::LEF1' 'IRF2::MEF2C' 'IRF2::MESP1'\n",
      " 'IRF2::NFATC2' 'IRF2::NFATC4' 'IRF2::PAX5' 'IRF2::PLAG1' 'IRF2::RARA'\n",
      " 'IRF2::SP2' 'IRF2::SP4' 'IRF2::SPIB' 'IRF2::TP73' 'IRF4::IRF7'\n",
      " 'IRF4::IRF8' 'IRF4::NR3C1' 'IRF4::OSR2' 'IRF4::PLAG1' 'IRF4::SP4'\n",
      " 'IRF4::ZBTB49' 'IRF4::ZNF816' 'IRF7::IRF8' 'IRF8::LEF1' 'IRF8::MEF2A'\n",
      " 'IRF8::MYBL2' 'IRF8::PRDM1' 'IRF8::SPIB' 'IRF8::STAT1' 'IRF8::STAT2'\n",
      " 'IRF8::UBP1' 'IRF8::ZBTB49' 'IRF8::ZNF394' 'IRF8::ZNF589' 'IRF8::ZNF816'\n",
      " 'PAX5::SP4' 'SP4::TCF3' 'TCF3::ZNF589']\n"
     ]
    }
   ],
   "source": [
    "filter_thres = ['both','one']#'both' # 'one'#'none','one',\n",
    "results_expr_pro_pro_tissue = results_expr_pro_pro[results_expr_pro_pro.check_tissuetf.isin(filter_thres)]\n",
    "print('pro-pro region')\n",
    "print('total vocab:',results_expr_pro_pro.vocab_pair.unique().shape[0],'tissue annon vocab:', results_expr_pro_pro_tissue.vocab_pair.unique().shape[0])\n",
    "print(results_expr_pro_pro_tissue.vocab_pair.unique())\n",
    "\n",
    "filter_thres = ['both']#'both' # 'one'#'none','one',\n",
    "results_expr_loop_loop_tissue = results_expr_loop_loop[results_expr_loop_loop.check_tissuetf.isin(filter_thres)]\n",
    "print('loop-loop region')\n",
    "print('total vocab:',results_expr_loop_loop.vocab_pair.unique().shape[0],'tissue annon vocab:', results_expr_loop_loop_tissue.vocab_pair.unique().shape[0])\n",
    "print(results_expr_loop_loop_tissue.vocab_pair.unique())"
   ]
  },
  {
   "cell_type": "markdown",
   "metadata": {},
   "source": [
    "## 3E add in stability scores vocab pairs that pass the genomic instance filter and get genomic instance counts"
   ]
  },
  {
   "cell_type": "code",
   "execution_count": 23,
   "metadata": {},
   "outputs": [],
   "source": [
    "def get_counts(results_df, label):\n",
    "    vocab_to_checktissue = pd.Series(results_df.check_tissuetf.values, index=results_df.vocab_pair.values).to_dict()\n",
    "    counts_df = pd.DataFrame(results_df.vocab_pair.value_counts())\n",
    "    counts_df.columns = ['num_instance']\n",
    "    counts_df['label']=label\n",
    "    counts_df.index.set_names('vocab',inplace=True)\n",
    "    counts_df.reset_index(inplace=True)\n",
    "\n",
    "    counts_df['check_tissue'] = counts_df.vocab.map(vocab_to_checktissue)\n",
    "    return counts_df"
   ]
  },
  {
   "cell_type": "code",
   "execution_count": 24,
   "metadata": {},
   "outputs": [
    {
     "data": {
      "text/plain": [
       "expr_loop_tissue                    90\n",
       "expr_pro_tissue                     15\n",
       "expr_pro_tissue|expr_loop_tissue     6\n",
       "Name: label, dtype: int64"
      ]
     },
     "execution_count": 24,
     "metadata": {},
     "output_type": "execute_result"
    }
   ],
   "source": [
    "vocab_summary_df = pd.concat([ #get_counts(results_stability_pro_pro, 'stability_pro'),\n",
    "            get_counts(results_expr_pro_pro_tissue, 'expr_pro_tissue'),\n",
    "#             get_counts(results_stability_loop_loop, 'stability_loop'),\n",
    "            get_counts(results_expr_loop_loop_tissue, 'expr_loop_tissue')],axis=0)\n",
    "vocab_summary_df = vocab_summary_df.groupby('vocab').agg({'num_instance':sum, 'check_tissue':lambda x: ''.join(list(set(x))),'label':'|'.join}).reset_index()\n",
    "vocab_summary_df['tissue']=TISSUE\n",
    "vocab_summary_df.label.value_counts()\n",
    "# results_stability_loop_loop.vocab_pair.unique()"
   ]
  },
  {
   "cell_type": "code",
   "execution_count": 25,
   "metadata": {},
   "outputs": [
    {
     "data": {
      "text/html": [
       "<div>\n",
       "<style scoped>\n",
       "    .dataframe tbody tr th:only-of-type {\n",
       "        vertical-align: middle;\n",
       "    }\n",
       "\n",
       "    .dataframe tbody tr th {\n",
       "        vertical-align: top;\n",
       "    }\n",
       "\n",
       "    .dataframe thead th {\n",
       "        text-align: right;\n",
       "    }\n",
       "</style>\n",
       "<table border=\"1\" class=\"dataframe\">\n",
       "  <thead>\n",
       "    <tr style=\"text-align: right;\">\n",
       "      <th></th>\n",
       "      <th>vocab</th>\n",
       "      <th>num_instance</th>\n",
       "      <th>check_tissue</th>\n",
       "      <th>label</th>\n",
       "      <th>tissue</th>\n",
       "    </tr>\n",
       "  </thead>\n",
       "  <tbody>\n",
       "    <tr>\n",
       "      <td>0</td>\n",
       "      <td>ARID5B::IKZF1</td>\n",
       "      <td>16</td>\n",
       "      <td>one</td>\n",
       "      <td>expr_pro_tissue</td>\n",
       "      <td>GM12878</td>\n",
       "    </tr>\n",
       "    <tr>\n",
       "      <td>1</td>\n",
       "      <td>ARID5B::IRF4</td>\n",
       "      <td>20</td>\n",
       "      <td>one</td>\n",
       "      <td>expr_pro_tissue</td>\n",
       "      <td>GM12878</td>\n",
       "    </tr>\n",
       "    <tr>\n",
       "      <td>2</td>\n",
       "      <td>BATF::ZNF589</td>\n",
       "      <td>14</td>\n",
       "      <td>bothone</td>\n",
       "      <td>expr_pro_tissue|expr_loop_tissue</td>\n",
       "      <td>GM12878</td>\n",
       "    </tr>\n",
       "    <tr>\n",
       "      <td>3</td>\n",
       "      <td>BCL11A::IKZF1</td>\n",
       "      <td>21</td>\n",
       "      <td>both</td>\n",
       "      <td>expr_loop_tissue</td>\n",
       "      <td>GM12878</td>\n",
       "    </tr>\n",
       "    <tr>\n",
       "      <td>4</td>\n",
       "      <td>BPTF::IKZF1</td>\n",
       "      <td>11</td>\n",
       "      <td>both</td>\n",
       "      <td>expr_loop_tissue</td>\n",
       "      <td>GM12878</td>\n",
       "    </tr>\n",
       "  </tbody>\n",
       "</table>\n",
       "</div>"
      ],
      "text/plain": [
       "           vocab  num_instance check_tissue                             label  \\\n",
       "0  ARID5B::IKZF1            16          one                   expr_pro_tissue   \n",
       "1   ARID5B::IRF4            20          one                   expr_pro_tissue   \n",
       "2   BATF::ZNF589            14      bothone  expr_pro_tissue|expr_loop_tissue   \n",
       "3  BCL11A::IKZF1            21         both                  expr_loop_tissue   \n",
       "4    BPTF::IKZF1            11         both                  expr_loop_tissue   \n",
       "\n",
       "    tissue  \n",
       "0  GM12878  \n",
       "1  GM12878  \n",
       "2  GM12878  \n",
       "3  GM12878  \n",
       "4  GM12878  "
      ]
     },
     "execution_count": 25,
     "metadata": {},
     "output_type": "execute_result"
    }
   ],
   "source": [
    "vocab_summary_df[:5]"
   ]
  },
  {
   "cell_type": "code",
   "execution_count": 26,
   "metadata": {},
   "outputs": [],
   "source": [
    "vocab_summary_df.to_csv(os.path.join(save_dir, TISSUE+'_vocab_summary.csv'))"
   ]
  },
  {
   "cell_type": "code",
   "execution_count": null,
   "metadata": {},
   "outputs": [],
   "source": []
  }
 ],
 "metadata": {
  "kernelspec": {
   "display_name": "Python 3",
   "language": "python",
   "name": "python3"
  },
  "language_info": {
   "codemirror_mode": {
    "name": "ipython",
    "version": 3
   },
   "file_extension": ".py",
   "mimetype": "text/x-python",
   "name": "python",
   "nbconvert_exporter": "python",
   "pygments_lexer": "ipython3",
   "version": "3.7.4"
  }
 },
 "nbformat": 4,
 "nbformat_minor": 4
}
