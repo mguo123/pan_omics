{
 "cells": [
  {
   "cell_type": "markdown",
   "metadata": {},
   "source": [
    "# 8B2_tf_tf_enrichment_cancer\n",
    "\n",
    "07/20/2020\n",
    "\n",
    "getting tf-tf enriched pairs for each tissue for each geneset\n",
    "\n",
    "cancer - scc\n",
    "\n"
   ]
  },
  {
   "cell_type": "code",
   "execution_count": 1,
   "metadata": {},
   "outputs": [],
   "source": [
    "# basic packages\n",
    "import os, glob\n",
    "import pandas as pd\n",
    "import numpy as np; np.random.seed(0)\n",
    "import itertools\n",
    "from collections import Counter, defaultdict\n",
    "import time\n",
    "\n",
    "# machine learning packages from sklearn\n",
    "from sklearn.preprocessing import MinMaxScaler #StandardScaler \n",
    "from sklearn import preprocessing, metrics\n",
    "from sklearn.feature_selection import VarianceThreshold\n",
    "from sklearn.model_selection import train_test_split, KFold, cross_validate, cross_val_score, StratifiedKFold\n",
    "from sklearn.linear_model import LogisticRegression, Lasso, LassoCV\n",
    "from IPython.display import Image\n",
    "from scipy import stats\n",
    "\n",
    "# Import tools needed for visualization\n",
    "import seaborn as sns; sns.set()\n",
    "import matplotlib\n",
    "import matplotlib.pyplot as plt"
   ]
  },
  {
   "cell_type": "code",
   "execution_count": 2,
   "metadata": {},
   "outputs": [],
   "source": [
    "%load_ext autoreload\n",
    "%autoreload 2"
   ]
  },
  {
   "cell_type": "code",
   "execution_count": 3,
   "metadata": {},
   "outputs": [],
   "source": [
    "save_dir = '../data/processed/fig4_modelling/tf_tf_pairs_scc/'\n",
    "if not os.path.exists(save_dir):\n",
    "    os.makedirs(save_dir)"
   ]
  },
  {
   "cell_type": "code",
   "execution_count": 4,
   "metadata": {},
   "outputs": [],
   "source": [
    "THRES=5"
   ]
  },
  {
   "cell_type": "code",
   "execution_count": 5,
   "metadata": {},
   "outputs": [],
   "source": [
    "tf_annon_df = pd.read_csv('../data/external/HOCOMOCOv11_annotation.csv',index_col=0)\n",
    "tf_annon_df['id_trim'] = tf_annon_df['id'] + '.pwm.trim'\n",
    "tf_name_to_id_dict = pd.Series(tf_annon_df.id_trim.values, index=tf_annon_df.tf.values).to_dict()\n",
    "tf_id_to_name_dict = pd.Series(tf_annon_df.tf.values, index=tf_annon_df.id_trim.values).to_dict()"
   ]
  },
  {
   "cell_type": "code",
   "execution_count": 6,
   "metadata": {},
   "outputs": [],
   "source": [
    "rna_df = pd.read_csv('../data/interim/rna/tissue_tpm_sym.csv',index_col=0)\n",
    "# rna_df_norm = rna_df[normal_tissues]"
   ]
  },
  {
   "cell_type": "code",
   "execution_count": 7,
   "metadata": {},
   "outputs": [
    {
     "data": {
      "text/plain": [
       "A431-CTRLi             1.025\n",
       "A431-p63i              1.390\n",
       "Airway                 8.655\n",
       "Astrocytes             0.065\n",
       "Bladder                0.750\n",
       "CAL27-CTRLi            0.615\n",
       "CAL27-p63i             0.550\n",
       "COLO_SCR_DMSO          0.000\n",
       "COLO_SCR_PLX           0.005\n",
       "COLO_shMITF_DMSO       0.015\n",
       "COLO_shMITF_PLX        0.000\n",
       "Colon                  1.775\n",
       "D0-CTRLi               0.380\n",
       "D0-p63i                0.220\n",
       "D3-CTRLi               2.665\n",
       "D3-p63i                0.640\n",
       "Esophageal             0.405\n",
       "GDSD0                  2.800\n",
       "GDSD3                 14.180\n",
       "GDSD6                  6.525\n",
       "GM12878                0.055\n",
       "HMEC                   0.105\n",
       "Melanocytes            0.030\n",
       "Ovarian                0.355\n",
       "Pancreas               5.415\n",
       "Prostate               1.625\n",
       "Renal                  1.175\n",
       "SCC13-CTRLi            0.330\n",
       "SCC13-p63i             0.455\n",
       "SKMEL5_SCR_DMSO        0.000\n",
       "SKMEL5_SCR_PLX         0.020\n",
       "SKMEL5_shMITF-DMSO     0.000\n",
       "SKMEL5_shMITF_PLX      0.005\n",
       "Thyroid                2.460\n",
       "Uterine                0.260\n",
       "WM_SCR_DMSO            0.010\n",
       "WM_SCR_PLX             0.000\n",
       "WM_shMITF_DMSO         0.000\n",
       "WM_shMITF_PLX          0.000\n",
       "Name: BARX2, dtype: float64"
      ]
     },
     "execution_count": 7,
     "metadata": {},
     "output_type": "execute_result"
    }
   ],
   "source": [
    "rna_df.loc[\"BARX2\",:]"
   ]
  },
  {
   "cell_type": "code",
   "execution_count": 8,
   "metadata": {},
   "outputs": [
    {
     "name": "stdout",
     "output_type": "stream",
     "text": [
      "Index(['A431-CTRLi', 'A431-p63i', 'Airway', 'Astrocytes', 'Bladder',\n",
      "       'CAL27-CTRLi', 'CAL27-p63i', 'COLO_SCR_DMSO', 'COLO_SCR_PLX',\n",
      "       'COLO_shMITF_DMSO', 'COLO_shMITF_PLX', 'Colon', 'D0-CTRLi', 'D0-p63i',\n",
      "       'D3-CTRLi', 'D3-p63i', 'Esophageal', 'GDSD0', 'GDSD3', 'GDSD6',\n",
      "       'GM12878', 'HMEC', 'Melanocytes', 'Ovarian', 'Pancreas', 'Prostate',\n",
      "       'Renal', 'SCC13-CTRLi', 'SCC13-p63i', 'SKMEL5_SCR_DMSO',\n",
      "       'SKMEL5_SCR_PLX', 'SKMEL5_shMITF-DMSO', 'SKMEL5_shMITF_PLX', 'Thyroid',\n",
      "       'Uterine', 'WM_SCR_DMSO', 'WM_SCR_PLX', 'WM_shMITF_DMSO',\n",
      "       'WM_shMITF_PLX'],\n",
      "      dtype='object')\n"
     ]
    }
   ],
   "source": [
    "print(rna_df.columns)\n",
    "cancer_tissues = ['A431-CTRLi','CAL27-CTRLi', 'SCC13-CTRLi']\n",
    "normal_tissues = ['GDSD0','GDSD3']#'D0-CTRLi', 'D3-CTRLi']\n",
    "sel_tissues = cancer_tissues+normal_tissues\n",
    "tissues_dict = dict(zip(sel_tissues,range(len(sel_tissues))))\n",
    "rna_df_sel = rna_df[sel_tissues]"
   ]
  },
  {
   "cell_type": "markdown",
   "metadata": {},
   "source": [
    "# 0. CRM data wrangling and global var setup"
   ]
  },
  {
   "cell_type": "code",
   "execution_count": 9,
   "metadata": {},
   "outputs": [
    {
     "name": "stdout",
     "output_type": "stream",
     "text": [
      "CPU times: user 1min 24s, sys: 24.4 s, total: 1min 48s\n",
      "Wall time: 1min 32s\n"
     ]
    }
   ],
   "source": [
    "%%time\n",
    "# import\n",
    "data_all = pd.read_csv('/Users/mguo123/Google Drive/1_khavari/omics_project-LD/pan_omics/data/processed/tissue_crms/all_count_comb_overall.csv',index_col=0,header=0)\n",
    "data_all = data_all[data_all.tissue.isin(sel_tissues)]\n",
    "data_all = data_all[data_all.iloc[:,2:].sum(axis=1)>1e-1]\n",
    "\n",
    "# expression labels\n",
    "exp_label = list(np.log10(data_all.exp.values+1e-2))\n",
    "labels_all  = np.array(np.array(exp_label)>THRES)\n",
    "\n",
    "\n",
    "tissues_label  = data_all.tissue.values#np.array((data_all.exp>THRES).values)\n",
    "tissue_num_labels =  data_all.tissue.map(tissues_dict).values\n",
    "is_cancer_label = np.array(['cancer' if x in cancer_tissues  else 'normal' for x in tissues_label ])\n",
    "\n",
    "\n",
    "genes_all = data_all.index.values\n",
    "gene_to_num_dict = dict(zip(np.unique(genes_all),range(len(np.unique(genes_all)))))\n",
    "genes_num_all = np.vectorize(gene_to_num_dict.get)(genes_all)\n",
    "\n"
   ]
  },
  {
   "cell_type": "code",
   "execution_count": 39,
   "metadata": {},
   "outputs": [
    {
     "name": "stdout",
     "output_type": "stream",
     "text": [
      "files_loaded (58225, 1057)\n"
     ]
    }
   ],
   "source": [
    "print('files_loaded', data_all.shape)\n"
   ]
  },
  {
   "cell_type": "code",
   "execution_count": 11,
   "metadata": {},
   "outputs": [
    {
     "data": {
      "text/plain": [
       "(58225, 1057)"
      ]
     },
     "execution_count": 11,
     "metadata": {},
     "output_type": "execute_result"
    }
   ],
   "source": [
    "## only tfs\n",
    "\n",
    "data_all.drop(['tissue','exp','num_loop_counts','num_loops','num_atac_regions_pro','num_atac_regions_loop'],axis=1,inplace=True)\n",
    "\n",
    "data_all.shape\n",
    "\n",
    "\n"
   ]
  },
  {
   "cell_type": "code",
   "execution_count": 12,
   "metadata": {},
   "outputs": [
    {
     "data": {
      "text/html": [
       "<div>\n",
       "<style scoped>\n",
       "    .dataframe tbody tr th:only-of-type {\n",
       "        vertical-align: middle;\n",
       "    }\n",
       "\n",
       "    .dataframe tbody tr th {\n",
       "        vertical-align: top;\n",
       "    }\n",
       "\n",
       "    .dataframe thead th {\n",
       "        text-align: right;\n",
       "    }\n",
       "</style>\n",
       "<table border=\"1\" class=\"dataframe\">\n",
       "  <thead>\n",
       "    <tr style=\"text-align: right;\">\n",
       "      <th></th>\n",
       "      <th>AHR_pro</th>\n",
       "      <th>ARID5B_pro</th>\n",
       "      <th>ARNT_pro</th>\n",
       "      <th>ARNTL_pro</th>\n",
       "      <th>ATF1_pro</th>\n",
       "      <th>ATF2_pro</th>\n",
       "      <th>ATF3_pro</th>\n",
       "      <th>ATF4_pro</th>\n",
       "      <th>ATF6_pro</th>\n",
       "      <th>ATF7_pro</th>\n",
       "      <th>...</th>\n",
       "      <th>MAFA_loop</th>\n",
       "      <th>MEOX1_loop</th>\n",
       "      <th>E2F5_pro</th>\n",
       "      <th>E2F5_loop</th>\n",
       "      <th>ESR2_pro</th>\n",
       "      <th>KLF14_pro</th>\n",
       "      <th>TBX15_pro</th>\n",
       "      <th>ESR2_loop</th>\n",
       "      <th>KLF14_loop</th>\n",
       "      <th>TBX15_loop</th>\n",
       "    </tr>\n",
       "  </thead>\n",
       "  <tbody>\n",
       "    <tr>\n",
       "      <td>A1BG</td>\n",
       "      <td>0.0</td>\n",
       "      <td>0.0</td>\n",
       "      <td>0.0</td>\n",
       "      <td>0.0</td>\n",
       "      <td>0.0</td>\n",
       "      <td>0.0</td>\n",
       "      <td>0.0</td>\n",
       "      <td>0.0</td>\n",
       "      <td>0.0</td>\n",
       "      <td>0.0</td>\n",
       "      <td>...</td>\n",
       "      <td>0.0</td>\n",
       "      <td>0.0</td>\n",
       "      <td>0.0</td>\n",
       "      <td>0.0</td>\n",
       "      <td>0.0</td>\n",
       "      <td>0.0</td>\n",
       "      <td>0.0</td>\n",
       "      <td>0.0</td>\n",
       "      <td>0.0</td>\n",
       "      <td>0.0</td>\n",
       "    </tr>\n",
       "    <tr>\n",
       "      <td>A3GALT2</td>\n",
       "      <td>0.0</td>\n",
       "      <td>0.0</td>\n",
       "      <td>0.0</td>\n",
       "      <td>0.0</td>\n",
       "      <td>0.0</td>\n",
       "      <td>0.0</td>\n",
       "      <td>0.0</td>\n",
       "      <td>0.0</td>\n",
       "      <td>0.0</td>\n",
       "      <td>0.0</td>\n",
       "      <td>...</td>\n",
       "      <td>0.0</td>\n",
       "      <td>0.0</td>\n",
       "      <td>0.0</td>\n",
       "      <td>0.0</td>\n",
       "      <td>0.0</td>\n",
       "      <td>0.0</td>\n",
       "      <td>0.0</td>\n",
       "      <td>0.0</td>\n",
       "      <td>0.0</td>\n",
       "      <td>0.0</td>\n",
       "    </tr>\n",
       "    <tr>\n",
       "      <td>A4GALT</td>\n",
       "      <td>0.0</td>\n",
       "      <td>0.0</td>\n",
       "      <td>0.0</td>\n",
       "      <td>0.0</td>\n",
       "      <td>0.0</td>\n",
       "      <td>0.0</td>\n",
       "      <td>0.0</td>\n",
       "      <td>0.0</td>\n",
       "      <td>0.0</td>\n",
       "      <td>0.0</td>\n",
       "      <td>...</td>\n",
       "      <td>0.0</td>\n",
       "      <td>0.0</td>\n",
       "      <td>0.0</td>\n",
       "      <td>0.0</td>\n",
       "      <td>0.0</td>\n",
       "      <td>0.0</td>\n",
       "      <td>0.0</td>\n",
       "      <td>0.0</td>\n",
       "      <td>0.0</td>\n",
       "      <td>0.0</td>\n",
       "    </tr>\n",
       "    <tr>\n",
       "      <td>A4GNT</td>\n",
       "      <td>0.0</td>\n",
       "      <td>0.0</td>\n",
       "      <td>0.0</td>\n",
       "      <td>0.0</td>\n",
       "      <td>0.0</td>\n",
       "      <td>0.0</td>\n",
       "      <td>0.0</td>\n",
       "      <td>0.0</td>\n",
       "      <td>0.0</td>\n",
       "      <td>0.0</td>\n",
       "      <td>...</td>\n",
       "      <td>0.0</td>\n",
       "      <td>0.0</td>\n",
       "      <td>0.0</td>\n",
       "      <td>0.0</td>\n",
       "      <td>0.0</td>\n",
       "      <td>0.0</td>\n",
       "      <td>0.0</td>\n",
       "      <td>0.0</td>\n",
       "      <td>0.0</td>\n",
       "      <td>0.0</td>\n",
       "    </tr>\n",
       "    <tr>\n",
       "      <td>AAAS</td>\n",
       "      <td>0.0</td>\n",
       "      <td>0.0</td>\n",
       "      <td>0.0</td>\n",
       "      <td>0.0</td>\n",
       "      <td>0.0</td>\n",
       "      <td>0.0</td>\n",
       "      <td>0.0</td>\n",
       "      <td>0.0</td>\n",
       "      <td>0.0</td>\n",
       "      <td>0.0</td>\n",
       "      <td>...</td>\n",
       "      <td>0.0</td>\n",
       "      <td>0.0</td>\n",
       "      <td>0.0</td>\n",
       "      <td>0.0</td>\n",
       "      <td>0.0</td>\n",
       "      <td>0.0</td>\n",
       "      <td>0.0</td>\n",
       "      <td>0.0</td>\n",
       "      <td>0.0</td>\n",
       "      <td>0.0</td>\n",
       "    </tr>\n",
       "  </tbody>\n",
       "</table>\n",
       "<p>5 rows × 1057 columns</p>\n",
       "</div>"
      ],
      "text/plain": [
       "         AHR_pro  ARID5B_pro  ARNT_pro  ARNTL_pro  ATF1_pro  ATF2_pro  \\\n",
       "A1BG         0.0         0.0       0.0        0.0       0.0       0.0   \n",
       "A3GALT2      0.0         0.0       0.0        0.0       0.0       0.0   \n",
       "A4GALT       0.0         0.0       0.0        0.0       0.0       0.0   \n",
       "A4GNT        0.0         0.0       0.0        0.0       0.0       0.0   \n",
       "AAAS         0.0         0.0       0.0        0.0       0.0       0.0   \n",
       "\n",
       "         ATF3_pro  ATF4_pro  ATF6_pro  ATF7_pro  ...  MAFA_loop  MEOX1_loop  \\\n",
       "A1BG          0.0       0.0       0.0       0.0  ...        0.0         0.0   \n",
       "A3GALT2       0.0       0.0       0.0       0.0  ...        0.0         0.0   \n",
       "A4GALT        0.0       0.0       0.0       0.0  ...        0.0         0.0   \n",
       "A4GNT         0.0       0.0       0.0       0.0  ...        0.0         0.0   \n",
       "AAAS          0.0       0.0       0.0       0.0  ...        0.0         0.0   \n",
       "\n",
       "         E2F5_pro  E2F5_loop  ESR2_pro  KLF14_pro  TBX15_pro  ESR2_loop  \\\n",
       "A1BG          0.0        0.0       0.0        0.0        0.0        0.0   \n",
       "A3GALT2       0.0        0.0       0.0        0.0        0.0        0.0   \n",
       "A4GALT        0.0        0.0       0.0        0.0        0.0        0.0   \n",
       "A4GNT         0.0        0.0       0.0        0.0        0.0        0.0   \n",
       "AAAS          0.0        0.0       0.0        0.0        0.0        0.0   \n",
       "\n",
       "         KLF14_loop  TBX15_loop  \n",
       "A1BG            0.0         0.0  \n",
       "A3GALT2         0.0         0.0  \n",
       "A4GALT          0.0         0.0  \n",
       "A4GNT           0.0         0.0  \n",
       "AAAS            0.0         0.0  \n",
       "\n",
       "[5 rows x 1057 columns]"
      ]
     },
     "execution_count": 12,
     "metadata": {},
     "output_type": "execute_result"
    }
   ],
   "source": [
    "data_all[:5]"
   ]
  },
  {
   "cell_type": "code",
   "execution_count": 13,
   "metadata": {},
   "outputs": [],
   "source": [
    "#tfs_feat_dict: dict\n",
    "# key: tf\n",
    "# value: list of crm features\n",
    "tfs_feat_dict = defaultdict(list)\n",
    "for feat in data_all.columns:\n",
    "    tfs_feat_dict[feat.split('_')[0]].append(feat)"
   ]
  },
  {
   "cell_type": "markdown",
   "metadata": {},
   "source": [
    "# 1. Functions "
   ]
  },
  {
   "cell_type": "code",
   "execution_count": 14,
   "metadata": {},
   "outputs": [],
   "source": [
    "def find_tf_pairs(single_results, tfs_feat_dict=tfs_feat_dict, data_all=data_all):\n",
    "    tfs_unique = single_results[single_results.pval_bonf<0.05].tf_key.unique()\n",
    "    print('num single unique TFs', len(tfs_unique))\n",
    "    TF_pair_dict = defaultdict(list)\n",
    "    for tf1 in tfs_unique:\n",
    "        for tf2 in tfs_unique:\n",
    "            if (tf1<tf2):\n",
    "                if (tf1 in tfs_feat_dict) and (tf2 in tfs_feat_dict):\n",
    "                    possible_feats = [tf1+'_pro',tf1+'_loop',tf2+'_pro',tf2+'_loop']\n",
    "                    for feat in possible_feats:\n",
    "                        if feat in data_all.columns:\n",
    "                            TF_pair_dict[tf1+'::'+tf2].append(feat)\n",
    "    print('num pairs of TFs', len(TF_pair_dict))\n",
    "    return TF_pair_dict"
   ]
  },
  {
   "cell_type": "code",
   "execution_count": 15,
   "metadata": {},
   "outputs": [],
   "source": [
    "# TF_feat_dict: dict, key = tf_key (string of tfs sep by ::), val; list of features/columns of data_all\n",
    "# backgound: relative means the background in the data_all_sel, if 'all' then background is data_all\n",
    "# def tf_enrichment(geneset, tissues=normal_tissues, data_all=data_all,tissues_label=tissues_label, background='all'):\n",
    "def tf_enrichment(geneset, TF_feat_dict, tissues=['cancer', 'normal'], \n",
    "                  data_all=data_all,tissues_label=is_cancer_label, \n",
    "                  background='relative',verbose=True, save_path=None):\n",
    "    # get subset\n",
    "    data_all_sel = data_all[data_all.index.isin(geneset)]\n",
    "    tissues_label_sel = tissues_label[data_all.index.isin(geneset)]\n",
    "    if verbose:\n",
    "        print('num genes in geneset',len(geneset))\n",
    "        print('subsetting data,', data_all_sel.shape, tissues_label_sel.shape)\n",
    "    \n",
    "    # set background and initial variables\n",
    "    results_df = pd.DataFrame(columns = ['tf_key', 'tissue', 'jaccard', 'intersect_over_min','intersection','union', 'num_in_gene', 'num_in_feat', 'observed', 'expected', 'oddsratio', 'pval' ])\n",
    "    counter = 0\n",
    "    if background=='all':\n",
    "        count_all = data_all.sum().sum()\n",
    "    else:\n",
    "        count_all = data_all_sel.sum().sum() ## background\n",
    "    \n",
    "    # iterate through tissues\n",
    "    if verbose:\n",
    "        print('starting iteration')\n",
    "        print('estimated count', len(TF_feat_dict)*len(tissues))\n",
    "    for tissue in tissues:\n",
    "        if verbose:\n",
    "            print('*****iterating tissue, ', tissue)\n",
    "        tissue_crm = data_all_sel[tissues_label_sel==tissue]\n",
    "        tissue_crm = tissue_crm[tissue_crm.index.isin(geneset)]\n",
    "        count_tissue_gene = tissue_crm.sum().sum() #mat_counts.sum(axis=1)[0], sum first row\n",
    "        \n",
    "        # iterate through tfs\n",
    "        for tf_key, feat_list in sorted(TF_feat_dict.items(),key=lambda x: x[0]):\n",
    "            if len(feat_list)>0:\n",
    "                tissue_crm_selfeat = tissue_crm[feat_list]\n",
    "                count_selfeat_tissue = tissue_crm_selfeat.sum().sum() # A\n",
    "                count_selfeat = data_all_sel[feat_list].sum().sum() #mat_counts.sum(axis=0)[0], sum down first col\n",
    "                count_selfeat_neg = count_selfeat - count_selfeat_tissue # B: not in selected genes but in selected feature\n",
    "                count_neg_tissue = count_tissue_gene - count_selfeat_tissue #C: not in selected feature but in selected genes\n",
    "                count_neg_neg = count_all - count_selfeat_tissue- count_selfeat_neg - count_neg_tissue #D\n",
    "                mat_counts = np.array([[count_selfeat_tissue,count_neg_tissue],\n",
    "                               [count_selfeat_neg, count_neg_neg]]).reshape((2,2))\n",
    "                pseudo = 1\n",
    "                mat_counts_pseudo = mat_counts+pseudo\n",
    "                num_in_1 = mat_counts.sum(axis=1)[0] #count_tissue_gene\n",
    "                num_in_2 = mat_counts.sum(axis=0)[0] #count_selfeat\n",
    "                in_1_and_in_2 = count_selfeat_tissue # A\n",
    "                in_1_or_in_2 = count_selfeat_tissue +count_selfeat_neg+count_neg_tissue # A+B+C\n",
    "                in_1 = count_selfeat_tissue+count_neg_tissue # A+C\n",
    "                in_2 = count_selfeat_tissue+count_selfeat_neg#A+B\n",
    "                observed_num = mat_counts[0][0] #count_KRTtf_KRTgene\n",
    "                expected_num = num_in_1*num_in_2/sum(sum(mat_counts))\n",
    "                oddsratio_pseudo, pvalue_pseudo = stats.fisher_exact(mat_counts_pseudo,alternative='greater')\n",
    "                jaccard = in_1_and_in_2/in_1_or_in_2\n",
    "                intersect_over_min = in_1_and_in_2/min(in_1,in_2)\n",
    "\n",
    "                results_df.at[counter] = {'tf_key':tf_key, 'tissue':tissue,\n",
    "                                            'jaccard':jaccard,'intersect_over_min':intersect_over_min,\n",
    "                                        'intersection':in_1_and_in_2, \n",
    "                                       'union':in_1_or_in_2, \n",
    "                                       'num_in_gene':num_in_1,'num_in_feat':num_in_2,\n",
    "                                       'observed':observed_num, 'expected':expected_num, \n",
    "                                       'oddsratio':oddsratio_pseudo, 'pval':pvalue_pseudo}\n",
    "                counter+=1\n",
    "                if verbose:\n",
    "                    if (counter %1000)==0:\n",
    "                        print(tf_key, tissue, counter)\n",
    "\n",
    "    \n",
    "    results_df['pval_bonf'] = results_df.pval.apply(lambda x: min(1, x* results_df.shape[0]))\n",
    "    results_df['log_pval_bonf'] = results_df.pval_bonf.apply(lambda x: min(100,-np.log10(x+1e-100)))\n",
    "    \n",
    "    if save_path is not None:\n",
    "        results_df.to_csv(save_path)\n",
    "        print('saved file', save_path)\n",
    "    return results_df"
   ]
  },
  {
   "cell_type": "markdown",
   "metadata": {},
   "source": [
    "# 2. get gene sets\n",
    "\n",
    "create dictionary {tissue: gene_list} for each category\n",
    "\n",
    "cancer variant (to types of gene sets the differential one and then the normal one)"
   ]
  },
  {
   "cell_type": "code",
   "execution_count": 16,
   "metadata": {},
   "outputs": [],
   "source": [
    "# 2A. unique gene lists for each cell type\n",
    "# glob.glob('../../rnaseq/unique_gene_lists/*genes.txt')"
   ]
  },
  {
   "cell_type": "code",
   "execution_count": 17,
   "metadata": {},
   "outputs": [],
   "source": [
    "# unique_genesets = {}\n",
    "# for rna_file in glob.glob('../../rnaseq/unique_gene_lists/*genes.txt'):\n",
    "#     tissue = os.path.basename(rna_file).split('_')[0]\n",
    "#     geneset = sorted(pd.read_csv(rna_file,header=None).loc[:,0].dropna().unique())\n",
    "#     print(tissue, len(geneset))\n",
    "#     unique_genesets[tissue] = geneset\n",
    "    "
   ]
  },
  {
   "cell_type": "markdown",
   "metadata": {},
   "source": [
    "2B. differentially expressed gene lists for each cell type"
   ]
  },
  {
   "cell_type": "code",
   "execution_count": 18,
   "metadata": {},
   "outputs": [],
   "source": [
    "# def t_test(row):\n",
    "#     t_stat, pval =  stats.ttest_ind(row[cancer_tissues], row[normal_tissues], axis=0, equal_var=True, nan_policy='propagate')\n",
    "#     fc = \n",
    "#     return t_stat, pval, fc"
   ]
  },
  {
   "cell_type": "code",
   "execution_count": 19,
   "metadata": {},
   "outputs": [
    {
     "name": "stderr",
     "output_type": "stream",
     "text": [
      "/Users/mguo123/opt/anaconda3/lib/python3.7/site-packages/scipy/stats/_distn_infrastructure.py:903: RuntimeWarning: invalid value encountered in greater\n",
      "  return (a < x) & (x < b)\n",
      "/Users/mguo123/opt/anaconda3/lib/python3.7/site-packages/scipy/stats/_distn_infrastructure.py:903: RuntimeWarning: invalid value encountered in less\n",
      "  return (a < x) & (x < b)\n",
      "/Users/mguo123/opt/anaconda3/lib/python3.7/site-packages/scipy/stats/_distn_infrastructure.py:1912: RuntimeWarning: invalid value encountered in less_equal\n",
      "  cond2 = cond0 & (x <= _a)\n"
     ]
    }
   ],
   "source": [
    "rna_df_sel_high = rna_df_sel[rna_df_sel.max(axis=1)>1]\n",
    "rna_df_sel_high_pseudo = rna_df_sel_high+1\n",
    "\n",
    "ttest_rna_df = pd.DataFrame(stats.ttest_ind(rna_df_sel_high_pseudo[cancer_tissues], rna_df_sel_high_pseudo[normal_tissues], \n",
    "                                            axis=1, equal_var=True, nan_policy='propagate')).T\n",
    "ttest_rna_df.columns = ['tstat','pval']\n",
    "ttest_rna_df = pd.concat([rna_df_sel_high.reset_index(), ttest_rna_df],axis=1)\n",
    "ttest_rna_df.sort_values('tstat',inplace=True)"
   ]
  },
  {
   "cell_type": "code",
   "execution_count": 20,
   "metadata": {},
   "outputs": [
    {
     "name": "stdout",
     "output_type": "stream",
     "text": [
      "48\n",
      "['ABCB7', 'AP5S1', 'ARGLU1', 'BAX', 'BCL9', 'CASP2', 'CCDC142', 'CHMP3', 'CTCF', 'CTDSP1', 'CUEDC1', 'DNAJA2', 'DNAJC7', 'DYNC1LI2', 'FUNDC2', 'GDE1', 'GOLGA2', 'IFI16', 'IRF3', 'KLHL9', 'MAPK12', 'MIDN', 'MLEC', 'MXRA7', 'NDUFB11', 'NRIP3', 'POU2F1', 'PRDM2', 'RBMX', 'RHPN2', 'RNU4-1', 'RNU5A-1', 'SDHAF2', 'SERF1A', 'SMG1', 'SNORA31B', 'SPATA33', 'STAT3', 'SUOX', 'SUPT4H1', 'SUPT6H', 'SUV39H1', 'TMCO4', 'TSR2', 'VAC14', 'WDR45B', 'ZC3H18', 'ZNF618']\n"
     ]
    }
   ],
   "source": [
    "# print genes in cancer tissues\n",
    "cancer_genes = sorted(ttest_rna_df[(ttest_rna_df.pval < 0.001)& (ttest_rna_df.tstat > 0)]['index'])\n",
    "print(len(cancer_genes))\n",
    "print(cancer_genes)"
   ]
  },
  {
   "cell_type": "code",
   "execution_count": 21,
   "metadata": {},
   "outputs": [
    {
     "name": "stdout",
     "output_type": "stream",
     "text": [
      "221\n",
      "['ABCD4', 'ACSL3', 'ADPRM', 'AGAP1-IT1', 'AMN1', 'AMY2B', 'AMZ2', 'ANKRA2', 'ANTKMT', 'ARMT1', 'ARRDC1', 'AS3MT', 'ASPRV1', 'ATP10D', 'ATP6AP2', 'ATP6V1C2', 'AZI2', 'BBS9', 'BEX4', 'BOLA2', 'C16orf95', 'C18orf21', 'C2orf74', 'C4orf3', 'C4orf33', 'C9orf72', 'CAMTA1', 'CBR4', 'CCDC122', 'CCND2', 'CD9', 'CDIP1', 'CFAP36', 'CHM', 'CHMP5', 'CNOT8', 'COL16A1', 'COL4A6', 'COMMD6', 'COX6C', 'CTSK', 'CUL5', 'CYP2J2', 'CYP51A1', 'CYYR1', 'DCAF8', 'DCTN6', 'DEPDC5', 'DFFB', 'DLEC1', 'DNAJC3', 'DST', 'E4F1', 'EAF1', 'EBAG9', 'ENOX2', 'EVA1C', 'FADS2', 'FAM104B', 'FAM168A', 'FAM169A', 'FAM24B', 'FAN1', 'FBXL3', 'GABARAPL2', 'GALNT11', 'GET1', 'GGACT', 'GNB2', 'GNPTG', 'GOLGA7', 'GTF2B', 'GTF2H1', 'GYG2P1', 'H1-0', 'HDDC2', 'HHAT', 'HIPK1', 'HIVEP2', 'HMGCR', 'IDH1-AS1', 'IFT43', 'IMPACT', 'INPP5D', 'ITM2A', 'JKAMP', 'KBTBD3', 'KCNK6', 'KDM5D', 'KIAA1191', 'KIF21A', 'KLHL20', 'KPRP', 'LCE1C', 'LCE1F', 'LGALS9C', 'LHFPL2', 'LINC00659', 'LINC01133', 'LMAN2', 'LNX2', 'LOXL3', 'LRIG3', 'LXN', 'MAN1B1', 'MARCHF5', 'MAT2B', 'MDM2', 'MED28', 'METTL18', 'MICOS13', 'MN1', 'MORN4', 'MRC2', 'MTX2', 'MYC', 'NCKAP5', 'NDUFA1', 'NDUFB7', 'NEFH', 'NLGN4Y', 'NOA1', 'NPHP4', 'NPR2', 'NUMA1', 'OSBPL8', 'PAPSS1', 'PDCD6IP', 'PDGFC', 'PEX12', 'PEX13', 'PIEZO1', 'PIGB', 'PIGF', 'PLCH2', 'PLD3', 'PLEKHM2', 'POT1', 'PPM1B', 'PRKX', 'PRKY', 'PRPSAP2', 'PRSS8', 'PSMD10', 'PSTPIP1', 'PTCHD4', 'QPCT', 'QPRT', 'RAD17', 'RBM7', 'RESF1', 'RGS14', 'RMC1', 'RNF145', 'RPS4Y1', 'RRM2B', 'SARAF', 'SDC1', 'SDHC', 'SEC11C', 'SERPINB5', 'SERPINI1', 'SIMC1', 'SIRT5', 'SLC23A2', 'SLC25A43', 'SLC25A5', 'SLC30A5', 'SLC35A5', 'SLC35B2', 'SLC38A1', 'SMAD2', 'SMIM20', 'SMIM26', 'SORD2P', 'SPIDR', 'SPINK6', 'ST14', 'SUPV3L1', 'TBC1D12', 'TBC1D14', 'TLCD4-RWDD3', 'TM7SF3', 'TMCO3', 'TMEM128', 'TMEM218', 'TMEM220', 'TMEM41B', 'TMEM50A', 'TNRC6A', 'TPST2', 'TRIB3', 'TXLNGY', 'TXNDC12', 'UBE2B', 'UBTD1', 'UBXN2A', 'UNC13B', 'UPF3A', 'USP9Y', 'UST', 'VPS13B-DT', 'VPS13D', 'WDR11', 'WDR24', 'XBP1', 'ZFAND3', 'ZFAND6', 'ZFY', 'ZFYVE9', 'ZNF18', 'ZNF227', 'ZNF230', 'ZNF284', 'ZNF304', 'ZNF542P', 'ZNF625', 'ZNF682', 'ZNF710', 'ZNF829', 'ZSCAN18']\n"
     ]
    }
   ],
   "source": [
    "# print genes in normal tissues\n",
    "normal_genes = sorted(ttest_rna_df[(ttest_rna_df.pval < 0.001)& (ttest_rna_df.tstat < 0)]['index'])\n",
    "print(len(normal_genes))\n",
    "print(normal_genes)"
   ]
  },
  {
   "cell_type": "code",
   "execution_count": 22,
   "metadata": {},
   "outputs": [],
   "source": [
    "diff_genesets = {\n",
    "    'normal':normal_genes,\n",
    "    'cancer':cancer_genes,\n",
    "}\n",
    "# for tissue in rna_df_norm.columns:\n",
    "#     geneset = list(rna_df_norm[tissue][rna_df_norm[tissue]>THRES].index)\n",
    "#     print(tissue, len(geneset))\n",
    "#     expr_genesets[tissue] = geneset"
   ]
  },
  {
   "cell_type": "markdown",
   "metadata": {},
   "source": [
    "2C. highly expressed gene lists for each cell type"
   ]
  },
  {
   "cell_type": "code",
   "execution_count": 23,
   "metadata": {},
   "outputs": [],
   "source": [
    "THRES=10"
   ]
  },
  {
   "cell_type": "code",
   "execution_count": 24,
   "metadata": {},
   "outputs": [
    {
     "name": "stdout",
     "output_type": "stream",
     "text": [
      "3916\n"
     ]
    }
   ],
   "source": [
    "cancer_genes = rna_df_sel.index[rna_df_sel[cancer_tissues].min(axis=1)>THRES].values\n",
    "print(len(cancer_genes))"
   ]
  },
  {
   "cell_type": "code",
   "execution_count": 25,
   "metadata": {},
   "outputs": [
    {
     "name": "stdout",
     "output_type": "stream",
     "text": [
      "4669\n"
     ]
    }
   ],
   "source": [
    "normal_genes = rna_df_sel.index[rna_df_sel[normal_tissues].min(axis=1)>THRES].values\n",
    "print(len(normal_genes))"
   ]
  },
  {
   "cell_type": "code",
   "execution_count": 26,
   "metadata": {},
   "outputs": [],
   "source": [
    "expr_genesets = {\n",
    "    'normal':normal_genes,\n",
    "    'cancer':cancer_genes,\n",
    "}"
   ]
  },
  {
   "cell_type": "code",
   "execution_count": 27,
   "metadata": {},
   "outputs": [],
   "source": [
    "# t_test(rna_df_sel.iloc[1,:])[1]"
   ]
  },
  {
   "cell_type": "code",
   "execution_count": 28,
   "metadata": {},
   "outputs": [],
   "source": [
    "# # 2D. group genesets\n",
    "# print(glob.glob('../data/interim/rna/*_genes.csv'))\n",
    "# group_tissue_mapping = {\n",
    "#     'blue':['Astrocytes','Melanocytes'],\n",
    "#     'grey':['GM12878'],\n",
    "#     'green':['Colon','Esophageal','Ovarian','Pancreas','Renal','Thyroid'],\n",
    "#     'purple':['Airway','Bladder', 'GDSD6', 'HMEC', 'Prostate', 'Uterine'] \n",
    "# }"
   ]
  },
  {
   "cell_type": "code",
   "execution_count": 29,
   "metadata": {},
   "outputs": [],
   "source": [
    "# group_genesets = {}\n",
    "# for group, tissues in group_tissue_mapping.items():\n",
    "#     geneset = sorted(pd.read_csv('../data/interim/rna/'+group+'_genes.csv',header=None).loc[:,0].dropna().unique())\n",
    "#     for tissue in tissues:\n",
    "#         group_genesets[tissue] = geneset\n",
    "#         print(tissue, len(geneset))\n",
    "        "
   ]
  },
  {
   "cell_type": "markdown",
   "metadata": {},
   "source": [
    "# 3. running pairwise enrichments"
   ]
  },
  {
   "cell_type": "code",
   "execution_count": 85,
   "metadata": {},
   "outputs": [],
   "source": [
    "def run_pair_enrichment(tissue, save_prefix, geneset_dict,sel_tissues=['cancer','normal'],\n",
    "                       tissue_labels = is_cancer_label):\n",
    "    if tissue not in geneset_dict:\n",
    "        print(tissue, 'not found in geneset_dict')\n",
    "        return\n",
    "    results_df = tf_enrichment(geneset=geneset_dict[tissue], TF_feat_dict=tfs_feat_dict, tissues=sel_tissues, \n",
    "                      data_all=data_all,tissues_label=tissue_labels, \n",
    "                      background='relative',verbose=True, save_path=os.path.join(save_dir, save_prefix+tissue + '_single.csv'))\n",
    "    # filter for cell type\n",
    "    results_df_filt = results_df[(results_df.pval_bonf<0.05 )&( results_df.tissue==tissue)]\n",
    "    # downsample # of tf tf pairs to consider\n",
    "    tfs_feat_dict_pairs = find_tf_pairs(single_results=results_df_filt, tfs_feat_dict=tfs_feat_dict, data_all=data_all)\n",
    "\n",
    "    results_df_pairs = tf_enrichment(geneset=geneset_dict[tissue], TF_feat_dict=tfs_feat_dict_pairs, tissues=[tissue], \n",
    "                      data_all=data_all,tissues_label=tissue_labels, \n",
    "                      background='relative',verbose=True, save_path=os.path.join(save_dir,  save_prefix+tissue + '_pair.csv'))\n",
    "\n",
    "    results_df_pairs_filt = results_df_pairs[(results_df_pairs.oddsratio>1) & (results_df_pairs.pval_bonf<0.05)]\n",
    "    results_df_pairs_filt.to_csv(os.path.join(save_dir,  save_prefix+tissue + '_pair_filt.csv'))\n",
    "    # results_df_KRT_pairs_filt = results_df_KRT_pairs_filt[results_df_KRT_pairs_filt.num_in_2>=(results_df_KRT_pairs_filt.observed+10)]\n",
    "    print('num sig tf-tf pair in ', tissue, results_df_pairs_filt.shape)"
   ]
  },
  {
   "cell_type": "markdown",
   "metadata": {},
   "source": [
    "### testing"
   ]
  },
  {
   "cell_type": "code",
   "execution_count": 40,
   "metadata": {},
   "outputs": [],
   "source": [
    "# TF_feat_dict=tfs_feat_dict\n",
    "# tissues=['cancer','normal']\n",
    "# # get subset\n",
    "# geneset = expr_genesets['cancer']\n",
    "# data_all_sel = data_all[data_all.index.isin(geneset)]\n",
    "# tissues_label_sel = is_cancer_label[data_all.index.isin(geneset)]\n",
    "# print('num genes in geneset',len(geneset))\n",
    "# print('orig data', data_all.shape)\n",
    "# print('subsetting data,', data_all_sel.shape, tissues_label_sel.shape)\n",
    "# print(Counter(tissues_label_sel))"
   ]
  },
  {
   "cell_type": "code",
   "execution_count": 48,
   "metadata": {},
   "outputs": [],
   "source": [
    "# # set background and initial variables\n",
    "# results_df = pd.DataFrame(columns = ['tf_key', 'tissue', 'jaccard', 'intersect_over_min','intersection','union', 'num_in_gene', 'num_in_feat', 'observed', 'expected', 'oddsratio', 'pval' ])\n",
    "# counter = 0\n",
    "# count_all = data_all_sel.sum().sum() ## background\n",
    "\n",
    "# print('starting iteration')\n",
    "# print('estimated count', len(TF_feat_dict)*len(tissues))\n",
    "# for tissue in tissues:\n",
    "#     print('*****iterating tissue, ', tissue)\n",
    "#     tissue_crm = data_all_sel[tissues_label_sel==tissue]\n",
    "#     tissue_crm = tissue_crm[tissue_crm.index.isin(geneset)]\n",
    "#     count_tissue_gene = tissue_crm.sum().sum() #mat_counts.sum(axis=1)[0], sum first row\n",
    "\n",
    "#     # iterate through tfs\n",
    "#     for tf_key, feat_list in sorted(TF_feat_dict.items(),key=lambda x: x[0]):\n",
    "#         if len(feat_list)>0:\n",
    "#             tissue_crm_selfeat = tissue_crm[feat_list]\n",
    "#             count_selfeat_tissue = tissue_crm_selfeat.sum().sum() # A\n",
    "#             count_selfeat = data_all_sel[feat_list].sum().sum() #mat_counts.sum(axis=0)[0], sum down first col\n",
    "#             count_selfeat_neg = count_selfeat - count_selfeat_tissue # B: not in selected genes but in selected feature\n",
    "#             count_neg_tissue = count_tissue_gene - count_selfeat_tissue #C: not in selected feature but in selected genes\n",
    "#             count_neg_neg = count_all - count_selfeat_tissue- count_selfeat_neg - count_neg_tissue #D\n",
    "#             mat_counts = np.array([[count_selfeat_tissue,count_neg_tissue],\n",
    "#                            [count_selfeat_neg, count_neg_neg]]).reshape((2,2))\n",
    "#             pseudo = 1\n",
    "#             print(tf_key)\n",
    "#             print(mat_counts)\n",
    "#             mat_counts_pseudo = mat_counts+pseudo\n",
    "#             num_in_1 = mat_counts.sum(axis=1)[0] #count_tissue_gene\n",
    "#             num_in_2 = mat_counts.sum(axis=0)[0] #count_selfeat\n",
    "#             in_1_and_in_2 = count_selfeat_tissue # A\n",
    "#             in_1_or_in_2 = count_selfeat_tissue +count_selfeat_neg+count_neg_tissue # A+B+C\n",
    "#             in_1 = count_selfeat_tissue+count_neg_tissue # A+C\n",
    "#             in_2 = count_selfeat_tissue+count_selfeat_neg#A+B\n",
    "#             observed_num = mat_counts[0][0] #count_KRTtf_KRTgene\n",
    "#             expected_num = num_in_1*num_in_2/sum(sum(mat_counts))\n",
    "#             oddsratio_pseudo, pvalue_pseudo = stats.fisher_exact(mat_counts_pseudo,alternative='greater')\n",
    "#             jaccard = in_1_and_in_2/in_1_or_in_2\n",
    "#             intersect_over_min = in_1_and_in_2/min(in_1,in_2)\n",
    "\n",
    "#             results_df.at[counter] = {'tf_key':tf_key, 'tissue':tissue,\n",
    "#                                         'jaccard':jaccard,'intersect_over_min':intersect_over_min,\n",
    "#                                     'intersection':in_1_and_in_2, \n",
    "#                                    'union':in_1_or_in_2, \n",
    "#                                    'num_in_gene':num_in_1,'num_in_feat':num_in_2,\n",
    "#                                    'observed':observed_num, 'expected':expected_num, \n",
    "#                                    'oddsratio':oddsratio_pseudo, 'pval':pvalue_pseudo}\n",
    "#             counter+=1\n",
    "#             if (counter %1000)==0:\n",
    "#                 print(tf_key, tissue, counter)\n",
    "\n",
    "\n",
    "# results_df['pval_bonf'] = results_df.pval.apply(lambda x: min(1, x* results_df.shape[0]))\n",
    "# results_df['log_pval_bonf'] = results_df.pval_bonf.apply(lambda x: min(100,-np.log10(x+1e-100)))\n"
   ]
  },
  {
   "cell_type": "code",
   "execution_count": 91,
   "metadata": {},
   "outputs": [],
   "source": [
    "# results_df = tf_enrichment(geneset=expr_genesets['cancer'], TF_feat_dict=tfs_feat_dict, tissues=['cancer','normal'], \n",
    "# #                   data_all=data_all,tissues_label=is_cancer_label, \n",
    "#                   background='relative',verbose=True, save_path=os.path.join(save_dir, 'expr_'+'cancer' + '_single.csv'))"
   ]
  },
  {
   "cell_type": "code",
   "execution_count": 82,
   "metadata": {},
   "outputs": [],
   "source": [
    "# # filter for cell type\n",
    "# results_df_filt = results_df[(results_df.pval_bonf<0.05 )&( results_df.tissue==tissue)]\n",
    "# print(results_df.shape, results_df_filt.shape)\n",
    "# # downsample # of tf tf pairs to consider\n",
    "# tfs_feat_dict_pairs = find_tf_pairs(single_results=results_df_filt, tfs_feat_dict=tfs_feat_dict, data_all=data_all)\n",
    "\n",
    "# results_df_pairs = tf_enrichment(geneset=expr_genesets['cancer'], TF_feat_dict=tfs_feat_dict_pairs, tissues=['cancer'], \n",
    "#                   data_all=data_all,tissues_label=is_cancer_label, \n",
    "#                   background='relative',verbose=True, save_path=os.path.join(save_dir,  'expr_'+tissue + '_pair.csv'))\n"
   ]
  },
  {
   "cell_type": "code",
   "execution_count": 92,
   "metadata": {},
   "outputs": [],
   "source": [
    "# # pairs testing\n",
    "# TF_feat_dict=tfs_feat_dict_pairs\n",
    "# tissues=['cancer','normal']\n",
    "# # get subset\n",
    "# geneset = expr_genesets['cancer']\n",
    "# data_all_sel = data_all[data_all.index.isin(geneset)]\n",
    "# tissues_label_sel = is_cancer_label[data_all.index.isin(geneset)]\n",
    "# print('num genes in geneset',len(geneset))\n",
    "# print('orig data', data_all.shape)\n",
    "# print('subsetting data,', data_all_sel.shape, tissues_label_sel.shape)\n",
    "# # set background and initial variables\n",
    "# results_df = pd.DataFrame(columns = ['tf_key', 'tissue', 'jaccard', 'intersect_over_min','intersection','union', 'num_in_gene', 'num_in_feat', 'observed', 'expected', 'oddsratio', 'pval' ])\n",
    "# counter = 0\n",
    "# count_all = data_all_sel.sum().sum() ## background\n",
    "\n",
    "# print('starting iteration')\n",
    "# print('estimated count', len(TF_feat_dict)*len(tissues))\n",
    "# for tissue in tissues:\n",
    "#     print('*****iterating tissue, ', tissue)\n",
    "#     tissue_crm = data_all_sel[tissues_label_sel==tissue]\n",
    "#     tissue_crm = tissue_crm[tissue_crm.index.isin(geneset)]\n",
    "#     count_tissue_gene = tissue_crm.sum().sum() #mat_counts.sum(axis=1)[0], sum first row\n",
    "\n",
    "#     # iterate through tfs\n",
    "#     for tf_key, feat_list in sorted(TF_feat_dict.items(),key=lambda x: x[0]):\n",
    "#         if len(feat_list)>0:\n",
    "#             tissue_crm_selfeat = tissue_crm[feat_list]\n",
    "#             count_selfeat_tissue = tissue_crm_selfeat.sum().sum() # A\n",
    "#             count_selfeat = data_all_sel[feat_list].sum().sum() #mat_counts.sum(axis=0)[0], sum down first col\n",
    "#             count_selfeat_neg = count_selfeat - count_selfeat_tissue # B: not in selected genes but in selected feature\n",
    "#             count_neg_tissue = count_tissue_gene - count_selfeat_tissue #C: not in selected feature but in selected genes\n",
    "#             count_neg_neg = count_all - count_selfeat_tissue- count_selfeat_neg - count_neg_tissue #D\n",
    "#             mat_counts = np.array([[count_selfeat_tissue,count_neg_tissue],\n",
    "#                            [count_selfeat_neg, count_neg_neg]]).reshape((2,2))\n",
    "#             pseudo = 1\n",
    "#             print(tf_key)\n",
    "#             print(mat_counts)\n",
    "#             mat_counts_pseudo = mat_counts+pseudo\n",
    "#             num_in_1 = mat_counts.sum(axis=1)[0] #count_tissue_gene\n",
    "#             num_in_2 = mat_counts.sum(axis=0)[0] #count_selfeat\n",
    "#             in_1_and_in_2 = count_selfeat_tissue # A\n",
    "#             in_1_or_in_2 = count_selfeat_tissue +count_selfeat_neg+count_neg_tissue # A+B+C\n",
    "#             in_1 = count_selfeat_tissue+count_neg_tissue # A+C\n",
    "#             in_2 = count_selfeat_tissue+count_selfeat_neg#A+B\n",
    "#             observed_num = mat_counts[0][0] #count_KRTtf_KRTgene\n",
    "#             expected_num = num_in_1*num_in_2/sum(sum(mat_counts))\n",
    "#             oddsratio_pseudo, pvalue_pseudo = stats.fisher_exact(mat_counts_pseudo,alternative='greater')\n",
    "#             jaccard = in_1_and_in_2/in_1_or_in_2\n",
    "#             intersect_over_min = in_1_and_in_2/min(in_1,in_2)\n",
    "            \n",
    "#             results_df.at[counter] = {'tf_key':tf_key, 'tissue':tissue,\n",
    "#                                         'jaccard':jaccard,'intersect_over_min':intersect_over_min,\n",
    "#                                     'intersection':in_1_and_in_2, \n",
    "#                                    'union':in_1_or_in_2, \n",
    "#                                    'num_in_gene':num_in_1,'num_in_feat':num_in_2,\n",
    "#                                    'observed':observed_num, 'expected':expected_num, \n",
    "#                                    'oddsratio':oddsratio_pseudo, 'pval':pvalue_pseudo}\n",
    "# #             print(results_df.loc[counter])\n",
    "#             counter+=1\n",
    "#             if (counter %1000)==0:\n",
    "#                 print(tf_key, tissue, counter)\n",
    "\n",
    "\n",
    "# results_df['pval_bonf'] = results_df.pval.apply(lambda x: min(1, x* results_df.shape[0]))\n",
    "# results_df['log_pval_bonf'] = results_df.pval_bonf.apply(lambda x: min(100,-np.log10(x+1e-100)))\n"
   ]
  },
  {
   "cell_type": "code",
   "execution_count": 93,
   "metadata": {},
   "outputs": [],
   "source": [
    "# results_df"
   ]
  },
  {
   "cell_type": "markdown",
   "metadata": {},
   "source": [
    "### running"
   ]
  },
  {
   "cell_type": "code",
   "execution_count": 177,
   "metadata": {},
   "outputs": [],
   "source": [
    "# %%time\n",
    "# # get unique tissue geneset enrichments\n",
    "# for tissue in normal_tissues:\n",
    "#     print('============ Running unique', tissue)\n",
    "#     run_pair_enrichment(tissue, save_prefix='unique_', geneset_dict = unique_genesets)"
   ]
  },
  {
   "cell_type": "code",
   "execution_count": 178,
   "metadata": {},
   "outputs": [],
   "source": [
    "# %%time\n",
    "# # get expressed tissue geneset enrichments\n",
    "# for tissue in normal_tissues:\n",
    "#     print('============ Running expressed', tissue)\n",
    "#     run_pair_enrichment(tissue, save_prefix='expr_', geneset_dict = expr_genesets)"
   ]
  },
  {
   "cell_type": "code",
   "execution_count": 86,
   "metadata": {},
   "outputs": [
    {
     "name": "stdout",
     "output_type": "stream",
     "text": [
      "============ Running expressed normal\n",
      "num genes in geneset 4669\n",
      "subsetting data, (17301, 1057) (17301,)\n",
      "starting iteration\n",
      "estimated count 1058\n",
      "*****iterating tissue,  cancer\n"
     ]
    },
    {
     "name": "stderr",
     "output_type": "stream",
     "text": [
      "/Users/mguo123/opt/anaconda3/lib/python3.7/site-packages/ipykernel_launcher.py:56: RuntimeWarning: invalid value encountered in double_scalars\n"
     ]
    },
    {
     "name": "stdout",
     "output_type": "stream",
     "text": [
      "*****iterating tissue,  normal\n",
      "ZNF143 normal 1000\n",
      "saved file ../data/processed/fig4_modelling/tf_tf_pairs_scc/expr_normal_single.csv\n",
      "num single unique TFs 122\n",
      "num pairs of TFs 7381\n",
      "num genes in geneset 4669\n",
      "subsetting data, (17301, 1057) (17301,)\n",
      "starting iteration\n",
      "estimated count 7381\n",
      "*****iterating tissue,  normal\n",
      "BCL11A::NR3C1 normal 1000\n",
      "DLX1::ZBTB7B normal 2000\n",
      "FOSL2::ZNF449 normal 3000\n",
      "HOXA10::NFATC1 normal 4000\n",
      "JUNB::TBX3 normal 5000\n",
      "NR3C1::ZNF680 normal 6000\n",
      "ZBTB18::ZNF680 normal 7000\n",
      "saved file ../data/processed/fig4_modelling/tf_tf_pairs_scc/expr_normal_pair.csv\n",
      "num sig tf-tf pair in  normal (7381, 14)\n",
      "============ Running expressed cancer\n",
      "num genes in geneset 3916\n",
      "subsetting data, (14682, 1057) (14682,)\n",
      "starting iteration\n",
      "estimated count 1058\n",
      "*****iterating tissue,  cancer\n",
      "*****iterating tissue,  normal\n",
      "ZNF143 normal 1000\n",
      "saved file ../data/processed/fig4_modelling/tf_tf_pairs_scc/expr_cancer_single.csv\n",
      "num single unique TFs 176\n",
      "num pairs of TFs 15400\n",
      "num genes in geneset 3916\n",
      "subsetting data, (14682, 1057) (14682,)\n",
      "starting iteration\n",
      "estimated count 15400\n",
      "*****iterating tissue,  cancer\n",
      "CEBPZ::TFEB cancer 1000\n",
      "E2F7::THAP1 cancer 2000\n",
      "ELF2::ELK3 cancer 3000\n",
      "EN2::PKNOX1 cancer 4000\n",
      "FOXD2::MXI1 cancer 5000\n",
      "GATA2::NR4A2 cancer 6000\n",
      "HOXB6::ZNF136 cancer 7000\n",
      "IRF3::ZFX cancer 8000\n",
      "MAZ::PPARD cancer 9000\n",
      "MXI1::TCF3 cancer 10000\n",
      "NKX2-8::VAX1 cancer 11000\n",
      "NRF1::PAX6 cancer 12000\n",
      "RARA::SNAI2 cancer 13000\n",
      "SOX2::ZBTB4 cancer 14000\n",
      "VEZF1::ZBTB4 cancer 15000\n",
      "saved file ../data/processed/fig4_modelling/tf_tf_pairs_scc/expr_cancer_pair.csv\n",
      "num sig tf-tf pair in  cancer (15400, 14)\n",
      "CPU times: user 3min 12s, sys: 4.25 s, total: 3min 17s\n",
      "Wall time: 3min 17s\n"
     ]
    }
   ],
   "source": [
    "%%time\n",
    "# get expressed tissue geneset enrichments\n",
    "for disease_state in ['normal', 'cancer']:\n",
    "    print('============ Running expressed', disease_state)\n",
    "    run_pair_enrichment(disease_state, save_prefix='expr_', geneset_dict = expr_genesets)"
   ]
  },
  {
   "cell_type": "code",
   "execution_count": 87,
   "metadata": {},
   "outputs": [
    {
     "name": "stdout",
     "output_type": "stream",
     "text": [
      "============ Running expressed normal\n",
      "num genes in geneset 221\n",
      "subsetting data, (660, 1057) (660,)\n",
      "starting iteration\n",
      "estimated count 1058\n",
      "*****iterating tissue,  cancer\n"
     ]
    },
    {
     "name": "stderr",
     "output_type": "stream",
     "text": [
      "/Users/mguo123/opt/anaconda3/lib/python3.7/site-packages/ipykernel_launcher.py:56: RuntimeWarning: invalid value encountered in double_scalars\n"
     ]
    },
    {
     "name": "stdout",
     "output_type": "stream",
     "text": [
      "*****iterating tissue,  normal\n",
      "ZNF143 normal 1000\n",
      "saved file ../data/processed/fig4_modelling/tf_tf_pairs_scc/diff_normal_single.csv\n",
      "num single unique TFs 59\n",
      "num pairs of TFs 1711\n",
      "num genes in geneset 221\n",
      "subsetting data, (660, 1057) (660,)\n",
      "starting iteration\n",
      "estimated count 1711\n",
      "*****iterating tissue,  normal\n",
      "KLF8::ZNF449 normal 1000\n",
      "saved file ../data/processed/fig4_modelling/tf_tf_pairs_scc/diff_normal_pair.csv\n",
      "num sig tf-tf pair in  normal (1711, 14)\n",
      "============ Running expressed cancer\n",
      "num genes in geneset 48\n",
      "subsetting data, (173, 1057) (173,)\n",
      "starting iteration\n",
      "estimated count 1058\n",
      "*****iterating tissue,  cancer\n",
      "*****iterating tissue,  normal\n",
      "ZNF143 normal 1000\n",
      "saved file ../data/processed/fig4_modelling/tf_tf_pairs_scc/diff_cancer_single.csv\n",
      "num single unique TFs 20\n",
      "num pairs of TFs 190\n",
      "num genes in geneset 48\n",
      "subsetting data, (173, 1057) (173,)\n",
      "starting iteration\n",
      "estimated count 190\n",
      "*****iterating tissue,  cancer\n",
      "saved file ../data/processed/fig4_modelling/tf_tf_pairs_scc/diff_cancer_pair.csv\n",
      "num sig tf-tf pair in  cancer (190, 14)\n",
      "CPU times: user 11.4 s, sys: 86.5 ms, total: 11.5 s\n",
      "Wall time: 11.5 s\n"
     ]
    }
   ],
   "source": [
    "%%time\n",
    "# get expressed tissue geneset enrichments\n",
    "for disease_state in ['normal', 'cancer']:\n",
    "    print('============ Running expressed', disease_state)\n",
    "    run_pair_enrichment(disease_state, save_prefix='diff_', geneset_dict = diff_genesets)"
   ]
  },
  {
   "cell_type": "code",
   "execution_count": 94,
   "metadata": {},
   "outputs": [],
   "source": [
    "# %%time\n",
    "# # get group tissue geneset enrichments\n",
    "# for tissue in normal_tissues:\n",
    "#     print('============ Running group', tissue)\n",
    "#     run_pair_enrichment(tissue, save_prefix='group_', geneset_dict = group_genesets)"
   ]
  },
  {
   "cell_type": "markdown",
   "metadata": {},
   "source": [
    "# 4. Curating list of tf-tf pairs"
   ]
  },
  {
   "cell_type": "markdown",
   "metadata": {},
   "source": [
    "# 5. filter curating list to find combinations that are close together"
   ]
  },
  {
   "cell_type": "code",
   "execution_count": 95,
   "metadata": {},
   "outputs": [
    {
     "name": "stdout",
     "output_type": "stream",
     "text": [
      "diff_cancer_pair_filt.csv (190, 14)\n",
      "diff_normal_pair_filt.csv (1711, 14)\n",
      "expr_cancer_pair_filt.csv (15400, 14)\n",
      "expr_normal_pair_filt.csv (7381, 14)\n"
     ]
    }
   ],
   "source": [
    "for filepath in sorted(glob.glob(os.path.join(save_dir, '*_filt.csv'))):\n",
    "    df = pd.read_csv(filepath, index_col=0)\n",
    "    print(os.path.basename(filepath), df.shape)"
   ]
  },
  {
   "cell_type": "code",
   "execution_count": 96,
   "metadata": {},
   "outputs": [
    {
     "name": "stdout",
     "output_type": "stream",
     "text": [
      "expr_cancer_pair_filt.csv (15400, 14)\n",
      "expr_normal_pair_filt.csv (7381, 14)\n"
     ]
    }
   ],
   "source": [
    "# # get tissue specific tf-tf and global tf-tf pairs useful for expr\n",
    "# expr_all_tissue_df = pd.DataFrame()\n",
    "# for filepath in sorted(glob.glob(os.path.join(save_dir, 'expr*_filt.csv'))):\n",
    "#     df = pd.read_csv(filepath, index_col=0)\n",
    "#     print(os.path.basename(filepath), df.shape)\n",
    "#     expr_all_tissue_df = pd.concat([expr_all_tissue_df, df], axis=0,sort=False)\n"
   ]
  },
  {
   "cell_type": "code",
   "execution_count": 99,
   "metadata": {},
   "outputs": [],
   "source": [
    "# expr_all_tissue_df.expected.describe()"
   ]
  },
  {
   "cell_type": "code",
   "execution_count": 100,
   "metadata": {},
   "outputs": [
    {
     "name": "stdout",
     "output_type": "stream",
     "text": [
      "(22781, 14)\n"
     ]
    },
    {
     "data": {
      "text/html": [
       "<div>\n",
       "<style scoped>\n",
       "    .dataframe tbody tr th:only-of-type {\n",
       "        vertical-align: middle;\n",
       "    }\n",
       "\n",
       "    .dataframe tbody tr th {\n",
       "        vertical-align: top;\n",
       "    }\n",
       "\n",
       "    .dataframe thead th {\n",
       "        text-align: right;\n",
       "    }\n",
       "</style>\n",
       "<table border=\"1\" class=\"dataframe\">\n",
       "  <thead>\n",
       "    <tr style=\"text-align: right;\">\n",
       "      <th></th>\n",
       "      <th>tf_key</th>\n",
       "      <th>tissue</th>\n",
       "      <th>jaccard</th>\n",
       "      <th>intersect_over_min</th>\n",
       "      <th>intersection</th>\n",
       "      <th>union</th>\n",
       "      <th>num_in_gene</th>\n",
       "      <th>num_in_feat</th>\n",
       "      <th>observed</th>\n",
       "      <th>expected</th>\n",
       "      <th>oddsratio</th>\n",
       "      <th>pval</th>\n",
       "      <th>pval_bonf</th>\n",
       "      <th>log_pval_bonf</th>\n",
       "    </tr>\n",
       "  </thead>\n",
       "  <tbody>\n",
       "    <tr>\n",
       "      <td>0</td>\n",
       "      <td>ALX4::ARNT</td>\n",
       "      <td>cancer</td>\n",
       "      <td>0.001243</td>\n",
       "      <td>0.933580</td>\n",
       "      <td>8321.0</td>\n",
       "      <td>6693667.0</td>\n",
       "      <td>6693075.0</td>\n",
       "      <td>8913.0</td>\n",
       "      <td>8321.0</td>\n",
       "      <td>8132.117685</td>\n",
       "      <td>1.348018</td>\n",
       "      <td>1.343369e-13</td>\n",
       "      <td>2.068788e-09</td>\n",
       "      <td>8.684284</td>\n",
       "    </tr>\n",
       "    <tr>\n",
       "      <td>1</td>\n",
       "      <td>ALX4::ARNTL</td>\n",
       "      <td>cancer</td>\n",
       "      <td>0.000920</td>\n",
       "      <td>0.941149</td>\n",
       "      <td>6157.0</td>\n",
       "      <td>6693460.0</td>\n",
       "      <td>6693075.0</td>\n",
       "      <td>6542.0</td>\n",
       "      <td>6157.0</td>\n",
       "      <td>5968.844821</td>\n",
       "      <td>1.532408</td>\n",
       "      <td>2.913817e-18</td>\n",
       "      <td>4.487279e-14</td>\n",
       "      <td>13.348017</td>\n",
       "    </tr>\n",
       "    <tr>\n",
       "      <td>2</td>\n",
       "      <td>ALX4::BATF3</td>\n",
       "      <td>cancer</td>\n",
       "      <td>0.000307</td>\n",
       "      <td>1.000000</td>\n",
       "      <td>2052.0</td>\n",
       "      <td>6693075.0</td>\n",
       "      <td>6693075.0</td>\n",
       "      <td>2052.0</td>\n",
       "      <td>2052.0</td>\n",
       "      <td>1872.220968</td>\n",
       "      <td>197.198979</td>\n",
       "      <td>3.121098e-80</td>\n",
       "      <td>4.806491e-76</td>\n",
       "      <td>75.318172</td>\n",
       "    </tr>\n",
       "    <tr>\n",
       "      <td>3</td>\n",
       "      <td>ALX4::CBFB</td>\n",
       "      <td>cancer</td>\n",
       "      <td>0.003064</td>\n",
       "      <td>0.925374</td>\n",
       "      <td>20510.0</td>\n",
       "      <td>6694729.0</td>\n",
       "      <td>6693075.0</td>\n",
       "      <td>22164.0</td>\n",
       "      <td>20510.0</td>\n",
       "      <td>20222.176188</td>\n",
       "      <td>1.190653</td>\n",
       "      <td>1.531203e-12</td>\n",
       "      <td>2.358052e-08</td>\n",
       "      <td>7.627447</td>\n",
       "    </tr>\n",
       "    <tr>\n",
       "      <td>4</td>\n",
       "      <td>ALX4::CEBPZ</td>\n",
       "      <td>cancer</td>\n",
       "      <td>0.001969</td>\n",
       "      <td>0.928763</td>\n",
       "      <td>13181.0</td>\n",
       "      <td>6694086.0</td>\n",
       "      <td>6693075.0</td>\n",
       "      <td>14192.0</td>\n",
       "      <td>13181.0</td>\n",
       "      <td>12948.615974</td>\n",
       "      <td>1.251284</td>\n",
       "      <td>7.686594e-13</td>\n",
       "      <td>1.183735e-08</td>\n",
       "      <td>7.926745</td>\n",
       "    </tr>\n",
       "  </tbody>\n",
       "</table>\n",
       "</div>"
      ],
      "text/plain": [
       "        tf_key  tissue   jaccard  intersect_over_min  intersection      union  \\\n",
       "0   ALX4::ARNT  cancer  0.001243            0.933580        8321.0  6693667.0   \n",
       "1  ALX4::ARNTL  cancer  0.000920            0.941149        6157.0  6693460.0   \n",
       "2  ALX4::BATF3  cancer  0.000307            1.000000        2052.0  6693075.0   \n",
       "3   ALX4::CBFB  cancer  0.003064            0.925374       20510.0  6694729.0   \n",
       "4  ALX4::CEBPZ  cancer  0.001969            0.928763       13181.0  6694086.0   \n",
       "\n",
       "   num_in_gene  num_in_feat  observed      expected   oddsratio          pval  \\\n",
       "0    6693075.0       8913.0    8321.0   8132.117685    1.348018  1.343369e-13   \n",
       "1    6693075.0       6542.0    6157.0   5968.844821    1.532408  2.913817e-18   \n",
       "2    6693075.0       2052.0    2052.0   1872.220968  197.198979  3.121098e-80   \n",
       "3    6693075.0      22164.0   20510.0  20222.176188    1.190653  1.531203e-12   \n",
       "4    6693075.0      14192.0   13181.0  12948.615974    1.251284  7.686594e-13   \n",
       "\n",
       "      pval_bonf  log_pval_bonf  \n",
       "0  2.068788e-09       8.684284  \n",
       "1  4.487279e-14      13.348017  \n",
       "2  4.806491e-76      75.318172  \n",
       "3  2.358052e-08       7.627447  \n",
       "4  1.183735e-08       7.926745  "
      ]
     },
     "execution_count": 100,
     "metadata": {},
     "output_type": "execute_result"
    }
   ],
   "source": [
    "# print(expr_all_tissue_df.shape)\n",
    "# expr_all_tissue_df[:5]"
   ]
  },
  {
   "cell_type": "code",
   "execution_count": 101,
   "metadata": {},
   "outputs": [
    {
     "data": {
      "text/plain": [
       "22781"
      ]
     },
     "execution_count": 101,
     "metadata": {},
     "output_type": "execute_result"
    }
   ],
   "source": [
    "# # number of vocabularies for cancer\n",
    "# tf_tf_pair_counter = expr_all_tissue_df.tf_key.value_counts()\n",
    "# len(set(tf_tf_pair_counter.index))"
   ]
  },
  {
   "cell_type": "code",
   "execution_count": 102,
   "metadata": {},
   "outputs": [
    {
     "name": "stdout",
     "output_type": "stream",
     "text": [
      "cancer 190 190\n",
      "normal 1711 1278\n"
     ]
    }
   ],
   "source": [
    "# create filtered expression datasets (vocabs that are responsible for expression that are tissue specific\n",
    "for filepath in sorted(glob.glob(os.path.join(save_dir, 'diff*_filt.csv'))):\n",
    "    tissue = os.path.basename(filepath).split('_')[1]\n",
    "    df = pd.read_csv(filepath, index_col=0)\n",
    "    df_filt = df[df.tf_key.isin(tf_tf_pair_counter[tf_tf_pair_counter==1].index)]\n",
    "    print(tissue, df.shape[0], df_filt.shape[0])\n",
    "    df_filt.to_csv(os.path.join(save_dir, 'diff_'+tissue+'_pair_filt_unique.csv'))"
   ]
  },
  {
   "cell_type": "code",
   "execution_count": 103,
   "metadata": {},
   "outputs": [
    {
     "name": "stdout",
     "output_type": "stream",
     "text": [
      "cancer 15400 15400\n",
      "normal 7381 7381\n"
     ]
    }
   ],
   "source": [
    "# create filtered expression datasets (vocabs that are responsible for expression that are tissue specific\n",
    "for filepath in sorted(glob.glob(os.path.join(save_dir, 'expr*_filt.csv'))):\n",
    "    tissue = os.path.basename(filepath).split('_')[1]\n",
    "    df = pd.read_csv(filepath, index_col=0)\n",
    "    df_filt = df[df.tf_key.isin(tf_tf_pair_counter[tf_tf_pair_counter==1].index)]\n",
    "    print(tissue, df.shape[0], df_filt.shape[0])\n",
    "    df_filt.to_csv(os.path.join(save_dir, 'expr_'+tissue+'_pair_filt_unique.csv'))"
   ]
  },
  {
   "cell_type": "code",
   "execution_count": 116,
   "metadata": {},
   "outputs": [],
   "source": [
    "# def check_tf_tf_loop_occur(tf_tf_pair, tissue, genesets_dict, data_all=data_all, tissues_label=tissues_label):  #suffixes='loop', 'pro_loop'\n",
    "#     tf_1, tf_2 = tf_tf_pair.split('::')\n",
    "    \n",
    "#     # get features to look at together, list of lists\n",
    "#     feat_list_type = {\n",
    "#         'pro_pro':[tf_1 + '_pro', tf_2+'_pro'],\n",
    "#         'loop_loop':[tf_1 + '_loop', tf_2+'_loop'],\n",
    "#         'pro_loop':[tf_1 + '_pro', tf_2+'_loop'],\n",
    "#         'loop_pro':[tf_1 + '_loop', tf_2+'_pro']}\n",
    "  \n",
    "#     data_all_sel = data_all[data_all.index.isin(genesets_dict[tissue]) & (tissues_label==tissue)]\n",
    "#     feat_type_df = {}\n",
    "#     for type_feat, feat_list in feat_list_type.items():\n",
    "#         try:\n",
    "#             check_series = pd.DataFrame(data_all_sel[feat_list]>0).all(axis=1)\n",
    "#             feat_type_df[type_feat+\"_count\"] = check_series.value_counts()[True]  \n",
    "#             feat_type_df[type_feat+\"_genes\"] = '|'.join(check_series.index[check_series])\n",
    "            \n",
    "#         except:\n",
    "#             feat_type_df[type_feat+\"_count\"] = 0\n",
    "#             feat_type_df[type_feat+\"_genes\"] = ''\n",
    "            \n",
    "#     return feat_type_df\n",
    "\n",
    "def check_tf_tf_loop_occur_cancer(tf_tf_pair, tissue, genesets_dict, data_all=data_all, cancer_label = is_cancer_label, tissues_label=tissues_label):  #suffixes='loop', 'pro_loop'\n",
    "    tf_1, tf_2 = tf_tf_pair.split('::')\n",
    "    \n",
    "    # get features to look at together, list of lists\n",
    "    feat_list_type = {\n",
    "        'pro_pro':[tf_1 + '_pro', tf_2+'_pro'],\n",
    "        'loop_loop':[tf_1 + '_loop', tf_2+'_loop'],\n",
    "        'pro_loop':[tf_1 + '_pro', tf_2+'_loop'],\n",
    "        'loop_pro':[tf_1 + '_loop', tf_2+'_pro']}\n",
    "  \n",
    "    data_all_sel = data_all[data_all.index.isin(genesets_dict['cancer']) & (tissues_label==tissue)]\n",
    "    feat_type_df = {}\n",
    "    for type_feat, feat_list in feat_list_type.items():\n",
    "        try:\n",
    "            check_series = pd.DataFrame(data_all_sel[feat_list]>0).all(axis=1)\n",
    "            feat_type_df[type_feat+\"_count\"] = check_series.value_counts()[True]  \n",
    "            feat_type_df[type_feat+\"_genes\"] = '|'.join(check_series.index[check_series])\n",
    "            \n",
    "        except:\n",
    "            feat_type_df[type_feat+\"_count\"] = 0\n",
    "            feat_type_df[type_feat+\"_genes\"] = ''\n",
    "            \n",
    "    return feat_type_df"
   ]
  },
  {
   "cell_type": "markdown",
   "metadata": {},
   "source": [
    "# testing "
   ]
  },
  {
   "cell_type": "code",
   "execution_count": 122,
   "metadata": {},
   "outputs": [],
   "source": [
    "df = pd.read_csv(os.path.join(save_dir, 'diff_cancer_pair_filt.csv'), index_col=0)\n",
    "tf_tf_pair_feat = {}\n",
    "for tf_tf_pair in df.tf_key:\n",
    "    tf_tf_pair_feat[tf_tf_pair] = check_tf_tf_loop_occur_cancer(tf_tf_pair, tissue='SCC13-CTRLi',genesets_dict=diff_genesets)\n",
    "df_tf_key_type = pd.DataFrame.from_dict(tf_tf_pair_feat,orient='index')\n"
   ]
  },
  {
   "cell_type": "code",
   "execution_count": 121,
   "metadata": {},
   "outputs": [
    {
     "data": {
      "text/plain": [
       "Counter({'A431-CTRLi': 12448,\n",
       "         'CAL27-CTRLi': 13213,\n",
       "         'GDSD0': 9430,\n",
       "         'GDSD3': 9587,\n",
       "         'SCC13-CTRLi': 13547})"
      ]
     },
     "execution_count": 121,
     "metadata": {},
     "output_type": "execute_result"
    }
   ],
   "source": [
    "Counter(tissues_label)"
   ]
  },
  {
   "cell_type": "code",
   "execution_count": 123,
   "metadata": {},
   "outputs": [
    {
     "data": {
      "text/plain": [
       "count    190.000000\n",
       "mean       7.615789\n",
       "std        8.309793\n",
       "min        0.000000\n",
       "25%        0.000000\n",
       "50%        6.000000\n",
       "75%       12.000000\n",
       "max       33.000000\n",
       "Name: loop_loop_count, dtype: float64"
      ]
     },
     "execution_count": 123,
     "metadata": {},
     "output_type": "execute_result"
    }
   ],
   "source": [
    "df_tf_key_type.loop_loop_count.describe()"
   ]
  },
  {
   "cell_type": "code",
   "execution_count": 124,
   "metadata": {},
   "outputs": [
    {
     "data": {
      "text/plain": [
       "pro_pro_count                                                      2\n",
       "pro_pro_genes                                        DYNC1LI2|MAPK12\n",
       "loop_loop_count                                                   33\n",
       "loop_loop_genes    AP5S1|ARGLU1|BAX|CASP2|CCDC142|CHMP3|CTCF|CTDS...\n",
       "pro_loop_count                                                     2\n",
       "pro_loop_genes                                       DYNC1LI2|MAPK12\n",
       "loop_pro_count                                                     2\n",
       "loop_pro_genes                                       DYNC1LI2|MAPK12\n",
       "Name: SP2::SP4, dtype: object"
      ]
     },
     "execution_count": 124,
     "metadata": {},
     "output_type": "execute_result"
    }
   ],
   "source": [
    "row = df_tf_key_type[df_tf_key_type.pro_pro_count>0].iloc[0]\n",
    "row"
   ]
  },
  {
   "cell_type": "code",
   "execution_count": 125,
   "metadata": {},
   "outputs": [
    {
     "data": {
      "text/plain": [
       "['SP2::SP4',\n",
       " 'SP2::WT1',\n",
       " 'SP2::ZNF341',\n",
       " 'SP4::WT1',\n",
       " 'SP4::ZNF341',\n",
       " 'WT1::ZNF324',\n",
       " 'WT1::ZNF341']"
      ]
     },
     "execution_count": 125,
     "metadata": {},
     "output_type": "execute_result"
    }
   ],
   "source": [
    "list(df_tf_key_type[df_tf_key_type.pro_pro_count>0].index)"
   ]
  },
  {
   "cell_type": "code",
   "execution_count": 138,
   "metadata": {},
   "outputs": [
    {
     "data": {
      "text/plain": [
       "['../data/interim/annon/anchor_motif_scan/Esophageal_annon.bed',\n",
       " '../data/interim/annon/anchor_motif_scan/Thyroid_annon.bed',\n",
       " '../data/interim/annon/anchor_motif_scan/A431-CTRLi_annon.bed',\n",
       " '../data/interim/annon/anchor_motif_scan/GDSD3_annon.bed',\n",
       " '../data/interim/annon/anchor_motif_scan/Renal_annon.bed',\n",
       " '../data/interim/annon/anchor_motif_scan/GM12878_annon.bed',\n",
       " '../data/interim/annon/anchor_motif_scan/Prostate_annon.bed',\n",
       " '../data/interim/annon/anchor_motif_scan/HMEC_annon.bed',\n",
       " '../data/interim/annon/anchor_motif_scan/Ovarian_annon.bed',\n",
       " '../data/interim/annon/anchor_motif_scan/Pancreas_annon.bed',\n",
       " '../data/interim/annon/anchor_motif_scan/Uterine_annon.bed',\n",
       " '../data/interim/annon/anchor_motif_scan/Melanocytes_annon.bed',\n",
       " '../data/interim/annon/anchor_motif_scan/Bladder_annon.bed',\n",
       " '../data/interim/annon/anchor_motif_scan/Astrocytes_annon.bed',\n",
       " '../data/interim/annon/anchor_motif_scan/SCC13-CTRLi_annon.bed',\n",
       " '../data/interim/annon/anchor_motif_scan/CAL27-CTRLi_annon.bed',\n",
       " '../data/interim/annon/anchor_motif_scan/GDSD6_annon.bed',\n",
       " '../data/interim/annon/anchor_motif_scan/Colon_annon.bed',\n",
       " '../data/interim/annon/anchor_motif_scan/Airway_annon.bed',\n",
       " '../data/interim/annon/anchor_motif_scan/GDSD0_annon.bed']"
      ]
     },
     "execution_count": 138,
     "metadata": {},
     "output_type": "execute_result"
    }
   ],
   "source": [
    "glob.glob('../data/interim/annon/anchor_motif_scan/*bed')"
   ]
  },
  {
   "cell_type": "code",
   "execution_count": 137,
   "metadata": {},
   "outputs": [
    {
     "data": {
      "text/plain": [
       "['../data/interim/annon/promoter_motif_scan/promoter_Melanocytes_annon.bed',\n",
       " '../data/interim/annon/promoter_motif_scan/promoter_Astrocytes_annon.bed',\n",
       " '../data/interim/annon/promoter_motif_scan/promoter_WM2664-SCR-DMSO_annon.bed',\n",
       " '../data/interim/annon/promoter_motif_scan/promoter_GM12878_annon.bed',\n",
       " '../data/interim/annon/promoter_motif_scan/promoter_CAL27-CTRLi_annon.bed',\n",
       " '../data/interim/annon/promoter_motif_scan/promoter_Thyroid_annon.bed',\n",
       " '../data/interim/annon/promoter_motif_scan/promoter_HMEC_annon.bed',\n",
       " '../data/interim/annon/promoter_motif_scan/promoter_SCC13-CTRLi_annon.bed',\n",
       " '../data/interim/annon/promoter_motif_scan/promoter_Renal_annon.bed',\n",
       " '../data/interim/annon/promoter_motif_scan/promoter_Prostate_annon.bed',\n",
       " '../data/interim/annon/promoter_motif_scan/promoter_GDSD3_annon.bed',\n",
       " '../data/interim/annon/promoter_motif_scan/promoter_Pancreas_annon.bed',\n",
       " '../data/interim/annon/promoter_motif_scan/promoter_Colon_annon.bed',\n",
       " '../data/interim/annon/promoter_motif_scan/promoter_GDSD0_annon.bed',\n",
       " '../data/interim/annon/promoter_motif_scan/promoter_Esophageal_annon.bed',\n",
       " '../data/interim/annon/promoter_motif_scan/promoter_GDSD6_annon.bed',\n",
       " '../data/interim/annon/promoter_motif_scan/promoter_A431-CTRLi_annon.bed',\n",
       " '../data/interim/annon/promoter_motif_scan/promoter_Airway_annon.bed',\n",
       " '../data/interim/annon/promoter_motif_scan/promoter_COLO-SCR-DMSO_annon.bed',\n",
       " '../data/interim/annon/promoter_motif_scan/promoter_Bladder_annon.bed',\n",
       " '../data/interim/annon/promoter_motif_scan/promoter_Ovarian_annon.bed',\n",
       " '../data/interim/annon/promoter_motif_scan/promoter_Uterine_annon.bed']"
      ]
     },
     "execution_count": 137,
     "metadata": {},
     "output_type": "execute_result"
    }
   ],
   "source": [
    "glob.glob('../data/interim/annon/promoter_motif_scan/*bed')"
   ]
  },
  {
   "cell_type": "code",
   "execution_count": 144,
   "metadata": {},
   "outputs": [
    {
     "name": "stdout",
     "output_type": "stream",
     "text": [
      "CPU times: user 3.98 s, sys: 140 ms, total: 4.13 s\n",
      "Wall time: 2.71 s\n"
     ]
    }
   ],
   "source": [
    "%%time\n",
    "# data_all_sel = data_all[data_all.index.isin(unique_genesets['Prostate']) & (tissues_label=='Prostate')]\n",
    "# vocab_tissue_df = pd.DataFrame()\n",
    "# foot_df = pd.read_csv(os.path.join('../data/interim/annon/anchor_motif_scan/','SCC13-CTRLi_annon.bed'),sep='\\t',header=None)\n",
    "\n",
    "foot_df = pd.read_csv(os.path.join('../data/interim/annon/promoter_motif_scan/','promoter_SCC13-CTRLi_annon.bed'),sep='\\t',header=None)\n",
    "foot_df.columns = ['chr','start','stop','TSS','chr_m','start_m','stop_m','id_trim','score','strand']"
   ]
  },
  {
   "cell_type": "code",
   "execution_count": 141,
   "metadata": {},
   "outputs": [
    {
     "data": {
      "text/html": [
       "<div>\n",
       "<style scoped>\n",
       "    .dataframe tbody tr th:only-of-type {\n",
       "        vertical-align: middle;\n",
       "    }\n",
       "\n",
       "    .dataframe tbody tr th {\n",
       "        vertical-align: top;\n",
       "    }\n",
       "\n",
       "    .dataframe thead th {\n",
       "        text-align: right;\n",
       "    }\n",
       "</style>\n",
       "<table border=\"1\" class=\"dataframe\">\n",
       "  <thead>\n",
       "    <tr style=\"text-align: right;\">\n",
       "      <th></th>\n",
       "      <th>chr</th>\n",
       "      <th>start</th>\n",
       "      <th>stop</th>\n",
       "      <th>TSS</th>\n",
       "      <th>chr_m</th>\n",
       "      <th>start_m</th>\n",
       "      <th>stop_m</th>\n",
       "      <th>id_trim</th>\n",
       "      <th>score</th>\n",
       "      <th>strand</th>\n",
       "    </tr>\n",
       "  </thead>\n",
       "  <tbody>\n",
       "    <tr>\n",
       "      <td>0</td>\n",
       "      <td>chr1</td>\n",
       "      <td>710000</td>\n",
       "      <td>715000</td>\n",
       "      <td>chr1_710000_715000</td>\n",
       "      <td>chr1</td>\n",
       "      <td>713913</td>\n",
       "      <td>713918</td>\n",
       "      <td>MYBB_HUMAN.H11MO.0.D.pwm.trim</td>\n",
       "      <td>5.824923</td>\n",
       "      <td>-</td>\n",
       "    </tr>\n",
       "    <tr>\n",
       "      <td>1</td>\n",
       "      <td>chr1</td>\n",
       "      <td>710000</td>\n",
       "      <td>715000</td>\n",
       "      <td>chr1_710000_715000</td>\n",
       "      <td>chr1</td>\n",
       "      <td>713913</td>\n",
       "      <td>713917</td>\n",
       "      <td>ZN589_HUMAN.H11MO.0.D.pwm.trim</td>\n",
       "      <td>4.334007</td>\n",
       "      <td>-</td>\n",
       "    </tr>\n",
       "    <tr>\n",
       "      <td>2</td>\n",
       "      <td>chr1</td>\n",
       "      <td>710000</td>\n",
       "      <td>715000</td>\n",
       "      <td>chr1_710000_715000</td>\n",
       "      <td>chr1</td>\n",
       "      <td>713913</td>\n",
       "      <td>713918</td>\n",
       "      <td>MYBB_HUMAN.H11MO.0.D.pwm.trim</td>\n",
       "      <td>5.824923</td>\n",
       "      <td>-</td>\n",
       "    </tr>\n",
       "    <tr>\n",
       "      <td>3</td>\n",
       "      <td>chr1</td>\n",
       "      <td>710000</td>\n",
       "      <td>715000</td>\n",
       "      <td>chr1_710000_715000</td>\n",
       "      <td>chr1</td>\n",
       "      <td>713913</td>\n",
       "      <td>713917</td>\n",
       "      <td>ZN589_HUMAN.H11MO.0.D.pwm.trim</td>\n",
       "      <td>4.334007</td>\n",
       "      <td>-</td>\n",
       "    </tr>\n",
       "    <tr>\n",
       "      <td>4</td>\n",
       "      <td>chr1</td>\n",
       "      <td>710000</td>\n",
       "      <td>715000</td>\n",
       "      <td>chr1_710000_715000</td>\n",
       "      <td>chr1</td>\n",
       "      <td>713916</td>\n",
       "      <td>713931</td>\n",
       "      <td>RXRA_HUMAN.H11MO.0.A.pwm.trim</td>\n",
       "      <td>10.867212</td>\n",
       "      <td>+</td>\n",
       "    </tr>\n",
       "    <tr>\n",
       "      <td>...</td>\n",
       "      <td>...</td>\n",
       "      <td>...</td>\n",
       "      <td>...</td>\n",
       "      <td>...</td>\n",
       "      <td>...</td>\n",
       "      <td>...</td>\n",
       "      <td>...</td>\n",
       "      <td>...</td>\n",
       "      <td>...</td>\n",
       "      <td>...</td>\n",
       "    </tr>\n",
       "    <tr>\n",
       "      <td>74165985</td>\n",
       "      <td>chrY</td>\n",
       "      <td>59030000</td>\n",
       "      <td>59035000</td>\n",
       "      <td>chrY_59030000_59035000</td>\n",
       "      <td>chrY</td>\n",
       "      <td>59030117</td>\n",
       "      <td>59030127</td>\n",
       "      <td>RFX1_HUMAN.H11MO.1.B.pwm.trim</td>\n",
       "      <td>10.920844</td>\n",
       "      <td>-</td>\n",
       "    </tr>\n",
       "    <tr>\n",
       "      <td>74165986</td>\n",
       "      <td>chrY</td>\n",
       "      <td>59030000</td>\n",
       "      <td>59035000</td>\n",
       "      <td>chrY_59030000_59035000</td>\n",
       "      <td>chrY</td>\n",
       "      <td>59030117</td>\n",
       "      <td>59030127</td>\n",
       "      <td>RFX1_HUMAN.H11MO.1.B.pwm.trim</td>\n",
       "      <td>10.920844</td>\n",
       "      <td>-</td>\n",
       "    </tr>\n",
       "    <tr>\n",
       "      <td>74165987</td>\n",
       "      <td>chrY</td>\n",
       "      <td>59030000</td>\n",
       "      <td>59035000</td>\n",
       "      <td>chrY_59030000_59035000</td>\n",
       "      <td>chrY</td>\n",
       "      <td>59030120</td>\n",
       "      <td>59030123</td>\n",
       "      <td>KLF8_HUMAN.H11MO.0.C.pwm.trim</td>\n",
       "      <td>3.409391</td>\n",
       "      <td>+</td>\n",
       "    </tr>\n",
       "    <tr>\n",
       "      <td>74165988</td>\n",
       "      <td>chrY</td>\n",
       "      <td>59030000</td>\n",
       "      <td>59035000</td>\n",
       "      <td>chrY_59030000_59035000</td>\n",
       "      <td>chrY</td>\n",
       "      <td>59030120</td>\n",
       "      <td>59030123</td>\n",
       "      <td>KLF8_HUMAN.H11MO.0.C.pwm.trim</td>\n",
       "      <td>3.409391</td>\n",
       "      <td>+</td>\n",
       "    </tr>\n",
       "    <tr>\n",
       "      <td>74165989</td>\n",
       "      <td>chrY</td>\n",
       "      <td>59030000</td>\n",
       "      <td>59035000</td>\n",
       "      <td>chrY_59030000_59035000</td>\n",
       "      <td>chrY</td>\n",
       "      <td>59030120</td>\n",
       "      <td>59030123</td>\n",
       "      <td>KLF8_HUMAN.H11MO.0.C.pwm.trim</td>\n",
       "      <td>3.409391</td>\n",
       "      <td>+</td>\n",
       "    </tr>\n",
       "  </tbody>\n",
       "</table>\n",
       "<p>74165990 rows × 10 columns</p>\n",
       "</div>"
      ],
      "text/plain": [
       "           chr     start      stop                     TSS chr_m   start_m  \\\n",
       "0         chr1    710000    715000      chr1_710000_715000  chr1    713913   \n",
       "1         chr1    710000    715000      chr1_710000_715000  chr1    713913   \n",
       "2         chr1    710000    715000      chr1_710000_715000  chr1    713913   \n",
       "3         chr1    710000    715000      chr1_710000_715000  chr1    713913   \n",
       "4         chr1    710000    715000      chr1_710000_715000  chr1    713916   \n",
       "...        ...       ...       ...                     ...   ...       ...   \n",
       "74165985  chrY  59030000  59035000  chrY_59030000_59035000  chrY  59030117   \n",
       "74165986  chrY  59030000  59035000  chrY_59030000_59035000  chrY  59030117   \n",
       "74165987  chrY  59030000  59035000  chrY_59030000_59035000  chrY  59030120   \n",
       "74165988  chrY  59030000  59035000  chrY_59030000_59035000  chrY  59030120   \n",
       "74165989  chrY  59030000  59035000  chrY_59030000_59035000  chrY  59030120   \n",
       "\n",
       "            stop_m                         id_trim      score strand  \n",
       "0           713918   MYBB_HUMAN.H11MO.0.D.pwm.trim   5.824923      -  \n",
       "1           713917  ZN589_HUMAN.H11MO.0.D.pwm.trim   4.334007      -  \n",
       "2           713918   MYBB_HUMAN.H11MO.0.D.pwm.trim   5.824923      -  \n",
       "3           713917  ZN589_HUMAN.H11MO.0.D.pwm.trim   4.334007      -  \n",
       "4           713931   RXRA_HUMAN.H11MO.0.A.pwm.trim  10.867212      +  \n",
       "...            ...                             ...        ...    ...  \n",
       "74165985  59030127   RFX1_HUMAN.H11MO.1.B.pwm.trim  10.920844      -  \n",
       "74165986  59030127   RFX1_HUMAN.H11MO.1.B.pwm.trim  10.920844      -  \n",
       "74165987  59030123   KLF8_HUMAN.H11MO.0.C.pwm.trim   3.409391      +  \n",
       "74165988  59030123   KLF8_HUMAN.H11MO.0.C.pwm.trim   3.409391      +  \n",
       "74165989  59030123   KLF8_HUMAN.H11MO.0.C.pwm.trim   3.409391      +  \n",
       "\n",
       "[74165990 rows x 10 columns]"
      ]
     },
     "execution_count": 141,
     "metadata": {},
     "output_type": "execute_result"
    }
   ],
   "source": [
    "foot_df"
   ]
  },
  {
   "cell_type": "code",
   "execution_count": 143,
   "metadata": {},
   "outputs": [
    {
     "name": "stdout",
     "output_type": "stream",
     "text": [
      "['AP5S1', 'ARGLU1', 'BAX', 'CASP2', 'CCDC142', 'CHMP3', 'CTCF', 'CTDSP1', 'CUEDC1', 'DNAJA2', 'DNAJC7', 'DYNC1LI2', 'FUNDC2', 'GOLGA2', 'IFI16', 'KLHL9', 'MAPK12', 'MIDN', 'MXRA7', 'NDUFB11', 'NRIP3', 'POU2F1', 'RHPN2', 'SMG1', 'SPATA33', 'STAT3', 'SUOX', 'SUPT4H1', 'SUPT6H', 'SUV39H1', 'TMCO4', 'WDR45B', 'ZC3H18']\n",
      "(0, 10)\n",
      "(0, 11)\n",
      "SP2::SP4 AP5S1|ARGLU1|BAX|CASP2|CCDC142|CHMP3|CTCF|CTDSP1|CUEDC1|DNAJA2|DNAJC7|DYNC1LI2|FUNDC2|GOLGA2|IFI16|KLHL9|MAPK12|MIDN|MXRA7|NDUFB11|NRIP3|POU2F1|RHPN2|SMG1|SPATA33|STAT3|SUOX|SUPT4H1|SUPT6H|SUV39H1|TMCO4|WDR45B|ZC3H18\n",
      "Empty DataFrame\n",
      "Columns: [chr, start, stop, TSS, chr_m, start_m, stop_m, id_trim, score, strand, tf]\n",
      "Index: []\n"
     ]
    }
   ],
   "source": [
    "tf_pair = row.name\n",
    "tf_arr = tf_pair.split('::')\n",
    "# genes_pro_only = row['pro_pro_genes'].split('|')\n",
    "genes_pro_only = row['loop_loop_genes'].split('|')\n",
    "print(genes_pro_only)\n",
    "foot_df_sel = foot_df[foot_df.TSS.isin(genes_pro_only)]\n",
    "print(foot_df_sel.shape)\n",
    "foot_df_sel['tf'] = foot_df_sel.id_trim.map(tf_id_to_name_dict)\n",
    "print(foot_df_sel.shape)\n",
    "foot_df_sel = foot_df_sel[foot_df_sel.tf.isin(tf_arr)].drop_duplicates()\n",
    "print(tf_pair, row['pro_pro_genes'])\n",
    "# print(tf_pair, row['pro_pro_genes'])\n",
    "print(foot_df_sel)"
   ]
  },
  {
   "cell_type": "code",
   "execution_count": 131,
   "metadata": {},
   "outputs": [
    {
     "data": {
      "text/html": [
       "<div>\n",
       "<style scoped>\n",
       "    .dataframe tbody tr th:only-of-type {\n",
       "        vertical-align: middle;\n",
       "    }\n",
       "\n",
       "    .dataframe tbody tr th {\n",
       "        vertical-align: top;\n",
       "    }\n",
       "\n",
       "    .dataframe thead th {\n",
       "        text-align: right;\n",
       "    }\n",
       "</style>\n",
       "<table border=\"1\" class=\"dataframe\">\n",
       "  <thead>\n",
       "    <tr style=\"text-align: right;\">\n",
       "      <th></th>\n",
       "      <th>chr</th>\n",
       "      <th>start</th>\n",
       "      <th>stop</th>\n",
       "      <th>TSS</th>\n",
       "      <th>chr_m</th>\n",
       "      <th>start_m</th>\n",
       "      <th>stop_m</th>\n",
       "      <th>id_trim</th>\n",
       "      <th>score</th>\n",
       "      <th>strand</th>\n",
       "      <th>tf</th>\n",
       "    </tr>\n",
       "  </thead>\n",
       "  <tbody>\n",
       "    <tr>\n",
       "      <td>132457</td>\n",
       "      <td>chr1</td>\n",
       "      <td>47211510</td>\n",
       "      <td>47214010</td>\n",
       "      <td>CYP4B1</td>\n",
       "      <td>chr1</td>\n",
       "      <td>47213569</td>\n",
       "      <td>47213574</td>\n",
       "      <td>NFAC4_HUMAN.H11MO.0.C.pwm.trim</td>\n",
       "      <td>8.701374</td>\n",
       "      <td>+</td>\n",
       "      <td>NFATC4</td>\n",
       "    </tr>\n",
       "    <tr>\n",
       "      <td>132461</td>\n",
       "      <td>chr1</td>\n",
       "      <td>47211510</td>\n",
       "      <td>47214010</td>\n",
       "      <td>CYP4B1</td>\n",
       "      <td>chr1</td>\n",
       "      <td>47213580</td>\n",
       "      <td>47213597</td>\n",
       "      <td>ZN667_HUMAN.H11MO.0.C.pwm.trim</td>\n",
       "      <td>11.091512</td>\n",
       "      <td>+</td>\n",
       "      <td>ZNF667</td>\n",
       "    </tr>\n",
       "  </tbody>\n",
       "</table>\n",
       "</div>"
      ],
      "text/plain": [
       "         chr     start      stop     TSS chr_m   start_m    stop_m  \\\n",
       "132457  chr1  47211510  47214010  CYP4B1  chr1  47213569  47213574   \n",
       "132461  chr1  47211510  47214010  CYP4B1  chr1  47213580  47213597   \n",
       "\n",
       "                               id_trim      score strand      tf  \n",
       "132457  NFAC4_HUMAN.H11MO.0.C.pwm.trim   8.701374      +  NFATC4  \n",
       "132461  ZN667_HUMAN.H11MO.0.C.pwm.trim  11.091512      +  ZNF667  "
      ]
     },
     "execution_count": 131,
     "metadata": {},
     "output_type": "execute_result"
    }
   ],
   "source": [
    "# filter by those that have pairs \n",
    "# foot_df = pd.read_csv(os.path.join('../data/interim/annon/promoter_motif_scan/','promoter_Prostate_annon.bed'),sep='\\t',header=None)\n",
    "                      \n",
    "# foot_df.columns = ['chr','start','stop','TSS','chr_m','start_m','stop_m','id_trim','score','strand']\n",
    "foot_df = foot_df[foot_df.TSS.isin(['CYP4B1'])]\n",
    "foot_df['tf'] = foot_df.id_trim.map(tf_id_to_name_dict)\n",
    "foot_df[foot_df.tf.isin(['NFATC4','ZNF667'])].drop_duplicates()\n"
   ]
  },
  {
   "cell_type": "code",
   "execution_count": 132,
   "metadata": {},
   "outputs": [
    {
     "data": {
      "text/html": [
       "<div>\n",
       "<style scoped>\n",
       "    .dataframe tbody tr th:only-of-type {\n",
       "        vertical-align: middle;\n",
       "    }\n",
       "\n",
       "    .dataframe tbody tr th {\n",
       "        vertical-align: top;\n",
       "    }\n",
       "\n",
       "    .dataframe thead th {\n",
       "        text-align: right;\n",
       "    }\n",
       "</style>\n",
       "<table border=\"1\" class=\"dataframe\">\n",
       "  <thead>\n",
       "    <tr style=\"text-align: right;\">\n",
       "      <th></th>\n",
       "      <th>chr</th>\n",
       "      <th>start</th>\n",
       "      <th>stop</th>\n",
       "      <th>TSS</th>\n",
       "      <th>chr_m</th>\n",
       "      <th>start_m</th>\n",
       "      <th>stop_m</th>\n",
       "      <th>id_trim</th>\n",
       "      <th>score</th>\n",
       "      <th>strand</th>\n",
       "      <th>tf</th>\n",
       "    </tr>\n",
       "  </thead>\n",
       "  <tbody>\n",
       "    <tr>\n",
       "      <td>132457</td>\n",
       "      <td>chr1</td>\n",
       "      <td>47211510</td>\n",
       "      <td>47214010</td>\n",
       "      <td>CYP4B1</td>\n",
       "      <td>chr1</td>\n",
       "      <td>47213569</td>\n",
       "      <td>47213574</td>\n",
       "      <td>NFAC4_HUMAN.H11MO.0.C.pwm.trim</td>\n",
       "      <td>8.701374</td>\n",
       "      <td>+</td>\n",
       "      <td>NFATC4</td>\n",
       "    </tr>\n",
       "    <tr>\n",
       "      <td>132461</td>\n",
       "      <td>chr1</td>\n",
       "      <td>47211510</td>\n",
       "      <td>47214010</td>\n",
       "      <td>CYP4B1</td>\n",
       "      <td>chr1</td>\n",
       "      <td>47213580</td>\n",
       "      <td>47213597</td>\n",
       "      <td>ZN667_HUMAN.H11MO.0.C.pwm.trim</td>\n",
       "      <td>11.091512</td>\n",
       "      <td>+</td>\n",
       "      <td>ZNF667</td>\n",
       "    </tr>\n",
       "  </tbody>\n",
       "</table>\n",
       "</div>"
      ],
      "text/plain": [
       "         chr     start      stop     TSS chr_m   start_m    stop_m  \\\n",
       "132457  chr1  47211510  47214010  CYP4B1  chr1  47213569  47213574   \n",
       "132461  chr1  47211510  47214010  CYP4B1  chr1  47213580  47213597   \n",
       "\n",
       "                               id_trim      score strand      tf  \n",
       "132457  NFAC4_HUMAN.H11MO.0.C.pwm.trim   8.701374      +  NFATC4  \n",
       "132461  ZN667_HUMAN.H11MO.0.C.pwm.trim  11.091512      +  ZNF667  "
      ]
     },
     "execution_count": 132,
     "metadata": {},
     "output_type": "execute_result"
    }
   ],
   "source": [
    "foot_df = foot_df[foot_df.tf.isin(['NFATC4','ZNF667'])].drop_duplicates()\n",
    "foot_df\n"
   ]
  },
  {
   "cell_type": "markdown",
   "metadata": {},
   "source": [
    "# loop through all of the tf-tf pairs and find the locations in the promoter regions"
   ]
  },
  {
   "cell_type": "code",
   "execution_count": 133,
   "metadata": {},
   "outputs": [
    {
     "data": {
      "text/html": [
       "<div>\n",
       "<style scoped>\n",
       "    .dataframe tbody tr th:only-of-type {\n",
       "        vertical-align: middle;\n",
       "    }\n",
       "\n",
       "    .dataframe tbody tr th {\n",
       "        vertical-align: top;\n",
       "    }\n",
       "\n",
       "    .dataframe thead th {\n",
       "        text-align: right;\n",
       "    }\n",
       "</style>\n",
       "<table border=\"1\" class=\"dataframe\">\n",
       "  <thead>\n",
       "    <tr style=\"text-align: right;\">\n",
       "      <th></th>\n",
       "      <th>pro_pro_count</th>\n",
       "      <th>pro_pro_genes</th>\n",
       "      <th>loop_loop_count</th>\n",
       "      <th>loop_loop_genes</th>\n",
       "      <th>pro_loop_count</th>\n",
       "      <th>pro_loop_genes</th>\n",
       "      <th>loop_pro_count</th>\n",
       "      <th>loop_pro_genes</th>\n",
       "    </tr>\n",
       "  </thead>\n",
       "  <tbody>\n",
       "    <tr>\n",
       "      <td>EGR2::EGR3</td>\n",
       "      <td>0</td>\n",
       "      <td></td>\n",
       "      <td>0</td>\n",
       "      <td></td>\n",
       "      <td>0</td>\n",
       "      <td></td>\n",
       "      <td>0</td>\n",
       "      <td></td>\n",
       "    </tr>\n",
       "    <tr>\n",
       "      <td>EGR2::EGR4</td>\n",
       "      <td>0</td>\n",
       "      <td></td>\n",
       "      <td>0</td>\n",
       "      <td></td>\n",
       "      <td>0</td>\n",
       "      <td></td>\n",
       "      <td>0</td>\n",
       "      <td></td>\n",
       "    </tr>\n",
       "    <tr>\n",
       "      <td>EGR2::ELF3</td>\n",
       "      <td>0</td>\n",
       "      <td></td>\n",
       "      <td>0</td>\n",
       "      <td></td>\n",
       "      <td>0</td>\n",
       "      <td></td>\n",
       "      <td>0</td>\n",
       "      <td></td>\n",
       "    </tr>\n",
       "    <tr>\n",
       "      <td>EGR2::FLI1</td>\n",
       "      <td>0</td>\n",
       "      <td></td>\n",
       "      <td>0</td>\n",
       "      <td></td>\n",
       "      <td>0</td>\n",
       "      <td></td>\n",
       "      <td>0</td>\n",
       "      <td></td>\n",
       "    </tr>\n",
       "    <tr>\n",
       "      <td>EGR2::FOXJ3</td>\n",
       "      <td>0</td>\n",
       "      <td></td>\n",
       "      <td>0</td>\n",
       "      <td></td>\n",
       "      <td>0</td>\n",
       "      <td></td>\n",
       "      <td>0</td>\n",
       "      <td></td>\n",
       "    </tr>\n",
       "  </tbody>\n",
       "</table>\n",
       "</div>"
      ],
      "text/plain": [
       "             pro_pro_count pro_pro_genes  loop_loop_count loop_loop_genes  \\\n",
       "EGR2::EGR3               0                              0                   \n",
       "EGR2::EGR4               0                              0                   \n",
       "EGR2::ELF3               0                              0                   \n",
       "EGR2::FLI1               0                              0                   \n",
       "EGR2::FOXJ3              0                              0                   \n",
       "\n",
       "             pro_loop_count pro_loop_genes  loop_pro_count loop_pro_genes  \n",
       "EGR2::EGR3                0                              0                 \n",
       "EGR2::EGR4                0                              0                 \n",
       "EGR2::ELF3                0                              0                 \n",
       "EGR2::FLI1                0                              0                 \n",
       "EGR2::FOXJ3               0                              0                 "
      ]
     },
     "execution_count": 133,
     "metadata": {},
     "output_type": "execute_result"
    }
   ],
   "source": [
    "df_tf_key_type[:5]"
   ]
  },
  {
   "cell_type": "code",
   "execution_count": 149,
   "metadata": {},
   "outputs": [],
   "source": [
    "def get_vocab_cancer(tf_tf_pair_file, tissues, genesets_dict, type_loop='pro_pro', savepath=None, save_loop_count=None):\n",
    "    if savepath is None: #savepath is save each tissue separately\n",
    "        vocab_df = pd.DataFrame()\n",
    "    for tissue in sorted(tissues):\n",
    "        print('====== STARTING ',tissue, tf_tf_pair_file)\n",
    "\n",
    "        # read file\n",
    "        df = pd.read_csv(tf_tf_pair_file, index_col=0)\n",
    "        if df.shape[0]==0:\n",
    "            print('EXIT: no data', tf_tf_pair_file)\n",
    "            continue\n",
    "        else:\n",
    "            print('num vocab found:', df.shape[0])\n",
    "\n",
    "        # get tf tf pair types\n",
    "        tf_tf_pair_feat = {}\n",
    "        for tf_tf_pair in df.tf_key: \n",
    "            tf_tf_pair_feat[tf_tf_pair] = check_tf_tf_loop_occur_cancer(tf_tf_pair, tissue, genesets_dict)\n",
    "        df_tf_key_type = pd.DataFrame.from_dict(tf_tf_pair_feat,orient='index')\n",
    "\n",
    "        # get pro_pro OR loop_loop or looponly (PART TO CHANGE IN FUTURE)\n",
    "        if type_loop in ['pro_pro','loop_loop','pro_loop']:\n",
    "            if save_loop_count is not None:\n",
    "                print('saving loop type info', save_loop_count+tissue+'_loop_type.csv')\n",
    "                df_tf_key_type.to_csv(save_loop_count+tissue+'_loop_type.csv')\n",
    "        else:\n",
    "            print('vocab type not correct', type_loop)\n",
    "            raise            \n",
    "        df_tf_filt = df_tf_key_type[df_tf_key_type[type_loop+'_count']>0]    \n",
    "        \n",
    "        \n",
    "        # get locations of vocab points\n",
    "        if df_tf_filt.shape[0]==0:\n",
    "            print('EXIT: no tf tf pairs in loop type: ', type_loop, filepath)\n",
    "            continue   \n",
    "        else:\n",
    "            print('num tf-tf pairs in loop type found', type_loop,  df_tf_filt.shape[0])\n",
    "\n",
    "        vocab_tissue_df = pd.DataFrame()\n",
    "        foot_df = pd.read_csv(os.path.join('../data/interim/annon/promoter_motif_scan/','promoter_'+tissue+'_annon.bed'),sep='\\t',header=None)\n",
    "        foot_df.columns = ['chr','start','stop','TSS','chr_m','start_m','stop_m','id_trim','score','strand']\n",
    "        for tf_pair, row in df_tf_filt.iterrows():\n",
    "            tf_arr = tf_pair.split('::')\n",
    "#             print(row)\n",
    "            genes_pro_only = row[type_loop+'_genes'].split('|')\n",
    "            foot_df_sel = foot_df[foot_df.TSS.isin(genes_pro_only)]\n",
    "            foot_df_sel['tf'] = foot_df_sel.id_trim.map(tf_id_to_name_dict)\n",
    "            foot_df_sel = foot_df_sel[foot_df_sel.tf.isin(tf_arr)].drop_duplicates()\n",
    "            foot_df_sel['vocab'] = tf_pair\n",
    "            foot_df_sel['genes'] = row[type_loop+'_genes']\n",
    "            vocab_tissue_df = pd.concat([vocab_tissue_df, foot_df_sel],axis=0,sort=False)\n",
    "\n",
    "        vocab_tissue_df['tissue'] = tissue\n",
    "        print('vocab_tissue_df length: ', vocab_tissue_df.shape[0], len(vocab_tissue_df.vocab.unique()))\n",
    "        if savepath is not None:\n",
    "            print('saved', savepath+tissue+\"_\"+type_loop+'_vocab_info.csv')\n",
    "            vocab_tissue_df.to_csv(savepath+tissue+\"_\"+type_loop+'_vocab_info.csv')\n",
    "        \n",
    "        if savepath is None:\n",
    "            vocab_df = pd.concat([vocab_df,vocab_tissue_df ],axis=0,sort=False)\n",
    "    if savepath is None:\n",
    "        return vocab_df\n",
    "    else:\n",
    "        return None"
   ]
  },
  {
   "cell_type": "markdown",
   "metadata": {},
   "source": [
    "unique stuff"
   ]
  },
  {
   "cell_type": "code",
   "execution_count": 150,
   "metadata": {},
   "outputs": [],
   "source": [
    "# %%time \n",
    "# vocab_df = get_vocab(glob.glob(os.path.join(save_dir, 'unique*_filt.csv')),unique_genesets,\n",
    "#                      type_loop='pro_pro',save_loop_count=os.path.join(save_dir, 'unique_'))\n",
    "# vocab_df.to_csv(os.path.join(save_dir, 'unique_alltissue_pro_pro_vocab_info.csv'))\n",
    "# vocab_df.shape"
   ]
  },
  {
   "cell_type": "code",
   "execution_count": 151,
   "metadata": {},
   "outputs": [],
   "source": [
    "# %%time \n",
    "# vocab_df = get_vocab(glob.glob(os.path.join(save_dir, 'unique*_filt.csv')),unique_genesets,type_loop='pro_loop')\n",
    "# vocab_df.to_csv(os.path.join(save_dir, 'unique_alltissue_pro_loop_vocab_info.csv'))\n",
    "# vocab_df.shape\n"
   ]
  },
  {
   "cell_type": "code",
   "execution_count": 152,
   "metadata": {},
   "outputs": [],
   "source": [
    "# %%time \n",
    "# vocab_df = get_vocab(glob.glob(os.path.join(save_dir, 'unique*_filt.csv')),unique_genesets,type_loop='loop_loop')\n",
    "# vocab_df.to_csv(os.path.join(save_dir, 'unique_alltissue_loop_loop_vocab_info.csv'))\n",
    "# vocab_df.shape\n"
   ]
  },
  {
   "cell_type": "code",
   "execution_count": 153,
   "metadata": {},
   "outputs": [
    {
     "data": {
      "text/plain": [
       "['../data/processed/fig4_modelling/tf_tf_pairs_scc/diff_cancer_pair_filt_unique.csv',\n",
       " '../data/processed/fig4_modelling/tf_tf_pairs_scc/diff_normal_pair_filt_unique.csv',\n",
       " '../data/processed/fig4_modelling/tf_tf_pairs_scc/expr_cancer_pair_filt_unique.csv',\n",
       " '../data/processed/fig4_modelling/tf_tf_pairs_scc/expr_normal_pair_filt_unique.csv']"
      ]
     },
     "execution_count": 153,
     "metadata": {},
     "output_type": "execute_result"
    }
   ],
   "source": [
    "glob.glob(os.path.join(save_dir, '*_filt_unique.csv'))"
   ]
  },
  {
   "cell_type": "code",
   "execution_count": 154,
   "metadata": {},
   "outputs": [
    {
     "data": {
      "text/plain": [
       "['A431-CTRLi', 'CAL27-CTRLi', 'SCC13-CTRLi']"
      ]
     },
     "execution_count": 154,
     "metadata": {},
     "output_type": "execute_result"
    }
   ],
   "source": [
    "cancer_tissues"
   ]
  },
  {
   "cell_type": "code",
   "execution_count": 156,
   "metadata": {},
   "outputs": [
    {
     "name": "stdout",
     "output_type": "stream",
     "text": [
      "====== STARTING  A431-CTRLi ../data/processed/fig4_modelling/tf_tf_pairs_scc/diff_cancer_pair_filt_unique.csv\n",
      "num vocab found: 190\n",
      "num tf-tf pairs in loop type found pro_pro 5\n"
     ]
    },
    {
     "name": "stderr",
     "output_type": "stream",
     "text": [
      "/Users/mguo123/opt/anaconda3/lib/python3.7/site-packages/ipykernel_launcher.py:47: SettingWithCopyWarning: \n",
      "A value is trying to be set on a copy of a slice from a DataFrame.\n",
      "Try using .loc[row_indexer,col_indexer] = value instead\n",
      "\n",
      "See the caveats in the documentation: http://pandas.pydata.org/pandas-docs/stable/user_guide/indexing.html#returning-a-view-versus-a-copy\n"
     ]
    },
    {
     "name": "stdout",
     "output_type": "stream",
     "text": [
      "vocab_tissue_df length:  39 5\n",
      "saved ../data/processed/fig4_modelling/tf_tf_pairs_scc/diff_A431-CTRLi_pro_pro_vocab_info.csv\n",
      "====== STARTING  CAL27-CTRLi ../data/processed/fig4_modelling/tf_tf_pairs_scc/diff_cancer_pair_filt_unique.csv\n",
      "num vocab found: 190\n",
      "num tf-tf pairs in loop type found pro_pro 21\n",
      "vocab_tissue_df length:  322 21\n",
      "saved ../data/processed/fig4_modelling/tf_tf_pairs_scc/diff_CAL27-CTRLi_pro_pro_vocab_info.csv\n",
      "====== STARTING  SCC13-CTRLi ../data/processed/fig4_modelling/tf_tf_pairs_scc/diff_cancer_pair_filt_unique.csv\n",
      "num vocab found: 190\n",
      "num tf-tf pairs in loop type found pro_pro 7\n",
      "vocab_tissue_df length:  158 7\n",
      "saved ../data/processed/fig4_modelling/tf_tf_pairs_scc/diff_SCC13-CTRLi_pro_pro_vocab_info.csv\n",
      "CPU times: user 21.4 s, sys: 1.36 s, total: 22.7 s\n",
      "Wall time: 18.2 s\n"
     ]
    }
   ],
   "source": [
    "%%time \n",
    "vocab_df_diff = get_vocab_cancer('../data/processed/fig4_modelling/tf_tf_pairs_scc/diff_cancer_pair_filt_unique.csv', cancer_tissues, diff_genesets, \n",
    "                          savepath=os.path.join(save_dir, 'diff_'))\n",
    "# vocab_df_expr.to_csv(os.path.join(save_dir, 'expr_alltissue_vocab_info.csv'))"
   ]
  },
  {
   "cell_type": "code",
   "execution_count": 157,
   "metadata": {},
   "outputs": [
    {
     "name": "stdout",
     "output_type": "stream",
     "text": [
      "====== STARTING  A431-CTRLi ../data/processed/fig4_modelling/tf_tf_pairs_scc/diff_cancer_pair_filt_unique.csv\n",
      "num vocab found: 190\n",
      "saving loop type info ../data/processed/fig4_modelling/tf_tf_pairs_scc/diff_A431-CTRLi_loop_type.csv\n",
      "num tf-tf pairs in loop type found loop_loop 136\n"
     ]
    },
    {
     "name": "stderr",
     "output_type": "stream",
     "text": [
      "/Users/mguo123/opt/anaconda3/lib/python3.7/site-packages/ipykernel_launcher.py:47: SettingWithCopyWarning: \n",
      "A value is trying to be set on a copy of a slice from a DataFrame.\n",
      "Try using .loc[row_indexer,col_indexer] = value instead\n",
      "\n",
      "See the caveats in the documentation: http://pandas.pydata.org/pandas-docs/stable/user_guide/indexing.html#returning-a-view-versus-a-copy\n"
     ]
    },
    {
     "name": "stdout",
     "output_type": "stream",
     "text": [
      "vocab_tissue_df length:  3170 130\n",
      "saved ../data/processed/fig4_modelling/tf_tf_pairs_scc/diff_A431-CTRLi_loop_loop_vocab_info.csv\n",
      "====== STARTING  CAL27-CTRLi ../data/processed/fig4_modelling/tf_tf_pairs_scc/diff_cancer_pair_filt_unique.csv\n",
      "num vocab found: 190\n",
      "saving loop type info ../data/processed/fig4_modelling/tf_tf_pairs_scc/diff_CAL27-CTRLi_loop_type.csv\n",
      "num tf-tf pairs in loop type found loop_loop 91\n",
      "vocab_tissue_df length:  1747 84\n",
      "saved ../data/processed/fig4_modelling/tf_tf_pairs_scc/diff_CAL27-CTRLi_loop_loop_vocab_info.csv\n",
      "====== STARTING  SCC13-CTRLi ../data/processed/fig4_modelling/tf_tf_pairs_scc/diff_cancer_pair_filt_unique.csv\n",
      "num vocab found: 190\n",
      "saving loop type info ../data/processed/fig4_modelling/tf_tf_pairs_scc/diff_SCC13-CTRLi_loop_type.csv\n",
      "num tf-tf pairs in loop type found loop_loop 120\n",
      "vocab_tissue_df length:  1376 104\n",
      "saved ../data/processed/fig4_modelling/tf_tf_pairs_scc/diff_SCC13-CTRLi_loop_loop_vocab_info.csv\n",
      "CPU times: user 48 s, sys: 772 ms, total: 48.8 s\n",
      "Wall time: 44.7 s\n"
     ]
    }
   ],
   "source": [
    "%%time \n",
    "vocab_df_diff_loop_loop = get_vocab_cancer('../data/processed/fig4_modelling/tf_tf_pairs_scc/diff_cancer_pair_filt_unique.csv', cancer_tissues, diff_genesets, \n",
    "                                            savepath=os.path.join(save_dir, 'diff_'),\n",
    "                                            type_loop='loop_loop', save_loop_count=os.path.join(save_dir, 'diff_'))\n",
    "# vocab_df_expr.to_csv(os.path.join(save_dir, 'expr_alltissue_vocab_info.csv'))"
   ]
  },
  {
   "cell_type": "code",
   "execution_count": 160,
   "metadata": {},
   "outputs": [
    {
     "name": "stdout",
     "output_type": "stream",
     "text": [
      "====== STARTING  A431-CTRLi ../data/processed/fig4_modelling/tf_tf_pairs_scc/expr_cancer_pair_filt_unique.csv\n",
      "num vocab found: 15400\n",
      "num tf-tf pairs in loop type found pro_pro 6247\n"
     ]
    },
    {
     "name": "stderr",
     "output_type": "stream",
     "text": [
      "/Users/mguo123/opt/anaconda3/lib/python3.7/site-packages/ipykernel_launcher.py:47: SettingWithCopyWarning: \n",
      "A value is trying to be set on a copy of a slice from a DataFrame.\n",
      "Try using .loc[row_indexer,col_indexer] = value instead\n",
      "\n",
      "See the caveats in the documentation: http://pandas.pydata.org/pandas-docs/stable/user_guide/indexing.html#returning-a-view-versus-a-copy\n"
     ]
    },
    {
     "name": "stdout",
     "output_type": "stream",
     "text": [
      "vocab_tissue_df length:  443772 6247\n",
      "saved ../data/processed/fig4_modelling/tf_tf_pairs_scc/expr_A431-CTRLi_pro_pro_vocab_info.csv\n",
      "====== STARTING  CAL27-CTRLi ../data/processed/fig4_modelling/tf_tf_pairs_scc/expr_cancer_pair_filt_unique.csv\n",
      "num vocab found: 15400\n",
      "num tf-tf pairs in loop type found pro_pro 6583\n",
      "vocab_tissue_df length:  385874 6583\n",
      "saved ../data/processed/fig4_modelling/tf_tf_pairs_scc/expr_CAL27-CTRLi_pro_pro_vocab_info.csv\n",
      "====== STARTING  SCC13-CTRLi ../data/processed/fig4_modelling/tf_tf_pairs_scc/expr_cancer_pair_filt_unique.csv\n",
      "num vocab found: 15400\n",
      "num tf-tf pairs in loop type found pro_pro 6612\n",
      "vocab_tissue_df length:  441040 6612\n",
      "saved ../data/processed/fig4_modelling/tf_tf_pairs_scc/expr_SCC13-CTRLi_pro_pro_vocab_info.csv\n",
      "====== STARTING  A431-CTRLi ../data/processed/fig4_modelling/tf_tf_pairs_scc/expr_cancer_pair_filt_unique.csv\n",
      "num vocab found: 15400\n",
      "saving loop type info ../data/processed/fig4_modelling/tf_tf_pairs_scc/expr_A431-CTRLi_loop_type.csv\n",
      "num tf-tf pairs in loop type found loop_loop 10440\n"
     ]
    },
    {
     "ename": "KeyboardInterrupt",
     "evalue": "",
     "output_type": "error",
     "traceback": [
      "\u001b[0;31m---------------------------------------------------------------------------\u001b[0m",
      "\u001b[0;31mKeyboardInterrupt\u001b[0m                         Traceback (most recent call last)",
      "\u001b[0;32m<timed exec>\u001b[0m in \u001b[0;36m<module>\u001b[0;34m\u001b[0m\n",
      "\u001b[0;32m<ipython-input-149-6e785c172403>\u001b[0m in \u001b[0;36mget_vocab_cancer\u001b[0;34m(tf_tf_pair_file, tissues, genesets_dict, type_loop, savepath, save_loop_count)\u001b[0m\n\u001b[1;32m     49\u001b[0m             \u001b[0mfoot_df_sel\u001b[0m\u001b[0;34m[\u001b[0m\u001b[0;34m'vocab'\u001b[0m\u001b[0;34m]\u001b[0m \u001b[0;34m=\u001b[0m \u001b[0mtf_pair\u001b[0m\u001b[0;34m\u001b[0m\u001b[0;34m\u001b[0m\u001b[0m\n\u001b[1;32m     50\u001b[0m             \u001b[0mfoot_df_sel\u001b[0m\u001b[0;34m[\u001b[0m\u001b[0;34m'genes'\u001b[0m\u001b[0;34m]\u001b[0m \u001b[0;34m=\u001b[0m \u001b[0mrow\u001b[0m\u001b[0;34m[\u001b[0m\u001b[0mtype_loop\u001b[0m\u001b[0;34m+\u001b[0m\u001b[0;34m'_genes'\u001b[0m\u001b[0;34m]\u001b[0m\u001b[0;34m\u001b[0m\u001b[0;34m\u001b[0m\u001b[0m\n\u001b[0;32m---> 51\u001b[0;31m             \u001b[0mvocab_tissue_df\u001b[0m \u001b[0;34m=\u001b[0m \u001b[0mpd\u001b[0m\u001b[0;34m.\u001b[0m\u001b[0mconcat\u001b[0m\u001b[0;34m(\u001b[0m\u001b[0;34m[\u001b[0m\u001b[0mvocab_tissue_df\u001b[0m\u001b[0;34m,\u001b[0m \u001b[0mfoot_df_sel\u001b[0m\u001b[0;34m]\u001b[0m\u001b[0;34m,\u001b[0m\u001b[0maxis\u001b[0m\u001b[0;34m=\u001b[0m\u001b[0;36m0\u001b[0m\u001b[0;34m,\u001b[0m\u001b[0msort\u001b[0m\u001b[0;34m=\u001b[0m\u001b[0;32mFalse\u001b[0m\u001b[0;34m)\u001b[0m\u001b[0;34m\u001b[0m\u001b[0;34m\u001b[0m\u001b[0m\n\u001b[0m\u001b[1;32m     52\u001b[0m \u001b[0;34m\u001b[0m\u001b[0m\n\u001b[1;32m     53\u001b[0m         \u001b[0mvocab_tissue_df\u001b[0m\u001b[0;34m[\u001b[0m\u001b[0;34m'tissue'\u001b[0m\u001b[0;34m]\u001b[0m \u001b[0;34m=\u001b[0m \u001b[0mtissue\u001b[0m\u001b[0;34m\u001b[0m\u001b[0;34m\u001b[0m\u001b[0m\n",
      "\u001b[0;32m~/opt/anaconda3/lib/python3.7/site-packages/pandas/core/reshape/concat.py\u001b[0m in \u001b[0;36mconcat\u001b[0;34m(objs, axis, join, join_axes, ignore_index, keys, levels, names, verify_integrity, sort, copy)\u001b[0m\n\u001b[1;32m    253\u001b[0m         \u001b[0mverify_integrity\u001b[0m\u001b[0;34m=\u001b[0m\u001b[0mverify_integrity\u001b[0m\u001b[0;34m,\u001b[0m\u001b[0;34m\u001b[0m\u001b[0;34m\u001b[0m\u001b[0m\n\u001b[1;32m    254\u001b[0m         \u001b[0mcopy\u001b[0m\u001b[0;34m=\u001b[0m\u001b[0mcopy\u001b[0m\u001b[0;34m,\u001b[0m\u001b[0;34m\u001b[0m\u001b[0;34m\u001b[0m\u001b[0m\n\u001b[0;32m--> 255\u001b[0;31m         \u001b[0msort\u001b[0m\u001b[0;34m=\u001b[0m\u001b[0msort\u001b[0m\u001b[0;34m,\u001b[0m\u001b[0;34m\u001b[0m\u001b[0;34m\u001b[0m\u001b[0m\n\u001b[0m\u001b[1;32m    256\u001b[0m     )\n\u001b[1;32m    257\u001b[0m \u001b[0;34m\u001b[0m\u001b[0m\n",
      "\u001b[0;32m~/opt/anaconda3/lib/python3.7/site-packages/pandas/core/reshape/concat.py\u001b[0m in \u001b[0;36m__init__\u001b[0;34m(self, objs, axis, join, join_axes, keys, levels, names, ignore_index, verify_integrity, copy, sort)\u001b[0m\n\u001b[1;32m    333\u001b[0m \u001b[0;34m\u001b[0m\u001b[0m\n\u001b[1;32m    334\u001b[0m             \u001b[0;31m# consolidate\u001b[0m\u001b[0;34m\u001b[0m\u001b[0;34m\u001b[0m\u001b[0;34m\u001b[0m\u001b[0m\n\u001b[0;32m--> 335\u001b[0;31m             \u001b[0mobj\u001b[0m\u001b[0;34m.\u001b[0m\u001b[0m_consolidate\u001b[0m\u001b[0;34m(\u001b[0m\u001b[0minplace\u001b[0m\u001b[0;34m=\u001b[0m\u001b[0;32mTrue\u001b[0m\u001b[0;34m)\u001b[0m\u001b[0;34m\u001b[0m\u001b[0;34m\u001b[0m\u001b[0m\n\u001b[0m\u001b[1;32m    336\u001b[0m             \u001b[0mndims\u001b[0m\u001b[0;34m.\u001b[0m\u001b[0madd\u001b[0m\u001b[0;34m(\u001b[0m\u001b[0mobj\u001b[0m\u001b[0;34m.\u001b[0m\u001b[0mndim\u001b[0m\u001b[0;34m)\u001b[0m\u001b[0;34m\u001b[0m\u001b[0;34m\u001b[0m\u001b[0m\n\u001b[1;32m    337\u001b[0m \u001b[0;34m\u001b[0m\u001b[0m\n",
      "\u001b[0;32m~/opt/anaconda3/lib/python3.7/site-packages/pandas/core/generic.py\u001b[0m in \u001b[0;36m_consolidate\u001b[0;34m(self, inplace)\u001b[0m\n\u001b[1;32m   5268\u001b[0m         \u001b[0minplace\u001b[0m \u001b[0;34m=\u001b[0m \u001b[0mvalidate_bool_kwarg\u001b[0m\u001b[0;34m(\u001b[0m\u001b[0minplace\u001b[0m\u001b[0;34m,\u001b[0m \u001b[0;34m\"inplace\"\u001b[0m\u001b[0;34m)\u001b[0m\u001b[0;34m\u001b[0m\u001b[0;34m\u001b[0m\u001b[0m\n\u001b[1;32m   5269\u001b[0m         \u001b[0;32mif\u001b[0m \u001b[0minplace\u001b[0m\u001b[0;34m:\u001b[0m\u001b[0;34m\u001b[0m\u001b[0;34m\u001b[0m\u001b[0m\n\u001b[0;32m-> 5270\u001b[0;31m             \u001b[0mself\u001b[0m\u001b[0;34m.\u001b[0m\u001b[0m_consolidate_inplace\u001b[0m\u001b[0;34m(\u001b[0m\u001b[0;34m)\u001b[0m\u001b[0;34m\u001b[0m\u001b[0;34m\u001b[0m\u001b[0m\n\u001b[0m\u001b[1;32m   5271\u001b[0m         \u001b[0;32melse\u001b[0m\u001b[0;34m:\u001b[0m\u001b[0;34m\u001b[0m\u001b[0;34m\u001b[0m\u001b[0m\n\u001b[1;32m   5272\u001b[0m             \u001b[0mf\u001b[0m \u001b[0;34m=\u001b[0m \u001b[0;32mlambda\u001b[0m\u001b[0;34m:\u001b[0m \u001b[0mself\u001b[0m\u001b[0;34m.\u001b[0m\u001b[0m_data\u001b[0m\u001b[0;34m.\u001b[0m\u001b[0mconsolidate\u001b[0m\u001b[0;34m(\u001b[0m\u001b[0;34m)\u001b[0m\u001b[0;34m\u001b[0m\u001b[0;34m\u001b[0m\u001b[0m\n",
      "\u001b[0;32m~/opt/anaconda3/lib/python3.7/site-packages/pandas/core/generic.py\u001b[0m in \u001b[0;36m_consolidate_inplace\u001b[0;34m(self)\u001b[0m\n\u001b[1;32m   5250\u001b[0m             \u001b[0mself\u001b[0m\u001b[0;34m.\u001b[0m\u001b[0m_data\u001b[0m \u001b[0;34m=\u001b[0m \u001b[0mself\u001b[0m\u001b[0;34m.\u001b[0m\u001b[0m_data\u001b[0m\u001b[0;34m.\u001b[0m\u001b[0mconsolidate\u001b[0m\u001b[0;34m(\u001b[0m\u001b[0;34m)\u001b[0m\u001b[0;34m\u001b[0m\u001b[0;34m\u001b[0m\u001b[0m\n\u001b[1;32m   5251\u001b[0m \u001b[0;34m\u001b[0m\u001b[0m\n\u001b[0;32m-> 5252\u001b[0;31m         \u001b[0mself\u001b[0m\u001b[0;34m.\u001b[0m\u001b[0m_protect_consolidate\u001b[0m\u001b[0;34m(\u001b[0m\u001b[0mf\u001b[0m\u001b[0;34m)\u001b[0m\u001b[0;34m\u001b[0m\u001b[0;34m\u001b[0m\u001b[0m\n\u001b[0m\u001b[1;32m   5253\u001b[0m \u001b[0;34m\u001b[0m\u001b[0m\n\u001b[1;32m   5254\u001b[0m     \u001b[0;32mdef\u001b[0m \u001b[0m_consolidate\u001b[0m\u001b[0;34m(\u001b[0m\u001b[0mself\u001b[0m\u001b[0;34m,\u001b[0m \u001b[0minplace\u001b[0m\u001b[0;34m=\u001b[0m\u001b[0;32mFalse\u001b[0m\u001b[0;34m)\u001b[0m\u001b[0;34m:\u001b[0m\u001b[0;34m\u001b[0m\u001b[0;34m\u001b[0m\u001b[0m\n",
      "\u001b[0;32m~/opt/anaconda3/lib/python3.7/site-packages/pandas/core/generic.py\u001b[0m in \u001b[0;36m_protect_consolidate\u001b[0;34m(self, f)\u001b[0m\n\u001b[1;32m   5239\u001b[0m         \"\"\"\n\u001b[1;32m   5240\u001b[0m         \u001b[0mblocks_before\u001b[0m \u001b[0;34m=\u001b[0m \u001b[0mlen\u001b[0m\u001b[0;34m(\u001b[0m\u001b[0mself\u001b[0m\u001b[0;34m.\u001b[0m\u001b[0m_data\u001b[0m\u001b[0;34m.\u001b[0m\u001b[0mblocks\u001b[0m\u001b[0;34m)\u001b[0m\u001b[0;34m\u001b[0m\u001b[0;34m\u001b[0m\u001b[0m\n\u001b[0;32m-> 5241\u001b[0;31m         \u001b[0mresult\u001b[0m \u001b[0;34m=\u001b[0m \u001b[0mf\u001b[0m\u001b[0;34m(\u001b[0m\u001b[0;34m)\u001b[0m\u001b[0;34m\u001b[0m\u001b[0;34m\u001b[0m\u001b[0m\n\u001b[0m\u001b[1;32m   5242\u001b[0m         \u001b[0;32mif\u001b[0m \u001b[0mlen\u001b[0m\u001b[0;34m(\u001b[0m\u001b[0mself\u001b[0m\u001b[0;34m.\u001b[0m\u001b[0m_data\u001b[0m\u001b[0;34m.\u001b[0m\u001b[0mblocks\u001b[0m\u001b[0;34m)\u001b[0m \u001b[0;34m!=\u001b[0m \u001b[0mblocks_before\u001b[0m\u001b[0;34m:\u001b[0m\u001b[0;34m\u001b[0m\u001b[0;34m\u001b[0m\u001b[0m\n\u001b[1;32m   5243\u001b[0m             \u001b[0mself\u001b[0m\u001b[0;34m.\u001b[0m\u001b[0m_clear_item_cache\u001b[0m\u001b[0;34m(\u001b[0m\u001b[0;34m)\u001b[0m\u001b[0;34m\u001b[0m\u001b[0;34m\u001b[0m\u001b[0m\n",
      "\u001b[0;32m~/opt/anaconda3/lib/python3.7/site-packages/pandas/core/generic.py\u001b[0m in \u001b[0;36mf\u001b[0;34m()\u001b[0m\n\u001b[1;32m   5248\u001b[0m \u001b[0;34m\u001b[0m\u001b[0m\n\u001b[1;32m   5249\u001b[0m         \u001b[0;32mdef\u001b[0m \u001b[0mf\u001b[0m\u001b[0;34m(\u001b[0m\u001b[0;34m)\u001b[0m\u001b[0;34m:\u001b[0m\u001b[0;34m\u001b[0m\u001b[0;34m\u001b[0m\u001b[0m\n\u001b[0;32m-> 5250\u001b[0;31m             \u001b[0mself\u001b[0m\u001b[0;34m.\u001b[0m\u001b[0m_data\u001b[0m \u001b[0;34m=\u001b[0m \u001b[0mself\u001b[0m\u001b[0;34m.\u001b[0m\u001b[0m_data\u001b[0m\u001b[0;34m.\u001b[0m\u001b[0mconsolidate\u001b[0m\u001b[0;34m(\u001b[0m\u001b[0;34m)\u001b[0m\u001b[0;34m\u001b[0m\u001b[0;34m\u001b[0m\u001b[0m\n\u001b[0m\u001b[1;32m   5251\u001b[0m \u001b[0;34m\u001b[0m\u001b[0m\n\u001b[1;32m   5252\u001b[0m         \u001b[0mself\u001b[0m\u001b[0;34m.\u001b[0m\u001b[0m_protect_consolidate\u001b[0m\u001b[0;34m(\u001b[0m\u001b[0mf\u001b[0m\u001b[0;34m)\u001b[0m\u001b[0;34m\u001b[0m\u001b[0;34m\u001b[0m\u001b[0m\n",
      "\u001b[0;32m~/opt/anaconda3/lib/python3.7/site-packages/pandas/core/internals/managers.py\u001b[0m in \u001b[0;36mconsolidate\u001b[0;34m(self)\u001b[0m\n\u001b[1;32m    930\u001b[0m         \u001b[0mbm\u001b[0m \u001b[0;34m=\u001b[0m \u001b[0mself\u001b[0m\u001b[0;34m.\u001b[0m\u001b[0m__class__\u001b[0m\u001b[0;34m(\u001b[0m\u001b[0mself\u001b[0m\u001b[0;34m.\u001b[0m\u001b[0mblocks\u001b[0m\u001b[0;34m,\u001b[0m \u001b[0mself\u001b[0m\u001b[0;34m.\u001b[0m\u001b[0maxes\u001b[0m\u001b[0;34m)\u001b[0m\u001b[0;34m\u001b[0m\u001b[0;34m\u001b[0m\u001b[0m\n\u001b[1;32m    931\u001b[0m         \u001b[0mbm\u001b[0m\u001b[0;34m.\u001b[0m\u001b[0m_is_consolidated\u001b[0m \u001b[0;34m=\u001b[0m \u001b[0;32mFalse\u001b[0m\u001b[0;34m\u001b[0m\u001b[0;34m\u001b[0m\u001b[0m\n\u001b[0;32m--> 932\u001b[0;31m         \u001b[0mbm\u001b[0m\u001b[0;34m.\u001b[0m\u001b[0m_consolidate_inplace\u001b[0m\u001b[0;34m(\u001b[0m\u001b[0;34m)\u001b[0m\u001b[0;34m\u001b[0m\u001b[0;34m\u001b[0m\u001b[0m\n\u001b[0m\u001b[1;32m    933\u001b[0m         \u001b[0;32mreturn\u001b[0m \u001b[0mbm\u001b[0m\u001b[0;34m\u001b[0m\u001b[0;34m\u001b[0m\u001b[0m\n\u001b[1;32m    934\u001b[0m \u001b[0;34m\u001b[0m\u001b[0m\n",
      "\u001b[0;32m~/opt/anaconda3/lib/python3.7/site-packages/pandas/core/internals/managers.py\u001b[0m in \u001b[0;36m_consolidate_inplace\u001b[0;34m(self)\u001b[0m\n\u001b[1;32m    935\u001b[0m     \u001b[0;32mdef\u001b[0m \u001b[0m_consolidate_inplace\u001b[0m\u001b[0;34m(\u001b[0m\u001b[0mself\u001b[0m\u001b[0;34m)\u001b[0m\u001b[0;34m:\u001b[0m\u001b[0;34m\u001b[0m\u001b[0;34m\u001b[0m\u001b[0m\n\u001b[1;32m    936\u001b[0m         \u001b[0;32mif\u001b[0m \u001b[0;32mnot\u001b[0m \u001b[0mself\u001b[0m\u001b[0;34m.\u001b[0m\u001b[0mis_consolidated\u001b[0m\u001b[0;34m(\u001b[0m\u001b[0;34m)\u001b[0m\u001b[0;34m:\u001b[0m\u001b[0;34m\u001b[0m\u001b[0;34m\u001b[0m\u001b[0m\n\u001b[0;32m--> 937\u001b[0;31m             \u001b[0mself\u001b[0m\u001b[0;34m.\u001b[0m\u001b[0mblocks\u001b[0m \u001b[0;34m=\u001b[0m \u001b[0mtuple\u001b[0m\u001b[0;34m(\u001b[0m\u001b[0m_consolidate\u001b[0m\u001b[0;34m(\u001b[0m\u001b[0mself\u001b[0m\u001b[0;34m.\u001b[0m\u001b[0mblocks\u001b[0m\u001b[0;34m)\u001b[0m\u001b[0;34m)\u001b[0m\u001b[0;34m\u001b[0m\u001b[0;34m\u001b[0m\u001b[0m\n\u001b[0m\u001b[1;32m    938\u001b[0m             \u001b[0mself\u001b[0m\u001b[0;34m.\u001b[0m\u001b[0m_is_consolidated\u001b[0m \u001b[0;34m=\u001b[0m \u001b[0;32mTrue\u001b[0m\u001b[0;34m\u001b[0m\u001b[0;34m\u001b[0m\u001b[0m\n\u001b[1;32m    939\u001b[0m             \u001b[0mself\u001b[0m\u001b[0;34m.\u001b[0m\u001b[0m_known_consolidated\u001b[0m \u001b[0;34m=\u001b[0m \u001b[0;32mTrue\u001b[0m\u001b[0;34m\u001b[0m\u001b[0;34m\u001b[0m\u001b[0m\n",
      "\u001b[0;32m~/opt/anaconda3/lib/python3.7/site-packages/pandas/core/internals/managers.py\u001b[0m in \u001b[0;36m_consolidate\u001b[0;34m(blocks)\u001b[0m\n\u001b[1;32m   1911\u001b[0m     \u001b[0;32mfor\u001b[0m \u001b[0;34m(\u001b[0m\u001b[0m_can_consolidate\u001b[0m\u001b[0;34m,\u001b[0m \u001b[0mdtype\u001b[0m\u001b[0;34m)\u001b[0m\u001b[0;34m,\u001b[0m \u001b[0mgroup_blocks\u001b[0m \u001b[0;32min\u001b[0m \u001b[0mgrouper\u001b[0m\u001b[0;34m:\u001b[0m\u001b[0;34m\u001b[0m\u001b[0;34m\u001b[0m\u001b[0m\n\u001b[1;32m   1912\u001b[0m         merged_blocks = _merge_blocks(\n\u001b[0;32m-> 1913\u001b[0;31m             \u001b[0mlist\u001b[0m\u001b[0;34m(\u001b[0m\u001b[0mgroup_blocks\u001b[0m\u001b[0;34m)\u001b[0m\u001b[0;34m,\u001b[0m \u001b[0mdtype\u001b[0m\u001b[0;34m=\u001b[0m\u001b[0mdtype\u001b[0m\u001b[0;34m,\u001b[0m \u001b[0m_can_consolidate\u001b[0m\u001b[0;34m=\u001b[0m\u001b[0m_can_consolidate\u001b[0m\u001b[0;34m\u001b[0m\u001b[0;34m\u001b[0m\u001b[0m\n\u001b[0m\u001b[1;32m   1914\u001b[0m         )\n\u001b[1;32m   1915\u001b[0m         \u001b[0mnew_blocks\u001b[0m \u001b[0;34m=\u001b[0m \u001b[0m_extend_blocks\u001b[0m\u001b[0;34m(\u001b[0m\u001b[0mmerged_blocks\u001b[0m\u001b[0;34m,\u001b[0m \u001b[0mnew_blocks\u001b[0m\u001b[0;34m)\u001b[0m\u001b[0;34m\u001b[0m\u001b[0;34m\u001b[0m\u001b[0m\n",
      "\u001b[0;32m~/opt/anaconda3/lib/python3.7/site-packages/pandas/core/internals/blocks.py\u001b[0m in \u001b[0;36m_merge_blocks\u001b[0;34m(blocks, dtype, _can_consolidate)\u001b[0m\n\u001b[1;32m   3318\u001b[0m         \u001b[0;31m# combination of those slices is a slice, too.\u001b[0m\u001b[0;34m\u001b[0m\u001b[0;34m\u001b[0m\u001b[0;34m\u001b[0m\u001b[0m\n\u001b[1;32m   3319\u001b[0m         \u001b[0mnew_mgr_locs\u001b[0m \u001b[0;34m=\u001b[0m \u001b[0mnp\u001b[0m\u001b[0;34m.\u001b[0m\u001b[0mconcatenate\u001b[0m\u001b[0;34m(\u001b[0m\u001b[0;34m[\u001b[0m\u001b[0mb\u001b[0m\u001b[0;34m.\u001b[0m\u001b[0mmgr_locs\u001b[0m\u001b[0;34m.\u001b[0m\u001b[0mas_array\u001b[0m \u001b[0;32mfor\u001b[0m \u001b[0mb\u001b[0m \u001b[0;32min\u001b[0m \u001b[0mblocks\u001b[0m\u001b[0;34m]\u001b[0m\u001b[0;34m)\u001b[0m\u001b[0;34m\u001b[0m\u001b[0;34m\u001b[0m\u001b[0m\n\u001b[0;32m-> 3320\u001b[0;31m         \u001b[0mnew_values\u001b[0m \u001b[0;34m=\u001b[0m \u001b[0mnp\u001b[0m\u001b[0;34m.\u001b[0m\u001b[0mvstack\u001b[0m\u001b[0;34m(\u001b[0m\u001b[0;34m[\u001b[0m\u001b[0mb\u001b[0m\u001b[0;34m.\u001b[0m\u001b[0mvalues\u001b[0m \u001b[0;32mfor\u001b[0m \u001b[0mb\u001b[0m \u001b[0;32min\u001b[0m \u001b[0mblocks\u001b[0m\u001b[0;34m]\u001b[0m\u001b[0;34m)\u001b[0m\u001b[0;34m\u001b[0m\u001b[0;34m\u001b[0m\u001b[0m\n\u001b[0m\u001b[1;32m   3321\u001b[0m \u001b[0;34m\u001b[0m\u001b[0m\n\u001b[1;32m   3322\u001b[0m         \u001b[0margsort\u001b[0m \u001b[0;34m=\u001b[0m \u001b[0mnp\u001b[0m\u001b[0;34m.\u001b[0m\u001b[0margsort\u001b[0m\u001b[0;34m(\u001b[0m\u001b[0mnew_mgr_locs\u001b[0m\u001b[0;34m)\u001b[0m\u001b[0;34m\u001b[0m\u001b[0;34m\u001b[0m\u001b[0m\n",
      "\u001b[0;32m<__array_function__ internals>\u001b[0m in \u001b[0;36mvstack\u001b[0;34m(*args, **kwargs)\u001b[0m\n",
      "\u001b[0;32m~/opt/anaconda3/lib/python3.7/site-packages/numpy/core/shape_base.py\u001b[0m in \u001b[0;36mvstack\u001b[0;34m(tup)\u001b[0m\n\u001b[1;32m    280\u001b[0m     \u001b[0;32mif\u001b[0m \u001b[0;32mnot\u001b[0m \u001b[0misinstance\u001b[0m\u001b[0;34m(\u001b[0m\u001b[0marrs\u001b[0m\u001b[0;34m,\u001b[0m \u001b[0mlist\u001b[0m\u001b[0;34m)\u001b[0m\u001b[0;34m:\u001b[0m\u001b[0;34m\u001b[0m\u001b[0;34m\u001b[0m\u001b[0m\n\u001b[1;32m    281\u001b[0m         \u001b[0marrs\u001b[0m \u001b[0;34m=\u001b[0m \u001b[0;34m[\u001b[0m\u001b[0marrs\u001b[0m\u001b[0;34m]\u001b[0m\u001b[0;34m\u001b[0m\u001b[0;34m\u001b[0m\u001b[0m\n\u001b[0;32m--> 282\u001b[0;31m     \u001b[0;32mreturn\u001b[0m \u001b[0m_nx\u001b[0m\u001b[0;34m.\u001b[0m\u001b[0mconcatenate\u001b[0m\u001b[0;34m(\u001b[0m\u001b[0marrs\u001b[0m\u001b[0;34m,\u001b[0m \u001b[0;36m0\u001b[0m\u001b[0;34m)\u001b[0m\u001b[0;34m\u001b[0m\u001b[0;34m\u001b[0m\u001b[0m\n\u001b[0m\u001b[1;32m    283\u001b[0m \u001b[0;34m\u001b[0m\u001b[0m\n\u001b[1;32m    284\u001b[0m \u001b[0;34m\u001b[0m\u001b[0m\n",
      "\u001b[0;32m<__array_function__ internals>\u001b[0m in \u001b[0;36mconcatenate\u001b[0;34m(*args, **kwargs)\u001b[0m\n",
      "\u001b[0;31mKeyboardInterrupt\u001b[0m: "
     ]
    }
   ],
   "source": [
    "%%time \n",
    "vocab_df_expr = get_vocab_cancer('../data/processed/fig4_modelling/tf_tf_pairs_scc/expr_cancer_pair_filt_unique.csv', cancer_tissues, expr_genesets, \n",
    "                          savepath=os.path.join(save_dir, 'expr_'))\n",
    "\n"
   ]
  },
  {
   "cell_type": "code",
   "execution_count": 161,
   "metadata": {},
   "outputs": [
    {
     "name": "stdout",
     "output_type": "stream",
     "text": [
      "====== STARTING  A431-CTRLi ../data/processed/fig4_modelling/tf_tf_pairs_scc/expr_cancer_pair_filt_unique.csv\n",
      "num vocab found: 15400\n",
      "saving loop type info ../data/processed/fig4_modelling/tf_tf_pairs_scc/expr_A431-CTRLi_loop_type.csv\n",
      "num tf-tf pairs in loop type found loop_loop 10440\n"
     ]
    },
    {
     "name": "stderr",
     "output_type": "stream",
     "text": [
      "/Users/mguo123/opt/anaconda3/lib/python3.7/site-packages/ipykernel_launcher.py:47: SettingWithCopyWarning: \n",
      "A value is trying to be set on a copy of a slice from a DataFrame.\n",
      "Try using .loc[row_indexer,col_indexer] = value instead\n",
      "\n",
      "See the caveats in the documentation: http://pandas.pydata.org/pandas-docs/stable/user_guide/indexing.html#returning-a-view-versus-a-copy\n",
      "\n",
      "KeyboardInterrupt\n",
      "\n"
     ]
    }
   ],
   "source": [
    "%%time\n",
    "vocab_df_expr_loop_loop = get_vocab_cancer('../data/processed/fig4_modelling/tf_tf_pairs_scc/expr_cancer_pair_filt_unique.csv', cancer_tissues, expr_genesets, \n",
    "                                            savepath=os.path.join(save_dir, 'expr_'),\n",
    "                                            type_loop='loop_loop', save_loop_count=os.path.join(save_dir, 'expr_'))\n"
   ]
  },
  {
   "cell_type": "code",
   "execution_count": null,
   "metadata": {},
   "outputs": [],
   "source": []
  }
 ],
 "metadata": {
  "kernelspec": {
   "display_name": "Python 3",
   "language": "python",
   "name": "python3"
  },
  "language_info": {
   "codemirror_mode": {
    "name": "ipython",
    "version": 3
   },
   "file_extension": ".py",
   "mimetype": "text/x-python",
   "name": "python",
   "nbconvert_exporter": "python",
   "pygments_lexer": "ipython3",
   "version": "3.7.4"
  }
 },
 "nbformat": 4,
 "nbformat_minor": 4
}
