{
 "cells": [
  {
   "cell_type": "code",
   "execution_count": 1,
   "metadata": {},
   "outputs": [
    {
     "name": "stderr",
     "output_type": "stream",
     "text": [
      "── \u001b[1mAttaching packages\u001b[22m ─────────────────────────────────────── tidyverse 1.2.1 ──\n",
      "\n",
      "\u001b[32m✔\u001b[39m \u001b[34mggplot2\u001b[39m 3.2.1     \u001b[32m✔\u001b[39m \u001b[34mpurrr  \u001b[39m 0.3.3\n",
      "\u001b[32m✔\u001b[39m \u001b[34mtibble \u001b[39m 2.1.3     \u001b[32m✔\u001b[39m \u001b[34mdplyr  \u001b[39m 0.8.4\n",
      "\u001b[32m✔\u001b[39m \u001b[34mtidyr  \u001b[39m 1.0.0     \u001b[32m✔\u001b[39m \u001b[34mstringr\u001b[39m 1.4.0\n",
      "\u001b[32m✔\u001b[39m \u001b[34mreadr  \u001b[39m 1.3.1     \u001b[32m✔\u001b[39m \u001b[34mforcats\u001b[39m 0.4.0\n",
      "\n",
      "── \u001b[1mConflicts\u001b[22m ────────────────────────────────────────── tidyverse_conflicts() ──\n",
      "\u001b[31m✖\u001b[39m \u001b[34mdplyr\u001b[39m::\u001b[32mfilter()\u001b[39m masks \u001b[34mstats\u001b[39m::filter()\n",
      "\u001b[31m✖\u001b[39m \u001b[34mdplyr\u001b[39m::\u001b[32mlag()\u001b[39m    masks \u001b[34mstats\u001b[39m::lag()\n",
      "\n",
      "Loading required package: viridisLite\n",
      "\n"
     ]
    }
   ],
   "source": [
    "library(tidyverse)\n",
    "library(pheatmap)\n",
    "library(viridis)\n",
    "library(stringr)\n",
    "\n",
    "save_pheatmap_png <- function(x, filename, width=1200, height=1000, res = 200) {\n",
    "  png(filename, width = width, height = height, res = res)\n",
    "  grid::grid.newpage()\n",
    "  grid::grid.draw(x$gtable)\n",
    "  dev.off()\n",
    "}\n",
    "\n",
    "save_pheatmap_pdf <- function(x, filename, width=7, height=7) {\n",
    "   stopifnot(!missing(x))\n",
    "   stopifnot(!missing(filename))\n",
    "   pdf(filename, width=width, height=height)\n",
    "   grid::grid.newpage()\n",
    "   grid::grid.draw(x$gtable)\n",
    "   dev.off()\n",
    "}"
   ]
  },
  {
   "cell_type": "code",
   "execution_count": 2,
   "metadata": {},
   "outputs": [],
   "source": [
    "save_dir = '../data/processed/fig4_modelling/vocab_sum_final_post_scan/'\n"
   ]
  },
  {
   "cell_type": "markdown",
   "metadata": {},
   "source": [
    "# 4. add MPRA adaptors and barcodes\n",
    "\n",
    "import in `../data/processed/fig4_modelling/vocab_sum_final_post_scan/mpra_lib_seq.csv`\n",
    "\n",
    "\n",
    "note that the rs sites chosen from section 4B (8E1.ipynb) are: `[RS_ECORI ,RS_BAMHI , RS_XHOI , RS_NHEI]`\n",
    "also import over constants\n",
    "\n",
    "output is `../data/processed/fig4_modelling/vocab_sum_final_post_scan/mpra_oligo_df_filt.csv`"
   ]
  },
  {
   "cell_type": "markdown",
   "metadata": {},
   "source": [
    "## 4A define constants and helper functions"
   ]
  },
  {
   "cell_type": "code",
   "execution_count": 27,
   "metadata": {},
   "outputs": [],
   "source": [
    "\n",
    "# define constants\n",
    "LEN_FILLER = 20\n",
    "NUM_OLIGO_PER_MOTIF = 10\n",
    "DESIRED_OLIGO_LENGTH = 135\n",
    "MAX_OLIGO_LENGTH = 230\n",
    "MAX_MOTIF_LENGTH = 63\n",
    "FORWARD_PCR_PRIMER = 'ACTGGCCGCTTCACTG'\n",
    "REVERSE_PCR_PRIMER = 'AGATCGGAAGAGCGTCG'\n",
    "# LINKER_SPACER_v10 = 'CAGTATGCGATGCTCATGATTGTGACTGAAAGTCTATGAGTCCATTGA'\n",
    "RS_ECORI = 'GAATTC' # 5'-3'\n",
    "RS_BAMHI = 'GGATCC'\n",
    "RS_XHOI = 'CTCGAG'\n",
    "RS_NHEI = 'GCTAGC'\n",
    "\n",
    "RS_LIST = c(RS_ECORI ,RS_BAMHI , RS_XHOI , RS_NHEI)\n",
    "RS_LIST = paste(RS_LIST, collapse='|')\n",
    "\n",
    "\n",
    "LETTERS=c('A', 'C', 'G', 'T')"
   ]
  },
  {
   "cell_type": "code",
   "execution_count": 28,
   "metadata": {},
   "outputs": [],
   "source": [
    "# FUNCTIONS\n",
    "gen_random_seq <- function (n=10, letters=LETTERS){\n",
    "  # return(do.call(paste0, replicate(5, sample(letters, n, TRUE), FALSE)))\n",
    "return(paste(sample(letters, n, TRUE),collapse =''))\n",
    "}\n",
    "\n",
    "gen_random_seq_restrict <- function(n=10, letters=LETTERS, rs_list = RS_LIST, max_iter = 100){\n",
    "  counter = 0\n",
    "  while (counter < max_iter){\n",
    "    test = gen_random_seq (n, letters)\n",
    "    if (!any(str_detect(test, rs_list))){\n",
    "      return(test)\n",
    "    }\n",
    "    counter = counter + 1\n",
    "    # print(c('failed',counter))\n",
    "  }\n",
    "}\n",
    "\n",
    "read_fasta = function(filepath) {\n",
    "  df = data.table( name = character(), motif = character())\n",
    "  # print(df)\n",
    "  con = file(filepath, \"r\")\n",
    "  while ( TRUE ) {\n",
    "    line = readLines(con, n = 1)\n",
    "    line = str_replace_all(line, \"[\\r\\n]\" , \"\")\n",
    "    if ( length(line) == 0 ) {\n",
    "      break\n",
    "    } \n",
    "    if ( str_detect(line, \"^>\") ) {\n",
    "      n = str_split(line, \"> \")[[1]][2]\n",
    "    }\n",
    "    else{\n",
    "      m = line\n",
    "      # print(c(n,m))\n",
    "      df<-df %>%\n",
    "        add_row(name=n,motif=m)\n",
    "    }\n",
    "    \n",
    "  }\n",
    "\n",
    "  close(con)\n",
    "  return(df)\n",
    "}\n"
   ]
  },
  {
   "cell_type": "markdown",
   "metadata": {},
   "source": [
    "## 4B load barcodes"
   ]
  },
  {
   "cell_type": "code",
   "execution_count": 29,
   "metadata": {},
   "outputs": [
    {
     "name": "stdout",
     "output_type": "stream",
     "text": [
      "'data.frame':\t399427 obs. of  1 variable:\n",
      " $ barcode: chr  \"CTTAAGGCTTAGAAGAGTAT\" \"AAGATGGCTTAGAAGAGTAT\" \"GTATAGGCTTAGAAGAGTAT\" \"GATACGGCTTAGAAGAGTAT\" ...\n"
     ]
    }
   ],
   "source": [
    "# load files\n",
    "barcode_file = read.table('../data/external/barcodes_list_new.txt', header=FALSE)\n",
    "# check barcodes for restriction sites within barcode and \n",
    "barcode_file_checked <- barcode_file %>%\n",
    "    mutate(pass_restrict = !str_detect(as.character(V1), RS_LIST)) %>%\n",
    "    filter(pass_restrict==TRUE) %>%\n",
    "    mutate(barcode = as.character(V1))\n",
    "\n",
    "# barcode_file_checked <- check_seq(barcode_file, \"xbai_on\")\n",
    "barcode_file_checked <- filter(barcode_file_checked,pass_restrict==TRUE )\n",
    "barcode_df <-  select(barcode_file_checked,barcode)\n",
    "\n",
    "# shuffle barcodes\n",
    "str(barcode_df)\n",
    "barcode_df_shuf <- slice(barcode_df, sample(1:n()))"
   ]
  },
  {
   "cell_type": "markdown",
   "metadata": {},
   "source": [
    "## 4C load sequences, \n",
    "check the edge cases and change the edges if it's bad"
   ]
  },
  {
   "cell_type": "markdown",
   "metadata": {},
   "source": [
    "### pre edge manipulation"
   ]
  },
  {
   "cell_type": "code",
   "execution_count": 58,
   "metadata": {},
   "outputs": [
    {
     "data": {
      "text/html": [
       "<ol class=list-inline>\n",
       "\t<li>9721</li>\n",
       "\t<li>7</li>\n",
       "</ol>\n"
      ],
      "text/latex": [
       "\\begin{enumerate*}\n",
       "\\item 9721\n",
       "\\item 7\n",
       "\\end{enumerate*}\n"
      ],
      "text/markdown": [
       "1. 9721\n",
       "2. 7\n",
       "\n",
       "\n"
      ],
      "text/plain": [
       "[1] 9721    7"
      ]
     },
     "metadata": {},
     "output_type": "display_data"
    },
    {
     "data": {
      "text/html": [
       "<table>\n",
       "<caption>A data.frame: 6 × 7</caption>\n",
       "<thead>\n",
       "\t<tr><th></th><th scope=col>X</th><th scope=col>chr</th><th scope=col>name</th><th scope=col>seq</th><th scope=col>seq_type</th><th scope=col>start</th><th scope=col>stop</th></tr>\n",
       "\t<tr><th></th><th scope=col>&lt;int&gt;</th><th scope=col>&lt;chr&gt;</th><th scope=col>&lt;chr&gt;</th><th scope=col>&lt;chr&gt;</th><th scope=col>&lt;chr&gt;</th><th scope=col>&lt;int&gt;</th><th scope=col>&lt;int&gt;</th></tr>\n",
       "</thead>\n",
       "<tbody>\n",
       "\t<tr><th scope=row>1</th><td>0</td><td>chr14</td><td>ARID5B::KLF5+GDSD6+8+A_B </td><td>ACTCCCAAAACTTCCTAACAGAAGAGCGGTTGAAGGCAAGTGAGCTGCAAATAGCAATCTCTGCCTCTCCCCAAATAAATCCTCCCAAGGCTCACACTCAAGATTTGTGAAAGTTCCAACTCCTCCGGCGGGTGA</td><td>vocab</td><td> 69253380</td><td> 69253514</td></tr>\n",
       "\t<tr><th scope=row>2</th><td>1</td><td>chr6 </td><td>ARID5B::KLF5+GDSD6+5+A_B </td><td>CAGGTGGCCTTGATCCAGGCAAAATCTGGTTAAGATTCGGTTCACCAGAGAAACAGAACCAATAGGGGGTGTGTGTGTGTGTGTGTGTGTGTGTGTGTGTGTGTGTAGATGAGAGATTCGTTTTAAGGAATTGGC</td><td>vocab</td><td> 13477381</td><td> 13477515</td></tr>\n",
       "\t<tr><th scope=row>3</th><td>2</td><td>chr6 </td><td>ARID5B::KLF5+GDSD6+6+A_B </td><td>CAGGTGGCCTTGATCCAGGCAAAATCTGAGTGGTAGTTCATTCACCAGAGAAACAGAACCAATAGGGGGTGTGTGTGTGTGTGTGTGTGTGTGTGTGTGTGTGTGTAGATGAGAGATTCGTTTTAAGGAATTGGC</td><td>vocab</td><td> 13477381</td><td> 13477515</td></tr>\n",
       "\t<tr><th scope=row>4</th><td>3</td><td>chr17</td><td>ARID5B::KLF5+GDSD6+10+A_B</td><td>GACGGCGGCGACGCGCGGGCGGATTCAGCGGAGCGATCCACGAATTTGCGCCACTTCCCTATTCACCAACCCCGCCCCCGACTATCGGGGACTGCCCCCCCCGCTAAGATACGCCACTACCTCAGCGGCGCTAAC</td><td>vocab</td><td>  7145720</td><td>  7145854</td></tr>\n",
       "\t<tr><th scope=row>5</th><td>4</td><td>chr19</td><td>ARID5B::KLF5+GDSD6+7+A_B </td><td>TCTTCCCCTCCACGCTGCGGGCTATGGGTACGCAGGGTATGCGTTTAATGAGTTGAATGATGCCCCACCCTAAAATATATGTCCACATTCCAGAACTGTGAATGTGACTTGACTTGGAGTAAGTGTCTTCAAAGA</td><td>vocab</td><td> 14616931</td><td> 14617065</td></tr>\n",
       "\t<tr><th scope=row>6</th><td>5</td><td>chr1 </td><td>ARID5B::KLF5+GDSD6+2+A_B </td><td>CGGAGCTTTCTGTCCCTGCTGTAGCAGGACTGCAACCCCAGACAGTATGGAAGGGAATGGGCGTGGCTCTGTTCCAATACTTCATTTATGGACGCTGAAGTTTGATTTCCACATAATTTTCACATGTCAGAAAGT</td><td>vocab</td><td>152008405</td><td>152008539</td></tr>\n",
       "</tbody>\n",
       "</table>\n"
      ],
      "text/latex": [
       "A data.frame: 6 × 7\n",
       "\\begin{tabular}{r|lllllll}\n",
       "  & X & chr & name & seq & seq\\_type & start & stop\\\\\n",
       "  & <int> & <chr> & <chr> & <chr> & <chr> & <int> & <int>\\\\\n",
       "\\hline\n",
       "\t1 & 0 & chr14 & ARID5B::KLF5+GDSD6+8+A\\_B  & ACTCCCAAAACTTCCTAACAGAAGAGCGGTTGAAGGCAAGTGAGCTGCAAATAGCAATCTCTGCCTCTCCCCAAATAAATCCTCCCAAGGCTCACACTCAAGATTTGTGAAAGTTCCAACTCCTCCGGCGGGTGA & vocab &  69253380 &  69253514\\\\\n",
       "\t2 & 1 & chr6  & ARID5B::KLF5+GDSD6+5+A\\_B  & CAGGTGGCCTTGATCCAGGCAAAATCTGGTTAAGATTCGGTTCACCAGAGAAACAGAACCAATAGGGGGTGTGTGTGTGTGTGTGTGTGTGTGTGTGTGTGTGTGTAGATGAGAGATTCGTTTTAAGGAATTGGC & vocab &  13477381 &  13477515\\\\\n",
       "\t3 & 2 & chr6  & ARID5B::KLF5+GDSD6+6+A\\_B  & CAGGTGGCCTTGATCCAGGCAAAATCTGAGTGGTAGTTCATTCACCAGAGAAACAGAACCAATAGGGGGTGTGTGTGTGTGTGTGTGTGTGTGTGTGTGTGTGTGTAGATGAGAGATTCGTTTTAAGGAATTGGC & vocab &  13477381 &  13477515\\\\\n",
       "\t4 & 3 & chr17 & ARID5B::KLF5+GDSD6+10+A\\_B & GACGGCGGCGACGCGCGGGCGGATTCAGCGGAGCGATCCACGAATTTGCGCCACTTCCCTATTCACCAACCCCGCCCCCGACTATCGGGGACTGCCCCCCCCGCTAAGATACGCCACTACCTCAGCGGCGCTAAC & vocab &   7145720 &   7145854\\\\\n",
       "\t5 & 4 & chr19 & ARID5B::KLF5+GDSD6+7+A\\_B  & TCTTCCCCTCCACGCTGCGGGCTATGGGTACGCAGGGTATGCGTTTAATGAGTTGAATGATGCCCCACCCTAAAATATATGTCCACATTCCAGAACTGTGAATGTGACTTGACTTGGAGTAAGTGTCTTCAAAGA & vocab &  14616931 &  14617065\\\\\n",
       "\t6 & 5 & chr1  & ARID5B::KLF5+GDSD6+2+A\\_B  & CGGAGCTTTCTGTCCCTGCTGTAGCAGGACTGCAACCCCAGACAGTATGGAAGGGAATGGGCGTGGCTCTGTTCCAATACTTCATTTATGGACGCTGAAGTTTGATTTCCACATAATTTTCACATGTCAGAAAGT & vocab & 152008405 & 152008539\\\\\n",
       "\\end{tabular}\n"
      ],
      "text/markdown": [
       "\n",
       "A data.frame: 6 × 7\n",
       "\n",
       "| <!--/--> | X &lt;int&gt; | chr &lt;chr&gt; | name &lt;chr&gt; | seq &lt;chr&gt; | seq_type &lt;chr&gt; | start &lt;int&gt; | stop &lt;int&gt; |\n",
       "|---|---|---|---|---|---|---|---|\n",
       "| 1 | 0 | chr14 | ARID5B::KLF5+GDSD6+8+A_B  | ACTCCCAAAACTTCCTAACAGAAGAGCGGTTGAAGGCAAGTGAGCTGCAAATAGCAATCTCTGCCTCTCCCCAAATAAATCCTCCCAAGGCTCACACTCAAGATTTGTGAAAGTTCCAACTCCTCCGGCGGGTGA | vocab |  69253380 |  69253514 |\n",
       "| 2 | 1 | chr6  | ARID5B::KLF5+GDSD6+5+A_B  | CAGGTGGCCTTGATCCAGGCAAAATCTGGTTAAGATTCGGTTCACCAGAGAAACAGAACCAATAGGGGGTGTGTGTGTGTGTGTGTGTGTGTGTGTGTGTGTGTGTAGATGAGAGATTCGTTTTAAGGAATTGGC | vocab |  13477381 |  13477515 |\n",
       "| 3 | 2 | chr6  | ARID5B::KLF5+GDSD6+6+A_B  | CAGGTGGCCTTGATCCAGGCAAAATCTGAGTGGTAGTTCATTCACCAGAGAAACAGAACCAATAGGGGGTGTGTGTGTGTGTGTGTGTGTGTGTGTGTGTGTGTGTAGATGAGAGATTCGTTTTAAGGAATTGGC | vocab |  13477381 |  13477515 |\n",
       "| 4 | 3 | chr17 | ARID5B::KLF5+GDSD6+10+A_B | GACGGCGGCGACGCGCGGGCGGATTCAGCGGAGCGATCCACGAATTTGCGCCACTTCCCTATTCACCAACCCCGCCCCCGACTATCGGGGACTGCCCCCCCCGCTAAGATACGCCACTACCTCAGCGGCGCTAAC | vocab |   7145720 |   7145854 |\n",
       "| 5 | 4 | chr19 | ARID5B::KLF5+GDSD6+7+A_B  | TCTTCCCCTCCACGCTGCGGGCTATGGGTACGCAGGGTATGCGTTTAATGAGTTGAATGATGCCCCACCCTAAAATATATGTCCACATTCCAGAACTGTGAATGTGACTTGACTTGGAGTAAGTGTCTTCAAAGA | vocab |  14616931 |  14617065 |\n",
       "| 6 | 5 | chr1  | ARID5B::KLF5+GDSD6+2+A_B  | CGGAGCTTTCTGTCCCTGCTGTAGCAGGACTGCAACCCCAGACAGTATGGAAGGGAATGGGCGTGGCTCTGTTCCAATACTTCATTTATGGACGCTGAAGTTTGATTTCCACATAATTTTCACATGTCAGAAAGT | vocab | 152008405 | 152008539 |\n",
       "\n"
      ],
      "text/plain": [
       "  X chr   name                     \n",
       "1 0 chr14 ARID5B::KLF5+GDSD6+8+A_B \n",
       "2 1 chr6  ARID5B::KLF5+GDSD6+5+A_B \n",
       "3 2 chr6  ARID5B::KLF5+GDSD6+6+A_B \n",
       "4 3 chr17 ARID5B::KLF5+GDSD6+10+A_B\n",
       "5 4 chr19 ARID5B::KLF5+GDSD6+7+A_B \n",
       "6 5 chr1  ARID5B::KLF5+GDSD6+2+A_B \n",
       "  seq                                                                                                                                    \n",
       "1 ACTCCCAAAACTTCCTAACAGAAGAGCGGTTGAAGGCAAGTGAGCTGCAAATAGCAATCTCTGCCTCTCCCCAAATAAATCCTCCCAAGGCTCACACTCAAGATTTGTGAAAGTTCCAACTCCTCCGGCGGGTGA\n",
       "2 CAGGTGGCCTTGATCCAGGCAAAATCTGGTTAAGATTCGGTTCACCAGAGAAACAGAACCAATAGGGGGTGTGTGTGTGTGTGTGTGTGTGTGTGTGTGTGTGTGTAGATGAGAGATTCGTTTTAAGGAATTGGC\n",
       "3 CAGGTGGCCTTGATCCAGGCAAAATCTGAGTGGTAGTTCATTCACCAGAGAAACAGAACCAATAGGGGGTGTGTGTGTGTGTGTGTGTGTGTGTGTGTGTGTGTGTAGATGAGAGATTCGTTTTAAGGAATTGGC\n",
       "4 GACGGCGGCGACGCGCGGGCGGATTCAGCGGAGCGATCCACGAATTTGCGCCACTTCCCTATTCACCAACCCCGCCCCCGACTATCGGGGACTGCCCCCCCCGCTAAGATACGCCACTACCTCAGCGGCGCTAAC\n",
       "5 TCTTCCCCTCCACGCTGCGGGCTATGGGTACGCAGGGTATGCGTTTAATGAGTTGAATGATGCCCCACCCTAAAATATATGTCCACATTCCAGAACTGTGAATGTGACTTGACTTGGAGTAAGTGTCTTCAAAGA\n",
       "6 CGGAGCTTTCTGTCCCTGCTGTAGCAGGACTGCAACCCCAGACAGTATGGAAGGGAATGGGCGTGGCTCTGTTCCAATACTTCATTTATGGACGCTGAAGTTTGATTTCCACATAATTTTCACATGTCAGAAAGT\n",
       "  seq_type start     stop     \n",
       "1 vocab     69253380  69253514\n",
       "2 vocab     13477381  13477515\n",
       "3 vocab     13477381  13477515\n",
       "4 vocab      7145720   7145854\n",
       "5 vocab     14616931  14617065\n",
       "6 vocab    152008405 152008539"
      ]
     },
     "metadata": {},
     "output_type": "display_data"
    }
   ],
   "source": [
    "mpra_lib_seq = read.csv(paste0(save_dir, 'mpra_lib_seq.csv'),stringsAsFactors=F)\n",
    "dim(mpra_lib_seq)\n",
    "head(mpra_lib_seq)"
   ]
  },
  {
   "cell_type": "code",
   "execution_count": 59,
   "metadata": {},
   "outputs": [
    {
     "data": {
      "text/html": [
       "<ol class=list-inline>\n",
       "\t<li>9721</li>\n",
       "\t<li>10</li>\n",
       "</ol>\n"
      ],
      "text/latex": [
       "\\begin{enumerate*}\n",
       "\\item 9721\n",
       "\\item 10\n",
       "\\end{enumerate*}\n"
      ],
      "text/markdown": [
       "1. 9721\n",
       "2. 10\n",
       "\n",
       "\n"
      ],
      "text/plain": [
       "[1] 9721   10"
      ]
     },
     "metadata": {},
     "output_type": "display_data"
    },
    {
     "data": {
      "text/html": [
       "<ol class=list-inline>\n",
       "\t<li>9721</li>\n",
       "\t<li>1</li>\n",
       "</ol>\n"
      ],
      "text/latex": [
       "\\begin{enumerate*}\n",
       "\\item 9721\n",
       "\\item 1\n",
       "\\end{enumerate*}\n"
      ],
      "text/markdown": [
       "1. 9721\n",
       "2. 1\n",
       "\n",
       "\n"
      ],
      "text/plain": [
       "[1] 9721    1"
      ]
     },
     "metadata": {},
     "output_type": "display_data"
    },
    {
     "data": {
      "text/html": [
       "<ol class=list-inline>\n",
       "\t<li>9721</li>\n",
       "\t<li>1</li>\n",
       "</ol>\n"
      ],
      "text/latex": [
       "\\begin{enumerate*}\n",
       "\\item 9721\n",
       "\\item 1\n",
       "\\end{enumerate*}\n"
      ],
      "text/markdown": [
       "1. 9721\n",
       "2. 1\n",
       "\n",
       "\n"
      ],
      "text/plain": [
       "[1] 9721    1"
      ]
     },
     "metadata": {},
     "output_type": "display_data"
    },
    {
     "data": {
      "text/html": [
       "<ol class=list-inline>\n",
       "\t<li>9707</li>\n",
       "\t<li>1</li>\n",
       "</ol>\n"
      ],
      "text/latex": [
       "\\begin{enumerate*}\n",
       "\\item 9707\n",
       "\\item 1\n",
       "\\end{enumerate*}\n"
      ],
      "text/markdown": [
       "1. 9707\n",
       "2. 1\n",
       "\n",
       "\n"
      ],
      "text/plain": [
       "[1] 9707    1"
      ]
     },
     "metadata": {},
     "output_type": "display_data"
    },
    {
     "data": {
      "text/html": [
       "<ol class=list-inline>\n",
       "\t<li>9697</li>\n",
       "\t<li>1</li>\n",
       "</ol>\n"
      ],
      "text/latex": [
       "\\begin{enumerate*}\n",
       "\\item 9697\n",
       "\\item 1\n",
       "\\end{enumerate*}\n"
      ],
      "text/markdown": [
       "1. 9697\n",
       "2. 1\n",
       "\n",
       "\n"
      ],
      "text/plain": [
       "[1] 9697    1"
      ]
     },
     "metadata": {},
     "output_type": "display_data"
    }
   ],
   "source": [
    "# check sequences for edge cases that go bad with addition of adaptors/rs sites\n",
    "mpra_lib_seq  = mpra_lib_seq%>%\n",
    "    mutate(pass_restrict_seq = !str_detect(seq, RS_LIST)) %>%\n",
    "    mutate(pass_restrict_fwd_seq = !str_detect(str_c(FORWARD_PCR_PRIMER,seq), RS_LIST))%>%\n",
    "    mutate(pass_restrict_seq_xho = !str_detect(str_c(seq,str_sub(RS_XHOI,1,-2)), RS_LIST))\n",
    "# sequences\n",
    "dim(mpra_lib_seq)\n",
    "dim(distinct(select(mpra_lib_seq,name)))\n",
    "# seq that aren't solvable\n",
    "dim(distinct(select(filter(mpra_lib_seq, pass_restrict_seq==TRUE),name)))\n",
    "# seq that aren't solvable b/c of adaptor and Xho addition (the ends of the seq)\n",
    "dim(distinct(select(filter(mpra_lib_seq, pass_restrict_fwd_seq==TRUE),name)))\n",
    "dim(distinct(select(filter(mpra_lib_seq, pass_restrict_seq_xho==TRUE),name)))\n",
    "\n",
    "\n",
    "# filter(mpra_lib_seq, pass_restrict_fwd_seq==FALSE)\n",
    "# filter(mpra_lib_seq, pass_restrict_seq_xho==FALSE)"
   ]
  },
  {
   "cell_type": "code",
   "execution_count": 60,
   "metadata": {},
   "outputs": [
    {
     "data": {
      "text/html": [
       "<ol class=list-inline>\n",
       "\t<li>135</li>\n",
       "\t<li>136</li>\n",
       "</ol>\n"
      ],
      "text/latex": [
       "\\begin{enumerate*}\n",
       "\\item 135\n",
       "\\item 136\n",
       "\\end{enumerate*}\n"
      ],
      "text/markdown": [
       "1. 135\n",
       "2. 136\n",
       "\n",
       "\n"
      ],
      "text/plain": [
       "[1] 135 136"
      ]
     },
     "metadata": {},
     "output_type": "display_data"
    }
   ],
   "source": [
    "unique(nchar(mpra_lib_seq$seq))"
   ]
  },
  {
   "cell_type": "code",
   "execution_count": 61,
   "metadata": {},
   "outputs": [],
   "source": [
    "# ## testing\n",
    "# seq = 'AATTCTGATGAATGCATAAGTTAAACATTCAAGCTGGAGAAACTGGTGCCTGAGTACAAGGCCTGGAATGTGAAAACAAATACATTAAGACCTCGCCTGGACTTTCTCAGACCCTAACATCTGATCGAAGGCATT'\n",
    "# seq\n",
    "# paste0('CA',str_sub(seq, 3,-1))\n",
    "# paste0(str_sub(seq, 1,-2),'C')"
   ]
  },
  {
   "cell_type": "markdown",
   "metadata": {},
   "source": [
    "### post edge manipulation\n",
    "\n",
    "- for things that miss the fwd_seq filter, change the first two letters to CA\n",
    "- for things that miss the seq_xho filter, change the last letters to T \n",
    "\n",
    "keep modifying until something works"
   ]
  },
  {
   "cell_type": "code",
   "execution_count": 62,
   "metadata": {},
   "outputs": [],
   "source": [
    "\n",
    "mpra_lib_seq = mpra_lib_seq%>%\n",
    "    mutate(seq = if_else(pass_restrict_fwd_seq==TRUE, seq, paste0('CA',str_sub(seq, 3,-1))))%>%\n",
    "    mutate(seq = if_else(pass_restrict_seq_xho==TRUE, seq, paste0(str_sub(seq, 1,-2),'C')))\n"
   ]
  },
  {
   "cell_type": "code",
   "execution_count": 63,
   "metadata": {},
   "outputs": [
    {
     "data": {
      "text/html": [
       "<ol class=list-inline>\n",
       "\t<li>9721</li>\n",
       "\t<li>10</li>\n",
       "</ol>\n"
      ],
      "text/latex": [
       "\\begin{enumerate*}\n",
       "\\item 9721\n",
       "\\item 10\n",
       "\\end{enumerate*}\n"
      ],
      "text/markdown": [
       "1. 9721\n",
       "2. 10\n",
       "\n",
       "\n"
      ],
      "text/plain": [
       "[1] 9721   10"
      ]
     },
     "metadata": {},
     "output_type": "display_data"
    },
    {
     "data": {
      "text/html": [
       "<ol class=list-inline>\n",
       "\t<li>9721</li>\n",
       "\t<li>1</li>\n",
       "</ol>\n"
      ],
      "text/latex": [
       "\\begin{enumerate*}\n",
       "\\item 9721\n",
       "\\item 1\n",
       "\\end{enumerate*}\n"
      ],
      "text/markdown": [
       "1. 9721\n",
       "2. 1\n",
       "\n",
       "\n"
      ],
      "text/plain": [
       "[1] 9721    1"
      ]
     },
     "metadata": {},
     "output_type": "display_data"
    },
    {
     "data": {
      "text/html": [
       "<ol class=list-inline>\n",
       "\t<li>9721</li>\n",
       "\t<li>1</li>\n",
       "</ol>\n"
      ],
      "text/latex": [
       "\\begin{enumerate*}\n",
       "\\item 9721\n",
       "\\item 1\n",
       "\\end{enumerate*}\n"
      ],
      "text/markdown": [
       "1. 9721\n",
       "2. 1\n",
       "\n",
       "\n"
      ],
      "text/plain": [
       "[1] 9721    1"
      ]
     },
     "metadata": {},
     "output_type": "display_data"
    },
    {
     "data": {
      "text/html": [
       "<ol class=list-inline>\n",
       "\t<li>9721</li>\n",
       "\t<li>1</li>\n",
       "</ol>\n"
      ],
      "text/latex": [
       "\\begin{enumerate*}\n",
       "\\item 9721\n",
       "\\item 1\n",
       "\\end{enumerate*}\n"
      ],
      "text/markdown": [
       "1. 9721\n",
       "2. 1\n",
       "\n",
       "\n"
      ],
      "text/plain": [
       "[1] 9721    1"
      ]
     },
     "metadata": {},
     "output_type": "display_data"
    },
    {
     "data": {
      "text/html": [
       "<ol class=list-inline>\n",
       "\t<li>9721</li>\n",
       "\t<li>1</li>\n",
       "</ol>\n"
      ],
      "text/latex": [
       "\\begin{enumerate*}\n",
       "\\item 9721\n",
       "\\item 1\n",
       "\\end{enumerate*}\n"
      ],
      "text/markdown": [
       "1. 9721\n",
       "2. 1\n",
       "\n",
       "\n"
      ],
      "text/plain": [
       "[1] 9721    1"
      ]
     },
     "metadata": {},
     "output_type": "display_data"
    }
   ],
   "source": [
    "# check sequences for edge cases that go bad with addition of adaptors/rs sites\n",
    "mpra_lib_seq  = mpra_lib_seq%>%\n",
    "    mutate(pass_restrict_seq = !str_detect(seq, RS_LIST)) %>%\n",
    "    mutate(pass_restrict_fwd_seq = !str_detect(str_c(FORWARD_PCR_PRIMER,seq), RS_LIST))%>%\n",
    "    mutate(pass_restrict_seq_xho = !str_detect(str_c(seq,str_sub(RS_XHOI,1,-2)), RS_LIST))\n",
    "# sequences\n",
    "dim(mpra_lib_seq)\n",
    "dim(distinct(select(mpra_lib_seq,name)))\n",
    "# seq that aren't solvable\n",
    "dim(distinct(select(filter(mpra_lib_seq, pass_restrict_seq==TRUE),name)))\n",
    "# seq that aren't solvable b/c of adaptor and Xho addition (the ends of the seq)\n",
    "dim(distinct(select(filter(mpra_lib_seq, pass_restrict_fwd_seq==TRUE),name)))\n",
    "dim(distinct(select(filter(mpra_lib_seq, pass_restrict_seq_xho==TRUE),name)))\n",
    "\n"
   ]
  },
  {
   "cell_type": "markdown",
   "metadata": {},
   "source": [
    "## 6D make lib --> oligo (20x for barcode adding)"
   ]
  },
  {
   "cell_type": "code",
   "execution_count": 64,
   "metadata": {},
   "outputs": [],
   "source": [
    "# making oligo sequences (try 20 first)\n",
    "oligo_df <- mpra_lib_seq %>%\n",
    "   group_by(name,seq, seq_type) %>% \n",
    "     expand(count = seq(1:as.numeric(NUM_OLIGO_PER_MOTIF*2))) %>% \n",
    "   ungroup()"
   ]
  },
  {
   "cell_type": "code",
   "execution_count": 65,
   "metadata": {},
   "outputs": [],
   "source": [
    "# check if adding the FWD PRIMER +/- the \n",
    "oligo_df <- oligo_df %>%\n",
    "  mutate(id = str_c(name,count, sep='.')) %>%\n",
    "  mutate(pass_restrict_seq = !str_detect(seq, RS_LIST)) %>%\n",
    "  mutate(pass_restrict_fwd_seq = !str_detect(str_c(FORWARD_PCR_PRIMER,seq), RS_LIST))%>%\n",
    "  mutate(pass_restrict_seq_xho = !str_detect(str_c(seq,str_sub(RS_XHOI,1,-2)), RS_LIST))\n"
   ]
  },
  {
   "cell_type": "code",
   "execution_count": 66,
   "metadata": {},
   "outputs": [
    {
     "data": {
      "text/html": [
       "<ol class=list-inline>\n",
       "\t<li>194420</li>\n",
       "\t<li>8</li>\n",
       "</ol>\n"
      ],
      "text/latex": [
       "\\begin{enumerate*}\n",
       "\\item 194420\n",
       "\\item 8\n",
       "\\end{enumerate*}\n"
      ],
      "text/markdown": [
       "1. 194420\n",
       "2. 8\n",
       "\n",
       "\n"
      ],
      "text/plain": [
       "[1] 194420      8"
      ]
     },
     "metadata": {},
     "output_type": "display_data"
    },
    {
     "data": {
      "text/html": [
       "<ol class=list-inline>\n",
       "\t<li>9721</li>\n",
       "\t<li>1</li>\n",
       "</ol>\n"
      ],
      "text/latex": [
       "\\begin{enumerate*}\n",
       "\\item 9721\n",
       "\\item 1\n",
       "\\end{enumerate*}\n"
      ],
      "text/markdown": [
       "1. 9721\n",
       "2. 1\n",
       "\n",
       "\n"
      ],
      "text/plain": [
       "[1] 9721    1"
      ]
     },
     "metadata": {},
     "output_type": "display_data"
    },
    {
     "data": {
      "text/html": [
       "<ol class=list-inline>\n",
       "\t<li>9721</li>\n",
       "\t<li>1</li>\n",
       "</ol>\n"
      ],
      "text/latex": [
       "\\begin{enumerate*}\n",
       "\\item 9721\n",
       "\\item 1\n",
       "\\end{enumerate*}\n"
      ],
      "text/markdown": [
       "1. 9721\n",
       "2. 1\n",
       "\n",
       "\n"
      ],
      "text/plain": [
       "[1] 9721    1"
      ]
     },
     "metadata": {},
     "output_type": "display_data"
    },
    {
     "data": {
      "text/html": [
       "<ol class=list-inline>\n",
       "\t<li>9721</li>\n",
       "\t<li>1</li>\n",
       "</ol>\n"
      ],
      "text/latex": [
       "\\begin{enumerate*}\n",
       "\\item 9721\n",
       "\\item 1\n",
       "\\end{enumerate*}\n"
      ],
      "text/markdown": [
       "1. 9721\n",
       "2. 1\n",
       "\n",
       "\n"
      ],
      "text/plain": [
       "[1] 9721    1"
      ]
     },
     "metadata": {},
     "output_type": "display_data"
    },
    {
     "data": {
      "text/html": [
       "<ol class=list-inline>\n",
       "\t<li>9721</li>\n",
       "\t<li>1</li>\n",
       "</ol>\n"
      ],
      "text/latex": [
       "\\begin{enumerate*}\n",
       "\\item 9721\n",
       "\\item 1\n",
       "\\end{enumerate*}\n"
      ],
      "text/markdown": [
       "1. 9721\n",
       "2. 1\n",
       "\n",
       "\n"
      ],
      "text/plain": [
       "[1] 9721    1"
      ]
     },
     "metadata": {},
     "output_type": "display_data"
    }
   ],
   "source": [
    "# sequences\n",
    "dim(oligo_df)\n",
    "dim(distinct(select(oligo_df,name)))\n",
    "# seq that aren't solvable\n",
    "dim(distinct(select(filter(oligo_df, pass_restrict_seq==TRUE),name)))\n",
    "# seq that aren't solvable b/c of adaptor and Xho addition (the ends of the seq)\n",
    "dim(distinct(select(filter(oligo_df, pass_restrict_fwd_seq==TRUE),name)))\n",
    "dim(distinct(select(filter(oligo_df, pass_restrict_seq_xho==TRUE),name)))\n"
   ]
  },
  {
   "cell_type": "code",
   "execution_count": 67,
   "metadata": {},
   "outputs": [
    {
     "data": {
      "text/html": [
       "<ol class=list-inline>\n",
       "\t<li>136</li>\n",
       "\t<li>135</li>\n",
       "</ol>\n"
      ],
      "text/latex": [
       "\\begin{enumerate*}\n",
       "\\item 136\n",
       "\\item 135\n",
       "\\end{enumerate*}\n"
      ],
      "text/markdown": [
       "1. 136\n",
       "2. 135\n",
       "\n",
       "\n"
      ],
      "text/plain": [
       "[1] 136 135"
      ]
     },
     "metadata": {},
     "output_type": "display_data"
    }
   ],
   "source": [
    "unique(nchar(oligo_df$seq))"
   ]
  },
  {
   "cell_type": "markdown",
   "metadata": {},
   "source": [
    "as seen from the above edge manipulation section, all sequences are good"
   ]
  },
  {
   "cell_type": "markdown",
   "metadata": {},
   "source": [
    "### adding barcodes to oligo library"
   ]
  },
  {
   "cell_type": "code",
   "execution_count": 68,
   "metadata": {},
   "outputs": [],
   "source": [
    "oligo_df['barcode'] = barcode_df_shuf[1:nrow(oligo_df),]"
   ]
  },
  {
   "cell_type": "code",
   "execution_count": 69,
   "metadata": {},
   "outputs": [
    {
     "data": {
      "text/html": [
       "<ol class=list-inline>\n",
       "\t<li>'name'</li>\n",
       "\t<li>'seq'</li>\n",
       "\t<li>'seq_type'</li>\n",
       "\t<li>'count'</li>\n",
       "\t<li>'id'</li>\n",
       "\t<li>'pass_restrict_seq'</li>\n",
       "\t<li>'pass_restrict_fwd_seq'</li>\n",
       "\t<li>'pass_restrict_seq_xho'</li>\n",
       "\t<li>'barcode'</li>\n",
       "</ol>\n"
      ],
      "text/latex": [
       "\\begin{enumerate*}\n",
       "\\item 'name'\n",
       "\\item 'seq'\n",
       "\\item 'seq\\_type'\n",
       "\\item 'count'\n",
       "\\item 'id'\n",
       "\\item 'pass\\_restrict\\_seq'\n",
       "\\item 'pass\\_restrict\\_fwd\\_seq'\n",
       "\\item 'pass\\_restrict\\_seq\\_xho'\n",
       "\\item 'barcode'\n",
       "\\end{enumerate*}\n"
      ],
      "text/markdown": [
       "1. 'name'\n",
       "2. 'seq'\n",
       "3. 'seq_type'\n",
       "4. 'count'\n",
       "5. 'id'\n",
       "6. 'pass_restrict_seq'\n",
       "7. 'pass_restrict_fwd_seq'\n",
       "8. 'pass_restrict_seq_xho'\n",
       "9. 'barcode'\n",
       "\n",
       "\n"
      ],
      "text/plain": [
       "[1] \"name\"                  \"seq\"                   \"seq_type\"             \n",
       "[4] \"count\"                 \"id\"                    \"pass_restrict_seq\"    \n",
       "[7] \"pass_restrict_fwd_seq\" \"pass_restrict_seq_xho\" \"barcode\"              "
      ]
     },
     "metadata": {},
     "output_type": "display_data"
    },
    {
     "data": {
      "text/html": [
       "<ol class=list-inline>\n",
       "\t<li>194420</li>\n",
       "\t<li>9</li>\n",
       "</ol>\n"
      ],
      "text/latex": [
       "\\begin{enumerate*}\n",
       "\\item 194420\n",
       "\\item 9\n",
       "\\end{enumerate*}\n"
      ],
      "text/markdown": [
       "1. 194420\n",
       "2. 9\n",
       "\n",
       "\n"
      ],
      "text/plain": [
       "[1] 194420      9"
      ]
     },
     "metadata": {},
     "output_type": "display_data"
    },
    {
     "data": {
      "text/html": [
       "<table>\n",
       "<caption>A tibble: 6 × 9</caption>\n",
       "<thead>\n",
       "\t<tr><th scope=col>name</th><th scope=col>seq</th><th scope=col>seq_type</th><th scope=col>count</th><th scope=col>id</th><th scope=col>pass_restrict_seq</th><th scope=col>pass_restrict_fwd_seq</th><th scope=col>pass_restrict_seq_xho</th><th scope=col>barcode</th></tr>\n",
       "\t<tr><th scope=col>&lt;chr&gt;</th><th scope=col>&lt;chr&gt;</th><th scope=col>&lt;chr&gt;</th><th scope=col>&lt;int&gt;</th><th scope=col>&lt;chr&gt;</th><th scope=col>&lt;lgl&gt;</th><th scope=col>&lt;lgl&gt;</th><th scope=col>&lt;lgl&gt;</th><th scope=col>&lt;chr&gt;</th></tr>\n",
       "</thead>\n",
       "<tbody>\n",
       "\t<tr><td>ABCF3</td><td>ACCTTGAGCTCCCAGCCTTTGCCCCACCCCTCGCTCCCGGAACTCCACCTCCCAGAAGGCAGCGAGAACCGCACATGTGGCTAATCTTTCAGCGGAAAAGGTGTCGCGCACGCGCAGAGAGCGCGGCTCCGGCGCA</td><td>pos</td><td>1</td><td>ABCF3.1</td><td>TRUE</td><td>TRUE</td><td>TRUE</td><td>GAAGTCGGCGTCAATAGTCC</td></tr>\n",
       "\t<tr><td>ABCF3</td><td>ACCTTGAGCTCCCAGCCTTTGCCCCACCCCTCGCTCCCGGAACTCCACCTCCCAGAAGGCAGCGAGAACCGCACATGTGGCTAATCTTTCAGCGGAAAAGGTGTCGCGCACGCGCAGAGAGCGCGGCTCCGGCGCA</td><td>pos</td><td>2</td><td>ABCF3.2</td><td>TRUE</td><td>TRUE</td><td>TRUE</td><td>CGATTGCAGGAGAATAGTCC</td></tr>\n",
       "\t<tr><td>ABCF3</td><td>ACCTTGAGCTCCCAGCCTTTGCCCCACCCCTCGCTCCCGGAACTCCACCTCCCAGAAGGCAGCGAGAACCGCACATGTGGCTAATCTTTCAGCGGAAAAGGTGTCGCGCACGCGCAGAGAGCGCGGCTCCGGCGCA</td><td>pos</td><td>3</td><td>ABCF3.3</td><td>TRUE</td><td>TRUE</td><td>TRUE</td><td>GTCATAGTCAGAGAAGCTCT</td></tr>\n",
       "\t<tr><td>ABCF3</td><td>ACCTTGAGCTCCCAGCCTTTGCCCCACCCCTCGCTCCCGGAACTCCACCTCCCAGAAGGCAGCGAGAACCGCACATGTGGCTAATCTTTCAGCGGAAAAGGTGTCGCGCACGCGCAGAGAGCGCGGCTCCGGCGCA</td><td>pos</td><td>4</td><td>ABCF3.4</td><td>TRUE</td><td>TRUE</td><td>TRUE</td><td>AGTTGGAATGAAGGCCTCGA</td></tr>\n",
       "\t<tr><td>ABCF3</td><td>ACCTTGAGCTCCCAGCCTTTGCCCCACCCCTCGCTCCCGGAACTCCACCTCCCAGAAGGCAGCGAGAACCGCACATGTGGCTAATCTTTCAGCGGAAAAGGTGTCGCGCACGCGCAGAGAGCGCGGCTCCGGCGCA</td><td>pos</td><td>5</td><td>ABCF3.5</td><td>TRUE</td><td>TRUE</td><td>TRUE</td><td>GTATAAAGCGCTGGCCTCGA</td></tr>\n",
       "\t<tr><td>ABCF3</td><td>ACCTTGAGCTCCCAGCCTTTGCCCCACCCCTCGCTCCCGGAACTCCACCTCCCAGAAGGCAGCGAGAACCGCACATGTGGCTAATCTTTCAGCGGAAAAGGTGTCGCGCACGCGCAGAGAGCGCGGCTCCGGCGCA</td><td>pos</td><td>6</td><td>ABCF3.6</td><td>TRUE</td><td>TRUE</td><td>TRUE</td><td>AGAACTATAAGTCGAGATCT</td></tr>\n",
       "</tbody>\n",
       "</table>\n"
      ],
      "text/latex": [
       "A tibble: 6 × 9\n",
       "\\begin{tabular}{lllllllll}\n",
       " name & seq & seq\\_type & count & id & pass\\_restrict\\_seq & pass\\_restrict\\_fwd\\_seq & pass\\_restrict\\_seq\\_xho & barcode\\\\\n",
       " <chr> & <chr> & <chr> & <int> & <chr> & <lgl> & <lgl> & <lgl> & <chr>\\\\\n",
       "\\hline\n",
       "\t ABCF3 & ACCTTGAGCTCCCAGCCTTTGCCCCACCCCTCGCTCCCGGAACTCCACCTCCCAGAAGGCAGCGAGAACCGCACATGTGGCTAATCTTTCAGCGGAAAAGGTGTCGCGCACGCGCAGAGAGCGCGGCTCCGGCGCA & pos & 1 & ABCF3.1 & TRUE & TRUE & TRUE & GAAGTCGGCGTCAATAGTCC\\\\\n",
       "\t ABCF3 & ACCTTGAGCTCCCAGCCTTTGCCCCACCCCTCGCTCCCGGAACTCCACCTCCCAGAAGGCAGCGAGAACCGCACATGTGGCTAATCTTTCAGCGGAAAAGGTGTCGCGCACGCGCAGAGAGCGCGGCTCCGGCGCA & pos & 2 & ABCF3.2 & TRUE & TRUE & TRUE & CGATTGCAGGAGAATAGTCC\\\\\n",
       "\t ABCF3 & ACCTTGAGCTCCCAGCCTTTGCCCCACCCCTCGCTCCCGGAACTCCACCTCCCAGAAGGCAGCGAGAACCGCACATGTGGCTAATCTTTCAGCGGAAAAGGTGTCGCGCACGCGCAGAGAGCGCGGCTCCGGCGCA & pos & 3 & ABCF3.3 & TRUE & TRUE & TRUE & GTCATAGTCAGAGAAGCTCT\\\\\n",
       "\t ABCF3 & ACCTTGAGCTCCCAGCCTTTGCCCCACCCCTCGCTCCCGGAACTCCACCTCCCAGAAGGCAGCGAGAACCGCACATGTGGCTAATCTTTCAGCGGAAAAGGTGTCGCGCACGCGCAGAGAGCGCGGCTCCGGCGCA & pos & 4 & ABCF3.4 & TRUE & TRUE & TRUE & AGTTGGAATGAAGGCCTCGA\\\\\n",
       "\t ABCF3 & ACCTTGAGCTCCCAGCCTTTGCCCCACCCCTCGCTCCCGGAACTCCACCTCCCAGAAGGCAGCGAGAACCGCACATGTGGCTAATCTTTCAGCGGAAAAGGTGTCGCGCACGCGCAGAGAGCGCGGCTCCGGCGCA & pos & 5 & ABCF3.5 & TRUE & TRUE & TRUE & GTATAAAGCGCTGGCCTCGA\\\\\n",
       "\t ABCF3 & ACCTTGAGCTCCCAGCCTTTGCCCCACCCCTCGCTCCCGGAACTCCACCTCCCAGAAGGCAGCGAGAACCGCACATGTGGCTAATCTTTCAGCGGAAAAGGTGTCGCGCACGCGCAGAGAGCGCGGCTCCGGCGCA & pos & 6 & ABCF3.6 & TRUE & TRUE & TRUE & AGAACTATAAGTCGAGATCT\\\\\n",
       "\\end{tabular}\n"
      ],
      "text/markdown": [
       "\n",
       "A tibble: 6 × 9\n",
       "\n",
       "| name &lt;chr&gt; | seq &lt;chr&gt; | seq_type &lt;chr&gt; | count &lt;int&gt; | id &lt;chr&gt; | pass_restrict_seq &lt;lgl&gt; | pass_restrict_fwd_seq &lt;lgl&gt; | pass_restrict_seq_xho &lt;lgl&gt; | barcode &lt;chr&gt; |\n",
       "|---|---|---|---|---|---|---|---|---|\n",
       "| ABCF3 | ACCTTGAGCTCCCAGCCTTTGCCCCACCCCTCGCTCCCGGAACTCCACCTCCCAGAAGGCAGCGAGAACCGCACATGTGGCTAATCTTTCAGCGGAAAAGGTGTCGCGCACGCGCAGAGAGCGCGGCTCCGGCGCA | pos | 1 | ABCF3.1 | TRUE | TRUE | TRUE | GAAGTCGGCGTCAATAGTCC |\n",
       "| ABCF3 | ACCTTGAGCTCCCAGCCTTTGCCCCACCCCTCGCTCCCGGAACTCCACCTCCCAGAAGGCAGCGAGAACCGCACATGTGGCTAATCTTTCAGCGGAAAAGGTGTCGCGCACGCGCAGAGAGCGCGGCTCCGGCGCA | pos | 2 | ABCF3.2 | TRUE | TRUE | TRUE | CGATTGCAGGAGAATAGTCC |\n",
       "| ABCF3 | ACCTTGAGCTCCCAGCCTTTGCCCCACCCCTCGCTCCCGGAACTCCACCTCCCAGAAGGCAGCGAGAACCGCACATGTGGCTAATCTTTCAGCGGAAAAGGTGTCGCGCACGCGCAGAGAGCGCGGCTCCGGCGCA | pos | 3 | ABCF3.3 | TRUE | TRUE | TRUE | GTCATAGTCAGAGAAGCTCT |\n",
       "| ABCF3 | ACCTTGAGCTCCCAGCCTTTGCCCCACCCCTCGCTCCCGGAACTCCACCTCCCAGAAGGCAGCGAGAACCGCACATGTGGCTAATCTTTCAGCGGAAAAGGTGTCGCGCACGCGCAGAGAGCGCGGCTCCGGCGCA | pos | 4 | ABCF3.4 | TRUE | TRUE | TRUE | AGTTGGAATGAAGGCCTCGA |\n",
       "| ABCF3 | ACCTTGAGCTCCCAGCCTTTGCCCCACCCCTCGCTCCCGGAACTCCACCTCCCAGAAGGCAGCGAGAACCGCACATGTGGCTAATCTTTCAGCGGAAAAGGTGTCGCGCACGCGCAGAGAGCGCGGCTCCGGCGCA | pos | 5 | ABCF3.5 | TRUE | TRUE | TRUE | GTATAAAGCGCTGGCCTCGA |\n",
       "| ABCF3 | ACCTTGAGCTCCCAGCCTTTGCCCCACCCCTCGCTCCCGGAACTCCACCTCCCAGAAGGCAGCGAGAACCGCACATGTGGCTAATCTTTCAGCGGAAAAGGTGTCGCGCACGCGCAGAGAGCGCGGCTCCGGCGCA | pos | 6 | ABCF3.6 | TRUE | TRUE | TRUE | AGAACTATAAGTCGAGATCT |\n",
       "\n"
      ],
      "text/plain": [
       "  name \n",
       "1 ABCF3\n",
       "2 ABCF3\n",
       "3 ABCF3\n",
       "4 ABCF3\n",
       "5 ABCF3\n",
       "6 ABCF3\n",
       "  seq                                                                                                                                     \n",
       "1 ACCTTGAGCTCCCAGCCTTTGCCCCACCCCTCGCTCCCGGAACTCCACCTCCCAGAAGGCAGCGAGAACCGCACATGTGGCTAATCTTTCAGCGGAAAAGGTGTCGCGCACGCGCAGAGAGCGCGGCTCCGGCGCA\n",
       "2 ACCTTGAGCTCCCAGCCTTTGCCCCACCCCTCGCTCCCGGAACTCCACCTCCCAGAAGGCAGCGAGAACCGCACATGTGGCTAATCTTTCAGCGGAAAAGGTGTCGCGCACGCGCAGAGAGCGCGGCTCCGGCGCA\n",
       "3 ACCTTGAGCTCCCAGCCTTTGCCCCACCCCTCGCTCCCGGAACTCCACCTCCCAGAAGGCAGCGAGAACCGCACATGTGGCTAATCTTTCAGCGGAAAAGGTGTCGCGCACGCGCAGAGAGCGCGGCTCCGGCGCA\n",
       "4 ACCTTGAGCTCCCAGCCTTTGCCCCACCCCTCGCTCCCGGAACTCCACCTCCCAGAAGGCAGCGAGAACCGCACATGTGGCTAATCTTTCAGCGGAAAAGGTGTCGCGCACGCGCAGAGAGCGCGGCTCCGGCGCA\n",
       "5 ACCTTGAGCTCCCAGCCTTTGCCCCACCCCTCGCTCCCGGAACTCCACCTCCCAGAAGGCAGCGAGAACCGCACATGTGGCTAATCTTTCAGCGGAAAAGGTGTCGCGCACGCGCAGAGAGCGCGGCTCCGGCGCA\n",
       "6 ACCTTGAGCTCCCAGCCTTTGCCCCACCCCTCGCTCCCGGAACTCCACCTCCCAGAAGGCAGCGAGAACCGCACATGTGGCTAATCTTTCAGCGGAAAAGGTGTCGCGCACGCGCAGAGAGCGCGGCTCCGGCGCA\n",
       "  seq_type count id      pass_restrict_seq pass_restrict_fwd_seq\n",
       "1 pos      1     ABCF3.1 TRUE              TRUE                 \n",
       "2 pos      2     ABCF3.2 TRUE              TRUE                 \n",
       "3 pos      3     ABCF3.3 TRUE              TRUE                 \n",
       "4 pos      4     ABCF3.4 TRUE              TRUE                 \n",
       "5 pos      5     ABCF3.5 TRUE              TRUE                 \n",
       "6 pos      6     ABCF3.6 TRUE              TRUE                 \n",
       "  pass_restrict_seq_xho barcode             \n",
       "1 TRUE                  GAAGTCGGCGTCAATAGTCC\n",
       "2 TRUE                  CGATTGCAGGAGAATAGTCC\n",
       "3 TRUE                  GTCATAGTCAGAGAAGCTCT\n",
       "4 TRUE                  AGTTGGAATGAAGGCCTCGA\n",
       "5 TRUE                  GTATAAAGCGCTGGCCTCGA\n",
       "6 TRUE                  AGAACTATAAGTCGAGATCT"
      ]
     },
     "metadata": {},
     "output_type": "display_data"
    }
   ],
   "source": [
    "colnames(oligo_df)\n",
    "dim(oligo_df)\n",
    "head(oligo_df)\n",
    "# unique(oligo_df$name)[1:40]"
   ]
  },
  {
   "cell_type": "markdown",
   "metadata": {},
   "source": [
    "### adding all the parts of sequences together"
   ]
  },
  {
   "cell_type": "code",
   "execution_count": 70,
   "metadata": {},
   "outputs": [],
   "source": [
    "oligo_df_annon = oligo_df %>%\n",
    "  mutate(len_seq = str_length(seq)) %>%\n",
    "  mutate(len_filler = LEN_FILLER)%>% #max(len_motif_combo) - len_motif_combo) %>%\n",
    "  group_by(1:n()) %>%\n",
    "  mutate(filler = gen_random_seq_restrict(n= len_filler))%>%\n",
    "  ungroup()%>%\n",
    "  mutate(filler_check = str_length(filler)==len_filler)%>%\n",
    "  mutate(oligo = str_c(FORWARD_PCR_PRIMER, seq, RS_XHOI, filler, RS_NHEI, barcode, REVERSE_PCR_PRIMER))%>%\n",
    "  mutate(len_oligo = str_length(oligo))%>%\n",
    "  mutate(pass_restrict_ECORI = !str_detect(oligo, RS_ECORI)) %>%\n",
    "  mutate(pass_restrict_BAMHI = !str_detect(oligo, RS_BAMHI)) %>%\n",
    "  mutate(pass_restrict_XHOI = str_count(oligo, RS_XHOI) == 1) %>%\n",
    "  mutate(pass_restrict_NHEI = str_count(oligo, RS_NHEI) == 1) %>%\n",
    "  mutate(pass_all =filler_check& pass_restrict_ECORI & pass_restrict_BAMHI& pass_restrict_XHOI& pass_restrict_NHEI)"
   ]
  },
  {
   "cell_type": "code",
   "execution_count": 71,
   "metadata": {},
   "outputs": [
    {
     "data": {
      "text/html": [
       "194420"
      ],
      "text/latex": [
       "194420"
      ],
      "text/markdown": [
       "194420"
      ],
      "text/plain": [
       "[1] 194420"
      ]
     },
     "metadata": {},
     "output_type": "display_data"
    },
    {
     "data": {
      "text/html": [
       "780"
      ],
      "text/latex": [
       "780"
      ],
      "text/markdown": [
       "780"
      ],
      "text/plain": [
       "[1] 780"
      ]
     },
     "metadata": {},
     "output_type": "display_data"
    },
    {
     "data": {
      "text/html": [
       "194"
      ],
      "text/latex": [
       "194"
      ],
      "text/markdown": [
       "194"
      ],
      "text/plain": [
       "[1] 194"
      ]
     },
     "metadata": {},
     "output_type": "display_data"
    },
    {
     "data": {
      "text/html": [
       "205"
      ],
      "text/latex": [
       "205"
      ],
      "text/markdown": [
       "205"
      ],
      "text/plain": [
       "[1] 205"
      ]
     },
     "metadata": {},
     "output_type": "display_data"
    },
    {
     "data": {
      "text/html": [
       "196"
      ],
      "text/latex": [
       "196"
      ],
      "text/markdown": [
       "196"
      ],
      "text/plain": [
       "[1] 196"
      ]
     },
     "metadata": {},
     "output_type": "display_data"
    },
    {
     "data": {
      "text/html": [
       "186"
      ],
      "text/latex": [
       "186"
      ],
      "text/markdown": [
       "186"
      ],
      "text/plain": [
       "[1] 186"
      ]
     },
     "metadata": {},
     "output_type": "display_data"
    }
   ],
   "source": [
    "# how many errors\n",
    "nrow(oligo_df_annon)\n",
    "nrow(distinct(select(filter(oligo_df_annon, pass_all==FALSE),id)))\n",
    "nrow(distinct(select(filter(oligo_df_annon, pass_restrict_ECORI==FALSE),id)))\n",
    "nrow(distinct(select(filter(oligo_df_annon, pass_restrict_BAMHI==FALSE),id)))\n",
    "nrow(distinct(select(filter(oligo_df_annon, pass_restrict_XHOI==FALSE),id)))\n",
    "nrow(distinct(select(filter(oligo_df_annon, pass_restrict_NHEI==FALSE),id)))\n"
   ]
  },
  {
   "cell_type": "markdown",
   "metadata": {},
   "source": [
    "### filter out the bad rs ones and saving\n"
   ]
  },
  {
   "cell_type": "code",
   "execution_count": 72,
   "metadata": {},
   "outputs": [],
   "source": [
    "oligo_df_filt <- oligo_df_annon %>%\n",
    "   filter(pass_all==TRUE)%>%\n",
    "   group_by(name, seq) %>%\n",
    "   do(sample_n(.,NUM_OLIGO_PER_MOTIF)) %>% \n",
    "   mutate(count =  1:n()) %>%\n",
    "   ungroup()%>%\n",
    "  mutate(id = str_c(name,count, sep='.'))%>%\n",
    " # recheck\n",
    "  mutate(pass_restrict_ECORI = !str_detect(oligo, RS_ECORI)) %>%\n",
    "  mutate(pass_restrict_BAMHI = !str_detect(oligo, RS_BAMHI)) %>%\n",
    "  mutate(pass_restrict_XHOI = str_count(oligo, RS_XHOI) == 1) %>%\n",
    "  mutate(pass_restrict_NHEI = str_count(oligo, RS_NHEI) == 1) %>%\n",
    "  mutate(pass_all = pass_restrict_ECORI & pass_restrict_BAMHI& pass_restrict_XHOI& pass_restrict_NHEI)"
   ]
  },
  {
   "cell_type": "code",
   "execution_count": 73,
   "metadata": {},
   "outputs": [
    {
     "data": {
      "text/html": [
       "0"
      ],
      "text/latex": [
       "0"
      ],
      "text/markdown": [
       "0"
      ],
      "text/plain": [
       "[1] 0"
      ]
     },
     "metadata": {},
     "output_type": "display_data"
    },
    {
     "data": {
      "text/html": [
       "<table>\n",
       "<caption>A tibble: 1 × 1</caption>\n",
       "<thead>\n",
       "\t<tr><th scope=col>n_distinct(barcode)</th></tr>\n",
       "\t<tr><th scope=col>&lt;int&gt;</th></tr>\n",
       "</thead>\n",
       "<tbody>\n",
       "\t<tr><td>97210</td></tr>\n",
       "</tbody>\n",
       "</table>\n"
      ],
      "text/latex": [
       "A tibble: 1 × 1\n",
       "\\begin{tabular}{l}\n",
       " n\\_distinct(barcode)\\\\\n",
       " <int>\\\\\n",
       "\\hline\n",
       "\t 97210\\\\\n",
       "\\end{tabular}\n"
      ],
      "text/markdown": [
       "\n",
       "A tibble: 1 × 1\n",
       "\n",
       "| n_distinct(barcode) &lt;int&gt; |\n",
       "|---|\n",
       "| 97210 |\n",
       "\n"
      ],
      "text/plain": [
       "  n_distinct(barcode)\n",
       "1 97210              "
      ]
     },
     "metadata": {},
     "output_type": "display_data"
    }
   ],
   "source": [
    "# number of fails\n",
    "nrow(distinct(select(filter(oligo_df_filt, pass_all==FALSE),id))) # should be 0\n",
    "#number of distinct barcodes\n",
    "summarize(oligo_df_filt,n_distinct( barcode)) # should be equal to num motifs * 10"
   ]
  },
  {
   "cell_type": "code",
   "execution_count": 74,
   "metadata": {},
   "outputs": [
    {
     "data": {
      "text/html": [
       "<ol class=list-inline>\n",
       "\t<li>'name'</li>\n",
       "\t<li>'seq'</li>\n",
       "\t<li>'seq_type'</li>\n",
       "\t<li>'count'</li>\n",
       "\t<li>'id'</li>\n",
       "\t<li>'pass_restrict_seq'</li>\n",
       "\t<li>'pass_restrict_fwd_seq'</li>\n",
       "\t<li>'pass_restrict_seq_xho'</li>\n",
       "\t<li>'barcode'</li>\n",
       "\t<li>'len_seq'</li>\n",
       "\t<li>'len_filler'</li>\n",
       "\t<li>'1:n()'</li>\n",
       "\t<li>'filler'</li>\n",
       "\t<li>'filler_check'</li>\n",
       "\t<li>'oligo'</li>\n",
       "\t<li>'len_oligo'</li>\n",
       "\t<li>'pass_restrict_ECORI'</li>\n",
       "\t<li>'pass_restrict_BAMHI'</li>\n",
       "\t<li>'pass_restrict_XHOI'</li>\n",
       "\t<li>'pass_restrict_NHEI'</li>\n",
       "\t<li>'pass_all'</li>\n",
       "</ol>\n"
      ],
      "text/latex": [
       "\\begin{enumerate*}\n",
       "\\item 'name'\n",
       "\\item 'seq'\n",
       "\\item 'seq\\_type'\n",
       "\\item 'count'\n",
       "\\item 'id'\n",
       "\\item 'pass\\_restrict\\_seq'\n",
       "\\item 'pass\\_restrict\\_fwd\\_seq'\n",
       "\\item 'pass\\_restrict\\_seq\\_xho'\n",
       "\\item 'barcode'\n",
       "\\item 'len\\_seq'\n",
       "\\item 'len\\_filler'\n",
       "\\item '1:n()'\n",
       "\\item 'filler'\n",
       "\\item 'filler\\_check'\n",
       "\\item 'oligo'\n",
       "\\item 'len\\_oligo'\n",
       "\\item 'pass\\_restrict\\_ECORI'\n",
       "\\item 'pass\\_restrict\\_BAMHI'\n",
       "\\item 'pass\\_restrict\\_XHOI'\n",
       "\\item 'pass\\_restrict\\_NHEI'\n",
       "\\item 'pass\\_all'\n",
       "\\end{enumerate*}\n"
      ],
      "text/markdown": [
       "1. 'name'\n",
       "2. 'seq'\n",
       "3. 'seq_type'\n",
       "4. 'count'\n",
       "5. 'id'\n",
       "6. 'pass_restrict_seq'\n",
       "7. 'pass_restrict_fwd_seq'\n",
       "8. 'pass_restrict_seq_xho'\n",
       "9. 'barcode'\n",
       "10. 'len_seq'\n",
       "11. 'len_filler'\n",
       "12. '1:n()'\n",
       "13. 'filler'\n",
       "14. 'filler_check'\n",
       "15. 'oligo'\n",
       "16. 'len_oligo'\n",
       "17. 'pass_restrict_ECORI'\n",
       "18. 'pass_restrict_BAMHI'\n",
       "19. 'pass_restrict_XHOI'\n",
       "20. 'pass_restrict_NHEI'\n",
       "21. 'pass_all'\n",
       "\n",
       "\n"
      ],
      "text/plain": [
       " [1] \"name\"                  \"seq\"                   \"seq_type\"             \n",
       " [4] \"count\"                 \"id\"                    \"pass_restrict_seq\"    \n",
       " [7] \"pass_restrict_fwd_seq\" \"pass_restrict_seq_xho\" \"barcode\"              \n",
       "[10] \"len_seq\"               \"len_filler\"            \"1:n()\"                \n",
       "[13] \"filler\"                \"filler_check\"          \"oligo\"                \n",
       "[16] \"len_oligo\"             \"pass_restrict_ECORI\"   \"pass_restrict_BAMHI\"  \n",
       "[19] \"pass_restrict_XHOI\"    \"pass_restrict_NHEI\"    \"pass_all\"             "
      ]
     },
     "metadata": {},
     "output_type": "display_data"
    },
    {
     "data": {
      "text/html": [
       "<ol class=list-inline>\n",
       "\t<li>97210</li>\n",
       "\t<li>21</li>\n",
       "</ol>\n"
      ],
      "text/latex": [
       "\\begin{enumerate*}\n",
       "\\item 97210\n",
       "\\item 21\n",
       "\\end{enumerate*}\n"
      ],
      "text/markdown": [
       "1. 97210\n",
       "2. 21\n",
       "\n",
       "\n"
      ],
      "text/plain": [
       "[1] 97210    21"
      ]
     },
     "metadata": {},
     "output_type": "display_data"
    },
    {
     "data": {
      "text/html": [
       "<table>\n",
       "<caption>A tibble: 6 × 21</caption>\n",
       "<thead>\n",
       "\t<tr><th scope=col>name</th><th scope=col>seq</th><th scope=col>seq_type</th><th scope=col>count</th><th scope=col>id</th><th scope=col>pass_restrict_seq</th><th scope=col>pass_restrict_fwd_seq</th><th scope=col>pass_restrict_seq_xho</th><th scope=col>barcode</th><th scope=col>len_seq</th><th scope=col>⋯</th><th scope=col>1:n()</th><th scope=col>filler</th><th scope=col>filler_check</th><th scope=col>oligo</th><th scope=col>len_oligo</th><th scope=col>pass_restrict_ECORI</th><th scope=col>pass_restrict_BAMHI</th><th scope=col>pass_restrict_XHOI</th><th scope=col>pass_restrict_NHEI</th><th scope=col>pass_all</th></tr>\n",
       "\t<tr><th scope=col>&lt;chr&gt;</th><th scope=col>&lt;chr&gt;</th><th scope=col>&lt;chr&gt;</th><th scope=col>&lt;int&gt;</th><th scope=col>&lt;chr&gt;</th><th scope=col>&lt;lgl&gt;</th><th scope=col>&lt;lgl&gt;</th><th scope=col>&lt;lgl&gt;</th><th scope=col>&lt;chr&gt;</th><th scope=col>&lt;int&gt;</th><th scope=col>⋯</th><th scope=col>&lt;int&gt;</th><th scope=col>&lt;chr&gt;</th><th scope=col>&lt;lgl&gt;</th><th scope=col>&lt;chr&gt;</th><th scope=col>&lt;int&gt;</th><th scope=col>&lt;lgl&gt;</th><th scope=col>&lt;lgl&gt;</th><th scope=col>&lt;lgl&gt;</th><th scope=col>&lt;lgl&gt;</th><th scope=col>&lt;lgl&gt;</th></tr>\n",
       "</thead>\n",
       "<tbody>\n",
       "\t<tr><td>ABCF3</td><td>ACCTTGAGCTCCCAGCCTTTGCCCCACCCCTCGCTCCCGGAACTCCACCTCCCAGAAGGCAGCGAGAACCGCACATGTGGCTAATCTTTCAGCGGAAAAGGTGTCGCGCACGCGCAGAGAGCGCGGCTCCGGCGCA</td><td>pos</td><td>1</td><td>ABCF3.1</td><td>TRUE</td><td>TRUE</td><td>TRUE</td><td>AGTTGGAATGAAGGCCTCGA</td><td>136</td><td>⋯</td><td> 4</td><td>TCCTTACAAAAGAACGGCCG</td><td>TRUE</td><td>ACTGGCCGCTTCACTGACCTTGAGCTCCCAGCCTTTGCCCCACCCCTCGCTCCCGGAACTCCACCTCCCAGAAGGCAGCGAGAACCGCACATGTGGCTAATCTTTCAGCGGAAAAGGTGTCGCGCACGCGCAGAGAGCGCGGCTCCGGCGCACTCGAGTCCTTACAAAAGAACGGCCGGCTAGCAGTTGGAATGAAGGCCTCGAAGATCGGAAGAGCGTCG</td><td>221</td><td>TRUE</td><td>TRUE</td><td>TRUE</td><td>TRUE</td><td>TRUE</td></tr>\n",
       "\t<tr><td>ABCF3</td><td>ACCTTGAGCTCCCAGCCTTTGCCCCACCCCTCGCTCCCGGAACTCCACCTCCCAGAAGGCAGCGAGAACCGCACATGTGGCTAATCTTTCAGCGGAAAAGGTGTCGCGCACGCGCAGAGAGCGCGGCTCCGGCGCA</td><td>pos</td><td>2</td><td>ABCF3.2</td><td>TRUE</td><td>TRUE</td><td>TRUE</td><td>GTCATAGTCAGAGAAGCTCT</td><td>136</td><td>⋯</td><td> 3</td><td>TCTCTTGACGCGATGCGAGC</td><td>TRUE</td><td>ACTGGCCGCTTCACTGACCTTGAGCTCCCAGCCTTTGCCCCACCCCTCGCTCCCGGAACTCCACCTCCCAGAAGGCAGCGAGAACCGCACATGTGGCTAATCTTTCAGCGGAAAAGGTGTCGCGCACGCGCAGAGAGCGCGGCTCCGGCGCACTCGAGTCTCTTGACGCGATGCGAGCGCTAGCGTCATAGTCAGAGAAGCTCTAGATCGGAAGAGCGTCG</td><td>221</td><td>TRUE</td><td>TRUE</td><td>TRUE</td><td>TRUE</td><td>TRUE</td></tr>\n",
       "\t<tr><td>ABCF3</td><td>ACCTTGAGCTCCCAGCCTTTGCCCCACCCCTCGCTCCCGGAACTCCACCTCCCAGAAGGCAGCGAGAACCGCACATGTGGCTAATCTTTCAGCGGAAAAGGTGTCGCGCACGCGCAGAGAGCGCGGCTCCGGCGCA</td><td>pos</td><td>3</td><td>ABCF3.3</td><td>TRUE</td><td>TRUE</td><td>TRUE</td><td>GATACTTCATGCAATATGCT</td><td>136</td><td>⋯</td><td>19</td><td>TGCTATGGGGGATAGATCTT</td><td>TRUE</td><td>ACTGGCCGCTTCACTGACCTTGAGCTCCCAGCCTTTGCCCCACCCCTCGCTCCCGGAACTCCACCTCCCAGAAGGCAGCGAGAACCGCACATGTGGCTAATCTTTCAGCGGAAAAGGTGTCGCGCACGCGCAGAGAGCGCGGCTCCGGCGCACTCGAGTGCTATGGGGGATAGATCTTGCTAGCGATACTTCATGCAATATGCTAGATCGGAAGAGCGTCG</td><td>221</td><td>TRUE</td><td>TRUE</td><td>TRUE</td><td>TRUE</td><td>TRUE</td></tr>\n",
       "\t<tr><td>ABCF3</td><td>ACCTTGAGCTCCCAGCCTTTGCCCCACCCCTCGCTCCCGGAACTCCACCTCCCAGAAGGCAGCGAGAACCGCACATGTGGCTAATCTTTCAGCGGAAAAGGTGTCGCGCACGCGCAGAGAGCGCGGCTCCGGCGCA</td><td>pos</td><td>4</td><td>ABCF3.4</td><td>TRUE</td><td>TRUE</td><td>TRUE</td><td>CGATTGCAGGAGAATAGTCC</td><td>136</td><td>⋯</td><td> 2</td><td>ACCGTGCCAGGGCTCACCGT</td><td>TRUE</td><td>ACTGGCCGCTTCACTGACCTTGAGCTCCCAGCCTTTGCCCCACCCCTCGCTCCCGGAACTCCACCTCCCAGAAGGCAGCGAGAACCGCACATGTGGCTAATCTTTCAGCGGAAAAGGTGTCGCGCACGCGCAGAGAGCGCGGCTCCGGCGCACTCGAGACCGTGCCAGGGCTCACCGTGCTAGCCGATTGCAGGAGAATAGTCCAGATCGGAAGAGCGTCG</td><td>221</td><td>TRUE</td><td>TRUE</td><td>TRUE</td><td>TRUE</td><td>TRUE</td></tr>\n",
       "\t<tr><td>ABCF3</td><td>ACCTTGAGCTCCCAGCCTTTGCCCCACCCCTCGCTCCCGGAACTCCACCTCCCAGAAGGCAGCGAGAACCGCACATGTGGCTAATCTTTCAGCGGAAAAGGTGTCGCGCACGCGCAGAGAGCGCGGCTCCGGCGCA</td><td>pos</td><td>5</td><td>ABCF3.5</td><td>TRUE</td><td>TRUE</td><td>TRUE</td><td>TGAGAACCAGTTCCAACGCA</td><td>136</td><td>⋯</td><td>11</td><td>AGACTGGTAGTGAACCTGAT</td><td>TRUE</td><td>ACTGGCCGCTTCACTGACCTTGAGCTCCCAGCCTTTGCCCCACCCCTCGCTCCCGGAACTCCACCTCCCAGAAGGCAGCGAGAACCGCACATGTGGCTAATCTTTCAGCGGAAAAGGTGTCGCGCACGCGCAGAGAGCGCGGCTCCGGCGCACTCGAGAGACTGGTAGTGAACCTGATGCTAGCTGAGAACCAGTTCCAACGCAAGATCGGAAGAGCGTCG</td><td>221</td><td>TRUE</td><td>TRUE</td><td>TRUE</td><td>TRUE</td><td>TRUE</td></tr>\n",
       "\t<tr><td>ABCF3</td><td>ACCTTGAGCTCCCAGCCTTTGCCCCACCCCTCGCTCCCGGAACTCCACCTCCCAGAAGGCAGCGAGAACCGCACATGTGGCTAATCTTTCAGCGGAAAAGGTGTCGCGCACGCGCAGAGAGCGCGGCTCCGGCGCA</td><td>pos</td><td>6</td><td>ABCF3.6</td><td>TRUE</td><td>TRUE</td><td>TRUE</td><td>GCTGGCGGCAATCGCTCAAC</td><td>136</td><td>⋯</td><td> 8</td><td>AGAGTAGGATAAGAGCCGCT</td><td>TRUE</td><td>ACTGGCCGCTTCACTGACCTTGAGCTCCCAGCCTTTGCCCCACCCCTCGCTCCCGGAACTCCACCTCCCAGAAGGCAGCGAGAACCGCACATGTGGCTAATCTTTCAGCGGAAAAGGTGTCGCGCACGCGCAGAGAGCGCGGCTCCGGCGCACTCGAGAGAGTAGGATAAGAGCCGCTGCTAGCGCTGGCGGCAATCGCTCAACAGATCGGAAGAGCGTCG</td><td>221</td><td>TRUE</td><td>TRUE</td><td>TRUE</td><td>TRUE</td><td>TRUE</td></tr>\n",
       "</tbody>\n",
       "</table>\n"
      ],
      "text/latex": [
       "A tibble: 6 × 21\n",
       "\\begin{tabular}{lllllllllllllllllllll}\n",
       " name & seq & seq\\_type & count & id & pass\\_restrict\\_seq & pass\\_restrict\\_fwd\\_seq & pass\\_restrict\\_seq\\_xho & barcode & len\\_seq & ⋯ & 1:n() & filler & filler\\_check & oligo & len\\_oligo & pass\\_restrict\\_ECORI & pass\\_restrict\\_BAMHI & pass\\_restrict\\_XHOI & pass\\_restrict\\_NHEI & pass\\_all\\\\\n",
       " <chr> & <chr> & <chr> & <int> & <chr> & <lgl> & <lgl> & <lgl> & <chr> & <int> & ⋯ & <int> & <chr> & <lgl> & <chr> & <int> & <lgl> & <lgl> & <lgl> & <lgl> & <lgl>\\\\\n",
       "\\hline\n",
       "\t ABCF3 & ACCTTGAGCTCCCAGCCTTTGCCCCACCCCTCGCTCCCGGAACTCCACCTCCCAGAAGGCAGCGAGAACCGCACATGTGGCTAATCTTTCAGCGGAAAAGGTGTCGCGCACGCGCAGAGAGCGCGGCTCCGGCGCA & pos & 1 & ABCF3.1 & TRUE & TRUE & TRUE & AGTTGGAATGAAGGCCTCGA & 136 & ⋯ &  4 & TCCTTACAAAAGAACGGCCG & TRUE & ACTGGCCGCTTCACTGACCTTGAGCTCCCAGCCTTTGCCCCACCCCTCGCTCCCGGAACTCCACCTCCCAGAAGGCAGCGAGAACCGCACATGTGGCTAATCTTTCAGCGGAAAAGGTGTCGCGCACGCGCAGAGAGCGCGGCTCCGGCGCACTCGAGTCCTTACAAAAGAACGGCCGGCTAGCAGTTGGAATGAAGGCCTCGAAGATCGGAAGAGCGTCG & 221 & TRUE & TRUE & TRUE & TRUE & TRUE\\\\\n",
       "\t ABCF3 & ACCTTGAGCTCCCAGCCTTTGCCCCACCCCTCGCTCCCGGAACTCCACCTCCCAGAAGGCAGCGAGAACCGCACATGTGGCTAATCTTTCAGCGGAAAAGGTGTCGCGCACGCGCAGAGAGCGCGGCTCCGGCGCA & pos & 2 & ABCF3.2 & TRUE & TRUE & TRUE & GTCATAGTCAGAGAAGCTCT & 136 & ⋯ &  3 & TCTCTTGACGCGATGCGAGC & TRUE & ACTGGCCGCTTCACTGACCTTGAGCTCCCAGCCTTTGCCCCACCCCTCGCTCCCGGAACTCCACCTCCCAGAAGGCAGCGAGAACCGCACATGTGGCTAATCTTTCAGCGGAAAAGGTGTCGCGCACGCGCAGAGAGCGCGGCTCCGGCGCACTCGAGTCTCTTGACGCGATGCGAGCGCTAGCGTCATAGTCAGAGAAGCTCTAGATCGGAAGAGCGTCG & 221 & TRUE & TRUE & TRUE & TRUE & TRUE\\\\\n",
       "\t ABCF3 & ACCTTGAGCTCCCAGCCTTTGCCCCACCCCTCGCTCCCGGAACTCCACCTCCCAGAAGGCAGCGAGAACCGCACATGTGGCTAATCTTTCAGCGGAAAAGGTGTCGCGCACGCGCAGAGAGCGCGGCTCCGGCGCA & pos & 3 & ABCF3.3 & TRUE & TRUE & TRUE & GATACTTCATGCAATATGCT & 136 & ⋯ & 19 & TGCTATGGGGGATAGATCTT & TRUE & ACTGGCCGCTTCACTGACCTTGAGCTCCCAGCCTTTGCCCCACCCCTCGCTCCCGGAACTCCACCTCCCAGAAGGCAGCGAGAACCGCACATGTGGCTAATCTTTCAGCGGAAAAGGTGTCGCGCACGCGCAGAGAGCGCGGCTCCGGCGCACTCGAGTGCTATGGGGGATAGATCTTGCTAGCGATACTTCATGCAATATGCTAGATCGGAAGAGCGTCG & 221 & TRUE & TRUE & TRUE & TRUE & TRUE\\\\\n",
       "\t ABCF3 & ACCTTGAGCTCCCAGCCTTTGCCCCACCCCTCGCTCCCGGAACTCCACCTCCCAGAAGGCAGCGAGAACCGCACATGTGGCTAATCTTTCAGCGGAAAAGGTGTCGCGCACGCGCAGAGAGCGCGGCTCCGGCGCA & pos & 4 & ABCF3.4 & TRUE & TRUE & TRUE & CGATTGCAGGAGAATAGTCC & 136 & ⋯ &  2 & ACCGTGCCAGGGCTCACCGT & TRUE & ACTGGCCGCTTCACTGACCTTGAGCTCCCAGCCTTTGCCCCACCCCTCGCTCCCGGAACTCCACCTCCCAGAAGGCAGCGAGAACCGCACATGTGGCTAATCTTTCAGCGGAAAAGGTGTCGCGCACGCGCAGAGAGCGCGGCTCCGGCGCACTCGAGACCGTGCCAGGGCTCACCGTGCTAGCCGATTGCAGGAGAATAGTCCAGATCGGAAGAGCGTCG & 221 & TRUE & TRUE & TRUE & TRUE & TRUE\\\\\n",
       "\t ABCF3 & ACCTTGAGCTCCCAGCCTTTGCCCCACCCCTCGCTCCCGGAACTCCACCTCCCAGAAGGCAGCGAGAACCGCACATGTGGCTAATCTTTCAGCGGAAAAGGTGTCGCGCACGCGCAGAGAGCGCGGCTCCGGCGCA & pos & 5 & ABCF3.5 & TRUE & TRUE & TRUE & TGAGAACCAGTTCCAACGCA & 136 & ⋯ & 11 & AGACTGGTAGTGAACCTGAT & TRUE & ACTGGCCGCTTCACTGACCTTGAGCTCCCAGCCTTTGCCCCACCCCTCGCTCCCGGAACTCCACCTCCCAGAAGGCAGCGAGAACCGCACATGTGGCTAATCTTTCAGCGGAAAAGGTGTCGCGCACGCGCAGAGAGCGCGGCTCCGGCGCACTCGAGAGACTGGTAGTGAACCTGATGCTAGCTGAGAACCAGTTCCAACGCAAGATCGGAAGAGCGTCG & 221 & TRUE & TRUE & TRUE & TRUE & TRUE\\\\\n",
       "\t ABCF3 & ACCTTGAGCTCCCAGCCTTTGCCCCACCCCTCGCTCCCGGAACTCCACCTCCCAGAAGGCAGCGAGAACCGCACATGTGGCTAATCTTTCAGCGGAAAAGGTGTCGCGCACGCGCAGAGAGCGCGGCTCCGGCGCA & pos & 6 & ABCF3.6 & TRUE & TRUE & TRUE & GCTGGCGGCAATCGCTCAAC & 136 & ⋯ &  8 & AGAGTAGGATAAGAGCCGCT & TRUE & ACTGGCCGCTTCACTGACCTTGAGCTCCCAGCCTTTGCCCCACCCCTCGCTCCCGGAACTCCACCTCCCAGAAGGCAGCGAGAACCGCACATGTGGCTAATCTTTCAGCGGAAAAGGTGTCGCGCACGCGCAGAGAGCGCGGCTCCGGCGCACTCGAGAGAGTAGGATAAGAGCCGCTGCTAGCGCTGGCGGCAATCGCTCAACAGATCGGAAGAGCGTCG & 221 & TRUE & TRUE & TRUE & TRUE & TRUE\\\\\n",
       "\\end{tabular}\n"
      ],
      "text/markdown": [
       "\n",
       "A tibble: 6 × 21\n",
       "\n",
       "| name &lt;chr&gt; | seq &lt;chr&gt; | seq_type &lt;chr&gt; | count &lt;int&gt; | id &lt;chr&gt; | pass_restrict_seq &lt;lgl&gt; | pass_restrict_fwd_seq &lt;lgl&gt; | pass_restrict_seq_xho &lt;lgl&gt; | barcode &lt;chr&gt; | len_seq &lt;int&gt; | ⋯ ⋯ | 1:n() &lt;int&gt; | filler &lt;chr&gt; | filler_check &lt;lgl&gt; | oligo &lt;chr&gt; | len_oligo &lt;int&gt; | pass_restrict_ECORI &lt;lgl&gt; | pass_restrict_BAMHI &lt;lgl&gt; | pass_restrict_XHOI &lt;lgl&gt; | pass_restrict_NHEI &lt;lgl&gt; | pass_all &lt;lgl&gt; |\n",
       "|---|---|---|---|---|---|---|---|---|---|---|---|---|---|---|---|---|---|---|---|---|\n",
       "| ABCF3 | ACCTTGAGCTCCCAGCCTTTGCCCCACCCCTCGCTCCCGGAACTCCACCTCCCAGAAGGCAGCGAGAACCGCACATGTGGCTAATCTTTCAGCGGAAAAGGTGTCGCGCACGCGCAGAGAGCGCGGCTCCGGCGCA | pos | 1 | ABCF3.1 | TRUE | TRUE | TRUE | AGTTGGAATGAAGGCCTCGA | 136 | ⋯ |  4 | TCCTTACAAAAGAACGGCCG | TRUE | ACTGGCCGCTTCACTGACCTTGAGCTCCCAGCCTTTGCCCCACCCCTCGCTCCCGGAACTCCACCTCCCAGAAGGCAGCGAGAACCGCACATGTGGCTAATCTTTCAGCGGAAAAGGTGTCGCGCACGCGCAGAGAGCGCGGCTCCGGCGCACTCGAGTCCTTACAAAAGAACGGCCGGCTAGCAGTTGGAATGAAGGCCTCGAAGATCGGAAGAGCGTCG | 221 | TRUE | TRUE | TRUE | TRUE | TRUE |\n",
       "| ABCF3 | ACCTTGAGCTCCCAGCCTTTGCCCCACCCCTCGCTCCCGGAACTCCACCTCCCAGAAGGCAGCGAGAACCGCACATGTGGCTAATCTTTCAGCGGAAAAGGTGTCGCGCACGCGCAGAGAGCGCGGCTCCGGCGCA | pos | 2 | ABCF3.2 | TRUE | TRUE | TRUE | GTCATAGTCAGAGAAGCTCT | 136 | ⋯ |  3 | TCTCTTGACGCGATGCGAGC | TRUE | ACTGGCCGCTTCACTGACCTTGAGCTCCCAGCCTTTGCCCCACCCCTCGCTCCCGGAACTCCACCTCCCAGAAGGCAGCGAGAACCGCACATGTGGCTAATCTTTCAGCGGAAAAGGTGTCGCGCACGCGCAGAGAGCGCGGCTCCGGCGCACTCGAGTCTCTTGACGCGATGCGAGCGCTAGCGTCATAGTCAGAGAAGCTCTAGATCGGAAGAGCGTCG | 221 | TRUE | TRUE | TRUE | TRUE | TRUE |\n",
       "| ABCF3 | ACCTTGAGCTCCCAGCCTTTGCCCCACCCCTCGCTCCCGGAACTCCACCTCCCAGAAGGCAGCGAGAACCGCACATGTGGCTAATCTTTCAGCGGAAAAGGTGTCGCGCACGCGCAGAGAGCGCGGCTCCGGCGCA | pos | 3 | ABCF3.3 | TRUE | TRUE | TRUE | GATACTTCATGCAATATGCT | 136 | ⋯ | 19 | TGCTATGGGGGATAGATCTT | TRUE | ACTGGCCGCTTCACTGACCTTGAGCTCCCAGCCTTTGCCCCACCCCTCGCTCCCGGAACTCCACCTCCCAGAAGGCAGCGAGAACCGCACATGTGGCTAATCTTTCAGCGGAAAAGGTGTCGCGCACGCGCAGAGAGCGCGGCTCCGGCGCACTCGAGTGCTATGGGGGATAGATCTTGCTAGCGATACTTCATGCAATATGCTAGATCGGAAGAGCGTCG | 221 | TRUE | TRUE | TRUE | TRUE | TRUE |\n",
       "| ABCF3 | ACCTTGAGCTCCCAGCCTTTGCCCCACCCCTCGCTCCCGGAACTCCACCTCCCAGAAGGCAGCGAGAACCGCACATGTGGCTAATCTTTCAGCGGAAAAGGTGTCGCGCACGCGCAGAGAGCGCGGCTCCGGCGCA | pos | 4 | ABCF3.4 | TRUE | TRUE | TRUE | CGATTGCAGGAGAATAGTCC | 136 | ⋯ |  2 | ACCGTGCCAGGGCTCACCGT | TRUE | ACTGGCCGCTTCACTGACCTTGAGCTCCCAGCCTTTGCCCCACCCCTCGCTCCCGGAACTCCACCTCCCAGAAGGCAGCGAGAACCGCACATGTGGCTAATCTTTCAGCGGAAAAGGTGTCGCGCACGCGCAGAGAGCGCGGCTCCGGCGCACTCGAGACCGTGCCAGGGCTCACCGTGCTAGCCGATTGCAGGAGAATAGTCCAGATCGGAAGAGCGTCG | 221 | TRUE | TRUE | TRUE | TRUE | TRUE |\n",
       "| ABCF3 | ACCTTGAGCTCCCAGCCTTTGCCCCACCCCTCGCTCCCGGAACTCCACCTCCCAGAAGGCAGCGAGAACCGCACATGTGGCTAATCTTTCAGCGGAAAAGGTGTCGCGCACGCGCAGAGAGCGCGGCTCCGGCGCA | pos | 5 | ABCF3.5 | TRUE | TRUE | TRUE | TGAGAACCAGTTCCAACGCA | 136 | ⋯ | 11 | AGACTGGTAGTGAACCTGAT | TRUE | ACTGGCCGCTTCACTGACCTTGAGCTCCCAGCCTTTGCCCCACCCCTCGCTCCCGGAACTCCACCTCCCAGAAGGCAGCGAGAACCGCACATGTGGCTAATCTTTCAGCGGAAAAGGTGTCGCGCACGCGCAGAGAGCGCGGCTCCGGCGCACTCGAGAGACTGGTAGTGAACCTGATGCTAGCTGAGAACCAGTTCCAACGCAAGATCGGAAGAGCGTCG | 221 | TRUE | TRUE | TRUE | TRUE | TRUE |\n",
       "| ABCF3 | ACCTTGAGCTCCCAGCCTTTGCCCCACCCCTCGCTCCCGGAACTCCACCTCCCAGAAGGCAGCGAGAACCGCACATGTGGCTAATCTTTCAGCGGAAAAGGTGTCGCGCACGCGCAGAGAGCGCGGCTCCGGCGCA | pos | 6 | ABCF3.6 | TRUE | TRUE | TRUE | GCTGGCGGCAATCGCTCAAC | 136 | ⋯ |  8 | AGAGTAGGATAAGAGCCGCT | TRUE | ACTGGCCGCTTCACTGACCTTGAGCTCCCAGCCTTTGCCCCACCCCTCGCTCCCGGAACTCCACCTCCCAGAAGGCAGCGAGAACCGCACATGTGGCTAATCTTTCAGCGGAAAAGGTGTCGCGCACGCGCAGAGAGCGCGGCTCCGGCGCACTCGAGAGAGTAGGATAAGAGCCGCTGCTAGCGCTGGCGGCAATCGCTCAACAGATCGGAAGAGCGTCG | 221 | TRUE | TRUE | TRUE | TRUE | TRUE |\n",
       "\n"
      ],
      "text/plain": [
       "  name \n",
       "1 ABCF3\n",
       "2 ABCF3\n",
       "3 ABCF3\n",
       "4 ABCF3\n",
       "5 ABCF3\n",
       "6 ABCF3\n",
       "  seq                                                                                                                                     \n",
       "1 ACCTTGAGCTCCCAGCCTTTGCCCCACCCCTCGCTCCCGGAACTCCACCTCCCAGAAGGCAGCGAGAACCGCACATGTGGCTAATCTTTCAGCGGAAAAGGTGTCGCGCACGCGCAGAGAGCGCGGCTCCGGCGCA\n",
       "2 ACCTTGAGCTCCCAGCCTTTGCCCCACCCCTCGCTCCCGGAACTCCACCTCCCAGAAGGCAGCGAGAACCGCACATGTGGCTAATCTTTCAGCGGAAAAGGTGTCGCGCACGCGCAGAGAGCGCGGCTCCGGCGCA\n",
       "3 ACCTTGAGCTCCCAGCCTTTGCCCCACCCCTCGCTCCCGGAACTCCACCTCCCAGAAGGCAGCGAGAACCGCACATGTGGCTAATCTTTCAGCGGAAAAGGTGTCGCGCACGCGCAGAGAGCGCGGCTCCGGCGCA\n",
       "4 ACCTTGAGCTCCCAGCCTTTGCCCCACCCCTCGCTCCCGGAACTCCACCTCCCAGAAGGCAGCGAGAACCGCACATGTGGCTAATCTTTCAGCGGAAAAGGTGTCGCGCACGCGCAGAGAGCGCGGCTCCGGCGCA\n",
       "5 ACCTTGAGCTCCCAGCCTTTGCCCCACCCCTCGCTCCCGGAACTCCACCTCCCAGAAGGCAGCGAGAACCGCACATGTGGCTAATCTTTCAGCGGAAAAGGTGTCGCGCACGCGCAGAGAGCGCGGCTCCGGCGCA\n",
       "6 ACCTTGAGCTCCCAGCCTTTGCCCCACCCCTCGCTCCCGGAACTCCACCTCCCAGAAGGCAGCGAGAACCGCACATGTGGCTAATCTTTCAGCGGAAAAGGTGTCGCGCACGCGCAGAGAGCGCGGCTCCGGCGCA\n",
       "  seq_type count id      pass_restrict_seq pass_restrict_fwd_seq\n",
       "1 pos      1     ABCF3.1 TRUE              TRUE                 \n",
       "2 pos      2     ABCF3.2 TRUE              TRUE                 \n",
       "3 pos      3     ABCF3.3 TRUE              TRUE                 \n",
       "4 pos      4     ABCF3.4 TRUE              TRUE                 \n",
       "5 pos      5     ABCF3.5 TRUE              TRUE                 \n",
       "6 pos      6     ABCF3.6 TRUE              TRUE                 \n",
       "  pass_restrict_seq_xho barcode              len_seq ⋯ 1:n()\n",
       "1 TRUE                  AGTTGGAATGAAGGCCTCGA 136     ⋯  4   \n",
       "2 TRUE                  GTCATAGTCAGAGAAGCTCT 136     ⋯  3   \n",
       "3 TRUE                  GATACTTCATGCAATATGCT 136     ⋯ 19   \n",
       "4 TRUE                  CGATTGCAGGAGAATAGTCC 136     ⋯  2   \n",
       "5 TRUE                  TGAGAACCAGTTCCAACGCA 136     ⋯ 11   \n",
       "6 TRUE                  GCTGGCGGCAATCGCTCAAC 136     ⋯  8   \n",
       "  filler               filler_check\n",
       "1 TCCTTACAAAAGAACGGCCG TRUE        \n",
       "2 TCTCTTGACGCGATGCGAGC TRUE        \n",
       "3 TGCTATGGGGGATAGATCTT TRUE        \n",
       "4 ACCGTGCCAGGGCTCACCGT TRUE        \n",
       "5 AGACTGGTAGTGAACCTGAT TRUE        \n",
       "6 AGAGTAGGATAAGAGCCGCT TRUE        \n",
       "  oligo                                                                                                                                                                                                                        \n",
       "1 ACTGGCCGCTTCACTGACCTTGAGCTCCCAGCCTTTGCCCCACCCCTCGCTCCCGGAACTCCACCTCCCAGAAGGCAGCGAGAACCGCACATGTGGCTAATCTTTCAGCGGAAAAGGTGTCGCGCACGCGCAGAGAGCGCGGCTCCGGCGCACTCGAGTCCTTACAAAAGAACGGCCGGCTAGCAGTTGGAATGAAGGCCTCGAAGATCGGAAGAGCGTCG\n",
       "2 ACTGGCCGCTTCACTGACCTTGAGCTCCCAGCCTTTGCCCCACCCCTCGCTCCCGGAACTCCACCTCCCAGAAGGCAGCGAGAACCGCACATGTGGCTAATCTTTCAGCGGAAAAGGTGTCGCGCACGCGCAGAGAGCGCGGCTCCGGCGCACTCGAGTCTCTTGACGCGATGCGAGCGCTAGCGTCATAGTCAGAGAAGCTCTAGATCGGAAGAGCGTCG\n",
       "3 ACTGGCCGCTTCACTGACCTTGAGCTCCCAGCCTTTGCCCCACCCCTCGCTCCCGGAACTCCACCTCCCAGAAGGCAGCGAGAACCGCACATGTGGCTAATCTTTCAGCGGAAAAGGTGTCGCGCACGCGCAGAGAGCGCGGCTCCGGCGCACTCGAGTGCTATGGGGGATAGATCTTGCTAGCGATACTTCATGCAATATGCTAGATCGGAAGAGCGTCG\n",
       "4 ACTGGCCGCTTCACTGACCTTGAGCTCCCAGCCTTTGCCCCACCCCTCGCTCCCGGAACTCCACCTCCCAGAAGGCAGCGAGAACCGCACATGTGGCTAATCTTTCAGCGGAAAAGGTGTCGCGCACGCGCAGAGAGCGCGGCTCCGGCGCACTCGAGACCGTGCCAGGGCTCACCGTGCTAGCCGATTGCAGGAGAATAGTCCAGATCGGAAGAGCGTCG\n",
       "5 ACTGGCCGCTTCACTGACCTTGAGCTCCCAGCCTTTGCCCCACCCCTCGCTCCCGGAACTCCACCTCCCAGAAGGCAGCGAGAACCGCACATGTGGCTAATCTTTCAGCGGAAAAGGTGTCGCGCACGCGCAGAGAGCGCGGCTCCGGCGCACTCGAGAGACTGGTAGTGAACCTGATGCTAGCTGAGAACCAGTTCCAACGCAAGATCGGAAGAGCGTCG\n",
       "6 ACTGGCCGCTTCACTGACCTTGAGCTCCCAGCCTTTGCCCCACCCCTCGCTCCCGGAACTCCACCTCCCAGAAGGCAGCGAGAACCGCACATGTGGCTAATCTTTCAGCGGAAAAGGTGTCGCGCACGCGCAGAGAGCGCGGCTCCGGCGCACTCGAGAGAGTAGGATAAGAGCCGCTGCTAGCGCTGGCGGCAATCGCTCAACAGATCGGAAGAGCGTCG\n",
       "  len_oligo pass_restrict_ECORI pass_restrict_BAMHI pass_restrict_XHOI\n",
       "1 221       TRUE                TRUE                TRUE              \n",
       "2 221       TRUE                TRUE                TRUE              \n",
       "3 221       TRUE                TRUE                TRUE              \n",
       "4 221       TRUE                TRUE                TRUE              \n",
       "5 221       TRUE                TRUE                TRUE              \n",
       "6 221       TRUE                TRUE                TRUE              \n",
       "  pass_restrict_NHEI pass_all\n",
       "1 TRUE               TRUE    \n",
       "2 TRUE               TRUE    \n",
       "3 TRUE               TRUE    \n",
       "4 TRUE               TRUE    \n",
       "5 TRUE               TRUE    \n",
       "6 TRUE               TRUE    "
      ]
     },
     "metadata": {},
     "output_type": "display_data"
    }
   ],
   "source": [
    "colnames(oligo_df_filt)\n",
    "dim(oligo_df_filt)\n",
    "head(oligo_df_filt)\n"
   ]
  },
  {
   "cell_type": "code",
   "execution_count": 75,
   "metadata": {},
   "outputs": [
    {
     "data": {
      "text/html": [
       "<ol class=list-inline>\n",
       "\t<li>221</li>\n",
       "\t<li>220</li>\n",
       "</ol>\n"
      ],
      "text/latex": [
       "\\begin{enumerate*}\n",
       "\\item 221\n",
       "\\item 220\n",
       "\\end{enumerate*}\n"
      ],
      "text/markdown": [
       "1. 221\n",
       "2. 220\n",
       "\n",
       "\n"
      ],
      "text/plain": [
       "[1] 221 220"
      ]
     },
     "metadata": {},
     "output_type": "display_data"
    }
   ],
   "source": [
    "unique(nchar(oligo_df_filt$oligo))"
   ]
  },
  {
   "cell_type": "markdown",
   "metadata": {},
   "source": [
    "oligos are 221 bp long"
   ]
  },
  {
   "cell_type": "code",
   "execution_count": 76,
   "metadata": {},
   "outputs": [],
   "source": [
    "write.csv(oligo_df_filt, file=paste0(save_dir,'mpra_oligo_df_filt.csv'))\n",
    "oligo_df_filt = read.csv(paste0(save_dir,'mpra_oligo_df_filt.csv'),stringsAsFactors=F)"
   ]
  },
  {
   "cell_type": "markdown",
   "metadata": {},
   "source": [
    "## 6E create submission worthy txt files\n",
    "- `../data/processed/fig4_modelling/vocab_sum_final/mpra_oligo_df_final.txt` - with columns: name, seq_type, id, oligo, seq, filler, barcode\n",
    "- `../data/processed/fig4_modelling/vocab_sum_final/mpra_oligo_df_final_SUBMIT.txt` - with columns: id, oligo\n"
   ]
  },
  {
   "cell_type": "code",
   "execution_count": 77,
   "metadata": {},
   "outputs": [],
   "source": [
    "write.table(select(oligo_df_filt, name, seq_type, id, oligo, seq, filler, barcode), file=paste0(save_dir,'mpra_oligo_df_final.txt'),sep='\\t', quote = FALSE,row.names=FALSE)\n",
    "write.table(select(oligo_df_filt,  id, oligo), file=paste0(save_dir,'mpra_oligo_df_final_SUBMIT.txt'),sep='\\t', quote = FALSE,row.names=FALSE)\n"
   ]
  },
  {
   "cell_type": "code",
   "execution_count": null,
   "metadata": {},
   "outputs": [],
   "source": []
  },
  {
   "cell_type": "code",
   "execution_count": null,
   "metadata": {},
   "outputs": [],
   "source": []
  }
 ],
 "metadata": {
  "kernelspec": {
   "display_name": "R",
   "language": "R",
   "name": "ir"
  },
  "language_info": {
   "codemirror_mode": "r",
   "file_extension": ".r",
   "mimetype": "text/x-r-source",
   "name": "R",
   "pygments_lexer": "r",
   "version": "3.6.1"
  }
 },
 "nbformat": 4,
 "nbformat_minor": 4
}
