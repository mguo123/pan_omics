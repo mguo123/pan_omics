{
 "cells": [
  {
   "cell_type": "markdown",
   "metadata": {},
   "source": [
    "05/14/2020\n",
    "\n",
    "# 1. reproduce max's P-P, E-P, and E-E #'s \n",
    "\n",
    "Maxs paper\"Promoter/Enhancer Annotations of HiChIP Loops Promoters were defined as 1 kb regions centered at the TSS, and enhancers were identified as chromHMM enhancers not overlapping with promoters in any cell type. We annotated loop anchors as ‘other’ if the anchor did not contain a promoter or enhancer as defined above.\"\\"
   ]
  },
  {
   "cell_type": "code",
   "execution_count": 1,
   "metadata": {},
   "outputs": [],
   "source": [
    "import pandas as pd\n",
    "import numpy as np\n",
    "import subprocess\n",
    "import seaborn as sns\n",
    "import pybedtools"
   ]
  },
  {
   "cell_type": "markdown",
   "metadata": {},
   "source": [
    "# 1A. make promoter bed"
   ]
  },
  {
   "cell_type": "code",
   "execution_count": 9,
   "metadata": {},
   "outputs": [],
   "source": [
    "tss_file = '../data/external/TSS_annon_hg19.csv'\n",
    "tss_df = pd.read_csv(tss_file,index_col=0)\n",
    "tss_df['start'] = tss_df['loc'].apply(lambda x: max(0,x-1000))\n",
    "tss_df['stop'] = tss_df['end'].apply(lambda x: x+1000)\n",
    "tss_df = tss_df[['chr','start','stop','TSS']]"
   ]
  },
  {
   "cell_type": "code",
   "execution_count": 13,
   "metadata": {},
   "outputs": [
    {
     "data": {
      "text/html": [
       "<div>\n",
       "<style scoped>\n",
       "    .dataframe tbody tr th:only-of-type {\n",
       "        vertical-align: middle;\n",
       "    }\n",
       "\n",
       "    .dataframe tbody tr th {\n",
       "        vertical-align: top;\n",
       "    }\n",
       "\n",
       "    .dataframe thead th {\n",
       "        text-align: right;\n",
       "    }\n",
       "</style>\n",
       "<table border=\"1\" class=\"dataframe\">\n",
       "  <thead>\n",
       "    <tr style=\"text-align: right;\">\n",
       "      <th></th>\n",
       "      <th>chrom</th>\n",
       "      <th>start</th>\n",
       "      <th>end</th>\n",
       "      <th>name</th>\n",
       "    </tr>\n",
       "  </thead>\n",
       "  <tbody>\n",
       "    <tr>\n",
       "      <td>0</td>\n",
       "      <td>chr1</td>\n",
       "      <td>1845266</td>\n",
       "      <td>1847266</td>\n",
       "      <td>CALML6</td>\n",
       "    </tr>\n",
       "    <tr>\n",
       "      <td>1</td>\n",
       "      <td>chr1</td>\n",
       "      <td>231375933</td>\n",
       "      <td>231377933</td>\n",
       "      <td>C1orf131</td>\n",
       "    </tr>\n",
       "    <tr>\n",
       "      <td>2</td>\n",
       "      <td>chr1</td>\n",
       "      <td>241682061</td>\n",
       "      <td>241684061</td>\n",
       "      <td>FH</td>\n",
       "    </tr>\n",
       "    <tr>\n",
       "      <td>3</td>\n",
       "      <td>chr1</td>\n",
       "      <td>120201421</td>\n",
       "      <td>120203421</td>\n",
       "      <td>PHGDH</td>\n",
       "    </tr>\n",
       "    <tr>\n",
       "      <td>4</td>\n",
       "      <td>chr1</td>\n",
       "      <td>204134465</td>\n",
       "      <td>204136465</td>\n",
       "      <td>REN</td>\n",
       "    </tr>\n",
       "  </tbody>\n",
       "</table>\n",
       "</div>"
      ],
      "text/plain": [
       "  chrom      start        end      name\n",
       "0  chr1    1845266    1847266    CALML6\n",
       "1  chr1  231375933  231377933  C1orf131\n",
       "2  chr1  241682061  241684061        FH\n",
       "3  chr1  120201421  120203421     PHGDH\n",
       "4  chr1  204134465  204136465       REN"
      ]
     },
     "execution_count": 13,
     "metadata": {},
     "output_type": "execute_result"
    }
   ],
   "source": [
    "tss_bed = pybedtools.BedTool.from_dataframe(tss_df)\n",
    "tss_bed.to_dataframe()[:5]"
   ]
  },
  {
   "cell_type": "markdown",
   "metadata": {},
   "source": [
    "# 1B. get enhancer bed\n",
    "\n",
    "E116 - GM12878\n",
    "E123 - K561"
   ]
  },
  {
   "cell_type": "code",
   "execution_count": 14,
   "metadata": {},
   "outputs": [],
   "source": [
    "gm12878_chromHMM_bed = pybedtools.BedTool('../data/external/chromHMM/E116_15_coreMarks_dense.bed')\n",
    "K562_chromHMM_bed = pybedtools.BedTool('../data/external/chromHMM/E123_15_coreMarks_dense.bed')\n"
   ]
  },
  {
   "cell_type": "markdown",
   "metadata": {},
   "source": [
    "K562_chromHMM_bed.to_dataframe()"
   ]
  },
  {
   "cell_type": "markdown",
   "metadata": {},
   "source": [
    "# 1C. get loops/anchors"
   ]
  },
  {
   "cell_type": "code",
   "execution_count": 159,
   "metadata": {},
   "outputs": [
    {
     "name": "stdout",
     "output_type": "stream",
     "text": [
      "(6396, 6) (1553, 6)\n"
     ]
    }
   ],
   "source": [
    "gm_loops = pd.read_excel('../data/external/mumbach2017/supp_table_2.xlsx',sheet_name='GM12878 H3K27ac Loops')\n",
    "k562_loops = pd.read_excel('../data/external/mumbach2017/supp_table_2.xlsx',sheet_name='K562 H3K27ac Loops')\n",
    "print(gm_loops.shape, k562_loops.shape)"
   ]
  },
  {
   "cell_type": "code",
   "execution_count": 160,
   "metadata": {},
   "outputs": [
    {
     "data": {
      "text/html": [
       "<div>\n",
       "<style scoped>\n",
       "    .dataframe tbody tr th:only-of-type {\n",
       "        vertical-align: middle;\n",
       "    }\n",
       "\n",
       "    .dataframe tbody tr th {\n",
       "        vertical-align: top;\n",
       "    }\n",
       "\n",
       "    .dataframe thead th {\n",
       "        text-align: right;\n",
       "    }\n",
       "</style>\n",
       "<table border=\"1\" class=\"dataframe\">\n",
       "  <thead>\n",
       "    <tr style=\"text-align: right;\">\n",
       "      <th></th>\n",
       "      <th>chr_x</th>\n",
       "      <th>start_x</th>\n",
       "      <th>stop_x</th>\n",
       "      <th>chr_y</th>\n",
       "      <th>start_y</th>\n",
       "      <th>stop_y</th>\n",
       "    </tr>\n",
       "  </thead>\n",
       "  <tbody>\n",
       "    <tr>\n",
       "      <td>0</td>\n",
       "      <td>10</td>\n",
       "      <td>101190000</td>\n",
       "      <td>101195000</td>\n",
       "      <td>10</td>\n",
       "      <td>101375000</td>\n",
       "      <td>101380000</td>\n",
       "    </tr>\n",
       "    <tr>\n",
       "      <td>1</td>\n",
       "      <td>10</td>\n",
       "      <td>101375000</td>\n",
       "      <td>101380000</td>\n",
       "      <td>10</td>\n",
       "      <td>101470000</td>\n",
       "      <td>101475000</td>\n",
       "    </tr>\n",
       "    <tr>\n",
       "      <td>2</td>\n",
       "      <td>10</td>\n",
       "      <td>101605000</td>\n",
       "      <td>101610000</td>\n",
       "      <td>10</td>\n",
       "      <td>101805000</td>\n",
       "      <td>101810000</td>\n",
       "    </tr>\n",
       "    <tr>\n",
       "      <td>3</td>\n",
       "      <td>10</td>\n",
       "      <td>101730000</td>\n",
       "      <td>101735000</td>\n",
       "      <td>10</td>\n",
       "      <td>101765000</td>\n",
       "      <td>101770000</td>\n",
       "    </tr>\n",
       "    <tr>\n",
       "      <td>4</td>\n",
       "      <td>10</td>\n",
       "      <td>101730000</td>\n",
       "      <td>101735000</td>\n",
       "      <td>10</td>\n",
       "      <td>101805000</td>\n",
       "      <td>101810000</td>\n",
       "    </tr>\n",
       "  </tbody>\n",
       "</table>\n",
       "</div>"
      ],
      "text/plain": [
       "  chr_x    start_x     stop_x chr_y    start_y     stop_y\n",
       "0    10  101190000  101195000    10  101375000  101380000\n",
       "1    10  101375000  101380000    10  101470000  101475000\n",
       "2    10  101605000  101610000    10  101805000  101810000\n",
       "3    10  101730000  101735000    10  101765000  101770000\n",
       "4    10  101730000  101735000    10  101805000  101810000"
      ]
     },
     "execution_count": 160,
     "metadata": {},
     "output_type": "execute_result"
    }
   ],
   "source": [
    "gm_loops[:5]"
   ]
  },
  {
   "cell_type": "code",
   "execution_count": 161,
   "metadata": {},
   "outputs": [],
   "source": [
    "gm_loops['source'] =  'chr' + gm_loops['chr_x'].map(str) + '_' + gm_loops['start_x'].map(str)+ '_' + gm_loops['stop_x'].map(str)\n",
    "gm_loops['target'] =  'chr' + gm_loops['chr_y'].map(str) + '_' + gm_loops['start_y'].map(str)+ '_' + gm_loops['stop_y'].map(str)\n",
    "k562_loops['source'] =  'chr' + k562_loops['chr_x'].map(str) + '_' + k562_loops['start_x'].map(str)+ '_' + k562_loops['stop_x'].map(str)\n",
    "k562_loops['target'] =  'chr' + k562_loops['chr_y'].map(str) + '_' + k562_loops['start_y'].map(str)+ '_' + k562_loops['stop_y'].map(str)"
   ]
  },
  {
   "cell_type": "code",
   "execution_count": 162,
   "metadata": {},
   "outputs": [
    {
     "name": "stdout",
     "output_type": "stream",
     "text": [
      "(10714, 4) (2955, 4)\n"
     ]
    }
   ],
   "source": [
    "anchor_1 = gm_loops[['chr_x','start_x','stop_x']]\n",
    "anchor_2 = gm_loops[['chr_y','start_y','stop_y']]\n",
    "anchor_1.columns = ['chr','start','stop']\n",
    "anchor_2.columns = ['chr','start','stop']\n",
    "gm_anchors = pd.concat([anchor_1,anchor_2],axis=0).drop_duplicates()\n",
    "gm_anchors['chr'] = 'chr'+gm_anchors['chr'].map(str)\n",
    "gm_anchors['anchor_name'] = gm_anchors['chr']+ '_' + gm_anchors['start'].map(str)+ '_' + gm_anchors['stop'].map(str)\n",
    "\n",
    "anchor_1 = k562_loops[['chr_x','start_x','stop_x']]\n",
    "anchor_2 = k562_loops[['chr_y','start_y','stop_y']]\n",
    "anchor_1.columns = ['chr','start','stop']\n",
    "anchor_2.columns = ['chr','start','stop']\n",
    "k562_anchors = pd.concat([anchor_1,anchor_2],axis=0).drop_duplicates()\n",
    "k562_anchors['chr'] = 'chr'+k562_anchors['chr'].map(str)\n",
    "k562_anchors['anchor_name'] = k562_anchors['chr']+ '_' + k562_anchors['start'].map(str)+ '_' + k562_anchors['stop'].map(str)\n",
    "\n",
    "print(gm_anchors.shape, k562_anchors.shape)"
   ]
  },
  {
   "cell_type": "code",
   "execution_count": 163,
   "metadata": {},
   "outputs": [],
   "source": [
    "gm_anchors_bed = pybedtools.BedTool.from_dataframe(gm_anchors)\n",
    "k562_anchors_bed = pybedtools.BedTool.from_dataframe(k562_anchors)"
   ]
  },
  {
   "cell_type": "code",
   "execution_count": 164,
   "metadata": {},
   "outputs": [
    {
     "data": {
      "text/html": [
       "<div>\n",
       "<style scoped>\n",
       "    .dataframe tbody tr th:only-of-type {\n",
       "        vertical-align: middle;\n",
       "    }\n",
       "\n",
       "    .dataframe tbody tr th {\n",
       "        vertical-align: top;\n",
       "    }\n",
       "\n",
       "    .dataframe thead th {\n",
       "        text-align: right;\n",
       "    }\n",
       "</style>\n",
       "<table border=\"1\" class=\"dataframe\">\n",
       "  <thead>\n",
       "    <tr style=\"text-align: right;\">\n",
       "      <th></th>\n",
       "      <th>chrom</th>\n",
       "      <th>start</th>\n",
       "      <th>end</th>\n",
       "      <th>name</th>\n",
       "    </tr>\n",
       "  </thead>\n",
       "  <tbody>\n",
       "    <tr>\n",
       "      <td>0</td>\n",
       "      <td>chr10</td>\n",
       "      <td>101190000</td>\n",
       "      <td>101195000</td>\n",
       "      <td>chr10_101190000_101195000</td>\n",
       "    </tr>\n",
       "    <tr>\n",
       "      <td>1</td>\n",
       "      <td>chr10</td>\n",
       "      <td>101375000</td>\n",
       "      <td>101380000</td>\n",
       "      <td>chr10_101375000_101380000</td>\n",
       "    </tr>\n",
       "    <tr>\n",
       "      <td>2</td>\n",
       "      <td>chr10</td>\n",
       "      <td>101605000</td>\n",
       "      <td>101610000</td>\n",
       "      <td>chr10_101605000_101610000</td>\n",
       "    </tr>\n",
       "    <tr>\n",
       "      <td>3</td>\n",
       "      <td>chr10</td>\n",
       "      <td>101730000</td>\n",
       "      <td>101735000</td>\n",
       "      <td>chr10_101730000_101735000</td>\n",
       "    </tr>\n",
       "    <tr>\n",
       "      <td>4</td>\n",
       "      <td>chr10</td>\n",
       "      <td>101765000</td>\n",
       "      <td>101770000</td>\n",
       "      <td>chr10_101765000_101770000</td>\n",
       "    </tr>\n",
       "    <tr>\n",
       "      <td>...</td>\n",
       "      <td>...</td>\n",
       "      <td>...</td>\n",
       "      <td>...</td>\n",
       "      <td>...</td>\n",
       "    </tr>\n",
       "    <tr>\n",
       "      <td>10709</td>\n",
       "      <td>chrX</td>\n",
       "      <td>9640000</td>\n",
       "      <td>9650000</td>\n",
       "      <td>chrX_9640000_9650000</td>\n",
       "    </tr>\n",
       "    <tr>\n",
       "      <td>10710</td>\n",
       "      <td>chrX</td>\n",
       "      <td>94325000</td>\n",
       "      <td>94330000</td>\n",
       "      <td>chrX_94325000_94330000</td>\n",
       "    </tr>\n",
       "    <tr>\n",
       "      <td>10711</td>\n",
       "      <td>chrX</td>\n",
       "      <td>9640000</td>\n",
       "      <td>9645000</td>\n",
       "      <td>chrX_9640000_9645000</td>\n",
       "    </tr>\n",
       "    <tr>\n",
       "      <td>10712</td>\n",
       "      <td>chrX</td>\n",
       "      <td>9960000</td>\n",
       "      <td>9970000</td>\n",
       "      <td>chrX_9960000_9970000</td>\n",
       "    </tr>\n",
       "    <tr>\n",
       "      <td>10713</td>\n",
       "      <td>chrX</td>\n",
       "      <td>9960000</td>\n",
       "      <td>9965000</td>\n",
       "      <td>chrX_9960000_9965000</td>\n",
       "    </tr>\n",
       "  </tbody>\n",
       "</table>\n",
       "<p>10714 rows × 4 columns</p>\n",
       "</div>"
      ],
      "text/plain": [
       "       chrom      start        end                       name\n",
       "0      chr10  101190000  101195000  chr10_101190000_101195000\n",
       "1      chr10  101375000  101380000  chr10_101375000_101380000\n",
       "2      chr10  101605000  101610000  chr10_101605000_101610000\n",
       "3      chr10  101730000  101735000  chr10_101730000_101735000\n",
       "4      chr10  101765000  101770000  chr10_101765000_101770000\n",
       "...      ...        ...        ...                        ...\n",
       "10709   chrX    9640000    9650000       chrX_9640000_9650000\n",
       "10710   chrX   94325000   94330000     chrX_94325000_94330000\n",
       "10711   chrX    9640000    9645000       chrX_9640000_9645000\n",
       "10712   chrX    9960000    9970000       chrX_9960000_9970000\n",
       "10713   chrX    9960000    9965000       chrX_9960000_9965000\n",
       "\n",
       "[10714 rows x 4 columns]"
      ]
     },
     "execution_count": 164,
     "metadata": {},
     "output_type": "execute_result"
    }
   ],
   "source": [
    "gm_anchors_bed.to_dataframe()"
   ]
  },
  {
   "cell_type": "markdown",
   "metadata": {},
   "source": [
    "### 1Ci for gms"
   ]
  },
  {
   "cell_type": "code",
   "execution_count": 70,
   "metadata": {},
   "outputs": [
    {
     "name": "stdout",
     "output_type": "stream",
     "text": [
      "(2162,)\n"
     ]
    }
   ],
   "source": [
    "anchor_bed_prom = gm_anchors_bed.intersect(tss_bed,wa=True,wb=True)\n",
    "promoter_anchors = anchor_bed_prom.to_dataframe()['name'].unique()\n",
    "print(promoter_anchors.shape)"
   ]
  },
  {
   "cell_type": "code",
   "execution_count": 69,
   "metadata": {},
   "outputs": [
    {
     "name": "stdout",
     "output_type": "stream",
     "text": [
      "(7107,)\n",
      "(5680,)\n"
     ]
    },
    {
     "name": "stderr",
     "output_type": "stream",
     "text": [
      "/Users/mguo123/opt/anaconda3/lib/python3.7/site-packages/pybedtools/bedtool.py:3681: UserWarning: Default names for filetype bed are:\n",
      "['chrom', 'start', 'end', 'name', 'score', 'strand', 'thickStart', 'thickEnd', 'itemRgb', 'blockCount', 'blockSizes', 'blockStarts']\n",
      "but file has 13 fields; you can supply custom names with the `names` kwarg\n",
      "  \"`names` kwarg\" % (self.file_type, _names, self.field_count())\n"
     ]
    }
   ],
   "source": [
    "anchor_bed_chromHMM = gm_anchors_bed.intersect(gm12878_chromHMM_bed,wa=True,wb=True).to_dataframe(header=None)\n",
    "anchor_bed_chromHMM_enh = anchor_bed_chromHMM[anchor_bed_chromHMM.loc[:,7].isin(['7_Enh','6_EnhG'])]\n",
    "enhancer_anchors = anchor_bed_chromHMM_enh.loc[:,3].unique()#.shape \n",
    "print(enhancer_anchors.shape) # num enhancers before filter promoters out\n",
    "enhancer_anchors = np.array(list(set(enhancer_anchors) - set(promoter_anchors)))\n",
    "print(enhancer_anchors.shape) # num enhancers after filter promoters out\n"
   ]
  },
  {
   "cell_type": "code",
   "execution_count": 82,
   "metadata": {},
   "outputs": [
    {
     "name": "stdout",
     "output_type": "stream",
     "text": [
      "num anchors 10714\n",
      "% anchors captured by P or E:  0.21849915997759942\n",
      "% anchors captured by P:  0.08418891170431211\n",
      "% anchors captured by E:  0.13431024827328727\n"
     ]
    }
   ],
   "source": [
    "print('num anchors', gm_anchors.shape[0])\n",
    "print('% anchors captured by P or E: ',(enhancer_anchors.shape[0] +promoter_anchors.shape[0] )/gm_anchors.shape[0] )\n",
    "print('% anchors captured by P: ',(promoter_anchors.shape[0] )/gm_anchors.shape[0] )\n",
    "print('% anchors captured by E: ',(enhancer_anchors.shape[0] )/gm_anchors.shape[0] )\n"
   ]
  },
  {
   "cell_type": "code",
   "execution_count": 165,
   "metadata": {},
   "outputs": [
    {
     "name": "stdout",
     "output_type": "stream",
     "text": [
      "num loops 6396\n",
      "num P-P:  28\n",
      "num P-E:  68\n",
      "num E-E:  43\n",
      "num loops to focus on 139\n",
      "% P-P:  0.2014388489208633\n",
      "% P-E:  0.4892086330935252\n",
      "% E-E:  0.30935251798561153\n"
     ]
    }
   ],
   "source": [
    "loop_df = gm_loops\n",
    "loop_df['source_P'] = loop_df.source.isin(promoter_anchors)\n",
    "loop_df['target_P'] = loop_df.target.isin(promoter_anchors)\n",
    "loop_df['source_E'] = loop_df.source.isin(enhancer_anchors)\n",
    "loop_df['target_E'] = loop_df.target.isin(enhancer_anchors)\n",
    "    \n",
    "loop_df['is_P_P'] = loop_df['source_P'] & loop_df['target_P']\n",
    "loop_df['is_P_E'] = (loop_df['source_P'] & loop_df['target_E']) |  (loop_df['source_E'] & loop_df['target_P'])\n",
    "loop_df['is_E_E'] =loop_df['source_E'] & loop_df['target_E']\n",
    "print('num loops',loop_df.shape[0])\n",
    "print('num P-P: ',loop_df['is_P_P'].sum())#,loop_df['is_P_P'].sum()/loop_df.shape[0])\n",
    "print('num P-E: ',loop_df['is_P_E'].sum())#,loop_df['is_P_P'].sum()/loop_df.shape[0])\n",
    "print('num E-E: ',loop_df['is_E_E'].sum())#,loop_df['is_P_P'].sum()/loop_df.shape[0])\n",
    "sum_loops = loop_df['is_P_P'].sum() + loop_df['is_P_E'].sum() + loop_df['is_E_E'].sum()\n",
    "print('num loops to focus on', sum_loops)\n",
    "print('% P-P: ',loop_df['is_P_P'].sum()/sum_loops)#,loop_df['is_P_P'].sum()/loop_df.shape[0])\n",
    "print('% P-E: ',loop_df['is_P_E'].sum()/sum_loops)#,loop_df['is_P_P'].sum()/loop_df.shape[0])\n",
    "print('% E-E: ',loop_df['is_E_E'].sum()/sum_loops)#,loop_df['is_P_P'].sum()/loop_df.shape[0])\n"
   ]
  },
  {
   "cell_type": "code",
   "execution_count": null,
   "metadata": {},
   "outputs": [],
   "source": []
  },
  {
   "cell_type": "code",
   "execution_count": null,
   "metadata": {},
   "outputs": [],
   "source": []
  },
  {
   "cell_type": "markdown",
   "metadata": {},
   "source": [
    "### 1Cii for K562"
   ]
  },
  {
   "cell_type": "code",
   "execution_count": 77,
   "metadata": {},
   "outputs": [
    {
     "name": "stdout",
     "output_type": "stream",
     "text": [
      "(902,)\n"
     ]
    }
   ],
   "source": [
    "anchor_bed_prom = k562_anchors_bed.intersect(tss_bed,wa=True,wb=True)\n",
    "promoter_anchors = anchor_bed_prom.to_dataframe()['name'].unique()\n",
    "print(promoter_anchors.shape)"
   ]
  },
  {
   "cell_type": "code",
   "execution_count": 79,
   "metadata": {},
   "outputs": [
    {
     "name": "stdout",
     "output_type": "stream",
     "text": [
      "(2191,)\n",
      "(1439,)\n"
     ]
    },
    {
     "name": "stderr",
     "output_type": "stream",
     "text": [
      "/Users/mguo123/opt/anaconda3/lib/python3.7/site-packages/pybedtools/bedtool.py:3681: UserWarning: Default names for filetype bed are:\n",
      "['chrom', 'start', 'end', 'name', 'score', 'strand', 'thickStart', 'thickEnd', 'itemRgb', 'blockCount', 'blockSizes', 'blockStarts']\n",
      "but file has 13 fields; you can supply custom names with the `names` kwarg\n",
      "  \"`names` kwarg\" % (self.file_type, _names, self.field_count())\n"
     ]
    }
   ],
   "source": [
    "anchor_bed_chromHMM = k562_anchors_bed.intersect(K562_chromHMM_bed,wa=True,wb=True).to_dataframe(header=None)\n",
    "anchor_bed_chromHMM_enh = anchor_bed_chromHMM[anchor_bed_chromHMM.loc[:,7].isin(['7_Enh','6_EnhG'])]\n",
    "enhancer_anchors = anchor_bed_chromHMM_enh.loc[:,3].unique()#.shape \n",
    "print(enhancer_anchors.shape) # num enhancers before filter promoters out\n",
    "enhancer_anchors = np.array(list(set(enhancer_anchors) - set(promoter_anchors)))\n",
    "print(enhancer_anchors.shape) # num enhancers after filter promoters out\n"
   ]
  },
  {
   "cell_type": "code",
   "execution_count": 83,
   "metadata": {},
   "outputs": [
    {
     "name": "stdout",
     "output_type": "stream",
     "text": [
      "num anchors 2955\n",
      "% anchors captured by P or E:  0.7922165820642978\n",
      "% anchors captured by P:  0.30524534686971233\n",
      "% anchors captured by E:  0.48697123519458546\n"
     ]
    }
   ],
   "source": [
    "print('num anchors', k562_anchors.shape[0])\n",
    "print('% anchors captured by P or E: ',(enhancer_anchors.shape[0] +promoter_anchors.shape[0] )/k562_anchors.shape[0] )\n",
    "print('% anchors captured by P: ',(promoter_anchors.shape[0] )/k562_anchors.shape[0] )\n",
    "print('% anchors captured by E: ',(enhancer_anchors.shape[0] )/k562_anchors.shape[0] )\n"
   ]
  },
  {
   "cell_type": "code",
   "execution_count": 81,
   "metadata": {},
   "outputs": [
    {
     "name": "stdout",
     "output_type": "stream",
     "text": [
      "num loops 1553\n",
      "num P-P:  118\n",
      "num P-E:  459\n",
      "num E-E:  394\n",
      "num loops to focus on 971\n",
      "% P-P:  0.121524201853759\n",
      "% P-E:  0.4727085478887745\n",
      "% E-E:  0.4057672502574665\n"
     ]
    }
   ],
   "source": [
    "loop_df = k562_loops\n",
    "loop_df['source_P'] = loop_df.source.isin(promoter_anchors)\n",
    "loop_df['target_P'] = loop_df.target.isin(promoter_anchors)\n",
    "loop_df['source_E'] = loop_df.source.isin(enhancer_anchors)\n",
    "loop_df['target_E'] = loop_df.target.isin(enhancer_anchors)\n",
    "    \n",
    "loop_df['is_P_P'] = loop_df['source_P'] & loop_df['target_P']\n",
    "loop_df['is_P_E'] = (loop_df['source_P'] & loop_df['target_E']) |  (loop_df['source_E'] & loop_df['target_P'])\n",
    "loop_df['is_E_E'] =loop_df['source_E'] & loop_df['target_E']\n",
    "print('num loops',loop_df.shape[0])\n",
    "print('num P-P: ',loop_df['is_P_P'].sum())#,loop_df['is_P_P'].sum()/loop_df.shape[0])\n",
    "print('num P-E: ',loop_df['is_P_E'].sum())#,loop_df['is_P_P'].sum()/loop_df.shape[0])\n",
    "print('num E-E: ',loop_df['is_E_E'].sum())#,loop_df['is_P_P'].sum()/loop_df.shape[0])\n",
    "sum_loops = loop_df['is_P_P'].sum() + loop_df['is_P_E'].sum() + loop_df['is_E_E'].sum()\n",
    "print('num loops to focus on', sum_loops)\n",
    "print('% P-P: ',loop_df['is_P_P'].sum()/sum_loops)#,loop_df['is_P_P'].sum()/loop_df.shape[0])\n",
    "print('% P-E: ',loop_df['is_P_E'].sum()/sum_loops)#,loop_df['is_P_P'].sum()/loop_df.shape[0])\n",
    "print('% E-E: ',loop_df['is_E_E'].sum()/sum_loops)#,loop_df['is_P_P'].sum()/loop_df.shape[0])\n"
   ]
  },
  {
   "cell_type": "markdown",
   "metadata": {},
   "source": [
    "```\n",
    "kk i compared to max's results\n",
    "\n",
    "\n",
    "\n",
    "\n",
    "\n",
    "9:21\n",
    "this is max's GM12878 data percentage:\n",
    "num anchors 10714\n",
    "% anchors captured by P or E:  0.21849915997759942\n",
    "% anchors captured by P:  0.08418891170431211\n",
    "% anchors captured by E:  0.13431024827328727\n",
    "num loops 6396\n",
    "num P-P:  338\n",
    "num P-E:  1263\n",
    "num E-E:  2136\n",
    "num loops to focus on 3737\n",
    "% P-P:  0.09044688252609044\n",
    "% P-E:  0.337971635001338\n",
    "% E-E:  0.5715814824725716\n",
    "9:21\n",
    "i modified our stuff\n",
    "9:22\n",
    "P-P (don't care about accessibility here\n",
    "9:22\n",
    "P-E = P-PIRacc (so a promoter region connecting to an accessible region that is not a promoter)\n",
    "9:22\n",
    "E-E = PIRacc-PIRacc\n",
    "9:22\n",
    "and then you get these percentages\n",
    "9:22\n",
    "perc_is_P_P_adj 0.08977712805519222\n",
    "perc_is_P_PIRacc_adj 0.3681875304557462\n",
    "perc_is_PIRacc_PIRacc_adj 0.5420353414890615\n",
    "9:27\n",
    "this is max's K562 data\n",
    "num anchors 2955\n",
    "% anchors captured by P or E:  0.7922165820642978\n",
    "% anchors captured by P:  0.30524534686971233\n",
    "% anchors captured by E:  0.48697123519458546\n",
    "num loops 1553\n",
    "num P-P:  118\n",
    "num P-E:  459\n",
    "num E-E:  394\n",
    "num loops to focus on 971\n",
    "% P-P:  0.121524201853759\n",
    "% P-E:  0.4727085478887745\n",
    "% E-E:  0.4057672502574665\n",
    "```"
   ]
  },
  {
   "cell_type": "markdown",
   "metadata": {},
   "source": [
    "# 2. compare our GM loops/anchors to max's loops/anchors\n",
    "\n",
    "# 2A anchors"
   ]
  },
  {
   "cell_type": "code",
   "execution_count": 166,
   "metadata": {},
   "outputs": [],
   "source": [
    "tissue='GM12878'\n",
    "loop_file = '../data/interim/merged/loops/'+tissue+'.loops.csv'\n",
    "loop_df = pd.read_csv(loop_file, index_col=0)\n",
    "anchor_file = '../data/interim/merged/anchors/'+tissue+'.anchors.csv'\n",
    "anchor_df = pd.read_csv(anchor_file, index_col=0)\n",
    "anchor_df = anchor_df[['chr','start','end','anchors','sample']]#[:5]\n",
    "anchor_bed = pybedtools.BedTool.from_dataframe(anchor_df)\n",
    "\n",
    "# anchor_annon_file = os.path.join(anchor_annon_dir, tissue+'_annon.bed')\n",
    "# anchor_annon_df = pd.read_csv(anchor_annon_file, names=['chr', 'start', 'stop', 'name', 'atac_chr', 'atac_start', 'atac_stop'], sep='\\t')\n",
    "# anchor_to_count_dict = anchor_annon_df.groupby('name').name.count().to_dict()\n",
    "# anchors_acc = anchor_to_count_dict.keys()\n",
    "\n",
    "# print(anchor_df.shape)\n",
    "\n",
    "# promoter_anchor_file = os.path.join(promoter_annon_dir, 'promoter_'+'GM12878'+'_annon.bed')\n",
    "# promoter_anchor_df = pd.read_csv(promoter_anchor_file, names=['chr', 'start', 'stop', 'tss', 'anchor_chr', 'anchor_start', \n",
    "#                                                          'anchor_stop', 'anchor', 'overlap'], sep='\\t')\n",
    "# promoter_anchors = promoter_anchor_df.anchor.unique()\n",
    "# print(promoter_anchors.shape)"
   ]
  },
  {
   "cell_type": "code",
   "execution_count": 167,
   "metadata": {},
   "outputs": [
    {
     "name": "stdout",
     "output_type": "stream",
     "text": [
      "# anchors we have:  83619\n",
      "# anchors Max has:  10714\n",
      "# shared anchors:  8727\n",
      "# anchors Max had we didnt:  1987\n",
      "# anchors we had Max didnt:  73831\n",
      "# total union set of anchors:  35088\n"
     ]
    }
   ],
   "source": [
    "# union_anchors_df = pd.concat([gm_anchors_bed.to_dataframe(),anchor_bed.to_dataframe()])\n",
    "# union_anchors_df = union_anchors_df[['chrom','start','end']]\n",
    "shared_anchors = (gm_anchors_bed+anchor_bed)#.sort().merge()\n",
    "# union_bed = pybedtools.BedTool.from_dataframe(union_anchors_df).sort().merge()\n",
    "print('# anchors we have: ',anchor_bed.count()) \n",
    "print('# anchors Max has: ', gm_anchors_bed.count())\n",
    "print('# shared anchors: ', shared_anchors.count())\n",
    "print('# anchors Max had we didnt: ',(gm_anchors_bed-anchor_bed).count())#.merge().count())\n",
    "print('# anchors we had Max didnt: ',(anchor_bed-gm_anchors_bed).count())#.merge().count())\n",
    "print('# total union set of anchors: ', union_bed.count())\n"
   ]
  },
  {
   "cell_type": "code",
   "execution_count": 168,
   "metadata": {},
   "outputs": [
    {
     "data": {
      "text/plain": [
       "0.814541721112563"
      ]
     },
     "execution_count": 168,
     "metadata": {},
     "output_type": "execute_result"
    }
   ],
   "source": [
    "shared_anchors.count()/gm_anchors_bed.count()"
   ]
  },
  {
   "cell_type": "code",
   "execution_count": 169,
   "metadata": {},
   "outputs": [
    {
     "data": {
      "text/plain": [
       "7.804648123949972"
      ]
     },
     "execution_count": 169,
     "metadata": {},
     "output_type": "execute_result"
    }
   ],
   "source": [
    "anchor_bed.count()/gm_anchors_bed.count()"
   ]
  },
  {
   "cell_type": "markdown",
   "metadata": {},
   "source": [
    "we capture 81.5% of the anchors (sensitivitity) that Max predicted, we also have almost 8x as many anchor points"
   ]
  },
  {
   "cell_type": "markdown",
   "metadata": {},
   "source": [
    "# 2B loops"
   ]
  },
  {
   "cell_type": "code",
   "execution_count": 170,
   "metadata": {},
   "outputs": [],
   "source": [
    "def name_loop_row(row):\n",
    "    \n",
    "    if row.x_before_y:\n",
    "        return '::'.join([row.source,row.target])\n",
    "    else:\n",
    "        return '::'.join([row.target,row.source])\n"
   ]
  },
  {
   "cell_type": "code",
   "execution_count": 172,
   "metadata": {},
   "outputs": [],
   "source": [
    "gm_loops = gm_loops[gm_loops.chr_x ==gm_loops.chr_y]\n",
    "gm_loops['x_before_y'] = gm_loops.start_y > gm_loops.start_x\n",
    "gm_loops['loop_name'] = gm_loops.apply(name_loop_row,axis=1)\n",
    "\n",
    "loop_df[['chr_x','start_x','stop_x']] = loop_df.source.str.split('_',expand=True)\n",
    "loop_df[['chr_y','start_y','stop_y']] = loop_df.target.str.split('_',expand=True)\n",
    "loop_df = loop_df[loop_df.chr_x ==loop_df.chr_y]\n",
    "loop_df['x_before_y'] = loop_df.start_y.map(int) > loop_df.start_x.map(int)\n",
    "loop_df['loop_name'] = loop_df.apply(name_loop_row,axis=1)"
   ]
  },
  {
   "cell_type": "code",
   "execution_count": 173,
   "metadata": {},
   "outputs": [],
   "source": [
    "our_loops_set = set(loop_df.loop_name)\n",
    "max_loops_set = set(gm_loops.loop_name)\n"
   ]
  },
  {
   "cell_type": "code",
   "execution_count": 174,
   "metadata": {},
   "outputs": [
    {
     "name": "stdout",
     "output_type": "stream",
     "text": [
      "num our loops:  167347\n",
      "num max loops:  6396\n",
      "shared loops:  3003\n"
     ]
    }
   ],
   "source": [
    "print('num our loops: ', len(our_loops_set))\n",
    "print('num max loops: ', len(max_loops_set))\n",
    "print('shared loops: ', len(our_loops_set.intersection(max_loops_set)))"
   ]
  },
  {
   "cell_type": "code",
   "execution_count": 175,
   "metadata": {},
   "outputs": [
    {
     "data": {
      "text/plain": [
       "0.4695121951219512"
      ]
     },
     "execution_count": 175,
     "metadata": {},
     "output_type": "execute_result"
    }
   ],
   "source": [
    "len(our_loops_set.intersection(max_loops_set))/len(max_loops_set)"
   ]
  },
  {
   "cell_type": "code",
   "execution_count": 176,
   "metadata": {},
   "outputs": [
    {
     "data": {
      "text/plain": [
       "26.164321450906815"
      ]
     },
     "execution_count": 176,
     "metadata": {},
     "output_type": "execute_result"
    }
   ],
   "source": [
    "len(our_loops_set)/len(max_loops_set)"
   ]
  },
  {
   "cell_type": "markdown",
   "metadata": {},
   "source": [
    "we capture 47.0% of the loops (sensitivitity) that Max predicted, we also have 26x more loops"
   ]
  },
  {
   "cell_type": "code",
   "execution_count": null,
   "metadata": {},
   "outputs": [],
   "source": []
  }
 ],
 "metadata": {
  "kernelspec": {
   "display_name": "Python 3",
   "language": "python",
   "name": "python3"
  },
  "language_info": {
   "codemirror_mode": {
    "name": "ipython",
    "version": 3
   },
   "file_extension": ".py",
   "mimetype": "text/x-python",
   "name": "python",
   "nbconvert_exporter": "python",
   "pygments_lexer": "ipython3",
   "version": "3.7.4"
  }
 },
 "nbformat": 4,
 "nbformat_minor": 4
}
