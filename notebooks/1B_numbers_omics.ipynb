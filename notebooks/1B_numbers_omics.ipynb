{
 "cells": [
  {
   "cell_type": "markdown",
   "metadata": {},
   "source": [
    "# get number of expressed genes, atac peaks, and hichip loops and anchors\n",
    "\n",
    "6/30/2021"
   ]
  },
  {
   "cell_type": "code",
   "execution_count": 8,
   "metadata": {},
   "outputs": [],
   "source": [
    "import pandas as pd\n",
    "import os, glob\n",
    "import pybedtools"
   ]
  },
  {
   "cell_type": "code",
   "execution_count": 11,
   "metadata": {},
   "outputs": [],
   "source": [
    "loop_num = {}\n",
    "for file in glob.glob('../data/interim/merged/loops/*.csv'):\n",
    "    tissue = os.path.basename(file).split('.')[0]\n",
    "#     print(tissue, )\n",
    "    loop_num[tissue] = len(pd.read_csv(file))"
   ]
  },
  {
   "cell_type": "code",
   "execution_count": 17,
   "metadata": {},
   "outputs": [],
   "source": [
    "stats_df = pd.DataFrame(pd.Series(loop_num).sort_index(), columns=['num_loops'])\n"
   ]
  },
  {
   "cell_type": "code",
   "execution_count": 18,
   "metadata": {},
   "outputs": [],
   "source": [
    "stats_df['num_anchors'] = 0\n",
    "for file in glob.glob('../data/interim/merged/loops/*.csv'):\n",
    "    tissue = os.path.basename(file).split('.')[0]\n",
    "#     print(tissue, )\n",
    "    stats_df.at[tissue,'num_anchors'] = len(pd.read_csv(file))\n",
    "    \n"
   ]
  },
  {
   "cell_type": "code",
   "execution_count": 25,
   "metadata": {},
   "outputs": [],
   "source": [
    "stats_df['num_atac'] = 0\n",
    "for file in glob.glob('../data/interim/merged/atac/*bed'):\n",
    "    tissue = os.path.basename(file).split('_merge')[0]\n",
    "#     print(tissue)\n",
    "    stats_df.at[tissue, 'num_atac'] = len(pybedtools.BedTool(file))"
   ]
  },
  {
   "cell_type": "code",
   "execution_count": 33,
   "metadata": {},
   "outputs": [],
   "source": [
    "stats_df['num_expressed'] = 0\n",
    "rna_df = pd.read_csv('../data/interim/rna/tissue_tpm_sym.csv',index_col=0)\n",
    "for tissue in rna_df.columns:\n",
    "    stats_df.at[tissue, 'num_expressed'] = len(rna_df[tissue][rna_df[tissue]>1])"
   ]
  },
  {
   "cell_type": "code",
   "execution_count": 36,
   "metadata": {},
   "outputs": [],
   "source": [
    "stats_df.fillna(0).to_csv('../data/processed/fig1/stats_numbers.csv')"
   ]
  },
  {
   "cell_type": "code",
   "execution_count": null,
   "metadata": {},
   "outputs": [],
   "source": []
  }
 ],
 "metadata": {
  "kernelspec": {
   "display_name": "Python 3",
   "language": "python",
   "name": "python3"
  },
  "language_info": {
   "codemirror_mode": {
    "name": "ipython",
    "version": 3
   },
   "file_extension": ".py",
   "mimetype": "text/x-python",
   "name": "python",
   "nbconvert_exporter": "python",
   "pygments_lexer": "ipython3",
   "version": "3.7.4"
  }
 },
 "nbformat": 4,
 "nbformat_minor": 4
}
