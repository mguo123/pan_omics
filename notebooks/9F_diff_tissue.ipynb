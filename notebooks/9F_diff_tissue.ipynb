{
 "cells": [
  {
   "cell_type": "markdown",
   "metadata": {},
   "source": [
    "# 9F_diff_tissue\n",
    "\n",
    "6/17/21\n",
    "\n",
    "number of times the df in the correct tissue has the same config in other tissues"
   ]
  },
  {
   "cell_type": "code",
   "execution_count": 1,
   "metadata": {},
   "outputs": [],
   "source": [
    "import pandas as pd\n",
    "import os, glob\n",
    "import seaborn as sns; sns.set_style('whitegrid')\n",
    "import matplotlib.pyplot as plt"
   ]
  },
  {
   "cell_type": "code",
   "execution_count": 2,
   "metadata": {},
   "outputs": [
    {
     "name": "stdout",
     "output_type": "stream",
     "text": [
      "Index(['vocab_tissue', 'A431', 'COLO', 'Colon', 'GM', 'KCD6', 'MC', 'vocab',\n",
      "       'tissue'],\n",
      "      dtype='object')\n"
     ]
    },
    {
     "data": {
      "text/plain": [
       "array(['GDSD6', 'MM', 'SCC', 'Colon', 'GM12878', 'Melanocytes'],\n",
       "      dtype=object)"
      ]
     },
     "execution_count": 2,
     "metadata": {},
     "output_type": "execute_result"
    }
   ],
   "source": [
    "diff_df = pd.read_csv('../data/processed/mpra/results_df_diff_tissue.csv',index_col=0)\n",
    "print(diff_df.columns)\n",
    "diff_df.tissue.unique()"
   ]
  },
  {
   "cell_type": "code",
   "execution_count": 3,
   "metadata": {},
   "outputs": [
    {
     "data": {
      "text/html": [
       "<div>\n",
       "<style scoped>\n",
       "    .dataframe tbody tr th:only-of-type {\n",
       "        vertical-align: middle;\n",
       "    }\n",
       "\n",
       "    .dataframe tbody tr th {\n",
       "        vertical-align: top;\n",
       "    }\n",
       "\n",
       "    .dataframe thead th {\n",
       "        text-align: right;\n",
       "    }\n",
       "</style>\n",
       "<table border=\"1\" class=\"dataframe\">\n",
       "  <thead>\n",
       "    <tr style=\"text-align: right;\">\n",
       "      <th></th>\n",
       "      <th>vocab_tissue</th>\n",
       "      <th>SCC</th>\n",
       "      <th>MM</th>\n",
       "      <th>Colon</th>\n",
       "      <th>GM12878</th>\n",
       "      <th>GDSD6</th>\n",
       "      <th>Melanocytes</th>\n",
       "      <th>vocab</th>\n",
       "      <th>tissue</th>\n",
       "    </tr>\n",
       "  </thead>\n",
       "  <tbody>\n",
       "    <tr>\n",
       "      <td>0</td>\n",
       "      <td>ARID5B::KLF5+GDSD6</td>\n",
       "      <td>other</td>\n",
       "      <td>other</td>\n",
       "      <td>other</td>\n",
       "      <td>other</td>\n",
       "      <td>other</td>\n",
       "      <td>other</td>\n",
       "      <td>ARID5B::KLF5</td>\n",
       "      <td>GDSD6</td>\n",
       "    </tr>\n",
       "    <tr>\n",
       "      <td>1</td>\n",
       "      <td>ARID5B::LEF1+MM</td>\n",
       "      <td>AND</td>\n",
       "      <td>other</td>\n",
       "      <td>AND</td>\n",
       "      <td>AND</td>\n",
       "      <td>other</td>\n",
       "      <td>AND</td>\n",
       "      <td>ARID5B::LEF1</td>\n",
       "      <td>MM</td>\n",
       "    </tr>\n",
       "    <tr>\n",
       "      <td>2</td>\n",
       "      <td>ARID5B::NFE2L1+MM</td>\n",
       "      <td>other</td>\n",
       "      <td>other</td>\n",
       "      <td>other</td>\n",
       "      <td>other</td>\n",
       "      <td>other</td>\n",
       "      <td>other</td>\n",
       "      <td>ARID5B::NFE2L1</td>\n",
       "      <td>MM</td>\n",
       "    </tr>\n",
       "    <tr>\n",
       "      <td>3</td>\n",
       "      <td>ARID5B::SOX10+MM</td>\n",
       "      <td>OR</td>\n",
       "      <td>OR</td>\n",
       "      <td>OR</td>\n",
       "      <td>OR</td>\n",
       "      <td>OR</td>\n",
       "      <td>OR</td>\n",
       "      <td>ARID5B::SOX10</td>\n",
       "      <td>MM</td>\n",
       "    </tr>\n",
       "    <tr>\n",
       "      <td>4</td>\n",
       "      <td>ARID5B::STAT1+MM</td>\n",
       "      <td>other</td>\n",
       "      <td>other</td>\n",
       "      <td>other</td>\n",
       "      <td>other</td>\n",
       "      <td>other</td>\n",
       "      <td>other</td>\n",
       "      <td>ARID5B::STAT1</td>\n",
       "      <td>MM</td>\n",
       "    </tr>\n",
       "  </tbody>\n",
       "</table>\n",
       "</div>"
      ],
      "text/plain": [
       "         vocab_tissue    SCC     MM  Colon GM12878  GDSD6 Melanocytes  \\\n",
       "0  ARID5B::KLF5+GDSD6  other  other  other   other  other       other   \n",
       "1     ARID5B::LEF1+MM    AND  other    AND     AND  other         AND   \n",
       "2   ARID5B::NFE2L1+MM  other  other  other   other  other       other   \n",
       "3    ARID5B::SOX10+MM     OR     OR     OR      OR     OR          OR   \n",
       "4    ARID5B::STAT1+MM  other  other  other   other  other       other   \n",
       "\n",
       "            vocab tissue  \n",
       "0    ARID5B::KLF5  GDSD6  \n",
       "1    ARID5B::LEF1     MM  \n",
       "2  ARID5B::NFE2L1     MM  \n",
       "3   ARID5B::SOX10     MM  \n",
       "4   ARID5B::STAT1     MM  "
      ]
     },
     "execution_count": 3,
     "metadata": {},
     "output_type": "execute_result"
    }
   ],
   "source": [
    "diff_df.columns = ['vocab_tissue', 'SCC','MM','Colon','GM12878','GDSD6','Melanocytes','vocab','tissue']\n",
    "\n",
    "diff_df[:5]"
   ]
  },
  {
   "cell_type": "code",
   "execution_count": 4,
   "metadata": {},
   "outputs": [],
   "source": [
    "def count_overlap(row):\n",
    "#     print(row)\n",
    "    correct_class = row[row['tissue']]\n",
    "    class_arr = list(row[['GDSD6', 'MM', 'SCC', 'Colon', 'GM12878', 'Melanocytes']])\n",
    "    return class_arr.count(correct_class)\n",
    "\n",
    "    "
   ]
  },
  {
   "cell_type": "code",
   "execution_count": 12,
   "metadata": {},
   "outputs": [
    {
     "data": {
      "text/plain": [
       "Text(0.5, 0, 'number of tissues with shared configuration')"
      ]
     },
     "execution_count": 12,
     "metadata": {},
     "output_type": "execute_result"
    },
    {
     "data": {
      "image/png": "[encoded data removed]",
      "text/plain": [
       "<Figure size 432x288 with 1 Axes>"
      ]
     },
     "metadata": {
      "needs_background": "light"
     },
     "output_type": "display_data"
    }
   ],
   "source": [
    "diff_df['num_corr_classes'] = diff_df.apply(count_overlap,axis=1)\n",
    "\n",
    "# sns.histplot(diff_df['num_corr_classes'])\n",
    "ax = diff_df['num_corr_classes'].value_counts().sort_index().plot.bar()\n",
    "ax.set_ylabel('number of vocabs')\n",
    "ax.set_xlabel('number of tissues with shared configuration')"
   ]
  },
  {
   "cell_type": "code",
   "execution_count": 8,
   "metadata": {},
   "outputs": [
    {
     "name": "stdout",
     "output_type": "stream",
     "text": [
      "6    100\n",
      "4     38\n",
      "5     37\n",
      "2     27\n",
      "3     15\n",
      "1     15\n",
      "Name: num_corr_classes, dtype: int64\n"
     ]
    },
    {
     "data": {
      "text/plain": [
       "232"
      ]
     },
     "execution_count": 8,
     "metadata": {},
     "output_type": "execute_result"
    }
   ],
   "source": [
    "print(diff_df['num_corr_classes'].value_counts())\n",
    "diff_df['num_corr_classes'].shape[0]"
   ]
  },
  {
   "cell_type": "code",
   "execution_count": null,
   "metadata": {},
   "outputs": [],
   "source": []
  }
 ],
 "metadata": {
  "kernelspec": {
   "display_name": "Python 3",
   "language": "python",
   "name": "python3"
  },
  "language_info": {
   "codemirror_mode": {
    "name": "ipython",
    "version": 3
   },
   "file_extension": ".py",
   "mimetype": "text/x-python",
   "name": "python",
   "nbconvert_exporter": "python",
   "pygments_lexer": "ipython3",
   "version": "3.7.4"
  }
 },
 "nbformat": 4,
 "nbformat_minor": 4
}
